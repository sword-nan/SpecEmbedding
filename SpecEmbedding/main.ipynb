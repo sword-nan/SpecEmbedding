{
 "cells": [
  {
   "cell_type": "code",
   "execution_count": 1,
   "metadata": {},
   "outputs": [],
   "source": [
    "import sys\n",
    "sys.path.append(\"../\")\n",
    "from pathlib import Path\n",
    "\n",
    "import numpy as np\n",
    "import torch\n",
    "from torch.optim import AdamW\n",
    "from torch.utils.data import DataLoader\n",
    "\n",
    "from train import Trainer, set_seed\n",
    "from data import TrainDataset, Tokenizer, get_classified_tokenset\n",
    "from type import (\n",
    "    AugmentationConfig,\n",
    "    StorageConfig,\n",
    "    StepFuncConfig,\n",
    "    DescriptionConfig,\n",
    "    TokenizerConfig,\n",
    "    DataLoaderConfig,\n",
    "    SchedulerConfig,\n",
    "    TrainerConfig,\n",
    "    OptimizerConfig,\n",
    "    SupConLossConfig,\n",
    "    TanimotoLossConfig,\n",
    "    SupConLossWithTanimotoScoreConfig\n",
    ")\n",
    "from train_fn import step_train, step_evaluate\n",
    "from loss import SupConLossWithTanimotoScore, SupConLoss, TanimotoScoreLoss\n",
    "from model import SiameseModel\n",
    "from const import gnps"
   ]
  },
  {
   "cell_type": "code",
   "execution_count": 2,
   "metadata": {},
   "outputs": [
    {
     "name": "stdout",
     "output_type": "stream",
     "text": [
      "load data success\n"
     ]
    },
    {
     "name": "stderr",
     "output_type": "stream",
     "text": [
      "tokenization: 100%|██████████| 122979/122979 [00:13<00:00, 8817.17it/s]\n",
      "classify the dataset: 100%|██████████| 122979/122979 [00:15<00:00, 7955.91it/s]\n"
     ]
    },
    {
     "name": "stdout",
     "output_type": "stream",
     "text": [
      "finish the tokenize process\n"
     ]
    }
   ],
   "source": [
    "# load data\n",
    "train_spectra = np.load(gnps.ORBITRAP_TRAIN_REF, allow_pickle=True)\n",
    "unique_smiles = np.load(\n",
    "    gnps.DIR / gnps.UNIQUE_SMILES,\n",
    "    allow_pickle=True\n",
    ")\n",
    "print(\"load data success\")\n",
    "\n",
    "# tokenization\n",
    "tokenizer_config = TokenizerConfig(\n",
    "    max_len=100,\n",
    "    show_progress_bar=True\n",
    ")\n",
    "tokenizer = Tokenizer(**tokenizer_config)\n",
    "sequences = tokenizer.tokenize_sequence(train_spectra)\n",
    "data, labels = get_classified_tokenset(unique_smiles, sequences)\n",
    "np.save(\"./data.npy\", data)\n",
    "np.save(\"./labels.npy\", labels)\n",
    "print(\"finish the tokenize process\")"
   ]
  },
  {
   "cell_type": "code",
   "execution_count": 3,
   "metadata": {},
   "outputs": [],
   "source": [
    "data = np.load(\"./data.npy\", allow_pickle=True).item()\n",
    "labels = np.load(\"./labels.npy\", allow_pickle=True)"
   ]
  },
  {
   "cell_type": "code",
   "execution_count": 4,
   "metadata": {},
   "outputs": [],
   "source": [
    "seed = set_seed(42)\n",
    "\n",
    "is_augment = True\n",
    "\n",
    "augment_config = AugmentationConfig(\n",
    "    prob=0.5,\n",
    "    removal_max=0.2,\n",
    "    removal_intensity=0.3,\n",
    "    rate_intensity=0.15,\n",
    ")\n",
    "\n",
    "# dataset and dataloader\n",
    "dataloader_config = DataLoaderConfig(\n",
    "    batch_size=512,\n",
    "    val_ratio=0.2\n",
    ")\n",
    "\n",
    "length = len(labels)\n",
    "val_indices = np.random.choice(\n",
    "    np.arange(length), \n",
    "    int(dataloader_config[\"val_ratio\"] * length), \n",
    "    replace=False\n",
    ")\n",
    "val_keys = labels[val_indices]\n",
    "train_keys = np.delete(labels, val_indices)\n",
    "\n",
    "train_dataset = TrainDataset(\n",
    "    data=data,\n",
    "    keys=train_keys,\n",
    "    n_views=2,\n",
    "    is_augment=is_augment,\n",
    "    augment_config=augment_config\n",
    ")\n",
    "\n",
    "val_dataset = TrainDataset(\n",
    "    data=data,\n",
    "    keys=val_keys,\n",
    "    n_views=2\n",
    ")\n",
    "\n",
    "train_dataloader = DataLoader(\n",
    "    train_dataset,\n",
    "    batch_size=dataloader_config[\"batch_size\"],\n",
    "    shuffle=True\n",
    ")\n",
    "\n",
    "val_dataloader = DataLoader(\n",
    "    val_dataset,\n",
    "    batch_size=dataloader_config[\"batch_size\"],\n",
    "    shuffle=False\n",
    ")"
   ]
  },
  {
   "cell_type": "code",
   "execution_count": 5,
   "metadata": {},
   "outputs": [],
   "source": [
    "loss_type = \"SupConWithTanimotoLoss\"\n",
    "model_backbone = \"transformer\""
   ]
  },
  {
   "cell_type": "code",
   "execution_count": 6,
   "metadata": {},
   "outputs": [],
   "source": [
    "# model\n",
    "device = torch.device(\"cuda:0\" if torch.cuda.is_available() else \"cpu\")\n",
    "model = SiameseModel(\n",
    "    512,\n",
    "    16,\n",
    "    4,\n",
    "    512,\n",
    "    512,\n",
    "    feedward_activation=\"selu\",\n",
    ")\n",
    "model = model.to(device)\n",
    "\n",
    "# trainer\n",
    "trainer_config = TrainerConfig(\n",
    "    n_epoch=50,\n",
    "    device=device,\n",
    "    early_stop=20,\n",
    "    show_progress_bar=True\n",
    ")\n",
    "# scheduler\n",
    "n_step = trainer_config[\"n_epoch\"] * len(train_dataloader)\n",
    "scheduler_config = SchedulerConfig(\n",
    "    warmup_steps=int(n_step * 0.1),\n",
    "    total_steps=n_step\n",
    ")\n",
    "\n",
    "# loss\n",
    "reduction = \"mean\"\n",
    "tanimoto_score_path = \"/data1/xp/data/GNPS/tanimoto_score.npy\"\n",
    "if loss_type == \"SupConLoss\":\n",
    "    loss_config = SupConLossConfig(\n",
    "        device=device,\n",
    "        temperature=0.01,\n",
    "        base_temperature=0.5,\n",
    "        contrast_mode='all',\n",
    "        reduction=reduction\n",
    "    )\n",
    "    criterion = SupConLoss(**loss_config)\n",
    "elif loss_type == \"TanimotoLoss\":\n",
    "    loss_config = TanimotoLossConfig(\n",
    "        score_path=tanimoto_score_path,\n",
    "        device=device,\n",
    "        reduction=reduction\n",
    "    )\n",
    "    criterion = TanimotoScoreLoss(**loss_config)\n",
    "elif loss_type == \"SupConWithTanimotoLoss\":\n",
    "    loss_config = SupConLossWithTanimotoScoreConfig(\n",
    "        alpha=30,\n",
    "        score_path=tanimoto_score_path,\n",
    "        device=device,\n",
    "        temperature=0.05,\n",
    "        contrast_mode=\"all\",\n",
    "        base_temperature=0.05,\n",
    "        reduction=reduction\n",
    "    )\n",
    "    criterion = SupConLossWithTanimotoScore(**loss_config)\n",
    "\n",
    "# optimizer\n",
    "optimizer_config = OptimizerConfig(\n",
    "    lr=7.5e-5,\n",
    "    weight_decay=0.1\n",
    ")\n",
    "optimizer = AdamW(model.parameters(), **optimizer_config)\n",
    "\n",
    "# desc\n",
    "desc_config = DescriptionConfig(\n",
    "    train=\"train, epoch={}, loss={:.4f}\",\n",
    "    val=\"validation, epoch={}, loss={:.4f}, save the model\",\n",
    "    end=\"model train end, best model loss={:.4f}\"\n",
    ")\n",
    "# step func\n",
    "stepfunc_config = StepFuncConfig(\n",
    "    train=step_train,\n",
    "    val=step_evaluate\n",
    ")\n",
    "\n",
    "suffix = \"\"\n",
    "if is_augment:\n",
    "    suffix = \"-Augmentation\"\n",
    "\n",
    "# storage\n",
    "model_dir = Path(f\"./model/{model_backbone}-{loss_type}{suffix}\")\n",
    "\n",
    "model_dir.mkdir(parents=True, exist_ok=True)\n",
    "storage_config = StorageConfig(\n",
    "    model=model_dir / f\"model.ckpt\",\n",
    "    lr=model_dir / f\"lr.npy\",\n",
    "    step_loss=model_dir / f\"step_loss.npy\",\n",
    "    loss=model_dir / \"epoch_loss.npy\",\n",
    "    custom=model_dir / \"custom_metric.npy\"\n",
    ")"
   ]
  },
  {
   "cell_type": "code",
   "execution_count": 7,
   "metadata": {},
   "outputs": [
    {
     "name": "stderr",
     "output_type": "stream",
     "text": [
      "Train: Epoch [1/50]: 100%|██████████| 128/128 [00:52<00:00,  2.43it/s, loss=2.0047]\n"
     ]
    },
    {
     "name": "stdout",
     "output_type": "stream",
     "text": [
      "train, epoch=1, loss=3.9431\n"
     ]
    },
    {
     "name": "stderr",
     "output_type": "stream",
     "text": [
      "Validation: Epoch [1/50]: 100%|██████████| 32/32 [00:04<00:00,  6.53it/s, loss=3.3089]\n"
     ]
    },
    {
     "name": "stdout",
     "output_type": "stream",
     "text": [
      "validation, epoch=1, loss=3.3083, save the model\n"
     ]
    },
    {
     "name": "stderr",
     "output_type": "stream",
     "text": [
      "Train: Epoch [2/50]: 100%|██████████| 128/128 [00:52<00:00,  2.45it/s, loss=1.6038]\n"
     ]
    },
    {
     "name": "stdout",
     "output_type": "stream",
     "text": [
      "train, epoch=2, loss=2.1112\n"
     ]
    },
    {
     "name": "stderr",
     "output_type": "stream",
     "text": [
      "Validation: Epoch [2/50]: 100%|██████████| 32/32 [00:04<00:00,  6.59it/s, loss=2.6779]\n"
     ]
    },
    {
     "name": "stdout",
     "output_type": "stream",
     "text": [
      "validation, epoch=2, loss=2.6040, save the model\n"
     ]
    },
    {
     "name": "stderr",
     "output_type": "stream",
     "text": [
      "Train: Epoch [3/50]: 100%|██████████| 128/128 [00:52<00:00,  2.43it/s, loss=1.1348]\n"
     ]
    },
    {
     "name": "stdout",
     "output_type": "stream",
     "text": [
      "train, epoch=3, loss=1.5595\n"
     ]
    },
    {
     "name": "stderr",
     "output_type": "stream",
     "text": [
      "Validation: Epoch [3/50]: 100%|██████████| 32/32 [00:04<00:00,  6.60it/s, loss=1.7916]\n"
     ]
    },
    {
     "name": "stdout",
     "output_type": "stream",
     "text": [
      "validation, epoch=3, loss=1.8450, save the model\n"
     ]
    },
    {
     "name": "stderr",
     "output_type": "stream",
     "text": [
      "Train: Epoch [4/50]: 100%|██████████| 128/128 [00:51<00:00,  2.49it/s, loss=0.8593]\n"
     ]
    },
    {
     "name": "stdout",
     "output_type": "stream",
     "text": [
      "train, epoch=4, loss=1.1844\n"
     ]
    },
    {
     "name": "stderr",
     "output_type": "stream",
     "text": [
      "Validation: Epoch [4/50]: 100%|██████████| 32/32 [00:04<00:00,  6.58it/s, loss=1.3901]\n"
     ]
    },
    {
     "name": "stdout",
     "output_type": "stream",
     "text": [
      "validation, epoch=4, loss=1.3925, save the model\n"
     ]
    },
    {
     "name": "stderr",
     "output_type": "stream",
     "text": [
      "Train: Epoch [5/50]: 100%|██████████| 128/128 [00:52<00:00,  2.46it/s, loss=0.8236]\n"
     ]
    },
    {
     "name": "stdout",
     "output_type": "stream",
     "text": [
      "train, epoch=5, loss=0.9580\n"
     ]
    },
    {
     "name": "stderr",
     "output_type": "stream",
     "text": [
      "Validation: Epoch [5/50]: 100%|██████████| 32/32 [00:04<00:00,  6.52it/s, loss=1.1148]\n"
     ]
    },
    {
     "name": "stdout",
     "output_type": "stream",
     "text": [
      "validation, epoch=5, loss=1.1964, save the model\n"
     ]
    },
    {
     "name": "stderr",
     "output_type": "stream",
     "text": [
      "Train: Epoch [6/50]: 100%|██████████| 128/128 [00:51<00:00,  2.51it/s, loss=0.6154]\n"
     ]
    },
    {
     "name": "stdout",
     "output_type": "stream",
     "text": [
      "train, epoch=6, loss=0.8271\n"
     ]
    },
    {
     "name": "stderr",
     "output_type": "stream",
     "text": [
      "Validation: Epoch [6/50]: 100%|██████████| 32/32 [00:04<00:00,  6.96it/s, loss=1.0440]\n"
     ]
    },
    {
     "name": "stdout",
     "output_type": "stream",
     "text": [
      "validation, epoch=6, loss=1.0953, save the model\n"
     ]
    },
    {
     "name": "stderr",
     "output_type": "stream",
     "text": [
      "Train: Epoch [7/50]: 100%|██████████| 128/128 [00:52<00:00,  2.43it/s, loss=0.6617]\n"
     ]
    },
    {
     "name": "stdout",
     "output_type": "stream",
     "text": [
      "train, epoch=7, loss=0.7293\n"
     ]
    },
    {
     "name": "stderr",
     "output_type": "stream",
     "text": [
      "Validation: Epoch [7/50]: 100%|██████████| 32/32 [00:04<00:00,  6.81it/s, loss=0.9258]\n"
     ]
    },
    {
     "name": "stdout",
     "output_type": "stream",
     "text": [
      "validation, epoch=7, loss=0.9904, save the model\n"
     ]
    },
    {
     "name": "stderr",
     "output_type": "stream",
     "text": [
      "Train: Epoch [8/50]: 100%|██████████| 128/128 [00:52<00:00,  2.43it/s, loss=0.5674]\n"
     ]
    },
    {
     "name": "stdout",
     "output_type": "stream",
     "text": [
      "train, epoch=8, loss=0.6480\n"
     ]
    },
    {
     "name": "stderr",
     "output_type": "stream",
     "text": [
      "Validation: Epoch [8/50]: 100%|██████████| 32/32 [00:04<00:00,  6.54it/s, loss=0.8955]\n"
     ]
    },
    {
     "name": "stdout",
     "output_type": "stream",
     "text": [
      "validation, epoch=8, loss=0.9275, save the model\n"
     ]
    },
    {
     "name": "stderr",
     "output_type": "stream",
     "text": [
      "Train: Epoch [9/50]: 100%|██████████| 128/128 [00:53<00:00,  2.39it/s, loss=0.5170]\n"
     ]
    },
    {
     "name": "stdout",
     "output_type": "stream",
     "text": [
      "train, epoch=9, loss=0.5958\n"
     ]
    },
    {
     "name": "stderr",
     "output_type": "stream",
     "text": [
      "Validation: Epoch [9/50]: 100%|██████████| 32/32 [00:05<00:00,  6.14it/s, loss=0.9125]\n",
      "Train: Epoch [10/50]: 100%|██████████| 128/128 [00:51<00:00,  2.47it/s, loss=0.4157]\n"
     ]
    },
    {
     "name": "stdout",
     "output_type": "stream",
     "text": [
      "train, epoch=10, loss=0.5579\n"
     ]
    },
    {
     "name": "stderr",
     "output_type": "stream",
     "text": [
      "Validation: Epoch [10/50]: 100%|██████████| 32/32 [00:04<00:00,  6.54it/s, loss=0.9441]\n"
     ]
    },
    {
     "name": "stdout",
     "output_type": "stream",
     "text": [
      "validation, epoch=10, loss=0.8984, save the model\n"
     ]
    },
    {
     "name": "stderr",
     "output_type": "stream",
     "text": [
      "Train: Epoch [11/50]: 100%|██████████| 128/128 [00:52<00:00,  2.46it/s, loss=0.5002]\n"
     ]
    },
    {
     "name": "stdout",
     "output_type": "stream",
     "text": [
      "train, epoch=11, loss=0.5195\n"
     ]
    },
    {
     "name": "stderr",
     "output_type": "stream",
     "text": [
      "Validation: Epoch [11/50]: 100%|██████████| 32/32 [00:04<00:00,  6.49it/s, loss=0.8467]\n"
     ]
    },
    {
     "name": "stdout",
     "output_type": "stream",
     "text": [
      "validation, epoch=11, loss=0.8851, save the model\n"
     ]
    },
    {
     "name": "stderr",
     "output_type": "stream",
     "text": [
      "Train: Epoch [12/50]: 100%|██████████| 128/128 [00:52<00:00,  2.43it/s, loss=0.3941]\n"
     ]
    },
    {
     "name": "stdout",
     "output_type": "stream",
     "text": [
      "train, epoch=12, loss=0.4915\n"
     ]
    },
    {
     "name": "stderr",
     "output_type": "stream",
     "text": [
      "Validation: Epoch [12/50]: 100%|██████████| 32/32 [00:05<00:00,  6.34it/s, loss=0.8257]\n"
     ]
    },
    {
     "name": "stdout",
     "output_type": "stream",
     "text": [
      "validation, epoch=12, loss=0.8541, save the model\n"
     ]
    },
    {
     "name": "stderr",
     "output_type": "stream",
     "text": [
      "Train: Epoch [13/50]: 100%|██████████| 128/128 [00:52<00:00,  2.43it/s, loss=0.3726]\n"
     ]
    },
    {
     "name": "stdout",
     "output_type": "stream",
     "text": [
      "train, epoch=13, loss=0.4649\n"
     ]
    },
    {
     "name": "stderr",
     "output_type": "stream",
     "text": [
      "Validation: Epoch [13/50]: 100%|██████████| 32/32 [00:04<00:00,  6.78it/s, loss=0.8173]\n"
     ]
    },
    {
     "name": "stdout",
     "output_type": "stream",
     "text": [
      "validation, epoch=13, loss=0.8179, save the model\n"
     ]
    },
    {
     "name": "stderr",
     "output_type": "stream",
     "text": [
      "Train: Epoch [14/50]: 100%|██████████| 128/128 [00:51<00:00,  2.47it/s, loss=0.3739]\n"
     ]
    },
    {
     "name": "stdout",
     "output_type": "stream",
     "text": [
      "train, epoch=14, loss=0.4449\n"
     ]
    },
    {
     "name": "stderr",
     "output_type": "stream",
     "text": [
      "Validation: Epoch [14/50]: 100%|██████████| 32/32 [00:04<00:00,  6.61it/s, loss=0.7254]\n",
      "Train: Epoch [15/50]: 100%|██████████| 128/128 [00:52<00:00,  2.43it/s, loss=0.3727]\n"
     ]
    },
    {
     "name": "stdout",
     "output_type": "stream",
     "text": [
      "train, epoch=15, loss=0.4311\n"
     ]
    },
    {
     "name": "stderr",
     "output_type": "stream",
     "text": [
      "Validation: Epoch [15/50]: 100%|██████████| 32/32 [00:04<00:00,  7.01it/s, loss=0.8321]\n"
     ]
    },
    {
     "name": "stdout",
     "output_type": "stream",
     "text": [
      "validation, epoch=15, loss=0.8138, save the model\n"
     ]
    },
    {
     "name": "stderr",
     "output_type": "stream",
     "text": [
      "Train: Epoch [16/50]: 100%|██████████| 128/128 [00:52<00:00,  2.46it/s, loss=0.3629]\n"
     ]
    },
    {
     "name": "stdout",
     "output_type": "stream",
     "text": [
      "train, epoch=16, loss=0.4135\n"
     ]
    },
    {
     "name": "stderr",
     "output_type": "stream",
     "text": [
      "Validation: Epoch [16/50]: 100%|██████████| 32/32 [00:04<00:00,  6.50it/s, loss=0.8411]\n"
     ]
    },
    {
     "name": "stdout",
     "output_type": "stream",
     "text": [
      "validation, epoch=16, loss=0.7921, save the model\n"
     ]
    },
    {
     "name": "stderr",
     "output_type": "stream",
     "text": [
      "Train: Epoch [17/50]: 100%|██████████| 128/128 [00:52<00:00,  2.44it/s, loss=0.3021]\n"
     ]
    },
    {
     "name": "stdout",
     "output_type": "stream",
     "text": [
      "train, epoch=17, loss=0.3988\n"
     ]
    },
    {
     "name": "stderr",
     "output_type": "stream",
     "text": [
      "Validation: Epoch [17/50]: 100%|██████████| 32/32 [00:04<00:00,  6.51it/s, loss=0.7738]\n"
     ]
    },
    {
     "name": "stdout",
     "output_type": "stream",
     "text": [
      "validation, epoch=17, loss=0.7804, save the model\n"
     ]
    },
    {
     "name": "stderr",
     "output_type": "stream",
     "text": [
      "Train: Epoch [18/50]: 100%|██████████| 128/128 [00:52<00:00,  2.42it/s, loss=0.3144]\n"
     ]
    },
    {
     "name": "stdout",
     "output_type": "stream",
     "text": [
      "train, epoch=18, loss=0.3894\n"
     ]
    },
    {
     "name": "stderr",
     "output_type": "stream",
     "text": [
      "Validation: Epoch [18/50]: 100%|██████████| 32/32 [00:04<00:00,  6.60it/s, loss=0.8822]\n",
      "Train: Epoch [19/50]: 100%|██████████| 128/128 [00:52<00:00,  2.43it/s, loss=0.3048]\n"
     ]
    },
    {
     "name": "stdout",
     "output_type": "stream",
     "text": [
      "train, epoch=19, loss=0.3779\n"
     ]
    },
    {
     "name": "stderr",
     "output_type": "stream",
     "text": [
      "Validation: Epoch [19/50]: 100%|██████████| 32/32 [00:04<00:00,  6.48it/s, loss=0.7957]\n"
     ]
    },
    {
     "name": "stdout",
     "output_type": "stream",
     "text": [
      "validation, epoch=19, loss=0.7795, save the model\n"
     ]
    },
    {
     "name": "stderr",
     "output_type": "stream",
     "text": [
      "Train: Epoch [20/50]: 100%|██████████| 128/128 [00:52<00:00,  2.44it/s, loss=0.2815]\n"
     ]
    },
    {
     "name": "stdout",
     "output_type": "stream",
     "text": [
      "train, epoch=20, loss=0.3656\n"
     ]
    },
    {
     "name": "stderr",
     "output_type": "stream",
     "text": [
      "Validation: Epoch [20/50]: 100%|██████████| 32/32 [00:04<00:00,  6.52it/s, loss=0.8124]\n"
     ]
    },
    {
     "name": "stdout",
     "output_type": "stream",
     "text": [
      "validation, epoch=20, loss=0.7755, save the model\n"
     ]
    },
    {
     "name": "stderr",
     "output_type": "stream",
     "text": [
      "Train: Epoch [21/50]: 100%|██████████| 128/128 [00:52<00:00,  2.45it/s, loss=0.3112]\n"
     ]
    },
    {
     "name": "stdout",
     "output_type": "stream",
     "text": [
      "train, epoch=21, loss=0.3556\n"
     ]
    },
    {
     "name": "stderr",
     "output_type": "stream",
     "text": [
      "Validation: Epoch [21/50]: 100%|██████████| 32/32 [00:05<00:00,  6.20it/s, loss=0.8215]\n"
     ]
    },
    {
     "name": "stdout",
     "output_type": "stream",
     "text": [
      "validation, epoch=21, loss=0.7707, save the model\n"
     ]
    },
    {
     "name": "stderr",
     "output_type": "stream",
     "text": [
      "Train: Epoch [22/50]: 100%|██████████| 128/128 [00:52<00:00,  2.43it/s, loss=0.3321]\n"
     ]
    },
    {
     "name": "stdout",
     "output_type": "stream",
     "text": [
      "train, epoch=22, loss=0.3524\n"
     ]
    },
    {
     "name": "stderr",
     "output_type": "stream",
     "text": [
      "Validation: Epoch [22/50]: 100%|██████████| 32/32 [00:04<00:00,  6.51it/s, loss=0.7685]\n"
     ]
    },
    {
     "name": "stdout",
     "output_type": "stream",
     "text": [
      "validation, epoch=22, loss=0.7483, save the model\n"
     ]
    },
    {
     "name": "stderr",
     "output_type": "stream",
     "text": [
      "Train: Epoch [23/50]: 100%|██████████| 128/128 [00:51<00:00,  2.50it/s, loss=0.2772]\n"
     ]
    },
    {
     "name": "stdout",
     "output_type": "stream",
     "text": [
      "train, epoch=23, loss=0.3447\n"
     ]
    },
    {
     "name": "stderr",
     "output_type": "stream",
     "text": [
      "Validation: Epoch [23/50]: 100%|██████████| 32/32 [00:04<00:00,  6.55it/s, loss=0.7306]\n",
      "Train: Epoch [24/50]: 100%|██████████| 128/128 [00:52<00:00,  2.42it/s, loss=0.2516]\n"
     ]
    },
    {
     "name": "stdout",
     "output_type": "stream",
     "text": [
      "train, epoch=24, loss=0.3401\n"
     ]
    },
    {
     "name": "stderr",
     "output_type": "stream",
     "text": [
      "Validation: Epoch [24/50]: 100%|██████████| 32/32 [00:04<00:00,  6.49it/s, loss=0.7228]\n",
      "Train: Epoch [25/50]: 100%|██████████| 128/128 [00:52<00:00,  2.46it/s, loss=0.2838]\n"
     ]
    },
    {
     "name": "stdout",
     "output_type": "stream",
     "text": [
      "train, epoch=25, loss=0.3310\n"
     ]
    },
    {
     "name": "stderr",
     "output_type": "stream",
     "text": [
      "Validation: Epoch [25/50]: 100%|██████████| 32/32 [00:04<00:00,  6.69it/s, loss=0.6951]\n"
     ]
    },
    {
     "name": "stdout",
     "output_type": "stream",
     "text": [
      "validation, epoch=25, loss=0.7480, save the model\n"
     ]
    },
    {
     "name": "stderr",
     "output_type": "stream",
     "text": [
      "Train: Epoch [26/50]: 100%|██████████| 128/128 [00:51<00:00,  2.47it/s, loss=0.2810]\n"
     ]
    },
    {
     "name": "stdout",
     "output_type": "stream",
     "text": [
      "train, epoch=26, loss=0.3279\n"
     ]
    },
    {
     "name": "stderr",
     "output_type": "stream",
     "text": [
      "Validation: Epoch [26/50]: 100%|██████████| 32/32 [00:05<00:00,  6.07it/s, loss=0.7204]\n",
      "Train: Epoch [27/50]: 100%|██████████| 128/128 [00:52<00:00,  2.43it/s, loss=0.2881]\n"
     ]
    },
    {
     "name": "stdout",
     "output_type": "stream",
     "text": [
      "train, epoch=27, loss=0.3215\n"
     ]
    },
    {
     "name": "stderr",
     "output_type": "stream",
     "text": [
      "Validation: Epoch [27/50]: 100%|██████████| 32/32 [00:04<00:00,  6.43it/s, loss=0.7312]\n",
      "Train: Epoch [28/50]: 100%|██████████| 128/128 [00:51<00:00,  2.50it/s, loss=0.2913]\n"
     ]
    },
    {
     "name": "stdout",
     "output_type": "stream",
     "text": [
      "train, epoch=28, loss=0.3185\n"
     ]
    },
    {
     "name": "stderr",
     "output_type": "stream",
     "text": [
      "Validation: Epoch [28/50]: 100%|██████████| 32/32 [00:04<00:00,  6.52it/s, loss=0.7727]\n",
      "Train: Epoch [29/50]: 100%|██████████| 128/128 [00:52<00:00,  2.45it/s, loss=0.2640]\n"
     ]
    },
    {
     "name": "stdout",
     "output_type": "stream",
     "text": [
      "train, epoch=29, loss=0.3165\n"
     ]
    },
    {
     "name": "stderr",
     "output_type": "stream",
     "text": [
      "Validation: Epoch [29/50]: 100%|██████████| 32/32 [00:04<00:00,  6.50it/s, loss=0.7296]\n",
      "Train: Epoch [30/50]: 100%|██████████| 128/128 [00:52<00:00,  2.43it/s, loss=0.3067]\n"
     ]
    },
    {
     "name": "stdout",
     "output_type": "stream",
     "text": [
      "train, epoch=30, loss=0.3109\n"
     ]
    },
    {
     "name": "stderr",
     "output_type": "stream",
     "text": [
      "Validation: Epoch [30/50]: 100%|██████████| 32/32 [00:05<00:00,  5.66it/s, loss=0.7598]\n",
      "Train: Epoch [31/50]: 100%|██████████| 128/128 [00:51<00:00,  2.47it/s, loss=0.2439]\n"
     ]
    },
    {
     "name": "stdout",
     "output_type": "stream",
     "text": [
      "train, epoch=31, loss=0.3103\n"
     ]
    },
    {
     "name": "stderr",
     "output_type": "stream",
     "text": [
      "Validation: Epoch [31/50]: 100%|██████████| 32/32 [00:04<00:00,  6.71it/s, loss=0.7170]\n"
     ]
    },
    {
     "name": "stdout",
     "output_type": "stream",
     "text": [
      "validation, epoch=31, loss=0.7315, save the model\n"
     ]
    },
    {
     "name": "stderr",
     "output_type": "stream",
     "text": [
      "Train: Epoch [32/50]: 100%|██████████| 128/128 [00:52<00:00,  2.46it/s, loss=0.2529]\n"
     ]
    },
    {
     "name": "stdout",
     "output_type": "stream",
     "text": [
      "train, epoch=32, loss=0.3045\n"
     ]
    },
    {
     "name": "stderr",
     "output_type": "stream",
     "text": [
      "Validation: Epoch [32/50]: 100%|██████████| 32/32 [00:04<00:00,  6.51it/s, loss=0.6882]\n",
      "Train: Epoch [33/50]: 100%|██████████| 128/128 [00:50<00:00,  2.53it/s, loss=0.2181]\n"
     ]
    },
    {
     "name": "stdout",
     "output_type": "stream",
     "text": [
      "train, epoch=33, loss=0.3017\n"
     ]
    },
    {
     "name": "stderr",
     "output_type": "stream",
     "text": [
      "Validation: Epoch [33/50]: 100%|██████████| 32/32 [00:04<00:00,  6.94it/s, loss=0.6981]\n",
      "Train: Epoch [34/50]: 100%|██████████| 128/128 [00:51<00:00,  2.47it/s, loss=0.2562]\n"
     ]
    },
    {
     "name": "stdout",
     "output_type": "stream",
     "text": [
      "train, epoch=34, loss=0.3009\n"
     ]
    },
    {
     "name": "stderr",
     "output_type": "stream",
     "text": [
      "Validation: Epoch [34/50]: 100%|██████████| 32/32 [00:04<00:00,  6.66it/s, loss=0.6619]\n"
     ]
    },
    {
     "name": "stdout",
     "output_type": "stream",
     "text": [
      "validation, epoch=34, loss=0.7250, save the model\n"
     ]
    },
    {
     "name": "stderr",
     "output_type": "stream",
     "text": [
      "Train: Epoch [35/50]: 100%|██████████| 128/128 [00:52<00:00,  2.42it/s, loss=0.2187]\n"
     ]
    },
    {
     "name": "stdout",
     "output_type": "stream",
     "text": [
      "train, epoch=35, loss=0.2960\n"
     ]
    },
    {
     "name": "stderr",
     "output_type": "stream",
     "text": [
      "Validation: Epoch [35/50]: 100%|██████████| 32/32 [00:04<00:00,  6.42it/s, loss=0.8130]\n",
      "Train: Epoch [36/50]: 100%|██████████| 128/128 [00:52<00:00,  2.43it/s, loss=0.2689]\n"
     ]
    },
    {
     "name": "stdout",
     "output_type": "stream",
     "text": [
      "train, epoch=36, loss=0.2932\n"
     ]
    },
    {
     "name": "stderr",
     "output_type": "stream",
     "text": [
      "Validation: Epoch [36/50]: 100%|██████████| 32/32 [00:04<00:00,  6.42it/s, loss=0.7255]\n",
      "Train: Epoch [37/50]: 100%|██████████| 128/128 [00:52<00:00,  2.44it/s, loss=0.2451]\n"
     ]
    },
    {
     "name": "stdout",
     "output_type": "stream",
     "text": [
      "train, epoch=37, loss=0.2927\n"
     ]
    },
    {
     "name": "stderr",
     "output_type": "stream",
     "text": [
      "Validation: Epoch [37/50]: 100%|██████████| 32/32 [00:04<00:00,  6.47it/s, loss=0.7574]\n",
      "Train: Epoch [38/50]: 100%|██████████| 128/128 [00:49<00:00,  2.59it/s, loss=0.2717]\n"
     ]
    },
    {
     "name": "stdout",
     "output_type": "stream",
     "text": [
      "train, epoch=38, loss=0.2931\n"
     ]
    },
    {
     "name": "stderr",
     "output_type": "stream",
     "text": [
      "Validation: Epoch [38/50]: 100%|██████████| 32/32 [00:04<00:00,  6.61it/s, loss=0.7940]\n",
      "Train: Epoch [39/50]: 100%|██████████| 128/128 [00:51<00:00,  2.49it/s, loss=0.2042]\n"
     ]
    },
    {
     "name": "stdout",
     "output_type": "stream",
     "text": [
      "train, epoch=39, loss=0.2914\n"
     ]
    },
    {
     "name": "stderr",
     "output_type": "stream",
     "text": [
      "Validation: Epoch [39/50]: 100%|██████████| 32/32 [00:04<00:00,  6.71it/s, loss=0.7637]\n",
      "Train: Epoch [40/50]: 100%|██████████| 128/128 [00:52<00:00,  2.44it/s, loss=0.2483]\n"
     ]
    },
    {
     "name": "stdout",
     "output_type": "stream",
     "text": [
      "train, epoch=40, loss=0.2900\n"
     ]
    },
    {
     "name": "stderr",
     "output_type": "stream",
     "text": [
      "Validation: Epoch [40/50]: 100%|██████████| 32/32 [00:04<00:00,  6.56it/s, loss=0.6799]\n",
      "Train: Epoch [41/50]: 100%|██████████| 128/128 [00:52<00:00,  2.45it/s, loss=0.2566]\n"
     ]
    },
    {
     "name": "stdout",
     "output_type": "stream",
     "text": [
      "train, epoch=41, loss=0.2881\n"
     ]
    },
    {
     "name": "stderr",
     "output_type": "stream",
     "text": [
      "Validation: Epoch [41/50]: 100%|██████████| 32/32 [00:04<00:00,  6.62it/s, loss=0.8054]\n",
      "Train: Epoch [42/50]: 100%|██████████| 128/128 [00:53<00:00,  2.41it/s, loss=0.2027]\n"
     ]
    },
    {
     "name": "stdout",
     "output_type": "stream",
     "text": [
      "train, epoch=42, loss=0.2878\n"
     ]
    },
    {
     "name": "stderr",
     "output_type": "stream",
     "text": [
      "Validation: Epoch [42/50]: 100%|██████████| 32/32 [00:04<00:00,  6.60it/s, loss=0.7246]\n",
      "Train: Epoch [43/50]: 100%|██████████| 128/128 [00:52<00:00,  2.45it/s, loss=0.2358]\n"
     ]
    },
    {
     "name": "stdout",
     "output_type": "stream",
     "text": [
      "train, epoch=43, loss=0.2846\n"
     ]
    },
    {
     "name": "stderr",
     "output_type": "stream",
     "text": [
      "Validation: Epoch [43/50]: 100%|██████████| 32/32 [00:04<00:00,  6.51it/s, loss=0.7164]\n",
      "Train: Epoch [44/50]: 100%|██████████| 128/128 [00:52<00:00,  2.46it/s, loss=0.2252]\n"
     ]
    },
    {
     "name": "stdout",
     "output_type": "stream",
     "text": [
      "train, epoch=44, loss=0.2846\n"
     ]
    },
    {
     "name": "stderr",
     "output_type": "stream",
     "text": [
      "Validation: Epoch [44/50]: 100%|██████████| 32/32 [00:04<00:00,  6.66it/s, loss=0.7628]\n",
      "Train: Epoch [45/50]: 100%|██████████| 128/128 [00:52<00:00,  2.43it/s, loss=0.2208]\n"
     ]
    },
    {
     "name": "stdout",
     "output_type": "stream",
     "text": [
      "train, epoch=45, loss=0.2898\n"
     ]
    },
    {
     "name": "stderr",
     "output_type": "stream",
     "text": [
      "Validation: Epoch [45/50]: 100%|██████████| 32/32 [00:04<00:00,  6.53it/s, loss=0.7033]\n",
      "Train: Epoch [46/50]: 100%|██████████| 128/128 [00:52<00:00,  2.43it/s, loss=0.2514]\n"
     ]
    },
    {
     "name": "stdout",
     "output_type": "stream",
     "text": [
      "train, epoch=46, loss=0.2796\n"
     ]
    },
    {
     "name": "stderr",
     "output_type": "stream",
     "text": [
      "Validation: Epoch [46/50]: 100%|██████████| 32/32 [00:05<00:00,  6.35it/s, loss=0.7906]\n",
      "Train: Epoch [47/50]: 100%|██████████| 128/128 [00:52<00:00,  2.43it/s, loss=0.2525]\n"
     ]
    },
    {
     "name": "stdout",
     "output_type": "stream",
     "text": [
      "train, epoch=47, loss=0.2829\n"
     ]
    },
    {
     "name": "stderr",
     "output_type": "stream",
     "text": [
      "Validation: Epoch [47/50]: 100%|██████████| 32/32 [00:04<00:00,  6.47it/s, loss=0.7186]\n",
      "Train: Epoch [48/50]: 100%|██████████| 128/128 [00:52<00:00,  2.44it/s, loss=0.2412]\n"
     ]
    },
    {
     "name": "stdout",
     "output_type": "stream",
     "text": [
      "train, epoch=48, loss=0.2861\n"
     ]
    },
    {
     "name": "stderr",
     "output_type": "stream",
     "text": [
      "Validation: Epoch [48/50]: 100%|██████████| 32/32 [00:04<00:00,  6.47it/s, loss=0.7418]\n",
      "Train: Epoch [49/50]: 100%|██████████| 128/128 [00:52<00:00,  2.46it/s, loss=0.2361]\n"
     ]
    },
    {
     "name": "stdout",
     "output_type": "stream",
     "text": [
      "train, epoch=49, loss=0.2843\n"
     ]
    },
    {
     "name": "stderr",
     "output_type": "stream",
     "text": [
      "Validation: Epoch [49/50]: 100%|██████████| 32/32 [00:04<00:00,  6.59it/s, loss=0.7061]\n",
      "Train: Epoch [50/50]: 100%|██████████| 128/128 [00:52<00:00,  2.45it/s, loss=0.2076]\n"
     ]
    },
    {
     "name": "stdout",
     "output_type": "stream",
     "text": [
      "train, epoch=50, loss=0.2819\n"
     ]
    },
    {
     "name": "stderr",
     "output_type": "stream",
     "text": [
      "Validation: Epoch [50/50]: 100%|██████████| 32/32 [00:04<00:00,  6.55it/s, loss=0.6959]"
     ]
    },
    {
     "name": "stdout",
     "output_type": "stream",
     "text": [
      "best model saved in epoch 33\n",
      "model train end, best model loss=0.7250\n",
      "store train metrics\n"
     ]
    },
    {
     "name": "stderr",
     "output_type": "stream",
     "text": [
      "\n"
     ]
    }
   ],
   "source": [
    "# model train\n",
    "torch.cuda.empty_cache()\n",
    "trainer = Trainer(\n",
    "    model,\n",
    "    reduction,\n",
    "    train_dataloader,\n",
    "    val_dataloader,\n",
    "    optimizer,\n",
    "    criterion,\n",
    "    device,\n",
    "    stepfunc_config,\n",
    "    desc_config,\n",
    "    storage_config,\n",
    "    trainer_config,\n",
    "    scheduler_config\n",
    ")\n",
    "\n",
    "trainer.train()"
   ]
  },
  {
   "cell_type": "code",
   "execution_count": 10,
   "metadata": {},
   "outputs": [
    {
     "data": {
      "text/plain": [
       "<Axes: >"
      ]
     },
     "execution_count": 10,
     "metadata": {},
     "output_type": "execute_result"
    },
    {
     "data": {
      "image/png": "[encoded data removed]",
      "text/plain": [
       "<Figure size 640x480 with 1 Axes>"
      ]
     },
     "metadata": {},
     "output_type": "display_data"
    }
   ],
   "source": [
    "import seaborn as sns\n",
    "import numpy as np\n",
    "\n",
    "loss = np.load(model_dir / \"epoch_loss.npy\", allow_pickle=True).item()\n",
    "sns.lineplot(loss)"
   ]
  },
  {
   "cell_type": "code",
   "execution_count": 11,
   "metadata": {},
   "outputs": [
    {
     "data": {
      "text/plain": [
       "<Axes: >"
      ]
     },
     "execution_count": 11,
     "metadata": {},
     "output_type": "execute_result"
    },
    {
     "data": {
      "image/png": "[encoded data removed]",
      "text/plain": [
       "<Figure size 640x480 with 1 Axes>"
      ]
     },
     "metadata": {},
     "output_type": "display_data"
    }
   ],
   "source": [
    "import seaborn as sns\n",
    "import numpy as np\n",
    "\n",
    "loss = np.load(model_dir / \"step_loss.npy\", allow_pickle=True)\n",
    "sns.lineplot(loss)"
   ]
  }
 ],
 "metadata": {
  "kernelspec": {
   "display_name": "py312",
   "language": "python",
   "name": "python3"
  },
  "language_info": {
   "codemirror_mode": {
    "name": "ipython",
    "version": 3
   },
   "file_extension": ".py",
   "mimetype": "text/x-python",
   "name": "python",
   "nbconvert_exporter": "python",
   "pygments_lexer": "ipython3",
   "version": "3.12.9"
  }
 },
 "nbformat": 4,
 "nbformat_minor": 2
}
