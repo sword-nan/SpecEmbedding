{
 "cells": [
  {
   "cell_type": "code",
   "execution_count": 1,
   "id": "46295be2",
   "metadata": {},
   "outputs": [],
   "source": [
    "import sys\n",
    "sys.path.append(\"../\")\n",
    "from pathlib import Path\n",
    "\n",
    "import torch\n",
    "import numpy as np\n",
    "from sklearn.metrics import roc_curve, auc\n",
    "\n",
    "from const import gnps\n",
    "from train import ModelTester\n",
    "from data import Tokenizer\n",
    "from utils import embedding, load_transformer_model, cosine_similarity\n",
    "\n",
    "ROC_DIR = Path(\"/data1/xp/code/specEmbedding/ROC\")\n",
    "ROC_DIR.mkdir(exist_ok=True, parents=True)"
   ]
  },
  {
   "cell_type": "code",
   "execution_count": 2,
   "id": "6daf7bff",
   "metadata": {},
   "outputs": [],
   "source": [
    "spectra_paths = {\n",
    "    \"gnps\":{\n",
    "        \"orbitrap\": {\n",
    "            \"train\": (gnps.ORBITRAP_TRAIN_QUERY, gnps.ORBITRAP_TEST_REF),\n",
    "            \"test\": (gnps.ORBITRAP_TEST_QUERY, gnps.ORBITRAP_TEST_REF)\n",
    "        },\n",
    "        \"qtof\": {\n",
    "            \"test\": (gnps.QTOF_TEST_QUERY, gnps.QTOF_TEST_REF)\n",
    "        },\n",
    "        \"other\": {\n",
    "            \"test\": (gnps.OTHER_TEST_QUERY, gnps.OTHER_TEST_REF)\n",
    "        }\n",
    "    }\n",
    "}\n",
    "gnps_train_ref = np.load(gnps.ORBITRAP_TRAIN_REF, allow_pickle=True)"
   ]
  },
  {
   "cell_type": "code",
   "execution_count": 3,
   "id": "3c1144a2",
   "metadata": {},
   "outputs": [],
   "source": [
    "show_progress_bar = True\n",
    "is_augment = True\n",
    "model_backbone = \"transformer\"\n",
    "loss_type = \"SupConWithTanimotoLoss\"\n",
    "replica_suffix = \"-replication-{}\"\n",
    "k_metric = [5, 1, 10]\n",
    "batch_size = None\n",
    "loader_batch_size = 512\n",
    "device = torch.device(\"cuda:1\" if torch.cuda.is_available() else \"cpu\")\n",
    "tokenizer = Tokenizer(100, show_progress_bar)\n",
    "model = load_transformer_model(device, loss_type, is_augment)\n",
    "\n",
    "tester = ModelTester(model, device, show_progress_bar)"
   ]
  },
  {
   "cell_type": "code",
   "execution_count": 4,
   "id": "e081f9b2",
   "metadata": {},
   "outputs": [
    {
     "name": "stdout",
     "output_type": "stream",
     "text": [
      "---------------------------------------- gnps-orbitrap-train ----------------------------------------\n"
     ]
    },
    {
     "name": "stderr",
     "output_type": "stream",
     "text": [
      "tokenization: 100%|██████████| 6851/6851 [00:00<00:00, 7751.78it/s]\n",
      "get smiles: 100%|██████████| 6851/6851 [00:00<00:00, 3047531.73it/s]\n",
      "embedding: 100%|██████████| 14/14 [00:01<00:00, 12.51it/s]\n",
      "tokenization: 100%|██████████| 155415/155415 [00:16<00:00, 9186.04it/s]\n",
      "get smiles: 100%|██████████| 155415/155415 [00:00<00:00, 1906284.38it/s]\n",
      "embedding: 100%|██████████| 304/304 [00:13<00:00, 21.82it/s]\n"
     ]
    },
    {
     "name": "stdout",
     "output_type": "stream",
     "text": [
      "0.9976587574353124\n",
      "---------------------------------------- gnps-orbitrap-test ----------------------------------------\n"
     ]
    },
    {
     "name": "stderr",
     "output_type": "stream",
     "text": [
      "tokenization: 100%|██████████| 1686/1686 [00:00<00:00, 8735.52it/s]\n",
      "get smiles: 100%|██████████| 1686/1686 [00:00<00:00, 3952820.87it/s]\n",
      "embedding: 100%|██████████| 4/4 [00:00<00:00, 30.33it/s]\n",
      "tokenization: 100%|██████████| 155415/155415 [00:16<00:00, 9689.21it/s] \n",
      "get smiles: 100%|██████████| 155415/155415 [00:00<00:00, 3112280.22it/s]\n",
      "embedding: 100%|██████████| 304/304 [00:12<00:00, 24.77it/s]\n"
     ]
    },
    {
     "name": "stdout",
     "output_type": "stream",
     "text": [
      "0.9955562276460298\n",
      "---------------------------------------- gnps-qtof-test ----------------------------------------\n"
     ]
    },
    {
     "name": "stderr",
     "output_type": "stream",
     "text": [
      "tokenization: 100%|██████████| 7520/7520 [00:01<00:00, 6441.19it/s]\n",
      "get smiles: 100%|██████████| 7520/7520 [00:00<00:00, 3395173.96it/s]\n",
      "embedding: 100%|██████████| 15/15 [00:00<00:00, 25.50it/s]\n",
      "tokenization: 100%|██████████| 37040/37040 [00:05<00:00, 6637.72it/s]\n",
      "get smiles: 100%|██████████| 37040/37040 [00:00<00:00, 2323199.85it/s]\n",
      "embedding: 100%|██████████| 73/73 [00:02<00:00, 25.06it/s]\n"
     ]
    },
    {
     "name": "stdout",
     "output_type": "stream",
     "text": [
      "0.9730223671969256\n",
      "---------------------------------------- gnps-other-test ----------------------------------------\n"
     ]
    },
    {
     "name": "stderr",
     "output_type": "stream",
     "text": [
      "tokenization: 100%|██████████| 6451/6451 [00:00<00:00, 7609.37it/s]\n",
      "get smiles: 100%|██████████| 6451/6451 [00:00<00:00, 2856572.54it/s]\n",
      "embedding: 100%|██████████| 13/13 [00:00<00:00, 25.78it/s]\n",
      "tokenization: 100%|██████████| 44241/44241 [00:06<00:00, 7240.36it/s]\n",
      "get smiles: 100%|██████████| 44241/44241 [00:00<00:00, 2614113.09it/s]\n",
      "embedding: 100%|██████████| 87/87 [00:03<00:00, 25.09it/s]\n"
     ]
    },
    {
     "name": "stdout",
     "output_type": "stream",
     "text": [
      "0.9562787950883166\n"
     ]
    }
   ],
   "source": [
    "for db, db_metadata in spectra_paths.items():\n",
    "    for desc, path_metadata in db_metadata.items():\n",
    "        for info, paths in path_metadata.items():\n",
    "            print(\"-\" * 40, f\"{db}-{desc}-{info}\", \"-\" * 40)\n",
    "            query_path, ref_path = paths\n",
    "            ref_spectra = np.load(ref_path, allow_pickle=True)\n",
    "            query_spectra = np.load(query_path, allow_pickle=True)\n",
    "            if db == \"gnps\" and desc == \"orbitrap\":\n",
    "                ref_spectra = np.hstack((gnps_train_ref, ref_spectra))\n",
    "            \n",
    "            query_embedding, query_smiles = embedding(tester, tokenizer, 512, query_spectra, show_progress_bar)\n",
    "            ref_embedding, ref_smiles = embedding(tester, tokenizer, 512, ref_spectra, show_progress_bar)\n",
    "            cosine_score = cosine_similarity(query_embedding, ref_embedding)\n",
    "            mask = np.equal(query_smiles.reshape(-1, 1), ref_smiles.reshape(-1, 1).T)\n",
    "            dir_ = ROC_DIR / f\"{db}-{desc}-{info}\"\n",
    "            dir_.mkdir(parents=True, exist_ok=True)\n",
    "            indices = np.load(dir_ / \"random_indices.npy\", allow_pickle=True).item()\n",
    "            random_rows = indices[\"row\"]\n",
    "            random_cols = indices[\"col\"]\n",
    "            fpr, tpr, _ = roc_curve(mask[random_rows, random_cols], cosine_score[random_rows, random_cols])\n",
    "            print(auc(fpr, tpr))\n",
    "            np.save(dir_ / \"SpecEmbedding.npy\", {\"fpr\": fpr, \"tpr\": tpr})"
   ]
  }
 ],
 "metadata": {
  "kernelspec": {
   "display_name": "py312",
   "language": "python",
   "name": "python3"
  },
  "language_info": {
   "codemirror_mode": {
    "name": "ipython",
    "version": 3
   },
   "file_extension": ".py",
   "mimetype": "text/x-python",
   "name": "python",
   "nbconvert_exporter": "python",
   "pygments_lexer": "ipython3",
   "version": "3.12.9"
  }
 },
 "nbformat": 4,
 "nbformat_minor": 5
}
