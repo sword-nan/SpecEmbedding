{
 "cells": [
  {
   "cell_type": "markdown",
   "metadata": {},
   "source": [
    "#### Test\n",
    "\n",
    "Top-k accuracy"
   ]
  },
  {
   "cell_type": "code",
   "execution_count": 1,
   "metadata": {},
   "outputs": [],
   "source": [
    "import sys\n",
    "sys.path.append(\"../\")\n",
    "from pathlib import Path\n",
    "\n",
    "import torch\n",
    "from tqdm import tqdm\n",
    "import pandas as pd\n",
    "import numpy as np\n",
    "\n",
    "from train import ModelTester\n",
    "from const import gnps, mona\n",
    "from data import Tokenizer\n",
    "from utils import embedding, search_with_spectra, search, load_transformer_model, most_similar, cosine_similarity"
   ]
  },
  {
   "cell_type": "code",
   "execution_count": 6,
   "metadata": {},
   "outputs": [],
   "source": [
    "spectra_paths = {\n",
    "    \"gnps\":{\n",
    "        \"orbitrap\": {\n",
    "            \"train\": (gnps.ORBITRAP_TRAIN_QUERY, gnps.ORBITRAP_TEST_REF),\n",
    "            \"test\": (gnps.ORBITRAP_TEST_QUERY, gnps.ORBITRAP_TEST_REF)\n",
    "        },\n",
    "        \"qtof\": {\n",
    "            \"test\": (gnps.QTOF_TEST_QUERY, gnps.QTOF_TEST_REF)\n",
    "        },\n",
    "        \"other\": {\n",
    "            \"test\": (gnps.OTHER_TEST_QUERY, gnps.OTHER_TEST_REF)\n",
    "        }\n",
    "    }\n",
    "}\n",
    "gnps_train_ref = np.load(gnps.ORBITRAP_TRAIN_REF, allow_pickle=True)"
   ]
  },
  {
   "cell_type": "code",
   "execution_count": 7,
   "metadata": {},
   "outputs": [],
   "source": [
    "show_progress_bar = False\n",
    "is_augment = True\n",
    "model_backbone = \"transformer\"\n",
    "loss_type = \"SupConWithTanimotoLoss\"\n",
    "replica_suffix = \"-replication-{}\"\n",
    "k_metric = [5, 1, 10]\n",
    "batch_size = None\n",
    "loader_batch_size = 4096\n",
    "device = torch.device(\"cuda:0\" if torch.cuda.is_available() else \"cpu\")\n",
    "tokenizer = Tokenizer(100, show_progress_bar)\n",
    "model = load_transformer_model(device, loss_type, is_augment)\n",
    "\n",
    "tester = ModelTester(model, device, show_progress_bar)"
   ]
  },
  {
   "cell_type": "code",
   "execution_count": 8,
   "metadata": {},
   "outputs": [
    {
     "name": "stderr",
     "output_type": "stream",
     "text": [
      "  0%|          | 0/10 [00:00<?, ?it/s]"
     ]
    },
    {
     "name": "stdout",
     "output_type": "stream",
     "text": [
      "---------------------------------------- gnps-orbitrap-train ----------------------------------------\n",
      "---------------------------------------- gnps-orbitrap-test ----------------------------------------\n",
      "---------------------------------------- gnps-qtof-test ----------------------------------------\n",
      "---------------------------------------- gnps-other-test ----------------------------------------\n"
     ]
    },
    {
     "name": "stderr",
     "output_type": "stream",
     "text": [
      " 10%|█         | 1/10 [01:49<16:22, 109.15s/it]"
     ]
    },
    {
     "name": "stdout",
     "output_type": "stream",
     "text": [
      "                         top1      top5     top10\n",
      "gnps-orbitrap-train  0.809225  0.917822  0.941176\n",
      "gnps-orbitrap-test   0.823843  0.937129  0.953144\n",
      "gnps-qtof-test       0.500266  0.690293  0.749734\n",
      "gnps-other-test      0.813517  0.939234  0.957371\n",
      "---------------------------------------- gnps-orbitrap-train ----------------------------------------\n",
      "---------------------------------------- gnps-orbitrap-test ----------------------------------------\n",
      "---------------------------------------- gnps-qtof-test ----------------------------------------\n",
      "---------------------------------------- gnps-other-test ----------------------------------------\n"
     ]
    },
    {
     "name": "stderr",
     "output_type": "stream",
     "text": [
      " 20%|██        | 2/10 [03:37<14:31, 108.96s/it]"
     ]
    },
    {
     "name": "stdout",
     "output_type": "stream",
     "text": [
      "                         top1      top5     top10\n",
      "gnps-orbitrap-train  0.808933  0.918260  0.941176\n",
      "gnps-orbitrap-test   0.816133  0.931791  0.951957\n",
      "gnps-qtof-test       0.502793  0.684973  0.744548\n",
      "gnps-other-test      0.812587  0.941869  0.960316\n",
      "---------------------------------------- gnps-orbitrap-train ----------------------------------------\n",
      "---------------------------------------- gnps-orbitrap-test ----------------------------------------\n",
      "---------------------------------------- gnps-qtof-test ----------------------------------------\n",
      "---------------------------------------- gnps-other-test ----------------------------------------\n"
     ]
    },
    {
     "name": "stderr",
     "output_type": "stream",
     "text": [
      " 30%|███       | 3/10 [05:26<12:40, 108.71s/it]"
     ]
    },
    {
     "name": "stdout",
     "output_type": "stream",
     "text": [
      "                         top1      top5     top10\n",
      "gnps-orbitrap-train  0.808787  0.918844  0.941322\n",
      "gnps-orbitrap-test   0.814947  0.928233  0.948399\n",
      "gnps-qtof-test       0.498404  0.688564  0.743617\n",
      "gnps-other-test      0.814602  0.933189  0.955666\n",
      "---------------------------------------- gnps-orbitrap-train ----------------------------------------\n",
      "---------------------------------------- gnps-orbitrap-test ----------------------------------------\n",
      "---------------------------------------- gnps-qtof-test ----------------------------------------\n",
      "---------------------------------------- gnps-other-test ----------------------------------------\n"
     ]
    },
    {
     "name": "stderr",
     "output_type": "stream",
     "text": [
      " 40%|████      | 4/10 [07:14<10:50, 108.46s/it]"
     ]
    },
    {
     "name": "stdout",
     "output_type": "stream",
     "text": [
      "                         top1      top5     top10\n",
      "gnps-orbitrap-train  0.808349  0.917968  0.940739\n",
      "gnps-orbitrap-test   0.823250  0.931198  0.948992\n",
      "gnps-qtof-test       0.501330  0.692287  0.752261\n",
      "gnps-other-test      0.810727  0.940319  0.961091\n",
      "---------------------------------------- gnps-orbitrap-train ----------------------------------------\n",
      "---------------------------------------- gnps-orbitrap-test ----------------------------------------\n",
      "---------------------------------------- gnps-qtof-test ----------------------------------------\n",
      "---------------------------------------- gnps-other-test ----------------------------------------\n"
     ]
    },
    {
     "name": "stderr",
     "output_type": "stream",
     "text": [
      " 50%|█████     | 5/10 [09:02<09:02, 108.43s/it]"
     ]
    },
    {
     "name": "stdout",
     "output_type": "stream",
     "text": [
      "                         top1      top5     top10\n",
      "gnps-orbitrap-train  0.808641  0.918844  0.940739\n",
      "gnps-orbitrap-test   0.816133  0.930605  0.949585\n",
      "gnps-qtof-test       0.498404  0.688032  0.744681\n",
      "gnps-other-test      0.808402  0.940319  0.958611\n",
      "---------------------------------------- gnps-orbitrap-train ----------------------------------------\n",
      "---------------------------------------- gnps-orbitrap-test ----------------------------------------\n",
      "---------------------------------------- gnps-qtof-test ----------------------------------------\n",
      "---------------------------------------- gnps-other-test ----------------------------------------\n"
     ]
    },
    {
     "name": "stderr",
     "output_type": "stream",
     "text": [
      " 60%|██████    | 6/10 [10:53<07:16, 109.15s/it]"
     ]
    },
    {
     "name": "stdout",
     "output_type": "stream",
     "text": [
      "                         top1      top5     top10\n",
      "gnps-orbitrap-train  0.808057  0.918844  0.941176\n",
      "gnps-orbitrap-test   0.819098  0.929419  0.947212\n",
      "gnps-qtof-test       0.501862  0.690293  0.746543\n",
      "gnps-other-test      0.811192  0.940784  0.958766\n",
      "---------------------------------------- gnps-orbitrap-train ----------------------------------------\n",
      "---------------------------------------- gnps-orbitrap-test ----------------------------------------\n",
      "---------------------------------------- gnps-qtof-test ----------------------------------------\n",
      "---------------------------------------- gnps-other-test ----------------------------------------\n"
     ]
    },
    {
     "name": "stderr",
     "output_type": "stream",
     "text": [
      " 70%|███████   | 7/10 [12:51<05:36, 112.19s/it]"
     ]
    },
    {
     "name": "stdout",
     "output_type": "stream",
     "text": [
      "                         top1      top5     top10\n",
      "gnps-orbitrap-train  0.808203  0.917822  0.941031\n",
      "gnps-orbitrap-test   0.819098  0.931198  0.948992\n",
      "gnps-qtof-test       0.502128  0.686436  0.744681\n",
      "gnps-other-test      0.811812  0.937374  0.956906\n",
      "---------------------------------------- gnps-orbitrap-train ----------------------------------------\n",
      "---------------------------------------- gnps-orbitrap-test ----------------------------------------\n",
      "---------------------------------------- gnps-qtof-test ----------------------------------------\n",
      "---------------------------------------- gnps-other-test ----------------------------------------\n"
     ]
    },
    {
     "name": "stderr",
     "output_type": "stream",
     "text": [
      " 80%|████████  | 8/10 [14:41<03:42, 111.41s/it]"
     ]
    },
    {
     "name": "stdout",
     "output_type": "stream",
     "text": [
      "                         top1      top5     top10\n",
      "gnps-orbitrap-train  0.809663  0.918698  0.941322\n",
      "gnps-orbitrap-test   0.815540  0.927046  0.946026\n",
      "gnps-qtof-test       0.498271  0.691755  0.746941\n",
      "gnps-other-test      0.808557  0.935669  0.955511\n",
      "---------------------------------------- gnps-orbitrap-train ----------------------------------------\n",
      "---------------------------------------- gnps-orbitrap-test ----------------------------------------\n",
      "---------------------------------------- gnps-qtof-test ----------------------------------------\n",
      "---------------------------------------- gnps-other-test ----------------------------------------\n"
     ]
    },
    {
     "name": "stderr",
     "output_type": "stream",
     "text": [
      " 90%|█████████ | 9/10 [16:26<01:49, 109.48s/it]"
     ]
    },
    {
     "name": "stdout",
     "output_type": "stream",
     "text": [
      "                         top1      top5     top10\n",
      "gnps-orbitrap-train  0.807181  0.918406  0.941031\n",
      "gnps-orbitrap-test   0.805457  0.922894  0.942467\n",
      "gnps-qtof-test       0.498404  0.690426  0.745080\n",
      "gnps-other-test      0.805612  0.938149  0.957216\n",
      "---------------------------------------- gnps-orbitrap-train ----------------------------------------\n",
      "---------------------------------------- gnps-orbitrap-test ----------------------------------------\n",
      "---------------------------------------- gnps-qtof-test ----------------------------------------\n",
      "---------------------------------------- gnps-other-test ----------------------------------------\n"
     ]
    },
    {
     "name": "stderr",
     "output_type": "stream",
     "text": [
      "100%|██████████| 10/10 [18:14<00:00, 109.42s/it]"
     ]
    },
    {
     "name": "stdout",
     "output_type": "stream",
     "text": [
      "                         top1      top5     top10\n",
      "gnps-orbitrap-train  0.808349  0.918406  0.940885\n",
      "gnps-orbitrap-test   0.819098  0.933571  0.944840\n",
      "gnps-qtof-test       0.499335  0.689761  0.744149\n",
      "gnps-other-test      0.806077  0.935204  0.956596\n"
     ]
    },
    {
     "name": "stderr",
     "output_type": "stream",
     "text": [
      "\n"
     ]
    }
   ],
   "source": [
    "replica_df_seq = []\n",
    "\n",
    "for i in tqdm(range(10)):\n",
    "    df_seq = []\n",
    "    for db, db_metadata in spectra_paths.items():\n",
    "        for desc, path_metadata in db_metadata.items():\n",
    "            for info, paths in path_metadata.items():\n",
    "                print(\"-\" * 40, f\"{db}-{desc}-{info}\", \"-\" * 40)\n",
    "                query_path, ref_path = paths\n",
    "                query_path = query_path.with_stem(query_path.stem + replica_suffix.format(i + 1))\n",
    "                ref_path = ref_path.with_stem(ref_path.stem + replica_suffix.format(i + 1))\n",
    "                if db == \"gnps\" and desc == \"orbitrap\":\n",
    "                    if info == \"train\":\n",
    "                        query_path = gnps.ORBITRAP_TRAIN_QUERY\n",
    "                    \n",
    "                    ref_spectra = np.load(ref_path, allow_pickle=True)\n",
    "                    query_spectra = np.load(query_path, allow_pickle=True)\n",
    "                    ref_spectra = np.hstack((gnps_train_ref, ref_spectra))\n",
    "                    df = search_with_spectra(\n",
    "                        f\"{db}-{desc}-{info}\", tester,\n",
    "                        k_metric, tokenizer,\n",
    "                        query_spectra, ref_spectra,\n",
    "                        loader_batch_size,\n",
    "                        show_progress_bar, batch_size\n",
    "                    )\n",
    "                else:\n",
    "                    df = search(\n",
    "                    f\"{db}-{desc}-{info}\", tester, \n",
    "                    k_metric, tokenizer,\n",
    "                    query_path, ref_path, \n",
    "                    loader_batch_size,\n",
    "                    show_progress_bar, 512\n",
    "                )\n",
    "                df_seq.append(df)\n",
    "    df = pd.concat(df_seq, axis=0)\n",
    "    print(df)\n",
    "    replica_df_seq.append(df)"
   ]
  },
  {
   "cell_type": "code",
   "execution_count": 9,
   "metadata": {},
   "outputs": [],
   "source": [
    "data = []\n",
    "indices = replica_df_seq[0].index\n",
    "columns = replica_df_seq[0].columns\n",
    "for item in replica_df_seq:\n",
    "    data.append([item.values])"
   ]
  },
  {
   "cell_type": "code",
   "execution_count": 10,
   "metadata": {},
   "outputs": [
    {
     "data": {
      "text/plain": [
       "(array([[80.85389, 91.83915, 94.10597],\n",
       "        [81.72598, 93.03084, 94.81613],\n",
       "        [50.01197, 68.92819, 74.62234],\n",
       "        [81.03085, 93.82111, 95.7805 ]]),\n",
       " array([[0.06497, 0.03941, 0.02043],\n",
       "        [0.48942, 0.36297, 0.30267],\n",
       "        [0.16899, 0.21787, 0.26337],\n",
       "        [0.28951, 0.26717, 0.17699]]))"
      ]
     },
     "execution_count": 10,
     "metadata": {},
     "output_type": "execute_result"
    }
   ],
   "source": [
    "data = np.concatenate(data, axis=0)\n",
    "np.set_printoptions(precision=5, suppress=True)\n",
    "np.mean(data, axis=0) * 100, np.std(data, axis=0) * 100"
   ]
  },
  {
   "cell_type": "code",
   "execution_count": 11,
   "metadata": {},
   "outputs": [],
   "source": [
    "pd.set_option('display.precision', 4)\n",
    "mean_df = pd.DataFrame(np.mean(data, axis=0) * 100, index=indices, columns=columns)\n",
    "std_df = pd.DataFrame(np.std(data, axis=0) * 100, index=indices, columns=columns)"
   ]
  },
  {
   "cell_type": "code",
   "execution_count": 12,
   "metadata": {},
   "outputs": [],
   "source": [
    "suffix = \"\"\n",
    "if is_augment:\n",
    "    suffix = \"_Augmentation\"\n",
    "\n",
    "mean_df.to_csv(f\"./result/{model_backbone}_{loss_type}{suffix}_mean.tsv\", sep='\\t')\n",
    "std_df.to_csv(f\"./result/{model_backbone}_{loss_type}{suffix}_std.tsv\", sep='\\t')"
   ]
  },
  {
   "cell_type": "code",
   "execution_count": 4,
   "metadata": {},
   "outputs": [
    {
     "data": {
      "text/html": [
       "<div>\n",
       "<style scoped>\n",
       "    .dataframe tbody tr th:only-of-type {\n",
       "        vertical-align: middle;\n",
       "    }\n",
       "\n",
       "    .dataframe tbody tr th {\n",
       "        vertical-align: top;\n",
       "    }\n",
       "\n",
       "    .dataframe thead th {\n",
       "        text-align: right;\n",
       "    }\n",
       "</style>\n",
       "<table border=\"1\" class=\"dataframe\">\n",
       "  <thead>\n",
       "    <tr style=\"text-align: right;\">\n",
       "      <th></th>\n",
       "      <th>top1</th>\n",
       "      <th>top5</th>\n",
       "      <th>top10</th>\n",
       "    </tr>\n",
       "  </thead>\n",
       "  <tbody>\n",
       "    <tr>\n",
       "      <th>MTBLS1572</th>\n",
       "      <td>1.0</td>\n",
       "      <td>1.0</td>\n",
       "      <td>1.0</td>\n",
       "    </tr>\n",
       "  </tbody>\n",
       "</table>\n",
       "</div>"
      ],
      "text/plain": [
       "           top1  top5  top10\n",
       "MTBLS1572   1.0   1.0    1.0"
      ]
     },
     "execution_count": 4,
     "metadata": {},
     "output_type": "execute_result"
    }
   ],
   "source": [
    "show_progress_bar = False\n",
    "is_augment = True\n",
    "model_backbone = \"transformer\"\n",
    "loss_type = \"SupConWithTanimotoLoss\"\n",
    "replica_suffix = \"-replication-{}\"\n",
    "k_metric = [5, 1, 10]\n",
    "batch_size = None\n",
    "loader_batch_size = 512\n",
    "device = torch.device(\"cuda:1\" if torch.cuda.is_available() else \"cpu\")\n",
    "tokenizer = Tokenizer(100, show_progress_bar)\n",
    "model = load_transformer_model(device, loss_type, is_augment)\n",
    "tester = ModelTester(model, device, show_progress_bar)\n",
    "\n",
    "query_spectra = np.load(\"/data1/xp/data/MSBert/MTBLS1572/query.npy\", allow_pickle=True)\n",
    "ref_spectra = np.load(\"/data1/xp/data/MSBert/MTBLS1572/ref.npy\", allow_pickle=True)\n",
    "\n",
    "search_with_spectra(\n",
    "    \"MTBLS1572\", tester,\n",
    "    k_metric, tokenizer,\n",
    "    query_spectra, ref_spectra,\n",
    "    loader_batch_size,\n",
    "    show_progress_bar, batch_size\n",
    ")"
   ]
  },
  {
   "cell_type": "code",
   "execution_count": 8,
   "metadata": {},
   "outputs": [],
   "source": [
    "from utils import cosine_similarity\n",
    "\n",
    "query_embedding, _ = embedding(\n",
    "    tester, tokenizer,\n",
    "    512, query_spectra,\n",
    "    False\n",
    ")\n",
    "\n",
    "ref_embedding, _ = embedding(\n",
    "    tester, tokenizer,\n",
    "    512, ref_spectra,\n",
    "    False\n",
    ")\n",
    "cosine_score = cosine_similarity(\n",
    "    query_embedding, ref_embedding\n",
    ")\n",
    "for i, j in enumerate(np.argmax(cosine_score, axis=1)):\n",
    "    if i != j:\n",
    "        print(f\"{i}-th answer is [{ref_spectra[i].get(\"compound_name\")}] but get [{ref_spectra[j].get(\"compound_name\")}]\")"
   ]
  },
  {
   "cell_type": "code",
   "execution_count": 9,
   "metadata": {},
   "outputs": [
    {
     "data": {
      "text/plain": [
       "0.7911037987449514"
      ]
     },
     "execution_count": 9,
     "metadata": {},
     "output_type": "execute_result"
    }
   ],
   "source": [
    "cosine_score[4][4]"
   ]
  },
  {
   "cell_type": "code",
   "execution_count": 2,
   "metadata": {},
   "outputs": [
    {
     "name": "stderr",
     "output_type": "stream",
     "text": [
      "tokenization: 100%|██████████| 3376/3376 [00:00<00:00, 5468.01it/s]\n",
      "get smiles: 100%|██████████| 3376/3376 [00:00<00:00, 2793995.72it/s]\n",
      "embedding: 100%|██████████| 7/7 [00:00<00:00,  9.90it/s]\n",
      "tokenization: 100%|██████████| 15655/15655 [00:01<00:00, 8458.12it/s]\n",
      "get smiles: 100%|██████████| 15655/15655 [00:00<00:00, 3501030.61it/s]\n",
      "embedding: 100%|██████████| 31/31 [00:01<00:00, 24.81it/s]\n",
      "tokenization: 100%|██████████| 3376/3376 [00:00<00:00, 7742.36it/s]\n",
      "get smiles: 100%|██████████| 3376/3376 [00:00<00:00, 3367412.68it/s]\n",
      "embedding: 100%|██████████| 7/7 [00:00<00:00, 26.28it/s]\n",
      "tokenization: 100%|██████████| 674/674 [00:00<00:00, 8342.07it/s]\n",
      "get smiles: 100%|██████████| 674/674 [00:00<00:00, 2935577.25it/s]\n",
      "embedding: 100%|██████████| 2/2 [00:00<00:00, 37.29it/s]\n"
     ]
    }
   ],
   "source": [
    "show_progress_bar = True\n",
    "tokenizer = Tokenizer(100, show_progress_bar)\n",
    "\n",
    "is_augment = True\n",
    "device = torch.device(\"cuda:0\" if torch.cuda.is_available() else \"cpu\")\n",
    "model = load_transformer_model(device, \"SupConWithTanimotoLoss\", is_augment)\n",
    "tester = ModelTester(model, device, show_progress_bar)\n",
    "\n",
    "orbitrap_ref_spectra = np.load(mona.ORBITRAP_COMMON, allow_pickle=True)\n",
    "orbitrap_query_spectra = np.load(mona.ORBITRAP_UNIQUE, allow_pickle=True)\n",
    "\n",
    "qtof_ref_spectra = np.load(mona.ORBITRAP_COMMON, allow_pickle=True)\n",
    "qtof_query_spectra = np.load(mona.QTOF_UNIQUE, allow_pickle=True)\n",
    "\n",
    "orbitrap_ref_embedding, _ = embedding(tester, tokenizer, 512, orbitrap_ref_spectra, show_progress_bar)\n",
    "orbitrap_query_embedding, _ = embedding(tester, tokenizer, 512, orbitrap_query_spectra,  show_progress_bar)\n",
    "\n",
    "qtof_ref_embedding, _ = embedding(tester, tokenizer, 512, qtof_ref_spectra, show_progress_bar)\n",
    "qtof_query_embedding, _ = embedding(tester, tokenizer, 512, qtof_query_spectra,  show_progress_bar)"
   ]
  },
  {
   "cell_type": "code",
   "execution_count": 3,
   "metadata": {},
   "outputs": [
    {
     "name": "stderr",
     "output_type": "stream",
     "text": [
      "processing: 100%|██████████| 31/31 [00:05<00:00,  5.84it/s]\n",
      "processing: 100%|██████████| 2/2 [00:00<00:00, 17.34it/s]\n"
     ]
    }
   ],
   "source": [
    "orbitrap_score, orbitrap_indices = most_similar(orbitrap_query_embedding, orbitrap_ref_embedding, 512, show_progress_bar)\n",
    "qtof_score, qtof_indices = most_similar(qtof_query_embedding, qtof_ref_embedding, 512, show_progress_bar)"
   ]
  },
  {
   "cell_type": "code",
   "execution_count": 4,
   "metadata": {},
   "outputs": [],
   "source": [
    "dir = Path(\"/data1/xp/code/specEmbedding/score_distribution/compound search/\")\n",
    "orbitrap_dir = dir / \"orbitrap\"\n",
    "qtof_dir = dir / \"qtof\"\n",
    "\n",
    "orbitrap_dir.mkdir(exist_ok=True, parents=True)\n",
    "qtof_dir.mkdir(exist_ok=True, parents=True)\n",
    "\n",
    "np.save(orbitrap_dir / \"SpecEmbedding_Score.npy\", orbitrap_score)\n",
    "np.save(orbitrap_dir / \"SpecEmbedding_Indices.npy\", orbitrap_indices)\n",
    "np.save(qtof_dir / \"SpecEmbedding_Score.npy\", qtof_score)\n",
    "np.save(qtof_dir / \"SpecEmbedding_Indices.npy\", qtof_indices)"
   ]
  },
  {
   "cell_type": "code",
   "execution_count": 19,
   "metadata": {},
   "outputs": [],
   "source": [
    "show_progress_bar = True\n",
    "is_augment = True\n",
    "model_backbone = \"transformer\"\n",
    "loss_type = \"SupConWithTanimotoLoss\"\n",
    "k_metric = [5, 1, 10]\n",
    "batch_size = None\n",
    "loader_batch_size = 512\n",
    "device = torch.device(\"cuda:1\" if torch.cuda.is_available() else \"cpu\")\n",
    "tokenizer = Tokenizer(100, show_progress_bar)\n",
    "model = load_transformer_model(device, loss_type, is_augment)\n",
    "tester = ModelTester(model, device, show_progress_bar)"
   ]
  },
  {
   "cell_type": "code",
   "execution_count": 20,
   "metadata": {},
   "outputs": [
    {
     "name": "stderr",
     "output_type": "stream",
     "text": [
      "tokenization: 100%|██████████| 3376/3376 [00:00<00:00, 7387.69it/s]\n",
      "get smiles: 100%|██████████| 3376/3376 [00:00<00:00, 2351373.35it/s]\n",
      "embedding: 100%|██████████| 7/7 [00:00<00:00, 23.60it/s]\n",
      "tokenization: 100%|██████████| 163952/163952 [00:18<00:00, 9034.35it/s]\n",
      "get smiles: 100%|██████████| 163952/163952 [00:00<00:00, 1379223.99it/s]\n",
      "embedding: 100%|██████████| 321/321 [00:14<00:00, 21.74it/s]\n",
      "calculate hit and recall count: 100%|██████████| 1/1 [00:02<00:00,  2.86s/it]\n"
     ]
    },
    {
     "data": {
      "text/html": [
       "<div>\n",
       "<style scoped>\n",
       "    .dataframe tbody tr th:only-of-type {\n",
       "        vertical-align: middle;\n",
       "    }\n",
       "\n",
       "    .dataframe tbody tr th {\n",
       "        vertical-align: top;\n",
       "    }\n",
       "\n",
       "    .dataframe thead th {\n",
       "        text-align: right;\n",
       "    }\n",
       "</style>\n",
       "<table border=\"1\" class=\"dataframe\">\n",
       "  <thead>\n",
       "    <tr style=\"text-align: right;\">\n",
       "      <th></th>\n",
       "      <th>top1</th>\n",
       "      <th>top5</th>\n",
       "      <th>top10</th>\n",
       "    </tr>\n",
       "  </thead>\n",
       "  <tbody>\n",
       "    <tr>\n",
       "      <th>Orbitrap Common</th>\n",
       "      <td>0.8557</td>\n",
       "      <td>0.918</td>\n",
       "      <td>0.9375</td>\n",
       "    </tr>\n",
       "  </tbody>\n",
       "</table>\n",
       "</div>"
      ],
      "text/plain": [
       "                   top1   top5   top10\n",
       "Orbitrap Common  0.8557  0.918  0.9375"
      ]
     },
     "execution_count": 20,
     "metadata": {},
     "output_type": "execute_result"
    }
   ],
   "source": [
    "query_spectra = np.load(mona.ORBITRAP_COMMON, allow_pickle=True)\n",
    "ref_spectra = np.load(gnps.ORBITRAP_ALL, allow_pickle=True)\n",
    "\n",
    "search_with_spectra(\n",
    "    \"Orbitrap Common\", tester,\n",
    "    k_metric, tokenizer,\n",
    "    query_spectra, ref_spectra,\n",
    "    loader_batch_size,\n",
    "    show_progress_bar, batch_size\n",
    ")"
   ]
  },
  {
   "cell_type": "code",
   "execution_count": 21,
   "metadata": {},
   "outputs": [
    {
     "name": "stderr",
     "output_type": "stream",
     "text": [
      "tokenization: 100%|██████████| 7243/7243 [00:01<00:00, 5954.90it/s]\n",
      "get smiles: 100%|██████████| 7243/7243 [00:00<00:00, 2614401.37it/s]\n",
      "embedding: 100%|██████████| 15/15 [00:00<00:00, 23.15it/s]\n",
      "tokenization: 100%|██████████| 44560/44560 [00:07<00:00, 5845.26it/s]\n",
      "get smiles: 100%|██████████| 44560/44560 [00:00<00:00, 1460678.42it/s]\n",
      "embedding: 100%|██████████| 88/88 [00:03<00:00, 22.33it/s]\n",
      "calculate hit and recall count: 100%|██████████| 1/1 [00:01<00:00,  1.35s/it]\n"
     ]
    },
    {
     "data": {
      "text/html": [
       "<div>\n",
       "<style scoped>\n",
       "    .dataframe tbody tr th:only-of-type {\n",
       "        vertical-align: middle;\n",
       "    }\n",
       "\n",
       "    .dataframe tbody tr th {\n",
       "        vertical-align: top;\n",
       "    }\n",
       "\n",
       "    .dataframe thead th {\n",
       "        text-align: right;\n",
       "    }\n",
       "</style>\n",
       "<table border=\"1\" class=\"dataframe\">\n",
       "  <thead>\n",
       "    <tr style=\"text-align: right;\">\n",
       "      <th></th>\n",
       "      <th>top1</th>\n",
       "      <th>top5</th>\n",
       "      <th>top10</th>\n",
       "    </tr>\n",
       "  </thead>\n",
       "  <tbody>\n",
       "    <tr>\n",
       "      <th>QTOF Common</th>\n",
       "      <td>0.9861</td>\n",
       "      <td>0.9952</td>\n",
       "      <td>0.9982</td>\n",
       "    </tr>\n",
       "  </tbody>\n",
       "</table>\n",
       "</div>"
      ],
      "text/plain": [
       "               top1    top5   top10\n",
       "QTOF Common  0.9861  0.9952  0.9982"
      ]
     },
     "execution_count": 21,
     "metadata": {},
     "output_type": "execute_result"
    }
   ],
   "source": [
    "query_spectra = np.load(mona.QTOF_COMMON, allow_pickle=True)\n",
    "ref_spectra = np.load(gnps.QTOF_ALL, allow_pickle=True)\n",
    "\n",
    "search_with_spectra(\n",
    "    \"QTOF Common\", tester,\n",
    "    k_metric, tokenizer,\n",
    "    query_spectra, ref_spectra,\n",
    "    loader_batch_size,\n",
    "    show_progress_bar, batch_size\n",
    ")"
   ]
  }
 ],
 "metadata": {
  "kernelspec": {
   "display_name": "py312",
   "language": "python",
   "name": "python3"
  },
  "language_info": {
   "codemirror_mode": {
    "name": "ipython",
    "version": 3
   },
   "file_extension": ".py",
   "mimetype": "text/x-python",
   "name": "python",
   "nbconvert_exporter": "python",
   "pygments_lexer": "ipython3",
   "version": "3.12.9"
  }
 },
 "nbformat": 4,
 "nbformat_minor": 2
}
