{
 "cells": [
  {
   "cell_type": "code",
   "execution_count": null,
   "id": "028bb582",
   "metadata": {},
   "outputs": [
    {
     "name": "stderr",
     "output_type": "stream",
     "text": [
      "tokenization: 100%|██████████| 21/21 [00:00<00:00, 4235.24it/s]\n",
      "get smiles: 100%|██████████| 21/21 [00:00<00:00, 307973.37it/s]\n",
      "embedding: 100%|██████████| 1/1 [00:00<00:00, 12.31it/s]\n",
      "tokenization: 100%|██████████| 21/21 [00:00<00:00, 5186.08it/s]\n",
      "get smiles: 100%|██████████| 21/21 [00:00<00:00, 248113.76it/s]\n",
      "embedding: 100%|██████████| 1/1 [00:00<00:00, 22.72it/s]\n"
     ]
    }
   ],
   "source": [
    "import torch\n",
    "\n",
    "from utils import embedding\n",
    "from train import ModelTester\n",
    "from data import Tokenizer\n",
    "from model import SiameseModel\n",
    "from utils import read_raw_spectra, cosine_similarity\n",
    "\n",
    "q = read_raw_spectra(\"./q.msp\")\n",
    "r = read_raw_spectra(\"./r.msp\")\n",
    "\n",
    "show_progress_bar = True\n",
    "tokenizer = Tokenizer(100, show_progress_bar)\n",
    "device = torch.device(\"cpu\")\n",
    "model = SiameseModel(\n",
    "    embedding_dim=512,\n",
    "    n_head=16,\n",
    "    n_layer=4,\n",
    "    dim_feedward=512,\n",
    "    dim_target=512,\n",
    "    feedward_activation=\"selu\"\n",
    ")\n",
    "model_state = torch.load(\"./model.ckpt\", device)\n",
    "model.load_state_dict(model_state)\n",
    "tester = ModelTester(model, device, show_progress_bar)\n",
    "q, _ = embedding(tester, tokenizer, 512, q, show_progress_bar)\n",
    "r, _ = embedding(tester, tokenizer, 512, r, show_progress_bar)\n",
    "\n",
    "cosine_scores = cosine_similarity(q, r)"
   ]
  },
  {
   "cell_type": "code",
   "execution_count": null,
   "id": "434d3f01",
   "metadata": {},
   "outputs": [
    {
     "name": "stderr",
     "output_type": "stream",
     "text": [
      "tokenization: 100%|██████████| 21/21 [00:00<00:00, 4817.87it/s]\n",
      "tokenization: 100%|██████████| 21/21 [00:00<00:00, 4623.64it/s]\n"
     ]
    },
    {
     "name": "stdout",
     "output_type": "stream",
     "text": [
      "The 0-th OC(=O)c1ccc(O)cc1 spectra most similar compound is OC(=O)c1ccc(O)cc1\n",
      "The 1-th CSCC[C@H](NC(C)=O)C(O)=O spectra most similar compound is CSCC[C@H](NC(C)=O)C(O)=O\n",
      "The 2-th OC(=O)CC(=CC(O)=O)C(O)=O spectra most similar compound is OC(=O)CC(=CC(O)=O)C(O)=O\n",
      "The 3-th Nc1ccccc1C(O)=O spectra most similar compound is Nc1ccccc1C(O)=O\n",
      "The 4-th CCCC(=O)O[C@H](CC([O-])=O)C[N+](C)(C)C spectra most similar compound is CCCC(=O)O[C@H](CC([O-])=O)C[N+](C)(C)C\n",
      "The 5-th C[N+](C)(C)CC(O)CC([O-])=O spectra most similar compound is C[N+](C)(C)CC(O)CC([O-])=O\n",
      "The 6-th C[N+](C)(C)CCO spectra most similar compound is C[N+](C)(C)CCO\n",
      "The 7-th Nc1cc[nH]c(=O)n1 spectra most similar compound is Nc1cc[nH]c(=O)n1\n",
      "The 8-th C1=CC(=C(C(=C1)O)O)C(=O)O spectra most similar compound is C1=CC(=C(C(=C1)O)O)C(=O)O\n",
      "The 9-th CC1=CC2=C(C=C1C)N(C3=NC(=O)NC(=O)C3=N2)CC(C(C(COP(=O)(O)OP(=O)(O)OCC4C(C(C(O4)N5C=NC6=C(N=CN=C65)N)O)O)O)O)O spectra most similar compound is CC1=CC2=C(C=C1C)N(C3=NC(=O)NC(=O)C3=N2)CC(C(C(COP(=O)(O)OP(=O)(O)OCC4C(C(C(O4)N5C=NC6=C(N=CN=C65)N)O)O)O)O)O\n",
      "The 10-th NC(CCC(N)=O)C(O)=O spectra most similar compound is NC(CCC(N)=O)C(O)=O\n",
      "The 11-th CC(C)CC(=O)O[C@H](CC([O-])=O)C[N+](C)(C)C spectra most similar compound is CC(C)CC(=O)O[C@H](CC([O-])=O)C[N+](C)(C)C\n",
      "The 12-th CC(C)CC(N)C(O)=O spectra most similar compound is CC(C)CC(N)C(O)=O\n",
      "The 13-th N[C@@H](CC(=O)c1ccccc1N)C(O)=O spectra most similar compound is N[C@@H](CC(=O)c1ccccc1N)C(O)=O\n",
      "The 14-th N[C@@H](Cc1c[nH]c2ccccc12)C(O)=O spectra most similar compound is N[C@@H](Cc1c[nH]c2ccccc12)C(O)=O\n",
      "The 15-th NC(=O)c1cccnc1 spectra most similar compound is NC(=O)c1cccnc1\n",
      "The 16-th NCCCC(N)C(O)=O spectra most similar compound is NCCCC(N)C(O)=O\n",
      "The 17-th CC(C)(CO)C(O)C(=O)NCCC(O)=O spectra most similar compound is CC(C)(CO)C(O)C(=O)NCCC(O)=O\n",
      "The 18-th OC(=O)C1CCCN1 spectra most similar compound is OC(=O)C1CCCN1\n",
      "The 19-th CCC(=O)OC(CC([O-])=O)C[N+](C)(C)C spectra most similar compound is CCC(=O)OC(CC([O-])=O)C[N+](C)(C)C\n",
      "The 20-th Cc1c[nH]c(=O)[nH]c1=O spectra most similar compound is Cc1c[nH]c(=O)[nH]c1=O\n"
     ]
    }
   ],
   "source": [
    "import torch\n",
    "\n",
    "from utils import embedding\n",
    "from train import ModelTester\n",
    "from data import Tokenizer\n",
    "from model import SiameseModel\n",
    "from utils import read_raw_spectra, cosine_similarity, top_k_indices\n",
    "\n",
    "show_progress_bar = False\n",
    "q_spectra = read_raw_spectra(\"./q.msp\")\n",
    "r_spectra = read_raw_spectra(\"./r.msp\")\n",
    "\n",
    "tokenizer = Tokenizer(100, show_progress_bar)\n",
    "device = torch.device(\"cpu\")\n",
    "model = SiameseModel(\n",
    "    embedding_dim=512,\n",
    "    n_head=16,\n",
    "    n_layer=4,\n",
    "    dim_feedward=512,\n",
    "    dim_target=512,\n",
    "    feedward_activation=\"selu\"\n",
    ")\n",
    "model_state = torch.load(\"./model.ckpt\", device)\n",
    "model.load_state_dict(model_state)\n",
    "tester = ModelTester(model, device, show_progress_bar)\n",
    "q, _ = embedding(tester, tokenizer, 512, q_spectra, show_progress_bar)\n",
    "r, _ = embedding(tester, tokenizer, 512, r_spectra, show_progress_bar)\n",
    "cosine_scores = cosine_similarity(q, r)\n",
    "\n",
    "indices = top_k_indices(cosine_scores, 1)\n",
    "for i, index in enumerate(indices[:, 0]):\n",
    "    print(f\"The {i}-th {q_spectra[i].get('smiles')} spectra most similar compound is {r_spectra[index].get('smiles')}\")"
   ]
  }
 ],
 "metadata": {
  "kernelspec": {
   "display_name": "transformer",
   "language": "python",
   "name": "python3"
  },
  "language_info": {
   "codemirror_mode": {
    "name": "ipython",
    "version": 3
   },
   "file_extension": ".py",
   "mimetype": "text/x-python",
   "name": "python",
   "nbconvert_exporter": "python",
   "pygments_lexer": "ipython3",
   "version": "3.10.15"
  }
 },
 "nbformat": 4,
 "nbformat_minor": 5
}
