{
 "cells": [
  {
   "cell_type": "code",
   "execution_count": 1,
   "id": "cb97080d",
   "metadata": {},
   "outputs": [],
   "source": [
    "import sys\n",
    "sys.path.append(\"../\")\n",
    "\n",
    "import torch\n",
    "import numpy as np\n",
    "from sklearn.cluster import Birch\n",
    "from sklearn import metrics\n",
    "from sklearn.metrics import accuracy_score\n",
    "\n",
    "from train import ModelTester\n",
    "from const import tsne_cluster\n",
    "from data import Tokenizer\n",
    "from utils import embedding, load_transformer_model"
   ]
  },
  {
   "cell_type": "code",
   "execution_count": 2,
   "id": "62e8bcaa",
   "metadata": {},
   "outputs": [],
   "source": [
    "def get_label(spectra):\n",
    "    smiles_seq = np.array([s.get(\"smiles\") for s in spectra])\n",
    "    unique_smiles = np.unique(smiles_seq)\n",
    "    labels = np.zeros((len(spectra, )))\n",
    "    for i, smiles in enumerate(unique_smiles):\n",
    "        labels[smiles_seq == smiles] = i\n",
    "    return labels, unique_smiles"
   ]
  },
  {
   "cell_type": "code",
   "execution_count": 3,
   "id": "ae2a9527",
   "metadata": {},
   "outputs": [],
   "source": [
    "def purity_score(y_true, y_pred):\n",
    "    y_voted_labels = np.zeros(y_true.shape)\n",
    "    labels = np.unique(y_true)\n",
    "    ordered_labels = np.arange(labels.shape[0])\n",
    "    for k in range(labels.shape[0]):\n",
    "        y_true[y_true == labels[k]] = ordered_labels[k]\n",
    "    # Update unique labels\n",
    "    labels = np.unique(y_true)\n",
    "    bins = np.concatenate((labels, [np.max(labels) + 1]), axis=0)\n",
    "\n",
    "    for cluster in np.unique(y_pred):\n",
    "        hist, _ = np.histogram(y_true[y_pred == cluster], bins=bins)\n",
    "        # Find the most present label in the cluster\n",
    "        winner = np.argmax(hist)\n",
    "        y_voted_labels[y_pred == cluster] = winner\n",
    "\n",
    "    return accuracy_score(y_true, y_voted_labels)"
   ]
  },
  {
   "cell_type": "code",
   "execution_count": 4,
   "id": "34035085",
   "metadata": {},
   "outputs": [],
   "source": [
    "def CalEvaluate(labels_true, labels_pred):\n",
    "    purity = purity_score(labels_true, labels_pred)\n",
    "    ari = metrics.adjusted_rand_score(labels_true, labels_pred)\n",
    "    homogeneity = metrics.homogeneity_score(labels_true, labels_pred)\n",
    "    completeness = metrics.completeness_score(labels_true, labels_pred)\n",
    "    v_measure = metrics.v_measure_score(labels_true, labels_pred, beta=0.5)\n",
    "    result = {\n",
    "        'ARI': ari,\n",
    "        \"purity\": purity,\n",
    "        'homogeneity': homogeneity,\n",
    "        'completeness': completeness,\n",
    "        'v_measure': v_measure\n",
    "    }\n",
    "    return result"
   ]
  },
  {
   "cell_type": "code",
   "execution_count": 5,
   "id": "085749ac",
   "metadata": {},
   "outputs": [],
   "source": [
    "show_progress_bar = False\n",
    "is_augment = True\n",
    "model_backbone = \"transformer\"\n",
    "loss_type = \"SupConWithTanimotoLoss\"\n",
    "device = torch.device(\"cuda:0\" if torch.cuda.is_available() else \"cpu\")\n",
    "tokenizer = Tokenizer(100, show_progress_bar)\n",
    "model = load_transformer_model(device, loss_type, is_augment)\n",
    "tester = ModelTester(model, device, show_progress_bar)"
   ]
  },
  {
   "cell_type": "code",
   "execution_count": 6,
   "id": "d2f059b6",
   "metadata": {},
   "outputs": [
    {
     "data": {
      "text/plain": [
       "{'ARI': 0.5127917531520478,\n",
       " 'purity': 0.9198171267803763,\n",
       " 'homogeneity': 0.9748241693544608,\n",
       " 'completeness': 0.8884910349058514,\n",
       " 'v_measure': 0.9442407565840419}"
      ]
     },
     "execution_count": 6,
     "metadata": {},
     "output_type": "execute_result"
    }
   ],
   "source": [
    "spectra = np.load(tsne_cluster.SPECEMBEDDING_CLUSTER, allow_pickle=True)\n",
    "labels, unique_smiles = get_label(spectra)\n",
    "\n",
    "spectra_embedding, _ = embedding(\n",
    "    tester, tokenizer,\n",
    "    512, spectra,\n",
    "    False\n",
    ")\n",
    "\n",
    "brc = Birch(threshold=0.5, n_clusters=len(unique_smiles))\n",
    "pred_labels = brc.fit_predict(spectra_embedding)\n",
    "CalEvaluate(labels, pred_labels)"
   ]
  },
  {
   "cell_type": "code",
   "execution_count": 7,
   "id": "c7c7e6c4",
   "metadata": {},
   "outputs": [
    {
     "data": {
      "text/plain": [
       "2043"
      ]
     },
     "execution_count": 7,
     "metadata": {},
     "output_type": "execute_result"
    }
   ],
   "source": [
    "len(unique_smiles)"
   ]
  },
  {
   "cell_type": "code",
   "execution_count": 8,
   "id": "130572ff",
   "metadata": {},
   "outputs": [
    {
     "data": {
      "text/plain": [
       "{'ARI': 0.4988632034514985,\n",
       " 'purity': 0.946583944919422,\n",
       " 'homogeneity': 0.9828430936028273,\n",
       " 'completeness': 0.8793606461515936,\n",
       " 'v_measure': 0.9457449282963973}"
      ]
     },
     "execution_count": 8,
     "metadata": {},
     "output_type": "execute_result"
    }
   ],
   "source": [
    "spectra = np.load(tsne_cluster.MSBERT_CLUSTER, allow_pickle=True)\n",
    "labels, unique_smiles = get_label(spectra)\n",
    "\n",
    "spectra_embedding, _ = embedding(\n",
    "    tester, tokenizer,\n",
    "    512, spectra,\n",
    "    False\n",
    ")\n",
    "\n",
    "brc = Birch(threshold=0.5, n_clusters=len(unique_smiles))\n",
    "pred_labels = brc.fit_predict(spectra_embedding)\n",
    "CalEvaluate(labels, pred_labels)"
   ]
  },
  {
   "cell_type": "code",
   "execution_count": null,
   "id": "1e9d9f74",
   "metadata": {},
   "outputs": [],
   "source": [
    "len(unique_smiles)"
   ]
  }
 ],
 "metadata": {
  "kernelspec": {
   "display_name": "py312",
   "language": "python",
   "name": "python3"
  },
  "language_info": {
   "codemirror_mode": {
    "name": "ipython",
    "version": 3
   },
   "file_extension": ".py",
   "mimetype": "text/x-python",
   "name": "python",
   "nbconvert_exporter": "python",
   "pygments_lexer": "ipython3",
   "version": "3.12.9"
  }
 },
 "nbformat": 4,
 "nbformat_minor": 5
}
