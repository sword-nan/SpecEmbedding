{
 "cells": [
  {
   "cell_type": "code",
   "execution_count": 1,
   "metadata": {},
   "outputs": [],
   "source": [
    "import torch\n",
    "\n",
    "from loss import TanimotoScoreLoss, SupConLoss, SupConLossWithTanimotoScore\n",
    "\n",
    "tanimoto_score_path = \"/data1/xp/data/GNPS/tanimoto_score.npy\"\n",
    "device = torch.device(\"cuda\" if torch.cuda.is_available() else \"cpu\")"
   ]
  },
  {
   "cell_type": "code",
   "execution_count": 2,
   "metadata": {},
   "outputs": [
    {
     "data": {
      "text/plain": [
       "tensor(0.2618, device='cuda:0')"
      ]
     },
     "execution_count": 2,
     "metadata": {},
     "output_type": "execute_result"
    }
   ],
   "source": [
    "criterion = TanimotoScoreLoss(tanimoto_score_path, device, \"mean\")\n",
    "features = torch.rand((512, 2, 512)).float().to(device)\n",
    "labels = torch.randint(0, 100, (512, )).to(device)\n",
    "criterion(features, labels)"
   ]
  },
  {
   "cell_type": "code",
   "execution_count": 3,
   "metadata": {},
   "outputs": [
    {
     "data": {
      "text/plain": [
       "tensor(6.9317, device='cuda:0')"
      ]
     },
     "execution_count": 3,
     "metadata": {},
     "output_type": "execute_result"
    }
   ],
   "source": [
    "criterion = SupConLoss(device, 0.2, 'all', 0.2, \"mean\")\n",
    "features = torch.rand((512, 2, 512)).float().to(device)\n",
    "labels = torch.randint(0, 100, (512, )).to(device)\n",
    "criterion(features, labels)"
   ]
  },
  {
   "cell_type": "code",
   "execution_count": null,
   "metadata": {},
   "outputs": [],
   "source": [
    "criterion = SupConLossWithTanimotoScore(\n",
    "    30,\n",
    "    tanimoto_score_path,\n",
    "    device,\n",
    "    0.2,\n",
    "    'all',\n",
    "    0.2,\n",
    "    \"mean\"\n",
    ")\n",
    "\n",
    "features = torch.rand((512, 2, 512)).float().to(device)\n",
    "labels = torch.randint(0, 100, (512, )).to(device)\n",
    "criterion(features, labels)"
   ]
  }
 ],
 "metadata": {
  "kernelspec": {
   "display_name": "py312",
   "language": "python",
   "name": "python3"
  },
  "language_info": {
   "codemirror_mode": {
    "name": "ipython",
    "version": 3
   },
   "file_extension": ".py",
   "mimetype": "text/x-python",
   "name": "python",
   "nbconvert_exporter": "python",
   "pygments_lexer": "ipython3",
   "version": "3.12.9"
  }
 },
 "nbformat": 4,
 "nbformat_minor": 2
}
