{
 "cells": [
  {
   "cell_type": "code",
   "execution_count": null,
   "id": "f7b0a1cf",
   "metadata": {},
   "outputs": [],
   "source": [
    "import sys\n",
    "sys.path.append(\"../\")\n",
    "\n",
    "import torch\n",
    "from torch.utils.data import DataLoader\n",
    "import numpy as np\n",
    "from model import MSBERT\n",
    "from sklearn.cluster import Birch\n",
    "from sklearn.metrics import accuracy_score\n",
    "from sklearn import metrics\n",
    "\n",
    "from utils import ModelEmbed\n",
    "from const import tsne_cluster\n",
    "from type import TokenizerConfig\n",
    "from data import Tokenizer, TokenSequenceDataset"
   ]
  },
  {
   "cell_type": "code",
   "execution_count": 2,
   "id": "e9877a97",
   "metadata": {},
   "outputs": [],
   "source": [
    "def get_label(spectra):\n",
    "    smiles_seq = np.array([s.get(\"smiles\") for s in spectra])\n",
    "    unique_smiles = np.unique(smiles_seq)\n",
    "    labels = np.zeros((len(spectra, )))\n",
    "    for i, smiles in enumerate(unique_smiles):\n",
    "        labels[smiles_seq == smiles] = i\n",
    "    return labels, unique_smiles"
   ]
  },
  {
   "cell_type": "code",
   "execution_count": 3,
   "id": "7866244a",
   "metadata": {},
   "outputs": [],
   "source": [
    "def purity_score(y_true, y_pred):\n",
    "    y_voted_labels = np.zeros(y_true.shape)\n",
    "    labels = np.unique(y_true)\n",
    "    ordered_labels = np.arange(labels.shape[0])\n",
    "    for k in range(labels.shape[0]):\n",
    "        y_true[y_true == labels[k]] = ordered_labels[k]\n",
    "    # Update unique labels\n",
    "    labels = np.unique(y_true)\n",
    "    bins = np.concatenate((labels, [np.max(labels) + 1]), axis=0)\n",
    "\n",
    "    for cluster in np.unique(y_pred):\n",
    "        hist, _ = np.histogram(y_true[y_pred == cluster], bins=bins)\n",
    "        # Find the most present label in the cluster\n",
    "        winner = np.argmax(hist)\n",
    "        y_voted_labels[y_pred == cluster] = winner\n",
    "\n",
    "    return accuracy_score(y_true, y_voted_labels)"
   ]
  },
  {
   "cell_type": "code",
   "execution_count": 4,
   "id": "b2641949",
   "metadata": {},
   "outputs": [],
   "source": [
    "def CalEvaluate(labels_true, labels_pred):\n",
    "    purity = purity_score(labels_true, labels_pred)\n",
    "    ari = metrics.adjusted_rand_score(labels_true, labels_pred)\n",
    "    homogeneity = metrics.homogeneity_score(labels_true, labels_pred)\n",
    "    completeness = metrics.completeness_score(labels_true, labels_pred)\n",
    "    v_measure = metrics.v_measure_score(labels_true, labels_pred, beta=0.5)\n",
    "    result = {\n",
    "        'ARI': ari,\n",
    "        \"purity\": purity,\n",
    "        'homogeneity': homogeneity,\n",
    "        'completeness': completeness,\n",
    "        'v_measure': v_measure\n",
    "    }\n",
    "    return result"
   ]
  },
  {
   "cell_type": "code",
   "execution_count": 5,
   "id": "29543bbc",
   "metadata": {},
   "outputs": [],
   "source": [
    "device = torch.device(\"cuda:1\" if torch.cuda.is_available() else \"cpu\")\n",
    "model_state_path = \"/data1/xp/data/MSBert/MSBERT.pkl\"\n",
    "model_state = torch.load(model_state_path)\n",
    "\n",
    "model = MSBERT(\n",
    "    100002,\n",
    "    512,\n",
    "    6,\n",
    "    16,\n",
    "    0,\n",
    "    100,\n",
    "    3\n",
    ")\n",
    "model.load_state_dict(model_state)\n",
    "model = model.to(device)\n",
    "\n",
    "show_progress_bar = False\n",
    "tokenizer_config = TokenizerConfig(\n",
    "    max_len=100,\n",
    "    n_decimals=2,\n",
    "    show_progress_bar=show_progress_bar\n",
    ")\n",
    "tokenizer = Tokenizer(**tokenizer_config)"
   ]
  },
  {
   "cell_type": "code",
   "execution_count": 6,
   "id": "d407c802",
   "metadata": {},
   "outputs": [
    {
     "data": {
      "text/plain": [
       "{'ARI': 0.2047164225469265,\n",
       " 'purity': 0.7600961256667252,\n",
       " 'homogeneity': 0.8797025437129594,\n",
       " 'completeness': 0.7818874624710648,\n",
       " 'v_measure': 0.844487086690822}"
      ]
     },
     "execution_count": 6,
     "metadata": {},
     "output_type": "execute_result"
    }
   ],
   "source": [
    "spectra = np.load(tsne_cluster.SPECEMBEDDING_CLUSTER, allow_pickle=True)\n",
    "labels, unique_smiles = get_label(spectra)\n",
    "\n",
    "sequences = tokenizer.tokenize_sequence(spectra)\n",
    "dataset = TokenSequenceDataset(sequences)\n",
    "loader = DataLoader(\n",
    "    dataset,\n",
    "    batch_size=512,\n",
    "    shuffle=False\n",
    ")\n",
    "spectra_embedding = ModelEmbed(model, loader, device)\n",
    "\n",
    "brc = Birch(threshold=0.5, n_clusters=len(unique_smiles))\n",
    "pred_labels = brc.fit_predict(spectra_embedding)\n",
    "CalEvaluate(labels, pred_labels)"
   ]
  },
  {
   "cell_type": "code",
   "execution_count": 7,
   "id": "799f6de1",
   "metadata": {},
   "outputs": [
    {
     "name": "stdout",
     "output_type": "stream",
     "text": [
      "embedded end\n"
     ]
    },
    {
     "data": {
      "text/plain": [
       "{'ARI': 0.23916166662338104,\n",
       " 'purity': 0.8050994930770977,\n",
       " 'homogeneity': 0.8850667055388773,\n",
       " 'completeness': 0.7675688506401166,\n",
       " 'v_measure': 0.8420978393347991}"
      ]
     },
     "execution_count": 7,
     "metadata": {},
     "output_type": "execute_result"
    }
   ],
   "source": [
    "spectra = np.load(tsne_cluster.MSBERT_CLUSTER, allow_pickle=True)\n",
    "labels, unique_smiles = get_label(spectra)\n",
    "\n",
    "sequences = tokenizer.tokenize_sequence(spectra)\n",
    "dataset = TokenSequenceDataset(sequences)\n",
    "loader = DataLoader(\n",
    "    dataset,\n",
    "    batch_size=512,\n",
    "    shuffle=False\n",
    ")\n",
    "spectra_embedding = ModelEmbed(model, loader, device)\n",
    "print(\"embedded end\")\n",
    "\n",
    "brc = Birch(threshold=0.5, n_clusters=len(unique_smiles))\n",
    "pred_labels = brc.fit_predict(spectra_embedding)\n",
    "CalEvaluate(labels, pred_labels)"
   ]
  }
 ],
 "metadata": {
  "kernelspec": {
   "display_name": "py312",
   "language": "python",
   "name": "python3"
  },
  "language_info": {
   "codemirror_mode": {
    "name": "ipython",
    "version": 3
   },
   "file_extension": ".py",
   "mimetype": "text/x-python",
   "name": "python",
   "nbconvert_exporter": "python",
   "pygments_lexer": "ipython3",
   "version": "3.12.9"
  }
 },
 "nbformat": 4,
 "nbformat_minor": 5
}
