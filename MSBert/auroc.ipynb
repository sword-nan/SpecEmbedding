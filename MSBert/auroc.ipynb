{
 "cells": [
  {
   "cell_type": "code",
   "execution_count": 9,
   "id": "01111c71",
   "metadata": {},
   "outputs": [],
   "source": [
    "import sys\n",
    "sys.path.append(\"../\")\n",
    "from pathlib import Path\n",
    "\n",
    "import torch\n",
    "import numpy as np\n",
    "from sklearn.metrics import roc_curve, auc\n",
    "from gensim.models import Word2Vec\n",
    "\n",
    "from const import gnps\n",
    "from type import TokenizerConfig\n",
    "from data import Tokenizer\n",
    "from utils import load_model, embedding, cosine_similarity\n",
    "\n",
    "ROC_DIR = Path(\"/data1/xp/code/specEmbedding/ROC\")\n",
    "ROC_DIR.mkdir(exist_ok=True, parents=True)"
   ]
  },
  {
   "cell_type": "code",
   "execution_count": 10,
   "id": "f0baa3c9",
   "metadata": {},
   "outputs": [],
   "source": [
    "device = torch.device(\"cuda:1\" if torch.cuda.is_available() else \"cpu\")\n",
    "model = load_model(device)\n",
    "show_progress_bar = False\n",
    "\n",
    "tokenizer_config = TokenizerConfig(\n",
    "    max_len=100,\n",
    "    n_decimals=2,\n",
    "    show_progress_bar=show_progress_bar\n",
    ")\n",
    "tokenizer = Tokenizer(**tokenizer_config)"
   ]
  },
  {
   "cell_type": "code",
   "execution_count": 11,
   "id": "c951fc8d",
   "metadata": {},
   "outputs": [],
   "source": [
    "spectra_paths = {\n",
    "    \"gnps\":{\n",
    "        \"orbitrap\": {\n",
    "            \"train\": (gnps.ORBITRAP_TRAIN_QUERY, gnps.ORBITRAP_TEST_REF),\n",
    "            \"test\": (gnps.ORBITRAP_TEST_QUERY, gnps.ORBITRAP_TEST_REF)\n",
    "        },\n",
    "        \"qtof\": {\n",
    "            \"test\": (gnps.QTOF_TEST_QUERY, gnps.QTOF_TEST_REF)\n",
    "        },\n",
    "        \"other\": {\n",
    "            \"test\": (gnps.OTHER_TEST_QUERY, gnps.OTHER_TEST_REF)\n",
    "        }\n",
    "    },\n",
    "}\n",
    "\n",
    "gnps_train_ref = np.load(gnps.ORBITRAP_TRAIN_REF, allow_pickle=True)"
   ]
  },
  {
   "cell_type": "code",
   "execution_count": 12,
   "id": "aabe8917",
   "metadata": {},
   "outputs": [
    {
     "name": "stdout",
     "output_type": "stream",
     "text": [
      "---------------------------------------- gnps-orbitrap-train ----------------------------------------\n",
      "0.8433973991534613\n",
      "---------------------------------------- gnps-orbitrap-test ----------------------------------------\n",
      "0.833769179697961\n",
      "---------------------------------------- gnps-qtof-test ----------------------------------------\n",
      "0.9411283553498268\n",
      "---------------------------------------- gnps-other-test ----------------------------------------\n",
      "0.924461481967707\n"
     ]
    }
   ],
   "source": [
    "for db, db_metadata in spectra_paths.items():\n",
    "    for desc, path_metadata in db_metadata.items():\n",
    "        for info, paths in path_metadata.items():\n",
    "            print(\"-\" * 40, f\"{db}-{desc}-{info}\", \"-\" * 40)\n",
    "            query_path, ref_path = paths\n",
    "            ref_spectra = np.load(ref_path, allow_pickle=True)\n",
    "            query_spectra = np.load(query_path, allow_pickle=True)\n",
    "            if db == \"gnps\" and desc == \"orbitrap\":\n",
    "                ref_spectra = np.hstack((gnps_train_ref, ref_spectra))\n",
    "        \n",
    "            query_embedding, query_smiles = embedding(model, device, tokenizer, 512, query_spectra, show_progress_bar)\n",
    "            ref_embedding, ref_smiles = embedding(model, device, tokenizer, 512, ref_spectra, show_progress_bar)\n",
    "            cosine_score = cosine_similarity(query_embedding, ref_embedding)\n",
    "            mask = np.equal(query_smiles.reshape(-1, 1), ref_smiles.reshape(-1, 1).T)\n",
    "            dir_ = ROC_DIR / f\"{db}-{desc}-{info}\"\n",
    "            dir_.mkdir(parents=True, exist_ok=True)\n",
    "            indices = np.load(dir_ / \"random_indices.npy\", allow_pickle=True).item()\n",
    "            random_rows = indices[\"row\"]\n",
    "            random_cols = indices[\"col\"]\n",
    "            fpr, tpr, _ = roc_curve(mask[random_rows, random_cols], cosine_score[random_rows, random_cols])\n",
    "            print(auc(fpr, tpr))\n",
    "            np.save(dir_ / \"MSBERT.npy\", {\"fpr\": fpr, \"tpr\": tpr})"
   ]
  }
 ],
 "metadata": {
  "kernelspec": {
   "display_name": "py312",
   "language": "python",
   "name": "python3"
  },
  "language_info": {
   "codemirror_mode": {
    "name": "ipython",
    "version": 3
   },
   "file_extension": ".py",
   "mimetype": "text/x-python",
   "name": "python",
   "nbconvert_exporter": "python",
   "pygments_lexer": "ipython3",
   "version": "3.12.9"
  }
 },
 "nbformat": 4,
 "nbformat_minor": 5
}
