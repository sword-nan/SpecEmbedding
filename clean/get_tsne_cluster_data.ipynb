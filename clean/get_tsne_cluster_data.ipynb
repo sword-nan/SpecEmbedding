{
 "cells": [
  {
   "cell_type": "code",
   "execution_count": null,
   "id": "9cda3d20",
   "metadata": {},
   "outputs": [],
   "source": [
    "import sys\n",
    "sys.path.append(\"../\")\n",
    "\n",
    "from collections import defaultdict\n",
    "\n",
    "import numpy as np\n",
    "\n",
    "from const import gnps, tsne_cluster"
   ]
  },
  {
   "cell_type": "code",
   "execution_count": 2,
   "id": "8fb019e7",
   "metadata": {},
   "outputs": [],
   "source": [
    "query = np.load(gnps.ORBITRAP_TEST_QUERY, allow_pickle=True)\n",
    "ref = np.load(gnps.ORBITRAP_TEST_REF, allow_pickle=True)\n",
    "\n",
    "spectra = np.concatenate((query, ref))\n",
    "np.save(tsne_cluster.SPECEMBEDDING_CLUSTER, spectra)"
   ]
  },
  {
   "cell_type": "code",
   "execution_count": 3,
   "id": "d67e45e7",
   "metadata": {},
   "outputs": [],
   "source": [
    "smiles2spectra = defaultdict(list)\n",
    "for s in spectra:\n",
    "    smiles = s.get(\"smiles\")\n",
    "    smiles2spectra[smiles].append(s)\n",
    "smiles2spectra = dict(smiles2spectra)\n",
    "\n",
    "smiles_seq = []\n",
    "lengths = []\n",
    "compund_names = []\n",
    "\n",
    "for k, v in smiles2spectra.items():\n",
    "    smiles_seq.append(k)\n",
    "    lengths.append(len(v))\n",
    "    compund_names.append(v[0].get(\"compound_name\"))\n",
    "\n",
    "smiles_seq = np.array(smiles_seq)\n",
    "lengths = np.array(lengths)\n",
    "compund_names = np.array(compund_names)"
   ]
  },
  {
   "cell_type": "code",
   "execution_count": 4,
   "id": "d104ec22",
   "metadata": {},
   "outputs": [
    {
     "data": {
      "text/plain": [
       "(array(['O=C1C=2C(O)=CC(O)=CC2OC(C3=CC=C(OC)C(O)=C3)C1', 'O=C(O)C(=O)C',\n",
       "        'O=CC1=CC=C(O)C(OC)=C1', 'O=C(O)C=CC(=O)O',\n",
       "        'OC(C=1C=CN=C2C=CC(OC)=CC21)C3N4CCC(C3)C(C=C)C4',\n",
       "        'O=C(O)C=CC1=CC=C(O)C(OC)=C1', 'O=C(N)NC1NC(=O)NC1=O',\n",
       "        'OC1CC2=CCC3C(CCC4(C)C3CC5OC6(OCC(C)CC6)C(C)C54)C2(C)C(O)C1',\n",
       "        'OCC1OC(OC2C(O)C(O)C(OC2OC3CCC4(C)C(CCC5(C)C4CC(O)C6C(CCC65C)C(OC7OC(CO)C(O)C(O)C7O)(C)CCC=C(C)C)C3(C)C)CO)C(O)C(O)C1O',\n",
       "        'O=C1C2=C(O)C=C(OC3OC(COC4OC(C)C(O)C(O)C4O)C(O)C(O)C3O)C=C2OC(C5=CC=C(OC)C=C5)C1'],\n",
       "       dtype='<U404'),\n",
       " array([923, 515, 446, 442, 435, 406, 361, 342, 333, 292]),\n",
       " array(['Hesperetin', 'Pyruvic acid', 'Vanillin', 'Fumaric acid',\n",
       "        'quinine', 'Ferulic acid', 'allantoin', 'ruscogenin',\n",
       "        'Ginsenoside Rd', 'Didymin'], dtype='<U389'))"
      ]
     },
     "execution_count": 4,
     "metadata": {},
     "output_type": "execute_result"
    }
   ],
   "source": [
    "indices = np.argsort(lengths)[::-1][:10]\n",
    "\n",
    "smiles_seq[indices], lengths[indices], compund_names[indices]"
   ]
  },
  {
   "cell_type": "code",
   "execution_count": 5,
   "id": "f8ec2417",
   "metadata": {},
   "outputs": [],
   "source": [
    "tsne_spectra = []\n",
    "for smiles in smiles_seq[indices]:\n",
    "    tsne_spectra.extend(smiles2spectra[smiles])\n",
    "np.save(tsne_cluster.SPECEMBEDDING_TSNE, tsne_spectra)"
   ]
  },
  {
   "cell_type": "code",
   "execution_count": 6,
   "id": "9d659eb6",
   "metadata": {},
   "outputs": [],
   "source": [
    "import numpy as np\n",
    "from matchms.importing import load_from_mgf\n",
    "\n",
    "from const import tsne_cluster\n",
    "\n",
    "tsne_data = list(load_from_mgf(str(tsne_cluster.MSBERT_TSNE_RAW)))\n",
    "cluster_data = list(load_from_mgf(str(tsne_cluster.MSBERT_CLUSTER_RAW)))\n",
    "\n",
    "np.save(tsne_cluster.MSBERT_TSNE, tsne_data)\n",
    "np.save(tsne_cluster.MSBERT_CLUSTER, cluster_data)"
   ]
  },
  {
   "cell_type": "code",
   "execution_count": 7,
   "id": "4f0ffbf1",
   "metadata": {},
   "outputs": [
    {
     "data": {
      "text/plain": [
       "(1207, 13217)"
      ]
     },
     "execution_count": 7,
     "metadata": {},
     "output_type": "execute_result"
    }
   ],
   "source": [
    "len(tsne_data), len(cluster_data)"
   ]
  }
 ],
 "metadata": {
  "kernelspec": {
   "display_name": "py312",
   "language": "python",
   "name": "python3"
  },
  "language_info": {
   "codemirror_mode": {
    "name": "ipython",
    "version": 3
   },
   "file_extension": ".py",
   "mimetype": "text/x-python",
   "name": "python",
   "nbconvert_exporter": "python",
   "pygments_lexer": "ipython3",
   "version": "3.12.9"
  }
 },
 "nbformat": 4,
 "nbformat_minor": 5
}
