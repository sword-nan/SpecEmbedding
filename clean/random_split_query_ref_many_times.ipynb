{
 "cells": [
  {
   "cell_type": "code",
   "execution_count": null,
   "metadata": {},
   "outputs": [],
   "source": [
    "import sys\n",
    "sys.path.append(\"../\")\n",
    "\n",
    "import numpy as np\n",
    "\n",
    "from const import gnps\n",
    "\n",
    "spectra_paths = {\n",
    "    \"gnps\":{\n",
    "        \"orbitrap\": {\n",
    "            \"train\": (gnps.ORBITRAP_TRAIN_QUERY, gnps.ORBITRAP_TRAIN_REF),\n",
    "            \"test\": (gnps.ORBITRAP_TEST_QUERY, gnps.ORBITRAP_TEST_REF)\n",
    "        },\n",
    "        \"qtof\": {\n",
    "            \"test\": (gnps.QTOF_TEST_QUERY, gnps.QTOF_TEST_REF)\n",
    "        },\n",
    "        \"other\": {\n",
    "            \"test\": (gnps.OTHER_TEST_QUERY, gnps.OTHER_TEST_REF)\n",
    "        }\n",
    "    },\n",
    "}\n",
    "\n",
    "gnps_orbitrap_train_query_path, gnps_orbitrap_train_ref_path = spectra_paths[\"gnps\"][\"orbitrap\"][\"train\"]\n",
    "gnps_orbitrap_test_query_path, gnps_orbitrap_test_ref_path = spectra_paths[\"gnps\"][\"orbitrap\"][\"test\"]\n",
    "\n",
    "gnps_qtof_test_query_path, gnps_qtof_test_ref_path = spectra_paths[\"gnps\"][\"qtof\"][\"test\"]\n",
    "\n",
    "gnps_other_test_query_path, gnps_other_test_ref_path = spectra_paths[\"gnps\"][\"other\"][\"test\"]"
   ]
  },
  {
   "cell_type": "code",
   "execution_count": 53,
   "metadata": {},
   "outputs": [],
   "source": [
    "gnps_orbitrap_train_query_spectra = np.load(gnps_orbitrap_train_query_path, allow_pickle=True)\n",
    "gnps_orbitrap_train_ref_spectra = np.load(gnps_orbitrap_train_ref_path, allow_pickle=True)\n",
    "gnps_orbitrap_test_query_spectra = np.load(gnps_orbitrap_test_query_path, allow_pickle=True)\n",
    "gnps_orbitrap_test_ref_spectra = np.load(gnps_orbitrap_test_ref_path, allow_pickle=True)"
   ]
  },
  {
   "cell_type": "code",
   "execution_count": 54,
   "metadata": {},
   "outputs": [],
   "source": [
    "gnps_qtof_test_query_spectra = np.load(gnps_qtof_test_query_path, allow_pickle=True)\n",
    "gnps_qtof_test_ref_spectra = np.load(gnps_qtof_test_ref_path, allow_pickle=True)"
   ]
  },
  {
   "cell_type": "code",
   "execution_count": 55,
   "metadata": {},
   "outputs": [],
   "source": [
    "gnps_other_test_query_spectra = np.load(gnps_other_test_query_path, allow_pickle=True)\n",
    "gnps_other_test_ref_spectra = np.load(gnps_other_test_ref_path, allow_pickle=True)"
   ]
  },
  {
   "cell_type": "code",
   "execution_count": 58,
   "metadata": {},
   "outputs": [],
   "source": [
    "gnps_orbitrap_train_spectra = np.concatenate((\n",
    "    gnps_orbitrap_train_query_spectra,\n",
    "    gnps_orbitrap_train_ref_spectra, \n",
    "))\n",
    "\n",
    "gnps_orbitrap_test_spectra = np.concatenate((\n",
    "    gnps_orbitrap_test_query_spectra, \n",
    "    gnps_orbitrap_test_ref_spectra\n",
    "))\n",
    "\n",
    "gnps_orbitrap_spectra = np.concatenate((\n",
    "    gnps_orbitrap_train_spectra,\n",
    "    gnps_orbitrap_test_spectra\n",
    "))\n",
    "\n",
    "gnps_qtof_spectra = np.concatenate((\n",
    "    gnps_qtof_test_query_spectra,\n",
    "    gnps_qtof_test_ref_spectra\n",
    "))\n",
    "\n",
    "gnps_other_spectra = np.concatenate((\n",
    "    gnps_other_test_query_spectra, \n",
    "    gnps_other_test_ref_spectra\n",
    "))"
   ]
  },
  {
   "cell_type": "code",
   "execution_count": 60,
   "metadata": {},
   "outputs": [
    {
     "data": {
      "text/plain": [
       "(163952, 44560, 50692)"
      ]
     },
     "execution_count": 60,
     "metadata": {},
     "output_type": "execute_result"
    }
   ],
   "source": [
    "len(gnps_orbitrap_spectra), len(gnps_qtof_spectra), len(gnps_other_spectra)"
   ]
  },
  {
   "cell_type": "code",
   "execution_count": 61,
   "metadata": {},
   "outputs": [
    {
     "data": {
      "text/plain": [
       "(6851, 122979, 1686, 32436)"
      ]
     },
     "execution_count": 61,
     "metadata": {},
     "output_type": "execute_result"
    }
   ],
   "source": [
    "len(gnps_orbitrap_train_query_spectra), len(gnps_orbitrap_train_ref_spectra), len(gnps_orbitrap_test_query_spectra), len(gnps_orbitrap_test_ref_spectra)"
   ]
  },
  {
   "cell_type": "code",
   "execution_count": 62,
   "metadata": {},
   "outputs": [
    {
     "data": {
      "text/plain": [
       "(7520, 37040, 44560)"
      ]
     },
     "execution_count": 62,
     "metadata": {},
     "output_type": "execute_result"
    }
   ],
   "source": [
    "len(gnps_qtof_test_query_spectra), len(gnps_qtof_test_ref_spectra), len(gnps_qtof_spectra)"
   ]
  },
  {
   "cell_type": "code",
   "execution_count": 63,
   "metadata": {},
   "outputs": [
    {
     "data": {
      "text/plain": [
       "(6451, 44241, 50692)"
      ]
     },
     "execution_count": 63,
     "metadata": {},
     "output_type": "execute_result"
    }
   ],
   "source": [
    "len(gnps_other_test_query_spectra), len(gnps_other_test_ref_spectra), len(gnps_other_spectra)"
   ]
  },
  {
   "cell_type": "code",
   "execution_count": null,
   "metadata": {},
   "outputs": [
    {
     "name": "stderr",
     "output_type": "stream",
     "text": [
      "seek for target_spectrums: 100%|██████████| 34122/34122 [00:00<00:00, 62479.69it/s]\n",
      "split query and reference set: 100%|██████████| 2043/2043 [00:00<00:00, 66359.71it/s]\n",
      "seek for target_spectrums: 100%|██████████| 44560/44560 [00:03<00:00, 11821.46it/s]\n",
      "split query and reference set: 100%|██████████| 19104/19104 [00:00<00:00, 220412.18it/s]\n",
      "seek for target_spectrums: 100%|██████████| 50692/50692 [00:01<00:00, 32899.28it/s]\n",
      "split query and reference set: 100%|██████████| 8387/8387 [00:00<00:00, 135536.80it/s]\n",
      "seek for target_spectrums: 100%|██████████| 3376/3376 [00:00<00:00, 81971.31it/s]\n",
      "split query and reference set: 100%|██████████| 1512/1512 [00:00<00:00, 159213.39it/s]\n",
      "seek for target_spectrums: 100%|██████████| 15655/15655 [00:00<00:00, 92611.50it/s]\n",
      "split query and reference set: 100%|██████████| 2222/2222 [00:00<00:00, 114021.11it/s]\n",
      "seek for target_spectrums: 100%|██████████| 7243/7243 [00:00<00:00, 46324.45it/s]\n",
      "split query and reference set: 100%|██████████| 4043/4043 [00:00<00:00, 103311.00it/s]\n",
      "seek for target_spectrums: 100%|██████████| 674/674 [00:00<00:00, 115165.23it/s]\n",
      "split query and reference set: 100%|██████████| 258/258 [00:00<00:00, 101285.14it/s]\n",
      "seek for target_spectrums: 100%|██████████| 34122/34122 [00:00<00:00, 75036.00it/s]\n",
      "split query and reference set: 100%|██████████| 2043/2043 [00:00<00:00, 70772.84it/s]\n",
      "seek for target_spectrums: 100%|██████████| 44560/44560 [00:03<00:00, 13002.52it/s]\n",
      "split query and reference set: 100%|██████████| 19104/19104 [00:00<00:00, 254696.36it/s]\n",
      "seek for target_spectrums: 100%|██████████| 50692/50692 [00:01<00:00, 34406.37it/s]\n",
      "split query and reference set: 100%|██████████| 8387/8387 [00:00<00:00, 134291.38it/s]\n",
      "seek for target_spectrums: 100%|██████████| 3376/3376 [00:00<00:00, 102344.46it/s]\n",
      "split query and reference set: 100%|██████████| 1512/1512 [00:00<00:00, 234524.89it/s]\n",
      "seek for target_spectrums: 100%|██████████| 15655/15655 [00:00<00:00, 100549.64it/s]\n",
      "split query and reference set: 100%|██████████| 2222/2222 [00:00<00:00, 104548.24it/s]\n",
      "seek for target_spectrums: 100%|██████████| 7243/7243 [00:00<00:00, 65697.14it/s]\n",
      "split query and reference set: 100%|██████████| 4043/4043 [00:00<00:00, 210456.98it/s]\n",
      "seek for target_spectrums: 100%|██████████| 674/674 [00:00<00:00, 139012.63it/s]\n",
      "split query and reference set: 100%|██████████| 258/258 [00:00<00:00, 128947.86it/s]\n",
      "seek for target_spectrums: 100%|██████████| 34122/34122 [00:00<00:00, 106641.44it/s]\n",
      "split query and reference set: 100%|██████████| 2043/2043 [00:00<00:00, 94986.95it/s]\n",
      "seek for target_spectrums: 100%|██████████| 44560/44560 [00:03<00:00, 13338.30it/s]\n",
      "split query and reference set: 100%|██████████| 19104/19104 [00:00<00:00, 262212.63it/s]\n",
      "seek for target_spectrums: 100%|██████████| 50692/50692 [00:01<00:00, 34962.97it/s]\n",
      "split query and reference set: 100%|██████████| 8387/8387 [00:00<00:00, 122987.09it/s]\n",
      "seek for target_spectrums: 100%|██████████| 3376/3376 [00:00<00:00, 109115.06it/s]\n",
      "split query and reference set: 100%|██████████| 1512/1512 [00:00<00:00, 251408.83it/s]\n",
      "seek for target_spectrums: 100%|██████████| 15655/15655 [00:00<00:00, 103854.38it/s]\n",
      "split query and reference set: 100%|██████████| 2222/2222 [00:00<00:00, 111382.93it/s]\n",
      "seek for target_spectrums: 100%|██████████| 7243/7243 [00:00<00:00, 64789.23it/s]\n",
      "split query and reference set: 100%|██████████| 4043/4043 [00:00<00:00, 188784.54it/s]\n",
      "seek for target_spectrums: 100%|██████████| 674/674 [00:00<00:00, 166203.83it/s]\n",
      "split query and reference set: 100%|██████████| 258/258 [00:00<00:00, 152434.21it/s]\n",
      "seek for target_spectrums: 100%|██████████| 34122/34122 [00:00<00:00, 110966.84it/s]\n",
      "split query and reference set: 100%|██████████| 2043/2043 [00:00<00:00, 94016.69it/s]\n",
      "seek for target_spectrums: 100%|██████████| 44560/44560 [00:03<00:00, 13589.50it/s]\n",
      "split query and reference set: 100%|██████████| 19104/19104 [00:00<00:00, 257423.59it/s]\n",
      "seek for target_spectrums: 100%|██████████| 50692/50692 [00:01<00:00, 36534.57it/s]\n",
      "split query and reference set: 100%|██████████| 8387/8387 [00:00<00:00, 127334.76it/s]\n",
      "seek for target_spectrums: 100%|██████████| 3376/3376 [00:00<00:00, 78742.18it/s]\n",
      "split query and reference set: 100%|██████████| 1512/1512 [00:00<00:00, 191479.10it/s]\n",
      "seek for target_spectrums: 100%|██████████| 15655/15655 [00:00<00:00, 72995.63it/s]\n",
      "split query and reference set: 100%|██████████| 2222/2222 [00:00<00:00, 78776.59it/s]\n",
      "seek for target_spectrums: 100%|██████████| 7243/7243 [00:00<00:00, 66711.63it/s]\n",
      "split query and reference set: 100%|██████████| 4043/4043 [00:00<00:00, 199137.70it/s]\n",
      "seek for target_spectrums: 100%|██████████| 674/674 [00:00<00:00, 118914.77it/s]\n",
      "split query and reference set: 100%|██████████| 258/258 [00:00<00:00, 108148.15it/s]\n",
      "seek for target_spectrums: 100%|██████████| 34122/34122 [00:00<00:00, 78724.31it/s]\n",
      "split query and reference set: 100%|██████████| 2043/2043 [00:00<00:00, 74397.57it/s]\n",
      "seek for target_spectrums: 100%|██████████| 44560/44560 [00:03<00:00, 13049.39it/s]\n",
      "split query and reference set: 100%|██████████| 19104/19104 [00:00<00:00, 216365.63it/s]\n",
      "seek for target_spectrums: 100%|██████████| 50692/50692 [00:01<00:00, 28738.69it/s]\n",
      "split query and reference set: 100%|██████████| 8387/8387 [00:00<00:00, 94945.08it/s]\n",
      "seek for target_spectrums: 100%|██████████| 3376/3376 [00:00<00:00, 106802.41it/s]\n",
      "split query and reference set: 100%|██████████| 1512/1512 [00:00<00:00, 254271.59it/s]\n",
      "seek for target_spectrums: 100%|██████████| 15655/15655 [00:00<00:00, 102802.86it/s]\n",
      "split query and reference set: 100%|██████████| 2222/2222 [00:00<00:00, 104252.35it/s]\n",
      "seek for target_spectrums: 100%|██████████| 7243/7243 [00:00<00:00, 65023.86it/s]\n",
      "split query and reference set: 100%|██████████| 4043/4043 [00:00<00:00, 207586.96it/s]\n",
      "seek for target_spectrums: 100%|██████████| 674/674 [00:00<00:00, 115664.70it/s]\n",
      "split query and reference set: 100%|██████████| 258/258 [00:00<00:00, 89803.36it/s]\n",
      "seek for target_spectrums: 100%|██████████| 34122/34122 [00:00<00:00, 76022.05it/s]\n",
      "split query and reference set: 100%|██████████| 2043/2043 [00:00<00:00, 75240.92it/s]\n",
      "seek for target_spectrums: 100%|██████████| 44560/44560 [00:03<00:00, 12991.09it/s]\n",
      "split query and reference set: 100%|██████████| 19104/19104 [00:00<00:00, 228952.80it/s]\n",
      "seek for target_spectrums: 100%|██████████| 50692/50692 [00:01<00:00, 35808.60it/s]\n",
      "split query and reference set: 100%|██████████| 8387/8387 [00:00<00:00, 130528.75it/s]\n",
      "seek for target_spectrums: 100%|██████████| 3376/3376 [00:00<00:00, 105424.38it/s]\n",
      "split query and reference set: 100%|██████████| 1512/1512 [00:00<00:00, 273907.82it/s]\n",
      "seek for target_spectrums: 100%|██████████| 15655/15655 [00:00<00:00, 102325.45it/s]\n",
      "split query and reference set: 100%|██████████| 2222/2222 [00:00<00:00, 107307.27it/s]\n",
      "seek for target_spectrums: 100%|██████████| 7243/7243 [00:00<00:00, 62304.97it/s]\n",
      "split query and reference set: 100%|██████████| 4043/4043 [00:00<00:00, 200304.41it/s]\n",
      "seek for target_spectrums: 100%|██████████| 674/674 [00:00<00:00, 167236.21it/s]\n",
      "split query and reference set: 100%|██████████| 258/258 [00:00<00:00, 140774.09it/s]\n",
      "seek for target_spectrums: 100%|██████████| 34122/34122 [00:00<00:00, 109484.76it/s]\n",
      "split query and reference set: 100%|██████████| 2043/2043 [00:00<00:00, 97414.43it/s]\n",
      "seek for target_spectrums: 100%|██████████| 44560/44560 [00:03<00:00, 14077.12it/s]\n",
      "split query and reference set: 100%|██████████| 19104/19104 [00:00<00:00, 254068.06it/s]\n",
      "seek for target_spectrums: 100%|██████████| 50692/50692 [00:01<00:00, 35490.54it/s]\n",
      "split query and reference set: 100%|██████████| 8387/8387 [00:00<00:00, 132665.16it/s]\n",
      "seek for target_spectrums: 100%|██████████| 3376/3376 [00:00<00:00, 105881.60it/s]\n",
      "split query and reference set: 100%|██████████| 1512/1512 [00:00<00:00, 275981.88it/s]\n",
      "seek for target_spectrums: 100%|██████████| 15655/15655 [00:00<00:00, 102037.47it/s]\n",
      "split query and reference set: 100%|██████████| 2222/2222 [00:00<00:00, 104365.60it/s]\n",
      "seek for target_spectrums: 100%|██████████| 7243/7243 [00:00<00:00, 65661.64it/s]\n",
      "split query and reference set: 100%|██████████| 4043/4043 [00:00<00:00, 202203.22it/s]\n",
      "seek for target_spectrums: 100%|██████████| 674/674 [00:00<00:00, 163304.31it/s]\n",
      "split query and reference set: 100%|██████████| 258/258 [00:00<00:00, 153016.18it/s]\n",
      "seek for target_spectrums: 100%|██████████| 34122/34122 [00:00<00:00, 108920.99it/s]\n",
      "split query and reference set: 100%|██████████| 2043/2043 [00:00<00:00, 90461.47it/s]\n",
      "seek for target_spectrums: 100%|██████████| 44560/44560 [00:03<00:00, 14015.93it/s]\n",
      "split query and reference set: 100%|██████████| 19104/19104 [00:00<00:00, 269486.32it/s]\n",
      "seek for target_spectrums: 100%|██████████| 50692/50692 [00:01<00:00, 36237.71it/s]\n",
      "split query and reference set: 100%|██████████| 8387/8387 [00:00<00:00, 138524.59it/s]\n",
      "seek for target_spectrums: 100%|██████████| 3376/3376 [00:00<00:00, 105237.12it/s]\n",
      "split query and reference set: 100%|██████████| 1512/1512 [00:00<00:00, 239466.36it/s]\n",
      "seek for target_spectrums: 100%|██████████| 15655/15655 [00:00<00:00, 102056.03it/s]\n",
      "split query and reference set: 100%|██████████| 2222/2222 [00:00<00:00, 101474.73it/s]\n",
      "seek for target_spectrums: 100%|██████████| 7243/7243 [00:00<00:00, 62428.40it/s]\n",
      "split query and reference set: 100%|██████████| 4043/4043 [00:00<00:00, 195246.75it/s]\n",
      "seek for target_spectrums: 100%|██████████| 674/674 [00:00<00:00, 112074.25it/s]\n",
      "split query and reference set: 100%|██████████| 258/258 [00:00<00:00, 37606.62it/s]\n",
      "seek for target_spectrums: 100%|██████████| 34122/34122 [00:00<00:00, 74963.88it/s]\n",
      "split query and reference set: 100%|██████████| 2043/2043 [00:00<00:00, 74136.88it/s]\n",
      "seek for target_spectrums: 100%|██████████| 44560/44560 [00:03<00:00, 12209.38it/s]\n",
      "split query and reference set: 100%|██████████| 19104/19104 [00:00<00:00, 256499.01it/s]\n",
      "seek for target_spectrums: 100%|██████████| 50692/50692 [00:01<00:00, 34856.22it/s]\n",
      "split query and reference set: 100%|██████████| 8387/8387 [00:00<00:00, 139587.67it/s]\n",
      "seek for target_spectrums: 100%|██████████| 3376/3376 [00:00<00:00, 98427.45it/s]\n",
      "split query and reference set: 100%|██████████| 1512/1512 [00:00<00:00, 261409.22it/s]\n",
      "seek for target_spectrums: 100%|██████████| 15655/15655 [00:00<00:00, 104718.80it/s]\n",
      "split query and reference set: 100%|██████████| 2222/2222 [00:00<00:00, 88480.54it/s]\n",
      "seek for target_spectrums: 100%|██████████| 7243/7243 [00:00<00:00, 67411.23it/s]\n",
      "split query and reference set: 100%|██████████| 4043/4043 [00:00<00:00, 202244.22it/s]\n",
      "seek for target_spectrums: 100%|██████████| 674/674 [00:00<00:00, 163862.79it/s]\n",
      "split query and reference set: 100%|██████████| 258/258 [00:00<00:00, 154281.50it/s]\n",
      "seek for target_spectrums: 100%|██████████| 34122/34122 [00:00<00:00, 113259.00it/s]\n",
      "split query and reference set: 100%|██████████| 2043/2043 [00:00<00:00, 97010.79it/s]\n",
      "seek for target_spectrums: 100%|██████████| 44560/44560 [00:03<00:00, 13881.45it/s]\n",
      "split query and reference set: 100%|██████████| 19104/19104 [00:00<00:00, 269135.12it/s]\n",
      "seek for target_spectrums: 100%|██████████| 50692/50692 [00:01<00:00, 34164.10it/s]\n",
      "split query and reference set: 100%|██████████| 8387/8387 [00:00<00:00, 137287.65it/s]\n",
      "seek for target_spectrums: 100%|██████████| 3376/3376 [00:00<00:00, 91268.09it/s]\n",
      "split query and reference set: 100%|██████████| 1512/1512 [00:00<00:00, 208673.21it/s]\n",
      "seek for target_spectrums: 100%|██████████| 15655/15655 [00:00<00:00, 88630.40it/s]\n",
      "split query and reference set: 100%|██████████| 2222/2222 [00:00<00:00, 112542.34it/s]\n",
      "seek for target_spectrums: 100%|██████████| 7243/7243 [00:00<00:00, 66994.39it/s]\n",
      "split query and reference set: 100%|██████████| 4043/4043 [00:00<00:00, 142397.69it/s]\n",
      "seek for target_spectrums: 100%|██████████| 674/674 [00:00<00:00, 163900.79it/s]\n",
      "split query and reference set: 100%|██████████| 258/258 [00:00<00:00, 158252.48it/s]\n"
     ]
    }
   ],
   "source": [
    "from utils import get_ref_query, get_unique_smiles\n",
    "\n",
    "replica_suffix = \"-replication-{}\"\n",
    "\n",
    "spectra_seq = [\n",
    "    gnps_orbitrap_test_spectra,\n",
    "    gnps_qtof_spectra,\n",
    "    gnps_other_spectra,\n",
    "]\n",
    "\n",
    "paths = [\n",
    "    (gnps.ORBITRAP_TEST_QUERY, gnps.ORBITRAP_TEST_REF), \n",
    "    (gnps.QTOF_TEST_QUERY, gnps.QTOF_TEST_REF),\n",
    "    (gnps.OTHER_TEST_QUERY, gnps.OTHER_TEST_REF),\n",
    "]\n",
    "\n",
    "for i in range(10):\n",
    "    for spectra, (query_path, ref_path) in zip(spectra_seq, paths):\n",
    "        query_spectra, ref_spectra = get_ref_query(spectra, get_unique_smiles(spectra))\n",
    "        replica_query_path = query_path.with_stem(query_path.stem + replica_suffix.format(i + 1))\n",
    "        replica_ref_path = ref_path.with_stem(ref_path.stem + replica_suffix.format(i + 1))\n",
    "        np.save(replica_query_path, query_spectra)\n",
    "        np.save(replica_ref_path, ref_spectra)"
   ]
  }
 ],
 "metadata": {
  "kernelspec": {
   "display_name": "py312",
   "language": "python",
   "name": "python3"
  },
  "language_info": {
   "codemirror_mode": {
    "name": "ipython",
    "version": 3
   },
   "file_extension": ".py",
   "mimetype": "text/x-python",
   "name": "python",
   "nbconvert_exporter": "python",
   "pygments_lexer": "ipython3",
   "version": "3.12.9"
  }
 },
 "nbformat": 4,
 "nbformat_minor": 2
}
