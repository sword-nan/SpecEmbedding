{
 "cells": [
  {
   "cell_type": "code",
   "execution_count": null,
   "id": "9d1f2fdf",
   "metadata": {},
   "outputs": [],
   "source": [
    "import sys\n",
    "sys.path.append(\"../\")\n",
    "\n",
    "import numpy as np\n",
    "\n",
    "from utils import count_annotations\n",
    "from const import gnps, mona"
   ]
  },
  {
   "cell_type": "code",
   "execution_count": 3,
   "id": "e03a9fda",
   "metadata": {},
   "outputs": [
    {
     "name": "stderr",
     "output_type": "stream",
     "text": [
      "100%|██████████| 6851/6851 [00:00<00:00, 211498.01it/s]\n"
     ]
    },
    {
     "name": "stdout",
     "output_type": "stream",
     "text": [
      "train_query\n",
      "compound_name: 6851 -- unique: 6784\n",
      "inchi: 6851 -- unique: 6251\n",
      "smiles: 6851 -- unique: 6851\n",
      "inchikey: 6851 -- unique: 5902\n"
     ]
    },
    {
     "name": "stderr",
     "output_type": "stream",
     "text": [
      "100%|██████████| 122979/122979 [00:00<00:00, 213564.98it/s]\n"
     ]
    },
    {
     "name": "stdout",
     "output_type": "stream",
     "text": [
      "train_ref\n",
      "compound_name: 122979 -- unique: 12380\n",
      "inchi: 122979 -- unique: 7400\n",
      "smiles: 122979 -- unique: 8171\n",
      "inchikey: 122979 -- unique: 6879\n"
     ]
    },
    {
     "name": "stderr",
     "output_type": "stream",
     "text": [
      "100%|██████████| 1686/1686 [00:00<00:00, 184458.79it/s]\n"
     ]
    },
    {
     "name": "stdout",
     "output_type": "stream",
     "text": [
      "test_query\n",
      "compound_name: 1686 -- unique: 1682\n",
      "inchi: 1686 -- unique: 1641\n",
      "smiles: 1686 -- unique: 1686\n",
      "inchikey: 1686 -- unique: 1614\n"
     ]
    },
    {
     "name": "stderr",
     "output_type": "stream",
     "text": [
      "100%|██████████| 32436/32436 [00:00<00:00, 224505.38it/s]"
     ]
    },
    {
     "name": "stdout",
     "output_type": "stream",
     "text": [
      "test_ref\n",
      "compound_name: 32436 -- unique: 3142\n",
      "inchi: 32436 -- unique: 1990\n",
      "smiles: 32436 -- unique: 2043\n",
      "inchikey: 32436 -- unique: 1938\n"
     ]
    },
    {
     "name": "stderr",
     "output_type": "stream",
     "text": [
      "\n"
     ]
    }
   ],
   "source": [
    "for path in [gnps.ORBITRAP_TRAIN_QUERY, gnps.ORBITRAP_TRAIN_REF, gnps.ORBITRAP_TEST_QUERY, gnps.ORBITRAP_TEST_REF]:\n",
    "    spectra = np.load(path, allow_pickle=True)\n",
    "    count_annotations(spectra, path.stem)"
   ]
  },
  {
   "cell_type": "code",
   "execution_count": 4,
   "id": "04c895b4",
   "metadata": {},
   "outputs": [
    {
     "name": "stderr",
     "output_type": "stream",
     "text": [
      "100%|██████████| 7520/7520 [00:00<00:00, 150276.18it/s]\n"
     ]
    },
    {
     "name": "stdout",
     "output_type": "stream",
     "text": [
      "test_query\n",
      "compound_name: 7342 -- unique: 7091\n",
      "inchi: 7520 -- unique: 6367\n",
      "smiles: 7520 -- unique: 7520\n",
      "inchikey: 7520 -- unique: 5718\n"
     ]
    },
    {
     "name": "stderr",
     "output_type": "stream",
     "text": [
      "100%|██████████| 37040/37040 [00:00<00:00, 208708.84it/s]\n"
     ]
    },
    {
     "name": "stdout",
     "output_type": "stream",
     "text": [
      "test_ref\n",
      "compound_name: 35961 -- unique: 18820\n",
      "inchi: 37040 -- unique: 15981\n",
      "smiles: 37040 -- unique: 19104\n",
      "inchikey: 37040 -- unique: 14136\n"
     ]
    }
   ],
   "source": [
    "for path in [gnps.QTOF_TEST_QUERY, gnps.QTOF_TEST_REF]:\n",
    "    spectra = np.load(path, allow_pickle=True)\n",
    "    count_annotations(spectra, path.stem)"
   ]
  },
  {
   "cell_type": "code",
   "execution_count": 5,
   "id": "d0653c04",
   "metadata": {},
   "outputs": [
    {
     "name": "stderr",
     "output_type": "stream",
     "text": [
      "100%|██████████| 6451/6451 [00:00<00:00, 128101.43it/s]\n"
     ]
    },
    {
     "name": "stdout",
     "output_type": "stream",
     "text": [
      "test_query\n",
      "compound_name: 6447 -- unique: 6091\n",
      "inchi: 6451 -- unique: 5328\n",
      "smiles: 6451 -- unique: 6451\n",
      "inchikey: 6451 -- unique: 4911\n"
     ]
    },
    {
     "name": "stderr",
     "output_type": "stream",
     "text": [
      "100%|██████████| 44241/44241 [00:00<00:00, 148044.77it/s]\n"
     ]
    },
    {
     "name": "stdout",
     "output_type": "stream",
     "text": [
      "test_ref\n",
      "compound_name: 44208 -- unique: 8890\n",
      "inchi: 44241 -- unique: 6676\n",
      "smiles: 44241 -- unique: 8387\n",
      "inchikey: 44241 -- unique: 6072\n"
     ]
    }
   ],
   "source": [
    "for path in [gnps.OTHER_TEST_QUERY, gnps.OTHER_TEST_REF]:\n",
    "    spectra = np.load(path, allow_pickle=True)\n",
    "    count_annotations(spectra, path.stem)"
   ]
  }
 ],
 "metadata": {
  "kernelspec": {
   "display_name": "py312",
   "language": "python",
   "name": "python3"
  },
  "language_info": {
   "codemirror_mode": {
    "name": "ipython",
    "version": 3
   },
   "file_extension": ".py",
   "mimetype": "text/x-python",
   "name": "python",
   "nbconvert_exporter": "python",
   "pygments_lexer": "ipython3",
   "version": "3.12.9"
  }
 },
 "nbformat": 4,
 "nbformat_minor": 5
}
