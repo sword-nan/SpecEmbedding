{
 "cells": [
  {
   "cell_type": "code",
   "execution_count": 12,
   "id": "4f6e1934",
   "metadata": {},
   "outputs": [],
   "source": [
    "import sys\n",
    "sys.path.append(\"../\")\n",
    "from pathlib import Path\n",
    "\n",
    "import numpy as np\n",
    "\n",
    "from const import gnps, mona\n",
    "\n",
    "mtbl_dir = Path(\"/data1/xp/data/MSBert/MTBLS1572\")"
   ]
  },
  {
   "cell_type": "code",
   "execution_count": 14,
   "id": "2bd84727",
   "metadata": {},
   "outputs": [
    {
     "name": "stdout",
     "output_type": "stream",
     "text": [
      "dict_keys(['spectra'])\n",
      "dict_keys(['spectra'])\n",
      "dict_keys(['spectra'])\n",
      "dict_keys(['spectra'])\n",
      "dict_keys(['spectra'])\n",
      "dict_keys(['spectra'])\n",
      "dict_keys(['spectra'])\n",
      "dict_keys(['spectra'])\n",
      "dict_keys(['spectra'])\n",
      "dict_keys(['spectra'])\n",
      "dict_keys(['spectra'])\n",
      "dict_keys(['spectra'])\n",
      "dict_keys(['spectra'])\n",
      "dict_keys(['spectra'])\n",
      "dict_keys(['spectra'])\n",
      "dict_keys(['spectra'])\n",
      "dict_keys(['spectra'])\n",
      "dict_keys(['spectra'])\n",
      "dict_keys(['spectra'])\n",
      "dict_keys(['spectra'])\n",
      "dict_keys(['spectra'])\n",
      "dict_keys(['spectra'])\n",
      "dict_keys(['spectra'])\n",
      "dict_keys(['spectra'])\n",
      "dict_keys(['spectra'])\n",
      "dict_keys(['spectra'])\n",
      "dict_keys(['spectra'])\n",
      "dict_keys(['spectra'])\n",
      "dict_keys(['spectra'])\n",
      "dict_keys(['spectra'])\n",
      "dict_keys(['spectra'])\n",
      "dict_keys(['spectra'])\n",
      "dict_keys(['spectra'])\n",
      "dict_keys(['spectra'])\n",
      "dict_keys(['spectra'])\n",
      "dict_keys(['spectra'])\n",
      "dict_keys(['spectra'])\n",
      "dict_keys(['spectra'])\n",
      "dict_keys(['spectra'])\n",
      "dict_keys(['spectra'])\n",
      "dict_keys(['spectra'])\n",
      "dict_keys(['spectra'])\n",
      "dict_keys(['spectra'])\n",
      "dict_keys(['spectra'])\n",
      "dict_keys(['spectra'])\n",
      "dict_keys(['spectra'])\n",
      "dict_keys(['spectra'])\n",
      "dict_keys(['spectra'])\n",
      "dict_keys(['spectra'])\n",
      "dict_keys(['spectra'])\n",
      "dict_keys(['spectra'])\n",
      "dict_keys(['spectra'])\n",
      "dict_keys(['spectra'])\n",
      "dict_keys(['spectra'])\n",
      "dict_keys(['spectra'])\n",
      "dict_keys(['spectra'])\n",
      "dict_keys(['spectra'])\n",
      "dict_keys(['spectra'])\n",
      "dict_keys(['spectra'])\n",
      "dict_keys(['spectra'])\n",
      "dict_keys(['spectra'])\n",
      "dict_keys(['spectra'])\n",
      "dict_keys(['spectra'])\n",
      "dict_keys(['spectra'])\n",
      "dict_keys(['spectra'])\n",
      "dict_keys(['spectra'])\n",
      "dict_keys(['spectra'])\n",
      "dict_keys(['spectra'])\n",
      "dict_keys(['spectra'])\n",
      "dict_keys(['spectra'])\n",
      "dict_keys(['spectra'])\n",
      "dict_keys(['spectra'])\n",
      "dict_keys(['spectra'])\n",
      "dict_keys(['spectra'])\n",
      "dict_keys(['spectra'])\n",
      "dict_keys(['spectra'])\n",
      "dict_keys(['spectra'])\n"
     ]
    }
   ],
   "source": [
    "from matchms.exporting import save_as_mgf\n",
    "\n",
    "dirs = [gnps.ORBITRAP_DIR, gnps.QTOF_DIR, gnps.OTHER_DIR, mona.ORBITRAP_DIR, mona.QTOF_DIR, mtbl_dir]\n",
    "\n",
    "for dir in dirs:\n",
    "    for f in dir.glob(\"*.npy\"):\n",
    "        spectra = np.load(f, allow_pickle=True)\n",
    "        save_path = f.with_suffix(\".mgf\")\n",
    "        if save_path.exists():\n",
    "            save_path.unlink(missing_ok=True)\n",
    "        save_as_mgf(list(spectra), str(save_path))"
   ]
  },
  {
   "cell_type": "code",
   "execution_count": 1,
   "id": "3bec32d1",
   "metadata": {},
   "outputs": [
    {
     "name": "stdout",
     "output_type": "stream",
     "text": [
      "dict_keys(['spectra'])\n",
      "dict_keys(['spectra'])\n"
     ]
    }
   ],
   "source": [
    "from pathlib import Path\n",
    "\n",
    "import numpy as np\n",
    "from matchms.exporting import save_as_mgf\n",
    "\n",
    "dir_ = Path(\"../tsne_cluster_data\")\n",
    "\n",
    "for f in dir_.glob(\"*.npy\"):\n",
    "    spectra = np.load(f, allow_pickle=True)\n",
    "    path = f.with_suffix(\".mgf\")\n",
    "    save_as_mgf(list(spectra), str(path))"
   ]
  }
 ],
 "metadata": {
  "kernelspec": {
   "display_name": "py312",
   "language": "python",
   "name": "python3"
  },
  "language_info": {
   "codemirror_mode": {
    "name": "ipython",
    "version": 3
   },
   "file_extension": ".py",
   "mimetype": "text/x-python",
   "name": "python",
   "nbconvert_exporter": "python",
   "pygments_lexer": "ipython3",
   "version": "3.12.9"
  }
 },
 "nbformat": 4,
 "nbformat_minor": 5
}
