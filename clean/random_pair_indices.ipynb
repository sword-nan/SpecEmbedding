{
 "cells": [
  {
   "cell_type": "code",
   "execution_count": 19,
   "id": "ef4ed7ce",
   "metadata": {},
   "outputs": [],
   "source": [
    "import sys\n",
    "sys.path.append(\"../\")\n",
    "from pathlib import Path\n",
    "\n",
    "import numpy as np\n",
    "\n",
    "from const import gnps\n",
    "\n",
    "DIR = Path(\"/data1/xp/code/specEmbedding/score_distribution/pair/\")"
   ]
  },
  {
   "cell_type": "code",
   "execution_count": 20,
   "id": "a7981b2f",
   "metadata": {},
   "outputs": [],
   "source": [
    "query = np.load(gnps.ORBITRAP_TEST_QUERY, allow_pickle=True)\n",
    "ref = np.load(gnps.ORBITRAP_TEST_REF, allow_pickle=True)\n",
    "\n",
    "query_smiles = np.array([\n",
    "    s.get(\"smiles\")\n",
    "    for s in query\n",
    "])\n",
    "\n",
    "ref_smiles = np.array([\n",
    "    s.get(\"smiles\")\n",
    "    for s in ref\n",
    "])\n",
    "\n",
    "mask = np.equal(query_smiles.reshape(-1, 1), ref_smiles.reshape(-1, 1).T)\n",
    "positive_rows, positive_cols = np.where(mask)\n",
    "negative_rows, negative_cols = np.where(~mask)\n",
    "indices = np.random.choice(len(negative_rows), size=len(positive_rows), replace=False)\n",
    "negative_rows = negative_rows[indices]\n",
    "negative_cols = negative_cols[indices]"
   ]
  },
  {
   "cell_type": "code",
   "execution_count": 21,
   "id": "ef638436",
   "metadata": {},
   "outputs": [],
   "source": [
    "np.save(DIR / \"positive_indices.npy\", {\"row\": positive_rows, \"col\": positive_cols})\n",
    "np.save(DIR / \"negative_indices.npy\", {\"row\": negative_rows, \"col\": negative_cols})"
   ]
  }
 ],
 "metadata": {
  "kernelspec": {
   "display_name": "py312",
   "language": "python",
   "name": "python3"
  },
  "language_info": {
   "codemirror_mode": {
    "name": "ipython",
    "version": 3
   },
   "file_extension": ".py",
   "mimetype": "text/x-python",
   "name": "python",
   "nbconvert_exporter": "python",
   "pygments_lexer": "ipython3",
   "version": "3.12.9"
  }
 },
 "nbformat": 4,
 "nbformat_minor": 5
}
