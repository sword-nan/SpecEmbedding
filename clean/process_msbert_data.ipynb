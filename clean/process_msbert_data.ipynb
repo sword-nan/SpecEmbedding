{
 "cells": [
  {
   "cell_type": "code",
   "execution_count": 1,
   "metadata": {},
   "outputs": [],
   "source": [
    "import numpy as np\n",
    "from matchms.importing import load_from_mgf\n",
    "\n",
    "gnps_orbitrap_train_ref = list(load_from_mgf(\"/data1/xp/data/MSBert/GNPS/Orbitrap_train_ref_cleaned.mgf\"))\n",
    "gnps_orbitrap_train_query = list(load_from_mgf(\"/data1/xp/data/MSBert/GNPS/Orbitrap_train_query_cleaned.mgf\"))\n",
    "gnps_orbitrap_test_query = list(load_from_mgf(\"/data1/xp/data/MSBert/GNPS/Orbitrap_test_query_cleaned.mgf\"))\n",
    "gnps_orbitrap_test_ref = list(load_from_mgf(\"/data1/xp/data/MSBert/GNPS/Orbitrap_test_ref_cleaned.mgf\"))\n",
    "gnps_orbitrap = gnps_orbitrap_train_ref + gnps_orbitrap_train_query + gnps_orbitrap_test_query + gnps_orbitrap_test_ref\n",
    "np.save(\"/data1/xp/data/MSBert/GNPS/Orbitrap/all.npy\", gnps_orbitrap)"
   ]
  },
  {
   "cell_type": "code",
   "execution_count": 2,
   "metadata": {},
   "outputs": [],
   "source": [
    "gnps_qtof = list(load_from_mgf(\"/data1/xp/data/MSBert/GNPS/QTOF_cleaned.mgf\"))\n",
    "gnps_other = list(load_from_mgf(\"/data1/xp/data/MSBert/GNPS/Other_cleaned.mgf\"))\n",
    "\n",
    "np.save(\"/data1/xp/data/MSBert/GNPS/QTOF/all.npy\", gnps_qtof)\n",
    "np.save(\"/data1/xp/data/MSBert/GNPS/Other/all.npy\", gnps_other)"
   ]
  },
  {
   "cell_type": "code",
   "execution_count": 3,
   "metadata": {},
   "outputs": [
    {
     "name": "stdout",
     "output_type": "stream",
     "text": [
      "2025-04-08 19:05:32,127:WARNING:matchms:add_retention:None can't be converted to float.\n",
      "2025-04-08 19:05:32,129:WARNING:matchms:add_retention:None can't be converted to float.\n",
      "2025-04-08 19:05:32,131:WARNING:matchms:add_retention:None can't be converted to float.\n",
      "2025-04-08 19:05:32,133:WARNING:matchms:add_retention:None can't be converted to float.\n",
      "2025-04-08 19:05:32,134:WARNING:matchms:add_retention:None can't be converted to float.\n",
      "2025-04-08 19:05:32,135:WARNING:matchms:add_retention:None can't be converted to float.\n",
      "2025-04-08 19:05:32,137:WARNING:matchms:add_retention:None can't be converted to float.\n",
      "2025-04-08 19:05:32,138:WARNING:matchms:add_retention:None can't be converted to float.\n",
      "2025-04-08 19:05:32,140:WARNING:matchms:add_retention:None can't be converted to float.\n",
      "2025-04-08 19:05:32,141:WARNING:matchms:add_retention:None can't be converted to float.\n",
      "2025-04-08 19:05:32,142:WARNING:matchms:add_retention:None can't be converted to float.\n",
      "2025-04-08 19:05:32,143:WARNING:matchms:add_retention:None can't be converted to float.\n",
      "2025-04-08 19:05:32,145:WARNING:matchms:add_retention:None can't be converted to float.\n",
      "2025-04-08 19:05:32,146:WARNING:matchms:add_retention:None can't be converted to float.\n",
      "2025-04-08 19:05:32,147:WARNING:matchms:add_retention:None can't be converted to float.\n",
      "2025-04-08 19:05:32,148:WARNING:matchms:add_retention:None can't be converted to float.\n",
      "2025-04-08 19:05:32,150:WARNING:matchms:add_retention:None can't be converted to float.\n",
      "2025-04-08 19:05:32,151:WARNING:matchms:add_retention:None can't be converted to float.\n",
      "2025-04-08 19:05:32,152:WARNING:matchms:add_retention:None can't be converted to float.\n",
      "2025-04-08 19:05:32,153:WARNING:matchms:add_retention:None can't be converted to float.\n",
      "2025-04-08 19:05:32,154:WARNING:matchms:add_retention:None can't be converted to float.\n",
      "2025-04-08 19:05:32,155:WARNING:matchms:add_retention:None can't be converted to float.\n",
      "2025-04-08 19:05:32,157:WARNING:matchms:add_retention:None can't be converted to float.\n",
      "2025-04-08 19:05:32,158:WARNING:matchms:add_retention:None can't be converted to float.\n",
      "2025-04-08 19:05:32,159:WARNING:matchms:add_retention:None can't be converted to float.\n",
      "2025-04-08 19:05:32,161:WARNING:matchms:add_retention:None can't be converted to float.\n",
      "2025-04-08 19:05:32,162:WARNING:matchms:add_retention:None can't be converted to float.\n",
      "2025-04-08 19:05:32,163:WARNING:matchms:add_retention:None can't be converted to float.\n",
      "2025-04-08 19:05:32,164:WARNING:matchms:add_retention:None can't be converted to float.\n",
      "2025-04-08 19:05:32,165:WARNING:matchms:add_retention:None can't be converted to float.\n",
      "2025-04-08 19:05:32,166:WARNING:matchms:add_retention:None can't be converted to float.\n",
      "2025-04-08 19:05:32,167:WARNING:matchms:add_retention:None can't be converted to float.\n",
      "2025-04-08 19:05:32,168:WARNING:matchms:add_retention:None can't be converted to float.\n",
      "2025-04-08 19:05:32,169:WARNING:matchms:add_retention:None can't be converted to float.\n",
      "2025-04-08 19:05:32,170:WARNING:matchms:add_retention:None can't be converted to float.\n",
      "2025-04-08 19:05:32,171:WARNING:matchms:add_retention:None can't be converted to float.\n",
      "2025-04-08 19:05:32,172:WARNING:matchms:add_retention:None can't be converted to float.\n",
      "2025-04-08 19:05:32,173:WARNING:matchms:add_retention:None can't be converted to float.\n",
      "2025-04-08 19:05:32,174:WARNING:matchms:add_retention:None can't be converted to float.\n",
      "2025-04-08 19:05:32,175:WARNING:matchms:add_retention:None can't be converted to float.\n",
      "2025-04-08 19:05:32,177:WARNING:matchms:add_retention:None can't be converted to float.\n",
      "2025-04-08 19:05:32,179:WARNING:matchms:add_retention:None can't be converted to float.\n",
      "2025-04-08 19:05:32,180:WARNING:matchms:add_retention:None can't be converted to float.\n",
      "2025-04-08 19:05:32,181:WARNING:matchms:add_retention:None can't be converted to float.\n",
      "2025-04-08 19:05:32,187:WARNING:matchms:add_retention:None can't be converted to float.\n",
      "2025-04-08 19:05:32,188:WARNING:matchms:add_retention:None can't be converted to float.\n",
      "2025-04-08 19:05:32,189:WARNING:matchms:add_retention:None can't be converted to float.\n"
     ]
    }
   ],
   "source": [
    "from matchms.importing import load_from_msp\n",
    "\n",
    "mona_orbitrap = list(load_from_msp(\"/data1/xp/data/MSBert/MoNA/MoNA_Orbitrap_cleaned.msp\"))\n",
    "mona_qtof = list(load_from_msp(\"/data1/xp/data/MSBert/MoNA/MoNA_QTOF_cleaned.msp\"))"
   ]
  },
  {
   "cell_type": "code",
   "execution_count": 4,
   "metadata": {},
   "outputs": [
    {
     "name": "stderr",
     "output_type": "stream",
     "text": [
      "100%|██████████| 163952/163952 [00:00<00:00, 213790.60it/s]\n"
     ]
    },
    {
     "name": "stdout",
     "output_type": "stream",
     "text": [
      "gnps orbitrap\n",
      "compound_name: 163952 -- unique: 16626\n",
      "inchi: 163952 -- unique: 9082\n",
      "smiles: 163952 -- unique: 10214\n",
      "inchikey: 163952 -- unique: 8363\n"
     ]
    },
    {
     "name": "stderr",
     "output_type": "stream",
     "text": [
      "100%|██████████| 44560/44560 [00:00<00:00, 217085.69it/s]\n"
     ]
    },
    {
     "name": "stdout",
     "output_type": "stream",
     "text": [
      "gnps qtof\n",
      "compound_name: 43303 -- unique: 19670\n",
      "inchi: 44560 -- unique: 16074\n",
      "smiles: 44560 -- unique: 19104\n",
      "inchikey: 44560 -- unique: 14137\n"
     ]
    },
    {
     "name": "stderr",
     "output_type": "stream",
     "text": [
      "100%|██████████| 50692/50692 [00:00<00:00, 217157.11it/s]\n"
     ]
    },
    {
     "name": "stdout",
     "output_type": "stream",
     "text": [
      "gnps other\n",
      "compound_name: 50655 -- unique: 9081\n",
      "inchi: 50692 -- unique: 6678\n",
      "smiles: 50692 -- unique: 8387\n",
      "inchikey: 50692 -- unique: 6072\n"
     ]
    },
    {
     "name": "stderr",
     "output_type": "stream",
     "text": [
      "100%|██████████| 19031/19031 [00:00<00:00, 191419.18it/s]\n"
     ]
    },
    {
     "name": "stdout",
     "output_type": "stream",
     "text": [
      "mona orbitrap\n",
      "compound_name: 19031 -- unique: 3711\n",
      "inchi: 19031 -- unique: 3090\n",
      "smiles: 19031 -- unique: 3734\n",
      "inchikey: 19031 -- unique: 2955\n"
     ]
    },
    {
     "name": "stderr",
     "output_type": "stream",
     "text": [
      "100%|██████████| 7917/7917 [00:00<00:00, 195545.15it/s]"
     ]
    },
    {
     "name": "stdout",
     "output_type": "stream",
     "text": [
      "mona qtof\n",
      "compound_name: 7917 -- unique: 4361\n",
      "inchi: 7917 -- unique: 4197\n",
      "smiles: 7917 -- unique: 4301\n",
      "inchikey: 7917 -- unique: 4066\n"
     ]
    },
    {
     "name": "stderr",
     "output_type": "stream",
     "text": [
      "\n"
     ]
    }
   ],
   "source": [
    "from utils import count_annotations\n",
    "\n",
    "count_annotations(gnps_orbitrap, \"gnps orbitrap\")\n",
    "count_annotations(gnps_qtof, \"gnps qtof\")\n",
    "count_annotations(gnps_other, \"gnps other\")\n",
    "count_annotations(mona_orbitrap, \"mona orbitrap\")\n",
    "count_annotations(mona_qtof, \"mona qtof\")"
   ]
  },
  {
   "cell_type": "code",
   "execution_count": 5,
   "metadata": {},
   "outputs": [],
   "source": [
    "import numpy as np\n",
    "\n",
    "def get_compounds(spectra):\n",
    "    smiles_seq = []\n",
    "    for s in spectra:\n",
    "        smiles = s.get(\"smiles\")\n",
    "        smiles_seq.append(smiles)\n",
    "    return np.unique(smiles_seq)"
   ]
  },
  {
   "cell_type": "code",
   "execution_count": 6,
   "metadata": {},
   "outputs": [],
   "source": [
    "gnps_orbitrap_compounds = get_compounds(gnps_orbitrap)\n",
    "gnps_qtof_compounds = get_compounds(gnps_qtof)\n",
    "mona_orbitrap_compounds = get_compounds(mona_orbitrap)\n",
    "mona_qtof_compounds = get_compounds(mona_qtof)"
   ]
  },
  {
   "cell_type": "code",
   "execution_count": 7,
   "metadata": {},
   "outputs": [
    {
     "data": {
      "text/plain": [
       "(10214, 19104, 3734, 4301)"
      ]
     },
     "execution_count": 7,
     "metadata": {},
     "output_type": "execute_result"
    }
   ],
   "source": [
    "len(gnps_orbitrap_compounds), len(gnps_qtof_compounds), len(mona_orbitrap_compounds), len(mona_qtof_compounds)"
   ]
  },
  {
   "cell_type": "code",
   "execution_count": 8,
   "metadata": {},
   "outputs": [],
   "source": [
    "def get_common_unique(spectra, target_common_compounds):\n",
    "    common_spectra = []\n",
    "    unique_spectra = []\n",
    "    common_compounds = []\n",
    "    unique_compounds = []\n",
    "    for s in spectra:\n",
    "        compound_name = s.get(\"smiles\")\n",
    "        if compound_name is not None and compound_name in target_common_compounds:\n",
    "            common_spectra.append(s)\n",
    "            common_compounds.append(compound_name)\n",
    "        else:\n",
    "            unique_spectra.append(s)\n",
    "            unique_compounds.append(compound_name)\n",
    "\n",
    "    return common_spectra, np.unique(common_compounds), unique_spectra, np.unique(unique_compounds)"
   ]
  },
  {
   "cell_type": "code",
   "execution_count": null,
   "metadata": {},
   "outputs": [],
   "source": [
    "from const import mona\n",
    "\n",
    "orbitrap_common_spectra, orbitrap_common_compounds, orbitrap_unique_spectra, orbitrap_unique_commpounds = get_common_unique(mona_orbitrap, gnps_orbitrap_compounds)\n",
    "qtof_common_spectra, qtof_common_compounds, qtof_unique_spectra, qtof_unique_commpounds = get_common_unique(mona_qtof, gnps_qtof_compounds)\n",
    "\n",
    "np.save(mona.ORBITRAP_COMMON, orbitrap_common_spectra)\n",
    "np.save(mona.ORBITRAP_UNIQUE, orbitrap_unique_spectra)\n",
    "\n",
    "np.save(mona.QTOF_COMMON, qtof_common_spectra)\n",
    "np.save(mona.QTOF_UNIQUE, qtof_unique_spectra)"
   ]
  },
  {
   "cell_type": "code",
   "execution_count": 10,
   "metadata": {},
   "outputs": [
    {
     "data": {
      "text/plain": [
       "(3376, 1512, 15655, 2222)"
      ]
     },
     "execution_count": 10,
     "metadata": {},
     "output_type": "execute_result"
    }
   ],
   "source": [
    "len(orbitrap_common_spectra), len(orbitrap_common_compounds), len(orbitrap_unique_spectra), len(orbitrap_unique_commpounds)"
   ]
  },
  {
   "cell_type": "code",
   "execution_count": 11,
   "metadata": {},
   "outputs": [
    {
     "data": {
      "text/plain": [
       "(7243, 4043, 674, 258)"
      ]
     },
     "execution_count": 11,
     "metadata": {},
     "output_type": "execute_result"
    }
   ],
   "source": [
    "len(qtof_common_spectra), len(qtof_common_compounds), len(qtof_unique_spectra), len(qtof_unique_commpounds)"
   ]
  },
  {
   "cell_type": "code",
   "execution_count": null,
   "metadata": {},
   "outputs": [],
   "source": [
    "import numpy as np\n",
    "\n",
    "from const import gnps\n",
    "\n",
    "np.save(gnps.ORBITRAP_TRAIN_QUERY, gnps_orbitrap_train_query)\n",
    "np.save(gnps.ORBITRAP_TRAIN_REF, gnps_orbitrap_train_ref)\n",
    "np.save(gnps.ORBITRAP_TEST_QUERY, gnps_orbitrap_test_query)\n",
    "np.save(gnps.ORBITRAP_TEST_REF, gnps_orbitrap_test_ref)"
   ]
  },
  {
   "cell_type": "code",
   "execution_count": null,
   "metadata": {},
   "outputs": [
    {
     "name": "stderr",
     "output_type": "stream",
     "text": [
      "seek for target_spectrums: 100%|██████████| 44560/44560 [00:07<00:00, 5902.20it/s] \n",
      "split query and reference set: 100%|██████████| 19104/19104 [00:00<00:00, 287681.70it/s]\n",
      "seek for target_spectrums: 100%|██████████| 50692/50692 [00:01<00:00, 33945.85it/s]\n",
      "split query and reference set: 100%|██████████| 8387/8387 [00:00<00:00, 138530.05it/s]\n"
     ]
    }
   ],
   "source": [
    "from utils import get_ref_query, get_unique_smiles\n",
    "\n",
    "gnps_qtof_query, gnps_qtof_ref = get_ref_query(gnps_qtof, get_unique_smiles(gnps_qtof))\n",
    "gnps_other_query, gnps_other_ref = get_ref_query(gnps_other, get_unique_smiles(gnps_other))\n",
    "\n",
    "np.save(gnps.QTOF_TEST_QUERY, gnps_qtof_query)\n",
    "np.save(gnps.QTOF_TEST_REF, gnps_qtof_ref)\n",
    "np.save(gnps.OTHER_TEST_QUERY, gnps_other_query)\n",
    "np.save(gnps.OTHER_TEST_REF, gnps_other_ref)"
   ]
  },
  {
   "cell_type": "code",
   "execution_count": 8,
   "metadata": {},
   "outputs": [],
   "source": [
    "from utils import get_unique_smiles\n",
    "from const import gnps\n",
    "\n",
    "all_data = gnps_orbitrap  + gnps_qtof + gnps_other + mona_orbitrap + mona_qtof\n",
    "all_unique_smiles = get_unique_smiles(all_data)\n",
    "np.save(gnps.DIR / gnps.UNIQUE_SMILES, all_unique_smiles)"
   ]
  },
  {
   "cell_type": "code",
   "execution_count": null,
   "metadata": {},
   "outputs": [],
   "source": [
    "import numpy as np\n",
    "import pandas as pd\n",
    "from tqdm import tqdm\n",
    "from matchms.similarity import FingerprintSimilarity\n",
    "from matchms.filtering.metadata_processing.add_fingerprint import add_fingerprint\n",
    "\n",
    "from const import gnps"
   ]
  },
  {
   "cell_type": "code",
   "execution_count": 11,
   "metadata": {},
   "outputs": [
    {
     "name": "stderr",
     "output_type": "stream",
     "text": [
      "100%|██████████| 33665/33665 [00:51<00:00, 653.00it/s] \n"
     ]
    }
   ],
   "source": [
    "indices = []\n",
    "\n",
    "smiles_seq = np.array([\n",
    "    s.get('smiles')\n",
    "    for s in all_data\n",
    "])\n",
    "\n",
    "for smiles in tqdm(all_unique_smiles):\n",
    "    index = np.where(smiles_seq == smiles)[0][0]\n",
    "    # 后续添加 fingerprint 时在对应 index 处添加即可\n",
    "    indices.append(index)\n",
    "\n",
    "metadata = pd.DataFrame(list(zip(all_unique_smiles, indices)), columns=['smiles', 'ID'])"
   ]
  },
  {
   "cell_type": "code",
   "execution_count": 13,
   "metadata": {},
   "outputs": [
    {
     "name": "stderr",
     "output_type": "stream",
     "text": [
      "  0%|          | 0/33665 [00:00<?, ?it/s]"
     ]
    },
    {
     "name": "stderr",
     "output_type": "stream",
     "text": [
      "100%|██████████| 33665/33665 [02:01<00:00, 277.60it/s]\n"
     ]
    }
   ],
   "source": [
    "for i in tqdm(metadata['ID'].values):\n",
    "    all_data[i] = add_fingerprint(all_data[i], fingerprint_type='daylight', nbits=2048)\n",
    "\n",
    "spectrums_represent = [all_data[i] for i in metadata['ID'].values]\n",
    "\n",
    "similarity_measure = FingerprintSimilarity(similarity_measure='jaccard')\n",
    "scores = similarity_measure.matrix(spectrums_represent, spectrums_represent)\n",
    "np.save(gnps.DIR / gnps.TANOMOTO_SCORE, scores)"
   ]
  }
 ],
 "metadata": {
  "kernelspec": {
   "display_name": "py312",
   "language": "python",
   "name": "python3"
  },
  "language_info": {
   "codemirror_mode": {
    "name": "ipython",
    "version": 3
   },
   "file_extension": ".py",
   "mimetype": "text/x-python",
   "name": "python",
   "nbconvert_exporter": "python",
   "pygments_lexer": "ipython3",
   "version": "3.12.9"
  }
 },
 "nbformat": 4,
 "nbformat_minor": 2
}
