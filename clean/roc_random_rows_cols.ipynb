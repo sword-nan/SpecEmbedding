{
 "cells": [
  {
   "cell_type": "code",
   "execution_count": 3,
   "id": "8c960230",
   "metadata": {},
   "outputs": [],
   "source": [
    "import sys\n",
    "sys.path.append(\"../\")\n",
    "from pathlib import Path\n",
    "\n",
    "import numpy as np\n",
    "\n",
    "from const import gnps\n",
    "\n",
    "ROC_DIR = Path(\"/data1/xp/code/specEmbedding/ROC\")\n",
    "ROC_DIR.mkdir(exist_ok=True, parents=True)\n",
    "\n",
    "spectra_paths = {\n",
    "    \"gnps\":{\n",
    "        \"orbitrap\": {\n",
    "            \"train\": (gnps.ORBITRAP_TRAIN_QUERY, gnps.ORBITRAP_TEST_REF),\n",
    "            \"test\": (gnps.ORBITRAP_TEST_QUERY, gnps.ORBITRAP_TEST_REF)\n",
    "        },\n",
    "        \"qtof\": {\n",
    "            \"test\": (gnps.QTOF_TEST_QUERY, gnps.QTOF_TEST_REF)\n",
    "        },\n",
    "        \"other\": {\n",
    "            \"test\": (gnps.OTHER_TEST_QUERY, gnps.OTHER_TEST_REF)\n",
    "        }\n",
    "    },\n",
    "}\n",
    "\n",
    "gnps_train_ref = np.load(gnps.ORBITRAP_TRAIN_REF, allow_pickle=True)"
   ]
  },
  {
   "cell_type": "code",
   "execution_count": 6,
   "id": "a0128a32",
   "metadata": {},
   "outputs": [
    {
     "name": "stdout",
     "output_type": "stream",
     "text": [
      "---------------------------------------- gnps-orbitrap-train ----------------------------------------\n",
      "---------------------------------------- gnps-orbitrap-test ----------------------------------------\n",
      "---------------------------------------- gnps-qtof-test ----------------------------------------\n",
      "---------------------------------------- gnps-other-test ----------------------------------------\n"
     ]
    }
   ],
   "source": [
    "for db, db_metadata in spectra_paths.items():\n",
    "    for desc, path_metadata in db_metadata.items():\n",
    "        for info, paths in path_metadata.items():\n",
    "            print(\"-\" * 40, f\"{db}-{desc}-{info}\", \"-\" * 40)\n",
    "            query_path, ref_path = paths\n",
    "            ref_spectra = np.load(ref_path, allow_pickle=True)\n",
    "            query_spectra = np.load(query_path, allow_pickle=True)\n",
    "            if db == \"gnps\" and desc == \"orbitrap\":\n",
    "                ref_spectra = np.hstack((gnps_train_ref, ref_spectra))\n",
    "            indices = np.random.choice(len(query_spectra) * len(ref_spectra), size=int(1e7), replace=False)\n",
    "            random_rows, random_cols = np.unravel_index(indices, (len(query_spectra), len(ref_spectra)))\n",
    "            dir_ = ROC_DIR / f\"{db}-{desc}-{info}\"\n",
    "            np.save(dir_ / \"random_indices.npy\", {\"row\": random_rows, \"col\": random_cols})"
   ]
  }
 ],
 "metadata": {
  "kernelspec": {
   "display_name": "py312",
   "language": "python",
   "name": "python3"
  },
  "language_info": {
   "codemirror_mode": {
    "name": "ipython",
    "version": 3
   },
   "file_extension": ".py",
   "mimetype": "text/x-python",
   "name": "python",
   "nbconvert_exporter": "python",
   "pygments_lexer": "ipython3",
   "version": "3.12.9"
  }
 },
 "nbformat": 4,
 "nbformat_minor": 5
}
