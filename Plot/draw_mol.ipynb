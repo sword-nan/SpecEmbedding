{
 "cells": [
  {
   "cell_type": "code",
   "execution_count": 1,
   "id": "8a411944",
   "metadata": {},
   "outputs": [],
   "source": [
    "from pathlib import Path\n",
    "\n",
    "DIR = Path(\"./mol\")\n",
    "DIR.mkdir(exist_ok=True, parents=True)"
   ]
  },
  {
   "cell_type": "code",
   "execution_count": 2,
   "id": "4747b6c2",
   "metadata": {},
   "outputs": [],
   "source": [
    "from rdkit import Chem\n",
    "from rdkit.Chem import Draw\n",
    "\n",
    "# query \n",
    "mol = Chem.MolFromSmiles(\"COC1=C(C=C(C=C1)CC2=NC=CC3=CC(=C(C=C32)OC)OC)OC\") \n",
    "Draw.MolToFile(mol, DIR / \"query.svg\")"
   ]
  },
  {
   "cell_type": "code",
   "execution_count": 3,
   "id": "b6c4eea1",
   "metadata": {},
   "outputs": [],
   "source": [
    "# SpecEmbedding 0.9515\n",
    "mol = Chem.MolFromSmiles(\"COc1ccc(Cc2nccc3cc(OC)c(OC)cc23)cc1OC\") \n",
    "Draw.MolToFile(mol, DIR / \"SpecEmbedding.svg\")"
   ]
  },
  {
   "cell_type": "code",
   "execution_count": 4,
   "id": "eba23497",
   "metadata": {},
   "outputs": [],
   "source": [
    "# MSBERT 0.6844\n",
    "mol = Chem.MolFromSmiles(\"O=C(OCCCCNC(=N)N)C1=CC(OC)=C(O)C(OC)=C1\") \n",
    "Draw.MolToFile(mol, DIR / \"MSBERT.svg\")"
   ]
  },
  {
   "cell_type": "code",
   "execution_count": 5,
   "id": "eca5a579",
   "metadata": {},
   "outputs": [],
   "source": [
    "# Spec2Vec 0.8135\n",
    "mol = Chem.MolFromSmiles(\"O=C(C1=NCCC=2C=C(OC)C(OC)=CC12)C3=CC=C(OC)C(OC)=C3\") \n",
    "Draw.MolToFile(mol, DIR / \"SpecVec.svg\")"
   ]
  },
  {
   "cell_type": "code",
   "execution_count": 6,
   "id": "0cbb982f",
   "metadata": {},
   "outputs": [],
   "source": [
    "# MS2DeepScore 0.9428\n",
    "mol = Chem.MolFromSmiles(\"O=C1C(OC)=CC2C3N(C)CCC2(C4=C(O)C(OC)=CC=C4C3)C1\")\n",
    "Draw.MolToFile(mol, DIR / \"MS2DeepScore.svg\")"
   ]
  },
  {
   "cell_type": "code",
   "execution_count": 7,
   "id": "903377c7",
   "metadata": {},
   "outputs": [],
   "source": [
    "mol = Chem.MolFromSmiles(\"N=1C=CC=2C=C(OC)C(OC)=CC2C1CC3=CC=C(OC)C(OC)=C3\") \n",
    "Draw.MolToFile(mol, DIR / \"tanimoto.svg\")"
   ]
  }
 ],
 "metadata": {
  "kernelspec": {
   "display_name": "py312",
   "language": "python",
   "name": "python3"
  },
  "language_info": {
   "codemirror_mode": {
    "name": "ipython",
    "version": 3
   },
   "file_extension": ".py",
   "mimetype": "text/x-python",
   "name": "python",
   "nbconvert_exporter": "python",
   "pygments_lexer": "ipython3",
   "version": "3.12.9"
  }
 },
 "nbformat": 4,
 "nbformat_minor": 5
}
