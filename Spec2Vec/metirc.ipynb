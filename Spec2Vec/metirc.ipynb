{
 "cells": [
  {
   "cell_type": "code",
   "execution_count": 1,
   "metadata": {},
   "outputs": [],
   "source": [
    "import sys\n",
    "sys.path.append(\"../\")\n",
    "from pathlib import Path\n",
    "\n",
    "import pandas as pd\n",
    "import numpy as np\n",
    "from tqdm import tqdm\n",
    "from gensim.models import Word2Vec\n",
    "\n",
    "from const import gnps, mona\n",
    "from utils import embedding, search, search_with_spectra, load_model, most_similar, cosine_similarity"
   ]
  },
  {
   "cell_type": "code",
   "execution_count": null,
   "metadata": {},
   "outputs": [],
   "source": [
    "model_files = {\n",
    "    \"orbitrap\":{\n",
    "        \"model\": \"orbitrap.model\",\n",
    "    },\n",
    "    \"qtof\": {\n",
    "        \"model\": \"qtof.model\",\n",
    "    },\n",
    "    \"other\": {\n",
    "        \"model\": \"other.model\",\n",
    "    }\n",
    "}\n",
    "\n",
    "spectra_paths = {\n",
    "    \"gnps\":{\n",
    "        \"orbitrap\": {\n",
    "            \"train\": (gnps.ORBITRAP_TRAIN_QUERY, gnps.ORBITRAP_TEST_REF),\n",
    "            \"test\": (gnps.ORBITRAP_TEST_QUERY, gnps.ORBITRAP_TEST_REF)\n",
    "        },\n",
    "        \"qtof\": {\n",
    "            \"test\": (gnps.QTOF_TEST_QUERY, gnps.QTOF_TEST_REF)\n",
    "        },\n",
    "        \"other\": {\n",
    "            \"test\": (gnps.OTHER_TEST_QUERY, gnps.OTHER_TEST_REF)\n",
    "        }\n",
    "    },\n",
    "}\n",
    "\n",
    "gnps_train_ref = np.load(gnps.ORBITRAP_TRAIN_REF, allow_pickle=True)"
   ]
  },
  {
   "cell_type": "code",
   "execution_count": 4,
   "metadata": {},
   "outputs": [],
   "source": [
    "batch_size = None\n",
    "k_metric = [5, 1, 10]\n",
    "show_progress_bar = False\n",
    "\n",
    "replica_suffix = \"-replication-{}\""
   ]
  },
  {
   "cell_type": "code",
   "execution_count": 5,
   "metadata": {},
   "outputs": [
    {
     "name": "stderr",
     "output_type": "stream",
     "text": [
      "  0%|          | 0/10 [00:00<?, ?it/s]"
     ]
    },
    {
     "name": "stdout",
     "output_type": "stream",
     "text": [
      "---------------------------------------- gnps-orbitrap-train ----------------------------------------\n",
      "---------------------------------------- gnps-orbitrap-test ----------------------------------------\n",
      "---------------------------------------- gnps-qtof-test ----------------------------------------\n",
      "---------------------------------------- gnps-other-test ----------------------------------------\n"
     ]
    },
    {
     "name": "stderr",
     "output_type": "stream",
     "text": [
      " 10%|█         | 1/10 [06:38<59:43, 398.19s/it]"
     ]
    },
    {
     "name": "stdout",
     "output_type": "stream",
     "text": [
      "                         top1      top5     top10\n",
      "gnps-orbitrap-train  0.698000  0.821340  0.847905\n",
      "gnps-orbitrap-test   0.701661  0.814947  0.840451\n",
      "gnps-qtof-test       0.432846  0.596011  0.644016\n",
      "gnps-other-test      0.694001  0.817238  0.842195\n",
      "---------------------------------------- gnps-orbitrap-train ----------------------------------------\n",
      "---------------------------------------- gnps-orbitrap-test ----------------------------------------\n",
      "---------------------------------------- gnps-qtof-test ----------------------------------------\n",
      "---------------------------------------- gnps-other-test ----------------------------------------\n"
     ]
    },
    {
     "name": "stderr",
     "output_type": "stream",
     "text": [
      " 20%|██        | 2/10 [13:16<53:08, 398.51s/it]"
     ]
    },
    {
     "name": "stdout",
     "output_type": "stream",
     "text": [
      "                         top1      top5     top10\n",
      "gnps-orbitrap-train  0.697708  0.821340  0.847613\n",
      "gnps-orbitrap-test   0.698695  0.821471  0.843416\n",
      "gnps-qtof-test       0.436569  0.596676  0.644149\n",
      "gnps-other-test      0.694466  0.820028  0.844055\n",
      "---------------------------------------- gnps-orbitrap-train ----------------------------------------\n",
      "---------------------------------------- gnps-orbitrap-test ----------------------------------------\n",
      "---------------------------------------- gnps-qtof-test ----------------------------------------\n",
      "---------------------------------------- gnps-other-test ----------------------------------------\n"
     ]
    },
    {
     "name": "stderr",
     "output_type": "stream",
     "text": [
      " 30%|███       | 3/10 [20:55<49:40, 425.74s/it]"
     ]
    },
    {
     "name": "stdout",
     "output_type": "stream",
     "text": [
      "                         top1      top5     top10\n",
      "gnps-orbitrap-train  0.698000  0.820464  0.847322\n",
      "gnps-orbitrap-test   0.706999  0.822657  0.848754\n",
      "gnps-qtof-test       0.431649  0.585372  0.631383\n",
      "gnps-other-test      0.691831  0.816463  0.841110\n",
      "---------------------------------------- gnps-orbitrap-train ----------------------------------------\n",
      "---------------------------------------- gnps-orbitrap-test ----------------------------------------\n",
      "---------------------------------------- gnps-qtof-test ----------------------------------------\n",
      "---------------------------------------- gnps-other-test ----------------------------------------\n"
     ]
    },
    {
     "name": "stderr",
     "output_type": "stream",
     "text": [
      " 40%|████      | 4/10 [28:25<43:32, 435.47s/it]"
     ]
    },
    {
     "name": "stdout",
     "output_type": "stream",
     "text": [
      "                         top1      top5     top10\n",
      "gnps-orbitrap-train  0.697416  0.820902  0.847759\n",
      "gnps-orbitrap-test   0.708778  0.841044  0.858837\n",
      "gnps-qtof-test       0.432846  0.596941  0.643351\n",
      "gnps-other-test      0.698186  0.824833  0.847000\n",
      "---------------------------------------- gnps-orbitrap-train ----------------------------------------\n",
      "---------------------------------------- gnps-orbitrap-test ----------------------------------------\n",
      "---------------------------------------- gnps-qtof-test ----------------------------------------\n",
      "---------------------------------------- gnps-other-test ----------------------------------------\n"
     ]
    },
    {
     "name": "stderr",
     "output_type": "stream",
     "text": [
      " 50%|█████     | 5/10 [35:49<36:33, 438.63s/it]"
     ]
    },
    {
     "name": "stdout",
     "output_type": "stream",
     "text": [
      "                         top1      top5     top10\n",
      "gnps-orbitrap-train  0.697416  0.821048  0.848197\n",
      "gnps-orbitrap-test   0.703440  0.825030  0.845789\n",
      "gnps-qtof-test       0.434043  0.585904  0.634574\n",
      "gnps-other-test      0.692141  0.820803  0.845760\n",
      "---------------------------------------- gnps-orbitrap-train ----------------------------------------\n",
      "---------------------------------------- gnps-orbitrap-test ----------------------------------------\n",
      "---------------------------------------- gnps-qtof-test ----------------------------------------\n",
      "---------------------------------------- gnps-other-test ----------------------------------------\n"
     ]
    },
    {
     "name": "stderr",
     "output_type": "stream",
     "text": [
      " 60%|██████    | 6/10 [43:25<29:37, 444.45s/it]"
     ]
    },
    {
     "name": "stdout",
     "output_type": "stream",
     "text": [
      "                         top1      top5     top10\n",
      "gnps-orbitrap-train  0.698292  0.821340  0.847468\n",
      "gnps-orbitrap-test   0.711151  0.826809  0.856465\n",
      "gnps-qtof-test       0.433910  0.592952  0.640559\n",
      "gnps-other-test      0.688730  0.817083  0.842660\n",
      "---------------------------------------- gnps-orbitrap-train ----------------------------------------\n",
      "---------------------------------------- gnps-orbitrap-test ----------------------------------------\n",
      "---------------------------------------- gnps-qtof-test ----------------------------------------\n",
      "---------------------------------------- gnps-other-test ----------------------------------------\n"
     ]
    },
    {
     "name": "stderr",
     "output_type": "stream",
     "text": [
      " 70%|███████   | 7/10 [50:54<22:17, 445.98s/it]"
     ]
    },
    {
     "name": "stdout",
     "output_type": "stream",
     "text": [
      "                         top1      top5     top10\n",
      "gnps-orbitrap-train  0.698584  0.820902  0.847322\n",
      "gnps-orbitrap-test   0.711744  0.831554  0.852313\n",
      "gnps-qtof-test       0.433378  0.591090  0.638431\n",
      "gnps-other-test      0.696326  0.819873  0.842815\n",
      "---------------------------------------- gnps-orbitrap-train ----------------------------------------\n",
      "---------------------------------------- gnps-orbitrap-test ----------------------------------------\n",
      "---------------------------------------- gnps-qtof-test ----------------------------------------\n",
      "---------------------------------------- gnps-other-test ----------------------------------------\n"
     ]
    },
    {
     "name": "stderr",
     "output_type": "stream",
     "text": [
      " 80%|████████  | 8/10 [58:28<14:57, 448.58s/it]"
     ]
    },
    {
     "name": "stdout",
     "output_type": "stream",
     "text": [
      "                         top1      top5     top10\n",
      "gnps-orbitrap-train  0.697416  0.820610  0.847468\n",
      "gnps-orbitrap-test   0.698102  0.819692  0.846975\n",
      "gnps-qtof-test       0.428457  0.587766  0.636702\n",
      "gnps-other-test      0.692141  0.820803  0.843900\n",
      "---------------------------------------- gnps-orbitrap-train ----------------------------------------\n",
      "---------------------------------------- gnps-orbitrap-test ----------------------------------------\n",
      "---------------------------------------- gnps-qtof-test ----------------------------------------\n",
      "---------------------------------------- gnps-other-test ----------------------------------------\n"
     ]
    },
    {
     "name": "stderr",
     "output_type": "stream",
     "text": [
      " 90%|█████████ | 9/10 [1:05:58<07:29, 449.07s/it]"
     ]
    },
    {
     "name": "stdout",
     "output_type": "stream",
     "text": [
      "                         top1      top5     top10\n",
      "gnps-orbitrap-train  0.698584  0.820756  0.847613\n",
      "gnps-orbitrap-test   0.699881  0.823250  0.845789\n",
      "gnps-qtof-test       0.434574  0.593750  0.641090\n",
      "gnps-other-test      0.693536  0.818478  0.847310\n",
      "---------------------------------------- gnps-orbitrap-train ----------------------------------------\n",
      "---------------------------------------- gnps-orbitrap-test ----------------------------------------\n",
      "---------------------------------------- gnps-qtof-test ----------------------------------------\n",
      "---------------------------------------- gnps-other-test ----------------------------------------\n"
     ]
    },
    {
     "name": "stderr",
     "output_type": "stream",
     "text": [
      "100%|██████████| 10/10 [1:13:32<00:00, 441.20s/it]"
     ]
    },
    {
     "name": "stdout",
     "output_type": "stream",
     "text": [
      "                         top1      top5     top10\n",
      "gnps-orbitrap-train  0.698146  0.820464  0.847905\n",
      "gnps-orbitrap-test   0.704033  0.829775  0.854686\n",
      "gnps-qtof-test       0.434176  0.592819  0.639761\n",
      "gnps-other-test      0.693691  0.818943  0.843900\n"
     ]
    },
    {
     "name": "stderr",
     "output_type": "stream",
     "text": [
      "\n"
     ]
    }
   ],
   "source": [
    "replica_df_seq = []\n",
    "\n",
    "models = {\n",
    "    desc: Word2Vec.load(metadata[\"model\"])\n",
    "    for desc, metadata in model_files.items()\n",
    "}\n",
    "\n",
    "for i in tqdm(range(10)):\n",
    "    df_seq = []\n",
    "    for db, db_metadata in spectra_paths.items():\n",
    "        for desc, path_metadata in db_metadata.items():\n",
    "            model = models[desc]\n",
    "            for info, paths in path_metadata.items():\n",
    "                print(\"-\" * 40, f\"{db}-{desc}-{info}\", \"-\" * 40)\n",
    "                query_path, ref_path = paths\n",
    "                query_path = query_path.with_stem(query_path.stem + replica_suffix.format(i + 1))\n",
    "                ref_path = ref_path.with_stem(ref_path.stem + replica_suffix.format(i + 1))\n",
    "                if db == \"gnps\" and desc == \"orbitrap\":\n",
    "                    if info == \"train\":\n",
    "                        query_path = gnps.ORBITRAP_TRAIN_QUERY\n",
    "                    \n",
    "                    ref_spectra = np.load(ref_path, allow_pickle=True)\n",
    "                    query_spectra = np.load(query_path, allow_pickle=True)\n",
    "                    ref_spectra = np.hstack((gnps_train_ref, ref_spectra))\n",
    "                    df = search_with_spectra(\n",
    "                        f\"{db}-{desc}-{info}\", model,\n",
    "                        query_spectra, ref_spectra,\n",
    "                        k_metric,\n",
    "                        show_progress_bar, batch_size\n",
    "                    )\n",
    "                else:\n",
    "                    df = search(\n",
    "                        f\"{db}-{desc}-{info}\", model,\n",
    "                        query_path, ref_path,\n",
    "                        k_metric,\n",
    "                        show_progress_bar, batch_size\n",
    "                    )\n",
    "                df_seq.append(df)\n",
    "    df = pd.concat(df_seq, axis=0)\n",
    "    print(df)\n",
    "    replica_df_seq.append(df)"
   ]
  },
  {
   "cell_type": "code",
   "execution_count": 6,
   "metadata": {},
   "outputs": [
    {
     "name": "stdout",
     "output_type": "stream",
     "text": [
      "[[69.8  82.09 84.77]\n",
      " [70.44 82.56 84.93]\n",
      " [43.32 59.19 63.94]\n",
      " [69.35 81.95 84.41]]\n",
      "[[0.04 0.03 0.03]\n",
      " [0.48 0.69 0.57]\n",
      " [0.2  0.41 0.4 ]\n",
      " [0.25 0.23 0.19]]\n"
     ]
    }
   ],
   "source": [
    "data = []\n",
    "indices = replica_df_seq[0].index\n",
    "columns = replica_df_seq[0].columns\n",
    "for item in replica_df_seq:\n",
    "    data.append([item.values])\n",
    "\n",
    "data = np.concatenate(data, axis=0)\n",
    "\n",
    "np.set_printoptions(precision=2, suppress=True)\n",
    "print(np.mean(data, axis=0) * 100)\n",
    "print(np.std(data, axis=0) * 100)\n",
    "mean_df = pd.DataFrame(np.mean(data, axis=0) * 100, index=indices, columns=columns)\n",
    "std_df = pd.DataFrame(np.std(data, axis=0) * 100, index=indices, columns=columns)\n",
    "mean_df.to_csv(\"./mean.tsv\", sep='\\t')\n",
    "std_df.to_csv(\"./std.tsv\", sep='\\t')"
   ]
  },
  {
   "cell_type": "code",
   "execution_count": 7,
   "metadata": {},
   "outputs": [
    {
     "data": {
      "text/html": [
       "<div>\n",
       "<style scoped>\n",
       "    .dataframe tbody tr th:only-of-type {\n",
       "        vertical-align: middle;\n",
       "    }\n",
       "\n",
       "    .dataframe tbody tr th {\n",
       "        vertical-align: top;\n",
       "    }\n",
       "\n",
       "    .dataframe thead th {\n",
       "        text-align: right;\n",
       "    }\n",
       "</style>\n",
       "<table border=\"1\" class=\"dataframe\">\n",
       "  <thead>\n",
       "    <tr style=\"text-align: right;\">\n",
       "      <th></th>\n",
       "      <th>top1</th>\n",
       "      <th>top5</th>\n",
       "      <th>top10</th>\n",
       "    </tr>\n",
       "  </thead>\n",
       "  <tbody>\n",
       "    <tr>\n",
       "      <th>MTBLS1572</th>\n",
       "      <td>0.904762</td>\n",
       "      <td>1.0</td>\n",
       "      <td>1.0</td>\n",
       "    </tr>\n",
       "  </tbody>\n",
       "</table>\n",
       "</div>"
      ],
      "text/plain": [
       "               top1  top5  top10\n",
       "MTBLS1572  0.904762   1.0    1.0"
      ]
     },
     "execution_count": 7,
     "metadata": {},
     "output_type": "execute_result"
    }
   ],
   "source": [
    "model = Word2Vec.load(\"./orbitrap.model\")\n",
    "batch_size = None\n",
    "k_metric = [5, 1, 10]\n",
    "show_progress_bar = False\n",
    "\n",
    "query_spectra = np.load(\"/data1/xp/data/MSBert/MTBLS1572/query.npy\", allow_pickle=True)\n",
    "ref_spectra = np.load(\"/data1/xp/data/MSBert/MTBLS1572/ref.npy\", allow_pickle=True)\n",
    "\n",
    "search_with_spectra(\n",
    "    \"MTBLS1572\",\n",
    "    model,\n",
    "    query_spectra,\n",
    "    ref_spectra,\n",
    "    k_metric,\n",
    "    show_progress_bar,\n",
    "    batch_size\n",
    ")"
   ]
  },
  {
   "cell_type": "code",
   "execution_count": 2,
   "metadata": {},
   "outputs": [
    {
     "name": "stdout",
     "output_type": "stream",
     "text": [
      "4-th answer is [Butyryl-L-carnitine] but get 11-th [Isovaleryl-L-carnitine]\n",
      "17-th answer is [Pantothenic acid] but get 19-th [Propionyl-L-carnitine]\n"
     ]
    }
   ],
   "source": [
    "model = Word2Vec.load(\"./orbitrap.model\")\n",
    "batch_size = None\n",
    "k_metric = [5, 1, 10]\n",
    "show_progress_bar = False\n",
    "\n",
    "query_spectra = np.load(\"/data1/xp/data/MSBert/MTBLS1572/query.npy\", allow_pickle=True)\n",
    "ref_spectra = np.load(\"/data1/xp/data/MSBert/MTBLS1572/ref.npy\", allow_pickle=True)\n",
    "\n",
    "query_embedding, _ = embedding(\n",
    "    model,\n",
    "    query_spectra,\n",
    "    False\n",
    ")\n",
    "\n",
    "ref_embedding, _ = embedding(\n",
    "    model,\n",
    "    ref_spectra,\n",
    "    False\n",
    ")\n",
    "\n",
    "cosine_score = cosine_similarity(\n",
    "    query_embedding, ref_embedding\n",
    ")\n",
    "for i, j in enumerate(np.argmax(cosine_score, axis=1)):\n",
    "    if i != j:\n",
    "        print(f\"{i}-th answer is [{ref_spectra[i].get(\"compound_name\")}] but get {j}-th [{ref_spectra[j].get(\"compound_name\")}]\")"
   ]
  },
  {
   "cell_type": "code",
   "execution_count": 3,
   "metadata": {},
   "outputs": [
    {
     "data": {
      "text/plain": [
       "(0.7996484088097755, 0.9023208424890726)"
      ]
     },
     "execution_count": 3,
     "metadata": {},
     "output_type": "execute_result"
    }
   ],
   "source": [
    "cosine_score[4][4], cosine_score[4][11]"
   ]
  },
  {
   "cell_type": "code",
   "execution_count": 3,
   "metadata": {},
   "outputs": [
    {
     "name": "stderr",
     "output_type": "stream",
     "text": [
      "get smiles, embedding: 100%|██████████| 3376/3376 [00:03<00:00, 859.04it/s] \n",
      "get smiles, embedding: 100%|██████████| 15655/15655 [00:06<00:00, 2422.93it/s]\n",
      "get smiles, embedding: 100%|██████████| 3376/3376 [00:03<00:00, 914.11it/s] \n",
      "get smiles, embedding: 100%|██████████| 674/674 [00:00<00:00, 2244.17it/s]\n"
     ]
    }
   ],
   "source": [
    "show_progress_bar = True\n",
    "\n",
    "model = load_model(\"./orbitrap.model\")\n",
    "\n",
    "orbitrap_ref_spectra = np.load(mona.ORBITRAP_COMMON, allow_pickle=True)\n",
    "orbitrap_query_spectra = np.load(mona.ORBITRAP_UNIQUE, allow_pickle=True)\n",
    "\n",
    "qtof_ref_spectra = np.load(mona.ORBITRAP_COMMON, allow_pickle=True)\n",
    "qtof_query_spectra = np.load(mona.QTOF_UNIQUE, allow_pickle=True)\n",
    "\n",
    "orbitrap_ref_embedding, _ = embedding(model, orbitrap_ref_spectra, show_progress_bar)\n",
    "orbitrap_query_embedding, _ = embedding(model, orbitrap_query_spectra,  show_progress_bar)\n",
    "\n",
    "model = load_model(\"./qtof.model\")\n",
    "qtof_ref_embedding, _ = embedding(model, qtof_ref_spectra, show_progress_bar)\n",
    "qtof_query_embedding, _ = embedding(model, qtof_query_spectra,  show_progress_bar)"
   ]
  },
  {
   "cell_type": "code",
   "execution_count": 4,
   "metadata": {},
   "outputs": [
    {
     "name": "stderr",
     "output_type": "stream",
     "text": [
      "processing: 100%|██████████| 31/31 [00:05<00:00,  5.81it/s]\n",
      "processing: 100%|██████████| 2/2 [00:00<00:00, 27.42it/s]\n"
     ]
    }
   ],
   "source": [
    "orbitrap_score, orbitrap_indices = most_similar(orbitrap_query_embedding, orbitrap_ref_embedding, 512, show_progress_bar)\n",
    "qtof_score, qtof_indices = most_similar(qtof_query_embedding, qtof_ref_embedding, 512, show_progress_bar)"
   ]
  },
  {
   "cell_type": "code",
   "execution_count": 5,
   "metadata": {},
   "outputs": [],
   "source": [
    "dir = Path(\"/data1/xp/code/specEmbedding/score_distribution/compound search/\")\n",
    "orbitrap_dir = dir / \"orbitrap\"\n",
    "qtof_dir = dir / \"qtof\"\n",
    "\n",
    "orbitrap_dir.mkdir(exist_ok=True, parents=True)\n",
    "qtof_dir.mkdir(exist_ok=True, parents=True)\n",
    "\n",
    "np.save(orbitrap_dir / \"Spec2Vec_Score.npy\", orbitrap_score)\n",
    "np.save(orbitrap_dir / \"Spec2Vec_Indices.npy\", orbitrap_indices)\n",
    "np.save(qtof_dir / \"Spec2Vec_Score.npy\", qtof_score)\n",
    "np.save(qtof_dir / \"Spec2Vec_Indices.npy\", qtof_indices)"
   ]
  },
  {
   "cell_type": "code",
   "execution_count": 2,
   "metadata": {},
   "outputs": [],
   "source": [
    "batch_size = None\n",
    "k_metric = [5, 1, 10]\n",
    "show_progress_bar = False"
   ]
  },
  {
   "cell_type": "code",
   "execution_count": 3,
   "metadata": {},
   "outputs": [
    {
     "data": {
      "text/html": [
       "<div>\n",
       "<style scoped>\n",
       "    .dataframe tbody tr th:only-of-type {\n",
       "        vertical-align: middle;\n",
       "    }\n",
       "\n",
       "    .dataframe tbody tr th {\n",
       "        vertical-align: top;\n",
       "    }\n",
       "\n",
       "    .dataframe thead th {\n",
       "        text-align: right;\n",
       "    }\n",
       "</style>\n",
       "<table border=\"1\" class=\"dataframe\">\n",
       "  <thead>\n",
       "    <tr style=\"text-align: right;\">\n",
       "      <th></th>\n",
       "      <th>top1</th>\n",
       "      <th>top5</th>\n",
       "      <th>top10</th>\n",
       "    </tr>\n",
       "  </thead>\n",
       "  <tbody>\n",
       "    <tr>\n",
       "      <th>Orbitrap Common</th>\n",
       "      <td>0.76955</td>\n",
       "      <td>0.81487</td>\n",
       "      <td>0.84064</td>\n",
       "    </tr>\n",
       "  </tbody>\n",
       "</table>\n",
       "</div>"
      ],
      "text/plain": [
       "                    top1     top5    top10\n",
       "Orbitrap Common  0.76955  0.81487  0.84064"
      ]
     },
     "execution_count": 3,
     "metadata": {},
     "output_type": "execute_result"
    }
   ],
   "source": [
    "model = Word2Vec.load(\"./orbitrap.model\")\n",
    "\n",
    "query_spectra = np.load(mona.ORBITRAP_COMMON, allow_pickle=True)\n",
    "ref_spectra = np.load(gnps.ORBITRAP_ALL, allow_pickle=True)\n",
    "\n",
    "search_with_spectra(\n",
    "    \"Orbitrap Common\",\n",
    "    model,\n",
    "    query_spectra,\n",
    "    ref_spectra,\n",
    "    k_metric,\n",
    "    show_progress_bar,\n",
    "    batch_size\n",
    ")"
   ]
  },
  {
   "cell_type": "code",
   "execution_count": 4,
   "metadata": {},
   "outputs": [
    {
     "data": {
      "text/html": [
       "<div>\n",
       "<style scoped>\n",
       "    .dataframe tbody tr th:only-of-type {\n",
       "        vertical-align: middle;\n",
       "    }\n",
       "\n",
       "    .dataframe tbody tr th {\n",
       "        vertical-align: top;\n",
       "    }\n",
       "\n",
       "    .dataframe thead th {\n",
       "        text-align: right;\n",
       "    }\n",
       "</style>\n",
       "<table border=\"1\" class=\"dataframe\">\n",
       "  <thead>\n",
       "    <tr style=\"text-align: right;\">\n",
       "      <th></th>\n",
       "      <th>top1</th>\n",
       "      <th>top5</th>\n",
       "      <th>top10</th>\n",
       "    </tr>\n",
       "  </thead>\n",
       "  <tbody>\n",
       "    <tr>\n",
       "      <th>QTOF Common</th>\n",
       "      <td>0.983156</td>\n",
       "      <td>0.993235</td>\n",
       "      <td>0.994615</td>\n",
       "    </tr>\n",
       "  </tbody>\n",
       "</table>\n",
       "</div>"
      ],
      "text/plain": [
       "                 top1      top5     top10\n",
       "QTOF Common  0.983156  0.993235  0.994615"
      ]
     },
     "execution_count": 4,
     "metadata": {},
     "output_type": "execute_result"
    }
   ],
   "source": [
    "model = Word2Vec.load(\"./qtof.model\")\n",
    "\n",
    "query_spectra = np.load(mona.QTOF_COMMON, allow_pickle=True)\n",
    "ref_spectra = np.load(gnps.QTOF_ALL, allow_pickle=True)\n",
    "\n",
    "search_with_spectra(\n",
    "    \"QTOF Common\",\n",
    "    model,\n",
    "    query_spectra,\n",
    "    ref_spectra,\n",
    "    k_metric,\n",
    "    show_progress_bar,\n",
    "    batch_size\n",
    ")"
   ]
  }
 ],
 "metadata": {
  "kernelspec": {
   "display_name": "py312",
   "language": "python",
   "name": "python3"
  },
  "language_info": {
   "codemirror_mode": {
    "name": "ipython",
    "version": 3
   },
   "file_extension": ".py",
   "mimetype": "text/x-python",
   "name": "python",
   "nbconvert_exporter": "python",
   "pygments_lexer": "ipython3",
   "version": "3.12.9"
  }
 },
 "nbformat": 4,
 "nbformat_minor": 2
}
