{
 "cells": [
  {
   "cell_type": "code",
   "execution_count": null,
   "id": "f75af487",
   "metadata": {},
   "outputs": [],
   "source": [
    "import sys\n",
    "sys.path.append(\"../\")\n",
    "\n",
    "from gensim.models import Word2Vec\n",
    "import numpy as np\n",
    "from sklearn.cluster import Birch\n",
    "from sklearn import metrics\n",
    "from sklearn.metrics import accuracy_score\n",
    "\n",
    "from const import tsne_cluster\n",
    "from utils import embedding"
   ]
  },
  {
   "cell_type": "code",
   "execution_count": 2,
   "id": "74302c49",
   "metadata": {},
   "outputs": [],
   "source": [
    "def get_label(spectra):\n",
    "    smiles_seq = np.array([s.get(\"smiles\") for s in spectra])\n",
    "    unique_smiles = np.unique(smiles_seq)\n",
    "    labels = np.zeros((len(spectra, )))\n",
    "    for i, smiles in enumerate(unique_smiles):\n",
    "        labels[smiles_seq == smiles] = i\n",
    "    return labels, unique_smiles"
   ]
  },
  {
   "cell_type": "code",
   "execution_count": 3,
   "id": "8b34f5af",
   "metadata": {},
   "outputs": [],
   "source": [
    "def purity_score(y_true, y_pred):\n",
    "    y_voted_labels = np.zeros(y_true.shape)\n",
    "    labels = np.unique(y_true)\n",
    "    ordered_labels = np.arange(labels.shape[0])\n",
    "    for k in range(labels.shape[0]):\n",
    "        y_true[y_true == labels[k]] = ordered_labels[k]\n",
    "    # Update unique labels\n",
    "    labels = np.unique(y_true)\n",
    "    bins = np.concatenate((labels, [np.max(labels) + 1]), axis=0)\n",
    "\n",
    "    for cluster in np.unique(y_pred):\n",
    "        hist, _ = np.histogram(y_true[y_pred == cluster], bins=bins)\n",
    "        # Find the most present label in the cluster\n",
    "        winner = np.argmax(hist)\n",
    "        y_voted_labels[y_pred == cluster] = winner\n",
    "\n",
    "    return accuracy_score(y_true, y_voted_labels)"
   ]
  },
  {
   "cell_type": "code",
   "execution_count": 4,
   "id": "164c3b8e",
   "metadata": {},
   "outputs": [],
   "source": [
    "def CalEvaluate(labels_true, labels_pred):\n",
    "    purity = purity_score(labels_true, labels_pred)\n",
    "    ari = metrics.adjusted_rand_score(labels_true, labels_pred)\n",
    "    homogeneity = metrics.homogeneity_score(labels_true, labels_pred)\n",
    "    completeness = metrics.completeness_score(labels_true, labels_pred)\n",
    "    v_measure = metrics.v_measure_score(labels_true, labels_pred, beta=0.5)\n",
    "    result = {\n",
    "        'ARI': ari,\n",
    "        \"purity\": purity,\n",
    "        'homogeneity': homogeneity,\n",
    "        'completeness': completeness,\n",
    "        'v_measure': v_measure\n",
    "    }\n",
    "    return result"
   ]
  },
  {
   "cell_type": "code",
   "execution_count": 5,
   "id": "6601b16b",
   "metadata": {},
   "outputs": [],
   "source": [
    "show_progress_bar = False\n",
    "model = Word2Vec.load(\"orbitrap.model\")"
   ]
  },
  {
   "cell_type": "code",
   "execution_count": 6,
   "id": "f05b0275",
   "metadata": {},
   "outputs": [
    {
     "data": {
      "text/plain": [
       "{'ARI': 0.08706158804987005,\n",
       " 'purity': 0.5177011898481918,\n",
       " 'homogeneity': 0.7167324859727832,\n",
       " 'completeness': 0.7078143143384031,\n",
       " 'v_measure': 0.713734896454794}"
      ]
     },
     "execution_count": 6,
     "metadata": {},
     "output_type": "execute_result"
    }
   ],
   "source": [
    "spectra = np.load(tsne_cluster.SPECEMBEDDING_CLUSTER, allow_pickle=True)\n",
    "labels, unique_smiles = get_label(spectra)\n",
    "\n",
    "spectra_embedding, _ = embedding(model,  spectra, show_progress_bar)\n",
    "\n",
    "brc = Birch(threshold=0.5, n_clusters=len(unique_smiles))\n",
    "pred_labels = brc.fit_predict(spectra_embedding)\n",
    "CalEvaluate(labels, pred_labels)"
   ]
  },
  {
   "cell_type": "code",
   "execution_count": 7,
   "id": "9509776d",
   "metadata": {},
   "outputs": [
    {
     "data": {
      "text/plain": [
       "{'ARI': 0.1006049521645423,\n",
       " 'purity': 0.5697964742377242,\n",
       " 'homogeneity': 0.7096235833528495,\n",
       " 'completeness': 0.6920674683943767,\n",
       " 'v_measure': 0.703673406631542}"
      ]
     },
     "execution_count": 7,
     "metadata": {},
     "output_type": "execute_result"
    }
   ],
   "source": [
    "spectra = np.load(tsne_cluster.MSBERT_CLUSTER, allow_pickle=True)\n",
    "labels, unique_smiles = get_label(spectra)\n",
    "\n",
    "spectra_embedding, _ = embedding(model,  spectra, show_progress_bar)\n",
    "\n",
    "brc = Birch(threshold=0.5, n_clusters=len(unique_smiles))\n",
    "pred_labels = brc.fit_predict(spectra_embedding)\n",
    "CalEvaluate(labels, pred_labels)"
   ]
  }
 ],
 "metadata": {
  "kernelspec": {
   "display_name": "py312",
   "language": "python",
   "name": "python3"
  },
  "language_info": {
   "codemirror_mode": {
    "name": "ipython",
    "version": 3
   },
   "file_extension": ".py",
   "mimetype": "text/x-python",
   "name": "python",
   "nbconvert_exporter": "python",
   "pygments_lexer": "ipython3",
   "version": "3.12.9"
  }
 },
 "nbformat": 4,
 "nbformat_minor": 5
}
