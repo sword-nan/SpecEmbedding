{
 "cells": [
  {
   "cell_type": "code",
   "execution_count": null,
   "metadata": {},
   "outputs": [],
   "source": [
    "import sys\n",
    "sys.path.append(\"../\")\n",
    "\n",
    "import numpy as np\n",
    "from ms2deepscore.SettingsMS2Deepscore import SettingsMS2Deepscore\n",
    "from ms2deepscore.wrapper_functions.training_wrapper_functions import train_ms2ds_model\n",
    "\n",
    "from const import gnps"
   ]
  },
  {
   "cell_type": "code",
   "execution_count": null,
   "metadata": {},
   "outputs": [],
   "source": [
    "train_spectra = np.load(gnps.ORBITRAP_TRAIN_REF, allow_pickle=True)\n",
    "val_spectra = np.load(gnps.ORBITRAP_TRAIN_QUERY, allow_pickle=True)"
   ]
  },
  {
   "cell_type": "code",
   "execution_count": null,
   "metadata": {},
   "outputs": [],
   "source": [
    "setting = SettingsMS2Deepscore(\n",
    "    **{\n",
    "        \"epochs\": 500,\n",
    "        \"base_dims\": (1000, 1000, 1000),\n",
    "        \"embedding_dim\": 512,\n",
    "        \"ionisation_mode\": \"positive\",\n",
    "        \"batch_size\": 512,\n",
    "        \"learning_rate\": 0.00025,\n",
    "        \"patience\": 30,\n",
    "        \"max_inchikey_sampling\": 8000\n",
    "    }\n",
    ")"
   ]
  },
  {
   "cell_type": "code",
   "execution_count": 4,
   "metadata": {},
   "outputs": [
    {
     "name": "stderr",
     "output_type": "stream",
     "text": [
      "Balanced sampling of inchikey pairs (per bin): 100%|██████████| 137580/137580 [00:05<00:00, 27123.40it/s]\n",
      "Balanced sampling of inchikey pairs (per bin): 100%|██████████| 137580/137580 [00:04<00:00, 29055.80it/s]\n",
      "Balanced sampling of inchikey pairs (per bin): 100%|██████████| 137580/137580 [00:04<00:00, 29461.38it/s]\n",
      "Balanced sampling of inchikey pairs (per bin): 100%|██████████| 137580/137580 [00:06<00:00, 21112.37it/s]\n",
      "Balanced sampling of inchikey pairs (per bin): 100%|██████████| 137580/137580 [00:04<00:00, 27520.43it/s]\n",
      "100%|██████████| 10/10 [00:03<00:00,  2.51it/s]\n",
      "Calculating fingerprints: 100%|██████████| 5902/5902 [00:25<00:00, 232.90it/s]\n",
      "Calculating fingerprints: 100%|██████████| 5902/5902 [00:23<00:00, 247.52it/s]\n"
     ]
    },
    {
     "name": "stdout",
     "output_type": "stream",
     "text": [
      "Calculating tanimoto scores\n",
      "Training will happen on cuda:1.\n"
     ]
    },
    {
     "name": "stderr",
     "output_type": "stream",
     "text": [
      "Epoch 0: 100%|██████████| 14/14 [00:13<00:00,  1.06batch/s, loss=0.197, rmse=0.507]\n"
     ]
    },
    {
     "name": "stdout",
     "output_type": "stream",
     "text": [
      "Calculating embeddings\n"
     ]
    },
    {
     "name": "stderr",
     "output_type": "stream",
     "text": [
      "6851it [00:07, 874.78it/s] \n"
     ]
    },
    {
     "name": "stdout",
     "output_type": "stream",
     "text": [
      "Calculating similarity between embeddings\n"
     ]
    },
    {
     "name": "stderr",
     "output_type": "stream",
     "text": [
      "Selecting available inchikey pairs per bin: 10it [00:02,  4.52it/s]\n",
      "Selecting available inchikey pairs per bin: 10it [00:02,  4.25it/s]\n"
     ]
    },
    {
     "name": "stdout",
     "output_type": "stream",
     "text": [
      "Saving checkpoint model.\n",
      "Epoch [1/500], Loss: 0.2605\n",
      "Validation Loss: 0.2073 (RMSE: 0.4282).\n"
     ]
    },
    {
     "name": "stderr",
     "output_type": "stream",
     "text": [
      "Epoch 1: 100%|██████████| 14/14 [00:11<00:00,  1.25batch/s, loss=0.138, rmse=0.427]\n"
     ]
    },
    {
     "name": "stdout",
     "output_type": "stream",
     "text": [
      "Calculating embeddings\n"
     ]
    },
    {
     "name": "stderr",
     "output_type": "stream",
     "text": [
      "6851it [00:09, 758.25it/s]\n"
     ]
    },
    {
     "name": "stdout",
     "output_type": "stream",
     "text": [
      "Calculating similarity between embeddings\n"
     ]
    },
    {
     "name": "stderr",
     "output_type": "stream",
     "text": [
      "Selecting available inchikey pairs per bin: 10it [00:02,  4.61it/s]\n",
      "Selecting available inchikey pairs per bin: 10it [00:02,  4.68it/s]\n"
     ]
    },
    {
     "name": "stdout",
     "output_type": "stream",
     "text": [
      "Saving checkpoint model.\n",
      "Epoch [2/500], Loss: 0.1831\n",
      "Validation Loss: 0.1419 (RMSE: 0.3504).\n"
     ]
    },
    {
     "name": "stderr",
     "output_type": "stream",
     "text": [
      "Epoch 2: 100%|██████████| 14/14 [00:12<00:00,  1.11batch/s, loss=0.098, rmse=0.347]\n"
     ]
    },
    {
     "name": "stdout",
     "output_type": "stream",
     "text": [
      "Calculating embeddings\n"
     ]
    },
    {
     "name": "stderr",
     "output_type": "stream",
     "text": [
      "6851it [00:08, 816.66it/s] \n"
     ]
    },
    {
     "name": "stdout",
     "output_type": "stream",
     "text": [
      "Calculating similarity between embeddings\n"
     ]
    },
    {
     "name": "stderr",
     "output_type": "stream",
     "text": [
      "Selecting available inchikey pairs per bin: 10it [00:02,  4.70it/s]\n",
      "Selecting available inchikey pairs per bin: 10it [00:02,  3.61it/s]\n"
     ]
    },
    {
     "name": "stdout",
     "output_type": "stream",
     "text": [
      "Saving checkpoint model.\n",
      "Epoch [3/500], Loss: 0.1210\n",
      "Validation Loss: 0.1186 (RMSE: 0.3151).\n"
     ]
    },
    {
     "name": "stderr",
     "output_type": "stream",
     "text": [
      "Epoch 3: 100%|██████████| 14/14 [00:12<00:00,  1.13batch/s, loss=0.0765, rmse=0.307]\n"
     ]
    },
    {
     "name": "stdout",
     "output_type": "stream",
     "text": [
      "Calculating embeddings\n"
     ]
    },
    {
     "name": "stderr",
     "output_type": "stream",
     "text": [
      "6851it [00:08, 799.47it/s]\n"
     ]
    },
    {
     "name": "stdout",
     "output_type": "stream",
     "text": [
      "Calculating similarity between embeddings\n"
     ]
    },
    {
     "name": "stderr",
     "output_type": "stream",
     "text": [
      "Selecting available inchikey pairs per bin: 10it [00:02,  3.67it/s]\n",
      "Selecting available inchikey pairs per bin: 10it [00:02,  3.42it/s]\n"
     ]
    },
    {
     "name": "stdout",
     "output_type": "stream",
     "text": [
      "Saving checkpoint model.\n",
      "Epoch [4/500], Loss: 0.0945\n",
      "Validation Loss: 0.0939 (RMSE: 0.2995).\n"
     ]
    },
    {
     "name": "stderr",
     "output_type": "stream",
     "text": [
      "Epoch 4: 100%|██████████| 14/14 [00:13<00:00,  1.06batch/s, loss=0.0699, rmse=0.276]\n"
     ]
    },
    {
     "name": "stdout",
     "output_type": "stream",
     "text": [
      "Calculating embeddings\n"
     ]
    },
    {
     "name": "stderr",
     "output_type": "stream",
     "text": [
      "6851it [00:08, 832.88it/s] \n"
     ]
    },
    {
     "name": "stdout",
     "output_type": "stream",
     "text": [
      "Calculating similarity between embeddings\n"
     ]
    },
    {
     "name": "stderr",
     "output_type": "stream",
     "text": [
      "Selecting available inchikey pairs per bin: 10it [00:02,  4.37it/s]\n",
      "Selecting available inchikey pairs per bin: 10it [00:02,  4.10it/s]\n"
     ]
    },
    {
     "name": "stdout",
     "output_type": "stream",
     "text": [
      "Saving checkpoint model.\n",
      "Epoch [5/500], Loss: 0.0765\n",
      "Validation Loss: 0.0789 (RMSE: 0.2656).\n"
     ]
    },
    {
     "name": "stderr",
     "output_type": "stream",
     "text": [
      "Epoch 5: 100%|██████████| 14/14 [00:13<00:00,  1.06batch/s, loss=0.0539, rmse=0.261]\n"
     ]
    },
    {
     "name": "stdout",
     "output_type": "stream",
     "text": [
      "Calculating embeddings\n"
     ]
    },
    {
     "name": "stderr",
     "output_type": "stream",
     "text": [
      "6851it [00:08, 768.67it/s]\n"
     ]
    },
    {
     "name": "stdout",
     "output_type": "stream",
     "text": [
      "Calculating similarity between embeddings\n"
     ]
    },
    {
     "name": "stderr",
     "output_type": "stream",
     "text": [
      "Selecting available inchikey pairs per bin: 10it [00:02,  4.46it/s]\n",
      "Selecting available inchikey pairs per bin: 10it [00:02,  4.76it/s]\n"
     ]
    },
    {
     "name": "stdout",
     "output_type": "stream",
     "text": [
      "Saving checkpoint model.\n",
      "Epoch [6/500], Loss: 0.0686\n",
      "Validation Loss: 0.0678 (RMSE: 0.2507).\n"
     ]
    },
    {
     "name": "stderr",
     "output_type": "stream",
     "text": [
      "Epoch 6: 100%|██████████| 14/14 [00:12<00:00,  1.16batch/s, loss=0.0515, rmse=0.246]\n"
     ]
    },
    {
     "name": "stdout",
     "output_type": "stream",
     "text": [
      "Calculating embeddings\n"
     ]
    },
    {
     "name": "stderr",
     "output_type": "stream",
     "text": [
      "6851it [00:08, 809.80it/s]\n"
     ]
    },
    {
     "name": "stdout",
     "output_type": "stream",
     "text": [
      "Calculating similarity between embeddings\n"
     ]
    },
    {
     "name": "stderr",
     "output_type": "stream",
     "text": [
      "Selecting available inchikey pairs per bin: 10it [00:02,  4.49it/s]\n",
      "Selecting available inchikey pairs per bin: 10it [00:02,  3.93it/s]\n"
     ]
    },
    {
     "name": "stdout",
     "output_type": "stream",
     "text": [
      "Saving checkpoint model.\n",
      "Epoch [7/500], Loss: 0.0607\n",
      "Validation Loss: 0.0660 (RMSE: 0.2448).\n"
     ]
    },
    {
     "name": "stderr",
     "output_type": "stream",
     "text": [
      "Epoch 7: 100%|██████████| 14/14 [00:12<00:00,  1.12batch/s, loss=0.0555, rmse=0.242]\n"
     ]
    },
    {
     "name": "stdout",
     "output_type": "stream",
     "text": [
      "Calculating embeddings\n"
     ]
    },
    {
     "name": "stderr",
     "output_type": "stream",
     "text": [
      "6851it [00:07, 860.04it/s]\n"
     ]
    },
    {
     "name": "stdout",
     "output_type": "stream",
     "text": [
      "Calculating similarity between embeddings\n"
     ]
    },
    {
     "name": "stderr",
     "output_type": "stream",
     "text": [
      "Selecting available inchikey pairs per bin: 10it [00:02,  4.57it/s]\n",
      "Selecting available inchikey pairs per bin: 10it [00:02,  3.45it/s]\n"
     ]
    },
    {
     "name": "stdout",
     "output_type": "stream",
     "text": [
      "Saving checkpoint model.\n",
      "Epoch [8/500], Loss: 0.0585\n",
      "Validation Loss: 0.0622 (RMSE: 0.2394).\n"
     ]
    },
    {
     "name": "stderr",
     "output_type": "stream",
     "text": [
      "Epoch 8: 100%|██████████| 14/14 [00:12<00:00,  1.15batch/s, loss=0.0577, rmse=0.233]\n"
     ]
    },
    {
     "name": "stdout",
     "output_type": "stream",
     "text": [
      "Calculating embeddings\n"
     ]
    },
    {
     "name": "stderr",
     "output_type": "stream",
     "text": [
      "6851it [00:08, 833.04it/s] \n"
     ]
    },
    {
     "name": "stdout",
     "output_type": "stream",
     "text": [
      "Calculating similarity between embeddings\n"
     ]
    },
    {
     "name": "stderr",
     "output_type": "stream",
     "text": [
      "Selecting available inchikey pairs per bin: 10it [00:02,  4.44it/s]\n",
      "Selecting available inchikey pairs per bin: 10it [00:02,  3.52it/s]\n"
     ]
    },
    {
     "name": "stdout",
     "output_type": "stream",
     "text": [
      "Epoch [9/500], Loss: 0.0544\n",
      "Validation Loss: 0.0626 (RMSE: 0.2382).\n"
     ]
    },
    {
     "name": "stderr",
     "output_type": "stream",
     "text": [
      "Epoch 9: 100%|██████████| 14/14 [00:12<00:00,  1.16batch/s, loss=0.0556, rmse=0.231]\n"
     ]
    },
    {
     "name": "stdout",
     "output_type": "stream",
     "text": [
      "Calculating embeddings\n"
     ]
    },
    {
     "name": "stderr",
     "output_type": "stream",
     "text": [
      "6851it [00:07, 859.82it/s]\n"
     ]
    },
    {
     "name": "stdout",
     "output_type": "stream",
     "text": [
      "Calculating similarity between embeddings\n"
     ]
    },
    {
     "name": "stderr",
     "output_type": "stream",
     "text": [
      "Selecting available inchikey pairs per bin: 10it [00:02,  4.69it/s]\n",
      "Selecting available inchikey pairs per bin: 10it [00:02,  4.53it/s]\n"
     ]
    },
    {
     "name": "stdout",
     "output_type": "stream",
     "text": [
      "Saving checkpoint model.\n",
      "Epoch [10/500], Loss: 0.0532\n",
      "Validation Loss: 0.0571 (RMSE: 0.2299).\n"
     ]
    },
    {
     "name": "stderr",
     "output_type": "stream",
     "text": [
      "Epoch 10: 100%|██████████| 14/14 [00:11<00:00,  1.17batch/s, loss=0.0528, rmse=0.226]\n"
     ]
    },
    {
     "name": "stdout",
     "output_type": "stream",
     "text": [
      "Calculating embeddings\n"
     ]
    },
    {
     "name": "stderr",
     "output_type": "stream",
     "text": [
      "6851it [00:08, 786.89it/s]\n"
     ]
    },
    {
     "name": "stdout",
     "output_type": "stream",
     "text": [
      "Calculating similarity between embeddings\n"
     ]
    },
    {
     "name": "stderr",
     "output_type": "stream",
     "text": [
      "Selecting available inchikey pairs per bin: 10it [00:02,  4.60it/s]\n",
      "Selecting available inchikey pairs per bin: 10it [00:02,  3.83it/s]\n"
     ]
    },
    {
     "name": "stdout",
     "output_type": "stream",
     "text": [
      "Saving checkpoint model.\n",
      "Epoch [11/500], Loss: 0.0512\n",
      "Validation Loss: 0.0564 (RMSE: 0.2278).\n"
     ]
    },
    {
     "name": "stderr",
     "output_type": "stream",
     "text": [
      "Epoch 11: 100%|██████████| 14/14 [00:11<00:00,  1.19batch/s, loss=0.051, rmse=0.22]  \n"
     ]
    },
    {
     "name": "stdout",
     "output_type": "stream",
     "text": [
      "Calculating embeddings\n"
     ]
    },
    {
     "name": "stderr",
     "output_type": "stream",
     "text": [
      "6851it [00:07, 873.23it/s] \n"
     ]
    },
    {
     "name": "stdout",
     "output_type": "stream",
     "text": [
      "Calculating similarity between embeddings\n"
     ]
    },
    {
     "name": "stderr",
     "output_type": "stream",
     "text": [
      "Selecting available inchikey pairs per bin: 10it [00:03,  2.66it/s]\n",
      "Selecting available inchikey pairs per bin: 10it [00:03,  3.19it/s]\n"
     ]
    },
    {
     "name": "stdout",
     "output_type": "stream",
     "text": [
      "Saving checkpoint model.\n",
      "Epoch [12/500], Loss: 0.0483\n",
      "Validation Loss: 0.0555 (RMSE: 0.2257).\n"
     ]
    },
    {
     "name": "stderr",
     "output_type": "stream",
     "text": [
      "Epoch 12: 100%|██████████| 14/14 [00:15<00:00,  1.07s/batch, loss=0.0485, rmse=0.217]\n"
     ]
    },
    {
     "name": "stdout",
     "output_type": "stream",
     "text": [
      "Calculating embeddings\n"
     ]
    },
    {
     "name": "stderr",
     "output_type": "stream",
     "text": [
      "6851it [00:07, 883.49it/s] \n"
     ]
    },
    {
     "name": "stdout",
     "output_type": "stream",
     "text": [
      "Calculating similarity between embeddings\n"
     ]
    },
    {
     "name": "stderr",
     "output_type": "stream",
     "text": [
      "Selecting available inchikey pairs per bin: 10it [00:03,  3.28it/s]\n",
      "Selecting available inchikey pairs per bin: 10it [00:03,  3.24it/s]\n"
     ]
    },
    {
     "name": "stdout",
     "output_type": "stream",
     "text": [
      "Saving checkpoint model.\n",
      "Epoch [13/500], Loss: 0.0470\n",
      "Validation Loss: 0.0539 (RMSE: 0.2231).\n"
     ]
    },
    {
     "name": "stderr",
     "output_type": "stream",
     "text": [
      "Epoch 13: 100%|██████████| 14/14 [00:14<00:00,  1.07s/batch, loss=0.047, rmse=0.216] \n"
     ]
    },
    {
     "name": "stdout",
     "output_type": "stream",
     "text": [
      "Calculating embeddings\n"
     ]
    },
    {
     "name": "stderr",
     "output_type": "stream",
     "text": [
      "6851it [00:07, 902.28it/s] \n"
     ]
    },
    {
     "name": "stdout",
     "output_type": "stream",
     "text": [
      "Calculating similarity between embeddings\n"
     ]
    },
    {
     "name": "stderr",
     "output_type": "stream",
     "text": [
      "Selecting available inchikey pairs per bin: 10it [00:03,  3.11it/s]\n",
      "Selecting available inchikey pairs per bin: 10it [00:03,  3.21it/s]\n"
     ]
    },
    {
     "name": "stdout",
     "output_type": "stream",
     "text": [
      "Saving checkpoint model.\n",
      "Epoch [14/500], Loss: 0.0467\n",
      "Validation Loss: 0.0523 (RMSE: 0.2206).\n"
     ]
    },
    {
     "name": "stderr",
     "output_type": "stream",
     "text": [
      "Epoch 14: 100%|██████████| 14/14 [00:15<00:00,  1.11s/batch, loss=0.0451, rmse=0.217]\n"
     ]
    },
    {
     "name": "stdout",
     "output_type": "stream",
     "text": [
      "Calculating embeddings\n"
     ]
    },
    {
     "name": "stderr",
     "output_type": "stream",
     "text": [
      "6851it [00:09, 748.26it/s]\n"
     ]
    },
    {
     "name": "stdout",
     "output_type": "stream",
     "text": [
      "Calculating similarity between embeddings\n"
     ]
    },
    {
     "name": "stderr",
     "output_type": "stream",
     "text": [
      "Selecting available inchikey pairs per bin: 10it [00:02,  4.58it/s]\n",
      "Selecting available inchikey pairs per bin: 10it [00:02,  3.71it/s]\n"
     ]
    },
    {
     "name": "stdout",
     "output_type": "stream",
     "text": [
      "Saving checkpoint model.\n",
      "Epoch [15/500], Loss: 0.0470\n",
      "Validation Loss: 0.0516 (RMSE: 0.2185).\n"
     ]
    },
    {
     "name": "stderr",
     "output_type": "stream",
     "text": [
      "Epoch 15: 100%|██████████| 14/14 [00:10<00:00,  1.37batch/s, loss=0.052, rmse=0.214] \n"
     ]
    },
    {
     "name": "stdout",
     "output_type": "stream",
     "text": [
      "Calculating embeddings\n"
     ]
    },
    {
     "name": "stderr",
     "output_type": "stream",
     "text": [
      "6851it [00:07, 875.24it/s] \n"
     ]
    },
    {
     "name": "stdout",
     "output_type": "stream",
     "text": [
      "Calculating similarity between embeddings\n"
     ]
    },
    {
     "name": "stderr",
     "output_type": "stream",
     "text": [
      "Selecting available inchikey pairs per bin: 10it [00:02,  4.61it/s]\n",
      "Selecting available inchikey pairs per bin: 10it [00:02,  4.58it/s]\n"
     ]
    },
    {
     "name": "stdout",
     "output_type": "stream",
     "text": [
      "Saving checkpoint model.\n",
      "Epoch [16/500], Loss: 0.0460\n",
      "Validation Loss: 0.0508 (RMSE: 0.2172).\n"
     ]
    },
    {
     "name": "stderr",
     "output_type": "stream",
     "text": [
      "Epoch 16: 100%|██████████| 14/14 [00:11<00:00,  1.22batch/s, loss=0.0433, rmse=0.211]\n"
     ]
    },
    {
     "name": "stdout",
     "output_type": "stream",
     "text": [
      "Calculating embeddings\n"
     ]
    },
    {
     "name": "stderr",
     "output_type": "stream",
     "text": [
      "6851it [00:08, 844.03it/s]\n"
     ]
    },
    {
     "name": "stdout",
     "output_type": "stream",
     "text": [
      "Calculating similarity between embeddings\n"
     ]
    },
    {
     "name": "stderr",
     "output_type": "stream",
     "text": [
      "Selecting available inchikey pairs per bin: 10it [00:02,  4.71it/s]\n",
      "Selecting available inchikey pairs per bin: 10it [00:02,  4.76it/s]\n"
     ]
    },
    {
     "name": "stdout",
     "output_type": "stream",
     "text": [
      "Epoch [17/500], Loss: 0.0446\n",
      "Validation Loss: 0.0543 (RMSE: 0.2218).\n"
     ]
    },
    {
     "name": "stderr",
     "output_type": "stream",
     "text": [
      "Epoch 17: 100%|██████████| 14/14 [00:11<00:00,  1.24batch/s, loss=0.0411, rmse=0.21] \n"
     ]
    },
    {
     "name": "stdout",
     "output_type": "stream",
     "text": [
      "Calculating embeddings\n"
     ]
    },
    {
     "name": "stderr",
     "output_type": "stream",
     "text": [
      "6851it [00:07, 896.30it/s]\n"
     ]
    },
    {
     "name": "stdout",
     "output_type": "stream",
     "text": [
      "Calculating similarity between embeddings\n"
     ]
    },
    {
     "name": "stderr",
     "output_type": "stream",
     "text": [
      "Selecting available inchikey pairs per bin: 10it [00:02,  4.54it/s]\n",
      "Selecting available inchikey pairs per bin: 10it [00:02,  4.69it/s]\n"
     ]
    },
    {
     "name": "stdout",
     "output_type": "stream",
     "text": [
      "Saving checkpoint model.\n",
      "Epoch [18/500], Loss: 0.0441\n",
      "Validation Loss: 0.0500 (RMSE: 0.2156).\n"
     ]
    },
    {
     "name": "stderr",
     "output_type": "stream",
     "text": [
      "Epoch 18: 100%|██████████| 14/14 [00:10<00:00,  1.32batch/s, loss=0.0387, rmse=0.204]\n"
     ]
    },
    {
     "name": "stdout",
     "output_type": "stream",
     "text": [
      "Calculating embeddings\n"
     ]
    },
    {
     "name": "stderr",
     "output_type": "stream",
     "text": [
      "6851it [00:07, 916.84it/s]\n"
     ]
    },
    {
     "name": "stdout",
     "output_type": "stream",
     "text": [
      "Calculating similarity between embeddings\n"
     ]
    },
    {
     "name": "stderr",
     "output_type": "stream",
     "text": [
      "Selecting available inchikey pairs per bin: 10it [00:02,  4.71it/s]\n",
      "Selecting available inchikey pairs per bin: 10it [00:02,  4.32it/s]\n"
     ]
    },
    {
     "name": "stdout",
     "output_type": "stream",
     "text": [
      "Saving checkpoint model.\n",
      "Epoch [19/500], Loss: 0.0418\n",
      "Validation Loss: 0.0489 (RMSE: 0.2129).\n"
     ]
    },
    {
     "name": "stderr",
     "output_type": "stream",
     "text": [
      "Epoch 19: 100%|██████████| 14/14 [00:11<00:00,  1.23batch/s, loss=0.0418, rmse=0.204]\n"
     ]
    },
    {
     "name": "stdout",
     "output_type": "stream",
     "text": [
      "Calculating embeddings\n"
     ]
    },
    {
     "name": "stderr",
     "output_type": "stream",
     "text": [
      "6851it [00:07, 889.28it/s] \n"
     ]
    },
    {
     "name": "stdout",
     "output_type": "stream",
     "text": [
      "Calculating similarity between embeddings\n"
     ]
    },
    {
     "name": "stderr",
     "output_type": "stream",
     "text": [
      "Selecting available inchikey pairs per bin: 10it [00:02,  4.19it/s]\n",
      "Selecting available inchikey pairs per bin: 10it [00:02,  3.89it/s]\n"
     ]
    },
    {
     "name": "stdout",
     "output_type": "stream",
     "text": [
      "Saving checkpoint model.\n",
      "Epoch [20/500], Loss: 0.0418\n",
      "Validation Loss: 0.0486 (RMSE: 0.2134).\n"
     ]
    },
    {
     "name": "stderr",
     "output_type": "stream",
     "text": [
      "Epoch 20: 100%|██████████| 14/14 [00:12<00:00,  1.10batch/s, loss=0.039, rmse=0.203] \n"
     ]
    },
    {
     "name": "stdout",
     "output_type": "stream",
     "text": [
      "Calculating embeddings\n"
     ]
    },
    {
     "name": "stderr",
     "output_type": "stream",
     "text": [
      "6851it [00:08, 833.77it/s] \n"
     ]
    },
    {
     "name": "stdout",
     "output_type": "stream",
     "text": [
      "Calculating similarity between embeddings\n"
     ]
    },
    {
     "name": "stderr",
     "output_type": "stream",
     "text": [
      "Selecting available inchikey pairs per bin: 10it [00:02,  4.84it/s]\n",
      "Selecting available inchikey pairs per bin: 10it [00:02,  3.62it/s]\n"
     ]
    },
    {
     "name": "stdout",
     "output_type": "stream",
     "text": [
      "Epoch [21/500], Loss: 0.0413\n",
      "Validation Loss: 0.0507 (RMSE: 0.2175).\n"
     ]
    },
    {
     "name": "stderr",
     "output_type": "stream",
     "text": [
      "Epoch 21: 100%|██████████| 14/14 [00:10<00:00,  1.33batch/s, loss=0.0411, rmse=0.2]  \n"
     ]
    },
    {
     "name": "stdout",
     "output_type": "stream",
     "text": [
      "Calculating embeddings\n"
     ]
    },
    {
     "name": "stderr",
     "output_type": "stream",
     "text": [
      "6851it [00:07, 927.34it/s] \n"
     ]
    },
    {
     "name": "stdout",
     "output_type": "stream",
     "text": [
      "Calculating similarity between embeddings\n"
     ]
    },
    {
     "name": "stderr",
     "output_type": "stream",
     "text": [
      "Selecting available inchikey pairs per bin: 10it [00:02,  4.66it/s]\n",
      "Selecting available inchikey pairs per bin: 10it [00:02,  4.68it/s]\n"
     ]
    },
    {
     "name": "stdout",
     "output_type": "stream",
     "text": [
      "Saving checkpoint model.\n",
      "Epoch [22/500], Loss: 0.0400\n",
      "Validation Loss: 0.0477 (RMSE: 0.2113).\n"
     ]
    },
    {
     "name": "stderr",
     "output_type": "stream",
     "text": [
      "Epoch 22: 100%|██████████| 14/14 [00:12<00:00,  1.11batch/s, loss=0.04, rmse=0.198]  \n"
     ]
    },
    {
     "name": "stdout",
     "output_type": "stream",
     "text": [
      "Calculating embeddings\n"
     ]
    },
    {
     "name": "stderr",
     "output_type": "stream",
     "text": [
      "6851it [00:07, 884.24it/s] \n"
     ]
    },
    {
     "name": "stdout",
     "output_type": "stream",
     "text": [
      "Calculating similarity between embeddings\n"
     ]
    },
    {
     "name": "stderr",
     "output_type": "stream",
     "text": [
      "Selecting available inchikey pairs per bin: 10it [00:02,  4.76it/s]\n",
      "Selecting available inchikey pairs per bin: 10it [00:02,  4.74it/s]\n"
     ]
    },
    {
     "name": "stdout",
     "output_type": "stream",
     "text": [
      "Epoch [23/500], Loss: 0.0391\n",
      "Validation Loss: 0.0496 (RMSE: 0.2135).\n"
     ]
    },
    {
     "name": "stderr",
     "output_type": "stream",
     "text": [
      "Epoch 23: 100%|██████████| 14/14 [00:11<00:00,  1.23batch/s, loss=0.0388, rmse=0.197]\n"
     ]
    },
    {
     "name": "stdout",
     "output_type": "stream",
     "text": [
      "Calculating embeddings\n"
     ]
    },
    {
     "name": "stderr",
     "output_type": "stream",
     "text": [
      "6851it [00:07, 894.59it/s] \n"
     ]
    },
    {
     "name": "stdout",
     "output_type": "stream",
     "text": [
      "Calculating similarity between embeddings\n"
     ]
    },
    {
     "name": "stderr",
     "output_type": "stream",
     "text": [
      "Selecting available inchikey pairs per bin: 10it [00:02,  4.58it/s]\n",
      "Selecting available inchikey pairs per bin: 10it [00:02,  3.70it/s]\n"
     ]
    },
    {
     "name": "stdout",
     "output_type": "stream",
     "text": [
      "Saving checkpoint model.\n",
      "Epoch [24/500], Loss: 0.0389\n",
      "Validation Loss: 0.0470 (RMSE: 0.2097).\n"
     ]
    },
    {
     "name": "stderr",
     "output_type": "stream",
     "text": [
      "Epoch 24: 100%|██████████| 14/14 [00:11<00:00,  1.27batch/s, loss=0.0397, rmse=0.193]\n"
     ]
    },
    {
     "name": "stdout",
     "output_type": "stream",
     "text": [
      "Calculating embeddings\n"
     ]
    },
    {
     "name": "stderr",
     "output_type": "stream",
     "text": [
      "6851it [00:07, 890.97it/s] \n"
     ]
    },
    {
     "name": "stdout",
     "output_type": "stream",
     "text": [
      "Calculating similarity between embeddings\n"
     ]
    },
    {
     "name": "stderr",
     "output_type": "stream",
     "text": [
      "Selecting available inchikey pairs per bin: 10it [00:02,  3.86it/s]\n",
      "Selecting available inchikey pairs per bin: 10it [00:02,  4.73it/s]\n"
     ]
    },
    {
     "name": "stdout",
     "output_type": "stream",
     "text": [
      "Epoch [25/500], Loss: 0.0372\n",
      "Validation Loss: 0.0478 (RMSE: 0.2110).\n"
     ]
    },
    {
     "name": "stderr",
     "output_type": "stream",
     "text": [
      "Epoch 25: 100%|██████████| 14/14 [00:10<00:00,  1.31batch/s, loss=0.0389, rmse=0.196]\n"
     ]
    },
    {
     "name": "stdout",
     "output_type": "stream",
     "text": [
      "Calculating embeddings\n"
     ]
    },
    {
     "name": "stderr",
     "output_type": "stream",
     "text": [
      "6851it [00:08, 834.46it/s] \n"
     ]
    },
    {
     "name": "stdout",
     "output_type": "stream",
     "text": [
      "Calculating similarity between embeddings\n"
     ]
    },
    {
     "name": "stderr",
     "output_type": "stream",
     "text": [
      "Selecting available inchikey pairs per bin: 10it [00:02,  4.30it/s]\n",
      "Selecting available inchikey pairs per bin: 10it [00:02,  3.62it/s]\n"
     ]
    },
    {
     "name": "stdout",
     "output_type": "stream",
     "text": [
      "Epoch [26/500], Loss: 0.0383\n",
      "Validation Loss: 0.0486 (RMSE: 0.2127).\n"
     ]
    },
    {
     "name": "stderr",
     "output_type": "stream",
     "text": [
      "Epoch 26: 100%|██████████| 14/14 [00:11<00:00,  1.23batch/s, loss=0.036, rmse=0.19] \n"
     ]
    },
    {
     "name": "stdout",
     "output_type": "stream",
     "text": [
      "Calculating embeddings\n"
     ]
    },
    {
     "name": "stderr",
     "output_type": "stream",
     "text": [
      "6851it [00:08, 851.11it/s]\n"
     ]
    },
    {
     "name": "stdout",
     "output_type": "stream",
     "text": [
      "Calculating similarity between embeddings\n"
     ]
    },
    {
     "name": "stderr",
     "output_type": "stream",
     "text": [
      "Selecting available inchikey pairs per bin: 10it [00:03,  3.24it/s]\n",
      "Selecting available inchikey pairs per bin: 10it [00:02,  3.80it/s]\n"
     ]
    },
    {
     "name": "stdout",
     "output_type": "stream",
     "text": [
      "Saving checkpoint model.\n",
      "Epoch [27/500], Loss: 0.0360\n",
      "Validation Loss: 0.0467 (RMSE: 0.2087).\n"
     ]
    },
    {
     "name": "stderr",
     "output_type": "stream",
     "text": [
      "Epoch 27: 100%|██████████| 14/14 [00:11<00:00,  1.26batch/s, loss=0.0377, rmse=0.193]\n"
     ]
    },
    {
     "name": "stdout",
     "output_type": "stream",
     "text": [
      "Calculating embeddings\n"
     ]
    },
    {
     "name": "stderr",
     "output_type": "stream",
     "text": [
      "6851it [00:07, 901.20it/s] \n"
     ]
    },
    {
     "name": "stdout",
     "output_type": "stream",
     "text": [
      "Calculating similarity between embeddings\n"
     ]
    },
    {
     "name": "stderr",
     "output_type": "stream",
     "text": [
      "Selecting available inchikey pairs per bin: 10it [00:02,  4.69it/s]\n",
      "Selecting available inchikey pairs per bin: 10it [00:02,  4.83it/s]\n"
     ]
    },
    {
     "name": "stdout",
     "output_type": "stream",
     "text": [
      "Saving checkpoint model.\n",
      "Epoch [28/500], Loss: 0.0373\n",
      "Validation Loss: 0.0459 (RMSE: 0.2069).\n"
     ]
    },
    {
     "name": "stderr",
     "output_type": "stream",
     "text": [
      "Epoch 28: 100%|██████████| 14/14 [00:10<00:00,  1.31batch/s, loss=0.0374, rmse=0.189]\n"
     ]
    },
    {
     "name": "stdout",
     "output_type": "stream",
     "text": [
      "Calculating embeddings\n"
     ]
    },
    {
     "name": "stderr",
     "output_type": "stream",
     "text": [
      "6851it [00:08, 837.08it/s]\n"
     ]
    },
    {
     "name": "stdout",
     "output_type": "stream",
     "text": [
      "Calculating similarity between embeddings\n"
     ]
    },
    {
     "name": "stderr",
     "output_type": "stream",
     "text": [
      "Selecting available inchikey pairs per bin: 10it [00:02,  4.64it/s]\n",
      "Selecting available inchikey pairs per bin: 10it [00:02,  4.66it/s]\n"
     ]
    },
    {
     "name": "stdout",
     "output_type": "stream",
     "text": [
      "Epoch [29/500], Loss: 0.0358\n",
      "Validation Loss: 0.0468 (RMSE: 0.2082).\n"
     ]
    },
    {
     "name": "stderr",
     "output_type": "stream",
     "text": [
      "Epoch 29: 100%|██████████| 14/14 [00:11<00:00,  1.21batch/s, loss=0.0347, rmse=0.19]\n"
     ]
    },
    {
     "name": "stdout",
     "output_type": "stream",
     "text": [
      "Calculating embeddings\n"
     ]
    },
    {
     "name": "stderr",
     "output_type": "stream",
     "text": [
      "6851it [00:07, 869.46it/s] \n"
     ]
    },
    {
     "name": "stdout",
     "output_type": "stream",
     "text": [
      "Calculating similarity between embeddings\n"
     ]
    },
    {
     "name": "stderr",
     "output_type": "stream",
     "text": [
      "Selecting available inchikey pairs per bin: 10it [00:02,  4.70it/s]\n",
      "Selecting available inchikey pairs per bin: 10it [00:02,  4.80it/s]\n"
     ]
    },
    {
     "name": "stdout",
     "output_type": "stream",
     "text": [
      "Saving checkpoint model.\n",
      "Epoch [30/500], Loss: 0.0361\n",
      "Validation Loss: 0.0454 (RMSE: 0.2057).\n"
     ]
    },
    {
     "name": "stderr",
     "output_type": "stream",
     "text": [
      "Epoch 30: 100%|██████████| 14/14 [00:11<00:00,  1.19batch/s, loss=0.0348, rmse=0.189]\n"
     ]
    },
    {
     "name": "stdout",
     "output_type": "stream",
     "text": [
      "Calculating embeddings\n"
     ]
    },
    {
     "name": "stderr",
     "output_type": "stream",
     "text": [
      "6851it [00:07, 895.21it/s] \n"
     ]
    },
    {
     "name": "stdout",
     "output_type": "stream",
     "text": [
      "Calculating similarity between embeddings\n"
     ]
    },
    {
     "name": "stderr",
     "output_type": "stream",
     "text": [
      "Selecting available inchikey pairs per bin: 10it [00:02,  4.11it/s]\n",
      "Selecting available inchikey pairs per bin: 10it [00:02,  4.62it/s]\n"
     ]
    },
    {
     "name": "stdout",
     "output_type": "stream",
     "text": [
      "Saving checkpoint model.\n",
      "Epoch [31/500], Loss: 0.0359\n",
      "Validation Loss: 0.0447 (RMSE: 0.2042).\n"
     ]
    },
    {
     "name": "stderr",
     "output_type": "stream",
     "text": [
      "Epoch 31: 100%|██████████| 14/14 [00:11<00:00,  1.18batch/s, loss=0.035, rmse=0.189] \n"
     ]
    },
    {
     "name": "stdout",
     "output_type": "stream",
     "text": [
      "Calculating embeddings\n"
     ]
    },
    {
     "name": "stderr",
     "output_type": "stream",
     "text": [
      "6851it [00:08, 816.65it/s] \n"
     ]
    },
    {
     "name": "stdout",
     "output_type": "stream",
     "text": [
      "Calculating similarity between embeddings\n"
     ]
    },
    {
     "name": "stderr",
     "output_type": "stream",
     "text": [
      "Selecting available inchikey pairs per bin: 10it [00:02,  3.48it/s]\n",
      "Selecting available inchikey pairs per bin: 10it [00:03,  3.30it/s]\n"
     ]
    },
    {
     "name": "stdout",
     "output_type": "stream",
     "text": [
      "Epoch [32/500], Loss: 0.0357\n",
      "Validation Loss: 0.0448 (RMSE: 0.2040).\n"
     ]
    },
    {
     "name": "stderr",
     "output_type": "stream",
     "text": [
      "Epoch 32: 100%|██████████| 14/14 [00:14<00:00,  1.05s/batch, loss=0.0316, rmse=0.185]\n"
     ]
    },
    {
     "name": "stdout",
     "output_type": "stream",
     "text": [
      "Calculating embeddings\n"
     ]
    },
    {
     "name": "stderr",
     "output_type": "stream",
     "text": [
      "6851it [00:09, 760.61it/s]\n"
     ]
    },
    {
     "name": "stdout",
     "output_type": "stream",
     "text": [
      "Calculating similarity between embeddings\n"
     ]
    },
    {
     "name": "stderr",
     "output_type": "stream",
     "text": [
      "Selecting available inchikey pairs per bin: 10it [00:02,  4.57it/s]\n",
      "Selecting available inchikey pairs per bin: 10it [00:02,  4.58it/s]\n"
     ]
    },
    {
     "name": "stdout",
     "output_type": "stream",
     "text": [
      "Saving checkpoint model.\n",
      "Epoch [33/500], Loss: 0.0343\n",
      "Validation Loss: 0.0440 (RMSE: 0.2027).\n"
     ]
    },
    {
     "name": "stderr",
     "output_type": "stream",
     "text": [
      "Epoch 33: 100%|██████████| 14/14 [00:11<00:00,  1.27batch/s, loss=0.0336, rmse=0.182]\n"
     ]
    },
    {
     "name": "stdout",
     "output_type": "stream",
     "text": [
      "Calculating embeddings\n"
     ]
    },
    {
     "name": "stderr",
     "output_type": "stream",
     "text": [
      "6851it [00:07, 886.61it/s] \n"
     ]
    },
    {
     "name": "stdout",
     "output_type": "stream",
     "text": [
      "Calculating similarity between embeddings\n"
     ]
    },
    {
     "name": "stderr",
     "output_type": "stream",
     "text": [
      "Selecting available inchikey pairs per bin: 10it [00:02,  4.70it/s]\n",
      "Selecting available inchikey pairs per bin: 10it [00:02,  4.70it/s]\n"
     ]
    },
    {
     "name": "stdout",
     "output_type": "stream",
     "text": [
      "Epoch [34/500], Loss: 0.0333\n",
      "Validation Loss: 0.0451 (RMSE: 0.2052).\n"
     ]
    },
    {
     "name": "stderr",
     "output_type": "stream",
     "text": [
      "Epoch 34: 100%|██████████| 14/14 [00:10<00:00,  1.35batch/s, loss=0.0324, rmse=0.183]\n"
     ]
    },
    {
     "name": "stdout",
     "output_type": "stream",
     "text": [
      "Calculating embeddings\n"
     ]
    },
    {
     "name": "stderr",
     "output_type": "stream",
     "text": [
      "6851it [00:04, 1508.07it/s]\n"
     ]
    },
    {
     "name": "stdout",
     "output_type": "stream",
     "text": [
      "Calculating similarity between embeddings\n"
     ]
    },
    {
     "name": "stderr",
     "output_type": "stream",
     "text": [
      "Selecting available inchikey pairs per bin: 10it [00:02,  4.73it/s]\n",
      "Selecting available inchikey pairs per bin: 10it [00:02,  4.80it/s]\n"
     ]
    },
    {
     "name": "stdout",
     "output_type": "stream",
     "text": [
      "Epoch [35/500], Loss: 0.0336\n",
      "Validation Loss: 0.0443 (RMSE: 0.2032).\n"
     ]
    },
    {
     "name": "stderr",
     "output_type": "stream",
     "text": [
      "Epoch 35: 100%|██████████| 14/14 [00:09<00:00,  1.51batch/s, loss=0.0315, rmse=0.181]\n"
     ]
    },
    {
     "name": "stdout",
     "output_type": "stream",
     "text": [
      "Calculating embeddings\n"
     ]
    },
    {
     "name": "stderr",
     "output_type": "stream",
     "text": [
      "6851it [00:02, 2546.14it/s]\n"
     ]
    },
    {
     "name": "stdout",
     "output_type": "stream",
     "text": [
      "Calculating similarity between embeddings\n"
     ]
    },
    {
     "name": "stderr",
     "output_type": "stream",
     "text": [
      "Selecting available inchikey pairs per bin: 10it [00:02,  4.81it/s]\n",
      "Selecting available inchikey pairs per bin: 10it [00:02,  4.81it/s]\n"
     ]
    },
    {
     "name": "stdout",
     "output_type": "stream",
     "text": [
      "Epoch [36/500], Loss: 0.0329\n",
      "Validation Loss: 0.0444 (RMSE: 0.2036).\n"
     ]
    },
    {
     "name": "stderr",
     "output_type": "stream",
     "text": [
      "Epoch 36: 100%|██████████| 14/14 [00:09<00:00,  1.51batch/s, loss=0.0286, rmse=0.185]\n"
     ]
    },
    {
     "name": "stdout",
     "output_type": "stream",
     "text": [
      "Calculating embeddings\n"
     ]
    },
    {
     "name": "stderr",
     "output_type": "stream",
     "text": [
      "6851it [00:03, 2212.13it/s]\n"
     ]
    },
    {
     "name": "stdout",
     "output_type": "stream",
     "text": [
      "Calculating similarity between embeddings\n"
     ]
    },
    {
     "name": "stderr",
     "output_type": "stream",
     "text": [
      "Selecting available inchikey pairs per bin: 10it [00:02,  4.85it/s]\n",
      "Selecting available inchikey pairs per bin: 10it [00:02,  4.84it/s]\n"
     ]
    },
    {
     "name": "stdout",
     "output_type": "stream",
     "text": [
      "Saving checkpoint model.\n",
      "Epoch [37/500], Loss: 0.0341\n",
      "Validation Loss: 0.0426 (RMSE: 0.2000).\n"
     ]
    },
    {
     "name": "stderr",
     "output_type": "stream",
     "text": [
      "Epoch 37: 100%|██████████| 14/14 [00:09<00:00,  1.48batch/s, loss=0.0312, rmse=0.178]\n"
     ]
    },
    {
     "name": "stdout",
     "output_type": "stream",
     "text": [
      "Calculating embeddings\n"
     ]
    },
    {
     "name": "stderr",
     "output_type": "stream",
     "text": [
      "6851it [00:02, 2480.36it/s]\n"
     ]
    },
    {
     "name": "stdout",
     "output_type": "stream",
     "text": [
      "Calculating similarity between embeddings\n"
     ]
    },
    {
     "name": "stderr",
     "output_type": "stream",
     "text": [
      "Selecting available inchikey pairs per bin: 10it [00:02,  4.85it/s]\n",
      "Selecting available inchikey pairs per bin: 10it [00:02,  4.81it/s]\n"
     ]
    },
    {
     "name": "stdout",
     "output_type": "stream",
     "text": [
      "Saving checkpoint model.\n",
      "Epoch [38/500], Loss: 0.0318\n",
      "Validation Loss: 0.0417 (RMSE: 0.1972).\n"
     ]
    },
    {
     "name": "stderr",
     "output_type": "stream",
     "text": [
      "Epoch 38: 100%|██████████| 14/14 [00:09<00:00,  1.48batch/s, loss=0.0329, rmse=0.179]\n"
     ]
    },
    {
     "name": "stdout",
     "output_type": "stream",
     "text": [
      "Calculating embeddings\n"
     ]
    },
    {
     "name": "stderr",
     "output_type": "stream",
     "text": [
      "6851it [00:02, 2510.08it/s]\n"
     ]
    },
    {
     "name": "stdout",
     "output_type": "stream",
     "text": [
      "Calculating similarity between embeddings\n"
     ]
    },
    {
     "name": "stderr",
     "output_type": "stream",
     "text": [
      "Selecting available inchikey pairs per bin: 10it [00:02,  3.80it/s]\n",
      "Selecting available inchikey pairs per bin: 10it [00:02,  4.65it/s]\n"
     ]
    },
    {
     "name": "stdout",
     "output_type": "stream",
     "text": [
      "Epoch [39/500], Loss: 0.0321\n",
      "Validation Loss: 0.0438 (RMSE: 0.2015).\n"
     ]
    },
    {
     "name": "stderr",
     "output_type": "stream",
     "text": [
      "Epoch 39: 100%|██████████| 14/14 [00:09<00:00,  1.45batch/s, loss=0.0303, rmse=0.181]\n"
     ]
    },
    {
     "name": "stdout",
     "output_type": "stream",
     "text": [
      "Calculating embeddings\n"
     ]
    },
    {
     "name": "stderr",
     "output_type": "stream",
     "text": [
      "6851it [00:02, 2438.20it/s]\n"
     ]
    },
    {
     "name": "stdout",
     "output_type": "stream",
     "text": [
      "Calculating similarity between embeddings\n"
     ]
    },
    {
     "name": "stderr",
     "output_type": "stream",
     "text": [
      "Selecting available inchikey pairs per bin: 10it [00:02,  4.84it/s]\n",
      "Selecting available inchikey pairs per bin: 10it [00:02,  4.88it/s]\n"
     ]
    },
    {
     "name": "stdout",
     "output_type": "stream",
     "text": [
      "Saving checkpoint model.\n",
      "Epoch [40/500], Loss: 0.0327\n",
      "Validation Loss: 0.0413 (RMSE: 0.1967).\n"
     ]
    },
    {
     "name": "stderr",
     "output_type": "stream",
     "text": [
      "Epoch 40: 100%|██████████| 14/14 [00:10<00:00,  1.36batch/s, loss=0.0295, rmse=0.179]\n"
     ]
    },
    {
     "name": "stdout",
     "output_type": "stream",
     "text": [
      "Calculating embeddings\n"
     ]
    },
    {
     "name": "stderr",
     "output_type": "stream",
     "text": [
      "6851it [00:02, 2494.83it/s]\n"
     ]
    },
    {
     "name": "stdout",
     "output_type": "stream",
     "text": [
      "Calculating similarity between embeddings\n"
     ]
    },
    {
     "name": "stderr",
     "output_type": "stream",
     "text": [
      "Selecting available inchikey pairs per bin: 10it [00:02,  4.47it/s]\n",
      "Selecting available inchikey pairs per bin: 10it [00:02,  4.91it/s]\n"
     ]
    },
    {
     "name": "stdout",
     "output_type": "stream",
     "text": [
      "Epoch [41/500], Loss: 0.0321\n",
      "Validation Loss: 0.0429 (RMSE: 0.2001).\n"
     ]
    },
    {
     "name": "stderr",
     "output_type": "stream",
     "text": [
      "Epoch 41: 100%|██████████| 14/14 [00:09<00:00,  1.50batch/s, loss=0.0323, rmse=0.176]\n"
     ]
    },
    {
     "name": "stdout",
     "output_type": "stream",
     "text": [
      "Calculating embeddings\n"
     ]
    },
    {
     "name": "stderr",
     "output_type": "stream",
     "text": [
      "6851it [00:02, 2516.31it/s]\n"
     ]
    },
    {
     "name": "stdout",
     "output_type": "stream",
     "text": [
      "Calculating similarity between embeddings\n"
     ]
    },
    {
     "name": "stderr",
     "output_type": "stream",
     "text": [
      "Selecting available inchikey pairs per bin: 10it [00:02,  4.93it/s]\n",
      "Selecting available inchikey pairs per bin: 10it [00:01,  5.01it/s]\n"
     ]
    },
    {
     "name": "stdout",
     "output_type": "stream",
     "text": [
      "Saving checkpoint model.\n",
      "Epoch [42/500], Loss: 0.0311\n",
      "Validation Loss: 0.0411 (RMSE: 0.1963).\n"
     ]
    },
    {
     "name": "stderr",
     "output_type": "stream",
     "text": [
      "Epoch 42: 100%|██████████| 14/14 [00:09<00:00,  1.44batch/s, loss=0.029, rmse=0.175] \n"
     ]
    },
    {
     "name": "stdout",
     "output_type": "stream",
     "text": [
      "Calculating embeddings\n"
     ]
    },
    {
     "name": "stderr",
     "output_type": "stream",
     "text": [
      "6851it [00:02, 2512.76it/s]\n"
     ]
    },
    {
     "name": "stdout",
     "output_type": "stream",
     "text": [
      "Calculating similarity between embeddings\n"
     ]
    },
    {
     "name": "stderr",
     "output_type": "stream",
     "text": [
      "Selecting available inchikey pairs per bin: 10it [00:02,  4.88it/s]\n",
      "Selecting available inchikey pairs per bin: 10it [00:02,  4.89it/s]\n"
     ]
    },
    {
     "name": "stdout",
     "output_type": "stream",
     "text": [
      "Epoch [43/500], Loss: 0.0308\n",
      "Validation Loss: 0.0424 (RMSE: 0.1989).\n"
     ]
    },
    {
     "name": "stderr",
     "output_type": "stream",
     "text": [
      "Epoch 43: 100%|██████████| 14/14 [00:09<00:00,  1.42batch/s, loss=0.032, rmse=0.178] \n"
     ]
    },
    {
     "name": "stdout",
     "output_type": "stream",
     "text": [
      "Calculating embeddings\n"
     ]
    },
    {
     "name": "stderr",
     "output_type": "stream",
     "text": [
      "6851it [00:02, 2335.65it/s]\n"
     ]
    },
    {
     "name": "stdout",
     "output_type": "stream",
     "text": [
      "Calculating similarity between embeddings\n"
     ]
    },
    {
     "name": "stderr",
     "output_type": "stream",
     "text": [
      "Selecting available inchikey pairs per bin: 10it [00:02,  4.98it/s]\n",
      "Selecting available inchikey pairs per bin: 10it [00:02,  4.97it/s]\n"
     ]
    },
    {
     "name": "stdout",
     "output_type": "stream",
     "text": [
      "Epoch [44/500], Loss: 0.0316\n",
      "Validation Loss: 0.0418 (RMSE: 0.1978).\n"
     ]
    },
    {
     "name": "stderr",
     "output_type": "stream",
     "text": [
      "Epoch 44: 100%|██████████| 14/14 [00:10<00:00,  1.39batch/s, loss=0.0334, rmse=0.175]\n"
     ]
    },
    {
     "name": "stdout",
     "output_type": "stream",
     "text": [
      "Calculating embeddings\n"
     ]
    },
    {
     "name": "stderr",
     "output_type": "stream",
     "text": [
      "6851it [00:02, 2460.25it/s]\n"
     ]
    },
    {
     "name": "stdout",
     "output_type": "stream",
     "text": [
      "Calculating similarity between embeddings\n"
     ]
    },
    {
     "name": "stderr",
     "output_type": "stream",
     "text": [
      "Selecting available inchikey pairs per bin: 10it [00:02,  4.80it/s]\n",
      "Selecting available inchikey pairs per bin: 10it [00:02,  4.81it/s]\n"
     ]
    },
    {
     "name": "stdout",
     "output_type": "stream",
     "text": [
      "Epoch [45/500], Loss: 0.0305\n",
      "Validation Loss: 0.0414 (RMSE: 0.1966).\n"
     ]
    },
    {
     "name": "stderr",
     "output_type": "stream",
     "text": [
      "Epoch 45: 100%|██████████| 14/14 [00:09<00:00,  1.46batch/s, loss=0.0306, rmse=0.172]\n"
     ]
    },
    {
     "name": "stdout",
     "output_type": "stream",
     "text": [
      "Calculating embeddings\n"
     ]
    },
    {
     "name": "stderr",
     "output_type": "stream",
     "text": [
      "6851it [00:03, 2204.00it/s]\n"
     ]
    },
    {
     "name": "stdout",
     "output_type": "stream",
     "text": [
      "Calculating similarity between embeddings\n"
     ]
    },
    {
     "name": "stderr",
     "output_type": "stream",
     "text": [
      "Selecting available inchikey pairs per bin: 10it [00:02,  4.88it/s]\n",
      "Selecting available inchikey pairs per bin: 10it [00:02,  4.88it/s]\n"
     ]
    },
    {
     "name": "stdout",
     "output_type": "stream",
     "text": [
      "Saving checkpoint model.\n",
      "Epoch [46/500], Loss: 0.0297\n",
      "Validation Loss: 0.0406 (RMSE: 0.1946).\n"
     ]
    },
    {
     "name": "stderr",
     "output_type": "stream",
     "text": [
      "Epoch 46: 100%|██████████| 14/14 [00:09<00:00,  1.47batch/s, loss=0.0347, rmse=0.177]\n"
     ]
    },
    {
     "name": "stdout",
     "output_type": "stream",
     "text": [
      "Calculating embeddings\n"
     ]
    },
    {
     "name": "stderr",
     "output_type": "stream",
     "text": [
      "6851it [00:02, 2493.90it/s]\n"
     ]
    },
    {
     "name": "stdout",
     "output_type": "stream",
     "text": [
      "Calculating similarity between embeddings\n"
     ]
    },
    {
     "name": "stderr",
     "output_type": "stream",
     "text": [
      "Selecting available inchikey pairs per bin: 10it [00:02,  4.79it/s]\n",
      "Selecting available inchikey pairs per bin: 10it [00:02,  4.82it/s]\n"
     ]
    },
    {
     "name": "stdout",
     "output_type": "stream",
     "text": [
      "Saving checkpoint model.\n",
      "Epoch [47/500], Loss: 0.0313\n",
      "Validation Loss: 0.0405 (RMSE: 0.1952).\n"
     ]
    },
    {
     "name": "stderr",
     "output_type": "stream",
     "text": [
      "Epoch 47: 100%|██████████| 14/14 [00:09<00:00,  1.47batch/s, loss=0.03, rmse=0.173]  \n"
     ]
    },
    {
     "name": "stdout",
     "output_type": "stream",
     "text": [
      "Calculating embeddings\n"
     ]
    },
    {
     "name": "stderr",
     "output_type": "stream",
     "text": [
      "6851it [00:02, 2491.19it/s]\n"
     ]
    },
    {
     "name": "stdout",
     "output_type": "stream",
     "text": [
      "Calculating similarity between embeddings\n"
     ]
    },
    {
     "name": "stderr",
     "output_type": "stream",
     "text": [
      "Selecting available inchikey pairs per bin: 10it [00:02,  4.95it/s]\n",
      "Selecting available inchikey pairs per bin: 10it [00:02,  4.97it/s]\n"
     ]
    },
    {
     "name": "stdout",
     "output_type": "stream",
     "text": [
      "Epoch [48/500], Loss: 0.0301\n",
      "Validation Loss: 0.0412 (RMSE: 0.1965).\n"
     ]
    },
    {
     "name": "stderr",
     "output_type": "stream",
     "text": [
      "Epoch 48: 100%|██████████| 14/14 [00:09<00:00,  1.50batch/s, loss=0.0319, rmse=0.17] \n"
     ]
    },
    {
     "name": "stdout",
     "output_type": "stream",
     "text": [
      "Calculating embeddings\n"
     ]
    },
    {
     "name": "stderr",
     "output_type": "stream",
     "text": [
      "6851it [00:02, 2462.49it/s]\n"
     ]
    },
    {
     "name": "stdout",
     "output_type": "stream",
     "text": [
      "Calculating similarity between embeddings\n"
     ]
    },
    {
     "name": "stderr",
     "output_type": "stream",
     "text": [
      "Selecting available inchikey pairs per bin: 10it [00:02,  4.86it/s]\n",
      "Selecting available inchikey pairs per bin: 10it [00:02,  4.92it/s]\n"
     ]
    },
    {
     "name": "stdout",
     "output_type": "stream",
     "text": [
      "Saving checkpoint model.\n",
      "Epoch [49/500], Loss: 0.0289\n",
      "Validation Loss: 0.0399 (RMSE: 0.1938).\n"
     ]
    },
    {
     "name": "stderr",
     "output_type": "stream",
     "text": [
      "Epoch 49: 100%|██████████| 14/14 [00:09<00:00,  1.44batch/s, loss=0.0317, rmse=0.172]\n"
     ]
    },
    {
     "name": "stdout",
     "output_type": "stream",
     "text": [
      "Calculating embeddings\n"
     ]
    },
    {
     "name": "stderr",
     "output_type": "stream",
     "text": [
      "6851it [00:02, 2484.03it/s]\n"
     ]
    },
    {
     "name": "stdout",
     "output_type": "stream",
     "text": [
      "Calculating similarity between embeddings\n"
     ]
    },
    {
     "name": "stderr",
     "output_type": "stream",
     "text": [
      "Selecting available inchikey pairs per bin: 10it [00:01,  5.04it/s]\n",
      "Selecting available inchikey pairs per bin: 10it [00:01,  5.02it/s]\n"
     ]
    },
    {
     "name": "stdout",
     "output_type": "stream",
     "text": [
      "Epoch [50/500], Loss: 0.0297\n",
      "Validation Loss: 0.0401 (RMSE: 0.1945).\n"
     ]
    },
    {
     "name": "stderr",
     "output_type": "stream",
     "text": [
      "Epoch 50: 100%|██████████| 14/14 [00:09<00:00,  1.49batch/s, loss=0.0274, rmse=0.17] \n"
     ]
    },
    {
     "name": "stdout",
     "output_type": "stream",
     "text": [
      "Calculating embeddings\n"
     ]
    },
    {
     "name": "stderr",
     "output_type": "stream",
     "text": [
      "6851it [00:02, 2537.28it/s]\n"
     ]
    },
    {
     "name": "stdout",
     "output_type": "stream",
     "text": [
      "Calculating similarity between embeddings\n"
     ]
    },
    {
     "name": "stderr",
     "output_type": "stream",
     "text": [
      "Selecting available inchikey pairs per bin: 10it [00:02,  4.87it/s]\n",
      "Selecting available inchikey pairs per bin: 10it [00:02,  4.89it/s]\n"
     ]
    },
    {
     "name": "stdout",
     "output_type": "stream",
     "text": [
      "Saving checkpoint model.\n",
      "Epoch [51/500], Loss: 0.0289\n",
      "Validation Loss: 0.0394 (RMSE: 0.1923).\n"
     ]
    },
    {
     "name": "stderr",
     "output_type": "stream",
     "text": [
      "Epoch 51: 100%|██████████| 14/14 [00:09<00:00,  1.50batch/s, loss=0.0281, rmse=0.17] \n"
     ]
    },
    {
     "name": "stdout",
     "output_type": "stream",
     "text": [
      "Calculating embeddings\n"
     ]
    },
    {
     "name": "stderr",
     "output_type": "stream",
     "text": [
      "6851it [00:02, 2534.11it/s]\n"
     ]
    },
    {
     "name": "stdout",
     "output_type": "stream",
     "text": [
      "Calculating similarity between embeddings\n"
     ]
    },
    {
     "name": "stderr",
     "output_type": "stream",
     "text": [
      "Selecting available inchikey pairs per bin: 10it [00:01,  5.00it/s]\n",
      "Selecting available inchikey pairs per bin: 10it [00:01,  5.04it/s]\n"
     ]
    },
    {
     "name": "stdout",
     "output_type": "stream",
     "text": [
      "Epoch [52/500], Loss: 0.0288\n",
      "Validation Loss: 0.0394 (RMSE: 0.1923).\n"
     ]
    },
    {
     "name": "stderr",
     "output_type": "stream",
     "text": [
      "Epoch 52: 100%|██████████| 14/14 [00:09<00:00,  1.42batch/s, loss=0.0273, rmse=0.17]\n"
     ]
    },
    {
     "name": "stdout",
     "output_type": "stream",
     "text": [
      "Calculating embeddings\n"
     ]
    },
    {
     "name": "stderr",
     "output_type": "stream",
     "text": [
      "6851it [00:02, 2427.25it/s]\n"
     ]
    },
    {
     "name": "stdout",
     "output_type": "stream",
     "text": [
      "Calculating similarity between embeddings\n"
     ]
    },
    {
     "name": "stderr",
     "output_type": "stream",
     "text": [
      "Selecting available inchikey pairs per bin: 10it [00:02,  4.95it/s]\n",
      "Selecting available inchikey pairs per bin: 10it [00:02,  4.92it/s]\n"
     ]
    },
    {
     "name": "stdout",
     "output_type": "stream",
     "text": [
      "Saving checkpoint model.\n",
      "Epoch [53/500], Loss: 0.0289\n",
      "Validation Loss: 0.0390 (RMSE: 0.1914).\n"
     ]
    },
    {
     "name": "stderr",
     "output_type": "stream",
     "text": [
      "Epoch 53: 100%|██████████| 14/14 [00:09<00:00,  1.52batch/s, loss=0.0317, rmse=0.167]\n"
     ]
    },
    {
     "name": "stdout",
     "output_type": "stream",
     "text": [
      "Calculating embeddings\n"
     ]
    },
    {
     "name": "stderr",
     "output_type": "stream",
     "text": [
      "6851it [00:02, 2549.38it/s]\n"
     ]
    },
    {
     "name": "stdout",
     "output_type": "stream",
     "text": [
      "Calculating similarity between embeddings\n"
     ]
    },
    {
     "name": "stderr",
     "output_type": "stream",
     "text": [
      "Selecting available inchikey pairs per bin: 10it [00:02,  4.82it/s]\n",
      "Selecting available inchikey pairs per bin: 10it [00:02,  4.80it/s]\n"
     ]
    },
    {
     "name": "stdout",
     "output_type": "stream",
     "text": [
      "Saving checkpoint model.\n",
      "Epoch [54/500], Loss: 0.0279\n",
      "Validation Loss: 0.0389 (RMSE: 0.1913).\n"
     ]
    },
    {
     "name": "stderr",
     "output_type": "stream",
     "text": [
      "Epoch 54: 100%|██████████| 14/14 [00:09<00:00,  1.41batch/s, loss=0.0315, rmse=0.171]\n"
     ]
    },
    {
     "name": "stdout",
     "output_type": "stream",
     "text": [
      "Calculating embeddings\n"
     ]
    },
    {
     "name": "stderr",
     "output_type": "stream",
     "text": [
      "6851it [00:02, 2445.09it/s]\n"
     ]
    },
    {
     "name": "stdout",
     "output_type": "stream",
     "text": [
      "Calculating similarity between embeddings\n"
     ]
    },
    {
     "name": "stderr",
     "output_type": "stream",
     "text": [
      "Selecting available inchikey pairs per bin: 10it [00:02,  4.78it/s]\n",
      "Selecting available inchikey pairs per bin: 10it [00:02,  4.80it/s]\n"
     ]
    },
    {
     "name": "stdout",
     "output_type": "stream",
     "text": [
      "Epoch [55/500], Loss: 0.0293\n",
      "Validation Loss: 0.0433 (RMSE: 0.2010).\n"
     ]
    },
    {
     "name": "stderr",
     "output_type": "stream",
     "text": [
      "Epoch 55: 100%|██████████| 14/14 [00:10<00:00,  1.35batch/s, loss=0.0252, rmse=0.167]\n"
     ]
    },
    {
     "name": "stdout",
     "output_type": "stream",
     "text": [
      "Calculating embeddings\n"
     ]
    },
    {
     "name": "stderr",
     "output_type": "stream",
     "text": [
      "6851it [00:02, 2495.95it/s]\n"
     ]
    },
    {
     "name": "stdout",
     "output_type": "stream",
     "text": [
      "Calculating similarity between embeddings\n"
     ]
    },
    {
     "name": "stderr",
     "output_type": "stream",
     "text": [
      "Selecting available inchikey pairs per bin: 10it [00:02,  4.91it/s]\n",
      "Selecting available inchikey pairs per bin: 10it [00:02,  4.92it/s]\n"
     ]
    },
    {
     "name": "stdout",
     "output_type": "stream",
     "text": [
      "Epoch [56/500], Loss: 0.0279\n",
      "Validation Loss: 0.0394 (RMSE: 0.1928).\n"
     ]
    },
    {
     "name": "stderr",
     "output_type": "stream",
     "text": [
      "Epoch 56: 100%|██████████| 14/14 [00:09<00:00,  1.47batch/s, loss=0.0281, rmse=0.166]\n"
     ]
    },
    {
     "name": "stdout",
     "output_type": "stream",
     "text": [
      "Calculating embeddings\n"
     ]
    },
    {
     "name": "stderr",
     "output_type": "stream",
     "text": [
      "6851it [00:02, 2463.43it/s]\n"
     ]
    },
    {
     "name": "stdout",
     "output_type": "stream",
     "text": [
      "Calculating similarity between embeddings\n"
     ]
    },
    {
     "name": "stderr",
     "output_type": "stream",
     "text": [
      "Selecting available inchikey pairs per bin: 10it [00:02,  4.86it/s]\n",
      "Selecting available inchikey pairs per bin: 10it [00:02,  4.88it/s]\n"
     ]
    },
    {
     "name": "stdout",
     "output_type": "stream",
     "text": [
      "Saving checkpoint model.\n",
      "Epoch [57/500], Loss: 0.0275\n",
      "Validation Loss: 0.0387 (RMSE: 0.1907).\n"
     ]
    },
    {
     "name": "stderr",
     "output_type": "stream",
     "text": [
      "Epoch 57: 100%|██████████| 14/14 [00:09<00:00,  1.46batch/s, loss=0.0268, rmse=0.165]\n"
     ]
    },
    {
     "name": "stdout",
     "output_type": "stream",
     "text": [
      "Calculating embeddings\n"
     ]
    },
    {
     "name": "stderr",
     "output_type": "stream",
     "text": [
      "6851it [00:03, 1907.50it/s]\n"
     ]
    },
    {
     "name": "stdout",
     "output_type": "stream",
     "text": [
      "Calculating similarity between embeddings\n"
     ]
    },
    {
     "name": "stderr",
     "output_type": "stream",
     "text": [
      "Selecting available inchikey pairs per bin: 10it [00:02,  4.95it/s]\n",
      "Selecting available inchikey pairs per bin: 10it [00:02,  4.99it/s]\n"
     ]
    },
    {
     "name": "stdout",
     "output_type": "stream",
     "text": [
      "Saving checkpoint model.\n",
      "Epoch [58/500], Loss: 0.0274\n",
      "Validation Loss: 0.0383 (RMSE: 0.1899).\n"
     ]
    },
    {
     "name": "stderr",
     "output_type": "stream",
     "text": [
      "Epoch 58: 100%|██████████| 14/14 [00:09<00:00,  1.41batch/s, loss=0.0308, rmse=0.167]\n"
     ]
    },
    {
     "name": "stdout",
     "output_type": "stream",
     "text": [
      "Calculating embeddings\n"
     ]
    },
    {
     "name": "stderr",
     "output_type": "stream",
     "text": [
      "6851it [00:02, 2471.68it/s]\n"
     ]
    },
    {
     "name": "stdout",
     "output_type": "stream",
     "text": [
      "Calculating similarity between embeddings\n"
     ]
    },
    {
     "name": "stderr",
     "output_type": "stream",
     "text": [
      "Selecting available inchikey pairs per bin: 10it [00:02,  4.78it/s]\n",
      "Selecting available inchikey pairs per bin: 10it [00:02,  4.84it/s]\n"
     ]
    },
    {
     "name": "stdout",
     "output_type": "stream",
     "text": [
      "Saving checkpoint model.\n",
      "Epoch [59/500], Loss: 0.0280\n",
      "Validation Loss: 0.0374 (RMSE: 0.1880).\n"
     ]
    },
    {
     "name": "stderr",
     "output_type": "stream",
     "text": [
      "Epoch 59: 100%|██████████| 14/14 [00:10<00:00,  1.29batch/s, loss=0.0264, rmse=0.167]\n"
     ]
    },
    {
     "name": "stdout",
     "output_type": "stream",
     "text": [
      "Calculating embeddings\n"
     ]
    },
    {
     "name": "stderr",
     "output_type": "stream",
     "text": [
      "6851it [00:02, 2473.87it/s]\n"
     ]
    },
    {
     "name": "stdout",
     "output_type": "stream",
     "text": [
      "Calculating similarity between embeddings\n"
     ]
    },
    {
     "name": "stderr",
     "output_type": "stream",
     "text": [
      "Selecting available inchikey pairs per bin: 10it [00:02,  4.87it/s]\n",
      "Selecting available inchikey pairs per bin: 10it [00:02,  4.81it/s]\n"
     ]
    },
    {
     "name": "stdout",
     "output_type": "stream",
     "text": [
      "Epoch [60/500], Loss: 0.0278\n",
      "Validation Loss: 0.0391 (RMSE: 0.1911).\n"
     ]
    },
    {
     "name": "stderr",
     "output_type": "stream",
     "text": [
      "Epoch 60: 100%|██████████| 14/14 [00:09<00:00,  1.46batch/s, loss=0.0276, rmse=0.166]\n"
     ]
    },
    {
     "name": "stdout",
     "output_type": "stream",
     "text": [
      "Calculating embeddings\n"
     ]
    },
    {
     "name": "stderr",
     "output_type": "stream",
     "text": [
      "6851it [00:03, 2105.78it/s]\n"
     ]
    },
    {
     "name": "stdout",
     "output_type": "stream",
     "text": [
      "Calculating similarity between embeddings\n"
     ]
    },
    {
     "name": "stderr",
     "output_type": "stream",
     "text": [
      "Selecting available inchikey pairs per bin: 10it [00:02,  4.81it/s]\n",
      "Selecting available inchikey pairs per bin: 10it [00:02,  4.90it/s]\n"
     ]
    },
    {
     "name": "stdout",
     "output_type": "stream",
     "text": [
      "Epoch [61/500], Loss: 0.0274\n",
      "Validation Loss: 0.0380 (RMSE: 0.1896).\n"
     ]
    },
    {
     "name": "stderr",
     "output_type": "stream",
     "text": [
      "Epoch 61: 100%|██████████| 14/14 [00:09<00:00,  1.48batch/s, loss=0.0281, rmse=0.164]\n"
     ]
    },
    {
     "name": "stdout",
     "output_type": "stream",
     "text": [
      "Calculating embeddings\n"
     ]
    },
    {
     "name": "stderr",
     "output_type": "stream",
     "text": [
      "6851it [00:02, 2507.86it/s]\n"
     ]
    },
    {
     "name": "stdout",
     "output_type": "stream",
     "text": [
      "Calculating similarity between embeddings\n"
     ]
    },
    {
     "name": "stderr",
     "output_type": "stream",
     "text": [
      "Selecting available inchikey pairs per bin: 10it [00:02,  4.89it/s]\n",
      "Selecting available inchikey pairs per bin: 10it [00:01,  5.00it/s]\n"
     ]
    },
    {
     "name": "stdout",
     "output_type": "stream",
     "text": [
      "Epoch [62/500], Loss: 0.0270\n",
      "Validation Loss: 0.0387 (RMSE: 0.1907).\n"
     ]
    },
    {
     "name": "stderr",
     "output_type": "stream",
     "text": [
      "Epoch 62: 100%|██████████| 14/14 [00:09<00:00,  1.47batch/s, loss=0.0277, rmse=0.165]\n"
     ]
    },
    {
     "name": "stdout",
     "output_type": "stream",
     "text": [
      "Calculating embeddings\n"
     ]
    },
    {
     "name": "stderr",
     "output_type": "stream",
     "text": [
      "6851it [00:02, 2461.15it/s]\n"
     ]
    },
    {
     "name": "stdout",
     "output_type": "stream",
     "text": [
      "Calculating similarity between embeddings\n"
     ]
    },
    {
     "name": "stderr",
     "output_type": "stream",
     "text": [
      "Selecting available inchikey pairs per bin: 10it [00:02,  4.68it/s]\n",
      "Selecting available inchikey pairs per bin: 10it [00:02,  4.74it/s]\n"
     ]
    },
    {
     "name": "stdout",
     "output_type": "stream",
     "text": [
      "Epoch [63/500], Loss: 0.0271\n",
      "Validation Loss: 0.0381 (RMSE: 0.1898).\n"
     ]
    },
    {
     "name": "stderr",
     "output_type": "stream",
     "text": [
      "Epoch 63: 100%|██████████| 14/14 [00:09<00:00,  1.47batch/s, loss=0.03, rmse=0.166]  \n"
     ]
    },
    {
     "name": "stdout",
     "output_type": "stream",
     "text": [
      "Calculating embeddings\n"
     ]
    },
    {
     "name": "stderr",
     "output_type": "stream",
     "text": [
      "6851it [00:02, 2496.07it/s]\n"
     ]
    },
    {
     "name": "stdout",
     "output_type": "stream",
     "text": [
      "Calculating similarity between embeddings\n"
     ]
    },
    {
     "name": "stderr",
     "output_type": "stream",
     "text": [
      "Selecting available inchikey pairs per bin: 10it [00:02,  4.79it/s]\n",
      "Selecting available inchikey pairs per bin: 10it [00:02,  4.87it/s]\n"
     ]
    },
    {
     "name": "stdout",
     "output_type": "stream",
     "text": [
      "Epoch [64/500], Loss: 0.0277\n",
      "Validation Loss: 0.0377 (RMSE: 0.1882).\n"
     ]
    },
    {
     "name": "stderr",
     "output_type": "stream",
     "text": [
      "Epoch 64: 100%|██████████| 14/14 [00:09<00:00,  1.48batch/s, loss=0.026, rmse=0.161] \n"
     ]
    },
    {
     "name": "stdout",
     "output_type": "stream",
     "text": [
      "Calculating embeddings\n"
     ]
    },
    {
     "name": "stderr",
     "output_type": "stream",
     "text": [
      "6851it [00:03, 2132.13it/s]\n"
     ]
    },
    {
     "name": "stdout",
     "output_type": "stream",
     "text": [
      "Calculating similarity between embeddings\n"
     ]
    },
    {
     "name": "stderr",
     "output_type": "stream",
     "text": [
      "Selecting available inchikey pairs per bin: 10it [00:02,  4.99it/s]\n",
      "Selecting available inchikey pairs per bin: 10it [00:02,  4.98it/s]\n"
     ]
    },
    {
     "name": "stdout",
     "output_type": "stream",
     "text": [
      "Epoch [65/500], Loss: 0.0259\n",
      "Validation Loss: 0.0388 (RMSE: 0.1912).\n"
     ]
    },
    {
     "name": "stderr",
     "output_type": "stream",
     "text": [
      "Epoch 65: 100%|██████████| 14/14 [00:09<00:00,  1.42batch/s, loss=0.0239, rmse=0.161]\n"
     ]
    },
    {
     "name": "stdout",
     "output_type": "stream",
     "text": [
      "Calculating embeddings\n"
     ]
    },
    {
     "name": "stderr",
     "output_type": "stream",
     "text": [
      "6851it [00:02, 2507.41it/s]\n"
     ]
    },
    {
     "name": "stdout",
     "output_type": "stream",
     "text": [
      "Calculating similarity between embeddings\n"
     ]
    },
    {
     "name": "stderr",
     "output_type": "stream",
     "text": [
      "Selecting available inchikey pairs per bin: 10it [00:01,  5.07it/s]\n",
      "Selecting available inchikey pairs per bin: 10it [00:01,  5.06it/s]\n"
     ]
    },
    {
     "name": "stdout",
     "output_type": "stream",
     "text": [
      "Epoch [66/500], Loss: 0.0259\n",
      "Validation Loss: 0.0382 (RMSE: 0.1894).\n"
     ]
    },
    {
     "name": "stderr",
     "output_type": "stream",
     "text": [
      "Epoch 66: 100%|██████████| 14/14 [00:09<00:00,  1.50batch/s, loss=0.0219, rmse=0.162]\n"
     ]
    },
    {
     "name": "stdout",
     "output_type": "stream",
     "text": [
      "Calculating embeddings\n"
     ]
    },
    {
     "name": "stderr",
     "output_type": "stream",
     "text": [
      "6851it [00:02, 2550.38it/s]\n"
     ]
    },
    {
     "name": "stdout",
     "output_type": "stream",
     "text": [
      "Calculating similarity between embeddings\n"
     ]
    },
    {
     "name": "stderr",
     "output_type": "stream",
     "text": [
      "Selecting available inchikey pairs per bin: 10it [00:02,  4.89it/s]\n",
      "Selecting available inchikey pairs per bin: 10it [00:02,  4.89it/s]\n"
     ]
    },
    {
     "name": "stdout",
     "output_type": "stream",
     "text": [
      "Epoch [67/500], Loss: 0.0264\n",
      "Validation Loss: 0.0387 (RMSE: 0.1907).\n"
     ]
    },
    {
     "name": "stderr",
     "output_type": "stream",
     "text": [
      "Epoch 67: 100%|██████████| 14/14 [00:09<00:00,  1.51batch/s, loss=0.0262, rmse=0.162]\n"
     ]
    },
    {
     "name": "stdout",
     "output_type": "stream",
     "text": [
      "Calculating embeddings\n"
     ]
    },
    {
     "name": "stderr",
     "output_type": "stream",
     "text": [
      "6851it [00:02, 2542.13it/s]\n"
     ]
    },
    {
     "name": "stdout",
     "output_type": "stream",
     "text": [
      "Calculating similarity between embeddings\n"
     ]
    },
    {
     "name": "stderr",
     "output_type": "stream",
     "text": [
      "Selecting available inchikey pairs per bin: 10it [00:02,  4.96it/s]\n",
      "Selecting available inchikey pairs per bin: 10it [00:02,  4.91it/s]\n"
     ]
    },
    {
     "name": "stdout",
     "output_type": "stream",
     "text": [
      "Saving checkpoint model.\n",
      "Epoch [68/500], Loss: 0.0261\n",
      "Validation Loss: 0.0367 (RMSE: 0.1859).\n"
     ]
    },
    {
     "name": "stderr",
     "output_type": "stream",
     "text": [
      "Epoch 68: 100%|██████████| 14/14 [00:09<00:00,  1.51batch/s, loss=0.0268, rmse=0.161]\n"
     ]
    },
    {
     "name": "stdout",
     "output_type": "stream",
     "text": [
      "Calculating embeddings\n"
     ]
    },
    {
     "name": "stderr",
     "output_type": "stream",
     "text": [
      "6851it [00:02, 2561.22it/s]\n"
     ]
    },
    {
     "name": "stdout",
     "output_type": "stream",
     "text": [
      "Calculating similarity between embeddings\n"
     ]
    },
    {
     "name": "stderr",
     "output_type": "stream",
     "text": [
      "Selecting available inchikey pairs per bin: 10it [00:01,  5.07it/s]\n",
      "Selecting available inchikey pairs per bin: 10it [00:01,  5.09it/s]\n"
     ]
    },
    {
     "name": "stdout",
     "output_type": "stream",
     "text": [
      "Saving checkpoint model.\n",
      "Epoch [69/500], Loss: 0.0261\n",
      "Validation Loss: 0.0364 (RMSE: 0.1850).\n"
     ]
    },
    {
     "name": "stderr",
     "output_type": "stream",
     "text": [
      "Epoch 69: 100%|██████████| 14/14 [00:10<00:00,  1.38batch/s, loss=0.0254, rmse=0.159]\n"
     ]
    },
    {
     "name": "stdout",
     "output_type": "stream",
     "text": [
      "Calculating embeddings\n"
     ]
    },
    {
     "name": "stderr",
     "output_type": "stream",
     "text": [
      "6851it [00:03, 2047.67it/s]\n"
     ]
    },
    {
     "name": "stdout",
     "output_type": "stream",
     "text": [
      "Calculating similarity between embeddings\n"
     ]
    },
    {
     "name": "stderr",
     "output_type": "stream",
     "text": [
      "Selecting available inchikey pairs per bin: 10it [00:02,  4.87it/s]\n",
      "Selecting available inchikey pairs per bin: 10it [00:02,  4.82it/s]\n"
     ]
    },
    {
     "name": "stdout",
     "output_type": "stream",
     "text": [
      "Epoch [70/500], Loss: 0.0252\n",
      "Validation Loss: 0.0369 (RMSE: 0.1861).\n"
     ]
    },
    {
     "name": "stderr",
     "output_type": "stream",
     "text": [
      "Epoch 70: 100%|██████████| 14/14 [00:10<00:00,  1.39batch/s, loss=0.0276, rmse=0.158]\n"
     ]
    },
    {
     "name": "stdout",
     "output_type": "stream",
     "text": [
      "Calculating embeddings\n"
     ]
    },
    {
     "name": "stderr",
     "output_type": "stream",
     "text": [
      "6851it [00:02, 2432.29it/s]\n"
     ]
    },
    {
     "name": "stdout",
     "output_type": "stream",
     "text": [
      "Calculating similarity between embeddings\n"
     ]
    },
    {
     "name": "stderr",
     "output_type": "stream",
     "text": [
      "Selecting available inchikey pairs per bin: 10it [00:02,  4.80it/s]\n",
      "Selecting available inchikey pairs per bin: 10it [00:02,  4.81it/s]\n"
     ]
    },
    {
     "name": "stdout",
     "output_type": "stream",
     "text": [
      "Epoch [71/500], Loss: 0.0249\n",
      "Validation Loss: 0.0369 (RMSE: 0.1869).\n"
     ]
    },
    {
     "name": "stderr",
     "output_type": "stream",
     "text": [
      "Epoch 71: 100%|██████████| 14/14 [00:09<00:00,  1.41batch/s, loss=0.0289, rmse=0.157]\n"
     ]
    },
    {
     "name": "stdout",
     "output_type": "stream",
     "text": [
      "Calculating embeddings\n"
     ]
    },
    {
     "name": "stderr",
     "output_type": "stream",
     "text": [
      "6851it [00:03, 2171.80it/s]\n"
     ]
    },
    {
     "name": "stdout",
     "output_type": "stream",
     "text": [
      "Calculating similarity between embeddings\n"
     ]
    },
    {
     "name": "stderr",
     "output_type": "stream",
     "text": [
      "Selecting available inchikey pairs per bin: 10it [00:02,  4.97it/s]\n",
      "Selecting available inchikey pairs per bin: 10it [00:01,  5.05it/s]\n"
     ]
    },
    {
     "name": "stdout",
     "output_type": "stream",
     "text": [
      "Saving checkpoint model.\n",
      "Epoch [72/500], Loss: 0.0247\n",
      "Validation Loss: 0.0360 (RMSE: 0.1842).\n"
     ]
    },
    {
     "name": "stderr",
     "output_type": "stream",
     "text": [
      "Epoch 72: 100%|██████████| 14/14 [00:09<00:00,  1.41batch/s, loss=0.0274, rmse=0.157]\n"
     ]
    },
    {
     "name": "stdout",
     "output_type": "stream",
     "text": [
      "Calculating embeddings\n"
     ]
    },
    {
     "name": "stderr",
     "output_type": "stream",
     "text": [
      "6851it [00:02, 2348.35it/s]\n"
     ]
    },
    {
     "name": "stdout",
     "output_type": "stream",
     "text": [
      "Calculating similarity between embeddings\n"
     ]
    },
    {
     "name": "stderr",
     "output_type": "stream",
     "text": [
      "Selecting available inchikey pairs per bin: 10it [00:02,  4.98it/s]\n",
      "Selecting available inchikey pairs per bin: 10it [00:02,  4.97it/s]\n"
     ]
    },
    {
     "name": "stdout",
     "output_type": "stream",
     "text": [
      "Epoch [73/500], Loss: 0.0248\n",
      "Validation Loss: 0.0365 (RMSE: 0.1855).\n"
     ]
    },
    {
     "name": "stderr",
     "output_type": "stream",
     "text": [
      "Epoch 73: 100%|██████████| 14/14 [00:09<00:00,  1.47batch/s, loss=0.0259, rmse=0.159]\n"
     ]
    },
    {
     "name": "stdout",
     "output_type": "stream",
     "text": [
      "Calculating embeddings\n"
     ]
    },
    {
     "name": "stderr",
     "output_type": "stream",
     "text": [
      "6851it [00:02, 2434.78it/s]\n"
     ]
    },
    {
     "name": "stdout",
     "output_type": "stream",
     "text": [
      "Calculating similarity between embeddings\n"
     ]
    },
    {
     "name": "stderr",
     "output_type": "stream",
     "text": [
      "Selecting available inchikey pairs per bin: 10it [00:02,  4.85it/s]\n",
      "Selecting available inchikey pairs per bin: 10it [00:02,  4.80it/s]\n"
     ]
    },
    {
     "name": "stdout",
     "output_type": "stream",
     "text": [
      "Epoch [74/500], Loss: 0.0254\n",
      "Validation Loss: 0.0370 (RMSE: 0.1867).\n"
     ]
    },
    {
     "name": "stderr",
     "output_type": "stream",
     "text": [
      "Epoch 74: 100%|██████████| 14/14 [00:10<00:00,  1.32batch/s, loss=0.0234, rmse=0.155]\n"
     ]
    },
    {
     "name": "stdout",
     "output_type": "stream",
     "text": [
      "Calculating embeddings\n"
     ]
    },
    {
     "name": "stderr",
     "output_type": "stream",
     "text": [
      "6851it [00:03, 1919.79it/s]\n"
     ]
    },
    {
     "name": "stdout",
     "output_type": "stream",
     "text": [
      "Calculating similarity between embeddings\n"
     ]
    },
    {
     "name": "stderr",
     "output_type": "stream",
     "text": [
      "Selecting available inchikey pairs per bin: 10it [00:01,  5.08it/s]\n",
      "Selecting available inchikey pairs per bin: 10it [00:01,  5.08it/s]\n"
     ]
    },
    {
     "name": "stdout",
     "output_type": "stream",
     "text": [
      "Saving checkpoint model.\n",
      "Epoch [75/500], Loss: 0.0241\n",
      "Validation Loss: 0.0357 (RMSE: 0.1832).\n"
     ]
    },
    {
     "name": "stderr",
     "output_type": "stream",
     "text": [
      "Epoch 75: 100%|██████████| 14/14 [00:09<00:00,  1.52batch/s, loss=0.0253, rmse=0.158]\n"
     ]
    },
    {
     "name": "stdout",
     "output_type": "stream",
     "text": [
      "Calculating embeddings\n"
     ]
    },
    {
     "name": "stderr",
     "output_type": "stream",
     "text": [
      "6851it [00:02, 2385.47it/s]\n"
     ]
    },
    {
     "name": "stdout",
     "output_type": "stream",
     "text": [
      "Calculating similarity between embeddings\n"
     ]
    },
    {
     "name": "stderr",
     "output_type": "stream",
     "text": [
      "Selecting available inchikey pairs per bin: 10it [00:02,  4.81it/s]\n",
      "Selecting available inchikey pairs per bin: 10it [00:02,  4.90it/s]\n"
     ]
    },
    {
     "name": "stdout",
     "output_type": "stream",
     "text": [
      "Epoch [76/500], Loss: 0.0249\n",
      "Validation Loss: 0.0364 (RMSE: 0.1854).\n"
     ]
    },
    {
     "name": "stderr",
     "output_type": "stream",
     "text": [
      "Epoch 76: 100%|██████████| 14/14 [00:09<00:00,  1.41batch/s, loss=0.0264, rmse=0.156]\n"
     ]
    },
    {
     "name": "stdout",
     "output_type": "stream",
     "text": [
      "Calculating embeddings\n"
     ]
    },
    {
     "name": "stderr",
     "output_type": "stream",
     "text": [
      "6851it [00:02, 2531.17it/s]\n"
     ]
    },
    {
     "name": "stdout",
     "output_type": "stream",
     "text": [
      "Calculating similarity between embeddings\n"
     ]
    },
    {
     "name": "stderr",
     "output_type": "stream",
     "text": [
      "Selecting available inchikey pairs per bin: 10it [00:01,  5.05it/s]\n",
      "Selecting available inchikey pairs per bin: 10it [00:01,  5.04it/s]\n"
     ]
    },
    {
     "name": "stdout",
     "output_type": "stream",
     "text": [
      "Epoch [77/500], Loss: 0.0242\n",
      "Validation Loss: 0.0378 (RMSE: 0.1883).\n"
     ]
    },
    {
     "name": "stderr",
     "output_type": "stream",
     "text": [
      "Epoch 77: 100%|██████████| 14/14 [00:09<00:00,  1.50batch/s, loss=0.0262, rmse=0.156]\n"
     ]
    },
    {
     "name": "stdout",
     "output_type": "stream",
     "text": [
      "Calculating embeddings\n"
     ]
    },
    {
     "name": "stderr",
     "output_type": "stream",
     "text": [
      "6851it [00:02, 2514.06it/s]\n"
     ]
    },
    {
     "name": "stdout",
     "output_type": "stream",
     "text": [
      "Calculating similarity between embeddings\n"
     ]
    },
    {
     "name": "stderr",
     "output_type": "stream",
     "text": [
      "Selecting available inchikey pairs per bin: 10it [00:02,  5.00it/s]\n",
      "Selecting available inchikey pairs per bin: 10it [00:02,  5.00it/s]\n"
     ]
    },
    {
     "name": "stdout",
     "output_type": "stream",
     "text": [
      "Saving checkpoint model.\n",
      "Epoch [78/500], Loss: 0.0245\n",
      "Validation Loss: 0.0352 (RMSE: 0.1821).\n"
     ]
    },
    {
     "name": "stderr",
     "output_type": "stream",
     "text": [
      "Epoch 78: 100%|██████████| 14/14 [00:09<00:00,  1.49batch/s, loss=0.0246, rmse=0.156]\n"
     ]
    },
    {
     "name": "stdout",
     "output_type": "stream",
     "text": [
      "Calculating embeddings\n"
     ]
    },
    {
     "name": "stderr",
     "output_type": "stream",
     "text": [
      "6851it [00:02, 2534.00it/s]\n"
     ]
    },
    {
     "name": "stdout",
     "output_type": "stream",
     "text": [
      "Calculating similarity between embeddings\n"
     ]
    },
    {
     "name": "stderr",
     "output_type": "stream",
     "text": [
      "Selecting available inchikey pairs per bin: 10it [00:01,  5.03it/s]\n",
      "Selecting available inchikey pairs per bin: 10it [00:01,  5.03it/s]\n"
     ]
    },
    {
     "name": "stdout",
     "output_type": "stream",
     "text": [
      "Epoch [79/500], Loss: 0.0245\n",
      "Validation Loss: 0.0366 (RMSE: 0.1858).\n"
     ]
    },
    {
     "name": "stderr",
     "output_type": "stream",
     "text": [
      "Epoch 79: 100%|██████████| 14/14 [00:09<00:00,  1.46batch/s, loss=0.0248, rmse=0.154]\n"
     ]
    },
    {
     "name": "stdout",
     "output_type": "stream",
     "text": [
      "Calculating embeddings\n"
     ]
    },
    {
     "name": "stderr",
     "output_type": "stream",
     "text": [
      "6851it [00:02, 2466.31it/s]\n"
     ]
    },
    {
     "name": "stdout",
     "output_type": "stream",
     "text": [
      "Calculating similarity between embeddings\n"
     ]
    },
    {
     "name": "stderr",
     "output_type": "stream",
     "text": [
      "Selecting available inchikey pairs per bin: 10it [00:02,  4.89it/s]\n",
      "Selecting available inchikey pairs per bin: 10it [00:02,  4.91it/s]\n"
     ]
    },
    {
     "name": "stdout",
     "output_type": "stream",
     "text": [
      "Epoch [80/500], Loss: 0.0237\n",
      "Validation Loss: 0.0361 (RMSE: 0.1846).\n"
     ]
    },
    {
     "name": "stderr",
     "output_type": "stream",
     "text": [
      "Epoch 80: 100%|██████████| 14/14 [00:09<00:00,  1.46batch/s, loss=0.0252, rmse=0.153]\n"
     ]
    },
    {
     "name": "stdout",
     "output_type": "stream",
     "text": [
      "Calculating embeddings\n"
     ]
    },
    {
     "name": "stderr",
     "output_type": "stream",
     "text": [
      "6851it [00:02, 2462.78it/s]\n"
     ]
    },
    {
     "name": "stdout",
     "output_type": "stream",
     "text": [
      "Calculating similarity between embeddings\n"
     ]
    },
    {
     "name": "stderr",
     "output_type": "stream",
     "text": [
      "Selecting available inchikey pairs per bin: 10it [00:02,  4.85it/s]\n",
      "Selecting available inchikey pairs per bin: 10it [00:02,  4.84it/s]\n"
     ]
    },
    {
     "name": "stdout",
     "output_type": "stream",
     "text": [
      "Epoch [81/500], Loss: 0.0234\n",
      "Validation Loss: 0.0366 (RMSE: 0.1856).\n"
     ]
    },
    {
     "name": "stderr",
     "output_type": "stream",
     "text": [
      "Epoch 81: 100%|██████████| 14/14 [00:09<00:00,  1.50batch/s, loss=0.0225, rmse=0.153]\n"
     ]
    },
    {
     "name": "stdout",
     "output_type": "stream",
     "text": [
      "Calculating embeddings\n"
     ]
    },
    {
     "name": "stderr",
     "output_type": "stream",
     "text": [
      "6851it [00:02, 2532.89it/s]\n"
     ]
    },
    {
     "name": "stdout",
     "output_type": "stream",
     "text": [
      "Calculating similarity between embeddings\n"
     ]
    },
    {
     "name": "stderr",
     "output_type": "stream",
     "text": [
      "Selecting available inchikey pairs per bin: 10it [00:02,  4.77it/s]\n",
      "Selecting available inchikey pairs per bin: 10it [00:02,  4.90it/s]\n"
     ]
    },
    {
     "name": "stdout",
     "output_type": "stream",
     "text": [
      "Epoch [82/500], Loss: 0.0235\n",
      "Validation Loss: 0.0359 (RMSE: 0.1844).\n"
     ]
    },
    {
     "name": "stderr",
     "output_type": "stream",
     "text": [
      "Epoch 82: 100%|██████████| 14/14 [00:09<00:00,  1.41batch/s, loss=0.0205, rmse=0.153]\n"
     ]
    },
    {
     "name": "stdout",
     "output_type": "stream",
     "text": [
      "Calculating embeddings\n"
     ]
    },
    {
     "name": "stderr",
     "output_type": "stream",
     "text": [
      "6851it [00:02, 2454.57it/s]\n"
     ]
    },
    {
     "name": "stdout",
     "output_type": "stream",
     "text": [
      "Calculating similarity between embeddings\n"
     ]
    },
    {
     "name": "stderr",
     "output_type": "stream",
     "text": [
      "Selecting available inchikey pairs per bin: 10it [00:02,  4.87it/s]\n",
      "Selecting available inchikey pairs per bin: 10it [00:02,  4.89it/s]\n"
     ]
    },
    {
     "name": "stdout",
     "output_type": "stream",
     "text": [
      "Epoch [83/500], Loss: 0.0234\n",
      "Validation Loss: 0.0355 (RMSE: 0.1831).\n"
     ]
    },
    {
     "name": "stderr",
     "output_type": "stream",
     "text": [
      "Epoch 83: 100%|██████████| 14/14 [00:09<00:00,  1.41batch/s, loss=0.024, rmse=0.152] \n"
     ]
    },
    {
     "name": "stdout",
     "output_type": "stream",
     "text": [
      "Calculating embeddings\n"
     ]
    },
    {
     "name": "stderr",
     "output_type": "stream",
     "text": [
      "6851it [00:02, 2380.19it/s]\n"
     ]
    },
    {
     "name": "stdout",
     "output_type": "stream",
     "text": [
      "Calculating similarity between embeddings\n"
     ]
    },
    {
     "name": "stderr",
     "output_type": "stream",
     "text": [
      "Selecting available inchikey pairs per bin: 10it [00:01,  5.02it/s]\n",
      "Selecting available inchikey pairs per bin: 10it [00:01,  5.02it/s]\n"
     ]
    },
    {
     "name": "stdout",
     "output_type": "stream",
     "text": [
      "Saving checkpoint model.\n",
      "Epoch [84/500], Loss: 0.0232\n",
      "Validation Loss: 0.0337 (RMSE: 0.1785).\n"
     ]
    },
    {
     "name": "stderr",
     "output_type": "stream",
     "text": [
      "Epoch 84: 100%|██████████| 14/14 [00:09<00:00,  1.47batch/s, loss=0.0229, rmse=0.149]\n"
     ]
    },
    {
     "name": "stdout",
     "output_type": "stream",
     "text": [
      "Calculating embeddings\n"
     ]
    },
    {
     "name": "stderr",
     "output_type": "stream",
     "text": [
      "6851it [00:02, 2485.69it/s]\n"
     ]
    },
    {
     "name": "stdout",
     "output_type": "stream",
     "text": [
      "Calculating similarity between embeddings\n"
     ]
    },
    {
     "name": "stderr",
     "output_type": "stream",
     "text": [
      "Selecting available inchikey pairs per bin: 10it [00:02,  4.89it/s]\n",
      "Selecting available inchikey pairs per bin: 10it [00:02,  4.85it/s]\n"
     ]
    },
    {
     "name": "stdout",
     "output_type": "stream",
     "text": [
      "Epoch [85/500], Loss: 0.0223\n",
      "Validation Loss: 0.0350 (RMSE: 0.1819).\n"
     ]
    },
    {
     "name": "stderr",
     "output_type": "stream",
     "text": [
      "Epoch 85: 100%|██████████| 14/14 [00:09<00:00,  1.50batch/s, loss=0.0219, rmse=0.151]\n"
     ]
    },
    {
     "name": "stdout",
     "output_type": "stream",
     "text": [
      "Calculating embeddings\n"
     ]
    },
    {
     "name": "stderr",
     "output_type": "stream",
     "text": [
      "6851it [00:03, 2075.84it/s]\n"
     ]
    },
    {
     "name": "stdout",
     "output_type": "stream",
     "text": [
      "Calculating similarity between embeddings\n"
     ]
    },
    {
     "name": "stderr",
     "output_type": "stream",
     "text": [
      "Selecting available inchikey pairs per bin: 10it [00:02,  4.91it/s]\n",
      "Selecting available inchikey pairs per bin: 10it [00:02,  4.89it/s]\n"
     ]
    },
    {
     "name": "stdout",
     "output_type": "stream",
     "text": [
      "Epoch [86/500], Loss: 0.0228\n",
      "Validation Loss: 0.0348 (RMSE: 0.1814).\n"
     ]
    },
    {
     "name": "stderr",
     "output_type": "stream",
     "text": [
      "Epoch 86: 100%|██████████| 14/14 [00:09<00:00,  1.51batch/s, loss=0.024, rmse=0.15] \n"
     ]
    },
    {
     "name": "stdout",
     "output_type": "stream",
     "text": [
      "Calculating embeddings\n"
     ]
    },
    {
     "name": "stderr",
     "output_type": "stream",
     "text": [
      "6851it [00:02, 2539.16it/s]\n"
     ]
    },
    {
     "name": "stdout",
     "output_type": "stream",
     "text": [
      "Calculating similarity between embeddings\n"
     ]
    },
    {
     "name": "stderr",
     "output_type": "stream",
     "text": [
      "Selecting available inchikey pairs per bin: 10it [00:01,  5.02it/s]\n",
      "Selecting available inchikey pairs per bin: 10it [00:01,  5.03it/s]\n"
     ]
    },
    {
     "name": "stdout",
     "output_type": "stream",
     "text": [
      "Epoch [87/500], Loss: 0.0226\n",
      "Validation Loss: 0.0344 (RMSE: 0.1801).\n"
     ]
    },
    {
     "name": "stderr",
     "output_type": "stream",
     "text": [
      "Epoch 87: 100%|██████████| 14/14 [00:09<00:00,  1.51batch/s, loss=0.0214, rmse=0.148]\n"
     ]
    },
    {
     "name": "stdout",
     "output_type": "stream",
     "text": [
      "Calculating embeddings\n"
     ]
    },
    {
     "name": "stderr",
     "output_type": "stream",
     "text": [
      "6851it [00:02, 2346.64it/s]\n"
     ]
    },
    {
     "name": "stdout",
     "output_type": "stream",
     "text": [
      "Calculating similarity between embeddings\n"
     ]
    },
    {
     "name": "stderr",
     "output_type": "stream",
     "text": [
      "Selecting available inchikey pairs per bin: 10it [00:02,  4.69it/s]\n",
      "Selecting available inchikey pairs per bin: 10it [00:02,  4.75it/s]\n"
     ]
    },
    {
     "name": "stdout",
     "output_type": "stream",
     "text": [
      "Epoch [88/500], Loss: 0.0221\n",
      "Validation Loss: 0.0354 (RMSE: 0.1828).\n"
     ]
    },
    {
     "name": "stderr",
     "output_type": "stream",
     "text": [
      "Epoch 88: 100%|██████████| 14/14 [00:09<00:00,  1.48batch/s, loss=0.0243, rmse=0.151]\n"
     ]
    },
    {
     "name": "stdout",
     "output_type": "stream",
     "text": [
      "Calculating embeddings\n"
     ]
    },
    {
     "name": "stderr",
     "output_type": "stream",
     "text": [
      "6851it [00:02, 2299.17it/s]\n"
     ]
    },
    {
     "name": "stdout",
     "output_type": "stream",
     "text": [
      "Calculating similarity between embeddings\n"
     ]
    },
    {
     "name": "stderr",
     "output_type": "stream",
     "text": [
      "Selecting available inchikey pairs per bin: 10it [00:02,  4.84it/s]\n",
      "Selecting available inchikey pairs per bin: 10it [00:02,  4.85it/s]\n"
     ]
    },
    {
     "name": "stdout",
     "output_type": "stream",
     "text": [
      "Epoch [89/500], Loss: 0.0227\n",
      "Validation Loss: 0.0342 (RMSE: 0.1796).\n"
     ]
    },
    {
     "name": "stderr",
     "output_type": "stream",
     "text": [
      "Epoch 89: 100%|██████████| 14/14 [00:09<00:00,  1.51batch/s, loss=0.0219, rmse=0.152]\n"
     ]
    },
    {
     "name": "stdout",
     "output_type": "stream",
     "text": [
      "Calculating embeddings\n"
     ]
    },
    {
     "name": "stderr",
     "output_type": "stream",
     "text": [
      "6851it [00:02, 2549.05it/s]\n"
     ]
    },
    {
     "name": "stdout",
     "output_type": "stream",
     "text": [
      "Calculating similarity between embeddings\n"
     ]
    },
    {
     "name": "stderr",
     "output_type": "stream",
     "text": [
      "Selecting available inchikey pairs per bin: 10it [00:02,  4.96it/s]\n",
      "Selecting available inchikey pairs per bin: 10it [00:02,  4.94it/s]\n"
     ]
    },
    {
     "name": "stdout",
     "output_type": "stream",
     "text": [
      "Epoch [90/500], Loss: 0.0230\n",
      "Validation Loss: 0.0347 (RMSE: 0.1808).\n"
     ]
    },
    {
     "name": "stderr",
     "output_type": "stream",
     "text": [
      "Epoch 90: 100%|██████████| 14/14 [00:09<00:00,  1.51batch/s, loss=0.0216, rmse=0.152]\n"
     ]
    },
    {
     "name": "stdout",
     "output_type": "stream",
     "text": [
      "Calculating embeddings\n"
     ]
    },
    {
     "name": "stderr",
     "output_type": "stream",
     "text": [
      "6851it [00:02, 2318.69it/s]\n"
     ]
    },
    {
     "name": "stdout",
     "output_type": "stream",
     "text": [
      "Calculating similarity between embeddings\n"
     ]
    },
    {
     "name": "stderr",
     "output_type": "stream",
     "text": [
      "Selecting available inchikey pairs per bin: 10it [00:01,  5.06it/s]\n",
      "Selecting available inchikey pairs per bin: 10it [00:01,  5.07it/s]\n"
     ]
    },
    {
     "name": "stdout",
     "output_type": "stream",
     "text": [
      "Epoch [91/500], Loss: 0.0230\n",
      "Validation Loss: 0.0354 (RMSE: 0.1827).\n"
     ]
    },
    {
     "name": "stderr",
     "output_type": "stream",
     "text": [
      "Epoch 91: 100%|██████████| 14/14 [00:09<00:00,  1.52batch/s, loss=0.0227, rmse=0.15] \n"
     ]
    },
    {
     "name": "stdout",
     "output_type": "stream",
     "text": [
      "Calculating embeddings\n"
     ]
    },
    {
     "name": "stderr",
     "output_type": "stream",
     "text": [
      "6851it [00:02, 2557.90it/s]\n"
     ]
    },
    {
     "name": "stdout",
     "output_type": "stream",
     "text": [
      "Calculating similarity between embeddings\n"
     ]
    },
    {
     "name": "stderr",
     "output_type": "stream",
     "text": [
      "Selecting available inchikey pairs per bin: 10it [00:02,  4.90it/s]\n",
      "Selecting available inchikey pairs per bin: 10it [00:02,  4.92it/s]\n"
     ]
    },
    {
     "name": "stdout",
     "output_type": "stream",
     "text": [
      "Epoch [92/500], Loss: 0.0226\n",
      "Validation Loss: 0.0350 (RMSE: 0.1813).\n"
     ]
    },
    {
     "name": "stderr",
     "output_type": "stream",
     "text": [
      "Epoch 92: 100%|██████████| 14/14 [00:09<00:00,  1.52batch/s, loss=0.0243, rmse=0.15] \n"
     ]
    },
    {
     "name": "stdout",
     "output_type": "stream",
     "text": [
      "Calculating embeddings\n"
     ]
    },
    {
     "name": "stderr",
     "output_type": "stream",
     "text": [
      "6851it [00:02, 2521.48it/s]\n"
     ]
    },
    {
     "name": "stdout",
     "output_type": "stream",
     "text": [
      "Calculating similarity between embeddings\n"
     ]
    },
    {
     "name": "stderr",
     "output_type": "stream",
     "text": [
      "Selecting available inchikey pairs per bin: 10it [00:02,  4.93it/s]\n",
      "Selecting available inchikey pairs per bin: 10it [00:02,  4.94it/s]\n"
     ]
    },
    {
     "name": "stdout",
     "output_type": "stream",
     "text": [
      "Saving checkpoint model.\n",
      "Epoch [93/500], Loss: 0.0224\n",
      "Validation Loss: 0.0335 (RMSE: 0.1781).\n"
     ]
    },
    {
     "name": "stderr",
     "output_type": "stream",
     "text": [
      "Epoch 93: 100%|██████████| 14/14 [00:09<00:00,  1.53batch/s, loss=0.0219, rmse=0.149]\n"
     ]
    },
    {
     "name": "stdout",
     "output_type": "stream",
     "text": [
      "Calculating embeddings\n"
     ]
    },
    {
     "name": "stderr",
     "output_type": "stream",
     "text": [
      "6851it [00:02, 2292.13it/s]\n"
     ]
    },
    {
     "name": "stdout",
     "output_type": "stream",
     "text": [
      "Calculating similarity between embeddings\n"
     ]
    },
    {
     "name": "stderr",
     "output_type": "stream",
     "text": [
      "Selecting available inchikey pairs per bin: 10it [00:02,  4.96it/s]\n",
      "Selecting available inchikey pairs per bin: 10it [00:02,  4.97it/s]\n"
     ]
    },
    {
     "name": "stdout",
     "output_type": "stream",
     "text": [
      "Epoch [94/500], Loss: 0.0221\n",
      "Validation Loss: 0.0349 (RMSE: 0.1815).\n"
     ]
    },
    {
     "name": "stderr",
     "output_type": "stream",
     "text": [
      "Epoch 94: 100%|██████████| 14/14 [00:09<00:00,  1.46batch/s, loss=0.0224, rmse=0.152]\n"
     ]
    },
    {
     "name": "stdout",
     "output_type": "stream",
     "text": [
      "Calculating embeddings\n"
     ]
    },
    {
     "name": "stderr",
     "output_type": "stream",
     "text": [
      "6851it [00:02, 2344.54it/s]\n"
     ]
    },
    {
     "name": "stdout",
     "output_type": "stream",
     "text": [
      "Calculating similarity between embeddings\n"
     ]
    },
    {
     "name": "stderr",
     "output_type": "stream",
     "text": [
      "Selecting available inchikey pairs per bin: 10it [00:02,  4.74it/s]\n",
      "Selecting available inchikey pairs per bin: 10it [00:02,  4.84it/s]\n"
     ]
    },
    {
     "name": "stdout",
     "output_type": "stream",
     "text": [
      "Epoch [95/500], Loss: 0.0231\n",
      "Validation Loss: 0.0351 (RMSE: 0.1819).\n"
     ]
    },
    {
     "name": "stderr",
     "output_type": "stream",
     "text": [
      "Epoch 95: 100%|██████████| 14/14 [00:09<00:00,  1.44batch/s, loss=0.0202, rmse=0.15] \n"
     ]
    },
    {
     "name": "stdout",
     "output_type": "stream",
     "text": [
      "Calculating embeddings\n"
     ]
    },
    {
     "name": "stderr",
     "output_type": "stream",
     "text": [
      "6851it [00:02, 2438.93it/s]\n"
     ]
    },
    {
     "name": "stdout",
     "output_type": "stream",
     "text": [
      "Calculating similarity between embeddings\n"
     ]
    },
    {
     "name": "stderr",
     "output_type": "stream",
     "text": [
      "Selecting available inchikey pairs per bin: 10it [00:02,  4.87it/s]\n",
      "Selecting available inchikey pairs per bin: 10it [00:02,  4.84it/s]\n"
     ]
    },
    {
     "name": "stdout",
     "output_type": "stream",
     "text": [
      "Saving checkpoint model.\n",
      "Epoch [96/500], Loss: 0.0225\n",
      "Validation Loss: 0.0335 (RMSE: 0.1780).\n"
     ]
    },
    {
     "name": "stderr",
     "output_type": "stream",
     "text": [
      "Epoch 96: 100%|██████████| 14/14 [00:09<00:00,  1.43batch/s, loss=0.0169, rmse=0.145]\n"
     ]
    },
    {
     "name": "stdout",
     "output_type": "stream",
     "text": [
      "Calculating embeddings\n"
     ]
    },
    {
     "name": "stderr",
     "output_type": "stream",
     "text": [
      "6851it [00:02, 2469.17it/s]\n"
     ]
    },
    {
     "name": "stdout",
     "output_type": "stream",
     "text": [
      "Calculating similarity between embeddings\n"
     ]
    },
    {
     "name": "stderr",
     "output_type": "stream",
     "text": [
      "Selecting available inchikey pairs per bin: 10it [00:02,  4.97it/s]\n",
      "Selecting available inchikey pairs per bin: 10it [00:02,  4.91it/s]\n"
     ]
    },
    {
     "name": "stdout",
     "output_type": "stream",
     "text": [
      "Epoch [97/500], Loss: 0.0210\n",
      "Validation Loss: 0.0341 (RMSE: 0.1793).\n"
     ]
    },
    {
     "name": "stderr",
     "output_type": "stream",
     "text": [
      "Epoch 97: 100%|██████████| 14/14 [00:09<00:00,  1.49batch/s, loss=0.0214, rmse=0.146]\n"
     ]
    },
    {
     "name": "stdout",
     "output_type": "stream",
     "text": [
      "Calculating embeddings\n"
     ]
    },
    {
     "name": "stderr",
     "output_type": "stream",
     "text": [
      "6851it [00:02, 2560.84it/s]\n"
     ]
    },
    {
     "name": "stdout",
     "output_type": "stream",
     "text": [
      "Calculating similarity between embeddings\n"
     ]
    },
    {
     "name": "stderr",
     "output_type": "stream",
     "text": [
      "Selecting available inchikey pairs per bin: 10it [00:01,  5.07it/s]\n",
      "Selecting available inchikey pairs per bin: 10it [00:01,  5.08it/s]\n"
     ]
    },
    {
     "name": "stdout",
     "output_type": "stream",
     "text": [
      "Epoch [98/500], Loss: 0.0215\n",
      "Validation Loss: 0.0344 (RMSE: 0.1806).\n"
     ]
    },
    {
     "name": "stderr",
     "output_type": "stream",
     "text": [
      "Epoch 98: 100%|██████████| 14/14 [00:09<00:00,  1.51batch/s, loss=0.0217, rmse=0.147]\n"
     ]
    },
    {
     "name": "stdout",
     "output_type": "stream",
     "text": [
      "Calculating embeddings\n"
     ]
    },
    {
     "name": "stderr",
     "output_type": "stream",
     "text": [
      "6851it [00:02, 2542.56it/s]\n"
     ]
    },
    {
     "name": "stdout",
     "output_type": "stream",
     "text": [
      "Calculating similarity between embeddings\n"
     ]
    },
    {
     "name": "stderr",
     "output_type": "stream",
     "text": [
      "Selecting available inchikey pairs per bin: 10it [00:02,  4.51it/s]\n",
      "Selecting available inchikey pairs per bin: 10it [00:02,  4.86it/s]\n"
     ]
    },
    {
     "name": "stdout",
     "output_type": "stream",
     "text": [
      "Epoch [99/500], Loss: 0.0217\n",
      "Validation Loss: 0.0348 (RMSE: 0.1815).\n"
     ]
    },
    {
     "name": "stderr",
     "output_type": "stream",
     "text": [
      "Epoch 99: 100%|██████████| 14/14 [00:09<00:00,  1.44batch/s, loss=0.0197, rmse=0.147]\n"
     ]
    },
    {
     "name": "stdout",
     "output_type": "stream",
     "text": [
      "Calculating embeddings\n"
     ]
    },
    {
     "name": "stderr",
     "output_type": "stream",
     "text": [
      "6851it [00:02, 2429.52it/s]\n"
     ]
    },
    {
     "name": "stdout",
     "output_type": "stream",
     "text": [
      "Calculating similarity between embeddings\n"
     ]
    },
    {
     "name": "stderr",
     "output_type": "stream",
     "text": [
      "Selecting available inchikey pairs per bin: 10it [00:02,  4.82it/s]\n",
      "Selecting available inchikey pairs per bin: 10it [00:02,  4.86it/s]\n"
     ]
    },
    {
     "name": "stdout",
     "output_type": "stream",
     "text": [
      "Epoch [100/500], Loss: 0.0216\n",
      "Validation Loss: 0.0336 (RMSE: 0.1784).\n"
     ]
    },
    {
     "name": "stderr",
     "output_type": "stream",
     "text": [
      "Epoch 100: 100%|██████████| 14/14 [00:09<00:00,  1.45batch/s, loss=0.0238, rmse=0.147]\n"
     ]
    },
    {
     "name": "stdout",
     "output_type": "stream",
     "text": [
      "Calculating embeddings\n"
     ]
    },
    {
     "name": "stderr",
     "output_type": "stream",
     "text": [
      "6851it [00:02, 2468.61it/s]\n"
     ]
    },
    {
     "name": "stdout",
     "output_type": "stream",
     "text": [
      "Calculating similarity between embeddings\n"
     ]
    },
    {
     "name": "stderr",
     "output_type": "stream",
     "text": [
      "Selecting available inchikey pairs per bin: 10it [00:02,  4.96it/s]\n",
      "Selecting available inchikey pairs per bin: 10it [00:01,  5.02it/s]\n"
     ]
    },
    {
     "name": "stdout",
     "output_type": "stream",
     "text": [
      "Epoch [101/500], Loss: 0.0218\n",
      "Validation Loss: 0.0337 (RMSE: 0.1785).\n"
     ]
    },
    {
     "name": "stderr",
     "output_type": "stream",
     "text": [
      "Epoch 101: 100%|██████████| 14/14 [00:09<00:00,  1.40batch/s, loss=0.022, rmse=0.146] \n"
     ]
    },
    {
     "name": "stdout",
     "output_type": "stream",
     "text": [
      "Calculating embeddings\n"
     ]
    },
    {
     "name": "stderr",
     "output_type": "stream",
     "text": [
      "6851it [00:02, 2522.84it/s]\n"
     ]
    },
    {
     "name": "stdout",
     "output_type": "stream",
     "text": [
      "Calculating similarity between embeddings\n"
     ]
    },
    {
     "name": "stderr",
     "output_type": "stream",
     "text": [
      "Selecting available inchikey pairs per bin: 10it [00:02,  4.83it/s]\n",
      "Selecting available inchikey pairs per bin: 10it [00:02,  4.92it/s]\n"
     ]
    },
    {
     "name": "stdout",
     "output_type": "stream",
     "text": [
      "Epoch [102/500], Loss: 0.0214\n",
      "Validation Loss: 0.0351 (RMSE: 0.1818).\n"
     ]
    },
    {
     "name": "stderr",
     "output_type": "stream",
     "text": [
      "Epoch 102: 100%|██████████| 14/14 [00:09<00:00,  1.47batch/s, loss=0.0206, rmse=0.143]\n"
     ]
    },
    {
     "name": "stdout",
     "output_type": "stream",
     "text": [
      "Calculating embeddings\n"
     ]
    },
    {
     "name": "stderr",
     "output_type": "stream",
     "text": [
      "6851it [00:02, 2423.86it/s]\n"
     ]
    },
    {
     "name": "stdout",
     "output_type": "stream",
     "text": [
      "Calculating similarity between embeddings\n"
     ]
    },
    {
     "name": "stderr",
     "output_type": "stream",
     "text": [
      "Selecting available inchikey pairs per bin: 10it [00:02,  4.66it/s]\n",
      "Selecting available inchikey pairs per bin: 10it [00:02,  4.97it/s]\n"
     ]
    },
    {
     "name": "stdout",
     "output_type": "stream",
     "text": [
      "Epoch [103/500], Loss: 0.0205\n",
      "Validation Loss: 0.0337 (RMSE: 0.1784).\n"
     ]
    },
    {
     "name": "stderr",
     "output_type": "stream",
     "text": [
      "Epoch 103: 100%|██████████| 14/14 [00:09<00:00,  1.47batch/s, loss=0.0241, rmse=0.146]\n"
     ]
    },
    {
     "name": "stdout",
     "output_type": "stream",
     "text": [
      "Calculating embeddings\n"
     ]
    },
    {
     "name": "stderr",
     "output_type": "stream",
     "text": [
      "6851it [00:02, 2487.78it/s]\n"
     ]
    },
    {
     "name": "stdout",
     "output_type": "stream",
     "text": [
      "Calculating similarity between embeddings\n"
     ]
    },
    {
     "name": "stderr",
     "output_type": "stream",
     "text": [
      "Selecting available inchikey pairs per bin: 10it [00:02,  4.89it/s]\n",
      "Selecting available inchikey pairs per bin: 10it [00:02,  4.81it/s]\n"
     ]
    },
    {
     "name": "stdout",
     "output_type": "stream",
     "text": [
      "Saving checkpoint model.\n",
      "Epoch [104/500], Loss: 0.0213\n",
      "Validation Loss: 0.0335 (RMSE: 0.1785).\n"
     ]
    },
    {
     "name": "stderr",
     "output_type": "stream",
     "text": [
      "Epoch 104: 100%|██████████| 14/14 [00:09<00:00,  1.48batch/s, loss=0.0221, rmse=0.144]\n"
     ]
    },
    {
     "name": "stdout",
     "output_type": "stream",
     "text": [
      "Calculating embeddings\n"
     ]
    },
    {
     "name": "stderr",
     "output_type": "stream",
     "text": [
      "6851it [00:02, 2516.42it/s]\n"
     ]
    },
    {
     "name": "stdout",
     "output_type": "stream",
     "text": [
      "Calculating similarity between embeddings\n"
     ]
    },
    {
     "name": "stderr",
     "output_type": "stream",
     "text": [
      "Selecting available inchikey pairs per bin: 10it [00:02,  4.82it/s]\n",
      "Selecting available inchikey pairs per bin: 10it [00:02,  4.81it/s]\n"
     ]
    },
    {
     "name": "stdout",
     "output_type": "stream",
     "text": [
      "Saving checkpoint model.\n",
      "Epoch [105/500], Loss: 0.0208\n",
      "Validation Loss: 0.0331 (RMSE: 0.1767).\n"
     ]
    },
    {
     "name": "stderr",
     "output_type": "stream",
     "text": [
      "Epoch 105: 100%|██████████| 14/14 [00:09<00:00,  1.44batch/s, loss=0.0233, rmse=0.148]\n"
     ]
    },
    {
     "name": "stdout",
     "output_type": "stream",
     "text": [
      "Calculating embeddings\n"
     ]
    },
    {
     "name": "stderr",
     "output_type": "stream",
     "text": [
      "6851it [00:02, 2448.23it/s]\n"
     ]
    },
    {
     "name": "stdout",
     "output_type": "stream",
     "text": [
      "Calculating similarity between embeddings\n"
     ]
    },
    {
     "name": "stderr",
     "output_type": "stream",
     "text": [
      "Selecting available inchikey pairs per bin: 10it [00:02,  4.84it/s]\n",
      "Selecting available inchikey pairs per bin: 10it [00:02,  4.86it/s]\n"
     ]
    },
    {
     "name": "stdout",
     "output_type": "stream",
     "text": [
      "Saving checkpoint model.\n",
      "Epoch [106/500], Loss: 0.0220\n",
      "Validation Loss: 0.0320 (RMSE: 0.1740).\n"
     ]
    },
    {
     "name": "stderr",
     "output_type": "stream",
     "text": [
      "Epoch 106: 100%|██████████| 14/14 [00:09<00:00,  1.45batch/s, loss=0.0195, rmse=0.142]\n"
     ]
    },
    {
     "name": "stdout",
     "output_type": "stream",
     "text": [
      "Calculating embeddings\n"
     ]
    },
    {
     "name": "stderr",
     "output_type": "stream",
     "text": [
      "6851it [00:02, 2504.84it/s]\n"
     ]
    },
    {
     "name": "stdout",
     "output_type": "stream",
     "text": [
      "Calculating similarity between embeddings\n"
     ]
    },
    {
     "name": "stderr",
     "output_type": "stream",
     "text": [
      "Selecting available inchikey pairs per bin: 10it [00:02,  4.93it/s]\n",
      "Selecting available inchikey pairs per bin: 10it [00:02,  4.94it/s]\n"
     ]
    },
    {
     "name": "stdout",
     "output_type": "stream",
     "text": [
      "Epoch [107/500], Loss: 0.0202\n",
      "Validation Loss: 0.0328 (RMSE: 0.1761).\n"
     ]
    },
    {
     "name": "stderr",
     "output_type": "stream",
     "text": [
      "Epoch 107: 100%|██████████| 14/14 [00:09<00:00,  1.46batch/s, loss=0.0196, rmse=0.143]\n"
     ]
    },
    {
     "name": "stdout",
     "output_type": "stream",
     "text": [
      "Calculating embeddings\n"
     ]
    },
    {
     "name": "stderr",
     "output_type": "stream",
     "text": [
      "6851it [00:02, 2480.76it/s]\n"
     ]
    },
    {
     "name": "stdout",
     "output_type": "stream",
     "text": [
      "Calculating similarity between embeddings\n"
     ]
    },
    {
     "name": "stderr",
     "output_type": "stream",
     "text": [
      "Selecting available inchikey pairs per bin: 10it [00:02,  4.86it/s]\n",
      "Selecting available inchikey pairs per bin: 10it [00:02,  4.86it/s]\n"
     ]
    },
    {
     "name": "stdout",
     "output_type": "stream",
     "text": [
      "Epoch [108/500], Loss: 0.0203\n",
      "Validation Loss: 0.0322 (RMSE: 0.1743).\n"
     ]
    },
    {
     "name": "stderr",
     "output_type": "stream",
     "text": [
      "Epoch 108: 100%|██████████| 14/14 [00:10<00:00,  1.39batch/s, loss=0.019, rmse=0.142] \n"
     ]
    },
    {
     "name": "stdout",
     "output_type": "stream",
     "text": [
      "Calculating embeddings\n"
     ]
    },
    {
     "name": "stderr",
     "output_type": "stream",
     "text": [
      "6851it [00:03, 1959.59it/s]\n"
     ]
    },
    {
     "name": "stdout",
     "output_type": "stream",
     "text": [
      "Calculating similarity between embeddings\n"
     ]
    },
    {
     "name": "stderr",
     "output_type": "stream",
     "text": [
      "Selecting available inchikey pairs per bin: 10it [00:02,  4.82it/s]\n",
      "Selecting available inchikey pairs per bin: 10it [00:02,  4.82it/s]\n"
     ]
    },
    {
     "name": "stdout",
     "output_type": "stream",
     "text": [
      "Epoch [109/500], Loss: 0.0202\n",
      "Validation Loss: 0.0333 (RMSE: 0.1778).\n"
     ]
    },
    {
     "name": "stderr",
     "output_type": "stream",
     "text": [
      "Epoch 109: 100%|██████████| 14/14 [00:09<00:00,  1.41batch/s, loss=0.0196, rmse=0.141]\n"
     ]
    },
    {
     "name": "stdout",
     "output_type": "stream",
     "text": [
      "Calculating embeddings\n"
     ]
    },
    {
     "name": "stderr",
     "output_type": "stream",
     "text": [
      "6851it [00:03, 2147.64it/s]\n"
     ]
    },
    {
     "name": "stdout",
     "output_type": "stream",
     "text": [
      "Calculating similarity between embeddings\n"
     ]
    },
    {
     "name": "stderr",
     "output_type": "stream",
     "text": [
      "Selecting available inchikey pairs per bin: 10it [00:02,  4.85it/s]\n",
      "Selecting available inchikey pairs per bin: 10it [00:02,  4.90it/s]\n"
     ]
    },
    {
     "name": "stdout",
     "output_type": "stream",
     "text": [
      "Epoch [110/500], Loss: 0.0199\n",
      "Validation Loss: 0.0333 (RMSE: 0.1775).\n"
     ]
    },
    {
     "name": "stderr",
     "output_type": "stream",
     "text": [
      "Epoch 110: 100%|██████████| 14/14 [00:10<00:00,  1.39batch/s, loss=0.0216, rmse=0.142]\n"
     ]
    },
    {
     "name": "stdout",
     "output_type": "stream",
     "text": [
      "Calculating embeddings\n"
     ]
    },
    {
     "name": "stderr",
     "output_type": "stream",
     "text": [
      "6851it [00:02, 2428.39it/s]\n"
     ]
    },
    {
     "name": "stdout",
     "output_type": "stream",
     "text": [
      "Calculating similarity between embeddings\n"
     ]
    },
    {
     "name": "stderr",
     "output_type": "stream",
     "text": [
      "Selecting available inchikey pairs per bin: 10it [00:02,  4.14it/s]\n",
      "Selecting available inchikey pairs per bin: 10it [00:01,  5.02it/s]\n"
     ]
    },
    {
     "name": "stdout",
     "output_type": "stream",
     "text": [
      "Epoch [111/500], Loss: 0.0201\n",
      "Validation Loss: 0.0325 (RMSE: 0.1757).\n"
     ]
    },
    {
     "name": "stderr",
     "output_type": "stream",
     "text": [
      "Epoch 111: 100%|██████████| 14/14 [00:09<00:00,  1.47batch/s, loss=0.0216, rmse=0.143]\n"
     ]
    },
    {
     "name": "stdout",
     "output_type": "stream",
     "text": [
      "Calculating embeddings\n"
     ]
    },
    {
     "name": "stderr",
     "output_type": "stream",
     "text": [
      "6851it [00:02, 2519.41it/s]\n"
     ]
    },
    {
     "name": "stdout",
     "output_type": "stream",
     "text": [
      "Calculating similarity between embeddings\n"
     ]
    },
    {
     "name": "stderr",
     "output_type": "stream",
     "text": [
      "Selecting available inchikey pairs per bin: 10it [00:02,  4.85it/s]\n",
      "Selecting available inchikey pairs per bin: 10it [00:02,  4.87it/s]\n"
     ]
    },
    {
     "name": "stdout",
     "output_type": "stream",
     "text": [
      "Epoch [112/500], Loss: 0.0205\n",
      "Validation Loss: 0.0334 (RMSE: 0.1777).\n"
     ]
    },
    {
     "name": "stderr",
     "output_type": "stream",
     "text": [
      "Epoch 112: 100%|██████████| 14/14 [00:09<00:00,  1.47batch/s, loss=0.0214, rmse=0.144]\n"
     ]
    },
    {
     "name": "stdout",
     "output_type": "stream",
     "text": [
      "Calculating embeddings\n"
     ]
    },
    {
     "name": "stderr",
     "output_type": "stream",
     "text": [
      "6851it [00:03, 2107.53it/s]\n"
     ]
    },
    {
     "name": "stdout",
     "output_type": "stream",
     "text": [
      "Calculating similarity between embeddings\n"
     ]
    },
    {
     "name": "stderr",
     "output_type": "stream",
     "text": [
      "Selecting available inchikey pairs per bin: 10it [00:02,  4.84it/s]\n",
      "Selecting available inchikey pairs per bin: 10it [00:02,  4.87it/s]\n"
     ]
    },
    {
     "name": "stdout",
     "output_type": "stream",
     "text": [
      "Epoch [113/500], Loss: 0.0207\n",
      "Validation Loss: 0.0326 (RMSE: 0.1756).\n"
     ]
    },
    {
     "name": "stderr",
     "output_type": "stream",
     "text": [
      "Epoch 113: 100%|██████████| 14/14 [00:09<00:00,  1.41batch/s, loss=0.0205, rmse=0.14] \n"
     ]
    },
    {
     "name": "stdout",
     "output_type": "stream",
     "text": [
      "Calculating embeddings\n"
     ]
    },
    {
     "name": "stderr",
     "output_type": "stream",
     "text": [
      "6851it [00:02, 2520.42it/s]\n"
     ]
    },
    {
     "name": "stdout",
     "output_type": "stream",
     "text": [
      "Calculating similarity between embeddings\n"
     ]
    },
    {
     "name": "stderr",
     "output_type": "stream",
     "text": [
      "Selecting available inchikey pairs per bin: 10it [00:02,  4.98it/s]\n",
      "Selecting available inchikey pairs per bin: 10it [00:01,  5.06it/s]\n"
     ]
    },
    {
     "name": "stdout",
     "output_type": "stream",
     "text": [
      "Epoch [114/500], Loss: 0.0197\n",
      "Validation Loss: 0.0332 (RMSE: 0.1770).\n"
     ]
    },
    {
     "name": "stderr",
     "output_type": "stream",
     "text": [
      "Epoch 114: 100%|██████████| 14/14 [00:09<00:00,  1.51batch/s, loss=0.0191, rmse=0.14]\n"
     ]
    },
    {
     "name": "stdout",
     "output_type": "stream",
     "text": [
      "Calculating embeddings\n"
     ]
    },
    {
     "name": "stderr",
     "output_type": "stream",
     "text": [
      "6851it [00:03, 2269.38it/s]\n"
     ]
    },
    {
     "name": "stdout",
     "output_type": "stream",
     "text": [
      "Calculating similarity between embeddings\n"
     ]
    },
    {
     "name": "stderr",
     "output_type": "stream",
     "text": [
      "Selecting available inchikey pairs per bin: 10it [00:02,  4.89it/s]\n",
      "Selecting available inchikey pairs per bin: 10it [00:02,  4.94it/s]\n"
     ]
    },
    {
     "name": "stdout",
     "output_type": "stream",
     "text": [
      "Epoch [115/500], Loss: 0.0196\n",
      "Validation Loss: 0.0330 (RMSE: 0.1769).\n"
     ]
    },
    {
     "name": "stderr",
     "output_type": "stream",
     "text": [
      "Epoch 115: 100%|██████████| 14/14 [00:09<00:00,  1.51batch/s, loss=0.0172, rmse=0.141]\n"
     ]
    },
    {
     "name": "stdout",
     "output_type": "stream",
     "text": [
      "Calculating embeddings\n"
     ]
    },
    {
     "name": "stderr",
     "output_type": "stream",
     "text": [
      "6851it [00:02, 2536.04it/s]\n"
     ]
    },
    {
     "name": "stdout",
     "output_type": "stream",
     "text": [
      "Calculating similarity between embeddings\n"
     ]
    },
    {
     "name": "stderr",
     "output_type": "stream",
     "text": [
      "Selecting available inchikey pairs per bin: 10it [00:02,  4.97it/s]\n",
      "Selecting available inchikey pairs per bin: 10it [00:02,  4.99it/s]\n"
     ]
    },
    {
     "name": "stdout",
     "output_type": "stream",
     "text": [
      "Saving checkpoint model.\n",
      "Epoch [116/500], Loss: 0.0199\n",
      "Validation Loss: 0.0319 (RMSE: 0.1739).\n"
     ]
    },
    {
     "name": "stderr",
     "output_type": "stream",
     "text": [
      "Epoch 116: 100%|██████████| 14/14 [00:09<00:00,  1.52batch/s, loss=0.0203, rmse=0.139]\n"
     ]
    },
    {
     "name": "stdout",
     "output_type": "stream",
     "text": [
      "Calculating embeddings\n"
     ]
    },
    {
     "name": "stderr",
     "output_type": "stream",
     "text": [
      "6851it [00:02, 2564.43it/s]\n"
     ]
    },
    {
     "name": "stdout",
     "output_type": "stream",
     "text": [
      "Calculating similarity between embeddings\n"
     ]
    },
    {
     "name": "stderr",
     "output_type": "stream",
     "text": [
      "Selecting available inchikey pairs per bin: 10it [00:02,  4.97it/s]\n",
      "Selecting available inchikey pairs per bin: 10it [00:02,  5.00it/s]\n"
     ]
    },
    {
     "name": "stdout",
     "output_type": "stream",
     "text": [
      "Epoch [117/500], Loss: 0.0194\n",
      "Validation Loss: 0.0325 (RMSE: 0.1756).\n"
     ]
    },
    {
     "name": "stderr",
     "output_type": "stream",
     "text": [
      "Epoch 117: 100%|██████████| 14/14 [00:09<00:00,  1.50batch/s, loss=0.0198, rmse=0.143]\n"
     ]
    },
    {
     "name": "stdout",
     "output_type": "stream",
     "text": [
      "Calculating embeddings\n"
     ]
    },
    {
     "name": "stderr",
     "output_type": "stream",
     "text": [
      "6851it [00:02, 2480.53it/s]\n"
     ]
    },
    {
     "name": "stdout",
     "output_type": "stream",
     "text": [
      "Calculating similarity between embeddings\n"
     ]
    },
    {
     "name": "stderr",
     "output_type": "stream",
     "text": [
      "Selecting available inchikey pairs per bin: 10it [00:02,  4.79it/s]\n",
      "Selecting available inchikey pairs per bin: 10it [00:02,  4.77it/s]\n"
     ]
    },
    {
     "name": "stdout",
     "output_type": "stream",
     "text": [
      "Epoch [118/500], Loss: 0.0205\n",
      "Validation Loss: 0.0323 (RMSE: 0.1747).\n"
     ]
    },
    {
     "name": "stderr",
     "output_type": "stream",
     "text": [
      "Epoch 118: 100%|██████████| 14/14 [00:10<00:00,  1.40batch/s, loss=0.0189, rmse=0.139]\n"
     ]
    },
    {
     "name": "stdout",
     "output_type": "stream",
     "text": [
      "Calculating embeddings\n"
     ]
    },
    {
     "name": "stderr",
     "output_type": "stream",
     "text": [
      "6851it [00:02, 2486.35it/s]\n"
     ]
    },
    {
     "name": "stdout",
     "output_type": "stream",
     "text": [
      "Calculating similarity between embeddings\n"
     ]
    },
    {
     "name": "stderr",
     "output_type": "stream",
     "text": [
      "Selecting available inchikey pairs per bin: 10it [00:02,  4.87it/s]\n",
      "Selecting available inchikey pairs per bin: 10it [00:02,  4.89it/s]\n"
     ]
    },
    {
     "name": "stdout",
     "output_type": "stream",
     "text": [
      "Saving checkpoint model.\n",
      "Epoch [119/500], Loss: 0.0194\n",
      "Validation Loss: 0.0318 (RMSE: 0.1736).\n"
     ]
    },
    {
     "name": "stderr",
     "output_type": "stream",
     "text": [
      "Epoch 119: 100%|██████████| 14/14 [00:09<00:00,  1.46batch/s, loss=0.0181, rmse=0.141]\n"
     ]
    },
    {
     "name": "stdout",
     "output_type": "stream",
     "text": [
      "Calculating embeddings\n"
     ]
    },
    {
     "name": "stderr",
     "output_type": "stream",
     "text": [
      "6851it [00:02, 2466.54it/s]\n"
     ]
    },
    {
     "name": "stdout",
     "output_type": "stream",
     "text": [
      "Calculating similarity between embeddings\n"
     ]
    },
    {
     "name": "stderr",
     "output_type": "stream",
     "text": [
      "Selecting available inchikey pairs per bin: 10it [00:02,  4.89it/s]\n",
      "Selecting available inchikey pairs per bin: 10it [00:02,  4.95it/s]\n"
     ]
    },
    {
     "name": "stdout",
     "output_type": "stream",
     "text": [
      "Epoch [120/500], Loss: 0.0198\n",
      "Validation Loss: 0.0320 (RMSE: 0.1738).\n"
     ]
    },
    {
     "name": "stderr",
     "output_type": "stream",
     "text": [
      "Epoch 120: 100%|██████████| 14/14 [00:09<00:00,  1.46batch/s, loss=0.019, rmse=0.138] \n"
     ]
    },
    {
     "name": "stdout",
     "output_type": "stream",
     "text": [
      "Calculating embeddings\n"
     ]
    },
    {
     "name": "stderr",
     "output_type": "stream",
     "text": [
      "6851it [00:02, 2483.77it/s]\n"
     ]
    },
    {
     "name": "stdout",
     "output_type": "stream",
     "text": [
      "Calculating similarity between embeddings\n"
     ]
    },
    {
     "name": "stderr",
     "output_type": "stream",
     "text": [
      "Selecting available inchikey pairs per bin: 10it [00:02,  4.82it/s]\n",
      "Selecting available inchikey pairs per bin: 10it [00:02,  4.87it/s]\n"
     ]
    },
    {
     "name": "stdout",
     "output_type": "stream",
     "text": [
      "Epoch [121/500], Loss: 0.0191\n",
      "Validation Loss: 0.0318 (RMSE: 0.1736).\n"
     ]
    },
    {
     "name": "stderr",
     "output_type": "stream",
     "text": [
      "Epoch 121: 100%|██████████| 14/14 [00:09<00:00,  1.43batch/s, loss=0.0202, rmse=0.139]\n"
     ]
    },
    {
     "name": "stdout",
     "output_type": "stream",
     "text": [
      "Calculating embeddings\n"
     ]
    },
    {
     "name": "stderr",
     "output_type": "stream",
     "text": [
      "6851it [00:03, 2244.15it/s]\n"
     ]
    },
    {
     "name": "stdout",
     "output_type": "stream",
     "text": [
      "Calculating similarity between embeddings\n"
     ]
    },
    {
     "name": "stderr",
     "output_type": "stream",
     "text": [
      "Selecting available inchikey pairs per bin: 10it [00:01,  5.08it/s]\n",
      "Selecting available inchikey pairs per bin: 10it [00:02,  4.98it/s]\n"
     ]
    },
    {
     "name": "stdout",
     "output_type": "stream",
     "text": [
      "Saving checkpoint model.\n",
      "Epoch [122/500], Loss: 0.0195\n",
      "Validation Loss: 0.0312 (RMSE: 0.1723).\n"
     ]
    },
    {
     "name": "stderr",
     "output_type": "stream",
     "text": [
      "Epoch 122: 100%|██████████| 14/14 [00:09<00:00,  1.52batch/s, loss=0.0192, rmse=0.14] \n"
     ]
    },
    {
     "name": "stdout",
     "output_type": "stream",
     "text": [
      "Calculating embeddings\n"
     ]
    },
    {
     "name": "stderr",
     "output_type": "stream",
     "text": [
      "6851it [00:02, 2564.88it/s]\n"
     ]
    },
    {
     "name": "stdout",
     "output_type": "stream",
     "text": [
      "Calculating similarity between embeddings\n"
     ]
    },
    {
     "name": "stderr",
     "output_type": "stream",
     "text": [
      "Selecting available inchikey pairs per bin: 10it [00:02,  5.00it/s]\n",
      "Selecting available inchikey pairs per bin: 10it [00:02,  4.98it/s]\n"
     ]
    },
    {
     "name": "stdout",
     "output_type": "stream",
     "text": [
      "Epoch [123/500], Loss: 0.0197\n",
      "Validation Loss: 0.0319 (RMSE: 0.1738).\n"
     ]
    },
    {
     "name": "stderr",
     "output_type": "stream",
     "text": [
      "Epoch 123: 100%|██████████| 14/14 [00:10<00:00,  1.40batch/s, loss=0.0197, rmse=0.138]\n"
     ]
    },
    {
     "name": "stdout",
     "output_type": "stream",
     "text": [
      "Calculating embeddings\n"
     ]
    },
    {
     "name": "stderr",
     "output_type": "stream",
     "text": [
      "6851it [00:03, 1909.54it/s]\n"
     ]
    },
    {
     "name": "stdout",
     "output_type": "stream",
     "text": [
      "Calculating similarity between embeddings\n"
     ]
    },
    {
     "name": "stderr",
     "output_type": "stream",
     "text": [
      "Selecting available inchikey pairs per bin: 10it [00:02,  4.91it/s]\n",
      "Selecting available inchikey pairs per bin: 10it [00:02,  4.94it/s]\n"
     ]
    },
    {
     "name": "stdout",
     "output_type": "stream",
     "text": [
      "Epoch [124/500], Loss: 0.0190\n",
      "Validation Loss: 0.0322 (RMSE: 0.1742).\n"
     ]
    },
    {
     "name": "stderr",
     "output_type": "stream",
     "text": [
      "Epoch 124: 100%|██████████| 14/14 [00:10<00:00,  1.39batch/s, loss=0.017, rmse=0.137] \n"
     ]
    },
    {
     "name": "stdout",
     "output_type": "stream",
     "text": [
      "Calculating embeddings\n"
     ]
    },
    {
     "name": "stderr",
     "output_type": "stream",
     "text": [
      "6851it [00:02, 2508.51it/s]\n"
     ]
    },
    {
     "name": "stdout",
     "output_type": "stream",
     "text": [
      "Calculating similarity between embeddings\n"
     ]
    },
    {
     "name": "stderr",
     "output_type": "stream",
     "text": [
      "Selecting available inchikey pairs per bin: 10it [00:02,  4.88it/s]\n",
      "Selecting available inchikey pairs per bin: 10it [00:02,  4.91it/s]\n"
     ]
    },
    {
     "name": "stdout",
     "output_type": "stream",
     "text": [
      "Epoch [125/500], Loss: 0.0187\n",
      "Validation Loss: 0.0319 (RMSE: 0.1736).\n"
     ]
    },
    {
     "name": "stderr",
     "output_type": "stream",
     "text": [
      "Epoch 125: 100%|██████████| 14/14 [00:09<00:00,  1.48batch/s, loss=0.0209, rmse=0.138]\n"
     ]
    },
    {
     "name": "stdout",
     "output_type": "stream",
     "text": [
      "Calculating embeddings\n"
     ]
    },
    {
     "name": "stderr",
     "output_type": "stream",
     "text": [
      "6851it [00:02, 2521.09it/s]\n"
     ]
    },
    {
     "name": "stdout",
     "output_type": "stream",
     "text": [
      "Calculating similarity between embeddings\n"
     ]
    },
    {
     "name": "stderr",
     "output_type": "stream",
     "text": [
      "Selecting available inchikey pairs per bin: 10it [00:01,  5.02it/s]\n",
      "Selecting available inchikey pairs per bin: 10it [00:01,  5.05it/s]\n"
     ]
    },
    {
     "name": "stdout",
     "output_type": "stream",
     "text": [
      "Epoch [126/500], Loss: 0.0191\n",
      "Validation Loss: 0.0313 (RMSE: 0.1726).\n"
     ]
    },
    {
     "name": "stderr",
     "output_type": "stream",
     "text": [
      "Epoch 126: 100%|██████████| 14/14 [00:09<00:00,  1.48batch/s, loss=0.0202, rmse=0.14] \n"
     ]
    },
    {
     "name": "stdout",
     "output_type": "stream",
     "text": [
      "Calculating embeddings\n"
     ]
    },
    {
     "name": "stderr",
     "output_type": "stream",
     "text": [
      "6851it [00:02, 2535.69it/s]\n"
     ]
    },
    {
     "name": "stdout",
     "output_type": "stream",
     "text": [
      "Calculating similarity between embeddings\n"
     ]
    },
    {
     "name": "stderr",
     "output_type": "stream",
     "text": [
      "Selecting available inchikey pairs per bin: 10it [00:01,  5.04it/s]\n",
      "Selecting available inchikey pairs per bin: 10it [00:01,  5.05it/s]\n"
     ]
    },
    {
     "name": "stdout",
     "output_type": "stream",
     "text": [
      "Saving checkpoint model.\n",
      "Epoch [127/500], Loss: 0.0195\n",
      "Validation Loss: 0.0305 (RMSE: 0.1702).\n"
     ]
    },
    {
     "name": "stderr",
     "output_type": "stream",
     "text": [
      "Epoch 127: 100%|██████████| 14/14 [00:09<00:00,  1.49batch/s, loss=0.017, rmse=0.136] \n"
     ]
    },
    {
     "name": "stdout",
     "output_type": "stream",
     "text": [
      "Calculating embeddings\n"
     ]
    },
    {
     "name": "stderr",
     "output_type": "stream",
     "text": [
      "6851it [00:02, 2416.67it/s]\n"
     ]
    },
    {
     "name": "stdout",
     "output_type": "stream",
     "text": [
      "Calculating similarity between embeddings\n"
     ]
    },
    {
     "name": "stderr",
     "output_type": "stream",
     "text": [
      "Selecting available inchikey pairs per bin: 10it [00:02,  4.95it/s]\n",
      "Selecting available inchikey pairs per bin: 10it [00:01,  5.03it/s]\n"
     ]
    },
    {
     "name": "stdout",
     "output_type": "stream",
     "text": [
      "Epoch [128/500], Loss: 0.0185\n",
      "Validation Loss: 0.0318 (RMSE: 0.1729).\n"
     ]
    },
    {
     "name": "stderr",
     "output_type": "stream",
     "text": [
      "Epoch 128: 100%|██████████| 14/14 [00:10<00:00,  1.31batch/s, loss=0.0203, rmse=0.139]\n"
     ]
    },
    {
     "name": "stdout",
     "output_type": "stream",
     "text": [
      "Calculating embeddings\n"
     ]
    },
    {
     "name": "stderr",
     "output_type": "stream",
     "text": [
      "6851it [00:02, 2471.76it/s]\n"
     ]
    },
    {
     "name": "stdout",
     "output_type": "stream",
     "text": [
      "Calculating similarity between embeddings\n"
     ]
    },
    {
     "name": "stderr",
     "output_type": "stream",
     "text": [
      "Selecting available inchikey pairs per bin: 10it [00:02,  4.82it/s]\n",
      "Selecting available inchikey pairs per bin: 10it [00:02,  4.89it/s]\n"
     ]
    },
    {
     "name": "stdout",
     "output_type": "stream",
     "text": [
      "Epoch [129/500], Loss: 0.0193\n",
      "Validation Loss: 0.0313 (RMSE: 0.1725).\n"
     ]
    },
    {
     "name": "stderr",
     "output_type": "stream",
     "text": [
      "Epoch 129: 100%|██████████| 14/14 [00:09<00:00,  1.48batch/s, loss=0.0166, rmse=0.139]\n"
     ]
    },
    {
     "name": "stdout",
     "output_type": "stream",
     "text": [
      "Calculating embeddings\n"
     ]
    },
    {
     "name": "stderr",
     "output_type": "stream",
     "text": [
      "6851it [00:03, 2189.83it/s]\n"
     ]
    },
    {
     "name": "stdout",
     "output_type": "stream",
     "text": [
      "Calculating similarity between embeddings\n"
     ]
    },
    {
     "name": "stderr",
     "output_type": "stream",
     "text": [
      "Selecting available inchikey pairs per bin: 10it [00:01,  5.04it/s]\n",
      "Selecting available inchikey pairs per bin: 10it [00:01,  5.06it/s]\n"
     ]
    },
    {
     "name": "stdout",
     "output_type": "stream",
     "text": [
      "Epoch [130/500], Loss: 0.0194\n",
      "Validation Loss: 0.0312 (RMSE: 0.1719).\n"
     ]
    },
    {
     "name": "stderr",
     "output_type": "stream",
     "text": [
      "Epoch 130: 100%|██████████| 14/14 [00:09<00:00,  1.53batch/s, loss=0.0239, rmse=0.135]\n"
     ]
    },
    {
     "name": "stdout",
     "output_type": "stream",
     "text": [
      "Calculating embeddings\n"
     ]
    },
    {
     "name": "stderr",
     "output_type": "stream",
     "text": [
      "6851it [00:03, 2170.14it/s]\n"
     ]
    },
    {
     "name": "stdout",
     "output_type": "stream",
     "text": [
      "Calculating similarity between embeddings\n"
     ]
    },
    {
     "name": "stderr",
     "output_type": "stream",
     "text": [
      "Selecting available inchikey pairs per bin: 10it [00:02,  4.94it/s]\n",
      "Selecting available inchikey pairs per bin: 10it [00:02,  4.91it/s]\n"
     ]
    },
    {
     "name": "stdout",
     "output_type": "stream",
     "text": [
      "Epoch [131/500], Loss: 0.0182\n",
      "Validation Loss: 0.0307 (RMSE: 0.1707).\n"
     ]
    },
    {
     "name": "stderr",
     "output_type": "stream",
     "text": [
      "Epoch 131: 100%|██████████| 14/14 [00:09<00:00,  1.47batch/s, loss=0.0178, rmse=0.133]\n"
     ]
    },
    {
     "name": "stdout",
     "output_type": "stream",
     "text": [
      "Calculating embeddings\n"
     ]
    },
    {
     "name": "stderr",
     "output_type": "stream",
     "text": [
      "6851it [00:02, 2507.64it/s]\n"
     ]
    },
    {
     "name": "stdout",
     "output_type": "stream",
     "text": [
      "Calculating similarity between embeddings\n"
     ]
    },
    {
     "name": "stderr",
     "output_type": "stream",
     "text": [
      "Selecting available inchikey pairs per bin: 10it [00:02,  4.87it/s]\n",
      "Selecting available inchikey pairs per bin: 10it [00:02,  4.92it/s]\n"
     ]
    },
    {
     "name": "stdout",
     "output_type": "stream",
     "text": [
      "Epoch [132/500], Loss: 0.0177\n",
      "Validation Loss: 0.0315 (RMSE: 0.1731).\n"
     ]
    },
    {
     "name": "stderr",
     "output_type": "stream",
     "text": [
      "Epoch 132: 100%|██████████| 14/14 [00:09<00:00,  1.48batch/s, loss=0.0207, rmse=0.134]\n"
     ]
    },
    {
     "name": "stdout",
     "output_type": "stream",
     "text": [
      "Calculating embeddings\n"
     ]
    },
    {
     "name": "stderr",
     "output_type": "stream",
     "text": [
      "6851it [00:02, 2493.59it/s]\n"
     ]
    },
    {
     "name": "stdout",
     "output_type": "stream",
     "text": [
      "Calculating similarity between embeddings\n"
     ]
    },
    {
     "name": "stderr",
     "output_type": "stream",
     "text": [
      "Selecting available inchikey pairs per bin: 10it [00:02,  4.97it/s]\n",
      "Selecting available inchikey pairs per bin: 10it [00:02,  4.95it/s]\n"
     ]
    },
    {
     "name": "stdout",
     "output_type": "stream",
     "text": [
      "Epoch [133/500], Loss: 0.0181\n",
      "Validation Loss: 0.0314 (RMSE: 0.1727).\n"
     ]
    },
    {
     "name": "stderr",
     "output_type": "stream",
     "text": [
      "Epoch 133: 100%|██████████| 14/14 [00:09<00:00,  1.41batch/s, loss=0.0171, rmse=0.138]\n"
     ]
    },
    {
     "name": "stdout",
     "output_type": "stream",
     "text": [
      "Calculating embeddings\n"
     ]
    },
    {
     "name": "stderr",
     "output_type": "stream",
     "text": [
      "6851it [00:02, 2427.53it/s]\n"
     ]
    },
    {
     "name": "stdout",
     "output_type": "stream",
     "text": [
      "Calculating similarity between embeddings\n"
     ]
    },
    {
     "name": "stderr",
     "output_type": "stream",
     "text": [
      "Selecting available inchikey pairs per bin: 10it [00:02,  4.98it/s]\n",
      "Selecting available inchikey pairs per bin: 10it [00:02,  4.98it/s]\n"
     ]
    },
    {
     "name": "stdout",
     "output_type": "stream",
     "text": [
      "Epoch [134/500], Loss: 0.0189\n",
      "Validation Loss: 0.0308 (RMSE: 0.1710).\n"
     ]
    },
    {
     "name": "stderr",
     "output_type": "stream",
     "text": [
      "Epoch 134: 100%|██████████| 14/14 [00:09<00:00,  1.46batch/s, loss=0.0199, rmse=0.135]\n"
     ]
    },
    {
     "name": "stdout",
     "output_type": "stream",
     "text": [
      "Calculating embeddings\n"
     ]
    },
    {
     "name": "stderr",
     "output_type": "stream",
     "text": [
      "6851it [00:03, 2241.91it/s]\n"
     ]
    },
    {
     "name": "stdout",
     "output_type": "stream",
     "text": [
      "Calculating similarity between embeddings\n"
     ]
    },
    {
     "name": "stderr",
     "output_type": "stream",
     "text": [
      "Selecting available inchikey pairs per bin: 10it [00:02,  4.92it/s]\n",
      "Selecting available inchikey pairs per bin: 10it [00:02,  4.14it/s]\n"
     ]
    },
    {
     "name": "stdout",
     "output_type": "stream",
     "text": [
      "Epoch [135/500], Loss: 0.0184\n",
      "Validation Loss: 0.0311 (RMSE: 0.1718).\n"
     ]
    },
    {
     "name": "stderr",
     "output_type": "stream",
     "text": [
      "Epoch 135: 100%|██████████| 14/14 [00:09<00:00,  1.49batch/s, loss=0.0191, rmse=0.135]\n"
     ]
    },
    {
     "name": "stdout",
     "output_type": "stream",
     "text": [
      "Calculating embeddings\n"
     ]
    },
    {
     "name": "stderr",
     "output_type": "stream",
     "text": [
      "6851it [00:02, 2559.94it/s]\n"
     ]
    },
    {
     "name": "stdout",
     "output_type": "stream",
     "text": [
      "Calculating similarity between embeddings\n"
     ]
    },
    {
     "name": "stderr",
     "output_type": "stream",
     "text": [
      "Selecting available inchikey pairs per bin: 10it [00:02,  4.89it/s]\n",
      "Selecting available inchikey pairs per bin: 10it [00:02,  4.94it/s]\n"
     ]
    },
    {
     "name": "stdout",
     "output_type": "stream",
     "text": [
      "Epoch [136/500], Loss: 0.0182\n",
      "Validation Loss: 0.0316 (RMSE: 0.1730).\n"
     ]
    },
    {
     "name": "stderr",
     "output_type": "stream",
     "text": [
      "Epoch 136: 100%|██████████| 14/14 [00:09<00:00,  1.52batch/s, loss=0.0176, rmse=0.137]\n"
     ]
    },
    {
     "name": "stdout",
     "output_type": "stream",
     "text": [
      "Calculating embeddings\n"
     ]
    },
    {
     "name": "stderr",
     "output_type": "stream",
     "text": [
      "6851it [00:02, 2374.72it/s]\n"
     ]
    },
    {
     "name": "stdout",
     "output_type": "stream",
     "text": [
      "Calculating similarity between embeddings\n"
     ]
    },
    {
     "name": "stderr",
     "output_type": "stream",
     "text": [
      "Selecting available inchikey pairs per bin: 10it [00:02,  4.89it/s]\n",
      "Selecting available inchikey pairs per bin: 10it [00:02,  4.89it/s]\n"
     ]
    },
    {
     "name": "stdout",
     "output_type": "stream",
     "text": [
      "Epoch [137/500], Loss: 0.0187\n",
      "Validation Loss: 0.0305 (RMSE: 0.1698).\n"
     ]
    },
    {
     "name": "stderr",
     "output_type": "stream",
     "text": [
      "Epoch 137: 100%|██████████| 14/14 [00:09<00:00,  1.49batch/s, loss=0.0169, rmse=0.136]\n"
     ]
    },
    {
     "name": "stdout",
     "output_type": "stream",
     "text": [
      "Calculating embeddings\n"
     ]
    },
    {
     "name": "stderr",
     "output_type": "stream",
     "text": [
      "6851it [00:03, 1818.54it/s]\n"
     ]
    },
    {
     "name": "stdout",
     "output_type": "stream",
     "text": [
      "Calculating similarity between embeddings\n"
     ]
    },
    {
     "name": "stderr",
     "output_type": "stream",
     "text": [
      "Selecting available inchikey pairs per bin: 10it [00:02,  4.78it/s]\n",
      "Selecting available inchikey pairs per bin: 10it [00:02,  4.77it/s]\n"
     ]
    },
    {
     "name": "stdout",
     "output_type": "stream",
     "text": [
      "Epoch [138/500], Loss: 0.0184\n",
      "Validation Loss: 0.0310 (RMSE: 0.1714).\n"
     ]
    },
    {
     "name": "stderr",
     "output_type": "stream",
     "text": [
      "Epoch 138: 100%|██████████| 14/14 [00:09<00:00,  1.42batch/s, loss=0.0173, rmse=0.134]\n"
     ]
    },
    {
     "name": "stdout",
     "output_type": "stream",
     "text": [
      "Calculating embeddings\n"
     ]
    },
    {
     "name": "stderr",
     "output_type": "stream",
     "text": [
      "6851it [00:02, 2441.77it/s]\n"
     ]
    },
    {
     "name": "stdout",
     "output_type": "stream",
     "text": [
      "Calculating similarity between embeddings\n"
     ]
    },
    {
     "name": "stderr",
     "output_type": "stream",
     "text": [
      "Selecting available inchikey pairs per bin: 10it [00:02,  4.94it/s]\n",
      "Selecting available inchikey pairs per bin: 10it [00:02,  4.99it/s]\n"
     ]
    },
    {
     "name": "stdout",
     "output_type": "stream",
     "text": [
      "Saving checkpoint model.\n",
      "Epoch [139/500], Loss: 0.0179\n",
      "Validation Loss: 0.0304 (RMSE: 0.1697).\n"
     ]
    },
    {
     "name": "stderr",
     "output_type": "stream",
     "text": [
      "Epoch 139: 100%|██████████| 14/14 [00:09<00:00,  1.46batch/s, loss=0.018, rmse=0.135] \n"
     ]
    },
    {
     "name": "stdout",
     "output_type": "stream",
     "text": [
      "Calculating embeddings\n"
     ]
    },
    {
     "name": "stderr",
     "output_type": "stream",
     "text": [
      "6851it [00:03, 1973.87it/s]\n"
     ]
    },
    {
     "name": "stdout",
     "output_type": "stream",
     "text": [
      "Calculating similarity between embeddings\n"
     ]
    },
    {
     "name": "stderr",
     "output_type": "stream",
     "text": [
      "Selecting available inchikey pairs per bin: 10it [00:02,  4.84it/s]\n",
      "Selecting available inchikey pairs per bin: 10it [00:02,  4.73it/s]\n"
     ]
    },
    {
     "name": "stdout",
     "output_type": "stream",
     "text": [
      "Epoch [140/500], Loss: 0.0181\n",
      "Validation Loss: 0.0309 (RMSE: 0.1710).\n"
     ]
    },
    {
     "name": "stderr",
     "output_type": "stream",
     "text": [
      "Epoch 140: 100%|██████████| 14/14 [00:10<00:00,  1.40batch/s, loss=0.0157, rmse=0.134]\n"
     ]
    },
    {
     "name": "stdout",
     "output_type": "stream",
     "text": [
      "Calculating embeddings\n"
     ]
    },
    {
     "name": "stderr",
     "output_type": "stream",
     "text": [
      "6851it [00:02, 2456.66it/s]\n"
     ]
    },
    {
     "name": "stdout",
     "output_type": "stream",
     "text": [
      "Calculating similarity between embeddings\n"
     ]
    },
    {
     "name": "stderr",
     "output_type": "stream",
     "text": [
      "Selecting available inchikey pairs per bin: 10it [00:02,  4.84it/s]\n",
      "Selecting available inchikey pairs per bin: 10it [00:02,  4.85it/s]\n"
     ]
    },
    {
     "name": "stdout",
     "output_type": "stream",
     "text": [
      "Epoch [141/500], Loss: 0.0181\n",
      "Validation Loss: 0.0308 (RMSE: 0.1707).\n"
     ]
    },
    {
     "name": "stderr",
     "output_type": "stream",
     "text": [
      "Epoch 141: 100%|██████████| 14/14 [00:10<00:00,  1.35batch/s, loss=0.0185, rmse=0.132]\n"
     ]
    },
    {
     "name": "stdout",
     "output_type": "stream",
     "text": [
      "Calculating embeddings\n"
     ]
    },
    {
     "name": "stderr",
     "output_type": "stream",
     "text": [
      "6851it [00:03, 2268.05it/s]\n"
     ]
    },
    {
     "name": "stdout",
     "output_type": "stream",
     "text": [
      "Calculating similarity between embeddings\n"
     ]
    },
    {
     "name": "stderr",
     "output_type": "stream",
     "text": [
      "Selecting available inchikey pairs per bin: 10it [00:02,  4.77it/s]\n",
      "Selecting available inchikey pairs per bin: 10it [00:02,  4.82it/s]\n"
     ]
    },
    {
     "name": "stdout",
     "output_type": "stream",
     "text": [
      "Epoch [142/500], Loss: 0.0173\n",
      "Validation Loss: 0.0315 (RMSE: 0.1724).\n"
     ]
    },
    {
     "name": "stderr",
     "output_type": "stream",
     "text": [
      "Epoch 142: 100%|██████████| 14/14 [00:09<00:00,  1.46batch/s, loss=0.018, rmse=0.136] \n"
     ]
    },
    {
     "name": "stdout",
     "output_type": "stream",
     "text": [
      "Calculating embeddings\n"
     ]
    },
    {
     "name": "stderr",
     "output_type": "stream",
     "text": [
      "6851it [00:02, 2494.93it/s]\n"
     ]
    },
    {
     "name": "stdout",
     "output_type": "stream",
     "text": [
      "Calculating similarity between embeddings\n"
     ]
    },
    {
     "name": "stderr",
     "output_type": "stream",
     "text": [
      "Selecting available inchikey pairs per bin: 10it [00:02,  4.98it/s]\n",
      "Selecting available inchikey pairs per bin: 10it [00:02,  4.67it/s]\n"
     ]
    },
    {
     "name": "stdout",
     "output_type": "stream",
     "text": [
      "Epoch [143/500], Loss: 0.0184\n",
      "Validation Loss: 0.0317 (RMSE: 0.1730).\n"
     ]
    },
    {
     "name": "stderr",
     "output_type": "stream",
     "text": [
      "Epoch 143: 100%|██████████| 14/14 [00:09<00:00,  1.47batch/s, loss=0.0177, rmse=0.134]\n"
     ]
    },
    {
     "name": "stdout",
     "output_type": "stream",
     "text": [
      "Calculating embeddings\n"
     ]
    },
    {
     "name": "stderr",
     "output_type": "stream",
     "text": [
      "6851it [00:02, 2431.50it/s]\n"
     ]
    },
    {
     "name": "stdout",
     "output_type": "stream",
     "text": [
      "Calculating similarity between embeddings\n"
     ]
    },
    {
     "name": "stderr",
     "output_type": "stream",
     "text": [
      "Selecting available inchikey pairs per bin: 10it [00:02,  4.67it/s]\n",
      "Selecting available inchikey pairs per bin: 10it [00:02,  4.71it/s]\n"
     ]
    },
    {
     "name": "stdout",
     "output_type": "stream",
     "text": [
      "Epoch [144/500], Loss: 0.0179\n",
      "Validation Loss: 0.0316 (RMSE: 0.1724).\n"
     ]
    },
    {
     "name": "stderr",
     "output_type": "stream",
     "text": [
      "Epoch 144: 100%|██████████| 14/14 [00:09<00:00,  1.46batch/s, loss=0.0165, rmse=0.134]\n"
     ]
    },
    {
     "name": "stdout",
     "output_type": "stream",
     "text": [
      "Calculating embeddings\n"
     ]
    },
    {
     "name": "stderr",
     "output_type": "stream",
     "text": [
      "6851it [00:03, 2197.66it/s]\n"
     ]
    },
    {
     "name": "stdout",
     "output_type": "stream",
     "text": [
      "Calculating similarity between embeddings\n"
     ]
    },
    {
     "name": "stderr",
     "output_type": "stream",
     "text": [
      "Selecting available inchikey pairs per bin: 10it [00:02,  4.78it/s]\n",
      "Selecting available inchikey pairs per bin: 10it [00:02,  4.64it/s]\n"
     ]
    },
    {
     "name": "stdout",
     "output_type": "stream",
     "text": [
      "Epoch [145/500], Loss: 0.0179\n",
      "Validation Loss: 0.0307 (RMSE: 0.1705).\n"
     ]
    },
    {
     "name": "stderr",
     "output_type": "stream",
     "text": [
      "Epoch 145: 100%|██████████| 14/14 [00:09<00:00,  1.42batch/s, loss=0.017, rmse=0.131] \n"
     ]
    },
    {
     "name": "stdout",
     "output_type": "stream",
     "text": [
      "Calculating embeddings\n"
     ]
    },
    {
     "name": "stderr",
     "output_type": "stream",
     "text": [
      "6851it [00:02, 2307.09it/s]\n"
     ]
    },
    {
     "name": "stdout",
     "output_type": "stream",
     "text": [
      "Calculating similarity between embeddings\n"
     ]
    },
    {
     "name": "stderr",
     "output_type": "stream",
     "text": [
      "Selecting available inchikey pairs per bin: 10it [00:02,  4.67it/s]\n",
      "Selecting available inchikey pairs per bin: 10it [00:02,  4.77it/s]\n"
     ]
    },
    {
     "name": "stdout",
     "output_type": "stream",
     "text": [
      "Epoch [146/500], Loss: 0.0171\n",
      "Validation Loss: 0.0305 (RMSE: 0.1702).\n"
     ]
    },
    {
     "name": "stderr",
     "output_type": "stream",
     "text": [
      "Epoch 146: 100%|██████████| 14/14 [00:10<00:00,  1.32batch/s, loss=0.0173, rmse=0.134]\n"
     ]
    },
    {
     "name": "stdout",
     "output_type": "stream",
     "text": [
      "Calculating embeddings\n"
     ]
    },
    {
     "name": "stderr",
     "output_type": "stream",
     "text": [
      "6851it [00:02, 2457.32it/s]\n"
     ]
    },
    {
     "name": "stdout",
     "output_type": "stream",
     "text": [
      "Calculating similarity between embeddings\n"
     ]
    },
    {
     "name": "stderr",
     "output_type": "stream",
     "text": [
      "Selecting available inchikey pairs per bin: 10it [00:02,  4.79it/s]\n",
      "Selecting available inchikey pairs per bin: 10it [00:02,  4.70it/s]\n"
     ]
    },
    {
     "name": "stdout",
     "output_type": "stream",
     "text": [
      "Epoch [147/500], Loss: 0.0179\n",
      "Validation Loss: 0.0304 (RMSE: 0.1701).\n"
     ]
    },
    {
     "name": "stderr",
     "output_type": "stream",
     "text": [
      "Epoch 147: 100%|██████████| 14/14 [00:09<00:00,  1.43batch/s, loss=0.0184, rmse=0.132]\n"
     ]
    },
    {
     "name": "stdout",
     "output_type": "stream",
     "text": [
      "Calculating embeddings\n"
     ]
    },
    {
     "name": "stderr",
     "output_type": "stream",
     "text": [
      "6851it [00:02, 2463.69it/s]\n"
     ]
    },
    {
     "name": "stdout",
     "output_type": "stream",
     "text": [
      "Calculating similarity between embeddings\n"
     ]
    },
    {
     "name": "stderr",
     "output_type": "stream",
     "text": [
      "Selecting available inchikey pairs per bin: 10it [00:02,  4.56it/s]\n",
      "Selecting available inchikey pairs per bin: 10it [00:02,  4.70it/s]\n"
     ]
    },
    {
     "name": "stdout",
     "output_type": "stream",
     "text": [
      "Epoch [148/500], Loss: 0.0175\n",
      "Validation Loss: 0.0313 (RMSE: 0.1722).\n"
     ]
    },
    {
     "name": "stderr",
     "output_type": "stream",
     "text": [
      "Epoch 148: 100%|██████████| 14/14 [00:09<00:00,  1.45batch/s, loss=0.0187, rmse=0.133]\n"
     ]
    },
    {
     "name": "stdout",
     "output_type": "stream",
     "text": [
      "Calculating embeddings\n"
     ]
    },
    {
     "name": "stderr",
     "output_type": "stream",
     "text": [
      "6851it [00:02, 2437.37it/s]\n"
     ]
    },
    {
     "name": "stdout",
     "output_type": "stream",
     "text": [
      "Calculating similarity between embeddings\n"
     ]
    },
    {
     "name": "stderr",
     "output_type": "stream",
     "text": [
      "Selecting available inchikey pairs per bin: 10it [00:02,  4.66it/s]\n",
      "Selecting available inchikey pairs per bin: 10it [00:02,  4.59it/s]\n"
     ]
    },
    {
     "name": "stdout",
     "output_type": "stream",
     "text": [
      "Saving checkpoint model.\n",
      "Epoch [149/500], Loss: 0.0177\n",
      "Validation Loss: 0.0303 (RMSE: 0.1695).\n"
     ]
    },
    {
     "name": "stderr",
     "output_type": "stream",
     "text": [
      "Epoch 149: 100%|██████████| 14/14 [00:10<00:00,  1.33batch/s, loss=0.0192, rmse=0.131]\n"
     ]
    },
    {
     "name": "stdout",
     "output_type": "stream",
     "text": [
      "Calculating embeddings\n"
     ]
    },
    {
     "name": "stderr",
     "output_type": "stream",
     "text": [
      "6851it [00:02, 2427.30it/s]\n"
     ]
    },
    {
     "name": "stdout",
     "output_type": "stream",
     "text": [
      "Calculating similarity between embeddings\n"
     ]
    },
    {
     "name": "stderr",
     "output_type": "stream",
     "text": [
      "Selecting available inchikey pairs per bin: 10it [00:02,  4.76it/s]\n",
      "Selecting available inchikey pairs per bin: 10it [00:02,  4.76it/s]\n"
     ]
    },
    {
     "name": "stdout",
     "output_type": "stream",
     "text": [
      "Saving checkpoint model.\n",
      "Epoch [150/500], Loss: 0.0172\n",
      "Validation Loss: 0.0302 (RMSE: 0.1698).\n"
     ]
    },
    {
     "name": "stderr",
     "output_type": "stream",
     "text": [
      "Epoch 150: 100%|██████████| 14/14 [00:10<00:00,  1.36batch/s, loss=0.0166, rmse=0.129]\n"
     ]
    },
    {
     "name": "stdout",
     "output_type": "stream",
     "text": [
      "Calculating embeddings\n"
     ]
    },
    {
     "name": "stderr",
     "output_type": "stream",
     "text": [
      "6851it [00:03, 2065.83it/s]\n"
     ]
    },
    {
     "name": "stdout",
     "output_type": "stream",
     "text": [
      "Calculating similarity between embeddings\n"
     ]
    },
    {
     "name": "stderr",
     "output_type": "stream",
     "text": [
      "Selecting available inchikey pairs per bin: 10it [00:02,  4.57it/s]\n",
      "Selecting available inchikey pairs per bin: 10it [00:02,  4.74it/s]\n"
     ]
    },
    {
     "name": "stdout",
     "output_type": "stream",
     "text": [
      "Saving checkpoint model.\n",
      "Epoch [151/500], Loss: 0.0167\n",
      "Validation Loss: 0.0301 (RMSE: 0.1687).\n"
     ]
    },
    {
     "name": "stderr",
     "output_type": "stream",
     "text": [
      "Epoch 151: 100%|██████████| 14/14 [00:09<00:00,  1.40batch/s, loss=0.0192, rmse=0.133]\n"
     ]
    },
    {
     "name": "stdout",
     "output_type": "stream",
     "text": [
      "Calculating embeddings\n"
     ]
    },
    {
     "name": "stderr",
     "output_type": "stream",
     "text": [
      "6851it [00:03, 1995.22it/s]\n"
     ]
    },
    {
     "name": "stdout",
     "output_type": "stream",
     "text": [
      "Calculating similarity between embeddings\n"
     ]
    },
    {
     "name": "stderr",
     "output_type": "stream",
     "text": [
      "Selecting available inchikey pairs per bin: 10it [00:02,  4.78it/s]\n",
      "Selecting available inchikey pairs per bin: 10it [00:02,  4.69it/s]\n"
     ]
    },
    {
     "name": "stdout",
     "output_type": "stream",
     "text": [
      "Saving checkpoint model.\n",
      "Epoch [152/500], Loss: 0.0179\n",
      "Validation Loss: 0.0301 (RMSE: 0.1686).\n"
     ]
    },
    {
     "name": "stderr",
     "output_type": "stream",
     "text": [
      "Epoch 152: 100%|██████████| 14/14 [00:10<00:00,  1.38batch/s, loss=0.0188, rmse=0.132]\n"
     ]
    },
    {
     "name": "stdout",
     "output_type": "stream",
     "text": [
      "Calculating embeddings\n"
     ]
    },
    {
     "name": "stderr",
     "output_type": "stream",
     "text": [
      "6851it [00:02, 2432.63it/s]\n"
     ]
    },
    {
     "name": "stdout",
     "output_type": "stream",
     "text": [
      "Calculating similarity between embeddings\n"
     ]
    },
    {
     "name": "stderr",
     "output_type": "stream",
     "text": [
      "Selecting available inchikey pairs per bin: 10it [00:02,  4.84it/s]\n",
      "Selecting available inchikey pairs per bin: 10it [00:02,  4.05it/s]\n"
     ]
    },
    {
     "name": "stdout",
     "output_type": "stream",
     "text": [
      "Saving checkpoint model.\n",
      "Epoch [153/500], Loss: 0.0174\n",
      "Validation Loss: 0.0300 (RMSE: 0.1686).\n"
     ]
    },
    {
     "name": "stderr",
     "output_type": "stream",
     "text": [
      "Epoch 153: 100%|██████████| 14/14 [00:09<00:00,  1.42batch/s, loss=0.0203, rmse=0.131]\n"
     ]
    },
    {
     "name": "stdout",
     "output_type": "stream",
     "text": [
      "Calculating embeddings\n"
     ]
    },
    {
     "name": "stderr",
     "output_type": "stream",
     "text": [
      "6851it [00:02, 2473.93it/s]\n"
     ]
    },
    {
     "name": "stdout",
     "output_type": "stream",
     "text": [
      "Calculating similarity between embeddings\n"
     ]
    },
    {
     "name": "stderr",
     "output_type": "stream",
     "text": [
      "Selecting available inchikey pairs per bin: 10it [00:02,  4.77it/s]\n",
      "Selecting available inchikey pairs per bin: 10it [00:02,  4.88it/s]\n"
     ]
    },
    {
     "name": "stdout",
     "output_type": "stream",
     "text": [
      "Saving checkpoint model.\n",
      "Epoch [154/500], Loss: 0.0172\n",
      "Validation Loss: 0.0297 (RMSE: 0.1678).\n"
     ]
    },
    {
     "name": "stderr",
     "output_type": "stream",
     "text": [
      "Epoch 154: 100%|██████████| 14/14 [00:09<00:00,  1.42batch/s, loss=0.0188, rmse=0.13]\n"
     ]
    },
    {
     "name": "stdout",
     "output_type": "stream",
     "text": [
      "Calculating embeddings\n"
     ]
    },
    {
     "name": "stderr",
     "output_type": "stream",
     "text": [
      "6851it [00:03, 2033.83it/s]\n"
     ]
    },
    {
     "name": "stdout",
     "output_type": "stream",
     "text": [
      "Calculating similarity between embeddings\n"
     ]
    },
    {
     "name": "stderr",
     "output_type": "stream",
     "text": [
      "Selecting available inchikey pairs per bin: 10it [00:02,  4.87it/s]\n",
      "Selecting available inchikey pairs per bin: 10it [00:02,  4.94it/s]\n"
     ]
    },
    {
     "name": "stdout",
     "output_type": "stream",
     "text": [
      "Epoch [155/500], Loss: 0.0170\n",
      "Validation Loss: 0.0302 (RMSE: 0.1692).\n"
     ]
    },
    {
     "name": "stderr",
     "output_type": "stream",
     "text": [
      "Epoch 155: 100%|██████████| 14/14 [00:10<00:00,  1.39batch/s, loss=0.0158, rmse=0.131]\n"
     ]
    },
    {
     "name": "stdout",
     "output_type": "stream",
     "text": [
      "Calculating embeddings\n"
     ]
    },
    {
     "name": "stderr",
     "output_type": "stream",
     "text": [
      "6851it [00:03, 2130.24it/s]\n"
     ]
    },
    {
     "name": "stdout",
     "output_type": "stream",
     "text": [
      "Calculating similarity between embeddings\n"
     ]
    },
    {
     "name": "stderr",
     "output_type": "stream",
     "text": [
      "Selecting available inchikey pairs per bin: 10it [00:02,  4.67it/s]\n",
      "Selecting available inchikey pairs per bin: 10it [00:02,  4.62it/s]\n"
     ]
    },
    {
     "name": "stdout",
     "output_type": "stream",
     "text": [
      "Epoch [156/500], Loss: 0.0172\n",
      "Validation Loss: 0.0307 (RMSE: 0.1700).\n"
     ]
    },
    {
     "name": "stderr",
     "output_type": "stream",
     "text": [
      "Epoch 156: 100%|██████████| 14/14 [00:10<00:00,  1.40batch/s, loss=0.0178, rmse=0.133]\n"
     ]
    },
    {
     "name": "stdout",
     "output_type": "stream",
     "text": [
      "Calculating embeddings\n"
     ]
    },
    {
     "name": "stderr",
     "output_type": "stream",
     "text": [
      "6851it [00:02, 2452.66it/s]\n"
     ]
    },
    {
     "name": "stdout",
     "output_type": "stream",
     "text": [
      "Calculating similarity between embeddings\n"
     ]
    },
    {
     "name": "stderr",
     "output_type": "stream",
     "text": [
      "Selecting available inchikey pairs per bin: 10it [00:02,  4.86it/s]\n",
      "Selecting available inchikey pairs per bin: 10it [00:02,  4.64it/s]\n"
     ]
    },
    {
     "name": "stdout",
     "output_type": "stream",
     "text": [
      "Epoch [157/500], Loss: 0.0178\n",
      "Validation Loss: 0.0297 (RMSE: 0.1675).\n"
     ]
    },
    {
     "name": "stderr",
     "output_type": "stream",
     "text": [
      "Epoch 157: 100%|██████████| 14/14 [00:09<00:00,  1.47batch/s, loss=0.015, rmse=0.129] \n"
     ]
    },
    {
     "name": "stdout",
     "output_type": "stream",
     "text": [
      "Calculating embeddings\n"
     ]
    },
    {
     "name": "stderr",
     "output_type": "stream",
     "text": [
      "6851it [00:03, 2123.56it/s]\n"
     ]
    },
    {
     "name": "stdout",
     "output_type": "stream",
     "text": [
      "Calculating similarity between embeddings\n"
     ]
    },
    {
     "name": "stderr",
     "output_type": "stream",
     "text": [
      "Selecting available inchikey pairs per bin: 10it [00:02,  4.78it/s]\n",
      "Selecting available inchikey pairs per bin: 10it [00:02,  4.61it/s]\n"
     ]
    },
    {
     "name": "stdout",
     "output_type": "stream",
     "text": [
      "Epoch [158/500], Loss: 0.0166\n",
      "Validation Loss: 0.0298 (RMSE: 0.1681).\n"
     ]
    },
    {
     "name": "stderr",
     "output_type": "stream",
     "text": [
      "Epoch 158: 100%|██████████| 14/14 [00:10<00:00,  1.37batch/s, loss=0.0171, rmse=0.131]\n"
     ]
    },
    {
     "name": "stdout",
     "output_type": "stream",
     "text": [
      "Calculating embeddings\n"
     ]
    },
    {
     "name": "stderr",
     "output_type": "stream",
     "text": [
      "6851it [00:02, 2405.05it/s]\n"
     ]
    },
    {
     "name": "stdout",
     "output_type": "stream",
     "text": [
      "Calculating similarity between embeddings\n"
     ]
    },
    {
     "name": "stderr",
     "output_type": "stream",
     "text": [
      "Selecting available inchikey pairs per bin: 10it [00:02,  4.60it/s]\n",
      "Selecting available inchikey pairs per bin: 10it [00:02,  4.81it/s]\n"
     ]
    },
    {
     "name": "stdout",
     "output_type": "stream",
     "text": [
      "Epoch [159/500], Loss: 0.0173\n",
      "Validation Loss: 0.0298 (RMSE: 0.1674).\n"
     ]
    },
    {
     "name": "stderr",
     "output_type": "stream",
     "text": [
      "Epoch 159: 100%|██████████| 14/14 [00:10<00:00,  1.40batch/s, loss=0.0165, rmse=0.129]\n"
     ]
    },
    {
     "name": "stdout",
     "output_type": "stream",
     "text": [
      "Calculating embeddings\n"
     ]
    },
    {
     "name": "stderr",
     "output_type": "stream",
     "text": [
      "6851it [00:02, 2461.55it/s]\n"
     ]
    },
    {
     "name": "stdout",
     "output_type": "stream",
     "text": [
      "Calculating similarity between embeddings\n"
     ]
    },
    {
     "name": "stderr",
     "output_type": "stream",
     "text": [
      "Selecting available inchikey pairs per bin: 10it [00:02,  4.91it/s]\n",
      "Selecting available inchikey pairs per bin: 10it [00:02,  4.78it/s]\n"
     ]
    },
    {
     "name": "stdout",
     "output_type": "stream",
     "text": [
      "Saving checkpoint model.\n",
      "Epoch [160/500], Loss: 0.0168\n",
      "Validation Loss: 0.0295 (RMSE: 0.1674).\n"
     ]
    },
    {
     "name": "stderr",
     "output_type": "stream",
     "text": [
      "Epoch 160: 100%|██████████| 14/14 [00:10<00:00,  1.37batch/s, loss=0.0161, rmse=0.129]\n"
     ]
    },
    {
     "name": "stdout",
     "output_type": "stream",
     "text": [
      "Calculating embeddings\n"
     ]
    },
    {
     "name": "stderr",
     "output_type": "stream",
     "text": [
      "6851it [00:02, 2411.39it/s]\n"
     ]
    },
    {
     "name": "stdout",
     "output_type": "stream",
     "text": [
      "Calculating similarity between embeddings\n"
     ]
    },
    {
     "name": "stderr",
     "output_type": "stream",
     "text": [
      "Selecting available inchikey pairs per bin: 10it [00:02,  4.63it/s]\n",
      "Selecting available inchikey pairs per bin: 10it [00:02,  4.64it/s]\n"
     ]
    },
    {
     "name": "stdout",
     "output_type": "stream",
     "text": [
      "Epoch [161/500], Loss: 0.0167\n",
      "Validation Loss: 0.0299 (RMSE: 0.1686).\n"
     ]
    },
    {
     "name": "stderr",
     "output_type": "stream",
     "text": [
      "Epoch 161: 100%|██████████| 14/14 [00:09<00:00,  1.45batch/s, loss=0.0169, rmse=0.13]\n"
     ]
    },
    {
     "name": "stdout",
     "output_type": "stream",
     "text": [
      "Calculating embeddings\n"
     ]
    },
    {
     "name": "stderr",
     "output_type": "stream",
     "text": [
      "6851it [00:03, 2184.52it/s]\n"
     ]
    },
    {
     "name": "stdout",
     "output_type": "stream",
     "text": [
      "Calculating similarity between embeddings\n"
     ]
    },
    {
     "name": "stderr",
     "output_type": "stream",
     "text": [
      "Selecting available inchikey pairs per bin: 10it [00:02,  4.65it/s]\n",
      "Selecting available inchikey pairs per bin: 10it [00:02,  4.93it/s]\n"
     ]
    },
    {
     "name": "stdout",
     "output_type": "stream",
     "text": [
      "Saving checkpoint model.\n",
      "Epoch [162/500], Loss: 0.0170\n",
      "Validation Loss: 0.0294 (RMSE: 0.1671).\n"
     ]
    },
    {
     "name": "stderr",
     "output_type": "stream",
     "text": [
      "Epoch 162: 100%|██████████| 14/14 [00:09<00:00,  1.45batch/s, loss=0.0172, rmse=0.131]\n"
     ]
    },
    {
     "name": "stdout",
     "output_type": "stream",
     "text": [
      "Calculating embeddings\n"
     ]
    },
    {
     "name": "stderr",
     "output_type": "stream",
     "text": [
      "6851it [00:02, 2416.28it/s]\n"
     ]
    },
    {
     "name": "stdout",
     "output_type": "stream",
     "text": [
      "Calculating similarity between embeddings\n"
     ]
    },
    {
     "name": "stderr",
     "output_type": "stream",
     "text": [
      "Selecting available inchikey pairs per bin: 10it [00:02,  4.71it/s]\n",
      "Selecting available inchikey pairs per bin: 10it [00:02,  4.69it/s]\n"
     ]
    },
    {
     "name": "stdout",
     "output_type": "stream",
     "text": [
      "Epoch [163/500], Loss: 0.0171\n",
      "Validation Loss: 0.0294 (RMSE: 0.1672).\n"
     ]
    },
    {
     "name": "stderr",
     "output_type": "stream",
     "text": [
      "Epoch 163: 100%|██████████| 14/14 [00:10<00:00,  1.35batch/s, loss=0.0178, rmse=0.129]\n"
     ]
    },
    {
     "name": "stdout",
     "output_type": "stream",
     "text": [
      "Calculating embeddings\n"
     ]
    },
    {
     "name": "stderr",
     "output_type": "stream",
     "text": [
      "6851it [00:02, 2412.93it/s]\n"
     ]
    },
    {
     "name": "stdout",
     "output_type": "stream",
     "text": [
      "Calculating similarity between embeddings\n"
     ]
    },
    {
     "name": "stderr",
     "output_type": "stream",
     "text": [
      "Selecting available inchikey pairs per bin: 10it [00:02,  4.77it/s]\n",
      "Selecting available inchikey pairs per bin: 10it [00:02,  4.62it/s]\n"
     ]
    },
    {
     "name": "stdout",
     "output_type": "stream",
     "text": [
      "Epoch [164/500], Loss: 0.0167\n",
      "Validation Loss: 0.0300 (RMSE: 0.1688).\n"
     ]
    },
    {
     "name": "stderr",
     "output_type": "stream",
     "text": [
      "Epoch 164: 100%|██████████| 14/14 [00:09<00:00,  1.42batch/s, loss=0.0173, rmse=0.127]\n"
     ]
    },
    {
     "name": "stdout",
     "output_type": "stream",
     "text": [
      "Calculating embeddings\n"
     ]
    },
    {
     "name": "stderr",
     "output_type": "stream",
     "text": [
      "6851it [00:03, 2022.51it/s]\n"
     ]
    },
    {
     "name": "stdout",
     "output_type": "stream",
     "text": [
      "Calculating similarity between embeddings\n"
     ]
    },
    {
     "name": "stderr",
     "output_type": "stream",
     "text": [
      "Selecting available inchikey pairs per bin: 10it [00:02,  4.67it/s]\n",
      "Selecting available inchikey pairs per bin: 10it [00:02,  4.65it/s]\n"
     ]
    },
    {
     "name": "stdout",
     "output_type": "stream",
     "text": [
      "Saving checkpoint model.\n",
      "Epoch [165/500], Loss: 0.0161\n",
      "Validation Loss: 0.0293 (RMSE: 0.1667).\n"
     ]
    },
    {
     "name": "stderr",
     "output_type": "stream",
     "text": [
      "Epoch 165: 100%|██████████| 14/14 [00:09<00:00,  1.45batch/s, loss=0.0195, rmse=0.128]\n"
     ]
    },
    {
     "name": "stdout",
     "output_type": "stream",
     "text": [
      "Calculating embeddings\n"
     ]
    },
    {
     "name": "stderr",
     "output_type": "stream",
     "text": [
      "6851it [00:02, 2463.59it/s]\n"
     ]
    },
    {
     "name": "stdout",
     "output_type": "stream",
     "text": [
      "Calculating similarity between embeddings\n"
     ]
    },
    {
     "name": "stderr",
     "output_type": "stream",
     "text": [
      "Selecting available inchikey pairs per bin: 10it [00:02,  4.61it/s]\n",
      "Selecting available inchikey pairs per bin: 10it [00:02,  4.75it/s]\n"
     ]
    },
    {
     "name": "stdout",
     "output_type": "stream",
     "text": [
      "Epoch [166/500], Loss: 0.0164\n",
      "Validation Loss: 0.0295 (RMSE: 0.1673).\n"
     ]
    },
    {
     "name": "stderr",
     "output_type": "stream",
     "text": [
      "Epoch 166: 100%|██████████| 14/14 [00:10<00:00,  1.40batch/s, loss=0.0153, rmse=0.13] \n"
     ]
    },
    {
     "name": "stdout",
     "output_type": "stream",
     "text": [
      "Calculating embeddings\n"
     ]
    },
    {
     "name": "stderr",
     "output_type": "stream",
     "text": [
      "6851it [00:02, 2396.63it/s]\n"
     ]
    },
    {
     "name": "stdout",
     "output_type": "stream",
     "text": [
      "Calculating similarity between embeddings\n"
     ]
    },
    {
     "name": "stderr",
     "output_type": "stream",
     "text": [
      "Selecting available inchikey pairs per bin: 10it [00:02,  4.77it/s]\n",
      "Selecting available inchikey pairs per bin: 10it [00:02,  4.83it/s]\n"
     ]
    },
    {
     "name": "stdout",
     "output_type": "stream",
     "text": [
      "Saving checkpoint model.\n",
      "Epoch [167/500], Loss: 0.0169\n",
      "Validation Loss: 0.0293 (RMSE: 0.1663).\n"
     ]
    },
    {
     "name": "stderr",
     "output_type": "stream",
     "text": [
      "Epoch 167: 100%|██████████| 14/14 [00:09<00:00,  1.44batch/s, loss=0.0176, rmse=0.128]\n"
     ]
    },
    {
     "name": "stdout",
     "output_type": "stream",
     "text": [
      "Calculating embeddings\n"
     ]
    },
    {
     "name": "stderr",
     "output_type": "stream",
     "text": [
      "6851it [00:02, 2358.27it/s]\n"
     ]
    },
    {
     "name": "stdout",
     "output_type": "stream",
     "text": [
      "Calculating similarity between embeddings\n"
     ]
    },
    {
     "name": "stderr",
     "output_type": "stream",
     "text": [
      "Selecting available inchikey pairs per bin: 10it [00:02,  4.52it/s]\n",
      "Selecting available inchikey pairs per bin: 10it [00:02,  4.62it/s]\n"
     ]
    },
    {
     "name": "stdout",
     "output_type": "stream",
     "text": [
      "Epoch [168/500], Loss: 0.0164\n",
      "Validation Loss: 0.0303 (RMSE: 0.1696).\n"
     ]
    },
    {
     "name": "stderr",
     "output_type": "stream",
     "text": [
      "Epoch 168: 100%|██████████| 14/14 [00:09<00:00,  1.42batch/s, loss=0.0155, rmse=0.128]\n"
     ]
    },
    {
     "name": "stdout",
     "output_type": "stream",
     "text": [
      "Calculating embeddings\n"
     ]
    },
    {
     "name": "stderr",
     "output_type": "stream",
     "text": [
      "6851it [00:02, 2400.66it/s]\n"
     ]
    },
    {
     "name": "stdout",
     "output_type": "stream",
     "text": [
      "Calculating similarity between embeddings\n"
     ]
    },
    {
     "name": "stderr",
     "output_type": "stream",
     "text": [
      "Selecting available inchikey pairs per bin: 10it [00:02,  4.67it/s]\n",
      "Selecting available inchikey pairs per bin: 10it [00:02,  4.84it/s]\n"
     ]
    },
    {
     "name": "stdout",
     "output_type": "stream",
     "text": [
      "Epoch [169/500], Loss: 0.0165\n",
      "Validation Loss: 0.0298 (RMSE: 0.1679).\n"
     ]
    },
    {
     "name": "stderr",
     "output_type": "stream",
     "text": [
      "Epoch 169: 100%|██████████| 14/14 [00:10<00:00,  1.39batch/s, loss=0.0148, rmse=0.13] \n"
     ]
    },
    {
     "name": "stdout",
     "output_type": "stream",
     "text": [
      "Calculating embeddings\n"
     ]
    },
    {
     "name": "stderr",
     "output_type": "stream",
     "text": [
      "6851it [00:02, 2367.31it/s]\n"
     ]
    },
    {
     "name": "stdout",
     "output_type": "stream",
     "text": [
      "Calculating similarity between embeddings\n"
     ]
    },
    {
     "name": "stderr",
     "output_type": "stream",
     "text": [
      "Selecting available inchikey pairs per bin: 10it [00:02,  4.67it/s]\n",
      "Selecting available inchikey pairs per bin: 10it [00:02,  4.68it/s]\n"
     ]
    },
    {
     "name": "stdout",
     "output_type": "stream",
     "text": [
      "Epoch [170/500], Loss: 0.0170\n",
      "Validation Loss: 0.0296 (RMSE: 0.1677).\n"
     ]
    },
    {
     "name": "stderr",
     "output_type": "stream",
     "text": [
      "Epoch 170: 100%|██████████| 14/14 [00:09<00:00,  1.44batch/s, loss=0.0157, rmse=0.127]\n"
     ]
    },
    {
     "name": "stdout",
     "output_type": "stream",
     "text": [
      "Calculating embeddings\n"
     ]
    },
    {
     "name": "stderr",
     "output_type": "stream",
     "text": [
      "6851it [00:02, 2425.17it/s]\n"
     ]
    },
    {
     "name": "stdout",
     "output_type": "stream",
     "text": [
      "Calculating similarity between embeddings\n"
     ]
    },
    {
     "name": "stderr",
     "output_type": "stream",
     "text": [
      "Selecting available inchikey pairs per bin: 10it [00:02,  4.76it/s]\n",
      "Selecting available inchikey pairs per bin: 10it [00:02,  4.60it/s]\n"
     ]
    },
    {
     "name": "stdout",
     "output_type": "stream",
     "text": [
      "Epoch [171/500], Loss: 0.0160\n",
      "Validation Loss: 0.0298 (RMSE: 0.1677).\n"
     ]
    },
    {
     "name": "stderr",
     "output_type": "stream",
     "text": [
      "Epoch 171: 100%|██████████| 14/14 [00:09<00:00,  1.44batch/s, loss=0.0146, rmse=0.129]\n"
     ]
    },
    {
     "name": "stdout",
     "output_type": "stream",
     "text": [
      "Calculating embeddings\n"
     ]
    },
    {
     "name": "stderr",
     "output_type": "stream",
     "text": [
      "6851it [00:02, 2435.60it/s]\n"
     ]
    },
    {
     "name": "stdout",
     "output_type": "stream",
     "text": [
      "Calculating similarity between embeddings\n"
     ]
    },
    {
     "name": "stderr",
     "output_type": "stream",
     "text": [
      "Selecting available inchikey pairs per bin: 10it [00:02,  4.86it/s]\n",
      "Selecting available inchikey pairs per bin: 10it [00:02,  4.82it/s]\n"
     ]
    },
    {
     "name": "stdout",
     "output_type": "stream",
     "text": [
      "Epoch [172/500], Loss: 0.0167\n",
      "Validation Loss: 0.0295 (RMSE: 0.1670).\n"
     ]
    },
    {
     "name": "stderr",
     "output_type": "stream",
     "text": [
      "Epoch 172: 100%|██████████| 14/14 [00:09<00:00,  1.43batch/s, loss=0.0196, rmse=0.126]\n"
     ]
    },
    {
     "name": "stdout",
     "output_type": "stream",
     "text": [
      "Calculating embeddings\n"
     ]
    },
    {
     "name": "stderr",
     "output_type": "stream",
     "text": [
      "6851it [00:03, 2159.91it/s]\n"
     ]
    },
    {
     "name": "stdout",
     "output_type": "stream",
     "text": [
      "Calculating similarity between embeddings\n"
     ]
    },
    {
     "name": "stderr",
     "output_type": "stream",
     "text": [
      "Selecting available inchikey pairs per bin: 10it [00:02,  4.82it/s]\n",
      "Selecting available inchikey pairs per bin: 10it [00:02,  4.84it/s]\n"
     ]
    },
    {
     "name": "stdout",
     "output_type": "stream",
     "text": [
      "Epoch [173/500], Loss: 0.0158\n",
      "Validation Loss: 0.0305 (RMSE: 0.1702).\n"
     ]
    },
    {
     "name": "stderr",
     "output_type": "stream",
     "text": [
      "Epoch 173: 100%|██████████| 14/14 [00:10<00:00,  1.36batch/s, loss=0.0164, rmse=0.129]\n"
     ]
    },
    {
     "name": "stdout",
     "output_type": "stream",
     "text": [
      "Calculating embeddings\n"
     ]
    },
    {
     "name": "stderr",
     "output_type": "stream",
     "text": [
      "6851it [00:02, 2442.58it/s]\n"
     ]
    },
    {
     "name": "stdout",
     "output_type": "stream",
     "text": [
      "Calculating similarity between embeddings\n"
     ]
    },
    {
     "name": "stderr",
     "output_type": "stream",
     "text": [
      "Selecting available inchikey pairs per bin: 10it [00:02,  4.48it/s]\n",
      "Selecting available inchikey pairs per bin: 10it [00:02,  4.73it/s]\n"
     ]
    },
    {
     "name": "stdout",
     "output_type": "stream",
     "text": [
      "Epoch [174/500], Loss: 0.0166\n",
      "Validation Loss: 0.0293 (RMSE: 0.1661).\n"
     ]
    },
    {
     "name": "stderr",
     "output_type": "stream",
     "text": [
      "Epoch 174: 100%|██████████| 14/14 [00:09<00:00,  1.47batch/s, loss=0.0156, rmse=0.126]\n"
     ]
    },
    {
     "name": "stdout",
     "output_type": "stream",
     "text": [
      "Calculating embeddings\n"
     ]
    },
    {
     "name": "stderr",
     "output_type": "stream",
     "text": [
      "6851it [00:02, 2482.30it/s]\n"
     ]
    },
    {
     "name": "stdout",
     "output_type": "stream",
     "text": [
      "Calculating similarity between embeddings\n"
     ]
    },
    {
     "name": "stderr",
     "output_type": "stream",
     "text": [
      "Selecting available inchikey pairs per bin: 10it [00:02,  4.65it/s]\n",
      "Selecting available inchikey pairs per bin: 10it [00:02,  4.72it/s]\n"
     ]
    },
    {
     "name": "stdout",
     "output_type": "stream",
     "text": [
      "Saving checkpoint model.\n",
      "Epoch [175/500], Loss: 0.0160\n",
      "Validation Loss: 0.0291 (RMSE: 0.1663).\n"
     ]
    },
    {
     "name": "stderr",
     "output_type": "stream",
     "text": [
      "Epoch 175: 100%|██████████| 14/14 [00:09<00:00,  1.47batch/s, loss=0.0147, rmse=0.127]\n"
     ]
    },
    {
     "name": "stdout",
     "output_type": "stream",
     "text": [
      "Calculating embeddings\n"
     ]
    },
    {
     "name": "stderr",
     "output_type": "stream",
     "text": [
      "6851it [00:03, 2224.78it/s]\n"
     ]
    },
    {
     "name": "stdout",
     "output_type": "stream",
     "text": [
      "Calculating similarity between embeddings\n"
     ]
    },
    {
     "name": "stderr",
     "output_type": "stream",
     "text": [
      "Selecting available inchikey pairs per bin: 10it [00:02,  4.06it/s]\n",
      "Selecting available inchikey pairs per bin: 10it [00:02,  4.60it/s]\n"
     ]
    },
    {
     "name": "stdout",
     "output_type": "stream",
     "text": [
      "Saving checkpoint model.\n",
      "Epoch [176/500], Loss: 0.0162\n",
      "Validation Loss: 0.0286 (RMSE: 0.1649).\n"
     ]
    },
    {
     "name": "stderr",
     "output_type": "stream",
     "text": [
      "Epoch 176: 100%|██████████| 14/14 [00:09<00:00,  1.42batch/s, loss=0.0164, rmse=0.127]\n"
     ]
    },
    {
     "name": "stdout",
     "output_type": "stream",
     "text": [
      "Calculating embeddings\n"
     ]
    },
    {
     "name": "stderr",
     "output_type": "stream",
     "text": [
      "6851it [00:02, 2368.80it/s]\n"
     ]
    },
    {
     "name": "stdout",
     "output_type": "stream",
     "text": [
      "Calculating similarity between embeddings\n"
     ]
    },
    {
     "name": "stderr",
     "output_type": "stream",
     "text": [
      "Selecting available inchikey pairs per bin: 10it [00:02,  4.76it/s]\n",
      "Selecting available inchikey pairs per bin: 10it [00:02,  4.72it/s]\n"
     ]
    },
    {
     "name": "stdout",
     "output_type": "stream",
     "text": [
      "Epoch [177/500], Loss: 0.0161\n",
      "Validation Loss: 0.0297 (RMSE: 0.1677).\n"
     ]
    },
    {
     "name": "stderr",
     "output_type": "stream",
     "text": [
      "Epoch 177: 100%|██████████| 14/14 [00:11<00:00,  1.25batch/s, loss=0.0146, rmse=0.125]\n"
     ]
    },
    {
     "name": "stdout",
     "output_type": "stream",
     "text": [
      "Calculating embeddings\n"
     ]
    },
    {
     "name": "stderr",
     "output_type": "stream",
     "text": [
      "6851it [00:02, 2355.97it/s]\n"
     ]
    },
    {
     "name": "stdout",
     "output_type": "stream",
     "text": [
      "Calculating similarity between embeddings\n"
     ]
    },
    {
     "name": "stderr",
     "output_type": "stream",
     "text": [
      "Selecting available inchikey pairs per bin: 10it [00:02,  4.80it/s]\n",
      "Selecting available inchikey pairs per bin: 10it [00:02,  4.79it/s]\n"
     ]
    },
    {
     "name": "stdout",
     "output_type": "stream",
     "text": [
      "Epoch [178/500], Loss: 0.0156\n",
      "Validation Loss: 0.0295 (RMSE: 0.1668).\n"
     ]
    },
    {
     "name": "stderr",
     "output_type": "stream",
     "text": [
      "Epoch 178: 100%|██████████| 14/14 [00:09<00:00,  1.42batch/s, loss=0.0157, rmse=0.128]\n"
     ]
    },
    {
     "name": "stdout",
     "output_type": "stream",
     "text": [
      "Calculating embeddings\n"
     ]
    },
    {
     "name": "stderr",
     "output_type": "stream",
     "text": [
      "6851it [00:02, 2495.87it/s]\n"
     ]
    },
    {
     "name": "stdout",
     "output_type": "stream",
     "text": [
      "Calculating similarity between embeddings\n"
     ]
    },
    {
     "name": "stderr",
     "output_type": "stream",
     "text": [
      "Selecting available inchikey pairs per bin: 10it [00:02,  4.70it/s]\n",
      "Selecting available inchikey pairs per bin: 10it [00:02,  4.84it/s]\n"
     ]
    },
    {
     "name": "stdout",
     "output_type": "stream",
     "text": [
      "Epoch [179/500], Loss: 0.0163\n",
      "Validation Loss: 0.0287 (RMSE: 0.1642).\n"
     ]
    },
    {
     "name": "stderr",
     "output_type": "stream",
     "text": [
      "Epoch 179: 100%|██████████| 14/14 [00:09<00:00,  1.42batch/s, loss=0.0167, rmse=0.127]\n"
     ]
    },
    {
     "name": "stdout",
     "output_type": "stream",
     "text": [
      "Calculating embeddings\n"
     ]
    },
    {
     "name": "stderr",
     "output_type": "stream",
     "text": [
      "6851it [00:02, 2410.45it/s]\n"
     ]
    },
    {
     "name": "stdout",
     "output_type": "stream",
     "text": [
      "Calculating similarity between embeddings\n"
     ]
    },
    {
     "name": "stderr",
     "output_type": "stream",
     "text": [
      "Selecting available inchikey pairs per bin: 10it [00:02,  4.79it/s]\n",
      "Selecting available inchikey pairs per bin: 10it [00:02,  4.65it/s]\n"
     ]
    },
    {
     "name": "stdout",
     "output_type": "stream",
     "text": [
      "Epoch [180/500], Loss: 0.0163\n",
      "Validation Loss: 0.0315 (RMSE: 0.1722).\n"
     ]
    },
    {
     "name": "stderr",
     "output_type": "stream",
     "text": [
      "Epoch 180: 100%|██████████| 14/14 [00:10<00:00,  1.40batch/s, loss=0.0155, rmse=0.123]\n"
     ]
    },
    {
     "name": "stdout",
     "output_type": "stream",
     "text": [
      "Calculating embeddings\n"
     ]
    },
    {
     "name": "stderr",
     "output_type": "stream",
     "text": [
      "6851it [00:02, 2371.26it/s]\n"
     ]
    },
    {
     "name": "stdout",
     "output_type": "stream",
     "text": [
      "Calculating similarity between embeddings\n"
     ]
    },
    {
     "name": "stderr",
     "output_type": "stream",
     "text": [
      "Selecting available inchikey pairs per bin: 10it [00:02,  4.69it/s]\n",
      "Selecting available inchikey pairs per bin: 10it [00:02,  4.68it/s]\n"
     ]
    },
    {
     "name": "stdout",
     "output_type": "stream",
     "text": [
      "Epoch [181/500], Loss: 0.0153\n",
      "Validation Loss: 0.0287 (RMSE: 0.1650).\n"
     ]
    },
    {
     "name": "stderr",
     "output_type": "stream",
     "text": [
      "Epoch 181: 100%|██████████| 14/14 [00:09<00:00,  1.46batch/s, loss=0.0168, rmse=0.125]\n"
     ]
    },
    {
     "name": "stdout",
     "output_type": "stream",
     "text": [
      "Calculating embeddings\n"
     ]
    },
    {
     "name": "stderr",
     "output_type": "stream",
     "text": [
      "6851it [00:02, 2484.71it/s]\n"
     ]
    },
    {
     "name": "stdout",
     "output_type": "stream",
     "text": [
      "Calculating similarity between embeddings\n"
     ]
    },
    {
     "name": "stderr",
     "output_type": "stream",
     "text": [
      "Selecting available inchikey pairs per bin: 10it [00:02,  4.70it/s]\n",
      "Selecting available inchikey pairs per bin: 10it [00:02,  4.66it/s]\n"
     ]
    },
    {
     "name": "stdout",
     "output_type": "stream",
     "text": [
      "Saving checkpoint model.\n",
      "Epoch [182/500], Loss: 0.0157\n",
      "Validation Loss: 0.0279 (RMSE: 0.1623).\n"
     ]
    },
    {
     "name": "stderr",
     "output_type": "stream",
     "text": [
      "Epoch 182: 100%|██████████| 14/14 [00:10<00:00,  1.35batch/s, loss=0.0162, rmse=0.126]\n"
     ]
    },
    {
     "name": "stdout",
     "output_type": "stream",
     "text": [
      "Calculating embeddings\n"
     ]
    },
    {
     "name": "stderr",
     "output_type": "stream",
     "text": [
      "6851it [00:02, 2391.53it/s]\n"
     ]
    },
    {
     "name": "stdout",
     "output_type": "stream",
     "text": [
      "Calculating similarity between embeddings\n"
     ]
    },
    {
     "name": "stderr",
     "output_type": "stream",
     "text": [
      "Selecting available inchikey pairs per bin: 10it [00:02,  4.80it/s]\n",
      "Selecting available inchikey pairs per bin: 10it [00:02,  4.64it/s]\n"
     ]
    },
    {
     "name": "stdout",
     "output_type": "stream",
     "text": [
      "Epoch [183/500], Loss: 0.0160\n",
      "Validation Loss: 0.0290 (RMSE: 0.1656).\n"
     ]
    },
    {
     "name": "stderr",
     "output_type": "stream",
     "text": [
      "Epoch 183: 100%|██████████| 14/14 [00:10<00:00,  1.38batch/s, loss=0.0139, rmse=0.125]\n"
     ]
    },
    {
     "name": "stdout",
     "output_type": "stream",
     "text": [
      "Calculating embeddings\n"
     ]
    },
    {
     "name": "stderr",
     "output_type": "stream",
     "text": [
      "6851it [00:02, 2346.13it/s]\n"
     ]
    },
    {
     "name": "stdout",
     "output_type": "stream",
     "text": [
      "Calculating similarity between embeddings\n"
     ]
    },
    {
     "name": "stderr",
     "output_type": "stream",
     "text": [
      "Selecting available inchikey pairs per bin: 10it [00:02,  4.70it/s]\n",
      "Selecting available inchikey pairs per bin: 10it [00:02,  4.62it/s]\n"
     ]
    },
    {
     "name": "stdout",
     "output_type": "stream",
     "text": [
      "Epoch [184/500], Loss: 0.0156\n",
      "Validation Loss: 0.0283 (RMSE: 0.1635).\n"
     ]
    },
    {
     "name": "stderr",
     "output_type": "stream",
     "text": [
      "Epoch 184: 100%|██████████| 14/14 [00:10<00:00,  1.40batch/s, loss=0.0148, rmse=0.128]\n"
     ]
    },
    {
     "name": "stdout",
     "output_type": "stream",
     "text": [
      "Calculating embeddings\n"
     ]
    },
    {
     "name": "stderr",
     "output_type": "stream",
     "text": [
      "6851it [00:02, 2400.86it/s]\n"
     ]
    },
    {
     "name": "stdout",
     "output_type": "stream",
     "text": [
      "Calculating similarity between embeddings\n"
     ]
    },
    {
     "name": "stderr",
     "output_type": "stream",
     "text": [
      "Selecting available inchikey pairs per bin: 10it [00:02,  4.65it/s]\n",
      "Selecting available inchikey pairs per bin: 10it [00:02,  4.59it/s]\n"
     ]
    },
    {
     "name": "stdout",
     "output_type": "stream",
     "text": [
      "Epoch [185/500], Loss: 0.0164\n",
      "Validation Loss: 0.0286 (RMSE: 0.1645).\n"
     ]
    },
    {
     "name": "stderr",
     "output_type": "stream",
     "text": [
      "Epoch 185: 100%|██████████| 14/14 [00:09<00:00,  1.43batch/s, loss=0.0159, rmse=0.126]\n"
     ]
    },
    {
     "name": "stdout",
     "output_type": "stream",
     "text": [
      "Calculating embeddings\n"
     ]
    },
    {
     "name": "stderr",
     "output_type": "stream",
     "text": [
      "6851it [00:03, 2259.46it/s]\n"
     ]
    },
    {
     "name": "stdout",
     "output_type": "stream",
     "text": [
      "Calculating similarity between embeddings\n"
     ]
    },
    {
     "name": "stderr",
     "output_type": "stream",
     "text": [
      "Selecting available inchikey pairs per bin: 10it [00:02,  4.89it/s]\n",
      "Selecting available inchikey pairs per bin: 10it [00:02,  4.95it/s]\n"
     ]
    },
    {
     "name": "stdout",
     "output_type": "stream",
     "text": [
      "Epoch [186/500], Loss: 0.0159\n",
      "Validation Loss: 0.0297 (RMSE: 0.1674).\n"
     ]
    },
    {
     "name": "stderr",
     "output_type": "stream",
     "text": [
      "Epoch 186: 100%|██████████| 14/14 [00:10<00:00,  1.31batch/s, loss=0.0163, rmse=0.125]\n"
     ]
    },
    {
     "name": "stdout",
     "output_type": "stream",
     "text": [
      "Calculating embeddings\n"
     ]
    },
    {
     "name": "stderr",
     "output_type": "stream",
     "text": [
      "6851it [00:03, 2252.66it/s]\n"
     ]
    },
    {
     "name": "stdout",
     "output_type": "stream",
     "text": [
      "Calculating similarity between embeddings\n"
     ]
    },
    {
     "name": "stderr",
     "output_type": "stream",
     "text": [
      "Selecting available inchikey pairs per bin: 10it [00:02,  4.56it/s]\n",
      "Selecting available inchikey pairs per bin: 10it [00:02,  4.70it/s]\n"
     ]
    },
    {
     "name": "stdout",
     "output_type": "stream",
     "text": [
      "Epoch [187/500], Loss: 0.0156\n",
      "Validation Loss: 0.0286 (RMSE: 0.1649).\n"
     ]
    },
    {
     "name": "stderr",
     "output_type": "stream",
     "text": [
      "Epoch 187: 100%|██████████| 14/14 [00:09<00:00,  1.42batch/s, loss=0.0149, rmse=0.124]\n"
     ]
    },
    {
     "name": "stdout",
     "output_type": "stream",
     "text": [
      "Calculating embeddings\n"
     ]
    },
    {
     "name": "stderr",
     "output_type": "stream",
     "text": [
      "6851it [00:02, 2419.06it/s]\n"
     ]
    },
    {
     "name": "stdout",
     "output_type": "stream",
     "text": [
      "Calculating similarity between embeddings\n"
     ]
    },
    {
     "name": "stderr",
     "output_type": "stream",
     "text": [
      "Selecting available inchikey pairs per bin: 10it [00:02,  4.53it/s]\n",
      "Selecting available inchikey pairs per bin: 10it [00:02,  4.61it/s]\n"
     ]
    },
    {
     "name": "stdout",
     "output_type": "stream",
     "text": [
      "Epoch [188/500], Loss: 0.0154\n",
      "Validation Loss: 0.0283 (RMSE: 0.1644).\n"
     ]
    },
    {
     "name": "stderr",
     "output_type": "stream",
     "text": [
      "Epoch 188: 100%|██████████| 14/14 [00:09<00:00,  1.44batch/s, loss=0.0143, rmse=0.123]\n"
     ]
    },
    {
     "name": "stdout",
     "output_type": "stream",
     "text": [
      "Calculating embeddings\n"
     ]
    },
    {
     "name": "stderr",
     "output_type": "stream",
     "text": [
      "6851it [00:03, 2130.15it/s]\n"
     ]
    },
    {
     "name": "stdout",
     "output_type": "stream",
     "text": [
      "Calculating similarity between embeddings\n"
     ]
    },
    {
     "name": "stderr",
     "output_type": "stream",
     "text": [
      "Selecting available inchikey pairs per bin: 10it [00:02,  4.94it/s]\n",
      "Selecting available inchikey pairs per bin: 10it [00:02,  4.90it/s]\n"
     ]
    },
    {
     "name": "stdout",
     "output_type": "stream",
     "text": [
      "Epoch [189/500], Loss: 0.0152\n",
      "Validation Loss: 0.0285 (RMSE: 0.1642).\n"
     ]
    },
    {
     "name": "stderr",
     "output_type": "stream",
     "text": [
      "Epoch 189: 100%|██████████| 14/14 [00:09<00:00,  1.47batch/s, loss=0.0167, rmse=0.126]\n"
     ]
    },
    {
     "name": "stdout",
     "output_type": "stream",
     "text": [
      "Calculating embeddings\n"
     ]
    },
    {
     "name": "stderr",
     "output_type": "stream",
     "text": [
      "6851it [00:02, 2349.90it/s]\n"
     ]
    },
    {
     "name": "stdout",
     "output_type": "stream",
     "text": [
      "Calculating similarity between embeddings\n"
     ]
    },
    {
     "name": "stderr",
     "output_type": "stream",
     "text": [
      "Selecting available inchikey pairs per bin: 10it [00:02,  4.60it/s]\n",
      "Selecting available inchikey pairs per bin: 10it [00:02,  4.57it/s]\n"
     ]
    },
    {
     "name": "stdout",
     "output_type": "stream",
     "text": [
      "Epoch [190/500], Loss: 0.0160\n",
      "Validation Loss: 0.0298 (RMSE: 0.1674).\n"
     ]
    },
    {
     "name": "stderr",
     "output_type": "stream",
     "text": [
      "Epoch 190: 100%|██████████| 14/14 [00:10<00:00,  1.39batch/s, loss=0.016, rmse=0.126] \n"
     ]
    },
    {
     "name": "stdout",
     "output_type": "stream",
     "text": [
      "Calculating embeddings\n"
     ]
    },
    {
     "name": "stderr",
     "output_type": "stream",
     "text": [
      "6851it [00:02, 2384.29it/s]\n"
     ]
    },
    {
     "name": "stdout",
     "output_type": "stream",
     "text": [
      "Calculating similarity between embeddings\n"
     ]
    },
    {
     "name": "stderr",
     "output_type": "stream",
     "text": [
      "Selecting available inchikey pairs per bin: 10it [00:02,  4.47it/s]\n",
      "Selecting available inchikey pairs per bin: 10it [00:02,  4.75it/s]\n"
     ]
    },
    {
     "name": "stdout",
     "output_type": "stream",
     "text": [
      "Epoch [191/500], Loss: 0.0159\n",
      "Validation Loss: 0.0310 (RMSE: 0.1707).\n"
     ]
    },
    {
     "name": "stderr",
     "output_type": "stream",
     "text": [
      "Epoch 191: 100%|██████████| 14/14 [00:10<00:00,  1.37batch/s, loss=0.0137, rmse=0.122]\n"
     ]
    },
    {
     "name": "stdout",
     "output_type": "stream",
     "text": [
      "Calculating embeddings\n"
     ]
    },
    {
     "name": "stderr",
     "output_type": "stream",
     "text": [
      "6851it [00:03, 2173.02it/s]\n"
     ]
    },
    {
     "name": "stdout",
     "output_type": "stream",
     "text": [
      "Calculating similarity between embeddings\n"
     ]
    },
    {
     "name": "stderr",
     "output_type": "stream",
     "text": [
      "Selecting available inchikey pairs per bin: 10it [00:02,  4.75it/s]\n",
      "Selecting available inchikey pairs per bin: 10it [00:02,  4.82it/s]\n"
     ]
    },
    {
     "name": "stdout",
     "output_type": "stream",
     "text": [
      "Epoch [192/500], Loss: 0.0148\n",
      "Validation Loss: 0.0285 (RMSE: 0.1649).\n"
     ]
    },
    {
     "name": "stderr",
     "output_type": "stream",
     "text": [
      "Epoch 192: 100%|██████████| 14/14 [00:10<00:00,  1.40batch/s, loss=0.0148, rmse=0.123]\n"
     ]
    },
    {
     "name": "stdout",
     "output_type": "stream",
     "text": [
      "Calculating embeddings\n"
     ]
    },
    {
     "name": "stderr",
     "output_type": "stream",
     "text": [
      "6851it [00:02, 2437.05it/s]\n"
     ]
    },
    {
     "name": "stdout",
     "output_type": "stream",
     "text": [
      "Calculating similarity between embeddings\n"
     ]
    },
    {
     "name": "stderr",
     "output_type": "stream",
     "text": [
      "Selecting available inchikey pairs per bin: 10it [00:02,  4.63it/s]\n",
      "Selecting available inchikey pairs per bin: 10it [00:02,  4.81it/s]\n"
     ]
    },
    {
     "name": "stdout",
     "output_type": "stream",
     "text": [
      "Epoch [193/500], Loss: 0.0152\n",
      "Validation Loss: 0.0281 (RMSE: 0.1637).\n"
     ]
    },
    {
     "name": "stderr",
     "output_type": "stream",
     "text": [
      "Epoch 193: 100%|██████████| 14/14 [00:09<00:00,  1.47batch/s, loss=0.0151, rmse=0.12]\n"
     ]
    },
    {
     "name": "stdout",
     "output_type": "stream",
     "text": [
      "Calculating embeddings\n"
     ]
    },
    {
     "name": "stderr",
     "output_type": "stream",
     "text": [
      "6851it [00:02, 2391.25it/s]\n"
     ]
    },
    {
     "name": "stdout",
     "output_type": "stream",
     "text": [
      "Calculating similarity between embeddings\n"
     ]
    },
    {
     "name": "stderr",
     "output_type": "stream",
     "text": [
      "Selecting available inchikey pairs per bin: 10it [00:02,  4.79it/s]\n",
      "Selecting available inchikey pairs per bin: 10it [00:02,  4.82it/s]\n"
     ]
    },
    {
     "name": "stdout",
     "output_type": "stream",
     "text": [
      "Epoch [194/500], Loss: 0.0145\n",
      "Validation Loss: 0.0288 (RMSE: 0.1653).\n"
     ]
    },
    {
     "name": "stderr",
     "output_type": "stream",
     "text": [
      "Epoch 194: 100%|██████████| 14/14 [00:10<00:00,  1.36batch/s, loss=0.0128, rmse=0.12] \n"
     ]
    },
    {
     "name": "stdout",
     "output_type": "stream",
     "text": [
      "Calculating embeddings\n"
     ]
    },
    {
     "name": "stderr",
     "output_type": "stream",
     "text": [
      "6851it [00:02, 2432.96it/s]\n"
     ]
    },
    {
     "name": "stdout",
     "output_type": "stream",
     "text": [
      "Calculating similarity between embeddings\n"
     ]
    },
    {
     "name": "stderr",
     "output_type": "stream",
     "text": [
      "Selecting available inchikey pairs per bin: 10it [00:02,  4.67it/s]\n",
      "Selecting available inchikey pairs per bin: 10it [00:02,  4.86it/s]\n"
     ]
    },
    {
     "name": "stdout",
     "output_type": "stream",
     "text": [
      "Epoch [195/500], Loss: 0.0145\n",
      "Validation Loss: 0.0290 (RMSE: 0.1657).\n"
     ]
    },
    {
     "name": "stderr",
     "output_type": "stream",
     "text": [
      "Epoch 195: 100%|██████████| 14/14 [00:10<00:00,  1.35batch/s, loss=0.0191, rmse=0.12] \n"
     ]
    },
    {
     "name": "stdout",
     "output_type": "stream",
     "text": [
      "Calculating embeddings\n"
     ]
    },
    {
     "name": "stderr",
     "output_type": "stream",
     "text": [
      "6851it [00:02, 2453.22it/s]\n"
     ]
    },
    {
     "name": "stdout",
     "output_type": "stream",
     "text": [
      "Calculating similarity between embeddings\n"
     ]
    },
    {
     "name": "stderr",
     "output_type": "stream",
     "text": [
      "Selecting available inchikey pairs per bin: 10it [00:02,  4.78it/s]\n",
      "Selecting available inchikey pairs per bin: 10it [00:02,  4.78it/s]\n"
     ]
    },
    {
     "name": "stdout",
     "output_type": "stream",
     "text": [
      "Epoch [196/500], Loss: 0.0145\n",
      "Validation Loss: 0.0300 (RMSE: 0.1687).\n"
     ]
    },
    {
     "name": "stderr",
     "output_type": "stream",
     "text": [
      "Epoch 196: 100%|██████████| 14/14 [00:09<00:00,  1.44batch/s, loss=0.0138, rmse=0.12] \n"
     ]
    },
    {
     "name": "stdout",
     "output_type": "stream",
     "text": [
      "Calculating embeddings\n"
     ]
    },
    {
     "name": "stderr",
     "output_type": "stream",
     "text": [
      "6851it [00:02, 2517.21it/s]\n"
     ]
    },
    {
     "name": "stdout",
     "output_type": "stream",
     "text": [
      "Calculating similarity between embeddings\n"
     ]
    },
    {
     "name": "stderr",
     "output_type": "stream",
     "text": [
      "Selecting available inchikey pairs per bin: 10it [00:02,  4.95it/s]\n",
      "Selecting available inchikey pairs per bin: 10it [00:02,  4.71it/s]\n"
     ]
    },
    {
     "name": "stdout",
     "output_type": "stream",
     "text": [
      "Epoch [197/500], Loss: 0.0144\n",
      "Validation Loss: 0.0286 (RMSE: 0.1648).\n"
     ]
    },
    {
     "name": "stderr",
     "output_type": "stream",
     "text": [
      "Epoch 197: 100%|██████████| 14/14 [00:09<00:00,  1.44batch/s, loss=0.0136, rmse=0.121]\n"
     ]
    },
    {
     "name": "stdout",
     "output_type": "stream",
     "text": [
      "Calculating embeddings\n"
     ]
    },
    {
     "name": "stderr",
     "output_type": "stream",
     "text": [
      "6851it [00:02, 2469.11it/s]\n"
     ]
    },
    {
     "name": "stdout",
     "output_type": "stream",
     "text": [
      "Calculating similarity between embeddings\n"
     ]
    },
    {
     "name": "stderr",
     "output_type": "stream",
     "text": [
      "Selecting available inchikey pairs per bin: 10it [00:02,  4.68it/s]\n",
      "Selecting available inchikey pairs per bin: 10it [00:02,  4.65it/s]\n"
     ]
    },
    {
     "name": "stdout",
     "output_type": "stream",
     "text": [
      "Epoch [198/500], Loss: 0.0147\n",
      "Validation Loss: 0.0283 (RMSE: 0.1637).\n"
     ]
    },
    {
     "name": "stderr",
     "output_type": "stream",
     "text": [
      "Epoch 198: 100%|██████████| 14/14 [00:09<00:00,  1.45batch/s, loss=0.012, rmse=0.12]  \n"
     ]
    },
    {
     "name": "stdout",
     "output_type": "stream",
     "text": [
      "Calculating embeddings\n"
     ]
    },
    {
     "name": "stderr",
     "output_type": "stream",
     "text": [
      "6851it [00:02, 2510.76it/s]\n"
     ]
    },
    {
     "name": "stdout",
     "output_type": "stream",
     "text": [
      "Calculating similarity between embeddings\n"
     ]
    },
    {
     "name": "stderr",
     "output_type": "stream",
     "text": [
      "Selecting available inchikey pairs per bin: 10it [00:02,  4.96it/s]\n",
      "Selecting available inchikey pairs per bin: 10it [00:02,  4.79it/s]\n"
     ]
    },
    {
     "name": "stdout",
     "output_type": "stream",
     "text": [
      "Epoch [199/500], Loss: 0.0145\n",
      "Validation Loss: 0.0286 (RMSE: 0.1645).\n"
     ]
    },
    {
     "name": "stderr",
     "output_type": "stream",
     "text": [
      "Epoch 199: 100%|██████████| 14/14 [00:10<00:00,  1.37batch/s, loss=0.0177, rmse=0.122]\n"
     ]
    },
    {
     "name": "stdout",
     "output_type": "stream",
     "text": [
      "Calculating embeddings\n"
     ]
    },
    {
     "name": "stderr",
     "output_type": "stream",
     "text": [
      "6851it [00:02, 2368.45it/s]\n"
     ]
    },
    {
     "name": "stdout",
     "output_type": "stream",
     "text": [
      "Calculating similarity between embeddings\n"
     ]
    },
    {
     "name": "stderr",
     "output_type": "stream",
     "text": [
      "Selecting available inchikey pairs per bin: 10it [00:02,  4.84it/s]\n",
      "Selecting available inchikey pairs per bin: 10it [00:01,  5.00it/s]\n"
     ]
    },
    {
     "name": "stdout",
     "output_type": "stream",
     "text": [
      "Epoch [200/500], Loss: 0.0149\n",
      "Validation Loss: 0.0289 (RMSE: 0.1649).\n"
     ]
    },
    {
     "name": "stderr",
     "output_type": "stream",
     "text": [
      "Epoch 200: 100%|██████████| 14/14 [00:09<00:00,  1.50batch/s, loss=0.0139, rmse=0.122]\n"
     ]
    },
    {
     "name": "stdout",
     "output_type": "stream",
     "text": [
      "Calculating embeddings\n"
     ]
    },
    {
     "name": "stderr",
     "output_type": "stream",
     "text": [
      "6851it [00:02, 2536.94it/s]\n"
     ]
    },
    {
     "name": "stdout",
     "output_type": "stream",
     "text": [
      "Calculating similarity between embeddings\n"
     ]
    },
    {
     "name": "stderr",
     "output_type": "stream",
     "text": [
      "Selecting available inchikey pairs per bin: 10it [00:02,  4.73it/s]\n",
      "Selecting available inchikey pairs per bin: 10it [00:02,  4.65it/s]\n"
     ]
    },
    {
     "name": "stdout",
     "output_type": "stream",
     "text": [
      "Epoch [201/500], Loss: 0.0150\n",
      "Validation Loss: 0.0285 (RMSE: 0.1643).\n"
     ]
    },
    {
     "name": "stderr",
     "output_type": "stream",
     "text": [
      "Epoch 201: 100%|██████████| 14/14 [00:10<00:00,  1.29batch/s, loss=0.0119, rmse=0.119]\n"
     ]
    },
    {
     "name": "stdout",
     "output_type": "stream",
     "text": [
      "Calculating embeddings\n"
     ]
    },
    {
     "name": "stderr",
     "output_type": "stream",
     "text": [
      "6851it [00:02, 2388.25it/s]\n"
     ]
    },
    {
     "name": "stdout",
     "output_type": "stream",
     "text": [
      "Calculating similarity between embeddings\n"
     ]
    },
    {
     "name": "stderr",
     "output_type": "stream",
     "text": [
      "Selecting available inchikey pairs per bin: 10it [00:02,  4.89it/s]\n",
      "Selecting available inchikey pairs per bin: 10it [00:02,  4.92it/s]\n"
     ]
    },
    {
     "name": "stdout",
     "output_type": "stream",
     "text": [
      "Epoch [202/500], Loss: 0.0143\n",
      "Validation Loss: 0.0280 (RMSE: 0.1628).\n"
     ]
    },
    {
     "name": "stderr",
     "output_type": "stream",
     "text": [
      "Epoch 202: 100%|██████████| 14/14 [00:09<00:00,  1.44batch/s, loss=0.0146, rmse=0.12] \n"
     ]
    },
    {
     "name": "stdout",
     "output_type": "stream",
     "text": [
      "Calculating embeddings\n"
     ]
    },
    {
     "name": "stderr",
     "output_type": "stream",
     "text": [
      "6851it [00:02, 2534.81it/s]\n"
     ]
    },
    {
     "name": "stdout",
     "output_type": "stream",
     "text": [
      "Calculating similarity between embeddings\n"
     ]
    },
    {
     "name": "stderr",
     "output_type": "stream",
     "text": [
      "Selecting available inchikey pairs per bin: 10it [00:02,  4.94it/s]\n",
      "Selecting available inchikey pairs per bin: 10it [00:02,  4.95it/s]\n"
     ]
    },
    {
     "name": "stdout",
     "output_type": "stream",
     "text": [
      "Epoch [203/500], Loss: 0.0145\n",
      "Validation Loss: 0.0289 (RMSE: 0.1652).\n"
     ]
    },
    {
     "name": "stderr",
     "output_type": "stream",
     "text": [
      "Epoch 203: 100%|██████████| 14/14 [00:09<00:00,  1.52batch/s, loss=0.0131, rmse=0.122]\n"
     ]
    },
    {
     "name": "stdout",
     "output_type": "stream",
     "text": [
      "Calculating embeddings\n"
     ]
    },
    {
     "name": "stderr",
     "output_type": "stream",
     "text": [
      "6851it [00:02, 2525.95it/s]\n"
     ]
    },
    {
     "name": "stdout",
     "output_type": "stream",
     "text": [
      "Calculating similarity between embeddings\n"
     ]
    },
    {
     "name": "stderr",
     "output_type": "stream",
     "text": [
      "Selecting available inchikey pairs per bin: 10it [00:02,  4.92it/s]\n",
      "Selecting available inchikey pairs per bin: 10it [00:02,  4.96it/s]\n"
     ]
    },
    {
     "name": "stdout",
     "output_type": "stream",
     "text": [
      "Epoch [204/500], Loss: 0.0148\n",
      "Validation Loss: 0.0281 (RMSE: 0.1635).\n"
     ]
    },
    {
     "name": "stderr",
     "output_type": "stream",
     "text": [
      "Epoch 204: 100%|██████████| 14/14 [00:09<00:00,  1.49batch/s, loss=0.0126, rmse=0.118]\n"
     ]
    },
    {
     "name": "stdout",
     "output_type": "stream",
     "text": [
      "Calculating embeddings\n"
     ]
    },
    {
     "name": "stderr",
     "output_type": "stream",
     "text": [
      "6851it [00:03, 2124.53it/s]\n"
     ]
    },
    {
     "name": "stdout",
     "output_type": "stream",
     "text": [
      "Calculating similarity between embeddings\n"
     ]
    },
    {
     "name": "stderr",
     "output_type": "stream",
     "text": [
      "Selecting available inchikey pairs per bin: 10it [00:02,  4.30it/s]\n",
      "Selecting available inchikey pairs per bin: 10it [00:01,  5.02it/s]\n"
     ]
    },
    {
     "name": "stdout",
     "output_type": "stream",
     "text": [
      "Epoch [205/500], Loss: 0.0140\n",
      "Validation Loss: 0.0290 (RMSE: 0.1655).\n"
     ]
    },
    {
     "name": "stderr",
     "output_type": "stream",
     "text": [
      "Epoch 205: 100%|██████████| 14/14 [00:09<00:00,  1.45batch/s, loss=0.013, rmse=0.12]  \n"
     ]
    },
    {
     "name": "stdout",
     "output_type": "stream",
     "text": [
      "Calculating embeddings\n"
     ]
    },
    {
     "name": "stderr",
     "output_type": "stream",
     "text": [
      "6851it [00:03, 2190.68it/s]\n"
     ]
    },
    {
     "name": "stdout",
     "output_type": "stream",
     "text": [
      "Calculating similarity between embeddings\n"
     ]
    },
    {
     "name": "stderr",
     "output_type": "stream",
     "text": [
      "Selecting available inchikey pairs per bin: 10it [00:02,  4.88it/s]\n",
      "Selecting available inchikey pairs per bin: 10it [00:02,  4.88it/s]\n"
     ]
    },
    {
     "name": "stdout",
     "output_type": "stream",
     "text": [
      "Epoch [206/500], Loss: 0.0143\n",
      "Validation Loss: 0.0291 (RMSE: 0.1661).\n"
     ]
    },
    {
     "name": "stderr",
     "output_type": "stream",
     "text": [
      "Epoch 206: 100%|██████████| 14/14 [00:10<00:00,  1.36batch/s, loss=0.0153, rmse=0.121]\n"
     ]
    },
    {
     "name": "stdout",
     "output_type": "stream",
     "text": [
      "Calculating embeddings\n"
     ]
    },
    {
     "name": "stderr",
     "output_type": "stream",
     "text": [
      "6851it [00:02, 2438.47it/s]\n"
     ]
    },
    {
     "name": "stdout",
     "output_type": "stream",
     "text": [
      "Calculating similarity between embeddings\n"
     ]
    },
    {
     "name": "stderr",
     "output_type": "stream",
     "text": [
      "Selecting available inchikey pairs per bin: 10it [00:02,  4.92it/s]\n",
      "Selecting available inchikey pairs per bin: 10it [00:02,  4.96it/s]\n"
     ]
    },
    {
     "name": "stdout",
     "output_type": "stream",
     "text": [
      "Epoch [207/500], Loss: 0.0146\n",
      "Validation Loss: 0.0280 (RMSE: 0.1629).\n"
     ]
    },
    {
     "name": "stderr",
     "output_type": "stream",
     "text": [
      "Epoch 207: 100%|██████████| 14/14 [00:09<00:00,  1.44batch/s, loss=0.0133, rmse=0.12]\n"
     ]
    },
    {
     "name": "stdout",
     "output_type": "stream",
     "text": [
      "Calculating embeddings\n"
     ]
    },
    {
     "name": "stderr",
     "output_type": "stream",
     "text": [
      "6851it [00:03, 2113.97it/s]\n"
     ]
    },
    {
     "name": "stdout",
     "output_type": "stream",
     "text": [
      "Calculating similarity between embeddings\n"
     ]
    },
    {
     "name": "stderr",
     "output_type": "stream",
     "text": [
      "Selecting available inchikey pairs per bin: 10it [00:02,  4.89it/s]\n",
      "Selecting available inchikey pairs per bin: 10it [00:02,  4.89it/s]\n"
     ]
    },
    {
     "name": "stdout",
     "output_type": "stream",
     "text": [
      "Epoch [208/500], Loss: 0.0144\n",
      "Validation Loss: 0.0280 (RMSE: 0.1628).\n"
     ]
    },
    {
     "name": "stderr",
     "output_type": "stream",
     "text": [
      "Epoch 208: 100%|██████████| 14/14 [00:09<00:00,  1.41batch/s, loss=0.0163, rmse=0.121]\n"
     ]
    },
    {
     "name": "stdout",
     "output_type": "stream",
     "text": [
      "Calculating embeddings\n"
     ]
    },
    {
     "name": "stderr",
     "output_type": "stream",
     "text": [
      "6851it [00:02, 2522.78it/s]\n"
     ]
    },
    {
     "name": "stdout",
     "output_type": "stream",
     "text": [
      "Calculating similarity between embeddings\n"
     ]
    },
    {
     "name": "stderr",
     "output_type": "stream",
     "text": [
      "Selecting available inchikey pairs per bin: 10it [00:02,  4.84it/s]\n",
      "Selecting available inchikey pairs per bin: 10it [00:02,  4.86it/s]\n"
     ]
    },
    {
     "name": "stdout",
     "output_type": "stream",
     "text": [
      "Saving checkpoint model.\n",
      "Epoch [209/500], Loss: 0.0147\n",
      "Validation Loss: 0.0275 (RMSE: 0.1611).\n"
     ]
    },
    {
     "name": "stderr",
     "output_type": "stream",
     "text": [
      "Epoch 209: 100%|██████████| 14/14 [00:09<00:00,  1.47batch/s, loss=0.0129, rmse=0.117]\n"
     ]
    },
    {
     "name": "stdout",
     "output_type": "stream",
     "text": [
      "Calculating embeddings\n"
     ]
    },
    {
     "name": "stderr",
     "output_type": "stream",
     "text": [
      "6851it [00:02, 2490.87it/s]\n"
     ]
    },
    {
     "name": "stdout",
     "output_type": "stream",
     "text": [
      "Calculating similarity between embeddings\n"
     ]
    },
    {
     "name": "stderr",
     "output_type": "stream",
     "text": [
      "Selecting available inchikey pairs per bin: 10it [00:02,  4.81it/s]\n",
      "Selecting available inchikey pairs per bin: 10it [00:02,  4.90it/s]\n"
     ]
    },
    {
     "name": "stdout",
     "output_type": "stream",
     "text": [
      "Epoch [210/500], Loss: 0.0137\n",
      "Validation Loss: 0.0278 (RMSE: 0.1622).\n"
     ]
    },
    {
     "name": "stderr",
     "output_type": "stream",
     "text": [
      "Epoch 210: 100%|██████████| 14/14 [00:09<00:00,  1.47batch/s, loss=0.0139, rmse=0.117]\n"
     ]
    },
    {
     "name": "stdout",
     "output_type": "stream",
     "text": [
      "Calculating embeddings\n"
     ]
    },
    {
     "name": "stderr",
     "output_type": "stream",
     "text": [
      "6851it [00:02, 2501.74it/s]\n"
     ]
    },
    {
     "name": "stdout",
     "output_type": "stream",
     "text": [
      "Calculating similarity between embeddings\n"
     ]
    },
    {
     "name": "stderr",
     "output_type": "stream",
     "text": [
      "Selecting available inchikey pairs per bin: 10it [00:02,  4.95it/s]\n",
      "Selecting available inchikey pairs per bin: 10it [00:02,  4.94it/s]\n"
     ]
    },
    {
     "name": "stdout",
     "output_type": "stream",
     "text": [
      "Epoch [211/500], Loss: 0.0136\n",
      "Validation Loss: 0.0276 (RMSE: 0.1617).\n"
     ]
    },
    {
     "name": "stderr",
     "output_type": "stream",
     "text": [
      "Epoch 211: 100%|██████████| 14/14 [00:09<00:00,  1.48batch/s, loss=0.0126, rmse=0.119]\n"
     ]
    },
    {
     "name": "stdout",
     "output_type": "stream",
     "text": [
      "Calculating embeddings\n"
     ]
    },
    {
     "name": "stderr",
     "output_type": "stream",
     "text": [
      "6851it [00:03, 2210.21it/s]\n"
     ]
    },
    {
     "name": "stdout",
     "output_type": "stream",
     "text": [
      "Calculating similarity between embeddings\n"
     ]
    },
    {
     "name": "stderr",
     "output_type": "stream",
     "text": [
      "Selecting available inchikey pairs per bin: 10it [00:02,  4.85it/s]\n",
      "Selecting available inchikey pairs per bin: 10it [00:02,  4.90it/s]\n"
     ]
    },
    {
     "name": "stdout",
     "output_type": "stream",
     "text": [
      "Epoch [212/500], Loss: 0.0143\n",
      "Validation Loss: 0.0280 (RMSE: 0.1627).\n"
     ]
    },
    {
     "name": "stderr",
     "output_type": "stream",
     "text": [
      "Epoch 212: 100%|██████████| 14/14 [00:09<00:00,  1.52batch/s, loss=0.0131, rmse=0.118]\n"
     ]
    },
    {
     "name": "stdout",
     "output_type": "stream",
     "text": [
      "Calculating embeddings\n"
     ]
    },
    {
     "name": "stderr",
     "output_type": "stream",
     "text": [
      "6851it [00:02, 2526.53it/s]\n"
     ]
    },
    {
     "name": "stdout",
     "output_type": "stream",
     "text": [
      "Calculating similarity between embeddings\n"
     ]
    },
    {
     "name": "stderr",
     "output_type": "stream",
     "text": [
      "Selecting available inchikey pairs per bin: 10it [00:02,  4.93it/s]\n",
      "Selecting available inchikey pairs per bin: 10it [00:02,  4.92it/s]\n"
     ]
    },
    {
     "name": "stdout",
     "output_type": "stream",
     "text": [
      "Epoch [213/500], Loss: 0.0139\n",
      "Validation Loss: 0.0277 (RMSE: 0.1619).\n"
     ]
    },
    {
     "name": "stderr",
     "output_type": "stream",
     "text": [
      "Epoch 213: 100%|██████████| 14/14 [00:09<00:00,  1.53batch/s, loss=0.0113, rmse=0.119]\n"
     ]
    },
    {
     "name": "stdout",
     "output_type": "stream",
     "text": [
      "Calculating embeddings\n"
     ]
    },
    {
     "name": "stderr",
     "output_type": "stream",
     "text": [
      "6851it [00:02, 2576.02it/s]\n"
     ]
    },
    {
     "name": "stdout",
     "output_type": "stream",
     "text": [
      "Calculating similarity between embeddings\n"
     ]
    },
    {
     "name": "stderr",
     "output_type": "stream",
     "text": [
      "Selecting available inchikey pairs per bin: 10it [00:02,  4.91it/s]\n",
      "Selecting available inchikey pairs per bin: 10it [00:02,  4.93it/s]\n"
     ]
    },
    {
     "name": "stdout",
     "output_type": "stream",
     "text": [
      "Epoch [214/500], Loss: 0.0142\n",
      "Validation Loss: 0.0280 (RMSE: 0.1626).\n"
     ]
    },
    {
     "name": "stderr",
     "output_type": "stream",
     "text": [
      "Epoch 214: 100%|██████████| 14/14 [00:09<00:00,  1.40batch/s, loss=0.0122, rmse=0.116]\n"
     ]
    },
    {
     "name": "stdout",
     "output_type": "stream",
     "text": [
      "Calculating embeddings\n"
     ]
    },
    {
     "name": "stderr",
     "output_type": "stream",
     "text": [
      "6851it [00:02, 2474.80it/s]\n"
     ]
    },
    {
     "name": "stdout",
     "output_type": "stream",
     "text": [
      "Calculating similarity between embeddings\n"
     ]
    },
    {
     "name": "stderr",
     "output_type": "stream",
     "text": [
      "Selecting available inchikey pairs per bin: 10it [00:02,  4.86it/s]\n",
      "Selecting available inchikey pairs per bin: 10it [00:02,  4.87it/s]\n"
     ]
    },
    {
     "name": "stdout",
     "output_type": "stream",
     "text": [
      "Epoch [215/500], Loss: 0.0136\n",
      "Validation Loss: 0.0278 (RMSE: 0.1622).\n"
     ]
    },
    {
     "name": "stderr",
     "output_type": "stream",
     "text": [
      "Epoch 215: 100%|██████████| 14/14 [00:09<00:00,  1.53batch/s, loss=0.0144, rmse=0.118]\n"
     ]
    },
    {
     "name": "stdout",
     "output_type": "stream",
     "text": [
      "Calculating embeddings\n"
     ]
    },
    {
     "name": "stderr",
     "output_type": "stream",
     "text": [
      "6851it [00:02, 2541.93it/s]\n"
     ]
    },
    {
     "name": "stdout",
     "output_type": "stream",
     "text": [
      "Calculating similarity between embeddings\n"
     ]
    },
    {
     "name": "stderr",
     "output_type": "stream",
     "text": [
      "Selecting available inchikey pairs per bin: 10it [00:02,  4.59it/s]\n",
      "Selecting available inchikey pairs per bin: 10it [00:01,  5.02it/s]\n"
     ]
    },
    {
     "name": "stdout",
     "output_type": "stream",
     "text": [
      "Epoch [216/500], Loss: 0.0139\n",
      "Validation Loss: 0.0278 (RMSE: 0.1622).\n"
     ]
    },
    {
     "name": "stderr",
     "output_type": "stream",
     "text": [
      "Epoch 216: 100%|██████████| 14/14 [00:09<00:00,  1.47batch/s, loss=0.0144, rmse=0.118]\n"
     ]
    },
    {
     "name": "stdout",
     "output_type": "stream",
     "text": [
      "Calculating embeddings\n"
     ]
    },
    {
     "name": "stderr",
     "output_type": "stream",
     "text": [
      "6851it [00:02, 2465.38it/s]\n"
     ]
    },
    {
     "name": "stdout",
     "output_type": "stream",
     "text": [
      "Calculating similarity between embeddings\n"
     ]
    },
    {
     "name": "stderr",
     "output_type": "stream",
     "text": [
      "Selecting available inchikey pairs per bin: 10it [00:02,  4.97it/s]\n",
      "Selecting available inchikey pairs per bin: 10it [00:02,  4.99it/s]\n"
     ]
    },
    {
     "name": "stdout",
     "output_type": "stream",
     "text": [
      "Saving checkpoint model.\n",
      "Epoch [217/500], Loss: 0.0139\n",
      "Validation Loss: 0.0273 (RMSE: 0.1604).\n"
     ]
    },
    {
     "name": "stderr",
     "output_type": "stream",
     "text": [
      "Epoch 217: 100%|██████████| 14/14 [00:09<00:00,  1.47batch/s, loss=0.0122, rmse=0.118]\n"
     ]
    },
    {
     "name": "stdout",
     "output_type": "stream",
     "text": [
      "Calculating embeddings\n"
     ]
    },
    {
     "name": "stderr",
     "output_type": "stream",
     "text": [
      "6851it [00:03, 1960.56it/s]\n"
     ]
    },
    {
     "name": "stdout",
     "output_type": "stream",
     "text": [
      "Calculating similarity between embeddings\n"
     ]
    },
    {
     "name": "stderr",
     "output_type": "stream",
     "text": [
      "Selecting available inchikey pairs per bin: 10it [00:02,  4.82it/s]\n",
      "Selecting available inchikey pairs per bin: 10it [00:02,  4.90it/s]\n"
     ]
    },
    {
     "name": "stdout",
     "output_type": "stream",
     "text": [
      "Epoch [218/500], Loss: 0.0139\n",
      "Validation Loss: 0.0275 (RMSE: 0.1616).\n"
     ]
    },
    {
     "name": "stderr",
     "output_type": "stream",
     "text": [
      "Epoch 218: 100%|██████████| 14/14 [00:09<00:00,  1.44batch/s, loss=0.0117, rmse=0.118]\n"
     ]
    },
    {
     "name": "stdout",
     "output_type": "stream",
     "text": [
      "Calculating embeddings\n"
     ]
    },
    {
     "name": "stderr",
     "output_type": "stream",
     "text": [
      "6851it [00:02, 2412.08it/s]\n"
     ]
    },
    {
     "name": "stdout",
     "output_type": "stream",
     "text": [
      "Calculating similarity between embeddings\n"
     ]
    },
    {
     "name": "stderr",
     "output_type": "stream",
     "text": [
      "Selecting available inchikey pairs per bin: 10it [00:02,  4.78it/s]\n",
      "Selecting available inchikey pairs per bin: 10it [00:02,  4.83it/s]\n"
     ]
    },
    {
     "name": "stdout",
     "output_type": "stream",
     "text": [
      "Epoch [219/500], Loss: 0.0138\n",
      "Validation Loss: 0.0280 (RMSE: 0.1628).\n"
     ]
    },
    {
     "name": "stderr",
     "output_type": "stream",
     "text": [
      "Epoch 219: 100%|██████████| 14/14 [00:09<00:00,  1.44batch/s, loss=0.0132, rmse=0.12] \n"
     ]
    },
    {
     "name": "stdout",
     "output_type": "stream",
     "text": [
      "Calculating embeddings\n"
     ]
    },
    {
     "name": "stderr",
     "output_type": "stream",
     "text": [
      "6851it [00:03, 2275.05it/s]\n"
     ]
    },
    {
     "name": "stdout",
     "output_type": "stream",
     "text": [
      "Calculating similarity between embeddings\n"
     ]
    },
    {
     "name": "stderr",
     "output_type": "stream",
     "text": [
      "Selecting available inchikey pairs per bin: 10it [00:02,  4.87it/s]\n",
      "Selecting available inchikey pairs per bin: 10it [00:02,  4.91it/s]\n"
     ]
    },
    {
     "name": "stdout",
     "output_type": "stream",
     "text": [
      "Epoch [220/500], Loss: 0.0143\n",
      "Validation Loss: 0.0277 (RMSE: 0.1613).\n"
     ]
    },
    {
     "name": "stderr",
     "output_type": "stream",
     "text": [
      "Epoch 220: 100%|██████████| 14/14 [00:09<00:00,  1.47batch/s, loss=0.0146, rmse=0.119]\n"
     ]
    },
    {
     "name": "stdout",
     "output_type": "stream",
     "text": [
      "Calculating embeddings\n"
     ]
    },
    {
     "name": "stderr",
     "output_type": "stream",
     "text": [
      "6851it [00:02, 2507.69it/s]\n"
     ]
    },
    {
     "name": "stdout",
     "output_type": "stream",
     "text": [
      "Calculating similarity between embeddings\n"
     ]
    },
    {
     "name": "stderr",
     "output_type": "stream",
     "text": [
      "Selecting available inchikey pairs per bin: 10it [00:02,  4.97it/s]\n",
      "Selecting available inchikey pairs per bin: 10it [00:02,  4.95it/s]\n"
     ]
    },
    {
     "name": "stdout",
     "output_type": "stream",
     "text": [
      "Epoch [221/500], Loss: 0.0142\n",
      "Validation Loss: 0.0274 (RMSE: 0.1610).\n"
     ]
    },
    {
     "name": "stderr",
     "output_type": "stream",
     "text": [
      "Epoch 221: 100%|██████████| 14/14 [00:09<00:00,  1.47batch/s, loss=0.0137, rmse=0.119]\n"
     ]
    },
    {
     "name": "stdout",
     "output_type": "stream",
     "text": [
      "Calculating embeddings\n"
     ]
    },
    {
     "name": "stderr",
     "output_type": "stream",
     "text": [
      "6851it [00:02, 2505.65it/s]\n"
     ]
    },
    {
     "name": "stdout",
     "output_type": "stream",
     "text": [
      "Calculating similarity between embeddings\n"
     ]
    },
    {
     "name": "stderr",
     "output_type": "stream",
     "text": [
      "Selecting available inchikey pairs per bin: 10it [00:02,  4.94it/s]\n",
      "Selecting available inchikey pairs per bin: 10it [00:01,  5.02it/s]\n"
     ]
    },
    {
     "name": "stdout",
     "output_type": "stream",
     "text": [
      "Saving checkpoint model.\n",
      "Epoch [222/500], Loss: 0.0142\n",
      "Validation Loss: 0.0271 (RMSE: 0.1606).\n"
     ]
    },
    {
     "name": "stderr",
     "output_type": "stream",
     "text": [
      "Epoch 222: 100%|██████████| 14/14 [00:09<00:00,  1.49batch/s, loss=0.0134, rmse=0.117]\n"
     ]
    },
    {
     "name": "stdout",
     "output_type": "stream",
     "text": [
      "Calculating embeddings\n"
     ]
    },
    {
     "name": "stderr",
     "output_type": "stream",
     "text": [
      "6851it [00:02, 2501.71it/s]\n"
     ]
    },
    {
     "name": "stdout",
     "output_type": "stream",
     "text": [
      "Calculating similarity between embeddings\n"
     ]
    },
    {
     "name": "stderr",
     "output_type": "stream",
     "text": [
      "Selecting available inchikey pairs per bin: 10it [00:02,  4.85it/s]\n",
      "Selecting available inchikey pairs per bin: 10it [00:02,  4.87it/s]\n"
     ]
    },
    {
     "name": "stdout",
     "output_type": "stream",
     "text": [
      "Epoch [223/500], Loss: 0.0138\n",
      "Validation Loss: 0.0274 (RMSE: 0.1617).\n"
     ]
    },
    {
     "name": "stderr",
     "output_type": "stream",
     "text": [
      "Epoch 223: 100%|██████████| 14/14 [00:09<00:00,  1.51batch/s, loss=0.0143, rmse=0.117]\n"
     ]
    },
    {
     "name": "stdout",
     "output_type": "stream",
     "text": [
      "Calculating embeddings\n"
     ]
    },
    {
     "name": "stderr",
     "output_type": "stream",
     "text": [
      "6851it [00:02, 2511.07it/s]\n"
     ]
    },
    {
     "name": "stdout",
     "output_type": "stream",
     "text": [
      "Calculating similarity between embeddings\n"
     ]
    },
    {
     "name": "stderr",
     "output_type": "stream",
     "text": [
      "Selecting available inchikey pairs per bin: 10it [00:02,  4.92it/s]\n",
      "Selecting available inchikey pairs per bin: 10it [00:02,  4.96it/s]\n"
     ]
    },
    {
     "name": "stdout",
     "output_type": "stream",
     "text": [
      "Epoch [224/500], Loss: 0.0138\n",
      "Validation Loss: 0.0276 (RMSE: 0.1615).\n"
     ]
    },
    {
     "name": "stderr",
     "output_type": "stream",
     "text": [
      "Epoch 224: 100%|██████████| 14/14 [00:09<00:00,  1.47batch/s, loss=0.0143, rmse=0.116]\n"
     ]
    },
    {
     "name": "stdout",
     "output_type": "stream",
     "text": [
      "Calculating embeddings\n"
     ]
    },
    {
     "name": "stderr",
     "output_type": "stream",
     "text": [
      "6851it [00:03, 2133.32it/s]\n"
     ]
    },
    {
     "name": "stdout",
     "output_type": "stream",
     "text": [
      "Calculating similarity between embeddings\n"
     ]
    },
    {
     "name": "stderr",
     "output_type": "stream",
     "text": [
      "Selecting available inchikey pairs per bin: 10it [00:01,  5.06it/s]\n",
      "Selecting available inchikey pairs per bin: 10it [00:01,  5.04it/s]\n"
     ]
    },
    {
     "name": "stdout",
     "output_type": "stream",
     "text": [
      "Epoch [225/500], Loss: 0.0135\n",
      "Validation Loss: 0.0279 (RMSE: 0.1625).\n"
     ]
    },
    {
     "name": "stderr",
     "output_type": "stream",
     "text": [
      "Epoch 225: 100%|██████████| 14/14 [00:09<00:00,  1.51batch/s, loss=0.0138, rmse=0.119]\n"
     ]
    },
    {
     "name": "stdout",
     "output_type": "stream",
     "text": [
      "Calculating embeddings\n"
     ]
    },
    {
     "name": "stderr",
     "output_type": "stream",
     "text": [
      "6851it [00:03, 2151.79it/s]\n"
     ]
    },
    {
     "name": "stdout",
     "output_type": "stream",
     "text": [
      "Calculating similarity between embeddings\n"
     ]
    },
    {
     "name": "stderr",
     "output_type": "stream",
     "text": [
      "Selecting available inchikey pairs per bin: 10it [00:02,  4.85it/s]\n",
      "Selecting available inchikey pairs per bin: 10it [00:02,  4.89it/s]\n"
     ]
    },
    {
     "name": "stdout",
     "output_type": "stream",
     "text": [
      "Epoch [226/500], Loss: 0.0142\n",
      "Validation Loss: 0.0274 (RMSE: 0.1614).\n"
     ]
    },
    {
     "name": "stderr",
     "output_type": "stream",
     "text": [
      "Epoch 226: 100%|██████████| 14/14 [00:09<00:00,  1.50batch/s, loss=0.0147, rmse=0.119]\n"
     ]
    },
    {
     "name": "stdout",
     "output_type": "stream",
     "text": [
      "Calculating embeddings\n"
     ]
    },
    {
     "name": "stderr",
     "output_type": "stream",
     "text": [
      "6851it [00:03, 2201.62it/s]\n"
     ]
    },
    {
     "name": "stdout",
     "output_type": "stream",
     "text": [
      "Calculating similarity between embeddings\n"
     ]
    },
    {
     "name": "stderr",
     "output_type": "stream",
     "text": [
      "Selecting available inchikey pairs per bin: 10it [00:02,  4.85it/s]\n",
      "Selecting available inchikey pairs per bin: 10it [00:02,  4.87it/s]\n"
     ]
    },
    {
     "name": "stdout",
     "output_type": "stream",
     "text": [
      "Epoch [227/500], Loss: 0.0141\n",
      "Validation Loss: 0.0282 (RMSE: 0.1636).\n"
     ]
    },
    {
     "name": "stderr",
     "output_type": "stream",
     "text": [
      "Epoch 227: 100%|██████████| 14/14 [00:09<00:00,  1.45batch/s, loss=0.0147, rmse=0.115]\n"
     ]
    },
    {
     "name": "stdout",
     "output_type": "stream",
     "text": [
      "Calculating embeddings\n"
     ]
    },
    {
     "name": "stderr",
     "output_type": "stream",
     "text": [
      "6851it [00:02, 2440.31it/s]\n"
     ]
    },
    {
     "name": "stdout",
     "output_type": "stream",
     "text": [
      "Calculating similarity between embeddings\n"
     ]
    },
    {
     "name": "stderr",
     "output_type": "stream",
     "text": [
      "Selecting available inchikey pairs per bin: 10it [00:02,  4.86it/s]\n",
      "Selecting available inchikey pairs per bin: 10it [00:02,  4.88it/s]\n"
     ]
    },
    {
     "name": "stdout",
     "output_type": "stream",
     "text": [
      "Epoch [228/500], Loss: 0.0132\n",
      "Validation Loss: 0.0279 (RMSE: 0.1624).\n"
     ]
    },
    {
     "name": "stderr",
     "output_type": "stream",
     "text": [
      "Epoch 228: 100%|██████████| 14/14 [00:09<00:00,  1.51batch/s, loss=0.0122, rmse=0.116]\n"
     ]
    },
    {
     "name": "stdout",
     "output_type": "stream",
     "text": [
      "Calculating embeddings\n"
     ]
    },
    {
     "name": "stderr",
     "output_type": "stream",
     "text": [
      "6851it [00:03, 2116.00it/s]\n"
     ]
    },
    {
     "name": "stdout",
     "output_type": "stream",
     "text": [
      "Calculating similarity between embeddings\n"
     ]
    },
    {
     "name": "stderr",
     "output_type": "stream",
     "text": [
      "Selecting available inchikey pairs per bin: 10it [00:02,  4.98it/s]\n",
      "Selecting available inchikey pairs per bin: 10it [00:02,  4.92it/s]\n"
     ]
    },
    {
     "name": "stdout",
     "output_type": "stream",
     "text": [
      "Epoch [229/500], Loss: 0.0134\n",
      "Validation Loss: 0.0280 (RMSE: 0.1624).\n"
     ]
    },
    {
     "name": "stderr",
     "output_type": "stream",
     "text": [
      "Epoch 229: 100%|██████████| 14/14 [00:09<00:00,  1.51batch/s, loss=0.0123, rmse=0.121]\n"
     ]
    },
    {
     "name": "stdout",
     "output_type": "stream",
     "text": [
      "Calculating embeddings\n"
     ]
    },
    {
     "name": "stderr",
     "output_type": "stream",
     "text": [
      "6851it [00:02, 2463.11it/s]\n"
     ]
    },
    {
     "name": "stdout",
     "output_type": "stream",
     "text": [
      "Calculating similarity between embeddings\n"
     ]
    },
    {
     "name": "stderr",
     "output_type": "stream",
     "text": [
      "Selecting available inchikey pairs per bin: 10it [00:02,  4.68it/s]\n",
      "Selecting available inchikey pairs per bin: 10it [00:02,  4.88it/s]\n"
     ]
    },
    {
     "name": "stdout",
     "output_type": "stream",
     "text": [
      "Epoch [230/500], Loss: 0.0146\n",
      "Validation Loss: 0.0277 (RMSE: 0.1621).\n"
     ]
    },
    {
     "name": "stderr",
     "output_type": "stream",
     "text": [
      "Epoch 230: 100%|██████████| 14/14 [00:10<00:00,  1.29batch/s, loss=0.014, rmse=0.117] \n"
     ]
    },
    {
     "name": "stdout",
     "output_type": "stream",
     "text": [
      "Calculating embeddings\n"
     ]
    },
    {
     "name": "stderr",
     "output_type": "stream",
     "text": [
      "6851it [00:02, 2486.16it/s]\n"
     ]
    },
    {
     "name": "stdout",
     "output_type": "stream",
     "text": [
      "Calculating similarity between embeddings\n"
     ]
    },
    {
     "name": "stderr",
     "output_type": "stream",
     "text": [
      "Selecting available inchikey pairs per bin: 10it [00:02,  4.94it/s]\n",
      "Selecting available inchikey pairs per bin: 10it [00:02,  4.90it/s]\n"
     ]
    },
    {
     "name": "stdout",
     "output_type": "stream",
     "text": [
      "Epoch [231/500], Loss: 0.0136\n",
      "Validation Loss: 0.0280 (RMSE: 0.1631).\n"
     ]
    },
    {
     "name": "stderr",
     "output_type": "stream",
     "text": [
      "Epoch 231: 100%|██████████| 14/14 [00:09<00:00,  1.49batch/s, loss=0.0139, rmse=0.115]\n"
     ]
    },
    {
     "name": "stdout",
     "output_type": "stream",
     "text": [
      "Calculating embeddings\n"
     ]
    },
    {
     "name": "stderr",
     "output_type": "stream",
     "text": [
      "6851it [00:02, 2540.37it/s]\n"
     ]
    },
    {
     "name": "stdout",
     "output_type": "stream",
     "text": [
      "Calculating similarity between embeddings\n"
     ]
    },
    {
     "name": "stderr",
     "output_type": "stream",
     "text": [
      "Selecting available inchikey pairs per bin: 10it [00:02,  4.92it/s]\n",
      "Selecting available inchikey pairs per bin: 10it [00:02,  4.93it/s]\n"
     ]
    },
    {
     "name": "stdout",
     "output_type": "stream",
     "text": [
      "Epoch [232/500], Loss: 0.0134\n",
      "Validation Loss: 0.0279 (RMSE: 0.1621).\n"
     ]
    },
    {
     "name": "stderr",
     "output_type": "stream",
     "text": [
      "Epoch 232: 100%|██████████| 14/14 [00:10<00:00,  1.39batch/s, loss=0.014, rmse=0.117] \n"
     ]
    },
    {
     "name": "stdout",
     "output_type": "stream",
     "text": [
      "Calculating embeddings\n"
     ]
    },
    {
     "name": "stderr",
     "output_type": "stream",
     "text": [
      "6851it [00:02, 2391.24it/s]\n"
     ]
    },
    {
     "name": "stdout",
     "output_type": "stream",
     "text": [
      "Calculating similarity between embeddings\n"
     ]
    },
    {
     "name": "stderr",
     "output_type": "stream",
     "text": [
      "Selecting available inchikey pairs per bin: 10it [00:02,  4.92it/s]\n",
      "Selecting available inchikey pairs per bin: 10it [00:02,  4.91it/s]\n"
     ]
    },
    {
     "name": "stdout",
     "output_type": "stream",
     "text": [
      "Epoch [233/500], Loss: 0.0138\n",
      "Validation Loss: 0.0275 (RMSE: 0.1615).\n"
     ]
    },
    {
     "name": "stderr",
     "output_type": "stream",
     "text": [
      "Epoch 233: 100%|██████████| 14/14 [00:09<00:00,  1.52batch/s, loss=0.0155, rmse=0.115]\n"
     ]
    },
    {
     "name": "stdout",
     "output_type": "stream",
     "text": [
      "Calculating embeddings\n"
     ]
    },
    {
     "name": "stderr",
     "output_type": "stream",
     "text": [
      "6851it [00:02, 2498.37it/s]\n"
     ]
    },
    {
     "name": "stdout",
     "output_type": "stream",
     "text": [
      "Calculating similarity between embeddings\n"
     ]
    },
    {
     "name": "stderr",
     "output_type": "stream",
     "text": [
      "Selecting available inchikey pairs per bin: 10it [00:02,  4.86it/s]\n",
      "Selecting available inchikey pairs per bin: 10it [00:02,  4.88it/s]\n"
     ]
    },
    {
     "name": "stdout",
     "output_type": "stream",
     "text": [
      "Saving checkpoint model.\n",
      "Epoch [234/500], Loss: 0.0133\n",
      "Validation Loss: 0.0269 (RMSE: 0.1597).\n"
     ]
    },
    {
     "name": "stderr",
     "output_type": "stream",
     "text": [
      "Epoch 234: 100%|██████████| 14/14 [00:09<00:00,  1.41batch/s, loss=0.0147, rmse=0.119]\n"
     ]
    },
    {
     "name": "stdout",
     "output_type": "stream",
     "text": [
      "Calculating embeddings\n"
     ]
    },
    {
     "name": "stderr",
     "output_type": "stream",
     "text": [
      "6851it [00:02, 2375.11it/s]\n"
     ]
    },
    {
     "name": "stdout",
     "output_type": "stream",
     "text": [
      "Calculating similarity between embeddings\n"
     ]
    },
    {
     "name": "stderr",
     "output_type": "stream",
     "text": [
      "Selecting available inchikey pairs per bin: 10it [00:02,  4.91it/s]\n",
      "Selecting available inchikey pairs per bin: 10it [00:02,  4.92it/s]\n"
     ]
    },
    {
     "name": "stdout",
     "output_type": "stream",
     "text": [
      "Saving checkpoint model.\n",
      "Epoch [235/500], Loss: 0.0141\n",
      "Validation Loss: 0.0264 (RMSE: 0.1584).\n"
     ]
    },
    {
     "name": "stderr",
     "output_type": "stream",
     "text": [
      "Epoch 235: 100%|██████████| 14/14 [00:09<00:00,  1.47batch/s, loss=0.0123, rmse=0.113]\n"
     ]
    },
    {
     "name": "stdout",
     "output_type": "stream",
     "text": [
      "Calculating embeddings\n"
     ]
    },
    {
     "name": "stderr",
     "output_type": "stream",
     "text": [
      "6851it [00:03, 2225.43it/s]\n"
     ]
    },
    {
     "name": "stdout",
     "output_type": "stream",
     "text": [
      "Calculating similarity between embeddings\n"
     ]
    },
    {
     "name": "stderr",
     "output_type": "stream",
     "text": [
      "Selecting available inchikey pairs per bin: 10it [00:02,  4.41it/s]\n",
      "Selecting available inchikey pairs per bin: 10it [00:01,  5.04it/s]\n"
     ]
    },
    {
     "name": "stdout",
     "output_type": "stream",
     "text": [
      "Epoch [236/500], Loss: 0.0129\n",
      "Validation Loss: 0.0287 (RMSE: 0.1643).\n"
     ]
    },
    {
     "name": "stderr",
     "output_type": "stream",
     "text": [
      "Epoch 236: 100%|██████████| 14/14 [00:09<00:00,  1.41batch/s, loss=0.0134, rmse=0.116]\n"
     ]
    },
    {
     "name": "stdout",
     "output_type": "stream",
     "text": [
      "Calculating embeddings\n"
     ]
    },
    {
     "name": "stderr",
     "output_type": "stream",
     "text": [
      "6851it [00:03, 1954.53it/s]\n"
     ]
    },
    {
     "name": "stdout",
     "output_type": "stream",
     "text": [
      "Calculating similarity between embeddings\n"
     ]
    },
    {
     "name": "stderr",
     "output_type": "stream",
     "text": [
      "Selecting available inchikey pairs per bin: 10it [00:02,  4.79it/s]\n",
      "Selecting available inchikey pairs per bin: 10it [00:02,  4.68it/s]\n"
     ]
    },
    {
     "name": "stdout",
     "output_type": "stream",
     "text": [
      "Epoch [237/500], Loss: 0.0136\n",
      "Validation Loss: 0.0279 (RMSE: 0.1622).\n"
     ]
    },
    {
     "name": "stderr",
     "output_type": "stream",
     "text": [
      "Epoch 237: 100%|██████████| 14/14 [00:10<00:00,  1.37batch/s, loss=0.0126, rmse=0.116]\n"
     ]
    },
    {
     "name": "stdout",
     "output_type": "stream",
     "text": [
      "Calculating embeddings\n"
     ]
    },
    {
     "name": "stderr",
     "output_type": "stream",
     "text": [
      "6851it [00:03, 2181.65it/s]\n"
     ]
    },
    {
     "name": "stdout",
     "output_type": "stream",
     "text": [
      "Calculating similarity between embeddings\n"
     ]
    },
    {
     "name": "stderr",
     "output_type": "stream",
     "text": [
      "Selecting available inchikey pairs per bin: 10it [00:02,  4.90it/s]\n",
      "Selecting available inchikey pairs per bin: 10it [00:02,  4.85it/s]\n"
     ]
    },
    {
     "name": "stdout",
     "output_type": "stream",
     "text": [
      "Epoch [238/500], Loss: 0.0135\n",
      "Validation Loss: 0.0277 (RMSE: 0.1619).\n"
     ]
    },
    {
     "name": "stderr",
     "output_type": "stream",
     "text": [
      "Epoch 238: 100%|██████████| 14/14 [00:09<00:00,  1.47batch/s, loss=0.0135, rmse=0.117]\n"
     ]
    },
    {
     "name": "stdout",
     "output_type": "stream",
     "text": [
      "Calculating embeddings\n"
     ]
    },
    {
     "name": "stderr",
     "output_type": "stream",
     "text": [
      "6851it [00:03, 2185.57it/s]\n"
     ]
    },
    {
     "name": "stdout",
     "output_type": "stream",
     "text": [
      "Calculating similarity between embeddings\n"
     ]
    },
    {
     "name": "stderr",
     "output_type": "stream",
     "text": [
      "Selecting available inchikey pairs per bin: 10it [00:02,  4.84it/s]\n",
      "Selecting available inchikey pairs per bin: 10it [00:02,  4.88it/s]\n"
     ]
    },
    {
     "name": "stdout",
     "output_type": "stream",
     "text": [
      "Epoch [239/500], Loss: 0.0136\n",
      "Validation Loss: 0.0272 (RMSE: 0.1607).\n"
     ]
    },
    {
     "name": "stderr",
     "output_type": "stream",
     "text": [
      "Epoch 239: 100%|██████████| 14/14 [00:09<00:00,  1.45batch/s, loss=0.014, rmse=0.114] \n"
     ]
    },
    {
     "name": "stdout",
     "output_type": "stream",
     "text": [
      "Calculating embeddings\n"
     ]
    },
    {
     "name": "stderr",
     "output_type": "stream",
     "text": [
      "6851it [00:02, 2368.05it/s]\n"
     ]
    },
    {
     "name": "stdout",
     "output_type": "stream",
     "text": [
      "Calculating similarity between embeddings\n"
     ]
    },
    {
     "name": "stderr",
     "output_type": "stream",
     "text": [
      "Selecting available inchikey pairs per bin: 10it [00:02,  4.92it/s]\n",
      "Selecting available inchikey pairs per bin: 10it [00:02,  4.48it/s]\n"
     ]
    },
    {
     "name": "stdout",
     "output_type": "stream",
     "text": [
      "Epoch [240/500], Loss: 0.0130\n",
      "Validation Loss: 0.0270 (RMSE: 0.1602).\n"
     ]
    },
    {
     "name": "stderr",
     "output_type": "stream",
     "text": [
      "Epoch 240: 100%|██████████| 14/14 [00:09<00:00,  1.46batch/s, loss=0.013, rmse=0.116] \n"
     ]
    },
    {
     "name": "stdout",
     "output_type": "stream",
     "text": [
      "Calculating embeddings\n"
     ]
    },
    {
     "name": "stderr",
     "output_type": "stream",
     "text": [
      "6851it [00:03, 2250.76it/s]\n"
     ]
    },
    {
     "name": "stdout",
     "output_type": "stream",
     "text": [
      "Calculating similarity between embeddings\n"
     ]
    },
    {
     "name": "stderr",
     "output_type": "stream",
     "text": [
      "Selecting available inchikey pairs per bin: 10it [00:02,  4.98it/s]\n",
      "Selecting available inchikey pairs per bin: 10it [00:01,  5.01it/s]\n"
     ]
    },
    {
     "name": "stdout",
     "output_type": "stream",
     "text": [
      "Epoch [241/500], Loss: 0.0134\n",
      "Validation Loss: 0.0268 (RMSE: 0.1594).\n"
     ]
    },
    {
     "name": "stderr",
     "output_type": "stream",
     "text": [
      "Epoch 241: 100%|██████████| 14/14 [00:09<00:00,  1.40batch/s, loss=0.0107, rmse=0.116]\n"
     ]
    },
    {
     "name": "stdout",
     "output_type": "stream",
     "text": [
      "Calculating embeddings\n"
     ]
    },
    {
     "name": "stderr",
     "output_type": "stream",
     "text": [
      "6851it [00:02, 2511.38it/s]\n"
     ]
    },
    {
     "name": "stdout",
     "output_type": "stream",
     "text": [
      "Calculating similarity between embeddings\n"
     ]
    },
    {
     "name": "stderr",
     "output_type": "stream",
     "text": [
      "Selecting available inchikey pairs per bin: 10it [00:02,  4.86it/s]\n",
      "Selecting available inchikey pairs per bin: 10it [00:02,  4.91it/s]\n"
     ]
    },
    {
     "name": "stdout",
     "output_type": "stream",
     "text": [
      "Epoch [242/500], Loss: 0.0135\n",
      "Validation Loss: 0.0270 (RMSE: 0.1599).\n"
     ]
    },
    {
     "name": "stderr",
     "output_type": "stream",
     "text": [
      "Epoch 242: 100%|██████████| 14/14 [00:09<00:00,  1.48batch/s, loss=0.0156, rmse=0.118]\n"
     ]
    },
    {
     "name": "stdout",
     "output_type": "stream",
     "text": [
      "Calculating embeddings\n"
     ]
    },
    {
     "name": "stderr",
     "output_type": "stream",
     "text": [
      "6851it [00:02, 2517.06it/s]\n"
     ]
    },
    {
     "name": "stdout",
     "output_type": "stream",
     "text": [
      "Calculating similarity between embeddings\n"
     ]
    },
    {
     "name": "stderr",
     "output_type": "stream",
     "text": [
      "Selecting available inchikey pairs per bin: 10it [00:01,  5.05it/s]\n",
      "Selecting available inchikey pairs per bin: 10it [00:02,  5.00it/s]\n"
     ]
    },
    {
     "name": "stdout",
     "output_type": "stream",
     "text": [
      "Epoch [243/500], Loss: 0.0138\n",
      "Validation Loss: 0.0267 (RMSE: 0.1595).\n"
     ]
    },
    {
     "name": "stderr",
     "output_type": "stream",
     "text": [
      "Epoch 243: 100%|██████████| 14/14 [00:09<00:00,  1.49batch/s, loss=0.0113, rmse=0.112]\n"
     ]
    },
    {
     "name": "stdout",
     "output_type": "stream",
     "text": [
      "Calculating embeddings\n"
     ]
    },
    {
     "name": "stderr",
     "output_type": "stream",
     "text": [
      "6851it [00:02, 2495.19it/s]\n"
     ]
    },
    {
     "name": "stdout",
     "output_type": "stream",
     "text": [
      "Calculating similarity between embeddings\n"
     ]
    },
    {
     "name": "stderr",
     "output_type": "stream",
     "text": [
      "Selecting available inchikey pairs per bin: 10it [00:02,  4.95it/s]\n",
      "Selecting available inchikey pairs per bin: 10it [00:02,  4.63it/s]\n"
     ]
    },
    {
     "name": "stdout",
     "output_type": "stream",
     "text": [
      "Epoch [244/500], Loss: 0.0127\n",
      "Validation Loss: 0.0268 (RMSE: 0.1589).\n"
     ]
    },
    {
     "name": "stderr",
     "output_type": "stream",
     "text": [
      "Epoch 244: 100%|██████████| 14/14 [00:09<00:00,  1.48batch/s, loss=0.0141, rmse=0.115]\n"
     ]
    },
    {
     "name": "stdout",
     "output_type": "stream",
     "text": [
      "Calculating embeddings\n"
     ]
    },
    {
     "name": "stderr",
     "output_type": "stream",
     "text": [
      "6851it [00:02, 2539.55it/s]\n"
     ]
    },
    {
     "name": "stdout",
     "output_type": "stream",
     "text": [
      "Calculating similarity between embeddings\n"
     ]
    },
    {
     "name": "stderr",
     "output_type": "stream",
     "text": [
      "Selecting available inchikey pairs per bin: 10it [00:01,  5.02it/s]\n",
      "Selecting available inchikey pairs per bin: 10it [00:02,  4.96it/s]\n"
     ]
    },
    {
     "name": "stdout",
     "output_type": "stream",
     "text": [
      "Epoch [245/500], Loss: 0.0132\n",
      "Validation Loss: 0.0269 (RMSE: 0.1597).\n"
     ]
    },
    {
     "name": "stderr",
     "output_type": "stream",
     "text": [
      "Epoch 245: 100%|██████████| 14/14 [00:09<00:00,  1.48batch/s, loss=0.0123, rmse=0.116]\n"
     ]
    },
    {
     "name": "stdout",
     "output_type": "stream",
     "text": [
      "Calculating embeddings\n"
     ]
    },
    {
     "name": "stderr",
     "output_type": "stream",
     "text": [
      "6851it [00:02, 2427.54it/s]\n"
     ]
    },
    {
     "name": "stdout",
     "output_type": "stream",
     "text": [
      "Calculating similarity between embeddings\n"
     ]
    },
    {
     "name": "stderr",
     "output_type": "stream",
     "text": [
      "Selecting available inchikey pairs per bin: 10it [00:02,  4.76it/s]\n",
      "Selecting available inchikey pairs per bin: 10it [00:02,  4.90it/s]\n"
     ]
    },
    {
     "name": "stdout",
     "output_type": "stream",
     "text": [
      "Epoch [246/500], Loss: 0.0135\n",
      "Validation Loss: 0.0271 (RMSE: 0.1599).\n"
     ]
    },
    {
     "name": "stderr",
     "output_type": "stream",
     "text": [
      "Epoch 246: 100%|██████████| 14/14 [00:09<00:00,  1.45batch/s, loss=0.0105, rmse=0.113]\n"
     ]
    },
    {
     "name": "stdout",
     "output_type": "stream",
     "text": [
      "Calculating embeddings\n"
     ]
    },
    {
     "name": "stderr",
     "output_type": "stream",
     "text": [
      "6851it [00:03, 2238.22it/s]\n"
     ]
    },
    {
     "name": "stdout",
     "output_type": "stream",
     "text": [
      "Calculating similarity between embeddings\n"
     ]
    },
    {
     "name": "stderr",
     "output_type": "stream",
     "text": [
      "Selecting available inchikey pairs per bin: 10it [00:01,  5.00it/s]\n",
      "Selecting available inchikey pairs per bin: 10it [00:02,  4.97it/s]\n"
     ]
    },
    {
     "name": "stdout",
     "output_type": "stream",
     "text": [
      "Epoch [247/500], Loss: 0.0129\n",
      "Validation Loss: 0.0265 (RMSE: 0.1584).\n"
     ]
    },
    {
     "name": "stderr",
     "output_type": "stream",
     "text": [
      "Epoch 247: 100%|██████████| 14/14 [00:09<00:00,  1.48batch/s, loss=0.0128, rmse=0.114]\n"
     ]
    },
    {
     "name": "stdout",
     "output_type": "stream",
     "text": [
      "Calculating embeddings\n"
     ]
    },
    {
     "name": "stderr",
     "output_type": "stream",
     "text": [
      "6851it [00:03, 2081.56it/s]\n"
     ]
    },
    {
     "name": "stdout",
     "output_type": "stream",
     "text": [
      "Calculating similarity between embeddings\n"
     ]
    },
    {
     "name": "stderr",
     "output_type": "stream",
     "text": [
      "Selecting available inchikey pairs per bin: 10it [00:02,  4.36it/s]\n",
      "Selecting available inchikey pairs per bin: 10it [00:02,  4.89it/s]\n"
     ]
    },
    {
     "name": "stdout",
     "output_type": "stream",
     "text": [
      "Epoch [248/500], Loss: 0.0130\n",
      "Validation Loss: 0.0272 (RMSE: 0.1603).\n"
     ]
    },
    {
     "name": "stderr",
     "output_type": "stream",
     "text": [
      "Epoch 248: 100%|██████████| 14/14 [00:09<00:00,  1.47batch/s, loss=0.0135, rmse=0.114]\n"
     ]
    },
    {
     "name": "stdout",
     "output_type": "stream",
     "text": [
      "Calculating embeddings\n"
     ]
    },
    {
     "name": "stderr",
     "output_type": "stream",
     "text": [
      "6851it [00:02, 2508.29it/s]\n"
     ]
    },
    {
     "name": "stdout",
     "output_type": "stream",
     "text": [
      "Calculating similarity between embeddings\n"
     ]
    },
    {
     "name": "stderr",
     "output_type": "stream",
     "text": [
      "Selecting available inchikey pairs per bin: 10it [00:02,  4.84it/s]\n",
      "Selecting available inchikey pairs per bin: 10it [00:02,  4.22it/s]\n"
     ]
    },
    {
     "name": "stdout",
     "output_type": "stream",
     "text": [
      "Saving checkpoint model.\n",
      "Epoch [249/500], Loss: 0.0131\n",
      "Validation Loss: 0.0260 (RMSE: 0.1571).\n"
     ]
    },
    {
     "name": "stderr",
     "output_type": "stream",
     "text": [
      "Epoch 249: 100%|██████████| 14/14 [00:10<00:00,  1.39batch/s, loss=0.0122, rmse=0.114]\n"
     ]
    },
    {
     "name": "stdout",
     "output_type": "stream",
     "text": [
      "Calculating embeddings\n"
     ]
    },
    {
     "name": "stderr",
     "output_type": "stream",
     "text": [
      "6851it [00:02, 2351.61it/s]\n"
     ]
    },
    {
     "name": "stdout",
     "output_type": "stream",
     "text": [
      "Calculating similarity between embeddings\n"
     ]
    },
    {
     "name": "stderr",
     "output_type": "stream",
     "text": [
      "Selecting available inchikey pairs per bin: 10it [00:02,  4.35it/s]\n",
      "Selecting available inchikey pairs per bin: 10it [00:02,  4.95it/s]\n"
     ]
    },
    {
     "name": "stdout",
     "output_type": "stream",
     "text": [
      "Epoch [250/500], Loss: 0.0129\n",
      "Validation Loss: 0.0267 (RMSE: 0.1592).\n"
     ]
    },
    {
     "name": "stderr",
     "output_type": "stream",
     "text": [
      "Epoch 250: 100%|██████████| 14/14 [00:10<00:00,  1.38batch/s, loss=0.0125, rmse=0.114]\n"
     ]
    },
    {
     "name": "stdout",
     "output_type": "stream",
     "text": [
      "Calculating embeddings\n"
     ]
    },
    {
     "name": "stderr",
     "output_type": "stream",
     "text": [
      "6851it [00:03, 2195.99it/s]\n"
     ]
    },
    {
     "name": "stdout",
     "output_type": "stream",
     "text": [
      "Calculating similarity between embeddings\n"
     ]
    },
    {
     "name": "stderr",
     "output_type": "stream",
     "text": [
      "Selecting available inchikey pairs per bin: 10it [00:02,  4.97it/s]\n",
      "Selecting available inchikey pairs per bin: 10it [00:02,  3.76it/s]\n"
     ]
    },
    {
     "name": "stdout",
     "output_type": "stream",
     "text": [
      "Epoch [251/500], Loss: 0.0129\n",
      "Validation Loss: 0.0270 (RMSE: 0.1595).\n"
     ]
    },
    {
     "name": "stderr",
     "output_type": "stream",
     "text": [
      "Epoch 251: 100%|██████████| 14/14 [00:10<00:00,  1.38batch/s, loss=0.0134, rmse=0.117]\n"
     ]
    },
    {
     "name": "stdout",
     "output_type": "stream",
     "text": [
      "Calculating embeddings\n"
     ]
    },
    {
     "name": "stderr",
     "output_type": "stream",
     "text": [
      "6851it [00:02, 2308.81it/s]\n"
     ]
    },
    {
     "name": "stdout",
     "output_type": "stream",
     "text": [
      "Calculating similarity between embeddings\n"
     ]
    },
    {
     "name": "stderr",
     "output_type": "stream",
     "text": [
      "Selecting available inchikey pairs per bin: 10it [00:02,  4.79it/s]\n",
      "Selecting available inchikey pairs per bin: 10it [00:02,  4.27it/s]\n"
     ]
    },
    {
     "name": "stdout",
     "output_type": "stream",
     "text": [
      "Epoch [252/500], Loss: 0.0136\n",
      "Validation Loss: 0.0272 (RMSE: 0.1605).\n"
     ]
    },
    {
     "name": "stderr",
     "output_type": "stream",
     "text": [
      "Epoch 252: 100%|██████████| 14/14 [00:09<00:00,  1.51batch/s, loss=0.0116, rmse=0.112]\n"
     ]
    },
    {
     "name": "stdout",
     "output_type": "stream",
     "text": [
      "Calculating embeddings\n"
     ]
    },
    {
     "name": "stderr",
     "output_type": "stream",
     "text": [
      "6851it [00:03, 2282.80it/s]\n"
     ]
    },
    {
     "name": "stdout",
     "output_type": "stream",
     "text": [
      "Calculating similarity between embeddings\n"
     ]
    },
    {
     "name": "stderr",
     "output_type": "stream",
     "text": [
      "Selecting available inchikey pairs per bin: 10it [00:02,  4.77it/s]\n",
      "Selecting available inchikey pairs per bin: 10it [00:02,  4.76it/s]\n"
     ]
    },
    {
     "name": "stdout",
     "output_type": "stream",
     "text": [
      "Epoch [253/500], Loss: 0.0125\n",
      "Validation Loss: 0.0263 (RMSE: 0.1580).\n"
     ]
    },
    {
     "name": "stderr",
     "output_type": "stream",
     "text": [
      "Epoch 253: 100%|██████████| 14/14 [00:10<00:00,  1.32batch/s, loss=0.0113, rmse=0.112]\n"
     ]
    },
    {
     "name": "stdout",
     "output_type": "stream",
     "text": [
      "Calculating embeddings\n"
     ]
    },
    {
     "name": "stderr",
     "output_type": "stream",
     "text": [
      "6851it [00:02, 2408.99it/s]\n"
     ]
    },
    {
     "name": "stdout",
     "output_type": "stream",
     "text": [
      "Calculating similarity between embeddings\n"
     ]
    },
    {
     "name": "stderr",
     "output_type": "stream",
     "text": [
      "Selecting available inchikey pairs per bin: 10it [00:02,  4.78it/s]\n",
      "Selecting available inchikey pairs per bin: 10it [00:02,  4.56it/s]\n"
     ]
    },
    {
     "name": "stdout",
     "output_type": "stream",
     "text": [
      "Epoch [254/500], Loss: 0.0125\n",
      "Validation Loss: 0.0267 (RMSE: 0.1589).\n"
     ]
    },
    {
     "name": "stderr",
     "output_type": "stream",
     "text": [
      "Epoch 254: 100%|██████████| 14/14 [00:10<00:00,  1.35batch/s, loss=0.0134, rmse=0.112]\n"
     ]
    },
    {
     "name": "stdout",
     "output_type": "stream",
     "text": [
      "Calculating embeddings\n"
     ]
    },
    {
     "name": "stderr",
     "output_type": "stream",
     "text": [
      "6851it [00:03, 2085.98it/s]\n"
     ]
    },
    {
     "name": "stdout",
     "output_type": "stream",
     "text": [
      "Calculating similarity between embeddings\n"
     ]
    },
    {
     "name": "stderr",
     "output_type": "stream",
     "text": [
      "Selecting available inchikey pairs per bin: 10it [00:02,  4.85it/s]\n",
      "Selecting available inchikey pairs per bin: 10it [00:02,  4.80it/s]\n"
     ]
    },
    {
     "name": "stdout",
     "output_type": "stream",
     "text": [
      "Epoch [255/500], Loss: 0.0125\n",
      "Validation Loss: 0.0266 (RMSE: 0.1586).\n"
     ]
    },
    {
     "name": "stderr",
     "output_type": "stream",
     "text": [
      "Epoch 255: 100%|██████████| 14/14 [00:10<00:00,  1.38batch/s, loss=0.0132, rmse=0.114]\n"
     ]
    },
    {
     "name": "stdout",
     "output_type": "stream",
     "text": [
      "Calculating embeddings\n"
     ]
    },
    {
     "name": "stderr",
     "output_type": "stream",
     "text": [
      "6851it [00:02, 2529.73it/s]\n"
     ]
    },
    {
     "name": "stdout",
     "output_type": "stream",
     "text": [
      "Calculating similarity between embeddings\n"
     ]
    },
    {
     "name": "stderr",
     "output_type": "stream",
     "text": [
      "Selecting available inchikey pairs per bin: 10it [00:02,  4.86it/s]\n",
      "Selecting available inchikey pairs per bin: 10it [00:02,  4.87it/s]\n"
     ]
    },
    {
     "name": "stdout",
     "output_type": "stream",
     "text": [
      "Epoch [256/500], Loss: 0.0130\n",
      "Validation Loss: 0.0265 (RMSE: 0.1587).\n"
     ]
    },
    {
     "name": "stderr",
     "output_type": "stream",
     "text": [
      "Epoch 256: 100%|██████████| 14/14 [00:09<00:00,  1.41batch/s, loss=0.0119, rmse=0.11] \n"
     ]
    },
    {
     "name": "stdout",
     "output_type": "stream",
     "text": [
      "Calculating embeddings\n"
     ]
    },
    {
     "name": "stderr",
     "output_type": "stream",
     "text": [
      "6851it [00:02, 2425.29it/s]\n"
     ]
    },
    {
     "name": "stdout",
     "output_type": "stream",
     "text": [
      "Calculating similarity between embeddings\n"
     ]
    },
    {
     "name": "stderr",
     "output_type": "stream",
     "text": [
      "Selecting available inchikey pairs per bin: 10it [00:02,  4.95it/s]\n",
      "Selecting available inchikey pairs per bin: 10it [00:02,  4.98it/s]\n"
     ]
    },
    {
     "name": "stdout",
     "output_type": "stream",
     "text": [
      "Epoch [257/500], Loss: 0.0121\n",
      "Validation Loss: 0.0270 (RMSE: 0.1598).\n"
     ]
    },
    {
     "name": "stderr",
     "output_type": "stream",
     "text": [
      "Epoch 257: 100%|██████████| 14/14 [00:10<00:00,  1.39batch/s, loss=0.0137, rmse=0.115]\n"
     ]
    },
    {
     "name": "stdout",
     "output_type": "stream",
     "text": [
      "Calculating embeddings\n"
     ]
    },
    {
     "name": "stderr",
     "output_type": "stream",
     "text": [
      "6851it [00:02, 2386.38it/s]\n"
     ]
    },
    {
     "name": "stdout",
     "output_type": "stream",
     "text": [
      "Calculating similarity between embeddings\n"
     ]
    },
    {
     "name": "stderr",
     "output_type": "stream",
     "text": [
      "Selecting available inchikey pairs per bin: 10it [00:02,  4.91it/s]\n",
      "Selecting available inchikey pairs per bin: 10it [00:02,  4.93it/s]\n"
     ]
    },
    {
     "name": "stdout",
     "output_type": "stream",
     "text": [
      "Epoch [258/500], Loss: 0.0132\n",
      "Validation Loss: 0.0265 (RMSE: 0.1586).\n"
     ]
    },
    {
     "name": "stderr",
     "output_type": "stream",
     "text": [
      "Epoch 258: 100%|██████████| 14/14 [00:10<00:00,  1.39batch/s, loss=0.0118, rmse=0.112]\n"
     ]
    },
    {
     "name": "stdout",
     "output_type": "stream",
     "text": [
      "Calculating embeddings\n"
     ]
    },
    {
     "name": "stderr",
     "output_type": "stream",
     "text": [
      "6851it [00:03, 2106.60it/s]\n"
     ]
    },
    {
     "name": "stdout",
     "output_type": "stream",
     "text": [
      "Calculating similarity between embeddings\n"
     ]
    },
    {
     "name": "stderr",
     "output_type": "stream",
     "text": [
      "Selecting available inchikey pairs per bin: 10it [00:02,  4.79it/s]\n",
      "Selecting available inchikey pairs per bin: 10it [00:02,  4.80it/s]\n"
     ]
    },
    {
     "name": "stdout",
     "output_type": "stream",
     "text": [
      "Epoch [259/500], Loss: 0.0127\n",
      "Validation Loss: 0.0274 (RMSE: 0.1606).\n"
     ]
    },
    {
     "name": "stderr",
     "output_type": "stream",
     "text": [
      "Epoch 259: 100%|██████████| 14/14 [00:09<00:00,  1.40batch/s, loss=0.0127, rmse=0.111]\n"
     ]
    },
    {
     "name": "stdout",
     "output_type": "stream",
     "text": [
      "Calculating embeddings\n"
     ]
    },
    {
     "name": "stderr",
     "output_type": "stream",
     "text": [
      "6851it [00:02, 2299.84it/s]\n"
     ]
    },
    {
     "name": "stdout",
     "output_type": "stream",
     "text": [
      "Calculating similarity between embeddings\n"
     ]
    },
    {
     "name": "stderr",
     "output_type": "stream",
     "text": [
      "Selecting available inchikey pairs per bin: 10it [00:02,  4.76it/s]\n",
      "Selecting available inchikey pairs per bin: 10it [00:02,  4.81it/s]\n"
     ]
    },
    {
     "name": "stdout",
     "output_type": "stream",
     "text": [
      "Epoch [260/500], Loss: 0.0123\n",
      "Validation Loss: 0.0264 (RMSE: 0.1578).\n"
     ]
    },
    {
     "name": "stderr",
     "output_type": "stream",
     "text": [
      "Epoch 260: 100%|██████████| 14/14 [00:10<00:00,  1.40batch/s, loss=0.0148, rmse=0.112]\n"
     ]
    },
    {
     "name": "stdout",
     "output_type": "stream",
     "text": [
      "Calculating embeddings\n"
     ]
    },
    {
     "name": "stderr",
     "output_type": "stream",
     "text": [
      "6851it [00:02, 2373.44it/s]\n"
     ]
    },
    {
     "name": "stdout",
     "output_type": "stream",
     "text": [
      "Calculating similarity between embeddings\n"
     ]
    },
    {
     "name": "stderr",
     "output_type": "stream",
     "text": [
      "Selecting available inchikey pairs per bin: 10it [00:02,  4.85it/s]\n",
      "Selecting available inchikey pairs per bin: 10it [00:02,  4.85it/s]\n"
     ]
    },
    {
     "name": "stdout",
     "output_type": "stream",
     "text": [
      "Epoch [261/500], Loss: 0.0125\n",
      "Validation Loss: 0.0261 (RMSE: 0.1575).\n"
     ]
    },
    {
     "name": "stderr",
     "output_type": "stream",
     "text": [
      "Epoch 261: 100%|██████████| 14/14 [00:10<00:00,  1.39batch/s, loss=0.0138, rmse=0.112]\n"
     ]
    },
    {
     "name": "stdout",
     "output_type": "stream",
     "text": [
      "Calculating embeddings\n"
     ]
    },
    {
     "name": "stderr",
     "output_type": "stream",
     "text": [
      "6851it [00:02, 2373.69it/s]\n"
     ]
    },
    {
     "name": "stdout",
     "output_type": "stream",
     "text": [
      "Calculating similarity between embeddings\n"
     ]
    },
    {
     "name": "stderr",
     "output_type": "stream",
     "text": [
      "Selecting available inchikey pairs per bin: 10it [00:01,  5.02it/s]\n",
      "Selecting available inchikey pairs per bin: 10it [00:01,  5.06it/s]\n"
     ]
    },
    {
     "name": "stdout",
     "output_type": "stream",
     "text": [
      "Epoch [262/500], Loss: 0.0126\n",
      "Validation Loss: 0.0265 (RMSE: 0.1587).\n"
     ]
    },
    {
     "name": "stderr",
     "output_type": "stream",
     "text": [
      "Epoch 262: 100%|██████████| 14/14 [00:09<00:00,  1.51batch/s, loss=0.0122, rmse=0.112]\n"
     ]
    },
    {
     "name": "stdout",
     "output_type": "stream",
     "text": [
      "Calculating embeddings\n"
     ]
    },
    {
     "name": "stderr",
     "output_type": "stream",
     "text": [
      "6851it [00:02, 2523.71it/s]\n"
     ]
    },
    {
     "name": "stdout",
     "output_type": "stream",
     "text": [
      "Calculating similarity between embeddings\n"
     ]
    },
    {
     "name": "stderr",
     "output_type": "stream",
     "text": [
      "Selecting available inchikey pairs per bin: 10it [00:02,  4.90it/s]\n",
      "Selecting available inchikey pairs per bin: 10it [00:02,  4.19it/s]\n"
     ]
    },
    {
     "name": "stdout",
     "output_type": "stream",
     "text": [
      "Epoch [263/500], Loss: 0.0126\n",
      "Validation Loss: 0.0268 (RMSE: 0.1589).\n"
     ]
    },
    {
     "name": "stderr",
     "output_type": "stream",
     "text": [
      "Epoch 263: 100%|██████████| 14/14 [00:09<00:00,  1.47batch/s, loss=0.0131, rmse=0.113]\n"
     ]
    },
    {
     "name": "stdout",
     "output_type": "stream",
     "text": [
      "Calculating embeddings\n"
     ]
    },
    {
     "name": "stderr",
     "output_type": "stream",
     "text": [
      "6851it [00:03, 2080.69it/s]\n"
     ]
    },
    {
     "name": "stdout",
     "output_type": "stream",
     "text": [
      "Calculating similarity between embeddings\n"
     ]
    },
    {
     "name": "stderr",
     "output_type": "stream",
     "text": [
      "Selecting available inchikey pairs per bin: 10it [00:02,  4.85it/s]\n",
      "Selecting available inchikey pairs per bin: 10it [00:02,  4.87it/s]\n"
     ]
    },
    {
     "name": "stdout",
     "output_type": "stream",
     "text": [
      "Epoch [264/500], Loss: 0.0129\n",
      "Validation Loss: 0.0265 (RMSE: 0.1584).\n"
     ]
    },
    {
     "name": "stderr",
     "output_type": "stream",
     "text": [
      "Epoch 264: 100%|██████████| 14/14 [00:09<00:00,  1.47batch/s, loss=0.0141, rmse=0.11] \n"
     ]
    },
    {
     "name": "stdout",
     "output_type": "stream",
     "text": [
      "Calculating embeddings\n"
     ]
    },
    {
     "name": "stderr",
     "output_type": "stream",
     "text": [
      "6851it [00:03, 2172.48it/s]\n"
     ]
    },
    {
     "name": "stdout",
     "output_type": "stream",
     "text": [
      "Calculating similarity between embeddings\n"
     ]
    },
    {
     "name": "stderr",
     "output_type": "stream",
     "text": [
      "Selecting available inchikey pairs per bin: 10it [00:02,  4.95it/s]\n",
      "Selecting available inchikey pairs per bin: 10it [00:02,  4.99it/s]\n"
     ]
    },
    {
     "name": "stdout",
     "output_type": "stream",
     "text": [
      "Epoch [265/500], Loss: 0.0122\n",
      "Validation Loss: 0.0260 (RMSE: 0.1566).\n"
     ]
    },
    {
     "name": "stderr",
     "output_type": "stream",
     "text": [
      "Epoch 265: 100%|██████████| 14/14 [00:09<00:00,  1.47batch/s, loss=0.012, rmse=0.109] \n"
     ]
    },
    {
     "name": "stdout",
     "output_type": "stream",
     "text": [
      "Calculating embeddings\n"
     ]
    },
    {
     "name": "stderr",
     "output_type": "stream",
     "text": [
      "6851it [00:02, 2460.75it/s]\n"
     ]
    },
    {
     "name": "stdout",
     "output_type": "stream",
     "text": [
      "Calculating similarity between embeddings\n"
     ]
    },
    {
     "name": "stderr",
     "output_type": "stream",
     "text": [
      "Selecting available inchikey pairs per bin: 10it [00:02,  4.89it/s]\n",
      "Selecting available inchikey pairs per bin: 10it [00:02,  4.93it/s]\n"
     ]
    },
    {
     "name": "stdout",
     "output_type": "stream",
     "text": [
      "Saving checkpoint model.\n",
      "Epoch [266/500], Loss: 0.0118\n",
      "Validation Loss: 0.0260 (RMSE: 0.1567).\n"
     ]
    },
    {
     "name": "stderr",
     "output_type": "stream",
     "text": [
      "Epoch 266: 100%|██████████| 14/14 [00:09<00:00,  1.41batch/s, loss=0.0121, rmse=0.112]\n"
     ]
    },
    {
     "name": "stdout",
     "output_type": "stream",
     "text": [
      "Calculating embeddings\n"
     ]
    },
    {
     "name": "stderr",
     "output_type": "stream",
     "text": [
      "6851it [00:02, 2446.22it/s]\n"
     ]
    },
    {
     "name": "stdout",
     "output_type": "stream",
     "text": [
      "Calculating similarity between embeddings\n"
     ]
    },
    {
     "name": "stderr",
     "output_type": "stream",
     "text": [
      "Selecting available inchikey pairs per bin: 10it [00:02,  4.90it/s]\n",
      "Selecting available inchikey pairs per bin: 10it [00:01,  5.02it/s]\n"
     ]
    },
    {
     "name": "stdout",
     "output_type": "stream",
     "text": [
      "Epoch [267/500], Loss: 0.0126\n",
      "Validation Loss: 0.0267 (RMSE: 0.1588).\n"
     ]
    },
    {
     "name": "stderr",
     "output_type": "stream",
     "text": [
      "Epoch 267: 100%|██████████| 14/14 [00:09<00:00,  1.46batch/s, loss=0.0132, rmse=0.11] \n"
     ]
    },
    {
     "name": "stdout",
     "output_type": "stream",
     "text": [
      "Calculating embeddings\n"
     ]
    },
    {
     "name": "stderr",
     "output_type": "stream",
     "text": [
      "6851it [00:02, 2470.19it/s]\n"
     ]
    },
    {
     "name": "stdout",
     "output_type": "stream",
     "text": [
      "Calculating similarity between embeddings\n"
     ]
    },
    {
     "name": "stderr",
     "output_type": "stream",
     "text": [
      "Selecting available inchikey pairs per bin: 10it [00:02,  4.85it/s]\n",
      "Selecting available inchikey pairs per bin: 10it [00:02,  4.85it/s]\n"
     ]
    },
    {
     "name": "stdout",
     "output_type": "stream",
     "text": [
      "Epoch [268/500], Loss: 0.0121\n",
      "Validation Loss: 0.0264 (RMSE: 0.1577).\n"
     ]
    },
    {
     "name": "stderr",
     "output_type": "stream",
     "text": [
      "Epoch 268: 100%|██████████| 14/14 [00:09<00:00,  1.46batch/s, loss=0.0122, rmse=0.111]\n"
     ]
    },
    {
     "name": "stdout",
     "output_type": "stream",
     "text": [
      "Calculating embeddings\n"
     ]
    },
    {
     "name": "stderr",
     "output_type": "stream",
     "text": [
      "6851it [00:03, 2247.78it/s]\n"
     ]
    },
    {
     "name": "stdout",
     "output_type": "stream",
     "text": [
      "Calculating similarity between embeddings\n"
     ]
    },
    {
     "name": "stderr",
     "output_type": "stream",
     "text": [
      "Selecting available inchikey pairs per bin: 10it [00:02,  4.93it/s]\n",
      "Selecting available inchikey pairs per bin: 10it [00:02,  4.91it/s]\n"
     ]
    },
    {
     "name": "stdout",
     "output_type": "stream",
     "text": [
      "Saving checkpoint model.\n",
      "Epoch [269/500], Loss: 0.0124\n",
      "Validation Loss: 0.0257 (RMSE: 0.1554).\n"
     ]
    },
    {
     "name": "stderr",
     "output_type": "stream",
     "text": [
      "Epoch 269: 100%|██████████| 14/14 [00:09<00:00,  1.48batch/s, loss=0.0119, rmse=0.11] \n"
     ]
    },
    {
     "name": "stdout",
     "output_type": "stream",
     "text": [
      "Calculating embeddings\n"
     ]
    },
    {
     "name": "stderr",
     "output_type": "stream",
     "text": [
      "6851it [00:02, 2435.59it/s]\n"
     ]
    },
    {
     "name": "stdout",
     "output_type": "stream",
     "text": [
      "Calculating similarity between embeddings\n"
     ]
    },
    {
     "name": "stderr",
     "output_type": "stream",
     "text": [
      "Selecting available inchikey pairs per bin: 10it [00:02,  4.86it/s]\n",
      "Selecting available inchikey pairs per bin: 10it [00:02,  4.88it/s]\n"
     ]
    },
    {
     "name": "stdout",
     "output_type": "stream",
     "text": [
      "Epoch [270/500], Loss: 0.0121\n",
      "Validation Loss: 0.0271 (RMSE: 0.1595).\n"
     ]
    },
    {
     "name": "stderr",
     "output_type": "stream",
     "text": [
      "Epoch 270: 100%|██████████| 14/14 [00:09<00:00,  1.47batch/s, loss=0.0114, rmse=0.111]\n"
     ]
    },
    {
     "name": "stdout",
     "output_type": "stream",
     "text": [
      "Calculating embeddings\n"
     ]
    },
    {
     "name": "stderr",
     "output_type": "stream",
     "text": [
      "6851it [00:03, 2069.05it/s]\n"
     ]
    },
    {
     "name": "stdout",
     "output_type": "stream",
     "text": [
      "Calculating similarity between embeddings\n"
     ]
    },
    {
     "name": "stderr",
     "output_type": "stream",
     "text": [
      "Selecting available inchikey pairs per bin: 10it [00:01,  5.01it/s]\n",
      "Selecting available inchikey pairs per bin: 10it [00:02,  5.00it/s]\n"
     ]
    },
    {
     "name": "stdout",
     "output_type": "stream",
     "text": [
      "Epoch [271/500], Loss: 0.0123\n",
      "Validation Loss: 0.0264 (RMSE: 0.1578).\n"
     ]
    },
    {
     "name": "stderr",
     "output_type": "stream",
     "text": [
      "Epoch 271: 100%|██████████| 14/14 [00:09<00:00,  1.48batch/s, loss=0.0136, rmse=0.113]\n"
     ]
    },
    {
     "name": "stdout",
     "output_type": "stream",
     "text": [
      "Calculating embeddings\n"
     ]
    },
    {
     "name": "stderr",
     "output_type": "stream",
     "text": [
      "6851it [00:02, 2508.46it/s]\n"
     ]
    },
    {
     "name": "stdout",
     "output_type": "stream",
     "text": [
      "Calculating similarity between embeddings\n"
     ]
    },
    {
     "name": "stderr",
     "output_type": "stream",
     "text": [
      "Selecting available inchikey pairs per bin: 10it [00:02,  4.95it/s]\n",
      "Selecting available inchikey pairs per bin: 10it [00:02,  4.92it/s]\n"
     ]
    },
    {
     "name": "stdout",
     "output_type": "stream",
     "text": [
      "Epoch [272/500], Loss: 0.0128\n",
      "Validation Loss: 0.0266 (RMSE: 0.1586).\n"
     ]
    },
    {
     "name": "stderr",
     "output_type": "stream",
     "text": [
      "Epoch 272: 100%|██████████| 14/14 [00:09<00:00,  1.46batch/s, loss=0.0117, rmse=0.112]\n"
     ]
    },
    {
     "name": "stdout",
     "output_type": "stream",
     "text": [
      "Calculating embeddings\n"
     ]
    },
    {
     "name": "stderr",
     "output_type": "stream",
     "text": [
      "6851it [00:02, 2484.35it/s]\n"
     ]
    },
    {
     "name": "stdout",
     "output_type": "stream",
     "text": [
      "Calculating similarity between embeddings\n"
     ]
    },
    {
     "name": "stderr",
     "output_type": "stream",
     "text": [
      "Selecting available inchikey pairs per bin: 10it [00:02,  4.86it/s]\n",
      "Selecting available inchikey pairs per bin: 10it [00:02,  4.88it/s]\n"
     ]
    },
    {
     "name": "stdout",
     "output_type": "stream",
     "text": [
      "Epoch [273/500], Loss: 0.0125\n",
      "Validation Loss: 0.0257 (RMSE: 0.1561).\n"
     ]
    },
    {
     "name": "stderr",
     "output_type": "stream",
     "text": [
      "Epoch 273: 100%|██████████| 14/14 [00:09<00:00,  1.48batch/s, loss=0.0127, rmse=0.108]\n"
     ]
    },
    {
     "name": "stdout",
     "output_type": "stream",
     "text": [
      "Calculating embeddings\n"
     ]
    },
    {
     "name": "stderr",
     "output_type": "stream",
     "text": [
      "6851it [00:02, 2502.77it/s]\n"
     ]
    },
    {
     "name": "stdout",
     "output_type": "stream",
     "text": [
      "Calculating similarity between embeddings\n"
     ]
    },
    {
     "name": "stderr",
     "output_type": "stream",
     "text": [
      "Selecting available inchikey pairs per bin: 10it [00:02,  4.92it/s]\n",
      "Selecting available inchikey pairs per bin: 10it [00:02,  4.92it/s]\n"
     ]
    },
    {
     "name": "stdout",
     "output_type": "stream",
     "text": [
      "Epoch [274/500], Loss: 0.0118\n",
      "Validation Loss: 0.0261 (RMSE: 0.1570).\n"
     ]
    },
    {
     "name": "stderr",
     "output_type": "stream",
     "text": [
      "Epoch 274: 100%|██████████| 14/14 [00:09<00:00,  1.48batch/s, loss=0.0116, rmse=0.109]\n"
     ]
    },
    {
     "name": "stdout",
     "output_type": "stream",
     "text": [
      "Calculating embeddings\n"
     ]
    },
    {
     "name": "stderr",
     "output_type": "stream",
     "text": [
      "6851it [00:02, 2376.83it/s]\n"
     ]
    },
    {
     "name": "stdout",
     "output_type": "stream",
     "text": [
      "Calculating similarity between embeddings\n"
     ]
    },
    {
     "name": "stderr",
     "output_type": "stream",
     "text": [
      "Selecting available inchikey pairs per bin: 10it [00:02,  4.47it/s]\n",
      "Selecting available inchikey pairs per bin: 10it [00:02,  4.84it/s]\n"
     ]
    },
    {
     "name": "stdout",
     "output_type": "stream",
     "text": [
      "Saving checkpoint model.\n",
      "Epoch [275/500], Loss: 0.0118\n",
      "Validation Loss: 0.0257 (RMSE: 0.1560).\n"
     ]
    },
    {
     "name": "stderr",
     "output_type": "stream",
     "text": [
      "Epoch 275: 100%|██████████| 14/14 [00:10<00:00,  1.34batch/s, loss=0.014, rmse=0.11]  \n"
     ]
    },
    {
     "name": "stdout",
     "output_type": "stream",
     "text": [
      "Calculating embeddings\n"
     ]
    },
    {
     "name": "stderr",
     "output_type": "stream",
     "text": [
      "6851it [00:02, 2545.96it/s]\n"
     ]
    },
    {
     "name": "stdout",
     "output_type": "stream",
     "text": [
      "Calculating similarity between embeddings\n"
     ]
    },
    {
     "name": "stderr",
     "output_type": "stream",
     "text": [
      "Selecting available inchikey pairs per bin: 10it [00:01,  5.00it/s]\n",
      "Selecting available inchikey pairs per bin: 10it [00:01,  5.05it/s]\n"
     ]
    },
    {
     "name": "stdout",
     "output_type": "stream",
     "text": [
      "Saving checkpoint model.\n",
      "Epoch [276/500], Loss: 0.0122\n",
      "Validation Loss: 0.0256 (RMSE: 0.1555).\n"
     ]
    },
    {
     "name": "stderr",
     "output_type": "stream",
     "text": [
      "Epoch 276: 100%|██████████| 14/14 [00:10<00:00,  1.35batch/s, loss=0.013, rmse=0.111] \n"
     ]
    },
    {
     "name": "stdout",
     "output_type": "stream",
     "text": [
      "Calculating embeddings\n"
     ]
    },
    {
     "name": "stderr",
     "output_type": "stream",
     "text": [
      "6851it [00:02, 2548.77it/s]\n"
     ]
    },
    {
     "name": "stdout",
     "output_type": "stream",
     "text": [
      "Calculating similarity between embeddings\n"
     ]
    },
    {
     "name": "stderr",
     "output_type": "stream",
     "text": [
      "Selecting available inchikey pairs per bin: 10it [00:02,  4.89it/s]\n",
      "Selecting available inchikey pairs per bin: 10it [00:02,  4.85it/s]\n"
     ]
    },
    {
     "name": "stdout",
     "output_type": "stream",
     "text": [
      "Epoch [277/500], Loss: 0.0123\n",
      "Validation Loss: 0.0260 (RMSE: 0.1565).\n"
     ]
    },
    {
     "name": "stderr",
     "output_type": "stream",
     "text": [
      "Epoch 277: 100%|██████████| 14/14 [00:10<00:00,  1.40batch/s, loss=0.0151, rmse=0.112]\n"
     ]
    },
    {
     "name": "stdout",
     "output_type": "stream",
     "text": [
      "Calculating embeddings\n"
     ]
    },
    {
     "name": "stderr",
     "output_type": "stream",
     "text": [
      "6851it [00:02, 2493.28it/s]\n"
     ]
    },
    {
     "name": "stdout",
     "output_type": "stream",
     "text": [
      "Calculating similarity between embeddings\n"
     ]
    },
    {
     "name": "stderr",
     "output_type": "stream",
     "text": [
      "Selecting available inchikey pairs per bin: 10it [00:02,  4.77it/s]\n",
      "Selecting available inchikey pairs per bin: 10it [00:02,  5.00it/s]\n"
     ]
    },
    {
     "name": "stdout",
     "output_type": "stream",
     "text": [
      "Epoch [278/500], Loss: 0.0127\n",
      "Validation Loss: 0.0261 (RMSE: 0.1568).\n"
     ]
    },
    {
     "name": "stderr",
     "output_type": "stream",
     "text": [
      "Epoch 278: 100%|██████████| 14/14 [00:09<00:00,  1.51batch/s, loss=0.0109, rmse=0.11] \n"
     ]
    },
    {
     "name": "stdout",
     "output_type": "stream",
     "text": [
      "Calculating embeddings\n"
     ]
    },
    {
     "name": "stderr",
     "output_type": "stream",
     "text": [
      "6851it [00:02, 2550.59it/s]\n"
     ]
    },
    {
     "name": "stdout",
     "output_type": "stream",
     "text": [
      "Calculating similarity between embeddings\n"
     ]
    },
    {
     "name": "stderr",
     "output_type": "stream",
     "text": [
      "Selecting available inchikey pairs per bin: 10it [00:02,  4.86it/s]\n",
      "Selecting available inchikey pairs per bin: 10it [00:02,  4.96it/s]\n"
     ]
    },
    {
     "name": "stdout",
     "output_type": "stream",
     "text": [
      "Epoch [279/500], Loss: 0.0122\n",
      "Validation Loss: 0.0269 (RMSE: 0.1587).\n"
     ]
    },
    {
     "name": "stderr",
     "output_type": "stream",
     "text": [
      "Epoch 279: 100%|██████████| 14/14 [00:10<00:00,  1.35batch/s, loss=0.0127, rmse=0.11]\n"
     ]
    },
    {
     "name": "stdout",
     "output_type": "stream",
     "text": [
      "Calculating embeddings\n"
     ]
    },
    {
     "name": "stderr",
     "output_type": "stream",
     "text": [
      "6851it [00:02, 2450.57it/s]\n"
     ]
    },
    {
     "name": "stdout",
     "output_type": "stream",
     "text": [
      "Calculating similarity between embeddings\n"
     ]
    },
    {
     "name": "stderr",
     "output_type": "stream",
     "text": [
      "Selecting available inchikey pairs per bin: 10it [00:02,  4.78it/s]\n",
      "Selecting available inchikey pairs per bin: 10it [00:02,  4.86it/s]\n"
     ]
    },
    {
     "name": "stdout",
     "output_type": "stream",
     "text": [
      "Epoch [280/500], Loss: 0.0121\n",
      "Validation Loss: 0.0261 (RMSE: 0.1569).\n"
     ]
    },
    {
     "name": "stderr",
     "output_type": "stream",
     "text": [
      "Epoch 280: 100%|██████████| 14/14 [00:09<00:00,  1.45batch/s, loss=0.0103, rmse=0.113]\n"
     ]
    },
    {
     "name": "stdout",
     "output_type": "stream",
     "text": [
      "Calculating embeddings\n"
     ]
    },
    {
     "name": "stderr",
     "output_type": "stream",
     "text": [
      "6851it [00:03, 2221.99it/s]\n"
     ]
    },
    {
     "name": "stdout",
     "output_type": "stream",
     "text": [
      "Calculating similarity between embeddings\n"
     ]
    },
    {
     "name": "stderr",
     "output_type": "stream",
     "text": [
      "Selecting available inchikey pairs per bin: 10it [00:02,  4.82it/s]\n",
      "Selecting available inchikey pairs per bin: 10it [00:02,  4.88it/s]\n"
     ]
    },
    {
     "name": "stdout",
     "output_type": "stream",
     "text": [
      "Epoch [281/500], Loss: 0.0127\n",
      "Validation Loss: 0.0264 (RMSE: 0.1580).\n"
     ]
    },
    {
     "name": "stderr",
     "output_type": "stream",
     "text": [
      "Epoch 281: 100%|██████████| 14/14 [00:10<00:00,  1.33batch/s, loss=0.0122, rmse=0.109]\n"
     ]
    },
    {
     "name": "stdout",
     "output_type": "stream",
     "text": [
      "Calculating embeddings\n"
     ]
    },
    {
     "name": "stderr",
     "output_type": "stream",
     "text": [
      "6851it [00:02, 2288.62it/s]\n"
     ]
    },
    {
     "name": "stdout",
     "output_type": "stream",
     "text": [
      "Calculating similarity between embeddings\n"
     ]
    },
    {
     "name": "stderr",
     "output_type": "stream",
     "text": [
      "Selecting available inchikey pairs per bin: 10it [00:02,  4.75it/s]\n",
      "Selecting available inchikey pairs per bin: 10it [00:02,  4.98it/s]\n"
     ]
    },
    {
     "name": "stdout",
     "output_type": "stream",
     "text": [
      "Epoch [282/500], Loss: 0.0120\n",
      "Validation Loss: 0.0267 (RMSE: 0.1585).\n"
     ]
    },
    {
     "name": "stderr",
     "output_type": "stream",
     "text": [
      "Epoch 282: 100%|██████████| 14/14 [00:09<00:00,  1.41batch/s, loss=0.013, rmse=0.111] \n"
     ]
    },
    {
     "name": "stdout",
     "output_type": "stream",
     "text": [
      "Calculating embeddings\n"
     ]
    },
    {
     "name": "stderr",
     "output_type": "stream",
     "text": [
      "6851it [00:02, 2455.00it/s]\n"
     ]
    },
    {
     "name": "stdout",
     "output_type": "stream",
     "text": [
      "Calculating similarity between embeddings\n"
     ]
    },
    {
     "name": "stderr",
     "output_type": "stream",
     "text": [
      "Selecting available inchikey pairs per bin: 10it [00:02,  4.78it/s]\n",
      "Selecting available inchikey pairs per bin: 10it [00:02,  4.80it/s]\n"
     ]
    },
    {
     "name": "stdout",
     "output_type": "stream",
     "text": [
      "Epoch [283/500], Loss: 0.0124\n",
      "Validation Loss: 0.0262 (RMSE: 0.1568).\n"
     ]
    },
    {
     "name": "stderr",
     "output_type": "stream",
     "text": [
      "Epoch 283: 100%|██████████| 14/14 [00:10<00:00,  1.36batch/s, loss=0.0149, rmse=0.112]\n"
     ]
    },
    {
     "name": "stdout",
     "output_type": "stream",
     "text": [
      "Calculating embeddings\n"
     ]
    },
    {
     "name": "stderr",
     "output_type": "stream",
     "text": [
      "6851it [00:03, 1964.94it/s]\n"
     ]
    },
    {
     "name": "stdout",
     "output_type": "stream",
     "text": [
      "Calculating similarity between embeddings\n"
     ]
    },
    {
     "name": "stderr",
     "output_type": "stream",
     "text": [
      "Selecting available inchikey pairs per bin: 10it [00:02,  4.90it/s]\n",
      "Selecting available inchikey pairs per bin: 10it [00:02,  4.87it/s]\n"
     ]
    },
    {
     "name": "stdout",
     "output_type": "stream",
     "text": [
      "Epoch [284/500], Loss: 0.0126\n",
      "Validation Loss: 0.0262 (RMSE: 0.1570).\n"
     ]
    },
    {
     "name": "stderr",
     "output_type": "stream",
     "text": [
      "Epoch 284: 100%|██████████| 14/14 [00:09<00:00,  1.49batch/s, loss=0.0109, rmse=0.11] \n"
     ]
    },
    {
     "name": "stdout",
     "output_type": "stream",
     "text": [
      "Calculating embeddings\n"
     ]
    },
    {
     "name": "stderr",
     "output_type": "stream",
     "text": [
      "6851it [00:02, 2532.91it/s]\n"
     ]
    },
    {
     "name": "stdout",
     "output_type": "stream",
     "text": [
      "Calculating similarity between embeddings\n"
     ]
    },
    {
     "name": "stderr",
     "output_type": "stream",
     "text": [
      "Selecting available inchikey pairs per bin: 10it [00:02,  4.88it/s]\n",
      "Selecting available inchikey pairs per bin: 10it [00:02,  4.95it/s]\n"
     ]
    },
    {
     "name": "stdout",
     "output_type": "stream",
     "text": [
      "Epoch [285/500], Loss: 0.0120\n",
      "Validation Loss: 0.0262 (RMSE: 0.1570).\n"
     ]
    },
    {
     "name": "stderr",
     "output_type": "stream",
     "text": [
      "Epoch 285: 100%|██████████| 14/14 [00:09<00:00,  1.50batch/s, loss=0.0118, rmse=0.11]\n"
     ]
    },
    {
     "name": "stdout",
     "output_type": "stream",
     "text": [
      "Calculating embeddings\n"
     ]
    },
    {
     "name": "stderr",
     "output_type": "stream",
     "text": [
      "6851it [00:03, 2157.86it/s]\n"
     ]
    },
    {
     "name": "stdout",
     "output_type": "stream",
     "text": [
      "Calculating similarity between embeddings\n"
     ]
    },
    {
     "name": "stderr",
     "output_type": "stream",
     "text": [
      "Selecting available inchikey pairs per bin: 10it [00:02,  4.99it/s]\n",
      "Selecting available inchikey pairs per bin: 10it [00:01,  5.05it/s]\n"
     ]
    },
    {
     "name": "stdout",
     "output_type": "stream",
     "text": [
      "Epoch [286/500], Loss: 0.0122\n",
      "Validation Loss: 0.0259 (RMSE: 0.1562).\n"
     ]
    },
    {
     "name": "stderr",
     "output_type": "stream",
     "text": [
      "Epoch 286: 100%|██████████| 14/14 [00:09<00:00,  1.41batch/s, loss=0.0137, rmse=0.112]\n"
     ]
    },
    {
     "name": "stdout",
     "output_type": "stream",
     "text": [
      "Calculating embeddings\n"
     ]
    },
    {
     "name": "stderr",
     "output_type": "stream",
     "text": [
      "6851it [00:02, 2474.64it/s]\n"
     ]
    },
    {
     "name": "stdout",
     "output_type": "stream",
     "text": [
      "Calculating similarity between embeddings\n"
     ]
    },
    {
     "name": "stderr",
     "output_type": "stream",
     "text": [
      "Selecting available inchikey pairs per bin: 10it [00:02,  4.84it/s]\n",
      "Selecting available inchikey pairs per bin: 10it [00:02,  4.86it/s]\n"
     ]
    },
    {
     "name": "stdout",
     "output_type": "stream",
     "text": [
      "Saving checkpoint model.\n",
      "Epoch [287/500], Loss: 0.0127\n",
      "Validation Loss: 0.0250 (RMSE: 0.1538).\n"
     ]
    },
    {
     "name": "stderr",
     "output_type": "stream",
     "text": [
      "Epoch 287: 100%|██████████| 14/14 [00:09<00:00,  1.46batch/s, loss=0.0123, rmse=0.11] \n"
     ]
    },
    {
     "name": "stdout",
     "output_type": "stream",
     "text": [
      "Calculating embeddings\n"
     ]
    },
    {
     "name": "stderr",
     "output_type": "stream",
     "text": [
      "6851it [00:02, 2499.75it/s]\n"
     ]
    },
    {
     "name": "stdout",
     "output_type": "stream",
     "text": [
      "Calculating similarity between embeddings\n"
     ]
    },
    {
     "name": "stderr",
     "output_type": "stream",
     "text": [
      "Selecting available inchikey pairs per bin: 10it [00:02,  3.84it/s]\n",
      "Selecting available inchikey pairs per bin: 10it [00:02,  4.97it/s]\n"
     ]
    },
    {
     "name": "stdout",
     "output_type": "stream",
     "text": [
      "Epoch [288/500], Loss: 0.0122\n",
      "Validation Loss: 0.0259 (RMSE: 0.1570).\n"
     ]
    },
    {
     "name": "stderr",
     "output_type": "stream",
     "text": [
      "Epoch 288: 100%|██████████| 14/14 [00:09<00:00,  1.43batch/s, loss=0.0128, rmse=0.11]\n"
     ]
    },
    {
     "name": "stdout",
     "output_type": "stream",
     "text": [
      "Calculating embeddings\n"
     ]
    },
    {
     "name": "stderr",
     "output_type": "stream",
     "text": [
      "6851it [00:02, 2531.90it/s]\n"
     ]
    },
    {
     "name": "stdout",
     "output_type": "stream",
     "text": [
      "Calculating similarity between embeddings\n"
     ]
    },
    {
     "name": "stderr",
     "output_type": "stream",
     "text": [
      "Selecting available inchikey pairs per bin: 10it [00:02,  4.85it/s]\n",
      "Selecting available inchikey pairs per bin: 10it [00:02,  4.88it/s]\n"
     ]
    },
    {
     "name": "stdout",
     "output_type": "stream",
     "text": [
      "Epoch [289/500], Loss: 0.0121\n",
      "Validation Loss: 0.0261 (RMSE: 0.1567).\n"
     ]
    },
    {
     "name": "stderr",
     "output_type": "stream",
     "text": [
      "Epoch 289: 100%|██████████| 14/14 [00:09<00:00,  1.44batch/s, loss=0.0108, rmse=0.109]\n"
     ]
    },
    {
     "name": "stdout",
     "output_type": "stream",
     "text": [
      "Calculating embeddings\n"
     ]
    },
    {
     "name": "stderr",
     "output_type": "stream",
     "text": [
      "6851it [00:02, 2452.11it/s]\n"
     ]
    },
    {
     "name": "stdout",
     "output_type": "stream",
     "text": [
      "Calculating similarity between embeddings\n"
     ]
    },
    {
     "name": "stderr",
     "output_type": "stream",
     "text": [
      "Selecting available inchikey pairs per bin: 10it [00:02,  4.75it/s]\n",
      "Selecting available inchikey pairs per bin: 10it [00:02,  4.78it/s]\n"
     ]
    },
    {
     "name": "stdout",
     "output_type": "stream",
     "text": [
      "Epoch [290/500], Loss: 0.0119\n",
      "Validation Loss: 0.0253 (RMSE: 0.1552).\n"
     ]
    },
    {
     "name": "stderr",
     "output_type": "stream",
     "text": [
      "Epoch 290: 100%|██████████| 14/14 [00:09<00:00,  1.44batch/s, loss=0.0119, rmse=0.108] \n"
     ]
    },
    {
     "name": "stdout",
     "output_type": "stream",
     "text": [
      "Calculating embeddings\n"
     ]
    },
    {
     "name": "stderr",
     "output_type": "stream",
     "text": [
      "6851it [00:02, 2496.95it/s]\n"
     ]
    },
    {
     "name": "stdout",
     "output_type": "stream",
     "text": [
      "Calculating similarity between embeddings\n"
     ]
    },
    {
     "name": "stderr",
     "output_type": "stream",
     "text": [
      "Selecting available inchikey pairs per bin: 10it [00:02,  4.96it/s]\n",
      "Selecting available inchikey pairs per bin: 10it [00:02,  4.93it/s]\n"
     ]
    },
    {
     "name": "stdout",
     "output_type": "stream",
     "text": [
      "Epoch [291/500], Loss: 0.0118\n",
      "Validation Loss: 0.0262 (RMSE: 0.1572).\n"
     ]
    },
    {
     "name": "stderr",
     "output_type": "stream",
     "text": [
      "Epoch 291: 100%|██████████| 14/14 [00:09<00:00,  1.43batch/s, loss=0.0105, rmse=0.106] \n"
     ]
    },
    {
     "name": "stdout",
     "output_type": "stream",
     "text": [
      "Calculating embeddings\n"
     ]
    },
    {
     "name": "stderr",
     "output_type": "stream",
     "text": [
      "6851it [00:03, 2172.96it/s]\n"
     ]
    },
    {
     "name": "stdout",
     "output_type": "stream",
     "text": [
      "Calculating similarity between embeddings\n"
     ]
    },
    {
     "name": "stderr",
     "output_type": "stream",
     "text": [
      "Selecting available inchikey pairs per bin: 10it [00:02,  4.73it/s]\n",
      "Selecting available inchikey pairs per bin: 10it [00:02,  4.76it/s]\n"
     ]
    },
    {
     "name": "stdout",
     "output_type": "stream",
     "text": [
      "Epoch [292/500], Loss: 0.0114\n",
      "Validation Loss: 0.0256 (RMSE: 0.1554).\n"
     ]
    },
    {
     "name": "stderr",
     "output_type": "stream",
     "text": [
      "Epoch 292: 100%|██████████| 14/14 [00:10<00:00,  1.39batch/s, loss=0.00982, rmse=0.106]\n"
     ]
    },
    {
     "name": "stdout",
     "output_type": "stream",
     "text": [
      "Calculating embeddings\n"
     ]
    },
    {
     "name": "stderr",
     "output_type": "stream",
     "text": [
      "6851it [00:02, 2284.35it/s]\n"
     ]
    },
    {
     "name": "stdout",
     "output_type": "stream",
     "text": [
      "Calculating similarity between embeddings\n"
     ]
    },
    {
     "name": "stderr",
     "output_type": "stream",
     "text": [
      "Selecting available inchikey pairs per bin: 10it [00:02,  4.03it/s]\n",
      "Selecting available inchikey pairs per bin: 10it [00:02,  4.72it/s]\n"
     ]
    },
    {
     "name": "stdout",
     "output_type": "stream",
     "text": [
      "Epoch [293/500], Loss: 0.0113\n",
      "Validation Loss: 0.0260 (RMSE: 0.1568).\n"
     ]
    },
    {
     "name": "stderr",
     "output_type": "stream",
     "text": [
      "Epoch 293: 100%|██████████| 14/14 [00:09<00:00,  1.41batch/s, loss=0.0115, rmse=0.107]\n"
     ]
    },
    {
     "name": "stdout",
     "output_type": "stream",
     "text": [
      "Calculating embeddings\n"
     ]
    },
    {
     "name": "stderr",
     "output_type": "stream",
     "text": [
      "6851it [00:02, 2336.99it/s]\n"
     ]
    },
    {
     "name": "stdout",
     "output_type": "stream",
     "text": [
      "Calculating similarity between embeddings\n"
     ]
    },
    {
     "name": "stderr",
     "output_type": "stream",
     "text": [
      "Selecting available inchikey pairs per bin: 10it [00:02,  3.63it/s]\n",
      "Selecting available inchikey pairs per bin: 10it [00:02,  4.89it/s]\n"
     ]
    },
    {
     "name": "stdout",
     "output_type": "stream",
     "text": [
      "Epoch [294/500], Loss: 0.0115\n",
      "Validation Loss: 0.0253 (RMSE: 0.1542).\n"
     ]
    },
    {
     "name": "stderr",
     "output_type": "stream",
     "text": [
      "Epoch 294: 100%|██████████| 14/14 [00:10<00:00,  1.39batch/s, loss=0.0135, rmse=0.11]  \n"
     ]
    },
    {
     "name": "stdout",
     "output_type": "stream",
     "text": [
      "Calculating embeddings\n"
     ]
    },
    {
     "name": "stderr",
     "output_type": "stream",
     "text": [
      "6851it [00:02, 2474.90it/s]\n"
     ]
    },
    {
     "name": "stdout",
     "output_type": "stream",
     "text": [
      "Calculating similarity between embeddings\n"
     ]
    },
    {
     "name": "stderr",
     "output_type": "stream",
     "text": [
      "Selecting available inchikey pairs per bin: 10it [00:02,  4.04it/s]\n",
      "Selecting available inchikey pairs per bin: 10it [00:02,  4.56it/s]\n"
     ]
    },
    {
     "name": "stdout",
     "output_type": "stream",
     "text": [
      "Epoch [295/500], Loss: 0.0121\n",
      "Validation Loss: 0.0254 (RMSE: 0.1555).\n"
     ]
    },
    {
     "name": "stderr",
     "output_type": "stream",
     "text": [
      "Epoch 295: 100%|██████████| 14/14 [00:10<00:00,  1.38batch/s, loss=0.0118, rmse=0.108]\n"
     ]
    },
    {
     "name": "stdout",
     "output_type": "stream",
     "text": [
      "Calculating embeddings\n"
     ]
    },
    {
     "name": "stderr",
     "output_type": "stream",
     "text": [
      "6851it [00:03, 2198.01it/s]\n"
     ]
    },
    {
     "name": "stdout",
     "output_type": "stream",
     "text": [
      "Calculating similarity between embeddings\n"
     ]
    },
    {
     "name": "stderr",
     "output_type": "stream",
     "text": [
      "Selecting available inchikey pairs per bin: 10it [00:02,  4.84it/s]\n",
      "Selecting available inchikey pairs per bin: 10it [00:02,  3.62it/s]\n"
     ]
    },
    {
     "name": "stdout",
     "output_type": "stream",
     "text": [
      "Epoch [296/500], Loss: 0.0117\n",
      "Validation Loss: 0.0254 (RMSE: 0.1556).\n"
     ]
    },
    {
     "name": "stderr",
     "output_type": "stream",
     "text": [
      "Epoch 296: 100%|██████████| 14/14 [00:11<00:00,  1.19batch/s, loss=0.0105, rmse=0.11] \n"
     ]
    },
    {
     "name": "stdout",
     "output_type": "stream",
     "text": [
      "Calculating embeddings\n"
     ]
    },
    {
     "name": "stderr",
     "output_type": "stream",
     "text": [
      "6851it [00:02, 2289.88it/s]\n"
     ]
    },
    {
     "name": "stdout",
     "output_type": "stream",
     "text": [
      "Calculating similarity between embeddings\n"
     ]
    },
    {
     "name": "stderr",
     "output_type": "stream",
     "text": [
      "Selecting available inchikey pairs per bin: 10it [00:02,  4.60it/s]\n",
      "Selecting available inchikey pairs per bin: 10it [00:02,  4.83it/s]\n"
     ]
    },
    {
     "name": "stdout",
     "output_type": "stream",
     "text": [
      "Epoch [297/500], Loss: 0.0121\n",
      "Validation Loss: 0.0254 (RMSE: 0.1551).\n"
     ]
    },
    {
     "name": "stderr",
     "output_type": "stream",
     "text": [
      "Epoch 297: 100%|██████████| 14/14 [00:09<00:00,  1.49batch/s, loss=0.00945, rmse=0.109]\n"
     ]
    },
    {
     "name": "stdout",
     "output_type": "stream",
     "text": [
      "Calculating embeddings\n"
     ]
    },
    {
     "name": "stderr",
     "output_type": "stream",
     "text": [
      "6851it [00:03, 2228.88it/s]\n"
     ]
    },
    {
     "name": "stdout",
     "output_type": "stream",
     "text": [
      "Calculating similarity between embeddings\n"
     ]
    },
    {
     "name": "stderr",
     "output_type": "stream",
     "text": [
      "Selecting available inchikey pairs per bin: 10it [00:02,  4.63it/s]\n",
      "Selecting available inchikey pairs per bin: 10it [00:02,  4.70it/s]\n"
     ]
    },
    {
     "name": "stdout",
     "output_type": "stream",
     "text": [
      "Epoch [298/500], Loss: 0.0120\n",
      "Validation Loss: 0.0254 (RMSE: 0.1550).\n"
     ]
    },
    {
     "name": "stderr",
     "output_type": "stream",
     "text": [
      "Epoch 298: 100%|██████████| 14/14 [00:11<00:00,  1.25batch/s, loss=0.011, rmse=0.106] \n"
     ]
    },
    {
     "name": "stdout",
     "output_type": "stream",
     "text": [
      "Calculating embeddings\n"
     ]
    },
    {
     "name": "stderr",
     "output_type": "stream",
     "text": [
      "6851it [00:02, 2284.65it/s]\n"
     ]
    },
    {
     "name": "stdout",
     "output_type": "stream",
     "text": [
      "Calculating similarity between embeddings\n"
     ]
    },
    {
     "name": "stderr",
     "output_type": "stream",
     "text": [
      "Selecting available inchikey pairs per bin: 10it [00:02,  4.96it/s]\n",
      "Selecting available inchikey pairs per bin: 10it [00:02,  4.92it/s]\n"
     ]
    },
    {
     "name": "stdout",
     "output_type": "stream",
     "text": [
      "Epoch [299/500], Loss: 0.0112\n",
      "Validation Loss: 0.0263 (RMSE: 0.1573).\n"
     ]
    },
    {
     "name": "stderr",
     "output_type": "stream",
     "text": [
      "Epoch 299: 100%|██████████| 14/14 [00:10<00:00,  1.32batch/s, loss=0.0122, rmse=0.109]\n"
     ]
    },
    {
     "name": "stdout",
     "output_type": "stream",
     "text": [
      "Calculating embeddings\n"
     ]
    },
    {
     "name": "stderr",
     "output_type": "stream",
     "text": [
      "6851it [00:03, 2093.78it/s]\n"
     ]
    },
    {
     "name": "stdout",
     "output_type": "stream",
     "text": [
      "Calculating similarity between embeddings\n"
     ]
    },
    {
     "name": "stderr",
     "output_type": "stream",
     "text": [
      "Selecting available inchikey pairs per bin: 10it [00:02,  4.87it/s]\n",
      "Selecting available inchikey pairs per bin: 10it [00:02,  4.86it/s]\n"
     ]
    },
    {
     "name": "stdout",
     "output_type": "stream",
     "text": [
      "Epoch [300/500], Loss: 0.0119\n",
      "Validation Loss: 0.0255 (RMSE: 0.1554).\n"
     ]
    },
    {
     "name": "stderr",
     "output_type": "stream",
     "text": [
      "Epoch 300: 100%|██████████| 14/14 [00:09<00:00,  1.42batch/s, loss=0.0113, rmse=0.111]\n"
     ]
    },
    {
     "name": "stdout",
     "output_type": "stream",
     "text": [
      "Calculating embeddings\n"
     ]
    },
    {
     "name": "stderr",
     "output_type": "stream",
     "text": [
      "6851it [00:03, 2172.33it/s]\n"
     ]
    },
    {
     "name": "stdout",
     "output_type": "stream",
     "text": [
      "Calculating similarity between embeddings\n"
     ]
    },
    {
     "name": "stderr",
     "output_type": "stream",
     "text": [
      "Selecting available inchikey pairs per bin: 10it [00:02,  3.54it/s]\n",
      "Selecting available inchikey pairs per bin: 10it [00:02,  4.70it/s]\n"
     ]
    },
    {
     "name": "stdout",
     "output_type": "stream",
     "text": [
      "Epoch [301/500], Loss: 0.0123\n",
      "Validation Loss: 0.0255 (RMSE: 0.1552).\n"
     ]
    },
    {
     "name": "stderr",
     "output_type": "stream",
     "text": [
      "Epoch 301: 100%|██████████| 14/14 [00:10<00:00,  1.28batch/s, loss=0.0122, rmse=0.11] \n"
     ]
    },
    {
     "name": "stdout",
     "output_type": "stream",
     "text": [
      "Calculating embeddings\n"
     ]
    },
    {
     "name": "stderr",
     "output_type": "stream",
     "text": [
      "6851it [00:03, 2087.00it/s]\n"
     ]
    },
    {
     "name": "stdout",
     "output_type": "stream",
     "text": [
      "Calculating similarity between embeddings\n"
     ]
    },
    {
     "name": "stderr",
     "output_type": "stream",
     "text": [
      "Selecting available inchikey pairs per bin: 10it [00:02,  4.70it/s]\n",
      "Selecting available inchikey pairs per bin: 10it [00:02,  4.76it/s]\n"
     ]
    },
    {
     "name": "stdout",
     "output_type": "stream",
     "text": [
      "Epoch [302/500], Loss: 0.0120\n",
      "Validation Loss: 0.0259 (RMSE: 0.1565).\n"
     ]
    },
    {
     "name": "stderr",
     "output_type": "stream",
     "text": [
      "Epoch 302: 100%|██████████| 14/14 [00:10<00:00,  1.35batch/s, loss=0.00978, rmse=0.108]\n"
     ]
    },
    {
     "name": "stdout",
     "output_type": "stream",
     "text": [
      "Calculating embeddings\n"
     ]
    },
    {
     "name": "stderr",
     "output_type": "stream",
     "text": [
      "6851it [00:03, 2253.10it/s]\n"
     ]
    },
    {
     "name": "stdout",
     "output_type": "stream",
     "text": [
      "Calculating similarity between embeddings\n"
     ]
    },
    {
     "name": "stderr",
     "output_type": "stream",
     "text": [
      "Selecting available inchikey pairs per bin: 10it [00:02,  4.68it/s]\n",
      "Selecting available inchikey pairs per bin: 10it [00:02,  3.67it/s]\n"
     ]
    },
    {
     "name": "stdout",
     "output_type": "stream",
     "text": [
      "Epoch [303/500], Loss: 0.0116\n",
      "Validation Loss: 0.0258 (RMSE: 0.1566).\n"
     ]
    },
    {
     "name": "stderr",
     "output_type": "stream",
     "text": [
      "Epoch 303: 100%|██████████| 14/14 [00:11<00:00,  1.21batch/s, loss=0.0113, rmse=0.108]\n"
     ]
    },
    {
     "name": "stdout",
     "output_type": "stream",
     "text": [
      "Calculating embeddings\n"
     ]
    },
    {
     "name": "stderr",
     "output_type": "stream",
     "text": [
      "6851it [00:02, 2357.55it/s]\n"
     ]
    },
    {
     "name": "stdout",
     "output_type": "stream",
     "text": [
      "Calculating similarity between embeddings\n"
     ]
    },
    {
     "name": "stderr",
     "output_type": "stream",
     "text": [
      "Selecting available inchikey pairs per bin: 10it [00:02,  4.16it/s]\n",
      "Selecting available inchikey pairs per bin: 10it [00:02,  4.67it/s]\n"
     ]
    },
    {
     "name": "stdout",
     "output_type": "stream",
     "text": [
      "Epoch [304/500], Loss: 0.0117\n",
      "Validation Loss: 0.0265 (RMSE: 0.1583).\n"
     ]
    },
    {
     "name": "stderr",
     "output_type": "stream",
     "text": [
      "Epoch 304: 100%|██████████| 14/14 [00:11<00:00,  1.20batch/s, loss=0.00932, rmse=0.106]\n"
     ]
    },
    {
     "name": "stdout",
     "output_type": "stream",
     "text": [
      "Calculating embeddings\n"
     ]
    },
    {
     "name": "stderr",
     "output_type": "stream",
     "text": [
      "6851it [00:02, 2309.56it/s]\n"
     ]
    },
    {
     "name": "stdout",
     "output_type": "stream",
     "text": [
      "Calculating similarity between embeddings\n"
     ]
    },
    {
     "name": "stderr",
     "output_type": "stream",
     "text": [
      "Selecting available inchikey pairs per bin: 10it [00:02,  4.49it/s]\n",
      "Selecting available inchikey pairs per bin: 10it [00:02,  4.65it/s]\n"
     ]
    },
    {
     "name": "stdout",
     "output_type": "stream",
     "text": [
      "Epoch [305/500], Loss: 0.0113\n",
      "Validation Loss: 0.0254 (RMSE: 0.1554).\n"
     ]
    },
    {
     "name": "stderr",
     "output_type": "stream",
     "text": [
      "Epoch 305: 100%|██████████| 14/14 [00:10<00:00,  1.30batch/s, loss=0.0115, rmse=0.109]\n"
     ]
    },
    {
     "name": "stdout",
     "output_type": "stream",
     "text": [
      "Calculating embeddings\n"
     ]
    },
    {
     "name": "stderr",
     "output_type": "stream",
     "text": [
      "6851it [00:03, 2002.41it/s]\n"
     ]
    },
    {
     "name": "stdout",
     "output_type": "stream",
     "text": [
      "Calculating similarity between embeddings\n"
     ]
    },
    {
     "name": "stderr",
     "output_type": "stream",
     "text": [
      "Selecting available inchikey pairs per bin: 10it [00:02,  4.79it/s]\n",
      "Selecting available inchikey pairs per bin: 10it [00:02,  4.58it/s]\n"
     ]
    },
    {
     "name": "stdout",
     "output_type": "stream",
     "text": [
      "Saving checkpoint model.\n",
      "Epoch [306/500], Loss: 0.0119\n",
      "Validation Loss: 0.0249 (RMSE: 0.1535).\n"
     ]
    },
    {
     "name": "stderr",
     "output_type": "stream",
     "text": [
      "Epoch 306: 100%|██████████| 14/14 [00:11<00:00,  1.23batch/s, loss=0.0119, rmse=0.108]\n"
     ]
    },
    {
     "name": "stdout",
     "output_type": "stream",
     "text": [
      "Calculating embeddings\n"
     ]
    },
    {
     "name": "stderr",
     "output_type": "stream",
     "text": [
      "6851it [00:03, 1935.89it/s]\n"
     ]
    },
    {
     "name": "stdout",
     "output_type": "stream",
     "text": [
      "Calculating similarity between embeddings\n"
     ]
    },
    {
     "name": "stderr",
     "output_type": "stream",
     "text": [
      "Selecting available inchikey pairs per bin: 10it [00:02,  4.62it/s]\n",
      "Selecting available inchikey pairs per bin: 10it [00:02,  4.69it/s]\n"
     ]
    },
    {
     "name": "stdout",
     "output_type": "stream",
     "text": [
      "Epoch [307/500], Loss: 0.0116\n",
      "Validation Loss: 0.0259 (RMSE: 0.1560).\n"
     ]
    },
    {
     "name": "stderr",
     "output_type": "stream",
     "text": [
      "Epoch 307: 100%|██████████| 14/14 [00:11<00:00,  1.19batch/s, loss=0.012, rmse=0.109] \n"
     ]
    },
    {
     "name": "stdout",
     "output_type": "stream",
     "text": [
      "Calculating embeddings\n"
     ]
    },
    {
     "name": "stderr",
     "output_type": "stream",
     "text": [
      "6851it [00:02, 2365.21it/s]\n"
     ]
    },
    {
     "name": "stdout",
     "output_type": "stream",
     "text": [
      "Calculating similarity between embeddings\n"
     ]
    },
    {
     "name": "stderr",
     "output_type": "stream",
     "text": [
      "Selecting available inchikey pairs per bin: 10it [00:02,  4.71it/s]\n",
      "Selecting available inchikey pairs per bin: 10it [00:02,  4.71it/s]\n"
     ]
    },
    {
     "name": "stdout",
     "output_type": "stream",
     "text": [
      "Epoch [308/500], Loss: 0.0118\n",
      "Validation Loss: 0.0257 (RMSE: 0.1556).\n"
     ]
    },
    {
     "name": "stderr",
     "output_type": "stream",
     "text": [
      "Epoch 308: 100%|██████████| 14/14 [00:09<00:00,  1.47batch/s, loss=0.0118, rmse=0.109]\n"
     ]
    },
    {
     "name": "stdout",
     "output_type": "stream",
     "text": [
      "Calculating embeddings\n"
     ]
    },
    {
     "name": "stderr",
     "output_type": "stream",
     "text": [
      "6851it [00:02, 2431.05it/s]\n"
     ]
    },
    {
     "name": "stdout",
     "output_type": "stream",
     "text": [
      "Calculating similarity between embeddings\n"
     ]
    },
    {
     "name": "stderr",
     "output_type": "stream",
     "text": [
      "Selecting available inchikey pairs per bin: 10it [00:02,  3.57it/s]\n",
      "Selecting available inchikey pairs per bin: 10it [00:02,  4.80it/s]\n"
     ]
    },
    {
     "name": "stdout",
     "output_type": "stream",
     "text": [
      "Saving checkpoint model.\n",
      "Epoch [309/500], Loss: 0.0118\n",
      "Validation Loss: 0.0248 (RMSE: 0.1534).\n"
     ]
    },
    {
     "name": "stderr",
     "output_type": "stream",
     "text": [
      "Epoch 309: 100%|██████████| 14/14 [00:11<00:00,  1.22batch/s, loss=0.0135, rmse=0.107]\n"
     ]
    },
    {
     "name": "stdout",
     "output_type": "stream",
     "text": [
      "Calculating embeddings\n"
     ]
    },
    {
     "name": "stderr",
     "output_type": "stream",
     "text": [
      "6851it [00:03, 2233.73it/s]\n"
     ]
    },
    {
     "name": "stdout",
     "output_type": "stream",
     "text": [
      "Calculating similarity between embeddings\n"
     ]
    },
    {
     "name": "stderr",
     "output_type": "stream",
     "text": [
      "Selecting available inchikey pairs per bin: 10it [00:02,  4.58it/s]\n",
      "Selecting available inchikey pairs per bin: 10it [00:02,  4.67it/s]\n"
     ]
    },
    {
     "name": "stdout",
     "output_type": "stream",
     "text": [
      "Epoch [310/500], Loss: 0.0115\n",
      "Validation Loss: 0.0255 (RMSE: 0.1549).\n"
     ]
    },
    {
     "name": "stderr",
     "output_type": "stream",
     "text": [
      "Epoch 310: 100%|██████████| 14/14 [00:10<00:00,  1.40batch/s, loss=0.0125, rmse=0.108]\n"
     ]
    },
    {
     "name": "stdout",
     "output_type": "stream",
     "text": [
      "Calculating embeddings\n"
     ]
    },
    {
     "name": "stderr",
     "output_type": "stream",
     "text": [
      "6851it [00:03, 2142.54it/s]\n"
     ]
    },
    {
     "name": "stdout",
     "output_type": "stream",
     "text": [
      "Calculating similarity between embeddings\n"
     ]
    },
    {
     "name": "stderr",
     "output_type": "stream",
     "text": [
      "Selecting available inchikey pairs per bin: 10it [00:02,  4.72it/s]\n",
      "Selecting available inchikey pairs per bin: 10it [00:02,  4.76it/s]\n"
     ]
    },
    {
     "name": "stdout",
     "output_type": "stream",
     "text": [
      "Epoch [311/500], Loss: 0.0117\n",
      "Validation Loss: 0.0253 (RMSE: 0.1542).\n"
     ]
    },
    {
     "name": "stderr",
     "output_type": "stream",
     "text": [
      "Epoch 311: 100%|██████████| 14/14 [00:10<00:00,  1.39batch/s, loss=0.0118, rmse=0.106] \n"
     ]
    },
    {
     "name": "stdout",
     "output_type": "stream",
     "text": [
      "Calculating embeddings\n"
     ]
    },
    {
     "name": "stderr",
     "output_type": "stream",
     "text": [
      "6851it [00:02, 2437.34it/s]\n"
     ]
    },
    {
     "name": "stdout",
     "output_type": "stream",
     "text": [
      "Calculating similarity between embeddings\n"
     ]
    },
    {
     "name": "stderr",
     "output_type": "stream",
     "text": [
      "Selecting available inchikey pairs per bin: 10it [00:02,  4.98it/s]\n",
      "Selecting available inchikey pairs per bin: 10it [00:02,  4.98it/s]\n"
     ]
    },
    {
     "name": "stdout",
     "output_type": "stream",
     "text": [
      "Epoch [312/500], Loss: 0.0113\n",
      "Validation Loss: 0.0256 (RMSE: 0.1550).\n"
     ]
    },
    {
     "name": "stderr",
     "output_type": "stream",
     "text": [
      "Epoch 312: 100%|██████████| 14/14 [00:10<00:00,  1.27batch/s, loss=0.0105, rmse=0.107]\n"
     ]
    },
    {
     "name": "stdout",
     "output_type": "stream",
     "text": [
      "Calculating embeddings\n"
     ]
    },
    {
     "name": "stderr",
     "output_type": "stream",
     "text": [
      "6851it [00:03, 2161.93it/s]\n"
     ]
    },
    {
     "name": "stdout",
     "output_type": "stream",
     "text": [
      "Calculating similarity between embeddings\n"
     ]
    },
    {
     "name": "stderr",
     "output_type": "stream",
     "text": [
      "Selecting available inchikey pairs per bin: 10it [00:02,  4.87it/s]\n",
      "Selecting available inchikey pairs per bin: 10it [00:02,  4.27it/s]\n"
     ]
    },
    {
     "name": "stdout",
     "output_type": "stream",
     "text": [
      "Epoch [313/500], Loss: 0.0115\n",
      "Validation Loss: 0.0255 (RMSE: 0.1554).\n"
     ]
    },
    {
     "name": "stderr",
     "output_type": "stream",
     "text": [
      "Epoch 313: 100%|██████████| 14/14 [00:10<00:00,  1.37batch/s, loss=0.0133, rmse=0.11] \n"
     ]
    },
    {
     "name": "stdout",
     "output_type": "stream",
     "text": [
      "Calculating embeddings\n"
     ]
    },
    {
     "name": "stderr",
     "output_type": "stream",
     "text": [
      "6851it [00:03, 1984.37it/s]\n"
     ]
    },
    {
     "name": "stdout",
     "output_type": "stream",
     "text": [
      "Calculating similarity between embeddings\n"
     ]
    },
    {
     "name": "stderr",
     "output_type": "stream",
     "text": [
      "Selecting available inchikey pairs per bin: 10it [00:02,  4.34it/s]\n",
      "Selecting available inchikey pairs per bin: 10it [00:02,  4.88it/s]\n"
     ]
    },
    {
     "name": "stdout",
     "output_type": "stream",
     "text": [
      "Epoch [314/500], Loss: 0.0121\n",
      "Validation Loss: 0.0260 (RMSE: 0.1565).\n"
     ]
    },
    {
     "name": "stderr",
     "output_type": "stream",
     "text": [
      "Epoch 314: 100%|██████████| 14/14 [00:10<00:00,  1.40batch/s, loss=0.0116, rmse=0.106]\n"
     ]
    },
    {
     "name": "stdout",
     "output_type": "stream",
     "text": [
      "Calculating embeddings\n"
     ]
    },
    {
     "name": "stderr",
     "output_type": "stream",
     "text": [
      "6851it [00:02, 2540.14it/s]\n"
     ]
    },
    {
     "name": "stdout",
     "output_type": "stream",
     "text": [
      "Calculating similarity between embeddings\n"
     ]
    },
    {
     "name": "stderr",
     "output_type": "stream",
     "text": [
      "Selecting available inchikey pairs per bin: 10it [00:02,  4.86it/s]\n",
      "Selecting available inchikey pairs per bin: 10it [00:02,  4.92it/s]\n"
     ]
    },
    {
     "name": "stdout",
     "output_type": "stream",
     "text": [
      "Epoch [315/500], Loss: 0.0112\n",
      "Validation Loss: 0.0255 (RMSE: 0.1551).\n"
     ]
    },
    {
     "name": "stderr",
     "output_type": "stream",
     "text": [
      "Epoch 315: 100%|██████████| 14/14 [00:09<00:00,  1.48batch/s, loss=0.0119, rmse=0.106] \n"
     ]
    },
    {
     "name": "stdout",
     "output_type": "stream",
     "text": [
      "Calculating embeddings\n"
     ]
    },
    {
     "name": "stderr",
     "output_type": "stream",
     "text": [
      "6851it [00:02, 2407.26it/s]\n"
     ]
    },
    {
     "name": "stdout",
     "output_type": "stream",
     "text": [
      "Calculating similarity between embeddings\n"
     ]
    },
    {
     "name": "stderr",
     "output_type": "stream",
     "text": [
      "Selecting available inchikey pairs per bin: 10it [00:02,  4.11it/s]\n",
      "Selecting available inchikey pairs per bin: 10it [00:02,  4.88it/s]\n"
     ]
    },
    {
     "name": "stdout",
     "output_type": "stream",
     "text": [
      "Epoch [316/500], Loss: 0.0113\n",
      "Validation Loss: 0.0252 (RMSE: 0.1540).\n"
     ]
    },
    {
     "name": "stderr",
     "output_type": "stream",
     "text": [
      "Epoch 316: 100%|██████████| 14/14 [00:10<00:00,  1.38batch/s, loss=0.0136, rmse=0.107]\n"
     ]
    },
    {
     "name": "stdout",
     "output_type": "stream",
     "text": [
      "Calculating embeddings\n"
     ]
    },
    {
     "name": "stderr",
     "output_type": "stream",
     "text": [
      "6851it [00:02, 2506.42it/s]\n"
     ]
    },
    {
     "name": "stdout",
     "output_type": "stream",
     "text": [
      "Calculating similarity between embeddings\n"
     ]
    },
    {
     "name": "stderr",
     "output_type": "stream",
     "text": [
      "Selecting available inchikey pairs per bin: 10it [00:02,  4.84it/s]\n",
      "Selecting available inchikey pairs per bin: 10it [00:02,  4.78it/s]\n"
     ]
    },
    {
     "name": "stdout",
     "output_type": "stream",
     "text": [
      "Saving checkpoint model.\n",
      "Epoch [317/500], Loss: 0.0114\n",
      "Validation Loss: 0.0248 (RMSE: 0.1533).\n"
     ]
    },
    {
     "name": "stderr",
     "output_type": "stream",
     "text": [
      "Epoch 317: 100%|██████████| 14/14 [00:09<00:00,  1.43batch/s, loss=0.00982, rmse=0.104]\n"
     ]
    },
    {
     "name": "stdout",
     "output_type": "stream",
     "text": [
      "Calculating embeddings\n"
     ]
    },
    {
     "name": "stderr",
     "output_type": "stream",
     "text": [
      "6851it [00:03, 2232.07it/s]\n"
     ]
    },
    {
     "name": "stdout",
     "output_type": "stream",
     "text": [
      "Calculating similarity between embeddings\n"
     ]
    },
    {
     "name": "stderr",
     "output_type": "stream",
     "text": [
      "Selecting available inchikey pairs per bin: 10it [00:02,  4.83it/s]\n",
      "Selecting available inchikey pairs per bin: 10it [00:02,  4.93it/s]\n"
     ]
    },
    {
     "name": "stdout",
     "output_type": "stream",
     "text": [
      "Epoch [318/500], Loss: 0.0108\n",
      "Validation Loss: 0.0254 (RMSE: 0.1545).\n"
     ]
    },
    {
     "name": "stderr",
     "output_type": "stream",
     "text": [
      "Epoch 318: 100%|██████████| 14/14 [00:10<00:00,  1.30batch/s, loss=0.0107, rmse=0.106]\n"
     ]
    },
    {
     "name": "stdout",
     "output_type": "stream",
     "text": [
      "Calculating embeddings\n"
     ]
    },
    {
     "name": "stderr",
     "output_type": "stream",
     "text": [
      "6851it [00:02, 2524.93it/s]\n"
     ]
    },
    {
     "name": "stdout",
     "output_type": "stream",
     "text": [
      "Calculating similarity between embeddings\n"
     ]
    },
    {
     "name": "stderr",
     "output_type": "stream",
     "text": [
      "Selecting available inchikey pairs per bin: 10it [00:02,  4.98it/s]\n",
      "Selecting available inchikey pairs per bin: 10it [00:02,  4.93it/s]\n"
     ]
    },
    {
     "name": "stdout",
     "output_type": "stream",
     "text": [
      "Epoch [319/500], Loss: 0.0112\n",
      "Validation Loss: 0.0249 (RMSE: 0.1533).\n"
     ]
    },
    {
     "name": "stderr",
     "output_type": "stream",
     "text": [
      "Epoch 319: 100%|██████████| 14/14 [00:10<00:00,  1.33batch/s, loss=0.0121, rmse=0.104] \n"
     ]
    },
    {
     "name": "stdout",
     "output_type": "stream",
     "text": [
      "Calculating embeddings\n"
     ]
    },
    {
     "name": "stderr",
     "output_type": "stream",
     "text": [
      "6851it [00:02, 2418.64it/s]\n"
     ]
    },
    {
     "name": "stdout",
     "output_type": "stream",
     "text": [
      "Calculating similarity between embeddings\n"
     ]
    },
    {
     "name": "stderr",
     "output_type": "stream",
     "text": [
      "Selecting available inchikey pairs per bin: 10it [00:02,  4.81it/s]\n",
      "Selecting available inchikey pairs per bin: 10it [00:02,  4.88it/s]\n"
     ]
    },
    {
     "name": "stdout",
     "output_type": "stream",
     "text": [
      "Epoch [320/500], Loss: 0.0109\n",
      "Validation Loss: 0.0251 (RMSE: 0.1537).\n"
     ]
    },
    {
     "name": "stderr",
     "output_type": "stream",
     "text": [
      "Epoch 320: 100%|██████████| 14/14 [00:10<00:00,  1.39batch/s, loss=0.00936, rmse=0.104]\n"
     ]
    },
    {
     "name": "stdout",
     "output_type": "stream",
     "text": [
      "Calculating embeddings\n"
     ]
    },
    {
     "name": "stderr",
     "output_type": "stream",
     "text": [
      "6851it [00:03, 2121.11it/s]\n"
     ]
    },
    {
     "name": "stdout",
     "output_type": "stream",
     "text": [
      "Calculating similarity between embeddings\n"
     ]
    },
    {
     "name": "stderr",
     "output_type": "stream",
     "text": [
      "Selecting available inchikey pairs per bin: 10it [00:02,  4.86it/s]\n",
      "Selecting available inchikey pairs per bin: 10it [00:02,  3.84it/s]\n"
     ]
    },
    {
     "name": "stdout",
     "output_type": "stream",
     "text": [
      "Epoch [321/500], Loss: 0.0107\n",
      "Validation Loss: 0.0250 (RMSE: 0.1536).\n"
     ]
    },
    {
     "name": "stderr",
     "output_type": "stream",
     "text": [
      "Epoch 321: 100%|██████████| 14/14 [00:10<00:00,  1.35batch/s, loss=0.0102, rmse=0.107]\n"
     ]
    },
    {
     "name": "stdout",
     "output_type": "stream",
     "text": [
      "Calculating embeddings\n"
     ]
    },
    {
     "name": "stderr",
     "output_type": "stream",
     "text": [
      "6851it [00:02, 2495.58it/s]\n"
     ]
    },
    {
     "name": "stdout",
     "output_type": "stream",
     "text": [
      "Calculating similarity between embeddings\n"
     ]
    },
    {
     "name": "stderr",
     "output_type": "stream",
     "text": [
      "Selecting available inchikey pairs per bin: 10it [00:02,  4.75it/s]\n",
      "Selecting available inchikey pairs per bin: 10it [00:02,  4.82it/s]\n"
     ]
    },
    {
     "name": "stdout",
     "output_type": "stream",
     "text": [
      "Saving checkpoint model.\n",
      "Epoch [322/500], Loss: 0.0114\n",
      "Validation Loss: 0.0246 (RMSE: 0.1525).\n"
     ]
    },
    {
     "name": "stderr",
     "output_type": "stream",
     "text": [
      "Epoch 322: 100%|██████████| 14/14 [00:10<00:00,  1.37batch/s, loss=0.00977, rmse=0.106]\n"
     ]
    },
    {
     "name": "stdout",
     "output_type": "stream",
     "text": [
      "Calculating embeddings\n"
     ]
    },
    {
     "name": "stderr",
     "output_type": "stream",
     "text": [
      "6851it [00:03, 2126.13it/s]\n"
     ]
    },
    {
     "name": "stdout",
     "output_type": "stream",
     "text": [
      "Calculating similarity between embeddings\n"
     ]
    },
    {
     "name": "stderr",
     "output_type": "stream",
     "text": [
      "Selecting available inchikey pairs per bin: 10it [00:02,  4.79it/s]\n",
      "Selecting available inchikey pairs per bin: 10it [00:02,  4.87it/s]\n"
     ]
    },
    {
     "name": "stdout",
     "output_type": "stream",
     "text": [
      "Epoch [323/500], Loss: 0.0112\n",
      "Validation Loss: 0.0259 (RMSE: 0.1560).\n"
     ]
    },
    {
     "name": "stderr",
     "output_type": "stream",
     "text": [
      "Epoch 323: 100%|██████████| 14/14 [00:09<00:00,  1.42batch/s, loss=0.00923, rmse=0.104]\n"
     ]
    },
    {
     "name": "stdout",
     "output_type": "stream",
     "text": [
      "Calculating embeddings\n"
     ]
    },
    {
     "name": "stderr",
     "output_type": "stream",
     "text": [
      "6851it [00:03, 1996.73it/s]\n"
     ]
    },
    {
     "name": "stdout",
     "output_type": "stream",
     "text": [
      "Calculating similarity between embeddings\n"
     ]
    },
    {
     "name": "stderr",
     "output_type": "stream",
     "text": [
      "Selecting available inchikey pairs per bin: 10it [00:02,  4.88it/s]\n",
      "Selecting available inchikey pairs per bin: 10it [00:02,  4.80it/s]\n"
     ]
    },
    {
     "name": "stdout",
     "output_type": "stream",
     "text": [
      "Epoch [324/500], Loss: 0.0109\n",
      "Validation Loss: 0.0249 (RMSE: 0.1530).\n"
     ]
    },
    {
     "name": "stderr",
     "output_type": "stream",
     "text": [
      "Epoch 324: 100%|██████████| 14/14 [00:10<00:00,  1.35batch/s, loss=0.0125, rmse=0.106]\n"
     ]
    },
    {
     "name": "stdout",
     "output_type": "stream",
     "text": [
      "Calculating embeddings\n"
     ]
    },
    {
     "name": "stderr",
     "output_type": "stream",
     "text": [
      "6851it [00:03, 2234.53it/s]\n"
     ]
    },
    {
     "name": "stdout",
     "output_type": "stream",
     "text": [
      "Calculating similarity between embeddings\n"
     ]
    },
    {
     "name": "stderr",
     "output_type": "stream",
     "text": [
      "Selecting available inchikey pairs per bin: 10it [00:02,  4.32it/s]\n",
      "Selecting available inchikey pairs per bin: 10it [00:02,  4.92it/s]\n"
     ]
    },
    {
     "name": "stdout",
     "output_type": "stream",
     "text": [
      "Epoch [325/500], Loss: 0.0113\n",
      "Validation Loss: 0.0249 (RMSE: 0.1532).\n"
     ]
    },
    {
     "name": "stderr",
     "output_type": "stream",
     "text": [
      "Epoch 325: 100%|██████████| 14/14 [00:10<00:00,  1.28batch/s, loss=0.0106, rmse=0.104]\n"
     ]
    },
    {
     "name": "stdout",
     "output_type": "stream",
     "text": [
      "Calculating embeddings\n"
     ]
    },
    {
     "name": "stderr",
     "output_type": "stream",
     "text": [
      "6851it [00:03, 1949.92it/s]\n"
     ]
    },
    {
     "name": "stdout",
     "output_type": "stream",
     "text": [
      "Calculating similarity between embeddings\n"
     ]
    },
    {
     "name": "stderr",
     "output_type": "stream",
     "text": [
      "Selecting available inchikey pairs per bin: 10it [00:02,  4.75it/s]\n",
      "Selecting available inchikey pairs per bin: 10it [00:02,  4.00it/s]\n"
     ]
    },
    {
     "name": "stdout",
     "output_type": "stream",
     "text": [
      "Saving checkpoint model.\n",
      "Epoch [326/500], Loss: 0.0109\n",
      "Validation Loss: 0.0244 (RMSE: 0.1517).\n"
     ]
    },
    {
     "name": "stderr",
     "output_type": "stream",
     "text": [
      "Epoch 326: 100%|██████████| 14/14 [00:10<00:00,  1.37batch/s, loss=0.0104, rmse=0.106]\n"
     ]
    },
    {
     "name": "stdout",
     "output_type": "stream",
     "text": [
      "Calculating embeddings\n"
     ]
    },
    {
     "name": "stderr",
     "output_type": "stream",
     "text": [
      "6851it [00:02, 2491.39it/s]\n"
     ]
    },
    {
     "name": "stdout",
     "output_type": "stream",
     "text": [
      "Calculating similarity between embeddings\n"
     ]
    },
    {
     "name": "stderr",
     "output_type": "stream",
     "text": [
      "Selecting available inchikey pairs per bin: 10it [00:02,  4.88it/s]\n",
      "Selecting available inchikey pairs per bin: 10it [00:02,  4.96it/s]\n"
     ]
    },
    {
     "name": "stdout",
     "output_type": "stream",
     "text": [
      "Epoch [327/500], Loss: 0.0113\n",
      "Validation Loss: 0.0251 (RMSE: 0.1535).\n"
     ]
    },
    {
     "name": "stderr",
     "output_type": "stream",
     "text": [
      "Epoch 327: 100%|██████████| 14/14 [00:10<00:00,  1.37batch/s, loss=0.00995, rmse=0.107]\n"
     ]
    },
    {
     "name": "stdout",
     "output_type": "stream",
     "text": [
      "Calculating embeddings\n"
     ]
    },
    {
     "name": "stderr",
     "output_type": "stream",
     "text": [
      "6851it [00:02, 2462.89it/s]\n"
     ]
    },
    {
     "name": "stdout",
     "output_type": "stream",
     "text": [
      "Calculating similarity between embeddings\n"
     ]
    },
    {
     "name": "stderr",
     "output_type": "stream",
     "text": [
      "Selecting available inchikey pairs per bin: 10it [00:02,  4.68it/s]\n",
      "Selecting available inchikey pairs per bin: 10it [00:02,  4.78it/s]\n"
     ]
    },
    {
     "name": "stdout",
     "output_type": "stream",
     "text": [
      "Epoch [328/500], Loss: 0.0114\n",
      "Validation Loss: 0.0251 (RMSE: 0.1537).\n"
     ]
    },
    {
     "name": "stderr",
     "output_type": "stream",
     "text": [
      "Epoch 328: 100%|██████████| 14/14 [00:09<00:00,  1.41batch/s, loss=0.0127, rmse=0.104] \n"
     ]
    },
    {
     "name": "stdout",
     "output_type": "stream",
     "text": [
      "Calculating embeddings\n"
     ]
    },
    {
     "name": "stderr",
     "output_type": "stream",
     "text": [
      "6851it [00:03, 2050.71it/s]\n"
     ]
    },
    {
     "name": "stdout",
     "output_type": "stream",
     "text": [
      "Calculating similarity between embeddings\n"
     ]
    },
    {
     "name": "stderr",
     "output_type": "stream",
     "text": [
      "Selecting available inchikey pairs per bin: 10it [00:02,  4.85it/s]\n",
      "Selecting available inchikey pairs per bin: 10it [00:02,  4.74it/s]\n"
     ]
    },
    {
     "name": "stdout",
     "output_type": "stream",
     "text": [
      "Epoch [329/500], Loss: 0.0109\n",
      "Validation Loss: 0.0247 (RMSE: 0.1529).\n"
     ]
    },
    {
     "name": "stderr",
     "output_type": "stream",
     "text": [
      "Epoch 329: 100%|██████████| 14/14 [00:10<00:00,  1.28batch/s, loss=0.0103, rmse=0.105]\n"
     ]
    },
    {
     "name": "stdout",
     "output_type": "stream",
     "text": [
      "Calculating embeddings\n"
     ]
    },
    {
     "name": "stderr",
     "output_type": "stream",
     "text": [
      "6851it [00:03, 1938.49it/s]\n"
     ]
    },
    {
     "name": "stdout",
     "output_type": "stream",
     "text": [
      "Calculating similarity between embeddings\n"
     ]
    },
    {
     "name": "stderr",
     "output_type": "stream",
     "text": [
      "Selecting available inchikey pairs per bin: 10it [00:02,  4.80it/s]\n",
      "Selecting available inchikey pairs per bin: 10it [00:02,  4.92it/s]\n"
     ]
    },
    {
     "name": "stdout",
     "output_type": "stream",
     "text": [
      "Saving checkpoint model.\n",
      "Epoch [330/500], Loss: 0.0111\n",
      "Validation Loss: 0.0237 (RMSE: 0.1494).\n"
     ]
    },
    {
     "name": "stderr",
     "output_type": "stream",
     "text": [
      "Epoch 330: 100%|██████████| 14/14 [00:09<00:00,  1.50batch/s, loss=0.0107, rmse=0.106]\n"
     ]
    },
    {
     "name": "stdout",
     "output_type": "stream",
     "text": [
      "Calculating embeddings\n"
     ]
    },
    {
     "name": "stderr",
     "output_type": "stream",
     "text": [
      "6851it [00:02, 2573.37it/s]\n"
     ]
    },
    {
     "name": "stdout",
     "output_type": "stream",
     "text": [
      "Calculating similarity between embeddings\n"
     ]
    },
    {
     "name": "stderr",
     "output_type": "stream",
     "text": [
      "Selecting available inchikey pairs per bin: 10it [00:02,  4.83it/s]\n",
      "Selecting available inchikey pairs per bin: 10it [00:02,  4.82it/s]\n"
     ]
    },
    {
     "name": "stdout",
     "output_type": "stream",
     "text": [
      "Epoch [331/500], Loss: 0.0112\n",
      "Validation Loss: 0.0249 (RMSE: 0.1533).\n"
     ]
    },
    {
     "name": "stderr",
     "output_type": "stream",
     "text": [
      "Epoch 331: 100%|██████████| 14/14 [00:10<00:00,  1.37batch/s, loss=0.0111, rmse=0.103]\n"
     ]
    },
    {
     "name": "stdout",
     "output_type": "stream",
     "text": [
      "Calculating embeddings\n"
     ]
    },
    {
     "name": "stderr",
     "output_type": "stream",
     "text": [
      "6851it [00:03, 2219.13it/s]\n"
     ]
    },
    {
     "name": "stdout",
     "output_type": "stream",
     "text": [
      "Calculating similarity between embeddings\n"
     ]
    },
    {
     "name": "stderr",
     "output_type": "stream",
     "text": [
      "Selecting available inchikey pairs per bin: 10it [00:02,  4.74it/s]\n",
      "Selecting available inchikey pairs per bin: 10it [00:02,  4.90it/s]\n"
     ]
    },
    {
     "name": "stdout",
     "output_type": "stream",
     "text": [
      "Epoch [332/500], Loss: 0.0107\n",
      "Validation Loss: 0.0247 (RMSE: 0.1535).\n"
     ]
    },
    {
     "name": "stderr",
     "output_type": "stream",
     "text": [
      "Epoch 332: 100%|██████████| 14/14 [00:09<00:00,  1.49batch/s, loss=0.0124, rmse=0.107]\n"
     ]
    },
    {
     "name": "stdout",
     "output_type": "stream",
     "text": [
      "Calculating embeddings\n"
     ]
    },
    {
     "name": "stderr",
     "output_type": "stream",
     "text": [
      "6851it [00:02, 2443.01it/s]\n"
     ]
    },
    {
     "name": "stdout",
     "output_type": "stream",
     "text": [
      "Calculating similarity between embeddings\n"
     ]
    },
    {
     "name": "stderr",
     "output_type": "stream",
     "text": [
      "Selecting available inchikey pairs per bin: 10it [00:02,  4.26it/s]\n",
      "Selecting available inchikey pairs per bin: 10it [00:02,  4.44it/s]\n"
     ]
    },
    {
     "name": "stdout",
     "output_type": "stream",
     "text": [
      "Epoch [333/500], Loss: 0.0114\n",
      "Validation Loss: 0.0245 (RMSE: 0.1523).\n"
     ]
    },
    {
     "name": "stderr",
     "output_type": "stream",
     "text": [
      "Epoch 333: 100%|██████████| 14/14 [00:10<00:00,  1.29batch/s, loss=0.0112, rmse=0.106]\n"
     ]
    },
    {
     "name": "stdout",
     "output_type": "stream",
     "text": [
      "Calculating embeddings\n"
     ]
    },
    {
     "name": "stderr",
     "output_type": "stream",
     "text": [
      "6851it [00:03, 2119.49it/s]\n"
     ]
    },
    {
     "name": "stdout",
     "output_type": "stream",
     "text": [
      "Calculating similarity between embeddings\n"
     ]
    },
    {
     "name": "stderr",
     "output_type": "stream",
     "text": [
      "Selecting available inchikey pairs per bin: 10it [00:02,  4.83it/s]\n",
      "Selecting available inchikey pairs per bin: 10it [00:02,  4.79it/s]\n"
     ]
    },
    {
     "name": "stdout",
     "output_type": "stream",
     "text": [
      "Epoch [334/500], Loss: 0.0114\n",
      "Validation Loss: 0.0250 (RMSE: 0.1536).\n"
     ]
    },
    {
     "name": "stderr",
     "output_type": "stream",
     "text": [
      "Epoch 334: 100%|██████████| 14/14 [00:10<00:00,  1.39batch/s, loss=0.0133, rmse=0.106] \n"
     ]
    },
    {
     "name": "stdout",
     "output_type": "stream",
     "text": [
      "Calculating embeddings\n"
     ]
    },
    {
     "name": "stderr",
     "output_type": "stream",
     "text": [
      "6851it [00:03, 2179.58it/s]\n"
     ]
    },
    {
     "name": "stdout",
     "output_type": "stream",
     "text": [
      "Calculating similarity between embeddings\n"
     ]
    },
    {
     "name": "stderr",
     "output_type": "stream",
     "text": [
      "Selecting available inchikey pairs per bin: 10it [00:02,  4.80it/s]\n",
      "Selecting available inchikey pairs per bin: 10it [00:02,  4.78it/s]\n"
     ]
    },
    {
     "name": "stdout",
     "output_type": "stream",
     "text": [
      "Epoch [335/500], Loss: 0.0112\n",
      "Validation Loss: 0.0244 (RMSE: 0.1518).\n"
     ]
    },
    {
     "name": "stderr",
     "output_type": "stream",
     "text": [
      "Epoch 335: 100%|██████████| 14/14 [00:11<00:00,  1.24batch/s, loss=0.0128, rmse=0.106]\n"
     ]
    },
    {
     "name": "stdout",
     "output_type": "stream",
     "text": [
      "Calculating embeddings\n"
     ]
    },
    {
     "name": "stderr",
     "output_type": "stream",
     "text": [
      "6851it [00:02, 2411.95it/s]\n"
     ]
    },
    {
     "name": "stdout",
     "output_type": "stream",
     "text": [
      "Calculating similarity between embeddings\n"
     ]
    },
    {
     "name": "stderr",
     "output_type": "stream",
     "text": [
      "Selecting available inchikey pairs per bin: 10it [00:01,  5.05it/s]\n",
      "Selecting available inchikey pairs per bin: 10it [00:01,  5.09it/s]\n"
     ]
    },
    {
     "name": "stdout",
     "output_type": "stream",
     "text": [
      "Epoch [336/500], Loss: 0.0112\n",
      "Validation Loss: 0.0251 (RMSE: 0.1539).\n"
     ]
    },
    {
     "name": "stderr",
     "output_type": "stream",
     "text": [
      "Epoch 336: 100%|██████████| 14/14 [00:10<00:00,  1.39batch/s, loss=0.011, rmse=0.106] \n"
     ]
    },
    {
     "name": "stdout",
     "output_type": "stream",
     "text": [
      "Calculating embeddings\n"
     ]
    },
    {
     "name": "stderr",
     "output_type": "stream",
     "text": [
      "6851it [00:03, 2206.62it/s]\n"
     ]
    },
    {
     "name": "stdout",
     "output_type": "stream",
     "text": [
      "Calculating similarity between embeddings\n"
     ]
    },
    {
     "name": "stderr",
     "output_type": "stream",
     "text": [
      "Selecting available inchikey pairs per bin: 10it [00:02,  3.91it/s]\n",
      "Selecting available inchikey pairs per bin: 10it [00:02,  4.86it/s]\n"
     ]
    },
    {
     "name": "stdout",
     "output_type": "stream",
     "text": [
      "Epoch [337/500], Loss: 0.0112\n",
      "Validation Loss: 0.0243 (RMSE: 0.1516).\n"
     ]
    },
    {
     "name": "stderr",
     "output_type": "stream",
     "text": [
      "Epoch 337: 100%|██████████| 14/14 [00:10<00:00,  1.37batch/s, loss=0.0101, rmse=0.104]\n"
     ]
    },
    {
     "name": "stdout",
     "output_type": "stream",
     "text": [
      "Calculating embeddings\n"
     ]
    },
    {
     "name": "stderr",
     "output_type": "stream",
     "text": [
      "6851it [00:02, 2472.09it/s]\n"
     ]
    },
    {
     "name": "stdout",
     "output_type": "stream",
     "text": [
      "Calculating similarity between embeddings\n"
     ]
    },
    {
     "name": "stderr",
     "output_type": "stream",
     "text": [
      "Selecting available inchikey pairs per bin: 10it [00:02,  4.07it/s]\n",
      "Selecting available inchikey pairs per bin: 10it [00:01,  5.05it/s]\n"
     ]
    },
    {
     "name": "stdout",
     "output_type": "stream",
     "text": [
      "Epoch [338/500], Loss: 0.0109\n",
      "Validation Loss: 0.0242 (RMSE: 0.1513).\n"
     ]
    },
    {
     "name": "stderr",
     "output_type": "stream",
     "text": [
      "Epoch 338: 100%|██████████| 14/14 [00:10<00:00,  1.40batch/s, loss=0.0134, rmse=0.105] \n"
     ]
    },
    {
     "name": "stdout",
     "output_type": "stream",
     "text": [
      "Calculating embeddings\n"
     ]
    },
    {
     "name": "stderr",
     "output_type": "stream",
     "text": [
      "6851it [00:03, 2083.70it/s]\n"
     ]
    },
    {
     "name": "stdout",
     "output_type": "stream",
     "text": [
      "Calculating similarity between embeddings\n"
     ]
    },
    {
     "name": "stderr",
     "output_type": "stream",
     "text": [
      "Selecting available inchikey pairs per bin: 10it [00:02,  4.74it/s]\n",
      "Selecting available inchikey pairs per bin: 10it [00:02,  4.76it/s]\n"
     ]
    },
    {
     "name": "stdout",
     "output_type": "stream",
     "text": [
      "Epoch [339/500], Loss: 0.0111\n",
      "Validation Loss: 0.0243 (RMSE: 0.1512).\n"
     ]
    },
    {
     "name": "stderr",
     "output_type": "stream",
     "text": [
      "Epoch 339: 100%|██████████| 14/14 [00:10<00:00,  1.29batch/s, loss=0.0106, rmse=0.105] \n"
     ]
    },
    {
     "name": "stdout",
     "output_type": "stream",
     "text": [
      "Calculating embeddings\n"
     ]
    },
    {
     "name": "stderr",
     "output_type": "stream",
     "text": [
      "6851it [00:03, 2174.08it/s]\n"
     ]
    },
    {
     "name": "stdout",
     "output_type": "stream",
     "text": [
      "Calculating similarity between embeddings\n"
     ]
    },
    {
     "name": "stderr",
     "output_type": "stream",
     "text": [
      "Selecting available inchikey pairs per bin: 10it [00:02,  4.90it/s]\n",
      "Selecting available inchikey pairs per bin: 10it [00:02,  3.65it/s]\n"
     ]
    },
    {
     "name": "stdout",
     "output_type": "stream",
     "text": [
      "Epoch [340/500], Loss: 0.0110\n",
      "Validation Loss: 0.0246 (RMSE: 0.1522).\n"
     ]
    },
    {
     "name": "stderr",
     "output_type": "stream",
     "text": [
      "Epoch 340: 100%|██████████| 14/14 [00:10<00:00,  1.31batch/s, loss=0.0111, rmse=0.105]\n"
     ]
    },
    {
     "name": "stdout",
     "output_type": "stream",
     "text": [
      "Calculating embeddings\n"
     ]
    },
    {
     "name": "stderr",
     "output_type": "stream",
     "text": [
      "6851it [00:03, 2251.20it/s]\n"
     ]
    },
    {
     "name": "stdout",
     "output_type": "stream",
     "text": [
      "Calculating similarity between embeddings\n"
     ]
    },
    {
     "name": "stderr",
     "output_type": "stream",
     "text": [
      "Selecting available inchikey pairs per bin: 10it [00:02,  4.84it/s]\n",
      "Selecting available inchikey pairs per bin: 10it [00:02,  4.94it/s]\n"
     ]
    },
    {
     "name": "stdout",
     "output_type": "stream",
     "text": [
      "Epoch [341/500], Loss: 0.0110\n",
      "Validation Loss: 0.0239 (RMSE: 0.1505).\n"
     ]
    },
    {
     "name": "stderr",
     "output_type": "stream",
     "text": [
      "Epoch 341: 100%|██████████| 14/14 [00:09<00:00,  1.40batch/s, loss=0.0112, rmse=0.104] \n"
     ]
    },
    {
     "name": "stdout",
     "output_type": "stream",
     "text": [
      "Calculating embeddings\n"
     ]
    },
    {
     "name": "stderr",
     "output_type": "stream",
     "text": [
      "6851it [00:03, 2109.74it/s]\n"
     ]
    },
    {
     "name": "stdout",
     "output_type": "stream",
     "text": [
      "Calculating similarity between embeddings\n"
     ]
    },
    {
     "name": "stderr",
     "output_type": "stream",
     "text": [
      "Selecting available inchikey pairs per bin: 10it [00:02,  4.92it/s]\n",
      "Selecting available inchikey pairs per bin: 10it [00:02,  3.64it/s]\n"
     ]
    },
    {
     "name": "stdout",
     "output_type": "stream",
     "text": [
      "Epoch [342/500], Loss: 0.0108\n",
      "Validation Loss: 0.0243 (RMSE: 0.1522).\n"
     ]
    },
    {
     "name": "stderr",
     "output_type": "stream",
     "text": [
      "Epoch 342: 100%|██████████| 14/14 [00:10<00:00,  1.38batch/s, loss=0.0101, rmse=0.106]\n"
     ]
    },
    {
     "name": "stdout",
     "output_type": "stream",
     "text": [
      "Calculating embeddings\n"
     ]
    },
    {
     "name": "stderr",
     "output_type": "stream",
     "text": [
      "6851it [00:02, 2530.67it/s]\n"
     ]
    },
    {
     "name": "stdout",
     "output_type": "stream",
     "text": [
      "Calculating similarity between embeddings\n"
     ]
    },
    {
     "name": "stderr",
     "output_type": "stream",
     "text": [
      "Selecting available inchikey pairs per bin: 10it [00:02,  3.84it/s]\n",
      "Selecting available inchikey pairs per bin: 10it [00:02,  4.86it/s]\n"
     ]
    },
    {
     "name": "stdout",
     "output_type": "stream",
     "text": [
      "Epoch [343/500], Loss: 0.0111\n",
      "Validation Loss: 0.0243 (RMSE: 0.1519).\n"
     ]
    },
    {
     "name": "stderr",
     "output_type": "stream",
     "text": [
      "Epoch 343: 100%|██████████| 14/14 [00:09<00:00,  1.47batch/s, loss=0.0124, rmse=0.104] \n"
     ]
    },
    {
     "name": "stdout",
     "output_type": "stream",
     "text": [
      "Calculating embeddings\n"
     ]
    },
    {
     "name": "stderr",
     "output_type": "stream",
     "text": [
      "6851it [00:02, 2534.57it/s]\n"
     ]
    },
    {
     "name": "stdout",
     "output_type": "stream",
     "text": [
      "Calculating similarity between embeddings\n"
     ]
    },
    {
     "name": "stderr",
     "output_type": "stream",
     "text": [
      "Selecting available inchikey pairs per bin: 10it [00:02,  4.79it/s]\n",
      "Selecting available inchikey pairs per bin: 10it [00:02,  4.81it/s]\n"
     ]
    },
    {
     "name": "stdout",
     "output_type": "stream",
     "text": [
      "Epoch [344/500], Loss: 0.0109\n",
      "Validation Loss: 0.0246 (RMSE: 0.1525).\n"
     ]
    },
    {
     "name": "stderr",
     "output_type": "stream",
     "text": [
      "Epoch 344: 100%|██████████| 14/14 [00:09<00:00,  1.46batch/s, loss=0.0111, rmse=0.102] \n"
     ]
    },
    {
     "name": "stdout",
     "output_type": "stream",
     "text": [
      "Calculating embeddings\n"
     ]
    },
    {
     "name": "stderr",
     "output_type": "stream",
     "text": [
      "6851it [00:02, 2612.46it/s]\n"
     ]
    },
    {
     "name": "stdout",
     "output_type": "stream",
     "text": [
      "Calculating similarity between embeddings\n"
     ]
    },
    {
     "name": "stderr",
     "output_type": "stream",
     "text": [
      "Selecting available inchikey pairs per bin: 10it [00:02,  4.82it/s]\n",
      "Selecting available inchikey pairs per bin: 10it [00:02,  4.98it/s]\n"
     ]
    },
    {
     "name": "stdout",
     "output_type": "stream",
     "text": [
      "Epoch [345/500], Loss: 0.0104\n",
      "Validation Loss: 0.0253 (RMSE: 0.1542).\n"
     ]
    },
    {
     "name": "stderr",
     "output_type": "stream",
     "text": [
      "Epoch 345: 100%|██████████| 14/14 [00:10<00:00,  1.31batch/s, loss=0.0125, rmse=0.103] \n"
     ]
    },
    {
     "name": "stdout",
     "output_type": "stream",
     "text": [
      "Calculating embeddings\n"
     ]
    },
    {
     "name": "stderr",
     "output_type": "stream",
     "text": [
      "6851it [00:03, 2102.50it/s]\n"
     ]
    },
    {
     "name": "stdout",
     "output_type": "stream",
     "text": [
      "Calculating similarity between embeddings\n"
     ]
    },
    {
     "name": "stderr",
     "output_type": "stream",
     "text": [
      "Selecting available inchikey pairs per bin: 10it [00:02,  4.11it/s]\n",
      "Selecting available inchikey pairs per bin: 10it [00:02,  4.81it/s]\n"
     ]
    },
    {
     "name": "stdout",
     "output_type": "stream",
     "text": [
      "Epoch [346/500], Loss: 0.0106\n",
      "Validation Loss: 0.0261 (RMSE: 0.1568).\n"
     ]
    },
    {
     "name": "stderr",
     "output_type": "stream",
     "text": [
      "Epoch 346: 100%|██████████| 14/14 [00:11<00:00,  1.25batch/s, loss=0.0119, rmse=0.104] \n"
     ]
    },
    {
     "name": "stdout",
     "output_type": "stream",
     "text": [
      "Calculating embeddings\n"
     ]
    },
    {
     "name": "stderr",
     "output_type": "stream",
     "text": [
      "6851it [00:03, 1912.01it/s]\n"
     ]
    },
    {
     "name": "stdout",
     "output_type": "stream",
     "text": [
      "Calculating similarity between embeddings\n"
     ]
    },
    {
     "name": "stderr",
     "output_type": "stream",
     "text": [
      "Selecting available inchikey pairs per bin: 10it [00:02,  4.56it/s]\n",
      "Selecting available inchikey pairs per bin: 10it [00:02,  4.49it/s]\n"
     ]
    },
    {
     "name": "stdout",
     "output_type": "stream",
     "text": [
      "Epoch [347/500], Loss: 0.0109\n",
      "Validation Loss: 0.0247 (RMSE: 0.1529).\n"
     ]
    },
    {
     "name": "stderr",
     "output_type": "stream",
     "text": [
      "Epoch 347: 100%|██████████| 14/14 [00:11<00:00,  1.18batch/s, loss=0.00916, rmse=0.102]\n"
     ]
    },
    {
     "name": "stdout",
     "output_type": "stream",
     "text": [
      "Calculating embeddings\n"
     ]
    },
    {
     "name": "stderr",
     "output_type": "stream",
     "text": [
      "6851it [00:03, 1946.69it/s]\n"
     ]
    },
    {
     "name": "stdout",
     "output_type": "stream",
     "text": [
      "Calculating similarity between embeddings\n"
     ]
    },
    {
     "name": "stderr",
     "output_type": "stream",
     "text": [
      "Selecting available inchikey pairs per bin: 10it [00:01,  5.00it/s]\n",
      "Selecting available inchikey pairs per bin: 10it [00:01,  5.01it/s]\n"
     ]
    },
    {
     "name": "stdout",
     "output_type": "stream",
     "text": [
      "Epoch [348/500], Loss: 0.0104\n",
      "Validation Loss: 0.0256 (RMSE: 0.1551).\n"
     ]
    },
    {
     "name": "stderr",
     "output_type": "stream",
     "text": [
      "Epoch 348: 100%|██████████| 14/14 [00:10<00:00,  1.34batch/s, loss=0.012, rmse=0.102]  \n"
     ]
    },
    {
     "name": "stdout",
     "output_type": "stream",
     "text": [
      "Calculating embeddings\n"
     ]
    },
    {
     "name": "stderr",
     "output_type": "stream",
     "text": [
      "6851it [00:02, 2353.10it/s]\n"
     ]
    },
    {
     "name": "stdout",
     "output_type": "stream",
     "text": [
      "Calculating similarity between embeddings\n"
     ]
    },
    {
     "name": "stderr",
     "output_type": "stream",
     "text": [
      "Selecting available inchikey pairs per bin: 10it [00:02,  4.85it/s]\n",
      "Selecting available inchikey pairs per bin: 10it [00:02,  4.83it/s]\n"
     ]
    },
    {
     "name": "stdout",
     "output_type": "stream",
     "text": [
      "Epoch [349/500], Loss: 0.0105\n",
      "Validation Loss: 0.0247 (RMSE: 0.1528).\n"
     ]
    },
    {
     "name": "stderr",
     "output_type": "stream",
     "text": [
      "Epoch 349: 100%|██████████| 14/14 [00:09<00:00,  1.51batch/s, loss=0.0121, rmse=0.103] \n"
     ]
    },
    {
     "name": "stdout",
     "output_type": "stream",
     "text": [
      "Calculating embeddings\n"
     ]
    },
    {
     "name": "stderr",
     "output_type": "stream",
     "text": [
      "6851it [00:02, 2604.70it/s]\n"
     ]
    },
    {
     "name": "stdout",
     "output_type": "stream",
     "text": [
      "Calculating similarity between embeddings\n"
     ]
    },
    {
     "name": "stderr",
     "output_type": "stream",
     "text": [
      "Selecting available inchikey pairs per bin: 10it [00:02,  4.83it/s]\n",
      "Selecting available inchikey pairs per bin: 10it [00:02,  4.85it/s]\n"
     ]
    },
    {
     "name": "stdout",
     "output_type": "stream",
     "text": [
      "Epoch [350/500], Loss: 0.0106\n",
      "Validation Loss: 0.0248 (RMSE: 0.1529).\n"
     ]
    },
    {
     "name": "stderr",
     "output_type": "stream",
     "text": [
      "Epoch 350: 100%|██████████| 14/14 [00:10<00:00,  1.30batch/s, loss=0.00951, rmse=0.103]\n"
     ]
    },
    {
     "name": "stdout",
     "output_type": "stream",
     "text": [
      "Calculating embeddings\n"
     ]
    },
    {
     "name": "stderr",
     "output_type": "stream",
     "text": [
      "6851it [00:02, 2525.47it/s]\n"
     ]
    },
    {
     "name": "stdout",
     "output_type": "stream",
     "text": [
      "Calculating similarity between embeddings\n"
     ]
    },
    {
     "name": "stderr",
     "output_type": "stream",
     "text": [
      "Selecting available inchikey pairs per bin: 10it [00:02,  4.79it/s]\n",
      "Selecting available inchikey pairs per bin: 10it [00:02,  4.66it/s]\n"
     ]
    },
    {
     "name": "stdout",
     "output_type": "stream",
     "text": [
      "Epoch [351/500], Loss: 0.0107\n",
      "Validation Loss: 0.0242 (RMSE: 0.1509).\n"
     ]
    },
    {
     "name": "stderr",
     "output_type": "stream",
     "text": [
      "Epoch 351: 100%|██████████| 14/14 [00:11<00:00,  1.23batch/s, loss=0.00936, rmse=0.103]\n"
     ]
    },
    {
     "name": "stdout",
     "output_type": "stream",
     "text": [
      "Calculating embeddings\n"
     ]
    },
    {
     "name": "stderr",
     "output_type": "stream",
     "text": [
      "6851it [00:03, 1997.85it/s]\n"
     ]
    },
    {
     "name": "stdout",
     "output_type": "stream",
     "text": [
      "Calculating similarity between embeddings\n"
     ]
    },
    {
     "name": "stderr",
     "output_type": "stream",
     "text": [
      "Selecting available inchikey pairs per bin: 10it [00:02,  4.77it/s]\n",
      "Selecting available inchikey pairs per bin: 10it [00:02,  4.76it/s]\n"
     ]
    },
    {
     "name": "stdout",
     "output_type": "stream",
     "text": [
      "Epoch [352/500], Loss: 0.0107\n",
      "Validation Loss: 0.0248 (RMSE: 0.1527).\n"
     ]
    },
    {
     "name": "stderr",
     "output_type": "stream",
     "text": [
      "Epoch 352: 100%|██████████| 14/14 [00:10<00:00,  1.33batch/s, loss=0.00974, rmse=0.101]\n"
     ]
    },
    {
     "name": "stdout",
     "output_type": "stream",
     "text": [
      "Calculating embeddings\n"
     ]
    },
    {
     "name": "stderr",
     "output_type": "stream",
     "text": [
      "6851it [00:02, 2417.78it/s]\n"
     ]
    },
    {
     "name": "stdout",
     "output_type": "stream",
     "text": [
      "Calculating similarity between embeddings\n"
     ]
    },
    {
     "name": "stderr",
     "output_type": "stream",
     "text": [
      "Selecting available inchikey pairs per bin: 10it [00:02,  4.83it/s]\n",
      "Selecting available inchikey pairs per bin: 10it [00:02,  4.28it/s]\n"
     ]
    },
    {
     "name": "stdout",
     "output_type": "stream",
     "text": [
      "Epoch [353/500], Loss: 0.0103\n",
      "Validation Loss: 0.0244 (RMSE: 0.1516).\n"
     ]
    },
    {
     "name": "stderr",
     "output_type": "stream",
     "text": [
      "Epoch 353: 100%|██████████| 14/14 [00:10<00:00,  1.29batch/s, loss=0.00912, rmse=0.1]  \n"
     ]
    },
    {
     "name": "stdout",
     "output_type": "stream",
     "text": [
      "Calculating embeddings\n"
     ]
    },
    {
     "name": "stderr",
     "output_type": "stream",
     "text": [
      "6851it [00:03, 2129.24it/s]\n"
     ]
    },
    {
     "name": "stdout",
     "output_type": "stream",
     "text": [
      "Calculating similarity between embeddings\n"
     ]
    },
    {
     "name": "stderr",
     "output_type": "stream",
     "text": [
      "Selecting available inchikey pairs per bin: 10it [00:02,  4.94it/s]\n",
      "Selecting available inchikey pairs per bin: 10it [00:02,  4.88it/s]\n"
     ]
    },
    {
     "name": "stdout",
     "output_type": "stream",
     "text": [
      "Epoch [354/500], Loss: 0.0101\n",
      "Validation Loss: 0.0246 (RMSE: 0.1525).\n"
     ]
    },
    {
     "name": "stderr",
     "output_type": "stream",
     "text": [
      "Epoch 354: 100%|██████████| 14/14 [00:10<00:00,  1.37batch/s, loss=0.00904, rmse=0.101]\n"
     ]
    },
    {
     "name": "stdout",
     "output_type": "stream",
     "text": [
      "Calculating embeddings\n"
     ]
    },
    {
     "name": "stderr",
     "output_type": "stream",
     "text": [
      "6851it [00:02, 2500.41it/s]\n"
     ]
    },
    {
     "name": "stdout",
     "output_type": "stream",
     "text": [
      "Calculating similarity between embeddings\n"
     ]
    },
    {
     "name": "stderr",
     "output_type": "stream",
     "text": [
      "Selecting available inchikey pairs per bin: 10it [00:02,  4.84it/s]\n",
      "Selecting available inchikey pairs per bin: 10it [00:02,  4.80it/s]\n"
     ]
    },
    {
     "name": "stdout",
     "output_type": "stream",
     "text": [
      "Epoch [355/500], Loss: 0.0102\n",
      "Validation Loss: 0.0249 (RMSE: 0.1533).\n"
     ]
    },
    {
     "name": "stderr",
     "output_type": "stream",
     "text": [
      "Epoch 355: 100%|██████████| 14/14 [00:09<00:00,  1.42batch/s, loss=0.00835, rmse=0.1]  \n"
     ]
    },
    {
     "name": "stdout",
     "output_type": "stream",
     "text": [
      "Calculating embeddings\n"
     ]
    },
    {
     "name": "stderr",
     "output_type": "stream",
     "text": [
      "6851it [00:03, 2271.16it/s]\n"
     ]
    },
    {
     "name": "stdout",
     "output_type": "stream",
     "text": [
      "Calculating similarity between embeddings\n"
     ]
    },
    {
     "name": "stderr",
     "output_type": "stream",
     "text": [
      "Selecting available inchikey pairs per bin: 10it [00:02,  4.89it/s]\n",
      "Selecting available inchikey pairs per bin: 10it [00:02,  4.78it/s]\n"
     ]
    },
    {
     "name": "stdout",
     "output_type": "stream",
     "text": [
      "Epoch [356/500], Loss: 0.0100\n",
      "Validation Loss: 0.0241 (RMSE: 0.1514).\n"
     ]
    },
    {
     "name": "stderr",
     "output_type": "stream",
     "text": [
      "Epoch 356: 100%|██████████| 14/14 [00:10<00:00,  1.31batch/s, loss=0.0119, rmse=0.103]\n"
     ]
    },
    {
     "name": "stdout",
     "output_type": "stream",
     "text": [
      "Calculating embeddings\n"
     ]
    },
    {
     "name": "stderr",
     "output_type": "stream",
     "text": [
      "6851it [00:03, 2223.47it/s]\n"
     ]
    },
    {
     "name": "stdout",
     "output_type": "stream",
     "text": [
      "Calculating similarity between embeddings\n"
     ]
    },
    {
     "name": "stderr",
     "output_type": "stream",
     "text": [
      "Selecting available inchikey pairs per bin: 10it [00:02,  4.84it/s]\n",
      "Selecting available inchikey pairs per bin: 10it [00:02,  4.90it/s]\n"
     ]
    },
    {
     "name": "stdout",
     "output_type": "stream",
     "text": [
      "Epoch [357/500], Loss: 0.0106\n",
      "Validation Loss: 0.0247 (RMSE: 0.1527).\n"
     ]
    },
    {
     "name": "stderr",
     "output_type": "stream",
     "text": [
      "Epoch 357: 100%|██████████| 14/14 [00:10<00:00,  1.39batch/s, loss=0.0102, rmse=0.105] \n"
     ]
    },
    {
     "name": "stdout",
     "output_type": "stream",
     "text": [
      "Calculating embeddings\n"
     ]
    },
    {
     "name": "stderr",
     "output_type": "stream",
     "text": [
      "6851it [00:02, 2376.28it/s]\n"
     ]
    },
    {
     "name": "stdout",
     "output_type": "stream",
     "text": [
      "Calculating similarity between embeddings\n"
     ]
    },
    {
     "name": "stderr",
     "output_type": "stream",
     "text": [
      "Selecting available inchikey pairs per bin: 10it [00:02,  4.34it/s]\n",
      "Selecting available inchikey pairs per bin: 10it [00:02,  4.31it/s]\n"
     ]
    },
    {
     "name": "stdout",
     "output_type": "stream",
     "text": [
      "Epoch [358/500], Loss: 0.0109\n",
      "Validation Loss: 0.0251 (RMSE: 0.1534).\n"
     ]
    },
    {
     "name": "stderr",
     "output_type": "stream",
     "text": [
      "Epoch 358: 100%|██████████| 14/14 [00:09<00:00,  1.44batch/s, loss=0.00997, rmse=0.1]  \n"
     ]
    },
    {
     "name": "stdout",
     "output_type": "stream",
     "text": [
      "Calculating embeddings\n"
     ]
    },
    {
     "name": "stderr",
     "output_type": "stream",
     "text": [
      "6851it [00:03, 1989.96it/s]\n"
     ]
    },
    {
     "name": "stdout",
     "output_type": "stream",
     "text": [
      "Calculating similarity between embeddings\n"
     ]
    },
    {
     "name": "stderr",
     "output_type": "stream",
     "text": [
      "Selecting available inchikey pairs per bin: 10it [00:02,  4.85it/s]\n",
      "Selecting available inchikey pairs per bin: 10it [00:02,  4.76it/s]\n"
     ]
    },
    {
     "name": "stdout",
     "output_type": "stream",
     "text": [
      "Epoch [359/500], Loss: 0.0101\n",
      "Validation Loss: 0.0251 (RMSE: 0.1540).\n"
     ]
    },
    {
     "name": "stderr",
     "output_type": "stream",
     "text": [
      "Epoch 359: 100%|██████████| 14/14 [00:10<00:00,  1.35batch/s, loss=0.00894, rmse=0.102]\n"
     ]
    },
    {
     "name": "stdout",
     "output_type": "stream",
     "text": [
      "Calculating embeddings\n"
     ]
    },
    {
     "name": "stderr",
     "output_type": "stream",
     "text": [
      "6851it [00:02, 2401.38it/s]\n"
     ]
    },
    {
     "name": "stdout",
     "output_type": "stream",
     "text": [
      "Calculating similarity between embeddings\n"
     ]
    },
    {
     "name": "stderr",
     "output_type": "stream",
     "text": [
      "Selecting available inchikey pairs per bin: 10it [00:02,  4.87it/s]\n",
      "Selecting available inchikey pairs per bin: 10it [00:02,  4.18it/s]"
     ]
    },
    {
     "name": "stdout",
     "output_type": "stream",
     "text": [
      "Early stopping!\n"
     ]
    },
    {
     "name": "stderr",
     "output_type": "stream",
     "text": [
      "\n"
     ]
    }
   ],
   "source": [
    "model, history = train_ms2ds_model(\n",
    "    train_spectra,\n",
    "    val_spectra,\n",
    "    './res',\n",
    "    setting\n",
    ")"
   ]
  }
 ],
 "metadata": {
  "kernelspec": {
   "display_name": "py312",
   "language": "python",
   "name": "python3"
  },
  "language_info": {
   "codemirror_mode": {
    "name": "ipython",
    "version": 3
   },
   "file_extension": ".py",
   "mimetype": "text/x-python",
   "name": "python",
   "nbconvert_exporter": "python",
   "pygments_lexer": "ipython3",
   "version": "3.12.9"
  }
 },
 "nbformat": 4,
 "nbformat_minor": 2
}
