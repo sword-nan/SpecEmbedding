{
 "cells": [
  {
   "cell_type": "code",
   "execution_count": 5,
   "id": "0a529d8c",
   "metadata": {},
   "outputs": [],
   "source": [
    "import sys\n",
    "sys.path.append(\"../\")\n",
    "from pathlib import Path\n",
    "\n",
    "import torch\n",
    "import numpy as np\n",
    "from sklearn.metrics import roc_curve, auc\n",
    "\n",
    "from const import gnps\n",
    "from utils import load_model, cosine_similarity\n",
    "\n",
    "ROC_DIR = Path(\"/data1/xp/code/specEmbedding/ROC\")\n",
    "ROC_DIR.mkdir(exist_ok=True, parents=True)"
   ]
  },
  {
   "cell_type": "code",
   "execution_count": 6,
   "id": "06541362",
   "metadata": {},
   "outputs": [],
   "source": [
    "spectra_paths = {\n",
    "    \"gnps\":{\n",
    "        \"orbitrap\": {\n",
    "            \"train\": (gnps.ORBITRAP_TRAIN_QUERY, gnps.ORBITRAP_TEST_REF),\n",
    "            \"test\": (gnps.ORBITRAP_TEST_QUERY, gnps.ORBITRAP_TEST_REF)\n",
    "        },\n",
    "        \"qtof\": {\n",
    "            \"test\": (gnps.QTOF_TEST_QUERY, gnps.QTOF_TEST_REF)\n",
    "        },\n",
    "        \"other\": {\n",
    "            \"test\": (gnps.OTHER_TEST_QUERY, gnps.OTHER_TEST_REF)\n",
    "        }\n",
    "    },\n",
    "}\n",
    "\n",
    "gnps_train_ref = np.load(gnps.ORBITRAP_TRAIN_REF, allow_pickle=True)"
   ]
  },
  {
   "cell_type": "code",
   "execution_count": 7,
   "id": "0acb2742",
   "metadata": {},
   "outputs": [
    {
     "name": "stdout",
     "output_type": "stream",
     "text": [
      "---------------------------------------- gnps-orbitrap-train ----------------------------------------\n"
     ]
    },
    {
     "name": "stderr",
     "output_type": "stream",
     "text": [
      "6851it [00:10, 676.80it/s]\n",
      "155415it [04:20, 597.47it/s] \n"
     ]
    },
    {
     "name": "stdout",
     "output_type": "stream",
     "text": [
      "0.9631361697331491\n",
      "---------------------------------------- gnps-orbitrap-test ----------------------------------------\n"
     ]
    },
    {
     "name": "stderr",
     "output_type": "stream",
     "text": [
      "1686it [00:02, 763.69it/s]\n",
      "155415it [03:30, 738.43it/s] \n"
     ]
    },
    {
     "name": "stdout",
     "output_type": "stream",
     "text": [
      "0.8932237741071474\n",
      "---------------------------------------- gnps-qtof-test ----------------------------------------\n"
     ]
    },
    {
     "name": "stderr",
     "output_type": "stream",
     "text": [
      "7520it [00:08, 909.16it/s] \n",
      "37040it [00:49, 745.83it/s] \n"
     ]
    },
    {
     "name": "stdout",
     "output_type": "stream",
     "text": [
      "0.9198308195266631\n",
      "---------------------------------------- gnps-other-test ----------------------------------------\n"
     ]
    },
    {
     "name": "stderr",
     "output_type": "stream",
     "text": [
      "6451it [00:07, 807.69it/s] \n",
      "44241it [00:59, 748.07it/s] \n"
     ]
    },
    {
     "name": "stdout",
     "output_type": "stream",
     "text": [
      "0.8745027429866667\n"
     ]
    }
   ],
   "source": [
    "model = load_model()\n",
    "\n",
    "for db, db_metadata in spectra_paths.items():\n",
    "    for desc, path_metadata in db_metadata.items():\n",
    "        for info, paths in path_metadata.items():\n",
    "            print(\"-\" * 40, f\"{db}-{desc}-{info}\", \"-\" * 40)\n",
    "            query_path, ref_path = paths\n",
    "            ref_spectra = np.load(ref_path, allow_pickle=True)\n",
    "            query_spectra = np.load(query_path, allow_pickle=True)\n",
    "            if db == \"gnps\" and desc == \"orbitrap\":\n",
    "                ref_spectra = np.hstack((gnps_train_ref, ref_spectra))\n",
    "            \n",
    "            query_smiles = np.array([\n",
    "                s.get(\"smiles\")\n",
    "                for s in query_spectra\n",
    "            ])\n",
    "            ref_smiles = np.array([\n",
    "                s.get(\"smiles\")\n",
    "                for s in ref_spectra\n",
    "            ])\n",
    "            query_embedding = model.get_embedding_array(query_spectra)\n",
    "            ref_embedding = model.get_embedding_array(ref_spectra)\n",
    "            cosine_score = cosine_similarity(query_embedding, ref_embedding)\n",
    "            mask = np.equal(query_smiles.reshape(-1, 1), ref_smiles.reshape(-1, 1).T)\n",
    "            dir_ = ROC_DIR / f\"{db}-{desc}-{info}\"\n",
    "            dir_.mkdir(parents=True, exist_ok=True)\n",
    "            indices = np.load(dir_ / \"random_indices.npy\", allow_pickle=True).item()\n",
    "            random_rows = indices[\"row\"]\n",
    "            random_cols = indices[\"col\"]\n",
    "            fpr, tpr, _ = roc_curve(mask[random_rows, random_cols], cosine_score[random_rows, random_cols])\n",
    "            print(auc(fpr, tpr))\n",
    "            np.save(dir_ / \"MS2DeepScore.npy\", {\"fpr\": fpr, \"tpr\": tpr})"
   ]
  }
 ],
 "metadata": {
  "kernelspec": {
   "display_name": "py312",
   "language": "python",
   "name": "python3"
  },
  "language_info": {
   "codemirror_mode": {
    "name": "ipython",
    "version": 3
   },
   "file_extension": ".py",
   "mimetype": "text/x-python",
   "name": "python",
   "nbconvert_exporter": "python",
   "pygments_lexer": "ipython3",
   "version": "3.12.9"
  }
 },
 "nbformat": 4,
 "nbformat_minor": 5
}
