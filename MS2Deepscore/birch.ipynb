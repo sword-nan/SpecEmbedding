{
 "cells": [
  {
   "cell_type": "code",
   "execution_count": null,
   "id": "650bfae5",
   "metadata": {},
   "outputs": [],
   "source": [
    "import sys\n",
    "sys.path.append(\"../\")\n",
    "\n",
    "import numpy as np\n",
    "from ms2deepscore.models import load_model\n",
    "from ms2deepscore import MS2DeepScore\n",
    "from sklearn.cluster import Birch\n",
    "from sklearn import metrics\n",
    "from sklearn.metrics import accuracy_score\n",
    "\n",
    "from const import tsne_cluster"
   ]
  },
  {
   "cell_type": "code",
   "execution_count": 2,
   "id": "7e3037d0",
   "metadata": {},
   "outputs": [],
   "source": [
    "def get_label(spectra):\n",
    "    smiles_seq = np.array([s.get(\"smiles\") for s in spectra])\n",
    "    unique_smiles = np.unique(smiles_seq)\n",
    "    labels = np.zeros((len(spectra, )))\n",
    "    for i, smiles in enumerate(unique_smiles):\n",
    "        labels[smiles_seq == smiles] = i\n",
    "    return labels, unique_smiles"
   ]
  },
  {
   "cell_type": "code",
   "execution_count": 3,
   "id": "675b04d8",
   "metadata": {},
   "outputs": [],
   "source": [
    "def purity_score(y_true, y_pred):\n",
    "    y_voted_labels = np.zeros(y_true.shape)\n",
    "    labels = np.unique(y_true)\n",
    "    ordered_labels = np.arange(labels.shape[0])\n",
    "    for k in range(labels.shape[0]):\n",
    "        y_true[y_true == labels[k]] = ordered_labels[k]\n",
    "    # Update unique labels\n",
    "    labels = np.unique(y_true)\n",
    "    bins = np.concatenate((labels, [np.max(labels) + 1]), axis=0)\n",
    "\n",
    "    for cluster in np.unique(y_pred):\n",
    "        hist, _ = np.histogram(y_true[y_pred == cluster], bins=bins)\n",
    "        # Find the most present label in the cluster\n",
    "        winner = np.argmax(hist)\n",
    "        y_voted_labels[y_pred == cluster] = winner\n",
    "\n",
    "    return accuracy_score(y_true, y_voted_labels)"
   ]
  },
  {
   "cell_type": "code",
   "execution_count": 4,
   "id": "01b01028",
   "metadata": {},
   "outputs": [],
   "source": [
    "def CalEvaluate(labels_true, labels_pred):\n",
    "    purity = purity_score(labels_true, labels_pred)\n",
    "    ari = metrics.adjusted_rand_score(labels_true, labels_pred)\n",
    "    homogeneity = metrics.homogeneity_score(labels_true, labels_pred)\n",
    "    completeness = metrics.completeness_score(labels_true, labels_pred)\n",
    "    v_measure = metrics.v_measure_score(labels_true, labels_pred, beta=0.5)\n",
    "    result = {\n",
    "        'ARI': ari,\n",
    "        \"purity\": purity,\n",
    "        'homogeneity': homogeneity,\n",
    "        'completeness': completeness,\n",
    "        'v_measure': v_measure\n",
    "    }\n",
    "    return result"
   ]
  },
  {
   "cell_type": "code",
   "execution_count": 5,
   "id": "3679e0ff",
   "metadata": {},
   "outputs": [],
   "source": [
    "show_progress_bar = False\n",
    "model_state_path = \"./res/ms2deepscore_model.pt\"\n",
    "\n",
    "model = load_model(model_state_path)\n",
    "ms2ds_model = MS2DeepScore(model, show_progress_bar)"
   ]
  },
  {
   "cell_type": "code",
   "execution_count": 6,
   "id": "26456003",
   "metadata": {},
   "outputs": [
    {
     "name": "stderr",
     "output_type": "stream",
     "text": [
      "34122it [00:36, 939.82it/s] \n"
     ]
    },
    {
     "data": {
      "text/plain": [
       "{'ARI': 0.23159149614673918,\n",
       " 'purity': 0.4694625168512983,\n",
       " 'homogeneity': 0.7439108435815267,\n",
       " 'completeness': 0.7136393156149966,\n",
       " 'v_measure': 0.7335389630214304}"
      ]
     },
     "execution_count": 6,
     "metadata": {},
     "output_type": "execute_result"
    }
   ],
   "source": [
    "spectra = np.load(tsne_cluster.SPECEMBEDDING_CLUSTER, allow_pickle=True)\n",
    "labels, unique_smiles = get_label(spectra)\n",
    "\n",
    "spectra_embedding = ms2ds_model.get_embedding_array(spectra)\n",
    "brc = Birch(threshold=0.05, n_clusters=len(unique_smiles))\n",
    "pred_labels = brc.fit_predict(spectra_embedding)\n",
    "CalEvaluate(labels, pred_labels)"
   ]
  },
  {
   "cell_type": "code",
   "execution_count": 7,
   "id": "5a43ee53",
   "metadata": {},
   "outputs": [
    {
     "name": "stderr",
     "output_type": "stream",
     "text": [
      "13217it [00:15, 830.08it/s]\n"
     ]
    },
    {
     "data": {
      "text/plain": [
       "{'ARI': 0.29333718383009255,\n",
       " 'purity': 0.5858364227888325,\n",
       " 'homogeneity': 0.7838225265298272,\n",
       " 'completeness': 0.7464418506032617,\n",
       " 'v_measure': 0.770953138511644}"
      ]
     },
     "execution_count": 7,
     "metadata": {},
     "output_type": "execute_result"
    }
   ],
   "source": [
    "spectra = np.load(tsne_cluster.MSBERT_CLUSTER, allow_pickle=True)\n",
    "labels, unique_smiles = get_label(spectra)\n",
    "\n",
    "spectra_embedding = ms2ds_model.get_embedding_array(spectra)\n",
    "\n",
    "brc = Birch(threshold=0.05, n_clusters=len(unique_smiles))\n",
    "pred_labels = brc.fit_predict(spectra_embedding)\n",
    "CalEvaluate(labels, pred_labels)"
   ]
  }
 ],
 "metadata": {
  "kernelspec": {
   "display_name": "py312",
   "language": "python",
   "name": "python3"
  },
  "language_info": {
   "codemirror_mode": {
    "name": "ipython",
    "version": 3
   },
   "file_extension": ".py",
   "mimetype": "text/x-python",
   "name": "python",
   "nbconvert_exporter": "python",
   "pygments_lexer": "ipython3",
   "version": "3.12.9"
  }
 },
 "nbformat": 4,
 "nbformat_minor": 5
}
