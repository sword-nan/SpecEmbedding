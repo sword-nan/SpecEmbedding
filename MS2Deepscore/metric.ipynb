{
 "cells": [
  {
   "cell_type": "code",
   "execution_count": 1,
   "id": "94c84bab",
   "metadata": {},
   "outputs": [],
   "source": [
    "import sys\n",
    "sys.path.append(\"../\")\n",
    "from pathlib import Path\n",
    "\n",
    "import pandas as pd\n",
    "import numpy as np\n",
    "from tqdm import tqdm\n",
    "\n",
    "from const import gnps, mona\n",
    "from utils import search_with_spectra, load_model, most_similar, cosine_similarity"
   ]
  },
  {
   "cell_type": "code",
   "execution_count": 2,
   "id": "357f3a88",
   "metadata": {},
   "outputs": [],
   "source": [
    "show_progress_bar = False\n",
    "model = load_model()\n",
    "\n",
    "batch_size = None\n",
    "k_metric = [5, 1, 10]\n",
    "loader_batch_size = 512\n",
    "\n",
    "replica_suffix = \"-replication-{}\""
   ]
  },
  {
   "cell_type": "code",
   "execution_count": 3,
   "id": "03f8523e",
   "metadata": {},
   "outputs": [],
   "source": [
    "spectra_paths = {\n",
    "    \"gnps\":{\n",
    "        \"orbitrap\": {\n",
    "            \"train\": (gnps.ORBITRAP_TRAIN_QUERY, gnps.ORBITRAP_TEST_REF),\n",
    "            \"test\": (gnps.ORBITRAP_TEST_QUERY, gnps.ORBITRAP_TEST_REF)\n",
    "        },\n",
    "        \"qtof\": {\n",
    "            \"test\": (gnps.QTOF_TEST_QUERY, gnps.QTOF_TEST_REF)\n",
    "        },\n",
    "        \"other\": {\n",
    "            \"test\": (gnps.OTHER_TEST_QUERY, gnps.OTHER_TEST_REF)\n",
    "        }\n",
    "    },\n",
    "}\n",
    "\n",
    "gnps_train_ref = np.load(gnps.ORBITRAP_TRAIN_REF, allow_pickle=True)"
   ]
  },
  {
   "cell_type": "code",
   "execution_count": 4,
   "id": "58053fa9",
   "metadata": {},
   "outputs": [
    {
     "name": "stderr",
     "output_type": "stream",
     "text": [
      "  0%|          | 0/10 [00:00<?, ?it/s]"
     ]
    },
    {
     "name": "stdout",
     "output_type": "stream",
     "text": [
      "---------------------------------------- gnps-orbitrap-train ----------------------------------------\n"
     ]
    },
    {
     "name": "stderr",
     "output_type": "stream",
     "text": [
      "6851it [00:11, 597.07it/s]\n",
      "155415it [03:26, 751.57it/s]\n"
     ]
    },
    {
     "name": "stdout",
     "output_type": "stream",
     "text": [
      "---------------------------------------- gnps-orbitrap-test ----------------------------------------\n"
     ]
    },
    {
     "name": "stderr",
     "output_type": "stream",
     "text": [
      "1686it [00:03, 549.86it/s]\n",
      "155415it [03:28, 746.77it/s]\n"
     ]
    },
    {
     "name": "stdout",
     "output_type": "stream",
     "text": [
      "---------------------------------------- gnps-qtof-test ----------------------------------------\n"
     ]
    },
    {
     "name": "stderr",
     "output_type": "stream",
     "text": [
      "7520it [00:09, 758.98it/s] \n",
      "37040it [00:50, 736.02it/s]\n"
     ]
    },
    {
     "name": "stdout",
     "output_type": "stream",
     "text": [
      "---------------------------------------- gnps-other-test ----------------------------------------\n"
     ]
    },
    {
     "name": "stderr",
     "output_type": "stream",
     "text": [
      "6451it [00:08, 742.03it/s] \n",
      "44241it [01:01, 721.20it/s]\n",
      " 10%|█         | 1/10 [09:44<1:27:37, 584.20s/it]"
     ]
    },
    {
     "name": "stdout",
     "output_type": "stream",
     "text": [
      "                         top1      top5     top10\n",
      "gnps-orbitrap-train  0.652459  0.798570  0.838126\n",
      "gnps-orbitrap-test   0.641756  0.794187  0.832740\n",
      "gnps-qtof-test       0.388165  0.555984  0.604122\n",
      "gnps-other-test      0.507363  0.662223  0.711363\n",
      "---------------------------------------- gnps-orbitrap-train ----------------------------------------\n"
     ]
    },
    {
     "name": "stderr",
     "output_type": "stream",
     "text": [
      "6851it [00:10, 641.55it/s]\n",
      "155415it [03:49, 676.04it/s]\n"
     ]
    },
    {
     "name": "stdout",
     "output_type": "stream",
     "text": [
      "---------------------------------------- gnps-orbitrap-test ----------------------------------------\n"
     ]
    },
    {
     "name": "stderr",
     "output_type": "stream",
     "text": [
      "1686it [00:02, 617.84it/s]\n",
      "155415it [03:18, 783.84it/s]\n"
     ]
    },
    {
     "name": "stdout",
     "output_type": "stream",
     "text": [
      "---------------------------------------- gnps-qtof-test ----------------------------------------\n"
     ]
    },
    {
     "name": "stderr",
     "output_type": "stream",
     "text": [
      "7520it [00:16, 444.23it/s]\n",
      "37040it [01:13, 505.13it/s]\n"
     ]
    },
    {
     "name": "stdout",
     "output_type": "stream",
     "text": [
      "---------------------------------------- gnps-other-test ----------------------------------------\n"
     ]
    },
    {
     "name": "stderr",
     "output_type": "stream",
     "text": [
      "6451it [00:15, 415.10it/s]\n",
      "44241it [01:30, 487.80it/s]\n",
      " 20%|██        | 2/10 [20:45<1:23:54, 629.28s/it]"
     ]
    },
    {
     "name": "stdout",
     "output_type": "stream",
     "text": [
      "                         top1      top5     top10\n",
      "gnps-orbitrap-train  0.652751  0.799007  0.838272\n",
      "gnps-orbitrap-test   0.625741  0.791815  0.830368\n",
      "gnps-qtof-test       0.386835  0.553059  0.602793\n",
      "gnps-other-test      0.505968  0.662843  0.709502\n",
      "---------------------------------------- gnps-orbitrap-train ----------------------------------------\n"
     ]
    },
    {
     "name": "stderr",
     "output_type": "stream",
     "text": [
      "6851it [00:12, 558.75it/s] \n",
      "155415it [05:12, 497.31it/s]\n"
     ]
    },
    {
     "name": "stdout",
     "output_type": "stream",
     "text": [
      "---------------------------------------- gnps-orbitrap-test ----------------------------------------\n"
     ]
    },
    {
     "name": "stderr",
     "output_type": "stream",
     "text": [
      "1686it [00:03, 453.90it/s]\n",
      "155415it [05:19, 485.69it/s]\n"
     ]
    },
    {
     "name": "stdout",
     "output_type": "stream",
     "text": [
      "---------------------------------------- gnps-qtof-test ----------------------------------------\n"
     ]
    },
    {
     "name": "stderr",
     "output_type": "stream",
     "text": [
      "7520it [00:17, 423.12it/s]\n",
      "37040it [01:18, 472.40it/s]\n"
     ]
    },
    {
     "name": "stdout",
     "output_type": "stream",
     "text": [
      "---------------------------------------- gnps-other-test ----------------------------------------\n"
     ]
    },
    {
     "name": "stderr",
     "output_type": "stream",
     "text": [
      "6451it [00:15, 427.95it/s]\n",
      "44241it [01:25, 517.95it/s]\n",
      " 30%|███       | 3/10 [35:14<1:26:11, 738.82s/it]"
     ]
    },
    {
     "name": "stdout",
     "output_type": "stream",
     "text": [
      "                         top1      top5     top10\n",
      "gnps-orbitrap-train  0.653627  0.798716  0.837250\n",
      "gnps-orbitrap-test   0.624555  0.794187  0.832740\n",
      "gnps-qtof-test       0.384176  0.552394  0.604521\n",
      "gnps-other-test      0.504263  0.659743  0.706712\n",
      "---------------------------------------- gnps-orbitrap-train ----------------------------------------\n"
     ]
    },
    {
     "name": "stderr",
     "output_type": "stream",
     "text": [
      "6851it [00:16, 403.29it/s]\n",
      "155415it [05:17, 488.77it/s]\n"
     ]
    },
    {
     "name": "stdout",
     "output_type": "stream",
     "text": [
      "---------------------------------------- gnps-orbitrap-test ----------------------------------------\n"
     ]
    },
    {
     "name": "stderr",
     "output_type": "stream",
     "text": [
      "1686it [00:03, 449.19it/s]\n",
      "155415it [05:16, 491.81it/s]\n"
     ]
    },
    {
     "name": "stdout",
     "output_type": "stream",
     "text": [
      "---------------------------------------- gnps-qtof-test ----------------------------------------\n"
     ]
    },
    {
     "name": "stderr",
     "output_type": "stream",
     "text": [
      "7520it [00:15, 473.48it/s]\n",
      "37040it [01:18, 474.64it/s]\n"
     ]
    },
    {
     "name": "stdout",
     "output_type": "stream",
     "text": [
      "---------------------------------------- gnps-other-test ----------------------------------------\n"
     ]
    },
    {
     "name": "stderr",
     "output_type": "stream",
     "text": [
      "6451it [00:14, 432.13it/s]\n",
      "44241it [01:33, 474.33it/s]\n",
      " 40%|████      | 4/10 [49:54<1:19:27, 794.63s/it]"
     ]
    },
    {
     "name": "stdout",
     "output_type": "stream",
     "text": [
      "                         top1      top5     top10\n",
      "gnps-orbitrap-train  0.652314  0.799007  0.838126\n",
      "gnps-orbitrap-test   0.640569  0.788256  0.826809\n",
      "gnps-qtof-test       0.377394  0.552128  0.601862\n",
      "gnps-other-test      0.512944  0.665943  0.714773\n",
      "---------------------------------------- gnps-orbitrap-train ----------------------------------------\n"
     ]
    },
    {
     "name": "stderr",
     "output_type": "stream",
     "text": [
      "6851it [00:09, 729.15it/s]\n",
      "155415it [04:30, 573.54it/s] \n"
     ]
    },
    {
     "name": "stdout",
     "output_type": "stream",
     "text": [
      "---------------------------------------- gnps-orbitrap-test ----------------------------------------\n"
     ]
    },
    {
     "name": "stderr",
     "output_type": "stream",
     "text": [
      "1686it [00:02, 592.43it/s]\n",
      "155415it [03:35, 722.25it/s] \n"
     ]
    },
    {
     "name": "stdout",
     "output_type": "stream",
     "text": [
      "---------------------------------------- gnps-qtof-test ----------------------------------------\n"
     ]
    },
    {
     "name": "stderr",
     "output_type": "stream",
     "text": [
      "7520it [00:11, 665.13it/s]\n",
      "37040it [00:48, 758.99it/s] \n"
     ]
    },
    {
     "name": "stdout",
     "output_type": "stream",
     "text": [
      "---------------------------------------- gnps-other-test ----------------------------------------\n"
     ]
    },
    {
     "name": "stderr",
     "output_type": "stream",
     "text": [
      "6451it [00:10, 625.15it/s]\n",
      "44241it [01:04, 683.40it/s]\n",
      " 50%|█████     | 5/10 [1:00:51<1:02:05, 745.18s/it]"
     ]
    },
    {
     "name": "stdout",
     "output_type": "stream",
     "text": [
      "                         top1      top5     top10\n",
      "gnps-orbitrap-train  0.652168  0.797986  0.838126\n",
      "gnps-orbitrap-test   0.631673  0.791222  0.833333\n",
      "gnps-qtof-test       0.376330  0.546941  0.601729\n",
      "gnps-other-test      0.496822  0.653542  0.703612\n",
      "---------------------------------------- gnps-orbitrap-train ----------------------------------------\n"
     ]
    },
    {
     "name": "stderr",
     "output_type": "stream",
     "text": [
      "6851it [00:09, 703.47it/s] \n",
      "155415it [03:40, 704.87it/s]\n"
     ]
    },
    {
     "name": "stdout",
     "output_type": "stream",
     "text": [
      "---------------------------------------- gnps-orbitrap-test ----------------------------------------\n"
     ]
    },
    {
     "name": "stderr",
     "output_type": "stream",
     "text": [
      "1686it [00:02, 673.51it/s]\n",
      "155415it [03:36, 718.17it/s] \n"
     ]
    },
    {
     "name": "stdout",
     "output_type": "stream",
     "text": [
      "---------------------------------------- gnps-qtof-test ----------------------------------------\n"
     ]
    },
    {
     "name": "stderr",
     "output_type": "stream",
     "text": [
      "7520it [00:12, 610.76it/s]\n",
      "37040it [00:51, 716.87it/s]\n"
     ]
    },
    {
     "name": "stdout",
     "output_type": "stream",
     "text": [
      "---------------------------------------- gnps-other-test ----------------------------------------\n"
     ]
    },
    {
     "name": "stderr",
     "output_type": "stream",
     "text": [
      "6451it [00:10, 612.50it/s]\n",
      "44241it [01:04, 681.83it/s]\n",
      " 60%|██████    | 6/10 [1:11:04<46:40, 700.01s/it]  "
     ]
    },
    {
     "name": "stdout",
     "output_type": "stream",
     "text": [
      "                         top1      top5     top10\n",
      "gnps-orbitrap-train  0.652605  0.798424  0.837688\n",
      "gnps-orbitrap-test   0.631673  0.795374  0.842230\n",
      "gnps-qtof-test       0.381782  0.549601  0.602660\n",
      "gnps-other-test      0.511084  0.664548  0.711363\n",
      "---------------------------------------- gnps-orbitrap-train ----------------------------------------\n"
     ]
    },
    {
     "name": "stderr",
     "output_type": "stream",
     "text": [
      "6851it [00:07, 902.35it/s]\n",
      "155415it [03:43, 695.93it/s]\n"
     ]
    },
    {
     "name": "stdout",
     "output_type": "stream",
     "text": [
      "---------------------------------------- gnps-orbitrap-test ----------------------------------------\n"
     ]
    },
    {
     "name": "stderr",
     "output_type": "stream",
     "text": [
      "1686it [00:03, 518.62it/s]\n",
      "155415it [04:14, 611.35it/s]\n"
     ]
    },
    {
     "name": "stdout",
     "output_type": "stream",
     "text": [
      "---------------------------------------- gnps-qtof-test ----------------------------------------\n"
     ]
    },
    {
     "name": "stderr",
     "output_type": "stream",
     "text": [
      "7520it [00:12, 615.19it/s]\n",
      "37040it [00:52, 707.65it/s]\n"
     ]
    },
    {
     "name": "stdout",
     "output_type": "stream",
     "text": [
      "---------------------------------------- gnps-other-test ----------------------------------------\n"
     ]
    },
    {
     "name": "stderr",
     "output_type": "stream",
     "text": [
      "6451it [00:10, 640.64it/s]\n",
      "44241it [01:02, 708.03it/s]\n",
      " 70%|███████   | 7/10 [1:21:51<34:08, 682.82s/it]"
     ]
    },
    {
     "name": "stdout",
     "output_type": "stream",
     "text": [
      "                         top1      top5     top10\n",
      "gnps-orbitrap-train  0.652022  0.799591  0.838418\n",
      "gnps-orbitrap-test   0.645907  0.803677  0.845789\n",
      "gnps-qtof-test       0.385106  0.552793  0.604521\n",
      "gnps-other-test      0.501473  0.656177  0.701287\n",
      "---------------------------------------- gnps-orbitrap-train ----------------------------------------\n"
     ]
    },
    {
     "name": "stderr",
     "output_type": "stream",
     "text": [
      "6851it [00:07, 871.20it/s]\n",
      "155415it [03:18, 781.96it/s] \n"
     ]
    },
    {
     "name": "stdout",
     "output_type": "stream",
     "text": [
      "---------------------------------------- gnps-orbitrap-test ----------------------------------------\n"
     ]
    },
    {
     "name": "stderr",
     "output_type": "stream",
     "text": [
      "1686it [00:03, 486.85it/s]\n",
      "155415it [03:15, 795.37it/s]\n"
     ]
    },
    {
     "name": "stdout",
     "output_type": "stream",
     "text": [
      "---------------------------------------- gnps-qtof-test ----------------------------------------\n"
     ]
    },
    {
     "name": "stderr",
     "output_type": "stream",
     "text": [
      "7520it [00:10, 739.28it/s]\n",
      "37040it [00:52, 699.13it/s]\n"
     ]
    },
    {
     "name": "stdout",
     "output_type": "stream",
     "text": [
      "---------------------------------------- gnps-other-test ----------------------------------------\n"
     ]
    },
    {
     "name": "stderr",
     "output_type": "stream",
     "text": [
      "6451it [00:09, 672.79it/s]\n",
      "44241it [01:04, 689.36it/s] \n",
      " 80%|████████  | 8/10 [1:31:13<21:28, 644.41s/it]"
     ]
    },
    {
     "name": "stdout",
     "output_type": "stream",
     "text": [
      "                         top1      top5     top10\n",
      "gnps-orbitrap-train  0.652751  0.797840  0.838564\n",
      "gnps-orbitrap-test   0.633452  0.781732  0.828588\n",
      "gnps-qtof-test       0.382979  0.549202  0.599069\n",
      "gnps-other-test      0.514339  0.665168  0.715548\n",
      "---------------------------------------- gnps-orbitrap-train ----------------------------------------\n"
     ]
    },
    {
     "name": "stderr",
     "output_type": "stream",
     "text": [
      "6851it [00:07, 889.98it/s]\n",
      "155415it [04:17, 602.91it/s]\n"
     ]
    },
    {
     "name": "stdout",
     "output_type": "stream",
     "text": [
      "---------------------------------------- gnps-orbitrap-test ----------------------------------------\n"
     ]
    },
    {
     "name": "stderr",
     "output_type": "stream",
     "text": [
      "1686it [00:02, 574.53it/s]\n",
      "155415it [03:37, 715.20it/s]\n"
     ]
    },
    {
     "name": "stdout",
     "output_type": "stream",
     "text": [
      "---------------------------------------- gnps-qtof-test ----------------------------------------\n"
     ]
    },
    {
     "name": "stderr",
     "output_type": "stream",
     "text": [
      "7520it [00:11, 649.55it/s]\n",
      "37040it [00:54, 675.36it/s]\n"
     ]
    },
    {
     "name": "stdout",
     "output_type": "stream",
     "text": [
      "---------------------------------------- gnps-other-test ----------------------------------------\n"
     ]
    },
    {
     "name": "stderr",
     "output_type": "stream",
     "text": [
      "6451it [00:10, 621.50it/s]\n",
      "44241it [01:03, 701.08it/s]\n",
      " 90%|█████████ | 9/10 [1:42:00<10:45, 645.27s/it]"
     ]
    },
    {
     "name": "stdout",
     "output_type": "stream",
     "text": [
      "                         top1      top5     top10\n",
      "gnps-orbitrap-train  0.651876  0.799299  0.838126\n",
      "gnps-orbitrap-test   0.622776  0.776394  0.828588\n",
      "gnps-qtof-test       0.384043  0.550399  0.600665\n",
      "gnps-other-test      0.508603  0.660363  0.706402\n",
      "---------------------------------------- gnps-orbitrap-train ----------------------------------------\n"
     ]
    },
    {
     "name": "stderr",
     "output_type": "stream",
     "text": [
      "6851it [00:11, 622.00it/s]\n",
      "155415it [02:34, 1006.89it/s]\n"
     ]
    },
    {
     "name": "stdout",
     "output_type": "stream",
     "text": [
      "---------------------------------------- gnps-orbitrap-test ----------------------------------------\n"
     ]
    },
    {
     "name": "stderr",
     "output_type": "stream",
     "text": [
      "1686it [00:01, 1173.50it/s]\n",
      "155415it [02:19, 1116.09it/s]\n"
     ]
    },
    {
     "name": "stdout",
     "output_type": "stream",
     "text": [
      "---------------------------------------- gnps-qtof-test ----------------------------------------\n"
     ]
    },
    {
     "name": "stderr",
     "output_type": "stream",
     "text": [
      "7520it [00:05, 1300.57it/s]\n",
      "37040it [00:32, 1152.05it/s]\n"
     ]
    },
    {
     "name": "stdout",
     "output_type": "stream",
     "text": [
      "---------------------------------------- gnps-other-test ----------------------------------------\n"
     ]
    },
    {
     "name": "stderr",
     "output_type": "stream",
     "text": [
      "6451it [00:06, 1051.58it/s]\n",
      "44241it [00:40, 1084.50it/s]\n",
      "100%|██████████| 10/10 [1:48:53<00:00, 653.31s/it]"
     ]
    },
    {
     "name": "stdout",
     "output_type": "stream",
     "text": [
      "                         top1      top5     top10\n",
      "gnps-orbitrap-train  0.652168  0.798716  0.838272\n",
      "gnps-orbitrap-test   0.625148  0.781139  0.823843\n",
      "gnps-qtof-test       0.380718  0.544548  0.597074\n",
      "gnps-other-test      0.502868  0.654627  0.704077\n"
     ]
    },
    {
     "name": "stderr",
     "output_type": "stream",
     "text": [
      "\n"
     ]
    }
   ],
   "source": [
    "replica_df_seq = []\n",
    "for i in tqdm(range(10)):\n",
    "    df_seq = []\n",
    "    for db, db_metadata in spectra_paths.items():\n",
    "        for desc, path_metadata in db_metadata.items():\n",
    "            for info, paths in path_metadata.items():\n",
    "                print(\"-\" * 40, f\"{db}-{desc}-{info}\", \"-\" * 40)\n",
    "                query_path, ref_path = paths\n",
    "                query_path = query_path.with_stem(query_path.stem + replica_suffix.format(i + 1))\n",
    "                ref_path = ref_path.with_stem(ref_path.stem + replica_suffix.format(i + 1))\n",
    "                if info == \"train\":\n",
    "                    query_path = gnps.ORBITRAP_TRAIN_QUERY\n",
    "                \n",
    "                ref_spectra = np.load(ref_path, allow_pickle=True)\n",
    "                query_spectra = np.load(query_path, allow_pickle=True)\n",
    "                if desc == \"orbitrap\":\n",
    "                    ref_spectra = np.hstack((gnps_train_ref, ref_spectra))\n",
    "                \n",
    "                df = search_with_spectra(\n",
    "                    f\"{db}-{desc}-{info}\", model, \n",
    "                    query_spectra, ref_spectra,\n",
    "                    k_metric, batch_size,\n",
    "                    show_progress_bar\n",
    "                )\n",
    "                df_seq.append(df)\n",
    "    df = pd.concat(df_seq, axis=0)\n",
    "    print(df)\n",
    "    replica_df_seq.append(df)"
   ]
  },
  {
   "cell_type": "code",
   "execution_count": 5,
   "id": "c1f7631f",
   "metadata": {},
   "outputs": [
    {
     "data": {
      "text/plain": [
       "(array([[65.25, 79.87, 83.81],\n",
       "        [63.23, 78.98, 83.25],\n",
       "        [38.28, 55.07, 60.19],\n",
       "        [50.66, 66.05, 70.85]]),\n",
       " array([[0.05, 0.05, 0.04],\n",
       "        [0.77, 0.77, 0.64],\n",
       "        [0.36, 0.31, 0.23],\n",
       "        [0.52, 0.42, 0.46]]))"
      ]
     },
     "execution_count": 5,
     "metadata": {},
     "output_type": "execute_result"
    }
   ],
   "source": [
    "data = []\n",
    "indices = replica_df_seq[0].index\n",
    "columns = replica_df_seq[0].columns\n",
    "for item in replica_df_seq:\n",
    "    data.append([item.values])\n",
    "data = np.concatenate(data, axis=0)\n",
    "np.set_printoptions(precision=2, suppress=True)\n",
    "np.mean(data, axis=0) * 100, np.std(data, axis=0) * 100"
   ]
  },
  {
   "cell_type": "code",
   "execution_count": 6,
   "id": "2ddbfd9d",
   "metadata": {},
   "outputs": [],
   "source": [
    "pd.set_option('display.precision', 2)\n",
    "mean_df = pd.DataFrame(np.mean(data, axis=0) * 100, index=indices, columns=columns)\n",
    "std_df = pd.DataFrame(np.std(data, axis=0) * 100, index=indices, columns=columns)\n",
    "mean_df.to_csv(\"./mean.tsv\", sep='\\t')\n",
    "std_df.to_csv(\"./std.tsv\", sep='\\t')"
   ]
  },
  {
   "cell_type": "code",
   "execution_count": 2,
   "id": "8bc383a3",
   "metadata": {},
   "outputs": [
    {
     "name": "stderr",
     "output_type": "stream",
     "text": [
      "21it [00:00, 26.32it/s]\n",
      "21it [00:00, 1319.28it/s]\n"
     ]
    },
    {
     "data": {
      "text/html": [
       "<div>\n",
       "<style scoped>\n",
       "    .dataframe tbody tr th:only-of-type {\n",
       "        vertical-align: middle;\n",
       "    }\n",
       "\n",
       "    .dataframe tbody tr th {\n",
       "        vertical-align: top;\n",
       "    }\n",
       "\n",
       "    .dataframe thead th {\n",
       "        text-align: right;\n",
       "    }\n",
       "</style>\n",
       "<table border=\"1\" class=\"dataframe\">\n",
       "  <thead>\n",
       "    <tr style=\"text-align: right;\">\n",
       "      <th></th>\n",
       "      <th>top1</th>\n",
       "      <th>top5</th>\n",
       "      <th>top10</th>\n",
       "    </tr>\n",
       "  </thead>\n",
       "  <tbody>\n",
       "    <tr>\n",
       "      <th>MTBLS1572</th>\n",
       "      <td>0.809524</td>\n",
       "      <td>1.0</td>\n",
       "      <td>1.0</td>\n",
       "    </tr>\n",
       "  </tbody>\n",
       "</table>\n",
       "</div>"
      ],
      "text/plain": [
       "               top1  top5  top10\n",
       "MTBLS1572  0.809524   1.0    1.0"
      ]
     },
     "execution_count": 2,
     "metadata": {},
     "output_type": "execute_result"
    }
   ],
   "source": [
    "show_progress_bar = False\n",
    "model = load_model()\n",
    "\n",
    "batch_size = None\n",
    "k_metric = [5, 1, 10]\n",
    "loader_batch_size = 512\n",
    "\n",
    "query_spectra = np.load(\"/data1/xp/data/MSBert/MTBLS1572/query.npy\", allow_pickle=True)\n",
    "ref_spectra = np.load(\"/data1/xp/data/MSBert/MTBLS1572/ref.npy\", allow_pickle=True)\n",
    "\n",
    "search_with_spectra(\n",
    "    \"MTBLS1572\",\n",
    "    model,\n",
    "    query_spectra,\n",
    "    ref_spectra,\n",
    "    k_metric,\n",
    "    batch_size,\n",
    "    show_progress_bar\n",
    ")"
   ]
  },
  {
   "cell_type": "code",
   "execution_count": 3,
   "id": "43239a25",
   "metadata": {},
   "outputs": [
    {
     "name": "stderr",
     "output_type": "stream",
     "text": [
      "21it [00:00, 1425.43it/s]\n",
      "21it [00:00, 1495.04it/s]"
     ]
    },
    {
     "name": "stdout",
     "output_type": "stream",
     "text": [
      "4-th answer is [Butyryl-L-carnitine] but get 11-th [Isovaleryl-L-carnitine]\n",
      "17-th answer is [Pantothenic acid] but get 19-th [Propionyl-L-carnitine]\n",
      "18-th answer is [Proline] but get 7-th [Cytosine]\n",
      "19-th answer is [Propionyl-L-carnitine] but get 11-th [Isovaleryl-L-carnitine]\n"
     ]
    },
    {
     "name": "stderr",
     "output_type": "stream",
     "text": [
      "\n"
     ]
    }
   ],
   "source": [
    "show_progress_bar = False\n",
    "model = load_model()\n",
    "\n",
    "batch_size = None\n",
    "k_metric = [5, 1, 10]\n",
    "loader_batch_size = 512\n",
    "\n",
    "query_spectra = np.load(\"/data1/xp/data/MSBert/MTBLS1572/query.npy\", allow_pickle=True)\n",
    "ref_spectra = np.load(\"/data1/xp/data/MSBert/MTBLS1572/ref.npy\", allow_pickle=True)\n",
    "\n",
    "query_embedding = model.get_embedding_array(query_spectra)\n",
    "ref_embedding = model.get_embedding_array(ref_spectra)\n",
    "\n",
    "cosine_score = cosine_similarity(\n",
    "    query_embedding, ref_embedding\n",
    ")\n",
    "for i, j in enumerate(np.argmax(cosine_score, axis=1)):\n",
    "    if i != j:\n",
    "        print(f\"{i}-th answer is [{ref_spectra[i].get(\"compound_name\")}] but get {j}-th [{ref_spectra[j].get(\"compound_name\")}]\")"
   ]
  },
  {
   "cell_type": "code",
   "execution_count": 4,
   "id": "813d4d1a",
   "metadata": {},
   "outputs": [
    {
     "data": {
      "text/plain": [
       "(0.7985360549130454, 0.966494467784608)"
      ]
     },
     "execution_count": 4,
     "metadata": {},
     "output_type": "execute_result"
    }
   ],
   "source": [
    "cosine_score[4][4], cosine_score[4][11]"
   ]
  },
  {
   "cell_type": "code",
   "execution_count": 9,
   "id": "07ea6c78",
   "metadata": {},
   "outputs": [],
   "source": [
    "from utils import cosine_similarity\n",
    "\n",
    "cosine_score = cosine_similarity(query_embedding, ref_embedding)"
   ]
  },
  {
   "cell_type": "code",
   "execution_count": 10,
   "id": "368a0773",
   "metadata": {},
   "outputs": [
    {
     "data": {
      "text/plain": [
       "array([ 0,  1,  2,  3,  4,  5,  6,  7,  8,  9, 10, 11, 12, 13, 14, 15, 16,\n",
       "       17, 16, 17, 20])"
      ]
     },
     "execution_count": 10,
     "metadata": {},
     "output_type": "execute_result"
    }
   ],
   "source": [
    "np.argsort(cosine_score, axis=1)[:, ::-1][:, 0]"
   ]
  },
  {
   "cell_type": "code",
   "execution_count": 11,
   "id": "464bf5d6",
   "metadata": {},
   "outputs": [
    {
     "data": {
      "text/plain": [
       "array([[0.35, 0.31, 0.18, 0.2 , 0.19, 0.38, 0.48, 0.32, 0.11, 0.17, 0.56,\n",
       "        0.2 , 0.67, 0.14, 0.15, 0.2 , 0.87, 0.58, 0.54, 0.31, 0.29],\n",
       "       [0.3 , 0.48, 0.24, 0.32, 0.7 , 0.67, 0.59, 0.45, 0.17, 0.08, 0.68,\n",
       "        0.72, 0.58, 0.18, 0.09, 0.16, 0.54, 0.98, 0.49, 0.85, 0.5 ]])"
      ]
     },
     "execution_count": 11,
     "metadata": {},
     "output_type": "execute_result"
    }
   ],
   "source": [
    "cosine_score[[18, 19], :]"
   ]
  },
  {
   "cell_type": "code",
   "execution_count": 2,
   "id": "428a0261",
   "metadata": {},
   "outputs": [
    {
     "name": "stderr",
     "output_type": "stream",
     "text": [
      "3376it [00:01, 1744.15it/s]\n",
      "15655it [00:06, 2546.51it/s]\n",
      "3376it [00:01, 2522.50it/s]\n",
      "674it [00:00, 2528.02it/s]\n"
     ]
    }
   ],
   "source": [
    "model = load_model()\n",
    "\n",
    "orbitrap_ref_spectra = np.load(mona.ORBITRAP_COMMON, allow_pickle=True)\n",
    "orbitrap_query_spectra = np.load(mona.ORBITRAP_UNIQUE, allow_pickle=True)\n",
    "\n",
    "qtof_ref_spectra = np.load(mona.ORBITRAP_COMMON, allow_pickle=True)\n",
    "qtof_query_spectra = np.load(mona.QTOF_UNIQUE, allow_pickle=True)\n",
    "\n",
    "orbitrap_ref_embedding = model.get_embedding_array(orbitrap_ref_spectra)\n",
    "orbitrap_query_embedding = model.get_embedding_array(orbitrap_query_spectra)\n",
    "\n",
    "qtof_ref_embedding = model.get_embedding_array(qtof_ref_spectra)\n",
    "qtof_query_embedding = model.get_embedding_array(qtof_query_spectra)"
   ]
  },
  {
   "cell_type": "code",
   "execution_count": 3,
   "id": "bf14ca48",
   "metadata": {},
   "outputs": [
    {
     "name": "stderr",
     "output_type": "stream",
     "text": [
      "processing: 100%|██████████| 31/31 [00:05<00:00,  5.82it/s]\n",
      "processing: 100%|██████████| 2/2 [00:00<00:00, 25.84it/s]\n"
     ]
    }
   ],
   "source": [
    "orbitrap_score, orbitrap_indices = most_similar(orbitrap_query_embedding, orbitrap_ref_embedding, 512)\n",
    "qtof_score, qtof_indices = most_similar(qtof_query_embedding, qtof_ref_embedding, 512)"
   ]
  },
  {
   "cell_type": "code",
   "execution_count": 4,
   "id": "4acbab67",
   "metadata": {},
   "outputs": [],
   "source": [
    "dir = Path(\"/data1/xp/code/specEmbedding/score_distribution/compound search/\")\n",
    "orbitrap_dir = dir / \"orbitrap\"\n",
    "qtof_dir = dir / \"qtof\"\n",
    "\n",
    "orbitrap_dir.mkdir(exist_ok=True, parents=True)\n",
    "qtof_dir.mkdir(exist_ok=True, parents=True)\n",
    "\n",
    "np.save(orbitrap_dir / \"MS2DeepScore_Score.npy\", orbitrap_score)\n",
    "np.save(orbitrap_dir / \"MS2DeepScore_Indices.npy\", orbitrap_indices)\n",
    "np.save(qtof_dir / \"MS2DeepScore_Score.npy\", qtof_score)\n",
    "np.save(qtof_dir / \"MS2DeepScore_Indices.npy\", qtof_indices)"
   ]
  },
  {
   "cell_type": "code",
   "execution_count": 5,
   "id": "2576bdd7",
   "metadata": {},
   "outputs": [],
   "source": [
    "show_progress_bar = False\n",
    "model = load_model()\n",
    "\n",
    "batch_size = None\n",
    "k_metric = [5, 1, 10]\n",
    "loader_batch_size = 512"
   ]
  },
  {
   "cell_type": "code",
   "execution_count": 6,
   "id": "06534209",
   "metadata": {},
   "outputs": [
    {
     "name": "stderr",
     "output_type": "stream",
     "text": [
      "3376it [00:01, 2039.29it/s]\n",
      "163952it [01:09, 2374.03it/s]\n"
     ]
    },
    {
     "data": {
      "text/html": [
       "<div>\n",
       "<style scoped>\n",
       "    .dataframe tbody tr th:only-of-type {\n",
       "        vertical-align: middle;\n",
       "    }\n",
       "\n",
       "    .dataframe tbody tr th {\n",
       "        vertical-align: top;\n",
       "    }\n",
       "\n",
       "    .dataframe thead th {\n",
       "        text-align: right;\n",
       "    }\n",
       "</style>\n",
       "<table border=\"1\" class=\"dataframe\">\n",
       "  <thead>\n",
       "    <tr style=\"text-align: right;\">\n",
       "      <th></th>\n",
       "      <th>top1</th>\n",
       "      <th>top5</th>\n",
       "      <th>top10</th>\n",
       "    </tr>\n",
       "  </thead>\n",
       "  <tbody>\n",
       "    <tr>\n",
       "      <th>Orbitrap Common</th>\n",
       "      <td>0.746149</td>\n",
       "      <td>0.784064</td>\n",
       "      <td>0.80628</td>\n",
       "    </tr>\n",
       "  </tbody>\n",
       "</table>\n",
       "</div>"
      ],
      "text/plain": [
       "                     top1      top5    top10\n",
       "Orbitrap Common  0.746149  0.784064  0.80628"
      ]
     },
     "execution_count": 6,
     "metadata": {},
     "output_type": "execute_result"
    }
   ],
   "source": [
    "query_spectra = np.load(mona.ORBITRAP_COMMON, allow_pickle=True)\n",
    "ref_spectra = np.load(gnps.ORBITRAP_ALL, allow_pickle=True)\n",
    "\n",
    "search_with_spectra(\n",
    "    \"Orbitrap Common\",\n",
    "    model,\n",
    "    query_spectra,\n",
    "    ref_spectra,\n",
    "    k_metric,\n",
    "    batch_size,\n",
    "    show_progress_bar\n",
    ")"
   ]
  },
  {
   "cell_type": "code",
   "execution_count": 7,
   "id": "e78acc53",
   "metadata": {},
   "outputs": [
    {
     "name": "stderr",
     "output_type": "stream",
     "text": [
      "7243it [00:03, 2408.12it/s]\n",
      "44560it [00:19, 2236.87it/s]\n"
     ]
    },
    {
     "data": {
      "text/html": [
       "<div>\n",
       "<style scoped>\n",
       "    .dataframe tbody tr th:only-of-type {\n",
       "        vertical-align: middle;\n",
       "    }\n",
       "\n",
       "    .dataframe tbody tr th {\n",
       "        vertical-align: top;\n",
       "    }\n",
       "\n",
       "    .dataframe thead th {\n",
       "        text-align: right;\n",
       "    }\n",
       "</style>\n",
       "<table border=\"1\" class=\"dataframe\">\n",
       "  <thead>\n",
       "    <tr style=\"text-align: right;\">\n",
       "      <th></th>\n",
       "      <th>top1</th>\n",
       "      <th>top5</th>\n",
       "      <th>top10</th>\n",
       "    </tr>\n",
       "  </thead>\n",
       "  <tbody>\n",
       "    <tr>\n",
       "      <th>QTOF Common</th>\n",
       "      <td>0.982052</td>\n",
       "      <td>0.993511</td>\n",
       "      <td>0.994754</td>\n",
       "    </tr>\n",
       "  </tbody>\n",
       "</table>\n",
       "</div>"
      ],
      "text/plain": [
       "                 top1      top5     top10\n",
       "QTOF Common  0.982052  0.993511  0.994754"
      ]
     },
     "execution_count": 7,
     "metadata": {},
     "output_type": "execute_result"
    }
   ],
   "source": [
    "query_spectra = np.load(mona.QTOF_COMMON, allow_pickle=True)\n",
    "ref_spectra = np.load(gnps.QTOF_ALL, allow_pickle=True)\n",
    "\n",
    "search_with_spectra(\n",
    "    \"QTOF Common\",\n",
    "    model,\n",
    "    query_spectra,\n",
    "    ref_spectra,\n",
    "    k_metric,\n",
    "    batch_size,\n",
    "    show_progress_bar\n",
    ")"
   ]
  }
 ],
 "metadata": {
  "kernelspec": {
   "display_name": "py312",
   "language": "python",
   "name": "python3"
  },
  "language_info": {
   "codemirror_mode": {
    "name": "ipython",
    "version": 3
   },
   "file_extension": ".py",
   "mimetype": "text/x-python",
   "name": "python",
   "nbconvert_exporter": "python",
   "pygments_lexer": "ipython3",
   "version": "3.12.9"
  }
 },
 "nbformat": 4,
 "nbformat_minor": 5
}
