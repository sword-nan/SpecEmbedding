{
 "cells": [
  {
   "cell_type": "code",
   "execution_count": 1,
   "id": "36c758d9",
   "metadata": {},
   "outputs": [
    {
     "name": "stderr",
     "output_type": "stream",
     "text": [
      "/data/xp/Anaconda/envs/py312/lib/python3.12/site-packages/tqdm/auto.py:21: TqdmWarning: IProgress not found. Please update jupyter and ipywidgets. See https://ipywidgets.readthedocs.io/en/stable/user_install.html\n",
      "  from .autonotebook import tqdm as notebook_tqdm\n"
     ]
    }
   ],
   "source": [
    "import sys\n",
    "sys.path.append(\"../\")\n",
    "from pathlib import Path\n",
    "\n",
    "from tqdm import tqdm\n",
    "import pandas as pd\n",
    "import numpy as np\n",
    "\n",
    "from const import gnps, mona\n",
    "from utils import embedding, most_similar, search_with_embedding, get_smiles, cosine_similarity"
   ]
  },
  {
   "cell_type": "code",
   "execution_count": 2,
   "id": "a87062a1",
   "metadata": {},
   "outputs": [],
   "source": [
    "spectra_paths = {\n",
    "    \"gnps\":{\n",
    "        \"orbitrap\": {\n",
    "            \"train\": (gnps.ORBITRAP_TRAIN_QUERY, gnps.ORBITRAP_TEST_REF),\n",
    "            \"test\": (gnps.ORBITRAP_TEST_QUERY, gnps.ORBITRAP_TEST_REF)\n",
    "        },\n",
    "        \"qtof\": {\n",
    "            \"test\": (gnps.QTOF_TEST_QUERY, gnps.QTOF_TEST_REF)\n",
    "        },\n",
    "        \"other\": {\n",
    "            \"test\": (gnps.OTHER_TEST_QUERY, gnps.OTHER_TEST_REF)\n",
    "        }\n",
    "    }\n",
    "}"
   ]
  },
  {
   "cell_type": "code",
   "execution_count": 3,
   "id": "15fd9245",
   "metadata": {},
   "outputs": [],
   "source": [
    "show_progress_bar = False\n",
    "replica_suffix = \"-replication-{}\"\n",
    "k_metric = [5, 1, 10]\n",
    "batch_size = None"
   ]
  },
  {
   "cell_type": "code",
   "execution_count": 4,
   "id": "619438e8",
   "metadata": {},
   "outputs": [
    {
     "name": "stderr",
     "output_type": "stream",
     "text": [
      "  0%|          | 0/10 [00:00<?, ?it/s]"
     ]
    },
    {
     "name": "stdout",
     "output_type": "stream",
     "text": [
      "---------------------------------------- gnps-orbitrap-train ----------------------------------------\n",
      "---------------------------------------- gnps-orbitrap-test ----------------------------------------\n",
      "---------------------------------------- gnps-qtof-test ----------------------------------------\n",
      "---------------------------------------- gnps-other-test ----------------------------------------\n"
     ]
    },
    {
     "name": "stderr",
     "output_type": "stream",
     "text": [
      " 10%|█         | 1/10 [09:29<1:25:24, 569.38s/it]"
     ]
    },
    {
     "name": "stdout",
     "output_type": "stream",
     "text": [
      "                         top1      top5     top10\n",
      "gnps-orbitrap-train  0.711283  0.835498  0.868048\n",
      "gnps-orbitrap-test   0.720641  0.836892  0.866548\n",
      "gnps-qtof-test       0.524468  0.708245  0.747340\n",
      "gnps-other-test      0.746706  0.887614  0.914432\n",
      "---------------------------------------- gnps-orbitrap-train ----------------------------------------\n",
      "---------------------------------------- gnps-orbitrap-test ----------------------------------------\n",
      "---------------------------------------- gnps-qtof-test ----------------------------------------\n",
      "---------------------------------------- gnps-other-test ----------------------------------------\n"
     ]
    },
    {
     "name": "stderr",
     "output_type": "stream",
     "text": [
      " 20%|██        | 2/10 [19:00<1:16:02, 570.30s/it]"
     ]
    },
    {
     "name": "stdout",
     "output_type": "stream",
     "text": [
      "                         top1      top5     top10\n",
      "gnps-orbitrap-train  0.712013  0.835061  0.868486\n",
      "gnps-orbitrap-test   0.715896  0.844009  0.866548\n",
      "gnps-qtof-test       0.521543  0.702793  0.742686\n",
      "gnps-other-test      0.746861  0.887149  0.914897\n",
      "---------------------------------------- gnps-orbitrap-train ----------------------------------------\n",
      "---------------------------------------- gnps-orbitrap-test ----------------------------------------\n",
      "---------------------------------------- gnps-qtof-test ----------------------------------------\n",
      "---------------------------------------- gnps-other-test ----------------------------------------\n"
     ]
    },
    {
     "name": "stderr",
     "output_type": "stream",
     "text": [
      " 30%|███       | 3/10 [28:21<1:06:02, 566.01s/it]"
     ]
    },
    {
     "name": "stdout",
     "output_type": "stream",
     "text": [
      "                         top1      top5     top10\n",
      "gnps-orbitrap-train  0.712743  0.834915  0.867757\n",
      "gnps-orbitrap-test   0.720047  0.851127  0.877817\n",
      "gnps-qtof-test       0.525000  0.700665  0.737633\n",
      "gnps-other-test      0.739420  0.887304  0.913192\n",
      "---------------------------------------- gnps-orbitrap-train ----------------------------------------\n",
      "---------------------------------------- gnps-orbitrap-test ----------------------------------------\n",
      "---------------------------------------- gnps-qtof-test ----------------------------------------\n",
      "---------------------------------------- gnps-other-test ----------------------------------------\n"
     ]
    },
    {
     "name": "stderr",
     "output_type": "stream",
     "text": [
      " 40%|████      | 4/10 [37:41<56:23, 563.83s/it]  "
     ]
    },
    {
     "name": "stdout",
     "output_type": "stream",
     "text": [
      "                         top1      top5     top10\n",
      "gnps-orbitrap-train  0.712013  0.836082  0.867465\n",
      "gnps-orbitrap-test   0.720641  0.835706  0.868327\n",
      "gnps-qtof-test       0.528723  0.708644  0.747606\n",
      "gnps-other-test      0.751976  0.892110  0.916292\n",
      "---------------------------------------- gnps-orbitrap-train ----------------------------------------\n",
      "---------------------------------------- gnps-orbitrap-test ----------------------------------------\n",
      "---------------------------------------- gnps-qtof-test ----------------------------------------\n",
      "---------------------------------------- gnps-other-test ----------------------------------------\n"
     ]
    },
    {
     "name": "stderr",
     "output_type": "stream",
     "text": [
      " 50%|█████     | 5/10 [47:01<46:51, 562.28s/it]"
     ]
    },
    {
     "name": "stdout",
     "output_type": "stream",
     "text": [
      "                         top1      top5     top10\n",
      "gnps-orbitrap-train  0.711867  0.836228  0.867757\n",
      "gnps-orbitrap-test   0.718268  0.844603  0.870107\n",
      "gnps-qtof-test       0.523005  0.700798  0.740559\n",
      "gnps-other-test      0.740040  0.883119  0.910557\n",
      "---------------------------------------- gnps-orbitrap-train ----------------------------------------\n",
      "---------------------------------------- gnps-orbitrap-test ----------------------------------------\n",
      "---------------------------------------- gnps-qtof-test ----------------------------------------\n",
      "---------------------------------------- gnps-other-test ----------------------------------------\n"
     ]
    },
    {
     "name": "stderr",
     "output_type": "stream",
     "text": [
      " 60%|██████    | 6/10 [56:25<37:32, 563.08s/it]"
     ]
    },
    {
     "name": "stdout",
     "output_type": "stream",
     "text": [
      "                         top1      top5     top10\n",
      "gnps-orbitrap-train  0.711867  0.835644  0.867319\n",
      "gnps-orbitrap-test   0.734282  0.854686  0.883749\n",
      "gnps-qtof-test       0.528856  0.706915  0.743218\n",
      "gnps-other-test      0.741280  0.885444  0.914122\n",
      "---------------------------------------- gnps-orbitrap-train ----------------------------------------\n",
      "---------------------------------------- gnps-orbitrap-test ----------------------------------------\n",
      "---------------------------------------- gnps-qtof-test ----------------------------------------\n",
      "---------------------------------------- gnps-other-test ----------------------------------------\n"
     ]
    },
    {
     "name": "stderr",
     "output_type": "stream",
     "text": [
      " 70%|███████   | 7/10 [1:05:46<28:06, 562.17s/it]"
     ]
    },
    {
     "name": "stdout",
     "output_type": "stream",
     "text": [
      "                         top1      top5     top10\n",
      "gnps-orbitrap-train  0.711867  0.835644  0.868194\n",
      "gnps-orbitrap-test   0.718268  0.840451  0.867141\n",
      "gnps-qtof-test       0.519149  0.704122  0.740559\n",
      "gnps-other-test      0.748101  0.886684  0.912417\n",
      "---------------------------------------- gnps-orbitrap-train ----------------------------------------\n",
      "---------------------------------------- gnps-orbitrap-test ----------------------------------------\n",
      "---------------------------------------- gnps-qtof-test ----------------------------------------\n",
      "---------------------------------------- gnps-other-test ----------------------------------------\n"
     ]
    },
    {
     "name": "stderr",
     "output_type": "stream",
     "text": [
      " 80%|████████  | 8/10 [1:15:13<18:47, 563.95s/it]"
     ]
    },
    {
     "name": "stdout",
     "output_type": "stream",
     "text": [
      "                         top1      top5     top10\n",
      "gnps-orbitrap-train  0.712305  0.835207  0.867611\n",
      "gnps-orbitrap-test   0.711744  0.829775  0.862989\n",
      "gnps-qtof-test       0.522340  0.703723  0.743750\n",
      "gnps-other-test      0.743916  0.888389  0.915517\n",
      "---------------------------------------- gnps-orbitrap-train ----------------------------------------\n",
      "---------------------------------------- gnps-orbitrap-test ----------------------------------------\n",
      "---------------------------------------- gnps-qtof-test ----------------------------------------\n",
      "---------------------------------------- gnps-other-test ----------------------------------------\n"
     ]
    },
    {
     "name": "stderr",
     "output_type": "stream",
     "text": [
      " 90%|█████████ | 9/10 [1:24:41<09:24, 564.96s/it]"
     ]
    },
    {
     "name": "stdout",
     "output_type": "stream",
     "text": [
      "                         top1      top5     top10\n",
      "gnps-orbitrap-train  0.711867  0.835353  0.867611\n",
      "gnps-orbitrap-test   0.714116  0.837485  0.864769\n",
      "gnps-qtof-test       0.525798  0.702261  0.741489\n",
      "gnps-other-test      0.741280  0.887769  0.913347\n",
      "---------------------------------------- gnps-orbitrap-train ----------------------------------------\n",
      "---------------------------------------- gnps-orbitrap-test ----------------------------------------\n",
      "---------------------------------------- gnps-qtof-test ----------------------------------------\n",
      "---------------------------------------- gnps-other-test ----------------------------------------\n"
     ]
    },
    {
     "name": "stderr",
     "output_type": "stream",
     "text": [
      "100%|██████████| 10/10 [1:34:07<00:00, 564.77s/it]"
     ]
    },
    {
     "name": "stdout",
     "output_type": "stream",
     "text": [
      "                         top1      top5     top10\n",
      "gnps-orbitrap-train  0.712597  0.835498  0.867902\n",
      "gnps-orbitrap-test   0.716489  0.844603  0.874259\n",
      "gnps-qtof-test       0.523803  0.701729  0.739761\n",
      "gnps-other-test      0.739730  0.886839  0.913192\n"
     ]
    },
    {
     "name": "stderr",
     "output_type": "stream",
     "text": [
      "\n"
     ]
    }
   ],
   "source": [
    "replica_df_seq = []\n",
    "\n",
    "for i in tqdm(range(10)):\n",
    "    df_seq = []\n",
    "    for db, db_metadata in spectra_paths.items():\n",
    "        for desc, path_metadata in db_metadata.items():\n",
    "            for info, paths in path_metadata.items():\n",
    "                print(\"-\" * 40, f\"{db}-{desc}-{info}\", \"-\" * 40)\n",
    "                query_path, ref_path = paths\n",
    "                query_path = query_path.with_stem(query_path.stem + replica_suffix.format(i + 1))\n",
    "                ref_path = ref_path.with_stem(ref_path.stem + replica_suffix.format(i + 1))\n",
    "                if db == \"gnps\" and desc == \"orbitrap\":\n",
    "                    if info == \"train\":\n",
    "                        query_path = gnps.ORBITRAP_TRAIN_QUERY\n",
    "                    \n",
    "                    train_ref_spectra, train_ref_embedding = embedding(\n",
    "                        str(gnps.ORBITRAP_TRAIN_REF.with_suffix(\".mgf\")),\n",
    "                        show_progress_bar\n",
    "                    )\n",
    "                    ref_spectra, ref_embedding = embedding(\n",
    "                        str(ref_path.with_suffix(\".mgf\")),\n",
    "                        show_progress_bar\n",
    "                    )\n",
    "                    query_spectra, query_embedding = embedding(\n",
    "                        str(query_path.with_suffix(\".mgf\")),\n",
    "                        show_progress_bar\n",
    "                    )\n",
    "                    ref_spectra = np.hstack((train_ref_spectra, ref_spectra))\n",
    "                    ref_embedding = np.concatenate((train_ref_embedding, ref_embedding))\n",
    "\n",
    "                else:\n",
    "                    ref_spectra, ref_embedding = embedding(\n",
    "                        str(ref_path.with_suffix(\".mgf\")),\n",
    "                        show_progress_bar,\n",
    "                    )\n",
    "                    query_spectra, query_embedding = embedding(\n",
    "                        str(query_path.with_suffix(\".mgf\")),\n",
    "                        show_progress_bar\n",
    "                    )\n",
    "\n",
    "                ref_smiles = get_smiles(ref_spectra)\n",
    "                query_smiles = get_smiles(query_spectra)\n",
    "                df = search_with_embedding(\n",
    "                f\"{db}-{desc}-{info}\", k_metric,\n",
    "                query_embedding, ref_embedding,\n",
    "                query_smiles, ref_smiles,\n",
    "                show_progress_bar, batch_size\n",
    "                )\n",
    "                df_seq.append(df)\n",
    "\n",
    "    df = pd.concat(df_seq, axis=0)\n",
    "    print(df)\n",
    "    replica_df_seq.append(df)"
   ]
  },
  {
   "cell_type": "code",
   "execution_count": 5,
   "id": "ef5a361e",
   "metadata": {},
   "outputs": [],
   "source": [
    "data = []\n",
    "indices = replica_df_seq[0].index\n",
    "columns = replica_df_seq[0].columns\n",
    "for item in replica_df_seq:\n",
    "    data.append([item.values])"
   ]
  },
  {
   "cell_type": "code",
   "execution_count": 6,
   "id": "7a50c120",
   "metadata": {},
   "outputs": [
    {
     "data": {
      "text/plain": [
       "(array([[71.2042, 83.5513, 86.7815],\n",
       "        [71.9039, 84.1934, 87.0225],\n",
       "        [52.4269, 70.3989, 74.246 ],\n",
       "        [74.3931, 88.7242, 91.3796]]),\n",
       " array([[0.0396, 0.0394, 0.0334],\n",
       "        [0.5775, 0.7069, 0.6157],\n",
       "        [0.2881, 0.2814, 0.3022],\n",
       "        [0.4069, 0.2148, 0.1557]]))"
      ]
     },
     "execution_count": 6,
     "metadata": {},
     "output_type": "execute_result"
    }
   ],
   "source": [
    "data = np.concatenate(data, axis=0)\n",
    "np.set_printoptions(precision=4, suppress=True)\n",
    "np.mean(data, axis=0) * 100, np.std(data, axis=0) * 100"
   ]
  },
  {
   "cell_type": "code",
   "execution_count": 7,
   "id": "df046f07",
   "metadata": {},
   "outputs": [],
   "source": [
    "pd.set_option('display.precision', 4)\n",
    "mean_df = pd.DataFrame(np.mean(data, axis=0) * 100, index=indices, columns=columns)\n",
    "std_df = pd.DataFrame(np.std(data, axis=0) * 100, index=indices, columns=columns)"
   ]
  },
  {
   "cell_type": "code",
   "execution_count": 8,
   "id": "f3f1c665",
   "metadata": {},
   "outputs": [],
   "source": [
    "mean_df.to_csv(f\"./mean.tsv\", sep='\\t')\n",
    "std_df.to_csv(f\"./std.tsv\", sep='\\t')"
   ]
  },
  {
   "cell_type": "code",
   "execution_count": 2,
   "id": "26e9bb00",
   "metadata": {},
   "outputs": [
    {
     "data": {
      "text/html": [
       "<div>\n",
       "<style scoped>\n",
       "    .dataframe tbody tr th:only-of-type {\n",
       "        vertical-align: middle;\n",
       "    }\n",
       "\n",
       "    .dataframe tbody tr th {\n",
       "        vertical-align: top;\n",
       "    }\n",
       "\n",
       "    .dataframe thead th {\n",
       "        text-align: right;\n",
       "    }\n",
       "</style>\n",
       "<table border=\"1\" class=\"dataframe\">\n",
       "  <thead>\n",
       "    <tr style=\"text-align: right;\">\n",
       "      <th></th>\n",
       "      <th>top1</th>\n",
       "      <th>top5</th>\n",
       "      <th>top10</th>\n",
       "    </tr>\n",
       "  </thead>\n",
       "  <tbody>\n",
       "    <tr>\n",
       "      <th>MTBLS1572</th>\n",
       "      <td>0.857143</td>\n",
       "      <td>1.0</td>\n",
       "      <td>1.0</td>\n",
       "    </tr>\n",
       "  </tbody>\n",
       "</table>\n",
       "</div>"
      ],
      "text/plain": [
       "               top1  top5  top10\n",
       "MTBLS1572  0.857143   1.0    1.0"
      ]
     },
     "execution_count": 2,
     "metadata": {},
     "output_type": "execute_result"
    }
   ],
   "source": [
    "show_progress_bar = False\n",
    "k_metric = [5, 1, 10]\n",
    "batch_size = None\n",
    "\n",
    "dir_ = Path(\"/data1/xp/data/MSBert/MTBLS1572\")\n",
    "query_path = dir_ / \"query.npy\"\n",
    "ref_path = dir_ / \"ref.npy\"\n",
    "\n",
    "query_spectra, query_embedding = embedding(query_path.with_suffix(\".mgf\"), show_progress_bar)\n",
    "ref_spectra, ref_embedding = embedding(ref_path.with_suffix(\".mgf\"), show_progress_bar)\n",
    "query_smiles = get_smiles(query_spectra)\n",
    "ref_smiles = get_smiles(ref_spectra)\n",
    "\n",
    "search_with_embedding(\n",
    "    \"MTBLS1572\", k_metric,\n",
    "    query_embedding, ref_embedding,\n",
    "    query_smiles, ref_smiles,\n",
    "    show_progress_bar, batch_size\n",
    ")"
   ]
  },
  {
   "cell_type": "code",
   "execution_count": 4,
   "id": "def2ea23",
   "metadata": {},
   "outputs": [
    {
     "name": "stdout",
     "output_type": "stream",
     "text": [
      "4-th answer is [Butyryl-L-carnitine] but get 11-th [Isovaleryl-L-carnitine]\n",
      "17-th answer is [Pantothenic acid] but get 19-th [Propionyl-L-carnitine]\n",
      "18-th answer is [Proline] but get 16-th [Ornithine]\n"
     ]
    }
   ],
   "source": [
    "cosine_score = cosine_similarity(\n",
    "    query_embedding, ref_embedding\n",
    ")\n",
    "for i, j in enumerate(np.argmax(cosine_score, axis=1)):\n",
    "    if i != j:\n",
    "        print(f\"{i}-th answer is [{ref_spectra[i].get(\"compound_name\")}] but get {j}-th [{ref_spectra[j].get(\"compound_name\")}]\")"
   ]
  },
  {
   "cell_type": "code",
   "execution_count": 6,
   "id": "caee3ccc",
   "metadata": {},
   "outputs": [
    {
     "data": {
      "text/plain": [
       "(0.4315794722035844, 0.6193784627802925)"
      ]
     },
     "execution_count": 6,
     "metadata": {},
     "output_type": "execute_result"
    }
   ],
   "source": [
    "cosine_score[4][4], cosine_score[4][11]"
   ]
  },
  {
   "cell_type": "code",
   "execution_count": 2,
   "id": "40169984",
   "metadata": {},
   "outputs": [
    {
     "name": "stderr",
     "output_type": "stream",
     "text": [
      "Computing DreaMS embedding: 100%|██████████| 3376/3376 [00:03<00:00, 980.10it/s]\n",
      "Computing DreaMS embedding: 100%|██████████| 15655/15655 [00:16<00:00, 968.02it/s]\n",
      "Computing DreaMS embedding: 100%|██████████| 3376/3376 [00:03<00:00, 954.85it/s]\n",
      "Computing DreaMS embedding: 100%|██████████| 674/674 [00:00<00:00, 861.37it/s]\n"
     ]
    }
   ],
   "source": [
    "show_progress_bar = True\n",
    "\n",
    "orbitrap_ref_spectra, orbitrap_ref_embedding = embedding(\n",
    "    str(mona.ORBITRAP_COMMON.with_suffix(\".mgf\")), \n",
    "    show_progress_bar\n",
    ")\n",
    "orbitrap_query_spectra, orbitrap_query_embedding = embedding(\n",
    "    str(mona.ORBITRAP_UNIQUE.with_suffix(\".mgf\")), \n",
    "    show_progress_bar\n",
    ")\n",
    "qtof_ref_spectra, qtof_ref_embedding = embedding(\n",
    "    str(mona.ORBITRAP_COMMON.with_suffix(\".mgf\")), \n",
    "    show_progress_bar\n",
    ")\n",
    "qtof_query_spectra, qtof_query_embedding = embedding(\n",
    "    str(mona.QTOF_UNIQUE.with_suffix(\".mgf\")), \n",
    "    show_progress_bar\n",
    ")"
   ]
  },
  {
   "cell_type": "code",
   "execution_count": 3,
   "id": "9382cd2f",
   "metadata": {},
   "outputs": [
    {
     "name": "stderr",
     "output_type": "stream",
     "text": [
      "processing: 100%|██████████| 31/31 [00:05<00:00,  5.46it/s]\n",
      "processing: 100%|██████████| 2/2 [00:00<00:00, 16.95it/s]\n"
     ]
    }
   ],
   "source": [
    "orbitrap_score, orbitrap_indices = most_similar(orbitrap_query_embedding, orbitrap_ref_embedding, 512, show_progress_bar)\n",
    "qtof_score, qtof_indices = most_similar(qtof_query_embedding, qtof_ref_embedding, 512, show_progress_bar)"
   ]
  },
  {
   "cell_type": "code",
   "execution_count": 4,
   "id": "628b1a21",
   "metadata": {},
   "outputs": [],
   "source": [
    "dir = Path(\"/data1/xp/code/specEmbedding/score_distribution/compound search/\")\n",
    "orbitrap_dir = dir / \"orbitrap\"\n",
    "qtof_dir = dir / \"qtof\"\n",
    "\n",
    "orbitrap_dir.mkdir(exist_ok=True, parents=True)\n",
    "qtof_dir.mkdir(exist_ok=True, parents=True)\n",
    "\n",
    "np.save(orbitrap_dir / \"DreaMS_Score.npy\", orbitrap_score)\n",
    "np.save(orbitrap_dir / \"DreaMS_Indices.npy\", orbitrap_indices)\n",
    "np.save(qtof_dir / \"DreaMS_Score.npy\", qtof_score)\n",
    "np.save(qtof_dir / \"DreaMS_Indices.npy\", qtof_indices)"
   ]
  },
  {
   "cell_type": "code",
   "execution_count": 13,
   "id": "2e3d3f7f",
   "metadata": {},
   "outputs": [
    {
     "name": "stderr",
     "output_type": "stream",
     "text": [
      "Computing DreaMS embedding: 100%|██████████| 3376/3376 [00:03<00:00, 937.08it/s]\n",
      "Computing DreaMS embedding: 100%|██████████| 163952/163952 [02:49<00:00, 966.60it/s]\n",
      "calculate hit and recall count: 100%|██████████| 1/1 [00:05<00:00,  5.77s/it]\n"
     ]
    },
    {
     "data": {
      "text/html": [
       "<div>\n",
       "<style scoped>\n",
       "    .dataframe tbody tr th:only-of-type {\n",
       "        vertical-align: middle;\n",
       "    }\n",
       "\n",
       "    .dataframe tbody tr th {\n",
       "        vertical-align: top;\n",
       "    }\n",
       "\n",
       "    .dataframe thead th {\n",
       "        text-align: right;\n",
       "    }\n",
       "</style>\n",
       "<table border=\"1\" class=\"dataframe\">\n",
       "  <thead>\n",
       "    <tr style=\"text-align: right;\">\n",
       "      <th></th>\n",
       "      <th>top1</th>\n",
       "      <th>top5</th>\n",
       "      <th>top10</th>\n",
       "    </tr>\n",
       "  </thead>\n",
       "  <tbody>\n",
       "    <tr>\n",
       "      <th>Orbitrap Common</th>\n",
       "      <td>0.8178</td>\n",
       "      <td>0.878</td>\n",
       "      <td>0.9043</td>\n",
       "    </tr>\n",
       "  </tbody>\n",
       "</table>\n",
       "</div>"
      ],
      "text/plain": [
       "                   top1   top5   top10\n",
       "Orbitrap Common  0.8178  0.878  0.9043"
      ]
     },
     "execution_count": 13,
     "metadata": {},
     "output_type": "execute_result"
    }
   ],
   "source": [
    "show_progress_bar = True\n",
    "k_metric = [5, 1, 10]\n",
    "batch_size = None\n",
    "\n",
    "query_spectra, query_embedding = embedding(mona.ORBITRAP_COMMON.with_suffix(\".mgf\"), show_progress_bar)\n",
    "ref_spectra, ref_embedding = embedding(gnps.ORBITRAP_ALL.with_suffix(\".mgf\"), show_progress_bar)\n",
    "query_smiles = get_smiles(query_spectra)\n",
    "ref_smiles = get_smiles(ref_spectra)\n",
    "\n",
    "search_with_embedding(\n",
    "    \"Orbitrap Common\", k_metric,\n",
    "    query_embedding, ref_embedding,\n",
    "    query_smiles, ref_smiles,\n",
    "    show_progress_bar, batch_size\n",
    ")"
   ]
  },
  {
   "cell_type": "code",
   "execution_count": 14,
   "id": "5715e42d",
   "metadata": {},
   "outputs": [
    {
     "name": "stderr",
     "output_type": "stream",
     "text": [
      "Computing DreaMS embedding: 100%|██████████| 7243/7243 [00:07<00:00, 976.21it/s] \n",
      "Computing DreaMS embedding: 100%|██████████| 44560/44560 [00:46<00:00, 968.13it/s] \n",
      "calculate hit and recall count: 100%|██████████| 1/1 [00:01<00:00,  1.64s/it]\n"
     ]
    },
    {
     "data": {
      "text/html": [
       "<div>\n",
       "<style scoped>\n",
       "    .dataframe tbody tr th:only-of-type {\n",
       "        vertical-align: middle;\n",
       "    }\n",
       "\n",
       "    .dataframe tbody tr th {\n",
       "        vertical-align: top;\n",
       "    }\n",
       "\n",
       "    .dataframe thead th {\n",
       "        text-align: right;\n",
       "    }\n",
       "</style>\n",
       "<table border=\"1\" class=\"dataframe\">\n",
       "  <thead>\n",
       "    <tr style=\"text-align: right;\">\n",
       "      <th></th>\n",
       "      <th>top1</th>\n",
       "      <th>top5</th>\n",
       "      <th>top10</th>\n",
       "    </tr>\n",
       "  </thead>\n",
       "  <tbody>\n",
       "    <tr>\n",
       "      <th>QTOF Common</th>\n",
       "      <td>0.9873</td>\n",
       "      <td>0.9953</td>\n",
       "      <td>0.997</td>\n",
       "    </tr>\n",
       "  </tbody>\n",
       "</table>\n",
       "</div>"
      ],
      "text/plain": [
       "               top1    top5  top10\n",
       "QTOF Common  0.9873  0.9953  0.997"
      ]
     },
     "execution_count": 14,
     "metadata": {},
     "output_type": "execute_result"
    }
   ],
   "source": [
    "show_progress_bar = True\n",
    "k_metric = [5, 1, 10]\n",
    "batch_size = None\n",
    "\n",
    "query_spectra, query_embedding = embedding(mona.QTOF_COMMON.with_suffix(\".mgf\"), show_progress_bar)\n",
    "ref_spectra, ref_embedding = embedding(gnps.QTOF_ALL.with_suffix(\".mgf\"), show_progress_bar)\n",
    "query_smiles = get_smiles(query_spectra)\n",
    "ref_smiles = get_smiles(ref_spectra)\n",
    "\n",
    "search_with_embedding(\n",
    "    \"QTOF Common\", k_metric,\n",
    "    query_embedding, ref_embedding,\n",
    "    query_smiles, ref_smiles,\n",
    "    show_progress_bar, batch_size\n",
    ")"
   ]
  }
 ],
 "metadata": {
  "kernelspec": {
   "display_name": "py312",
   "language": "python",
   "name": "python3"
  },
  "language_info": {
   "codemirror_mode": {
    "name": "ipython",
    "version": 3
   },
   "file_extension": ".py",
   "mimetype": "text/x-python",
   "name": "python",
   "nbconvert_exporter": "python",
   "pygments_lexer": "ipython3",
   "version": "3.12.9"
  }
 },
 "nbformat": 4,
 "nbformat_minor": 5
}
