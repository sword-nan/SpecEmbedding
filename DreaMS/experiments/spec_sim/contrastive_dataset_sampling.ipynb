{
 "cells": [
  {
   "cell_type": "code",
   "execution_count": 1,
   "metadata": {
    "ExecuteTime": {
     "end_time": "2024-03-05T20:15:42.894593Z",
     "start_time": "2024-03-05T20:15:40.516351Z"
    },
    "collapsed": true
   },
   "outputs": [
    {
     "name": "stderr",
     "output_type": "stream",
     "text": [
      "Determination of memory status is not supported on this \n",
      " platform, measuring for memoryleaks will never fail\n"
     ]
    }
   ],
   "source": [
    "import random\n",
    "import itertools\n",
    "import rdkit.Chem.AllChem as Chem\n",
    "from rdkit.Chem.Descriptors import ExactMolWt\n",
    "import pandas as pd\n",
    "import matplotlib.pyplot as plt\n",
    "import dreams.utils.mols as mu\n",
    "import dreams.utils.spectra as su\n",
    "import dreams.utils.io as io\n",
    "from pandarallel import pandarallel\n",
    "from tqdm import tqdm\n",
    "tqdm.pandas()\n",
    "from dreams.utils.plots import init_plotting\n",
    "from dreams.definitions import *\n",
    "%load_ext autoreload\n",
    "%autoreload 2"
   ]
  },
  {
   "cell_type": "code",
   "execution_count": 2,
   "metadata": {
    "ExecuteTime": {
     "end_time": "2023-11-18T11:39:56.338199Z",
     "start_time": "2023-11-18T11:39:56.076449Z"
    }
   },
   "outputs": [
    {
     "name": "stdout",
     "output_type": "stream",
     "text": [
      "INFO: Pandarallel will run on 5 workers.\n",
      "INFO: Pandarallel will use standard multiprocessing data transfer (pipe) to transfer data between the main process and workers.\n"
     ]
    }
   ],
   "source": [
    "pandarallel.initialize(progress_bar=True, use_memory_fs=False, nb_workers=5)"
   ]
  },
  {
   "attachments": {},
   "cell_type": "markdown",
   "metadata": {},
   "source": [
    "# Read and preprocess a dataset"
   ]
  },
  {
   "cell_type": "code",
   "execution_count": 2,
   "metadata": {
    "ExecuteTime": {
     "end_time": "2024-03-05T20:15:51.141532Z",
     "start_time": "2024-03-05T20:15:50.875388Z"
    }
   },
   "outputs": [],
   "source": [
    "# DATASET_PATH = MONA_PKL\n",
    "DATASET_PATH = MERGED_DATASETS / 'MoNA_A_Murcko_split.pkl'\n",
    "# DATASET_PATH = MERGED_DATASETS / 'NIST20_MoNA_A_Murcko_split.pkl'\n",
    "# DATASET_PATH = NIST20 / 'nist20_clean_spec_entropy_[M+H]+_retrieval.pkl'\n",
    "# DATASET_PATH = NIST20 / 'nist20_clean.pkl'"
   ]
  },
  {
   "cell_type": "code",
   "execution_count": 4,
   "metadata": {
    "ExecuteTime": {
     "end_time": "2023-11-18T11:40:03.749314Z",
     "start_time": "2023-11-18T11:39:59.811989Z"
    },
    "collapsed": false
   },
   "outputs": [
    {
     "name": "stderr",
     "output_type": "stream",
     "text": [
      "100%|██████████| 28876/28876 [00:00<00:00, 819250.54it/s]\n",
      "100%|██████████| 28876/28876 [00:03<00:00, 8790.81it/s]\n"
     ]
    },
    {
     "data": {
      "text/html": [
       "<div>\n",
       "<style scoped>\n",
       "    .dataframe tbody tr th:only-of-type {\n",
       "        vertical-align: middle;\n",
       "    }\n",
       "\n",
       "    .dataframe tbody tr th {\n",
       "        vertical-align: top;\n",
       "    }\n",
       "\n",
       "    .dataframe thead th {\n",
       "        text-align: right;\n",
       "    }\n",
       "</style>\n",
       "<table border=\"1\" class=\"dataframe\">\n",
       "  <thead>\n",
       "    <tr style=\"text-align: right;\">\n",
       "      <th></th>\n",
       "      <th>index</th>\n",
       "      <th>ID</th>\n",
       "      <th>PARSED PEAKS</th>\n",
       "      <th>SMILES</th>\n",
       "      <th>PRECURSOR M/Z</th>\n",
       "      <th>FORMULA</th>\n",
       "      <th>CHARGE</th>\n",
       "      <th>ROMol</th>\n",
       "      <th>COLLISION ENERGY</th>\n",
       "      <th>ION MODE</th>\n",
       "      <th>PRECURSOR TYPE</th>\n",
       "      <th>INSTRUMENT TYPE</th>\n",
       "      <th>INSTRUMENT</th>\n",
       "      <th>MSnSpectrum</th>\n",
       "      <th>inchi14</th>\n",
       "      <th>MurckoHist</th>\n",
       "      <th>MurckoHistStr</th>\n",
       "      <th>val</th>\n",
       "      <th>EXACT MASS</th>\n",
       "    </tr>\n",
       "  </thead>\n",
       "  <tbody>\n",
       "    <tr>\n",
       "      <th>0</th>\n",
       "      <td>0</td>\n",
       "      <td>MoNA_56916_Anabasine</td>\n",
       "      <td>[[39.2, 41.2, 42.3, 43.0, 44.1, 44.6, 45.9, 51...</td>\n",
       "      <td>c1cncc([C@@H]2CCCCN2)c1</td>\n",
       "      <td>163.00000</td>\n",
       "      <td>C10H14N2</td>\n",
       "      <td>1</td>\n",
       "      <td>&lt;rdkit.Chem.rdchem.Mol object at 0x297b03360&gt;</td>\n",
       "      <td>50 V</td>\n",
       "      <td>P</td>\n",
       "      <td>[M+H]+</td>\n",
       "      <td>LC-ESI-QQ</td>\n",
       "      <td>API3000, Applied Biosystems</td>\n",
       "      <td>&lt;msml.utils.spectra.MSnSpectrum object at 0x29...</td>\n",
       "      <td>MTXSIJUGVMTTMU</td>\n",
       "      <td>{'0_1': 2}</td>\n",
       "      <td>{'0_1': 2}</td>\n",
       "      <td>False</td>\n",
       "      <td>162.115698</td>\n",
       "    </tr>\n",
       "    <tr>\n",
       "      <th>1</th>\n",
       "      <td>1</td>\n",
       "      <td>MoNA_50514_Erythromycin</td>\n",
       "      <td>[[83.0498, 98.0969, 113.06, 115.0757, 116.071,...</td>\n",
       "      <td>CC[C@H]1OC(=O)[C@H](C)[C@@H](O[C@H]2C[C@@](C)(...</td>\n",
       "      <td>734.46850</td>\n",
       "      <td>C37H67NO13</td>\n",
       "      <td>1</td>\n",
       "      <td>&lt;rdkit.Chem.rdchem.Mol object at 0x297b03310&gt;</td>\n",
       "      <td>NCE 20%</td>\n",
       "      <td>P</td>\n",
       "      <td>[M+H]+</td>\n",
       "      <td>nan</td>\n",
       "      <td>Thermo Q Exactive HF</td>\n",
       "      <td>&lt;msml.utils.spectra.MSnSpectrum object at 0x29...</td>\n",
       "      <td>ULGZDMOVFRHVEP</td>\n",
       "      <td>{'0_1': 2, '0_2': 1}</td>\n",
       "      <td>{'0_1': 2, '0_2': 1}</td>\n",
       "      <td>True</td>\n",
       "      <td>733.461241</td>\n",
       "    </tr>\n",
       "    <tr>\n",
       "      <th>2</th>\n",
       "      <td>2</td>\n",
       "      <td>MoNA_29825_Gabapentin-lactam</td>\n",
       "      <td>[[54.0337, 55.0541, 60.0442, 65.0385, 67.0542,...</td>\n",
       "      <td>OC1=NCC2(CCCCC2)C1</td>\n",
       "      <td>154.12260</td>\n",
       "      <td>C9H15NO</td>\n",
       "      <td>1</td>\n",
       "      <td>&lt;rdkit.Chem.rdchem.Mol object at 0x297b03400&gt;</td>\n",
       "      <td>90 % (nominal)</td>\n",
       "      <td>P</td>\n",
       "      <td>[M+H]+</td>\n",
       "      <td>LC-ESI-ITFT</td>\n",
       "      <td>LTQ Orbitrap XL Thermo Scientific</td>\n",
       "      <td>&lt;msml.utils.spectra.MSnSpectrum object at 0x29...</td>\n",
       "      <td>JAWPQJDOQPSNIQ</td>\n",
       "      <td>{'0_0': 2}</td>\n",
       "      <td>{'0_0': 2}</td>\n",
       "      <td>True</td>\n",
       "      <td>153.115364</td>\n",
       "    </tr>\n",
       "    <tr>\n",
       "      <th>3</th>\n",
       "      <td>3</td>\n",
       "      <td>MoNA_75706_5-chloro-2,4-dihydroxy-6-methyl-3-[...</td>\n",
       "      <td>[[50.738331, 57.461353, 59.049854, 61.929092, ...</td>\n",
       "      <td>CC(/C=C/[C@@]1(C)[C@H](C)CCC(=O)[C@@H]1C)=C\\Cc...</td>\n",
       "      <td>405.16900</td>\n",
       "      <td>C23H29ClO4</td>\n",
       "      <td>1</td>\n",
       "      <td>&lt;rdkit.Chem.rdchem.Mol object at 0x297b03450&gt;</td>\n",
       "      <td>NaN</td>\n",
       "      <td>P</td>\n",
       "      <td>[M+H]+</td>\n",
       "      <td>nan</td>\n",
       "      <td>Orbitrap</td>\n",
       "      <td>&lt;msml.utils.spectra.MSnSpectrum object at 0x29...</td>\n",
       "      <td>SETVRSKZJJWOPA</td>\n",
       "      <td>{'0_1': 2}</td>\n",
       "      <td>{'0_1': 2}</td>\n",
       "      <td>False</td>\n",
       "      <td>404.175437</td>\n",
       "    </tr>\n",
       "    <tr>\n",
       "      <th>4</th>\n",
       "      <td>4</td>\n",
       "      <td>MoNA_42026_Senkirkine</td>\n",
       "      <td>[[70.0651, 81.0698, 83.0492, 94.0652, 101.0598...</td>\n",
       "      <td>C/C=C1/C[C@@H](C)[C@@](C)(O)C(=O)OC/C2=C/CN(C)...</td>\n",
       "      <td>366.19110</td>\n",
       "      <td>C19H27NO6</td>\n",
       "      <td>1</td>\n",
       "      <td>&lt;rdkit.Chem.rdchem.Mol object at 0x297b034a0&gt;</td>\n",
       "      <td>40 % (nominal)</td>\n",
       "      <td>P</td>\n",
       "      <td>[M+H]+</td>\n",
       "      <td>LC-ESI-ITFT</td>\n",
       "      <td>LTQ Orbitrap XL Thermo Scientific</td>\n",
       "      <td>&lt;msml.utils.spectra.MSnSpectrum object at 0x29...</td>\n",
       "      <td>HPDHKHMHQGCNPE</td>\n",
       "      <td>{'0_0': 1}</td>\n",
       "      <td>{'0_0': 1}</td>\n",
       "      <td>False</td>\n",
       "      <td>365.183838</td>\n",
       "    </tr>\n",
       "    <tr>\n",
       "      <th>...</th>\n",
       "      <td>...</td>\n",
       "      <td>...</td>\n",
       "      <td>...</td>\n",
       "      <td>...</td>\n",
       "      <td>...</td>\n",
       "      <td>...</td>\n",
       "      <td>...</td>\n",
       "      <td>...</td>\n",
       "      <td>...</td>\n",
       "      <td>...</td>\n",
       "      <td>...</td>\n",
       "      <td>...</td>\n",
       "      <td>...</td>\n",
       "      <td>...</td>\n",
       "      <td>...</td>\n",
       "      <td>...</td>\n",
       "      <td>...</td>\n",
       "      <td>...</td>\n",
       "      <td>...</td>\n",
       "    </tr>\n",
       "    <tr>\n",
       "      <th>28871</th>\n",
       "      <td>28871</td>\n",
       "      <td>MoNA_38998_Gelsemine</td>\n",
       "      <td>[[70.0651, 79.0541, 86.0602, 91.0542, 94.0654,...</td>\n",
       "      <td>C=C[C@]12CN(C)[C@@H]3[C@H]4COC(CC41)[C@]1(C(O)...</td>\n",
       "      <td>323.17540</td>\n",
       "      <td>C20H22N2O2</td>\n",
       "      <td>1</td>\n",
       "      <td>&lt;rdkit.Chem.rdchem.Mol object at 0x29e9569a0&gt;</td>\n",
       "      <td>95% (nominal)</td>\n",
       "      <td>P</td>\n",
       "      <td>[M+H]+</td>\n",
       "      <td>LC-ESI-ITFT</td>\n",
       "      <td>LTQ Orbitrap XL Thermo Scientific</td>\n",
       "      <td>&lt;msml.utils.spectra.MSnSpectrum object at 0x2a...</td>\n",
       "      <td>NFYYATWFXNPTRM</td>\n",
       "      <td>{'1_0': 2, '7_0': 1, '9_0': 1, '10_0': 2}</td>\n",
       "      <td>{'1_0': 2, '7_0': 1, '9_0': 1, '10_0': 2}</td>\n",
       "      <td>False</td>\n",
       "      <td>322.168128</td>\n",
       "    </tr>\n",
       "    <tr>\n",
       "      <th>28872</th>\n",
       "      <td>28872</td>\n",
       "      <td>MoNA_45707_MEVALONOLACTONE</td>\n",
       "      <td>[[41.03981, 43.01888, 43.04405, 43.05473, 53.0...</td>\n",
       "      <td>C[C@]1(O)CCOC(=O)C1</td>\n",
       "      <td>131.07027</td>\n",
       "      <td>C6H10O3</td>\n",
       "      <td>1</td>\n",
       "      <td>&lt;rdkit.Chem.rdchem.Mol object at 0x29e9569f0&gt;</td>\n",
       "      <td>10 eV</td>\n",
       "      <td>P</td>\n",
       "      <td>[M+H]+</td>\n",
       "      <td>LC-ESI-QTOF</td>\n",
       "      <td>Agilent qTOF 6545</td>\n",
       "      <td>&lt;msml.utils.spectra.MSnSpectrum object at 0x2a...</td>\n",
       "      <td>JYVXNLLUYHCIIH</td>\n",
       "      <td>{'0_0': 1}</td>\n",
       "      <td>{'0_0': 1}</td>\n",
       "      <td>False</td>\n",
       "      <td>130.062994</td>\n",
       "    </tr>\n",
       "    <tr>\n",
       "      <th>28873</th>\n",
       "      <td>28873</td>\n",
       "      <td>MoNA_86187_Phenylbenzimidazole sulfonic acid</td>\n",
       "      <td>[[139.0549, 140.0583, 154.0636, 166.0638, 167....</td>\n",
       "      <td>O=S(=O)(O)c1ccc2nc(-c3ccccc3)[nH]c2c1</td>\n",
       "      <td>275.04850</td>\n",
       "      <td>C13H10N2O3S</td>\n",
       "      <td>1</td>\n",
       "      <td>&lt;rdkit.Chem.rdchem.Mol object at 0x29e956a40&gt;</td>\n",
       "      <td>50 eV</td>\n",
       "      <td>P</td>\n",
       "      <td>[M+H]+</td>\n",
       "      <td>LC-ESI-QTOF</td>\n",
       "      <td>Bruker maXis Impact</td>\n",
       "      <td>&lt;msml.utils.spectra.MSnSpectrum object at 0x2a...</td>\n",
       "      <td>UVCJGUGAGLDPAA</td>\n",
       "      <td>{'0_1': 1, '1_0': 1, '1_1': 1}</td>\n",
       "      <td>{'0_1': 1, '1_0': 1, '1_1': 1}</td>\n",
       "      <td>False</td>\n",
       "      <td>274.041213</td>\n",
       "    </tr>\n",
       "    <tr>\n",
       "      <th>28874</th>\n",
       "      <td>28874</td>\n",
       "      <td>MoNA_52548_1-Amino-2-methylanthraquinone</td>\n",
       "      <td>[[53.0387, 65.0385, 72.0444, 77.0386, 79.0543,...</td>\n",
       "      <td>Cc1ccc2c(c1N)C(=O)c1ccccc1C2=O</td>\n",
       "      <td>238.08630</td>\n",
       "      <td>C15H11NO2</td>\n",
       "      <td>1</td>\n",
       "      <td>&lt;rdkit.Chem.rdchem.Mol object at 0x29e956a90&gt;</td>\n",
       "      <td>90</td>\n",
       "      <td>P</td>\n",
       "      <td>[M+H]+</td>\n",
       "      <td>LC-ESI-QFT</td>\n",
       "      <td>Q Exactive Orbitrap (Thermo Scientific)</td>\n",
       "      <td>&lt;msml.utils.spectra.MSnSpectrum object at 0x2a...</td>\n",
       "      <td>ZLCUIOWQYBYEBG</td>\n",
       "      <td>{'1_0': 2, '2_0': 1}</td>\n",
       "      <td>{'1_0': 2, '2_0': 1}</td>\n",
       "      <td>True</td>\n",
       "      <td>237.078979</td>\n",
       "    </tr>\n",
       "    <tr>\n",
       "      <th>28875</th>\n",
       "      <td>28875</td>\n",
       "      <td>MoNA_41487_Coniferaldehyde</td>\n",
       "      <td>[[91.0543, 95.0492, 103.0543, 105.07, 115.0543...</td>\n",
       "      <td>COc1cc(/C=C/C=O)ccc1O</td>\n",
       "      <td>179.07030</td>\n",
       "      <td>C10H10O3</td>\n",
       "      <td>1</td>\n",
       "      <td>&lt;rdkit.Chem.rdchem.Mol object at 0x29e956ae0&gt;</td>\n",
       "      <td>40 % (nominal)</td>\n",
       "      <td>P</td>\n",
       "      <td>[M+H]+</td>\n",
       "      <td>LC-ESI-ITFT</td>\n",
       "      <td>LTQ Orbitrap XL Thermo Scientific</td>\n",
       "      <td>&lt;msml.utils.spectra.MSnSpectrum object at 0x2a...</td>\n",
       "      <td>DKZBBWMURDFHNE</td>\n",
       "      <td>{'0_0': 1}</td>\n",
       "      <td>{'0_0': 1}</td>\n",
       "      <td>False</td>\n",
       "      <td>178.062994</td>\n",
       "    </tr>\n",
       "  </tbody>\n",
       "</table>\n",
       "<p>28876 rows × 19 columns</p>\n",
       "</div>"
      ],
      "text/plain": [
       "       index                                                 ID  \\\n",
       "0          0                               MoNA_56916_Anabasine   \n",
       "1          1                            MoNA_50514_Erythromycin   \n",
       "2          2                       MoNA_29825_Gabapentin-lactam   \n",
       "3          3  MoNA_75706_5-chloro-2,4-dihydroxy-6-methyl-3-[...   \n",
       "4          4                              MoNA_42026_Senkirkine   \n",
       "...      ...                                                ...   \n",
       "28871  28871                               MoNA_38998_Gelsemine   \n",
       "28872  28872                         MoNA_45707_MEVALONOLACTONE   \n",
       "28873  28873       MoNA_86187_Phenylbenzimidazole sulfonic acid   \n",
       "28874  28874           MoNA_52548_1-Amino-2-methylanthraquinone   \n",
       "28875  28875                         MoNA_41487_Coniferaldehyde   \n",
       "\n",
       "                                            PARSED PEAKS  \\\n",
       "0      [[39.2, 41.2, 42.3, 43.0, 44.1, 44.6, 45.9, 51...   \n",
       "1      [[83.0498, 98.0969, 113.06, 115.0757, 116.071,...   \n",
       "2      [[54.0337, 55.0541, 60.0442, 65.0385, 67.0542,...   \n",
       "3      [[50.738331, 57.461353, 59.049854, 61.929092, ...   \n",
       "4      [[70.0651, 81.0698, 83.0492, 94.0652, 101.0598...   \n",
       "...                                                  ...   \n",
       "28871  [[70.0651, 79.0541, 86.0602, 91.0542, 94.0654,...   \n",
       "28872  [[41.03981, 43.01888, 43.04405, 43.05473, 53.0...   \n",
       "28873  [[139.0549, 140.0583, 154.0636, 166.0638, 167....   \n",
       "28874  [[53.0387, 65.0385, 72.0444, 77.0386, 79.0543,...   \n",
       "28875  [[91.0543, 95.0492, 103.0543, 105.07, 115.0543...   \n",
       "\n",
       "                                                  SMILES  PRECURSOR M/Z  \\\n",
       "0                                c1cncc([C@@H]2CCCCN2)c1      163.00000   \n",
       "1      CC[C@H]1OC(=O)[C@H](C)[C@@H](O[C@H]2C[C@@](C)(...      734.46850   \n",
       "2                                     OC1=NCC2(CCCCC2)C1      154.12260   \n",
       "3      CC(/C=C/[C@@]1(C)[C@H](C)CCC(=O)[C@@H]1C)=C\\Cc...      405.16900   \n",
       "4      C/C=C1/C[C@@H](C)[C@@](C)(O)C(=O)OC/C2=C/CN(C)...      366.19110   \n",
       "...                                                  ...            ...   \n",
       "28871  C=C[C@]12CN(C)[C@@H]3[C@H]4COC(CC41)[C@]1(C(O)...      323.17540   \n",
       "28872                                C[C@]1(O)CCOC(=O)C1      131.07027   \n",
       "28873              O=S(=O)(O)c1ccc2nc(-c3ccccc3)[nH]c2c1      275.04850   \n",
       "28874                     Cc1ccc2c(c1N)C(=O)c1ccccc1C2=O      238.08630   \n",
       "28875                              COc1cc(/C=C/C=O)ccc1O      179.07030   \n",
       "\n",
       "           FORMULA  CHARGE                                          ROMol  \\\n",
       "0         C10H14N2       1  <rdkit.Chem.rdchem.Mol object at 0x297b03360>   \n",
       "1       C37H67NO13       1  <rdkit.Chem.rdchem.Mol object at 0x297b03310>   \n",
       "2          C9H15NO       1  <rdkit.Chem.rdchem.Mol object at 0x297b03400>   \n",
       "3       C23H29ClO4       1  <rdkit.Chem.rdchem.Mol object at 0x297b03450>   \n",
       "4        C19H27NO6       1  <rdkit.Chem.rdchem.Mol object at 0x297b034a0>   \n",
       "...            ...     ...                                            ...   \n",
       "28871   C20H22N2O2       1  <rdkit.Chem.rdchem.Mol object at 0x29e9569a0>   \n",
       "28872      C6H10O3       1  <rdkit.Chem.rdchem.Mol object at 0x29e9569f0>   \n",
       "28873  C13H10N2O3S       1  <rdkit.Chem.rdchem.Mol object at 0x29e956a40>   \n",
       "28874    C15H11NO2       1  <rdkit.Chem.rdchem.Mol object at 0x29e956a90>   \n",
       "28875     C10H10O3       1  <rdkit.Chem.rdchem.Mol object at 0x29e956ae0>   \n",
       "\n",
       "      COLLISION ENERGY ION MODE PRECURSOR TYPE INSTRUMENT TYPE  \\\n",
       "0                 50 V        P         [M+H]+       LC-ESI-QQ   \n",
       "1              NCE 20%        P         [M+H]+             nan   \n",
       "2       90 % (nominal)        P         [M+H]+     LC-ESI-ITFT   \n",
       "3                  NaN        P         [M+H]+             nan   \n",
       "4       40 % (nominal)        P         [M+H]+     LC-ESI-ITFT   \n",
       "...                ...      ...            ...             ...   \n",
       "28871    95% (nominal)        P         [M+H]+     LC-ESI-ITFT   \n",
       "28872            10 eV        P         [M+H]+     LC-ESI-QTOF   \n",
       "28873            50 eV        P         [M+H]+     LC-ESI-QTOF   \n",
       "28874               90        P         [M+H]+      LC-ESI-QFT   \n",
       "28875   40 % (nominal)        P         [M+H]+     LC-ESI-ITFT   \n",
       "\n",
       "                                    INSTRUMENT  \\\n",
       "0                  API3000, Applied Biosystems   \n",
       "1                         Thermo Q Exactive HF   \n",
       "2            LTQ Orbitrap XL Thermo Scientific   \n",
       "3                                     Orbitrap   \n",
       "4            LTQ Orbitrap XL Thermo Scientific   \n",
       "...                                        ...   \n",
       "28871        LTQ Orbitrap XL Thermo Scientific   \n",
       "28872                        Agilent qTOF 6545   \n",
       "28873                      Bruker maXis Impact   \n",
       "28874  Q Exactive Orbitrap (Thermo Scientific)   \n",
       "28875        LTQ Orbitrap XL Thermo Scientific   \n",
       "\n",
       "                                             MSnSpectrum         inchi14  \\\n",
       "0      <msml.utils.spectra.MSnSpectrum object at 0x29...  MTXSIJUGVMTTMU   \n",
       "1      <msml.utils.spectra.MSnSpectrum object at 0x29...  ULGZDMOVFRHVEP   \n",
       "2      <msml.utils.spectra.MSnSpectrum object at 0x29...  JAWPQJDOQPSNIQ   \n",
       "3      <msml.utils.spectra.MSnSpectrum object at 0x29...  SETVRSKZJJWOPA   \n",
       "4      <msml.utils.spectra.MSnSpectrum object at 0x29...  HPDHKHMHQGCNPE   \n",
       "...                                                  ...             ...   \n",
       "28871  <msml.utils.spectra.MSnSpectrum object at 0x2a...  NFYYATWFXNPTRM   \n",
       "28872  <msml.utils.spectra.MSnSpectrum object at 0x2a...  JYVXNLLUYHCIIH   \n",
       "28873  <msml.utils.spectra.MSnSpectrum object at 0x2a...  UVCJGUGAGLDPAA   \n",
       "28874  <msml.utils.spectra.MSnSpectrum object at 0x2a...  ZLCUIOWQYBYEBG   \n",
       "28875  <msml.utils.spectra.MSnSpectrum object at 0x2a...  DKZBBWMURDFHNE   \n",
       "\n",
       "                                      MurckoHist  \\\n",
       "0                                     {'0_1': 2}   \n",
       "1                           {'0_1': 2, '0_2': 1}   \n",
       "2                                     {'0_0': 2}   \n",
       "3                                     {'0_1': 2}   \n",
       "4                                     {'0_0': 1}   \n",
       "...                                          ...   \n",
       "28871  {'1_0': 2, '7_0': 1, '9_0': 1, '10_0': 2}   \n",
       "28872                                 {'0_0': 1}   \n",
       "28873             {'0_1': 1, '1_0': 1, '1_1': 1}   \n",
       "28874                       {'1_0': 2, '2_0': 1}   \n",
       "28875                                 {'0_0': 1}   \n",
       "\n",
       "                                   MurckoHistStr    val  EXACT MASS  \n",
       "0                                     {'0_1': 2}  False  162.115698  \n",
       "1                           {'0_1': 2, '0_2': 1}   True  733.461241  \n",
       "2                                     {'0_0': 2}   True  153.115364  \n",
       "3                                     {'0_1': 2}  False  404.175437  \n",
       "4                                     {'0_0': 1}  False  365.183838  \n",
       "...                                          ...    ...         ...  \n",
       "28871  {'1_0': 2, '7_0': 1, '9_0': 1, '10_0': 2}  False  322.168128  \n",
       "28872                                 {'0_0': 1}  False  130.062994  \n",
       "28873             {'0_1': 1, '1_0': 1, '1_1': 1}  False  274.041213  \n",
       "28874                       {'1_0': 2, '2_0': 1}   True  237.078979  \n",
       "28875                                 {'0_0': 1}  False  178.062994  \n",
       "\n",
       "[28876 rows x 19 columns]"
      ]
     },
     "execution_count": 4,
     "metadata": {},
     "output_type": "execute_result"
    }
   ],
   "source": [
    "df = pd.read_pickle(DATASET_PATH)\n",
    "\n",
    "# assign split colimn if not present\n",
    "# if 'val' not in df.columns:\n",
    "#     df['val'] = True\n",
    "\n",
    "# Filter adducts\n",
    "# df = df[df['PRECURSOR TYPE'] == '[M+H]+']\n",
    "\n",
    "df = df.reset_index(drop=True).reset_index()\n",
    "# df['index'] = df.index\n",
    "\n",
    "# Preprocess\n",
    "df['EXACT MASS'] = df['ROMol'].progress_apply(Chem.CalcExactMolWt)\n",
    "df['inchi14'] = df['ROMol'].progress_apply(mu.mol_to_inchi14)\n",
    "# df = df.reset_index(drop=True).reset_index()\n",
    "\n",
    "df"
   ]
  },
  {
   "cell_type": "code",
   "execution_count": 5,
   "metadata": {
    "ExecuteTime": {
     "end_time": "2023-11-18T11:40:17.686697Z",
     "start_time": "2023-11-18T11:40:17.654190Z"
    }
   },
   "outputs": [
    {
     "data": {
      "text/plain": [
       "False    25319\n",
       "True      3557\n",
       "Name: val, dtype: int64"
      ]
     },
     "execution_count": 5,
     "metadata": {},
     "output_type": "execute_result"
    }
   ],
   "source": [
    "df['val'].value_counts()"
   ]
  },
  {
   "cell_type": "code",
   "execution_count": 6,
   "metadata": {
    "ExecuteTime": {
     "end_time": "2023-11-18T11:40:18.038614Z",
     "start_time": "2023-11-18T11:40:18.007614Z"
    }
   },
   "outputs": [
    {
     "data": {
      "text/plain": [
       "[M+H]+        25903\n",
       "[M+NH4]+       1348\n",
       "[M+Na]+        1244\n",
       "[M-H2O+H]+      334\n",
       "[M+K]+           47\n",
       "Name: PRECURSOR TYPE, dtype: int64"
      ]
     },
     "execution_count": 6,
     "metadata": {},
     "output_type": "execute_result"
    }
   ],
   "source": [
    "df['PRECURSOR TYPE'].value_counts()"
   ]
  },
  {
   "attachments": {},
   "cell_type": "markdown",
   "metadata": {
    "collapsed": false
   },
   "source": [
    "## Positive examples: Spectra of the same compound by the first InChI 14 characters"
   ]
  },
  {
   "cell_type": "code",
   "execution_count": 13,
   "metadata": {
    "ExecuteTime": {
     "end_time": "2023-11-18T11:30:19.212507Z",
     "start_time": "2023-11-18T11:30:05.759060Z"
    },
    "collapsed": false
   },
   "outputs": [
    {
     "data": {
      "application/vnd.jupyter.widget-view+json": {
       "model_id": "eec07c332135411d968791a24bb11544",
       "version_major": 2,
       "version_minor": 0
      },
      "text/plain": [
       "VBox(children=(HBox(children=(IntProgress(value=0, description='0.00%', max=5181), Label(value='0 / 5181'))), …"
      ]
     },
     "metadata": {},
     "output_type": "display_data"
    },
    {
     "name": "stdout",
     "output_type": "stream",
     "text": [
      "Has neighbours True     23920\n",
      "False     1983\n",
      "Name: Num. of inchi14 neighbours, dtype: int64\n"
     ]
    },
    {
     "data": {
      "image/png": "[encoded data removed]",
      "text/plain": [
       "<Figure size 500x200 with 1 Axes>"
      ]
     },
     "metadata": {},
     "output_type": "display_data"
    },
    {
     "name": "stdout",
     "output_type": "stream",
     "text": [
      "is_val True\n",
      "Has neighbours True     2722\n",
      "False     270\n",
      "Name: Num. of inchi14 neighbours, dtype: int64\n"
     ]
    },
    {
     "data": {
      "image/png": "[encoded data removed]",
      "text/plain": [
       "<Figure size 500x200 with 1 Axes>"
      ]
     },
     "metadata": {},
     "output_type": "display_data"
    },
    {
     "name": "stdout",
     "output_type": "stream",
     "text": [
      "is_val False\n",
      "Has neighbours True     21198\n",
      "False     1713\n",
      "Name: Num. of inchi14 neighbours, dtype: int64\n"
     ]
    },
    {
     "data": {
      "image/png": "[encoded data removed]",
      "text/plain": [
       "<Figure size 500x200 with 1 Axes>"
      ]
     },
     "metadata": {},
     "output_type": "display_data"
    }
   ],
   "source": [
    "# Get inchi neighbours\n",
    "def get_inchi_neighbours(row):\n",
    "    return df[(df['inchi14'] == row['inchi14']) & (df['index'] != row['index']) & (df['val'] == row['val'])].index.tolist()\n",
    "df['inchi14 neighbours'] = df.parallel_apply(get_inchi_neighbours, axis=1)\n",
    "df['Num. of inchi14 neighbours'] = df['inchi14 neighbours'].apply(len)\n",
    "\n",
    "# Analyse distribution of number of inchi neighbours in the whole dataset\n",
    "print('Has neighbours', (df['Num. of inchi14 neighbours'] > 0).value_counts())\n",
    "df['Num. of inchi14 neighbours'].hist(bins=100, figsize=(5, 2))\n",
    "plt.show()\n",
    "\n",
    "# Analyse distribution of number of inchi neighbours across folds\n",
    "for is_val in [True, False]:\n",
    "    print('is_val', is_val)\n",
    "    df_is_val = df[df['val'] == is_val]\n",
    "    print('Has neighbours', (df_is_val['Num. of inchi14 neighbours'] > 0).value_counts())\n",
    "    df_is_val['Num. of inchi14 neighbours'].hist(bins=100, figsize=(5, 2))\n",
    "    plt.show()"
   ]
  },
  {
   "cell_type": "code",
   "execution_count": 14,
   "metadata": {
    "ExecuteTime": {
     "end_time": "2023-11-18T11:30:49.400709Z",
     "start_time": "2023-11-18T11:30:49.371376Z"
    },
    "collapsed": false
   },
   "outputs": [
    {
     "name": "stdout",
     "output_type": "stream",
     "text": [
      "25903\n",
      "23920\n"
     ]
    }
   ],
   "source": [
    "print(len(df))\n",
    "print((df['Num. of inchi14 neighbours'] > 0).sum())\n",
    "# df = df[df['Num. of inchi14 neighbours'] > 0].copy()\n",
    "# print(len(df))"
   ]
  },
  {
   "attachments": {},
   "cell_type": "markdown",
   "metadata": {
    "collapsed": false
   },
   "source": [
    "## Negative examples: Spectra of a different compound within defined mass neighbourhood"
   ]
  },
  {
   "cell_type": "code",
   "execution_count": 17,
   "metadata": {
    "ExecuteTime": {
     "end_time": "2023-11-18T11:33:35.018580Z",
     "start_time": "2023-11-18T11:33:20.336751Z"
    },
    "collapsed": false
   },
   "outputs": [
    {
     "data": {
      "application/vnd.jupyter.widget-view+json": {
       "model_id": "5240f636ce74431eb4529d6c4e0f9cf2",
       "version_major": 2,
       "version_minor": 0
      },
      "text/plain": [
       "VBox(children=(HBox(children=(IntProgress(value=0, description='0.00%', max=5181), Label(value='0 / 5181'))), …"
      ]
     },
     "metadata": {},
     "output_type": "display_data"
    },
    {
     "name": "stdout",
     "output_type": "stream",
     "text": [
      "Has neighbours True     23049\n",
      "False     2854\n",
      "Name: Num. of mass tolerance neighbours, dtype: int64\n"
     ]
    },
    {
     "data": {
      "image/png": "[encoded data removed]",
      "text/plain": [
       "<Figure size 500x200 with 1 Axes>"
      ]
     },
     "metadata": {},
     "output_type": "display_data"
    },
    {
     "name": "stdout",
     "output_type": "stream",
     "text": [
      "is_val True\n",
      "Has neighbours True     1988\n",
      "False    1004\n",
      "Name: Num. of mass tolerance neighbours, dtype: int64\n",
      "top-5 value_counts Num. of mass tolerance neighbours\n",
      "0    1004\n",
      "1     306\n",
      "2     152\n",
      "6     105\n",
      "4     104\n",
      "dtype: int64\n"
     ]
    },
    {
     "data": {
      "image/png": "[encoded data removed]",
      "text/plain": [
       "<Figure size 500x200 with 1 Axes>"
      ]
     },
     "metadata": {},
     "output_type": "display_data"
    },
    {
     "name": "stdout",
     "output_type": "stream",
     "text": [
      "is_val False\n",
      "Has neighbours True     21061\n",
      "False     1850\n",
      "Name: Num. of mass tolerance neighbours, dtype: int64\n",
      "top-5 value_counts Num. of mass tolerance neighbours\n",
      "0     1850\n",
      "1      681\n",
      "4      533\n",
      "11     484\n",
      "2      459\n",
      "dtype: int64\n"
     ]
    },
    {
     "data": {
      "image/png": "[encoded data removed]",
      "text/plain": [
       "<Figure size 500x200 with 1 Axes>"
      ]
     },
     "metadata": {},
     "output_type": "display_data"
    }
   ],
   "source": [
    "def get_neg_neighbours(row, ppm_delta=None, da_delta=0.05):\n",
    "    m = row['EXACT MASS']\n",
    "    inchi = row['inchi14']\n",
    "\n",
    "    assert da_delta is not None or ppm_delta is not None\n",
    "    assert da_delta is None or ppm_delta is None\n",
    "    if da_delta is not None:\n",
    "        mass_tolerance = da_delta\n",
    "    else:\n",
    "        mass_tolerance = m * 1e-6 * ppm_delta\n",
    "    \n",
    "    return df[\n",
    "        ((df['EXACT MASS'] - m).abs() <= mass_tolerance) &\n",
    "        (df['inchi14'] != inchi) & \n",
    "        (df['val'] == row['val'])\n",
    "    ].index.tolist()\n",
    "\n",
    "# Analyse distribution of number of negative neighbours in the whole dataset\n",
    "df[f'Mass tolerance neighbours'] = df.parallel_apply(get_neg_neighbours, axis=1)\n",
    "df[f'Num. of mass tolerance neighbours'] = df[f'Mass tolerance neighbours'].apply(len)\n",
    "print('Has neighbours', (df[f'Num. of mass tolerance neighbours'] > 0).value_counts())\n",
    "df[f'Num. of mass tolerance neighbours'].hist(bins=100, figsize=(5, 2))\n",
    "plt.show()\n",
    "\n",
    "# Analyse distribution of number of negative neighbours across folds\n",
    "for is_val in [True, False]:\n",
    "    print('is_val', is_val)\n",
    "    df_is_val = df[df['val'] == is_val]\n",
    "    print('Has neighbours', (df_is_val[f'Num. of mass tolerance neighbours'] > 0).value_counts())\n",
    "    print('top-5 value_counts', df_is_val.value_counts('Num. of mass tolerance neighbours').head(5))\n",
    "    df_is_val[f'Num. of mass tolerance neighbours'].hist(bins=100, figsize=(5, 2))\n",
    "    plt.show()"
   ]
  },
  {
   "cell_type": "code",
   "execution_count": 19,
   "metadata": {
    "ExecuteTime": {
     "end_time": "2023-11-18T11:34:49.145203Z",
     "start_time": "2023-11-18T11:34:49.116122Z"
    },
    "collapsed": false
   },
   "outputs": [
    {
     "name": "stdout",
     "output_type": "stream",
     "text": [
      "25903\n",
      "23049\n"
     ]
    }
   ],
   "source": [
    "print(len(df))\n",
    "print((df[f'Num. of mass tolerance neighbours'] > 0).sum())\n",
    "# df = df[df[f'Num. of mass tolerance neighbours'] > 0].copy()\n",
    "# len(df)"
   ]
  },
  {
   "cell_type": "code",
   "execution_count": 20,
   "metadata": {
    "ExecuteTime": {
     "end_time": "2023-11-18T11:34:56.528419Z",
     "start_time": "2023-11-18T11:34:56.506200Z"
    }
   },
   "outputs": [
    {
     "name": "stdout",
     "output_type": "stream",
     "text": [
      "349552\n",
      "897512\n",
      "1247064\n"
     ]
    }
   ],
   "source": [
    "print(df['Num. of inchi14 neighbours'].sum())\n",
    "print(df['Num. of mass tolerance neighbours'].sum())\n",
    "print(df['Num. of inchi14 neighbours'].sum() + df['Num. of mass tolerance neighbours'].sum())"
   ]
  },
  {
   "attachments": {},
   "cell_type": "markdown",
   "metadata": {},
   "source": [
    "## Save the dataset with neighbors (positive and negative examples)"
   ]
  },
  {
   "cell_type": "code",
   "execution_count": 25,
   "metadata": {
    "ExecuteTime": {
     "end_time": "2023-11-18T11:37:55.519356Z",
     "start_time": "2023-11-18T11:37:55.284681Z"
    }
   },
   "outputs": [],
   "source": [
    "df = su.df_to_MSnSpectra(df, assert_is_valid=False, as_new_column=True).copy()\n",
    "df = df.rename(columns={'inchi14 neighbours': 'pos_idx', f'Mass tolerance neighbours': 'neg_idx'})\n",
    "df = df.drop(columns=['Num. of inchi14 neighbours', f'Num. of mass tolerance neighbours'])"
   ]
  },
  {
   "cell_type": "code",
   "execution_count": 26,
   "metadata": {
    "ExecuteTime": {
     "end_time": "2023-11-18T11:37:58.297266Z",
     "start_time": "2023-11-18T11:37:57.596677Z"
    },
    "collapsed": false
   },
   "outputs": [],
   "source": [
    "df.to_pickle(io.append_to_stem(DATASET_PATH, f'neighbours_[M+H]+_0.05Da'))"
   ]
  },
  {
   "cell_type": "code",
   "execution_count": 16,
   "metadata": {},
   "outputs": [],
   "source": [
    "# df = pd.read_pickle(io.append_to_stem(DATASET_PATH, f'NIST_contrastive_v2_10ppm'))"
   ]
  },
  {
   "cell_type": "code",
   "execution_count": 7,
   "metadata": {
    "ExecuteTime": {
     "end_time": "2023-11-18T11:41:32.763232Z",
     "start_time": "2023-11-18T11:41:32.737882Z"
    },
    "collapsed": false
   },
   "outputs": [
    {
     "data": {
      "text/plain": [
       "False    25319\n",
       "True      3557\n",
       "Name: val, dtype: int64"
      ]
     },
     "execution_count": 7,
     "metadata": {},
     "output_type": "execute_result"
    }
   ],
   "source": [
    "df['val'].value_counts()"
   ]
  },
  {
   "cell_type": "code",
   "execution_count": 3,
   "metadata": {
    "ExecuteTime": {
     "end_time": "2024-03-05T20:16:07.284639Z",
     "start_time": "2024-03-05T20:16:06.515070Z"
    },
    "collapsed": false
   },
   "outputs": [
    {
     "data": {
      "text/html": [
       "<div>\n",
       "<style scoped>\n",
       "    .dataframe tbody tr th:only-of-type {\n",
       "        vertical-align: middle;\n",
       "    }\n",
       "\n",
       "    .dataframe tbody tr th {\n",
       "        vertical-align: top;\n",
       "    }\n",
       "\n",
       "    .dataframe thead th {\n",
       "        text-align: right;\n",
       "    }\n",
       "</style>\n",
       "<table border=\"1\" class=\"dataframe\">\n",
       "  <thead>\n",
       "    <tr style=\"text-align: right;\">\n",
       "      <th></th>\n",
       "      <th>index</th>\n",
       "      <th>ID</th>\n",
       "      <th>PARSED PEAKS</th>\n",
       "      <th>SMILES</th>\n",
       "      <th>PRECURSOR M/Z</th>\n",
       "      <th>FORMULA</th>\n",
       "      <th>CHARGE</th>\n",
       "      <th>ROMol</th>\n",
       "      <th>COLLISION ENERGY</th>\n",
       "      <th>ION MODE</th>\n",
       "      <th>...</th>\n",
       "      <th>INSTRUMENT TYPE</th>\n",
       "      <th>INSTRUMENT</th>\n",
       "      <th>MSnSpectrum</th>\n",
       "      <th>inchi14</th>\n",
       "      <th>MurckoHist</th>\n",
       "      <th>MurckoHistStr</th>\n",
       "      <th>val</th>\n",
       "      <th>EXACT MASS</th>\n",
       "      <th>pos_idx</th>\n",
       "      <th>neg_idx</th>\n",
       "    </tr>\n",
       "  </thead>\n",
       "  <tbody>\n",
       "    <tr>\n",
       "      <th>0</th>\n",
       "      <td>0</td>\n",
       "      <td>MoNA_56916_Anabasine</td>\n",
       "      <td>[[39.2, 41.2, 42.3, 43.0, 44.1, 44.6, 45.9, 51...</td>\n",
       "      <td>c1cncc([C@@H]2CCCCN2)c1</td>\n",
       "      <td>163.00000</td>\n",
       "      <td>C10H14N2</td>\n",
       "      <td>1</td>\n",
       "      <td>&lt;rdkit.Chem.rdchem.Mol object at 0x2a464fe00&gt;</td>\n",
       "      <td>50 V</td>\n",
       "      <td>P</td>\n",
       "      <td>...</td>\n",
       "      <td>LC-ESI-QQ</td>\n",
       "      <td>API3000, Applied Biosystems</td>\n",
       "      <td>&lt;msml.utils.spectra.MSnSpectrum object at 0x2a...</td>\n",
       "      <td>MTXSIJUGVMTTMU</td>\n",
       "      <td>{'0_1': 2}</td>\n",
       "      <td>{'0_1': 2}</td>\n",
       "      <td>False</td>\n",
       "      <td>162.115698</td>\n",
       "      <td>[2490, 3862, 4310, 4391, 5598, 6314, 6525, 677...</td>\n",
       "      <td>[243, 324, 930, 1325, 1357, 1386, 1535, 1680, ...</td>\n",
       "    </tr>\n",
       "    <tr>\n",
       "      <th>1</th>\n",
       "      <td>1</td>\n",
       "      <td>MoNA_50514_Erythromycin</td>\n",
       "      <td>[[83.0498, 98.0969, 113.06, 115.0757, 116.071,...</td>\n",
       "      <td>CC[C@H]1OC(=O)[C@H](C)[C@@H](O[C@H]2C[C@@](C)(...</td>\n",
       "      <td>734.46850</td>\n",
       "      <td>C37H67NO13</td>\n",
       "      <td>1</td>\n",
       "      <td>&lt;rdkit.Chem.rdchem.Mol object at 0x2a464fdb0&gt;</td>\n",
       "      <td>NCE 20%</td>\n",
       "      <td>P</td>\n",
       "      <td>...</td>\n",
       "      <td>nan</td>\n",
       "      <td>Thermo Q Exactive HF</td>\n",
       "      <td>&lt;msml.utils.spectra.MSnSpectrum object at 0x2a...</td>\n",
       "      <td>ULGZDMOVFRHVEP</td>\n",
       "      <td>{'0_1': 2, '0_2': 1}</td>\n",
       "      <td>{'0_1': 2, '0_2': 1}</td>\n",
       "      <td>True</td>\n",
       "      <td>733.461241</td>\n",
       "      <td>[772, 4624, 6187, 6228, 8304, 8662, 10860, 141...</td>\n",
       "      <td>[10658, 11634]</td>\n",
       "    </tr>\n",
       "    <tr>\n",
       "      <th>2</th>\n",
       "      <td>2</td>\n",
       "      <td>MoNA_29825_Gabapentin-lactam</td>\n",
       "      <td>[[54.0337, 55.0541, 60.0442, 65.0385, 67.0542,...</td>\n",
       "      <td>OC1=NCC2(CCCCC2)C1</td>\n",
       "      <td>154.12260</td>\n",
       "      <td>C9H15NO</td>\n",
       "      <td>1</td>\n",
       "      <td>&lt;rdkit.Chem.rdchem.Mol object at 0x2a464fea0&gt;</td>\n",
       "      <td>90 % (nominal)</td>\n",
       "      <td>P</td>\n",
       "      <td>...</td>\n",
       "      <td>LC-ESI-ITFT</td>\n",
       "      <td>LTQ Orbitrap XL Thermo Scientific</td>\n",
       "      <td>&lt;msml.utils.spectra.MSnSpectrum object at 0x2a...</td>\n",
       "      <td>JAWPQJDOQPSNIQ</td>\n",
       "      <td>{'0_0': 2}</td>\n",
       "      <td>{'0_0': 2}</td>\n",
       "      <td>True</td>\n",
       "      <td>153.115364</td>\n",
       "      <td>[2680, 6458, 6489, 6615, 6843, 8961, 10096, 10...</td>\n",
       "      <td>[]</td>\n",
       "    </tr>\n",
       "    <tr>\n",
       "      <th>3</th>\n",
       "      <td>3</td>\n",
       "      <td>MoNA_75706_5-chloro-2,4-dihydroxy-6-methyl-3-[...</td>\n",
       "      <td>[[50.738331, 57.461353, 59.049854, 61.929092, ...</td>\n",
       "      <td>CC(/C=C/[C@@]1(C)[C@H](C)CCC(=O)[C@@H]1C)=C\\Cc...</td>\n",
       "      <td>405.16900</td>\n",
       "      <td>C23H29ClO4</td>\n",
       "      <td>1</td>\n",
       "      <td>&lt;rdkit.Chem.rdchem.Mol object at 0x2a464fef0&gt;</td>\n",
       "      <td>NaN</td>\n",
       "      <td>P</td>\n",
       "      <td>...</td>\n",
       "      <td>nan</td>\n",
       "      <td>Orbitrap</td>\n",
       "      <td>&lt;msml.utils.spectra.MSnSpectrum object at 0x2a...</td>\n",
       "      <td>SETVRSKZJJWOPA</td>\n",
       "      <td>{'0_1': 2}</td>\n",
       "      <td>{'0_1': 2}</td>\n",
       "      <td>False</td>\n",
       "      <td>404.175437</td>\n",
       "      <td>[3697]</td>\n",
       "      <td>[1303, 1502, 4870, 6188, 7346, 8368, 10881, 12...</td>\n",
       "    </tr>\n",
       "    <tr>\n",
       "      <th>4</th>\n",
       "      <td>4</td>\n",
       "      <td>MoNA_42026_Senkirkine</td>\n",
       "      <td>[[70.0651, 81.0698, 83.0492, 94.0652, 101.0598...</td>\n",
       "      <td>C/C=C1/C[C@@H](C)[C@@](C)(O)C(=O)OC/C2=C/CN(C)...</td>\n",
       "      <td>366.19110</td>\n",
       "      <td>C19H27NO6</td>\n",
       "      <td>1</td>\n",
       "      <td>&lt;rdkit.Chem.rdchem.Mol object at 0x2a464ff40&gt;</td>\n",
       "      <td>40 % (nominal)</td>\n",
       "      <td>P</td>\n",
       "      <td>...</td>\n",
       "      <td>LC-ESI-ITFT</td>\n",
       "      <td>LTQ Orbitrap XL Thermo Scientific</td>\n",
       "      <td>&lt;msml.utils.spectra.MSnSpectrum object at 0x2a...</td>\n",
       "      <td>HPDHKHMHQGCNPE</td>\n",
       "      <td>{'0_0': 1}</td>\n",
       "      <td>{'0_0': 1}</td>\n",
       "      <td>False</td>\n",
       "      <td>365.183838</td>\n",
       "      <td>[1494, 2294, 3348, 3694, 5538, 6743, 8033, 823...</td>\n",
       "      <td>[34, 72, 321, 2621, 5926, 7623, 8415, 9316, 11...</td>\n",
       "    </tr>\n",
       "    <tr>\n",
       "      <th>...</th>\n",
       "      <td>...</td>\n",
       "      <td>...</td>\n",
       "      <td>...</td>\n",
       "      <td>...</td>\n",
       "      <td>...</td>\n",
       "      <td>...</td>\n",
       "      <td>...</td>\n",
       "      <td>...</td>\n",
       "      <td>...</td>\n",
       "      <td>...</td>\n",
       "      <td>...</td>\n",
       "      <td>...</td>\n",
       "      <td>...</td>\n",
       "      <td>...</td>\n",
       "      <td>...</td>\n",
       "      <td>...</td>\n",
       "      <td>...</td>\n",
       "      <td>...</td>\n",
       "      <td>...</td>\n",
       "      <td>...</td>\n",
       "      <td>...</td>\n",
       "    </tr>\n",
       "    <tr>\n",
       "      <th>25898</th>\n",
       "      <td>25898</td>\n",
       "      <td>MoNA_38998_Gelsemine</td>\n",
       "      <td>[[70.0651, 79.0541, 86.0602, 91.0542, 94.0654,...</td>\n",
       "      <td>C=C[C@]12CN(C)[C@@H]3[C@H]4COC(CC41)[C@]1(C(O)...</td>\n",
       "      <td>323.17540</td>\n",
       "      <td>C20H22N2O2</td>\n",
       "      <td>1</td>\n",
       "      <td>&lt;rdkit.Chem.rdchem.Mol object at 0x2aa2e0d10&gt;</td>\n",
       "      <td>95% (nominal)</td>\n",
       "      <td>P</td>\n",
       "      <td>...</td>\n",
       "      <td>LC-ESI-ITFT</td>\n",
       "      <td>LTQ Orbitrap XL Thermo Scientific</td>\n",
       "      <td>&lt;msml.utils.spectra.MSnSpectrum object at 0x2a...</td>\n",
       "      <td>NFYYATWFXNPTRM</td>\n",
       "      <td>{'1_0': 2, '7_0': 1, '9_0': 1, '10_0': 2}</td>\n",
       "      <td>{'1_0': 2, '7_0': 1, '9_0': 1, '10_0': 2}</td>\n",
       "      <td>False</td>\n",
       "      <td>322.168128</td>\n",
       "      <td>[1838, 1949, 6181, 6994, 7686, 9010, 13612, 14...</td>\n",
       "      <td>[904, 1281, 1549, 1648, 1785, 2041, 3498, 3968...</td>\n",
       "    </tr>\n",
       "    <tr>\n",
       "      <th>25899</th>\n",
       "      <td>25899</td>\n",
       "      <td>MoNA_45707_MEVALONOLACTONE</td>\n",
       "      <td>[[41.03981, 43.01888, 43.04405, 43.05473, 53.0...</td>\n",
       "      <td>C[C@]1(O)CCOC(=O)C1</td>\n",
       "      <td>131.07027</td>\n",
       "      <td>C6H10O3</td>\n",
       "      <td>1</td>\n",
       "      <td>&lt;rdkit.Chem.rdchem.Mol object at 0x2aa2e0d60&gt;</td>\n",
       "      <td>10 eV</td>\n",
       "      <td>P</td>\n",
       "      <td>...</td>\n",
       "      <td>LC-ESI-QTOF</td>\n",
       "      <td>Agilent qTOF 6545</td>\n",
       "      <td>&lt;msml.utils.spectra.MSnSpectrum object at 0x2a...</td>\n",
       "      <td>JYVXNLLUYHCIIH</td>\n",
       "      <td>{'0_0': 1}</td>\n",
       "      <td>{'0_0': 1}</td>\n",
       "      <td>False</td>\n",
       "      <td>130.062994</td>\n",
       "      <td>[820, 1361, 2915, 4031, 5623, 10409, 13586, 16...</td>\n",
       "      <td>[506, 1980, 2232, 2483, 3076, 6341, 8347, 8404...</td>\n",
       "    </tr>\n",
       "    <tr>\n",
       "      <th>25900</th>\n",
       "      <td>25900</td>\n",
       "      <td>MoNA_86187_Phenylbenzimidazole sulfonic acid</td>\n",
       "      <td>[[139.0549, 140.0583, 154.0636, 166.0638, 167....</td>\n",
       "      <td>O=S(=O)(O)c1ccc2nc(-c3ccccc3)[nH]c2c1</td>\n",
       "      <td>275.04850</td>\n",
       "      <td>C13H10N2O3S</td>\n",
       "      <td>1</td>\n",
       "      <td>&lt;rdkit.Chem.rdchem.Mol object at 0x2aa2e0db0&gt;</td>\n",
       "      <td>50 eV</td>\n",
       "      <td>P</td>\n",
       "      <td>...</td>\n",
       "      <td>LC-ESI-QTOF</td>\n",
       "      <td>Bruker maXis Impact</td>\n",
       "      <td>&lt;msml.utils.spectra.MSnSpectrum object at 0x2a...</td>\n",
       "      <td>UVCJGUGAGLDPAA</td>\n",
       "      <td>{'0_1': 1, '1_0': 1, '1_1': 1}</td>\n",
       "      <td>{'0_1': 1, '1_0': 1, '1_1': 1}</td>\n",
       "      <td>False</td>\n",
       "      <td>274.041213</td>\n",
       "      <td>[3572, 4525, 5193, 11287]</td>\n",
       "      <td>[257, 760, 763, 5746, 6528, 9497, 10820, 12522...</td>\n",
       "    </tr>\n",
       "    <tr>\n",
       "      <th>25901</th>\n",
       "      <td>25901</td>\n",
       "      <td>MoNA_52548_1-Amino-2-methylanthraquinone</td>\n",
       "      <td>[[53.0387, 65.0385, 72.0444, 77.0386, 79.0543,...</td>\n",
       "      <td>Cc1ccc2c(c1N)C(=O)c1ccccc1C2=O</td>\n",
       "      <td>238.08630</td>\n",
       "      <td>C15H11NO2</td>\n",
       "      <td>1</td>\n",
       "      <td>&lt;rdkit.Chem.rdchem.Mol object at 0x2aa2e0e00&gt;</td>\n",
       "      <td>90</td>\n",
       "      <td>P</td>\n",
       "      <td>...</td>\n",
       "      <td>LC-ESI-QFT</td>\n",
       "      <td>Q Exactive Orbitrap (Thermo Scientific)</td>\n",
       "      <td>&lt;msml.utils.spectra.MSnSpectrum object at 0x2a...</td>\n",
       "      <td>ZLCUIOWQYBYEBG</td>\n",
       "      <td>{'1_0': 2, '2_0': 1}</td>\n",
       "      <td>{'1_0': 2, '2_0': 1}</td>\n",
       "      <td>True</td>\n",
       "      <td>237.078979</td>\n",
       "      <td>[5085, 10952]</td>\n",
       "      <td>[]</td>\n",
       "    </tr>\n",
       "    <tr>\n",
       "      <th>25902</th>\n",
       "      <td>25902</td>\n",
       "      <td>MoNA_41487_Coniferaldehyde</td>\n",
       "      <td>[[91.0543, 95.0492, 103.0543, 105.07, 115.0543...</td>\n",
       "      <td>COc1cc(/C=C/C=O)ccc1O</td>\n",
       "      <td>179.07030</td>\n",
       "      <td>C10H10O3</td>\n",
       "      <td>1</td>\n",
       "      <td>&lt;rdkit.Chem.rdchem.Mol object at 0x2aa2e0e50&gt;</td>\n",
       "      <td>40 % (nominal)</td>\n",
       "      <td>P</td>\n",
       "      <td>...</td>\n",
       "      <td>LC-ESI-ITFT</td>\n",
       "      <td>LTQ Orbitrap XL Thermo Scientific</td>\n",
       "      <td>&lt;msml.utils.spectra.MSnSpectrum object at 0x2a...</td>\n",
       "      <td>DKZBBWMURDFHNE</td>\n",
       "      <td>{'0_0': 1}</td>\n",
       "      <td>{'0_0': 1}</td>\n",
       "      <td>False</td>\n",
       "      <td>178.062994</td>\n",
       "      <td>[470, 829, 984, 1183, 1595, 1822, 2007, 2025, ...</td>\n",
       "      <td>[253, 275, 889, 993, 1111, 1472, 1555, 1582, 1...</td>\n",
       "    </tr>\n",
       "  </tbody>\n",
       "</table>\n",
       "<p>25903 rows × 21 columns</p>\n",
       "</div>"
      ],
      "text/plain": [
       "       index                                                 ID  \\\n",
       "0          0                               MoNA_56916_Anabasine   \n",
       "1          1                            MoNA_50514_Erythromycin   \n",
       "2          2                       MoNA_29825_Gabapentin-lactam   \n",
       "3          3  MoNA_75706_5-chloro-2,4-dihydroxy-6-methyl-3-[...   \n",
       "4          4                              MoNA_42026_Senkirkine   \n",
       "...      ...                                                ...   \n",
       "25898  25898                               MoNA_38998_Gelsemine   \n",
       "25899  25899                         MoNA_45707_MEVALONOLACTONE   \n",
       "25900  25900       MoNA_86187_Phenylbenzimidazole sulfonic acid   \n",
       "25901  25901           MoNA_52548_1-Amino-2-methylanthraquinone   \n",
       "25902  25902                         MoNA_41487_Coniferaldehyde   \n",
       "\n",
       "                                            PARSED PEAKS  \\\n",
       "0      [[39.2, 41.2, 42.3, 43.0, 44.1, 44.6, 45.9, 51...   \n",
       "1      [[83.0498, 98.0969, 113.06, 115.0757, 116.071,...   \n",
       "2      [[54.0337, 55.0541, 60.0442, 65.0385, 67.0542,...   \n",
       "3      [[50.738331, 57.461353, 59.049854, 61.929092, ...   \n",
       "4      [[70.0651, 81.0698, 83.0492, 94.0652, 101.0598...   \n",
       "...                                                  ...   \n",
       "25898  [[70.0651, 79.0541, 86.0602, 91.0542, 94.0654,...   \n",
       "25899  [[41.03981, 43.01888, 43.04405, 43.05473, 53.0...   \n",
       "25900  [[139.0549, 140.0583, 154.0636, 166.0638, 167....   \n",
       "25901  [[53.0387, 65.0385, 72.0444, 77.0386, 79.0543,...   \n",
       "25902  [[91.0543, 95.0492, 103.0543, 105.07, 115.0543...   \n",
       "\n",
       "                                                  SMILES  PRECURSOR M/Z  \\\n",
       "0                                c1cncc([C@@H]2CCCCN2)c1      163.00000   \n",
       "1      CC[C@H]1OC(=O)[C@H](C)[C@@H](O[C@H]2C[C@@](C)(...      734.46850   \n",
       "2                                     OC1=NCC2(CCCCC2)C1      154.12260   \n",
       "3      CC(/C=C/[C@@]1(C)[C@H](C)CCC(=O)[C@@H]1C)=C\\Cc...      405.16900   \n",
       "4      C/C=C1/C[C@@H](C)[C@@](C)(O)C(=O)OC/C2=C/CN(C)...      366.19110   \n",
       "...                                                  ...            ...   \n",
       "25898  C=C[C@]12CN(C)[C@@H]3[C@H]4COC(CC41)[C@]1(C(O)...      323.17540   \n",
       "25899                                C[C@]1(O)CCOC(=O)C1      131.07027   \n",
       "25900              O=S(=O)(O)c1ccc2nc(-c3ccccc3)[nH]c2c1      275.04850   \n",
       "25901                     Cc1ccc2c(c1N)C(=O)c1ccccc1C2=O      238.08630   \n",
       "25902                              COc1cc(/C=C/C=O)ccc1O      179.07030   \n",
       "\n",
       "           FORMULA  CHARGE                                          ROMol  \\\n",
       "0         C10H14N2       1  <rdkit.Chem.rdchem.Mol object at 0x2a464fe00>   \n",
       "1       C37H67NO13       1  <rdkit.Chem.rdchem.Mol object at 0x2a464fdb0>   \n",
       "2          C9H15NO       1  <rdkit.Chem.rdchem.Mol object at 0x2a464fea0>   \n",
       "3       C23H29ClO4       1  <rdkit.Chem.rdchem.Mol object at 0x2a464fef0>   \n",
       "4        C19H27NO6       1  <rdkit.Chem.rdchem.Mol object at 0x2a464ff40>   \n",
       "...            ...     ...                                            ...   \n",
       "25898   C20H22N2O2       1  <rdkit.Chem.rdchem.Mol object at 0x2aa2e0d10>   \n",
       "25899      C6H10O3       1  <rdkit.Chem.rdchem.Mol object at 0x2aa2e0d60>   \n",
       "25900  C13H10N2O3S       1  <rdkit.Chem.rdchem.Mol object at 0x2aa2e0db0>   \n",
       "25901    C15H11NO2       1  <rdkit.Chem.rdchem.Mol object at 0x2aa2e0e00>   \n",
       "25902     C10H10O3       1  <rdkit.Chem.rdchem.Mol object at 0x2aa2e0e50>   \n",
       "\n",
       "      COLLISION ENERGY ION MODE  ... INSTRUMENT TYPE  \\\n",
       "0                 50 V        P  ...       LC-ESI-QQ   \n",
       "1              NCE 20%        P  ...             nan   \n",
       "2       90 % (nominal)        P  ...     LC-ESI-ITFT   \n",
       "3                  NaN        P  ...             nan   \n",
       "4       40 % (nominal)        P  ...     LC-ESI-ITFT   \n",
       "...                ...      ...  ...             ...   \n",
       "25898    95% (nominal)        P  ...     LC-ESI-ITFT   \n",
       "25899            10 eV        P  ...     LC-ESI-QTOF   \n",
       "25900            50 eV        P  ...     LC-ESI-QTOF   \n",
       "25901               90        P  ...      LC-ESI-QFT   \n",
       "25902   40 % (nominal)        P  ...     LC-ESI-ITFT   \n",
       "\n",
       "                                    INSTRUMENT  \\\n",
       "0                  API3000, Applied Biosystems   \n",
       "1                         Thermo Q Exactive HF   \n",
       "2            LTQ Orbitrap XL Thermo Scientific   \n",
       "3                                     Orbitrap   \n",
       "4            LTQ Orbitrap XL Thermo Scientific   \n",
       "...                                        ...   \n",
       "25898        LTQ Orbitrap XL Thermo Scientific   \n",
       "25899                        Agilent qTOF 6545   \n",
       "25900                      Bruker maXis Impact   \n",
       "25901  Q Exactive Orbitrap (Thermo Scientific)   \n",
       "25902        LTQ Orbitrap XL Thermo Scientific   \n",
       "\n",
       "                                             MSnSpectrum         inchi14  \\\n",
       "0      <msml.utils.spectra.MSnSpectrum object at 0x2a...  MTXSIJUGVMTTMU   \n",
       "1      <msml.utils.spectra.MSnSpectrum object at 0x2a...  ULGZDMOVFRHVEP   \n",
       "2      <msml.utils.spectra.MSnSpectrum object at 0x2a...  JAWPQJDOQPSNIQ   \n",
       "3      <msml.utils.spectra.MSnSpectrum object at 0x2a...  SETVRSKZJJWOPA   \n",
       "4      <msml.utils.spectra.MSnSpectrum object at 0x2a...  HPDHKHMHQGCNPE   \n",
       "...                                                  ...             ...   \n",
       "25898  <msml.utils.spectra.MSnSpectrum object at 0x2a...  NFYYATWFXNPTRM   \n",
       "25899  <msml.utils.spectra.MSnSpectrum object at 0x2a...  JYVXNLLUYHCIIH   \n",
       "25900  <msml.utils.spectra.MSnSpectrum object at 0x2a...  UVCJGUGAGLDPAA   \n",
       "25901  <msml.utils.spectra.MSnSpectrum object at 0x2a...  ZLCUIOWQYBYEBG   \n",
       "25902  <msml.utils.spectra.MSnSpectrum object at 0x2a...  DKZBBWMURDFHNE   \n",
       "\n",
       "                                      MurckoHist  \\\n",
       "0                                     {'0_1': 2}   \n",
       "1                           {'0_1': 2, '0_2': 1}   \n",
       "2                                     {'0_0': 2}   \n",
       "3                                     {'0_1': 2}   \n",
       "4                                     {'0_0': 1}   \n",
       "...                                          ...   \n",
       "25898  {'1_0': 2, '7_0': 1, '9_0': 1, '10_0': 2}   \n",
       "25899                                 {'0_0': 1}   \n",
       "25900             {'0_1': 1, '1_0': 1, '1_1': 1}   \n",
       "25901                       {'1_0': 2, '2_0': 1}   \n",
       "25902                                 {'0_0': 1}   \n",
       "\n",
       "                                   MurckoHistStr    val  EXACT MASS  \\\n",
       "0                                     {'0_1': 2}  False  162.115698   \n",
       "1                           {'0_1': 2, '0_2': 1}   True  733.461241   \n",
       "2                                     {'0_0': 2}   True  153.115364   \n",
       "3                                     {'0_1': 2}  False  404.175437   \n",
       "4                                     {'0_0': 1}  False  365.183838   \n",
       "...                                          ...    ...         ...   \n",
       "25898  {'1_0': 2, '7_0': 1, '9_0': 1, '10_0': 2}  False  322.168128   \n",
       "25899                                 {'0_0': 1}  False  130.062994   \n",
       "25900             {'0_1': 1, '1_0': 1, '1_1': 1}  False  274.041213   \n",
       "25901                       {'1_0': 2, '2_0': 1}   True  237.078979   \n",
       "25902                                 {'0_0': 1}  False  178.062994   \n",
       "\n",
       "                                                 pos_idx  \\\n",
       "0      [2490, 3862, 4310, 4391, 5598, 6314, 6525, 677...   \n",
       "1      [772, 4624, 6187, 6228, 8304, 8662, 10860, 141...   \n",
       "2      [2680, 6458, 6489, 6615, 6843, 8961, 10096, 10...   \n",
       "3                                                 [3697]   \n",
       "4      [1494, 2294, 3348, 3694, 5538, 6743, 8033, 823...   \n",
       "...                                                  ...   \n",
       "25898  [1838, 1949, 6181, 6994, 7686, 9010, 13612, 14...   \n",
       "25899  [820, 1361, 2915, 4031, 5623, 10409, 13586, 16...   \n",
       "25900                          [3572, 4525, 5193, 11287]   \n",
       "25901                                      [5085, 10952]   \n",
       "25902  [470, 829, 984, 1183, 1595, 1822, 2007, 2025, ...   \n",
       "\n",
       "                                                 neg_idx  \n",
       "0      [243, 324, 930, 1325, 1357, 1386, 1535, 1680, ...  \n",
       "1                                         [10658, 11634]  \n",
       "2                                                     []  \n",
       "3      [1303, 1502, 4870, 6188, 7346, 8368, 10881, 12...  \n",
       "4      [34, 72, 321, 2621, 5926, 7623, 8415, 9316, 11...  \n",
       "...                                                  ...  \n",
       "25898  [904, 1281, 1549, 1648, 1785, 2041, 3498, 3968...  \n",
       "25899  [506, 1980, 2232, 2483, 3076, 6341, 8347, 8404...  \n",
       "25900  [257, 760, 763, 5746, 6528, 9497, 10820, 12522...  \n",
       "25901                                                 []  \n",
       "25902  [253, 275, 889, 993, 1111, 1472, 1555, 1582, 1...  \n",
       "\n",
       "[25903 rows x 21 columns]"
      ]
     },
     "execution_count": 3,
     "metadata": {},
     "output_type": "execute_result"
    }
   ],
   "source": [
    "df = pd.read_pickle(io.append_to_stem(DATASET_PATH, f'neighbours_[M+H]+_0.05Da'))\n",
    "df"
   ]
  },
  {
   "cell_type": "code",
   "execution_count": 5,
   "metadata": {
    "ExecuteTime": {
     "end_time": "2024-03-05T20:22:18.071122Z",
     "start_time": "2024-03-05T20:22:18.025341Z"
    },
    "collapsed": false
   },
   "outputs": [
    {
     "data": {
      "text/plain": [
       "5442"
      ]
     },
     "execution_count": 5,
     "metadata": {},
     "output_type": "execute_result"
    }
   ],
   "source": [
    "df['inchi14'].nunique()"
   ]
  },
  {
   "attachments": {},
   "cell_type": "markdown",
   "metadata": {},
   "source": [
    "# Precompute all pairwise (or just neighboring) Tanimoto similarities (for training/validation evaluation)"
   ]
  },
  {
   "cell_type": "code",
   "execution_count": 18,
   "metadata": {},
   "outputs": [
    {
     "data": {
      "application/vnd.jupyter.widget-view+json": {
       "model_id": "a9323a9ffd6448f3ac906670ccf9c5e0",
       "version_major": 2,
       "version_minor": 0
      },
      "text/plain": [
       "VBox(children=(HBox(children=(IntProgress(value=0, description='0.00%', max=3238), Label(value='0 / 3238'))), …"
      ]
     },
     "metadata": {},
     "output_type": "display_data"
    },
    {
     "data": {
      "application/vnd.jupyter.widget-view+json": {
       "model_id": "1ed7ec7a58dd4ed7864e984143ef0227",
       "version_major": 2,
       "version_minor": 0
      },
      "text/plain": [
       "VBox(children=(HBox(children=(IntProgress(value=0, description='0.00%', max=3238), Label(value='0 / 3238'))), …"
      ]
     },
     "metadata": {},
     "output_type": "display_data"
    },
    {
     "data": {
      "text/html": [
       "<div>\n",
       "<style scoped>\n",
       "    .dataframe tbody tr th:only-of-type {\n",
       "        vertical-align: middle;\n",
       "    }\n",
       "\n",
       "    .dataframe tbody tr th {\n",
       "        vertical-align: top;\n",
       "    }\n",
       "\n",
       "    .dataframe thead th {\n",
       "        text-align: right;\n",
       "    }\n",
       "</style>\n",
       "<table border=\"1\" class=\"dataframe\">\n",
       "  <thead>\n",
       "    <tr style=\"text-align: right;\">\n",
       "      <th></th>\n",
       "      <th>ID</th>\n",
       "      <th>PARSED PEAKS</th>\n",
       "      <th>SMILES</th>\n",
       "      <th>PRECURSOR M/Z</th>\n",
       "      <th>FORMULA</th>\n",
       "      <th>CHARGE</th>\n",
       "      <th>ROMol</th>\n",
       "      <th>COLLISION ENERGY</th>\n",
       "      <th>ION MODE</th>\n",
       "      <th>PRECURSOR TYPE</th>\n",
       "      <th>...</th>\n",
       "      <th>inchi14</th>\n",
       "      <th>MurckoHist</th>\n",
       "      <th>MurckoHistStr</th>\n",
       "      <th>val</th>\n",
       "      <th>EXACT MASS</th>\n",
       "      <th>index</th>\n",
       "      <th>pos_idx</th>\n",
       "      <th>neg_idx</th>\n",
       "      <th>pos_tanimoto_similarities</th>\n",
       "      <th>neg_tanimoto_similarities</th>\n",
       "    </tr>\n",
       "  </thead>\n",
       "  <tbody>\n",
       "    <tr>\n",
       "      <th>11</th>\n",
       "      <td>MoNA_52001_Imazalil</td>\n",
       "      <td>[[52.0182, 53.0022, 53.9975, 54.0101, 54.0339,...</td>\n",
       "      <td>C=CCOC(Cn1ccnc1)c1ccc(Cl)cc1Cl</td>\n",
       "      <td>297.055600</td>\n",
       "      <td>C14H14Cl2N2O</td>\n",
       "      <td>1</td>\n",
       "      <td>&lt;rdkit.Chem.rdchem.Mol object at 0x4003c5450&gt;</td>\n",
       "      <td>75</td>\n",
       "      <td>P</td>\n",
       "      <td>[M+H]+</td>\n",
       "      <td>...</td>\n",
       "      <td>PZBPKYOVPCNPJY</td>\n",
       "      <td>{'0_1': 2}</td>\n",
       "      <td>{'0_1': 2}</td>\n",
       "      <td>False</td>\n",
       "      <td>296.048318</td>\n",
       "      <td>11</td>\n",
       "      <td>[460, 21173, 50543, 51224, 97139, 116262, 1313...</td>\n",
       "      <td>[123846, 438591]</td>\n",
       "      <td>[1.0, 1.0, 1.0, 1.0, 1.0, 1.0, 1.0, 1.0, 1.0, ...</td>\n",
       "      <td>[0.03571428571428571, 0.03571428571428571]</td>\n",
       "    </tr>\n",
       "    <tr>\n",
       "      <th>20</th>\n",
       "      <td>MoNA_43337_RANITIDINE</td>\n",
       "      <td>[[58.06535, 81.0336, 83.06036, 84.0685, 88.021...</td>\n",
       "      <td>CN/C(=C\\[N+](=O)[O-])NCCSCc1ccc(CN(C)C)o1</td>\n",
       "      <td>315.148538</td>\n",
       "      <td>C13H22N4O3S</td>\n",
       "      <td>1</td>\n",
       "      <td>&lt;rdkit.Chem.rdchem.Mol object at 0x4003c5180&gt;</td>\n",
       "      <td>HCD (NCE 20-30-40%)</td>\n",
       "      <td>P</td>\n",
       "      <td>[M+H]+</td>\n",
       "      <td>...</td>\n",
       "      <td>VMXUWOKSQNHOCA</td>\n",
       "      <td>{'0_0': 1}</td>\n",
       "      <td>{'0_0': 1}</td>\n",
       "      <td>False</td>\n",
       "      <td>314.141262</td>\n",
       "      <td>20</td>\n",
       "      <td>[7678, 54542, 69154, 84301, 132223, 133877, 13...</td>\n",
       "      <td>[]</td>\n",
       "      <td>[1.0, 1.0, 1.0, 1.0, 1.0, 1.0, 1.0, 1.0, 1.0, ...</td>\n",
       "      <td>[]</td>\n",
       "    </tr>\n",
       "    <tr>\n",
       "      <th>41</th>\n",
       "      <td>MoNA_88852_Fluvastatin</td>\n",
       "      <td>[[123.0436, 141.0545, 212.0906, 223.0807, 224....</td>\n",
       "      <td>CC(C)n1c(/C=C/[C@@H](O)C[C@@H](O)CC(=O)O)c(-c2...</td>\n",
       "      <td>412.191900</td>\n",
       "      <td>C24H26FNO4</td>\n",
       "      <td>1</td>\n",
       "      <td>&lt;rdkit.Chem.rdchem.Mol object at 0x4003bf9f0&gt;</td>\n",
       "      <td>20 eV</td>\n",
       "      <td>P</td>\n",
       "      <td>[M+H]+</td>\n",
       "      <td>...</td>\n",
       "      <td>FJLGEFLZQAZZCD</td>\n",
       "      <td>{'0_1': 1, '1_0': 1, '1_1': 1}</td>\n",
       "      <td>{'0_1': 1, '1_0': 1, '1_1': 1}</td>\n",
       "      <td>False</td>\n",
       "      <td>411.184587</td>\n",
       "      <td>41</td>\n",
       "      <td>[676, 25962, 51608, 68151, 163539, 168153, 190...</td>\n",
       "      <td>[]</td>\n",
       "      <td>[1.0, 1.0, 1.0, 1.0, 1.0, 1.0, 1.0, 1.0, 1.0, ...</td>\n",
       "      <td>[]</td>\n",
       "    </tr>\n",
       "    <tr>\n",
       "      <th>42</th>\n",
       "      <td>MoNA_66514_Spiramycin</td>\n",
       "      <td>[[59.0492, 69.0334, 70.065, 71.0491, 72.0444, ...</td>\n",
       "      <td>CO[C@@H]1[C@@H](OC2OC(C)C(OC3CC(C)(O)C(O)C(C)O...</td>\n",
       "      <td>843.521300</td>\n",
       "      <td>C43H74N2O14</td>\n",
       "      <td>1</td>\n",
       "      <td>&lt;rdkit.Chem.rdchem.Mol object at 0x4003bf9a0&gt;</td>\n",
       "      <td>45 (nominal)</td>\n",
       "      <td>P</td>\n",
       "      <td>[M+H]+</td>\n",
       "      <td>...</td>\n",
       "      <td>ACTOXUHEUCPTEW</td>\n",
       "      <td>{'0_1': 2, '0_2': 2}</td>\n",
       "      <td>{'0_1': 2, '0_2': 2}</td>\n",
       "      <td>False</td>\n",
       "      <td>842.514005</td>\n",
       "      <td>42</td>\n",
       "      <td>[20483, 314521, 460038]</td>\n",
       "      <td>[]</td>\n",
       "      <td>[1.0, 1.0, 1.0]</td>\n",
       "      <td>[]</td>\n",
       "    </tr>\n",
       "    <tr>\n",
       "      <th>81</th>\n",
       "      <td>MoNA_87362_Dimethachlor ESA</td>\n",
       "      <td>[[132.0807, 133.0837, 146.0967, 147.1038, 148....</td>\n",
       "      <td>COCCN(C(=O)CS(=O)(=O)O)c1c(C)cccc1C</td>\n",
       "      <td>302.105700</td>\n",
       "      <td>C13H19NO5S</td>\n",
       "      <td>1</td>\n",
       "      <td>&lt;rdkit.Chem.rdchem.Mol object at 0x4003b9b30&gt;</td>\n",
       "      <td>Ramp 21.6-32.5 eV</td>\n",
       "      <td>P</td>\n",
       "      <td>[M+H]+</td>\n",
       "      <td>...</td>\n",
       "      <td>RVSCDWJKJDBFRS</td>\n",
       "      <td>{'0_0': 1}</td>\n",
       "      <td>{'0_0': 1}</td>\n",
       "      <td>False</td>\n",
       "      <td>301.098394</td>\n",
       "      <td>81</td>\n",
       "      <td>[107582, 116167, 160407, 177003, 266080, 31742...</td>\n",
       "      <td>[]</td>\n",
       "      <td>[1.0, 1.0, 1.0, 1.0, 1.0, 1.0, 1.0, 1.0, 1.0, ...</td>\n",
       "      <td>[]</td>\n",
       "    </tr>\n",
       "    <tr>\n",
       "      <th>...</th>\n",
       "      <td>...</td>\n",
       "      <td>...</td>\n",
       "      <td>...</td>\n",
       "      <td>...</td>\n",
       "      <td>...</td>\n",
       "      <td>...</td>\n",
       "      <td>...</td>\n",
       "      <td>...</td>\n",
       "      <td>...</td>\n",
       "      <td>...</td>\n",
       "      <td>...</td>\n",
       "      <td>...</td>\n",
       "      <td>...</td>\n",
       "      <td>...</td>\n",
       "      <td>...</td>\n",
       "      <td>...</td>\n",
       "      <td>...</td>\n",
       "      <td>...</td>\n",
       "      <td>...</td>\n",
       "      <td>...</td>\n",
       "      <td>...</td>\n",
       "    </tr>\n",
       "    <tr>\n",
       "      <th>482861</th>\n",
       "      <td>MoNA_53418_2-Naphthylamine</td>\n",
       "      <td>[[53.0386, 63.0229, 77.0384, 91.0542, 103.0542...</td>\n",
       "      <td>Nc1ccc2ccccc2c1</td>\n",
       "      <td>144.080800</td>\n",
       "      <td>C10H9N</td>\n",
       "      <td>1</td>\n",
       "      <td>&lt;rdkit.Chem.rdchem.Mol object at 0x301c23540&gt;</td>\n",
       "      <td>90</td>\n",
       "      <td>P</td>\n",
       "      <td>[M+H]+</td>\n",
       "      <td>...</td>\n",
       "      <td>JBIJLHTVPXGSAM</td>\n",
       "      <td>{'1_0': 2}</td>\n",
       "      <td>{'1_0': 2}</td>\n",
       "      <td>False</td>\n",
       "      <td>143.073499</td>\n",
       "      <td>482861</td>\n",
       "      <td>[88305, 264127]</td>\n",
       "      <td>[]</td>\n",
       "      <td>[1.0, 1.0]</td>\n",
       "      <td>[]</td>\n",
       "    </tr>\n",
       "    <tr>\n",
       "      <th>482901</th>\n",
       "      <td>MoNA_75944_O-methylarmepavine</td>\n",
       "      <td>[[55.018253, 58.065189, 59.068359, 72.044334, ...</td>\n",
       "      <td>COc1ccc(C[C@@H]2c3cc(OC)c(OC)cc3CCN2C)cc1</td>\n",
       "      <td>328.192000</td>\n",
       "      <td>C20H25NO3</td>\n",
       "      <td>1</td>\n",
       "      <td>&lt;rdkit.Chem.rdchem.Mol object at 0x301c0e8b0&gt;</td>\n",
       "      <td>NaN</td>\n",
       "      <td>P</td>\n",
       "      <td>[M+H]+</td>\n",
       "      <td>...</td>\n",
       "      <td>LZJWNVLTWYMMDJ</td>\n",
       "      <td>{'0_1': 1, '1_0': 1, '1_1': 1}</td>\n",
       "      <td>{'0_1': 1, '1_0': 1, '1_1': 1}</td>\n",
       "      <td>False</td>\n",
       "      <td>327.183444</td>\n",
       "      <td>482901</td>\n",
       "      <td>[]</td>\n",
       "      <td>[456018]</td>\n",
       "      <td>[]</td>\n",
       "      <td>[0.08955223880597014]</td>\n",
       "    </tr>\n",
       "    <tr>\n",
       "      <th>482942</th>\n",
       "      <td>MoNA_88420_Pentoxifylline</td>\n",
       "      <td>[[110.0707, 120.0541, 121.0625, 122.0579, 123....</td>\n",
       "      <td>CC(=O)CCCCn1c(=O)c2c(ncn2C)n(C)c1=O</td>\n",
       "      <td>279.145200</td>\n",
       "      <td>C13H18N4O3</td>\n",
       "      <td>1</td>\n",
       "      <td>&lt;rdkit.Chem.rdchem.Mol object at 0x301c00b30&gt;</td>\n",
       "      <td>50 eV</td>\n",
       "      <td>P</td>\n",
       "      <td>[M+H]+</td>\n",
       "      <td>...</td>\n",
       "      <td>BYPFEZZEUUWMEJ</td>\n",
       "      <td>{'1_0': 2}</td>\n",
       "      <td>{'1_0': 2}</td>\n",
       "      <td>False</td>\n",
       "      <td>278.137890</td>\n",
       "      <td>482942</td>\n",
       "      <td>[12568, 18314, 79920, 447820]</td>\n",
       "      <td>[72313]</td>\n",
       "      <td>[1.0, 1.0, 1.0, 1.0]</td>\n",
       "      <td>[0.6304347826086957]</td>\n",
       "    </tr>\n",
       "    <tr>\n",
       "      <th>482947</th>\n",
       "      <td>MoNA_30913_Benzocaine</td>\n",
       "      <td>[[53.0388, 65.0385, 67.0542, 77.0385, 92.0494,...</td>\n",
       "      <td>CCOC(=O)c1ccc(N)cc1</td>\n",
       "      <td>166.086300</td>\n",
       "      <td>C9H11NO2</td>\n",
       "      <td>1</td>\n",
       "      <td>&lt;rdkit.Chem.rdchem.Mol object at 0x301c009a0&gt;</td>\n",
       "      <td>35  (nominal)</td>\n",
       "      <td>P</td>\n",
       "      <td>[M+H]+</td>\n",
       "      <td>...</td>\n",
       "      <td>BLFLLBZGZJTVJG</td>\n",
       "      <td>{'0_0': 1}</td>\n",
       "      <td>{'0_0': 1}</td>\n",
       "      <td>False</td>\n",
       "      <td>165.078979</td>\n",
       "      <td>482947</td>\n",
       "      <td>[65339, 95542, 96668, 199994, 206133, 222145, ...</td>\n",
       "      <td>[1697, 20000, 21008, 36342, 99375, 107021, 123...</td>\n",
       "      <td>[1.0, 1.0, 1.0, 1.0, 1.0, 1.0, 1.0, 1.0, 1.0, ...</td>\n",
       "      <td>[0.625, 0.2, 0.2, 0.2, 0.2, 0.625, 0.2, 0.2, 0...</td>\n",
       "    </tr>\n",
       "    <tr>\n",
       "      <th>482965</th>\n",
       "      <td>MoNA_60059_Cyclizine</td>\n",
       "      <td>[[65.0384, 115.0542, 128.062, 139.0547, 141.06...</td>\n",
       "      <td>CN1CCN(C(c2ccccc2)c2ccccc2)CC1</td>\n",
       "      <td>267.185600</td>\n",
       "      <td>C18H22N2</td>\n",
       "      <td>1</td>\n",
       "      <td>&lt;rdkit.Chem.rdchem.Mol object at 0x301c00400&gt;</td>\n",
       "      <td>105% (nominal)</td>\n",
       "      <td>P</td>\n",
       "      <td>[M+H]+</td>\n",
       "      <td>...</td>\n",
       "      <td>UVKZSORBKUEBAZ</td>\n",
       "      <td>{'0_1': 3}</td>\n",
       "      <td>{'0_1': 3}</td>\n",
       "      <td>True</td>\n",
       "      <td>266.178299</td>\n",
       "      <td>482965</td>\n",
       "      <td>[3770, 15892, 28136, 30378, 63110, 77499, 1098...</td>\n",
       "      <td>[18315, 25917, 27267, 28959, 33317, 38603, 470...</td>\n",
       "      <td>[1.0, 1.0, 1.0, 1.0, 1.0, 1.0, 1.0, 1.0, 1.0, ...</td>\n",
       "      <td>[0.23809523809523808, 0.23809523809523808, 0.2...</td>\n",
       "    </tr>\n",
       "  </tbody>\n",
       "</table>\n",
       "<p>25903 rows × 23 columns</p>\n",
       "</div>"
      ],
      "text/plain": [
       "                                   ID  \\\n",
       "11                MoNA_52001_Imazalil   \n",
       "20              MoNA_43337_RANITIDINE   \n",
       "41             MoNA_88852_Fluvastatin   \n",
       "42              MoNA_66514_Spiramycin   \n",
       "81        MoNA_87362_Dimethachlor ESA   \n",
       "...                               ...   \n",
       "482861     MoNA_53418_2-Naphthylamine   \n",
       "482901  MoNA_75944_O-methylarmepavine   \n",
       "482942      MoNA_88420_Pentoxifylline   \n",
       "482947          MoNA_30913_Benzocaine   \n",
       "482965           MoNA_60059_Cyclizine   \n",
       "\n",
       "                                             PARSED PEAKS  \\\n",
       "11      [[52.0182, 53.0022, 53.9975, 54.0101, 54.0339,...   \n",
       "20      [[58.06535, 81.0336, 83.06036, 84.0685, 88.021...   \n",
       "41      [[123.0436, 141.0545, 212.0906, 223.0807, 224....   \n",
       "42      [[59.0492, 69.0334, 70.065, 71.0491, 72.0444, ...   \n",
       "81      [[132.0807, 133.0837, 146.0967, 147.1038, 148....   \n",
       "...                                                   ...   \n",
       "482861  [[53.0386, 63.0229, 77.0384, 91.0542, 103.0542...   \n",
       "482901  [[55.018253, 58.065189, 59.068359, 72.044334, ...   \n",
       "482942  [[110.0707, 120.0541, 121.0625, 122.0579, 123....   \n",
       "482947  [[53.0388, 65.0385, 67.0542, 77.0385, 92.0494,...   \n",
       "482965  [[65.0384, 115.0542, 128.062, 139.0547, 141.06...   \n",
       "\n",
       "                                                   SMILES  PRECURSOR M/Z  \\\n",
       "11                         C=CCOC(Cn1ccnc1)c1ccc(Cl)cc1Cl     297.055600   \n",
       "20              CN/C(=C\\[N+](=O)[O-])NCCSCc1ccc(CN(C)C)o1     315.148538   \n",
       "41      CC(C)n1c(/C=C/[C@@H](O)C[C@@H](O)CC(=O)O)c(-c2...     412.191900   \n",
       "42      CO[C@@H]1[C@@H](OC2OC(C)C(OC3CC(C)(O)C(O)C(C)O...     843.521300   \n",
       "81                    COCCN(C(=O)CS(=O)(=O)O)c1c(C)cccc1C     302.105700   \n",
       "...                                                   ...            ...   \n",
       "482861                                    Nc1ccc2ccccc2c1     144.080800   \n",
       "482901          COc1ccc(C[C@@H]2c3cc(OC)c(OC)cc3CCN2C)cc1     328.192000   \n",
       "482942                CC(=O)CCCCn1c(=O)c2c(ncn2C)n(C)c1=O     279.145200   \n",
       "482947                                CCOC(=O)c1ccc(N)cc1     166.086300   \n",
       "482965                     CN1CCN(C(c2ccccc2)c2ccccc2)CC1     267.185600   \n",
       "\n",
       "             FORMULA  CHARGE                                          ROMol  \\\n",
       "11      C14H14Cl2N2O       1  <rdkit.Chem.rdchem.Mol object at 0x4003c5450>   \n",
       "20       C13H22N4O3S       1  <rdkit.Chem.rdchem.Mol object at 0x4003c5180>   \n",
       "41        C24H26FNO4       1  <rdkit.Chem.rdchem.Mol object at 0x4003bf9f0>   \n",
       "42       C43H74N2O14       1  <rdkit.Chem.rdchem.Mol object at 0x4003bf9a0>   \n",
       "81        C13H19NO5S       1  <rdkit.Chem.rdchem.Mol object at 0x4003b9b30>   \n",
       "...              ...     ...                                            ...   \n",
       "482861        C10H9N       1  <rdkit.Chem.rdchem.Mol object at 0x301c23540>   \n",
       "482901     C20H25NO3       1  <rdkit.Chem.rdchem.Mol object at 0x301c0e8b0>   \n",
       "482942    C13H18N4O3       1  <rdkit.Chem.rdchem.Mol object at 0x301c00b30>   \n",
       "482947      C9H11NO2       1  <rdkit.Chem.rdchem.Mol object at 0x301c009a0>   \n",
       "482965      C18H22N2       1  <rdkit.Chem.rdchem.Mol object at 0x301c00400>   \n",
       "\n",
       "           COLLISION ENERGY ION MODE PRECURSOR TYPE  ...         inchi14  \\\n",
       "11                       75        P         [M+H]+  ...  PZBPKYOVPCNPJY   \n",
       "20      HCD (NCE 20-30-40%)        P         [M+H]+  ...  VMXUWOKSQNHOCA   \n",
       "41                    20 eV        P         [M+H]+  ...  FJLGEFLZQAZZCD   \n",
       "42             45 (nominal)        P         [M+H]+  ...  ACTOXUHEUCPTEW   \n",
       "81        Ramp 21.6-32.5 eV        P         [M+H]+  ...  RVSCDWJKJDBFRS   \n",
       "...                     ...      ...            ...  ...             ...   \n",
       "482861                   90        P         [M+H]+  ...  JBIJLHTVPXGSAM   \n",
       "482901                  NaN        P         [M+H]+  ...  LZJWNVLTWYMMDJ   \n",
       "482942                50 eV        P         [M+H]+  ...  BYPFEZZEUUWMEJ   \n",
       "482947        35  (nominal)        P         [M+H]+  ...  BLFLLBZGZJTVJG   \n",
       "482965       105% (nominal)        P         [M+H]+  ...  UVKZSORBKUEBAZ   \n",
       "\n",
       "                            MurckoHist                   MurckoHistStr    val  \\\n",
       "11                          {'0_1': 2}                      {'0_1': 2}  False   \n",
       "20                          {'0_0': 1}                      {'0_0': 1}  False   \n",
       "41      {'0_1': 1, '1_0': 1, '1_1': 1}  {'0_1': 1, '1_0': 1, '1_1': 1}  False   \n",
       "42                {'0_1': 2, '0_2': 2}            {'0_1': 2, '0_2': 2}  False   \n",
       "81                          {'0_0': 1}                      {'0_0': 1}  False   \n",
       "...                                ...                             ...    ...   \n",
       "482861                      {'1_0': 2}                      {'1_0': 2}  False   \n",
       "482901  {'0_1': 1, '1_0': 1, '1_1': 1}  {'0_1': 1, '1_0': 1, '1_1': 1}  False   \n",
       "482942                      {'1_0': 2}                      {'1_0': 2}  False   \n",
       "482947                      {'0_0': 1}                      {'0_0': 1}  False   \n",
       "482965                      {'0_1': 3}                      {'0_1': 3}   True   \n",
       "\n",
       "        EXACT MASS   index                                            pos_idx  \\\n",
       "11      296.048318      11  [460, 21173, 50543, 51224, 97139, 116262, 1313...   \n",
       "20      314.141262      20  [7678, 54542, 69154, 84301, 132223, 133877, 13...   \n",
       "41      411.184587      41  [676, 25962, 51608, 68151, 163539, 168153, 190...   \n",
       "42      842.514005      42                            [20483, 314521, 460038]   \n",
       "81      301.098394      81  [107582, 116167, 160407, 177003, 266080, 31742...   \n",
       "...            ...     ...                                                ...   \n",
       "482861  143.073499  482861                                    [88305, 264127]   \n",
       "482901  327.183444  482901                                                 []   \n",
       "482942  278.137890  482942                      [12568, 18314, 79920, 447820]   \n",
       "482947  165.078979  482947  [65339, 95542, 96668, 199994, 206133, 222145, ...   \n",
       "482965  266.178299  482965  [3770, 15892, 28136, 30378, 63110, 77499, 1098...   \n",
       "\n",
       "                                                  neg_idx  \\\n",
       "11                                       [123846, 438591]   \n",
       "20                                                     []   \n",
       "41                                                     []   \n",
       "42                                                     []   \n",
       "81                                                     []   \n",
       "...                                                   ...   \n",
       "482861                                                 []   \n",
       "482901                                           [456018]   \n",
       "482942                                            [72313]   \n",
       "482947  [1697, 20000, 21008, 36342, 99375, 107021, 123...   \n",
       "482965  [18315, 25917, 27267, 28959, 33317, 38603, 470...   \n",
       "\n",
       "                                pos_tanimoto_similarities  \\\n",
       "11      [1.0, 1.0, 1.0, 1.0, 1.0, 1.0, 1.0, 1.0, 1.0, ...   \n",
       "20      [1.0, 1.0, 1.0, 1.0, 1.0, 1.0, 1.0, 1.0, 1.0, ...   \n",
       "41      [1.0, 1.0, 1.0, 1.0, 1.0, 1.0, 1.0, 1.0, 1.0, ...   \n",
       "42                                        [1.0, 1.0, 1.0]   \n",
       "81      [1.0, 1.0, 1.0, 1.0, 1.0, 1.0, 1.0, 1.0, 1.0, ...   \n",
       "...                                                   ...   \n",
       "482861                                         [1.0, 1.0]   \n",
       "482901                                                 []   \n",
       "482942                               [1.0, 1.0, 1.0, 1.0]   \n",
       "482947  [1.0, 1.0, 1.0, 1.0, 1.0, 1.0, 1.0, 1.0, 1.0, ...   \n",
       "482965  [1.0, 1.0, 1.0, 1.0, 1.0, 1.0, 1.0, 1.0, 1.0, ...   \n",
       "\n",
       "                                neg_tanimoto_similarities  \n",
       "11             [0.03571428571428571, 0.03571428571428571]  \n",
       "20                                                     []  \n",
       "41                                                     []  \n",
       "42                                                     []  \n",
       "81                                                     []  \n",
       "...                                                   ...  \n",
       "482861                                                 []  \n",
       "482901                              [0.08955223880597014]  \n",
       "482942                               [0.6304347826086957]  \n",
       "482947  [0.625, 0.2, 0.2, 0.2, 0.2, 0.625, 0.2, 0.2, 0...  \n",
       "482965  [0.23809523809523808, 0.23809523809523808, 0.2...  \n",
       "\n",
       "[25903 rows x 23 columns]"
      ]
     },
     "execution_count": 18,
     "metadata": {},
     "output_type": "execute_result"
    }
   ],
   "source": [
    "# Pre-compute Tanimoto similarity on Morgan fingerprints\n",
    "def get_tanimoto_similarities_to_nieghbors(row, neighbors_col='pos_idx'):\n",
    "    sims = []\n",
    "    for i in row[neighbors_col]:\n",
    "        sims.append(mu.morgan_smiles_sim(row['SMILES'], df.loc[i]['SMILES']))\n",
    "    return sims\n",
    "\n",
    "df['pos_tanimoto_similarities'] = df.parallel_apply(get_tanimoto_similarities_to_nieghbors, axis=1)\n",
    "df['neg_tanimoto_similarities'] = df.parallel_apply(get_tanimoto_similarities_to_nieghbors, axis=1, neighbors_col='neg_idx')\n",
    "df"
   ]
  },
  {
   "cell_type": "code",
   "execution_count": 6,
   "metadata": {},
   "outputs": [
    {
     "data": {
      "text/plain": [
       "(23104, 533794816)"
      ]
     },
     "execution_count": 6,
     "metadata": {},
     "output_type": "execute_result"
    }
   ],
   "source": [
    "# Pre-compite all pairwise Tanimoto similarities\n",
    "smiles = df['SMILES'].unique()\n",
    "len(smiles), len(smiles) ** 2"
   ]
  },
  {
   "cell_type": "code",
   "execution_count": 10,
   "metadata": {},
   "outputs": [
    {
     "name": "stderr",
     "output_type": "stream",
     "text": [
      "100%|██████████| 23104/23104 [01:16<00:00, 301.30it/s]\n"
     ]
    },
    {
     "data": {
      "text/html": [
       "<div>\n",
       "<style scoped>\n",
       "    .dataframe tbody tr th:only-of-type {\n",
       "        vertical-align: middle;\n",
       "    }\n",
       "\n",
       "    .dataframe tbody tr th {\n",
       "        vertical-align: top;\n",
       "    }\n",
       "\n",
       "    .dataframe thead th {\n",
       "        text-align: right;\n",
       "    }\n",
       "</style>\n",
       "<table border=\"1\" class=\"dataframe\">\n",
       "  <thead>\n",
       "    <tr style=\"text-align: right;\">\n",
       "      <th></th>\n",
       "      <th>SMILES 1</th>\n",
       "      <th>SMILES 2</th>\n",
       "    </tr>\n",
       "  </thead>\n",
       "  <tbody>\n",
       "    <tr>\n",
       "      <th>0</th>\n",
       "      <td>CCCCCCCC/C=C\\CCCCCCCC(=O)OCC(CO[P@SP](=O)(O)OC...</td>\n",
       "      <td>CCCCCCCC/C=C\\CCCCCCCC(=O)OC[C@H](COP(=O)([O-])...</td>\n",
       "    </tr>\n",
       "    <tr>\n",
       "      <th>1</th>\n",
       "      <td>CCCCCCCC/C=C\\CCCCCCCC(=O)OCC(CO[P@SP](=O)(O)OC...</td>\n",
       "      <td>CCCCCCCC/C=C\\CCCCCCCC(=O)OC[C@H](COP(=O)([O-])...</td>\n",
       "    </tr>\n",
       "    <tr>\n",
       "      <th>2</th>\n",
       "      <td>CCCCCCCC/C=C\\CCCCCCCC(=O)OCC(CO[P@SP](=O)(O)OC...</td>\n",
       "      <td>CCCCC/C=C\\C/C=C\\C/C=C\\CCCCCCC(=O)OCC(O)CO[P@SP...</td>\n",
       "    </tr>\n",
       "    <tr>\n",
       "      <th>3</th>\n",
       "      <td>CCCCCCCC/C=C\\CCCCCCCC(=O)OCC(CO[P@SP](=O)(O)OC...</td>\n",
       "      <td>CCCCCCCC/C=C/C/C=C/CCCCC(=O)O[C@H](COC(=O)CCCC...</td>\n",
       "    </tr>\n",
       "    <tr>\n",
       "      <th>4</th>\n",
       "      <td>CCCCCCCC/C=C\\CCCCCCCC(=O)OCC(CO[P@SP](=O)(O)OC...</td>\n",
       "      <td>CCCCCCCCCCCCCCCCCC(=O)O[C@H](COC(=O)CCCCCCCCCC...</td>\n",
       "    </tr>\n",
       "    <tr>\n",
       "      <th>...</th>\n",
       "      <td>...</td>\n",
       "      <td>...</td>\n",
       "    </tr>\n",
       "    <tr>\n",
       "      <th>266885851</th>\n",
       "      <td>CCOc1ccc(/N=N/c2c(O)ccc3cccc(NC(=O)c4ccco4)c23...</td>\n",
       "      <td>CCCCCCCCCCCCC/C=C/[C@@H](O)[C@H](CO[C@@H]1OC(C...</td>\n",
       "    </tr>\n",
       "    <tr>\n",
       "      <th>266885852</th>\n",
       "      <td>CCOc1ccc(/N=N/c2c(O)ccc3cccc(NC(=O)c4ccco4)c23...</td>\n",
       "      <td>CCCCCCCCCCCCC/C=C/[C@@H](O)[C@H](CO[C@@H]1O[C@...</td>\n",
       "    </tr>\n",
       "    <tr>\n",
       "      <th>266885853</th>\n",
       "      <td>Cc1n[nH]c(C)c1/N=N/c1sc(C(=O)O)c(C)c1C(=O)O</td>\n",
       "      <td>CCCCCCCCCCCCC/C=C/[C@@H](O)[C@H](CO[C@@H]1OC(C...</td>\n",
       "    </tr>\n",
       "    <tr>\n",
       "      <th>266885854</th>\n",
       "      <td>Cc1n[nH]c(C)c1/N=N/c1sc(C(=O)O)c(C)c1C(=O)O</td>\n",
       "      <td>CCCCCCCCCCCCC/C=C/[C@@H](O)[C@H](CO[C@@H]1O[C@...</td>\n",
       "    </tr>\n",
       "    <tr>\n",
       "      <th>266885855</th>\n",
       "      <td>CCCCCCCCCCCCC/C=C/[C@@H](O)[C@H](CO[C@@H]1OC(C...</td>\n",
       "      <td>CCCCCCCCCCCCC/C=C/[C@@H](O)[C@H](CO[C@@H]1O[C@...</td>\n",
       "    </tr>\n",
       "  </tbody>\n",
       "</table>\n",
       "<p>266885856 rows × 2 columns</p>\n",
       "</div>"
      ],
      "text/plain": [
       "                                                    SMILES 1  \\\n",
       "0          CCCCCCCC/C=C\\CCCCCCCC(=O)OCC(CO[P@SP](=O)(O)OC...   \n",
       "1          CCCCCCCC/C=C\\CCCCCCCC(=O)OCC(CO[P@SP](=O)(O)OC...   \n",
       "2          CCCCCCCC/C=C\\CCCCCCCC(=O)OCC(CO[P@SP](=O)(O)OC...   \n",
       "3          CCCCCCCC/C=C\\CCCCCCCC(=O)OCC(CO[P@SP](=O)(O)OC...   \n",
       "4          CCCCCCCC/C=C\\CCCCCCCC(=O)OCC(CO[P@SP](=O)(O)OC...   \n",
       "...                                                      ...   \n",
       "266885851  CCOc1ccc(/N=N/c2c(O)ccc3cccc(NC(=O)c4ccco4)c23...   \n",
       "266885852  CCOc1ccc(/N=N/c2c(O)ccc3cccc(NC(=O)c4ccco4)c23...   \n",
       "266885853        Cc1n[nH]c(C)c1/N=N/c1sc(C(=O)O)c(C)c1C(=O)O   \n",
       "266885854        Cc1n[nH]c(C)c1/N=N/c1sc(C(=O)O)c(C)c1C(=O)O   \n",
       "266885855  CCCCCCCCCCCCC/C=C/[C@@H](O)[C@H](CO[C@@H]1OC(C...   \n",
       "\n",
       "                                                    SMILES 2  \n",
       "0          CCCCCCCC/C=C\\CCCCCCCC(=O)OC[C@H](COP(=O)([O-])...  \n",
       "1          CCCCCCCC/C=C\\CCCCCCCC(=O)OC[C@H](COP(=O)([O-])...  \n",
       "2          CCCCC/C=C\\C/C=C\\C/C=C\\CCCCCCC(=O)OCC(O)CO[P@SP...  \n",
       "3          CCCCCCCC/C=C/C/C=C/CCCCC(=O)O[C@H](COC(=O)CCCC...  \n",
       "4          CCCCCCCCCCCCCCCCCC(=O)O[C@H](COC(=O)CCCCCCCCCC...  \n",
       "...                                                      ...  \n",
       "266885851  CCCCCCCCCCCCC/C=C/[C@@H](O)[C@H](CO[C@@H]1OC(C...  \n",
       "266885852  CCCCCCCCCCCCC/C=C/[C@@H](O)[C@H](CO[C@@H]1O[C@...  \n",
       "266885853  CCCCCCCCCCCCC/C=C/[C@@H](O)[C@H](CO[C@@H]1OC(C...  \n",
       "266885854  CCCCCCCCCCCCC/C=C/[C@@H](O)[C@H](CO[C@@H]1O[C@...  \n",
       "266885855  CCCCCCCCCCCCC/C=C/[C@@H](O)[C@H](CO[C@@H]1O[C@...  \n",
       "\n",
       "[266885856 rows x 2 columns]"
      ]
     },
     "execution_count": 10,
     "metadata": {},
     "output_type": "execute_result"
    }
   ],
   "source": [
    "# Complete\n",
    "# df_smiles = pd.DataFrame(list(itertools.product(smiles, smiles)), columns=['SMILES 1', 'SMILES 2'])\n",
    "\n",
    "# Only triangle\n",
    "df_smiles = []\n",
    "for i, smiles1 in tqdm(enumerate(smiles), total=len(smiles)):\n",
    "    for j, smiles2 in enumerate(smiles):\n",
    "        if i < j:\n",
    "            df_smiles.append((smiles1, smiles2))\n",
    "\n",
    "df_smiles = pd.DataFrame(df_smiles, columns=['SMILES 1', 'SMILES 2'])\n",
    "df_smiles"
   ]
  },
  {
   "cell_type": "code",
   "execution_count": 11,
   "metadata": {},
   "outputs": [
    {
     "data": {
      "application/vnd.jupyter.widget-view+json": {
       "model_id": "29774325662d4380989c9e99be309493",
       "version_major": 2,
       "version_minor": 0
      },
      "text/plain": [
       "VBox(children=(HBox(children=(IntProgress(value=0, description='0.00%', max=53377172), Label(value='0 / 533771…"
      ]
     },
     "metadata": {},
     "output_type": "display_data"
    },
    {
     "data": {
      "text/html": [
       "<div>\n",
       "<style scoped>\n",
       "    .dataframe tbody tr th:only-of-type {\n",
       "        vertical-align: middle;\n",
       "    }\n",
       "\n",
       "    .dataframe tbody tr th {\n",
       "        vertical-align: top;\n",
       "    }\n",
       "\n",
       "    .dataframe thead th {\n",
       "        text-align: right;\n",
       "    }\n",
       "</style>\n",
       "<table border=\"1\" class=\"dataframe\">\n",
       "  <thead>\n",
       "    <tr style=\"text-align: right;\">\n",
       "      <th></th>\n",
       "      <th>SMILES 1</th>\n",
       "      <th>SMILES 2</th>\n",
       "      <th>tanimoto_similarity</th>\n",
       "    </tr>\n",
       "  </thead>\n",
       "  <tbody>\n",
       "    <tr>\n",
       "      <th>0</th>\n",
       "      <td>CCCCCCCC/C=C\\CCCCCCCC(=O)OCC(CO[P@SP](=O)(O)OC...</td>\n",
       "      <td>CCCCCCCC/C=C\\CCCCCCCC(=O)OC[C@H](COP(=O)([O-])...</td>\n",
       "      <td>0.569231</td>\n",
       "    </tr>\n",
       "    <tr>\n",
       "      <th>1</th>\n",
       "      <td>CCCCCCCC/C=C\\CCCCCCCC(=O)OCC(CO[P@SP](=O)(O)OC...</td>\n",
       "      <td>CCCCCCCC/C=C\\CCCCCCCC(=O)OC[C@H](COP(=O)([O-])...</td>\n",
       "      <td>0.587302</td>\n",
       "    </tr>\n",
       "    <tr>\n",
       "      <th>2</th>\n",
       "      <td>CCCCCCCC/C=C\\CCCCCCCC(=O)OCC(CO[P@SP](=O)(O)OC...</td>\n",
       "      <td>CCCCC/C=C\\C/C=C\\C/C=C\\CCCCCCC(=O)OCC(O)CO[P@SP...</td>\n",
       "      <td>0.507463</td>\n",
       "    </tr>\n",
       "    <tr>\n",
       "      <th>3</th>\n",
       "      <td>CCCCCCCC/C=C\\CCCCCCCC(=O)OCC(CO[P@SP](=O)(O)OC...</td>\n",
       "      <td>CCCCCCCC/C=C/C/C=C/CCCCC(=O)O[C@H](COC(=O)CCCC...</td>\n",
       "      <td>0.544118</td>\n",
       "    </tr>\n",
       "    <tr>\n",
       "      <th>4</th>\n",
       "      <td>CCCCCCCC/C=C\\CCCCCCCC(=O)OCC(CO[P@SP](=O)(O)OC...</td>\n",
       "      <td>CCCCCCCCCCCCCCCCCC(=O)O[C@H](COC(=O)CCCCCCCCCC...</td>\n",
       "      <td>0.476923</td>\n",
       "    </tr>\n",
       "    <tr>\n",
       "      <th>...</th>\n",
       "      <td>...</td>\n",
       "      <td>...</td>\n",
       "      <td>...</td>\n",
       "    </tr>\n",
       "    <tr>\n",
       "      <th>266885851</th>\n",
       "      <td>CCOc1ccc(/N=N/c2c(O)ccc3cccc(NC(=O)c4ccco4)c23...</td>\n",
       "      <td>CCCCCCCCCCCCC/C=C/[C@@H](O)[C@H](CO[C@@H]1OC(C...</td>\n",
       "      <td>0.075758</td>\n",
       "    </tr>\n",
       "    <tr>\n",
       "      <th>266885852</th>\n",
       "      <td>CCOc1ccc(/N=N/c2c(O)ccc3cccc(NC(=O)c4ccco4)c23...</td>\n",
       "      <td>CCCCCCCCCCCCC/C=C/[C@@H](O)[C@H](CO[C@@H]1O[C@...</td>\n",
       "      <td>0.101852</td>\n",
       "    </tr>\n",
       "    <tr>\n",
       "      <th>266885853</th>\n",
       "      <td>Cc1n[nH]c(C)c1/N=N/c1sc(C(=O)O)c(C)c1C(=O)O</td>\n",
       "      <td>CCCCCCCCCCCCC/C=C/[C@@H](O)[C@H](CO[C@@H]1OC(C...</td>\n",
       "      <td>0.059829</td>\n",
       "    </tr>\n",
       "    <tr>\n",
       "      <th>266885854</th>\n",
       "      <td>Cc1n[nH]c(C)c1/N=N/c1sc(C(=O)O)c(C)c1C(=O)O</td>\n",
       "      <td>CCCCCCCCCCCCC/C=C/[C@@H](O)[C@H](CO[C@@H]1O[C@...</td>\n",
       "      <td>0.052083</td>\n",
       "    </tr>\n",
       "    <tr>\n",
       "      <th>266885855</th>\n",
       "      <td>CCCCCCCCCCCCC/C=C/[C@@H](O)[C@H](CO[C@@H]1OC(C...</td>\n",
       "      <td>CCCCCCCCCCCCC/C=C/[C@@H](O)[C@H](CO[C@@H]1O[C@...</td>\n",
       "      <td>0.585106</td>\n",
       "    </tr>\n",
       "  </tbody>\n",
       "</table>\n",
       "<p>266885856 rows × 3 columns</p>\n",
       "</div>"
      ],
      "text/plain": [
       "                                                    SMILES 1  \\\n",
       "0          CCCCCCCC/C=C\\CCCCCCCC(=O)OCC(CO[P@SP](=O)(O)OC...   \n",
       "1          CCCCCCCC/C=C\\CCCCCCCC(=O)OCC(CO[P@SP](=O)(O)OC...   \n",
       "2          CCCCCCCC/C=C\\CCCCCCCC(=O)OCC(CO[P@SP](=O)(O)OC...   \n",
       "3          CCCCCCCC/C=C\\CCCCCCCC(=O)OCC(CO[P@SP](=O)(O)OC...   \n",
       "4          CCCCCCCC/C=C\\CCCCCCCC(=O)OCC(CO[P@SP](=O)(O)OC...   \n",
       "...                                                      ...   \n",
       "266885851  CCOc1ccc(/N=N/c2c(O)ccc3cccc(NC(=O)c4ccco4)c23...   \n",
       "266885852  CCOc1ccc(/N=N/c2c(O)ccc3cccc(NC(=O)c4ccco4)c23...   \n",
       "266885853        Cc1n[nH]c(C)c1/N=N/c1sc(C(=O)O)c(C)c1C(=O)O   \n",
       "266885854        Cc1n[nH]c(C)c1/N=N/c1sc(C(=O)O)c(C)c1C(=O)O   \n",
       "266885855  CCCCCCCCCCCCC/C=C/[C@@H](O)[C@H](CO[C@@H]1OC(C...   \n",
       "\n",
       "                                                    SMILES 2  \\\n",
       "0          CCCCCCCC/C=C\\CCCCCCCC(=O)OC[C@H](COP(=O)([O-])...   \n",
       "1          CCCCCCCC/C=C\\CCCCCCCC(=O)OC[C@H](COP(=O)([O-])...   \n",
       "2          CCCCC/C=C\\C/C=C\\C/C=C\\CCCCCCC(=O)OCC(O)CO[P@SP...   \n",
       "3          CCCCCCCC/C=C/C/C=C/CCCCC(=O)O[C@H](COC(=O)CCCC...   \n",
       "4          CCCCCCCCCCCCCCCCCC(=O)O[C@H](COC(=O)CCCCCCCCCC...   \n",
       "...                                                      ...   \n",
       "266885851  CCCCCCCCCCCCC/C=C/[C@@H](O)[C@H](CO[C@@H]1OC(C...   \n",
       "266885852  CCCCCCCCCCCCC/C=C/[C@@H](O)[C@H](CO[C@@H]1O[C@...   \n",
       "266885853  CCCCCCCCCCCCC/C=C/[C@@H](O)[C@H](CO[C@@H]1OC(C...   \n",
       "266885854  CCCCCCCCCCCCC/C=C/[C@@H](O)[C@H](CO[C@@H]1O[C@...   \n",
       "266885855  CCCCCCCCCCCCC/C=C/[C@@H](O)[C@H](CO[C@@H]1O[C@...   \n",
       "\n",
       "           tanimoto_similarity  \n",
       "0                     0.569231  \n",
       "1                     0.587302  \n",
       "2                     0.507463  \n",
       "3                     0.544118  \n",
       "4                     0.476923  \n",
       "...                        ...  \n",
       "266885851             0.075758  \n",
       "266885852             0.101852  \n",
       "266885853             0.059829  \n",
       "266885854             0.052083  \n",
       "266885855             0.585106  \n",
       "\n",
       "[266885856 rows x 3 columns]"
      ]
     },
     "execution_count": 11,
     "metadata": {},
     "output_type": "execute_result"
    }
   ],
   "source": [
    "df_smiles['tanimoto_similarity'] = df_smiles.parallel_apply(lambda row: mu.morgan_smiles_sim(row['SMILES 1'], row['SMILES 2']), axis=1)\n",
    "df_smiles"
   ]
  },
  {
   "cell_type": "code",
   "execution_count": 12,
   "metadata": {},
   "outputs": [],
   "source": [
    "# Pickle\n",
    "df_smiles.to_pickle(io.append_to_stem(DATASET_PATH, f'MoNA_contrastive_v2_10ppm_smiles_similarities_asymmetric'))"
   ]
  },
  {
   "cell_type": "code",
   "execution_count": 23,
   "metadata": {},
   "outputs": [
    {
     "data": {
      "text/plain": [
       "PosixPath('/Users/anton/dev/ms/msml/msml/data/merged/datasets/NIST20_MoNA_A_Murcko_split.pkl')"
      ]
     },
     "execution_count": 23,
     "metadata": {},
     "output_type": "execute_result"
    }
   ],
   "source": [
    "DATASET_PATH"
   ]
  },
  {
   "attachments": {},
   "cell_type": "markdown",
   "metadata": {
    "collapsed": false
   },
   "source": [
    "# Single sample examples"
   ]
  },
  {
   "cell_type": "code",
   "execution_count": 24,
   "metadata": {
    "ExecuteTime": {
     "end_time": "2023-11-18T11:37:24.990238Z",
     "start_time": "2023-11-18T11:37:24.911547Z"
    },
    "collapsed": false
   },
   "outputs": [
    {
     "data": {
      "text/html": [
       "<div>\n",
       "<style scoped>\n",
       "    .dataframe tbody tr th:only-of-type {\n",
       "        vertical-align: middle;\n",
       "    }\n",
       "\n",
       "    .dataframe tbody tr th {\n",
       "        vertical-align: top;\n",
       "    }\n",
       "\n",
       "    .dataframe thead th {\n",
       "        text-align: right;\n",
       "    }\n",
       "</style>\n",
       "<table border=\"1\" class=\"dataframe\">\n",
       "  <thead>\n",
       "    <tr style=\"text-align: right;\">\n",
       "      <th></th>\n",
       "      <th>index</th>\n",
       "      <th>ID</th>\n",
       "      <th>PARSED PEAKS</th>\n",
       "      <th>SMILES</th>\n",
       "      <th>PRECURSOR M/Z</th>\n",
       "      <th>FORMULA</th>\n",
       "      <th>CHARGE</th>\n",
       "      <th>ROMol</th>\n",
       "      <th>COLLISION ENERGY</th>\n",
       "      <th>ION MODE</th>\n",
       "      <th>...</th>\n",
       "      <th>MSnSpectrum</th>\n",
       "      <th>inchi14</th>\n",
       "      <th>MurckoHist</th>\n",
       "      <th>MurckoHistStr</th>\n",
       "      <th>val</th>\n",
       "      <th>EXACT MASS</th>\n",
       "      <th>inchi14 neighbours</th>\n",
       "      <th>Num. of inchi14 neighbours</th>\n",
       "      <th>Mass tolerance neighbours</th>\n",
       "      <th>Num. of mass tolerance neighbours</th>\n",
       "    </tr>\n",
       "  </thead>\n",
       "  <tbody>\n",
       "    <tr>\n",
       "      <th>0</th>\n",
       "      <td>0</td>\n",
       "      <td>MoNA_56916_Anabasine</td>\n",
       "      <td>[[39.2, 41.2, 42.3, 43.0, 44.1, 44.6, 45.9, 51...</td>\n",
       "      <td>c1cncc([C@@H]2CCCCN2)c1</td>\n",
       "      <td>163.00000</td>\n",
       "      <td>C10H14N2</td>\n",
       "      <td>1</td>\n",
       "      <td>&lt;rdkit.Chem.rdchem.Mol object at 0x2aba0b900&gt;</td>\n",
       "      <td>50 V</td>\n",
       "      <td>P</td>\n",
       "      <td>...</td>\n",
       "      <td>&lt;msml.utils.spectra.MSnSpectrum object at 0x2a...</td>\n",
       "      <td>MTXSIJUGVMTTMU</td>\n",
       "      <td>{'0_1': 2}</td>\n",
       "      <td>{'0_1': 2}</td>\n",
       "      <td>False</td>\n",
       "      <td>162.115698</td>\n",
       "      <td>[2490, 3862, 4310, 4391, 5598, 6314, 6525, 677...</td>\n",
       "      <td>47</td>\n",
       "      <td>[243, 324, 930, 1325, 1357, 1386, 1535, 1680, ...</td>\n",
       "      <td>127</td>\n",
       "    </tr>\n",
       "    <tr>\n",
       "      <th>1</th>\n",
       "      <td>1</td>\n",
       "      <td>MoNA_50514_Erythromycin</td>\n",
       "      <td>[[83.0498, 98.0969, 113.06, 115.0757, 116.071,...</td>\n",
       "      <td>CC[C@H]1OC(=O)[C@H](C)[C@@H](O[C@H]2C[C@@](C)(...</td>\n",
       "      <td>734.46850</td>\n",
       "      <td>C37H67NO13</td>\n",
       "      <td>1</td>\n",
       "      <td>&lt;rdkit.Chem.rdchem.Mol object at 0x2aba0b8b0&gt;</td>\n",
       "      <td>NCE 20%</td>\n",
       "      <td>P</td>\n",
       "      <td>...</td>\n",
       "      <td>&lt;msml.utils.spectra.MSnSpectrum object at 0x2a...</td>\n",
       "      <td>ULGZDMOVFRHVEP</td>\n",
       "      <td>{'0_1': 2, '0_2': 1}</td>\n",
       "      <td>{'0_1': 2, '0_2': 1}</td>\n",
       "      <td>True</td>\n",
       "      <td>733.461241</td>\n",
       "      <td>[772, 4624, 6187, 6228, 8304, 8662, 10860, 141...</td>\n",
       "      <td>10</td>\n",
       "      <td>[10658, 11634]</td>\n",
       "      <td>2</td>\n",
       "    </tr>\n",
       "    <tr>\n",
       "      <th>2</th>\n",
       "      <td>2</td>\n",
       "      <td>MoNA_29825_Gabapentin-lactam</td>\n",
       "      <td>[[54.0337, 55.0541, 60.0442, 65.0385, 67.0542,...</td>\n",
       "      <td>OC1=NCC2(CCCCC2)C1</td>\n",
       "      <td>154.12260</td>\n",
       "      <td>C9H15NO</td>\n",
       "      <td>1</td>\n",
       "      <td>&lt;rdkit.Chem.rdchem.Mol object at 0x2aba0b9a0&gt;</td>\n",
       "      <td>90 % (nominal)</td>\n",
       "      <td>P</td>\n",
       "      <td>...</td>\n",
       "      <td>&lt;msml.utils.spectra.MSnSpectrum object at 0x2a...</td>\n",
       "      <td>JAWPQJDOQPSNIQ</td>\n",
       "      <td>{'0_0': 2}</td>\n",
       "      <td>{'0_0': 2}</td>\n",
       "      <td>True</td>\n",
       "      <td>153.115364</td>\n",
       "      <td>[2680, 6458, 6489, 6615, 6843, 8961, 10096, 10...</td>\n",
       "      <td>11</td>\n",
       "      <td>[]</td>\n",
       "      <td>0</td>\n",
       "    </tr>\n",
       "    <tr>\n",
       "      <th>3</th>\n",
       "      <td>3</td>\n",
       "      <td>MoNA_75706_5-chloro-2,4-dihydroxy-6-methyl-3-[...</td>\n",
       "      <td>[[50.738331, 57.461353, 59.049854, 61.929092, ...</td>\n",
       "      <td>CC(/C=C/[C@@]1(C)[C@H](C)CCC(=O)[C@@H]1C)=C\\Cc...</td>\n",
       "      <td>405.16900</td>\n",
       "      <td>C23H29ClO4</td>\n",
       "      <td>1</td>\n",
       "      <td>&lt;rdkit.Chem.rdchem.Mol object at 0x2aba0b9f0&gt;</td>\n",
       "      <td>NaN</td>\n",
       "      <td>P</td>\n",
       "      <td>...</td>\n",
       "      <td>&lt;msml.utils.spectra.MSnSpectrum object at 0x2a...</td>\n",
       "      <td>SETVRSKZJJWOPA</td>\n",
       "      <td>{'0_1': 2}</td>\n",
       "      <td>{'0_1': 2}</td>\n",
       "      <td>False</td>\n",
       "      <td>404.175437</td>\n",
       "      <td>[3697]</td>\n",
       "      <td>1</td>\n",
       "      <td>[1303, 1502, 4870, 6188, 7346, 8368, 10881, 12...</td>\n",
       "      <td>14</td>\n",
       "    </tr>\n",
       "    <tr>\n",
       "      <th>4</th>\n",
       "      <td>4</td>\n",
       "      <td>MoNA_42026_Senkirkine</td>\n",
       "      <td>[[70.0651, 81.0698, 83.0492, 94.0652, 101.0598...</td>\n",
       "      <td>C/C=C1/C[C@@H](C)[C@@](C)(O)C(=O)OC/C2=C/CN(C)...</td>\n",
       "      <td>366.19110</td>\n",
       "      <td>C19H27NO6</td>\n",
       "      <td>1</td>\n",
       "      <td>&lt;rdkit.Chem.rdchem.Mol object at 0x2aba0ba40&gt;</td>\n",
       "      <td>40 % (nominal)</td>\n",
       "      <td>P</td>\n",
       "      <td>...</td>\n",
       "      <td>&lt;msml.utils.spectra.MSnSpectrum object at 0x2a...</td>\n",
       "      <td>HPDHKHMHQGCNPE</td>\n",
       "      <td>{'0_0': 1}</td>\n",
       "      <td>{'0_0': 1}</td>\n",
       "      <td>False</td>\n",
       "      <td>365.183838</td>\n",
       "      <td>[1494, 2294, 3348, 3694, 5538, 6743, 8033, 823...</td>\n",
       "      <td>34</td>\n",
       "      <td>[34, 72, 321, 2621, 5926, 7623, 8415, 9316, 11...</td>\n",
       "      <td>14</td>\n",
       "    </tr>\n",
       "    <tr>\n",
       "      <th>...</th>\n",
       "      <td>...</td>\n",
       "      <td>...</td>\n",
       "      <td>...</td>\n",
       "      <td>...</td>\n",
       "      <td>...</td>\n",
       "      <td>...</td>\n",
       "      <td>...</td>\n",
       "      <td>...</td>\n",
       "      <td>...</td>\n",
       "      <td>...</td>\n",
       "      <td>...</td>\n",
       "      <td>...</td>\n",
       "      <td>...</td>\n",
       "      <td>...</td>\n",
       "      <td>...</td>\n",
       "      <td>...</td>\n",
       "      <td>...</td>\n",
       "      <td>...</td>\n",
       "      <td>...</td>\n",
       "      <td>...</td>\n",
       "      <td>...</td>\n",
       "    </tr>\n",
       "    <tr>\n",
       "      <th>25898</th>\n",
       "      <td>25898</td>\n",
       "      <td>MoNA_38998_Gelsemine</td>\n",
       "      <td>[[70.0651, 79.0541, 86.0602, 91.0542, 94.0654,...</td>\n",
       "      <td>C=C[C@]12CN(C)[C@@H]3[C@H]4COC(CC41)[C@]1(C(O)...</td>\n",
       "      <td>323.17540</td>\n",
       "      <td>C20H22N2O2</td>\n",
       "      <td>1</td>\n",
       "      <td>&lt;rdkit.Chem.rdchem.Mol object at 0x2afb1af90&gt;</td>\n",
       "      <td>95% (nominal)</td>\n",
       "      <td>P</td>\n",
       "      <td>...</td>\n",
       "      <td>&lt;msml.utils.spectra.MSnSpectrum object at 0x2b...</td>\n",
       "      <td>NFYYATWFXNPTRM</td>\n",
       "      <td>{'1_0': 2, '7_0': 1, '9_0': 1, '10_0': 2}</td>\n",
       "      <td>{'1_0': 2, '7_0': 1, '9_0': 1, '10_0': 2}</td>\n",
       "      <td>False</td>\n",
       "      <td>322.168128</td>\n",
       "      <td>[1838, 1949, 6181, 6994, 7686, 9010, 13612, 14...</td>\n",
       "      <td>12</td>\n",
       "      <td>[904, 1281, 1549, 1648, 1785, 2041, 3498, 3968...</td>\n",
       "      <td>28</td>\n",
       "    </tr>\n",
       "    <tr>\n",
       "      <th>25899</th>\n",
       "      <td>25899</td>\n",
       "      <td>MoNA_45707_MEVALONOLACTONE</td>\n",
       "      <td>[[41.03981, 43.01888, 43.04405, 43.05473, 53.0...</td>\n",
       "      <td>C[C@]1(O)CCOC(=O)C1</td>\n",
       "      <td>131.07027</td>\n",
       "      <td>C6H10O3</td>\n",
       "      <td>1</td>\n",
       "      <td>&lt;rdkit.Chem.rdchem.Mol object at 0x2afb1f040&gt;</td>\n",
       "      <td>10 eV</td>\n",
       "      <td>P</td>\n",
       "      <td>...</td>\n",
       "      <td>&lt;msml.utils.spectra.MSnSpectrum object at 0x2b...</td>\n",
       "      <td>JYVXNLLUYHCIIH</td>\n",
       "      <td>{'0_0': 1}</td>\n",
       "      <td>{'0_0': 1}</td>\n",
       "      <td>False</td>\n",
       "      <td>130.062994</td>\n",
       "      <td>[820, 1361, 2915, 4031, 5623, 10409, 13586, 16...</td>\n",
       "      <td>10</td>\n",
       "      <td>[506, 1980, 2232, 2483, 3076, 6341, 8347, 8404...</td>\n",
       "      <td>38</td>\n",
       "    </tr>\n",
       "    <tr>\n",
       "      <th>25900</th>\n",
       "      <td>25900</td>\n",
       "      <td>MoNA_86187_Phenylbenzimidazole sulfonic acid</td>\n",
       "      <td>[[139.0549, 140.0583, 154.0636, 166.0638, 167....</td>\n",
       "      <td>O=S(=O)(O)c1ccc2nc(-c3ccccc3)[nH]c2c1</td>\n",
       "      <td>275.04850</td>\n",
       "      <td>C13H10N2O3S</td>\n",
       "      <td>1</td>\n",
       "      <td>&lt;rdkit.Chem.rdchem.Mol object at 0x2afb1f090&gt;</td>\n",
       "      <td>50 eV</td>\n",
       "      <td>P</td>\n",
       "      <td>...</td>\n",
       "      <td>&lt;msml.utils.spectra.MSnSpectrum object at 0x2b...</td>\n",
       "      <td>UVCJGUGAGLDPAA</td>\n",
       "      <td>{'0_1': 1, '1_0': 1, '1_1': 1}</td>\n",
       "      <td>{'0_1': 1, '1_0': 1, '1_1': 1}</td>\n",
       "      <td>False</td>\n",
       "      <td>274.041213</td>\n",
       "      <td>[3572, 4525, 5193, 11287]</td>\n",
       "      <td>4</td>\n",
       "      <td>[257, 760, 763, 5746, 6528, 9497, 10820, 12522...</td>\n",
       "      <td>20</td>\n",
       "    </tr>\n",
       "    <tr>\n",
       "      <th>25901</th>\n",
       "      <td>25901</td>\n",
       "      <td>MoNA_52548_1-Amino-2-methylanthraquinone</td>\n",
       "      <td>[[53.0387, 65.0385, 72.0444, 77.0386, 79.0543,...</td>\n",
       "      <td>Cc1ccc2c(c1N)C(=O)c1ccccc1C2=O</td>\n",
       "      <td>238.08630</td>\n",
       "      <td>C15H11NO2</td>\n",
       "      <td>1</td>\n",
       "      <td>&lt;rdkit.Chem.rdchem.Mol object at 0x2afb1f0e0&gt;</td>\n",
       "      <td>90</td>\n",
       "      <td>P</td>\n",
       "      <td>...</td>\n",
       "      <td>&lt;msml.utils.spectra.MSnSpectrum object at 0x2b...</td>\n",
       "      <td>ZLCUIOWQYBYEBG</td>\n",
       "      <td>{'1_0': 2, '2_0': 1}</td>\n",
       "      <td>{'1_0': 2, '2_0': 1}</td>\n",
       "      <td>True</td>\n",
       "      <td>237.078979</td>\n",
       "      <td>[5085, 10952]</td>\n",
       "      <td>2</td>\n",
       "      <td>[]</td>\n",
       "      <td>0</td>\n",
       "    </tr>\n",
       "    <tr>\n",
       "      <th>25902</th>\n",
       "      <td>25902</td>\n",
       "      <td>MoNA_41487_Coniferaldehyde</td>\n",
       "      <td>[[91.0543, 95.0492, 103.0543, 105.07, 115.0543...</td>\n",
       "      <td>COc1cc(/C=C/C=O)ccc1O</td>\n",
       "      <td>179.07030</td>\n",
       "      <td>C10H10O3</td>\n",
       "      <td>1</td>\n",
       "      <td>&lt;rdkit.Chem.rdchem.Mol object at 0x2afb1f130&gt;</td>\n",
       "      <td>40 % (nominal)</td>\n",
       "      <td>P</td>\n",
       "      <td>...</td>\n",
       "      <td>&lt;msml.utils.spectra.MSnSpectrum object at 0x2b...</td>\n",
       "      <td>DKZBBWMURDFHNE</td>\n",
       "      <td>{'0_0': 1}</td>\n",
       "      <td>{'0_0': 1}</td>\n",
       "      <td>False</td>\n",
       "      <td>178.062994</td>\n",
       "      <td>[470, 829, 984, 1183, 1595, 1822, 2007, 2025, ...</td>\n",
       "      <td>61</td>\n",
       "      <td>[253, 275, 889, 993, 1111, 1472, 1555, 1582, 1...</td>\n",
       "      <td>93</td>\n",
       "    </tr>\n",
       "  </tbody>\n",
       "</table>\n",
       "<p>25903 rows × 23 columns</p>\n",
       "</div>"
      ],
      "text/plain": [
       "       index                                                 ID  \\\n",
       "0          0                               MoNA_56916_Anabasine   \n",
       "1          1                            MoNA_50514_Erythromycin   \n",
       "2          2                       MoNA_29825_Gabapentin-lactam   \n",
       "3          3  MoNA_75706_5-chloro-2,4-dihydroxy-6-methyl-3-[...   \n",
       "4          4                              MoNA_42026_Senkirkine   \n",
       "...      ...                                                ...   \n",
       "25898  25898                               MoNA_38998_Gelsemine   \n",
       "25899  25899                         MoNA_45707_MEVALONOLACTONE   \n",
       "25900  25900       MoNA_86187_Phenylbenzimidazole sulfonic acid   \n",
       "25901  25901           MoNA_52548_1-Amino-2-methylanthraquinone   \n",
       "25902  25902                         MoNA_41487_Coniferaldehyde   \n",
       "\n",
       "                                            PARSED PEAKS  \\\n",
       "0      [[39.2, 41.2, 42.3, 43.0, 44.1, 44.6, 45.9, 51...   \n",
       "1      [[83.0498, 98.0969, 113.06, 115.0757, 116.071,...   \n",
       "2      [[54.0337, 55.0541, 60.0442, 65.0385, 67.0542,...   \n",
       "3      [[50.738331, 57.461353, 59.049854, 61.929092, ...   \n",
       "4      [[70.0651, 81.0698, 83.0492, 94.0652, 101.0598...   \n",
       "...                                                  ...   \n",
       "25898  [[70.0651, 79.0541, 86.0602, 91.0542, 94.0654,...   \n",
       "25899  [[41.03981, 43.01888, 43.04405, 43.05473, 53.0...   \n",
       "25900  [[139.0549, 140.0583, 154.0636, 166.0638, 167....   \n",
       "25901  [[53.0387, 65.0385, 72.0444, 77.0386, 79.0543,...   \n",
       "25902  [[91.0543, 95.0492, 103.0543, 105.07, 115.0543...   \n",
       "\n",
       "                                                  SMILES  PRECURSOR M/Z  \\\n",
       "0                                c1cncc([C@@H]2CCCCN2)c1      163.00000   \n",
       "1      CC[C@H]1OC(=O)[C@H](C)[C@@H](O[C@H]2C[C@@](C)(...      734.46850   \n",
       "2                                     OC1=NCC2(CCCCC2)C1      154.12260   \n",
       "3      CC(/C=C/[C@@]1(C)[C@H](C)CCC(=O)[C@@H]1C)=C\\Cc...      405.16900   \n",
       "4      C/C=C1/C[C@@H](C)[C@@](C)(O)C(=O)OC/C2=C/CN(C)...      366.19110   \n",
       "...                                                  ...            ...   \n",
       "25898  C=C[C@]12CN(C)[C@@H]3[C@H]4COC(CC41)[C@]1(C(O)...      323.17540   \n",
       "25899                                C[C@]1(O)CCOC(=O)C1      131.07027   \n",
       "25900              O=S(=O)(O)c1ccc2nc(-c3ccccc3)[nH]c2c1      275.04850   \n",
       "25901                     Cc1ccc2c(c1N)C(=O)c1ccccc1C2=O      238.08630   \n",
       "25902                              COc1cc(/C=C/C=O)ccc1O      179.07030   \n",
       "\n",
       "           FORMULA  CHARGE                                          ROMol  \\\n",
       "0         C10H14N2       1  <rdkit.Chem.rdchem.Mol object at 0x2aba0b900>   \n",
       "1       C37H67NO13       1  <rdkit.Chem.rdchem.Mol object at 0x2aba0b8b0>   \n",
       "2          C9H15NO       1  <rdkit.Chem.rdchem.Mol object at 0x2aba0b9a0>   \n",
       "3       C23H29ClO4       1  <rdkit.Chem.rdchem.Mol object at 0x2aba0b9f0>   \n",
       "4        C19H27NO6       1  <rdkit.Chem.rdchem.Mol object at 0x2aba0ba40>   \n",
       "...            ...     ...                                            ...   \n",
       "25898   C20H22N2O2       1  <rdkit.Chem.rdchem.Mol object at 0x2afb1af90>   \n",
       "25899      C6H10O3       1  <rdkit.Chem.rdchem.Mol object at 0x2afb1f040>   \n",
       "25900  C13H10N2O3S       1  <rdkit.Chem.rdchem.Mol object at 0x2afb1f090>   \n",
       "25901    C15H11NO2       1  <rdkit.Chem.rdchem.Mol object at 0x2afb1f0e0>   \n",
       "25902     C10H10O3       1  <rdkit.Chem.rdchem.Mol object at 0x2afb1f130>   \n",
       "\n",
       "      COLLISION ENERGY ION MODE  ...  \\\n",
       "0                 50 V        P  ...   \n",
       "1              NCE 20%        P  ...   \n",
       "2       90 % (nominal)        P  ...   \n",
       "3                  NaN        P  ...   \n",
       "4       40 % (nominal)        P  ...   \n",
       "...                ...      ...  ...   \n",
       "25898    95% (nominal)        P  ...   \n",
       "25899            10 eV        P  ...   \n",
       "25900            50 eV        P  ...   \n",
       "25901               90        P  ...   \n",
       "25902   40 % (nominal)        P  ...   \n",
       "\n",
       "                                             MSnSpectrum         inchi14  \\\n",
       "0      <msml.utils.spectra.MSnSpectrum object at 0x2a...  MTXSIJUGVMTTMU   \n",
       "1      <msml.utils.spectra.MSnSpectrum object at 0x2a...  ULGZDMOVFRHVEP   \n",
       "2      <msml.utils.spectra.MSnSpectrum object at 0x2a...  JAWPQJDOQPSNIQ   \n",
       "3      <msml.utils.spectra.MSnSpectrum object at 0x2a...  SETVRSKZJJWOPA   \n",
       "4      <msml.utils.spectra.MSnSpectrum object at 0x2a...  HPDHKHMHQGCNPE   \n",
       "...                                                  ...             ...   \n",
       "25898  <msml.utils.spectra.MSnSpectrum object at 0x2b...  NFYYATWFXNPTRM   \n",
       "25899  <msml.utils.spectra.MSnSpectrum object at 0x2b...  JYVXNLLUYHCIIH   \n",
       "25900  <msml.utils.spectra.MSnSpectrum object at 0x2b...  UVCJGUGAGLDPAA   \n",
       "25901  <msml.utils.spectra.MSnSpectrum object at 0x2b...  ZLCUIOWQYBYEBG   \n",
       "25902  <msml.utils.spectra.MSnSpectrum object at 0x2b...  DKZBBWMURDFHNE   \n",
       "\n",
       "                                      MurckoHist  \\\n",
       "0                                     {'0_1': 2}   \n",
       "1                           {'0_1': 2, '0_2': 1}   \n",
       "2                                     {'0_0': 2}   \n",
       "3                                     {'0_1': 2}   \n",
       "4                                     {'0_0': 1}   \n",
       "...                                          ...   \n",
       "25898  {'1_0': 2, '7_0': 1, '9_0': 1, '10_0': 2}   \n",
       "25899                                 {'0_0': 1}   \n",
       "25900             {'0_1': 1, '1_0': 1, '1_1': 1}   \n",
       "25901                       {'1_0': 2, '2_0': 1}   \n",
       "25902                                 {'0_0': 1}   \n",
       "\n",
       "                                   MurckoHistStr    val  EXACT MASS  \\\n",
       "0                                     {'0_1': 2}  False  162.115698   \n",
       "1                           {'0_1': 2, '0_2': 1}   True  733.461241   \n",
       "2                                     {'0_0': 2}   True  153.115364   \n",
       "3                                     {'0_1': 2}  False  404.175437   \n",
       "4                                     {'0_0': 1}  False  365.183838   \n",
       "...                                          ...    ...         ...   \n",
       "25898  {'1_0': 2, '7_0': 1, '9_0': 1, '10_0': 2}  False  322.168128   \n",
       "25899                                 {'0_0': 1}  False  130.062994   \n",
       "25900             {'0_1': 1, '1_0': 1, '1_1': 1}  False  274.041213   \n",
       "25901                       {'1_0': 2, '2_0': 1}   True  237.078979   \n",
       "25902                                 {'0_0': 1}  False  178.062994   \n",
       "\n",
       "                                      inchi14 neighbours  \\\n",
       "0      [2490, 3862, 4310, 4391, 5598, 6314, 6525, 677...   \n",
       "1      [772, 4624, 6187, 6228, 8304, 8662, 10860, 141...   \n",
       "2      [2680, 6458, 6489, 6615, 6843, 8961, 10096, 10...   \n",
       "3                                                 [3697]   \n",
       "4      [1494, 2294, 3348, 3694, 5538, 6743, 8033, 823...   \n",
       "...                                                  ...   \n",
       "25898  [1838, 1949, 6181, 6994, 7686, 9010, 13612, 14...   \n",
       "25899  [820, 1361, 2915, 4031, 5623, 10409, 13586, 16...   \n",
       "25900                          [3572, 4525, 5193, 11287]   \n",
       "25901                                      [5085, 10952]   \n",
       "25902  [470, 829, 984, 1183, 1595, 1822, 2007, 2025, ...   \n",
       "\n",
       "       Num. of inchi14 neighbours  \\\n",
       "0                              47   \n",
       "1                              10   \n",
       "2                              11   \n",
       "3                               1   \n",
       "4                              34   \n",
       "...                           ...   \n",
       "25898                          12   \n",
       "25899                          10   \n",
       "25900                           4   \n",
       "25901                           2   \n",
       "25902                          61   \n",
       "\n",
       "                               Mass tolerance neighbours  \\\n",
       "0      [243, 324, 930, 1325, 1357, 1386, 1535, 1680, ...   \n",
       "1                                         [10658, 11634]   \n",
       "2                                                     []   \n",
       "3      [1303, 1502, 4870, 6188, 7346, 8368, 10881, 12...   \n",
       "4      [34, 72, 321, 2621, 5926, 7623, 8415, 9316, 11...   \n",
       "...                                                  ...   \n",
       "25898  [904, 1281, 1549, 1648, 1785, 2041, 3498, 3968...   \n",
       "25899  [506, 1980, 2232, 2483, 3076, 6341, 8347, 8404...   \n",
       "25900  [257, 760, 763, 5746, 6528, 9497, 10820, 12522...   \n",
       "25901                                                 []   \n",
       "25902  [253, 275, 889, 993, 1111, 1472, 1555, 1582, 1...   \n",
       "\n",
       "      Num. of mass tolerance neighbours  \n",
       "0                                   127  \n",
       "1                                     2  \n",
       "2                                     0  \n",
       "3                                    14  \n",
       "4                                    14  \n",
       "...                                 ...  \n",
       "25898                                28  \n",
       "25899                                38  \n",
       "25900                                20  \n",
       "25901                                 0  \n",
       "25902                                93  \n",
       "\n",
       "[25903 rows x 23 columns]"
      ]
     },
     "execution_count": 24,
     "metadata": {},
     "output_type": "execute_result"
    }
   ],
   "source": [
    "df"
   ]
  },
  {
   "cell_type": "code",
   "execution_count": 27,
   "metadata": {
    "ExecuteTime": {
     "end_time": "2023-11-18T11:38:06.323596Z",
     "start_time": "2023-11-18T11:38:04.722433Z"
    },
    "collapsed": false
   },
   "outputs": [
    {
     "name": "stdout",
     "output_type": "stream",
     "text": [
      "--------------------------------------------------------------------------------\n",
      "162.115698448\n"
     ]
    },
    {
     "data": {
      "image/png": "[encoded data removed]",
      "text/plain": [
       "<Figure size 500x100 with 1 Axes>"
      ]
     },
     "metadata": {},
     "output_type": "display_data"
    },
    {
     "data": {
      "text/plain": [
       "None"
      ]
     },
     "metadata": {},
     "output_type": "display_data"
    },
    {
     "name": "stdout",
     "output_type": "stream",
     "text": [
      "MTXSIJUGVMTTMU\n"
     ]
    },
    {
     "data": {
      "image/png": "[encoded data removed]",
      "text/plain": [
       "<rdkit.Chem.rdchem.Mol at 0x2ce146cf0>"
      ]
     },
     "metadata": {},
     "output_type": "display_data"
    },
    {
     "name": "stdout",
     "output_type": "stream",
     "text": [
      "Positive examples\n"
     ]
    },
    {
     "data": {
      "image/png": "[encoded data removed]",
      "text/plain": [
       "<IPython.core.display.Image object>"
      ]
     },
     "metadata": {},
     "output_type": "display_data"
    },
    {
     "data": {
      "image/png": "[encoded data removed]",
      "text/plain": [
       "<Figure size 500x100 with 1 Axes>"
      ]
     },
     "metadata": {},
     "output_type": "display_data"
    },
    {
     "data": {
      "text/plain": [
       "None"
      ]
     },
     "metadata": {},
     "output_type": "display_data"
    },
    {
     "data": {
      "image/png": "[encoded data removed]",
      "text/plain": [
       "<Figure size 500x100 with 1 Axes>"
      ]
     },
     "metadata": {},
     "output_type": "display_data"
    },
    {
     "data": {
      "text/plain": [
       "None"
      ]
     },
     "metadata": {},
     "output_type": "display_data"
    },
    {
     "data": {
      "image/png": "[encoded data removed]",
      "text/plain": [
       "<Figure size 500x100 with 1 Axes>"
      ]
     },
     "metadata": {},
     "output_type": "display_data"
    },
    {
     "data": {
      "text/plain": [
       "None"
      ]
     },
     "metadata": {},
     "output_type": "display_data"
    },
    {
     "data": {
      "image/png": "[encoded data removed]",
      "text/plain": [
       "<Figure size 500x100 with 1 Axes>"
      ]
     },
     "metadata": {},
     "output_type": "display_data"
    },
    {
     "data": {
      "text/plain": [
       "None"
      ]
     },
     "metadata": {},
     "output_type": "display_data"
    },
    {
     "data": {
      "image/png": "[encoded data removed]",
      "text/plain": [
       "<Figure size 500x100 with 1 Axes>"
      ]
     },
     "metadata": {},
     "output_type": "display_data"
    },
    {
     "data": {
      "text/plain": [
       "None"
      ]
     },
     "metadata": {},
     "output_type": "display_data"
    },
    {
     "name": "stdout",
     "output_type": "stream",
     "text": [
      "Negative examples\n"
     ]
    },
    {
     "data": {
      "image/png": "[encoded data removed]",
      "text/plain": [
       "<IPython.core.display.Image object>"
      ]
     },
     "metadata": {},
     "output_type": "display_data"
    },
    {
     "data": {
      "image/png": "[encoded data removed]",
      "text/plain": [
       "<Figure size 500x100 with 1 Axes>"
      ]
     },
     "metadata": {},
     "output_type": "display_data"
    },
    {
     "data": {
      "text/plain": [
       "None"
      ]
     },
     "metadata": {},
     "output_type": "display_data"
    },
    {
     "data": {
      "image/png": "[encoded data removed]",
      "text/plain": [
       "<Figure size 500x100 with 1 Axes>"
      ]
     },
     "metadata": {},
     "output_type": "display_data"
    },
    {
     "data": {
      "text/plain": [
       "None"
      ]
     },
     "metadata": {},
     "output_type": "display_data"
    },
    {
     "data": {
      "image/png": "[encoded data removed]",
      "text/plain": [
       "<Figure size 500x100 with 1 Axes>"
      ]
     },
     "metadata": {},
     "output_type": "display_data"
    },
    {
     "data": {
      "text/plain": [
       "None"
      ]
     },
     "metadata": {},
     "output_type": "display_data"
    },
    {
     "data": {
      "image/png": "[encoded data removed]",
      "text/plain": [
       "<Figure size 500x100 with 1 Axes>"
      ]
     },
     "metadata": {},
     "output_type": "display_data"
    },
    {
     "data": {
      "text/plain": [
       "None"
      ]
     },
     "metadata": {},
     "output_type": "display_data"
    },
    {
     "data": {
      "image/png": "[encoded data removed]",
      "text/plain": [
       "<Figure size 500x100 with 1 Axes>"
      ]
     },
     "metadata": {},
     "output_type": "display_data"
    },
    {
     "data": {
      "text/plain": [
       "None"
      ]
     },
     "metadata": {},
     "output_type": "display_data"
    },
    {
     "data": {
      "image/png": "[encoded data removed]",
      "text/plain": [
       "<Figure size 500x100 with 1 Axes>"
      ]
     },
     "metadata": {},
     "output_type": "display_data"
    },
    {
     "data": {
      "text/plain": [
       "None"
      ]
     },
     "metadata": {},
     "output_type": "display_data"
    },
    {
     "data": {
      "image/png": "[encoded data removed]",
      "text/plain": [
       "<Figure size 500x100 with 1 Axes>"
      ]
     },
     "metadata": {},
     "output_type": "display_data"
    },
    {
     "data": {
      "text/plain": [
       "None"
      ]
     },
     "metadata": {},
     "output_type": "display_data"
    },
    {
     "data": {
      "image/png": "[encoded data removed]",
      "text/plain": [
       "<Figure size 500x100 with 1 Axes>"
      ]
     },
     "metadata": {},
     "output_type": "display_data"
    },
    {
     "data": {
      "text/plain": [
       "None"
      ]
     },
     "metadata": {},
     "output_type": "display_data"
    },
    {
     "data": {
      "image/png": "[encoded data removed]",
      "text/plain": [
       "<Figure size 500x100 with 1 Axes>"
      ]
     },
     "metadata": {},
     "output_type": "display_data"
    },
    {
     "data": {
      "text/plain": [
       "None"
      ]
     },
     "metadata": {},
     "output_type": "display_data"
    },
    {
     "data": {
      "image/png": "[encoded data removed]",
      "text/plain": [
       "<Figure size 500x100 with 1 Axes>"
      ]
     },
     "metadata": {},
     "output_type": "display_data"
    },
    {
     "data": {
      "text/plain": [
       "None"
      ]
     },
     "metadata": {},
     "output_type": "display_data"
    },
    {
     "name": "stdout",
     "output_type": "stream",
     "text": [
      "--------------------------------------------------------------------------------\n",
      "733.4612412040001\n"
     ]
    },
    {
     "data": {
      "image/png": "[encoded data removed]",
      "text/plain": [
       "<Figure size 500x100 with 1 Axes>"
      ]
     },
     "metadata": {},
     "output_type": "display_data"
    },
    {
     "data": {
      "text/plain": [
       "None"
      ]
     },
     "metadata": {},
     "output_type": "display_data"
    },
    {
     "name": "stdout",
     "output_type": "stream",
     "text": [
      "ULGZDMOVFRHVEP\n"
     ]
    },
    {
     "data": {
      "image/png": "[encoded data removed]",
      "text/plain": [
       "<rdkit.Chem.rdchem.Mol at 0x2ce12b0b0>"
      ]
     },
     "metadata": {},
     "output_type": "display_data"
    },
    {
     "name": "stdout",
     "output_type": "stream",
     "text": [
      "Positive examples\n"
     ]
    },
    {
     "data": {
      "image/png": "[encoded data removed]",
      "text/plain": [
       "<IPython.core.display.Image object>"
      ]
     },
     "metadata": {},
     "output_type": "display_data"
    },
    {
     "data": {
      "image/png": "[encoded data removed]",
      "text/plain": [
       "<Figure size 500x100 with 1 Axes>"
      ]
     },
     "metadata": {},
     "output_type": "display_data"
    },
    {
     "data": {
      "text/plain": [
       "None"
      ]
     },
     "metadata": {},
     "output_type": "display_data"
    },
    {
     "data": {
      "image/png": "[encoded data removed]",
      "text/plain": [
       "<Figure size 500x100 with 1 Axes>"
      ]
     },
     "metadata": {},
     "output_type": "display_data"
    },
    {
     "data": {
      "text/plain": [
       "None"
      ]
     },
     "metadata": {},
     "output_type": "display_data"
    },
    {
     "data": {
      "image/png": "[encoded data removed]",
      "text/plain": [
       "<Figure size 500x100 with 1 Axes>"
      ]
     },
     "metadata": {},
     "output_type": "display_data"
    },
    {
     "data": {
      "text/plain": [
       "None"
      ]
     },
     "metadata": {},
     "output_type": "display_data"
    },
    {
     "data": {
      "image/png": "[encoded data removed]",
      "text/plain": [
       "<Figure size 500x100 with 1 Axes>"
      ]
     },
     "metadata": {},
     "output_type": "display_data"
    },
    {
     "data": {
      "text/plain": [
       "None"
      ]
     },
     "metadata": {},
     "output_type": "display_data"
    },
    {
     "data": {
      "image/png": "[encoded data removed]",
      "text/plain": [
       "<Figure size 500x100 with 1 Axes>"
      ]
     },
     "metadata": {},
     "output_type": "display_data"
    },
    {
     "data": {
      "text/plain": [
       "None"
      ]
     },
     "metadata": {},
     "output_type": "display_data"
    },
    {
     "name": "stdout",
     "output_type": "stream",
     "text": [
      "Negative examples\n"
     ]
    },
    {
     "data": {
      "image/png": "[encoded data removed]",
      "text/plain": [
       "<IPython.core.display.Image object>"
      ]
     },
     "metadata": {},
     "output_type": "display_data"
    },
    {
     "data": {
      "image/png": "[encoded data removed]",
      "text/plain": [
       "<Figure size 500x100 with 1 Axes>"
      ]
     },
     "metadata": {},
     "output_type": "display_data"
    },
    {
     "data": {
      "text/plain": [
       "None"
      ]
     },
     "metadata": {},
     "output_type": "display_data"
    },
    {
     "data": {
      "image/png": "[encoded data removed]",
      "text/plain": [
       "<Figure size 500x100 with 1 Axes>"
      ]
     },
     "metadata": {},
     "output_type": "display_data"
    },
    {
     "data": {
      "text/plain": [
       "None"
      ]
     },
     "metadata": {},
     "output_type": "display_data"
    },
    {
     "ename": "ValueError",
     "evalue": "need at least one array to stack",
     "output_type": "error",
     "traceback": [
      "\u001b[0;31m---------------------------------------------------------------------------\u001b[0m",
      "\u001b[0;31mValueError\u001b[0m                                Traceback (most recent call last)",
      "Cell \u001b[0;32mIn[27], line 12\u001b[0m\n\u001b[1;32m     10\u001b[0m random\u001b[38;5;241m.\u001b[39mseed(\u001b[38;5;241m333\u001b[39m)\n\u001b[1;32m     11\u001b[0m \u001b[38;5;28;01mfor\u001b[39;00m i \u001b[38;5;129;01min\u001b[39;00m df\u001b[38;5;241m.\u001b[39mindex: \u001b[38;5;66;03m#random.sample(range(len(dataset)), 3):\u001b[39;00m\n\u001b[0;32m---> 12\u001b[0m     sample \u001b[38;5;241m=\u001b[39m \u001b[43mdataset\u001b[49m\u001b[43m[\u001b[49m\u001b[43mi\u001b[49m\u001b[43m]\u001b[49m\n\u001b[1;32m     13\u001b[0m     \u001b[38;5;28mprint\u001b[39m(\u001b[38;5;124m'\u001b[39m\u001b[38;5;124m-\u001b[39m\u001b[38;5;124m'\u001b[39m \u001b[38;5;241m*\u001b[39m \u001b[38;5;241m80\u001b[39m)\n\u001b[1;32m     14\u001b[0m     \u001b[38;5;66;03m# print(sample['spec'][0, 0])\u001b[39;00m\n",
      "File \u001b[0;32m~/msml/msml/utils/data.py:419\u001b[0m, in \u001b[0;36mContrastiveSpectraDataset.__getitem__\u001b[0;34m(self, i)\u001b[0m\n\u001b[1;32m    417\u001b[0m     spec \u001b[38;5;241m=\u001b[39m \u001b[38;5;28mself\u001b[39m\u001b[38;5;241m.\u001b[39mdf[\u001b[38;5;28mself\u001b[39m\u001b[38;5;241m.\u001b[39mmsn_spec_col]\u001b[38;5;241m.\u001b[39mloc[i]\n\u001b[1;32m    418\u001b[0m     specs\u001b[38;5;241m.\u001b[39mappend(\u001b[38;5;28mself\u001b[39m\u001b[38;5;241m.\u001b[39mspec_preproc(spec\u001b[38;5;241m.\u001b[39mget_peak_list(), prec_mz\u001b[38;5;241m=\u001b[39mspec\u001b[38;5;241m.\u001b[39mget_precursor_mz(), high_form\u001b[38;5;241m=\u001b[39m\u001b[38;5;28;01mFalse\u001b[39;00m))\n\u001b[0;32m--> 419\u001b[0m item[\u001b[38;5;124mf\u001b[39m\u001b[38;5;124m'\u001b[39m\u001b[38;5;132;01m{\u001b[39;00mk\u001b[38;5;132;01m}\u001b[39;00m\u001b[38;5;124m_specs\u001b[39m\u001b[38;5;124m'\u001b[39m] \u001b[38;5;241m=\u001b[39m \u001b[43mnp\u001b[49m\u001b[38;5;241;43m.\u001b[39;49m\u001b[43mstack\u001b[49m\u001b[43m(\u001b[49m\u001b[43mspecs\u001b[49m\u001b[43m)\u001b[49m\n\u001b[1;32m    421\u001b[0m \u001b[38;5;28;01mif\u001b[39;00m \u001b[38;5;28mself\u001b[39m\u001b[38;5;241m.\u001b[39mreturn_smiles:\n\u001b[1;32m    422\u001b[0m     item[\u001b[38;5;124mf\u001b[39m\u001b[38;5;124m'\u001b[39m\u001b[38;5;132;01m{\u001b[39;00mk\u001b[38;5;132;01m}\u001b[39;00m\u001b[38;5;124m_smiles\u001b[39m\u001b[38;5;124m'\u001b[39m] \u001b[38;5;241m=\u001b[39m [Chem\u001b[38;5;241m.\u001b[39mMolToSmiles(\u001b[38;5;28mself\u001b[39m\u001b[38;5;241m.\u001b[39mdf[\u001b[38;5;124m'\u001b[39m\u001b[38;5;124mROMol\u001b[39m\u001b[38;5;124m'\u001b[39m]\u001b[38;5;241m.\u001b[39mloc[i]) \u001b[38;5;28;01mfor\u001b[39;00m i \u001b[38;5;129;01min\u001b[39;00m idx]\n",
      "File \u001b[0;32m<__array_function__ internals>:200\u001b[0m, in \u001b[0;36mstack\u001b[0;34m(*args, **kwargs)\u001b[0m\n",
      "File \u001b[0;32m~/miniconda/envs/msml39/lib/python3.9/site-packages/numpy/core/shape_base.py:460\u001b[0m, in \u001b[0;36mstack\u001b[0;34m(arrays, axis, out, dtype, casting)\u001b[0m\n\u001b[1;32m    458\u001b[0m arrays \u001b[38;5;241m=\u001b[39m [asanyarray(arr) \u001b[38;5;28;01mfor\u001b[39;00m arr \u001b[38;5;129;01min\u001b[39;00m arrays]\n\u001b[1;32m    459\u001b[0m \u001b[38;5;28;01mif\u001b[39;00m \u001b[38;5;129;01mnot\u001b[39;00m arrays:\n\u001b[0;32m--> 460\u001b[0m     \u001b[38;5;28;01mraise\u001b[39;00m \u001b[38;5;167;01mValueError\u001b[39;00m(\u001b[38;5;124m'\u001b[39m\u001b[38;5;124mneed at least one array to stack\u001b[39m\u001b[38;5;124m'\u001b[39m)\n\u001b[1;32m    462\u001b[0m shapes \u001b[38;5;241m=\u001b[39m {arr\u001b[38;5;241m.\u001b[39mshape \u001b[38;5;28;01mfor\u001b[39;00m arr \u001b[38;5;129;01min\u001b[39;00m arrays}\n\u001b[1;32m    463\u001b[0m \u001b[38;5;28;01mif\u001b[39;00m \u001b[38;5;28mlen\u001b[39m(shapes) \u001b[38;5;241m!=\u001b[39m \u001b[38;5;241m1\u001b[39m:\n",
      "\u001b[0;31mValueError\u001b[0m: need at least one array to stack"
     ]
    }
   ],
   "source": [
    "from dreams.utils.data import ContrastiveSpectraDataset\n",
    "import dreams.utils.data as du\n",
    "from dreams.utils.dformats import DataFormatA\n",
    "\n",
    "dataset = ContrastiveSpectraDataset(df, n_pos_samples=5, n_neg_samples=10, spec_preproc=du.SpectrumPreprocessor(\n",
    "    dformat=DataFormatA(), prec_intens=1.1, n_highest_peaks=60,\n",
    "    spec_entropy_cleaning=False\n",
    "), return_smiles=True)\n",
    "\n",
    "random.seed(333)\n",
    "for i in df.index: #random.sample(range(len(dataset)), 3):\n",
    "    sample = dataset[i]\n",
    "    print('-' * 80)\n",
    "    # print(sample['spec'][0, 0])\n",
    "    print(ExactMolWt(Chem.MolFromSmiles(sample['smiles'])))\n",
    "    display(su.plot_spectrum(sample['spec'], figsize=(5, 1)))\n",
    "    print(mu.smiles_to_inchi14(sample['smiles']))\n",
    "    display(Chem.MolFromSmiles(sample['smiles']))\n",
    "    print('Positive examples')\n",
    "    display(mu.show_mols(sample['pos_smiles'], smiles_in=True, legends='masses'))\n",
    "    for spec in sample['pos_specs']:\n",
    "        display(su.plot_spectrum(spec, figsize=(5, 1)))\n",
    "    print('Negative examples')\n",
    "    display(mu.show_mols(sample['neg_smiles'], smiles_in=True, legends='masses'))#legends=[mu.smiles_to_inchi14(s) for s in sample['neg_smiles']]))\n",
    "    for spec in sample['neg_specs']:\n",
    "        display(su.plot_spectrum(spec, figsize=(5, 1)))"
   ]
  },
  {
   "cell_type": "code",
   "execution_count": 14,
   "metadata": {
    "ExecuteTime": {
     "end_time": "2023-10-08T16:04:06.577743Z",
     "start_time": "2023-10-08T16:04:06.475360Z"
    },
    "collapsed": false
   },
   "outputs": [],
   "source": [
    "# for row_i, row in df.sample(5, random_state=5).iterrows():\n",
    "#     print('-' * 5, 'Example', row_i, f\"({row['PRECURSOR M/Z']} m/z)\", '-' * 5)\n",
    "#     display(row['ROMol'])\n",
    "#\n",
    "#     print('Negative examples')\n",
    "#     rand_neighbours = random.sample(row[f'{mass_tolerance_da} Da neighbours'], 5)\n",
    "#     display(mu.show_mols([df['ROMol'].loc[i] for i in rand_neighbours], legends=[df['PRECURSOR M/Z'].loc[i] for i in rand_neighbours]))\n",
    "#\n",
    "#     print('Positive examples')\n",
    "#     for i_count, i in enumerate(row['INCHIKEY neighbours']):\n",
    "#         if i_count > 2:\n",
    "#             break\n",
    "#         print(df['PRECURSOR M/Z'].loc[i], 'm/z')\n",
    "#         su.plot_spectrum(df['PARSED PEAKS'].loc[i])"
   ]
  }
 ],
 "metadata": {
  "kernelspec": {
   "display_name": "Python 3",
   "language": "python",
   "name": "python3"
  },
  "language_info": {
   "codemirror_mode": {
    "name": "ipython",
    "version": 3
   },
   "file_extension": ".py",
   "mimetype": "text/x-python",
   "name": "python",
   "nbconvert_exporter": "python",
   "pygments_lexer": "ipython3",
   "version": "3.9.18"
  }
 },
 "nbformat": 4,
 "nbformat_minor": 0
}
