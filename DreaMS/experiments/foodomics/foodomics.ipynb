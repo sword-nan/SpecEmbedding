{
 "cells": [
  {
   "cell_type": "code",
   "execution_count": 1,
   "metadata": {
    "ExecuteTime": {
     "end_time": "2024-03-01T11:47:41.632349Z",
     "start_time": "2024-03-01T11:47:26.836923Z"
    },
    "collapsed": true
   },
   "outputs": [
    {
     "name": "stdout",
     "output_type": "stream",
     "text": [
      "The autoreload extension is already loaded. To reload it, use:\n",
      "  %reload_ext autoreload\n"
     ]
    }
   ],
   "source": [
    "import numpy as np\n",
    "import pandas as pd\n",
    "import h5py\n",
    "import matplotlib.pyplot as plt\n",
    "import plotly\n",
    "import seaborn as sns\n",
    "from tqdm import tqdm\n",
    "from pathlib import Path\n",
    "%load_ext autoreload\n",
    "%autoreload 2"
   ]
  },
  {
   "cell_type": "code",
   "execution_count": 2,
   "metadata": {
    "ExecuteTime": {
     "end_time": "2024-03-01T11:47:42.484841Z",
     "start_time": "2024-03-01T11:47:41.631561Z"
    },
    "collapsed": false
   },
   "outputs": [
    {
     "data": {
      "text/html": [
       "<div>\n",
       "<style scoped>\n",
       "    .dataframe tbody tr th:only-of-type {\n",
       "        vertical-align: middle;\n",
       "    }\n",
       "\n",
       "    .dataframe tbody tr th {\n",
       "        vertical-align: top;\n",
       "    }\n",
       "\n",
       "    .dataframe thead th {\n",
       "        text-align: right;\n",
       "    }\n",
       "</style>\n",
       "<table border=\"1\" class=\"dataframe\">\n",
       "  <thead>\n",
       "    <tr style=\"text-align: right;\">\n",
       "      <th></th>\n",
       "      <th>filename</th>\n",
       "      <th>sample_name</th>\n",
       "      <th>description</th>\n",
       "      <th>simple_complex</th>\n",
       "      <th>sample_type</th>\n",
       "      <th>sample_type_aquatic_land</th>\n",
       "      <th>sample_type_group1</th>\n",
       "      <th>sample_type_group2</th>\n",
       "      <th>sample_type_group3</th>\n",
       "      <th>sample_type_group4</th>\n",
       "      <th>...</th>\n",
       "      <th>upc</th>\n",
       "      <th>vegan</th>\n",
       "      <th>Vendor_store</th>\n",
       "      <th>washed_not</th>\n",
       "      <th>washed_specific</th>\n",
       "      <th>brand_roast_unique</th>\n",
       "      <th>host_subject_id</th>\n",
       "      <th>barcode_number</th>\n",
       "      <th>image_taken</th>\n",
       "      <th>image_on_Massive</th>\n",
       "    </tr>\n",
       "    <tr>\n",
       "      <th>name</th>\n",
       "      <th></th>\n",
       "      <th></th>\n",
       "      <th></th>\n",
       "      <th></th>\n",
       "      <th></th>\n",
       "      <th></th>\n",
       "      <th></th>\n",
       "      <th></th>\n",
       "      <th></th>\n",
       "      <th></th>\n",
       "      <th></th>\n",
       "      <th></th>\n",
       "      <th></th>\n",
       "      <th></th>\n",
       "      <th></th>\n",
       "      <th></th>\n",
       "      <th></th>\n",
       "      <th></th>\n",
       "      <th></th>\n",
       "      <th></th>\n",
       "      <th></th>\n",
       "    </tr>\n",
       "  </thead>\n",
       "  <tbody>\n",
       "    <tr>\n",
       "      <th>15NAVY01_V1_ALL_GB2_01_39810</th>\n",
       "      <td>15NAVY01_V1_ALL_GB2_01_39810.mzXML</td>\n",
       "      <td>15NAVY01_V1_ALL</td>\n",
       "      <td>15NAVY01_V1_ALL</td>\n",
       "      <td>complex</td>\n",
       "      <td>food</td>\n",
       "      <td>complex</td>\n",
       "      <td>complex</td>\n",
       "      <td>complex</td>\n",
       "      <td>complex</td>\n",
       "      <td>complex</td>\n",
       "      <td>...</td>\n",
       "      <td>not collected</td>\n",
       "      <td>not entered</td>\n",
       "      <td>not entered</td>\n",
       "      <td>not entered</td>\n",
       "      <td>not applicable</td>\n",
       "      <td>not applicable</td>\n",
       "      <td>15NAVY01_V1_ALL</td>\n",
       "      <td>not applicable</td>\n",
       "      <td>no</td>\n",
       "      <td>False</td>\n",
       "    </tr>\n",
       "    <tr>\n",
       "      <th>15NAVY01_V1_breakfast_GA7_01_39806</th>\n",
       "      <td>15NAVY01_V1_breakfast_GA7_01_39806.mzXML</td>\n",
       "      <td>15NAVY01_V1_breakfast</td>\n",
       "      <td>15NAVY01_V1_breakfast</td>\n",
       "      <td>complex</td>\n",
       "      <td>food</td>\n",
       "      <td>complex</td>\n",
       "      <td>complex</td>\n",
       "      <td>complex</td>\n",
       "      <td>complex</td>\n",
       "      <td>complex</td>\n",
       "      <td>...</td>\n",
       "      <td>not collected</td>\n",
       "      <td>not entered</td>\n",
       "      <td>not entered</td>\n",
       "      <td>not entered</td>\n",
       "      <td>not applicable</td>\n",
       "      <td>not applicable</td>\n",
       "      <td>15NAVY01_V1_breakfast</td>\n",
       "      <td>not applicable</td>\n",
       "      <td>no</td>\n",
       "      <td>False</td>\n",
       "    </tr>\n",
       "    <tr>\n",
       "      <th>15NAVY01_v1_brk_1_GA4_01_39548</th>\n",
       "      <td>15NAVY01_v1_brk_1_GA4_01_39548.mzXML</td>\n",
       "      <td>15NAVY01_v1_brk_1</td>\n",
       "      <td>**Peanut Butter Smooth, 8/14</td>\n",
       "      <td>complex</td>\n",
       "      <td>food</td>\n",
       "      <td>land</td>\n",
       "      <td>plant</td>\n",
       "      <td>fruit</td>\n",
       "      <td>legume</td>\n",
       "      <td>legume</td>\n",
       "      <td>...</td>\n",
       "      <td>not collected</td>\n",
       "      <td>not entered</td>\n",
       "      <td>not entered</td>\n",
       "      <td>not entered</td>\n",
       "      <td>not applicable</td>\n",
       "      <td>not applicable</td>\n",
       "      <td>15NAVY01_v1_brk_1</td>\n",
       "      <td>not applicable</td>\n",
       "      <td>yes</td>\n",
       "      <td>False</td>\n",
       "    </tr>\n",
       "    <tr>\n",
       "      <th>15NAVY01_v1_brk_2_GB4_01_39546</th>\n",
       "      <td>15NAVY01_v1_brk_2_GB4_01_39546.mzXML</td>\n",
       "      <td>15NAVY01_v1_brk_2</td>\n",
       "      <td>Honey Nut Cheerios</td>\n",
       "      <td>complex</td>\n",
       "      <td>food</td>\n",
       "      <td>land</td>\n",
       "      <td>plant</td>\n",
       "      <td>fruit</td>\n",
       "      <td>grain/grass</td>\n",
       "      <td>complex</td>\n",
       "      <td>...</td>\n",
       "      <td>not collected</td>\n",
       "      <td>not entered</td>\n",
       "      <td>not entered</td>\n",
       "      <td>not entered</td>\n",
       "      <td>not applicable</td>\n",
       "      <td>not applicable</td>\n",
       "      <td>15NAVY01_v1_brk_2</td>\n",
       "      <td>not applicable</td>\n",
       "      <td>yes</td>\n",
       "      <td>False</td>\n",
       "    </tr>\n",
       "    <tr>\n",
       "      <th>15NAVY01_v1_brk_3_GC4_01_39547</th>\n",
       "      <td>15NAVY01_v1_brk_3_GC4_01_39547.mzXML</td>\n",
       "      <td>15NAVY01_v1_brk_3</td>\n",
       "      <td>Bread White, Aspen</td>\n",
       "      <td>complex</td>\n",
       "      <td>food</td>\n",
       "      <td>land</td>\n",
       "      <td>plant</td>\n",
       "      <td>fruit</td>\n",
       "      <td>grain/grass</td>\n",
       "      <td>complex</td>\n",
       "      <td>...</td>\n",
       "      <td>not collected</td>\n",
       "      <td>not entered</td>\n",
       "      <td>not entered</td>\n",
       "      <td>not entered</td>\n",
       "      <td>not applicable</td>\n",
       "      <td>not applicable</td>\n",
       "      <td>15NAVY01_v1_brk_3</td>\n",
       "      <td>not applicable</td>\n",
       "      <td>yes</td>\n",
       "      <td>False</td>\n",
       "    </tr>\n",
       "    <tr>\n",
       "      <th>...</th>\n",
       "      <td>...</td>\n",
       "      <td>...</td>\n",
       "      <td>...</td>\n",
       "      <td>...</td>\n",
       "      <td>...</td>\n",
       "      <td>...</td>\n",
       "      <td>...</td>\n",
       "      <td>...</td>\n",
       "      <td>...</td>\n",
       "      <td>...</td>\n",
       "      <td>...</td>\n",
       "      <td>...</td>\n",
       "      <td>...</td>\n",
       "      <td>...</td>\n",
       "      <td>...</td>\n",
       "      <td>...</td>\n",
       "      <td>...</td>\n",
       "      <td>...</td>\n",
       "      <td>...</td>\n",
       "      <td>...</td>\n",
       "      <td>...</td>\n",
       "    </tr>\n",
       "    <tr>\n",
       "      <th>VA5_2x_RB5_01_21614</th>\n",
       "      <td>VA5_2x_RB5_01_21614.mzXML</td>\n",
       "      <td>VA5</td>\n",
       "      <td>spinach salad</td>\n",
       "      <td>complex</td>\n",
       "      <td>food</td>\n",
       "      <td>land</td>\n",
       "      <td>plant</td>\n",
       "      <td>complex</td>\n",
       "      <td>complex</td>\n",
       "      <td>complex</td>\n",
       "      <td>...</td>\n",
       "      <td>not entered</td>\n",
       "      <td>not entered</td>\n",
       "      <td>not entered</td>\n",
       "      <td>not entered</td>\n",
       "      <td>not entered</td>\n",
       "      <td>not entered</td>\n",
       "      <td>not entered</td>\n",
       "      <td>not entered</td>\n",
       "      <td>not entered</td>\n",
       "      <td>False</td>\n",
       "    </tr>\n",
       "    <tr>\n",
       "      <th>VA6_2x_RB6_01_21615</th>\n",
       "      <td>VA6_2x_RB6_01_21615.mzXML</td>\n",
       "      <td>VA6</td>\n",
       "      <td>Fish baked</td>\n",
       "      <td>complex</td>\n",
       "      <td>food</td>\n",
       "      <td>complex</td>\n",
       "      <td>complex</td>\n",
       "      <td>complex</td>\n",
       "      <td>complex</td>\n",
       "      <td>complex</td>\n",
       "      <td>...</td>\n",
       "      <td>not entered</td>\n",
       "      <td>not entered</td>\n",
       "      <td>not entered</td>\n",
       "      <td>not entered</td>\n",
       "      <td>not entered</td>\n",
       "      <td>not entered</td>\n",
       "      <td>not entered</td>\n",
       "      <td>not entered</td>\n",
       "      <td>not entered</td>\n",
       "      <td>False</td>\n",
       "    </tr>\n",
       "    <tr>\n",
       "      <th>VA7_2x_RB7_01_21616</th>\n",
       "      <td>VA7_2x_RB7_01_21616.mzXML</td>\n",
       "      <td>VA7</td>\n",
       "      <td>cheese pasta</td>\n",
       "      <td>complex</td>\n",
       "      <td>food</td>\n",
       "      <td>land</td>\n",
       "      <td>complex</td>\n",
       "      <td>complex</td>\n",
       "      <td>complex</td>\n",
       "      <td>complex</td>\n",
       "      <td>...</td>\n",
       "      <td>not entered</td>\n",
       "      <td>not entered</td>\n",
       "      <td>not entered</td>\n",
       "      <td>not entered</td>\n",
       "      <td>not entered</td>\n",
       "      <td>not entered</td>\n",
       "      <td>not entered</td>\n",
       "      <td>not entered</td>\n",
       "      <td>not entered</td>\n",
       "      <td>False</td>\n",
       "    </tr>\n",
       "    <tr>\n",
       "      <th>VA8_2x_RB8_01_21618</th>\n",
       "      <td>VA8_2x_RB8_01_21618.mzXML</td>\n",
       "      <td>VA8</td>\n",
       "      <td>potato puree</td>\n",
       "      <td>complex</td>\n",
       "      <td>food</td>\n",
       "      <td>land</td>\n",
       "      <td>complex</td>\n",
       "      <td>complex</td>\n",
       "      <td>complex</td>\n",
       "      <td>complex</td>\n",
       "      <td>...</td>\n",
       "      <td>not entered</td>\n",
       "      <td>not entered</td>\n",
       "      <td>not entered</td>\n",
       "      <td>not entered</td>\n",
       "      <td>not entered</td>\n",
       "      <td>not entered</td>\n",
       "      <td>not entered</td>\n",
       "      <td>not entered</td>\n",
       "      <td>not entered</td>\n",
       "      <td>False</td>\n",
       "    </tr>\n",
       "    <tr>\n",
       "      <th>VA9_2x_RB9_01_21619</th>\n",
       "      <td>VA9_2x_RB9_01_21619.mzXML</td>\n",
       "      <td>VA9</td>\n",
       "      <td>turkey</td>\n",
       "      <td>complex</td>\n",
       "      <td>food</td>\n",
       "      <td>land</td>\n",
       "      <td>complex</td>\n",
       "      <td>complex</td>\n",
       "      <td>complex</td>\n",
       "      <td>complex</td>\n",
       "      <td>...</td>\n",
       "      <td>not entered</td>\n",
       "      <td>not entered</td>\n",
       "      <td>not entered</td>\n",
       "      <td>not entered</td>\n",
       "      <td>not entered</td>\n",
       "      <td>not entered</td>\n",
       "      <td>not entered</td>\n",
       "      <td>not entered</td>\n",
       "      <td>not entered</td>\n",
       "      <td>False</td>\n",
       "    </tr>\n",
       "  </tbody>\n",
       "</table>\n",
       "<p>3578 rows × 157 columns</p>\n",
       "</div>"
      ],
      "text/plain": [
       "                                                                    filename  \\\n",
       "name                                                                           \n",
       "15NAVY01_V1_ALL_GB2_01_39810              15NAVY01_V1_ALL_GB2_01_39810.mzXML   \n",
       "15NAVY01_V1_breakfast_GA7_01_39806  15NAVY01_V1_breakfast_GA7_01_39806.mzXML   \n",
       "15NAVY01_v1_brk_1_GA4_01_39548          15NAVY01_v1_brk_1_GA4_01_39548.mzXML   \n",
       "15NAVY01_v1_brk_2_GB4_01_39546          15NAVY01_v1_brk_2_GB4_01_39546.mzXML   \n",
       "15NAVY01_v1_brk_3_GC4_01_39547          15NAVY01_v1_brk_3_GC4_01_39547.mzXML   \n",
       "...                                                                      ...   \n",
       "VA5_2x_RB5_01_21614                                VA5_2x_RB5_01_21614.mzXML   \n",
       "VA6_2x_RB6_01_21615                                VA6_2x_RB6_01_21615.mzXML   \n",
       "VA7_2x_RB7_01_21616                                VA7_2x_RB7_01_21616.mzXML   \n",
       "VA8_2x_RB8_01_21618                                VA8_2x_RB8_01_21618.mzXML   \n",
       "VA9_2x_RB9_01_21619                                VA9_2x_RB9_01_21619.mzXML   \n",
       "\n",
       "                                              sample_name  \\\n",
       "name                                                        \n",
       "15NAVY01_V1_ALL_GB2_01_39810              15NAVY01_V1_ALL   \n",
       "15NAVY01_V1_breakfast_GA7_01_39806  15NAVY01_V1_breakfast   \n",
       "15NAVY01_v1_brk_1_GA4_01_39548          15NAVY01_v1_brk_1   \n",
       "15NAVY01_v1_brk_2_GB4_01_39546          15NAVY01_v1_brk_2   \n",
       "15NAVY01_v1_brk_3_GC4_01_39547          15NAVY01_v1_brk_3   \n",
       "...                                                   ...   \n",
       "VA5_2x_RB5_01_21614                                   VA5   \n",
       "VA6_2x_RB6_01_21615                                   VA6   \n",
       "VA7_2x_RB7_01_21616                                   VA7   \n",
       "VA8_2x_RB8_01_21618                                   VA8   \n",
       "VA9_2x_RB9_01_21619                                   VA9   \n",
       "\n",
       "                                                     description  \\\n",
       "name                                                               \n",
       "15NAVY01_V1_ALL_GB2_01_39810                     15NAVY01_V1_ALL   \n",
       "15NAVY01_V1_breakfast_GA7_01_39806         15NAVY01_V1_breakfast   \n",
       "15NAVY01_v1_brk_1_GA4_01_39548      **Peanut Butter Smooth, 8/14   \n",
       "15NAVY01_v1_brk_2_GB4_01_39546                Honey Nut Cheerios   \n",
       "15NAVY01_v1_brk_3_GC4_01_39547                Bread White, Aspen   \n",
       "...                                                          ...   \n",
       "VA5_2x_RB5_01_21614                                spinach salad   \n",
       "VA6_2x_RB6_01_21615                                   Fish baked   \n",
       "VA7_2x_RB7_01_21616                                 cheese pasta   \n",
       "VA8_2x_RB8_01_21618                                 potato puree   \n",
       "VA9_2x_RB9_01_21619                                      turkey    \n",
       "\n",
       "                                   simple_complex sample_type  \\\n",
       "name                                                            \n",
       "15NAVY01_V1_ALL_GB2_01_39810              complex        food   \n",
       "15NAVY01_V1_breakfast_GA7_01_39806        complex        food   \n",
       "15NAVY01_v1_brk_1_GA4_01_39548            complex        food   \n",
       "15NAVY01_v1_brk_2_GB4_01_39546            complex        food   \n",
       "15NAVY01_v1_brk_3_GC4_01_39547            complex        food   \n",
       "...                                           ...         ...   \n",
       "VA5_2x_RB5_01_21614                       complex        food   \n",
       "VA6_2x_RB6_01_21615                       complex        food   \n",
       "VA7_2x_RB7_01_21616                       complex        food   \n",
       "VA8_2x_RB8_01_21618                       complex        food   \n",
       "VA9_2x_RB9_01_21619                       complex        food   \n",
       "\n",
       "                                   sample_type_aquatic_land  \\\n",
       "name                                                          \n",
       "15NAVY01_V1_ALL_GB2_01_39810                        complex   \n",
       "15NAVY01_V1_breakfast_GA7_01_39806                  complex   \n",
       "15NAVY01_v1_brk_1_GA4_01_39548                         land   \n",
       "15NAVY01_v1_brk_2_GB4_01_39546                         land   \n",
       "15NAVY01_v1_brk_3_GC4_01_39547                         land   \n",
       "...                                                     ...   \n",
       "VA5_2x_RB5_01_21614                                    land   \n",
       "VA6_2x_RB6_01_21615                                 complex   \n",
       "VA7_2x_RB7_01_21616                                    land   \n",
       "VA8_2x_RB8_01_21618                                    land   \n",
       "VA9_2x_RB9_01_21619                                    land   \n",
       "\n",
       "                                   sample_type_group1 sample_type_group2  \\\n",
       "name                                                                       \n",
       "15NAVY01_V1_ALL_GB2_01_39810                  complex            complex   \n",
       "15NAVY01_V1_breakfast_GA7_01_39806            complex            complex   \n",
       "15NAVY01_v1_brk_1_GA4_01_39548                  plant              fruit   \n",
       "15NAVY01_v1_brk_2_GB4_01_39546                  plant              fruit   \n",
       "15NAVY01_v1_brk_3_GC4_01_39547                  plant              fruit   \n",
       "...                                               ...                ...   \n",
       "VA5_2x_RB5_01_21614                             plant            complex   \n",
       "VA6_2x_RB6_01_21615                           complex            complex   \n",
       "VA7_2x_RB7_01_21616                           complex            complex   \n",
       "VA8_2x_RB8_01_21618                           complex            complex   \n",
       "VA9_2x_RB9_01_21619                           complex            complex   \n",
       "\n",
       "                                   sample_type_group3 sample_type_group4  ...  \\\n",
       "name                                                                      ...   \n",
       "15NAVY01_V1_ALL_GB2_01_39810                  complex            complex  ...   \n",
       "15NAVY01_V1_breakfast_GA7_01_39806            complex            complex  ...   \n",
       "15NAVY01_v1_brk_1_GA4_01_39548                 legume             legume  ...   \n",
       "15NAVY01_v1_brk_2_GB4_01_39546            grain/grass            complex  ...   \n",
       "15NAVY01_v1_brk_3_GC4_01_39547            grain/grass            complex  ...   \n",
       "...                                               ...                ...  ...   \n",
       "VA5_2x_RB5_01_21614                           complex            complex  ...   \n",
       "VA6_2x_RB6_01_21615                           complex            complex  ...   \n",
       "VA7_2x_RB7_01_21616                           complex            complex  ...   \n",
       "VA8_2x_RB8_01_21618                           complex            complex  ...   \n",
       "VA9_2x_RB9_01_21619                           complex            complex  ...   \n",
       "\n",
       "                                              upc        vegan Vendor_store  \\\n",
       "name                                                                          \n",
       "15NAVY01_V1_ALL_GB2_01_39810        not collected  not entered  not entered   \n",
       "15NAVY01_V1_breakfast_GA7_01_39806  not collected  not entered  not entered   \n",
       "15NAVY01_v1_brk_1_GA4_01_39548      not collected  not entered  not entered   \n",
       "15NAVY01_v1_brk_2_GB4_01_39546      not collected  not entered  not entered   \n",
       "15NAVY01_v1_brk_3_GC4_01_39547      not collected  not entered  not entered   \n",
       "...                                           ...          ...          ...   \n",
       "VA5_2x_RB5_01_21614                   not entered  not entered  not entered   \n",
       "VA6_2x_RB6_01_21615                   not entered  not entered  not entered   \n",
       "VA7_2x_RB7_01_21616                   not entered  not entered  not entered   \n",
       "VA8_2x_RB8_01_21618                   not entered  not entered  not entered   \n",
       "VA9_2x_RB9_01_21619                   not entered  not entered  not entered   \n",
       "\n",
       "                                     washed_not washed_specific  \\\n",
       "name                                                              \n",
       "15NAVY01_V1_ALL_GB2_01_39810        not entered  not applicable   \n",
       "15NAVY01_V1_breakfast_GA7_01_39806  not entered  not applicable   \n",
       "15NAVY01_v1_brk_1_GA4_01_39548      not entered  not applicable   \n",
       "15NAVY01_v1_brk_2_GB4_01_39546      not entered  not applicable   \n",
       "15NAVY01_v1_brk_3_GC4_01_39547      not entered  not applicable   \n",
       "...                                         ...             ...   \n",
       "VA5_2x_RB5_01_21614                 not entered     not entered   \n",
       "VA6_2x_RB6_01_21615                 not entered     not entered   \n",
       "VA7_2x_RB7_01_21616                 not entered     not entered   \n",
       "VA8_2x_RB8_01_21618                 not entered     not entered   \n",
       "VA9_2x_RB9_01_21619                 not entered     not entered   \n",
       "\n",
       "                                   brand_roast_unique        host_subject_id  \\\n",
       "name                                                                           \n",
       "15NAVY01_V1_ALL_GB2_01_39810           not applicable        15NAVY01_V1_ALL   \n",
       "15NAVY01_V1_breakfast_GA7_01_39806     not applicable  15NAVY01_V1_breakfast   \n",
       "15NAVY01_v1_brk_1_GA4_01_39548         not applicable      15NAVY01_v1_brk_1   \n",
       "15NAVY01_v1_brk_2_GB4_01_39546         not applicable      15NAVY01_v1_brk_2   \n",
       "15NAVY01_v1_brk_3_GC4_01_39547         not applicable      15NAVY01_v1_brk_3   \n",
       "...                                               ...                    ...   \n",
       "VA5_2x_RB5_01_21614                       not entered            not entered   \n",
       "VA6_2x_RB6_01_21615                       not entered            not entered   \n",
       "VA7_2x_RB7_01_21616                       not entered            not entered   \n",
       "VA8_2x_RB8_01_21618                       not entered            not entered   \n",
       "VA9_2x_RB9_01_21619                       not entered            not entered   \n",
       "\n",
       "                                    barcode_number  image_taken  \\\n",
       "name                                                              \n",
       "15NAVY01_V1_ALL_GB2_01_39810        not applicable           no   \n",
       "15NAVY01_V1_breakfast_GA7_01_39806  not applicable           no   \n",
       "15NAVY01_v1_brk_1_GA4_01_39548      not applicable          yes   \n",
       "15NAVY01_v1_brk_2_GB4_01_39546      not applicable          yes   \n",
       "15NAVY01_v1_brk_3_GC4_01_39547      not applicable          yes   \n",
       "...                                            ...          ...   \n",
       "VA5_2x_RB5_01_21614                    not entered  not entered   \n",
       "VA6_2x_RB6_01_21615                    not entered  not entered   \n",
       "VA7_2x_RB7_01_21616                    not entered  not entered   \n",
       "VA8_2x_RB8_01_21618                    not entered  not entered   \n",
       "VA9_2x_RB9_01_21619                    not entered  not entered   \n",
       "\n",
       "                                   image_on_Massive  \n",
       "name                                                 \n",
       "15NAVY01_V1_ALL_GB2_01_39810                  False  \n",
       "15NAVY01_V1_breakfast_GA7_01_39806            False  \n",
       "15NAVY01_v1_brk_1_GA4_01_39548                False  \n",
       "15NAVY01_v1_brk_2_GB4_01_39546                False  \n",
       "15NAVY01_v1_brk_3_GC4_01_39547                False  \n",
       "...                                             ...  \n",
       "VA5_2x_RB5_01_21614                           False  \n",
       "VA6_2x_RB6_01_21615                           False  \n",
       "VA7_2x_RB7_01_21616                           False  \n",
       "VA8_2x_RB8_01_21618                           False  \n",
       "VA9_2x_RB9_01_21619                           False  \n",
       "\n",
       "[3578 rows x 157 columns]"
      ]
     },
     "execution_count": 2,
     "metadata": {},
     "output_type": "execute_result"
    }
   ],
   "source": [
    "data_dir = Path('/auto/plzen1/home/romanb/MassIVE_data')\n",
    "df = pd.read_csv(data_dir / '11442_foodomics_multiproject_metadata_20200630_submission.txt', sep='\\t')\n",
    "df['name'] = df['filename'].apply(lambda x: x.split('.')[0])\n",
    "df = df.drop_duplicates(subset=['name'])\n",
    "df = df.set_index('name')\n",
    "df"
   ]
  },
  {
   "cell_type": "code",
   "execution_count": 3,
   "metadata": {
    "ExecuteTime": {
     "end_time": "2024-03-01T11:49:50.925951Z",
     "start_time": "2024-03-01T11:47:42.483407Z"
    },
    "collapsed": false
   },
   "outputs": [
    {
     "name": "stdout",
     "output_type": "stream",
     "text": [
      "<KeysViewHDF5 ['DreaMS_Embedding', 'MS level', 'RT', 'charge', 'def str', 'energy', 'file_name', 'ion injection time', 'positive polarity', 'precursor id', 'precursor mz', 'spectrum', 'type', 'window lo', 'window uo']>\n"
     ]
    },
    {
     "data": {
      "text/plain": [
       "array(['G73505_1x_10ul_RB4_01_18621', 'G73505_1x_10ul_RB4_01_18621',\n",
       "       'G73505_1x_10ul_RB4_01_18621', ..., 'G86964_1x_RC12_01_23520',\n",
       "       'G86964_1x_RC12_01_23520', 'G86964_1x_RC12_01_23520'], dtype=object)"
      ]
     },
     "execution_count": 3,
     "metadata": {},
     "output_type": "execute_result"
    }
   ],
   "source": [
    "f = h5py.File(data_dir / 'MSV000084900_merged_MSn_DreaMS.hdf5')\n",
    "print(f.keys())\n",
    "sample_names = pd.Series(f['file_name'][:]).apply(lambda x: x.decode('utf-8')).apply(lambda x: '_'.join(x.split('_')[1:]))\n",
    "sample_names = sample_names.values\n",
    "sample_names"
   ]
  },
  {
   "cell_type": "code",
   "execution_count": 4,
   "metadata": {
    "ExecuteTime": {
     "end_time": "2024-03-01T11:59:20.908462Z",
     "start_time": "2024-03-01T11:49:50.943421Z"
    },
    "collapsed": false
   },
   "outputs": [
    {
     "name": "stderr",
     "output_type": "stream",
     "text": [
      " 69%|█████████████████████████████████████████████████████████████████████████▊                                 | 2399/3476 [06:16<01:41, 10.58it/s]"
     ]
    },
    {
     "name": "stdout",
     "output_type": "stream",
     "text": [
      "G86965_1x_RD2_01_23523 has less than 1000 spectra.\n"
     ]
    },
    {
     "name": "stderr",
     "output_type": "stream",
     "text": [
      " 71%|████████████████████████████████████████████████████████████████████████████                               | 2470/3476 [06:27<02:26,  6.88it/s]"
     ]
    },
    {
     "name": "stdout",
     "output_type": "stream",
     "text": [
      "G87365_1x_BA7_01_25987 has less than 1000 spectra.\n"
     ]
    },
    {
     "name": "stderr",
     "output_type": "stream",
     "text": [
      "100%|███████████████████████████████████████████████████████████████████████████████████████████████████████████| 3476/3476 [09:13<00:00,  6.28it/s]"
     ]
    },
    {
     "name": "stdout",
     "output_type": "stream",
     "text": [
      "(2810, 1024)\n"
     ]
    },
    {
     "name": "stderr",
     "output_type": "stream",
     "text": [
      "\n"
     ]
    },
    {
     "data": {
      "text/html": [
       "<div>\n",
       "<style scoped>\n",
       "    .dataframe tbody tr th:only-of-type {\n",
       "        vertical-align: middle;\n",
       "    }\n",
       "\n",
       "    .dataframe tbody tr th {\n",
       "        vertical-align: top;\n",
       "    }\n",
       "\n",
       "    .dataframe thead th {\n",
       "        text-align: right;\n",
       "    }\n",
       "</style>\n",
       "<table border=\"1\" class=\"dataframe\">\n",
       "  <thead>\n",
       "    <tr style=\"text-align: right;\">\n",
       "      <th></th>\n",
       "      <th>name</th>\n",
       "      <th>description</th>\n",
       "      <th>num_spectra</th>\n",
       "    </tr>\n",
       "  </thead>\n",
       "  <tbody>\n",
       "    <tr>\n",
       "      <th>0</th>\n",
       "      <td>72442_1x_BD9_01_17436</td>\n",
       "      <td>pea in chicken biryani</td>\n",
       "      <td>2272</td>\n",
       "    </tr>\n",
       "    <tr>\n",
       "      <th>1</th>\n",
       "      <td>72443_1x_BE8_01_17448</td>\n",
       "      <td>carrot in chicken biryani</td>\n",
       "      <td>2306</td>\n",
       "    </tr>\n",
       "    <tr>\n",
       "      <th>2</th>\n",
       "      <td>72444_1x_BD8_01_17435</td>\n",
       "      <td>persian cucumber in chicken biryani</td>\n",
       "      <td>2262</td>\n",
       "    </tr>\n",
       "    <tr>\n",
       "      <th>3</th>\n",
       "      <td>72445_1x_BC8_01_17426</td>\n",
       "      <td>raw tomato in chicken biryani</td>\n",
       "      <td>2236</td>\n",
       "    </tr>\n",
       "    <tr>\n",
       "      <th>4</th>\n",
       "      <td>72475_1x_BC9_01_17418</td>\n",
       "      <td>garlic</td>\n",
       "      <td>1596</td>\n",
       "    </tr>\n",
       "    <tr>\n",
       "      <th>...</th>\n",
       "      <td>...</td>\n",
       "      <td>...</td>\n",
       "      <td>...</td>\n",
       "    </tr>\n",
       "    <tr>\n",
       "      <th>2805</th>\n",
       "      <td>sample_20_RB10_01_49368</td>\n",
       "      <td>mama dutasi</td>\n",
       "      <td>2501</td>\n",
       "    </tr>\n",
       "    <tr>\n",
       "      <th>2806</th>\n",
       "      <td>sample_6_RA7_01_49342</td>\n",
       "      <td>INT-A</td>\n",
       "      <td>2514</td>\n",
       "    </tr>\n",
       "    <tr>\n",
       "      <th>2807</th>\n",
       "      <td>sample_7_RA8_01_49344</td>\n",
       "      <td>TUKARA</td>\n",
       "      <td>2459</td>\n",
       "    </tr>\n",
       "    <tr>\n",
       "      <th>2808</th>\n",
       "      <td>sample_8_RA9_01_49345</td>\n",
       "      <td>TUKARA</td>\n",
       "      <td>2473</td>\n",
       "    </tr>\n",
       "    <tr>\n",
       "      <th>2809</th>\n",
       "      <td>sample_9_tk2_RA10_01_49348</td>\n",
       "      <td>TUKARA</td>\n",
       "      <td>2488</td>\n",
       "    </tr>\n",
       "  </tbody>\n",
       "</table>\n",
       "<p>2810 rows × 3 columns</p>\n",
       "</div>"
      ],
      "text/plain": [
       "                            name                          description  \\\n",
       "0          72442_1x_BD9_01_17436               pea in chicken biryani   \n",
       "1          72443_1x_BE8_01_17448            carrot in chicken biryani   \n",
       "2          72444_1x_BD8_01_17435  persian cucumber in chicken biryani   \n",
       "3          72445_1x_BC8_01_17426        raw tomato in chicken biryani   \n",
       "4          72475_1x_BC9_01_17418                               garlic   \n",
       "...                          ...                                  ...   \n",
       "2805     sample_20_RB10_01_49368                          mama dutasi   \n",
       "2806       sample_6_RA7_01_49342                                INT-A   \n",
       "2807       sample_7_RA8_01_49344                               TUKARA   \n",
       "2808       sample_8_RA9_01_49345                               TUKARA   \n",
       "2809  sample_9_tk2_RA10_01_49348                               TUKARA   \n",
       "\n",
       "      num_spectra  \n",
       "0            2272  \n",
       "1            2306  \n",
       "2            2262  \n",
       "3            2236  \n",
       "4            1596  \n",
       "...           ...  \n",
       "2805         2501  \n",
       "2806         2514  \n",
       "2807         2459  \n",
       "2808         2473  \n",
       "2809         2488  \n",
       "\n",
       "[2810 rows x 3 columns]"
      ]
     },
     "execution_count": 4,
     "metadata": {},
     "output_type": "execute_result"
    }
   ],
   "source": [
    "df_avg_embs, avg_embs = [], []\n",
    "for name in tqdm(np.unique(sample_names)):\n",
    "    if name not in df.index.values:\n",
    "        # print(f'{name} is not present in the metadata table.')\n",
    "        continue\n",
    "\n",
    "    name_idx = np.where(sample_names == name)[0]\n",
    "    if len(name_idx) < 1000:\n",
    "        print(f'{name} has less than 1000 spectra.')\n",
    "        continue\n",
    "\n",
    "    embs = f['DreaMS_Embedding'][name_idx]\n",
    "    avg_emb = embs.mean(axis=0)\n",
    "    avg_embs.append(avg_emb)\n",
    "\n",
    "    df_avg_embs.append({\n",
    "        'name': name,\n",
    "        'description': df['description'].loc[name],\n",
    "        'num_spectra': embs.shape[0]\n",
    "    })\n",
    "df_avg_embs = pd.DataFrame(df_avg_embs)\n",
    "avg_embs = np.stack(avg_embs)\n",
    "print(avg_embs.shape)\n",
    "df_avg_embs"
   ]
  },
  {
   "cell_type": "code",
   "execution_count": null,
   "metadata": {
    "collapsed": false
   },
   "outputs": [],
   "source": [
    "# from sklearn.metrics.pairwise import cosine_similarity, euclidean_distances\n",
    "# from scipy.cluster.hierarchy import dendrogram, linkage\n",
    "# from scipy.spatial.distance import squareform\n",
    "# pairwise_sims = cosine_similarity(avg_embs, avg_embs)\n",
    "# pairwise_sims.shape\n",
    "\n",
    "# i = 190\n",
    "# k = 10\n",
    "# # sns.heatmap(pairwise_sims[:k], linewidth=0.5, annot=True, xticklabels=foods[:k], yticklabels=foods)\n",
    "# topk_idx = np.argsort(pairwise_sims[i], axis=0)[::-1][:k]\n",
    "# print(foods[i], df['description'].loc[foods[i]])\n",
    "# for j in topk_idx[1:]:\n",
    "#     print(pairwise_sims[i, j], foods[j], df['description'].loc[foods[j]])"
   ]
  },
  {
   "cell_type": "code",
   "execution_count": 21,
   "metadata": {
    "ExecuteTime": {
     "end_time": "2024-03-01T12:06:45.112407Z",
     "start_time": "2024-03-01T12:06:44.439067Z"
    },
    "collapsed": false
   },
   "outputs": [],
   "source": [
    "import collections as coll\n",
    "import pandas as pd\n",
    "import numpy as np\n",
    "import statistics as stat\n",
    "import matplotlib.pyplot as plt\n",
    "import seaborn as sns\n",
    "import pylab\n",
    "import matplotlib as mpl\n",
    "import termplotlib as tpl\n",
    "\n",
    "def init_plotting(figsize=(6, 2), font_scale=0.95, style='whitegrid', cmap='plotly', font=None, legend_outside=False):\n",
    "    # Set default figure size\n",
    "    plt.show()  # Does not work without this line for some reason\n",
    "    sns.set(rc={'figure.figsize': figsize})\n",
    "    # Set default style and  font scale\n",
    "    sns.set_style(style)\n",
    "    sns.set_context('paper', font_scale=font_scale)\n",
    "    sns.set_palette(['#2664BF', '#34A89A', '#F69CA9', '#FBD399', '#A8A9AB', '#AD95D1', '#AB8D8B', '#FEA992',\n",
    "                     '#6A4C93', '#C7EFCF', '#00CED1', '#FF6347', '#FF6F61'])\n",
    "    if not font:\n",
    "        mpl.rcParams['svg.fonttype'] = 'none'\n",
    "        # mpl.rcParams['pdf.fonttype'] = 42  # For Adobe Illustrator\n",
    "        # mpl.rcParams['ps.fonttype'] = 42  # For Adobe Illustrator\n",
    "    else:\n",
    "        mpl.rcParams['font.family'] = font\n",
    "    if legend_outside:\n",
    "        plt.legend(loc='upper left', bbox_to_anchor=(1, 0.5))\n",
    "\n",
    "def save_fig(name, dir=None, dpi=None, transparent=True):\n",
    "    plt.savefig((dir / name) if dir is not None else name, bbox_inches='tight', pad_inches=0.05, dpi=dpi,\n",
    "                transparent=transparent)"
   ]
  },
  {
   "cell_type": "code",
   "execution_count": 16,
   "metadata": {
    "ExecuteTime": {
     "end_time": "2024-03-01T12:01:48.748139Z",
     "start_time": "2024-03-01T12:01:44.938962Z"
    },
    "collapsed": false
   },
   "outputs": [
    {
     "data": {
      "text/plain": [
       "category\n",
       "Miscellaneous                948\n",
       "Beverages                    387\n",
       "Meat, Poultry & Seafood      306\n",
       "Vegetables                   286\n",
       "Cheese & Dairy Products      285\n",
       "Fruits & Berries             196\n",
       "Sweets & Snacks              141\n",
       "Grains & Cereals              99\n",
       "Herbs & Spices                60\n",
       "Condiments, Sauces & Oils     42\n",
       "Nuts & Seeds                  41\n",
       "Fermented & Pickled           14\n",
       "Specialized Nutrition          5\n",
       "Name: count, dtype: int64"
      ]
     },
     "execution_count": 16,
     "metadata": {},
     "output_type": "execute_result"
    }
   ],
   "source": [
    "import re\n",
    "\n",
    "def contains_word(s, w):\n",
    "    return f'\\\\b{w}\\\\b' in re.findall(r'\\\\b\\\\w+\\\\b', s)\n",
    "\n",
    "def categorize_item(name):\n",
    "    name_lower = name.lower()\n",
    "\n",
    "    categories = {\n",
    "        \"Sweets & Snacks\": [\n",
    "            \"sweet\", \"snack\", \"chocolate\", \"cookie\", \"candy\", \"cake\", \"dessert\", \"gummy bear\", \"marshmallow\", \"lollipop\",\n",
    "            \"donut\", \"ice cream\", \"pie\", \"pudding\", \"jelly\", \"pastry\", \"croissant\", \"muffin\", \"scone\", \"tart\", \"eclair\",\n",
    "            \"macaron\", \"ritter\"\n",
    "        ],\n",
    "        \"Specialized Nutrition\": [\n",
    "            \"peptamen junior\", \"pediasure\", \"ensure\", \"nutritional supplement\", \"protein shake\", \"meal replacement\"\n",
    "        ],\n",
    "        \"Cheese & Dairy Products\": [\n",
    "            \"cheese\", \"yogurt\", \"milk\", \"butter\", \"cream\", \"ghee\", \"ice cream\", \"kefir\", \"sour cream\", \"mozzarella\",\n",
    "            \"cheddar\", \"feta\", \"curd\", \"custard\", \"parmesan\", \"chabichou\", \"epoisse\", \"robiola\", \"gorgonzola\",\n",
    "            \"brie\", \"camembert\", \"ricotta\", \"pecorino\", \"stilton\", \"manchego\", \"taleggio\", \"roquefort\", \"bleu\",\n",
    "            \"mascarpone\"\n",
    "        ],\n",
    "        \"Beverages\": [\n",
    "            \"champagne\", \"coffee\", \"tea\", \"juice\", \"smoothie\", \"beer\", \"sake\", \"wine\", \"water\", \"soda\", \"lemonade\",\n",
    "            \"milkshake\", \"cocktail\", \"espresso\", \"latte\", \"cappuccino\"\n",
    "        ],\n",
    "        \"Meat, Poultry & Seafood\": [\n",
    "            \"meat\", \"poultry\", \"seafood\", \"chicken\", \"fish\", \"beef\", \"pork\", \"turkey\", \"salmon\", \"catfish\", \"anchovy\",\n",
    "            \"sausage\", \"horse\", \"lamb\", \"duck\", \"steak\", \"ham\", \"bacon\", \"chorizo\", \"rib\", \"shank\", \"fillet\", \"loin\"\n",
    "        ],\n",
    "        \"Vegetables\": [\n",
    "            \"vegetable\", \"carrot\", \"cucumber\", \"lettuce\", \"tomato\", \"spinach\", \"kale\", \"pepper\", \"asparagus\", \"avocado\",\n",
    "            \"zucchini\", \"mushroom\", \"onion\", \"cabbage\", \"kohlrabi\", \"beet\", \"broccoli\", \"cauliflower\", \"chili\", \"corn\",\n",
    "            \"eggplant\", \"garlic\", \"green bean\", \"leek\", \"pea\", \"potato\", \"radish\", \"squash\", \"sweet potato\", \"turnip\",\n",
    "            \"artichoke\", \"celery\", \"parsnip\"\n",
    "        ],\n",
    "        \"Fruits & Berries\": [\n",
    "            \"fruit\", \"berry\", \"blueberry\", \"orange\", \"grape\", \"strawberry\", \"melon\", \"fig\", \"apple\", \"pear\", \"cherry\",\n",
    "            \"apricot\", \"peach\", \"cranberry\", \"banana\", \"mango\", \"lychee\", \"kiwi\", \"lemon\", \"lime\", \"blackberry\",\n",
    "            \"raspberry\", \"pomegranate\", \"watermelon\", \"pineapple\", \"grapefruit\", \"plum\", \"pumpkin\", \"date\", \"persimmon\",\n",
    "            \"papaya\"\n",
    "        ],\n",
    "        \"Grains & Cereals\": [\n",
    "            \"grain\", \"cereal\", \"rice\", \"pasta\", \"bread\", \"naan\", \"quinoa\", \"oats\", \"barley\", \"cornmeal\", \"flour\", \"millet\",\n",
    "            \"rye\", \"wheat\", \"buckwheat\", \"semolina\", \"spaghetti\", \"noodle\", \"bulgur\", \"couscous\", \"farro\", \"polenta\"\n",
    "        ],\n",
    "        \"Herbs & Spices\": [\n",
    "            \"herb\", \"spice\", \"basil\", \"garlic\", \"rosemary\", \"cilantro\", \"cardamom\", \"turmeric\", \"ginger\", \"peppermint\",\n",
    "            \"cinnamon\", \"clove\", \"coriander\", \"cumin\", \"dill\", \"fennel\", \"oregano\", \"paprika\", \"saffron\", \"thyme\", \"vanilla\",\n",
    "            \"parsley\", \"chive\"\n",
    "        ],\n",
    "        \"Nuts & Seeds\": [\n",
    "            \"nut\", \"seed\", \"pine nut\", \"sunflower seed\", \"chia seed\", \"hemp seed\", \"almond\", \"cashew\", \"peanut\", \"pistachio\",\n",
    "            \"walnut\", \"pumpkin seed\", \"sesame seed\", \"flaxseed\", \"poppy seed\"\n",
    "        ],\n",
    "        \"Fermented & Pickled\": [\n",
    "            \"fermented\", \"pickle\", \"kimchi\", \"sauerkraut\", \"dulse\", \"tempeh\", \"miso\", \"pickled\", \"brine\", \"ferment\"\n",
    "        ],\n",
    "        \"Condiments, Sauces & Oils\": [\n",
    "            \"condiment\", \"sauce\", \"oil\", \"soy sauce\", \"mustard\", \"dressing\", \"vinegar\", \"ketchup\", \"mayonnaise\", \"relish\",\n",
    "            \"hot sauce\", \"bbq sauce\", \"salad dressing\", \"teriyaki\", \"salsa\", \"olive oil\", \"coconut oil\", \"sesame oil\"\n",
    "        ],\n",
    "        \"Miscellaneous\": [\n",
    "            \"probiotic\", \"yeast\", \"matcha\", \"hummus\", \"tempeh\", \"tahini\", \"supplement\", \"extract\", \"powder\", \"drink mix\",\n",
    "            \"meal replacement\", \"protein powder\", \"vitamin\", \"mineral\"\n",
    "        ]\n",
    "    }\n",
    "\n",
    "    # Check for direct and whole word matches\n",
    "    for category, keywords in categories.items():\n",
    "        for keyword in keywords:\n",
    "            pattern = r'\\b' + re.escape(keyword) + r'\\b'\n",
    "            if re.search(pattern, name_lower, re.IGNORECASE):\n",
    "                return category\n",
    "\n",
    "    return \"Miscellaneous\"\n",
    "\n",
    "df_avg_embs['category'] = df_avg_embs['description'].apply(categorize_item)\n",
    "df_avg_embs['category'].value_counts()"
   ]
  },
  {
   "cell_type": "code",
   "execution_count": 34,
   "metadata": {
    "ExecuteTime": {
     "end_time": "2024-03-01T12:15:33.633607Z",
     "start_time": "2024-03-01T12:15:14.738677Z"
    },
    "collapsed": false
   },
   "outputs": [
    {
     "name": "stdout",
     "output_type": "stream",
     "text": [
      "6 0.55\n"
     ]
    },
    {
     "name": "stderr",
     "output_type": "stream",
     "text": [
      "/storage/brno2/home/romanb/.conda/envs/tmap_env/lib/python3.8/site-packages/umap/umap_.py:1943: UserWarning: n_jobs value -1 overridden to 1 by setting random_state. Use no seed for parallelism.\n",
      "  warn(f\"n_jobs value {self.n_jobs} overridden to 1 by setting random_state. Use no seed for parallelism.\")\n"
     ]
    },
    {
     "data": {
      "image/png": "[encoded data removed]",
      "text/plain": [
       "<Figure size 504x360 with 1 Axes>"
      ]
     },
     "metadata": {},
     "output_type": "display_data"
    }
   ],
   "source": [
    "import umap\n",
    "palette = ['#F69CA9', '#34A89A', '#2664BF', '#FBD399', '#A8A9AB', '#AD95D1', '#AB8D8B', '#FEA992',\n",
    "           '#C7EFCF', '#6A4C93', '#00CED1', '#FF6F61']\n",
    "init_plotting(figsize=(5, 3), style='white')\n",
    "\n",
    "non_misc_idx = df_avg_embs[df_avg_embs['category'] != 'Miscellaneous'].index.tolist()\n",
    "non_misc_embs = avg_embs[non_misc_idx]\n",
    "non_misc_df_avg_embs = df_avg_embs.iloc[non_misc_idx]\n",
    "\n",
    "for n in [6]:#[3, 4, 5, 6, 7]:  #, 10, 20, 30, 40]:\n",
    "    for m in [0.55]:  # 0.1, 0.2, 0.25, 0.3,\n",
    "        print(n, m)\n",
    "        reducer = umap.UMAP(metric='cosine', n_neighbors=n, min_dist=m, n_components=2, random_state=42)\n",
    "        umap_ebms = reducer.fit_transform(non_misc_embs)\n",
    "        init_plotting(figsize=(7, 5))\n",
    "        sns.scatterplot(x=umap_ebms[:, 0], y=umap_ebms[:, 1], hue=non_misc_df_avg_embs['category'], s=8, alpha=0.9, palette=palette)\n",
    "        # Show legend on bottom\n",
    "        # plt.legend(loc='upper center', bbox_to_anchor=(0.5, -0.05), ncol=3)\n",
    "        plt.legend('', frameon=False)\n",
    "        plt.grid(None)\n",
    "        plt.axis('off')\n",
    "        plt.xticks([])\n",
    "        plt.yticks([])\n",
    "        save_fig(f'umap_foodomics.png', dir=Path('/storage/plzen1/home/romanb/figures'), dpi=300)\n",
    "        plt.show()"
   ]
  },
  {
   "cell_type": "code",
   "execution_count": 37,
   "metadata": {
    "ExecuteTime": {
     "end_time": "2024-03-01T12:54:34.075904Z",
     "start_time": "2024-03-01T12:54:20.180166Z"
    },
    "collapsed": false
   },
   "outputs": [
    {
     "data": {
      "application/vnd.plotly.v1+json": {
       "config": {
        "plotlyServerURL": "https://plot.ly"
       },
       "data": [
        {
         "customdata": [
          [
           0,
           "72442_1x_BD9_01_17436",
           "pea in chicken biryani",
           2272,
           "Meat, Poultry & Seafood"
          ],
          [
           1,
           "72443_1x_BE8_01_17448",
           "carrot in chicken biryani",
           2306,
           "Meat, Poultry & Seafood"
          ],
          [
           2,
           "72444_1x_BD8_01_17435",
           "persian cucumber in chicken biryani",
           2262,
           "Meat, Poultry & Seafood"
          ],
          [
           3,
           "72445_1x_BC8_01_17426",
           "raw tomato in chicken biryani",
           2236,
           "Meat, Poultry & Seafood"
          ],
          [
           28,
           "73496_1x_BH8_01_20782",
           "fish sauce",
           1765,
           "Meat, Poultry & Seafood"
          ],
          [
           84,
           "75236_1x_BD4_01_20744",
           "10 Anchovy fish sauce",
           1827,
           "Meat, Poultry & Seafood"
          ],
          [
           91,
           "75749_1x_BG3_01_20768",
           "fish sauce",
           1712,
           "Meat, Poultry & Seafood"
          ],
          [
           104,
           "AMZ_11_RB2_01_48905",
           "Lentils cooked with bacon",
           2524,
           "Meat, Poultry & Seafood"
          ],
          [
           107,
           "AMZ_18_RB9_01_48924",
           "Rice with chicken",
           2487,
           "Meat, Poultry & Seafood"
          ],
          [
           111,
           "AMZ_22_RC3_01_48937",
           "Chicken",
           2482,
           "Meat, Poultry & Seafood"
          ],
          [
           112,
           "AMZ_25_RC6_01_48945",
           "Stewed meat",
           2516,
           "Meat, Poultry & Seafood"
          ],
          [
           114,
           "AMZ_27_RC8_01_48949",
           "Fried catfish with soya oil (no skin)",
           2460,
           "Meat, Poultry & Seafood"
          ],
          [
           119,
           "AMZ_39_RD10_01_48981",
           "Boiled fish",
           2457,
           "Meat, Poultry & Seafood"
          ],
          [
           122,
           "AMZ_42_RE3_01_48985",
           "Chicken",
           2470,
           "Meat, Poultry & Seafood"
          ],
          [
           124,
           "AMZ_44_RE5_01_48986",
           "Red meat",
           2460,
           "Meat, Poultry & Seafood"
          ],
          [
           127,
           "AMZ_48_RE9_01_49035",
           "Meat empanada",
           2435,
           "Meat, Poultry & Seafood"
          ],
          [
           128,
           "AMZ_49_RE10_01_48988",
           "Sweted meat empanada",
           2473,
           "Meat, Poultry & Seafood"
          ],
          [
           129,
           "AMZ_50_RE11_01_48989",
           "Chicken empanada",
           2469,
           "Meat, Poultry & Seafood"
          ],
          [
           131,
           "AMZ_6_RA7_01_48891",
           "Stewed chicken",
           2491,
           "Meat, Poultry & Seafood"
          ],
          [
           136,
           "G72446_5x_10ul_RH2_01_19569",
           "cooked rice in chicken biryani",
           1789,
           "Meat, Poultry & Seafood"
          ],
          [
           137,
           "G72448_5x_BG12_01_18396",
           "pita in chicken biryani",
           1576,
           "Meat, Poultry & Seafood"
          ],
          [
           147,
           "G72460_10x_BD7_01_17828",
           "toddler food, chicken sticks",
           2161,
           "Meat, Poultry & Seafood"
          ],
          [
           155,
           "G72470_10x_BE8_01_17844",
           "salmon caviar",
           1927,
           "Meat, Poultry & Seafood"
          ],
          [
           167,
           "G72494_BH6_01_19053",
           "beef-less ground beef",
           2041,
           "Meat, Poultry & Seafood"
          ],
          [
           175,
           "G72516_10x_BG10_01_17926",
           "roasted chicken",
           1988,
           "Meat, Poultry & Seafood"
          ],
          [
           181,
           "G72526_10x_3ul_BC6_01_17907",
           "Dried Meat",
           1991,
           "Meat, Poultry & Seafood"
          ],
          [
           194,
           "G72676_BB5_01_18927",
           "Scrambled Egg with Chorizo",
           2308,
           "Meat, Poultry & Seafood"
          ],
          [
           195,
           "G72679_10x_BD12_01_17832",
           "BBQ Chicken",
           2160,
           "Meat, Poultry & Seafood"
          ],
          [
           204,
           "G72715_10x_BA9_01_17874",
           "polish sausage, Costco front store (pork)",
           1954,
           "Meat, Poultry & Seafood"
          ],
          [
           207,
           "G72720_BG12_01_18752",
           "organic chicken base bouillon",
           2186,
           "Meat, Poultry & Seafood"
          ],
          [
           212,
           "G72733_10x_BF11_01_17859",
           "pork chop with rosemary, salt and pepper",
           2184,
           "Meat, Poultry & Seafood"
          ],
          [
           216,
           "G72741_10x_BF5_01_17853",
           "fruit of seedless mandarin (meat of the fruit)",
           1958,
           "Meat, Poultry & Seafood"
          ],
          [
           219,
           "G72747_BE12_01_18720",
           "spiced, cooked chicken in chicken biryani",
           2396,
           "Meat, Poultry & Seafood"
          ],
          [
           230,
           "G72762_BG9_01_19042",
           "short rib pate, celery, onion, carrot",
           2202,
           "Meat, Poultry & Seafood"
          ],
          [
           231,
           "G72763_BF9_01_19027",
           "duck and pistachio, all parts of duck",
           2247,
           "Meat, Poultry & Seafood"
          ],
          [
           254,
           "G72796_BE5_01_19006",
           "Seafood Snackers TransOcean",
           2009,
           "Meat, Poultry & Seafood"
          ],
          [
           310,
           "G73636_1x_RB7_01_23274",
           "beef, CMI workshop",
           1680,
           "Meat, Poultry & Seafood"
          ],
          [
           311,
           "G73637_1x_RB8_01_23275",
           "chicken, CMI workshop",
           1787,
           "Meat, Poultry & Seafood"
          ],
          [
           313,
           "G73639_BE6_01_18701",
           "fish",
           1972,
           "Meat, Poultry & Seafood"
          ],
          [
           314,
           "G73640_BB6_01_18655",
           "fish",
           1993,
           "Meat, Poultry & Seafood"
          ],
          [
           316,
           "G73645_BC6_01_18671",
           "fish",
           1941,
           "Meat, Poultry & Seafood"
          ],
          [
           317,
           "G73646_BE4_01_18699",
           "fish",
           1981,
           "Meat, Poultry & Seafood"
          ],
          [
           318,
           "G73647_rerun_BH4_01_18778",
           "fish",
           1987,
           "Meat, Poultry & Seafood"
          ],
          [
           335,
           "G73700_BF8_01_18732",
           "unidentified red meat fat",
           2081,
           "Meat, Poultry & Seafood"
          ],
          [
           336,
           "G73701_BC8_01_18674",
           "unidentified red meat, same type as previous sample",
           2130,
           "Meat, Poultry & Seafood"
          ],
          [
           337,
           "G73702_BH5_01_18759",
           "bulgogi, Niman Ranch meat",
           2281,
           "Meat, Poultry & Seafood"
          ],
          [
           338,
           "G73703_rerun_BE5_01_18717",
           "marinated short rib, Niman Ranch meat",
           2426,
           "Meat, Poultry & Seafood"
          ],
          [
           341,
           "G73713_BC4_01_18941",
           "Salmon dip, homemade",
           2011,
           "Meat, Poultry & Seafood"
          ],
          [
           342,
           "G73716_rerun_BF5_01_18769",
           " burger meat, big mac",
           2124,
           "Meat, Poultry & Seafood"
          ],
          [
           382,
           "G74029_BA3_01_18984",
           "veggie meat",
           2190,
           "Meat, Poultry & Seafood"
          ],
          [
           421,
           "G75110_1x_RC7_01_23410",
           "african catfish",
           2236,
           "Meat, Poultry & Seafood"
          ],
          [
           422,
           "G75111_1x_RC6_01_23294",
           "utaka (fish)",
           2146,
           "Meat, Poultry & Seafood"
          ],
          [
           424,
           "G75113_1x_RC9_01_23305",
           "broiler chicken",
           2133,
           "Meat, Poultry & Seafood"
          ],
          [
           436,
           "G75151_2x_RA5_01_19099",
           "sausage; pre-cooked",
           2106,
           "Meat, Poultry & Seafood"
          ],
          [
           437,
           "G75152_2x_RB5_01_19115",
           "sausage; cooked with other ingredients (same as G75151?)",
           2109,
           "Meat, Poultry & Seafood"
          ],
          [
           463,
           "G75239_BE10_01_19012",
           "duck Confit breast, medium rare",
           2062,
           "Meat, Poultry & Seafood"
          ],
          [
           465,
           "G75244_rerun_BF10_01_19087",
           "meat with scallop dish",
           2192,
           "Meat, Poultry & Seafood"
          ],
          [
           472,
           "G75253_BA11_01_18919",
           "Steak",
           2184,
           "Meat, Poultry & Seafood"
          ],
          [
           473,
           "G75255_BH10_01_19058",
           "duck Confit breast, well done",
           2174,
           "Meat, Poultry & Seafood"
          ],
          [
           474,
           "G75256_rerun_BC10_01_19078",
           "Salmon",
           2050,
           "Meat, Poultry & Seafood"
          ],
          [
           482,
           "G75580_BB5_01_18654",
           "lamb top round (100% grass fed)",
           2067,
           "Meat, Poultry & Seafood"
          ],
          [
           483,
           "G75581_BG5_01_18744",
           "ground chicken dark meat, organic",
           2175,
           "Meat, Poultry & Seafood"
          ],
          [
           484,
           "G75583_rerun_BG6_01_18773",
           "ground beef (85% lean/15% fat)",
           2289,
           "Meat, Poultry & Seafood"
          ],
          [
           485,
           "G75585_BF6_01_18730",
           "ground dark turkey",
           2144,
           "Meat, Poultry & Seafood"
          ],
          [
           505,
           "G75647_BF7_01_18731",
           "rock fish",
           2135,
           "Meat, Poultry & Seafood"
          ],
          [
           507,
           "G75650_5x_BH2_01_19359",
           "sausage chicken and apple",
           2098,
           "Meat, Poultry & Seafood"
          ],
          [
           509,
           "G75662_1x_RD1_01_23324",
           "ham, after cooking",
           1941,
           "Meat, Poultry & Seafood"
          ],
          [
           511,
           "G75664_5x_BG12_01_19355",
           "chicken (after cooking; same as G75655?)",
           1761,
           "Meat, Poultry & Seafood"
          ],
          [
           512,
           "G75665_1x_RA4_01_18788",
           "pea cooked with meat",
           2228,
           "Meat, Poultry & Seafood"
          ],
          [
           514,
           "G75668_5x_BG11_01_19354",
           "bacon, cooked",
           1769,
           "Meat, Poultry & Seafood"
          ],
          [
           523,
           "G75684_BC5_01_18670",
           "salmon",
           2074,
           "Meat, Poultry & Seafood"
          ],
          [
           529,
           "G75699_rerun_2_BD7_01_18710",
           "roast beef",
           2172,
           "Meat, Poultry & Seafood"
          ],
          [
           530,
           "G75700_BE7_01_18703",
           "fish",
           2178,
           "Meat, Poultry & Seafood"
          ],
          [
           557,
           "G75782_5x_BC2_01_19276",
           "feline feed (fatty light meat)",
           1805,
           "Meat, Poultry & Seafood"
          ],
          [
           558,
           "G75783_5x_BD2_01_19293",
           "feline dark tough meat",
           1922,
           "Meat, Poultry & Seafood"
          ],
          [
           559,
           "G75800_5x_BC10_01_19288",
           "horse meat product feline ",
           1664,
           "Meat, Poultry & Seafood"
          ],
          [
           560,
           "G75801_5x_BA10_01_19247",
           "horse meat product feline",
           1860,
           "Meat, Poultry & Seafood"
          ],
          [
           561,
           "G75803_p19_f10_GA6_01_21666",
           "horse meat product feline pink meat",
           1689,
           "Meat, Poultry & Seafood"
          ],
          [
           571,
           "G75861_1x_BC4_01_26570",
           "Primo Taglio Roasted Turkey Breast",
           1945,
           "Meat, Poultry & Seafood"
          ],
          [
           589,
           "G78874_BA4_01_18638",
           "chicken (breast) cooked",
           2220,
           "Meat, Poultry & Seafood"
          ],
          [
           590,
           "G78875_BD3_01_18683",
           "chicken (breast) raw",
           2169,
           "Meat, Poultry & Seafood"
          ],
          [
           591,
           "G78876_BG3_01_18742",
           "duck (breast) raw",
           2363,
           "Meat, Poultry & Seafood"
          ],
          [
           592,
           "G78877_BF4_01_18727",
           "duck (breast) cooked",
           2246,
           "Meat, Poultry & Seafood"
          ],
          [
           593,
           "G78879_BB4_01_18653",
           "duck (leg) raw",
           2225,
           "Meat, Poultry & Seafood"
          ],
          [
           594,
           "G78880_BC4_01_18669",
           "duck (leg) cooked",
           2278,
           "Meat, Poultry & Seafood"
          ],
          [
           598,
           "G78911_p19_g8_GB7_01_21678",
           "Liver sausage/ liver worst",
           1945,
           "Meat, Poultry & Seafood"
          ],
          [
           605,
           "G78931_BG10_01_18750",
           "uncured jalapenocheddar beef and pork bratwurst cooked",
           2341,
           "Meat, Poultry & Seafood"
          ],
          [
           606,
           "G78932_BH10_01_18765",
           "uncooked beef NY strip USDA prime Costco",
           2205,
           "Meat, Poultry & Seafood"
          ],
          [
           607,
           "G78933_BB10_01_18661",
           "raw chicken neck",
           2124,
           "Meat, Poultry & Seafood"
          ],
          [
           608,
           "G78934_BF10_01_18735",
           "uncured jalapenocheddar beef and pork bratwurst uncooked",
           2312,
           "Meat, Poultry & Seafood"
          ],
          [
           609,
           "G78935_BC10_01_18676",
           "grilled beef NY strip USDA prime Costco",
           2154,
           "Meat, Poultry & Seafood"
          ],
          [
           610,
           "G78936_rerun_BD10_01_18711",
           "marinated chicken breast, foster farms",
           2158,
           "Meat, Poultry & Seafood"
          ],
          [
           611,
           "G78937_BA11_01_18646",
           "lamb shoulder chops",
           1994,
           "Meat, Poultry & Seafood"
          ],
          [
           612,
           "G78938_BA10_01_18645",
           "lamb shoulder chops",
           1949,
           "Meat, Poultry & Seafood"
          ],
          [
           613,
           "G78939_BD8_01_18689",
           "boneless pork shoulder roast",
           2155,
           "Meat, Poultry & Seafood"
          ],
          [
           614,
           "G78940_BA8_01_18643",
           "boneless pork shoulder roast",
           2159,
           "Meat, Poultry & Seafood"
          ],
          [
           615,
           "G78941_rerun_BH8_01_18780",
           "boneless pork shoulder roast",
           1992,
           "Meat, Poultry & Seafood"
          ],
          [
           616,
           "G78944_BB8_01_18659",
           "boneless chicken thigh",
           2173,
           "Meat, Poultry & Seafood"
          ],
          [
           617,
           "G78945_BA6_01_18640",
           "boneless chicken thigh",
           2155,
           "Meat, Poultry & Seafood"
          ],
          [
           618,
           "G78946_BF9_01_18734",
           "boneless chicken thigh",
           2032,
           "Meat, Poultry & Seafood"
          ],
          [
           619,
           "G78950_BE10_01_18718",
           "lamb shoulder chops",
           2163,
           "Meat, Poultry & Seafood"
          ],
          [
           626,
           "G78968_BB9_01_18660",
           "ground turkey, foster farms 93%",
           2094,
           "Meat, Poultry & Seafood"
          ],
          [
           627,
           "G78969_rerun_BG9_01_18776",
           "marinated chicken breast, foster farms",
           2214,
           "Meat, Poultry & Seafood"
          ],
          [
           635,
           "G78981_p19_g4_GC6_01_21670",
           "bacon",
           2068,
           "Meat, Poultry & Seafood"
          ],
          [
           639,
           "G78990_BB11_01_18662",
           "boneless pork shoulder roast",
           2204,
           "Meat, Poultry & Seafood"
          ],
          [
           640,
           "G78991_BC9_01_18675",
           "lamb shoulder chops",
           2184,
           "Meat, Poultry & Seafood"
          ],
          [
           641,
           "G78993_2x_RA10_01_19106",
           "fake chicken; veggie grill",
           2433,
           "Meat, Poultry & Seafood"
          ],
          [
           651,
           "G79178_BC11_01_18677",
           "beef/ steak, Oregon, Embriette dinner",
           2259,
           "Meat, Poultry & Seafood"
          ],
          [
           654,
           "G79183_BF11_01_18736",
           "salmon, Fuel Cafee, Oregon",
           2220,
           "Meat, Poultry & Seafood"
          ],
          [
           662,
           "G79206_p19_g9_GC7_01_21680",
           "Cajun turkey",
           1922,
           "Meat, Poultry & Seafood"
          ],
          [
           673,
           "G79225_p19_h12_GD7_01_21682",
           "beef",
           1948,
           "Meat, Poultry & Seafood"
          ],
          [
           686,
           "G79250_BH12_01_18767",
           "steak crostini steak",
           2265,
           "Meat, Poultry & Seafood"
          ],
          [
           687,
           "G79251_1x_BF9_01_20221",
           "steak crostini bread",
           1943,
           "Meat, Poultry & Seafood"
          ],
          [
           688,
           "G79252_rerun_BD12_01_18713",
           "pork product",
           2333,
           "Meat, Poultry & Seafood"
          ],
          [
           689,
           "G79253_BB12_01_18663",
           "pork product",
           2297,
           "Meat, Poultry & Seafood"
          ],
          [
           711,
           "G79302_p5_d4_GC4_01_21647",
           "fish from meal",
           1225,
           "Meat, Poultry & Seafood"
          ],
          [
           712,
           "G79303_rerun_BG4_01_18770",
           "orange chicken, fast food, panda express, UCSD",
           2224,
           "Meat, Poultry & Seafood"
          ],
          [
           720,
           "G79343_5x_BD6_01_19299",
           "special beef feline diet",
           1922,
           "Meat, Poultry & Seafood"
          ],
          [
           721,
           "G79347_5x_BD7_01_19301",
           "half shank bones",
           1401,
           "Meat, Poultry & Seafood"
          ],
          [
           722,
           "G79348_5x_BC7_01_19283",
           "half shank bones",
           1598,
           "Meat, Poultry & Seafood"
          ],
          [
           723,
           "G79349_5x_BE7_01_19317",
           "canine meat ",
           1579,
           "Meat, Poultry & Seafood"
          ],
          [
           724,
           "G79350_5x_BA7_01_19241",
           "canine meat",
           1907,
           "Meat, Poultry & Seafood"
          ],
          [
           725,
           "G79351_5x_BD8_01_19302",
           "meat from femur bones beef",
           1490,
           "Meat, Poultry & Seafood"
          ],
          [
           726,
           "G79352_5x_BB8_01_19266",
           "meat from femur bones beef",
           1218,
           "Meat, Poultry & Seafood"
          ],
          [
           727,
           "G79353_5x_BC8_01_19284",
           "meat from femur bones beef",
           1466,
           "Meat, Poultry & Seafood"
          ],
          [
           728,
           "G79354_5x_BC3_01_19277",
           "meat from femur bones beef",
           1805,
           "Meat, Poultry & Seafood"
          ],
          [
           729,
           "G79355_5x_BD3_01_19294",
           "meat from femur bones medium beef",
           1646,
           "Meat, Poultry & Seafood"
          ],
          [
           731,
           "G79466_5x_RC9_01_18225",
           "beef 10",
           2022,
           "Meat, Poultry & Seafood"
          ],
          [
           732,
           "G79474_5x_RD10_01_18108",
           "beef shank 9",
           1806,
           "Meat, Poultry & Seafood"
          ],
          [
           733,
           "G79475_5x_RC10_01_18169",
           "beef shank 9",
           1853,
           "Meat, Poultry & Seafood"
          ],
          [
           734,
           "G79476_5x_RB10_01_18045",
           "beef heart 7",
           2029,
           "Meat, Poultry & Seafood"
          ],
          [
           735,
           "G79477_5x_RA10_01_17952",
           "beef heart 7",
           1996,
           "Meat, Poultry & Seafood"
          ],
          [
           736,
           "G79478_5x_RH9_01_17975",
           "horse 3",
           1732,
           "Meat, Poultry & Seafood"
          ],
          [
           737,
           "G79479_BB2_01_18651",
           "horse (fat MID CUT 3)",
           1951,
           "Meat, Poultry & Seafood"
          ],
          [
           738,
           "G79480_BG2_01_18741",
           "horse (meat END CUT 3)",
           2080,
           "Meat, Poultry & Seafood"
          ],
          [
           739,
           "G79481_BD2_01_18682",
           "beef (fat mid region of END CUT 2)",
           1908,
           "Meat, Poultry & Seafood"
          ],
          [
           740,
           "G79482_BC2_01_18667",
           "beef (meat mid region of END CUT 2)",
           2005,
           "Meat, Poultry & Seafood"
          ],
          [
           741,
           "G79483_BA2_01_18636",
           "beef (meat in contact with plastic casing of END CUT 2)",
           2155,
           "Meat, Poultry & Seafood"
          ],
          [
           754,
           "G79541_5x_BB8_01_19960",
           "aqua max fish sport 96",
           2275,
           "Meat, Poultry & Seafood"
          ],
          [
           755,
           "G79547_5x_RD11_01_18039",
           "pork 11",
           1949,
           "Meat, Poultry & Seafood"
          ],
          [
           756,
           "G79548_5x_RC11_01_18171",
           "pork 11",
           1913,
           "Meat, Poultry & Seafood"
          ],
          [
           757,
           "G79549_5x_RB11_01_18043",
           "pork 11",
           1904,
           "Meat, Poultry & Seafood"
          ],
          [
           758,
           "G79552_BF2_01_18725",
           "horse (red meat MID CUT 4)",
           2107,
           "Meat, Poultry & Seafood"
          ],
          [
           759,
           "G79553_1x_BA12_01_17954",
           "horse 4",
           2178,
           "Meat, Poultry & Seafood"
          ],
          [
           760,
           "G79555_5x_RH11_01_18249",
           "horse 4",
           2051,
           "Meat, Poultry & Seafood"
          ],
          [
           761,
           "G79562_BH2_01_18756",
           "escargot (dark meat 25)",
           2003,
           "Meat, Poultry & Seafood"
          ],
          [
           762,
           "G79563_BF3_01_18726",
           "squid (mid portion meat of squid 17)",
           2204,
           "Meat, Poultry & Seafood"
          ],
          [
           764,
           "G79567_BA3_01_18637",
           "xxs trout (meat 16)",
           2137,
           "Meat, Poultry & Seafood"
          ],
          [
           765,
           "G79570_1x_BA3_01_18048",
           "beef 1",
           2402,
           "Meat, Poultry & Seafood"
          ],
          [
           766,
           "G79572_5x_RG2_01_18212",
           "beef 1",
           2119,
           "Meat, Poultry & Seafood"
          ],
          [
           767,
           "G79573_5x_RF2_01_18231",
           "beef 1",
           2246,
           "Meat, Poultry & Seafood"
          ],
          [
           768,
           "G79574_5x_RE2_01_18354",
           "beef 1",
           2076,
           "Meat, Poultry & Seafood"
          ],
          [
           769,
           "G79575_1x_BD2_01_18094",
           "beef 1",
           2296,
           "Meat, Poultry & Seafood"
          ],
          [
           770,
           "G79576_5x_RC2_01_18075",
           "beef 1",
           2056,
           "Meat, Poultry & Seafood"
          ],
          [
           771,
           "G79577_5x_RB2_01_18164",
           "beef 1",
           1883,
           "Meat, Poultry & Seafood"
          ],
          [
           772,
           "G79578_5x_RA2_01_18344",
           "beef 1",
           1937,
           "Meat, Poultry & Seafood"
          ],
          [
           773,
           "G79622_5x_RD6_01_18102",
           "chicken",
           2148,
           "Meat, Poultry & Seafood"
          ],
          [
           777,
           "G79631_1x_8ul_BC6_01_20282",
           "chicken and gravy baby food",
           2294,
           "Meat, Poultry & Seafood"
          ],
          [
           832,
           "G83192_10x_RE10_01_20198",
           "chicken flavor ramen seasoning",
           1907,
           "Meat, Poultry & Seafood"
          ],
          [
           836,
           "G83201_1x_RH4_01_21855",
           "Swedish Fish",
           1484,
           "Meat, Poultry & Seafood"
          ],
          [
           862,
           "G83255_1x_BH7_01_23235",
           "ham from sausage egg mcmuffin McD",
           1475,
           "Meat, Poultry & Seafood"
          ],
          [
           864,
           "G83303_5x_RG6_01_21503",
           "Citristim for poultry (yeast feed)",
           2299,
           "Meat, Poultry & Seafood"
          ],
          [
           867,
           "G83311_5x_RD9_01_21439",
           "shetland islands salmon",
           1804,
           "Meat, Poultry & Seafood"
          ],
          [
           871,
           "G83317_5x_RD10_01_21465",
           "pecan wood smoked elk loin",
           2194,
           "Meat, Poultry & Seafood"
          ],
          [
           872,
           "G83318_5x_RH10_01_21519",
           "duck",
           2023,
           "Meat, Poultry & Seafood"
          ],
          [
           936,
           "G83461_10x_RH10_01_23238",
           "fish",
           1512,
           "Meat, Poultry & Seafood"
          ],
          [
           964,
           "G86742_1x_RB1_01_23267",
           "turkey, brined",
           1737,
           "Meat, Poultry & Seafood"
          ],
          [
           985,
           "G86785_1x_RD12_01_23338",
           "peppered turkey breast, from trader joes, brand columbus, non organic, expiration date dec 26 2017",
           1612,
           "Meat, Poultry & Seafood"
          ],
          [
           1003,
           "G86819_1x_RB12_01_23278",
           "Black Forest Ham",
           1653,
           "Meat, Poultry & Seafood"
          ],
          [
           1024,
           "G86859_1x_3ul_RB5_01_23507",
           "fish sauce",
           1549,
           "Meat, Poultry & Seafood"
          ],
          [
           1033,
           "G86877_1x_RD2_01_23325",
           "organic cracked black pepper turkey breast; 365 brand; from whole foods; packaging plastic; sampled 2017-12-03 22:00",
           1785,
           "Meat, Poultry & Seafood"
          ],
          [
           1039,
           "G86890_1x_RB2_01_23268",
           "Chicken & Chicken Gravy (Gerber)",
           2114,
           "Meat, Poultry & Seafood"
          ],
          [
           1041,
           "G86892_1x_BC6_01_23152",
           "Razzmataz Red Fish",
           1237,
           "Meat, Poultry & Seafood"
          ],
          [
           1107,
           "G87344_rerun_RF12_01_26209",
           "lamb",
           1608,
           "Meat, Poultry & Seafood"
          ],
          [
           1108,
           "G87345_rerun_BG2_01_26213",
           "chicken",
           1787,
           "Meat, Poultry & Seafood"
          ],
          [
           1117,
           "G87370_RB10_01_26091",
           "pork ham",
           1378,
           "Meat, Poultry & Seafood"
          ],
          [
           1123,
           "G87389_RF3_01_26176",
           "free-range chicken",
           1812,
           "Meat, Poultry & Seafood"
          ],
          [
           1124,
           "G87392_RF6_01_26179",
           "chicken intensive breeding",
           2216,
           "Meat, Poultry & Seafood"
          ],
          [
           1143,
           "G87433_1x_BE5_01_26052",
           "cooked minced meat",
           1599,
           "Meat, Poultry & Seafood"
          ],
          [
           1164,
           "G87463_1x_RB7_01_26249",
           "pomelo meat",
           1847,
           "Meat, Poultry & Seafood"
          ],
          [
           1165,
           "G87465_1x_RB6_01_26247",
           "conventional grapefruit meat",
           1783,
           "Meat, Poultry & Seafood"
          ],
          [
           1167,
           "G87467_1x_RD4_01_26275",
           "organic grapefruit meat (Jimbos)",
           1678,
           "Meat, Poultry & Seafood"
          ],
          [
           1169,
           "G87469_1x_RC3_01_26259",
           "meyer lemon, meat only; Organic, USA; washed; (Jimbos)",
           1670,
           "Meat, Poultry & Seafood"
          ],
          [
           1171,
           "G87471_1x_RE2_01_26289",
           "kumquat meat only; Organic, USA; washed; (Jimbos)",
           1517,
           "Meat, Poultry & Seafood"
          ],
          [
           1226,
           "G87568_1x_BG9_01_26641",
           "Original Beef Jerkey",
           2112,
           "Meat, Poultry & Seafood"
          ],
          [
           1227,
           "G87569_1x_BE10_01_26599",
           "Original Beef Jerkey",
           1908,
           "Meat, Poultry & Seafood"
          ],
          [
           1234,
           "G87586_1x_BD4_01_26581",
           "Turkey (fat part)",
           1825,
           "Meat, Poultry & Seafood"
          ],
          [
           1235,
           "G87587_1x_BA4_01_26541",
           "Ham (meat part)",
           1612,
           "Meat, Poultry & Seafood"
          ],
          [
           1459,
           "G96149_5x_RE4_01_32416",
           "ground turkey Empire brand (raised w/o antibiotics_ no growth hormones)",
           2262,
           "Meat, Poultry & Seafood"
          ],
          [
           1460,
           "G96150_5x_RD6_01_32399",
           "ground turkey Empire brand (raised w/o antibiotics_ no growth hormones)",
           2240,
           "Meat, Poultry & Seafood"
          ],
          [
           1461,
           "G96151_5x_RH5_01_32741",
           "ground turkey Empire brand (raised w/o antibiotics_ no growth hormones)",
           2043,
           "Meat, Poultry & Seafood"
          ],
          [
           1462,
           "G96158_5x_RG3_01_32704",
           "ground beef",
           2174,
           "Meat, Poultry & Seafood"
          ],
          [
           1463,
           "G96159_5x_RA3_01_32574",
           "ground beef",
           2080,
           "Meat, Poultry & Seafood"
          ],
          [
           1464,
           "G96160_5x_RA2_01_32570",
           "ground beef",
           2043,
           "Meat, Poultry & Seafood"
          ],
          [
           1465,
           "G96161_5x_RD10_01_32652",
           "organic ground beef (Sun Fed Ranch)",
           2184,
           "Meat, Poultry & Seafood"
          ],
          [
           1466,
           "G96162_5x_RG8_01_32720",
           "organic ground beef (Sun Fed Ranch)",
           2039,
           "Meat, Poultry & Seafood"
          ],
          [
           1467,
           "G96163_5x_RH2_01_32737",
           "organic ground beef (Sun Fed Ranch)",
           1998,
           "Meat, Poultry & Seafood"
          ],
          [
           1468,
           "G96165_5x_RB7_01_32343",
           "ground turkey Kroger brand",
           2370,
           "Meat, Poultry & Seafood"
          ],
          [
           1469,
           "G96166_5x_RF3_01_32440",
           "ground turkey Kroger brand",
           2292,
           "Meat, Poultry & Seafood"
          ],
          [
           1504,
           "G96203_5x_BE5_01_32510",
           "ground turkey Kroger brand",
           1626,
           "Meat, Poultry & Seafood"
          ],
          [
           1505,
           "G96204_5x_BF7_01_32530",
           "ground turkey Kroger brand",
           1614,
           "Meat, Poultry & Seafood"
          ],
          [
           1506,
           "G96205_5x_RH7_01_32485",
           "ground turkey Kroger brand",
           1627,
           "Meat, Poultry & Seafood"
          ],
          [
           1507,
           "G96206_5x_BG6_01_32547",
           "ground turkey Empire brand (raised w/o antibiotics_ no growth hormones)",
           1639,
           "Meat, Poultry & Seafood"
          ],
          [
           1508,
           "G96207_5x_BE7_01_32514",
           "ground turkey Empire brand (raised w/o antibiotics_ no growth hormones)",
           1719,
           "Meat, Poultry & Seafood"
          ],
          [
           1509,
           "G96208_5x_BH4_01_32560",
           "ground turkey Empire brand (raised w/o antibiotics_ no growth hormones)",
           1740,
           "Meat, Poultry & Seafood"
          ],
          [
           1510,
           "G96209_5x_BE3_01_32506",
           "ground turkey Kroger brand",
           1616,
           "Meat, Poultry & Seafood"
          ],
          [
           1511,
           "G96210_5x_BF5_01_32522",
           "ground turkey Kroger brand",
           1685,
           "Meat, Poultry & Seafood"
          ],
          [
           1512,
           "G96212_5x_BG4_01_32543",
           "ground turkey Empire brand (raised w/o antibiotics_ no growth hormones)",
           1589,
           "Meat, Poultry & Seafood"
          ],
          [
           1513,
           "G96213_5x_BH2_01_32556",
           "ground turkey Empire brand (raised w/o antibiotics_ no growth hormones)",
           1598,
           "Meat, Poultry & Seafood"
          ],
          [
           1514,
           "G96214_5x_BF6_01_32526",
           "ground turkey Empire brand (raised w/o antibiotics_ no growth hormones)",
           1579,
           "Meat, Poultry & Seafood"
          ],
          [
           1515,
           "G96215_5x_BE4_01_32779",
           "ground beef",
           2053,
           "Meat, Poultry & Seafood"
          ],
          [
           1516,
           "G96216_5x_BF2_01_32788",
           "ground beef",
           2051,
           "Meat, Poultry & Seafood"
          ],
          [
           1517,
           "G96217_5x_BF8_01_32800",
           "ground beef",
           2187,
           "Meat, Poultry & Seafood"
          ],
          [
           1518,
           "G96218_5x_BE2_01_32775",
           "organic ground beef (Sun Fed Ranch)",
           1926,
           "Meat, Poultry & Seafood"
          ],
          [
           1519,
           "G96219_5x_BD5_01_32758",
           "organic ground beef (Sun Fed Ranch)",
           1717,
           "Meat, Poultry & Seafood"
          ],
          [
           1520,
           "G96220_5x_BD7_01_32766",
           "organic ground beef (Sun Fed Ranch)",
           1800,
           "Meat, Poultry & Seafood"
          ],
          [
           1521,
           "G96221_5x_BH8_01_32826",
           "ground beef",
           2144,
           "Meat, Poultry & Seafood"
          ],
          [
           1522,
           "G96222_5x_BD6_01_32762",
           "ground beef",
           2048,
           "Meat, Poultry & Seafood"
          ],
          [
           1523,
           "G96223_5x_RB12_01_32615",
           "ground beef",
           1984,
           "Meat, Poultry & Seafood"
          ],
          [
           1524,
           "G96225_5x_BH3_01_32814",
           "organic ground beef (Sun Fed Ranch)",
           1873,
           "Meat, Poultry & Seafood"
          ],
          [
           1525,
           "G96226_5x_BF4_01_32796",
           "organic ground beef (Sun Fed Ranch)",
           1875,
           "Meat, Poultry & Seafood"
          ],
          [
           1526,
           "G96227_5x_BG8_01_32552",
           "ground turkey Kroger brand",
           2193,
           "Meat, Poultry & Seafood"
          ],
          [
           1527,
           "G96228_5x_RD3_01_32391",
           "ground turkey Kroger brand",
           1909,
           "Meat, Poultry & Seafood"
          ],
          [
           1528,
           "G96229_5x_RE7_01_32428",
           "ground turkey Kroger brand",
           1739,
           "Meat, Poultry & Seafood"
          ],
          [
           1529,
           "G96230_5x_RH10_01_32501",
           "ground turkey Empire brand (raised w/o antibiotics_ no growth hormones)",
           1895,
           "Meat, Poultry & Seafood"
          ],
          [
           1530,
           "G96231_5x_RC5_01_32367",
           "ground turkey Empire brand (raised w/o antibiotics_ no growth hormones)",
           1851,
           "Meat, Poultry & Seafood"
          ],
          [
           1531,
           "G96232_5x_RB8_01_32347",
           "ground turkey Empire brand (raised w/o antibiotics_ no growth hormones)",
           1703,
           "Meat, Poultry & Seafood"
          ],
          [
           1532,
           "G96233_5x_BE8_01_32518",
           "ground turkey Kroger brand",
           2170,
           "Meat, Poultry & Seafood"
          ],
          [
           1533,
           "G96234_5x_RD2_01_32387",
           "ground turkey Kroger brand",
           2048,
           "Meat, Poultry & Seafood"
          ],
          [
           1534,
           "G96235_5x_RC9_01_32375",
           "ground turkey Kroger brand",
           1825,
           "Meat, Poultry & Seafood"
          ],
          [
           1535,
           "G96236_5x_RH4_01_32481",
           "ground turkey Empire brand (raised w/o antibiotics_ no growth hormones)",
           2014,
           "Meat, Poultry & Seafood"
          ],
          [
           1536,
           "G96237_5x_RC8_01_32371",
           "ground turkey Empire brand (raised w/o antibiotics_ no growth hormones)",
           1904,
           "Meat, Poultry & Seafood"
          ],
          [
           1537,
           "G96238_5x_RA6_01_32319",
           "ground turkey Empire brand (raised w/o antibiotics_ no growth hormones)",
           1798,
           "Meat, Poultry & Seafood"
          ],
          [
           1538,
           "G96239_5x_RE12_01_32682",
           "ground beef",
           1973,
           "Meat, Poultry & Seafood"
          ],
          [
           1539,
           "G96241_5x_RD12_01_32657",
           "ground beef",
           2069,
           "Meat, Poultry & Seafood"
          ],
          [
           1540,
           "G96242_5x_RA7_01_32586",
           "organic ground beef (Sun Fed Ranch)",
           2208,
           "Meat, Poultry & Seafood"
          ],
          [
           1541,
           "G96243_5x_RF8_01_32699",
           "organic ground beef (Sun Fed Ranch)",
           1818,
           "Meat, Poultry & Seafood"
          ],
          [
           1542,
           "G96244_5x_RA4_01_32578",
           "organic ground beef (Sun Fed Ranch)",
           2205,
           "Meat, Poultry & Seafood"
          ],
          [
           1543,
           "G96245_5x_RG10_01_32728",
           "ground beef",
           1683,
           "Meat, Poultry & Seafood"
          ],
          [
           1544,
           "G96246_5x_RF7_01_32695",
           "ground beef",
           1830,
           "Meat, Poultry & Seafood"
          ],
          [
           1545,
           "G96247_5x_BE6_01_32783",
           "ground beef",
           1941,
           "Meat, Poultry & Seafood"
          ],
          [
           1546,
           "G96248_5x_RB2_01_32603",
           "organic ground beef (Sun Fed Ranch)",
           1817,
           "Meat, Poultry & Seafood"
          ],
          [
           1547,
           "G96249_5x_RG5_01_32712",
           "organic ground beef (Sun Fed Ranch)",
           1598,
           "Meat, Poultry & Seafood"
          ],
          [
           1548,
           "G96250_5x_RG9_01_32724",
           "organic ground beef (Sun Fed Ranch)",
           1788,
           "Meat, Poultry & Seafood"
          ],
          [
           1549,
           "G96251_5x_RE5_01_32420",
           "ground turkey Kroger brand",
           1542,
           "Meat, Poultry & Seafood"
          ],
          [
           1550,
           "G96252_5x_RG7_01_32469",
           "ground turkey Kroger brand",
           1580,
           "Meat, Poultry & Seafood"
          ],
          [
           1551,
           "G96253_5x_RG2_01_32465",
           "ground turkey Kroger brand",
           1617,
           "Meat, Poultry & Seafood"
          ],
          [
           1552,
           "G96254_5x_RD7_01_32403",
           "ground turkey Empire brand (raised w/o antibiotics_ no growth hormones)",
           1791,
           "Meat, Poultry & Seafood"
          ],
          [
           1553,
           "G96255_5x_BH7_01_32564",
           "ground turkey Empire brand (raised w/o antibiotics_ no growth hormones)",
           1782,
           "Meat, Poultry & Seafood"
          ],
          [
           1554,
           "G96256_5x_BG3_01_32539",
           "ground turkey Empire brand (raised w/o antibiotics_ no growth hormones)",
           1819,
           "Meat, Poultry & Seafood"
          ],
          [
           1555,
           "G96257_5x_RB5_01_32339",
           "ground turkey Kroger brand",
           1539,
           "Meat, Poultry & Seafood"
          ],
          [
           1556,
           "G96258_5x_RH9_01_32497",
           "ground turkey Kroger brand",
           1580,
           "Meat, Poultry & Seafood"
          ],
          [
           1557,
           "G96259_5x_RB3_01_32331",
           "ground turkey Kroger brand",
           1771,
           "Meat, Poultry & Seafood"
          ],
          [
           1558,
           "G96260_5x_RG12_01_32473",
           "ground turkey Empire brand (raised w/o antibiotics_ no growth hormones)",
           1899,
           "Meat, Poultry & Seafood"
          ],
          [
           1559,
           "G96261_5x_RH3_01_32477",
           "ground turkey Empire brand (raised w/o antibiotics_ no growth hormones)",
           1806,
           "Meat, Poultry & Seafood"
          ],
          [
           1560,
           "G96262_5x_RF10_01_32452",
           "ground turkey Empire brand (raised w/o antibiotics_ no growth hormones)",
           1765,
           "Meat, Poultry & Seafood"
          ],
          [
           1561,
           "G96263_5x_RE2_01_32662",
           "ground beef",
           2093,
           "Meat, Poultry & Seafood"
          ],
          [
           1562,
           "G96264_5x_RF6_01_32691",
           "ground beef",
           2155,
           "Meat, Poultry & Seafood"
          ],
          [
           1563,
           "G96266_5x_BG5_01_32805",
           "organic ground beef (Sun Fed Ranch)",
           1872,
           "Meat, Poultry & Seafood"
          ],
          [
           1564,
           "G96267_5x_BH5_01_32818",
           "organic ground beef (Sun Fed Ranch)",
           1845,
           "Meat, Poultry & Seafood"
          ],
          [
           1565,
           "G96268_5x_BD8_01_32770",
           "organic ground beef (Sun Fed Ranch)",
           1716,
           "Meat, Poultry & Seafood"
          ],
          [
           1566,
           "G96269_5x_BG7_01_32809",
           "ground beef",
           2020,
           "Meat, Poultry & Seafood"
          ],
          [
           1567,
           "G96270_5x_RA12_01_32598",
           "ground beef",
           2095,
           "Meat, Poultry & Seafood"
          ],
          [
           1568,
           "G96271_5x_RE11_01_32678",
           "ground beef",
           1972,
           "Meat, Poultry & Seafood"
          ],
          [
           1569,
           "G96272_5x_RE9_01_32674",
           "organic ground beef (Sun Fed Ranch)",
           1836,
           "Meat, Poultry & Seafood"
          ],
          [
           1570,
           "G96273_5x_RE8_01_32670",
           "organic ground beef (Sun Fed Ranch)",
           1904,
           "Meat, Poultry & Seafood"
          ],
          [
           1571,
           "G96274_5x_RC4_01_32627",
           "organic ground beef (Sun Fed Ranch)",
           1751,
           "Meat, Poultry & Seafood"
          ],
          [
           1589,
           "G96347_5x_RB6_01_32607",
           "ground beef",
           2190,
           "Meat, Poultry & Seafood"
          ],
          [
           1590,
           "G96348_5x_RG4_01_32708",
           "ground beef",
           2147,
           "Meat, Poultry & Seafood"
          ],
          [
           1591,
           "G96349_5x_RG11_01_32732",
           "ground beef",
           2182,
           "Meat, Poultry & Seafood"
          ],
          [
           1592,
           "G96350_5x_RC6_01_32631",
           "organic ground beef (Sun Fed Ranch)",
           2134,
           "Meat, Poultry & Seafood"
          ],
          [
           1593,
           "G96351_5x_RH6_01_32745",
           "organic ground beef (Sun Fed Ranch)",
           1880,
           "Meat, Poultry & Seafood"
          ],
          [
           1594,
           "G96352_5x_RB11_01_32611",
           "organic ground beef (Sun Fed Ranch)",
           2112,
           "Meat, Poultry & Seafood"
          ],
          [
           1595,
           "G96353_5x_RA8_01_32590",
           "organic ground beef (Sun Fed Ranch)",
           2015,
           "Meat, Poultry & Seafood"
          ],
          [
           1596,
           "G96354_5x_RF5_01_32687",
           "organic ground beef (Sun Fed Ranch)",
           1884,
           "Meat, Poultry & Seafood"
          ],
          [
           1597,
           "G96355_5x_RC2_01_32623",
           "organic ground beef (Sun Fed Ranch)",
           1862,
           "Meat, Poultry & Seafood"
          ],
          [
           1598,
           "G96356_5x_RB9_01_32351",
           "ground turkey Kroger brand",
           1874,
           "Meat, Poultry & Seafood"
          ],
          [
           1599,
           "G96358_5x_RB10_01_32355",
           "ground turkey Kroger brand",
           2171,
           "Meat, Poultry & Seafood"
          ],
          [
           1600,
           "G96359_5x_RB4_01_32335",
           "ground turkey Kroger brand",
           2223,
           "Meat, Poultry & Seafood"
          ],
          [
           1601,
           "G96360_5x_RE10_01_32432",
           "ground turkey Kroger brand",
           2123,
           "Meat, Poultry & Seafood"
          ],
          [
           1602,
           "G96361_5x_RA11_01_32327",
           "ground turkey Kroger brand",
           2205,
           "Meat, Poultry & Seafood"
          ],
          [
           1603,
           "G96362_5x_RD5_01_32644",
           "ground beef",
           2348,
           "Meat, Poultry & Seafood"
          ],
          [
           1604,
           "G96363_5x_RA9_01_32594",
           "ground beef",
           2150,
           "Meat, Poultry & Seafood"
          ],
          [
           1605,
           "G96364_5x_RE3_01_32666",
           "ground beef",
           2333,
           "Meat, Poultry & Seafood"
          ],
          [
           1606,
           "G96365_5x_RF11_01_32456",
           "ground turkey Empire brand (raised w/o antibiotics_ no growth hormones)",
           2154,
           "Meat, Poultry & Seafood"
          ],
          [
           1607,
           "G96366_5x_RE6_01_32424",
           "ground turkey Empire brand (raised w/o antibiotics_ no growth hormones)",
           2181,
           "Meat, Poultry & Seafood"
          ],
          [
           1608,
           "G96367_5x_RF4_01_32444",
           "ground turkey Empire brand (raised w/o antibiotics_ no growth hormones)",
           2165,
           "Meat, Poultry & Seafood"
          ],
          [
           1609,
           "G96368_5x_RC3_01_32363",
           "ground turkey Empire brand (raised w/o antibiotics_ no growth hormones)",
           2028,
           "Meat, Poultry & Seafood"
          ],
          [
           1610,
           "G96369_5x_RA10_01_32323",
           "ground turkey Empire brand (raised w/o antibiotics_ no growth hormones)",
           2132,
           "Meat, Poultry & Seafood"
          ],
          [
           1611,
           "G96370_5x_RC12_01_32383",
           "ground turkey Empire brand (raised w/o antibiotics_ no growth hormones)",
           2189,
           "Meat, Poultry & Seafood"
          ],
          [
           1612,
           "G96371_5x_RD4_01_32395",
           "ground turkey Empire brand (raised w/o antibiotics_ no growth hormones)",
           2168,
           "Meat, Poultry & Seafood"
          ],
          [
           1613,
           "G96372_5x_RD11_01_32411",
           "ground turkey Empire brand (raised w/o antibiotics_ no growth hormones)",
           2178,
           "Meat, Poultry & Seafood"
          ],
          [
           1614,
           "G96373_5x_RC11_01_32379",
           "ground turkey Empire brand (raised w/o antibiotics_ no growth hormones)",
           2155,
           "Meat, Poultry & Seafood"
          ],
          [
           1615,
           "G96374_5x_RD8_01_32407",
           "ground turkey Kroger brand",
           2184,
           "Meat, Poultry & Seafood"
          ],
          [
           1616,
           "G96375_5x_RF9_01_32448",
           "ground turkey Kroger brand",
           2295,
           "Meat, Poultry & Seafood"
          ],
          [
           1617,
           "G96376_5x_RF2_01_32436",
           "ground turkey Kroger brand",
           2204,
           "Meat, Poultry & Seafood"
          ],
          [
           1618,
           "G96377_5x_RG6_01_32716",
           "organic ground beef (Sun Fed Ranch)",
           2134,
           "Meat, Poultry & Seafood"
          ],
          [
           1619,
           "G96378_5x_RC7_01_32635",
           "organic ground beef (Sun Fed Ranch)",
           2084,
           "Meat, Poultry & Seafood"
          ],
          [
           1620,
           "G96379_5x_RH11_01_32749",
           "organic ground beef (Sun Fed Ranch)",
           2221,
           "Meat, Poultry & Seafood"
          ],
          [
           1621,
           "G96380_5x_RA5_01_32582",
           "ground beef",
           2263,
           "Meat, Poultry & Seafood"
          ],
          [
           1622,
           "G96381_5x_RD9_01_32648",
           "ground beef",
           2247,
           "Meat, Poultry & Seafood"
          ],
          [
           1831,
           "RB11_tk2_RB11_01_49125",
           "pork.salami",
           2513,
           "Meat, Poultry & Seafood"
          ],
          [
           1853,
           "VA1_2x_RB1_01_21609",
           "Chicken soup",
           1552,
           "Meat, Poultry & Seafood"
          ],
          [
           1856,
           "VA4_2x_RB4_01_21613",
           "Orange chicken",
           1807,
           "Meat, Poultry & Seafood"
          ],
          [
           1858,
           "VA6_2x_RB6_01_21615",
           "Fish baked",
           1540,
           "Meat, Poultry & Seafood"
          ],
          [
           1861,
           "VA9_2x_RB9_01_21619",
           "turkey ",
           1742,
           "Meat, Poultry & Seafood"
          ]
         ],
         "hovertemplate": "color=Meat, Poultry & Seafood<br>x=%{x}<br>y=%{y}<br>hover_data_0=%{customdata[0]}<br>hover_data_1=%{customdata[1]}<br>hover_data_2=%{customdata[2]}<br>hover_data_3=%{customdata[3]}<br>hover_data_4=%{customdata[4]}<extra></extra>",
         "legendgroup": "Meat, Poultry & Seafood",
         "marker": {
          "color": "#FD3216",
          "symbol": "circle"
         },
         "mode": "markers",
         "name": "Meat, Poultry & Seafood",
         "showlegend": true,
         "type": "scattergl",
         "x": [
          12.593696594238281,
          13.38484001159668,
          12.939143180847168,
          12.959479331970215,
          10.757716178894043,
          11.41401481628418,
          10.75813102722168,
          -5.8253560066223145,
          -5.644228458404541,
          -4.728532314300537,
          -5.853735446929932,
          -4.334587574005127,
          -4.078445911407471,
          -5.016167640686035,
          -5.147216320037842,
          -4.85689640045166,
          -5.3396782875061035,
          -5.586294651031494,
          -5.627376079559326,
          10.562519073486328,
          11.966979026794434,
          13.851592063903809,
          12.693779945373535,
          16.452632904052734,
          13.220620155334473,
          11.402585983276367,
          15.59437084197998,
          12.649225234985352,
          14.40217113494873,
          14.38216495513916,
          13.749802589416504,
          12.488287925720215,
          15.296480178833008,
          13.973140716552734,
          14.578438758850098,
          16.660932540893555,
          14.039502143859863,
          13.861675262451172,
          17.524574279785156,
          17.88443374633789,
          17.41416358947754,
          17.465425491333008,
          16.78325843811035,
          17.00583839416504,
          16.67617416381836,
          9.562043190002441,
          10.4163179397583,
          11.255626678466797,
          13.517491340637207,
          16.30840301513672,
          14.44920825958252,
          15.492533683776855,
          14.40975570678711,
          14.670676231384277,
          12.825202941894531,
          16.162303924560547,
          12.11918830871582,
          13.849806785583496,
          13.910543441772461,
          14.180516242980957,
          17.431211471557617,
          16.24539566040039,
          15.461617469787598,
          16.487245559692383,
          16.68334197998047,
          12.090415000915527,
          13.927350044250488,
          14.399831771850586,
          14.31061840057373,
          15.567849159240723,
          17.444869995117188,
          14.771886825561523,
          16.38083839416504,
          13.565513610839844,
          13.994428634643555,
          15.80101203918457,
          14.94526481628418,
          14.787188529968262,
          13.44752025604248,
          17.413909912109375,
          16.51052474975586,
          14.560346603393555,
          15.227327346801758,
          16.75694465637207,
          14.943253517150879,
          13.09660530090332,
          14.518553733825684,
          13.601902961730957,
          17.116147994995117,
          14.419473648071289,
          17.01715660095215,
          16.633258819580078,
          18.112590789794922,
          17.987733840942383,
          16.88239288330078,
          17.223791122436523,
          16.625316619873047,
          16.98128890991211,
          17.622127532958984,
          16.416364669799805,
          16.66822052001953,
          17.457481384277344,
          14.191383361816406,
          12.683627128601074,
          16.95723533630371,
          16.81488800048828,
          13.750163078308105,
          16.429372787475586,
          14.41157054901123,
          10.342184066772461,
          13.648855209350586,
          14.252335548400879,
          10.051098823547363,
          15.115525245666504,
          15.082408905029297,
          11.594134330749512,
          11.763384819030762,
          14.37360668182373,
          13.219145774841309,
          15.415877342224121,
          13.556961059570312,
          13.866301536560059,
          14.061501502990723,
          11.387502670288086,
          15.898490905761719,
          15.019523620605469,
          15.536652565002441,
          15.855667114257812,
          15.679605484008789,
          15.668341636657715,
          15.526107788085938,
          15.468599319458008,
          14.778654098510742,
          18.008426666259766,
          16.282583236694336,
          17.809499740600586,
          17.834442138671875,
          17.96963882446289,
          14.13896656036377,
          15.189470291137695,
          15.55811882019043,
          15.77892017364502,
          16.876089096069336,
          15.639883041381836,
          15.96983528137207,
          15.723611831665039,
          14.787761688232422,
          17.856760025024414,
          15.442364692687988,
          14.837326049804688,
          15.618291854858398,
          14.187493324279785,
          15.781499862670898,
          15.517812728881836,
          15.344117164611816,
          14.202605247497559,
          14.109665870666504,
          14.112541198730469,
          10.032504081726074,
          11.32495403289795,
          9.565546989440918,
          13.684684753417969,
          16.223838806152344,
          13.855709075927734,
          12.356815338134766,
          9.98172378540039,
          14.1151123046875,
          9.842171669006348,
          14.09868335723877,
          10.516112327575684,
          13.573577880859375,
          14.169342994689941,
          9.582956314086914,
          16.153749465942383,
          13.319150924682617,
          13.019145965576172,
          16.22586441040039,
          15.794885635375977,
          12.86490535736084,
          10.568347930908203,
          10.593403816223145,
          10.703991889953613,
          10.828330039978027,
          10.868767738342285,
          14.539718627929688,
          14.432851791381836,
          10.73150634765625,
          13.029886245727539,
          16.5753173828125,
          16.346817016601562,
          16.05152702331543,
          17.125091552734375,
          16.04212760925293,
          16.32149314880371,
          17.55051612854004,
          16.899433135986328,
          17.606592178344727,
          16.084787368774414,
          16.80158805847168,
          21.003536224365234,
          20.861486434936523,
          20.585567474365234,
          20.042922973632812,
          19.779367446899414,
          19.463180541992188,
          20.49018669128418,
          20.7478084564209,
          20.043292999267578,
          19.939884185791016,
          19.923315048217773,
          17.261802673339844,
          17.17967987060547,
          16.02754020690918,
          18.734622955322266,
          18.59861946105957,
          18.879539489746094,
          16.245407104492188,
          16.967464447021484,
          16.483322143554688,
          20.186906814575195,
          20.011289596557617,
          16.93146324157715,
          18.466968536376953,
          19.015689849853516,
          19.146047592163086,
          18.92404556274414,
          19.673032760620117,
          17.45209312438965,
          17.95123863220215,
          18.845966339111328,
          18.195640563964844,
          19.05066680908203,
          18.521596908569336,
          20.146881103515625,
          20.030488967895508,
          16.257633209228516,
          19.704517364501953,
          16.11335563659668,
          19.664562225341797,
          19.86568260192871,
          19.65921974182129,
          20.141611099243164,
          19.21229362487793,
          18.899147033691406,
          20.365480422973633,
          20.20528793334961,
          19.618337631225586,
          18.463769912719727,
          18.84286880493164,
          18.799898147583008,
          21.070772171020508,
          20.18240737915039,
          20.959426879882812,
          18.570148468017578,
          18.495391845703125,
          18.53631591796875,
          18.02632713317871,
          17.442138671875,
          19.956052780151367,
          20.409242630004883,
          19.233274459838867,
          20.00592803955078,
          19.94827651977539,
          20.223587036132812,
          19.386751174926758,
          19.68740463256836,
          19.088592529296875,
          15.952431678771973,
          16.371414184570312,
          15.971604347229004,
          17.456506729125977,
          18.35312271118164,
          17.888132095336914,
          19.840656280517578,
          18.960464477539062,
          19.305835723876953,
          18.846113204956055,
          16.57463836669922,
          16.1744327545166,
          17.76335334777832,
          16.6229248046875,
          15.815346717834473,
          15.855011940002441,
          16.021455764770508,
          16.317188262939453,
          16.206151962280273,
          16.4645938873291,
          16.149181365966797,
          16.5761661529541,
          16.408510208129883,
          16.913057327270508,
          16.86210823059082,
          16.882476806640625,
          16.57074546813965,
          16.575368881225586,
          17.17255210876465,
          15.951255798339844,
          17.736913681030273,
          17.70382308959961,
          15.79385757446289,
          16.2625732421875,
          -5.674457550048828,
          12.221451759338379,
          11.121877670288086,
          12.883163452148438,
          12.54361343383789
         ],
         "xaxis": "x",
         "y": [
          9.255158424377441,
          3.3765053749084473,
          9.029437065124512,
          9.31174087524414,
          2.327191114425659,
          1.6256582736968994,
          2.399308681488037,
          6.5713958740234375,
          6.945900917053223,
          6.303473472595215,
          6.873960018157959,
          6.45407247543335,
          6.353120803833008,
          5.969378471374512,
          6.245654106140137,
          5.9063239097595215,
          6.05136775970459,
          6.245490074157715,
          6.017994403839111,
          5.148409366607666,
          5.406314373016357,
          2.113786458969116,
          4.265779972076416,
          6.7012715339660645,
          1.8317114114761353,
          3.406245231628418,
          3.6823229789733887,
          3.7397210597991943,
          4.353901386260986,
          3.5864133834838867,
          2.076472520828247,
          9.386883735656738,
          2.6157591342926025,
          3.228848695755005,
          4.002636432647705,
          7.319596290588379,
          2.4859044551849365,
          2.4932100772857666,
          4.323657035827637,
          3.9744019508361816,
          3.8649792671203613,
          4.752865791320801,
          3.8118813037872314,
          3.751251697540283,
          4.146775722503662,
          2.6295371055603027,
          2.538311004638672,
          7.689624309539795,
          3.445834159851074,
          7.027899742126465,
          1.1396708488464355,
          2.182687282562256,
          1.8253802061080933,
          4.955247402191162,
          3.529086112976074,
          6.111359119415283,
          3.4936165809631348,
          2.9753499031066895,
          3.6647708415985107,
          4.362207412719727,
          4.082667350769043,
          3.8695154190063477,
          2.931729793548584,
          4.271456241607666,
          3.4505395889282227,
          3.585705280303955,
          3.6064846515655518,
          3.7186529636383057,
          8.291748046875,
          4.894241809844971,
          3.777482509613037,
          3.94118595123291,
          3.330037832260132,
          3.4105873107910156,
          2.7255825996398926,
          4.138897895812988,
          4.333534240722656,
          4.415034294128418,
          6.056342601776123,
          4.126968860626221,
          4.580439567565918,
          1.7293500900268555,
          2.8125054836273193,
          4.67130184173584,
          2.2137651443481445,
          2.362988233566284,
          2.709695339202881,
          3.6355984210968018,
          4.433898448944092,
          2.240685224533081,
          4.146154403686523,
          4.46101713180542,
          4.6305108070373535,
          4.373287677764893,
          4.733012676239014,
          4.223239421844482,
          3.6258721351623535,
          4.433013439178467,
          4.117323875427246,
          4.346421718597412,
          3.377249002456665,
          4.374501705169678,
          3.4151902198791504,
          4.380973815917969,
          4.3381266593933105,
          4.472436428070068,
          8.347270965576172,
          4.06419038772583,
          3.18802809715271,
          5.474156856536865,
          2.4242570400238037,
          2.849440336227417,
          7.2102251052856445,
          4.099853038787842,
          4.08162260055542,
          5.78141450881958,
          8.663960456848145,
          4.320071697235107,
          4.7221245765686035,
          4.558135986328125,
          4.5390167236328125,
          2.993499755859375,
          4.627679347991943,
          5.507386207580566,
          3.7318661212921143,
          4.689964771270752,
          4.566904544830322,
          2.903979778289795,
          3.040783643722534,
          3.007345676422119,
          4.380773544311523,
          4.142172813415527,
          5.36229944229126,
          5.382523536682129,
          4.813570976257324,
          5.071512699127197,
          5.1117048263549805,
          4.867339611053467,
          4.791530609130859,
          5.152856826782227,
          3.0628621578216553,
          3.1597044467926025,
          4.7682108879089355,
          3.6386210918426514,
          3.434634208679199,
          5.136466026306152,
          2.9016284942626953,
          4.4440507888793945,
          3.4046895503997803,
          3.6198792457580566,
          3.656944990158081,
          3.813922643661499,
          3.7849502563476562,
          3.4336695671081543,
          3.1400704383850098,
          4.457673072814941,
          2.8410682678222656,
          1.807673454284668,
          7.3216776847839355,
          6.218288898468018,
          4.367788314819336,
          8.492841720581055,
          3.753222942352295,
          2.090890645980835,
          4.155218601226807,
          4.8378424644470215,
          1.8135560750961304,
          3.553727865219116,
          3.1967885494232178,
          2.6977827548980713,
          1.0448765754699707,
          2.2518115043640137,
          4.554208278656006,
          3.140002489089966,
          2.789060354232788,
          5.785865306854248,
          2.692857503890991,
          2.5140745639801025,
          5.244707107543945,
          11.068469047546387,
          10.9877290725708,
          11.293773651123047,
          8.300036430358887,
          9.561922073364258,
          3.996690511703491,
          4.337986946105957,
          5.70461368560791,
          4.266855716705322,
          -4.139504909515381,
          -3.9494221210479736,
          -3.3951220512390137,
          -3.463771104812622,
          -3.3793118000030518,
          -3.243969202041626,
          -1.644544005393982,
          -2.57165789604187,
          -1.6383944749832153,
          -2.1433587074279785,
          -4.092504501342773,
          -3.0102672576904297,
          -2.9209792613983154,
          -3.031848192214966,
          -2.9472386837005615,
          -2.4299635887145996,
          -2.5709705352783203,
          -2.9638640880584717,
          -2.9754862785339355,
          -2.8688747882843018,
          -3.1067841053009033,
          -2.63561749458313,
          -3.0477490425109863,
          -3.1062381267547607,
          -2.3261232376098633,
          -1.374801754951477,
          -1.190045714378357,
          -1.086185097694397,
          -2.458139419555664,
          -2.982436418533325,
          -3.0194318294525146,
          -0.9768235683441162,
          -1.2148021459579468,
          -3.260216474533081,
          -3.228846549987793,
          -3.1324164867401123,
          -2.4198594093322754,
          -2.9598937034606934,
          -1.7731459140777588,
          -3.133087158203125,
          -3.380525827407837,
          -2.8945152759552,
          -3.342838764190674,
          -2.748847007751465,
          -2.4641916751861572,
          -1.1410006284713745,
          -0.8893647193908691,
          2.583719253540039,
          -0.8755696415901184,
          3.018751621246338,
          -1.0145914554595947,
          -0.8468145132064819,
          -1.133531093597412,
          -0.8188336491584778,
          -1.079613208770752,
          -0.9929869174957275,
          -2.943411350250244,
          -2.949531078338623,
          -3.1110594272613525,
          -2.2462751865386963,
          -2.5274038314819336,
          -2.412179708480835,
          -2.8971123695373535,
          -3.061330795288086,
          -2.923400640487671,
          -2.3807387351989746,
          -2.2127504348754883,
          -2.2134318351745605,
          -2.4246585369110107,
          -2.9011850357055664,
          -1.0244746208190918,
          -1.0689055919647217,
          -1.0414162874221802,
          -0.8157376646995544,
          -0.572039783000946,
          -0.8582281470298767,
          -0.8130202293395996,
          -0.9051600098609924,
          -0.8773319721221924,
          -2.2990453243255615,
          -2.9316246509552,
          -2.8041765689849854,
          -2.065595865249634,
          -1.4937772750854492,
          -1.660850167274475,
          -0.4747234582901001,
          -0.8934690952301025,
          -0.9003286361694336,
          -3.090688705444336,
          -3.6883504390716553,
          -3.0631487369537354,
          -3.5933997631073,
          -3.9196293354034424,
          -2.321760416030884,
          -2.5598602294921875,
          -2.2639873027801514,
          -3.7575418949127197,
          -3.5915472507476807,
          -3.9567439556121826,
          -3.4917614459991455,
          -3.7238214015960693,
          -4.052164554595947,
          -4.100300312042236,
          -3.8467915058135986,
          -4.001796245574951,
          -3.93755841255188,
          -4.183651924133301,
          -3.954632520675659,
          -2.6620330810546875,
          -1.5897115468978882,
          -1.382000207901001,
          -2.0794219970703125,
          -2.8679487705230713,
          7.219217300415039,
          6.522706985473633,
          5.264130115509033,
          6.923557758331299,
          6.119717121124268
         ],
         "yaxis": "y"
        },
        {
         "customdata": [
          [
           4,
           "72475_1x_BC9_01_17418",
           "garlic",
           1596,
           "Vegetables"
          ],
          [
           9,
           "72537_1x_BG5_01_17486",
           "orange cherry tomato",
           2094,
           "Vegetables"
          ],
          [
           10,
           "72538_1x_BB6_01_17402",
           "napa cabbage",
           2043,
           "Vegetables"
          ],
          [
           19,
           "72684_1x_BF5_01_17479",
           "lettuce from salad",
           2060,
           "Vegetables"
          ],
          [
           21,
           "72798_1x_BH4_01_17498",
           "Spinach, baby spinach, simple truth brand",
           2001,
           "Vegetables"
          ],
          [
           22,
           "72799_1x_BF7_01_17460",
           "Cut N Clean Greens Kale",
           2099,
           "Vegetables"
          ],
          [
           23,
           "72802_1x_BD11_01_17438",
           "red bell pepper",
           2185,
           "Vegetables"
          ],
          [
           36,
           "73960_1x_BE4_01_17444",
           "larger green chili sample from burrito",
           2373,
           "Vegetables"
          ],
          [
           37,
           "73971_1x_BF4_01_17478",
           "lettuce; Frontier burrito plate",
           1812,
           "Vegetables"
          ],
          [
           38,
           "73976_1x_BB4_01_17400",
           "tomato; Monroe's chili relleno",
           2226,
           "Vegetables"
          ],
          [
           42,
           "73990_1x_BH7_01_17517",
           "cherry tomato, half of top part",
           2160,
           "Vegetables"
          ],
          [
           44,
           "73996_1x_BG8_01_17489",
           "kohlrabi",
           1965,
           "Vegetables"
          ],
          [
           45,
           "73997_1x_BB2_01_17398",
           "chantrelle mushroom",
           2343,
           "Vegetables"
          ],
          [
           47,
           "74004_1x_BD2_01_17474",
           "onion",
           2225,
           "Vegetables"
          ],
          [
           49,
           "74011_1x_BF2_01_17455",
           "white asparagus",
           2036,
           "Vegetables"
          ],
          [
           52,
           "74015_1x_BG2_01_17470",
           "bell pepper, orange",
           2300,
           "Vegetables"
          ],
          [
           53,
           "74018_1x_BB12_01_17408",
           "bell pepper, red",
           2223,
           "Vegetables"
          ],
          [
           54,
           "74021_1x_BA12_01_17395",
           "cucumber",
           2008,
           "Vegetables"
          ],
          [
           55,
           "74025_1x_BC6_01_17415",
           "mushroom, cooked",
           2307,
           "Vegetables"
          ],
          [
           59,
           "74057_1x_BE2_01_20750",
           "beet kvass",
           1515,
           "Vegetables"
          ],
          [
           72,
           "75084_1x_BD3_01_17475",
           "corn",
           2285,
           "Vegetables"
          ],
          [
           73,
           "75085_1x_BF3_01_17456",
           "carrot, raw",
           1856,
           "Vegetables"
          ],
          [
           74,
           "75086_1x_BH3_01_17497",
           "mushroom, raw",
           1873,
           "Vegetables"
          ],
          [
           75,
           "75089_1x_BF10_01_17482",
           "carrot",
           2210,
           "Vegetables"
          ],
          [
           76,
           "75092_1x_BH10_01_17514",
           "cauliflower",
           2372,
           "Vegetables"
          ],
          [
           77,
           "75153_1x_BC7_01_17416",
           "mushroom; cooked with other ingredients",
           2184,
           "Vegetables"
          ],
          [
           78,
           "75154_1x_BF8_01_17481",
           "carrot; cooked with other ingredients",
           2260,
           "Vegetables"
          ],
          [
           90,
           "75739_1x_rerun_BB8_01_21460",
           "cucumber mint kombucha (organic and homegrown mint from Julia's garden)",
           1517,
           "Vegetables"
          ],
          [
           92,
           "75904_1x_BA11_01_17394",
           "baby spinach",
           1997,
           "Vegetables"
          ],
          [
           93,
           "78802_1x_BF9_01_17462",
           "carrot",
           1865,
           "Vegetables"
          ],
          [
           96,
           "78812_5x_RA5_01_17388",
           "Garden kale (can't remember if this one was from seed or starter)",
           1943,
           "Vegetables"
          ],
          [
           98,
           "78816_5x_RH5_01_17511",
           "Garden Broccoli from heirloom seeds",
           2197,
           "Vegetables"
          ],
          [
           99,
           "78817_1x_BH11_01_17515",
           "Garden lettuce from heirloom seed mix greens",
           2215,
           "Vegetables"
          ],
          [
           100,
           "78832_1x_BH12_01_17516",
           "Garden Garlic tops",
           2228,
           "Vegetables"
          ],
          [
           105,
           "AMZ_13_RB4_01_49040",
           "Cow liver with onion",
           2472,
           "Vegetables"
          ],
          [
           138,
           "G72449_1x_BB6_01_17263",
           "raw green onion",
           2210,
           "Vegetables"
          ],
          [
           140,
           "G72451_p2_c6_GA3_01_21633",
           "raw red onion",
           1245,
           "Vegetables"
          ],
          [
           142,
           "G72454_BE3_01_19004",
           "potato chip",
           2070,
           "Vegetables"
          ],
          [
           156,
           "G72471_1x_BD6_01_17298",
           "raw english pea",
           2110,
           "Vegetables"
          ],
          [
           169,
           "G72501_BC3_01_18940",
           "bell pepper stuffing",
           2106,
           "Vegetables"
          ],
          [
           179,
           "G72523_10x_BC11_01_17821",
           "crushed red pepper",
           2223,
           "Vegetables"
          ],
          [
           183,
           "G72532_1x_BC7_01_17286",
           "long green onion",
           1921,
           "Vegetables"
          ],
          [
           184,
           "G72533_1x_BD7_01_17299",
           "small red bell pepper with peel",
           2261,
           "Vegetables"
          ],
          [
           185,
           "G72534_1x_BE7_01_17312",
           "radish with peel",
           1914,
           "Vegetables"
          ],
          [
           192,
           "G72669_1x_BG4_01_20229",
           "Crushed red chile pepper",
           2373,
           "Vegetables"
          ],
          [
           197,
           "G72696_10x_BF8_01_17856",
           "pea pure baby food",
           2115,
           "Vegetables"
          ],
          [
           199,
           "G72705_10x_BD9_01_17830",
           "potato chip, DeepRiver Snacks, Rosemary and Olive Oil",
           1801,
           "Vegetables"
          ],
          [
           200,
           "G72706_10x_BC9_01_17901",
           "potato chip, DeepRiver Snacks, BBQ",
           1753,
           "Vegetables"
          ],
          [
           201,
           "G72709_10x_BD10_01_17831",
           "potato, mashed, Costco; microwaveable type in plastic dish",
           1950,
           "Vegetables"
          ],
          [
           211,
           "G72732_10x_BE11_01_17846",
           "corn on the cob",
           1821,
           "Vegetables"
          ],
          [
           218,
           "G72746_10x_3ul_BB3_01_17887",
           "organic raw beet (from Trader Joe's)",
           1691,
           "Vegetables"
          ],
          [
           222,
           "G72751_10x_BB4_01_17808",
           "carrot top greens, garden",
           1927,
           "Vegetables"
          ],
          [
           224,
           "G72754_10x_BE3_01_17836",
           "shiitake mushroom, cooked, vons",
           1960,
           "Vegetables"
          ],
          [
           225,
           "G72755_10x_BC3_01_17812",
           "green onion, organic, vons, top dark green part",
           1585,
           "Vegetables"
          ],
          [
           229,
           "G72759_BB11_01_18934",
           "tomato, heirloom",
           2110,
           "Vegetables"
          ],
          [
           232,
           "G72765_BH7_01_19055",
           "beet",
           2181,
           "Vegetables"
          ],
          [
           236,
           "G72770_BG8_01_19041",
           "Chilled avocado soup",
           2082,
           "Vegetables"
          ],
          [
           240,
           "G72774_1x_RA3_01_20248",
           "green pepper ",
           1319,
           "Vegetables"
          ],
          [
           261,
           "G72812_2x_RE8_01_19171",
           "corn flake",
           1704,
           "Vegetables"
          ],
          [
           269,
           "G73433_1x_BA3_01_17273",
           "mini orange bell pepper",
           2226,
           "Vegetables"
          ],
          [
           270,
           "G73434_1x_BH4_01_17348",
           "mini green bell pepper",
           1811,
           "Vegetables"
          ],
          [
           274,
           "G73441_1x_BB4_01_17261",
           "patty pan squash",
           2041,
           "Vegetables"
          ],
          [
           275,
           "G73442_1x_BA4_01_17249",
           "lemon cucumber",
           1999,
           "Vegetables"
          ],
          [
           276,
           "G73443_1x_BG5_01_17336",
           "big bertha green bell pepper",
           2162,
           "Vegetables"
          ],
          [
           277,
           "G73444_1x_BH5_01_17349",
           "cucumber",
           2078,
           "Vegetables"
          ],
          [
           279,
           "G73448_1x_BC5_01_17284",
           "radish greens",
           1918,
           "Vegetables"
          ],
          [
           280,
           "G73449_1x_BD5_01_17297",
           "radish root",
           2084,
           "Vegetables"
          ],
          [
           281,
           "G73450_1x_BE5_01_17310",
           "thai pepper",
           2311,
           "Vegetables"
          ],
          [
           283,
           "G73452_1x_RE6_01_20323",
           "avocado",
           2350,
           "Vegetables"
          ],
          [
           284,
           "G73455_RE12_01_17600",
           "boiled potato",
           1911,
           "Vegetables"
          ],
          [
           285,
           "G73457_5x_RC5_01_20161",
           "ground black pepper",
           1873,
           "Vegetables"
          ],
          [
           298,
           "G73483_1x_10ul_RH4_01_19914",
           "dr. pepper",
           2014,
           "Vegetables"
          ],
          [
           309,
           "G73635_1x_RH2_01_20359",
           "onion, raw, CMI workshop",
           1952,
           "Vegetables"
          ],
          [
           319,
           "G73648_1x_RB9_01_23276",
           "Spanish Rice from CMI workshop Fried Rice - tomato peas corn carrot ",
           1466,
           "Vegetables"
          ],
          [
           330,
           "G73693_5x_RC8_01_19496",
           "cabbage, fermenter's club",
           2136,
           "Vegetables"
          ],
          [
           339,
           "G73704_5x_RB5_01_19476",
           "napa cabbage kimchi",
           1815,
           "Vegetables"
          ],
          [
           340,
           "G73706_5x_10ul_RG8_01_19562",
           "garlic dill pickle, fermenter's club",
           1704,
           "Vegetables"
          ],
          [
           343,
           "G73717_RH8_01_17780",
           "frozen corn",
           2080,
           "Vegetables"
          ],
          [
           346,
           "G73721_1x_RC9_01_18821",
           "green chili, hatch",
           2097,
           "Vegetables"
          ],
          [
           347,
           "G73723_1x_RA8_01_18792",
           "Maitake mushroom",
           2176,
           "Vegetables"
          ],
          [
           352,
           "G73939_5x_RA2_01_19459",
           "pickled carrot",
           1648,
           "Vegetables"
          ],
          [
           353,
           "G73940_1x_BE12_01_17316",
           "corn",
           2329,
           "Vegetables"
          ],
          [
           358,
           "G73951_1x_BF5_01_17323",
           "shishito pepper",
           2263,
           "Vegetables"
          ],
          [
           391,
           "G74066_1x_BH11_01_20292",
           "tomato pesto; olive oil based",
           2227,
           "Vegetables"
          ],
          [
           415,
           "G75074_2x_RA2_01_19096",
           "cooked mushroom from dish",
           2216,
           "Vegetables"
          ],
          [
           419,
           "G75095_2x_RG3_01_19205",
           "microwaved cauliflower",
           2051,
           "Vegetables"
          ],
          [
           428,
           "G75127_1x_RE8_01_18861",
           "tomato",
           2101,
           "Vegetables"
          ],
          [
           429,
           "G75128_1x_RF10_01_18877",
           "cucumber; from Einstein bagel",
           2013,
           "Vegetables"
          ],
          [
           430,
           "G75129_1x_RD9_01_18841",
           "red onion",
           2108,
           "Vegetables"
          ],
          [
           438,
           "G75158_2x_5ul_RE5_01_19167",
           "tomato pesto; olive oil based",
           2075,
           "Vegetables"
          ],
          [
           442,
           "G75173_1x_BC11_01_17289",
           "mushroom plant leaf",
           1952,
           "Vegetables"
          ],
          [
           445,
           "G75178_1x_BG11_01_17341",
           "kale",
           2157,
           "Vegetables"
          ],
          [
           448,
           "G75185_1x_BB1_01_17258",
           "red leaf lettuce",
           2095,
           "Vegetables"
          ],
          [
           450,
           "G75189_1x_BF3_01_17321",
           "celery leaf",
           1902,
           "Vegetables"
          ],
          [
           452,
           "G75192_1x_BF2_01_17320",
           "lettuce",
           1918,
           "Vegetables"
          ],
          [
           456,
           "G75200_1x_BA10_01_17277",
           "gold bar zucchini",
           1950,
           "Vegetables"
          ],
          [
           457,
           "G75205_10uL_RA1_01_17245",
           "armenian cucumber",
           1909,
           "Vegetables"
          ],
          [
           459,
           "G75211_1x_BD3_01_17295",
           "zucchini",
           2063,
           "Vegetables"
          ],
          [
           460,
           "G75212_1x_BC3_01_17282",
           "sungold tomato",
           2159,
           "Vegetables"
          ],
          [
           461,
           "G75213_1x_BB3_01_17260",
           "eggplant japanese",
           2146,
           "Vegetables"
          ],
          [
           464,
           "G75241_BD10_01_18998",
           "Potato",
           2186,
           "Vegetables"
          ],
          [
           468,
           "G75248_5x_RE7_01_19526",
           "pickled carrot",
           2109,
           "Vegetables"
          ],
          [
           469,
           "G75249_5x_RC7_01_19495",
           "green squash, pickled",
           1941,
           "Vegetables"
          ],
          [
           470,
           "G75250_5x_RA7_01_19465",
           "yellow squash, pickled",
           1719,
           "Vegetables"
          ],
          [
           477,
           "G75571_2x_5ul_RE11_01_19175",
           "dried chili flakes/ seeds",
           2233,
           "Vegetables"
          ],
          [
           478,
           "G75572_5x_RA9_01_20128",
           "chili sauce",
           1768,
           "Vegetables"
          ],
          [
           481,
           "G75576_1x_RF8_01_18875",
           "cabbage",
           1886,
           "Vegetables"
          ],
          [
           510,
           "G75663_1x_RE4_01_18853",
           "mushroom, brown, cooked",
           2153,
           "Vegetables"
          ],
          [
           515,
           "G75671_1x_RG4_01_18884",
           "eggplant",
           2210,
           "Vegetables"
          ],
          [
           520,
           "G75679_1x_BG8_01_20233",
           "roasted pepper tomato sauce",
           2184,
           "Vegetables"
          ],
          [
           521,
           "G75680_2x_RD5_01_19143",
           "chili",
           2180,
           "Vegetables"
          ],
          [
           522,
           "G75682_1x_RD7_01_18838",
           "asparagus",
           2219,
           "Vegetables"
          ],
          [
           524,
           "G75686_1x_RG8_01_18889",
           "kale",
           1748,
           "Vegetables"
          ],
          [
           525,
           "G75687_1x_RB8_01_18805",
           "avocado",
           2353,
           "Vegetables"
          ],
          [
           527,
           "G75689_1x_RA6_01_18790",
           "corn",
           2249,
           "Vegetables"
          ],
          [
           542,
           "G75743_1x_RE3_01_18554",
           "cucumber mint kombucha (Julia homemade)",
           2086,
           "Vegetables"
          ],
          [
           568,
           "G75841_1x_RB5_01_20255",
           "cactus, nopales, cooked in avocado oil, Ralfs",
           1898,
           "Vegetables"
          ],
          [
           580,
           "G78830_RH12_01_17795",
           "baby corn",
           1986,
           "Vegetables"
          ],
          [
           596,
           "G78909_1x_RD5_01_18830",
           "avocado",
           2289,
           "Vegetables"
          ],
          [
           597,
           "G78910_1x_RC5_01_18816",
           "Green Tomato",
           2080,
           "Vegetables"
          ],
          [
           599,
           "G78912_2x_RD4_01_19142",
           "Garlic hummus",
           2271,
           "Vegetables"
          ],
          [
           624,
           "G78958_p19_g5_GD6_01_21672",
           "Party platter pack Pepper Salame",
           1545,
           "Vegetables"
          ],
          [
           642,
           "G78994_1x_RA3_01_18787",
           "pickled onion; veggie grill",
           2077,
           "Vegetables"
          ],
          [
           643,
           "G79000_1x_RG2_01_18882",
           "persian cucumber",
           1839,
           "Vegetables"
          ],
          [
           665,
           "G79213_2x_5ul_RH8_01_19450",
           "thai lime and chili cashew",
           2095,
           "Vegetables"
          ],
          [
           675,
           "G79230_1x_RG9_01_18890",
           "carrot",
           2022,
           "Vegetables"
          ],
          [
           677,
           "G79235_5x_RE9_01_20197",
           "stuffed mushroom tomato sauce",
           2182,
           "Vegetables"
          ],
          [
           678,
           "G79236_2x_RF6_01_19183",
           "stuffed mushroom",
           2189,
           "Vegetables"
          ],
          [
           679,
           "G79237_1x_RA10_01_18794",
           "artichoke",
           2296,
           "Vegetables"
          ],
          [
           680,
           "G79238_1x_RB10_01_18807",
           "artichoke",
           2286,
           "Vegetables"
          ],
          [
           684,
           "G79246_1x_RD10_01_18842",
           "cucumber",
           2190,
           "Vegetables"
          ],
          [
           685,
           "G79248_1x_RB11_01_18808",
           "celery",
           1814,
           "Vegetables"
          ],
          [
           690,
           "G79255_1x_RE11_01_18864",
           "cucumber",
           2015,
           "Vegetables"
          ],
          [
           692,
           "G79265_1x_RE3_01_18850",
           "mushroom ",
           1900,
           "Vegetables"
          ],
          [
           693,
           "G79266_1x_RG3_01_18883",
           "artichoke",
           1937,
           "Vegetables"
          ],
          [
           694,
           "G79268_5x_BB3_01_19952",
           "Polenta corn grits",
           1795,
           "Vegetables"
          ],
          [
           697,
           "G79271_5x_BC2_01_19970",
           "corn starch",
           1465,
           "Vegetables"
          ],
          [
           698,
           "G79272_5x_BF2_01_20019",
           "yellow corn meal",
           1946,
           "Vegetables"
          ],
          [
           703,
           "G79283_1x_RF8_01_20340",
           "kale",
           1695,
           "Vegetables"
          ],
          [
           704,
           "G79286_1x_RH8_01_20365",
           "carrot, raw",
           1816,
           "Vegetables"
          ],
          [
           705,
           "G79287_1x_10ul_RD7_01_20307",
           "celery, stalk",
           1538,
           "Vegetables"
          ],
          [
           706,
           "G79289_1x_RB7_01_20256",
           "green bean",
           1773,
           "Vegetables"
          ],
          [
           709,
           "G79294_1x_RH7_01_20364",
           "zucchini",
           1369,
           "Vegetables"
          ],
          [
           710,
           "G79298_1x_RG6_01_20351",
           "cucumber with peel",
           1717,
           "Vegetables"
          ],
          [
           714,
           "G79305_1x_RG10_01_18901",
           "cooked oyster mushroom",
           2153,
           "Vegetables"
          ],
          [
           716,
           "G79307_2x_RG9_01_19212",
           "bamboo shoot in chili oil",
           1811,
           "Vegetables"
          ],
          [
           718,
           "G79309_1x_RF5_01_18871",
           "baby corn",
           1927,
           "Vegetables"
          ],
          [
           719,
           "G79311_1x_RB7_01_18804",
           "oyster mushroom",
           2277,
           "Vegetables"
          ],
          [
           730,
           "G79362_5x_RG4_01_21500",
           "beet pulp shreds plain 41",
           1967,
           "Vegetables"
          ],
          [
           744,
           "G79505_1x_RB10_01_20258",
           "romaine lettuce",
           1422,
           "Vegetables"
          ],
          [
           745,
           "G79507_1x_RE10_01_20327",
           "iceberg lettuce",
           1716,
           "Vegetables"
          ],
          [
           749,
           "G79513_1x_RG4_01_20557",
           "king oyster mushroom",
           2097,
           "Vegetables"
          ],
          [
           794,
           "G79672_5x_RB10_01_19482",
           "7 Gochujang fermented chili paste(1)",
           2026,
           "Vegetables"
          ],
          [
           795,
           "G79675_5x_10ul_RG2_01_19551",
           "dill garlic sauerkraut",
           1993,
           "Vegetables"
          ],
          [
           810,
           "G79705_5x_RA12_01_19470",
           "sauerkraut with pickled persian cucumbers, cucumber",
           1833,
           "Vegetables"
          ],
          [
           819,
           "G79728_1x_10ul_RD3_01_20303",
           "purple cabbage",
           1645,
           "Vegetables"
          ],
          [
           823,
           "G79741_1x_BF11_01_20223",
           "Vegetable Korma",
           2158,
           "Vegetables"
          ],
          [
           825,
           "G79746_5x_BD6_01_19991",
           "chili jungle, M709B - 58",
           2103,
           "Vegetables"
          ],
          [
           826,
           "G79756_5x_RC2_01_21428",
           "beet pulp shreds with molasses 40",
           1727,
           "Vegetables"
          ],
          [
           834,
           "G83195_GC1_01_20474",
           "corn soybean blend",
           1779,
           "Vegetables"
          ],
          [
           842,
           "G83213_5x_RD8_01_21464",
           "corn meal uncooked",
           1757,
           "Vegetables"
          ],
          [
           843,
           "G83226_1x_RC12_01_20300",
           "LEAF curly leaf lettuce",
           1323,
           "Vegetables"
          ],
          [
           850,
           "G83234_1x_RF11_01_20343",
           "yellow cherry tomato",
           1787,
           "Vegetables"
          ],
          [
           851,
           "G83238_1x_RF12_01_20344",
           "LEAF lettuce",
           1376,
           "Vegetables"
          ],
          [
           852,
           "G83239_1x_RH12_01_20369",
           "STEM purple leaf lettuce",
           1332,
           "Vegetables"
          ],
          [
           853,
           "G83240_1x_RG12_01_20357",
           "LEAF purple leaf lettuce",
           1542,
           "Vegetables"
          ],
          [
           854,
           "G83242_1x_RC10_01_20297",
           "shishito pepper ",
           1702,
           "Vegetables"
          ],
          [
           856,
           "G83246_1x_RH11_01_20368",
           "white carrot",
           2090,
           "Vegetables"
          ],
          [
           857,
           "G83247_1x_RD11_01_20312",
           "orange carrot",
           1860,
           "Vegetables"
          ],
          [
           858,
           "G83248_1x_RB11_01_20259",
           "yellow carrot",
           1814,
           "Vegetables"
          ],
          [
           859,
           "G83249_1x_RG11_01_20356",
           "purple carrot",
           1927,
           "Vegetables"
          ],
          [
           865,
           "G83309_5x_RF9_01_21491",
           "butterfly pea infused octopus",
           2120,
           "Vegetables"
          ],
          [
           866,
           "G83310_5x_RC9_01_21426",
           "tomato",
           2034,
           "Vegetables"
          ],
          [
           869,
           "G83314_5x_RA10_01_21409",
           "beet",
           2045,
           "Vegetables"
          ],
          [
           873,
           "G83319_5x_RB10_01_21422",
           "blue corn tamalli",
           2019,
           "Vegetables"
          ],
          [
           954,
           "G86725_10x_RG11_01_23223",
           "garlic powder",
           1388,
           "Vegetables"
          ],
          [
           955,
           "G86727_10x_RH2_01_23228",
           "onion powder",
           1529,
           "Vegetables"
          ],
          [
           957,
           "G86732_1x_BD5_01_23169",
           "artichoke pizza, sample includes all parts",
           1755,
           "Vegetables"
          ],
          [
           958,
           "G86734_1x_BD7_01_23172",
           "garlic knot",
           1521,
           "Vegetables"
          ],
          [
           976,
           "G86776_1x_RF7_01_26314",
           "thai eggplant raw, unwashed, from H mart",
           1925,
           "Vegetables"
          ],
          [
           977,
           "G86777_1x_RB10_01_26252",
           "green leaf, possibly spinach",
           1504,
           "Vegetables"
          ],
          [
           979,
           "G86779_1x_RB11_01_26253",
           "raw; conventional crimini mushroom from whole foods; sampled",
           1589,
           "Vegetables"
          ],
          [
           987,
           "G86787_1x_RG10_01_23372",
           "organic avocado from mexico, peel of avocado, from whole foods la jolla",
           2118,
           "Vegetables"
          ],
          [
           988,
           "G86788_1x_RG11_01_23383",
           "organic avocado from mexico, flesh of avocado, from whole foods la jolla",
           2068,
           "Vegetables"
          ],
          [
           990,
           "G86790_1x_2u_RH1_01_23445",
           "raw white onion, trader joes, encinitas blvd, (ask Jan organic or conventional)",
           1722,
           "Vegetables"
          ],
          [
           1006,
           "G86822_1x_RF8_01_23366",
           "Garlic Powder",
           1764,
           "Vegetables"
          ],
          [
           1010,
           "G86834_1x_BA10_01_23125",
           "Pure Corn Starch",
           1235,
           "Vegetables"
          ],
          [
           1034,
           "G86878_1x_RG5_01_23377",
           "red romaine lettuce from mix",
           1359,
           "Vegetables"
          ],
          [
           1038,
           "G86889_1x_RG2_01_26323",
           "raw broccoli from whole foods la jolla; organic (sampled 1/23 frozen 1/25 8:30AM)",
           1955,
           "Vegetables"
          ],
          [
           1059,
           "G86920_1x_RH6_01_26345",
           "raw organic beet; ATTN. this sample sat at RT for 48 hours before freezing; from Hmart",
           1593,
           "Vegetables"
          ],
          [
           1060,
           "G86921_1x_BC5_01_23151",
           "Lee Kum Lee Sriracha Chili Sauce",
           1814,
           "Vegetables"
          ],
          [
           1062,
           "G86924_1x_BE8_01_23189",
           "garlic and herb shmear reduced fat; einstein bros bagels",
           1325,
           "Vegetables"
          ],
          [
           1068,
           "G86933_1x_RD8_01_23335",
           "green bell pepper, red curry",
           1492,
           "Vegetables"
          ],
          [
           1069,
           "G86936_1x_RD6_01_23333",
           "straw mushroom, tom kha soup",
           1446,
           "Vegetables"
          ],
          [
           1074,
           "G86949_1x_3ul_BA10_01_26377",
           "diet dr pepper",
           1364,
           "Vegetables"
          ],
          [
           1095,
           "G87308_RC2_01_26097",
           "red cabbage",
           1657,
           "Vegetables"
          ],
          [
           1103,
           "G87325_RB4_01_26084",
           "Red garlic Nubia",
           1948,
           "Vegetables"
          ],
          [
           1109,
           "G87346_RD4_01_26114",
           "iceberg lettuce",
           1410,
           "Vegetables"
          ],
          [
           1113,
           "G87359_1x_BA10_01_25990",
           "tomato cherry tomato sauce",
           1973,
           "Vegetables"
          ],
          [
           1129,
           "G87403_RE4_01_26162",
           "corn",
           1707,
           "Vegetables"
          ],
          [
           1139,
           "G87424_1x_BC10_01_26023",
           "radish",
           1392,
           "Vegetables"
          ],
          [
           1144,
           "G87434_1x_BC5_01_26016",
           "cooked spinach",
           1596,
           "Vegetables"
          ],
          [
           1145,
           "G87436_1x_BB2_01_25995",
           "chili pepper",
           1661,
           "Vegetables"
          ],
          [
           1146,
           "G87437_1x_BB3_01_25996",
           "white garlic",
           1380,
           "Vegetables"
          ],
          [
           1148,
           "G87439_1x_BB5_01_25999",
           "asparagus in oil",
           1841,
           "Vegetables"
          ],
          [
           1158,
           "G87454_1x_BD7_01_26035",
           "stock cube vegetable ",
           1651,
           "Vegetables"
          ],
          [
           1183,
           "G87495_1x_RF4_01_26310",
           "shitake mushroom - from immune boost soup",
           2105,
           "Vegetables"
          ],
          [
           1193,
           "G87522_1x_RF5_01_26311",
           "garlic - immune boost soup",
           1963,
           "Vegetables"
          ],
          [
           1206,
           "G87541_1x_RG6_01_26327",
           "maitake mushroom - immune boost soup",
           1684,
           "Vegetables"
          ],
          [
           1207,
           "G87542_1x_RC6_01_26262",
           "organic king oyster mushroom; sampled raw; from H mart",
           1367,
           "Vegetables"
          ],
          [
           1210,
           "G87546_1x_RG9_01_26331",
           "organic carrot from costco not rinsed/washed; plastic packaging",
           1710,
           "Vegetables"
          ],
          [
           1219,
           "G87556_1x_RE8_01_26300",
           "raw garlic",
           1901,
           "Vegetables"
          ],
          [
           1220,
           "G87557_1x_RF8_01_26315",
           "raw grape tomato from whole foods la jolla village; organic; packaging plastic lid with cardboard bottom",
           2138,
           "Vegetables"
          ],
          [
           1230,
           "G87577_1x_BA8_01_26547",
           "avocado",
           2232,
           "Vegetables"
          ],
          [
           1240,
           "G87603_1x_RH11_01_26351",
           "hass avocado, stand by Safari Park",
           2097,
           "Vegetables"
          ],
          [
           1241,
           "G87604_1x_RD11_01_26283",
           "fuerte avocado, stand by Safari Park",
           1924,
           "Vegetables"
          ],
          [
           1242,
           "G87605_1x_RF11_01_26318",
           "italian tomato puree",
           1920,
           "Vegetables"
          ],
          [
           1244,
           "G90219_1x_BA6_01_26543",
           "avocado",
           2305,
           "Vegetables"
          ],
          [
           1294,
           "G95796_1x_BH5_01_32303",
           "Farmer's Market Tomato",
           1941,
           "Vegetables"
          ],
          [
           1295,
           "G95797_1x_RD11_01_32127",
           "Farmer's Market Tomato",
           1886,
           "Vegetables"
          ],
          [
           1296,
           "G95798_1x_BC6_01_32268",
           "cherry tomato",
           2024,
           "Vegetables"
          ],
          [
           1297,
           "G95799_1x_RF2_01_32145",
           "cherry tomato",
           1959,
           "Vegetables"
          ],
          [
           1298,
           "G95800_1x_RD3_01_32119",
           "cherry tomato",
           1936,
           "Vegetables"
          ],
          [
           1299,
           "G95801_1x_RE5_01_32134",
           "cherry tomato",
           1930,
           "Vegetables"
          ],
          [
           1300,
           "G95802_1x_RG4_01_32161",
           "cherry tomato",
           1936,
           "Vegetables"
          ],
          [
           1301,
           "G95805_1x_BG5_01_32295",
           "Farmer's Market Tomato",
           1912,
           "Vegetables"
          ],
          [
           1302,
           "G95806_1x_RC8_01_32113",
           "Farmer's Market Tomato",
           1831,
           "Vegetables"
          ],
          [
           1303,
           "G95807_1x_BH6_01_32304",
           "cherry tomato",
           2036,
           "Vegetables"
          ],
          [
           1304,
           "G95808_1x_RC6_01_32111",
           "cherry tomato",
           2059,
           "Vegetables"
          ],
          [
           1305,
           "G95809_1x_RH3_01_32174",
           "cherry tomato",
           1648,
           "Vegetables"
          ],
          [
           1306,
           "G95810_1x_RE10_01_32140",
           "cherry tomato",
           1940,
           "Vegetables"
          ],
          [
           1307,
           "G95811_1x_RD6_01_32122",
           "cherry tomato",
           1800,
           "Vegetables"
          ],
          [
           1308,
           "G95814_1x_RE4_01_32133",
           "Farmer's Market Tomato",
           1974,
           "Vegetables"
          ],
          [
           1309,
           "G95815_1x_RF6_01_32149",
           "Farmer's Market Tomato",
           1938,
           "Vegetables"
          ],
          [
           1310,
           "G95816_1x_BC4_01_32266",
           "cherry tomato",
           1799,
           "Vegetables"
          ],
          [
           1311,
           "G95817_1x_RC4_01_32103",
           "cherry tomato",
           2028,
           "Vegetables"
          ],
          [
           1312,
           "G95818_1x_RH10_01_32182",
           "cherry tomato",
           1933,
           "Vegetables"
          ],
          [
           1313,
           "G95819_1x_RD5_01_32121",
           "cherry tomato",
           1613,
           "Vegetables"
          ],
          [
           1314,
           "G95820_1x_RE12_01_32142",
           "cherry tomato",
           1890,
           "Vegetables"
          ],
          [
           1315,
           "G95823_1x_RH9_01_32181",
           "Farmer's Market Tomato",
           1596,
           "Vegetables"
          ],
          [
           1316,
           "G95824_1x_BE5_01_32281",
           "Farmer's Market Tomato",
           1911,
           "Vegetables"
          ],
          [
           1317,
           "G95825_1x_RG7_01_32165",
           "Farmer's Market Tomato",
           1843,
           "Vegetables"
          ],
          [
           1318,
           "G95826_1x_RD12_01_32128",
           "cherry tomato",
           2095,
           "Vegetables"
          ],
          [
           1319,
           "G95827_1x_RE6_01_32135",
           "cherry tomato",
           2037,
           "Vegetables"
          ],
          [
           1320,
           "G95828_1x_RB6_01_32091",
           "cherry tomato",
           1704,
           "Vegetables"
          ],
          [
           1321,
           "G95832_1x_RH2_01_32173",
           "canned tomato",
           1958,
           "Vegetables"
          ],
          [
           1322,
           "G95833_1x_BF6_01_32289",
           "canned tomato",
           1925,
           "Vegetables"
          ],
          [
           1323,
           "G95834_1x_BD6_01_32275",
           "canned tomato",
           1409,
           "Vegetables"
          ],
          [
           1324,
           "G95835_1x_BH3_01_32301",
           "canned tomato",
           2011,
           "Vegetables"
          ],
          [
           1325,
           "G95836_1x_RH6_01_32177",
           "canned tomato",
           1875,
           "Vegetables"
          ],
          [
           1326,
           "G95837_1x_RE2_01_32131",
           "canned tomato",
           2095,
           "Vegetables"
          ],
          [
           1327,
           "G95838_1x_RC7_01_32112",
           "canned tomato",
           2091,
           "Vegetables"
          ],
          [
           1328,
           "G95839_1x_RB11_01_32097",
           "canned tomato",
           1977,
           "Vegetables"
          ],
          [
           1329,
           "G95840_1x_BG4_01_32294",
           "canned tomato",
           2021,
           "Vegetables"
          ],
          [
           1330,
           "G95841_1x_RH8_01_32180",
           "sundried tomato",
           1896,
           "Vegetables"
          ],
          [
           1331,
           "G95842_1x_RE11_01_32141",
           "sundried tomato",
           2113,
           "Vegetables"
          ],
          [
           1332,
           "G95843_1x_RH4_01_32175",
           "sundried tomato",
           1899,
           "Vegetables"
          ],
          [
           1333,
           "G95844_1x_BF4_01_32287",
           "sundried tomato",
           2068,
           "Vegetables"
          ],
          [
           1334,
           "G95845_1x_BA5_01_32253",
           "sundried tomato",
           2236,
           "Vegetables"
          ],
          [
           1335,
           "G95846_1x_BF5_01_32288",
           "sundried tomato",
           2099,
           "Vegetables"
          ],
          [
           1336,
           "G95847_1x_RF8_01_32152",
           "sundried tomato",
           2059,
           "Vegetables"
          ],
          [
           1337,
           "G95848_1x_RH7_01_32179",
           "sundried tomato",
           1860,
           "Vegetables"
          ],
          [
           1338,
           "G95849_1x_RB9_01_32095",
           "sundried tomato",
           2030,
           "Vegetables"
          ],
          [
           1339,
           "G95859_1x_RB8_01_32094",
           "Cherry Tomato",
           1872,
           "Vegetables"
          ],
          [
           1340,
           "G95860_1x_BG6_01_32296",
           "Cherry Tomato",
           1972,
           "Vegetables"
          ],
          [
           1341,
           "G95861_1x_BE6_01_32282",
           "Cherry Tomato",
           1930,
           "Vegetables"
          ],
          [
           1342,
           "G95862_1x_RE3_01_32132",
           "Cherry Tomato",
           1806,
           "Vegetables"
          ],
          [
           1343,
           "G95863_1x_RH12_01_32184",
           "Cherry Tomato",
           1747,
           "Vegetables"
          ],
          [
           1344,
           "G95864_1x_RB4_01_32089",
           "Cherry Tomato",
           1679,
           "Vegetables"
          ],
          [
           1345,
           "G95865_1x_RE8_01_32138",
           "Cherry Tomato",
           1909,
           "Vegetables"
          ],
          [
           1346,
           "G95866_1x_BH4_01_32302",
           "Cherry Tomato",
           1827,
           "Vegetables"
          ],
          [
           1347,
           "G95867_1x_RB12_01_32098",
           "Cherry Tomato",
           1729,
           "Vegetables"
          ],
          [
           1823,
           "RA2_RA2_01_49050",
           "green.pepper",
           2525,
           "Vegetables"
          ],
          [
           1829,
           "RA8_RA8_01_49060",
           "eggplant",
           2485,
           "Vegetables"
          ],
          [
           1835,
           "RC11_RC11_01_49089",
           "asparagus",
           2527,
           "Vegetables"
          ],
          [
           1838,
           "RC3_RC3_01_49080",
           "celery",
           2529,
           "Vegetables"
          ],
          [
           1840,
           "RC7_RC7_01_49084",
           "chili.pepper",
           2510,
           "Vegetables"
          ],
          [
           1845,
           "RD6_RD6_01_49098",
           "garlic",
           2472,
           "Vegetables"
          ],
          [
           1846,
           "RE2_RE2_01_49106",
           "carrot",
           2469,
           "Vegetables"
          ],
          [
           1847,
           "RE3_RE3_01_49107",
           "spicy pepper, small, red",
           2431,
           "Vegetables"
          ],
          [
           1848,
           "RE4_RE4_01_49108",
           "cherry tomato, with peel",
           2476,
           "Vegetables"
          ],
          [
           1850,
           "RE6_RE6_01_49110",
           "carrot greens",
           2526,
           "Vegetables"
          ],
          [
           1851,
           "RE7_RE7_01_49111",
           "eggplant, japanese, with peel",
           2451,
           "Vegetables"
          ],
          [
           1855,
           "VA3_2x_RB3_01_21611",
           "Avocado salad",
           1685,
           "Vegetables"
          ],
          [
           1857,
           "VA5_2x_RB5_01_21614",
           "spinach salad",
           1790,
           "Vegetables"
          ],
          [
           1860,
           "VA8_2x_RB8_01_21618",
           "potato puree",
           1727,
           "Vegetables"
          ]
         ],
         "hovertemplate": "color=Vegetables<br>x=%{x}<br>y=%{y}<br>hover_data_0=%{customdata[0]}<br>hover_data_1=%{customdata[1]}<br>hover_data_2=%{customdata[2]}<br>hover_data_3=%{customdata[3]}<br>hover_data_4=%{customdata[4]}<extra></extra>",
         "legendgroup": "Vegetables",
         "marker": {
          "color": "#00FE35",
          "symbol": "circle"
         },
         "mode": "markers",
         "name": "Vegetables",
         "showlegend": true,
         "type": "scattergl",
         "x": [
          13.372001647949219,
          12.874319076538086,
          14.510865211486816,
          14.436942100524902,
          14.827756881713867,
          14.150382995605469,
          13.394500732421875,
          14.299219131469727,
          14.269238471984863,
          12.425600051879883,
          13.538723945617676,
          14.791930198669434,
          13.368361473083496,
          13.686239242553711,
          13.191519737243652,
          13.530252456665039,
          13.731660842895508,
          14.365901947021484,
          13.270341873168945,
          7.825648784637451,
          12.822916984558105,
          13.472426414489746,
          14.060295104980469,
          12.607799530029297,
          13.786563873291016,
          13.561155319213867,
          14.01451587677002,
          8.634765625,
          14.531638145446777,
          14.746855735778809,
          14.013696670532227,
          14.361709594726562,
          13.330061912536621,
          13.8529691696167,
          -5.908084869384766,
          14.685123443603516,
          11.243245124816895,
          16.44497299194336,
          14.80284595489502,
          11.372756004333496,
          11.680262565612793,
          14.556109428405762,
          14.232434272766113,
          14.530701637268066,
          10.260635375976562,
          15.073410034179688,
          14.640852928161621,
          13.401946067810059,
          13.748653411865234,
          13.109728813171387,
          13.767574310302734,
          13.009342193603516,
          12.220220565795898,
          13.684513092041016,
          14.669260025024414,
          11.569479942321777,
          15.438471794128418,
          9.295534133911133,
          13.764638900756836,
          13.232614517211914,
          13.839475631713867,
          15.022770881652832,
          14.18698501586914,
          13.426798820495605,
          13.445199012756348,
          14.440011024475098,
          14.399656295776367,
          13.316567420959473,
          15.63243579864502,
          14.114980697631836,
          10.11838436126709,
          15.76426887512207,
          10.617870330810547,
          10.427833557128906,
          10.63776969909668,
          10.498613357543945,
          10.736082077026367,
          12.77856731414795,
          12.66466236114502,
          14.364933967590332,
          10.5741605758667,
          12.768328666687012,
          12.116060256958008,
          12.651734352111816,
          13.04860782623291,
          11.839338302612305,
          11.535913467407227,
          12.168309211730957,
          10.795023918151855,
          12.761841773986816,
          14.849868774414062,
          13.82840633392334,
          13.933141708374023,
          14.252792358398438,
          14.276336669921875,
          14.97955322265625,
          14.115266799926758,
          15.072759628295898,
          14.808120727539062,
          14.26220417022705,
          13.707198143005371,
          11.846389770507812,
          11.37087345123291,
          10.755362510681152,
          10.859590530395508,
          10.526924133300781,
          11.638936042785645,
          13.434700965881348,
          11.735974311828613,
          10.628154754638672,
          12.726896286010742,
          11.758639335632324,
          13.736912727355957,
          15.372321128845215,
          12.665661811828613,
          18.331411361694336,
          9.817143440246582,
          11.943441390991211,
          15.320878028869629,
          12.355079650878906,
          13.080713272094727,
          10.858482360839844,
          11.004432678222656,
          11.423918724060059,
          14.638368606567383,
          13.417472839355469,
          13.197507858276367,
          13.476061820983887,
          12.359094619750977,
          11.944766998291016,
          12.680931091308594,
          14.275879859924316,
          12.087305068969727,
          12.013250350952148,
          11.218241691589355,
          16.0045108795166,
          16.09099578857422,
          15.353139877319336,
          9.456430435180664,
          10.62061882019043,
          9.378445625305176,
          11.206281661987305,
          9.460936546325684,
          9.683333396911621,
          11.823324203491211,
          11.827608108520508,
          11.503267288208008,
          13.778044700622559,
          11.192227363586426,
          9.51227855682373,
          8.69668960571289,
          13.766510963439941,
          11.437274932861328,
          10.551887512207031,
          10.6078462600708,
          9.868969917297363,
          10.695158004760742,
          14.460371971130371,
          13.243304252624512,
          13.729764938354492,
          10.484210968017578,
          8.963240623474121,
          10.788399696350098,
          8.874746322631836,
          8.588881492614746,
          8.582435607910156,
          9.686914443969727,
          11.176804542541504,
          10.668975830078125,
          10.367867469787598,
          11.106741905212402,
          12.122173309326172,
          13.09226131439209,
          11.240480422973633,
          12.02823257446289,
          9.548370361328125,
          9.693473815917969,
          8.293588638305664,
          8.29910659790039,
          11.082694053649902,
          11.27385139465332,
          11.495408058166504,
          12.540548324584961,
          12.595890998840332,
          10.737592697143555,
          10.311429977416992,
          8.68924617767334,
          9.662800788879395,
          10.412012100219727,
          12.40958309173584,
          11.18571662902832,
          8.457762718200684,
          9.093863487243652,
          9.683600425720215,
          9.885940551757812,
          12.313627243041992,
          12.413786888122559,
          13.198563575744629,
          6.79502534866333,
          11.390353202819824,
          11.188450813293457,
          12.574992179870605,
          11.066193580627441,
          11.214018821716309,
          10.659921646118164,
          11.808052062988281,
          10.840048789978027,
          10.67628002166748,
          10.515103340148926,
          11.098644256591797,
          11.14908218383789,
          10.537680625915527,
          12.551989555358887,
          15.599616050720215,
          15.336525917053223,
          15.031800270080566,
          12.42043399810791,
          15.529187202453613,
          11.065892219543457,
          10.91927719116211,
          11.570083618164062,
          11.295948028564453,
          11.475595474243164,
          11.57492733001709,
          10.734993934631348,
          10.86425495147705,
          11.61801815032959,
          11.48371410369873,
          11.513018608093262,
          11.379361152648926,
          11.482701301574707,
          10.862367630004883,
          10.952672004699707,
          11.436943054199219,
          11.267746925354004,
          11.497342109680176,
          11.269773483276367,
          11.13802433013916,
          11.412841796875,
          11.039632797241211,
          11.086429595947266,
          10.696730613708496,
          11.56767749786377,
          11.467880249023438,
          11.311573028564453,
          19.712862014770508,
          19.61347007751465,
          19.36487579345703,
          19.61975860595703,
          19.54079246520996,
          19.676145553588867,
          19.713254928588867,
          19.653461456298828,
          19.572647094726562,
          13.413738250732422,
          13.368450164794922,
          13.493818283081055,
          13.381845474243164,
          13.344575881958008,
          13.27715015411377,
          13.467301368713379,
          13.417861938476562,
          13.505229949951172,
          11.599760055541992,
          10.922138214111328,
          11.03173828125,
          10.736090660095215,
          10.71586799621582,
          10.993124008178711,
          11.263423919677734,
          11.018594741821289,
          11.083017349243164,
          -5.310907363891602,
          -5.1213178634643555,
          -5.774690628051758,
          -5.405804634094238,
          -5.53847599029541,
          -4.615250587463379,
          -4.324714183807373,
          -4.100999355316162,
          -4.896076679229736,
          -4.862308025360107,
          -4.274459362030029,
          13.029539108276367,
          13.261273384094238,
          12.497221946716309
         ],
         "xaxis": "x",
         "y": [
          8.080134391784668,
          9.7484712600708,
          11.098198890686035,
          9.019339561462402,
          8.682300567626953,
          11.314748764038086,
          9.836623191833496,
          1.4257142543792725,
          9.947872161865234,
          3.186638593673706,
          10.622772216796875,
          10.706929206848145,
          11.781005859375,
          10.219491958618164,
          9.096866607666016,
          10.764585494995117,
          10.671758651733398,
          9.616167068481445,
          2.149219512939453,
          5.903725624084473,
          9.237540245056152,
          8.737277030944824,
          5.472101211547852,
          9.615402221679688,
          10.202458381652832,
          1.4530099630355835,
          1.1385083198547363,
          5.85010290145874,
          9.254056930541992,
          10.460884094238281,
          11.41610050201416,
          11.472967147827148,
          10.818964958190918,
          10.377166748046875,
          6.6120805740356445,
          10.592424392700195,
          5.6971259117126465,
          7.353081226348877,
          10.83631420135498,
          8.212662696838379,
          9.813600540161133,
          10.693115234375,
          10.812506675720215,
          10.0452299118042,
          9.478094100952148,
          7.387356281280518,
          6.176806449890137,
          6.718535900115967,
          5.182942867279053,
          7.643598556518555,
          5.992385387420654,
          9.563371658325195,
          4.210693359375,
          7.312576770782471,
          4.5802788734436035,
          8.783699989318848,
          6.952670574188232,
          8.1953763961792,
          7.32457160949707,
          10.406758308410645,
          10.579601287841797,
          10.737698554992676,
          11.460933685302734,
          10.829486846923828,
          10.731051445007324,
          10.48309326171875,
          10.108349800109863,
          11.237125396728516,
          9.66901969909668,
          4.964935779571533,
          7.4652934074401855,
          1.2822514772415161,
          7.608282566070557,
          4.125889301300049,
          3.310088872909546,
          3.9855875968933105,
          4.079277038574219,
          8.811930656433105,
          10.243538856506348,
          9.107927322387695,
          3.37898588180542,
          9.138057708740234,
          11.708178520202637,
          2.835130214691162,
          4.270262718200684,
          8.790532112121582,
          9.01032829284668,
          9.055569648742676,
          8.071602821350098,
          2.6982262134552,
          10.807104110717773,
          10.737872123718262,
          11.48420524597168,
          11.05217170715332,
          10.938435554504395,
          10.835610389709473,
          11.39750862121582,
          11.146005630493164,
          11.161800384521484,
          11.464364051818848,
          3.2363100051879883,
          8.974594116210938,
          3.6499366760253906,
          3.612090826034546,
          9.580330848693848,
          4.18080472946167,
          8.37851619720459,
          2.853987216949463,
          14.370214462280273,
          8.773541450500488,
          9.878886222839355,
          8.793315887451172,
          9.848320007324219,
          9.72926139831543,
          9.504107475280762,
          8.148259162902832,
          8.980022430419922,
          9.035174369812012,
          9.814193725585938,
          9.989834785461426,
          3.045933485031128,
          3.819202184677124,
          7.862878322601318,
          8.196894645690918,
          3.4290313720703125,
          10.30414867401123,
          2.022813558578491,
          1.8559390306472778,
          9.961012840270996,
          9.664617538452148,
          10.426054954528809,
          7.020877361297607,
          8.451106071472168,
          7.82818078994751,
          9.372011184692383,
          5.548568248748779,
          5.663515567779541,
          5.759261608123779,
          8.332488059997559,
          10.015650749206543,
          8.39100456237793,
          5.216904163360596,
          7.900577068328857,
          7.657998561859131,
          8.755878448486328,
          3.8046412467956543,
          9.267003059387207,
          3.0906832218170166,
          5.215394973754883,
          8.238709449768066,
          9.105559349060059,
          4.103848934173584,
          3.23333740234375,
          3.5118117332458496,
          3.3981919288635254,
          9.107233047485352,
          8.3598051071167,
          5.561208724975586,
          7.266435623168945,
          6.891390323638916,
          5.356076717376709,
          8.762907028198242,
          9.675836563110352,
          8.944952011108398,
          9.016541481018066,
          9.077676773071289,
          8.677260398864746,
          9.749466896057129,
          9.62746810913086,
          9.798770904541016,
          9.756455421447754,
          4.283262252807617,
          2.1210765838623047,
          4.888114929199219,
          8.014628410339355,
          3.771021604537964,
          3.6591720581054688,
          4.707874774932861,
          4.4975361824035645,
          10.031293869018555,
          7.4015421867370605,
          7.134376049041748,
          11.214380264282227,
          10.822443008422852,
          7.605438709259033,
          7.004026412963867,
          3.6368725299835205,
          4.49624490737915,
          6.760260105133057,
          8.227802276611328,
          4.553309917449951,
          3.537010669708252,
          3.9466874599456787,
          4.048623561859131,
          6.395580291748047,
          7.558506011962891,
          7.7218780517578125,
          4.873435974121094,
          3.54095196723938,
          6.8254008293151855,
          6.771657466888428,
          7.078611373901367,
          7.523860454559326,
          7.0944390296936035,
          7.171905040740967,
          5.750929355621338,
          6.883213996887207,
          6.564539909362793,
          6.513897895812988,
          7.201215744018555,
          10.080233573913574,
          7.314991474151611,
          9.150613784790039,
          9.608894348144531,
          9.460741996765137,
          8.866560935974121,
          8.057052612304688,
          9.785591125488281,
          15.900891304016113,
          17.373979568481445,
          15.079166412353516,
          15.792520523071289,
          16.339954376220703,
          16.828750610351562,
          17.65733528137207,
          16.183717727661133,
          16.86543083190918,
          15.273378372192383,
          16.156139373779297,
          16.3641300201416,
          16.673892974853516,
          17.606731414794922,
          17.28977394104004,
          16.873950958251953,
          15.482728958129883,
          15.255048751831055,
          16.739587783813477,
          17.395662307739258,
          16.219602584838867,
          17.667869567871094,
          15.795384407043457,
          17.63694190979004,
          15.55672836303711,
          15.70229434967041,
          16.99771499633789,
          2.5850841999053955,
          2.4239773750305176,
          2.020641565322876,
          2.3115346431732178,
          2.6679999828338623,
          2.367845058441162,
          2.4377331733703613,
          2.5254480838775635,
          2.2922067642211914,
          13.23351001739502,
          12.98160171508789,
          13.356863021850586,
          13.034712791442871,
          12.790555000305176,
          12.667994499206543,
          13.225980758666992,
          13.414215087890625,
          13.080057144165039,
          16.691911697387695,
          16.07474708557129,
          16.31119728088379,
          17.68958854675293,
          17.763355255126953,
          17.514070510864258,
          16.952795028686523,
          16.772735595703125,
          17.344200134277344,
          7.795525550842285,
          7.805239677429199,
          7.035064697265625,
          8.156307220458984,
          7.557706832885742,
          8.179635047912598,
          8.473387718200684,
          8.290271759033203,
          8.29783821105957,
          8.48210620880127,
          8.468803405761719,
          7.191064834594727,
          7.496461391448975,
          6.138343334197998
         ],
         "yaxis": "y"
        },
        {
         "customdata": [
          [
           5,
           "72497_1x_BD7_01_17434",
           "melon, galia",
           2006,
           "Fruits & Berries"
          ],
          [
           6,
           "72500_1x_BG3_01_17471",
           "apple sauce, organic",
           2199,
           "Fruits & Berries"
          ],
          [
           7,
           "72504_1x_BH8_01_17502",
           "turkish fig",
           2376,
           "Fruits & Berries"
          ],
          [
           11,
           "72540_1x_BB8_01_17404",
           "watermelon (spilled a bit of EtOH)",
           2155,
           "Fruits & Berries"
          ],
          [
           12,
           "72657_1x_BE5_01_17445",
           "bartlett pear",
           2169,
           "Fruits & Berries"
          ],
          [
           13,
           "72662_1x_BB3_01_17399",
           "Dark morello cherry (preserved in \"light syrup\")",
           2124,
           "Fruits & Berries"
          ],
          [
           14,
           "72665_5x_RD5_01_17476",
           "cherry, farmer's market",
           1717,
           "Fruits & Berries"
          ],
          [
           15,
           "72666_1x_BC5_01_17414",
           "apricot, farmer's market",
           2036,
           "Fruits & Berries"
          ],
          [
           17,
           "72673_1x_BE7_01_17447",
           "Orange Peel",
           2337,
           "Fruits & Berries"
          ],
          [
           18,
           "72674_1x_BG4_01_17472",
           "Orange fruit",
           2181,
           "Fruits & Berries"
          ],
          [
           24,
           "73471_1x_rerun_BA4_01_21391",
           "apple cider vinegar",
           1671,
           "Fruits & Berries"
          ],
          [
           26,
           "73492_1x_BF3_01_21384",
           "kombucha, homemade 2ndary fruit ferment, red fruit",
           1637,
           "Fruits & Berries"
          ],
          [
           27,
           "73495_1x_BC3_01_20735",
           "kombucha, homemade 2ndary fruit ferment, mango",
           1482,
           "Fruits & Berries"
          ],
          [
           35,
           "73730_1x_BB9_01_17405",
           "mango",
           2027,
           "Fruits & Berries"
          ],
          [
           39,
           "73980_1x_BB10_01_17406",
           "fig",
           2126,
           "Fruits & Berries"
          ],
          [
           41,
           "73989_5x_RH6_01_17500",
           "blueberry",
           1643,
           "Fruits & Berries"
          ],
          [
           46,
           "74003_1x_BA2_01_17385",
           "strawberry, self picked from field, washed and refrigerated",
           2014,
           "Fruits & Berries"
          ],
          [
           48,
           "74009_5x_RC2_01_17411",
           "strawberry, self picked from field, same day, not washed",
           1703,
           "Fruits & Berries"
          ],
          [
           50,
           "74012_1x_BE2_01_17442",
           "apple from apple danish",
           2018,
           "Fruits & Berries"
          ],
          [
           51,
           "74014_5x_RH2_01_17496",
           "cherry from cherry danish",
           1705,
           "Fruits & Berries"
          ],
          [
           56,
           "74027_1x_BC12_01_17421",
           "strawberry",
           2177,
           "Fruits & Berries"
          ],
          [
           57,
           "74028_1x_BE11_01_17451",
           "strawberry",
           2147,
           "Fruits & Berries"
          ],
          [
           67,
           "74093_1x_BC2_01_20734",
           "apple kombucha (?)",
           1519,
           "Fruits & Berries"
          ],
          [
           70,
           "75072_1x_BE9_01_17449",
           "orchard view cherry",
           2054,
           "Fruits & Berries"
          ],
          [
           71,
           "75077_5x_RC11_01_17425",
           "blueberry",
           2063,
           "Fruits & Berries"
          ],
          [
           85,
           "75238_1x_BH4_01_20778",
           "bai sparkling antioxidant infusion - peru pineapple",
           1598,
           "Fruits & Berries"
          ],
          [
           86,
           "75259_1x_BC7_01_20739",
           "Jarritos fruit punch flavor",
           1522,
           "Fruits & Berries"
          ],
          [
           87,
           "75260_1x_BD7_01_20747",
           "Jarritos Mango Flavor",
           1453,
           "Fruits & Berries"
          ],
          [
           94,
           "78808_5x_RE12_01_17452",
           "Garden Blueberry",
           1784,
           "Fruits & Berries"
          ],
          [
           101,
           "78850_1x_BH6_01_20780",
           "Balsamic vinegar cherry wood aged napa valley naturals",
           1705,
           "Fruits & Berries"
          ],
          [
           135,
           "G72441_1x_BA6_01_17274",
           "lemon peel",
           2443,
           "Fruits & Berries"
          ],
          [
           151,
           "G72465_10x_BH7_01_17935",
           "baby food, gerber rice and banana apple cereal mix",
           1873,
           "Fruits & Berries"
          ],
          [
           153,
           "G72468_p1_c8_GC8_01_21933",
           "Turkish delight, pomegranate with pistachios",
           1848,
           "Fruits & Berries"
          ],
          [
           154,
           "G72469_10x_BD8_01_17829",
           "baby food, Gerber pear pineapple",
           2122,
           "Fruits & Berries"
          ],
          [
           161,
           "G72482_BG3_01_19035",
           "blackberry jam",
           2039,
           "Fruits & Berries"
          ],
          [
           166,
           "G72492_1x_BH6_01_17350",
           "raspberry",
           2179,
           "Fruits & Berries"
          ],
          [
           176,
           "G72517_10x_BH10_01_17938",
           "pineapple",
           2133,
           "Fruits & Berries"
          ],
          [
           178,
           "G72521_10x_BH12_01_17940",
           "banana",
           1809,
           "Fruits & Berries"
          ],
          [
           190,
           "G72659_BH3_01_19050",
           "red raspberry preserves",
           2085,
           "Fruits & Berries"
          ],
          [
           209,
           "G72722_rerun_BD5_01_19083",
           "strawberry preserves",
           2139,
           "Fruits & Berries"
          ],
          [
           215,
           "G72740_10x_BA2_01_17864",
           "lemon with peel",
           2061,
           "Fruits & Berries"
          ],
          [
           217,
           "G72742_10x_BE5_01_17838",
           "peel of seedless mandarin fruit",
           2234,
           "Fruits & Berries"
          ],
          [
           228,
           "G72758_BE7_01_19009",
           "blenham apricot",
           2251,
           "Fruits & Berries"
          ],
          [
           238,
           "G72772_1x_RF2_01_20334",
           "pineapple from JG potluck",
           1480,
           "Fruits & Berries"
          ],
          [
           268,
           "G72837_1x_RG2_01_18580",
           "fig balsamic",
           2234,
           "Fruits & Berries"
          ],
          [
           271,
           "G73436_1x_BF4_01_17322",
           "lemon peel",
           2273,
           "Fruits & Berries"
          ],
          [
           272,
           "G73438_1x_BD4_01_17296",
           "ground cherry",
           2263,
           "Fruits & Berries"
          ],
          [
           273,
           "G73439_1x_BC4_01_17283",
           "apple",
           1974,
           "Fruits & Berries"
          ],
          [
           278,
           "G73446_1x_BG7_01_17338",
           "blood orange",
           2309,
           "Fruits & Berries"
          ],
          [
           282,
           "G73451_1x_BB5_01_17262",
           "blood orange peel",
           2216,
           "Fruits & Berries"
          ],
          [
           286,
           "G73458_2x_RH10_01_19429",
           "apricot; raw; organic",
           2055,
           "Fruits & Berries"
          ],
          [
           292,
           "G73470_1x_10ul_RA8_01_19788",
           "lemon ginger echinachea",
           2097,
           "Fruits & Berries"
          ],
          [
           297,
           "G73482_1x_10ul_RG5_01_19897",
           "honest kids super fruit punch",
           2027,
           "Fruits & Berries"
          ],
          [
           299,
           "G73486_1x_10ul_RD4_01_19861",
           "watermelon rosemary agua fresca",
           2363,
           "Fruits & Berries"
          ],
          [
           304,
           "G73520_1x_RH11_01_18605",
           "Pumpkin ale grain mixture, liquid extract",
           2292,
           "Fruits & Berries"
          ],
          [
           305,
           "G73522_1x_RF6_01_18571",
           "white peach kombucha - origonic tonic",
           2021,
           "Fruits & Berries"
          ],
          [
           307,
           "G73524_1x_RG7_01_18584",
           "hibiscus blood orange kombucha - origonic tonic",
           2033,
           "Fruits & Berries"
          ],
          [
           332,
           "G73696_1x_RF4_01_18870",
           "banana chips",
           1567,
           "Fruits & Berries"
          ],
          [
           354,
           "G73942_1x_BD12_01_17303",
           "strawberry",
           2091,
           "Fruits & Berries"
          ],
          [
           362,
           "G73965_2x_2ul_RD10_01_19442",
           "plum spread",
           2085,
           "Fruits & Berries"
          ],
          [
           385,
           "G74033_1x_RH4_01_18596",
           "humm kombucha coconut lime",
           2047,
           "Fruits & Berries"
          ],
          [
           399,
           "G74082_1x_RD5_01_18542",
           "pear brandy julischka (25%alc/vol)",
           2054,
           "Fruits & Berries"
          ],
          [
           440,
           "G75168_1x_RC6_01_18817",
           "blueberry",
           2082,
           "Fruits & Berries"
          ],
          [
           446,
           "G75179_5x_RB2_01_17259",
           "blueberry",
           1886,
           "Fruits & Berries"
          ],
          [
           454,
           "G75198_1x_BC10_01_17288",
           "orange thyme",
           2202,
           "Fruits & Berries"
          ],
          [
           455,
           "G75199_1x_BB10_01_17266",
           "pineapple sage",
           2221,
           "Fruits & Berries"
          ],
          [
           458,
           "G75207_1x_BG8_01_17339",
           "strawberry guava",
           2135,
           "Fruits & Berries"
          ],
          [
           476,
           "G75570_1x_RD11_01_18843",
           "papaya salad",
           1862,
           "Fruits & Berries"
          ],
          [
           487,
           "G75591_1x_RD4_01_18829",
           "mango ",
           2063,
           "Fruits & Berries"
          ],
          [
           494,
           "G75620_BD8_01_18996",
           "strawberry topping",
           2240,
           "Fruits & Berries"
          ],
          [
           498,
           "G75624_BE4_01_19005",
           "fruit preserve, cherry",
           2155,
           "Fruits & Berries"
          ],
          [
           504,
           "G75637_1x_RG6_01_18886",
           "blackberry",
           2090,
           "Fruits & Berries"
          ],
          [
           506,
           "G75649_RH10_01_17787",
           "cranberry beans",
           2155,
           "Fruits & Berries"
          ],
          [
           531,
           "G75704_1x_RC4_01_18815",
           "fig",
           1999,
           "Fruits & Berries"
          ],
          [
           550,
           "G75760_1x_RF8_01_18573",
           "blueberry kombucha",
           2142,
           "Fruits & Berries"
          ],
          [
           553,
           "G75764_1x_RG10_01_18587",
           "apple cider vinegar w/ mother",
           2141,
           "Fruits & Berries"
          ],
          [
           555,
           "G75769_1x_10_RA9_01_18507",
           "blueberry kombucha (homemade)",
           2207,
           "Fruits & Berries"
          ],
          [
           565,
           "G75824_5x_4ul_BE3_01_19720",
           "lychee black",
           1564,
           "Fruits & Berries"
          ],
          [
           566,
           "G75825_5x_2ul_BB3_01_19648",
           "vanilla peach apricot",
           1843,
           "Fruits & Berries"
          ],
          [
           567,
           "G75826_5x_BA3_01_19609",
           "Strawberry Sencha",
           2092,
           "Fruits & Berries"
          ],
          [
           569,
           "G75853_5x_2ul_BB7_01_19653",
           "Pear & Pomegranate",
           1928,
           "Fruits & Berries"
          ],
          [
           577,
           "G78824_2x_RC4_01_19128",
           "apple sauce",
           2001,
           "Fruits & Berries"
          ],
          [
           604,
           "G78920_RB3_01_17538",
           "pumpkin seeds",
           1989,
           "Fruits & Berries"
          ],
          [
           631,
           "G78975_1x_RG5_01_18885",
           "mango",
           2144,
           "Fruits & Berries"
          ],
          [
           633,
           "G78978_5x_RD7_01_20179",
           "Strawberry jam",
           1948,
           "Fruits & Berries"
          ],
          [
           636,
           "G78982_1x_RF7_01_18968",
           "Frederick (purple) passion fruit",
           2030,
           "Fruits & Berries"
          ],
          [
           655,
           "G79186_1x_5ul_RD6_01_20306",
           "strawberry guava",
           1969,
           "Fruits & Berries"
          ],
          [
           656,
           "G79187_1x_RH5_01_20362",
           "lemon guava",
           1828,
           "Fruits & Berries"
          ],
          [
           664,
           "G79209_1x_RF3_01_18869",
           "bartlett pear",
           2019,
           "Fruits & Berries"
          ],
          [
           691,
           "G79263_5x_RC11_01_20168",
           "homemade fig jam",
           2094,
           "Fruits & Berries"
          ],
          [
           700,
           "G79275_1x_RB5_01_18802",
           "peach",
           1988,
           "Fruits & Berries"
          ],
          [
           701,
           "G79276_1x_RG8_01_20353",
           "grape, red",
           1849,
           "Fruits & Berries"
          ],
          [
           702,
           "G79277_1x_RD8_01_20308",
           "black mission fig, dried",
           1872,
           "Fruits & Berries"
          ],
          [
           707,
           "G79290_1x_RA7_01_20372",
           "strawberry",
           1850,
           "Fruits & Berries"
          ],
          [
           708,
           "G79291_1x_RG7_01_20352",
           "pear, I think bartlett",
           1775,
           "Fruits & Berries"
          ],
          [
           713,
           "G79304_1x_RC8_01_18820",
           "baby food mashed banana",
           1968,
           "Fruits & Berries"
          ],
          [
           717,
           "G79308_1x_RC11_01_18823",
           "lime leaf",
           2282,
           "Fruits & Berries"
          ],
          [
           746,
           "G79509_1x_RD9_01_20309",
           "fruit chop - papaya",
           2032,
           "Fruits & Berries"
          ],
          [
           747,
           "G79510_1x_RE9_01_20326",
           "fruit chop - honeydew",
           1651,
           "Fruits & Berries"
          ],
          [
           748,
           "G79511_1x_RE8_01_20325",
           "fruit chop - apple red delicious",
           1920,
           "Fruits & Berries"
          ],
          [
           774,
           "G79624_5x_BH4_01_18895",
           "polluted orange outer skin, washed (unexposed to air)",
           2142,
           "Fruits & Berries"
          ],
          [
           775,
           "G79625_1x_RH6_01_18974",
           "polluted orange outer skin (exposed to air)",
           2399,
           "Fruits & Berries"
          ],
          [
           778,
           "G79633_1x_RH5_01_18972",
           "polluted orange outer skin, washed (exposed to air)",
           2244,
           "Fruits & Berries"
          ],
          [
           779,
           "G79634_5x_BH7_01_18896",
           "polluted leaf of orange",
           2109,
           "Fruits & Berries"
          ],
          [
           780,
           "G79635_1x_RH8_01_18958",
           "mold of outer skin of polluted orange",
           2335,
           "Fruits & Berries"
          ],
          [
           781,
           "G79636_1x_RH10_01_18962",
           "polluted grapefruit inner piece proximal to pollution on outer skin",
           2110,
           "Fruits & Berries"
          ],
          [
           782,
           "G79637_1x_RH11_01_18964",
           "polluted grapefruit outer skin, washed, unexposed to air",
           2415,
           "Fruits & Berries"
          ],
          [
           783,
           "G79638_1x_RH9_01_18960",
           "polluted grapefruit outer skin, washed, exposed to air",
           2311,
           "Fruits & Berries"
          ],
          [
           784,
           "G79639_5x_BH3_01_18894",
           "polluted grapefruit outer skin, unwashed, exposed to air",
           1998,
           "Fruits & Berries"
          ],
          [
           785,
           "G79640_1x_RH12_01_18966",
           "polluted orange inner piece (proximal to pollution on outer skin)",
           2269,
           "Fruits & Berries"
          ],
          [
           786,
           "G79641_1x_RD2_01_18827",
           "banana from Jimbos",
           2128,
           "Fruits & Berries"
          ],
          [
           788,
           "G79659_5x_BE9_01_20012",
           "fruit blend flavor parrots & conures ML 66",
           1858,
           "Fruits & Berries"
          ],
          [
           789,
           "G79660_5x_BF9_01_20028",
           "fruit blend flavor medium birds cockatiel 65",
           1931,
           "Fruits & Berries"
          ],
          [
           790,
           "G79661_5x_BH9_01_20064",
           "fruit blend flavor large birds (macaw) 67",
           1926,
           "Fruits & Berries"
          ],
          [
           791,
           "G79666_1x_RA5_01_20561",
           "dried lemon",
           2009,
           "Fruits & Berries"
          ],
          [
           816,
           "G79716_5x_BC4_01_19695",
           "apricot decaf black",
           1911,
           "Fruits & Berries"
          ],
          [
           821,
           "G79735_1x_RE4_01_20321",
           "large lime",
           2036,
           "Fruits & Berries"
          ],
          [
           822,
           "G79736_1x_10ul_RD4_01_20304",
           "mini lime",
           2079,
           "Fruits & Berries"
          ],
          [
           835,
           "G83200_1x_RE4_01_21816",
           "Twizzlers pull 'n' peel, cherry flavor",
           1451,
           "Fruits & Berries"
          ],
          [
           844,
           "G83227_1x_RC11_01_20299",
           "bartlett pear",
           1714,
           "Fruits & Berries"
          ],
          [
           855,
           "G83245_1x_RE11_01_20328",
           "raspberry",
           1731,
           "Fruits & Berries"
          ],
          [
           860,
           "G83250_1x_RE7_01_21822",
           "Tootsie Lime fruit chew",
           1242,
           "Fruits & Berries"
          ],
          [
           863,
           "G83302_5x_RA5_01_21403",
           "calcium carbonate (date on bag in image says 8/29/17)",
           1587,
           "Fruits & Berries"
          ],
          [
           876,
           "G83324_1x_RA4_01_21725",
           "Twizzlers Twists Strawberry",
           1524,
           "Fruits & Berries"
          ],
          [
           879,
           "G83328_1x_RG3_01_21841",
           "Strawberry Nerds",
           1609,
           "Fruits & Berries"
          ],
          [
           890,
           "G83356_1x_BF10_01_21902",
           "compleat pediatric, nutritional complete tube feeding, includes a variety of real food ingredients, Expiration date use by 2017-12-16",
           1425,
           "Fruits & Berries"
          ],
          [
           897,
           "G83363_1x_BE11_01_21895",
           "Peptide 1.5Cal per ml, vanilla flavor, Expiration date 2017-09-01",
           1564,
           "Fruits & Berries"
          ],
          [
           898,
           "G83364_1x_BF11_01_21903",
           "PediasSure, peptide 1Cal per ml, strawberry flavor, expiration date 9/17",
           1633,
           "Fruits & Berries"
          ],
          [
           901,
           "G83370_1x_BG11_01_21907",
           "neocate Jr. Strawberry",
           1449,
           "Fruits & Berries"
          ],
          [
           902,
           "G83385_5x_RH9_01_21518",
           "cactus pear ice",
           1701,
           "Fruits & Berries"
          ],
          [
           904,
           "G83387_5x_RB9_01_21413",
           "cassis pate de fruit",
           1965,
           "Fruits & Berries"
          ],
          [
           917,
           "G83408_1x_RA9_01_21737",
           "Smartie (coral orange)",
           1286,
           "Fruits & Berries"
          ],
          [
           920,
           "G83414_1x_RB7_01_21744",
           "Tootsie cherry fruit chew",
           1585,
           "Fruits & Berries"
          ],
          [
           931,
           "G83455_1x_RH6_01_21857",
           "Charms Blow pop - outside (black cherry)",
           1679,
           "Fruits & Berries"
          ],
          [
           932,
           "G83456_1x_RD6_01_21769",
           "Charms Blow pop - gum (black cherry)",
           1526,
           "Fruits & Berries"
          ],
          [
           933,
           "G83457_1x_RD4_01_23328",
           "pear, inside only",
           1185,
           "Fruits & Berries"
          ],
          [
           940,
           "G86704_1x_RF6_01_21832",
           "Laffy Taffy Cherry",
           1820,
           "Fruits & Berries"
          ],
          [
           975,
           "G86775_1x_RE4_01_23346",
           "navel orange, flesh",
           1708,
           "Fruits & Berries"
          ],
          [
           981,
           "G86781_1x_RE12_01_23354",
           "navel orange, peel",
           1819,
           "Fruits & Berries"
          ],
          [
           983,
           "G86783_1x_RG9_01_23382",
           "organic banana raw",
           1736,
           "Fruits & Berries"
          ],
          [
           993,
           "G86796_1x_RH4_01_23392",
           "fuyu persimmon peel, organic, not rinsed, whole foods la jolla",
           1840,
           "Fruits & Berries"
          ],
          [
           994,
           "G86802_1x_RH10_01_23387",
           "blueberry",
           1703,
           "Fruits & Berries"
          ],
          [
           1001,
           "G86815_10x_BE8_01_23351",
           "cranberry sauce",
           1158,
           "Fruits & Berries"
          ],
          [
           1029,
           "G86871_1x_2ul_RG8_01_23444",
           "frozen organic wild blueberry",
           1643,
           "Fruits & Berries"
          ],
          [
           1045,
           "G86897_1x_RF12_01_23369",
           "Pineapple (Monday Meeting)",
           1485,
           "Fruits & Berries"
          ],
          [
           1046,
           "G86898_1x_RF2_01_23359",
           "Strawberry (Monday Meeting)",
           2096,
           "Fruits & Berries"
          ],
          [
           1047,
           "G86899_1x_RF1_01_23358",
           "Cantaloupe Melon (Orange, Monday Meeting)",
           1957,
           "Fruits & Berries"
          ],
          [
           1048,
           "G86900_1x_RE11_01_23353",
           "Honeydew Melon (Green, Monday Meeting)",
           1262,
           "Fruits & Berries"
          ],
          [
           1051,
           "G86903_1x_RE12_01_26304",
           "outside of fig macaroon",
           1572,
           "Fruits & Berries"
          ],
          [
           1052,
           "G86906_1x_RA12_01_26236",
           "filling of lemon macaroon",
           1353,
           "Fruits & Berries"
          ],
          [
           1054,
           "G86909_1x_RB2_01_26242",
           "strawberry",
           1640,
           "Fruits & Berries"
          ],
          [
           1055,
           "G86913_1x_RH12_01_26352",
           "Truth Bar (Raspberry)",
           1951,
           "Fruits & Berries"
          ],
          [
           1086,
           "G86969_1x_RG9_01_26462",
           "HM blueberry kombucha; just opened- long 2ndary ferment",
           1671,
           "Fruits & Berries"
          ],
          [
           1097,
           "G87314_RB8_01_26089",
           "Extra fig jam from Puglia",
           1661,
           "Fruits & Berries"
          ],
          [
           1116,
           "G87364_1x_BA6_01_25986",
           "pineapple dried",
           1486,
           "Fruits & Berries"
          ],
          [
           1127,
           "G87401_RC3_01_26098",
           "pomegranate",
           1685,
           "Fruits & Berries"
          ],
          [
           1128,
           "G87402_RC5_01_26100",
           "Navel orange",
           1788,
           "Fruits & Berries"
          ],
          [
           1131,
           "G87406_RC6_01_26101",
           "Pachino cherry tomatoes IGP",
           1924,
           "Fruits & Berries"
          ],
          [
           1147,
           "G87438_1x_BB4_01_25998",
           "extra strawberry jam",
           1462,
           "Fruits & Berries"
          ],
          [
           1162,
           "G87461_1x_RC7_01_26264",
           "banana from jimbos organic (purchased 1/16/18)",
           1391,
           "Fruits & Berries"
          ],
          [
           1166,
           "G87466_1x_RA5_01_26224",
           "conventional grapefruit peel, washed",
           2215,
           "Fruits & Berries"
          ],
          [
           1168,
           "G87468_1x_RE3_01_26290",
           "organic grapefruit peel: washed (Jimbos)",
           2057,
           "Fruits & Berries"
          ],
          [
           1170,
           "G87470_1x_RH2_01_26341",
           "meyer lemon peel only; Organic, USA; washed; (Jimbos)",
           2000,
           "Fruits & Berries"
          ],
          [
           1174,
           "G87481_1x_RE5_01_26296",
           "meyer lemon peel only Organic, USA (Jimbos)",
           1880,
           "Fruits & Berries"
          ],
          [
           1175,
           "G87482_1x_RD5_01_26276",
           "organic grapefruit; peel only USA(Jimbos)",
           1890,
           "Fruits & Berries"
          ],
          [
           1176,
           "G87483_1x_RA6_01_26226",
           "conventional grapefruit; peel only (Trader Joes)",
           1936,
           "Fruits & Berries"
          ],
          [
           1180,
           "G87491_1x_BG10_01_26642",
           "calcium hydroxide (lime paste)",
           1246,
           "Fruits & Berries"
          ],
          [
           1181,
           "G87492_1x_BH10_01_26659",
           "betel nut with calcium hydroxide (lime paste)",
           1413,
           "Fruits & Berries"
          ],
          [
           1182,
           "G87494_1x_RH4_01_26343",
           "blueberry",
           1723,
           "Fruits & Berries"
          ],
          [
           1185,
           "G87501_1x_10ul_RC2_01_26517",
           "mango passionfruit; Trader Joe's",
           1765,
           "Fruits & Berries"
          ],
          [
           1196,
           "G87530_1x_RE6_01_26297",
           "polluted orange flesh",
           1717,
           "Fruits & Berries"
          ],
          [
           1197,
           "G87531_1x_RE7_01_26299",
           "clean polluted orange peel",
           1768,
           "Fruits & Berries"
          ],
          [
           1198,
           "G87532_1x_RD6_01_26277",
           "polluted orange peel",
           1734,
           "Fruits & Berries"
          ],
          [
           1199,
           "G87533_1x_RG5_01_26326",
           "polluted lemon flesh",
           1592,
           "Fruits & Berries"
          ],
          [
           1200,
           "G87534_1x_RC2_01_26258",
           "unripe polluted lemon peel",
           2141,
           "Fruits & Berries"
          ],
          [
           1201,
           "G87535_1x_RB4_01_26245",
           "ripe polluted lemon peel",
           2090,
           "Fruits & Berries"
          ],
          [
           1204,
           "G87538_1x_RG3_01_26324",
           "flesh polluted grapefruit",
           1814,
           "Fruits & Berries"
          ],
          [
           1205,
           "G87539_1x_RB3_01_26244",
           "polluted grapefruit peel",
           2079,
           "Fruits & Berries"
          ],
          [
           1211,
           "G87547_1x_RF9_01_26316",
           "navel orange peel; white part/pith; from whole foods; conventional",
           1778,
           "Fruits & Berries"
          ],
          [
           1212,
           "G87548_1x_RC10_01_26267",
           "peel of navel conventional orange form whole foods",
           2028,
           "Fruits & Berries"
          ],
          [
           1215,
           "G87552_1x_RA8_01_26228",
           "thai tamarind with plum",
           1789,
           "Fruits & Berries"
          ],
          [
           1217,
           "G87554_1x_RD8_01_26280",
           "organic lime peel",
           1969,
           "Fruits & Berries"
          ],
          [
           1218,
           "G87555_1x_RH8_01_26348",
           "lime flesh",
           2012,
           "Fruits & Berries"
          ],
          [
           1221,
           "G87558_1x_RG8_01_26330",
           "mineola orange flesh",
           1878,
           "Fruits & Berries"
          ],
          [
           1222,
           "G87561_1x_BD10_01_26588",
           "cranberry almond bar",
           1892,
           "Fruits & Berries"
          ],
          [
           1225,
           "G87566_1x_BE9_01_26598",
           "fruit and salted nut bar, top",
           1833,
           "Fruits & Berries"
          ],
          [
           1229,
           "G87576_1x_BG8_01_26638",
           "strawberry",
           1901,
           "Fruits & Berries"
          ],
          [
           1236,
           "G87594_1x_RF10_01_26317",
           "flesh of conventional navel orange from whole foods la jolla",
           1919,
           "Fruits & Berries"
          ],
          [
           1245,
           "G90222_1x_BE7_01_26596",
           "kiwi ripe",
           1639,
           "Fruits & Berries"
          ],
          [
           1246,
           "G90223_1x_BB7_01_26560",
           "cranberry",
           1896,
           "Fruits & Berries"
          ],
          [
           1822,
           "RA12_RA12_01_49065",
           "pear.A",
           2506,
           "Fruits & Berries"
          ],
          [
           1826,
           "RA5_RA5_01_49053",
           "walnut.peach",
           2521,
           "Fruits & Berries"
          ],
          [
           1827,
           "RA6_RA6_01_49058",
           "lemon",
           2547,
           "Fruits & Berries"
          ],
          [
           1830,
           "RA9_RA9_01_49061",
           "pumpkin.blossoms.courgette.flowers",
           2478,
           "Fruits & Berries"
          ],
          [
           1832,
           "RB2_RB2_01_49067",
           "pear.B",
           2504,
           "Fruits & Berries"
          ],
          [
           1849,
           "RE5_RE5_01_49109",
           "blueberry, small, whole, ripe",
           2512,
           "Fruits & Berries"
          ]
         ],
         "hovertemplate": "color=Fruits & Berries<br>x=%{x}<br>y=%{y}<br>hover_data_0=%{customdata[0]}<br>hover_data_1=%{customdata[1]}<br>hover_data_2=%{customdata[2]}<br>hover_data_3=%{customdata[3]}<br>hover_data_4=%{customdata[4]}<extra></extra>",
         "legendgroup": "Fruits & Berries",
         "marker": {
          "color": "#6A76FC",
          "symbol": "circle"
         },
         "mode": "markers",
         "name": "Fruits & Berries",
         "showlegend": true,
         "type": "scattergl",
         "x": [
          12.444402694702148,
          13.551024436950684,
          14.561920166015625,
          13.12330436706543,
          12.528512954711914,
          13.079397201538086,
          14.450920104980469,
          11.700953483581543,
          12.003186225891113,
          14.23855972290039,
          9.516056060791016,
          9.93284797668457,
          7.673918724060059,
          13.471614837646484,
          13.13606071472168,
          13.475547790527344,
          12.814889907836914,
          14.122766494750977,
          13.73868465423584,
          13.501105308532715,
          13.036775588989258,
          12.602574348449707,
          7.74235200881958,
          12.921524047851562,
          14.240017890930176,
          8.407979965209961,
          7.808511257171631,
          7.875718116760254,
          12.430882453918457,
          8.8093843460083,
          12.50259780883789,
          14.94576644897461,
          14.115300178527832,
          14.618082046508789,
          15.622489929199219,
          12.538352966308594,
          12.81270980834961,
          13.20643138885498,
          17.045278549194336,
          14.209420204162598,
          13.344925880432129,
          12.359389305114746,
          11.580763816833496,
          9.277338027954102,
          18.433616638183594,
          11.998702049255371,
          14.295239448547363,
          14.669017791748047,
          12.036783218383789,
          13.928770065307617,
          13.5282564163208,
          10.809759140014648,
          15.982292175292969,
          18.291812896728516,
          18.362957000732422,
          18.185163497924805,
          18.015682220458984,
          12.199932098388672,
          13.800204277038574,
          13.047794342041016,
          18.2010440826416,
          17.840917587280273,
          11.902993202209473,
          13.838553428649902,
          14.29572868347168,
          13.581867218017578,
          10.141532897949219,
          11.730243682861328,
          12.38284969329834,
          13.54273509979248,
          17.28260612487793,
          12.737346649169922,
          14.927963256835938,
          10.77435302734375,
          18.440895080566406,
          18.146730422973633,
          18.545944213867188,
          11.38320541381836,
          8.85257339477539,
          8.726295471191406,
          8.760218620300293,
          13.50615406036377,
          14.361381530761719,
          13.75062370300293,
          10.763440132141113,
          11.044301986694336,
          9.85041332244873,
          9.865869522094727,
          12.037642478942871,
          11.048545837402344,
          13.081698417663574,
          11.056797981262207,
          9.862006187438965,
          10.297499656677246,
          10.868829727172852,
          11.605400085449219,
          12.688508033752441,
          12.240177154541016,
          8.69468879699707,
          8.827937126159668,
          10.681410789489746,
          10.741961479187012,
          10.898449897766113,
          11.687402725219727,
          10.929055213928223,
          11.729186058044434,
          12.15359878540039,
          11.708780288696289,
          11.788158416748047,
          11.424857139587402,
          13.187295913696289,
          14.742172241210938,
          14.45244312286377,
          14.930865287780762,
          10.501456260681152,
          8.635115623474121,
          11.102738380432129,
          10.897302627563477,
          12.328315734863281,
          9.624529838562012,
          8.97000789642334,
          11.115745544433594,
          11.62343978881836,
          13.12199592590332,
          10.328853607177734,
          10.935466766357422,
          12.626039505004883,
          12.724040031433105,
          11.3690185546875,
          12.283101081848145,
          11.66314697265625,
          10.999478340148926,
          11.59998607635498,
          11.817293167114258,
          10.799671173095703,
          8.847793579101562,
          12.376407623291016,
          11.089166641235352,
          11.367538452148438,
          11.58781623840332,
          11.685078620910645,
          11.680793762207031,
          8.95789623260498,
          11.754054069519043,
          9.577289581298828,
          13.038108825683594,
          13.061262130737305,
          9.456876754760742,
          12.096526145935059,
          11.249412536621094,
          11.551704406738281,
          12.541149139404297,
          8.912863731384277,
          12.749022483825684,
          11.62740707397461,
          12.34091854095459,
          12.525688171386719,
          12.522323608398438,
          11.690082550048828,
          11.03986644744873,
          10.578514099121094,
          10.49367904663086,
          11.504779815673828,
          11.006807327270508,
          10.367589950561523,
          10.267660140991211,
          9.285752296447754,
          9.971712112426758,
          11.083130836486816,
          9.253087997436523,
          10.871322631835938,
          11.27431583404541,
          10.866632461547852,
          10.734331130981445,
          11.307175636291504,
          11.225310325622559,
          10.680390357971191,
          10.490774154663086,
          11.311911582946777,
          11.775586128234863,
          11.088255882263184,
          11.031591415405273,
          12.651935577392578,
          10.947641372680664,
          10.181609153747559,
          10.511749267578125,
          12.082674026489258,
          12.168846130371094,
          10.347176551818848,
          13.551727294921875,
          -5.446796894073486,
          -5.265618801116943,
          -5.433456897735596,
          -4.965142726898193,
          -5.20341682434082,
          -4.512609481811523
         ],
         "xaxis": "x",
         "y": [
          8.683385848999023,
          10.50925064086914,
          9.881221771240234,
          9.725397109985352,
          10.550162315368652,
          10.360660552978516,
          9.887055397033691,
          10.400875091552734,
          11.91009521484375,
          9.315869331359863,
          5.428450107574463,
          5.4299702644348145,
          6.029428482055664,
          10.120677947998047,
          9.909832954406738,
          9.525479316711426,
          10.550103187561035,
          9.92632007598877,
          9.257072448730469,
          9.270263671875,
          10.47860336303711,
          10.452343940734863,
          5.91009521484375,
          10.788599014282227,
          9.390603065490723,
          5.483907222747803,
          5.999088764190674,
          6.011865139007568,
          10.200961112976074,
          5.155337333679199,
          11.433130264282227,
          7.411641597747803,
          8.534636497497559,
          8.959192276000977,
          6.526215553283691,
          10.801148414611816,
          2.6063053607940674,
          9.029244422912598,
          7.613243579864502,
          7.633859157562256,
          8.95984935760498,
          11.541605949401855,
          11.051206588745117,
          8.641688346862793,
          6.440975666046143,
          11.815994262695312,
          11.149565696716309,
          10.375330924987793,
          11.2603178024292,
          11.013978004455566,
          3.2837178707122803,
          9.172032356262207,
          1.2764784097671509,
          7.359338760375977,
          6.116026401519775,
          7.932538986206055,
          7.976594924926758,
          8.283574104309082,
          10.258482933044434,
          3.5324020385742188,
          8.2612886428833,
          7.741700649261475,
          10.361837387084961,
          11.36652660369873,
          11.820051193237305,
          11.620755195617676,
          10.455429077148438,
          8.186923027038574,
          9.405326843261719,
          9.217905044555664,
          7.651613712310791,
          10.846711158752441,
          8.796231269836426,
          8.179776191711426,
          8.223313331604004,
          7.496009826660156,
          7.965903282165527,
          4.996501445770264,
          10.505890846252441,
          10.597599029541016,
          10.492976188659668,
          8.348260879516602,
          8.066329002380371,
          10.003087997436523,
          9.633530616760254,
          8.866483688354492,
          10.29611587524414,
          10.460829734802246,
          10.618731498718262,
          8.625224113464355,
          9.6466703414917,
          9.90285873413086,
          7.869546890258789,
          10.213258743286133,
          10.065228462219238,
          8.385899543762207,
          11.395075798034668,
          5.218692302703857,
          9.173637390136719,
          9.25003433227539,
          12.214007377624512,
          12.121147155761719,
          12.27934741973877,
          9.993667602539062,
          12.010169982910156,
          10.904847145080566,
          11.889189720153809,
          11.85601806640625,
          11.588356018066406,
          11.361283302307129,
          9.207011222839355,
          6.1135172843933105,
          6.234475612640381,
          6.085478782653809,
          10.16770076751709,
          10.350467681884766,
          11.299453735351562,
          11.814470291137695,
          6.4492340087890625,
          8.766275405883789,
          9.311969757080078,
          5.841490268707275,
          5.685911655426025,
          6.600754261016846,
          7.9987688064575195,
          0.3667772114276886,
          0.4626998007297516,
          0.3276481628417969,
          0.37723973393440247,
          5.762929916381836,
          9.559600830078125,
          5.843029975891113,
          7.047240734100342,
          7.367950916290283,
          6.806065082550049,
          4.147414207458496,
          8.348913192749023,
          10.61864185333252,
          10.814454078674316,
          10.783740997314453,
          9.685790061950684,
          9.949014663696289,
          4.316816329956055,
          10.189784049987793,
          3.4204461574554443,
          10.420106887817383,
          9.881551742553711,
          4.026154041290283,
          7.624240875244141,
          7.964887619018555,
          7.678834915161133,
          7.244070529937744,
          6.335532188415527,
          6.181481838226318,
          6.802089691162109,
          7.553267002105713,
          7.69389533996582,
          6.710410118103027,
          7.387256145477295,
          7.890122890472412,
          12.117533683776855,
          12.038826942443848,
          10.981582641601562,
          10.851717948913574,
          11.957650184631348,
          11.975324630737305,
          6.358932971954346,
          6.200564861297607,
          10.357735633850098,
          7.047316074371338,
          10.645084381103516,
          11.000606536865234,
          11.042254447937012,
          10.082457542419434,
          11.49521255493164,
          11.356331825256348,
          10.851184844970703,
          11.961380004882812,
          10.153189659118652,
          10.527583122253418,
          8.497723579406738,
          11.569146156311035,
          9.412322044372559,
          10.832342147827148,
          5.688563823699951,
          5.874147415161133,
          7.202108860015869,
          9.920348167419434,
          3.248906373977661,
          8.583398818969727,
          8.304325103759766,
          8.052722930908203,
          8.447343826293945,
          7.6247944831848145,
          8.336713790893555,
          8.555813789367676
         ],
         "yaxis": "y"
        },
        {
         "customdata": [
          [
           8,
           "72507_1x_BH9_01_17503",
           "dulse, organic",
           1995,
           "Fermented & Pickled"
          ],
          [
           60,
           "74058_1x_BF2_01_21383",
           "california kimchi brine",
           2231,
           "Fermented & Pickled"
          ],
          [
           61,
           "74059_1x_BG2_01_20767",
           "silly dilly kraut brine",
           1838,
           "Fermented & Pickled"
          ],
          [
           159,
           "G72477_1x_BF2_01_19535",
           "uncooked tempeh",
           2240,
           "Fermented & Pickled"
          ],
          [
           220,
           "G72748_10x_BE4_01_17837",
           "red miso paste, vons",
           2227,
           "Fermented & Pickled"
          ],
          [
           290,
           "G73467_5x_RD6_01_19508",
           "tempeh",
           2059,
           "Fermented & Pickled"
          ],
          [
           351,
           "G73938_5x_RE2_01_19519",
           "mixed pickled veggies",
           1105,
           "Fermented & Pickled"
          ],
          [
           648,
           "G79173_5x_RD3_01_19505",
           "raw lentil tempeh",
           2135,
           "Fermented & Pickled"
          ],
          [
           792,
           "G79668_5x_RE8_01_19527",
           "white miso",
           2063,
           "Fermented & Pickled"
          ],
          [
           793,
           "G79669_1x_BF8_01_19544",
           "korean miso",
           2196,
           "Fermented & Pickled"
          ],
          [
           805,
           "G79696_5x_RE12_01_19531",
           "miso, light yellow",
           2168,
           "Fermented & Pickled"
          ],
          [
           811,
           "G79706_5x_RB12_01_19484",
           "kimchi",
           1799,
           "Fermented & Pickled"
          ],
          [
           812,
           "G79708_5x_RC11_01_19499",
           "spicy pickled vegetables, jicama",
           1944,
           "Fermented & Pickled"
          ],
          [
           820,
           "G79730_5x_10ul_RG7_01_19561",
           "Organic Traditional Red Miso - Miso Master Organic - miso paste (very brown)",
           2127,
           "Fermented & Pickled"
          ]
         ],
         "hovertemplate": "color=Fermented & Pickled<br>x=%{x}<br>y=%{y}<br>hover_data_0=%{customdata[0]}<br>hover_data_1=%{customdata[1]}<br>hover_data_2=%{customdata[2]}<br>hover_data_3=%{customdata[3]}<br>hover_data_4=%{customdata[4]}<extra></extra>",
         "legendgroup": "Fermented & Pickled",
         "marker": {
          "color": "#FED4C4",
          "symbol": "circle"
         },
         "mode": "markers",
         "name": "Fermented & Pickled",
         "showlegend": true,
         "type": "scattergl",
         "x": [
          14.145259857177734,
          12.662572860717773,
          10.175878524780273,
          12.52114200592041,
          11.386516571044922,
          11.871752738952637,
          11.247787475585938,
          14.20606803894043,
          11.184785842895508,
          11.758544921875,
          11.484210968017578,
          10.486010551452637,
          10.619185447692871,
          11.220720291137695
         ],
         "xaxis": "x",
         "y": [
          6.465315818786621,
          5.399005889892578,
          3.992732286453247,
          2.4590280055999756,
          1.932151436805725,
          4.540266990661621,
          5.656862735748291,
          7.4918646812438965,
          2.1814730167388916,
          2.210736036300659,
          2.020508050918579,
          3.60390043258667,
          3.3206887245178223,
          1.9176768064498901
         ],
         "yaxis": "y"
        },
        {
         "customdata": [
          [
           16,
           "72671_1x_BD12_01_17439",
           "Simple truth organic basil leaves",
           2313,
           "Herbs & Spices"
          ],
          [
           40,
           "73981_1x_BA10_01_17393",
           "rosemary",
           2214,
           "Herbs & Spices"
          ],
          [
           68,
           "75069_5x_RG10_01_17491",
           "cilantro",
           1811,
           "Herbs & Spices"
          ],
          [
           95,
           "78810_1x_BF12_01_17484",
           "Garden cilantro (from seed)",
           2175,
           "Herbs & Spices"
          ],
          [
           160,
           "G72478_1x_BF6_01_17324",
           "raw ginger",
           2362,
           "Herbs & Spices"
          ],
          [
           173,
           "G72513_1x_10ul_BC8_01_20285",
           "cardamom",
           2237,
           "Herbs & Spices"
          ],
          [
           174,
           "G72514_10x_RC9_01_20166",
           "turmeric, ground",
           1640,
           "Herbs & Spices"
          ],
          [
           193,
           "G72670_5x_RD5_01_20176",
           "Japanese seven spice",
           2246,
           "Herbs & Spices"
          ],
          [
           223,
           "G72753_p1_h3_GD5_01_21939",
           "oregano, fresh, garden",
           1489,
           "Herbs & Spices"
          ],
          [
           257,
           "G72806_1x_RH3_01_20360",
           "dried parsley",
           2127,
           "Herbs & Spices"
          ],
          [
           306,
           "G73523_1x_RD7_01_18544",
           "ginger kombucha - origonic tonic",
           2186,
           "Herbs & Spices"
          ],
          [
           355,
           "G73946_1x_BG12_01_17342",
           "thyme",
           2389,
           "Herbs & Spices"
          ],
          [
           357,
           "G73949_1x_BC12_01_17290",
           "chive blossom",
           2094,
           "Herbs & Spices"
          ],
          [
           359,
           "G73954_1x_BC8_01_17287",
           "parsley",
           1930,
           "Herbs & Spices"
          ],
          [
           367,
           "G73986_5x_10ul_RA2_01_20208",
           "Herb salt, large amount",
           2121,
           "Herbs & Spices"
          ],
          [
           370,
           "G73998_1x_BH2_01_20239",
           "Herb salt, smaller amount",
           2019,
           "Herbs & Spices"
          ],
          [
           401,
           "G74086_1x_RD11_01_18548",
           "vanilla extract",
           2355,
           "Herbs & Spices"
          ],
          [
           441,
           "G75172_1x_BH11_01_17354",
           "greek basil",
           2215,
           "Herbs & Spices"
          ],
          [
           443,
           "G75174_1x_BD11_01_17302",
           "green fennel",
           1946,
           "Herbs & Spices"
          ],
          [
           444,
           "G75177_1x_BF11_01_17328",
           "purple basil",
           2037,
           "Herbs & Spices"
          ],
          [
           447,
           "G75180_1x_BA2_01_17272",
           "basil",
           1918,
           "Herbs & Spices"
          ],
          [
           451,
           "G75191_1x_BE2_01_17307",
           "african blue basil",
           2138,
           "Herbs & Spices"
          ],
          [
           453,
           "G75196_1x_BE10_01_17314",
           "dill flowers",
           2202,
           "Herbs & Spices"
          ],
          [
           574,
           "G78805_BB12_01_18935",
           "cinnamon egg",
           2015,
           "Herbs & Spices"
          ],
          [
           628,
           "G78971_1x_BH8_01_20273",
           "Ground Smoky Paprika",
           2388,
           "Herbs & Spices"
          ],
          [
           629,
           "G78972_2x_RB10_01_19120",
           "Ground Saigon Cinnamon",
           2128,
           "Herbs & Spices"
          ],
          [
           715,
           "G79306_1x_RF6_01_18872",
           "cilantro",
           2103,
           "Herbs & Spices"
          ],
          [
           743,
           "G79488_1x_RH4_01_20361",
           "dill",
           2040,
           "Herbs & Spices"
          ],
          [
           827,
           "G83176_5x_RC4_01_21430",
           "mazuri primate L/S biscuit cinnamon 49",
           1992,
           "Herbs & Spices"
          ],
          [
           829,
           "G83187_1x_BB3_01_20139",
           "cardamom",
           2141,
           "Herbs & Spices"
          ],
          [
           870,
           "G83316_5x_RF10_01_21492",
           "coconut vanilla panna cotta",
           2191,
           "Herbs & Spices"
          ],
          [
           886,
           "G83347_1x_BE9_01_21892",
           "Ele Care Jr. Vanilla",
           1532,
           "Herbs & Spices"
          ],
          [
           891,
           "G83357_1x_BG10_01_21906",
           "Nutren Junior Fiber, vanilla flavor, complete nutrition with fiber 2017-11-17",
           1372,
           "Herbs & Spices"
          ],
          [
           893,
           "G83359_1x_BA11_01_21544",
           "neocate Jr. Vanilla",
           1399,
           "Herbs & Spices"
          ],
          [
           992,
           "G86794_1x_RH2_01_23390",
           "raw ginger with peel stored at room temp",
           2363,
           "Herbs & Spices"
          ],
          [
           1007,
           "G86823_1x_RF7_01_23365",
           "Chilli (Spice Mix)",
           1786,
           "Herbs & Spices"
          ],
          [
           1008,
           "G86824_1x_RF6_01_23364",
           "Mediterranean Oregano Leaves",
           2053,
           "Herbs & Spices"
          ],
          [
           1009,
           "G86827_1x_RF5_01_23362",
           "Smoked Paprika",
           1983,
           "Herbs & Spices"
          ],
          [
           1049,
           "G86901_1x_BB2_01_23133",
           "cinnamon Raisin Bagel (Monday Meeting)",
           1932,
           "Herbs & Spices"
          ],
          [
           1067,
           "G86932_1x_RD9_01_23336",
           "thai basil, red curry",
           1365,
           "Herbs & Spices"
          ],
          [
           1072,
           "G86940_1x_BA6_01_26369",
           "coffe mate french vanilla, Nestle",
           1827,
           "Herbs & Spices"
          ],
          [
           1075,
           "G86950_1x_RF9_01_26448",
           "vanilla oak BDK brand kombucha (sampled 1/23 frozen 1/25 8:30AM)",
           1486,
           "Herbs & Spices"
          ],
          [
           1076,
           "G86952_1x_BA8_01_26372",
           "vanilla almond pressed juicery",
           1634,
           "Herbs & Spices"
          ],
          [
           1090,
           "G86978_1x_RH3_01_26469",
           "vanilla almond-pressed juicery",
           2148,
           "Herbs & Spices"
          ],
          [
           1096,
           "G87310_RB11_01_26092",
           "ginger root",
           1951,
           "Herbs & Spices"
          ],
          [
           1104,
           "G87333_RA11_01_26077",
           "ginger root",
           2043,
           "Herbs & Spices"
          ],
          [
           1120,
           "G87380_RA4_01_26069",
           "cinnamon dried bark",
           1613,
           "Herbs & Spices"
          ],
          [
           1121,
           "G87381_RA5_01_26070",
           "dried rosemary",
           2158,
           "Herbs & Spices"
          ],
          [
           1122,
           "G87382_rerun_BG4_01_26215",
           "thyme",
           2277,
           "Herbs & Spices"
          ],
          [
           1150,
           "G87441_1x_RC9_01_26021",
           "saffron Aquila",
           1455,
           "Herbs & Spices"
          ],
          [
           1151,
           "G87442_5x_RB6_01_26000",
           "saffron commercial",
           1494,
           "Herbs & Spices"
          ],
          [
           1348,
           "G95924_GC1_01_49144",
           "rosemary",
           2489,
           "Herbs & Spices"
          ],
          [
           1349,
           "G95925_GC2_01_49145",
           "rosemary",
           2462,
           "Herbs & Spices"
          ],
          [
           1350,
           "G95926_GC3_01_49146",
           "rosemary",
           2470,
           "Herbs & Spices"
          ],
          [
           1351,
           "G95927_GC4_01_49147",
           "rosemary",
           2432,
           "Herbs & Spices"
          ],
          [
           1825,
           "RA4_RA4_01_49052",
           "parsley",
           2483,
           "Herbs & Spices"
          ],
          [
           1828,
           "RA7_RA7_01_49059",
           "rosemary",
           2485,
           "Herbs & Spices"
          ],
          [
           1839,
           "RC5_RC5_01_49082",
           "oregano",
           2512,
           "Herbs & Spices"
          ],
          [
           1842,
           "RD10_RD10_01_49102",
           "older oregano leaf, part",
           2463,
           "Herbs & Spices"
          ],
          [
           1843,
           "RD3_RD3_01_49095",
           "basil",
           2495,
           "Herbs & Spices"
          ]
         ],
         "hovertemplate": "color=Herbs & Spices<br>x=%{x}<br>y=%{y}<br>hover_data_0=%{customdata[0]}<br>hover_data_1=%{customdata[1]}<br>hover_data_2=%{customdata[2]}<br>hover_data_3=%{customdata[3]}<br>hover_data_4=%{customdata[4]}<extra></extra>",
         "legendgroup": "Herbs & Spices",
         "marker": {
          "color": "#FE00CE",
          "symbol": "circle"
         },
         "mode": "markers",
         "name": "Herbs & Spices",
         "showlegend": true,
         "type": "scattergl",
         "x": [
          12.769359588623047,
          12.072458267211914,
          14.75500774383545,
          12.768889427185059,
          9.824962615966797,
          12.815105438232422,
          10.584063529968262,
          10.617753028869629,
          8.521552085876465,
          12.600748062133789,
          18.42317771911621,
          13.839680671691895,
          14.253670692443848,
          14.248017311096191,
          11.724129676818848,
          11.25648307800293,
          12.347786903381348,
          14.363470077514648,
          14.825560569763184,
          13.7493257522583,
          14.18199348449707,
          14.101483345031738,
          13.39616870880127,
          14.609360694885254,
          9.688691139221191,
          11.519349098205566,
          13.681073188781738,
          12.150728225708008,
          13.633288383483887,
          12.99984359741211,
          15.142768859863281,
          13.163104057312012,
          11.090742111206055,
          11.950618743896484,
          9.918835639953613,
          10.585478782653809,
          11.833028793334961,
          11.036332130432129,
          9.224003791809082,
          8.960224151611328,
          13.497529029846191,
          8.867432594299316,
          8.947187423706055,
          9.158738136291504,
          10.591998100280762,
          10.116642951965332,
          11.716133117675781,
          12.264251708984375,
          15.004161834716797,
          11.656268119812012,
          11.194028854370117,
          -4.9825849533081055,
          -5.047514915466309,
          -4.896590709686279,
          -4.868485927581787,
          -4.992355823516846,
          -5.226263046264648,
          -5.3689656257629395,
          -4.627767086029053,
          -5.112823963165283
         ],
         "xaxis": "x",
         "y": [
          10.975805282592773,
          11.593534469604492,
          8.528035163879395,
          11.250505447387695,
          9.437844276428223,
          11.715935707092285,
          7.819976806640625,
          9.448034286499023,
          12.98652172088623,
          10.278721809387207,
          8.32516098022461,
          11.783935546875,
          10.49013614654541,
          11.378244400024414,
          9.859349250793457,
          9.228506088256836,
          10.888958930969238,
          11.75651741027832,
          10.92464828491211,
          11.480511665344238,
          10.922966003417969,
          11.775497436523438,
          11.155210494995117,
          4.197441577911377,
          2.5982754230499268,
          10.302766799926758,
          10.332993507385254,
          10.235245704650879,
          7.913665771484375,
          11.721303939819336,
          4.634689807891846,
          7.268733024597168,
          0.4887012839317322,
          5.800516128540039,
          9.514032363891602,
          4.734999656677246,
          10.211297035217285,
          4.479433059692383,
          4.801532745361328,
          4.105993270874023,
          8.137184143066406,
          6.4164299964904785,
          6.516590118408203,
          7.450004577636719,
          8.870304107666016,
          9.433916091918945,
          6.306268692016602,
          11.321440696716309,
          8.135269165039062,
          6.789584636688232,
          6.7343926429748535,
          7.83872127532959,
          7.902480602264404,
          7.543386459350586,
          7.615356922149658,
          7.8876142501831055,
          8.223345756530762,
          8.0971097946167,
          8.44056224822998,
          8.226349830627441
         ],
         "yaxis": "y"
        },
        {
         "customdata": [
          [
           20,
           "72717_5x_RG9_01_17512",
           "matcha green tea",
           2212,
           "Beverages"
          ],
          [
           29,
           "73497_1x_BH3_01_20777",
           "tea black, green, sugar",
           1506,
           "Beverages"
          ],
          [
           30,
           "73502_1x_BH5_01_20779",
           "everberry probiotic smoothie",
           1710,
           "Beverages"
          ],
          [
           62,
           "74061_1x_BF7_01_20764",
           "Unoaked sake",
           1754,
           "Beverages"
          ],
          [
           63,
           "74062_1x_BE7_01_20755",
           "Oaked sake",
           1716,
           "Beverages"
          ],
          [
           64,
           "74089_1x_rerun_BB7_01_21459",
           "AA Kenyan coffee, pour-over",
           1743,
           "Beverages"
          ],
          [
           65,
           "74090_1x_rerun_BA7_01_21395",
           "Copper Moon Kenyan coffee, pour-over",
           1801,
           "Beverages"
          ],
          [
           66,
           "74091_1x_BG7_01_20773",
           "Brazilian coffee, pour-over",
           1851,
           "Beverages"
          ],
          [
           81,
           "75220_1x_BF8_01_20765",
           "Humm brand kombucha pomegranate lemonade flavor",
           1456,
           "Beverages"
          ],
          [
           82,
           "75226_1x_BF5_01_20762",
           "probiotic super smoothie",
           1770,
           "Beverages"
          ],
          [
           83,
           "75235_1x_BF4_01_20761",
           "mocha nut latte",
           1558,
           "Beverages"
          ],
          [
           88,
           "75262_1x_rerun_BA6_01_21393",
           "Pilsner beer",
           1905,
           "Beverages"
          ],
          [
           89,
           "75733_1x_BH2_01_20776",
           "pure leaf lemon tea",
           1461,
           "Beverages"
          ],
          [
           150,
           "G72464_10x_BG5_01_17922",
           "Pacifico beer",
           1762,
           "Beverages"
          ],
          [
           255,
           "G72797_BG2_01_19034",
           "home brew beer biscuit",
           2301,
           "Beverages"
          ],
          [
           263,
           "G72824_1x_RE1_01_18552",
           "home brewed beer 2, likely orange creamsicale",
           2183,
           "Beverages"
          ],
          [
           264,
           "G72827_1x_RF1_01_18566",
           "home brewed beer",
           2251,
           "Beverages"
          ],
          [
           265,
           "G72833_1x_RA2_01_18500",
           "Ballast Point Fathom beer-7% ABV",
           2251,
           "Beverages"
          ],
          [
           266,
           "G72835_1x_RE2_01_18553",
           "red wine",
           2170,
           "Beverages"
          ],
          [
           293,
           "G73474_1x_10ul_RD7_01_19819",
           "acai blueberry pomegranate vitamin water",
           1879,
           "Beverages"
          ],
          [
           294,
           "G73475_1x_10ul_RD8_01_19820",
           "organic carrot juice",
           2271,
           "Beverages"
          ],
          [
           295,
           "G73476_1x_10ul_RE2_01_19829",
           "beet apple lemon ginger juice",
           2299,
           "Beverages"
          ],
          [
           296,
           "G73478_1x_10ul_RH7_01_19918",
           "Minute Maid Light Lemonade",
           2330,
           "Beverages"
          ],
          [
           300,
           "G73505_1x_10ul_RB4_01_18621",
           "seattle's best coffee",
           2218,
           "Beverages"
          ],
          [
           366,
           "G73985_1x_10ul_RC5_01_18610",
           "alpirsbacher beer (5.2% alc/vol)",
           2209,
           "Beverages"
          ],
          [
           372,
           "G74001_1x_RH10_01_18602",
           "San Miguel beer (5.4% alc/vol)",
           2208,
           "Beverages"
          ],
          [
           387,
           "G74041_1x_RE4_01_18555",
           "pizza port beer",
           2235,
           "Beverages"
          ],
          [
           388,
           "G74050_1x_RG3_01_18581",
           "Koshihikari echigo beer",
           2240,
           "Beverages"
          ],
          [
           390,
           "G74063_1x_RF4_01_18569",
           "Chateau Ste Michelle red wine",
           2070,
           "Beverages"
          ],
          [
           392,
           "G74067_1x_15ul_RB9_01_20708",
           "water, filtered from fridge",
           1631,
           "Beverages"
          ],
          [
           393,
           "G74068_1x_10ul_RC7_01_18530",
           "red wine, cabernet sauvignon",
           2224,
           "Beverages"
          ],
          [
           394,
           "G74069_1x_RE7_01_18558",
           "red wine, zinfandel",
           2159,
           "Beverages"
          ],
          [
           400,
           "G74084_1x_RG6_01_18583",
           "coffee liqueur",
           2228,
           "Beverages"
          ],
          [
           402,
           "G74087_1x_10ul_RH8_01_19919",
           "lemonade",
           2112,
           "Beverages"
          ],
          [
           404,
           "G74095_1x_10ul_RC4_01_19803",
           "carrot tumeric juice",
           2078,
           "Beverages"
          ],
          [
           408,
           "G74111_1x_RE8_01_18559",
           "Good Belly Probiotic Juice",
           2167,
           "Beverages"
          ],
          [
           409,
           "G74112_1x_10ul_RC9_01_19809",
           "trader joe's carrot juice",
           2195,
           "Beverages"
          ],
          [
           411,
           "G74118_1x_10ul_RE7_01_19835",
           "mint infused water",
           1611,
           "Beverages"
          ],
          [
           412,
           "G74121_1x_RF9_01_18574",
           "warsteiner beer",
           2248,
           "Beverages"
          ],
          [
           413,
           "G74122_1x_10ul_RH5_01_19915",
           "tap water",
           1887,
           "Beverages"
          ],
          [
           466,
           "G75245_1x_RA10_01_18499",
           "wine 4 coach insignia; cabernet sauvignon",
           2133,
           "Beverages"
          ],
          [
           467,
           "G75247_1x_RG9_01_18586",
           "Empty-port wine; ramos pinto",
           2235,
           "Beverages"
          ],
          [
           471,
           "G75252_1x_RH9_01_18601",
           "Kinsella estates wine 3 a from bottle; b from glass, undrunk; cabernet sauvignon 2012",
           2231,
           "Beverages"
          ],
          [
           475,
           "G75257_1x_RB10_01_18618",
           "Palmaz vineyards Wine 2.; cabernet sauvignon",
           2118,
           "Beverages"
          ],
          [
           518,
           "G75676_1x_10ul_RA9_01_19777",
           "orange juice",
           2320,
           "Beverages"
          ],
          [
           539,
           "G75727_1x_10ul_RC9_01_18535",
           "champagne",
           2211,
           "Beverages"
          ],
          [
           540,
           "G75728_1x_10ul_RA6_01_18504",
           "pickled watermelon  juice",
           2148,
           "Beverages"
          ],
          [
           541,
           "G75741_1x_10ul_RH6_01_19916",
           "Beet Juice- cold pressed (carrot, apple, ginger, lemon too)",
           2270,
           "Beverages"
          ],
          [
           544,
           "G75747_1x_10ul_RB5_01_19790",
           "juice",
           2195,
           "Beverages"
          ],
          [
           548,
           "G75755_1x_10ul_RG3_01_19893",
           "water bites for feeder insects with calcium",
           1847,
           "Beverages"
          ],
          [
           552,
           "G75763_1x_RB9_01_18617",
           "berliner weisse beer",
           2267,
           "Beverages"
          ],
          [
           554,
           "G75765_1x_RH7_01_18599",
           "warsteiner beer",
           2270,
           "Beverages"
          ],
          [
           556,
           "G75772_1x_RF10_01_18575",
           "coconut water (harmless harvest w/ probiotics)",
           1963,
           "Beverages"
          ],
          [
           570,
           "G75860_1x_RH7_01_26475",
           "Green Tea, iced, Tazo, organic",
           1964,
           "Beverages"
          ],
          [
           572,
           "G75862_1x_RH6_01_26472",
           "Coffee, iced, unsweetened, Starbucks",
           2152,
           "Beverages"
          ],
          [
           588,
           "G78871_5x_RA8_01_20127",
           "Pumpkin beer spice mix",
           2032,
           "Beverages"
          ],
          [
           595,
           "G78885_5x_BD12_01_19999",
           "beer mash",
           2300,
           "Beverages"
          ],
          [
           621,
           "G78954_p4_e4_GA1_01_21651",
           "ground illy coffee",
           1235,
           "Beverages"
          ],
          [
           622,
           "G78955_5x_RB4_01_19475",
           "illy coffee bean",
           1782,
           "Beverages"
          ],
          [
           644,
           "G79167_2x_RG4_01_19206",
           "green smoothie fuel cafe",
           1942,
           "Beverages"
          ],
          [
           660,
           "G79202_1x_RF9_01_18876",
           "AA Kenyan coffee beans raw",
           2349,
           "Beverages"
          ],
          [
           661,
           "G79204_1x_RB9_01_18806",
           "Brazilian coffee beans raw",
           1697,
           "Beverages"
          ],
          [
           796,
           "G79677_5x_RE11_01_19530",
           "13 salami fennel pollen wine",
           1870,
           "Beverages"
          ],
          [
           797,
           "G79679_5x_RB11_01_19483",
           "12 salami pepper garlic wine",
           1649,
           "Beverages"
          ],
          [
           833,
           "G83193_5x_RC12_01_20169",
           "earl grey tea",
           2035,
           "Beverages"
          ],
          [
           885,
           "G83346_1x_BD9_01_21887",
           "orange juice",
           1455,
           "Beverages"
          ],
          [
           899,
           "G83366_1x_BA12_01_21545",
           "Lorikeet exhibit kitchen WATER, 2017-10-19; old",
           1206,
           "Beverages"
          ],
          [
           923,
           "G83418_1x_RF11_01_26450",
           "Sparking Mixed Berry Natural Water",
           1303,
           "Beverages"
          ],
          [
           924,
           "G83421_1x_10ul_RC5_01_26521",
           "juice from Fernie/ Arpa",
           1813,
           "Beverages"
          ],
          [
           926,
           "G83432_1x_RG6_01_26458",
           "Cali Creamer beer",
           1948,
           "Beverages"
          ],
          [
           927,
           "G83434_1x_10ul_RC4_01_26520",
           "lavendar lemonade from native foods cafe-JG sample",
           1529,
           "Beverages"
          ],
          [
           928,
           "G83435_1x_BA11_01_26375",
           "cold pressed organic apple juice",
           1578,
           "Beverages"
          ],
          [
           934,
           "G83458_1x_RB5_01_21741",
           "charms blow pop gum (Extreme lemonade)",
           1750,
           "Beverages"
          ],
          [
           952,
           "G86721_1x_RF5_01_21831",
           "charms blow pop outside (Extreme Lemonade)",
           1852,
           "Beverages"
          ],
          [
           965,
           "G86752_10x_RF5_01_23200",
           "starfruit green tea leaves",
           1809,
           "Beverages"
          ],
          [
           967,
           "G86754_10x_RF4_01_23199",
           "jasmine green tea satchet",
           1537,
           "Beverages"
          ],
          [
           973,
           "G86772_10x_RF6_01_23201",
           "rose tea leaves",
           1543,
           "Beverages"
          ],
          [
           980,
           "G86780_10x_RG5_01_23216",
           "kava root from townhend's tea company",
           1426,
           "Beverages"
          ],
          [
           1002,
           "G86818_10x_RF2_01_23197",
           "Organic Bolivian Blend coffee",
           1748,
           "Beverages"
          ],
          [
           1005,
           "G86821_10x_RF3_01_23198",
           "Lavazza Coffee (Qualita Oro)",
           1637,
           "Beverages"
          ],
          [
           1018,
           "G86851_1x_RA8_01_23484",
           "apple juice",
           1521,
           "Beverages"
          ],
          [
           1019,
           "G86853_1x_RA10_01_23486",
           "Unfiltered apple juice",
           1689,
           "Beverages"
          ],
          [
           1020,
           "G86854_1x_RA11_01_23487",
           "Dixie Peach juice",
           1716,
           "Beverages"
          ],
          [
           1025,
           "G86865_1x_RB9_01_23500",
           "lemon juice",
           1810,
           "Beverages"
          ],
          [
           1056,
           "G86914_1x_RH5_01_26344",
           "raw/fresh sage purchase 1/17/18 left out at rt in water until sampling 1/23 pm and frozen 1/25 8:30AM",
           2055,
           "Beverages"
          ],
          [
           1071,
           "G86938_1x_RG10_01_26463",
           "ethiopia Guju light coffee; from CMI workshop; sampled warm/hot on 2018-01-17 15:30",
           1909,
           "Beverages"
          ],
          [
           1073,
           "G86943_1x_RF10_01_26449",
           "love flavor; brew dr. kombucha; townhends tea co.",
           1494,
           "Beverages"
          ],
          [
           1077,
           "G86953_1x_BA7_01_26371",
           "greens 2 - pressed juice",
           1586,
           "Beverages"
          ],
          [
           1078,
           "G86955_1x_BB7_01_26386",
           "citrus 2-pressed juice",
           1733,
           "Beverages"
          ],
          [
           1079,
           "G86956_1x_RC4_01_23510",
           "apple juice",
           1448,
           "Beverages"
          ],
          [
           1080,
           "G86957_1x_RC5_01_23511",
           "the power of 7 juice blend",
           1372,
           "Beverages"
          ],
          [
           1084,
           "G86964_1x_RC12_01_23520",
           "Schweppes Tonic Water",
           1233,
           "Beverages"
          ],
          [
           1088,
           "G86974_1x_BB4_01_26382",
           "greens 3-pressed juice",
           1703,
           "Beverages"
          ],
          [
           1089,
           "G86977_1x_BA5_01_26368",
           "greens 2 - pressed juice",
           1608,
           "Beverages"
          ],
          [
           1092,
           "G86980_1x_BD7_01_26415",
           "greens 3-pressed juice",
           1143,
           "Beverages"
          ],
          [
           1093,
           "G86981_1x_RG3_01_26455",
           "greens 3-pressed juice",
           1858,
           "Beverages"
          ],
          [
           1094,
           "G86983_1x_BA3_01_26364",
           "roots 2-pressed juice",
           1723,
           "Beverages"
          ],
          [
           1173,
           "G87480_1x_RD12_01_26284",
           "Kit Kat (Green Tea)",
           1656,
           "Beverages"
          ],
          [
           1187,
           "G87509_1x_10ul_RC6_01_26522",
           "Squirt, soda",
           1408,
           "Beverages"
          ],
          [
           1189,
           "G87515_1x_BB8_01_26387",
           "octoberfest home brewed beer AS sample",
           1964,
           "Beverages"
          ],
          [
           1190,
           "G87516_1x_RH8_01_26476",
           "pumpkin beer home brew AS sample",
           2146,
           "Beverages"
          ],
          [
           1191,
           "G87518_1x_RF8_01_26447",
           "Swafford mystery beer 1",
           1961,
           "Beverages"
          ],
          [
           1192,
           "G87519_1x_RG8_01_26461",
           "Swafford mystery beer 2",
           2007,
           "Beverages"
          ],
          [
           1194,
           "G87523_1x_RA3_01_26222",
           "acai smoothie",
           1839,
           "Beverages"
          ],
          [
           1243,
           "G90210_1x_BA12_01_26376",
           "3 in 1 coffee from thailand (instant coffee)",
           1962,
           "Beverages"
          ],
          [
           1248,
           "G90285_1x_BA9_01_31155",
           "Salada Matcha tea Brewed For 1min",
           1180,
           "Beverages"
          ],
          [
           1249,
           "G90286_1x_RH6_01_31136",
           "Prince of Peace Oolong tea Brewed For 30sec",
           1069,
           "Beverages"
          ],
          [
           1250,
           "G90287_1x_RC12_01_31079",
           "Prince of Peace Oolong tea Brewed For 1min",
           1143,
           "Beverages"
          ],
          [
           1251,
           "G90288_1x_BC2_01_31173",
           "Salada Matcha tea Brewed For 30sec",
           1292,
           "Beverages"
          ],
          [
           1252,
           "G90289_1x_BA3_01_31149",
           "Salada Matcha tea Brewed For 30sec",
           1169,
           "Beverages"
          ],
          [
           1253,
           "G90290_1x_BA2_01_31148",
           "Salada Matcha tea Brewed For 1min",
           1227,
           "Beverages"
          ],
          [
           1254,
           "G90292_1x_BH4_01_31224",
           "Salada Matcha tea Brewed For 4hours",
           1487,
           "Beverages"
          ],
          [
           1255,
           "G90366_1x_RB4_01_31059",
           "Prince of Peace Oolong tea Brewed For 4min",
           1155,
           "Beverages"
          ],
          [
           1256,
           "G90367_1x_BE6_01_31199",
           "Prince of Peace Oolong tea Brewed For 4hours",
           1316,
           "Beverages"
          ],
          [
           1257,
           "G90368_1x_RE11_01_31104",
           "Prince of Peace Oolong tea Brewed For 1min",
           1132,
           "Beverages"
          ],
          [
           1258,
           "G90369_1x_RG9_01_31127",
           "Prince of Peace Oolong tea Brewed For 30sec",
           1110,
           "Beverages"
          ],
          [
           1259,
           "G90370_1x_BD3_01_31186",
           "Prince of Peace Oolong tea Brewed For 4hours",
           1252,
           "Beverages"
          ],
          [
           1260,
           "G90371_1x_RG8_01_31126",
           "Prince of Peace Oolong tea Brewed For 4min",
           1133,
           "Beverages"
          ],
          [
           1261,
           "G95760_5x_BC5_01_32058",
           "NUMI White rose tea solid sample",
           2048,
           "Beverages"
          ],
          [
           1262,
           "G95761_5x_BB6_01_32043",
           "NUMI White rose tea solid sample",
           2148,
           "Beverages"
          ],
          [
           1263,
           "G95762_5x_BB11_01_32050",
           "NUMI White rose tea solid sample",
           2184,
           "Beverages"
          ],
          [
           1264,
           "G95763_5x_BC2_01_32055",
           "ALLEGRO tropical White tea solid sample",
           2154,
           "Beverages"
          ],
          [
           1265,
           "G95764_5x_BC8_01_32063",
           "ALLEGRO tropical White tea solid sample",
           2250,
           "Beverages"
          ],
          [
           1266,
           "G95765_5x_BD3_01_32072",
           "ALLEGRO tropical White tea solid sample",
           2146,
           "Beverages"
          ],
          [
           1267,
           "G95769_5x_BC12_01_32067",
           "Numi Emperor's pu-erh tea solid sample",
           2026,
           "Beverages"
          ],
          [
           1268,
           "G95770_5x_BB10_01_32049",
           "Numi Emperor's pu-erh tea solid sample",
           2016,
           "Beverages"
          ],
          [
           1269,
           "G95771_5x_BC7_01_32062",
           "Numi Emperor's pu-erh tea solid sample",
           2090,
           "Beverages"
          ],
          [
           1270,
           "G95772_5x_BB12_01_32051",
           "American Classic (Charleston Tea Plantation) Black Tea solid sample",
           2077,
           "Beverages"
          ],
          [
           1271,
           "G95773_5x_BB5_01_32042",
           "American Classic (Charleston Tea Plantation) Black Tea solid sample",
           2067,
           "Beverages"
          ],
          [
           1272,
           "G95774_5x_BB4_01_32041",
           "American Classic (Charleston Tea Plantation) Black Tea solid sample",
           2012,
           "Beverages"
          ],
          [
           1273,
           "G95775_5x_BB8_01_32047",
           "ALLEGRO aged Pu'er tea solid sample",
           1833,
           "Beverages"
          ],
          [
           1274,
           "G95776_5x_BC4_01_32057",
           "ALLEGRO aged Pu'er tea solid sample",
           1152,
           "Beverages"
          ],
          [
           1275,
           "G95777_5x_BA3_01_32026",
           "ALLEGRO aged Pu'er tea solid sample",
           2099,
           "Beverages"
          ],
          [
           1276,
           "G95778_5x_BB9_01_32048",
           "Allegro Oolong Tea solid sample",
           1859,
           "Beverages"
          ],
          [
           1277,
           "G95779_5x_BA12_01_32035",
           "Allegro Oolong Tea solid sample",
           1870,
           "Beverages"
          ],
          [
           1278,
           "G95780_5x_BA11_01_32034",
           "Allegro Oolong Tea solid sample",
           1910,
           "Beverages"
          ],
          [
           1279,
           "G95781_5x_BC11_01_32066",
           "Charleston Tea Plantation Green Tea solid sample",
           2172,
           "Beverages"
          ],
          [
           1280,
           "G95782_5x_BC10_01_32065",
           "Charleston Tea Plantation Green Tea solid sample",
           2091,
           "Beverages"
          ],
          [
           1281,
           "G95783_5x_BA9_01_32032",
           "Charleston Tea Plantation Green Tea solid sample",
           2197,
           "Beverages"
          ],
          [
           1282,
           "G95784_5x_BD2_01_32071",
           "Higgins & Burke english breakfast tea solid sample",
           1797,
           "Beverages"
          ],
          [
           1283,
           "G95785_5x_BB3_01_32040",
           "Higgins & Burke english breakfast tea solid sample",
           2016,
           "Beverages"
          ],
          [
           1284,
           "G95786_5x_BC6_01_32059",
           "Higgins & Burke english breakfast tea solid sample",
           1910,
           "Beverages"
          ],
          [
           1285,
           "G95787_5x_BD4_01_32073",
           "Lipton Matcha tea solid sample",
           1271,
           "Beverages"
          ],
          [
           1286,
           "G95788_5x_BA5_01_32028",
           "Lipton Matcha tea solid sample",
           2051,
           "Beverages"
          ],
          [
           1287,
           "G95789_5x_BA6_01_32029",
           "Lipton Matcha tea solid sample",
           2140,
           "Beverages"
          ],
          [
           1288,
           "G95790_5x_BA10_01_32033",
           "Salada Matcha tea solid sample",
           2207,
           "Beverages"
          ],
          [
           1289,
           "G95791_5x_BB2_01_32039",
           "Salada Matcha tea solid sample",
           2143,
           "Beverages"
          ],
          [
           1290,
           "G95792_5x_BA7_01_32030",
           "Salada Matcha tea solid sample",
           2248,
           "Beverages"
          ],
          [
           1291,
           "G95793_5x_BB7_01_32044",
           "Higgins & Burke Green vert tea solid sample",
           1965,
           "Beverages"
          ],
          [
           1292,
           "G95794_5x_BC9_01_32064",
           "Higgins & Burke Green vert tea solid sample",
           2155,
           "Beverages"
          ],
          [
           1293,
           "G95795_5x_BA8_01_32031",
           "Higgins & Burke Green vert tea solid sample",
           2117,
           "Beverages"
          ],
          [
           1388,
           "G95988_20x_RA2_01_32010",
           "Lavazzaa Roasted Ground Coffee - Oro",
           1327,
           "Beverages"
          ],
          [
           1389,
           "G95989_20x_RA6_01_32014",
           "Lavazzaa Roasted Ground Coffee - Oro",
           1355,
           "Beverages"
          ],
          [
           1390,
           "G95990_20x_RA9_01_32017",
           "Lavazzaa Caffe Espresso",
           1337,
           "Beverages"
          ],
          [
           1391,
           "G95991_20x_BG9_01_31988",
           "Lavazzaa Caffe Espresso",
           1430,
           "Beverages"
          ],
          [
           1392,
           "G95994_20x_BC11_01_31936",
           "French Vanilla Coffee",
           1329,
           "Beverages"
          ],
          [
           1393,
           "G95995_20x_BD10_01_31949",
           "French Vanilla Coffee",
           1542,
           "Beverages"
          ],
          [
           1394,
           "G95996_20x_BC6_01_31928",
           "Tahitian Vanilla Bean Ground Coffee",
           1480,
           "Beverages"
          ],
          [
           1395,
           "G95997_20x_RA5_01_32013",
           "Tahitian Vanilla Bean Ground Coffee",
           1456,
           "Beverages"
          ],
          [
           1396,
           "G95998_20x_BC10_01_31935",
           "Ground coffee",
           1517,
           "Beverages"
          ],
          [
           1397,
           "G95999_20x_BD8_01_31947",
           "Ground coffee",
           1637,
           "Beverages"
          ],
          [
           1398,
           "G96000_20x_BD4_01_31943",
           "Ground coffee",
           1051,
           "Beverages"
          ],
          [
           1399,
           "G96001_20x_BB11_01_31922",
           "Ground coffee",
           1889,
           "Beverages"
          ],
          [
           1400,
           "G96002_20x_BC7_01_31932",
           "Ground coffee",
           1678,
           "Beverages"
          ],
          [
           1401,
           "G96003_20x_BF12_01_31978",
           "Ground coffee",
           1901,
           "Beverages"
          ],
          [
           1402,
           "G96004_20x_BG4_01_31983",
           "Ground coffee",
           1633,
           "Beverages"
          ],
          [
           1403,
           "G96005_20x_BC9_01_31934",
           "Ground coffee",
           1769,
           "Beverages"
          ],
          [
           1404,
           "G96006_20x_BD6_01_31945",
           "Ground coffee",
           1698,
           "Beverages"
          ],
          [
           1405,
           "G96007_20x_BC4_01_31926",
           "Ground coffee",
           1632,
           "Beverages"
          ],
          [
           1406,
           "G96008_20x_BD9_01_31948",
           "Ground coffee",
           1680,
           "Beverages"
          ],
          [
           1407,
           "G96009_20x_BH8_01_32002",
           "Ground coffee",
           1600,
           "Beverages"
          ],
          [
           1408,
           "G96010_20x_BH6_01_32000",
           "Ground coffee",
           1425,
           "Beverages"
          ],
          [
           1409,
           "G96011_20x_BD2_01_31941",
           "Ground coffee",
           1252,
           "Beverages"
          ],
          [
           1410,
           "G96012_20x_BG10_01_31989",
           "Ground coffee",
           1757,
           "Beverages"
          ],
          [
           1411,
           "G96013_20x_BH3_01_31997",
           "Ground coffee",
           1638,
           "Beverages"
          ],
          [
           1412,
           "G96014_20x_BH11_01_32005",
           "Ground coffee",
           1702,
           "Beverages"
          ],
          [
           1413,
           "G96015_20x_BE9_01_31962",
           "Ground coffee",
           1491,
           "Beverages"
          ],
          [
           1414,
           "G96016_20x_BF7_01_31973",
           "Ground coffee",
           1754,
           "Beverages"
          ],
          [
           1415,
           "G96017_20x_BF5_01_31971",
           "Ground coffee",
           1785,
           "Beverages"
          ],
          [
           1416,
           "G96018_20x_BC5_01_31927",
           "Ground coffee",
           1192,
           "Beverages"
          ],
          [
           1417,
           "G96019_20x_BH12_01_32006",
           "Ground coffee",
           1084,
           "Beverages"
          ],
          [
           1418,
           "G96020_20x_BC12_01_31937",
           "Ground coffee",
           1626,
           "Beverages"
          ],
          [
           1419,
           "G96021_20x_BF6_01_31972",
           "Ground coffee",
           1560,
           "Beverages"
          ],
          [
           1420,
           "G96022_20x_BF3_01_31969",
           "Ground coffee",
           1381,
           "Beverages"
          ],
          [
           1421,
           "G96023_20x_BH10_01_32004",
           "Ground coffee",
           1368,
           "Beverages"
          ],
          [
           1422,
           "G96048_RE7_01_31829",
           "Lavazzaa Roasted Ground Coffee - Oro",
           1880,
           "Beverages"
          ],
          [
           1423,
           "G96049_1x_RH5_01_31888",
           "Lavazzaa Roasted Ground Coffee - Oro",
           1943,
           "Beverages"
          ],
          [
           1572,
           "G96275_20x_BH7_01_32001",
           "Ground coffee",
           1241,
           "Beverages"
          ],
          [
           1573,
           "G96276_20x_BF8_01_31974",
           "Ground coffee",
           1411,
           "Beverages"
          ],
          [
           1574,
           "G96295_20x_BD7_01_31946",
           "Ground coffee",
           1526,
           "Beverages"
          ],
          [
           1575,
           "G96296_20x_BF4_01_31970",
           "Ground coffee",
           1534,
           "Beverages"
          ],
          [
           1576,
           "G96297_20x_BG11_01_31990",
           "Ground coffee",
           1689,
           "Beverages"
          ],
          [
           1577,
           "G96298_20x_BE11_01_31964",
           "Ground coffee",
           1615,
           "Beverages"
          ],
          [
           1578,
           "G96300_20x_BF11_01_31977",
           "Ground coffee",
           1707,
           "Beverages"
          ],
          [
           1579,
           "G96301_20x_BE8_01_31961",
           "Ground coffee",
           1531,
           "Beverages"
          ],
          [
           1580,
           "G96302_20x_BG7_01_31986",
           "Ground coffee",
           1613,
           "Beverages"
          ],
          [
           1581,
           "G96303_20x_BE5_01_31958",
           "Ground coffee",
           1685,
           "Beverages"
          ],
          [
           1582,
           "G96304_20x_BF10_01_31976",
           "Ground coffee",
           1711,
           "Beverages"
          ],
          [
           1583,
           "G96305_20x_BG2_01_31981",
           "Ground coffee",
           1651,
           "Beverages"
          ],
          [
           1584,
           "G96306_20x_BF9_01_31975",
           "Ground coffee",
           1597,
           "Beverages"
          ],
          [
           1585,
           "G96307_20x_BE7_01_31960",
           "Ground coffee",
           1586,
           "Beverages"
          ],
          [
           1586,
           "G96338_5x_BA2_01_32025",
           "Prince of Peace Oolong Tea solid sample",
           1974,
           "Beverages"
          ],
          [
           1587,
           "G96339_5x_BA4_01_32027",
           "Prince of Peace Oolong Tea solid sample",
           1857,
           "Beverages"
          ],
          [
           1588,
           "G96340_5x_BC3_01_32056",
           "Prince of Peace Oolong Tea solid sample",
           1693,
           "Beverages"
          ],
          [
           1641,
           "G96419_RD8_01_31812",
           "Tahitian Vanilla Bean Ground Coffee",
           1871,
           "Beverages"
          ],
          [
           1642,
           "G96420_RB12_01_31782",
           "Tahitian Vanilla Bean Ground Coffee",
           2174,
           "Beverages"
          ],
          [
           1643,
           "G96421_RD6_01_31810",
           "French Vanilla Coffee",
           1662,
           "Beverages"
          ],
          [
           1644,
           "G96422_RE2_01_31822",
           "French Vanilla Coffee",
           1709,
           "Beverages"
          ],
          [
           1645,
           "G96425_RF12_01_31861",
           "Lavazzaa Caffe Espresso",
           1951,
           "Beverages"
          ],
          [
           1646,
           "G96426_RF7_01_31852",
           "Lavazzaa Caffe Espresso",
           1909,
           "Beverages"
          ],
          [
           1647,
           "G96429_RC11_01_31799",
           "Ground coffee",
           1446,
           "Beverages"
          ],
          [
           1648,
           "G96430_RF8_01_31853",
           "Ground coffee",
           1856,
           "Beverages"
          ],
          [
           1649,
           "G96431_RG7_01_31872",
           "Ground coffee",
           1893,
           "Beverages"
          ],
          [
           1650,
           "G96432_RC5_01_31791",
           "Ground coffee",
           1909,
           "Beverages"
          ],
          [
           1651,
           "G96433_RE6_01_31828",
           "Ground coffee",
           1928,
           "Beverages"
          ],
          [
           1652,
           "G96434_RD12_01_31818",
           "Ground coffee",
           1987,
           "Beverages"
          ],
          [
           1653,
           "G96435_RF9_01_31856",
           "Ground coffee",
           1960,
           "Beverages"
          ],
          [
           1654,
           "G96436_RG4_01_31867",
           "Ground coffee",
           1989,
           "Beverages"
          ],
          [
           1655,
           "G96437_RE11_01_31835",
           "Ground coffee",
           1972,
           "Beverages"
          ],
          [
           1656,
           "G96438_RG1_01_31864",
           "Ground coffee",
           2009,
           "Beverages"
          ],
          [
           1657,
           "G96439_RD5_01_31809",
           "Ground coffee",
           1917,
           "Beverages"
          ],
          [
           1658,
           "G96440_1x_RH4_01_31885",
           "Ground coffee",
           1994,
           "Beverages"
          ],
          [
           1659,
           "G96441_RD11_01_31817",
           "Ground coffee",
           1841,
           "Beverages"
          ],
          [
           1660,
           "G96442_RC6_01_31792",
           "Ground coffee",
           1921,
           "Beverages"
          ],
          [
           1661,
           "G96443_1x_RH11_01_31896",
           "Ground coffee",
           2105,
           "Beverages"
          ],
          [
           1662,
           "G96445_1x_RH10_01_31895",
           "Ground coffee",
           1992,
           "Beverages"
          ],
          [
           1663,
           "G96446_RE10_01_31834",
           "Ground coffee",
           1881,
           "Beverages"
          ],
          [
           1664,
           "G96447_RD4_01_31806",
           "Ground coffee",
           1914,
           "Beverages"
          ],
          [
           1665,
           "G96448_RF1_01_31840",
           "Ground coffee",
           1933,
           "Beverages"
          ],
          [
           1666,
           "G96449_RC9_01_31797",
           "Ground coffee",
           1856,
           "Beverages"
          ],
          [
           1667,
           "G96450_RG2_01_31865",
           "Ground coffee",
           1932,
           "Beverages"
          ],
          [
           1668,
           "G96451_1x_RH7_01_31890",
           "Ground coffee",
           1871,
           "Beverages"
          ],
          [
           1669,
           "G96452_1x_RH6_01_31889",
           "Ground coffee",
           1898,
           "Beverages"
          ],
          [
           1670,
           "G96453_1x_RG9_01_31876",
           "Ground coffee",
           1962,
           "Beverages"
          ],
          [
           1671,
           "G96454_RG8_01_31873",
           "Ground coffee",
           1877,
           "Beverages"
          ],
          [
           1672,
           "G96455_1x_BG5_01_31217",
           "ALLEGRO aged Pu'er tea Brewed For 30sec",
           1277,
           "Beverages"
          ],
          [
           1673,
           "G96456_1x_BB2_01_31161",
           "ALLEGRO aged Pu'er tea Brewed For 1min",
           1334,
           "Beverages"
          ],
          [
           1674,
           "G96457_1x_BG4_01_31216",
           "ALLEGRO aged Pu'er tea Brewed For 4min",
           1384,
           "Beverages"
          ],
          [
           1675,
           "G96458_1x_BB3_01_31162",
           "ALLEGRO aged Pu'er tea Brewed For 4hours",
           1397,
           "Beverages"
          ],
          [
           1676,
           "G96459_1x_BA10_01_31157",
           "ALLEGRO aged Pu'er tea Brewed For 30sec",
           1376,
           "Beverages"
          ],
          [
           1677,
           "G96460_1x_BF3_01_31204",
           "ALLEGRO aged Pu'er tea Brewed For 1min",
           1270,
           "Beverages"
          ],
          [
           1678,
           "G96461_1x_BC7_01_31178",
           "ALLEGRO aged Pu'er tea Brewed For 4min",
           1303,
           "Beverages"
          ],
          [
           1679,
           "G96462_1x_BE2_01_31195",
           "ALLEGRO aged Pu'er tea Brewed For 4hours",
           1346,
           "Beverages"
          ],
          [
           1680,
           "G96463_1x_RF10_01_31115",
           "ALLEGRO aged Pu'er tea Brewed For 30sec",
           1195,
           "Beverages"
          ],
          [
           1681,
           "G96464_1x_RF6_01_31111",
           "ALLEGRO aged Pu'er tea Brewed For 1min",
           1218,
           "Beverages"
          ],
          [
           1682,
           "G96465_1x_RH2_01_31132",
           "ALLEGRO aged Pu'er tea Brewed For 4min",
           1231,
           "Beverages"
          ],
          [
           1683,
           "G96466_1x_BC4_01_31175",
           "ALLEGRO aged Pu'er tea Brewed For 4hours",
           1351,
           "Beverages"
          ],
          [
           1684,
           "G96479_1x_RA11_01_31054",
           "ALLEGRO tropical tea White tea Brewed For 30sec",
           1083,
           "Beverages"
          ],
          [
           1685,
           "G96480_1x_RH10_01_31140",
           "ALLEGRO tropical tea White tea Brewed For 1min",
           1208,
           "Beverages"
          ],
          [
           1686,
           "G96481_1x_RF9_01_31114",
           "ALLEGRO tropical tea White tea Brewed For 4min",
           1325,
           "Beverages"
          ],
          [
           1687,
           "G96482_1x_RA7_01_31050",
           "ALLEGRO tropical tea White tea Brewed For 4hours",
           1275,
           "Beverages"
          ],
          [
           1688,
           "G96483_1x_RF12_01_31117",
           "ALLEGRO tropical tea White tea Brewed For 30sec",
           1165,
           "Beverages"
          ],
          [
           1689,
           "G96484_1x_RE9_01_31102",
           "ALLEGRO tropical tea White tea Brewed For 1min",
           1264,
           "Beverages"
          ],
          [
           1690,
           "G96485_1x_RA8_01_31051",
           "ALLEGRO tropical tea White tea Brewed For 4min",
           1254,
           "Beverages"
          ],
          [
           1691,
           "G96486_1x_RG5_01_31122",
           "ALLEGRO tropical tea White tea Brewed For 4hours",
           1268,
           "Beverages"
          ],
          [
           1692,
           "G96487_1x_RD6_01_31085",
           "ALLEGRO tropical tea White tea Brewed For 30sec",
           1178,
           "Beverages"
          ],
          [
           1693,
           "G96488_1x_RD5_01_31084",
           "ALLEGRO tropical tea White tea Brewed For 1min",
           1209,
           "Beverages"
          ],
          [
           1694,
           "G96489_1x_RA6_01_31048",
           "ALLEGRO tropical tea White tea Brewed For 4min",
           1251,
           "Beverages"
          ],
          [
           1695,
           "G96490_1x_BG7_01_31219",
           "ALLEGRO tropical tea White tea Brewed For 4hours",
           1441,
           "Beverages"
          ],
          [
           1696,
           "G96491_1x_RE5_01_31098",
           "NUMI White rose White tea Brewed For 30sec",
           1155,
           "Beverages"
          ],
          [
           1697,
           "G96492_1x_RC7_01_31074",
           "NUMI White rose White tea Brewed For 1min",
           1209,
           "Beverages"
          ],
          [
           1698,
           "G96493_1x_RH3_01_31133",
           "NUMI White rose White tea Brewed For 4min",
           1288,
           "Beverages"
          ],
          [
           1699,
           "G96494_1x_BE4_01_31197",
           "NUMI White rose White tea Brewed For 4hours",
           1481,
           "Beverages"
          ],
          [
           1700,
           "G96495_1x_RE3_01_31096",
           "NUMI White rose White tea Brewed For 30sec",
           1177,
           "Beverages"
          ],
          [
           1701,
           "G96496_1x_RF4_01_31109",
           "NUMI White rose White tea Brewed For 1min",
           1242,
           "Beverages"
          ],
          [
           1702,
           "G96497_1x_RC10_01_31077",
           "NUMI White rose White tea Brewed For 4min",
           1327,
           "Beverages"
          ],
          [
           1703,
           "G96498_1x_BH5_01_31225",
           "NUMI White rose White tea Brewed For 4hours",
           1441,
           "Beverages"
          ],
          [
           1704,
           "G96499_1x_RB2_01_31057",
           "NUMI White rose White tea Brewed For 30sec",
           1155,
           "Beverages"
          ],
          [
           1705,
           "G96500_1x_RB10_01_31065",
           "NUMI White rose White tea Brewed For 1min",
           1202,
           "Beverages"
          ],
          [
           1706,
           "G96501_1x_RB8_01_31063",
           "NUMI White rose White tea Brewed For 4min",
           1282,
           "Beverages"
          ],
          [
           1707,
           "G96502_1x_BA8_01_31154",
           "NUMI White rose White tea Brewed For 4hours",
           1436,
           "Beverages"
          ],
          [
           1708,
           "G96505_1x_BD6_01_31189",
           "American Classic Tea Black tea Brewed For 4hours",
           1498,
           "Beverages"
          ],
          [
           1709,
           "G96571_1x_BE5_01_31198",
           "Numi Emperor's Pu'er tea Brewed For 30sec",
           1309,
           "Beverages"
          ],
          [
           1710,
           "G96572_1x_BB6_01_31165",
           "Numi Emperor's Pu'er tea Brewed For 1min",
           1328,
           "Beverages"
          ],
          [
           1711,
           "G96574_1x_BH8_01_31230",
           "Numi Emperor's Pu'er tea Brewed For 4hours",
           1344,
           "Beverages"
          ],
          [
           1712,
           "G96576_1x_BD2_01_31185",
           "Numi Emperor's Pu'er tea Brewed For 1min",
           1316,
           "Beverages"
          ],
          [
           1713,
           "G96577_1x_BG3_01_31215",
           "Numi Emperor's Pu'er tea Brewed For 4min",
           1372,
           "Beverages"
          ],
          [
           1714,
           "G96578_1x_BF4_01_31205",
           "Numi Emperor's Pu'er tea Brewed For 4hours",
           1416,
           "Beverages"
          ],
          [
           1715,
           "G96579_1x_RC9_01_31076",
           "Numi Emperor's Pu'er tea Brewed For 30sec",
           1233,
           "Beverages"
          ],
          [
           1716,
           "G96580_1x_RC8_01_31075",
           "Numi Emperor's Pu'er tea Brewed For 1min",
           1262,
           "Beverages"
          ],
          [
           1717,
           "G96581_1x_BH8_01_31228",
           "Numi Emperor's Pu'er tea Brewed For 4min",
           1382,
           "Beverages"
          ],
          [
           1718,
           "G96582_1x_BA6_01_31152",
           "Numi Emperor's Pu'er tea Brewed For 4hours",
           1313,
           "Beverages"
          ],
          [
           1719,
           "G96583_1x_RB12_01_31067",
           "Nestle Water Brewed For 4min",
           1195,
           "Beverages"
          ],
          [
           1720,
           "G96584_1x_RG3_01_31120",
           "Nestle Pure Life Filtered Water B",
           1108,
           "Beverages"
          ],
          [
           1721,
           "G96585_1x_RH9_01_31139",
           "Nestle Water Brewed For 1min",
           1086,
           "Beverages"
          ],
          [
           1722,
           "G96586_1x_RF7_01_31112",
           "Nestle Water Brewed For 30s",
           1058,
           "Beverages"
          ],
          [
           1723,
           "G96587_1x_BB10_01_31169",
           "Charleston tea Plantation Green tea Brewed For 4hours",
           1411,
           "Beverages"
          ],
          [
           1724,
           "G96588_1x_RA3_01_31045",
           "Charleston tea Plantation Green tea Brewed For 4min",
           1245,
           "Beverages"
          ],
          [
           1725,
           "G96589_1x_RA12_01_31055",
           "Higghing & Burke Green vert Green tea Brewed For 30sec",
           1182,
           "Beverages"
          ],
          [
           1726,
           "G96590_1x_RA4_01_31046",
           "Higghing & Burke Green vert Green tea Brewed For 4min",
           1248,
           "Beverages"
          ],
          [
           1727,
           "G96591_1x_RH11_01_31141",
           "Higghing & Burke Green vert Green tea Brewed For 30sec",
           1173,
           "Beverages"
          ],
          [
           1728,
           "G96592_1x_BF5_01_31206",
           "Higghing & Burke Green vert Green tea Brewed For 4hours",
           1427,
           "Beverages"
          ],
          [
           1729,
           "G96593_1x_RG7_01_31125",
           "Higghing & Burke Green vert Green tea Brewed For 30sec",
           1133,
           "Beverages"
          ],
          [
           1730,
           "G96594_1x_BF2_01_31203",
           "Higghing & Burke Green vert Green tea Brewed For 4hours",
           1409,
           "Beverages"
          ],
          [
           1731,
           "G96595_1x_BB4_01_31163",
           "Charleston tea Plantation Green tea Brewed For 4hours",
           1539,
           "Beverages"
          ],
          [
           1732,
           "G96596_1x_RC6_01_31073",
           "Charleston tea Plantation Green tea Brewed For 30sec",
           1192,
           "Beverages"
          ],
          [
           1733,
           "G96597_1x_RD10_01_31089",
           "Charleston tea Plantation Green tea Brewed For 1min",
           1226,
           "Beverages"
          ],
          [
           1734,
           "G96598_1x_RC2_01_31069",
           "Higghing & Burke Green vert Green tea Brewed For 1min",
           1236,
           "Beverages"
          ],
          [
           1735,
           "G96599_1x_BB7_01_31166",
           "Higghing & Burke Green vert Green tea Brewed For 4hours",
           1363,
           "Beverages"
          ],
          [
           1736,
           "G96600_1x_RB3_01_31058",
           "Higghing & Burke Green vert Green tea Brewed For 1min",
           1170,
           "Beverages"
          ],
          [
           1737,
           "G96601_1x_RE4_01_31097",
           "Higghing & Burke Green vert Green tea Brewed For 4min",
           1315,
           "Beverages"
          ],
          [
           1738,
           "G96602_1x_RB11_01_31066",
           "Higghing & Burke Green vert Green tea Brewed For 1min",
           1255,
           "Beverages"
          ],
          [
           1739,
           "G96603_1x_RE8_01_31101",
           "Higghing & Burke Green vert Green tea Brewed For 4min",
           1395,
           "Beverages"
          ],
          [
           1740,
           "G96604_1x_RB9_01_31064",
           "Charleston tea Plantation Green tea Brewed For 4min",
           1283,
           "Beverages"
          ],
          [
           1741,
           "G96605_1x_RD7_01_31086",
           "Charleston tea Plantation Green tea Brewed For 1min",
           1210,
           "Beverages"
          ],
          [
           1742,
           "G96606_1x_RD11_01_31090",
           "Charleston tea Plantation Green tea Brewed For 30sec",
           1240,
           "Beverages"
          ],
          [
           1743,
           "G96607_1x_BA7_01_31153",
           "Salada Matcha tea Brewed For 4min",
           1350,
           "Beverages"
          ],
          [
           1744,
           "G96608_1x_RB6_01_31061",
           "Salada Matcha tea Brewed For 4hours",
           1373,
           "Beverages"
          ],
          [
           1745,
           "G96610_1x_BA4_01_31150",
           "Salada Matcha tea Brewed For 30sec",
           1211,
           "Beverages"
          ],
          [
           1746,
           "G96611_1x_RA5_01_31047",
           "Nestle Water Brewed For 4min",
           1040,
           "Beverages"
          ],
          [
           1747,
           "G96613_1x_RA2_01_31044",
           "Nestle Pure Life Filtered Water A",
           1044,
           "Beverages"
          ],
          [
           1748,
           "G96614_1x_BF7_01_31211",
           "Salada Matcha tea Brewed For 1min",
           1307,
           "Beverages"
          ],
          [
           1749,
           "G96616_1x_RG12_01_31130",
           "Salada Matcha tea Brewed For 4hours",
           1416,
           "Beverages"
          ],
          [
           1750,
           "G96617_1x_RE2_01_31095",
           "Prince of Peace Oolong tea Brewed For 4min",
           1220,
           "Beverages"
          ],
          [
           1751,
           "G96618_1x_BE3_01_31196",
           "Nestle Water Brewed For 4hrs",
           1143,
           "Beverages"
          ],
          [
           1752,
           "G96619_1x_RH12_01_31142",
           "Nestle Water Brewed For 1min",
           1045,
           "Beverages"
          ],
          [
           1753,
           "G96620_1x_BH2_01_31222",
           "Lipton Matcha tea Brewed For 30sec",
           1335,
           "Beverages"
          ],
          [
           1754,
           "G96621_1x_BH6_01_31226",
           "Lipton Matcha tea Brewed For 1min",
           1383,
           "Beverages"
          ],
          [
           1755,
           "G96622_1x_BC6_01_31177",
           "Lipton Matcha tea Brewed For 4min",
           1436,
           "Beverages"
          ],
          [
           1756,
           "G96623_1x_BD7_01_31190",
           "Lipton Matcha tea Brewed For 4hours",
           1446,
           "Beverages"
          ],
          [
           1757,
           "G96624_1x_RE7_01_31100",
           "Prince of Peace Oolong tea Brewed For 1min",
           1094,
           "Beverages"
          ],
          [
           1758,
           "G96625_1x_BC3_01_31174",
           "Lipton Matcha tea Brewed For 30sec",
           1256,
           "Beverages"
          ],
          [
           1759,
           "G96626_1x_BH7_01_31227",
           "Lipton Matcha tea Brewed For 1min",
           1354,
           "Beverages"
          ],
          [
           1760,
           "G96628_1x_BE8_01_31201",
           "Lipton Matcha tea Brewed For 4hours",
           1517,
           "Beverages"
          ],
          [
           1761,
           "G96630_1x_BB9_01_31168",
           "Lipton Matcha tea Brewed For 30sec",
           1293,
           "Beverages"
          ],
          [
           1762,
           "G96631_1x_BD8_01_31191",
           "Lipton Matcha tea Brewed For 1min",
           1301,
           "Beverages"
          ],
          [
           1763,
           "G96632_1x_BH3_01_31223",
           "Lipton Matcha tea Brewed For 4min",
           1450,
           "Beverages"
          ],
          [
           1764,
           "G96633_1x_BB5_01_31164",
           "Lipton Matcha tea Brewed For 4hours",
           1487,
           "Beverages"
          ],
          [
           1765,
           "G96634_1x_RC4_01_31071",
           "Prince of Peace Oolong tea Brewed For 30sec",
           1140,
           "Beverages"
          ],
          [
           1766,
           "G96635_RF4_01_31845",
           "Ground coffee",
           1919,
           "Beverages"
          ],
          [
           1767,
           "G96636_RF3_01_31842",
           "Ground coffee",
           1830,
           "Beverages"
          ],
          [
           1768,
           "G96639_RC1_01_31785",
           "water",
           1126,
           "Beverages"
          ],
          [
           1769,
           "G96649_1x_RG2_01_31119",
           "Charleston tea Plantation Green tea Brewed For 30sec",
           1221,
           "Beverages"
          ],
          [
           1770,
           "G96650_1x_RD8_01_31087",
           "Charleston tea Plantation Green tea Brewed For 1min",
           1248,
           "Beverages"
          ],
          [
           1771,
           "G96651_1x_RE10_01_31103",
           "Charleston tea Plantation Green tea Brewed For 4min",
           1353,
           "Beverages"
          ],
          [
           1772,
           "G96652_1x_BC8_01_31179",
           "Charleston tea Plantation Green tea Brewed For 4hours",
           1450,
           "Beverages"
          ],
          [
           1773,
           "G96653_1x_RG4_01_31121",
           "Allegro Oolong tea Brewed For 30sec",
           1134,
           "Beverages"
          ],
          [
           1774,
           "G96654_1x_RD12_01_31091",
           "Allegro Oolong tea Brewed For 30sec",
           1076,
           "Beverages"
          ],
          [
           1775,
           "G96655_1x_RC11_01_31078",
           "Allegro Oolong tea Brewed For 1min",
           1114,
           "Beverages"
          ],
          [
           1776,
           "G96656_1x_BB8_01_31167",
           "Allegro Oolong tea Brewed For 4min",
           1295,
           "Beverages"
          ],
          [
           1777,
           "G96657_1x_BG6_01_31218",
           "Allegro Oolong tea Brewed For 4hours",
           1301,
           "Beverages"
          ],
          [
           1778,
           "G96659_1x_RF11_01_31116",
           "Allegro Oolong tea Brewed For 30sec",
           1090,
           "Beverages"
          ],
          [
           1779,
           "G96660_1x_RG11_01_31129",
           "Allegro Oolong tea Brewed For 1min",
           1102,
           "Beverages"
          ],
          [
           1780,
           "G96661_1x_RE12_01_31105",
           "Allegro Oolong tea Brewed For 4min",
           1181,
           "Beverages"
          ],
          [
           1781,
           "G96662_1x_BG2_01_31214",
           "Allegro Oolong tea Brewed For 4hours",
           1279,
           "Beverages"
          ],
          [
           1782,
           "G96663_1x_RD3_01_31082",
           "Allegro Oolong tea Brewed For 1min",
           1167,
           "Beverages"
          ],
          [
           1783,
           "G96664_1x_RA10_01_31053",
           "Allegro Oolong tea Brewed For 4min",
           1107,
           "Beverages"
          ],
          [
           1784,
           "G96667_1x_RF8_01_31113",
           "American Classic Tea Black tea Brewed For 1min",
           1314,
           "Beverages"
          ],
          [
           1785,
           "G96668_1x_RC3_01_31070",
           "American Classic Tea Black tea Brewed For 30sec",
           1283,
           "Beverages"
          ],
          [
           1786,
           "G96669_1x_RE6_01_31099",
           "Higghing & Burke english breakfast Black tea Brewed For 30sec",
           1244,
           "Beverages"
          ],
          [
           1787,
           "G96670_1x_RH5_01_31135",
           "American Classic Tea Black tea Brewed For 4min",
           1291,
           "Beverages"
          ],
          [
           1788,
           "G96671_1x_BD4_01_31187",
           "Higghing & Burke english breakfast Black tea Brewed For 4hours",
           1531,
           "Beverages"
          ],
          [
           1789,
           "G96672_1x_BC5_01_31176",
           "Higghing & Burke english breakfast Black tea Brewed For 4hours",
           1497,
           "Beverages"
          ],
          [
           1790,
           "G96673_1x_RF5_01_31110",
           "American Classic Tea Black tea Brewed For 4min",
           1406,
           "Beverages"
          ],
          [
           1791,
           "G96674_1x_BG8_01_31220",
           "American Classic Tea Black tea Brewed For 4hours",
           1494,
           "Beverages"
          ],
          [
           1792,
           "G96675_1x_RB7_01_31062",
           "American Classic Tea Black tea Brewed For 30sec",
           1173,
           "Beverages"
          ],
          [
           1793,
           "G96677_1x_RH8_01_31138",
           "Higghing & Burke english breakfast Black tea Brewed For 1min",
           1173,
           "Beverages"
          ],
          [
           1794,
           "G96678_1x_RH4_01_31134",
           "American Classic Tea Black tea Brewed For 1min",
           1214,
           "Beverages"
          ],
          [
           1795,
           "G96679_1x_RH7_01_31137",
           "American Classic Tea Black tea Brewed For 1min",
           1237,
           "Beverages"
          ],
          [
           1796,
           "G96680_1x_BD5_01_31188",
           "American Classic Tea Black tea Brewed For 4hours",
           1493,
           "Beverages"
          ],
          [
           1797,
           "G96681_1x_RF2_01_31107",
           "American Classic Tea Black tea Brewed For 4min",
           1411,
           "Beverages"
          ],
          [
           1798,
           "G96682_1x_BA5_01_31151",
           "Higghing & Burke english breakfast Black tea Brewed For 4hours",
           1428,
           "Beverages"
          ],
          [
           1799,
           "G96683_1x_RD9_01_31088",
           "Higghing & Burke english breakfast Black tea Brewed For 30sec",
           1289,
           "Beverages"
          ],
          [
           1800,
           "G96684_1x_BE7_01_31200",
           "Nestle Water Brewed For 4hrs",
           1183,
           "Beverages"
          ],
          [
           1801,
           "G96685_1x_RA9_01_31052",
           "Higghing & Burke english breakfast Black tea Brewed For 1min",
           1272,
           "Beverages"
          ],
          [
           1802,
           "G96686_1x_RD4_01_31083",
           "Higghing & Burke english breakfast Black tea Brewed For 4min",
           1462,
           "Beverages"
          ],
          [
           1803,
           "G96687_1x_RC5_01_31072",
           "Higghing & Burke english breakfast Black tea Brewed For 4min",
           1484,
           "Beverages"
          ],
          [
           1804,
           "G96688_1x_RG10_01_31128",
           "Higghing & Burke english breakfast Black tea Brewed For 1min",
           1312,
           "Beverages"
          ],
          [
           1805,
           "G96689_1x_RF3_01_31108",
           "Higghing & Burke english breakfast Black tea Brewed For 4min",
           1389,
           "Beverages"
          ],
          [
           1806,
           "G96690_1x_RG6_01_31123",
           "Higghing & Burke english breakfast Black tea Brewed For 30sec",
           1275,
           "Beverages"
          ],
          [
           1807,
           "G96695_1x_RD2_01_31081",
           "American Classic Tea Black tea Brewed For 30sec",
           1215,
           "Beverages"
          ],
          [
           1808,
           "G96703_RC8_01_31794",
           "Ground coffee",
           1850,
           "Beverages"
          ],
          [
           1809,
           "G96704_1x_RH2_01_31883",
           "Ground coffee",
           1919,
           "Beverages"
          ],
          [
           1810,
           "G96705_RC3_01_31787",
           "Ground coffee",
           1911,
           "Beverages"
          ],
          [
           1811,
           "G96706_RC12_01_31800",
           "Ground coffee",
           1870,
           "Beverages"
          ],
          [
           1812,
           "G96708_RF2_01_31841",
           "Ground coffee",
           1924,
           "Beverages"
          ],
          [
           1813,
           "G96709_RF6_01_31851",
           "Ground coffee",
           1888,
           "Beverages"
          ],
          [
           1814,
           "G96710_RG5_01_31870",
           "Ground coffee",
           1964,
           "Beverages"
          ],
          [
           1815,
           "G96711_RE1_01_31821",
           "Ground coffee",
           1854,
           "Beverages"
          ],
          [
           1816,
           "G96712_1x_RH8_01_31891",
           "Ground coffee",
           1903,
           "Beverages"
          ],
          [
           1817,
           "G96713_RD1_01_31803",
           "water",
           1041,
           "Beverages"
          ],
          [
           1818,
           "G96714_RE9_01_31833",
           "Ground coffee",
           1931,
           "Beverages"
          ],
          [
           1819,
           "G96715_RC10_01_31798",
           "Ground coffee",
           1782,
           "Beverages"
          ],
          [
           1820,
           "G96716_RD2_01_31804",
           "Ground coffee",
           1951,
           "Beverages"
          ],
          [
           1821,
           "G96717_RF11_01_31860",
           "Ground coffee",
           1959,
           "Beverages"
          ],
          [
           1836,
           "RC12_tk2_RC12_01_49119",
           "black.wine",
           2488,
           "Beverages"
          ],
          [
           1844,
           "RD5_RD5_01_49097",
           "wine.white",
           2479,
           "Beverages"
          ]
         ],
         "hovertemplate": "color=Beverages<br>x=%{x}<br>y=%{y}<br>hover_data_0=%{customdata[0]}<br>hover_data_1=%{customdata[1]}<br>hover_data_2=%{customdata[2]}<br>hover_data_3=%{customdata[3]}<br>hover_data_4=%{customdata[4]}<extra></extra>",
         "legendgroup": "Beverages",
         "marker": {
          "color": "#0DF9FF",
          "symbol": "circle"
         },
         "mode": "markers",
         "name": "Beverages",
         "showlegend": true,
         "type": "scattergl",
         "x": [
          8.114707946777344,
          8.302796363830566,
          9.267321586608887,
          12.469082832336426,
          11.862053871154785,
          6.7847981452941895,
          6.871841907501221,
          6.782878398895264,
          8.12753963470459,
          9.532283782958984,
          8.642183303833008,
          10.135982513427734,
          8.174498558044434,
          12.403135299682617,
          14.786828994750977,
          18.26859474182129,
          19.0168514251709,
          18.73375701904297,
          18.424156188964844,
          12.342509269714355,
          13.690279960632324,
          9.9858980178833,
          14.740782737731934,
          7.795632362365723,
          18.95744514465332,
          18.077037811279297,
          19.235027313232422,
          18.942216873168945,
          18.562808990478516,
          11.801088333129883,
          18.67473793029785,
          18.425825119018555,
          18.034259796142578,
          12.276079177856445,
          11.428556442260742,
          17.630830764770508,
          13.36581802368164,
          12.48486614227295,
          19.329200744628906,
          15.952874183654785,
          18.615882873535156,
          18.359725952148438,
          18.475276947021484,
          18.55493927001953,
          12.443455696105957,
          18.50670051574707,
          18.472652435302734,
          15.511462211608887,
          11.178370475769043,
          15.946274757385254,
          19.28761100769043,
          19.232257843017578,
          17.751123428344727,
          9.12264633178711,
          7.853031158447266,
          9.837702751159668,
          13.652274131774902,
          12.08258056640625,
          10.665804862976074,
          11.963774681091309,
          8.67117977142334,
          14.890105247497559,
          11.457530975341797,
          11.006607055664062,
          9.105144500732422,
          10.929436683654785,
          11.581103324890137,
          8.883883476257324,
          9.523008346557617,
          10.298614501953125,
          8.98549747467041,
          10.022306442260742,
          11.36016845703125,
          12.48021125793457,
          8.541098594665527,
          8.603193283081055,
          9.325879096984863,
          10.088265419006348,
          6.145859718322754,
          6.361511707305908,
          12.511153221130371,
          12.319473266601562,
          12.194504737854004,
          12.987850189208984,
          11.662906646728516,
          6.940941333770752,
          8.573342323303223,
          10.31632137298584,
          10.388480186462402,
          9.095574378967285,
          8.969491958618164,
          9.074009895324707,
          10.308561325073242,
          10.411378860473633,
          10.175983428955078,
          12.828727722167969,
          10.152302742004395,
          13.532219886779785,
          8.891453742980957,
          10.480513572692871,
          19.217288970947266,
          10.348271369934082,
          10.292441368103027,
          12.515398979187012,
          10.169540405273438,
          1.7736555337905884,
          -0.4724549651145935,
          0.3086046278476715,
          -1.9138342142105103,
          1.9158724546432495,
          1.6484382152557373,
          0.7163794040679932,
          1.450286626815796,
          -1.6349842548370361,
          0.09822308272123337,
          -0.76332688331604,
          -2.074160575866699,
          0.7721595168113708,
          7.517590045928955,
          7.323237895965576,
          7.292328357696533,
          7.4373393058776855,
          7.615153789520264,
          7.40209436416626,
          7.59473991394043,
          7.6302666664123535,
          7.613539218902588,
          7.132517337799072,
          7.1539130210876465,
          7.130572319030762,
          8.1460542678833,
          1.950726866722107,
          7.679035186767578,
          8.265941619873047,
          8.233508110046387,
          8.085245132446289,
          7.360843181610107,
          7.2024006843566895,
          7.462072372436523,
          7.19894552230835,
          6.9328107833862305,
          7.100496292114258,
          1.0812238454818726,
          7.242629528045654,
          7.41264009475708,
          7.423275947570801,
          7.264490604400635,
          7.580610752105713,
          7.422032833099365,
          7.436513423919678,
          7.42302942276001,
          3.068957567214966,
          2.744871139526367,
          2.8291518688201904,
          3.0287365913391113,
          3.806854486465454,
          4.046636581420898,
          3.4337711334228516,
          3.0833723545074463,
          4.307831287384033,
          4.608682155609131,
          2.353848695755005,
          5.798558712005615,
          5.26246976852417,
          5.326332092285156,
          5.066253662109375,
          4.851371765136719,
          5.073978424072266,
          5.2479987144470215,
          4.428809642791748,
          4.504173755645752,
          4.053677558898926,
          3.7735636234283447,
          5.284078598022461,
          4.906479358673096,
          5.2519378662109375,
          3.0083961486816406,
          5.077967643737793,
          5.087547779083252,
          2.4176368713378906,
          2.469956636428833,
          4.844088554382324,
          4.4155120849609375,
          2.6708502769470215,
          2.628575563430786,
          5.298107624053955,
          5.184447288513184,
          3.250948667526245,
          2.9912471771240234,
          3.9677951335906982,
          4.555685520172119,
          5.446688175201416,
          4.57538366317749,
          4.780679225921631,
          4.72100305557251,
          4.635436058044434,
          4.675893783569336,
          5.292022228240967,
          4.797214984893799,
          4.698179721832275,
          4.642919540405273,
          8.203447341918945,
          8.33240795135498,
          8.173235893249512,
          5.689152717590332,
          5.593291282653809,
          5.834629058837891,
          5.333224773406982,
          6.01718807220459,
          5.44708776473999,
          5.596175193786621,
          5.501298904418945,
          6.3494696617126465,
          6.583770751953125,
          6.661994934082031,
          7.169888496398926,
          6.731212615966797,
          6.219857215881348,
          6.928503513336182,
          6.440677165985107,
          6.932672023773193,
          6.608293056488037,
          6.218748092651367,
          6.955576419830322,
          7.206340789794922,
          5.1699371337890625,
          5.727236747741699,
          5.640052795410156,
          5.583664894104004,
          5.299949645996094,
          5.14627742767334,
          5.241390705108643,
          6.1252312660217285,
          5.08273983001709,
          5.121890068054199,
          -1.6162863969802856,
          -2.215665102005005,
          -0.7465278506278992,
          -2.1322684288024902,
          -2.210470676422119,
          -1.7984817028045654,
          -1.925791621208191,
          -1.5456653833389282,
          0.8960515856742859,
          0.7220556735992432,
          0.4053160846233368,
          -1.8917838335037231,
          1.597636342048645,
          1.1723473072052002,
          0.31903597712516785,
          -0.6250540018081665,
          0.9774717092514038,
          1.490635633468628,
          -0.526740312576294,
          0.3075745105743408,
          1.3100067377090454,
          1.4313639402389526,
          -0.5686725378036499,
          0.5140687227249146,
          0.9952555894851685,
          1.635676622390747,
          0.17786258459091187,
          0.36545488238334656,
          0.5294157862663269,
          1.6303173303604126,
          0.19535022974014282,
          0.625935435295105,
          1.9150482416152954,
          1.6488357782363892,
          -0.08275850862264633,
          0.19991855323314667,
          0.2848154902458191,
          -1.7869727611541748,
          -2.17050838470459,
          -0.7767916321754456,
          -1.993935227394104,
          -0.8628012537956238,
          -1.4025455713272095,
          0.8285332322120667,
          1.0545849800109863,
          -1.2957371473312378,
          -0.009208819828927517,
          0.17924796044826508,
          -0.8862689733505249,
          -0.3375619649887085,
          -0.4001992344856262,
          -0.21912872791290283,
          -0.6109673380851746,
          1.7809247970581055,
          -0.7304186224937439,
          1.0202186107635498,
          0.4947741627693176,
          0.8960205316543579,
          0.6501566767692566,
          -0.02782260812819004,
          1.4628759622573853,
          1.7948163747787476,
          1.7779738903045654,
          0.07477724552154541,
          1.9834665060043335,
          0.5164278149604797,
          1.2214241027832031,
          0.24105224013328552,
          -0.10480175167322159,
          1.5800492763519287,
          1.8289291858673096,
          0.2372749000787735,
          0.30854180455207825,
          1.9513403177261353,
          1.0539698600769043,
          1.1925400495529175,
          -1.1020441055297852,
          0.37296587228775024,
          0.7662902474403381,
          -1.411965250968933,
          -0.4803828299045563,
          -0.4491077661514282,
          -0.3631872534751892,
          -0.3421623110771179,
          0.13553284108638763,
          0.01418194081634283,
          -1.9566600322723389,
          -0.5061200857162476,
          0.5576485395431519,
          -1.8131768703460693,
          -0.5884926319122314,
          -0.04880298301577568,
          0.002770607592537999,
          0.6046251654624939,
          6.386571884155273,
          5.608717441558838,
          1.0682635307312012,
          1.7201637029647827,
          1.9045008420944214,
          0.12579859793186188,
          -0.0752687156200409,
          -0.5430245399475098,
          -0.08829670399427414,
          0.1503894329071045,
          -2.1790380477905273,
          -1.2385869026184082,
          -0.1774730533361435,
          -0.29557159543037415,
          0.9842174053192139,
          -1.0299887657165527,
          0.10266771167516708,
          1.8554534912109375,
          0.2486027032136917,
          1.6075866222381592,
          1.3834657669067383,
          0.16790904104709625,
          0.26420697569847107,
          0.07606493681669235,
          0.1322055459022522,
          0.33248546719551086,
          1.7222214937210083,
          0.907095730304718,
          0.7072322964668274,
          0.36655712127685547,
          0.2818712592124939,
          -0.01091612596064806,
          0.16663143038749695,
          0.04654833674430847,
          -1.3103811740875244,
          -0.09730955958366394,
          0.16550612449645996,
          0.20595534145832062,
          0.06106441095471382,
          -0.04744839295744896,
          0.9788880944252014,
          1.661498785018921,
          6.680105209350586,
          6.098465919494629,
          6.206180572509766,
          6.402420997619629,
          5.652487754821777,
          6.6778645515441895,
          6.030280113220215,
          5.841389179229736,
          5.416341781616211,
          1.1349986791610718,
          6.8824543952941895,
          6.129832744598389,
          5.8163862228393555,
          6.261576175689697,
          -4.3129448890686035,
          -4.254990100860596
         ],
         "xaxis": "x",
         "y": [
          10.732625961303711,
          5.846803665161133,
          5.040308952331543,
          0.8169147968292236,
          1.5290824174880981,
          5.306321620941162,
          5.276930809020996,
          5.197542190551758,
          5.923853874206543,
          6.007785797119141,
          5.960952281951904,
          1.8520545959472656,
          5.780179977416992,
          4.57338285446167,
          8.451406478881836,
          7.459792137145996,
          6.208147048950195,
          7.299571514129639,
          6.947519302368164,
          4.8705854415893555,
          9.983551025390625,
          9.696931838989258,
          1.9345953464508057,
          2.7590270042419434,
          6.295216083526611,
          7.128399848937988,
          6.218797206878662,
          6.204052925109863,
          7.191353797912598,
          5.251346588134766,
          7.077199935913086,
          6.8549299240112305,
          7.434546947479248,
          4.965713024139404,
          9.490493774414062,
          7.719818115234375,
          10.090679168701172,
          4.780416965484619,
          6.012696266174316,
          1.3364375829696655,
          7.691503524780273,
          7.17534065246582,
          7.044842720031738,
          6.714318752288818,
          10.4132661819458,
          6.656628608703613,
          7.519139766693115,
          1.409409523010254,
          9.719531059265137,
          1.5287774801254272,
          5.954558372497559,
          6.093568801879883,
          7.620187759399414,
          7.295443534851074,
          2.7926220893859863,
          9.641053199768066,
          5.232431411743164,
          5.441660404205322,
          4.636132717132568,
          8.827764511108398,
          2.630279302597046,
          6.717700004577637,
          3.7076077461242676,
          3.6941308975219727,
          10.364991188049316,
          0.41443726420402527,
          5.775832176208496,
          6.524188041687012,
          7.476661205291748,
          2.1180412769317627,
          7.213587284088135,
          6.515401840209961,
          7.506050109863281,
          8.392378807067871,
          10.77730941772461,
          10.734649658203125,
          4.5665669441223145,
          4.390307426452637,
          4.939383506774902,
          5.251519203186035,
          6.997526168823242,
          7.1259446144104,
          6.9902191162109375,
          9.080824851989746,
          11.616086959838867,
          5.473891258239746,
          6.502824306488037,
          6.443228244781494,
          7.004759788513184,
          5.6687774658203125,
          4.9693193435668945,
          6.0253987312316895,
          6.730207443237305,
          6.1474199295043945,
          5.954758167266846,
          6.982330799102783,
          6.657435894012451,
          7.502358436584473,
          6.904138088226318,
          1.8603904247283936,
          5.947196960449219,
          1.8502849340438843,
          1.8775330781936646,
          7.486578464508057,
          6.8106279373168945,
          2.080474615097046,
          -0.2066885530948639,
          -0.02500234730541706,
          1.3302940130233765,
          2.0647945404052734,
          2.4822001457214355,
          7.194784641265869,
          0.6499879956245422,
          1.8415420055389404,
          0.10996640473604202,
          0.33139073848724365,
          1.617966890335083,
          1.2186081409454346,
          12.128288269042969,
          12.046097755432129,
          11.925704002380371,
          11.969182014465332,
          11.02452278137207,
          11.550731658935547,
          12.894098281860352,
          12.830836296081543,
          12.71972370147705,
          11.89787769317627,
          12.142889022827148,
          12.043767929077148,
          13.262308120727539,
          7.642163276672363,
          13.01339340209961,
          13.245040893554688,
          13.411327362060547,
          13.503447532653809,
          11.10009479522705,
          11.173911094665527,
          10.9732666015625,
          12.00204086303711,
          12.085227012634277,
          12.105528831481934,
          7.4412055015563965,
          11.476055145263672,
          11.014376640319824,
          11.0687837600708,
          11.717192649841309,
          10.854103088378906,
          12.097136497497559,
          12.228094100952148,
          12.368390083312988,
          7.674992084503174,
          7.803188800811768,
          7.779110431671143,
          7.592898368835449,
          7.825088977813721,
          7.694935321807861,
          7.2785258293151855,
          7.605057239532471,
          6.509384632110596,
          6.198873519897461,
          7.6153154373168945,
          2.7876992225646973,
          6.822824954986572,
          6.1875691413879395,
          7.323118686676025,
          7.173863887786865,
          7.100566864013672,
          7.138265609741211,
          7.318059921264648,
          7.766604423522949,
          7.719027519226074,
          7.784029960632324,
          6.769196510314941,
          7.480628490447998,
          5.915205478668213,
          7.602822303771973,
          6.09077262878418,
          6.3461103439331055,
          7.741063117980957,
          7.738277912139893,
          6.065810203552246,
          7.715991020202637,
          7.7858734130859375,
          7.840261936187744,
          4.019620895385742,
          1.4327675104141235,
          7.686376571655273,
          7.563183307647705,
          7.759425640106201,
          7.6795854568481445,
          6.898774147033691,
          7.402153015136719,
          6.105462074279785,
          7.757662773132324,
          7.863726615905762,
          6.963641166687012,
          6.5787272453308105,
          7.49469518661499,
          7.59436559677124,
          6.389448642730713,
          13.50535774230957,
          13.598679542541504,
          13.430657386779785,
          4.517271518707275,
          4.486058235168457,
          5.176477909088135,
          5.244129657745361,
          3.547215700149536,
          4.10707426071167,
          5.346067428588867,
          3.9863548278808594,
          2.1454262733459473,
          3.4648125171661377,
          3.169734001159668,
          3.0082170963287354,
          3.2679708003997803,
          2.2580974102020264,
          3.4644458293914795,
          2.150240659713745,
          3.495894193649292,
          2.267904758453369,
          4.323863983154297,
          3.3783111572265625,
          2.538334369659424,
          1.3903911113739014,
          4.539680480957031,
          4.138955593109131,
          4.007576942443848,
          3.9800639152526855,
          1.3077096939086914,
          1.3280019760131836,
          2.396631956100464,
          1.3690276145935059,
          1.283210277557373,
          1.8962795734405518,
          1.2899914979934692,
          2.1526308059692383,
          1.4938476085662842,
          1.368302583694458,
          1.260934829711914,
          1.7651138305664062,
          1.9940227270126343,
          1.2794040441513062,
          1.495266318321228,
          2.113340377807617,
          1.7125475406646729,
          0.4807046055793762,
          2.259279251098633,
          3.7178795337677,
          3.784242868423462,
          1.5829254388809204,
          2.605893850326538,
          3.813953399658203,
          4.665438175201416,
          1.4268205165863037,
          1.7960724830627441,
          3.9248948097229004,
          7.140835285186768,
          1.0734522342681885,
          1.7125170230865479,
          3.398608446121216,
          7.490804672241211,
          0.6790129542350769,
          2.2951226234436035,
          3.4301042556762695,
          7.32043981552124,
          1.0790245532989502,
          1.7828854322433472,
          3.610445261001587,
          4.931066036224365,
          6.03538703918457,
          1.7696897983551025,
          1.4248583316802979,
          2.118948459625244,
          1.5441884994506836,
          2.2040793895721436,
          1.9753615856170654,
          1.8423362970352173,
          1.5342518091201782,
          2.0420055389404297,
          2.465625286102295,
          -0.009801497682929039,
          0.3554632067680359,
          -0.28424984216690063,
          0.03257398679852486,
          7.7422566413879395,
          3.7699997425079346,
          0.6770694255828857,
          3.852365493774414,
          1.451934576034546,
          7.2479023933410645,
          1.2618765830993652,
          7.253322601318359,
          7.642767906188965,
          1.5211180448532104,
          2.189476251602173,
          1.9928665161132812,
          7.749154567718506,
          1.3773664236068726,
          3.2414894104003906,
          2.717775344848633,
          4.321689128875732,
          3.8847525119781494,
          2.3019638061523438,
          2.411921262741089,
          4.147801876068115,
          4.6169586181640625,
          2.026479959487915,
          0.10727714747190475,
          0.2615867853164673,
          2.103332281112671,
          4.999598026275635,
          1.0676329135894775,
          0.7514402270317078,
          -0.22680512070655823,
          6.895376682281494,
          7.018551349639893,
          7.442667484283447,
          7.416128635406494,
          0.11480525135993958,
          1.0648947954177856,
          7.027678966522217,
          7.056089878082275,
          1.0407335758209229,
          6.558195114135742,
          7.261685848236084,
          7.547954082489014,
          0.03981227055191994,
          4.083725929260254,
          4.374823093414307,
          0.4138839840888977,
          1.8638970851898193,
          2.4111363887786865,
          4.077191352844238,
          7.765620708465576,
          0.2069871425628662,
          0.011535939760506153,
          -0.04875169321894646,
          1.3165351152420044,
          2.0552868843078613,
          0.15648992359638214,
          -0.009522326290607452,
          1.3072060346603394,
          2.183786392211914,
          0.24101924896240234,
          0.6353010535240173,
          3.7755637168884277,
          2.4996893405914307,
          1.8286807537078857,
          4.83388090133667,
          5.8721418380737305,
          5.682950019836426,
          5.241156578063965,
          5.933429718017578,
          0.9037322402000427,
          2.521972894668579,
          2.743671417236328,
          3.183617353439331,
          5.931809902191162,
          5.118107318878174,
          5.554042339324951,
          4.092571258544922,
          0.7002463936805725,
          4.399837017059326,
          5.527110576629639,
          5.561243057250977,
          4.494726181030273,
          4.780368328094482,
          2.613391876220703,
          1.5068598985671997,
          3.646467924118042,
          2.0527968406677246,
          3.865415573120117,
          3.7914938926696777,
          4.262260913848877,
          3.655515670776367,
          2.4353621006011963,
          4.271042346954346,
          1.5328845977783203,
          0.8501926064491272,
          3.1578848361968994,
          4.494694232940674,
          3.698157548904419,
          3.3674087524414062,
          7.7358198165893555,
          8.125812530517578
         ],
         "yaxis": "y"
        },
        {
         "customdata": [
          [
           25,
           "73472_1x_BC4_01_20736",
           "rice vinegar",
           1804,
           "Grains & Cereals"
          ],
          [
           103,
           "AMZ_10_tk2_RA11_01_48975",
           "White rice",
           2469,
           "Grains & Cereals"
          ],
          [
           110,
           "AMZ_21_RC2_01_48934",
           "Rice",
           2454,
           "Grains & Cereals"
          ],
          [
           113,
           "AMZ_26_RC7_01_48947",
           "Rice",
           2412,
           "Grains & Cereals"
          ],
          [
           115,
           "AMZ_31_tk2_RD2_01_48960",
           "Rice with catara",
           2468,
           "Grains & Cereals"
          ],
          [
           116,
           "AMZ_33_RD4_01_48963",
           "Rice",
           2488,
           "Grains & Cereals"
          ],
          [
           120,
           "AMZ_3_RA4_01_48882",
           "Bread filled with fried egg",
           2518,
           "Grains & Cereals"
          ],
          [
           123,
           "AMZ_43_RE4_01_48972",
           "Rice",
           2463,
           "Grains & Cereals"
          ],
          [
           125,
           "AMZ_45_RE6_01_48973",
           "Rice",
           2456,
           "Grains & Cereals"
          ],
          [
           133,
           "AMZ_8_RA9_01_48899",
           "White rice",
           2478,
           "Grains & Cereals"
          ],
          [
           141,
           "G72453_RA12_01_17534",
           "raw jasmine rice",
           1458,
           "Grains & Cereals"
          ],
          [
           149,
           "G72463_p1_g7_GD4_01_21938",
           "Borodinsky rye bread",
           1308,
           "Grains & Cereals"
          ],
          [
           152,
           "G72466_10x_BA8_01_17873",
           "baby food, Earth's best multigrain cereal mix",
           1769,
           "Grains & Cereals"
          ],
          [
           163,
           "G72485_RD10_01_18365",
           "jasmine rice",
           1598,
           "Grains & Cereals"
          ],
          [
           180,
           "G72525_10x_BB6_01_17913",
           "Naan",
           1695,
           "Grains & Cereals"
          ],
          [
           196,
           "G72685_10x_BE12_01_17847",
           "white rice",
           1581,
           "Grains & Cereals"
          ],
          [
           210,
           "G72726_BF5_01_19021",
           "pasta",
           1817,
           "Grains & Cereals"
          ],
          [
           226,
           "G72756_10x_BD5_01_17826",
           "shirataki spaghetti, pastazero",
           1741,
           "Grains & Cereals"
          ],
          [
           233,
           "G72767_BG7_01_19040",
           "Wheat bread",
           2120,
           "Grains & Cereals"
          ],
          [
           244,
           "G72782_10x_BF3_01_17851",
           "sandwich bread",
           1636,
           "Grains & Cereals"
          ],
          [
           249,
           "G72791_RA10_01_17532",
           "Osem Whole Wheat Israeli Matzo",
           1738,
           "Grains & Cereals"
          ],
          [
           256,
           "G72803_RD12_01_18368",
           "brown rice",
           1846,
           "Grains & Cereals"
          ],
          [
           258,
           "G72807_2x_RF9_01_19187",
           "rice krispies cereal",
           1867,
           "Grains & Cereals"
          ],
          [
           303,
           "G73519_1x_RG11_01_18588",
           "Marzen/Octoberfest-style ale grain mixture, liquid extract",
           2325,
           "Grains & Cereals"
          ],
          [
           349,
           "G73729_RC5_01_17561",
           "oats, Mcann's quick cooking",
           1964,
           "Grains & Cereals"
          ],
          [
           363,
           "G73970_2x_RD7_01_19155",
           "Frontier burrito plate;rice",
           2056,
           "Grains & Cereals"
          ],
          [
           369,
           "G73995_5x_RC3_01_19489",
           "bread",
           1935,
           "Grains & Cereals"
          ],
          [
           371,
           "G73999_5x_10ul_RG3_01_19552",
           "bread - rosinen broetchen",
           1880,
           "Grains & Cereals"
          ],
          [
           378,
           "G74019_5x_RB3_01_19487",
           "bread",
           1852,
           "Grains & Cereals"
          ],
          [
           417,
           "G75080_2x_RB2_01_19112",
           "signature kitchens toasted oats",
           1775,
           "Grains & Cereals"
          ],
          [
           420,
           "G75099_BB7_01_18930",
           "noodle - loving hut dish",
           1761,
           "Grains & Cereals"
          ],
          [
           423,
           "G75112_10x_BF8_01_23441",
           "usipa (boiled maize flour)",
           2010,
           "Grains & Cereals"
          ],
          [
           431,
           "G75131_RH9_01_17783",
           "golden quinoa pilaf",
           2110,
           "Grains & Cereals"
          ],
          [
           434,
           "G75135_RA9_01_17531",
           "bulgur wheat",
           1581,
           "Grains & Cereals"
          ],
          [
           435,
           "G75143_rerun_RB6_01_17554",
           "royal rainbow quinoa",
           2065,
           "Grains & Cereals"
          ],
          [
           480,
           "G75575_RH5_01_17768",
           "mixed brown rice",
           1803,
           "Grains & Cereals"
          ],
          [
           517,
           "G75674_RF8_01_17617",
           "coconut flour",
           1703,
           "Grains & Cereals"
          ],
          [
           526,
           "G75688_5x_BG11_01_20048",
           "quinoa from salad",
           2043,
           "Grains & Cereals"
          ],
          [
           528,
           "G75691_2x_RC6_01_19130",
           "bread roll",
           2007,
           "Grains & Cereals"
          ],
          [
           532,
           "G75706_RF9_01_17618",
           "rolled oats",
           1672,
           "Grains & Cereals"
          ],
          [
           533,
           "G75710_RD6_01_17575",
           "short grain brown rice",
           1971,
           "Grains & Cereals"
          ],
          [
           534,
           "G75711_RC6_01_18378",
           "hulled millet",
           1985,
           "Grains & Cereals"
          ],
          [
           535,
           "G75714_RH6_01_17771",
           "medium grain couscous",
           1685,
           "Grains & Cereals"
          ],
          [
           536,
           "G75717_RB9_01_17544",
           "short grain brown rice",
           1972,
           "Grains & Cereals"
          ],
          [
           581,
           "G78831_5x_BG8_01_20043",
           "brown rice",
           1888,
           "Grains & Cereals"
          ],
          [
           582,
           "G78837_RG12_01_17634",
           "rice",
           1552,
           "Grains & Cereals"
          ],
          [
           586,
           "G78864_RC2_01_17558",
           "boiled forbidden rice",
           1912,
           "Grains & Cereals"
          ],
          [
           587,
           "G78866_5x_BE12_01_20016",
           "Marzen/Octoberfest-style ale grain mixture, after steeping",
           2121,
           "Grains & Cereals"
          ],
          [
           600,
           "G78913_RF3_01_17605",
           "forbidden rice",
           1663,
           "Grains & Cereals"
          ],
          [
           601,
           "G78914_rerun_RB4_01_17552",
           "jade pearl rice",
           1789,
           "Grains & Cereals"
          ],
          [
           602,
           "G78916_RF2_01_17604",
           "red rice",
           1683,
           "Grains & Cereals"
          ],
          [
           623,
           "G78956_RH4_01_17765",
           "red mill organic rolled oats",
           1861,
           "Grains & Cereals"
          ],
          [
           625,
           "G78967_RG4_01_17626",
           "hulless barley",
           2060,
           "Grains & Cereals"
          ],
          [
           630,
           "G78974_2x_RA11_01_19107",
           "Whole grain bread",
           2301,
           "Grains & Cereals"
          ],
          [
           638,
           "G78987_RE3_01_17586",
           "uncooked quinoa",
           1710,
           "Grains & Cereals"
          ],
          [
           657,
           "G79193_5x_BG3_01_20036",
           "Bulgur wheat ",
           1753,
           "Grains & Cereals"
          ],
          [
           658,
           "G79195_5x_BC3_01_19971",
           "unbleached all purpose flour ",
           1765,
           "Grains & Cereals"
          ],
          [
           666,
           "G79214_5x_BE8_01_20011",
           "cooked steel cut oats",
           2091,
           "Grains & Cereals"
          ],
          [
           676,
           "G79233_5x_BB11_01_19965",
           "bread",
           1668,
           "Grains & Cereals"
          ],
          [
           681,
           "G79242_5x_BF11_01_20030",
           "pita bread",
           1872,
           "Grains & Cereals"
          ],
          [
           695,
           "G79269_5x_BF3_01_20020",
           "semolina flour",
           1934,
           "Grains & Cereals"
          ],
          [
           696,
           "G79270_5x_BG2_01_20035",
           "plain bread crumbs",
           1881,
           "Grains & Cereals"
          ],
          [
           831,
           "G83189_5x_RB10_01_20151",
           "quinoa",
           2206,
           "Grains & Cereals"
          ],
          [
           837,
           "G83203_5x_RB7_01_21421",
           "rolled oats uncooked",
           1859,
           "Grains & Cereals"
          ],
          [
           838,
           "G83204_5x_RA7_01_21407",
           "steel-cut oats uncooked",
           1785,
           "Grains & Cereals"
          ],
          [
           839,
           "G83207_5x_RA8_01_21408",
           "wild rice uncooked",
           1635,
           "Grains & Cereals"
          ],
          [
           840,
           "G83210_5x_RH8_01_21517",
           "farro uncooked",
           1661,
           "Grains & Cereals"
          ],
          [
           841,
           "G83212_5x_RF8_01_21490",
           "jasmine rice uncooked",
           1513,
           "Grains & Cereals"
          ],
          [
           868,
           "G83312_5x_RE10_01_21479",
           "puffed wild rice with saffron verjus",
           1987,
           "Grains & Cereals"
          ],
          [
           874,
           "G83320_5x_RB11_01_21423",
           "red millet, farro and barley grainotto",
           2016,
           "Grains & Cereals"
          ],
          [
           921,
           "G83415_5x_RF6_01_21486",
           "bulgur uncooked",
           1788,
           "Grains & Cereals"
          ],
          [
           922,
           "G83416_5x_RH6_01_21514",
           "quinoa uncooked",
           1897,
           "Grains & Cereals"
          ],
          [
           935,
           "G83459_1x_BC4_01_23150",
           "casa milo raw pasta",
           1342,
           "Grains & Cereals"
          ],
          [
           966,
           "G86753_1x_BB7_01_23140",
           "multi-grain bread",
           1915,
           "Grains & Cereals"
          ],
          [
           974,
           "G86773_1x_BB8_01_23141",
           "multi-grain cereal",
           1670,
           "Grains & Cereals"
          ],
          [
           978,
           "G86778_1x_RC11_01_26268",
           "cooked white rice",
           1337,
           "Grains & Cereals"
          ],
          [
           989,
           "G86789_1x_BA3_01_23117",
           "boston sourdough loaf, white part of bread, from whole foods la jolla",
           1920,
           "Grains & Cereals"
          ],
          [
           991,
           "G86793_1x_BA2_01_23116",
           "cooked israeli couscous",
           1874,
           "Grains & Cereals"
          ],
          [
           1004,
           "G86820_1x_BA7_01_23122",
           "Cap'N Crunch cereal",
           1606,
           "Grains & Cereals"
          ],
          [
           1031,
           "G86875_1x_BA4_01_23118",
           "multigrain bread from wholefoods MP",
           1870,
           "Grains & Cereals"
          ],
          [
           1035,
           "G86882_1x_BA5_01_23119",
           "semolina flour (bob's red mill brand)",
           1836,
           "Grains & Cereals"
          ],
          [
           1042,
           "G86894_1x_BA11_01_23126",
           "Organic Paesano Bread",
           1698,
           "Grains & Cereals"
          ],
          [
           1070,
           "G86937_1x_BB4_01_23136",
           "brown rice",
           1746,
           "Grains & Cereals"
          ],
          [
           1098,
           "G87315_RE3_01_26161",
           "pasta durum wheat penne",
           1508,
           "Grains & Cereals"
          ],
          [
           1099,
           "G87316_rerun_RE2_01_26206",
           "pasta durum wheat fusilli",
           1482,
           "Grains & Cereals"
          ],
          [
           1112,
           "G87358_1x_BC12_01_26025",
           "pasta shell",
           1100,
           "Grains & Cereals"
          ],
          [
           1114,
           "G87360_1x_BC11_01_26024",
           "black cuttlefish linguine pasta",
           1645,
           "Grains & Cereals"
          ],
          [
           1118,
           "G87372_RD7_01_26116",
           "buckwheat",
           1226,
           "Grains & Cereals"
          ],
          [
           1119,
           "G87376_rerun_RD8_01_26205",
           "barley",
           1589,
           "Grains & Cereals"
          ],
          [
           1130,
           "G87405_RE5_01_26163",
           "soft wheat",
           1529,
           "Grains & Cereals"
          ],
          [
           1132,
           "G87407_RE6_01_26164",
           "durum wheat",
           1387,
           "Grains & Cereals"
          ],
          [
           1137,
           "G87415_1x_BA3_01_26135",
           "quinoa seeds",
           1710,
           "Grains & Cereals"
          ],
          [
           1140,
           "G87426_1x_BD3_01_26030",
           "spaghetti",
           1200,
           "Grains & Cereals"
          ],
          [
           1154,
           "G87449_1x_BD8_01_26036",
           "rice cakes",
           1416,
           "Grains & Cereals"
          ],
          [
           1156,
           "G87451_1x_BD2_01_26029",
           "sliced bread",
           1471,
           "Grains & Cereals"
          ],
          [
           1834,
           "RB9_tk2_RB9_01_49122",
           "black.bread",
           2475,
           "Grains & Cereals"
          ],
          [
           1837,
           "RC2_RC2_01_49079",
           "white.bread",
           2515,
           "Grains & Cereals"
          ],
          [
           1852,
           "VA10_2x_RB10_01_21622",
           "bread",
           1576,
           "Grains & Cereals"
          ],
          [
           1854,
           "VA2_2x_RB2_01_21610",
           "Rice white",
           1312,
           "Grains & Cereals"
          ]
         ],
         "hovertemplate": "color=Grains & Cereals<br>x=%{x}<br>y=%{y}<br>hover_data_0=%{customdata[0]}<br>hover_data_1=%{customdata[1]}<br>hover_data_2=%{customdata[2]}<br>hover_data_3=%{customdata[3]}<br>hover_data_4=%{customdata[4]}<extra></extra>",
         "legendgroup": "Grains & Cereals",
         "marker": {
          "color": "#F6F926",
          "symbol": "circle"
         },
         "mode": "markers",
         "name": "Grains & Cereals",
         "showlegend": true,
         "type": "scattergl",
         "x": [
          12.144630432128906,
          -4.5127339363098145,
          -4.389966011047363,
          -4.253973484039307,
          -4.966323375701904,
          -4.7128214836120605,
          -5.834361553192139,
          -3.8419413566589355,
          -3.885439157485962,
          -4.705874919891357,
          14.175186157226562,
          10.670536994934082,
          15.057580947875977,
          13.536444664001465,
          14.924978256225586,
          14.015893936157227,
          15.801061630249023,
          14.543468475341797,
          15.842926025390625,
          13.630378723144531,
          14.400306701660156,
          14.20266056060791,
          15.099527359008789,
          17.737974166870117,
          15.065192222595215,
          14.503554344177246,
          10.86915111541748,
          13.297918319702148,
          10.724679946899414,
          14.629668235778809,
          16.43571662902832,
          13.77375602722168,
          14.99095630645752,
          13.868978500366211,
          15.023770332336426,
          14.760603904724121,
          14.844465255737305,
          14.325008392333984,
          14.38211441040039,
          15.398637771606445,
          14.643299102783203,
          14.532896041870117,
          14.800178527832031,
          14.414578437805176,
          14.991936683654785,
          14.846014022827148,
          14.087994575500488,
          13.998923301696777,
          14.873230934143066,
          14.924036979675293,
          14.207386016845703,
          15.33269214630127,
          14.5106201171875,
          13.532379150390625,
          14.568248748779297,
          16.10957145690918,
          15.854004859924316,
          14.893275260925293,
          15.992039680480957,
          14.983478546142578,
          15.291183471679688,
          15.972311973571777,
          10.08777904510498,
          14.806838989257812,
          14.000557899475098,
          11.886701583862305,
          12.57496166229248,
          11.387042999267578,
          13.249903678894043,
          11.837382316589355,
          11.993640899658203,
          13.167268753051758,
          9.840249061584473,
          10.332947731018066,
          9.82824420928955,
          12.539121627807617,
          9.33729076385498,
          9.683272361755371,
          8.761839866638184,
          9.338981628417969,
          9.379136085510254,
          9.032926559448242,
          9.226914405822754,
          12.082768440246582,
          12.934455871582031,
          11.539302825927734,
          12.177266120910645,
          13.13499641418457,
          13.087140083312988,
          11.831035614013672,
          11.811047554016113,
          12.250871658325195,
          11.778306007385254,
          11.946647644042969,
          12.10378646850586,
          -4.408567428588867,
          -5.28021764755249,
          12.625568389892578,
          12.038509368896484
         ],
         "xaxis": "x",
         "y": [
          1.1343507766723633,
          5.990102767944336,
          6.760226249694824,
          6.895191192626953,
          6.519905090332031,
          5.9096198081970215,
          6.480132102966309,
          6.468267440795898,
          6.488134384155273,
          6.109803676605225,
          6.039750099182129,
          5.248013496398926,
          7.545516014099121,
          5.699811935424805,
          5.781854152679443,
          6.233384609222412,
          7.14522647857666,
          8.04926586151123,
          6.222745895385742,
          6.401286602020264,
          6.022103309631348,
          5.42034387588501,
          5.622089385986328,
          6.041494369506836,
          8.045340538024902,
          4.479069232940674,
          3.556044340133667,
          5.968539714813232,
          4.848182678222656,
          7.29556941986084,
          4.572683334350586,
          1.3957123756408691,
          8.520469665527344,
          5.936633110046387,
          8.472550392150879,
          7.03690767288208,
          6.5005083084106445,
          5.665876865386963,
          6.9584059715271,
          8.119880676269531,
          8.551255226135254,
          5.837996482849121,
          6.644913673400879,
          8.758218765258789,
          5.964359283447266,
          6.358457088470459,
          6.296962738037109,
          5.374133110046387,
          6.483313083648682,
          6.803557872772217,
          6.247211456298828,
          8.211113929748535,
          8.758552551269531,
          8.695333480834961,
          6.526925086975098,
          5.757266044616699,
          5.627227306365967,
          6.423336505889893,
          5.608087539672852,
          5.820072174072266,
          6.51885461807251,
          5.781510829925537,
          7.335099220275879,
          7.982550144195557,
          7.717688083648682,
          6.266282081604004,
          5.941828727722168,
          5.258086681365967,
          6.003956317901611,
          4.384623050689697,
          5.543437957763672,
          5.488442897796631,
          4.739847660064697,
          5.482074737548828,
          4.910147190093994,
          6.593027114868164,
          3.1644623279571533,
          4.190703392028809,
          4.2249884605407715,
          2.8056716918945312,
          2.701934576034546,
          4.7561540603637695,
          5.01772928237915,
          6.314145088195801,
          5.654905796051025,
          6.342945575714111,
          5.3413920402526855,
          4.958197593688965,
          6.433350563049316,
          6.14471960067749,
          6.3812336921691895,
          7.013640403747559,
          6.3084611892700195,
          6.463466644287109,
          6.207855224609375,
          7.310865879058838,
          7.274411678314209,
          6.592321395874023,
          6.031101703643799
         ],
         "yaxis": "y"
        },
        {
         "customdata": [
          [
           31,
           "73503_1x_BE5_01_20753",
           "blueberry kefir",
           1827,
           "Cheese & Dairy Products"
          ],
          [
           32,
           "73504_1x_BD5_01_20745",
           "mango kefir",
           1705,
           "Cheese & Dairy Products"
          ],
          [
           34,
           "73511_1x_BG5_01_20771",
           "hibiscus apricot probiotic kefir water tea",
           1407,
           "Cheese & Dairy Products"
          ],
          [
           43,
           "73992_1x_BB7_01_17403",
           "onion, fried with butter and chantrelle mushrooms",
           2303,
           "Cheese & Dairy Products"
          ],
          [
           58,
           "74031_1x_BF11_01_17483",
           "butter leaf lettuce, mixed in salad",
           1899,
           "Cheese & Dairy Products"
          ],
          [
           118,
           "AMZ_36_RD7_01_48967",
           "Pasta with cheese",
           2434,
           "Cheese & Dairy Products"
          ],
          [
           121,
           "AMZ_41_RE2_01_48968",
           "Pasta with cheese",
           2460,
           "Cheese & Dairy Products"
          ],
          [
           126,
           "AMZ_47_RE8_01_48969",
           "Tequeos with cheese",
           2468,
           "Cheese & Dairy Products"
          ],
          [
           130,
           "AMZ_5_RA6_01_48889",
           "Toasted bread with butter",
           2487,
           "Cheese & Dairy Products"
          ],
          [
           132,
           "AMZ_7_RA8_01_48895",
           "Plantain with butter and sugar",
           2511,
           "Cheese & Dairy Products"
          ],
          [
           134,
           "AMZ_9_RA10_01_49007",
           "Toasted bread with butter and turkey ham",
           2469,
           "Cheese & Dairy Products"
          ],
          [
           139,
           "G72450_5x_BA3_01_18258",
           "organic butter",
           1792,
           "Cheese & Dairy Products"
          ],
          [
           145,
           "G72458_10x_BB7_01_17809",
           "Trader Joe's mac'n'cheese",
           2187,
           "Cheese & Dairy Products"
          ],
          [
           148,
           "G72461_10x_BE7_01_17843",
           "Philadelphia strawberry cream cheese",
           2037,
           "Cheese & Dairy Products"
          ],
          [
           157,
           "G72473_5x_BA12_01_18267",
           "dubliner cheese",
           2069,
           "Cheese & Dairy Products"
          ],
          [
           162,
           "G72484_1x_8ul_BE12_01_20201",
           "Philadelphia cream cheese",
           2079,
           "Cheese & Dairy Products"
          ],
          [
           186,
           "G72643_5x_BE4_01_18315",
           "stilton colston basset",
           2054,
           "Cheese & Dairy Products"
          ],
          [
           187,
           "G72644_5x_BF7_01_18332",
           "stilton colston basset",
           2066,
           "Cheese & Dairy Products"
          ],
          [
           188,
           "G72645_5x_BD10_01_18307",
           "taleggio",
           1882,
           "Cheese & Dairy Products"
          ],
          [
           189,
           "G72646_5x_BE8_01_18319",
           "taleggio",
           1997,
           "Cheese & Dairy Products"
          ],
          [
           191,
           "G72668_5x_BH6_01_18404",
           "Kraft Reduced fat Parmesan cheese",
           1724,
           "Cheese & Dairy Products"
          ],
          [
           198,
           "G72703_10x_BB10_01_17892",
           "Cheese, iberico, Trader Joe's",
           2110,
           "Cheese & Dairy Products"
          ],
          [
           202,
           "G72712_10x_BE9_01_17845",
           "red wine cheese Costco sample Queso de Murcia al Vino Palacares",
           2161,
           "Cheese & Dairy Products"
          ],
          [
           203,
           "G72713_10x_BF9_01_17857",
           "cheese sample, Costco Marin French Cheese; brie",
           2202,
           "Cheese & Dairy Products"
          ],
          [
           205,
           "G72716_10x_BF10_01_17858",
           "cheese pizza, dough and cheese, Costco front store",
           2188,
           "Cheese & Dairy Products"
          ],
          [
           206,
           "G72718_RF12_01_17621",
           "peanut butter",
           2160,
           "Cheese & Dairy Products"
          ],
          [
           221,
           "G72749_10x_BG2_01_17920",
           "cheese, organic cheddar, Costco",
           2109,
           "Cheese & Dairy Products"
          ],
          [
           227,
           "G72757_BA10_01_18918",
           "goat cheese with tomato dish",
           2167,
           "Cheese & Dairy Products"
          ],
          [
           234,
           "G72768_BH12_01_19060",
           "butter",
           2219,
           "Cheese & Dairy Products"
          ],
          [
           237,
           "G72771_rerun_BB10_01_19076",
           "chicken liver pate, cream, egg, cognac, fat around (pork fat back or bacon)",
           2142,
           "Cheese & Dairy Products"
          ],
          [
           239,
           "G72773_5x_RC3_01_20159",
           "pizza from JG potluck with tomato and cheese; raw; uncooked",
           1748,
           "Cheese & Dairy Products"
          ],
          [
           241,
           "G72777_5x_BB12_01_18281",
           "midnight moon cheese",
           1983,
           "Cheese & Dairy Products"
          ],
          [
           250,
           "G72792_5x_BE10_01_18321",
           "Sonoma Jack Hot Pepper Jack Cheese",
           1997,
           "Cheese & Dairy Products"
          ],
          [
           251,
           "G72793_5x_BA7_01_18262",
           "Sonoma Jack Traditional Jack Cheese",
           2116,
           "Cheese & Dairy Products"
          ],
          [
           252,
           "G72794_5x_BB4_01_18273",
           "Sonoma Jack Cheddar Cheese",
           2082,
           "Cheese & Dairy Products"
          ],
          [
           253,
           "G72795_5x_BF10_01_18335",
           "Sonoma Jack Garlic Jack Cheese",
           1994,
           "Cheese & Dairy Products"
          ],
          [
           287,
           "G73463_5x_BH11_01_18409",
           "Jalapenosalsa cream cheese",
           1902,
           "Cheese & Dairy Products"
          ],
          [
           288,
           "G73464_5x_BD11_01_18308",
           "Garden vegetable cream cheese",
           1799,
           "Cheese & Dairy Products"
          ],
          [
           289,
           "G73465_5x_BD12_01_18309",
           "Honey almond cream cheese",
           1822,
           "Cheese & Dairy Products"
          ],
          [
           291,
           "G73469_5x_BE9_01_18320",
           "blue cheese",
           2058,
           "Cheese & Dairy Products"
          ],
          [
           301,
           "G73517_1x_10ul_RB2_01_19783",
           "cow milk, local, not pasteurized, etc. ; 2 day old",
           2041,
           "Cheese & Dairy Products"
          ],
          [
           302,
           "G73518_1x_10ul_RC3_01_19802",
           "goat milk, local, not pasteurized, etc. ; 2 day old",
           1898,
           "Cheese & Dairy Products"
          ],
          [
           312,
           "G73638_5x_10ul_BH9_01_19760",
           "cheese, CMI workshop",
           1998,
           "Cheese & Dairy Products"
          ],
          [
           315,
           "G73641_2x_RF10_01_19188",
           "sour cream, CMI workshop",
           2036,
           "Cheese & Dairy Products"
          ],
          [
           320,
           "G73653_5x_BG8_01_18392",
           "cheddar cheese",
           1884,
           "Cheese & Dairy Products"
          ],
          [
           321,
           "G73654_5x_BD8_01_18305",
           "cheddar cheese",
           1985,
           "Cheese & Dairy Products"
          ],
          [
           322,
           "G73655_5x_BB9_01_18278",
           "Ten Year Sharp Cheddar",
           2138,
           "Cheese & Dairy Products"
          ],
          [
           323,
           "G73666_5x_BD4_01_18301",
           "manchego al ramero",
           1894,
           "Cheese & Dairy Products"
          ],
          [
           324,
           "G73674_5x_BH4_01_18402",
           "epoisse",
           1955,
           "Cheese & Dairy Products"
          ],
          [
           325,
           "G73675_5x_BE7_01_18318",
           "epoisse",
           1982,
           "Cheese & Dairy Products"
          ],
          [
           326,
           "G73677_5x_BD2_01_18299",
           "robiola bosina",
           1956,
           "Cheese & Dairy Products"
          ],
          [
           327,
           "G73678_5x_BG6_01_18390",
           "brie de meaux",
           1973,
           "Cheese & Dairy Products"
          ],
          [
           328,
           "G73681_5x_BG3_01_18387",
           "chabichou du poitou",
           2005,
           "Cheese & Dairy Products"
          ],
          [
           329,
           "G73686_5x_BF3_01_18328",
           "chabichou du poitou",
           1980,
           "Cheese & Dairy Products"
          ],
          [
           333,
           "G73698_BC7_01_18945",
           "butter chicken sauce, Indian",
           2139,
           "Cheese & Dairy Products"
          ],
          [
           334,
           "G73699_rerun_BE8_01_18707",
           "chicken from butter chicken dish, Indian",
           2274,
           "Cheese & Dairy Products"
          ],
          [
           344,
           "G73718_5x_10ul_BF9_01_19738",
           "whipping cream (whipped)",
           1555,
           "Cheese & Dairy Products"
          ],
          [
           345,
           "G73720_5x_10ul_BD9_01_19715",
           "whipping cream (unwhipped)",
           1575,
           "Cheese & Dairy Products"
          ],
          [
           348,
           "G73728_5x_BB10_01_18279",
           "Roquefort Papillon",
           2081,
           "Cheese & Dairy Products"
          ],
          [
           360,
           "G73958_BE6_01_19007",
           "tortilla with cheddar cheese from burrito",
           2181,
           "Cheese & Dairy Products"
          ],
          [
           361,
           "G73964_1x_BF7_01_23203",
           "burrata mozzarella",
           1256,
           "Cheese & Dairy Products"
          ],
          [
           373,
           "G74007_5x_BH12_01_18410",
           "raclette cheese",
           1980,
           "Cheese & Dairy Products"
          ],
          [
           376,
           "G74016_1x_8ul_BA4_01_20280",
           "butter",
           2032,
           "Cheese & Dairy Products"
          ],
          [
           379,
           "G74022_5x_BG11_01_18395",
           "cheese, brie",
           1815,
           "Cheese & Dairy Products"
          ],
          [
           380,
           "G74023_5x_BE11_01_18322",
           "cheese, gouda with cumin",
           2010,
           "Cheese & Dairy Products"
          ],
          [
           381,
           "G74024_5x_BH5_01_18403",
           "cheese, gouda",
           1807,
           "Cheese & Dairy Products"
          ],
          [
           384,
           "G74032_5x_BF12_01_18337",
           "spreading cheese, herb flavored",
           1789,
           "Cheese & Dairy Products"
          ],
          [
           386,
           "G74036_1x_RD4_01_18541",
           "yogurt drink",
           2131,
           "Cheese & Dairy Products"
          ],
          [
           389,
           "G74053_1x_10ul_RD6_01_19817",
           "steamed straus whole milk",
           2084,
           "Cheese & Dairy Products"
          ],
          [
           403,
           "G74088_1x_10ul_RG9_01_19902",
           "1% lowfat milk",
           2198,
           "Cheese & Dairy Products"
          ],
          [
           414,
           "G74123_1x_10ul_RG8_01_19901",
           "tumeric, ginger, coconut milk",
           2197,
           "Cheese & Dairy Products"
          ],
          [
           418,
           "G75087_5x_BF2_01_18327",
           "cheddar cheese",
           1904,
           "Cheese & Dairy Products"
          ],
          [
           425,
           "G75122_2x_RA8_01_19103",
           "cream cheese",
           2056,
           "Cheese & Dairy Products"
          ],
          [
           439,
           "G75161_5x_BE2_01_18313",
           "string cheese",
           1685,
           "Cheese & Dairy Products"
          ],
          [
           495,
           "G75621_BF8_01_19026",
           "custard",
           2269,
           "Cheese & Dairy Products"
          ],
          [
           503,
           "G75631_BB4_01_18926",
           "Kaes Spaetzle (Austrian Mac and Cheese)",
           2225,
           "Cheese & Dairy Products"
          ],
          [
           508,
           "G75651_5x_10ul_BF8_01_19737",
           "havarti cheese",
           2011,
           "Cheese & Dairy Products"
          ],
          [
           516,
           "G75672_2x_5ul_RD8_01_19423",
           "peanut butter with coconut oil",
           2103,
           "Cheese & Dairy Products"
          ],
          [
           537,
           "G75720_1x_RH5_01_18597",
           "water kefir",
           2157,
           "Cheese & Dairy Products"
          ],
          [
           538,
           "G75726_1x_RD6_01_18543",
           "kefir, home fermented",
           2288,
           "Cheese & Dairy Products"
          ],
          [
           543,
           "G75746_1x_10ul_RH3_01_19911",
           "milk, whole",
           2148,
           "Cheese & Dairy Products"
          ],
          [
           545,
           "G75748_1x_10ul_RD2_01_19813",
           "Straus heavy whipping cream",
           1940,
           "Cheese & Dairy Products"
          ],
          [
           546,
           "G75751_1x_10ul_RH2_01_19910",
           "whole milk strauss (expiration Oct. 3rd)",
           2056,
           "Cheese & Dairy Products"
          ],
          [
           547,
           "G75753_1x_10ul_RG4_01_19896",
           "almond milk (vanilla)",
           2026,
           "Cheese & Dairy Products"
          ],
          [
           549,
           "G75756_1x_10ul_RA3_01_19684",
           "goat milk",
           1971,
           "Cheese & Dairy Products"
          ],
          [
           564,
           "G75819_5x_2ul_BC3_01_19671",
           "milk Oolong",
           1713,
           "Cheese & Dairy Products"
          ],
          [
           576,
           "G78820_BD12_01_19000",
           "home made stuffed peppers (cumin, salt, pepper, creamcheese, chedar cheese, mozerella cheese, bacon, jalipino peppers) ",
           2359,
           "Cheese & Dairy Products"
          ],
          [
           578,
           "G78826_5x_BC2_01_18285",
           "grilled cheese- cheese only",
           1995,
           "Cheese & Dairy Products"
          ],
          [
           579,
           "G78829_1x_RE12_01_18865",
           "coconut milk fat",
           1942,
           "Cheese & Dairy Products"
          ],
          [
           583,
           "G78840_5x_BE12_01_18323",
           "Boursin cheese",
           2040,
           "Cheese & Dairy Products"
          ],
          [
           632,
           "G78977_5x_10ul_BE8_01_19725",
           "Sour Cream",
           2051,
           "Cheese & Dairy Products"
          ],
          [
           634,
           "G78980_5x_10ul_BD8_01_19714",
           "Earth Balance olive oil (butter)",
           1407,
           "Cheese & Dairy Products"
          ],
          [
           637,
           "G78984_5x_10ul_BC8_01_19678",
           "Dutch Traditional Gouda Cheese",
           1977,
           "Cheese & Dairy Products"
          ],
          [
           663,
           "G79207_5x_10ul_BH8_01_19759",
           "Jalapeno jack cheese",
           2013,
           "Cheese & Dairy Products"
          ],
          [
           699,
           "G79274_5x_BA2_01_18256",
           "feta cheese",
           2175,
           "Cheese & Dairy Products"
          ],
          [
           742,
           "G79486_5x_BD12_01_19634",
           "havarti cheese trader joes sliced; plastic packaging ",
           1820,
           "Cheese & Dairy Products"
          ],
          [
           750,
           "G79516_5x_RD3_01_20174",
           "foal milk replacer",
           1886,
           "Cheese & Dairy Products"
          ],
          [
           751,
           "G79518_1x_10ul_BE3_01_20289",
           "zoo logic milk matrix 42/25",
           2130,
           "Cheese & Dairy Products"
          ],
          [
           752,
           "G79520_1x_BF3_01_20207",
           "kid milk replacer",
           2253,
           "Cheese & Dairy Products"
          ],
          [
           753,
           "G79524_1x_10ul_BE2_01_20288",
           "powdered goat milk",
           2034,
           "Cheese & Dairy Products"
          ],
          [
           763,
           "G79565_5x_10ul_RG5_01_19554",
           "feta",
           2053,
           "Cheese & Dairy Products"
          ],
          [
           776,
           "G79626_1x_BF7_01_20219",
           "goat's milk esbilac for puppies",
           1888,
           "Cheese & Dairy Products"
          ],
          [
           807,
           "G79699_5x_BH11_01_19704",
           "Stonyfield organic O'soy; soy yogurt",
           2148,
           "Cheese & Dairy Products"
          ],
          [
           808,
           "G79700_5x_BG11_01_19667",
           "So Delicious dairy free; coconut milk; yogurt alternative",
           1362,
           "Cheese & Dairy Products"
          ],
          [
           809,
           "G79702_5x_BD10_01_19632",
           "greek whole milk yogurt; avocado citrus",
           1984,
           "Cheese & Dairy Products"
          ],
          [
           813,
           "G79712_5x_BB10_01_19624",
           "string cheese",
           1641,
           "Cheese & Dairy Products"
          ],
          [
           875,
           "G83323_5x_RD11_01_21466",
           "herbed goat cheese",
           2327,
           "Cheese & Dairy Products"
          ],
          [
           883,
           "G83344_1x_BB9_01_21546",
           "Mango yogurt drink",
           1292,
           "Cheese & Dairy Products"
          ],
          [
           884,
           "G83345_1x_BC9_01_21881",
           "organic milk",
           1131,
           "Cheese & Dairy Products"
          ],
          [
           895,
           "G83361_1x_BC11_01_21884",
           "Goats Milk ESBILAC, all natural whole goats milk, no preservatives",
           1357,
           "Cheese & Dairy Products"
          ],
          [
           896,
           "G83362_1x_BD11_01_21890",
           "Kitten Milk replacer, PetAg brand",
           1420,
           "Cheese & Dairy Products"
          ],
          [
           900,
           "G83367_1x_BH12_01_21913",
           "milk-based drink",
           1356,
           "Cheese & Dairy Products"
          ],
          [
           907,
           "G83392_1x_RH8_01_21859",
           "M&M peanut butter (orange )",
           2166,
           "Cheese & Dairy Products"
          ],
          [
           908,
           "G83393_1x_RD7_01_21807",
           "M&M peanut butter (Blue)",
           1712,
           "Cheese & Dairy Products"
          ],
          [
           914,
           "G83403_1x_RA7_01_21731",
           "M&M peanut butter (Yellow)",
           2058,
           "Cheese & Dairy Products"
          ],
          [
           915,
           "G83404_1x_RH7_01_21858",
           "M&M peanut butter (red)",
           2109,
           "Cheese & Dairy Products"
          ],
          [
           916,
           "G83405_1x_RG7_01_21846",
           "M&M peanut butter (brown)",
           2226,
           "Cheese & Dairy Products"
          ],
          [
           925,
           "G83424_1x_RF12_01_26451",
           "almond milk (has sweetner) new barn brand",
           1570,
           "Cheese & Dairy Products"
          ],
          [
           929,
           "G83436_1x_BB11_01_26390",
           "organic whole milk straus",
           1700,
           "Cheese & Dairy Products"
          ],
          [
           938,
           "G86702_1x_RA6_01_21730",
           "Reese's Peanut Butter (Peanut Butter part)",
           1642,
           "Cheese & Dairy Products"
          ],
          [
           953,
           "G86722_1x_BF10_01_23206",
           "Dreaming cow yogurt",
           1396,
           "Cheese & Dairy Products"
          ],
          [
           956,
           "G86731_1x_BD6_01_23170",
           "cheese pizza",
           1585,
           "Cheese & Dairy Products"
          ],
          [
           959,
           "G86737_1x_BC2_01_23148",
           "peanut butter cup from nut mix",
           1976,
           "Cheese & Dairy Products"
          ],
          [
           986,
           "G86786_1x_BE9_01_23190",
           "dubliner natural cheese, from costco (Kerrygold)",
           1372,
           "Cheese & Dairy Products"
          ],
          [
           996,
           "G86806_1x_BD10_01_23175",
           "mac n cheese",
           1883,
           "Cheese & Dairy Products"
          ],
          [
           997,
           "G86807_1x_BF8_01_23204",
           "parmesan cheese",
           1466,
           "Cheese & Dairy Products"
          ],
          [
           1011,
           "G86836_1x_RF9_01_23367",
           "Peanut Butter (Smuckers)",
           1291,
           "Cheese & Dairy Products"
          ],
          [
           1012,
           "G86839_1x_BH6_01_23232",
           "Philadelphia cream cheese spread",
           1493,
           "Cheese & Dairy Products"
          ],
          [
           1013,
           "G86840_1x_BH9_01_23237",
           "Philadelphia cream cheese (1/3 less fat) spread",
           1510,
           "Cheese & Dairy Products"
          ],
          [
           1014,
           "G86846_1x_10ul_RA3_01_23483",
           "milk",
           1737,
           "Cheese & Dairy Products"
          ],
          [
           1017,
           "G86849_1x_RA5_01_23478",
           "heavy whipping cream",
           1539,
           "Cheese & Dairy Products"
          ],
          [
           1023,
           "G86858_1x_RB4_01_23493",
           "pam butter spray",
           1737,
           "Cheese & Dairy Products"
          ],
          [
           1030,
           "G86872_1x_BE10_01_23191",
           "homemade yogurt made with organic straus whole milk ",
           1394,
           "Cheese & Dairy Products"
          ],
          [
           1032,
           "G86876_1x_BE11_01_23192",
           "havarti cheese (365 brand)",
           1689,
           "Cheese & Dairy Products"
          ],
          [
           1037,
           "G86888_1x_BB6_01_26558",
           "homemade yogurt; made with organic whole milk straus from jimbos; and starter yogurt also from jimbos plain (will find out brand name from Jan, jan. 30th batch)",
           1595,
           "Cheese & Dairy Products"
          ],
          [
           1043,
           "G86895_1x_BA12_01_23127",
           "Mini Butter Croissants",
           1986,
           "Cheese & Dairy Products"
          ],
          [
           1044,
           "G86896_1x_BC9_01_23156",
           "Nutter Butter",
           1889,
           "Cheese & Dairy Products"
          ],
          [
           1081,
           "G86958_1x_RC6_01_23512",
           "whole milk",
           1616,
           "Cheese & Dairy Products"
          ],
          [
           1082,
           "G86959_1x_RC7_01_23515",
           "almond breeze almond milk",
           1308,
           "Cheese & Dairy Products"
          ],
          [
           1083,
           "G86962_1x_RC10_01_23518",
           "Milk 2% Reduced Fat",
           1496,
           "Cheese & Dairy Products"
          ],
          [
           1085,
           "G86968_1x_RH9_01_26477",
           "Heavy whipping cream",
           2168,
           "Cheese & Dairy Products"
          ],
          [
           1105,
           "G87336_RC9_01_26105",
           "ricotta cow",
           1645,
           "Cheese & Dairy Products"
          ],
          [
           1106,
           "G87338_RC11_01_26107",
           "Pecorino Crusca Antico 2 years",
           1525,
           "Cheese & Dairy Products"
          ],
          [
           1110,
           "G87353_1x_BF3_01_26153",
           "low-fat yogurt",
           1770,
           "Cheese & Dairy Products"
          ],
          [
           1111,
           "G87354_1x_BF2_01_26152",
           "low-fat blueberry yogurt",
           1855,
           "Cheese & Dairy Products"
          ],
          [
           1125,
           "G87396_1x_BF8_01_26131",
           "ginger kefir",
           1840,
           "Cheese & Dairy Products"
          ],
          [
           1133,
           "G87411_1x_BF7_01_26130",
           "truffle cow cheese",
           1885,
           "Cheese & Dairy Products"
          ],
          [
           1134,
           "G87412_1x_BF6_01_26129",
           "squaqquerello cheese",
           1713,
           "Cheese & Dairy Products"
          ],
          [
           1135,
           "G87413_1x_BF5_01_26127",
           "goat cheese",
           2004,
           "Cheese & Dairy Products"
          ],
          [
           1136,
           "G87414_1x_BF4_01_26126",
           "goat cheese",
           1893,
           "Cheese & Dairy Products"
          ],
          [
           1138,
           "G87419_1x_BC7_01_26019",
           "pumpkin and cheese",
           1703,
           "Cheese & Dairy Products"
          ],
          [
           1152,
           "G87444_1x_BB7_01_26002",
           "red habanero cream",
           2026,
           "Cheese & Dairy Products"
          ],
          [
           1159,
           "G87456_1x_BE6_01_26595",
           "homemade yogurt; made with organic whole milk straus from jimbos; and starter yogurt also from jimbos plain (will find out brand name from Jan, jan. 23 batch)",
           1428,
           "Cheese & Dairy Products"
          ],
          [
           1160,
           "G87459_1x_BF6_01_26626",
           "chobani greek yogurt with peach fruit mixed in (from mandeville coffee cart)",
           1769,
           "Cheese & Dairy Products"
          ],
          [
           1161,
           "G87460_1x_BG6_01_26637",
           "chobani greek yogurt WITHOUT peach fruit mixed",
           1963,
           "Cheese & Dairy Products"
          ],
          [
           1177,
           "G87487_1x_BF5_01_26625",
           "Raclette curd",
           1988,
           "Cheese & Dairy Products"
          ],
          [
           1178,
           "G87488_1x_BH6_01_26653",
           "Crumbled Goat Cheese",
           1960,
           "Cheese & Dairy Products"
          ],
          [
           1184,
           "G87497_1x_BA3_01_26538",
           "Artisan Almond Milk Yogurt Kite Hill Peach",
           1877,
           "Cheese & Dairy Products"
          ],
          [
           1186,
           "G87505_1x_RH2_01_26468",
           "Teddy's old fashioned orange and cream soda",
           1924,
           "Cheese & Dairy Products"
          ],
          [
           1352,
           "G95952_BA6_01_31659",
           "milk with yogurt culture",
           1877,
           "Cheese & Dairy Products"
          ],
          [
           1353,
           "G95953_BB6_01_31682",
           "milk with yogurt culture",
           1878,
           "Cheese & Dairy Products"
          ],
          [
           1354,
           "G95954_RF12_01_31571",
           "milk with yogurt culture",
           1945,
           "Cheese & Dairy Products"
          ],
          [
           1355,
           "G95955_RE10_01_31522",
           "milk with yogurt culture",
           1910,
           "Cheese & Dairy Products"
          ],
          [
           1356,
           "G95956_repeat_RB5_01_31534",
           "milk with yogurt culture",
           1940,
           "Cheese & Dairy Products"
          ],
          [
           1357,
           "G95957_repeat_RD7_01_31618",
           "milk with yogurt culture",
           1925,
           "Cheese & Dairy Products"
          ],
          [
           1358,
           "G95958_RD2_01_31497",
           "milk with yogurt culture",
           1987,
           "Cheese & Dairy Products"
          ],
          [
           1359,
           "G95959_RH9_01_31605",
           "milk with yogurt culture",
           2084,
           "Cheese & Dairy Products"
          ],
          [
           1360,
           "G95960_repeat_RB10_01_31547",
           "milk with yogurt culture",
           1861,
           "Cheese & Dairy Products"
          ],
          [
           1361,
           "G95961_BB10_01_31688",
           "yogurt",
           1912,
           "Cheese & Dairy Products"
          ],
          [
           1362,
           "G95962_BB3_01_31674",
           "yogurt",
           1865,
           "Cheese & Dairy Products"
          ],
          [
           1363,
           "G95963_repeat_BA7_01_31708",
           "yogurt",
           1953,
           "Cheese & Dairy Products"
          ],
          [
           1364,
           "G95964_RA4_01_31456",
           "yogurt",
           1791,
           "Cheese & Dairy Products"
          ],
          [
           1365,
           "G95965_RH3_01_31592",
           "yogurt",
           1730,
           "Cheese & Dairy Products"
          ],
          [
           1366,
           "G95966_repeat_RH11_01_31645",
           "yogurt",
           1861,
           "Cheese & Dairy Products"
          ],
          [
           1367,
           "G95967_BA12_01_31669",
           "yogurt",
           1963,
           "Cheese & Dairy Products"
          ],
          [
           1368,
           "G95968_BA2_01_31653",
           "yogurt",
           2006,
           "Cheese & Dairy Products"
          ],
          [
           1369,
           "G95969_RC10_01_31493",
           "yogurt",
           1983,
           "Cheese & Dairy Products"
          ],
          [
           1370,
           "G95970_RF9_01_31564",
           "yogurt",
           1943,
           "Cheese & Dairy Products"
          ],
          [
           1371,
           "G95971_repeat_RG8_01_31631",
           "yogurt",
           1937,
           "Cheese & Dairy Products"
          ],
          [
           1372,
           "G95972_RC8_01_31491",
           "yogurt",
           1994,
           "Cheese & Dairy Products"
          ],
          [
           1373,
           "G95973_repeat_RG9_01_31632",
           "yogurt",
           1606,
           "Cheese & Dairy Products"
          ],
          [
           1374,
           "G95974_repeat_RC3_01_31613",
           "yogurt",
           1767,
           "Cheese & Dairy Products"
          ],
          [
           1375,
           "G95975_repeat2_RB6_01_31539",
           "yogurt",
           1788,
           "Cheese & Dairy Products"
          ],
          [
           1376,
           "G95976_BB9_01_31687",
           "yogurt",
           1928,
           "Cheese & Dairy Products"
          ],
          [
           1377,
           "G95977_BB2_01_31673",
           "yogurt",
           1824,
           "Cheese & Dairy Products"
          ],
          [
           1378,
           "G95978_BB8_01_31686",
           "yogurt",
           1946,
           "Cheese & Dairy Products"
          ],
          [
           1379,
           "G95979_repeat_RB7_01_31541",
           "milk with yogurt culture",
           1675,
           "Cheese & Dairy Products"
          ],
          [
           1380,
           "G95980_RF6_01_31559",
           "milk with yogurt culture",
           1855,
           "Cheese & Dairy Products"
          ],
          [
           1381,
           "G95981_RG7_01_31582",
           "milk with yogurt culture",
           1902,
           "Cheese & Dairy Products"
          ],
          [
           1382,
           "G95982_repeat_RB8_01_31543",
           "milk with yogurt culture",
           1799,
           "Cheese & Dairy Products"
          ],
          [
           1383,
           "G95983_RA9_01_31462",
           "milk with yogurt culture",
           1822,
           "Cheese & Dairy Products"
          ],
          [
           1384,
           "G95984_repeat_RG10_01_31635",
           "milk with yogurt culture",
           1660,
           "Cheese & Dairy Products"
          ],
          [
           1385,
           "G95985_repeat_RH6_01_31641",
           "milk with yogurt culture",
           1866,
           "Cheese & Dairy Products"
          ],
          [
           1386,
           "G95986_RC2_01_31484",
           "milk with yogurt culture",
           1904,
           "Cheese & Dairy Products"
          ],
          [
           1387,
           "G95987_repeat_RB2_01_31528",
           "milk with yogurt culture",
           1900,
           "Cheese & Dairy Products"
          ],
          [
           1424,
           "G96095_RA11_01_31464",
           "yogurt",
           2041,
           "Cheese & Dairy Products"
          ],
          [
           1425,
           "G96096_RC12_01_31495",
           "yogurt",
           1898,
           "Cheese & Dairy Products"
          ],
          [
           1426,
           "G96097_RF7_01_31562",
           "yogurt",
           1995,
           "Cheese & Dairy Products"
          ],
          [
           1427,
           "G96098_RF10_01_31569",
           "yogurt",
           1800,
           "Cheese & Dairy Products"
          ],
          [
           1428,
           "G96099_RE8_01_31518",
           "yogurt",
           1713,
           "Cheese & Dairy Products"
          ],
          [
           1429,
           "G96100_repeat_RG11_01_31636",
           "yogurt",
           1728,
           "Cheese & Dairy Products"
          ],
          [
           1430,
           "G96101_BB5_01_31681",
           "yogurt",
           1950,
           "Cheese & Dairy Products"
          ],
          [
           1431,
           "G96102_BA11_01_31668",
           "yogurt",
           1886,
           "Cheese & Dairy Products"
          ],
          [
           1432,
           "G96103_BA8_01_31663",
           "yogurt",
           1940,
           "Cheese & Dairy Products"
          ],
          [
           1433,
           "G96104_RD12_01_31508",
           "milk with yogurt culture",
           1853,
           "Cheese & Dairy Products"
          ],
          [
           1434,
           "G96105_RH4_01_31594",
           "milk with yogurt culture",
           1838,
           "Cheese & Dairy Products"
          ],
          [
           1435,
           "G96106_repeat_RH5_01_31640",
           "milk with yogurt culture",
           1666,
           "Cheese & Dairy Products"
          ],
          [
           1436,
           "G96107_repeat_RD4_01_31616",
           "milk with yogurt culture",
           1761,
           "Cheese & Dairy Products"
          ],
          [
           1437,
           "G96108_RC5_01_31487",
           "milk with yogurt culture",
           1881,
           "Cheese & Dairy Products"
          ],
          [
           1438,
           "G96109_repeat_RB11_01_31549",
           "milk with yogurt culture",
           1831,
           "Cheese & Dairy Products"
          ],
          [
           1439,
           "G96110_RD10_01_31506",
           "milk with yogurt culture",
           1809,
           "Cheese & Dairy Products"
          ],
          [
           1440,
           "G96111_RC7_01_31490",
           "milk with yogurt culture",
           1796,
           "Cheese & Dairy Products"
          ],
          [
           1441,
           "G96112_repeat_RB9_01_31545",
           "milk with yogurt culture",
           1718,
           "Cheese & Dairy Products"
          ],
          [
           1442,
           "G96113_repeat_RD9_01_31622",
           "yogurt",
           1999,
           "Cheese & Dairy Products"
          ],
          [
           1443,
           "G96114_RF5_01_31558",
           "yogurt",
           1977,
           "Cheese & Dairy Products"
          ],
          [
           1444,
           "G96115_RA12_01_31465",
           "yogurt",
           2058,
           "Cheese & Dairy Products"
          ],
          [
           1445,
           "G96116_BA9_01_31664",
           "yogurt",
           1746,
           "Cheese & Dairy Products"
          ],
          [
           1446,
           "G96117_BA3_01_31654",
           "yogurt",
           1762,
           "Cheese & Dairy Products"
          ],
          [
           1447,
           "G96118_BB4_01_31675",
           "yogurt",
           1705,
           "Cheese & Dairy Products"
          ],
          [
           1448,
           "G96119_BA5_01_31658",
           "yogurt",
           1897,
           "Cheese & Dairy Products"
          ],
          [
           1449,
           "G96120_BA10_01_31665",
           "yogurt",
           1891,
           "Cheese & Dairy Products"
          ],
          [
           1450,
           "G96121_BA4_01_31655",
           "yogurt",
           1906,
           "Cheese & Dairy Products"
          ],
          [
           1451,
           "G96123_RE6_01_31514",
           "milk with yogurt culture",
           1730,
           "Cheese & Dairy Products"
          ],
          [
           1452,
           "G96124_RE3_01_31511",
           "milk with yogurt culture",
           1746,
           "Cheese & Dairy Products"
          ],
          [
           1453,
           "G96125_RF8_01_31563",
           "milk with yogurt culture",
           1678,
           "Cheese & Dairy Products"
          ],
          [
           1454,
           "G96126_RD11_01_31507",
           "milk with yogurt culture",
           1793,
           "Cheese & Dairy Products"
          ],
          [
           1455,
           "G96127_RF4_01_31556",
           "milk with yogurt culture",
           1794,
           "Cheese & Dairy Products"
          ],
          [
           1456,
           "G96128_repeat2_BB7_01_31703",
           "milk with yogurt culture",
           1810,
           "Cheese & Dairy Products"
          ],
          [
           1457,
           "G96129_RF11_01_31570",
           "milk with yogurt culture",
           1816,
           "Cheese & Dairy Products"
          ],
          [
           1458,
           "G96130_RE9_01_31521",
           "milk with yogurt culture",
           1771,
           "Cheese & Dairy Products"
          ],
          [
           1470,
           "G96167_RA5_01_31457",
           "yogurt",
           1947,
           "Cheese & Dairy Products"
          ],
          [
           1471,
           "G96168_RC9_01_31492",
           "yogurt",
           1864,
           "Cheese & Dairy Products"
          ],
          [
           1472,
           "G96169_RH2_01_31591",
           "yogurt",
           1940,
           "Cheese & Dairy Products"
          ],
          [
           1473,
           "G96170_RE4_01_31512",
           "yogurt",
           1741,
           "Cheese & Dairy Products"
          ],
          [
           1474,
           "G96171_repeat_RC4_01_31614",
           "yogurt",
           1879,
           "Cheese & Dairy Products"
          ],
          [
           1475,
           "G96172_repeat_RB12_01_31551",
           "yogurt",
           1830,
           "Cheese & Dairy Products"
          ],
          [
           1476,
           "G96173_repeat_RG2_01_31630",
           "yogurt",
           1989,
           "Cheese & Dairy Products"
          ],
          [
           1477,
           "G96174_RE12_01_31527",
           "yogurt",
           1946,
           "Cheese & Dairy Products"
          ],
          [
           1478,
           "G96175_RH8_01_31604",
           "yogurt",
           1990,
           "Cheese & Dairy Products"
          ],
          [
           1479,
           "G96176_repeat_RE2_01_31625",
           "milk with yogurt culture",
           1859,
           "Cheese & Dairy Products"
          ],
          [
           1480,
           "G96177_repeat_RG12_01_31637",
           "milk with yogurt culture",
           1872,
           "Cheese & Dairy Products"
          ],
          [
           1481,
           "G96180_RG4_01_31577",
           "milk with yogurt culture",
           1710,
           "Cheese & Dairy Products"
          ],
          [
           1482,
           "G96181_repeat_RE11_01_31525",
           "milk with yogurt culture",
           1710,
           "Cheese & Dairy Products"
          ],
          [
           1483,
           "G96182_repeat_RB4_01_31533",
           "milk with yogurt culture",
           1699,
           "Cheese & Dairy Products"
          ],
          [
           1484,
           "G96183_RF2_01_31554",
           "milk with yogurt culture",
           1705,
           "Cheese & Dairy Products"
          ],
          [
           1485,
           "G96184_RA6_01_31459",
           "milk with yogurt culture",
           1847,
           "Cheese & Dairy Products"
          ],
          [
           1486,
           "G96185_repeat_RD3_01_31615",
           "yogurt",
           1979,
           "Cheese & Dairy Products"
          ],
          [
           1487,
           "G96186_RE7_01_31516",
           "yogurt",
           1917,
           "Cheese & Dairy Products"
          ],
          [
           1488,
           "G96187_RG3_01_31575",
           "yogurt",
           1929,
           "Cheese & Dairy Products"
          ],
          [
           1489,
           "G96188_RF3_01_31555",
           "yogurt",
           1674,
           "Cheese & Dairy Products"
          ],
          [
           1490,
           "G96189_RA7_01_31460",
           "yogurt",
           1854,
           "Cheese & Dairy Products"
          ],
          [
           1491,
           "G96190_RE5_01_31513",
           "yogurt",
           1702,
           "Cheese & Dairy Products"
          ],
          [
           1492,
           "G96191_RA8_01_31461",
           "yogurt",
           2048,
           "Cheese & Dairy Products"
          ],
          [
           1493,
           "G96192_RH7_01_31602",
           "yogurt",
           2056,
           "Cheese & Dairy Products"
          ],
          [
           1494,
           "G96193_repeat_RD8_01_31648",
           "yogurt",
           1953,
           "Cheese & Dairy Products"
          ],
          [
           1495,
           "G96194_RD5_01_31500",
           "milk with yogurt culture",
           1993,
           "Cheese & Dairy Products"
          ],
          [
           1496,
           "G96195_RG6_01_31579",
           "milk with yogurt culture",
           1785,
           "Cheese & Dairy Products"
          ],
          [
           1497,
           "G96196_RC6_01_31488",
           "milk with yogurt culture",
           1858,
           "Cheese & Dairy Products"
          ],
          [
           1498,
           "G96197_RA10_01_31463",
           "milk with yogurt culture",
           1779,
           "Cheese & Dairy Products"
          ],
          [
           1499,
           "G96198_repeat_RH12_01_31646",
           "milk with yogurt culture",
           1769,
           "Cheese & Dairy Products"
          ],
          [
           1500,
           "G96199_RC11_01_31494",
           "milk with yogurt culture",
           1730,
           "Cheese & Dairy Products"
          ],
          [
           1501,
           "G96200_RA3_01_31454",
           "milk with yogurt culture",
           1806,
           "Cheese & Dairy Products"
          ],
          [
           1502,
           "G96201_RG5_01_31578",
           "milk with yogurt culture",
           1738,
           "Cheese & Dairy Products"
          ],
          [
           1503,
           "G96202_repeat_RD6_01_31617",
           "milk with yogurt culture",
           1783,
           "Cheese & Dairy Products"
          ],
          [
           1623,
           "G96383_RA9_01_31737",
           "organic high vitamin D milk",
           1669,
           "Cheese & Dairy Products"
          ],
          [
           1624,
           "G96384_RB6_01_31763",
           "organic high vitamin D milk",
           1811,
           "Cheese & Dairy Products"
          ],
          [
           1625,
           "G96385_RB3_01_31754",
           "organic high vitamin D milk",
           1753,
           "Cheese & Dairy Products"
          ],
          [
           1626,
           "G96386_repeat_RA5_01_31726",
           "organic high vitamin D milk",
           1572,
           "Cheese & Dairy Products"
          ],
          [
           1627,
           "G96387_RB4_01_31757",
           "organic high vitamin D milk",
           1765,
           "Cheese & Dairy Products"
          ],
          [
           1628,
           "G96388_RA7_01_31720",
           "organic high vitamin D milk",
           1675,
           "Cheese & Dairy Products"
          ],
          [
           1629,
           "G96389_repeat2_RA4_01_31723",
           "organic high vitamin D milk",
           1642,
           "Cheese & Dairy Products"
          ],
          [
           1630,
           "G96390_RA6_01_31716",
           "organic high vitamin D milk",
           1743,
           "Cheese & Dairy Products"
          ],
          [
           1631,
           "G96391_RB8_01_31772",
           "organic high vitamin D milk",
           1700,
           "Cheese & Dairy Products"
          ],
          [
           1632,
           "G96392_RA2_01_31694",
           "organic high vitamin D milk",
           1749,
           "Cheese & Dairy Products"
          ],
          [
           1633,
           "G96393_RB5_01_31760",
           "organic high vitamin D milk",
           1683,
           "Cheese & Dairy Products"
          ],
          [
           1634,
           "G96394_RA10_01_31740",
           "organic high vitamin D milk",
           1833,
           "Cheese & Dairy Products"
          ],
          [
           1635,
           "G96395_RA12_01_31746",
           "organic high vitamin D milk",
           1779,
           "Cheese & Dairy Products"
          ],
          [
           1636,
           "G96396_RA8_01_31734",
           "organic high vitamin D milk",
           1709,
           "Cheese & Dairy Products"
          ],
          [
           1637,
           "G96397_repeat_RA3_01_31710",
           "organic high vitamin D milk",
           1669,
           "Cheese & Dairy Products"
          ],
          [
           1638,
           "G96398_RB7_01_31769",
           "organic high vitamin D milk",
           1743,
           "Cheese & Dairy Products"
          ],
          [
           1639,
           "G96399_RB2_01_31751",
           "organic high vitamin D milk",
           1797,
           "Cheese & Dairy Products"
          ],
          [
           1640,
           "G96400_RA11_01_31743",
           "organic high vitamin D milk",
           1802,
           "Cheese & Dairy Products"
          ],
          [
           1833,
           "RB7_RB7_01_49072",
           "goat.milk",
           2421,
           "Cheese & Dairy Products"
          ],
          [
           1841,
           "RC8_RC8_01_49086",
           "goat.cheese",
           2550,
           "Cheese & Dairy Products"
          ],
          [
           1859,
           "VA7_2x_RB7_01_21616",
           "cheese pasta",
           1672,
           "Cheese & Dairy Products"
          ]
         ],
         "hovertemplate": "color=Cheese & Dairy Products<br>x=%{x}<br>y=%{y}<br>hover_data_0=%{customdata[0]}<br>hover_data_1=%{customdata[1]}<br>hover_data_2=%{customdata[2]}<br>hover_data_3=%{customdata[3]}<br>hover_data_4=%{customdata[4]}<extra></extra>",
         "legendgroup": "Cheese & Dairy Products",
         "marker": {
          "color": "#FF9616",
          "symbol": "circle"
         },
         "mode": "markers",
         "name": "Cheese & Dairy Products",
         "showlegend": true,
         "type": "scattergl",
         "x": [
          11.974211692810059,
          12.207748413085938,
          7.946465015411377,
          13.463547706604004,
          14.436284065246582,
          -3.9657719135284424,
          -3.8572752475738525,
          -4.811492919921875,
          -5.723901271820068,
          -5.747258186340332,
          -4.810978889465332,
          13.3674955368042,
          13.722421646118164,
          13.1782808303833,
          13.1088285446167,
          13.464042663574219,
          14.927145004272461,
          13.609435081481934,
          15.54001235961914,
          13.36066722869873,
          12.728723526000977,
          15.371367454528809,
          14.729503631591797,
          14.22974967956543,
          13.574849128723145,
          14.99804973602295,
          15.42875862121582,
          13.904403686523438,
          13.790019989013672,
          14.550810813903809,
          9.951178550720215,
          13.222962379455566,
          15.368220329284668,
          14.864408493041992,
          15.091475486755371,
          15.595192909240723,
          12.840530395507812,
          12.484883308410645,
          12.470148086547852,
          14.379389762878418,
          13.67466926574707,
          12.094585418701172,
          15.479756355285645,
          13.712653160095215,
          14.808221817016602,
          14.706131935119629,
          14.648430824279785,
          13.163193702697754,
          14.191040992736816,
          15.197856903076172,
          14.565634727478027,
          15.283681869506836,
          12.995524406433105,
          14.020719528198242,
          11.07082748413086,
          10.735535621643066,
          13.34632682800293,
          13.221837043762207,
          14.267271995544434,
          16.557861328125,
          8.824712753295898,
          15.302841186523438,
          13.877427101135254,
          14.698335647583008,
          14.917572975158691,
          13.719172477722168,
          12.771636009216309,
          17.886796951293945,
          13.059022903442383,
          15.265233039855957,
          15.743697166442871,
          13.454297065734863,
          14.361669540405273,
          12.528444290161133,
          14.17917537689209,
          13.472591400146484,
          15.403223037719727,
          12.779716491699219,
          18.145185470581055,
          17.190385818481445,
          14.689973831176758,
          14.248510360717773,
          15.246123313903809,
          15.825560569763184,
          13.806700706481934,
          11.44607925415039,
          14.20690631866455,
          12.980672836303711,
          13.681818008422852,
          14.341529846191406,
          15.250699043273926,
          11.495705604553223,
          15.496779441833496,
          15.29341983795166,
          14.994091987609863,
          14.731876373291016,
          14.44661808013916,
          13.726960182189941,
          13.527447700500488,
          13.033944129943848,
          14.928603172302246,
          13.407472610473633,
          13.071009635925293,
          12.407540321350098,
          12.546428680419922,
          12.916239738464355,
          14.448202133178711,
          11.639573097229004,
          10.58690071105957,
          11.072091102600098,
          10.866381645202637,
          3.2792091369628906,
          10.625639915466309,
          10.991888999938965,
          11.381827354431152,
          11.154824256896973,
          10.978550910949707,
          9.622894287109375,
          13.485405921936035,
          10.983563423156738,
          9.106825828552246,
          8.21919059753418,
          12.521159172058105,
          8.515800476074219,
          15.558709144592285,
          8.878499031066895,
          10.352211952209473,
          9.077546119689941,
          9.128500938415527,
          13.885751724243164,
          14.030704498291016,
          14.856433868408203,
          9.107091903686523,
          15.822053909301758,
          12.107479095458984,
          9.77762222290039,
          8.7067232131958,
          11.94827651977539,
          8.903960227966309,
          13.398357391357422,
          15.241537094116211,
          13.077363014221191,
          13.218750953674316,
          12.935646057128906,
          12.850451469421387,
          12.875980377197266,
          15.104789733886719,
          14.265034675598145,
          14.004003524780273,
          14.284313201904297,
          12.373529434204102,
          12.780171394348145,
          9.174817085266113,
          11.999691009521484,
          12.838295936584473,
          15.399227142333984,
          14.386621475219727,
          12.397457122802734,
          8.891372680664062,
          12.634568214416504,
          12.585354804992676,
          12.46169662475586,
          12.246187210083008,
          12.356513977050781,
          12.686873435974121,
          12.29387378692627,
          12.370985984802246,
          11.463643074035645,
          11.967131614685059,
          11.569677352905273,
          12.086434364318848,
          9.195549964904785,
          8.893906593322754,
          4.579216957092285,
          10.239544868469238,
          10.197402954101562,
          13.014058113098145,
          13.193855285644531,
          10.225296020507812,
          12.923479080200195,
          4.799665451049805,
          4.611266136169434,
          9.244468688964844,
          11.993844985961914,
          11.324740409851074,
          11.912064552307129,
          10.760133743286133,
          12.258703231811523,
          12.351655006408691,
          11.557462692260742,
          10.893001556396484,
          10.09964370727539,
          12.548931121826172,
          11.978458404541016,
          12.329375267028809,
          13.381722450256348,
          13.176517486572266,
          13.305668830871582,
          9.195269584655762,
          8.937713623046875,
          4.771217346191406,
          11.79830265045166,
          11.29774284362793,
          11.652929306030273,
          11.756160736083984,
          11.095853805541992,
          10.089515686035156,
          10.319550514221191,
          12.39176082611084,
          12.20931339263916,
          11.178088188171387,
          10.913080215454102,
          10.75640869140625,
          10.451515197753906,
          13.464016914367676,
          13.296189308166504,
          4.762016296386719,
          4.7267746925354,
          4.821605682373047,
          11.415127754211426,
          11.336823463439941,
          11.468221664428711,
          10.157657623291016,
          10.353935241699219,
          10.68720817565918,
          11.005365371704102,
          12.448259353637695,
          12.173510551452637,
          12.840538024902344,
          12.873382568359375,
          13.054841041564941,
          12.15357494354248,
          12.503190040588379,
          8.95125961303711,
          4.554283142089844,
          9.618045806884766,
          10.188386917114258,
          13.330961227416992,
          10.14162826538086,
          10.3558988571167,
          10.365665435791016,
          10.694564819335938,
          10.80263614654541,
          10.693315505981445,
          10.247007369995117,
          9.931255340576172,
          10.826827049255371,
          12.655264854431152,
          12.360918045043945,
          9.053491592407227,
          9.52788257598877,
          9.087282180786133,
          13.327223777770996,
          10.210498809814453,
          10.250534057617188,
          13.14944839477539,
          12.541285514831543,
          12.388861656188965,
          10.489962577819824,
          10.141372680664062,
          10.395586013793945,
          10.022526741027832,
          10.669976234436035,
          10.143312454223633,
          2.6334879398345947,
          3.107391357421875,
          2.8991265296936035,
          2.7773642539978027,
          2.6990063190460205,
          2.5561788082122803,
          2.695085287094116,
          2.469853401184082,
          2.39574933052063,
          2.699503183364868,
          2.9946460723876953,
          3.0701119899749756,
          2.5619921684265137,
          2.7476284503936768,
          2.7203783988952637,
          3.1083476543426514,
          2.9355297088623047,
          2.543682336807251,
          -4.1149115562438965,
          -5.661415100097656,
          13.503438949584961
         ],
         "xaxis": "x",
         "y": [
          0.9603300094604492,
          0.712678074836731,
          5.768924236297607,
          10.886672973632812,
          10.26815128326416,
          6.850955009460449,
          6.660059452056885,
          5.9671173095703125,
          6.078497409820557,
          6.450652599334717,
          6.156986236572266,
          5.300326824188232,
          0.7768542170524597,
          0.882880687713623,
          0.8312011957168579,
          1.752676248550415,
          -0.9754791855812073,
          0.02341461554169655,
          -0.8635124564170837,
          0.1962406188249588,
          1.0831084251403809,
          -0.7069756984710693,
          -0.5954474210739136,
          0.8373212218284607,
          1.6387555599212646,
          6.803203105926514,
          -0.5153294205665588,
          0.02295629493892193,
          3.9967987537384033,
          4.085144519805908,
          7.6740498542785645,
          0.39265501499176025,
          -0.7690681219100952,
          -0.5733991861343384,
          -0.7080279588699341,
          -0.6468501091003418,
          1.716976523399353,
          1.3955825567245483,
          1.620117425918579,
          -0.7542812824249268,
          1.5012480020523071,
          4.959892272949219,
          -0.17159415781497955,
          -0.3359462320804596,
          -0.6195769906044006,
          -0.8360859751701355,
          -0.901522159576416,
          0.5753961205482483,
          -0.4856380224227905,
          -0.9299946427345276,
          -0.2800253927707672,
          -0.7059975266456604,
          1.2232837677001953,
          -0.4245331883430481,
          8.407222747802734,
          8.672889709472656,
          6.073762893676758,
          6.254592418670654,
          -0.8944799900054932,
          6.133669376373291,
          2.739788293838501,
          -0.9578897356987,
          4.784168720245361,
          -0.30192747712135315,
          -0.35246938467025757,
          -0.07210565358400345,
          1.1432511806488037,
          6.59437894821167,
          4.560800552368164,
          1.5930694341659546,
          1.4042315483093262,
          0.26125770807266235,
          4.797292232513428,
          1.3633004426956177,
          4.288147926330566,
          2.583759069442749,
          -0.1137399971485138,
          2.5942108631134033,
          7.853119850158691,
          5.924142837524414,
          1.6140440702438354,
          6.9363179206848145,
          1.4735609292984009,
          1.3635635375976562,
          1.3050967454910278,
          5.2596564292907715,
          0.8531877994537354,
          0.9308659434318542,
          9.733101844787598,
          0.14244231581687927,
          -0.19827604293823242,
          4.9804792404174805,
          -0.4361720681190491,
          -0.27448004484176636,
          -0.5705844759941101,
          -0.3893658220767975,
          5.182694911956787,
          4.5722246170043945,
          2.314023494720459,
          4.427456378936768,
          -0.13200445473194122,
          4.3058342933654785,
          3.6526715755462646,
          4.918591499328613,
          1.396105408668518,
          1.2424712181091309,
          0.5478556752204895,
          5.781419277191162,
          0.9773770570755005,
          0.39345964789390564,
          0.41220879554748535,
          4.510521411895752,
          2.8898088932037354,
          5.134286880493164,
          3.4787373542785645,
          2.878859758377075,
          2.939817428588867,
          6.595525741577148,
          6.494765758514404,
          5.590308666229248,
          2.110236406326294,
          4.567155838012695,
          4.128040790557861,
          3.043513059616089,
          -0.7517768144607544,
          2.434904098510742,
          4.893847942352295,
          1.3168989419937134,
          1.2285360097885132,
          6.847993850708008,
          7.084714412689209,
          7.830740451812744,
          1.7995622158050537,
          -0.9076464176177979,
          0.5377374291419983,
          5.226430416107178,
          5.028788089752197,
          0.5183451175689697,
          5.5741047859191895,
          6.564966201782227,
          4.452713966369629,
          4.33653450012207,
          3.471306085586548,
          1.6929042339324951,
          5.370016098022461,
          1.1866161823272705,
          -0.3811643719673157,
          0.3836795389652252,
          0.22145932912826538,
          0.2559090852737427,
          5.316873073577881,
          5.682694911956787,
          5.259378910064697,
          0.7849830389022827,
          0.9992608428001404,
          -0.5812453627586365,
          -0.1939929574728012,
          7.337603569030762,
          7.3656744956970215,
          -0.13437150418758392,
          -0.3983669579029083,
          -0.3745134472846985,
          -0.14359499514102936,
          -0.13997231423854828,
          -0.2718139588832855,
          -0.3764493465423584,
          0.6695181727409363,
          -0.770051896572113,
          -4.050242900848389,
          -4.585437774658203,
          -3.5955557823181152,
          0.011308754794299603,
          -0.16634826362133026,
          -8.781472206115723,
          -4.847704887390137,
          -4.989381313323975,
          -2.0034873485565186,
          -1.70091712474823,
          -4.7501630783081055,
          -1.9069916009902954,
          -8.558847427368164,
          -8.748228073120117,
          -0.36893925070762634,
          -3.9148666858673096,
          -4.531548976898193,
          -3.916224956512451,
          -1.501895785331726,
          -0.19192473590373993,
          0.24540294706821442,
          -0.7114906311035156,
          -0.9335591197013855,
          -2.6720616817474365,
          -0.5166314244270325,
          -0.1937977820634842,
          -0.6178374886512756,
          -1.3633862733840942,
          -1.8092281818389893,
          -1.5559217929840088,
          -0.19258955121040344,
          -0.0024191366974264383,
          -8.588205337524414,
          -4.078856945037842,
          -4.449200630187988,
          -4.259166240692139,
          -0.5428218841552734,
          -0.9875149130821228,
          -3.1605019569396973,
          -3.9106078147888184,
          -2.3851449489593506,
          -2.773318290710449,
          -0.9736236929893494,
          -1.0054826736450195,
          -1.7171566486358643,
          -4.791994094848633,
          -1.2858587503433228,
          -1.0286632776260376,
          -8.597575187683105,
          -8.633099555969238,
          -8.537714004516602,
          -4.502222061157227,
          -4.355595111846924,
          -4.346181392669678,
          -1.416097640991211,
          -1.250597596168518,
          -1.38742995262146,
          -1.1777379512786865,
          -0.3404296636581421,
          -3.1815600395202637,
          -2.445195436477661,
          -2.447322368621826,
          -2.098187208175659,
          -2.1763272285461426,
          -2.3994970321655273,
          -0.17226122319698334,
          -8.805097579956055,
          -0.6244474649429321,
          -4.862518787384033,
          -1.548362135887146,
          -4.844823837280273,
          -4.3866987228393555,
          -4.521030426025391,
          -1.417323112487793,
          -1.2525405883789062,
          -1.6463127136230469,
          -1.299997091293335,
          -1.0213733911514282,
          -4.398839473724365,
          -2.228119134902954,
          -2.600928783416748,
          0.15721456706523895,
          -0.5362155437469482,
          -0.12239478528499603,
          -1.39311945438385,
          -4.934950828552246,
          -4.965838432312012,
          -1.1141225099563599,
          -2.669807195663452,
          -2.4449727535247803,
          -1.190064787864685,
          -3.3225228786468506,
          -1.088599443435669,
          -1.1962134838104248,
          -1.4117220640182495,
          -3.439173460006714,
          5.311592102050781,
          4.436096668243408,
          4.638759613037109,
          5.690630912780762,
          4.901722431182861,
          5.346791744232178,
          5.497628688812256,
          5.173135757446289,
          5.114564418792725,
          5.653647422790527,
          4.7479352951049805,
          4.543247222900391,
          5.1740899085998535,
          5.03643798828125,
          5.60224723815918,
          4.488248348236084,
          4.657610893249512,
          4.980442523956299,
          7.6600728034973145,
          7.193103313446045,
          7.020246505737305
         ],
         "yaxis": "y"
        },
        {
         "customdata": [
          [
           33,
           "73510_1x_BE4_01_20752",
           "9 soy sauce",
           1855,
           "Condiments, Sauces & Oils"
          ],
          [
           102,
           "78856_1x_BF6_01_20763",
           "soy sauce",
           1959,
           "Condiments, Sauces & Oils"
          ],
          [
           164,
           "G72490_5x_RA6_01_20124",
           "Green Hot Sauce",
           1934,
           "Condiments, Sauces & Oils"
          ],
          [
           165,
           "G72491_p10_h6_GD8_01_21653",
           "Hot Hot Sauce",
           1912,
           "Condiments, Sauces & Oils"
          ],
          [
           170,
           "G72506_1x_BG12_01_20237",
           "Monschauer Senf, Urrezept; german mustard directly from Monschau; just opened",
           2045,
           "Condiments, Sauces & Oils"
          ],
          [
           208,
           "G72721_1x_BF6_01_20218",
           "dijon mustard",
           2123,
           "Condiments, Sauces & Oils"
          ],
          [
           267,
           "G72836_1x_RF2_01_18567",
           "teriyaki sauce",
           2229,
           "Condiments, Sauces & Oils"
          ],
          [
           308,
           "G73532_1x_BH12_01_20278",
           "Spices in oil for filet mignon",
           1779,
           "Condiments, Sauces & Oils"
          ],
          [
           364,
           "G73979_1x_BF5_01_20217",
           "Frontier salsa",
           2276,
           "Condiments, Sauces & Oils"
          ],
          [
           368,
           "G73988_5x_RE4_01_20191",
           "BBQ sauce",
           2017,
           "Condiments, Sauces & Oils"
          ],
          [
           374,
           "G74008_1x_BF4_01_20216",
           "hollondaise sauce",
           2261,
           "Condiments, Sauces & Oils"
          ],
          [
           377,
           "G74017_5x_RC4_01_20160",
           "ketchup",
           1894,
           "Condiments, Sauces & Oils"
          ],
          [
           395,
           "G74072_1x_10ul_RC8_01_19808",
           "olive oil",
           1929,
           "Condiments, Sauces & Oils"
          ],
          [
           396,
           "G74073_1x_10ul_RA6_01_19774",
           "canola oil",
           1870,
           "Condiments, Sauces & Oils"
          ],
          [
           397,
           "G74074_1x_RF11_01_18576",
           "balsamic vinegar",
           2245,
           "Condiments, Sauces & Oils"
          ],
          [
           398,
           "G74076_1x_RB11_01_18619",
           "cider vinegar",
           2066,
           "Condiments, Sauces & Oils"
          ],
          [
           405,
           "G74097_1x_BB12_01_20153",
           "mild salsa",
           2097,
           "Condiments, Sauces & Oils"
          ],
          [
           406,
           "G74098_5x_RD8_01_20180",
           "green salsa",
           2063,
           "Condiments, Sauces & Oils"
          ],
          [
           407,
           "G74099_5x_RD12_01_20184",
           "spicy salsa",
           1930,
           "Condiments, Sauces & Oils"
          ],
          [
           410,
           "G74117_1x_10ul_RB8_01_19791",
           "red curry sauce",
           2108,
           "Condiments, Sauces & Oils"
          ],
          [
           479,
           "G75573_1x_BH9_01_20274",
           "red sauce",
           2291,
           "Condiments, Sauces & Oils"
          ],
          [
           519,
           "G75678_5x_RB9_01_20149",
           "green sauce pesto like",
           2022,
           "Condiments, Sauces & Oils"
          ],
          [
           551,
           "G75762_1x_10ul_RF9_01_19888",
           "special sauce from Board and Brew",
           2192,
           "Condiments, Sauces & Oils"
          ],
          [
           652,
           "G79180_1x_BG7_01_20232",
           "tapatio salsa picante",
           2229,
           "Condiments, Sauces & Oils"
          ],
          [
           653,
           "G79181_5x_RA7_01_20126",
           "organic ketchup",
           1996,
           "Condiments, Sauces & Oils"
          ],
          [
           667,
           "G79217_p13_c12_GA4_01_21638",
           "mayonaise w/ olive oil dressing",
           1412,
           "Condiments, Sauces & Oils"
          ],
          [
           668,
           "G79218_2x_5ul_RF12_01_19189",
           "A1 sauce",
           2222,
           "Condiments, Sauces & Oils"
          ],
          [
           669,
           "G79219_2x_RB12_01_19122",
           "ketchup",
           2184,
           "Condiments, Sauces & Oils"
          ],
          [
           670,
           "G79221_2x_5ul_RD12_01_19160",
           "stir fry sauce",
           2212,
           "Condiments, Sauces & Oils"
          ],
          [
           674,
           "G79228_2x_RA12_01_19108",
           "hot sauce cholula",
           2198,
           "Condiments, Sauces & Oils"
          ],
          [
           828,
           "G83183_1x_BH10_01_20275",
           "BBQ sauce",
           2230,
           "Condiments, Sauces & Oils"
          ],
          [
           960,
           "G86738_1x_BE3_01_23183",
           "marinara sauce ",
           1465,
           "Condiments, Sauces & Oils"
          ],
          [
           998,
           "G86808_1x_BD12_01_23177",
           "olive oil mayonnaise",
           1619,
           "Condiments, Sauces & Oils"
          ],
          [
           999,
           "G86811_10x_1ul_RE2_01_23209",
           "stone ground mustard",
           1515,
           "Condiments, Sauces & Oils"
          ],
          [
           1016,
           "G86848_1x_RA6_01_23479",
           "classic stir-fry sauce",
           1930,
           "Condiments, Sauces & Oils"
          ],
          [
           1021,
           "G86855_1x_RA12_01_23488",
           "vinegar",
           1499,
           "Condiments, Sauces & Oils"
          ],
          [
           1022,
           "G86856_1x_10ul_RB2_01_23506",
           "oil",
           1373,
           "Condiments, Sauces & Oils"
          ],
          [
           1026,
           "G86866_1x_RB10_01_23501",
           "Kimlan soy sauce",
           1810,
           "Condiments, Sauces & Oils"
          ],
          [
           1027,
           "G86868_1x_RB12_01_23503",
           "red curry sauce",
           1747,
           "Condiments, Sauces & Oils"
          ],
          [
           1057,
           "G86917_1x_BG3_01_26633",
           "spicy raw tuna with sesame oil",
           1983,
           "Condiments, Sauces & Oils"
          ],
          [
           1061,
           "G86923_10x_2ul_BD3_01_23540",
           "Mustard (Heinz)",
           1695,
           "Condiments, Sauces & Oils"
          ],
          [
           1824,
           "RA3_RA3_01_49051",
           "olive.oil",
           2435,
           "Condiments, Sauces & Oils"
          ]
         ],
         "hovertemplate": "color=Condiments, Sauces & Oils<br>x=%{x}<br>y=%{y}<br>hover_data_0=%{customdata[0]}<br>hover_data_1=%{customdata[1]}<br>hover_data_2=%{customdata[2]}<br>hover_data_3=%{customdata[3]}<br>hover_data_4=%{customdata[4]}<extra></extra>",
         "legendgroup": "Condiments, Sauces & Oils",
         "marker": {
          "color": "#479B55",
          "symbol": "circle"
         },
         "mode": "markers",
         "name": "Condiments, Sauces & Oils",
         "showlegend": true,
         "type": "scattergl",
         "x": [
          11.07614517211914,
          11.181382179260254,
          10.91392707824707,
          10.884678840637207,
          12.869769096374512,
          12.903117179870605,
          19.109371185302734,
          9.715078353881836,
          14.29942798614502,
          10.134387969970703,
          13.625733375549316,
          10.024759292602539,
          9.511246681213379,
          11.987711906433105,
          18.513107299804688,
          18.159862518310547,
          10.427511215209961,
          10.611197471618652,
          10.470255851745605,
          12.255814552307129,
          10.30195426940918,
          9.985727310180664,
          12.47427749633789,
          10.366015434265137,
          11.14455795288086,
          11.303427696228027,
          10.155318260192871,
          11.23543930053711,
          13.162877082824707,
          10.991056442260742,
          13.128060340881348,
          8.341569900512695,
          8.6952486038208,
          9.6215181350708,
          13.374682426452637,
          9.09268856048584,
          9.288164138793945,
          11.224778175354004,
          10.132539749145508,
          12.147723197937012,
          9.97077751159668,
          -4.116208076477051
         ],
         "xaxis": "x",
         "y": [
          1.9464529752731323,
          1.870177149772644,
          8.395763397216797,
          6.672022342681885,
          2.6235644817352295,
          2.712555170059204,
          6.107446670532227,
          10.088323593139648,
          1.9004645347595215,
          7.567699432373047,
          3.8141918182373047,
          8.05262565612793,
          10.113472938537598,
          5.096000671386719,
          6.828622817993164,
          6.248934745788574,
          8.268913269042969,
          8.413403511047363,
          8.48289966583252,
          4.268456935882568,
          8.9996976852417,
          6.415530681610107,
          4.503507137298584,
          9.12650203704834,
          8.234345436096191,
          5.45790433883667,
          9.370905876159668,
          8.566864967346191,
          2.5772275924682617,
          8.737091064453125,
          8.616206169128418,
          3.9067225456237793,
          5.0436787605285645,
          2.8191092014312744,
          3.966259717941284,
          6.175669193267822,
          6.3609113693237305,
          1.752008080482483,
          5.841385364532471,
          6.722477436065674,
          3.047236442565918,
          7.299698352813721
         ],
         "yaxis": "y"
        },
        {
         "customdata": [
          [
           69,
           "75070_1x_BC10_01_17419",
           "sweet corn",
           2108,
           "Sweets & Snacks"
          ],
          [
           80,
           "75157_1x_BF6_01_17480",
           "sweet corn; cooked with other ingredients",
           2332,
           "Sweets & Snacks"
          ],
          [
           106,
           "AMZ_15_RB6_01_48916",
           "Traditional cake",
           2459,
           "Sweets & Snacks"
          ],
          [
           108,
           "AMZ_1_tk2_RA2_01_48879",
           "Cheese pastry",
           2455,
           "Sweets & Snacks"
          ],
          [
           109,
           "AMZ_20_RB11_01_48930",
           "Yucca cake",
           2498,
           "Sweets & Snacks"
          ],
          [
           143,
           "G72455_BD3_01_18990",
           "dried chickpea snack",
           2023,
           "Sweets & Snacks"
          ],
          [
           144,
           "G72456_10x_BH6_01_17934",
           "baby snack, cheese twists",
           1772,
           "Sweets & Snacks"
          ],
          [
           146,
           "G72459_10x_BC7_01_17816",
           "baby snack, cereal puffs",
           1739,
           "Sweets & Snacks"
          ],
          [
           158,
           "G72474_5x_10ul_BB8_01_19656",
           "dark chocolate w/ hazelnuts",
           1999,
           "Sweets & Snacks"
          ],
          [
           168,
           "G72496_2x_RC8_01_19133",
           "cookie, oatmeal golden raisin from Scripps Day",
           1892,
           "Sweets & Snacks"
          ],
          [
           172,
           "G72510_BA2_01_18983",
           "roasted teriyaki seaweed snack",
           1985,
           "Sweets & Snacks"
          ],
          [
           177,
           "G72519_10x_BB11_01_17893",
           "choco snack",
           1649,
           "Sweets & Snacks"
          ],
          [
           182,
           "G72527_10x_BD6_01_17827",
           "Hershey Milk Chocolate Egg",
           2030,
           "Sweets & Snacks"
          ],
          [
           213,
           "G72734_10x_BG11_01_17927",
           "carrot cake",
           2208,
           "Sweets & Snacks"
          ],
          [
           214,
           "G72739_10x_BB2_01_17894",
           "ocho (chocolate coconut candy bar) Whole foods",
           1914,
           "Sweets & Snacks"
          ],
          [
           235,
           "G72769_rerun_BB8_01_19072",
           "Gluten free muffin",
           2299,
           "Sweets & Snacks"
          ],
          [
           242,
           "G72778_10x_BA4_01_17869",
           "pink asian pastry/bread",
           1749,
           "Sweets & Snacks"
          ],
          [
           243,
           "G72780_10x_BF2_01_17850",
           "croissant, chocolate (novisible chocolate)",
           1706,
           "Sweets & Snacks"
          ],
          [
           245,
           "G72784_10x_BA5_01_17870",
           "banana pineapple muffin (JMG baked)",
           1947,
           "Sweets & Snacks"
          ],
          [
           246,
           "G72785_10x_BB3_01_17895",
           "sugary pastry, muffin",
           1737,
           "Sweets & Snacks"
          ],
          [
           247,
           "G72786_10x_BD2_01_17823",
           "oreo cookie",
           2161,
           "Sweets & Snacks"
          ],
          [
           248,
           "G72789_1x_BG5_01_20230",
           "White Chocolate Chips",
           1976,
           "Sweets & Snacks"
          ],
          [
           259,
           "G72810_rerun_BB6_01_19065",
           "black jelly bean",
           1944,
           "Sweets & Snacks"
          ],
          [
           260,
           "G72811_BF6_01_19022",
           "red jelly bean",
           1800,
           "Sweets & Snacks"
          ],
          [
           262,
           "G72814_10x_BH4_01_17932",
           "chocolate chip cookie",
           1704,
           "Sweets & Snacks"
          ],
          [
           350,
           "G73731_BA4_01_18985",
           "chocolate pot de creeme",
           2267,
           "Sweets & Snacks"
          ],
          [
           356,
           "G73947_1x_BA8_01_17276",
           "sweet potato leaves",
           2098,
           "Sweets & Snacks"
          ],
          [
           365,
           "G73983_BC6_01_18943",
           "chewy granola bar peanut butter dark chocolate chip",
           1893,
           "Sweets & Snacks"
          ],
          [
           375,
           "G74013_2x_RH9_01_19428",
           "almond on a puff pastry pretzel",
           1834,
           "Sweets & Snacks"
          ],
          [
           383,
           "G74030_BC5_01_18942",
           "puff pastry",
           1793,
           "Sweets & Snacks"
          ],
          [
           426,
           "G75123_5x_10ul_RG9_01_19563",
           "chocolate, taza (84%)",
           1839,
           "Sweets & Snacks"
          ],
          [
           427,
           "G75124_5x_RC9_01_19497",
           "ritter sport dark chocolate with hazelnuts",
           1732,
           "Sweets & Snacks"
          ],
          [
           449,
           "G75187_1x_BH3_01_17347",
           "chocolate mint",
           2179,
           "Sweets & Snacks"
          ],
          [
           462,
           "G75237_1x_10ul_RE6_01_19833",
           "nesquik chocolate milk",
           2197,
           "Sweets & Snacks"
          ],
          [
           486,
           "G75590_BF2_01_19018",
           "fortune cookie",
           2011,
           "Sweets & Snacks"
          ],
          [
           488,
           "G75613_BE8_01_19010",
           "Puff pastry",
           1927,
           "Sweets & Snacks"
          ],
          [
           489,
           "G75615_BE11_01_19013",
           "mini donut hole with sugar",
           2060,
           "Sweets & Snacks"
          ],
          [
           490,
           "G75616_BC11_01_18949",
           "cinnamon marshmallow",
           1873,
           "Sweets & Snacks"
          ],
          [
           491,
           "G75617_BF11_01_19029",
           "red velvet cake",
           2230,
           "Sweets & Snacks"
          ],
          [
           492,
           "G75618_BC9_01_18947",
           "red velvet cake icing",
           1809,
           "Sweets & Snacks"
          ],
          [
           493,
           "G75619_BE9_01_19011",
           "cheesecake like dessert",
           2152,
           "Sweets & Snacks"
          ],
          [
           496,
           "G75622_rerun_BD4_01_19081",
           "chocolate cake",
           2233,
           "Sweets & Snacks"
          ],
          [
           497,
           "G75623_BF3_01_19019",
           "chocolate icing",
           2328,
           "Sweets & Snacks"
          ],
          [
           499,
           "G75625_BC8_01_18946",
           "almond cake",
           2050,
           "Sweets & Snacks"
          ],
          [
           500,
           "G75626_BF7_01_19025",
           "cheesecake like dessert- chantilly topping",
           2140,
           "Sweets & Snacks"
          ],
          [
           501,
           "G75627_BA8_01_18916",
           "crust of custard and strawberry dessert",
           1931,
           "Sweets & Snacks"
          ],
          [
           502,
           "G75628_BG10_01_19043",
           "shortbread cookie gluten free",
           2082,
           "Sweets & Snacks"
          ],
          [
           513,
           "G75667_BB2_01_18924",
           "granola bar with chocolate",
           2310,
           "Sweets & Snacks"
          ],
          [
           563,
           "G75808_5x_BB5_01_19955",
           "sweet potato and venison formula 56",
           2047,
           "Sweets & Snacks"
          ],
          [
           573,
           "G75863_1x_RF7_01_26446",
           "chocolate almond milk, Silk",
           1736,
           "Sweets & Snacks"
          ],
          [
           575,
           "G78807_1x_RG2_01_20346",
           "Garden mint (chocolate)",
           2012,
           "Sweets & Snacks"
          ],
          [
           584,
           "G78843_BG12_01_19045",
           "yellow gummy bear",
           2001,
           "Sweets & Snacks"
          ],
          [
           585,
           "G78844_2x_RD3_01_19141",
           "Red gummy bear",
           1833,
           "Sweets & Snacks"
          ],
          [
           603,
           "G78919_RA2_01_17522",
           "sweet brown rice",
           1973,
           "Sweets & Snacks"
          ],
          [
           645,
           "G79169_5x_BC10_01_19638",
           "ice cream",
           1692,
           "Sweets & Snacks"
          ],
          [
           646,
           "G79170_5x_BF10_01_19699",
           "ice cream",
           1979,
           "Sweets & Snacks"
          ],
          [
           671,
           "G79223_5x_RE9_01_19528",
           "chocolate",
           1788,
           "Sweets & Snacks"
          ],
          [
           672,
           "G79224_5x_10ul_RH9_01_19577",
           "chocolate",
           1951,
           "Sweets & Snacks"
          ],
          [
           682,
           "G79244_2x_RA6_01_19100",
           "Christmas dessert",
           2073,
           "Sweets & Snacks"
          ],
          [
           683,
           "G79245_2x_RH6_01_19223",
           "Christmas dessert",
           1924,
           "Sweets & Snacks"
          ],
          [
           787,
           "G79651_5x_BD10_01_19997",
           "sweet harvest finch vitamin enriched 70",
           1940,
           "Sweets & Snacks"
          ],
          [
           798,
           "G79681_5x_BD11_01_19633",
           "chocolate (72%)",
           1681,
           "Sweets & Snacks"
          ],
          [
           799,
           "G79683_5x_BF11_01_19700",
           "milk chocolate, sugar free",
           1747,
           "Sweets & Snacks"
          ],
          [
           800,
           "G79684_5x_BC11_01_19645",
           "dark chocolate with almonds",
           2027,
           "Sweets & Snacks"
          ],
          [
           801,
           "G79685_5x_BH10_01_19703",
           "dark chocolate, sugar free",
           2021,
           "Sweets & Snacks"
          ],
          [
           802,
           "G79686_5x_BA10_01_19616",
           "chocolate (45%)",
           1674,
           "Sweets & Snacks"
          ],
          [
           803,
           "G79687_5x_RD9_01_19512",
           "chocolate with caramel",
           1952,
           "Sweets & Snacks"
          ],
          [
           804,
           "G79688_1x_BF9_01_19545",
           "chocolate, 72%",
           2172,
           "Sweets & Snacks"
          ],
          [
           806,
           "G79698_5x_BA11_01_19623",
           "belgium chocolate pudding",
           1967,
           "Sweets & Snacks"
          ],
          [
           814,
           "G79713_5x_RB9_01_19481",
           "hershey's milk chocolate",
           1598,
           "Sweets & Snacks"
          ],
          [
           815,
           "G79714_5x_RA9_01_19467",
           "ritter sport chocolate, whole milk chocolate with hazelnuts",
           1625,
           "Sweets & Snacks"
          ],
          [
           817,
           "G79725_5x_BG10_01_19666",
           "chocolate",
           1979,
           "Sweets & Snacks"
          ],
          [
           818,
           "G79726_5x_BH12_01_19705",
           "dark chocolate truffle",
           2143,
           "Sweets & Snacks"
          ],
          [
           830,
           "G83188_1x_BG10_01_20235",
           "chocolate syrup",
           2327,
           "Sweets & Snacks"
          ],
          [
           845,
           "G83229_1x_RG4_01_21842",
           "Gummy Bear green",
           1331,
           "Sweets & Snacks"
          ],
          [
           846,
           "G83230_1x_RC5_01_21755",
           "Gummy Bear white",
           1151,
           "Sweets & Snacks"
          ],
          [
           847,
           "G83231_1x_RA5_01_21727",
           "Gummy Bear red",
           1234,
           "Sweets & Snacks"
          ],
          [
           848,
           "G83232_1x_RD5_01_21768",
           "Gummy Bear orange",
           1296,
           "Sweets & Snacks"
          ],
          [
           849,
           "G83233_1x_RE8_01_21823",
           "Candy Corn, yellow",
           1295,
           "Sweets & Snacks"
          ],
          [
           861,
           "G83253_1x_RH9_01_21864",
           "Twix mini (possibly, chocolate carmel tube)",
           1994,
           "Sweets & Snacks"
          ],
          [
           877,
           "G83325_1x_RC4_01_21754",
           "Heath (Milk Chocolate English Toffee Bar)",
           1565,
           "Sweets & Snacks"
          ],
          [
           878,
           "G83326_1x_RF4_01_21830",
           "York (dark chocolate covered peppermint Pattie)",
           2252,
           "Sweets & Snacks"
          ],
          [
           889,
           "G83350_1x_BH9_01_21909",
           "neocate Jr. Chocolate",
           1489,
           "Sweets & Snacks"
          ],
          [
           903,
           "G83386_5x_RE9_01_21478",
           "aztec chocolate dome",
           2292,
           "Sweets & Snacks"
          ],
          [
           905,
           "G83389_1x_RB8_01_21745",
           "Candy Corn, orange",
           1424,
           "Sweets & Snacks"
          ],
          [
           906,
           "G83390_1x_RC8_01_21759",
           "Candy Corn, white",
           1383,
           "Sweets & Snacks"
          ],
          [
           918,
           "G83412_1x_RG8_01_21847",
           "Snickers (chocolate & white fluff)",
           1679,
           "Sweets & Snacks"
          ],
          [
           919,
           "G83413_1x_RD8_01_21808",
           "snickers (chocolate, nut, carmel)",
           1879,
           "Sweets & Snacks"
          ],
          [
           930,
           "G83450_1x_RF9_01_21836",
           "Twix mini white part and chocolate",
           1769,
           "Sweets & Snacks"
          ],
          [
           937,
           "G86701_1x_RC6_01_21756",
           "Reese's Peanut Butter (Chocolate Part)",
           1756,
           "Sweets & Snacks"
          ],
          [
           939,
           "G86703_1x_RG6_01_21844",
           "Candy cane (Natural Peppermint)- Bobs Original",
           1610,
           "Sweets & Snacks"
          ],
          [
           943,
           "G86710_1x_RD10_01_21810",
           "Ritter Sport",
           1830,
           "Sweets & Snacks"
          ],
          [
           944,
           "G86711_1x_RG10_01_21849",
           "Ritter Sport",
           1679,
           "Sweets & Snacks"
          ],
          [
           945,
           "G86712_1x_RA11_01_21729",
           "Baby Ruth (Chocolate and Carmel)",
           1615,
           "Sweets & Snacks"
          ],
          [
           947,
           "G86716_1x_RH11_01_21868",
           "Almond Joy (Chocolate and Nut)",
           2095,
           "Sweets & Snacks"
          ],
          [
           948,
           "G86717_1x_RF11_01_21838",
           "Almond Joy (Chocolate and Coconut)",
           1586,
           "Sweets & Snacks"
          ],
          [
           949,
           "G86718_1x_RE5_01_21819",
           "jolly rancher lollipop",
           1427,
           "Sweets & Snacks"
          ],
          [
           950,
           "G86719_1x_RH5_01_21856",
           "Dum dum lollipop orange",
           1575,
           "Sweets & Snacks"
          ],
          [
           951,
           "G86720_1x_RG5_01_21843",
           "Dum dum lollipop mystery",
           1604,
           "Sweets & Snacks"
          ],
          [
           961,
           "G86739_10x_RG6_01_23217",
           "candied orange with chocolate (Whole foods)",
           1449,
           "Sweets & Snacks"
          ],
          [
           962,
           "G86740_1x_BG7_01_23219",
           "ChocoHigos; chocolate covered dried figs (Whole foods)",
           1801,
           "Sweets & Snacks"
          ],
          [
           963,
           "G86741_1x_BD8_01_23173",
           "shortbread cookie (Raspberry Stars) (Trader Joe's)",
           1298,
           "Sweets & Snacks"
          ],
          [
           969,
           "G86761_1x_BC7_01_23154",
           "oreo cookie outside",
           1796,
           "Sweets & Snacks"
          ],
          [
           971,
           "G86767_1x_BC10_01_23157",
           "oreo cookie cream",
           1721,
           "Sweets & Snacks"
          ],
          [
           982,
           "G86782_10x_RG2_01_23213",
           "toasted coconut dark chocolate (70% cocoa), purchased from whole foods la jolla, expiration date 1.19.2018",
           1633,
           "Sweets & Snacks"
          ],
          [
           984,
           "G86784_10x_RF12_01_23208",
           "good day chocolate with melatonin, from whole foods la jolla",
           1169,
           "Sweets & Snacks"
          ],
          [
           995,
           "G86805_1x_BD9_01_23174",
           "pumpkin pie",
           1734,
           "Sweets & Snacks"
          ],
          [
           1000,
           "G86813_1x_RE7_01_23350",
           "sweet potatoes",
           1551,
           "Sweets & Snacks"
          ],
          [
           1028,
           "G86869_1x_RC2_01_23508",
           "sweet and sour sauce",
           1681,
           "Sweets & Snacks"
          ],
          [
           1036,
           "G86885_1x_BG3_01_23214",
           "dark chocolate sea salt and nibs; madecasse brand; 63% cocoa; best before 03/13/2019; sampled 2017-12-03 22:00",
           1767,
           "Sweets & Snacks"
          ],
          [
           1040,
           "G86891_1x_RF4_01_23361",
           "Smucker's Concord Grape Jelly",
           1943,
           "Sweets & Snacks"
          ],
          [
           1050,
           "G86902_1x_BB3_01_23135",
           "Chocolate Chip Bagel (Monday Meeting)",
           2120,
           "Sweets & Snacks"
          ],
          [
           1058,
           "G86919_1x_BC3_01_26569",
           "Juan Vandez carmelos coffee candy",
           1828,
           "Sweets & Snacks"
          ],
          [
           1064,
           "G86928_1x_RE2_01_23344",
           "cucumber, sweet and sour dish",
           1618,
           "Sweets & Snacks"
          ],
          [
           1065,
           "G86929_1x_RE1_01_23343",
           "tomato peel, sweet and sour dish",
           1282,
           "Sweets & Snacks"
          ],
          [
           1066,
           "G86930_1x_RD11_01_23337",
           "tomato meat, sweet and sour dish",
           1490,
           "Sweets & Snacks"
          ],
          [
           1087,
           "G86973_1x_RH4_01_26470",
           "chocolate almond-pressed juice",
           2273,
           "Sweets & Snacks"
          ],
          [
           1091,
           "G86979_1x_BB3_01_26381",
           "chocolate almond pressed juicery",
           1721,
           "Sweets & Snacks"
          ],
          [
           1102,
           "G87324_RD2_01_26112",
           "bundt cake homemade",
           1634,
           "Sweets & Snacks"
          ],
          [
           1115,
           "G87361_1x_BD11_01_26044",
           "dark chocolate 72%",
           1889,
           "Sweets & Snacks"
          ],
          [
           1126,
           "G87398_RC12_01_26108",
           "sweet Provolone cheese",
           1736,
           "Sweets & Snacks"
          ],
          [
           1149,
           "G87440_1x_BD10_01_26043",
           "choco orange snack",
           1640,
           "Sweets & Snacks"
          ],
          [
           1153,
           "G87447_1x_BD12_01_26045",
           "torrone milk chocolate hazelnuts",
           1700,
           "Sweets & Snacks"
          ],
          [
           1155,
           "G87450_1x_BE2_01_26049",
           "stracciatella flute snack",
           1867,
           "Sweets & Snacks"
          ],
          [
           1157,
           "G87453_1x_BD6_01_26034",
           "donut wine",
           1467,
           "Sweets & Snacks"
          ],
          [
           1163,
           "G87462_1x_BG2_01_26632",
           "milk chocolate honey 30% cocoa",
           1833,
           "Sweets & Snacks"
          ],
          [
           1172,
           "G87477_1x_BF2_01_26622",
           "english muffin McD",
           1919,
           "Sweets & Snacks"
          ],
          [
           1208,
           "G87543_1x_BB5_01_26557",
           "Hostess Golden Cupcake (chocolate frosting with a little cake)",
           2018,
           "Sweets & Snacks"
          ],
          [
           1209,
           "G87544_1x_BF4_01_26624",
           "Hostess Golden Cupcake (cake part)",
           2080,
           "Sweets & Snacks"
          ],
          [
           1213,
           "G87549_1x_BC2_01_26568",
           "mango coconut jelly",
           1477,
           "Sweets & Snacks"
          ],
          [
           1214,
           "G87550_1x_BH2_01_26646",
           "melatonin chocolate; Good Day Chocolate Brand; from whole foods la jolla; sampled in Encinitas",
           2194,
           "Sweets & Snacks"
          ],
          [
           1216,
           "G87553_1x_RB8_01_26250",
           "raw organic garnet sweet potato, from whole foods La jolla",
           1718,
           "Sweets & Snacks"
          ],
          [
           1223,
           "G87562_1x_BA10_01_26549",
           "dark chocolate pomegranate bar",
           2105,
           "Sweets & Snacks"
          ],
          [
           1224,
           "G87565_1x_BB9_01_26562",
           "Fruit and Salted Nut Protein Snack Bars",
           2250,
           "Sweets & Snacks"
          ],
          [
           1228,
           "G87570_1x_BA9_01_26548",
           "cupcake, cake",
           1792,
           "Sweets & Snacks"
          ],
          [
           1231,
           "G87580_1x_RB9_01_26251",
           "organic japanese sweet potato raw; whole foods",
           1464,
           "Sweets & Snacks"
          ],
          [
           1232,
           "G87581_1x_RC9_01_26266",
           "organic hannah sweet potato raw; from whole foods la jolla",
           1302,
           "Sweets & Snacks"
          ],
          [
           1233,
           "G87582_1x_RE9_01_26301",
           "organic purple sweet potato raw;from whole foods",
           1723,
           "Sweets & Snacks"
          ],
          [
           1237,
           "G87595_1x_RE10_01_26302",
           "organic garnet sweet potato; cooked at 400 degs with olive oil from TJs and salt (from same potato as 87553)",
           1868,
           "Sweets & Snacks"
          ],
          [
           1238,
           "G87596_1x_RG10_01_26332",
           "organic purple sweet potato from whole foods; cooked at 400 degs with olive oil from trader joes and salt (same sample as 87582)",
           1840,
           "Sweets & Snacks"
          ],
          [
           1239,
           "G87598_1x_RD10_01_26282",
           "organic japanese sweet potato cooked with olive oil from trader joes and salt; from la jolla same potato as (87580)",
           1664,
           "Sweets & Snacks"
          ]
         ],
         "hovertemplate": "color=Sweets & Snacks<br>x=%{x}<br>y=%{y}<br>hover_data_0=%{customdata[0]}<br>hover_data_1=%{customdata[1]}<br>hover_data_2=%{customdata[2]}<br>hover_data_3=%{customdata[3]}<br>hover_data_4=%{customdata[4]}<extra></extra>",
         "legendgroup": "Sweets & Snacks",
         "marker": {
          "color": "#EEA6FB",
          "symbol": "circle"
         },
         "mode": "markers",
         "name": "Sweets & Snacks",
         "showlegend": true,
         "type": "scattergl",
         "x": [
          12.862284660339355,
          12.706385612487793,
          -5.614001274108887,
          -5.50645637512207,
          -4.495307922363281,
          15.914115905761719,
          14.596039772033691,
          14.589461326599121,
          11.2537260055542,
          14.890056610107422,
          16.07251739501953,
          12.487767219543457,
          14.625383377075195,
          15.330423355102539,
          12.11373519897461,
          14.528481483459473,
          14.604253768920898,
          13.455698013305664,
          14.430059432983398,
          14.26401424407959,
          13.359724998474121,
          14.112568855285645,
          16.055295944213867,
          15.718564987182617,
          14.22939682006836,
          15.707182884216309,
          14.683781623840332,
          15.041900634765625,
          13.172140121459961,
          14.98056697845459,
          11.115200996398926,
          10.766361236572266,
          12.9673433303833,
          13.234848022460938,
          16.044727325439453,
          16.316404342651367,
          16.28734588623047,
          15.289701461791992,
          16.192401885986328,
          15.69314956665039,
          16.75673484802246,
          14.776047706604004,
          14.642300605773926,
          14.433347702026367,
          15.370272636413574,
          15.302477836608887,
          15.601852416992188,
          13.095378875732422,
          15.176307678222656,
          9.4074125289917,
          11.308937072753906,
          14.980745315551758,
          15.552412033081055,
          14.404107093811035,
          13.95737075805664,
          12.419648170471191,
          11.193726539611816,
          11.648046493530273,
          15.299402236938477,
          13.631339073181152,
          15.358899116516113,
          11.285638809204102,
          13.299280166625977,
          13.354728698730469,
          13.266484260559082,
          12.544975280761719,
          13.082889556884766,
          11.74052906036377,
          12.406023025512695,
          11.1220703125,
          11.507680892944336,
          11.744770050048828,
          12.228425025939941,
          14.215792655944824,
          10.85667896270752,
          11.122396469116211,
          11.481565475463867,
          12.24090576171875,
          10.872265815734863,
          13.960612297058105,
          11.888416290283203,
          13.83559799194336,
          13.232813835144043,
          11.433598518371582,
          11.245468139648438,
          10.90927791595459,
          12.640970230102539,
          11.688085556030273,
          11.964428901672363,
          13.036797523498535,
          13.289952278137207,
          13.621522903442383,
          12.748717308044434,
          11.164039611816406,
          14.027978897094727,
          12.855913162231445,
          11.950576782226562,
          11.748614311218262,
          12.004645347595215,
          9.973563194274902,
          10.158987045288086,
          8.249646186828613,
          10.243895530700684,
          8.34453296661377,
          10.105754852294922,
          9.665715217590332,
          8.822973251342773,
          9.556084632873535,
          9.978195190429688,
          9.859601974487305,
          11.750094413757324,
          11.173038482666016,
          9.808573722839355,
          9.613028526306152,
          9.14252758026123,
          9.313271522521973,
          11.863877296447754,
          9.835166931152344,
          14.140342712402344,
          12.680519104003906,
          13.704965591430664,
          12.977014541625977,
          12.8704195022583,
          14.332592964172363,
          12.80902099609375,
          13.230233192443848,
          10.398784637451172,
          13.557232856750488,
          14.114155769348145,
          8.984819412231445,
          13.706795692443848,
          10.649003028869629,
          14.300151824951172,
          14.170877456665039,
          14.473977088928223,
          11.17824935913086,
          11.224578857421875,
          11.59166145324707,
          12.34608268737793,
          10.777383804321289,
          9.920270919799805
         ],
         "xaxis": "x",
         "y": [
          9.097704887390137,
          9.464012145996094,
          5.995712757110596,
          5.976877212524414,
          6.4361138343811035,
          6.9846601486206055,
          4.958628177642822,
          6.005451202392578,
          3.9020957946777344,
          6.356483459472656,
          7.109755516052246,
          5.483648777008057,
          7.829592704772949,
          4.915557384490967,
          4.529642581939697,
          8.260310173034668,
          6.400972366333008,
          6.836338520050049,
          7.452869892120361,
          6.2704758644104,
          5.229434967041016,
          4.884256362915039,
          7.293180465698242,
          7.352658271789551,
          5.778653621673584,
          7.034594535827637,
          11.385946273803711,
          7.509631156921387,
          7.87475061416626,
          7.261784076690674,
          4.27916145324707,
          4.724637985229492,
          11.652442932128906,
          3.583009958267212,
          7.120017051696777,
          7.256289005279541,
          7.159761428833008,
          7.612929821014404,
          5.813111305236816,
          5.34973669052124,
          5.706812858581543,
          3.43491268157959,
          5.217270851135254,
          8.14975357055664,
          6.6688055992126465,
          7.513484001159668,
          7.131553649902344,
          10.552995681762695,
          6.191161632537842,
          6.322803497314453,
          10.857026100158691,
          4.477541446685791,
          6.027223110198975,
          8.78986930847168,
          6.949837684631348,
          3.7620255947113037,
          4.37992000579834,
          4.21887731552124,
          5.460432529449463,
          3.9341068267822266,
          6.057984828948975,
          4.700520992279053,
          5.860611438751221,
          5.272928714752197,
          5.037678241729736,
          5.540212154388428,
          5.217853546142578,
          3.411216974258423,
          4.017230033874512,
          5.0058722496032715,
          5.340246200561523,
          3.7058634757995605,
          3.630387544631958,
          1.8590986728668213,
          6.42630672454834,
          5.928428649902344,
          5.936464786529541,
          6.287355899810791,
          6.2953948974609375,
          6.5348334312438965,
          6.406998634338379,
          5.946065902709961,
          7.403872013092041,
          2.830322504043579,
          6.310604572296143,
          6.4775872230529785,
          5.803858280181885,
          3.685286283493042,
          4.0008769035339355,
          6.536926746368408,
          8.933245658874512,
          6.828328609466553,
          6.021908283233643,
          6.339846134185791,
          6.545929908752441,
          6.457507610321045,
          6.579890251159668,
          7.8487091064453125,
          8.0277681350708,
          4.364803314208984,
          3.2282276153564453,
          4.467059135437012,
          4.614250183105469,
          4.847429275512695,
          4.2948689460754395,
          4.01331090927124,
          4.982797622680664,
          3.2291195392608643,
          5.629093647003174,
          3.013749122619629,
          10.713430404663086,
          3.444997549057007,
          7.020812511444092,
          3.2394585609436035,
          3.9608685970306396,
          3.6377909183502197,
          4.227965831756592,
          6.864051818847656,
          7.201855659484863,
          5.465472221374512,
          0.4402332007884979,
          6.671761989593506,
          5.873012542724609,
          7.066381454467773,
          6.450802326202393,
          6.343758583068848,
          5.750726222991943,
          6.2369303703308105,
          6.081850528717041,
          6.710666656494141,
          5.450292587280273,
          6.334677696228027,
          8.078530311584473,
          7.668296813964844,
          7.901465892791748,
          7.6477155685424805,
          7.05420446395874,
          9.273269653320312,
          2.7716455459594727,
          5.831815719604492,
          3.818934917449951
         ],
         "yaxis": "y"
        },
        {
         "customdata": [
          [
           79,
           "75156_1x_BA3_01_17423",
           "pine nut; cooked with other ingredients",
           2357,
           "Nuts & Seeds"
          ],
          [
           97,
           "78813_1x_BA6_01_17389",
           "Garden Arugula (from seed)",
           2060,
           "Nuts & Seeds"
          ],
          [
           117,
           "AMZ_35_RD6_01_49036",
           "Cashew (Anacardium occidentale)",
           2440,
           "Nuts & Seeds"
          ],
          [
           171,
           "G72508_RH11_01_17791",
           "pine nut, Trader Joe's; dry toasted",
           1951,
           "Nuts & Seeds"
          ],
          [
           331,
           "G73695_RF11_01_17620",
           "cashew (from Costco)",
           1862,
           "Nuts & Seeds"
          ],
          [
           416,
           "G75078_2x_RC2_01_19126",
           "planters cashew",
           1906,
           "Nuts & Seeds"
          ],
          [
           432,
           "G75132_RC9_01_18371",
           "golden flaxseed",
           2001,
           "Nuts & Seeds"
          ],
          [
           433,
           "G75133_RC8_01_17564",
           "brown flaxseed",
           1851,
           "Nuts & Seeds"
          ],
          [
           562,
           "G75807_5x_BC4_01_19972",
           "pigeon seed 73",
           1730,
           "Nuts & Seeds"
          ],
          [
           620,
           "G78953_RH2_01_17759",
           "raw walnut pieces",
           2236,
           "Nuts & Seeds"
          ],
          [
           647,
           "G79172_5x_RA3_01_19460",
           "raw roasted peanut tempeh",
           2044,
           "Nuts & Seeds"
          ],
          [
           649,
           "G79175_5x_RD4_01_19506",
           "raw chickpea/sunflower seed tempeh",
           1984,
           "Nuts & Seeds"
          ],
          [
           650,
           "G79176_5x_RA4_01_19461",
           "cooked chickpea/sunflower seed tempeh",
           2080,
           "Nuts & Seeds"
          ],
          [
           659,
           "G79198_2x_5ul_RF11_01_19190",
           "cashew from spicy nut mix (Portland)",
           1846,
           "Nuts & Seeds"
          ],
          [
           824,
           "G79745_5x_BB6_01_19956",
           "sprout seed 68",
           1848,
           "Nuts & Seeds"
          ],
          [
           880,
           "G83338_1x_RF2_01_21716",
           "M&M peanut",
           2079,
           "Nuts & Seeds"
          ],
          [
           881,
           "G83339_1x_RG2_01_21723",
           "M&M peanut",
           2029,
           "Nuts & Seeds"
          ],
          [
           882,
           "G83340_1x_RD3_01_21766",
           "M&M peanut",
           1893,
           "Nuts & Seeds"
          ],
          [
           909,
           "G83395_5x_RA6_01_21406",
           "raw walnut",
           1925,
           "Nuts & Seeds"
          ],
          [
           910,
           "G83396_5x_RD6_01_21445",
           "raw almond",
           1961,
           "Nuts & Seeds"
          ],
          [
           911,
           "G83397_5x_RB6_01_21420",
           "cashew",
           1989,
           "Nuts & Seeds"
          ],
          [
           912,
           "G83398_5x_RE6_01_21475",
           "peanut",
           2392,
           "Nuts & Seeds"
          ],
          [
           913,
           "G83400_5x_RF7_01_21489",
           "sunflower seed",
           2013,
           "Nuts & Seeds"
          ],
          [
           941,
           "G86706_1x_RA10_01_21728",
           "Snickers almond",
           1463,
           "Nuts & Seeds"
          ],
          [
           942,
           "G86707_1x_RE10_01_21825",
           "Snickers almond",
           1544,
           "Nuts & Seeds"
          ],
          [
           946,
           "G86713_1x_RC11_01_21762",
           "Baby Ruth (Nut and Carmel)",
           1639,
           "Nuts & Seeds"
          ],
          [
           968,
           "G86756_1x_BB5_01_23137",
           "sesame seed",
           1740,
           "Nuts & Seeds"
          ],
          [
           970,
           "G86765_1x_RG11_01_21850",
           "Betel nut leaf (grean leafy)",
           2159,
           "Nuts & Seeds"
          ],
          [
           972,
           "G86771_1x_BB9_01_23142",
           "peanut powder",
           1615,
           "Nuts & Seeds"
          ],
          [
           1015,
           "G86847_1x_RA4_01_23477",
           "thai peanut sauce",
           1837,
           "Nuts & Seeds"
          ],
          [
           1053,
           "G86907_1x_RC12_01_26269",
           "outside of pistachio macaroon",
           1263,
           "Nuts & Seeds"
          ],
          [
           1063,
           "G86926_1x_BE6_01_23186",
           "Honey almond shmear reduced fat; Einstein bros bagels",
           1300,
           "Nuts & Seeds"
          ],
          [
           1100,
           "G87322_RB6_01_26086",
           "almond",
           1656,
           "Nuts & Seeds"
          ],
          [
           1101,
           "G87323_RB5_01_26085",
           "walnut",
           1996,
           "Nuts & Seeds"
          ],
          [
           1141,
           "G87430_1x_BC4_01_26015",
           "cashew",
           1512,
           "Nuts & Seeds"
          ],
          [
           1142,
           "G87431_1x_BC2_01_26013",
           "peanut",
           1508,
           "Nuts & Seeds"
          ],
          [
           1179,
           "G87490_1x_BA11_01_26550",
           "dried betel nut",
           1739,
           "Nuts & Seeds"
          ],
          [
           1195,
           "G87527_1x_RC5_01_26261",
           "soaked betel nut",
           1695,
           "Nuts & Seeds"
          ],
          [
           1202,
           "G87536_1x_RC8_01_26265",
           "husk of betel nut",
           1959,
           "Nuts & Seeds"
          ],
          [
           1203,
           "G87537_1x_RE4_01_26295",
           "betel nut leaf (fresh)",
           1993,
           "Nuts & Seeds"
          ],
          [
           1247,
           "G90225_1x_BC7_01_26574",
           "chia seed black organic superfood",
           1934,
           "Nuts & Seeds"
          ]
         ],
         "hovertemplate": "color=Nuts & Seeds<br>x=%{x}<br>y=%{y}<br>hover_data_0=%{customdata[0]}<br>hover_data_1=%{customdata[1]}<br>hover_data_2=%{customdata[2]}<br>hover_data_3=%{customdata[3]}<br>hover_data_4=%{customdata[4]}<extra></extra>",
         "legendgroup": "Nuts & Seeds",
         "marker": {
          "color": "#DC587D",
          "symbol": "circle"
         },
         "mode": "markers",
         "name": "Nuts & Seeds",
         "showlegend": true,
         "type": "scattergl",
         "x": [
          13.940107345581055,
          13.688957214355469,
          -4.631467819213867,
          15.163147926330566,
          14.949217796325684,
          14.04580020904541,
          15.393834114074707,
          15.2356595993042,
          15.925618171691895,
          14.556605339050293,
          12.714282035827637,
          12.363261222839355,
          12.116782188415527,
          14.379060745239258,
          15.539644241333008,
          12.987943649291992,
          12.84621524810791,
          11.54885196685791,
          13.080330848693848,
          12.56967544555664,
          12.689168930053711,
          10.909581184387207,
          11.692795753479004,
          11.702216148376465,
          12.72946834564209,
          10.535907745361328,
          9.63913631439209,
          11.084089279174805,
          10.14458179473877,
          12.523200988769531,
          12.097905158996582,
          8.622745513916016,
          13.992746353149414,
          13.749979972839355,
          12.586618423461914,
          12.69734001159668,
          13.846271514892578,
          0.6109808683395386,
          8.638115882873535,
          10.874423027038574,
          14.978560447692871
         ],
         "xaxis": "x",
         "y": [
          9.665387153625488,
          9.962418556213379,
          5.794993877410889,
          8.02138614654541,
          7.301327705383301,
          7.618094444274902,
          7.683412075042725,
          7.653713226318359,
          5.748378753662109,
          9.049239158630371,
          5.030350685119629,
          8.554869651794434,
          8.752274513244629,
          8.38896656036377,
          5.7578911781311035,
          5.458929538726807,
          4.8195695877075195,
          3.6113500595092773,
          8.537104606628418,
          7.976348876953125,
          7.2912068367004395,
          2.7766921520233154,
          8.91091251373291,
          5.85732889175415,
          6.591393947601318,
          6.296670436859131,
          5.139242649078369,
          11.840837478637695,
          4.57172155380249,
          5.437901020050049,
          7.030543804168701,
          4.099262714385986,
          7.657983303070068,
          8.308831214904785,
          6.635824680328369,
          6.652791500091553,
          7.410872459411621,
          5.216348648071289,
          10.080214500427246,
          11.502344131469727,
          7.465588569641113
         ],
         "yaxis": "y"
        },
        {
         "customdata": [
          [
           887,
           "G83348_1x_BF9_01_21898",
           "PediaSure Grow & Gain, vanilla flavored formula",
           1232,
           "Specialized Nutrition"
          ],
          [
           888,
           "G83349_1x_BG9_01_21904",
           "PediaSure Grow & Gain with Fiber, vanilla flavored formula",
           1152,
           "Specialized Nutrition"
          ],
          [
           892,
           "G83358_1x_BH10_01_21910",
           "Peptamen Junior, HP, peptide-based formula expiration date 2018-02-07",
           1823,
           "Specialized Nutrition"
          ],
          [
           894,
           "G83360_1x_BB11_01_21879",
           "PediaSure complete, Balanced Nutrition, Vanilla flavor, canned",
           1348,
           "Specialized Nutrition"
          ],
          [
           1188,
           "G87514_1x_BB5_01_26383",
           "strawberry protein shake",
           2147,
           "Specialized Nutrition"
          ]
         ],
         "hovertemplate": "color=Specialized Nutrition<br>x=%{x}<br>y=%{y}<br>hover_data_0=%{customdata[0]}<br>hover_data_1=%{customdata[1]}<br>hover_data_2=%{customdata[2]}<br>hover_data_3=%{customdata[3]}<br>hover_data_4=%{customdata[4]}<extra></extra>",
         "legendgroup": "Specialized Nutrition",
         "marker": {
          "color": "#D626FF",
          "symbol": "circle"
         },
         "mode": "markers",
         "name": "Specialized Nutrition",
         "showlegend": true,
         "type": "scattergl",
         "x": [
          10.64919662475586,
          10.57531452178955,
          13.324052810668945,
          10.672337532043457,
          13.362763404846191
         ],
         "xaxis": "x",
         "y": [
          0.708376944065094,
          0.766355037689209,
          0.5010024905204773,
          0.9846054315567017,
          3.2055928707122803
         ],
         "yaxis": "y"
        }
       ],
       "layout": {
        "height": 700,
        "legend": {
         "title": {
          "text": "color"
         },
         "tracegroupgap": 0
        },
        "margin": {
         "t": 60
        },
        "template": {
         "data": {
          "bar": [
           {
            "error_x": {
             "color": "#2a3f5f"
            },
            "error_y": {
             "color": "#2a3f5f"
            },
            "marker": {
             "line": {
              "color": "#E5ECF6",
              "width": 0.5
             },
             "pattern": {
              "fillmode": "overlay",
              "size": 10,
              "solidity": 0.2
             }
            },
            "type": "bar"
           }
          ],
          "barpolar": [
           {
            "marker": {
             "line": {
              "color": "#E5ECF6",
              "width": 0.5
             },
             "pattern": {
              "fillmode": "overlay",
              "size": 10,
              "solidity": 0.2
             }
            },
            "type": "barpolar"
           }
          ],
          "carpet": [
           {
            "aaxis": {
             "endlinecolor": "#2a3f5f",
             "gridcolor": "white",
             "linecolor": "white",
             "minorgridcolor": "white",
             "startlinecolor": "#2a3f5f"
            },
            "baxis": {
             "endlinecolor": "#2a3f5f",
             "gridcolor": "white",
             "linecolor": "white",
             "minorgridcolor": "white",
             "startlinecolor": "#2a3f5f"
            },
            "type": "carpet"
           }
          ],
          "choropleth": [
           {
            "colorbar": {
             "outlinewidth": 0,
             "ticks": ""
            },
            "type": "choropleth"
           }
          ],
          "contour": [
           {
            "colorbar": {
             "outlinewidth": 0,
             "ticks": ""
            },
            "colorscale": [
             [
              0,
              "#0d0887"
             ],
             [
              0.1111111111111111,
              "#46039f"
             ],
             [
              0.2222222222222222,
              "#7201a8"
             ],
             [
              0.3333333333333333,
              "#9c179e"
             ],
             [
              0.4444444444444444,
              "#bd3786"
             ],
             [
              0.5555555555555556,
              "#d8576b"
             ],
             [
              0.6666666666666666,
              "#ed7953"
             ],
             [
              0.7777777777777778,
              "#fb9f3a"
             ],
             [
              0.8888888888888888,
              "#fdca26"
             ],
             [
              1,
              "#f0f921"
             ]
            ],
            "type": "contour"
           }
          ],
          "contourcarpet": [
           {
            "colorbar": {
             "outlinewidth": 0,
             "ticks": ""
            },
            "type": "contourcarpet"
           }
          ],
          "heatmap": [
           {
            "colorbar": {
             "outlinewidth": 0,
             "ticks": ""
            },
            "colorscale": [
             [
              0,
              "#0d0887"
             ],
             [
              0.1111111111111111,
              "#46039f"
             ],
             [
              0.2222222222222222,
              "#7201a8"
             ],
             [
              0.3333333333333333,
              "#9c179e"
             ],
             [
              0.4444444444444444,
              "#bd3786"
             ],
             [
              0.5555555555555556,
              "#d8576b"
             ],
             [
              0.6666666666666666,
              "#ed7953"
             ],
             [
              0.7777777777777778,
              "#fb9f3a"
             ],
             [
              0.8888888888888888,
              "#fdca26"
             ],
             [
              1,
              "#f0f921"
             ]
            ],
            "type": "heatmap"
           }
          ],
          "heatmapgl": [
           {
            "colorbar": {
             "outlinewidth": 0,
             "ticks": ""
            },
            "colorscale": [
             [
              0,
              "#0d0887"
             ],
             [
              0.1111111111111111,
              "#46039f"
             ],
             [
              0.2222222222222222,
              "#7201a8"
             ],
             [
              0.3333333333333333,
              "#9c179e"
             ],
             [
              0.4444444444444444,
              "#bd3786"
             ],
             [
              0.5555555555555556,
              "#d8576b"
             ],
             [
              0.6666666666666666,
              "#ed7953"
             ],
             [
              0.7777777777777778,
              "#fb9f3a"
             ],
             [
              0.8888888888888888,
              "#fdca26"
             ],
             [
              1,
              "#f0f921"
             ]
            ],
            "type": "heatmapgl"
           }
          ],
          "histogram": [
           {
            "marker": {
             "pattern": {
              "fillmode": "overlay",
              "size": 10,
              "solidity": 0.2
             }
            },
            "type": "histogram"
           }
          ],
          "histogram2d": [
           {
            "colorbar": {
             "outlinewidth": 0,
             "ticks": ""
            },
            "colorscale": [
             [
              0,
              "#0d0887"
             ],
             [
              0.1111111111111111,
              "#46039f"
             ],
             [
              0.2222222222222222,
              "#7201a8"
             ],
             [
              0.3333333333333333,
              "#9c179e"
             ],
             [
              0.4444444444444444,
              "#bd3786"
             ],
             [
              0.5555555555555556,
              "#d8576b"
             ],
             [
              0.6666666666666666,
              "#ed7953"
             ],
             [
              0.7777777777777778,
              "#fb9f3a"
             ],
             [
              0.8888888888888888,
              "#fdca26"
             ],
             [
              1,
              "#f0f921"
             ]
            ],
            "type": "histogram2d"
           }
          ],
          "histogram2dcontour": [
           {
            "colorbar": {
             "outlinewidth": 0,
             "ticks": ""
            },
            "colorscale": [
             [
              0,
              "#0d0887"
             ],
             [
              0.1111111111111111,
              "#46039f"
             ],
             [
              0.2222222222222222,
              "#7201a8"
             ],
             [
              0.3333333333333333,
              "#9c179e"
             ],
             [
              0.4444444444444444,
              "#bd3786"
             ],
             [
              0.5555555555555556,
              "#d8576b"
             ],
             [
              0.6666666666666666,
              "#ed7953"
             ],
             [
              0.7777777777777778,
              "#fb9f3a"
             ],
             [
              0.8888888888888888,
              "#fdca26"
             ],
             [
              1,
              "#f0f921"
             ]
            ],
            "type": "histogram2dcontour"
           }
          ],
          "mesh3d": [
           {
            "colorbar": {
             "outlinewidth": 0,
             "ticks": ""
            },
            "type": "mesh3d"
           }
          ],
          "parcoords": [
           {
            "line": {
             "colorbar": {
              "outlinewidth": 0,
              "ticks": ""
             }
            },
            "type": "parcoords"
           }
          ],
          "pie": [
           {
            "automargin": true,
            "type": "pie"
           }
          ],
          "scatter": [
           {
            "fillpattern": {
             "fillmode": "overlay",
             "size": 10,
             "solidity": 0.2
            },
            "type": "scatter"
           }
          ],
          "scatter3d": [
           {
            "line": {
             "colorbar": {
              "outlinewidth": 0,
              "ticks": ""
             }
            },
            "marker": {
             "colorbar": {
              "outlinewidth": 0,
              "ticks": ""
             }
            },
            "type": "scatter3d"
           }
          ],
          "scattercarpet": [
           {
            "marker": {
             "colorbar": {
              "outlinewidth": 0,
              "ticks": ""
             }
            },
            "type": "scattercarpet"
           }
          ],
          "scattergeo": [
           {
            "marker": {
             "colorbar": {
              "outlinewidth": 0,
              "ticks": ""
             }
            },
            "type": "scattergeo"
           }
          ],
          "scattergl": [
           {
            "marker": {
             "colorbar": {
              "outlinewidth": 0,
              "ticks": ""
             }
            },
            "type": "scattergl"
           }
          ],
          "scattermapbox": [
           {
            "marker": {
             "colorbar": {
              "outlinewidth": 0,
              "ticks": ""
             }
            },
            "type": "scattermapbox"
           }
          ],
          "scatterpolar": [
           {
            "marker": {
             "colorbar": {
              "outlinewidth": 0,
              "ticks": ""
             }
            },
            "type": "scatterpolar"
           }
          ],
          "scatterpolargl": [
           {
            "marker": {
             "colorbar": {
              "outlinewidth": 0,
              "ticks": ""
             }
            },
            "type": "scatterpolargl"
           }
          ],
          "scatterternary": [
           {
            "marker": {
             "colorbar": {
              "outlinewidth": 0,
              "ticks": ""
             }
            },
            "type": "scatterternary"
           }
          ],
          "surface": [
           {
            "colorbar": {
             "outlinewidth": 0,
             "ticks": ""
            },
            "colorscale": [
             [
              0,
              "#0d0887"
             ],
             [
              0.1111111111111111,
              "#46039f"
             ],
             [
              0.2222222222222222,
              "#7201a8"
             ],
             [
              0.3333333333333333,
              "#9c179e"
             ],
             [
              0.4444444444444444,
              "#bd3786"
             ],
             [
              0.5555555555555556,
              "#d8576b"
             ],
             [
              0.6666666666666666,
              "#ed7953"
             ],
             [
              0.7777777777777778,
              "#fb9f3a"
             ],
             [
              0.8888888888888888,
              "#fdca26"
             ],
             [
              1,
              "#f0f921"
             ]
            ],
            "type": "surface"
           }
          ],
          "table": [
           {
            "cells": {
             "fill": {
              "color": "#EBF0F8"
             },
             "line": {
              "color": "white"
             }
            },
            "header": {
             "fill": {
              "color": "#C8D4E3"
             },
             "line": {
              "color": "white"
             }
            },
            "type": "table"
           }
          ]
         },
         "layout": {
          "annotationdefaults": {
           "arrowcolor": "#2a3f5f",
           "arrowhead": 0,
           "arrowwidth": 1
          },
          "autotypenumbers": "strict",
          "coloraxis": {
           "colorbar": {
            "outlinewidth": 0,
            "ticks": ""
           }
          },
          "colorscale": {
           "diverging": [
            [
             0,
             "#8e0152"
            ],
            [
             0.1,
             "#c51b7d"
            ],
            [
             0.2,
             "#de77ae"
            ],
            [
             0.3,
             "#f1b6da"
            ],
            [
             0.4,
             "#fde0ef"
            ],
            [
             0.5,
             "#f7f7f7"
            ],
            [
             0.6,
             "#e6f5d0"
            ],
            [
             0.7,
             "#b8e186"
            ],
            [
             0.8,
             "#7fbc41"
            ],
            [
             0.9,
             "#4d9221"
            ],
            [
             1,
             "#276419"
            ]
           ],
           "sequential": [
            [
             0,
             "#0d0887"
            ],
            [
             0.1111111111111111,
             "#46039f"
            ],
            [
             0.2222222222222222,
             "#7201a8"
            ],
            [
             0.3333333333333333,
             "#9c179e"
            ],
            [
             0.4444444444444444,
             "#bd3786"
            ],
            [
             0.5555555555555556,
             "#d8576b"
            ],
            [
             0.6666666666666666,
             "#ed7953"
            ],
            [
             0.7777777777777778,
             "#fb9f3a"
            ],
            [
             0.8888888888888888,
             "#fdca26"
            ],
            [
             1,
             "#f0f921"
            ]
           ],
           "sequentialminus": [
            [
             0,
             "#0d0887"
            ],
            [
             0.1111111111111111,
             "#46039f"
            ],
            [
             0.2222222222222222,
             "#7201a8"
            ],
            [
             0.3333333333333333,
             "#9c179e"
            ],
            [
             0.4444444444444444,
             "#bd3786"
            ],
            [
             0.5555555555555556,
             "#d8576b"
            ],
            [
             0.6666666666666666,
             "#ed7953"
            ],
            [
             0.7777777777777778,
             "#fb9f3a"
            ],
            [
             0.8888888888888888,
             "#fdca26"
            ],
            [
             1,
             "#f0f921"
            ]
           ]
          },
          "colorway": [
           "#636efa",
           "#EF553B",
           "#00cc96",
           "#ab63fa",
           "#FFA15A",
           "#19d3f3",
           "#FF6692",
           "#B6E880",
           "#FF97FF",
           "#FECB52"
          ],
          "font": {
           "color": "#2a3f5f"
          },
          "geo": {
           "bgcolor": "white",
           "lakecolor": "white",
           "landcolor": "#E5ECF6",
           "showlakes": true,
           "showland": true,
           "subunitcolor": "white"
          },
          "hoverlabel": {
           "align": "left"
          },
          "hovermode": "closest",
          "mapbox": {
           "style": "light"
          },
          "paper_bgcolor": "white",
          "plot_bgcolor": "#E5ECF6",
          "polar": {
           "angularaxis": {
            "gridcolor": "white",
            "linecolor": "white",
            "ticks": ""
           },
           "bgcolor": "#E5ECF6",
           "radialaxis": {
            "gridcolor": "white",
            "linecolor": "white",
            "ticks": ""
           }
          },
          "scene": {
           "xaxis": {
            "backgroundcolor": "#E5ECF6",
            "gridcolor": "white",
            "gridwidth": 2,
            "linecolor": "white",
            "showbackground": true,
            "ticks": "",
            "zerolinecolor": "white"
           },
           "yaxis": {
            "backgroundcolor": "#E5ECF6",
            "gridcolor": "white",
            "gridwidth": 2,
            "linecolor": "white",
            "showbackground": true,
            "ticks": "",
            "zerolinecolor": "white"
           },
           "zaxis": {
            "backgroundcolor": "#E5ECF6",
            "gridcolor": "white",
            "gridwidth": 2,
            "linecolor": "white",
            "showbackground": true,
            "ticks": "",
            "zerolinecolor": "white"
           }
          },
          "shapedefaults": {
           "line": {
            "color": "#2a3f5f"
           }
          },
          "ternary": {
           "aaxis": {
            "gridcolor": "white",
            "linecolor": "white",
            "ticks": ""
           },
           "baxis": {
            "gridcolor": "white",
            "linecolor": "white",
            "ticks": ""
           },
           "bgcolor": "#E5ECF6",
           "caxis": {
            "gridcolor": "white",
            "linecolor": "white",
            "ticks": ""
           }
          },
          "title": {
           "x": 0.05
          },
          "xaxis": {
           "automargin": true,
           "gridcolor": "white",
           "linecolor": "white",
           "ticks": "",
           "title": {
            "standoff": 15
           },
           "zerolinecolor": "white",
           "zerolinewidth": 2
          },
          "yaxis": {
           "automargin": true,
           "gridcolor": "white",
           "linecolor": "white",
           "ticks": "",
           "title": {
            "standoff": 15
           },
           "zerolinecolor": "white",
           "zerolinewidth": 2
          }
         }
        },
        "width": 1200,
        "xaxis": {
         "anchor": "y",
         "domain": [
          0,
          1
         ],
         "title": {
          "text": "x"
         }
        },
        "yaxis": {
         "anchor": "x",
         "domain": [
          0,
          1
         ],
         "title": {
          "text": "y"
         }
        }
       }
      },
      "text/html": [
       "<div>                            <div id=\"c7ac8d95-0c1b-4f68-874d-6fde67263b73\" class=\"plotly-graph-div\" style=\"height:700px; width:1200px;\"></div>            <script type=\"text/javascript\">                require([\"plotly\"], function(Plotly) {                    window.PLOTLYENV=window.PLOTLYENV || {};                                    if (document.getElementById(\"c7ac8d95-0c1b-4f68-874d-6fde67263b73\")) {                    Plotly.newPlot(                        \"c7ac8d95-0c1b-4f68-874d-6fde67263b73\",                        [{\"customdata\":[[0,\"72442_1x_BD9_01_17436\",\"pea in chicken biryani\",2272,\"Meat, Poultry & Seafood\"],[1,\"72443_1x_BE8_01_17448\",\"carrot in chicken biryani\",2306,\"Meat, Poultry & Seafood\"],[2,\"72444_1x_BD8_01_17435\",\"persian cucumber in chicken biryani\",2262,\"Meat, Poultry & Seafood\"],[3,\"72445_1x_BC8_01_17426\",\"raw tomato in chicken biryani\",2236,\"Meat, Poultry & Seafood\"],[28,\"73496_1x_BH8_01_20782\",\"fish sauce\",1765,\"Meat, Poultry & Seafood\"],[84,\"75236_1x_BD4_01_20744\",\"10 Anchovy fish sauce\",1827,\"Meat, Poultry & Seafood\"],[91,\"75749_1x_BG3_01_20768\",\"fish sauce\",1712,\"Meat, Poultry & Seafood\"],[104,\"AMZ_11_RB2_01_48905\",\"Lentils cooked with bacon\",2524,\"Meat, Poultry & Seafood\"],[107,\"AMZ_18_RB9_01_48924\",\"Rice with chicken\",2487,\"Meat, Poultry & Seafood\"],[111,\"AMZ_22_RC3_01_48937\",\"Chicken\",2482,\"Meat, Poultry & Seafood\"],[112,\"AMZ_25_RC6_01_48945\",\"Stewed meat\",2516,\"Meat, Poultry & Seafood\"],[114,\"AMZ_27_RC8_01_48949\",\"Fried catfish with soya oil (no skin)\",2460,\"Meat, Poultry & Seafood\"],[119,\"AMZ_39_RD10_01_48981\",\"Boiled fish\",2457,\"Meat, Poultry & Seafood\"],[122,\"AMZ_42_RE3_01_48985\",\"Chicken\",2470,\"Meat, Poultry & Seafood\"],[124,\"AMZ_44_RE5_01_48986\",\"Red meat\",2460,\"Meat, Poultry & Seafood\"],[127,\"AMZ_48_RE9_01_49035\",\"Meat empanada\",2435,\"Meat, Poultry & Seafood\"],[128,\"AMZ_49_RE10_01_48988\",\"Sweted meat empanada\",2473,\"Meat, Poultry & Seafood\"],[129,\"AMZ_50_RE11_01_48989\",\"Chicken empanada\",2469,\"Meat, Poultry & Seafood\"],[131,\"AMZ_6_RA7_01_48891\",\"Stewed chicken\",2491,\"Meat, Poultry & Seafood\"],[136,\"G72446_5x_10ul_RH2_01_19569\",\"cooked rice in chicken biryani\",1789,\"Meat, Poultry & Seafood\"],[137,\"G72448_5x_BG12_01_18396\",\"pita in chicken biryani\",1576,\"Meat, Poultry & Seafood\"],[147,\"G72460_10x_BD7_01_17828\",\"toddler food, chicken sticks\",2161,\"Meat, Poultry & Seafood\"],[155,\"G72470_10x_BE8_01_17844\",\"salmon caviar\",1927,\"Meat, Poultry & Seafood\"],[167,\"G72494_BH6_01_19053\",\"beef-less ground beef\",2041,\"Meat, Poultry & Seafood\"],[175,\"G72516_10x_BG10_01_17926\",\"roasted chicken\",1988,\"Meat, Poultry & Seafood\"],[181,\"G72526_10x_3ul_BC6_01_17907\",\"Dried Meat\",1991,\"Meat, Poultry & Seafood\"],[194,\"G72676_BB5_01_18927\",\"Scrambled Egg with Chorizo\",2308,\"Meat, Poultry & Seafood\"],[195,\"G72679_10x_BD12_01_17832\",\"BBQ Chicken\",2160,\"Meat, Poultry & Seafood\"],[204,\"G72715_10x_BA9_01_17874\",\"polish sausage, Costco front store (pork)\",1954,\"Meat, Poultry & Seafood\"],[207,\"G72720_BG12_01_18752\",\"organic chicken base bouillon\",2186,\"Meat, Poultry & Seafood\"],[212,\"G72733_10x_BF11_01_17859\",\"pork chop with rosemary, salt and pepper\",2184,\"Meat, Poultry & Seafood\"],[216,\"G72741_10x_BF5_01_17853\",\"fruit of seedless mandarin (meat of the fruit)\",1958,\"Meat, Poultry & Seafood\"],[219,\"G72747_BE12_01_18720\",\"spiced, cooked chicken in chicken biryani\",2396,\"Meat, Poultry & Seafood\"],[230,\"G72762_BG9_01_19042\",\"short rib pate, celery, onion, carrot\",2202,\"Meat, Poultry & Seafood\"],[231,\"G72763_BF9_01_19027\",\"duck and pistachio, all parts of duck\",2247,\"Meat, Poultry & Seafood\"],[254,\"G72796_BE5_01_19006\",\"Seafood Snackers TransOcean\",2009,\"Meat, Poultry & Seafood\"],[310,\"G73636_1x_RB7_01_23274\",\"beef, CMI workshop\",1680,\"Meat, Poultry & Seafood\"],[311,\"G73637_1x_RB8_01_23275\",\"chicken, CMI workshop\",1787,\"Meat, Poultry & Seafood\"],[313,\"G73639_BE6_01_18701\",\"fish\",1972,\"Meat, Poultry & Seafood\"],[314,\"G73640_BB6_01_18655\",\"fish\",1993,\"Meat, Poultry & Seafood\"],[316,\"G73645_BC6_01_18671\",\"fish\",1941,\"Meat, Poultry & Seafood\"],[317,\"G73646_BE4_01_18699\",\"fish\",1981,\"Meat, Poultry & Seafood\"],[318,\"G73647_rerun_BH4_01_18778\",\"fish\",1987,\"Meat, Poultry & Seafood\"],[335,\"G73700_BF8_01_18732\",\"unidentified red meat fat\",2081,\"Meat, Poultry & Seafood\"],[336,\"G73701_BC8_01_18674\",\"unidentified red meat, same type as previous sample\",2130,\"Meat, Poultry & Seafood\"],[337,\"G73702_BH5_01_18759\",\"bulgogi, Niman Ranch meat\",2281,\"Meat, Poultry & Seafood\"],[338,\"G73703_rerun_BE5_01_18717\",\"marinated short rib, Niman Ranch meat\",2426,\"Meat, Poultry & Seafood\"],[341,\"G73713_BC4_01_18941\",\"Salmon dip, homemade\",2011,\"Meat, Poultry & Seafood\"],[342,\"G73716_rerun_BF5_01_18769\",\" burger meat, big mac\",2124,\"Meat, Poultry & Seafood\"],[382,\"G74029_BA3_01_18984\",\"veggie meat\",2190,\"Meat, Poultry & Seafood\"],[421,\"G75110_1x_RC7_01_23410\",\"african catfish\",2236,\"Meat, Poultry & Seafood\"],[422,\"G75111_1x_RC6_01_23294\",\"utaka (fish)\",2146,\"Meat, Poultry & Seafood\"],[424,\"G75113_1x_RC9_01_23305\",\"broiler chicken\",2133,\"Meat, Poultry & Seafood\"],[436,\"G75151_2x_RA5_01_19099\",\"sausage; pre-cooked\",2106,\"Meat, Poultry & Seafood\"],[437,\"G75152_2x_RB5_01_19115\",\"sausage; cooked with other ingredients (same as G75151?)\",2109,\"Meat, Poultry & Seafood\"],[463,\"G75239_BE10_01_19012\",\"duck Confit breast, medium rare\",2062,\"Meat, Poultry & Seafood\"],[465,\"G75244_rerun_BF10_01_19087\",\"meat with scallop dish\",2192,\"Meat, Poultry & Seafood\"],[472,\"G75253_BA11_01_18919\",\"Steak\",2184,\"Meat, Poultry & Seafood\"],[473,\"G75255_BH10_01_19058\",\"duck Confit breast, well done\",2174,\"Meat, Poultry & Seafood\"],[474,\"G75256_rerun_BC10_01_19078\",\"Salmon\",2050,\"Meat, Poultry & Seafood\"],[482,\"G75580_BB5_01_18654\",\"lamb top round (100% grass fed)\",2067,\"Meat, Poultry & Seafood\"],[483,\"G75581_BG5_01_18744\",\"ground chicken dark meat, organic\",2175,\"Meat, Poultry & Seafood\"],[484,\"G75583_rerun_BG6_01_18773\",\"ground beef (85% lean\\u002f15% fat)\",2289,\"Meat, Poultry & Seafood\"],[485,\"G75585_BF6_01_18730\",\"ground dark turkey\",2144,\"Meat, Poultry & Seafood\"],[505,\"G75647_BF7_01_18731\",\"rock fish\",2135,\"Meat, Poultry & Seafood\"],[507,\"G75650_5x_BH2_01_19359\",\"sausage chicken and apple\",2098,\"Meat, Poultry & Seafood\"],[509,\"G75662_1x_RD1_01_23324\",\"ham, after cooking\",1941,\"Meat, Poultry & Seafood\"],[511,\"G75664_5x_BG12_01_19355\",\"chicken (after cooking; same as G75655?)\",1761,\"Meat, Poultry & Seafood\"],[512,\"G75665_1x_RA4_01_18788\",\"pea cooked with meat\",2228,\"Meat, Poultry & Seafood\"],[514,\"G75668_5x_BG11_01_19354\",\"bacon, cooked\",1769,\"Meat, Poultry & Seafood\"],[523,\"G75684_BC5_01_18670\",\"salmon\",2074,\"Meat, Poultry & Seafood\"],[529,\"G75699_rerun_2_BD7_01_18710\",\"roast beef\",2172,\"Meat, Poultry & Seafood\"],[530,\"G75700_BE7_01_18703\",\"fish\",2178,\"Meat, Poultry & Seafood\"],[557,\"G75782_5x_BC2_01_19276\",\"feline feed (fatty light meat)\",1805,\"Meat, Poultry & Seafood\"],[558,\"G75783_5x_BD2_01_19293\",\"feline dark tough meat\",1922,\"Meat, Poultry & Seafood\"],[559,\"G75800_5x_BC10_01_19288\",\"horse meat product feline \",1664,\"Meat, Poultry & Seafood\"],[560,\"G75801_5x_BA10_01_19247\",\"horse meat product feline\",1860,\"Meat, Poultry & Seafood\"],[561,\"G75803_p19_f10_GA6_01_21666\",\"horse meat product feline pink meat\",1689,\"Meat, Poultry & Seafood\"],[571,\"G75861_1x_BC4_01_26570\",\"Primo Taglio Roasted Turkey Breast\",1945,\"Meat, Poultry & Seafood\"],[589,\"G78874_BA4_01_18638\",\"chicken (breast) cooked\",2220,\"Meat, Poultry & Seafood\"],[590,\"G78875_BD3_01_18683\",\"chicken (breast) raw\",2169,\"Meat, Poultry & Seafood\"],[591,\"G78876_BG3_01_18742\",\"duck (breast) raw\",2363,\"Meat, Poultry & Seafood\"],[592,\"G78877_BF4_01_18727\",\"duck (breast) cooked\",2246,\"Meat, Poultry & Seafood\"],[593,\"G78879_BB4_01_18653\",\"duck (leg) raw\",2225,\"Meat, Poultry & Seafood\"],[594,\"G78880_BC4_01_18669\",\"duck (leg) cooked\",2278,\"Meat, Poultry & Seafood\"],[598,\"G78911_p19_g8_GB7_01_21678\",\"Liver sausage\\u002f liver worst\",1945,\"Meat, Poultry & Seafood\"],[605,\"G78931_BG10_01_18750\",\"uncured jalapenocheddar beef and pork bratwurst cooked\",2341,\"Meat, Poultry & Seafood\"],[606,\"G78932_BH10_01_18765\",\"uncooked beef NY strip USDA prime Costco\",2205,\"Meat, Poultry & Seafood\"],[607,\"G78933_BB10_01_18661\",\"raw chicken neck\",2124,\"Meat, Poultry & Seafood\"],[608,\"G78934_BF10_01_18735\",\"uncured jalapenocheddar beef and pork bratwurst uncooked\",2312,\"Meat, Poultry & Seafood\"],[609,\"G78935_BC10_01_18676\",\"grilled beef NY strip USDA prime Costco\",2154,\"Meat, Poultry & Seafood\"],[610,\"G78936_rerun_BD10_01_18711\",\"marinated chicken breast, foster farms\",2158,\"Meat, Poultry & Seafood\"],[611,\"G78937_BA11_01_18646\",\"lamb shoulder chops\",1994,\"Meat, Poultry & Seafood\"],[612,\"G78938_BA10_01_18645\",\"lamb shoulder chops\",1949,\"Meat, Poultry & Seafood\"],[613,\"G78939_BD8_01_18689\",\"boneless pork shoulder roast\",2155,\"Meat, Poultry & Seafood\"],[614,\"G78940_BA8_01_18643\",\"boneless pork shoulder roast\",2159,\"Meat, Poultry & Seafood\"],[615,\"G78941_rerun_BH8_01_18780\",\"boneless pork shoulder roast\",1992,\"Meat, Poultry & Seafood\"],[616,\"G78944_BB8_01_18659\",\"boneless chicken thigh\",2173,\"Meat, Poultry & Seafood\"],[617,\"G78945_BA6_01_18640\",\"boneless chicken thigh\",2155,\"Meat, Poultry & Seafood\"],[618,\"G78946_BF9_01_18734\",\"boneless chicken thigh\",2032,\"Meat, Poultry & Seafood\"],[619,\"G78950_BE10_01_18718\",\"lamb shoulder chops\",2163,\"Meat, Poultry & Seafood\"],[626,\"G78968_BB9_01_18660\",\"ground turkey, foster farms 93%\",2094,\"Meat, Poultry & Seafood\"],[627,\"G78969_rerun_BG9_01_18776\",\"marinated chicken breast, foster farms\",2214,\"Meat, Poultry & Seafood\"],[635,\"G78981_p19_g4_GC6_01_21670\",\"bacon\",2068,\"Meat, Poultry & Seafood\"],[639,\"G78990_BB11_01_18662\",\"boneless pork shoulder roast\",2204,\"Meat, Poultry & Seafood\"],[640,\"G78991_BC9_01_18675\",\"lamb shoulder chops\",2184,\"Meat, Poultry & Seafood\"],[641,\"G78993_2x_RA10_01_19106\",\"fake chicken; veggie grill\",2433,\"Meat, Poultry & Seafood\"],[651,\"G79178_BC11_01_18677\",\"beef\\u002f steak, Oregon, Embriette dinner\",2259,\"Meat, Poultry & Seafood\"],[654,\"G79183_BF11_01_18736\",\"salmon, Fuel Cafee, Oregon\",2220,\"Meat, Poultry & Seafood\"],[662,\"G79206_p19_g9_GC7_01_21680\",\"Cajun turkey\",1922,\"Meat, Poultry & Seafood\"],[673,\"G79225_p19_h12_GD7_01_21682\",\"beef\",1948,\"Meat, Poultry & Seafood\"],[686,\"G79250_BH12_01_18767\",\"steak crostini steak\",2265,\"Meat, Poultry & Seafood\"],[687,\"G79251_1x_BF9_01_20221\",\"steak crostini bread\",1943,\"Meat, Poultry & Seafood\"],[688,\"G79252_rerun_BD12_01_18713\",\"pork product\",2333,\"Meat, Poultry & Seafood\"],[689,\"G79253_BB12_01_18663\",\"pork product\",2297,\"Meat, Poultry & Seafood\"],[711,\"G79302_p5_d4_GC4_01_21647\",\"fish from meal\",1225,\"Meat, Poultry & Seafood\"],[712,\"G79303_rerun_BG4_01_18770\",\"orange chicken, fast food, panda express, UCSD\",2224,\"Meat, Poultry & Seafood\"],[720,\"G79343_5x_BD6_01_19299\",\"special beef feline diet\",1922,\"Meat, Poultry & Seafood\"],[721,\"G79347_5x_BD7_01_19301\",\"half shank bones\",1401,\"Meat, Poultry & Seafood\"],[722,\"G79348_5x_BC7_01_19283\",\"half shank bones\",1598,\"Meat, Poultry & Seafood\"],[723,\"G79349_5x_BE7_01_19317\",\"canine meat \",1579,\"Meat, Poultry & Seafood\"],[724,\"G79350_5x_BA7_01_19241\",\"canine meat\",1907,\"Meat, Poultry & Seafood\"],[725,\"G79351_5x_BD8_01_19302\",\"meat from femur bones beef\",1490,\"Meat, Poultry & Seafood\"],[726,\"G79352_5x_BB8_01_19266\",\"meat from femur bones beef\",1218,\"Meat, Poultry & Seafood\"],[727,\"G79353_5x_BC8_01_19284\",\"meat from femur bones beef\",1466,\"Meat, Poultry & Seafood\"],[728,\"G79354_5x_BC3_01_19277\",\"meat from femur bones beef\",1805,\"Meat, Poultry & Seafood\"],[729,\"G79355_5x_BD3_01_19294\",\"meat from femur bones medium beef\",1646,\"Meat, Poultry & Seafood\"],[731,\"G79466_5x_RC9_01_18225\",\"beef 10\",2022,\"Meat, Poultry & Seafood\"],[732,\"G79474_5x_RD10_01_18108\",\"beef shank 9\",1806,\"Meat, Poultry & Seafood\"],[733,\"G79475_5x_RC10_01_18169\",\"beef shank 9\",1853,\"Meat, Poultry & Seafood\"],[734,\"G79476_5x_RB10_01_18045\",\"beef heart 7\",2029,\"Meat, Poultry & Seafood\"],[735,\"G79477_5x_RA10_01_17952\",\"beef heart 7\",1996,\"Meat, Poultry & Seafood\"],[736,\"G79478_5x_RH9_01_17975\",\"horse 3\",1732,\"Meat, Poultry & Seafood\"],[737,\"G79479_BB2_01_18651\",\"horse (fat MID CUT 3)\",1951,\"Meat, Poultry & Seafood\"],[738,\"G79480_BG2_01_18741\",\"horse (meat END CUT 3)\",2080,\"Meat, Poultry & Seafood\"],[739,\"G79481_BD2_01_18682\",\"beef (fat mid region of END CUT 2)\",1908,\"Meat, Poultry & Seafood\"],[740,\"G79482_BC2_01_18667\",\"beef (meat mid region of END CUT 2)\",2005,\"Meat, Poultry & Seafood\"],[741,\"G79483_BA2_01_18636\",\"beef (meat in contact with plastic casing of END CUT 2)\",2155,\"Meat, Poultry & Seafood\"],[754,\"G79541_5x_BB8_01_19960\",\"aqua max fish sport 96\",2275,\"Meat, Poultry & Seafood\"],[755,\"G79547_5x_RD11_01_18039\",\"pork 11\",1949,\"Meat, Poultry & Seafood\"],[756,\"G79548_5x_RC11_01_18171\",\"pork 11\",1913,\"Meat, Poultry & Seafood\"],[757,\"G79549_5x_RB11_01_18043\",\"pork 11\",1904,\"Meat, Poultry & Seafood\"],[758,\"G79552_BF2_01_18725\",\"horse (red meat MID CUT 4)\",2107,\"Meat, Poultry & Seafood\"],[759,\"G79553_1x_BA12_01_17954\",\"horse 4\",2178,\"Meat, Poultry & Seafood\"],[760,\"G79555_5x_RH11_01_18249\",\"horse 4\",2051,\"Meat, Poultry & Seafood\"],[761,\"G79562_BH2_01_18756\",\"escargot (dark meat 25)\",2003,\"Meat, Poultry & Seafood\"],[762,\"G79563_BF3_01_18726\",\"squid (mid portion meat of squid 17)\",2204,\"Meat, Poultry & Seafood\"],[764,\"G79567_BA3_01_18637\",\"xxs trout (meat 16)\",2137,\"Meat, Poultry & Seafood\"],[765,\"G79570_1x_BA3_01_18048\",\"beef 1\",2402,\"Meat, Poultry & Seafood\"],[766,\"G79572_5x_RG2_01_18212\",\"beef 1\",2119,\"Meat, Poultry & Seafood\"],[767,\"G79573_5x_RF2_01_18231\",\"beef 1\",2246,\"Meat, Poultry & Seafood\"],[768,\"G79574_5x_RE2_01_18354\",\"beef 1\",2076,\"Meat, Poultry & Seafood\"],[769,\"G79575_1x_BD2_01_18094\",\"beef 1\",2296,\"Meat, Poultry & Seafood\"],[770,\"G79576_5x_RC2_01_18075\",\"beef 1\",2056,\"Meat, Poultry & Seafood\"],[771,\"G79577_5x_RB2_01_18164\",\"beef 1\",1883,\"Meat, Poultry & Seafood\"],[772,\"G79578_5x_RA2_01_18344\",\"beef 1\",1937,\"Meat, Poultry & Seafood\"],[773,\"G79622_5x_RD6_01_18102\",\"chicken\",2148,\"Meat, Poultry & Seafood\"],[777,\"G79631_1x_8ul_BC6_01_20282\",\"chicken and gravy baby food\",2294,\"Meat, Poultry & Seafood\"],[832,\"G83192_10x_RE10_01_20198\",\"chicken flavor ramen seasoning\",1907,\"Meat, Poultry & Seafood\"],[836,\"G83201_1x_RH4_01_21855\",\"Swedish Fish\",1484,\"Meat, Poultry & Seafood\"],[862,\"G83255_1x_BH7_01_23235\",\"ham from sausage egg mcmuffin McD\",1475,\"Meat, Poultry & Seafood\"],[864,\"G83303_5x_RG6_01_21503\",\"Citristim for poultry (yeast feed)\",2299,\"Meat, Poultry & Seafood\"],[867,\"G83311_5x_RD9_01_21439\",\"shetland islands salmon\",1804,\"Meat, Poultry & Seafood\"],[871,\"G83317_5x_RD10_01_21465\",\"pecan wood smoked elk loin\",2194,\"Meat, Poultry & Seafood\"],[872,\"G83318_5x_RH10_01_21519\",\"duck\",2023,\"Meat, Poultry & Seafood\"],[936,\"G83461_10x_RH10_01_23238\",\"fish\",1512,\"Meat, Poultry & Seafood\"],[964,\"G86742_1x_RB1_01_23267\",\"turkey, brined\",1737,\"Meat, Poultry & Seafood\"],[985,\"G86785_1x_RD12_01_23338\",\"peppered turkey breast, from trader joes, brand columbus, non organic, expiration date dec 26 2017\",1612,\"Meat, Poultry & Seafood\"],[1003,\"G86819_1x_RB12_01_23278\",\"Black Forest Ham\",1653,\"Meat, Poultry & Seafood\"],[1024,\"G86859_1x_3ul_RB5_01_23507\",\"fish sauce\",1549,\"Meat, Poultry & Seafood\"],[1033,\"G86877_1x_RD2_01_23325\",\"organic cracked black pepper turkey breast; 365 brand; from whole foods; packaging plastic; sampled 2017-12-03 22:00\",1785,\"Meat, Poultry & Seafood\"],[1039,\"G86890_1x_RB2_01_23268\",\"Chicken & Chicken Gravy (Gerber)\",2114,\"Meat, Poultry & Seafood\"],[1041,\"G86892_1x_BC6_01_23152\",\"Razzmataz Red Fish\",1237,\"Meat, Poultry & Seafood\"],[1107,\"G87344_rerun_RF12_01_26209\",\"lamb\",1608,\"Meat, Poultry & Seafood\"],[1108,\"G87345_rerun_BG2_01_26213\",\"chicken\",1787,\"Meat, Poultry & Seafood\"],[1117,\"G87370_RB10_01_26091\",\"pork ham\",1378,\"Meat, Poultry & Seafood\"],[1123,\"G87389_RF3_01_26176\",\"free-range chicken\",1812,\"Meat, Poultry & Seafood\"],[1124,\"G87392_RF6_01_26179\",\"chicken intensive breeding\",2216,\"Meat, Poultry & Seafood\"],[1143,\"G87433_1x_BE5_01_26052\",\"cooked minced meat\",1599,\"Meat, Poultry & Seafood\"],[1164,\"G87463_1x_RB7_01_26249\",\"pomelo meat\",1847,\"Meat, Poultry & Seafood\"],[1165,\"G87465_1x_RB6_01_26247\",\"conventional grapefruit meat\",1783,\"Meat, Poultry & Seafood\"],[1167,\"G87467_1x_RD4_01_26275\",\"organic grapefruit meat (Jimbos)\",1678,\"Meat, Poultry & Seafood\"],[1169,\"G87469_1x_RC3_01_26259\",\"meyer lemon, meat only; Organic, USA; washed; (Jimbos)\",1670,\"Meat, Poultry & Seafood\"],[1171,\"G87471_1x_RE2_01_26289\",\"kumquat meat only; Organic, USA; washed; (Jimbos)\",1517,\"Meat, Poultry & Seafood\"],[1226,\"G87568_1x_BG9_01_26641\",\"Original Beef Jerkey\",2112,\"Meat, Poultry & Seafood\"],[1227,\"G87569_1x_BE10_01_26599\",\"Original Beef Jerkey\",1908,\"Meat, Poultry & Seafood\"],[1234,\"G87586_1x_BD4_01_26581\",\"Turkey (fat part)\",1825,\"Meat, Poultry & Seafood\"],[1235,\"G87587_1x_BA4_01_26541\",\"Ham (meat part)\",1612,\"Meat, Poultry & Seafood\"],[1459,\"G96149_5x_RE4_01_32416\",\"ground turkey Empire brand (raised w\\u002fo antibiotics_ no growth hormones)\",2262,\"Meat, Poultry & Seafood\"],[1460,\"G96150_5x_RD6_01_32399\",\"ground turkey Empire brand (raised w\\u002fo antibiotics_ no growth hormones)\",2240,\"Meat, Poultry & Seafood\"],[1461,\"G96151_5x_RH5_01_32741\",\"ground turkey Empire brand (raised w\\u002fo antibiotics_ no growth hormones)\",2043,\"Meat, Poultry & Seafood\"],[1462,\"G96158_5x_RG3_01_32704\",\"ground beef\",2174,\"Meat, Poultry & Seafood\"],[1463,\"G96159_5x_RA3_01_32574\",\"ground beef\",2080,\"Meat, Poultry & Seafood\"],[1464,\"G96160_5x_RA2_01_32570\",\"ground beef\",2043,\"Meat, Poultry & Seafood\"],[1465,\"G96161_5x_RD10_01_32652\",\"organic ground beef (Sun Fed Ranch)\",2184,\"Meat, Poultry & Seafood\"],[1466,\"G96162_5x_RG8_01_32720\",\"organic ground beef (Sun Fed Ranch)\",2039,\"Meat, Poultry & Seafood\"],[1467,\"G96163_5x_RH2_01_32737\",\"organic ground beef (Sun Fed Ranch)\",1998,\"Meat, Poultry & Seafood\"],[1468,\"G96165_5x_RB7_01_32343\",\"ground turkey Kroger brand\",2370,\"Meat, Poultry & Seafood\"],[1469,\"G96166_5x_RF3_01_32440\",\"ground turkey Kroger brand\",2292,\"Meat, Poultry & Seafood\"],[1504,\"G96203_5x_BE5_01_32510\",\"ground turkey Kroger brand\",1626,\"Meat, Poultry & Seafood\"],[1505,\"G96204_5x_BF7_01_32530\",\"ground turkey Kroger brand\",1614,\"Meat, Poultry & Seafood\"],[1506,\"G96205_5x_RH7_01_32485\",\"ground turkey Kroger brand\",1627,\"Meat, Poultry & Seafood\"],[1507,\"G96206_5x_BG6_01_32547\",\"ground turkey Empire brand (raised w\\u002fo antibiotics_ no growth hormones)\",1639,\"Meat, Poultry & Seafood\"],[1508,\"G96207_5x_BE7_01_32514\",\"ground turkey Empire brand (raised w\\u002fo antibiotics_ no growth hormones)\",1719,\"Meat, Poultry & Seafood\"],[1509,\"G96208_5x_BH4_01_32560\",\"ground turkey Empire brand (raised w\\u002fo antibiotics_ no growth hormones)\",1740,\"Meat, Poultry & Seafood\"],[1510,\"G96209_5x_BE3_01_32506\",\"ground turkey Kroger brand\",1616,\"Meat, Poultry & Seafood\"],[1511,\"G96210_5x_BF5_01_32522\",\"ground turkey Kroger brand\",1685,\"Meat, Poultry & Seafood\"],[1512,\"G96212_5x_BG4_01_32543\",\"ground turkey Empire brand (raised w\\u002fo antibiotics_ no growth hormones)\",1589,\"Meat, Poultry & Seafood\"],[1513,\"G96213_5x_BH2_01_32556\",\"ground turkey Empire brand (raised w\\u002fo antibiotics_ no growth hormones)\",1598,\"Meat, Poultry & Seafood\"],[1514,\"G96214_5x_BF6_01_32526\",\"ground turkey Empire brand (raised w\\u002fo antibiotics_ no growth hormones)\",1579,\"Meat, Poultry & Seafood\"],[1515,\"G96215_5x_BE4_01_32779\",\"ground beef\",2053,\"Meat, Poultry & Seafood\"],[1516,\"G96216_5x_BF2_01_32788\",\"ground beef\",2051,\"Meat, Poultry & Seafood\"],[1517,\"G96217_5x_BF8_01_32800\",\"ground beef\",2187,\"Meat, Poultry & Seafood\"],[1518,\"G96218_5x_BE2_01_32775\",\"organic ground beef (Sun Fed Ranch)\",1926,\"Meat, Poultry & Seafood\"],[1519,\"G96219_5x_BD5_01_32758\",\"organic ground beef (Sun Fed Ranch)\",1717,\"Meat, Poultry & Seafood\"],[1520,\"G96220_5x_BD7_01_32766\",\"organic ground beef (Sun Fed Ranch)\",1800,\"Meat, Poultry & Seafood\"],[1521,\"G96221_5x_BH8_01_32826\",\"ground beef\",2144,\"Meat, Poultry & Seafood\"],[1522,\"G96222_5x_BD6_01_32762\",\"ground beef\",2048,\"Meat, Poultry & Seafood\"],[1523,\"G96223_5x_RB12_01_32615\",\"ground beef\",1984,\"Meat, Poultry & Seafood\"],[1524,\"G96225_5x_BH3_01_32814\",\"organic ground beef (Sun Fed Ranch)\",1873,\"Meat, Poultry & Seafood\"],[1525,\"G96226_5x_BF4_01_32796\",\"organic ground beef (Sun Fed Ranch)\",1875,\"Meat, Poultry & Seafood\"],[1526,\"G96227_5x_BG8_01_32552\",\"ground turkey Kroger brand\",2193,\"Meat, Poultry & Seafood\"],[1527,\"G96228_5x_RD3_01_32391\",\"ground turkey Kroger brand\",1909,\"Meat, Poultry & Seafood\"],[1528,\"G96229_5x_RE7_01_32428\",\"ground turkey Kroger brand\",1739,\"Meat, Poultry & Seafood\"],[1529,\"G96230_5x_RH10_01_32501\",\"ground turkey Empire brand (raised w\\u002fo antibiotics_ no growth hormones)\",1895,\"Meat, Poultry & Seafood\"],[1530,\"G96231_5x_RC5_01_32367\",\"ground turkey Empire brand (raised w\\u002fo antibiotics_ no growth hormones)\",1851,\"Meat, Poultry & Seafood\"],[1531,\"G96232_5x_RB8_01_32347\",\"ground turkey Empire brand (raised w\\u002fo antibiotics_ no growth hormones)\",1703,\"Meat, Poultry & Seafood\"],[1532,\"G96233_5x_BE8_01_32518\",\"ground turkey Kroger brand\",2170,\"Meat, Poultry & Seafood\"],[1533,\"G96234_5x_RD2_01_32387\",\"ground turkey Kroger brand\",2048,\"Meat, Poultry & Seafood\"],[1534,\"G96235_5x_RC9_01_32375\",\"ground turkey Kroger brand\",1825,\"Meat, Poultry & Seafood\"],[1535,\"G96236_5x_RH4_01_32481\",\"ground turkey Empire brand (raised w\\u002fo antibiotics_ no growth hormones)\",2014,\"Meat, Poultry & Seafood\"],[1536,\"G96237_5x_RC8_01_32371\",\"ground turkey Empire brand (raised w\\u002fo antibiotics_ no growth hormones)\",1904,\"Meat, Poultry & Seafood\"],[1537,\"G96238_5x_RA6_01_32319\",\"ground turkey Empire brand (raised w\\u002fo antibiotics_ no growth hormones)\",1798,\"Meat, Poultry & Seafood\"],[1538,\"G96239_5x_RE12_01_32682\",\"ground beef\",1973,\"Meat, Poultry & Seafood\"],[1539,\"G96241_5x_RD12_01_32657\",\"ground beef\",2069,\"Meat, Poultry & Seafood\"],[1540,\"G96242_5x_RA7_01_32586\",\"organic ground beef (Sun Fed Ranch)\",2208,\"Meat, Poultry & Seafood\"],[1541,\"G96243_5x_RF8_01_32699\",\"organic ground beef (Sun Fed Ranch)\",1818,\"Meat, Poultry & Seafood\"],[1542,\"G96244_5x_RA4_01_32578\",\"organic ground beef (Sun Fed Ranch)\",2205,\"Meat, Poultry & Seafood\"],[1543,\"G96245_5x_RG10_01_32728\",\"ground beef\",1683,\"Meat, Poultry & Seafood\"],[1544,\"G96246_5x_RF7_01_32695\",\"ground beef\",1830,\"Meat, Poultry & Seafood\"],[1545,\"G96247_5x_BE6_01_32783\",\"ground beef\",1941,\"Meat, Poultry & Seafood\"],[1546,\"G96248_5x_RB2_01_32603\",\"organic ground beef (Sun Fed Ranch)\",1817,\"Meat, Poultry & Seafood\"],[1547,\"G96249_5x_RG5_01_32712\",\"organic ground beef (Sun Fed Ranch)\",1598,\"Meat, Poultry & Seafood\"],[1548,\"G96250_5x_RG9_01_32724\",\"organic ground beef (Sun Fed Ranch)\",1788,\"Meat, Poultry & Seafood\"],[1549,\"G96251_5x_RE5_01_32420\",\"ground turkey Kroger brand\",1542,\"Meat, Poultry & Seafood\"],[1550,\"G96252_5x_RG7_01_32469\",\"ground turkey Kroger brand\",1580,\"Meat, Poultry & Seafood\"],[1551,\"G96253_5x_RG2_01_32465\",\"ground turkey Kroger brand\",1617,\"Meat, Poultry & Seafood\"],[1552,\"G96254_5x_RD7_01_32403\",\"ground turkey Empire brand (raised w\\u002fo antibiotics_ no growth hormones)\",1791,\"Meat, Poultry & Seafood\"],[1553,\"G96255_5x_BH7_01_32564\",\"ground turkey Empire brand (raised w\\u002fo antibiotics_ no growth hormones)\",1782,\"Meat, Poultry & Seafood\"],[1554,\"G96256_5x_BG3_01_32539\",\"ground turkey Empire brand (raised w\\u002fo antibiotics_ no growth hormones)\",1819,\"Meat, Poultry & Seafood\"],[1555,\"G96257_5x_RB5_01_32339\",\"ground turkey Kroger brand\",1539,\"Meat, Poultry & Seafood\"],[1556,\"G96258_5x_RH9_01_32497\",\"ground turkey Kroger brand\",1580,\"Meat, Poultry & Seafood\"],[1557,\"G96259_5x_RB3_01_32331\",\"ground turkey Kroger brand\",1771,\"Meat, Poultry & Seafood\"],[1558,\"G96260_5x_RG12_01_32473\",\"ground turkey Empire brand (raised w\\u002fo antibiotics_ no growth hormones)\",1899,\"Meat, Poultry & Seafood\"],[1559,\"G96261_5x_RH3_01_32477\",\"ground turkey Empire brand (raised w\\u002fo antibiotics_ no growth hormones)\",1806,\"Meat, Poultry & Seafood\"],[1560,\"G96262_5x_RF10_01_32452\",\"ground turkey Empire brand (raised w\\u002fo antibiotics_ no growth hormones)\",1765,\"Meat, Poultry & Seafood\"],[1561,\"G96263_5x_RE2_01_32662\",\"ground beef\",2093,\"Meat, Poultry & Seafood\"],[1562,\"G96264_5x_RF6_01_32691\",\"ground beef\",2155,\"Meat, Poultry & Seafood\"],[1563,\"G96266_5x_BG5_01_32805\",\"organic ground beef (Sun Fed Ranch)\",1872,\"Meat, Poultry & Seafood\"],[1564,\"G96267_5x_BH5_01_32818\",\"organic ground beef (Sun Fed Ranch)\",1845,\"Meat, Poultry & Seafood\"],[1565,\"G96268_5x_BD8_01_32770\",\"organic ground beef (Sun Fed Ranch)\",1716,\"Meat, Poultry & Seafood\"],[1566,\"G96269_5x_BG7_01_32809\",\"ground beef\",2020,\"Meat, Poultry & Seafood\"],[1567,\"G96270_5x_RA12_01_32598\",\"ground beef\",2095,\"Meat, Poultry & Seafood\"],[1568,\"G96271_5x_RE11_01_32678\",\"ground beef\",1972,\"Meat, Poultry & Seafood\"],[1569,\"G96272_5x_RE9_01_32674\",\"organic ground beef (Sun Fed Ranch)\",1836,\"Meat, Poultry & Seafood\"],[1570,\"G96273_5x_RE8_01_32670\",\"organic ground beef (Sun Fed Ranch)\",1904,\"Meat, Poultry & Seafood\"],[1571,\"G96274_5x_RC4_01_32627\",\"organic ground beef (Sun Fed Ranch)\",1751,\"Meat, Poultry & Seafood\"],[1589,\"G96347_5x_RB6_01_32607\",\"ground beef\",2190,\"Meat, Poultry & Seafood\"],[1590,\"G96348_5x_RG4_01_32708\",\"ground beef\",2147,\"Meat, Poultry & Seafood\"],[1591,\"G96349_5x_RG11_01_32732\",\"ground beef\",2182,\"Meat, Poultry & Seafood\"],[1592,\"G96350_5x_RC6_01_32631\",\"organic ground beef (Sun Fed Ranch)\",2134,\"Meat, Poultry & Seafood\"],[1593,\"G96351_5x_RH6_01_32745\",\"organic ground beef (Sun Fed Ranch)\",1880,\"Meat, Poultry & Seafood\"],[1594,\"G96352_5x_RB11_01_32611\",\"organic ground beef (Sun Fed Ranch)\",2112,\"Meat, Poultry & Seafood\"],[1595,\"G96353_5x_RA8_01_32590\",\"organic ground beef (Sun Fed Ranch)\",2015,\"Meat, Poultry & Seafood\"],[1596,\"G96354_5x_RF5_01_32687\",\"organic ground beef (Sun Fed Ranch)\",1884,\"Meat, Poultry & Seafood\"],[1597,\"G96355_5x_RC2_01_32623\",\"organic ground beef (Sun Fed Ranch)\",1862,\"Meat, Poultry & Seafood\"],[1598,\"G96356_5x_RB9_01_32351\",\"ground turkey Kroger brand\",1874,\"Meat, Poultry & Seafood\"],[1599,\"G96358_5x_RB10_01_32355\",\"ground turkey Kroger brand\",2171,\"Meat, Poultry & Seafood\"],[1600,\"G96359_5x_RB4_01_32335\",\"ground turkey Kroger brand\",2223,\"Meat, Poultry & Seafood\"],[1601,\"G96360_5x_RE10_01_32432\",\"ground turkey Kroger brand\",2123,\"Meat, Poultry & Seafood\"],[1602,\"G96361_5x_RA11_01_32327\",\"ground turkey Kroger brand\",2205,\"Meat, Poultry & Seafood\"],[1603,\"G96362_5x_RD5_01_32644\",\"ground beef\",2348,\"Meat, Poultry & Seafood\"],[1604,\"G96363_5x_RA9_01_32594\",\"ground beef\",2150,\"Meat, Poultry & Seafood\"],[1605,\"G96364_5x_RE3_01_32666\",\"ground beef\",2333,\"Meat, Poultry & Seafood\"],[1606,\"G96365_5x_RF11_01_32456\",\"ground turkey Empire brand (raised w\\u002fo antibiotics_ no growth hormones)\",2154,\"Meat, Poultry & Seafood\"],[1607,\"G96366_5x_RE6_01_32424\",\"ground turkey Empire brand (raised w\\u002fo antibiotics_ no growth hormones)\",2181,\"Meat, Poultry & Seafood\"],[1608,\"G96367_5x_RF4_01_32444\",\"ground turkey Empire brand (raised w\\u002fo antibiotics_ no growth hormones)\",2165,\"Meat, Poultry & Seafood\"],[1609,\"G96368_5x_RC3_01_32363\",\"ground turkey Empire brand (raised w\\u002fo antibiotics_ no growth hormones)\",2028,\"Meat, Poultry & Seafood\"],[1610,\"G96369_5x_RA10_01_32323\",\"ground turkey Empire brand (raised w\\u002fo antibiotics_ no growth hormones)\",2132,\"Meat, Poultry & Seafood\"],[1611,\"G96370_5x_RC12_01_32383\",\"ground turkey Empire brand (raised w\\u002fo antibiotics_ no growth hormones)\",2189,\"Meat, Poultry & Seafood\"],[1612,\"G96371_5x_RD4_01_32395\",\"ground turkey Empire brand (raised w\\u002fo antibiotics_ no growth hormones)\",2168,\"Meat, Poultry & Seafood\"],[1613,\"G96372_5x_RD11_01_32411\",\"ground turkey Empire brand (raised w\\u002fo antibiotics_ no growth hormones)\",2178,\"Meat, Poultry & Seafood\"],[1614,\"G96373_5x_RC11_01_32379\",\"ground turkey Empire brand (raised w\\u002fo antibiotics_ no growth hormones)\",2155,\"Meat, Poultry & Seafood\"],[1615,\"G96374_5x_RD8_01_32407\",\"ground turkey Kroger brand\",2184,\"Meat, Poultry & Seafood\"],[1616,\"G96375_5x_RF9_01_32448\",\"ground turkey Kroger brand\",2295,\"Meat, Poultry & Seafood\"],[1617,\"G96376_5x_RF2_01_32436\",\"ground turkey Kroger brand\",2204,\"Meat, Poultry & Seafood\"],[1618,\"G96377_5x_RG6_01_32716\",\"organic ground beef (Sun Fed Ranch)\",2134,\"Meat, Poultry & Seafood\"],[1619,\"G96378_5x_RC7_01_32635\",\"organic ground beef (Sun Fed Ranch)\",2084,\"Meat, Poultry & Seafood\"],[1620,\"G96379_5x_RH11_01_32749\",\"organic ground beef (Sun Fed Ranch)\",2221,\"Meat, Poultry & Seafood\"],[1621,\"G96380_5x_RA5_01_32582\",\"ground beef\",2263,\"Meat, Poultry & Seafood\"],[1622,\"G96381_5x_RD9_01_32648\",\"ground beef\",2247,\"Meat, Poultry & Seafood\"],[1831,\"RB11_tk2_RB11_01_49125\",\"pork.salami\",2513,\"Meat, Poultry & Seafood\"],[1853,\"VA1_2x_RB1_01_21609\",\"Chicken soup\",1552,\"Meat, Poultry & Seafood\"],[1856,\"VA4_2x_RB4_01_21613\",\"Orange chicken\",1807,\"Meat, Poultry & Seafood\"],[1858,\"VA6_2x_RB6_01_21615\",\"Fish baked\",1540,\"Meat, Poultry & Seafood\"],[1861,\"VA9_2x_RB9_01_21619\",\"turkey \",1742,\"Meat, Poultry & Seafood\"]],\"hovertemplate\":\"color=Meat, Poultry & Seafood\\u003cbr\\u003ex=%{x}\\u003cbr\\u003ey=%{y}\\u003cbr\\u003ehover_data_0=%{customdata[0]}\\u003cbr\\u003ehover_data_1=%{customdata[1]}\\u003cbr\\u003ehover_data_2=%{customdata[2]}\\u003cbr\\u003ehover_data_3=%{customdata[3]}\\u003cbr\\u003ehover_data_4=%{customdata[4]}\\u003cextra\\u003e\\u003c\\u002fextra\\u003e\",\"legendgroup\":\"Meat, Poultry & Seafood\",\"marker\":{\"color\":\"#FD3216\",\"symbol\":\"circle\"},\"mode\":\"markers\",\"name\":\"Meat, Poultry & Seafood\",\"showlegend\":true,\"x\":[12.593696594238281,13.38484001159668,12.939143180847168,12.959479331970215,10.757716178894043,11.41401481628418,10.75813102722168,-5.8253560066223145,-5.644228458404541,-4.728532314300537,-5.853735446929932,-4.334587574005127,-4.078445911407471,-5.016167640686035,-5.147216320037842,-4.85689640045166,-5.3396782875061035,-5.586294651031494,-5.627376079559326,10.562519073486328,11.966979026794434,13.851592063903809,12.693779945373535,16.452632904052734,13.220620155334473,11.402585983276367,15.59437084197998,12.649225234985352,14.40217113494873,14.38216495513916,13.749802589416504,12.488287925720215,15.296480178833008,13.973140716552734,14.578438758850098,16.660932540893555,14.039502143859863,13.861675262451172,17.524574279785156,17.88443374633789,17.41416358947754,17.465425491333008,16.78325843811035,17.00583839416504,16.67617416381836,9.562043190002441,10.4163179397583,11.255626678466797,13.517491340637207,16.30840301513672,14.44920825958252,15.492533683776855,14.40975570678711,14.670676231384277,12.825202941894531,16.162303924560547,12.11918830871582,13.849806785583496,13.910543441772461,14.180516242980957,17.431211471557617,16.24539566040039,15.461617469787598,16.487245559692383,16.68334197998047,12.090415000915527,13.927350044250488,14.399831771850586,14.31061840057373,15.567849159240723,17.444869995117188,14.771886825561523,16.38083839416504,13.565513610839844,13.994428634643555,15.80101203918457,14.94526481628418,14.787188529968262,13.44752025604248,17.413909912109375,16.51052474975586,14.560346603393555,15.227327346801758,16.75694465637207,14.943253517150879,13.09660530090332,14.518553733825684,13.601902961730957,17.116147994995117,14.419473648071289,17.01715660095215,16.633258819580078,18.112590789794922,17.987733840942383,16.88239288330078,17.223791122436523,16.625316619873047,16.98128890991211,17.622127532958984,16.416364669799805,16.66822052001953,17.457481384277344,14.191383361816406,12.683627128601074,16.95723533630371,16.81488800048828,13.750163078308105,16.429372787475586,14.41157054901123,10.342184066772461,13.648855209350586,14.252335548400879,10.051098823547363,15.115525245666504,15.082408905029297,11.594134330749512,11.763384819030762,14.37360668182373,13.219145774841309,15.415877342224121,13.556961059570312,13.866301536560059,14.061501502990723,11.387502670288086,15.898490905761719,15.019523620605469,15.536652565002441,15.855667114257812,15.679605484008789,15.668341636657715,15.526107788085938,15.468599319458008,14.778654098510742,18.008426666259766,16.282583236694336,17.809499740600586,17.834442138671875,17.96963882446289,14.13896656036377,15.189470291137695,15.55811882019043,15.77892017364502,16.876089096069336,15.639883041381836,15.96983528137207,15.723611831665039,14.787761688232422,17.856760025024414,15.442364692687988,14.837326049804688,15.618291854858398,14.187493324279785,15.781499862670898,15.517812728881836,15.344117164611816,14.202605247497559,14.109665870666504,14.112541198730469,10.032504081726074,11.32495403289795,9.565546989440918,13.684684753417969,16.223838806152344,13.855709075927734,12.356815338134766,9.98172378540039,14.1151123046875,9.842171669006348,14.09868335723877,10.516112327575684,13.573577880859375,14.169342994689941,9.582956314086914,16.153749465942383,13.319150924682617,13.019145965576172,16.22586441040039,15.794885635375977,12.86490535736084,10.568347930908203,10.593403816223145,10.703991889953613,10.828330039978027,10.868767738342285,14.539718627929688,14.432851791381836,10.73150634765625,13.029886245727539,16.5753173828125,16.346817016601562,16.05152702331543,17.125091552734375,16.04212760925293,16.32149314880371,17.55051612854004,16.899433135986328,17.606592178344727,16.084787368774414,16.80158805847168,21.003536224365234,20.861486434936523,20.585567474365234,20.042922973632812,19.779367446899414,19.463180541992188,20.49018669128418,20.7478084564209,20.043292999267578,19.939884185791016,19.923315048217773,17.261802673339844,17.17967987060547,16.02754020690918,18.734622955322266,18.59861946105957,18.879539489746094,16.245407104492188,16.967464447021484,16.483322143554688,20.186906814575195,20.011289596557617,16.93146324157715,18.466968536376953,19.015689849853516,19.146047592163086,18.92404556274414,19.673032760620117,17.45209312438965,17.95123863220215,18.845966339111328,18.195640563964844,19.05066680908203,18.521596908569336,20.146881103515625,20.030488967895508,16.257633209228516,19.704517364501953,16.11335563659668,19.664562225341797,19.86568260192871,19.65921974182129,20.141611099243164,19.21229362487793,18.899147033691406,20.365480422973633,20.20528793334961,19.618337631225586,18.463769912719727,18.84286880493164,18.799898147583008,21.070772171020508,20.18240737915039,20.959426879882812,18.570148468017578,18.495391845703125,18.53631591796875,18.02632713317871,17.442138671875,19.956052780151367,20.409242630004883,19.233274459838867,20.00592803955078,19.94827651977539,20.223587036132812,19.386751174926758,19.68740463256836,19.088592529296875,15.952431678771973,16.371414184570312,15.971604347229004,17.456506729125977,18.35312271118164,17.888132095336914,19.840656280517578,18.960464477539062,19.305835723876953,18.846113204956055,16.57463836669922,16.1744327545166,17.76335334777832,16.6229248046875,15.815346717834473,15.855011940002441,16.021455764770508,16.317188262939453,16.206151962280273,16.4645938873291,16.149181365966797,16.5761661529541,16.408510208129883,16.913057327270508,16.86210823059082,16.882476806640625,16.57074546813965,16.575368881225586,17.17255210876465,15.951255798339844,17.736913681030273,17.70382308959961,15.79385757446289,16.2625732421875,-5.674457550048828,12.221451759338379,11.121877670288086,12.883163452148438,12.54361343383789],\"xaxis\":\"x\",\"y\":[9.255158424377441,3.3765053749084473,9.029437065124512,9.31174087524414,2.327191114425659,1.6256582736968994,2.399308681488037,6.5713958740234375,6.945900917053223,6.303473472595215,6.873960018157959,6.45407247543335,6.353120803833008,5.969378471374512,6.245654106140137,5.9063239097595215,6.05136775970459,6.245490074157715,6.017994403839111,5.148409366607666,5.406314373016357,2.113786458969116,4.265779972076416,6.7012715339660645,1.8317114114761353,3.406245231628418,3.6823229789733887,3.7397210597991943,4.353901386260986,3.5864133834838867,2.076472520828247,9.386883735656738,2.6157591342926025,3.228848695755005,4.002636432647705,7.319596290588379,2.4859044551849365,2.4932100772857666,4.323657035827637,3.9744019508361816,3.8649792671203613,4.752865791320801,3.8118813037872314,3.751251697540283,4.146775722503662,2.6295371055603027,2.538311004638672,7.689624309539795,3.445834159851074,7.027899742126465,1.1396708488464355,2.182687282562256,1.8253802061080933,4.955247402191162,3.529086112976074,6.111359119415283,3.4936165809631348,2.9753499031066895,3.6647708415985107,4.362207412719727,4.082667350769043,3.8695154190063477,2.931729793548584,4.271456241607666,3.4505395889282227,3.585705280303955,3.6064846515655518,3.7186529636383057,8.291748046875,4.894241809844971,3.777482509613037,3.94118595123291,3.330037832260132,3.4105873107910156,2.7255825996398926,4.138897895812988,4.333534240722656,4.415034294128418,6.056342601776123,4.126968860626221,4.580439567565918,1.7293500900268555,2.8125054836273193,4.67130184173584,2.2137651443481445,2.362988233566284,2.709695339202881,3.6355984210968018,4.433898448944092,2.240685224533081,4.146154403686523,4.46101713180542,4.6305108070373535,4.373287677764893,4.733012676239014,4.223239421844482,3.6258721351623535,4.433013439178467,4.117323875427246,4.346421718597412,3.377249002456665,4.374501705169678,3.4151902198791504,4.380973815917969,4.3381266593933105,4.472436428070068,8.347270965576172,4.06419038772583,3.18802809715271,5.474156856536865,2.4242570400238037,2.849440336227417,7.2102251052856445,4.099853038787842,4.08162260055542,5.78141450881958,8.663960456848145,4.320071697235107,4.7221245765686035,4.558135986328125,4.5390167236328125,2.993499755859375,4.627679347991943,5.507386207580566,3.7318661212921143,4.689964771270752,4.566904544830322,2.903979778289795,3.040783643722534,3.007345676422119,4.380773544311523,4.142172813415527,5.36229944229126,5.382523536682129,4.813570976257324,5.071512699127197,5.1117048263549805,4.867339611053467,4.791530609130859,5.152856826782227,3.0628621578216553,3.1597044467926025,4.7682108879089355,3.6386210918426514,3.434634208679199,5.136466026306152,2.9016284942626953,4.4440507888793945,3.4046895503997803,3.6198792457580566,3.656944990158081,3.813922643661499,3.7849502563476562,3.4336695671081543,3.1400704383850098,4.457673072814941,2.8410682678222656,1.807673454284668,7.3216776847839355,6.218288898468018,4.367788314819336,8.492841720581055,3.753222942352295,2.090890645980835,4.155218601226807,4.8378424644470215,1.8135560750961304,3.553727865219116,3.1967885494232178,2.6977827548980713,1.0448765754699707,2.2518115043640137,4.554208278656006,3.140002489089966,2.789060354232788,5.785865306854248,2.692857503890991,2.5140745639801025,5.244707107543945,11.068469047546387,10.9877290725708,11.293773651123047,8.300036430358887,9.561922073364258,3.996690511703491,4.337986946105957,5.70461368560791,4.266855716705322,-4.139504909515381,-3.9494221210479736,-3.3951220512390137,-3.463771104812622,-3.3793118000030518,-3.243969202041626,-1.644544005393982,-2.57165789604187,-1.6383944749832153,-2.1433587074279785,-4.092504501342773,-3.0102672576904297,-2.9209792613983154,-3.031848192214966,-2.9472386837005615,-2.4299635887145996,-2.5709705352783203,-2.9638640880584717,-2.9754862785339355,-2.8688747882843018,-3.1067841053009033,-2.63561749458313,-3.0477490425109863,-3.1062381267547607,-2.3261232376098633,-1.374801754951477,-1.190045714378357,-1.086185097694397,-2.458139419555664,-2.982436418533325,-3.0194318294525146,-0.9768235683441162,-1.2148021459579468,-3.260216474533081,-3.228846549987793,-3.1324164867401123,-2.4198594093322754,-2.9598937034606934,-1.7731459140777588,-3.133087158203125,-3.380525827407837,-2.8945152759552,-3.342838764190674,-2.748847007751465,-2.4641916751861572,-1.1410006284713745,-0.8893647193908691,2.583719253540039,-0.8755696415901184,3.018751621246338,-1.0145914554595947,-0.8468145132064819,-1.133531093597412,-0.8188336491584778,-1.079613208770752,-0.9929869174957275,-2.943411350250244,-2.949531078338623,-3.1110594272613525,-2.2462751865386963,-2.5274038314819336,-2.412179708480835,-2.8971123695373535,-3.061330795288086,-2.923400640487671,-2.3807387351989746,-2.2127504348754883,-2.2134318351745605,-2.4246585369110107,-2.9011850357055664,-1.0244746208190918,-1.0689055919647217,-1.0414162874221802,-0.8157376646995544,-0.572039783000946,-0.8582281470298767,-0.8130202293395996,-0.9051600098609924,-0.8773319721221924,-2.2990453243255615,-2.9316246509552,-2.8041765689849854,-2.065595865249634,-1.4937772750854492,-1.660850167274475,-0.4747234582901001,-0.8934690952301025,-0.9003286361694336,-3.090688705444336,-3.6883504390716553,-3.0631487369537354,-3.5933997631073,-3.9196293354034424,-2.321760416030884,-2.5598602294921875,-2.2639873027801514,-3.7575418949127197,-3.5915472507476807,-3.9567439556121826,-3.4917614459991455,-3.7238214015960693,-4.052164554595947,-4.100300312042236,-3.8467915058135986,-4.001796245574951,-3.93755841255188,-4.183651924133301,-3.954632520675659,-2.6620330810546875,-1.5897115468978882,-1.382000207901001,-2.0794219970703125,-2.8679487705230713,7.219217300415039,6.522706985473633,5.264130115509033,6.923557758331299,6.119717121124268],\"yaxis\":\"y\",\"type\":\"scattergl\"},{\"customdata\":[[4,\"72475_1x_BC9_01_17418\",\"garlic\",1596,\"Vegetables\"],[9,\"72537_1x_BG5_01_17486\",\"orange cherry tomato\",2094,\"Vegetables\"],[10,\"72538_1x_BB6_01_17402\",\"napa cabbage\",2043,\"Vegetables\"],[19,\"72684_1x_BF5_01_17479\",\"lettuce from salad\",2060,\"Vegetables\"],[21,\"72798_1x_BH4_01_17498\",\"Spinach, baby spinach, simple truth brand\",2001,\"Vegetables\"],[22,\"72799_1x_BF7_01_17460\",\"Cut N Clean Greens Kale\",2099,\"Vegetables\"],[23,\"72802_1x_BD11_01_17438\",\"red bell pepper\",2185,\"Vegetables\"],[36,\"73960_1x_BE4_01_17444\",\"larger green chili sample from burrito\",2373,\"Vegetables\"],[37,\"73971_1x_BF4_01_17478\",\"lettuce; Frontier burrito plate\",1812,\"Vegetables\"],[38,\"73976_1x_BB4_01_17400\",\"tomato; Monroe's chili relleno\",2226,\"Vegetables\"],[42,\"73990_1x_BH7_01_17517\",\"cherry tomato, half of top part\",2160,\"Vegetables\"],[44,\"73996_1x_BG8_01_17489\",\"kohlrabi\",1965,\"Vegetables\"],[45,\"73997_1x_BB2_01_17398\",\"chantrelle mushroom\",2343,\"Vegetables\"],[47,\"74004_1x_BD2_01_17474\",\"onion\",2225,\"Vegetables\"],[49,\"74011_1x_BF2_01_17455\",\"white asparagus\",2036,\"Vegetables\"],[52,\"74015_1x_BG2_01_17470\",\"bell pepper, orange\",2300,\"Vegetables\"],[53,\"74018_1x_BB12_01_17408\",\"bell pepper, red\",2223,\"Vegetables\"],[54,\"74021_1x_BA12_01_17395\",\"cucumber\",2008,\"Vegetables\"],[55,\"74025_1x_BC6_01_17415\",\"mushroom, cooked\",2307,\"Vegetables\"],[59,\"74057_1x_BE2_01_20750\",\"beet kvass\",1515,\"Vegetables\"],[72,\"75084_1x_BD3_01_17475\",\"corn\",2285,\"Vegetables\"],[73,\"75085_1x_BF3_01_17456\",\"carrot, raw\",1856,\"Vegetables\"],[74,\"75086_1x_BH3_01_17497\",\"mushroom, raw\",1873,\"Vegetables\"],[75,\"75089_1x_BF10_01_17482\",\"carrot\",2210,\"Vegetables\"],[76,\"75092_1x_BH10_01_17514\",\"cauliflower\",2372,\"Vegetables\"],[77,\"75153_1x_BC7_01_17416\",\"mushroom; cooked with other ingredients\",2184,\"Vegetables\"],[78,\"75154_1x_BF8_01_17481\",\"carrot; cooked with other ingredients\",2260,\"Vegetables\"],[90,\"75739_1x_rerun_BB8_01_21460\",\"cucumber mint kombucha (organic and homegrown mint from Julia's garden)\",1517,\"Vegetables\"],[92,\"75904_1x_BA11_01_17394\",\"baby spinach\",1997,\"Vegetables\"],[93,\"78802_1x_BF9_01_17462\",\"carrot\",1865,\"Vegetables\"],[96,\"78812_5x_RA5_01_17388\",\"Garden kale (can't remember if this one was from seed or starter)\",1943,\"Vegetables\"],[98,\"78816_5x_RH5_01_17511\",\"Garden Broccoli from heirloom seeds\",2197,\"Vegetables\"],[99,\"78817_1x_BH11_01_17515\",\"Garden lettuce from heirloom seed mix greens\",2215,\"Vegetables\"],[100,\"78832_1x_BH12_01_17516\",\"Garden Garlic tops\",2228,\"Vegetables\"],[105,\"AMZ_13_RB4_01_49040\",\"Cow liver with onion\",2472,\"Vegetables\"],[138,\"G72449_1x_BB6_01_17263\",\"raw green onion\",2210,\"Vegetables\"],[140,\"G72451_p2_c6_GA3_01_21633\",\"raw red onion\",1245,\"Vegetables\"],[142,\"G72454_BE3_01_19004\",\"potato chip\",2070,\"Vegetables\"],[156,\"G72471_1x_BD6_01_17298\",\"raw english pea\",2110,\"Vegetables\"],[169,\"G72501_BC3_01_18940\",\"bell pepper stuffing\",2106,\"Vegetables\"],[179,\"G72523_10x_BC11_01_17821\",\"crushed red pepper\",2223,\"Vegetables\"],[183,\"G72532_1x_BC7_01_17286\",\"long green onion\",1921,\"Vegetables\"],[184,\"G72533_1x_BD7_01_17299\",\"small red bell pepper with peel\",2261,\"Vegetables\"],[185,\"G72534_1x_BE7_01_17312\",\"radish with peel\",1914,\"Vegetables\"],[192,\"G72669_1x_BG4_01_20229\",\"Crushed red chile pepper\",2373,\"Vegetables\"],[197,\"G72696_10x_BF8_01_17856\",\"pea pure baby food\",2115,\"Vegetables\"],[199,\"G72705_10x_BD9_01_17830\",\"potato chip, DeepRiver Snacks, Rosemary and Olive Oil\",1801,\"Vegetables\"],[200,\"G72706_10x_BC9_01_17901\",\"potato chip, DeepRiver Snacks, BBQ\",1753,\"Vegetables\"],[201,\"G72709_10x_BD10_01_17831\",\"potato, mashed, Costco; microwaveable type in plastic dish\",1950,\"Vegetables\"],[211,\"G72732_10x_BE11_01_17846\",\"corn on the cob\",1821,\"Vegetables\"],[218,\"G72746_10x_3ul_BB3_01_17887\",\"organic raw beet (from Trader Joe's)\",1691,\"Vegetables\"],[222,\"G72751_10x_BB4_01_17808\",\"carrot top greens, garden\",1927,\"Vegetables\"],[224,\"G72754_10x_BE3_01_17836\",\"shiitake mushroom, cooked, vons\",1960,\"Vegetables\"],[225,\"G72755_10x_BC3_01_17812\",\"green onion, organic, vons, top dark green part\",1585,\"Vegetables\"],[229,\"G72759_BB11_01_18934\",\"tomato, heirloom\",2110,\"Vegetables\"],[232,\"G72765_BH7_01_19055\",\"beet\",2181,\"Vegetables\"],[236,\"G72770_BG8_01_19041\",\"Chilled avocado soup\",2082,\"Vegetables\"],[240,\"G72774_1x_RA3_01_20248\",\"green pepper \",1319,\"Vegetables\"],[261,\"G72812_2x_RE8_01_19171\",\"corn flake\",1704,\"Vegetables\"],[269,\"G73433_1x_BA3_01_17273\",\"mini orange bell pepper\",2226,\"Vegetables\"],[270,\"G73434_1x_BH4_01_17348\",\"mini green bell pepper\",1811,\"Vegetables\"],[274,\"G73441_1x_BB4_01_17261\",\"patty pan squash\",2041,\"Vegetables\"],[275,\"G73442_1x_BA4_01_17249\",\"lemon cucumber\",1999,\"Vegetables\"],[276,\"G73443_1x_BG5_01_17336\",\"big bertha green bell pepper\",2162,\"Vegetables\"],[277,\"G73444_1x_BH5_01_17349\",\"cucumber\",2078,\"Vegetables\"],[279,\"G73448_1x_BC5_01_17284\",\"radish greens\",1918,\"Vegetables\"],[280,\"G73449_1x_BD5_01_17297\",\"radish root\",2084,\"Vegetables\"],[281,\"G73450_1x_BE5_01_17310\",\"thai pepper\",2311,\"Vegetables\"],[283,\"G73452_1x_RE6_01_20323\",\"avocado\",2350,\"Vegetables\"],[284,\"G73455_RE12_01_17600\",\"boiled potato\",1911,\"Vegetables\"],[285,\"G73457_5x_RC5_01_20161\",\"ground black pepper\",1873,\"Vegetables\"],[298,\"G73483_1x_10ul_RH4_01_19914\",\"dr. pepper\",2014,\"Vegetables\"],[309,\"G73635_1x_RH2_01_20359\",\"onion, raw, CMI workshop\",1952,\"Vegetables\"],[319,\"G73648_1x_RB9_01_23276\",\"Spanish Rice from CMI workshop Fried Rice - tomato peas corn carrot \",1466,\"Vegetables\"],[330,\"G73693_5x_RC8_01_19496\",\"cabbage, fermenter's club\",2136,\"Vegetables\"],[339,\"G73704_5x_RB5_01_19476\",\"napa cabbage kimchi\",1815,\"Vegetables\"],[340,\"G73706_5x_10ul_RG8_01_19562\",\"garlic dill pickle, fermenter's club\",1704,\"Vegetables\"],[343,\"G73717_RH8_01_17780\",\"frozen corn\",2080,\"Vegetables\"],[346,\"G73721_1x_RC9_01_18821\",\"green chili, hatch\",2097,\"Vegetables\"],[347,\"G73723_1x_RA8_01_18792\",\"Maitake mushroom\",2176,\"Vegetables\"],[352,\"G73939_5x_RA2_01_19459\",\"pickled carrot\",1648,\"Vegetables\"],[353,\"G73940_1x_BE12_01_17316\",\"corn\",2329,\"Vegetables\"],[358,\"G73951_1x_BF5_01_17323\",\"shishito pepper\",2263,\"Vegetables\"],[391,\"G74066_1x_BH11_01_20292\",\"tomato pesto; olive oil based\",2227,\"Vegetables\"],[415,\"G75074_2x_RA2_01_19096\",\"cooked mushroom from dish\",2216,\"Vegetables\"],[419,\"G75095_2x_RG3_01_19205\",\"microwaved cauliflower\",2051,\"Vegetables\"],[428,\"G75127_1x_RE8_01_18861\",\"tomato\",2101,\"Vegetables\"],[429,\"G75128_1x_RF10_01_18877\",\"cucumber; from Einstein bagel\",2013,\"Vegetables\"],[430,\"G75129_1x_RD9_01_18841\",\"red onion\",2108,\"Vegetables\"],[438,\"G75158_2x_5ul_RE5_01_19167\",\"tomato pesto; olive oil based\",2075,\"Vegetables\"],[442,\"G75173_1x_BC11_01_17289\",\"mushroom plant leaf\",1952,\"Vegetables\"],[445,\"G75178_1x_BG11_01_17341\",\"kale\",2157,\"Vegetables\"],[448,\"G75185_1x_BB1_01_17258\",\"red leaf lettuce\",2095,\"Vegetables\"],[450,\"G75189_1x_BF3_01_17321\",\"celery leaf\",1902,\"Vegetables\"],[452,\"G75192_1x_BF2_01_17320\",\"lettuce\",1918,\"Vegetables\"],[456,\"G75200_1x_BA10_01_17277\",\"gold bar zucchini\",1950,\"Vegetables\"],[457,\"G75205_10uL_RA1_01_17245\",\"armenian cucumber\",1909,\"Vegetables\"],[459,\"G75211_1x_BD3_01_17295\",\"zucchini\",2063,\"Vegetables\"],[460,\"G75212_1x_BC3_01_17282\",\"sungold tomato\",2159,\"Vegetables\"],[461,\"G75213_1x_BB3_01_17260\",\"eggplant japanese\",2146,\"Vegetables\"],[464,\"G75241_BD10_01_18998\",\"Potato\",2186,\"Vegetables\"],[468,\"G75248_5x_RE7_01_19526\",\"pickled carrot\",2109,\"Vegetables\"],[469,\"G75249_5x_RC7_01_19495\",\"green squash, pickled\",1941,\"Vegetables\"],[470,\"G75250_5x_RA7_01_19465\",\"yellow squash, pickled\",1719,\"Vegetables\"],[477,\"G75571_2x_5ul_RE11_01_19175\",\"dried chili flakes\\u002f seeds\",2233,\"Vegetables\"],[478,\"G75572_5x_RA9_01_20128\",\"chili sauce\",1768,\"Vegetables\"],[481,\"G75576_1x_RF8_01_18875\",\"cabbage\",1886,\"Vegetables\"],[510,\"G75663_1x_RE4_01_18853\",\"mushroom, brown, cooked\",2153,\"Vegetables\"],[515,\"G75671_1x_RG4_01_18884\",\"eggplant\",2210,\"Vegetables\"],[520,\"G75679_1x_BG8_01_20233\",\"roasted pepper tomato sauce\",2184,\"Vegetables\"],[521,\"G75680_2x_RD5_01_19143\",\"chili\",2180,\"Vegetables\"],[522,\"G75682_1x_RD7_01_18838\",\"asparagus\",2219,\"Vegetables\"],[524,\"G75686_1x_RG8_01_18889\",\"kale\",1748,\"Vegetables\"],[525,\"G75687_1x_RB8_01_18805\",\"avocado\",2353,\"Vegetables\"],[527,\"G75689_1x_RA6_01_18790\",\"corn\",2249,\"Vegetables\"],[542,\"G75743_1x_RE3_01_18554\",\"cucumber mint kombucha (Julia homemade)\",2086,\"Vegetables\"],[568,\"G75841_1x_RB5_01_20255\",\"cactus, nopales, cooked in avocado oil, Ralfs\",1898,\"Vegetables\"],[580,\"G78830_RH12_01_17795\",\"baby corn\",1986,\"Vegetables\"],[596,\"G78909_1x_RD5_01_18830\",\"avocado\",2289,\"Vegetables\"],[597,\"G78910_1x_RC5_01_18816\",\"Green Tomato\",2080,\"Vegetables\"],[599,\"G78912_2x_RD4_01_19142\",\"Garlic hummus\",2271,\"Vegetables\"],[624,\"G78958_p19_g5_GD6_01_21672\",\"Party platter pack Pepper Salame\",1545,\"Vegetables\"],[642,\"G78994_1x_RA3_01_18787\",\"pickled onion; veggie grill\",2077,\"Vegetables\"],[643,\"G79000_1x_RG2_01_18882\",\"persian cucumber\",1839,\"Vegetables\"],[665,\"G79213_2x_5ul_RH8_01_19450\",\"thai lime and chili cashew\",2095,\"Vegetables\"],[675,\"G79230_1x_RG9_01_18890\",\"carrot\",2022,\"Vegetables\"],[677,\"G79235_5x_RE9_01_20197\",\"stuffed mushroom tomato sauce\",2182,\"Vegetables\"],[678,\"G79236_2x_RF6_01_19183\",\"stuffed mushroom\",2189,\"Vegetables\"],[679,\"G79237_1x_RA10_01_18794\",\"artichoke\",2296,\"Vegetables\"],[680,\"G79238_1x_RB10_01_18807\",\"artichoke\",2286,\"Vegetables\"],[684,\"G79246_1x_RD10_01_18842\",\"cucumber\",2190,\"Vegetables\"],[685,\"G79248_1x_RB11_01_18808\",\"celery\",1814,\"Vegetables\"],[690,\"G79255_1x_RE11_01_18864\",\"cucumber\",2015,\"Vegetables\"],[692,\"G79265_1x_RE3_01_18850\",\"mushroom \",1900,\"Vegetables\"],[693,\"G79266_1x_RG3_01_18883\",\"artichoke\",1937,\"Vegetables\"],[694,\"G79268_5x_BB3_01_19952\",\"Polenta corn grits\",1795,\"Vegetables\"],[697,\"G79271_5x_BC2_01_19970\",\"corn starch\",1465,\"Vegetables\"],[698,\"G79272_5x_BF2_01_20019\",\"yellow corn meal\",1946,\"Vegetables\"],[703,\"G79283_1x_RF8_01_20340\",\"kale\",1695,\"Vegetables\"],[704,\"G79286_1x_RH8_01_20365\",\"carrot, raw\",1816,\"Vegetables\"],[705,\"G79287_1x_10ul_RD7_01_20307\",\"celery, stalk\",1538,\"Vegetables\"],[706,\"G79289_1x_RB7_01_20256\",\"green bean\",1773,\"Vegetables\"],[709,\"G79294_1x_RH7_01_20364\",\"zucchini\",1369,\"Vegetables\"],[710,\"G79298_1x_RG6_01_20351\",\"cucumber with peel\",1717,\"Vegetables\"],[714,\"G79305_1x_RG10_01_18901\",\"cooked oyster mushroom\",2153,\"Vegetables\"],[716,\"G79307_2x_RG9_01_19212\",\"bamboo shoot in chili oil\",1811,\"Vegetables\"],[718,\"G79309_1x_RF5_01_18871\",\"baby corn\",1927,\"Vegetables\"],[719,\"G79311_1x_RB7_01_18804\",\"oyster mushroom\",2277,\"Vegetables\"],[730,\"G79362_5x_RG4_01_21500\",\"beet pulp shreds plain 41\",1967,\"Vegetables\"],[744,\"G79505_1x_RB10_01_20258\",\"romaine lettuce\",1422,\"Vegetables\"],[745,\"G79507_1x_RE10_01_20327\",\"iceberg lettuce\",1716,\"Vegetables\"],[749,\"G79513_1x_RG4_01_20557\",\"king oyster mushroom\",2097,\"Vegetables\"],[794,\"G79672_5x_RB10_01_19482\",\"7 Gochujang fermented chili paste(1)\",2026,\"Vegetables\"],[795,\"G79675_5x_10ul_RG2_01_19551\",\"dill garlic sauerkraut\",1993,\"Vegetables\"],[810,\"G79705_5x_RA12_01_19470\",\"sauerkraut with pickled persian cucumbers, cucumber\",1833,\"Vegetables\"],[819,\"G79728_1x_10ul_RD3_01_20303\",\"purple cabbage\",1645,\"Vegetables\"],[823,\"G79741_1x_BF11_01_20223\",\"Vegetable Korma\",2158,\"Vegetables\"],[825,\"G79746_5x_BD6_01_19991\",\"chili jungle, M709B - 58\",2103,\"Vegetables\"],[826,\"G79756_5x_RC2_01_21428\",\"beet pulp shreds with molasses 40\",1727,\"Vegetables\"],[834,\"G83195_GC1_01_20474\",\"corn soybean blend\",1779,\"Vegetables\"],[842,\"G83213_5x_RD8_01_21464\",\"corn meal uncooked\",1757,\"Vegetables\"],[843,\"G83226_1x_RC12_01_20300\",\"LEAF curly leaf lettuce\",1323,\"Vegetables\"],[850,\"G83234_1x_RF11_01_20343\",\"yellow cherry tomato\",1787,\"Vegetables\"],[851,\"G83238_1x_RF12_01_20344\",\"LEAF lettuce\",1376,\"Vegetables\"],[852,\"G83239_1x_RH12_01_20369\",\"STEM purple leaf lettuce\",1332,\"Vegetables\"],[853,\"G83240_1x_RG12_01_20357\",\"LEAF purple leaf lettuce\",1542,\"Vegetables\"],[854,\"G83242_1x_RC10_01_20297\",\"shishito pepper \",1702,\"Vegetables\"],[856,\"G83246_1x_RH11_01_20368\",\"white carrot\",2090,\"Vegetables\"],[857,\"G83247_1x_RD11_01_20312\",\"orange carrot\",1860,\"Vegetables\"],[858,\"G83248_1x_RB11_01_20259\",\"yellow carrot\",1814,\"Vegetables\"],[859,\"G83249_1x_RG11_01_20356\",\"purple carrot\",1927,\"Vegetables\"],[865,\"G83309_5x_RF9_01_21491\",\"butterfly pea infused octopus\",2120,\"Vegetables\"],[866,\"G83310_5x_RC9_01_21426\",\"tomato\",2034,\"Vegetables\"],[869,\"G83314_5x_RA10_01_21409\",\"beet\",2045,\"Vegetables\"],[873,\"G83319_5x_RB10_01_21422\",\"blue corn tamalli\",2019,\"Vegetables\"],[954,\"G86725_10x_RG11_01_23223\",\"garlic powder\",1388,\"Vegetables\"],[955,\"G86727_10x_RH2_01_23228\",\"onion powder\",1529,\"Vegetables\"],[957,\"G86732_1x_BD5_01_23169\",\"artichoke pizza, sample includes all parts\",1755,\"Vegetables\"],[958,\"G86734_1x_BD7_01_23172\",\"garlic knot\",1521,\"Vegetables\"],[976,\"G86776_1x_RF7_01_26314\",\"thai eggplant raw, unwashed, from H mart\",1925,\"Vegetables\"],[977,\"G86777_1x_RB10_01_26252\",\"green leaf, possibly spinach\",1504,\"Vegetables\"],[979,\"G86779_1x_RB11_01_26253\",\"raw; conventional crimini mushroom from whole foods; sampled\",1589,\"Vegetables\"],[987,\"G86787_1x_RG10_01_23372\",\"organic avocado from mexico, peel of avocado, from whole foods la jolla\",2118,\"Vegetables\"],[988,\"G86788_1x_RG11_01_23383\",\"organic avocado from mexico, flesh of avocado, from whole foods la jolla\",2068,\"Vegetables\"],[990,\"G86790_1x_2u_RH1_01_23445\",\"raw white onion, trader joes, encinitas blvd, (ask Jan organic or conventional)\",1722,\"Vegetables\"],[1006,\"G86822_1x_RF8_01_23366\",\"Garlic Powder\",1764,\"Vegetables\"],[1010,\"G86834_1x_BA10_01_23125\",\"Pure Corn Starch\",1235,\"Vegetables\"],[1034,\"G86878_1x_RG5_01_23377\",\"red romaine lettuce from mix\",1359,\"Vegetables\"],[1038,\"G86889_1x_RG2_01_26323\",\"raw broccoli from whole foods la jolla; organic (sampled 1\\u002f23 frozen 1\\u002f25 8:30AM)\",1955,\"Vegetables\"],[1059,\"G86920_1x_RH6_01_26345\",\"raw organic beet; ATTN. this sample sat at RT for 48 hours before freezing; from Hmart\",1593,\"Vegetables\"],[1060,\"G86921_1x_BC5_01_23151\",\"Lee Kum Lee Sriracha Chili Sauce\",1814,\"Vegetables\"],[1062,\"G86924_1x_BE8_01_23189\",\"garlic and herb shmear reduced fat; einstein bros bagels\",1325,\"Vegetables\"],[1068,\"G86933_1x_RD8_01_23335\",\"green bell pepper, red curry\",1492,\"Vegetables\"],[1069,\"G86936_1x_RD6_01_23333\",\"straw mushroom, tom kha soup\",1446,\"Vegetables\"],[1074,\"G86949_1x_3ul_BA10_01_26377\",\"diet dr pepper\",1364,\"Vegetables\"],[1095,\"G87308_RC2_01_26097\",\"red cabbage\",1657,\"Vegetables\"],[1103,\"G87325_RB4_01_26084\",\"Red garlic Nubia\",1948,\"Vegetables\"],[1109,\"G87346_RD4_01_26114\",\"iceberg lettuce\",1410,\"Vegetables\"],[1113,\"G87359_1x_BA10_01_25990\",\"tomato cherry tomato sauce\",1973,\"Vegetables\"],[1129,\"G87403_RE4_01_26162\",\"corn\",1707,\"Vegetables\"],[1139,\"G87424_1x_BC10_01_26023\",\"radish\",1392,\"Vegetables\"],[1144,\"G87434_1x_BC5_01_26016\",\"cooked spinach\",1596,\"Vegetables\"],[1145,\"G87436_1x_BB2_01_25995\",\"chili pepper\",1661,\"Vegetables\"],[1146,\"G87437_1x_BB3_01_25996\",\"white garlic\",1380,\"Vegetables\"],[1148,\"G87439_1x_BB5_01_25999\",\"asparagus in oil\",1841,\"Vegetables\"],[1158,\"G87454_1x_BD7_01_26035\",\"stock cube vegetable \",1651,\"Vegetables\"],[1183,\"G87495_1x_RF4_01_26310\",\"shitake mushroom - from immune boost soup\",2105,\"Vegetables\"],[1193,\"G87522_1x_RF5_01_26311\",\"garlic - immune boost soup\",1963,\"Vegetables\"],[1206,\"G87541_1x_RG6_01_26327\",\"maitake mushroom - immune boost soup\",1684,\"Vegetables\"],[1207,\"G87542_1x_RC6_01_26262\",\"organic king oyster mushroom; sampled raw; from H mart\",1367,\"Vegetables\"],[1210,\"G87546_1x_RG9_01_26331\",\"organic carrot from costco not rinsed\\u002fwashed; plastic packaging\",1710,\"Vegetables\"],[1219,\"G87556_1x_RE8_01_26300\",\"raw garlic\",1901,\"Vegetables\"],[1220,\"G87557_1x_RF8_01_26315\",\"raw grape tomato from whole foods la jolla village; organic; packaging plastic lid with cardboard bottom\",2138,\"Vegetables\"],[1230,\"G87577_1x_BA8_01_26547\",\"avocado\",2232,\"Vegetables\"],[1240,\"G87603_1x_RH11_01_26351\",\"hass avocado, stand by Safari Park\",2097,\"Vegetables\"],[1241,\"G87604_1x_RD11_01_26283\",\"fuerte avocado, stand by Safari Park\",1924,\"Vegetables\"],[1242,\"G87605_1x_RF11_01_26318\",\"italian tomato puree\",1920,\"Vegetables\"],[1244,\"G90219_1x_BA6_01_26543\",\"avocado\",2305,\"Vegetables\"],[1294,\"G95796_1x_BH5_01_32303\",\"Farmer's Market Tomato\",1941,\"Vegetables\"],[1295,\"G95797_1x_RD11_01_32127\",\"Farmer's Market Tomato\",1886,\"Vegetables\"],[1296,\"G95798_1x_BC6_01_32268\",\"cherry tomato\",2024,\"Vegetables\"],[1297,\"G95799_1x_RF2_01_32145\",\"cherry tomato\",1959,\"Vegetables\"],[1298,\"G95800_1x_RD3_01_32119\",\"cherry tomato\",1936,\"Vegetables\"],[1299,\"G95801_1x_RE5_01_32134\",\"cherry tomato\",1930,\"Vegetables\"],[1300,\"G95802_1x_RG4_01_32161\",\"cherry tomato\",1936,\"Vegetables\"],[1301,\"G95805_1x_BG5_01_32295\",\"Farmer's Market Tomato\",1912,\"Vegetables\"],[1302,\"G95806_1x_RC8_01_32113\",\"Farmer's Market Tomato\",1831,\"Vegetables\"],[1303,\"G95807_1x_BH6_01_32304\",\"cherry tomato\",2036,\"Vegetables\"],[1304,\"G95808_1x_RC6_01_32111\",\"cherry tomato\",2059,\"Vegetables\"],[1305,\"G95809_1x_RH3_01_32174\",\"cherry tomato\",1648,\"Vegetables\"],[1306,\"G95810_1x_RE10_01_32140\",\"cherry tomato\",1940,\"Vegetables\"],[1307,\"G95811_1x_RD6_01_32122\",\"cherry tomato\",1800,\"Vegetables\"],[1308,\"G95814_1x_RE4_01_32133\",\"Farmer's Market Tomato\",1974,\"Vegetables\"],[1309,\"G95815_1x_RF6_01_32149\",\"Farmer's Market Tomato\",1938,\"Vegetables\"],[1310,\"G95816_1x_BC4_01_32266\",\"cherry tomato\",1799,\"Vegetables\"],[1311,\"G95817_1x_RC4_01_32103\",\"cherry tomato\",2028,\"Vegetables\"],[1312,\"G95818_1x_RH10_01_32182\",\"cherry tomato\",1933,\"Vegetables\"],[1313,\"G95819_1x_RD5_01_32121\",\"cherry tomato\",1613,\"Vegetables\"],[1314,\"G95820_1x_RE12_01_32142\",\"cherry tomato\",1890,\"Vegetables\"],[1315,\"G95823_1x_RH9_01_32181\",\"Farmer's Market Tomato\",1596,\"Vegetables\"],[1316,\"G95824_1x_BE5_01_32281\",\"Farmer's Market Tomato\",1911,\"Vegetables\"],[1317,\"G95825_1x_RG7_01_32165\",\"Farmer's Market Tomato\",1843,\"Vegetables\"],[1318,\"G95826_1x_RD12_01_32128\",\"cherry tomato\",2095,\"Vegetables\"],[1319,\"G95827_1x_RE6_01_32135\",\"cherry tomato\",2037,\"Vegetables\"],[1320,\"G95828_1x_RB6_01_32091\",\"cherry tomato\",1704,\"Vegetables\"],[1321,\"G95832_1x_RH2_01_32173\",\"canned tomato\",1958,\"Vegetables\"],[1322,\"G95833_1x_BF6_01_32289\",\"canned tomato\",1925,\"Vegetables\"],[1323,\"G95834_1x_BD6_01_32275\",\"canned tomato\",1409,\"Vegetables\"],[1324,\"G95835_1x_BH3_01_32301\",\"canned tomato\",2011,\"Vegetables\"],[1325,\"G95836_1x_RH6_01_32177\",\"canned tomato\",1875,\"Vegetables\"],[1326,\"G95837_1x_RE2_01_32131\",\"canned tomato\",2095,\"Vegetables\"],[1327,\"G95838_1x_RC7_01_32112\",\"canned tomato\",2091,\"Vegetables\"],[1328,\"G95839_1x_RB11_01_32097\",\"canned tomato\",1977,\"Vegetables\"],[1329,\"G95840_1x_BG4_01_32294\",\"canned tomato\",2021,\"Vegetables\"],[1330,\"G95841_1x_RH8_01_32180\",\"sundried tomato\",1896,\"Vegetables\"],[1331,\"G95842_1x_RE11_01_32141\",\"sundried tomato\",2113,\"Vegetables\"],[1332,\"G95843_1x_RH4_01_32175\",\"sundried tomato\",1899,\"Vegetables\"],[1333,\"G95844_1x_BF4_01_32287\",\"sundried tomato\",2068,\"Vegetables\"],[1334,\"G95845_1x_BA5_01_32253\",\"sundried tomato\",2236,\"Vegetables\"],[1335,\"G95846_1x_BF5_01_32288\",\"sundried tomato\",2099,\"Vegetables\"],[1336,\"G95847_1x_RF8_01_32152\",\"sundried tomato\",2059,\"Vegetables\"],[1337,\"G95848_1x_RH7_01_32179\",\"sundried tomato\",1860,\"Vegetables\"],[1338,\"G95849_1x_RB9_01_32095\",\"sundried tomato\",2030,\"Vegetables\"],[1339,\"G95859_1x_RB8_01_32094\",\"Cherry Tomato\",1872,\"Vegetables\"],[1340,\"G95860_1x_BG6_01_32296\",\"Cherry Tomato\",1972,\"Vegetables\"],[1341,\"G95861_1x_BE6_01_32282\",\"Cherry Tomato\",1930,\"Vegetables\"],[1342,\"G95862_1x_RE3_01_32132\",\"Cherry Tomato\",1806,\"Vegetables\"],[1343,\"G95863_1x_RH12_01_32184\",\"Cherry Tomato\",1747,\"Vegetables\"],[1344,\"G95864_1x_RB4_01_32089\",\"Cherry Tomato\",1679,\"Vegetables\"],[1345,\"G95865_1x_RE8_01_32138\",\"Cherry Tomato\",1909,\"Vegetables\"],[1346,\"G95866_1x_BH4_01_32302\",\"Cherry Tomato\",1827,\"Vegetables\"],[1347,\"G95867_1x_RB12_01_32098\",\"Cherry Tomato\",1729,\"Vegetables\"],[1823,\"RA2_RA2_01_49050\",\"green.pepper\",2525,\"Vegetables\"],[1829,\"RA8_RA8_01_49060\",\"eggplant\",2485,\"Vegetables\"],[1835,\"RC11_RC11_01_49089\",\"asparagus\",2527,\"Vegetables\"],[1838,\"RC3_RC3_01_49080\",\"celery\",2529,\"Vegetables\"],[1840,\"RC7_RC7_01_49084\",\"chili.pepper\",2510,\"Vegetables\"],[1845,\"RD6_RD6_01_49098\",\"garlic\",2472,\"Vegetables\"],[1846,\"RE2_RE2_01_49106\",\"carrot\",2469,\"Vegetables\"],[1847,\"RE3_RE3_01_49107\",\"spicy pepper, small, red\",2431,\"Vegetables\"],[1848,\"RE4_RE4_01_49108\",\"cherry tomato, with peel\",2476,\"Vegetables\"],[1850,\"RE6_RE6_01_49110\",\"carrot greens\",2526,\"Vegetables\"],[1851,\"RE7_RE7_01_49111\",\"eggplant, japanese, with peel\",2451,\"Vegetables\"],[1855,\"VA3_2x_RB3_01_21611\",\"Avocado salad\",1685,\"Vegetables\"],[1857,\"VA5_2x_RB5_01_21614\",\"spinach salad\",1790,\"Vegetables\"],[1860,\"VA8_2x_RB8_01_21618\",\"potato puree\",1727,\"Vegetables\"]],\"hovertemplate\":\"color=Vegetables\\u003cbr\\u003ex=%{x}\\u003cbr\\u003ey=%{y}\\u003cbr\\u003ehover_data_0=%{customdata[0]}\\u003cbr\\u003ehover_data_1=%{customdata[1]}\\u003cbr\\u003ehover_data_2=%{customdata[2]}\\u003cbr\\u003ehover_data_3=%{customdata[3]}\\u003cbr\\u003ehover_data_4=%{customdata[4]}\\u003cextra\\u003e\\u003c\\u002fextra\\u003e\",\"legendgroup\":\"Vegetables\",\"marker\":{\"color\":\"#00FE35\",\"symbol\":\"circle\"},\"mode\":\"markers\",\"name\":\"Vegetables\",\"showlegend\":true,\"x\":[13.372001647949219,12.874319076538086,14.510865211486816,14.436942100524902,14.827756881713867,14.150382995605469,13.394500732421875,14.299219131469727,14.269238471984863,12.425600051879883,13.538723945617676,14.791930198669434,13.368361473083496,13.686239242553711,13.191519737243652,13.530252456665039,13.731660842895508,14.365901947021484,13.270341873168945,7.825648784637451,12.822916984558105,13.472426414489746,14.060295104980469,12.607799530029297,13.786563873291016,13.561155319213867,14.01451587677002,8.634765625,14.531638145446777,14.746855735778809,14.013696670532227,14.361709594726562,13.330061912536621,13.8529691696167,-5.908084869384766,14.685123443603516,11.243245124816895,16.44497299194336,14.80284595489502,11.372756004333496,11.680262565612793,14.556109428405762,14.232434272766113,14.530701637268066,10.260635375976562,15.073410034179688,14.640852928161621,13.401946067810059,13.748653411865234,13.109728813171387,13.767574310302734,13.009342193603516,12.220220565795898,13.684513092041016,14.669260025024414,11.569479942321777,15.438471794128418,9.295534133911133,13.764638900756836,13.232614517211914,13.839475631713867,15.022770881652832,14.18698501586914,13.426798820495605,13.445199012756348,14.440011024475098,14.399656295776367,13.316567420959473,15.63243579864502,14.114980697631836,10.11838436126709,15.76426887512207,10.617870330810547,10.427833557128906,10.63776969909668,10.498613357543945,10.736082077026367,12.77856731414795,12.66466236114502,14.364933967590332,10.5741605758667,12.768328666687012,12.116060256958008,12.651734352111816,13.04860782623291,11.839338302612305,11.535913467407227,12.168309211730957,10.795023918151855,12.761841773986816,14.849868774414062,13.82840633392334,13.933141708374023,14.252792358398438,14.276336669921875,14.97955322265625,14.115266799926758,15.072759628295898,14.808120727539062,14.26220417022705,13.707198143005371,11.846389770507812,11.37087345123291,10.755362510681152,10.859590530395508,10.526924133300781,11.638936042785645,13.434700965881348,11.735974311828613,10.628154754638672,12.726896286010742,11.758639335632324,13.736912727355957,15.372321128845215,12.665661811828613,18.331411361694336,9.817143440246582,11.943441390991211,15.320878028869629,12.355079650878906,13.080713272094727,10.858482360839844,11.004432678222656,11.423918724060059,14.638368606567383,13.417472839355469,13.197507858276367,13.476061820983887,12.359094619750977,11.944766998291016,12.680931091308594,14.275879859924316,12.087305068969727,12.013250350952148,11.218241691589355,16.0045108795166,16.09099578857422,15.353139877319336,9.456430435180664,10.62061882019043,9.378445625305176,11.206281661987305,9.460936546325684,9.683333396911621,11.823324203491211,11.827608108520508,11.503267288208008,13.778044700622559,11.192227363586426,9.51227855682373,8.69668960571289,13.766510963439941,11.437274932861328,10.551887512207031,10.6078462600708,9.868969917297363,10.695158004760742,14.460371971130371,13.243304252624512,13.729764938354492,10.484210968017578,8.963240623474121,10.788399696350098,8.874746322631836,8.588881492614746,8.582435607910156,9.686914443969727,11.176804542541504,10.668975830078125,10.367867469787598,11.106741905212402,12.122173309326172,13.09226131439209,11.240480422973633,12.02823257446289,9.548370361328125,9.693473815917969,8.293588638305664,8.29910659790039,11.082694053649902,11.27385139465332,11.495408058166504,12.540548324584961,12.595890998840332,10.737592697143555,10.311429977416992,8.68924617767334,9.662800788879395,10.412012100219727,12.40958309173584,11.18571662902832,8.457762718200684,9.093863487243652,9.683600425720215,9.885940551757812,12.313627243041992,12.413786888122559,13.198563575744629,6.79502534866333,11.390353202819824,11.188450813293457,12.574992179870605,11.066193580627441,11.214018821716309,10.659921646118164,11.808052062988281,10.840048789978027,10.67628002166748,10.515103340148926,11.098644256591797,11.14908218383789,10.537680625915527,12.551989555358887,15.599616050720215,15.336525917053223,15.031800270080566,12.42043399810791,15.529187202453613,11.065892219543457,10.91927719116211,11.570083618164062,11.295948028564453,11.475595474243164,11.57492733001709,10.734993934631348,10.86425495147705,11.61801815032959,11.48371410369873,11.513018608093262,11.379361152648926,11.482701301574707,10.862367630004883,10.952672004699707,11.436943054199219,11.267746925354004,11.497342109680176,11.269773483276367,11.13802433013916,11.412841796875,11.039632797241211,11.086429595947266,10.696730613708496,11.56767749786377,11.467880249023438,11.311573028564453,19.712862014770508,19.61347007751465,19.36487579345703,19.61975860595703,19.54079246520996,19.676145553588867,19.713254928588867,19.653461456298828,19.572647094726562,13.413738250732422,13.368450164794922,13.493818283081055,13.381845474243164,13.344575881958008,13.27715015411377,13.467301368713379,13.417861938476562,13.505229949951172,11.599760055541992,10.922138214111328,11.03173828125,10.736090660095215,10.71586799621582,10.993124008178711,11.263423919677734,11.018594741821289,11.083017349243164,-5.310907363891602,-5.1213178634643555,-5.774690628051758,-5.405804634094238,-5.53847599029541,-4.615250587463379,-4.324714183807373,-4.100999355316162,-4.896076679229736,-4.862308025360107,-4.274459362030029,13.029539108276367,13.261273384094238,12.497221946716309],\"xaxis\":\"x\",\"y\":[8.080134391784668,9.7484712600708,11.098198890686035,9.019339561462402,8.682300567626953,11.314748764038086,9.836623191833496,1.4257142543792725,9.947872161865234,3.186638593673706,10.622772216796875,10.706929206848145,11.781005859375,10.219491958618164,9.096866607666016,10.764585494995117,10.671758651733398,9.616167068481445,2.149219512939453,5.903725624084473,9.237540245056152,8.737277030944824,5.472101211547852,9.615402221679688,10.202458381652832,1.4530099630355835,1.1385083198547363,5.85010290145874,9.254056930541992,10.460884094238281,11.41610050201416,11.472967147827148,10.818964958190918,10.377166748046875,6.6120805740356445,10.592424392700195,5.6971259117126465,7.353081226348877,10.83631420135498,8.212662696838379,9.813600540161133,10.693115234375,10.812506675720215,10.0452299118042,9.478094100952148,7.387356281280518,6.176806449890137,6.718535900115967,5.182942867279053,7.643598556518555,5.992385387420654,9.563371658325195,4.210693359375,7.312576770782471,4.5802788734436035,8.783699989318848,6.952670574188232,8.1953763961792,7.32457160949707,10.406758308410645,10.579601287841797,10.737698554992676,11.460933685302734,10.829486846923828,10.731051445007324,10.48309326171875,10.108349800109863,11.237125396728516,9.66901969909668,4.964935779571533,7.4652934074401855,1.2822514772415161,7.608282566070557,4.125889301300049,3.310088872909546,3.9855875968933105,4.079277038574219,8.811930656433105,10.243538856506348,9.107927322387695,3.37898588180542,9.138057708740234,11.708178520202637,2.835130214691162,4.270262718200684,8.790532112121582,9.01032829284668,9.055569648742676,8.071602821350098,2.6982262134552,10.807104110717773,10.737872123718262,11.48420524597168,11.05217170715332,10.938435554504395,10.835610389709473,11.39750862121582,11.146005630493164,11.161800384521484,11.464364051818848,3.2363100051879883,8.974594116210938,3.6499366760253906,3.612090826034546,9.580330848693848,4.18080472946167,8.37851619720459,2.853987216949463,14.370214462280273,8.773541450500488,9.878886222839355,8.793315887451172,9.848320007324219,9.72926139831543,9.504107475280762,8.148259162902832,8.980022430419922,9.035174369812012,9.814193725585938,9.989834785461426,3.045933485031128,3.819202184677124,7.862878322601318,8.196894645690918,3.4290313720703125,10.30414867401123,2.022813558578491,1.8559390306472778,9.961012840270996,9.664617538452148,10.426054954528809,7.020877361297607,8.451106071472168,7.82818078994751,9.372011184692383,5.548568248748779,5.663515567779541,5.759261608123779,8.332488059997559,10.015650749206543,8.39100456237793,5.216904163360596,7.900577068328857,7.657998561859131,8.755878448486328,3.8046412467956543,9.267003059387207,3.0906832218170166,5.215394973754883,8.238709449768066,9.105559349060059,4.103848934173584,3.23333740234375,3.5118117332458496,3.3981919288635254,9.107233047485352,8.3598051071167,5.561208724975586,7.266435623168945,6.891390323638916,5.356076717376709,8.762907028198242,9.675836563110352,8.944952011108398,9.016541481018066,9.077676773071289,8.677260398864746,9.749466896057129,9.62746810913086,9.798770904541016,9.756455421447754,4.283262252807617,2.1210765838623047,4.888114929199219,8.014628410339355,3.771021604537964,3.6591720581054688,4.707874774932861,4.4975361824035645,10.031293869018555,7.4015421867370605,7.134376049041748,11.214380264282227,10.822443008422852,7.605438709259033,7.004026412963867,3.6368725299835205,4.49624490737915,6.760260105133057,8.227802276611328,4.553309917449951,3.537010669708252,3.9466874599456787,4.048623561859131,6.395580291748047,7.558506011962891,7.7218780517578125,4.873435974121094,3.54095196723938,6.8254008293151855,6.771657466888428,7.078611373901367,7.523860454559326,7.0944390296936035,7.171905040740967,5.750929355621338,6.883213996887207,6.564539909362793,6.513897895812988,7.201215744018555,10.080233573913574,7.314991474151611,9.150613784790039,9.608894348144531,9.460741996765137,8.866560935974121,8.057052612304688,9.785591125488281,15.900891304016113,17.373979568481445,15.079166412353516,15.792520523071289,16.339954376220703,16.828750610351562,17.65733528137207,16.183717727661133,16.86543083190918,15.273378372192383,16.156139373779297,16.3641300201416,16.673892974853516,17.606731414794922,17.28977394104004,16.873950958251953,15.482728958129883,15.255048751831055,16.739587783813477,17.395662307739258,16.219602584838867,17.667869567871094,15.795384407043457,17.63694190979004,15.55672836303711,15.70229434967041,16.99771499633789,2.5850841999053955,2.4239773750305176,2.020641565322876,2.3115346431732178,2.6679999828338623,2.367845058441162,2.4377331733703613,2.5254480838775635,2.2922067642211914,13.23351001739502,12.98160171508789,13.356863021850586,13.034712791442871,12.790555000305176,12.667994499206543,13.225980758666992,13.414215087890625,13.080057144165039,16.691911697387695,16.07474708557129,16.31119728088379,17.68958854675293,17.763355255126953,17.514070510864258,16.952795028686523,16.772735595703125,17.344200134277344,7.795525550842285,7.805239677429199,7.035064697265625,8.156307220458984,7.557706832885742,8.179635047912598,8.473387718200684,8.290271759033203,8.29783821105957,8.48210620880127,8.468803405761719,7.191064834594727,7.496461391448975,6.138343334197998],\"yaxis\":\"y\",\"type\":\"scattergl\"},{\"customdata\":[[5,\"72497_1x_BD7_01_17434\",\"melon, galia\",2006,\"Fruits & Berries\"],[6,\"72500_1x_BG3_01_17471\",\"apple sauce, organic\",2199,\"Fruits & Berries\"],[7,\"72504_1x_BH8_01_17502\",\"turkish fig\",2376,\"Fruits & Berries\"],[11,\"72540_1x_BB8_01_17404\",\"watermelon (spilled a bit of EtOH)\",2155,\"Fruits & Berries\"],[12,\"72657_1x_BE5_01_17445\",\"bartlett pear\",2169,\"Fruits & Berries\"],[13,\"72662_1x_BB3_01_17399\",\"Dark morello cherry (preserved in \\\"light syrup\\\")\",2124,\"Fruits & Berries\"],[14,\"72665_5x_RD5_01_17476\",\"cherry, farmer's market\",1717,\"Fruits & Berries\"],[15,\"72666_1x_BC5_01_17414\",\"apricot, farmer's market\",2036,\"Fruits & Berries\"],[17,\"72673_1x_BE7_01_17447\",\"Orange Peel\",2337,\"Fruits & Berries\"],[18,\"72674_1x_BG4_01_17472\",\"Orange fruit\",2181,\"Fruits & Berries\"],[24,\"73471_1x_rerun_BA4_01_21391\",\"apple cider vinegar\",1671,\"Fruits & Berries\"],[26,\"73492_1x_BF3_01_21384\",\"kombucha, homemade 2ndary fruit ferment, red fruit\",1637,\"Fruits & Berries\"],[27,\"73495_1x_BC3_01_20735\",\"kombucha, homemade 2ndary fruit ferment, mango\",1482,\"Fruits & Berries\"],[35,\"73730_1x_BB9_01_17405\",\"mango\",2027,\"Fruits & Berries\"],[39,\"73980_1x_BB10_01_17406\",\"fig\",2126,\"Fruits & Berries\"],[41,\"73989_5x_RH6_01_17500\",\"blueberry\",1643,\"Fruits & Berries\"],[46,\"74003_1x_BA2_01_17385\",\"strawberry, self picked from field, washed and refrigerated\",2014,\"Fruits & Berries\"],[48,\"74009_5x_RC2_01_17411\",\"strawberry, self picked from field, same day, not washed\",1703,\"Fruits & Berries\"],[50,\"74012_1x_BE2_01_17442\",\"apple from apple danish\",2018,\"Fruits & Berries\"],[51,\"74014_5x_RH2_01_17496\",\"cherry from cherry danish\",1705,\"Fruits & Berries\"],[56,\"74027_1x_BC12_01_17421\",\"strawberry\",2177,\"Fruits & Berries\"],[57,\"74028_1x_BE11_01_17451\",\"strawberry\",2147,\"Fruits & Berries\"],[67,\"74093_1x_BC2_01_20734\",\"apple kombucha (?)\",1519,\"Fruits & Berries\"],[70,\"75072_1x_BE9_01_17449\",\"orchard view cherry\",2054,\"Fruits & Berries\"],[71,\"75077_5x_RC11_01_17425\",\"blueberry\",2063,\"Fruits & Berries\"],[85,\"75238_1x_BH4_01_20778\",\"bai sparkling antioxidant infusion - peru pineapple\",1598,\"Fruits & Berries\"],[86,\"75259_1x_BC7_01_20739\",\"Jarritos fruit punch flavor\",1522,\"Fruits & Berries\"],[87,\"75260_1x_BD7_01_20747\",\"Jarritos Mango Flavor\",1453,\"Fruits & Berries\"],[94,\"78808_5x_RE12_01_17452\",\"Garden Blueberry\",1784,\"Fruits & Berries\"],[101,\"78850_1x_BH6_01_20780\",\"Balsamic vinegar cherry wood aged napa valley naturals\",1705,\"Fruits & Berries\"],[135,\"G72441_1x_BA6_01_17274\",\"lemon peel\",2443,\"Fruits & Berries\"],[151,\"G72465_10x_BH7_01_17935\",\"baby food, gerber rice and banana apple cereal mix\",1873,\"Fruits & Berries\"],[153,\"G72468_p1_c8_GC8_01_21933\",\"Turkish delight, pomegranate with pistachios\",1848,\"Fruits & Berries\"],[154,\"G72469_10x_BD8_01_17829\",\"baby food, Gerber pear pineapple\",2122,\"Fruits & Berries\"],[161,\"G72482_BG3_01_19035\",\"blackberry jam\",2039,\"Fruits & Berries\"],[166,\"G72492_1x_BH6_01_17350\",\"raspberry\",2179,\"Fruits & Berries\"],[176,\"G72517_10x_BH10_01_17938\",\"pineapple\",2133,\"Fruits & Berries\"],[178,\"G72521_10x_BH12_01_17940\",\"banana\",1809,\"Fruits & Berries\"],[190,\"G72659_BH3_01_19050\",\"red raspberry preserves\",2085,\"Fruits & Berries\"],[209,\"G72722_rerun_BD5_01_19083\",\"strawberry preserves\",2139,\"Fruits & Berries\"],[215,\"G72740_10x_BA2_01_17864\",\"lemon with peel\",2061,\"Fruits & Berries\"],[217,\"G72742_10x_BE5_01_17838\",\"peel of seedless mandarin fruit\",2234,\"Fruits & Berries\"],[228,\"G72758_BE7_01_19009\",\"blenham apricot\",2251,\"Fruits & Berries\"],[238,\"G72772_1x_RF2_01_20334\",\"pineapple from JG potluck\",1480,\"Fruits & Berries\"],[268,\"G72837_1x_RG2_01_18580\",\"fig balsamic\",2234,\"Fruits & Berries\"],[271,\"G73436_1x_BF4_01_17322\",\"lemon peel\",2273,\"Fruits & Berries\"],[272,\"G73438_1x_BD4_01_17296\",\"ground cherry\",2263,\"Fruits & Berries\"],[273,\"G73439_1x_BC4_01_17283\",\"apple\",1974,\"Fruits & Berries\"],[278,\"G73446_1x_BG7_01_17338\",\"blood orange\",2309,\"Fruits & Berries\"],[282,\"G73451_1x_BB5_01_17262\",\"blood orange peel\",2216,\"Fruits & Berries\"],[286,\"G73458_2x_RH10_01_19429\",\"apricot; raw; organic\",2055,\"Fruits & Berries\"],[292,\"G73470_1x_10ul_RA8_01_19788\",\"lemon ginger echinachea\",2097,\"Fruits & Berries\"],[297,\"G73482_1x_10ul_RG5_01_19897\",\"honest kids super fruit punch\",2027,\"Fruits & Berries\"],[299,\"G73486_1x_10ul_RD4_01_19861\",\"watermelon rosemary agua fresca\",2363,\"Fruits & Berries\"],[304,\"G73520_1x_RH11_01_18605\",\"Pumpkin ale grain mixture, liquid extract\",2292,\"Fruits & Berries\"],[305,\"G73522_1x_RF6_01_18571\",\"white peach kombucha - origonic tonic\",2021,\"Fruits & Berries\"],[307,\"G73524_1x_RG7_01_18584\",\"hibiscus blood orange kombucha - origonic tonic\",2033,\"Fruits & Berries\"],[332,\"G73696_1x_RF4_01_18870\",\"banana chips\",1567,\"Fruits & Berries\"],[354,\"G73942_1x_BD12_01_17303\",\"strawberry\",2091,\"Fruits & Berries\"],[362,\"G73965_2x_2ul_RD10_01_19442\",\"plum spread\",2085,\"Fruits & Berries\"],[385,\"G74033_1x_RH4_01_18596\",\"humm kombucha coconut lime\",2047,\"Fruits & Berries\"],[399,\"G74082_1x_RD5_01_18542\",\"pear brandy julischka (25%alc\\u002fvol)\",2054,\"Fruits & Berries\"],[440,\"G75168_1x_RC6_01_18817\",\"blueberry\",2082,\"Fruits & Berries\"],[446,\"G75179_5x_RB2_01_17259\",\"blueberry\",1886,\"Fruits & Berries\"],[454,\"G75198_1x_BC10_01_17288\",\"orange thyme\",2202,\"Fruits & Berries\"],[455,\"G75199_1x_BB10_01_17266\",\"pineapple sage\",2221,\"Fruits & Berries\"],[458,\"G75207_1x_BG8_01_17339\",\"strawberry guava\",2135,\"Fruits & Berries\"],[476,\"G75570_1x_RD11_01_18843\",\"papaya salad\",1862,\"Fruits & Berries\"],[487,\"G75591_1x_RD4_01_18829\",\"mango \",2063,\"Fruits & Berries\"],[494,\"G75620_BD8_01_18996\",\"strawberry topping\",2240,\"Fruits & Berries\"],[498,\"G75624_BE4_01_19005\",\"fruit preserve, cherry\",2155,\"Fruits & Berries\"],[504,\"G75637_1x_RG6_01_18886\",\"blackberry\",2090,\"Fruits & Berries\"],[506,\"G75649_RH10_01_17787\",\"cranberry beans\",2155,\"Fruits & Berries\"],[531,\"G75704_1x_RC4_01_18815\",\"fig\",1999,\"Fruits & Berries\"],[550,\"G75760_1x_RF8_01_18573\",\"blueberry kombucha\",2142,\"Fruits & Berries\"],[553,\"G75764_1x_RG10_01_18587\",\"apple cider vinegar w\\u002f mother\",2141,\"Fruits & Berries\"],[555,\"G75769_1x_10_RA9_01_18507\",\"blueberry kombucha (homemade)\",2207,\"Fruits & Berries\"],[565,\"G75824_5x_4ul_BE3_01_19720\",\"lychee black\",1564,\"Fruits & Berries\"],[566,\"G75825_5x_2ul_BB3_01_19648\",\"vanilla peach apricot\",1843,\"Fruits & Berries\"],[567,\"G75826_5x_BA3_01_19609\",\"Strawberry Sencha\",2092,\"Fruits & Berries\"],[569,\"G75853_5x_2ul_BB7_01_19653\",\"Pear & Pomegranate\",1928,\"Fruits & Berries\"],[577,\"G78824_2x_RC4_01_19128\",\"apple sauce\",2001,\"Fruits & Berries\"],[604,\"G78920_RB3_01_17538\",\"pumpkin seeds\",1989,\"Fruits & Berries\"],[631,\"G78975_1x_RG5_01_18885\",\"mango\",2144,\"Fruits & Berries\"],[633,\"G78978_5x_RD7_01_20179\",\"Strawberry jam\",1948,\"Fruits & Berries\"],[636,\"G78982_1x_RF7_01_18968\",\"Frederick (purple) passion fruit\",2030,\"Fruits & Berries\"],[655,\"G79186_1x_5ul_RD6_01_20306\",\"strawberry guava\",1969,\"Fruits & Berries\"],[656,\"G79187_1x_RH5_01_20362\",\"lemon guava\",1828,\"Fruits & Berries\"],[664,\"G79209_1x_RF3_01_18869\",\"bartlett pear\",2019,\"Fruits & Berries\"],[691,\"G79263_5x_RC11_01_20168\",\"homemade fig jam\",2094,\"Fruits & Berries\"],[700,\"G79275_1x_RB5_01_18802\",\"peach\",1988,\"Fruits & Berries\"],[701,\"G79276_1x_RG8_01_20353\",\"grape, red\",1849,\"Fruits & Berries\"],[702,\"G79277_1x_RD8_01_20308\",\"black mission fig, dried\",1872,\"Fruits & Berries\"],[707,\"G79290_1x_RA7_01_20372\",\"strawberry\",1850,\"Fruits & Berries\"],[708,\"G79291_1x_RG7_01_20352\",\"pear, I think bartlett\",1775,\"Fruits & Berries\"],[713,\"G79304_1x_RC8_01_18820\",\"baby food mashed banana\",1968,\"Fruits & Berries\"],[717,\"G79308_1x_RC11_01_18823\",\"lime leaf\",2282,\"Fruits & Berries\"],[746,\"G79509_1x_RD9_01_20309\",\"fruit chop - papaya\",2032,\"Fruits & Berries\"],[747,\"G79510_1x_RE9_01_20326\",\"fruit chop - honeydew\",1651,\"Fruits & Berries\"],[748,\"G79511_1x_RE8_01_20325\",\"fruit chop - apple red delicious\",1920,\"Fruits & Berries\"],[774,\"G79624_5x_BH4_01_18895\",\"polluted orange outer skin, washed (unexposed to air)\",2142,\"Fruits & Berries\"],[775,\"G79625_1x_RH6_01_18974\",\"polluted orange outer skin (exposed to air)\",2399,\"Fruits & Berries\"],[778,\"G79633_1x_RH5_01_18972\",\"polluted orange outer skin, washed (exposed to air)\",2244,\"Fruits & Berries\"],[779,\"G79634_5x_BH7_01_18896\",\"polluted leaf of orange\",2109,\"Fruits & Berries\"],[780,\"G79635_1x_RH8_01_18958\",\"mold of outer skin of polluted orange\",2335,\"Fruits & Berries\"],[781,\"G79636_1x_RH10_01_18962\",\"polluted grapefruit inner piece proximal to pollution on outer skin\",2110,\"Fruits & Berries\"],[782,\"G79637_1x_RH11_01_18964\",\"polluted grapefruit outer skin, washed, unexposed to air\",2415,\"Fruits & Berries\"],[783,\"G79638_1x_RH9_01_18960\",\"polluted grapefruit outer skin, washed, exposed to air\",2311,\"Fruits & Berries\"],[784,\"G79639_5x_BH3_01_18894\",\"polluted grapefruit outer skin, unwashed, exposed to air\",1998,\"Fruits & Berries\"],[785,\"G79640_1x_RH12_01_18966\",\"polluted orange inner piece (proximal to pollution on outer skin)\",2269,\"Fruits & Berries\"],[786,\"G79641_1x_RD2_01_18827\",\"banana from Jimbos\",2128,\"Fruits & Berries\"],[788,\"G79659_5x_BE9_01_20012\",\"fruit blend flavor parrots & conures ML 66\",1858,\"Fruits & Berries\"],[789,\"G79660_5x_BF9_01_20028\",\"fruit blend flavor medium birds cockatiel 65\",1931,\"Fruits & Berries\"],[790,\"G79661_5x_BH9_01_20064\",\"fruit blend flavor large birds (macaw) 67\",1926,\"Fruits & Berries\"],[791,\"G79666_1x_RA5_01_20561\",\"dried lemon\",2009,\"Fruits & Berries\"],[816,\"G79716_5x_BC4_01_19695\",\"apricot decaf black\",1911,\"Fruits & Berries\"],[821,\"G79735_1x_RE4_01_20321\",\"large lime\",2036,\"Fruits & Berries\"],[822,\"G79736_1x_10ul_RD4_01_20304\",\"mini lime\",2079,\"Fruits & Berries\"],[835,\"G83200_1x_RE4_01_21816\",\"Twizzlers pull 'n' peel, cherry flavor\",1451,\"Fruits & Berries\"],[844,\"G83227_1x_RC11_01_20299\",\"bartlett pear\",1714,\"Fruits & Berries\"],[855,\"G83245_1x_RE11_01_20328\",\"raspberry\",1731,\"Fruits & Berries\"],[860,\"G83250_1x_RE7_01_21822\",\"Tootsie Lime fruit chew\",1242,\"Fruits & Berries\"],[863,\"G83302_5x_RA5_01_21403\",\"calcium carbonate (date on bag in image says 8\\u002f29\\u002f17)\",1587,\"Fruits & Berries\"],[876,\"G83324_1x_RA4_01_21725\",\"Twizzlers Twists Strawberry\",1524,\"Fruits & Berries\"],[879,\"G83328_1x_RG3_01_21841\",\"Strawberry Nerds\",1609,\"Fruits & Berries\"],[890,\"G83356_1x_BF10_01_21902\",\"compleat pediatric, nutritional complete tube feeding, includes a variety of real food ingredients, Expiration date use by 2017-12-16\",1425,\"Fruits & Berries\"],[897,\"G83363_1x_BE11_01_21895\",\"Peptide 1.5Cal per ml, vanilla flavor, Expiration date 2017-09-01\",1564,\"Fruits & Berries\"],[898,\"G83364_1x_BF11_01_21903\",\"PediasSure, peptide 1Cal per ml, strawberry flavor, expiration date 9\\u002f17\",1633,\"Fruits & Berries\"],[901,\"G83370_1x_BG11_01_21907\",\"neocate Jr. Strawberry\",1449,\"Fruits & Berries\"],[902,\"G83385_5x_RH9_01_21518\",\"cactus pear ice\",1701,\"Fruits & Berries\"],[904,\"G83387_5x_RB9_01_21413\",\"cassis pate de fruit\",1965,\"Fruits & Berries\"],[917,\"G83408_1x_RA9_01_21737\",\"Smartie (coral orange)\",1286,\"Fruits & Berries\"],[920,\"G83414_1x_RB7_01_21744\",\"Tootsie cherry fruit chew\",1585,\"Fruits & Berries\"],[931,\"G83455_1x_RH6_01_21857\",\"Charms Blow pop - outside (black cherry)\",1679,\"Fruits & Berries\"],[932,\"G83456_1x_RD6_01_21769\",\"Charms Blow pop - gum (black cherry)\",1526,\"Fruits & Berries\"],[933,\"G83457_1x_RD4_01_23328\",\"pear, inside only\",1185,\"Fruits & Berries\"],[940,\"G86704_1x_RF6_01_21832\",\"Laffy Taffy Cherry\",1820,\"Fruits & Berries\"],[975,\"G86775_1x_RE4_01_23346\",\"navel orange, flesh\",1708,\"Fruits & Berries\"],[981,\"G86781_1x_RE12_01_23354\",\"navel orange, peel\",1819,\"Fruits & Berries\"],[983,\"G86783_1x_RG9_01_23382\",\"organic banana raw\",1736,\"Fruits & Berries\"],[993,\"G86796_1x_RH4_01_23392\",\"fuyu persimmon peel, organic, not rinsed, whole foods la jolla\",1840,\"Fruits & Berries\"],[994,\"G86802_1x_RH10_01_23387\",\"blueberry\",1703,\"Fruits & Berries\"],[1001,\"G86815_10x_BE8_01_23351\",\"cranberry sauce\",1158,\"Fruits & Berries\"],[1029,\"G86871_1x_2ul_RG8_01_23444\",\"frozen organic wild blueberry\",1643,\"Fruits & Berries\"],[1045,\"G86897_1x_RF12_01_23369\",\"Pineapple (Monday Meeting)\",1485,\"Fruits & Berries\"],[1046,\"G86898_1x_RF2_01_23359\",\"Strawberry (Monday Meeting)\",2096,\"Fruits & Berries\"],[1047,\"G86899_1x_RF1_01_23358\",\"Cantaloupe Melon (Orange, Monday Meeting)\",1957,\"Fruits & Berries\"],[1048,\"G86900_1x_RE11_01_23353\",\"Honeydew Melon (Green, Monday Meeting)\",1262,\"Fruits & Berries\"],[1051,\"G86903_1x_RE12_01_26304\",\"outside of fig macaroon\",1572,\"Fruits & Berries\"],[1052,\"G86906_1x_RA12_01_26236\",\"filling of lemon macaroon\",1353,\"Fruits & Berries\"],[1054,\"G86909_1x_RB2_01_26242\",\"strawberry\",1640,\"Fruits & Berries\"],[1055,\"G86913_1x_RH12_01_26352\",\"Truth Bar (Raspberry)\",1951,\"Fruits & Berries\"],[1086,\"G86969_1x_RG9_01_26462\",\"HM blueberry kombucha; just opened- long 2ndary ferment\",1671,\"Fruits & Berries\"],[1097,\"G87314_RB8_01_26089\",\"Extra fig jam from Puglia\",1661,\"Fruits & Berries\"],[1116,\"G87364_1x_BA6_01_25986\",\"pineapple dried\",1486,\"Fruits & Berries\"],[1127,\"G87401_RC3_01_26098\",\"pomegranate\",1685,\"Fruits & Berries\"],[1128,\"G87402_RC5_01_26100\",\"Navel orange\",1788,\"Fruits & Berries\"],[1131,\"G87406_RC6_01_26101\",\"Pachino cherry tomatoes IGP\",1924,\"Fruits & Berries\"],[1147,\"G87438_1x_BB4_01_25998\",\"extra strawberry jam\",1462,\"Fruits & Berries\"],[1162,\"G87461_1x_RC7_01_26264\",\"banana from jimbos organic (purchased 1\\u002f16\\u002f18)\",1391,\"Fruits & Berries\"],[1166,\"G87466_1x_RA5_01_26224\",\"conventional grapefruit peel, washed\",2215,\"Fruits & Berries\"],[1168,\"G87468_1x_RE3_01_26290\",\"organic grapefruit peel: washed (Jimbos)\",2057,\"Fruits & Berries\"],[1170,\"G87470_1x_RH2_01_26341\",\"meyer lemon peel only; Organic, USA; washed; (Jimbos)\",2000,\"Fruits & Berries\"],[1174,\"G87481_1x_RE5_01_26296\",\"meyer lemon peel only Organic, USA (Jimbos)\",1880,\"Fruits & Berries\"],[1175,\"G87482_1x_RD5_01_26276\",\"organic grapefruit; peel only USA(Jimbos)\",1890,\"Fruits & Berries\"],[1176,\"G87483_1x_RA6_01_26226\",\"conventional grapefruit; peel only (Trader Joes)\",1936,\"Fruits & Berries\"],[1180,\"G87491_1x_BG10_01_26642\",\"calcium hydroxide (lime paste)\",1246,\"Fruits & Berries\"],[1181,\"G87492_1x_BH10_01_26659\",\"betel nut with calcium hydroxide (lime paste)\",1413,\"Fruits & Berries\"],[1182,\"G87494_1x_RH4_01_26343\",\"blueberry\",1723,\"Fruits & Berries\"],[1185,\"G87501_1x_10ul_RC2_01_26517\",\"mango passionfruit; Trader Joe's\",1765,\"Fruits & Berries\"],[1196,\"G87530_1x_RE6_01_26297\",\"polluted orange flesh\",1717,\"Fruits & Berries\"],[1197,\"G87531_1x_RE7_01_26299\",\"clean polluted orange peel\",1768,\"Fruits & Berries\"],[1198,\"G87532_1x_RD6_01_26277\",\"polluted orange peel\",1734,\"Fruits & Berries\"],[1199,\"G87533_1x_RG5_01_26326\",\"polluted lemon flesh\",1592,\"Fruits & Berries\"],[1200,\"G87534_1x_RC2_01_26258\",\"unripe polluted lemon peel\",2141,\"Fruits & Berries\"],[1201,\"G87535_1x_RB4_01_26245\",\"ripe polluted lemon peel\",2090,\"Fruits & Berries\"],[1204,\"G87538_1x_RG3_01_26324\",\"flesh polluted grapefruit\",1814,\"Fruits & Berries\"],[1205,\"G87539_1x_RB3_01_26244\",\"polluted grapefruit peel\",2079,\"Fruits & Berries\"],[1211,\"G87547_1x_RF9_01_26316\",\"navel orange peel; white part\\u002fpith; from whole foods; conventional\",1778,\"Fruits & Berries\"],[1212,\"G87548_1x_RC10_01_26267\",\"peel of navel conventional orange form whole foods\",2028,\"Fruits & Berries\"],[1215,\"G87552_1x_RA8_01_26228\",\"thai tamarind with plum\",1789,\"Fruits & Berries\"],[1217,\"G87554_1x_RD8_01_26280\",\"organic lime peel\",1969,\"Fruits & Berries\"],[1218,\"G87555_1x_RH8_01_26348\",\"lime flesh\",2012,\"Fruits & Berries\"],[1221,\"G87558_1x_RG8_01_26330\",\"mineola orange flesh\",1878,\"Fruits & Berries\"],[1222,\"G87561_1x_BD10_01_26588\",\"cranberry almond bar\",1892,\"Fruits & Berries\"],[1225,\"G87566_1x_BE9_01_26598\",\"fruit and salted nut bar, top\",1833,\"Fruits & Berries\"],[1229,\"G87576_1x_BG8_01_26638\",\"strawberry\",1901,\"Fruits & Berries\"],[1236,\"G87594_1x_RF10_01_26317\",\"flesh of conventional navel orange from whole foods la jolla\",1919,\"Fruits & Berries\"],[1245,\"G90222_1x_BE7_01_26596\",\"kiwi ripe\",1639,\"Fruits & Berries\"],[1246,\"G90223_1x_BB7_01_26560\",\"cranberry\",1896,\"Fruits & Berries\"],[1822,\"RA12_RA12_01_49065\",\"pear.A\",2506,\"Fruits & Berries\"],[1826,\"RA5_RA5_01_49053\",\"walnut.peach\",2521,\"Fruits & Berries\"],[1827,\"RA6_RA6_01_49058\",\"lemon\",2547,\"Fruits & Berries\"],[1830,\"RA9_RA9_01_49061\",\"pumpkin.blossoms.courgette.flowers\",2478,\"Fruits & Berries\"],[1832,\"RB2_RB2_01_49067\",\"pear.B\",2504,\"Fruits & Berries\"],[1849,\"RE5_RE5_01_49109\",\"blueberry, small, whole, ripe\",2512,\"Fruits & Berries\"]],\"hovertemplate\":\"color=Fruits & Berries\\u003cbr\\u003ex=%{x}\\u003cbr\\u003ey=%{y}\\u003cbr\\u003ehover_data_0=%{customdata[0]}\\u003cbr\\u003ehover_data_1=%{customdata[1]}\\u003cbr\\u003ehover_data_2=%{customdata[2]}\\u003cbr\\u003ehover_data_3=%{customdata[3]}\\u003cbr\\u003ehover_data_4=%{customdata[4]}\\u003cextra\\u003e\\u003c\\u002fextra\\u003e\",\"legendgroup\":\"Fruits & Berries\",\"marker\":{\"color\":\"#6A76FC\",\"symbol\":\"circle\"},\"mode\":\"markers\",\"name\":\"Fruits & Berries\",\"showlegend\":true,\"x\":[12.444402694702148,13.551024436950684,14.561920166015625,13.12330436706543,12.528512954711914,13.079397201538086,14.450920104980469,11.700953483581543,12.003186225891113,14.23855972290039,9.516056060791016,9.93284797668457,7.673918724060059,13.471614837646484,13.13606071472168,13.475547790527344,12.814889907836914,14.122766494750977,13.73868465423584,13.501105308532715,13.036775588989258,12.602574348449707,7.74235200881958,12.921524047851562,14.240017890930176,8.407979965209961,7.808511257171631,7.875718116760254,12.430882453918457,8.8093843460083,12.50259780883789,14.94576644897461,14.115300178527832,14.618082046508789,15.622489929199219,12.538352966308594,12.81270980834961,13.20643138885498,17.045278549194336,14.209420204162598,13.344925880432129,12.359389305114746,11.580763816833496,9.277338027954102,18.433616638183594,11.998702049255371,14.295239448547363,14.669017791748047,12.036783218383789,13.928770065307617,13.5282564163208,10.809759140014648,15.982292175292969,18.291812896728516,18.362957000732422,18.185163497924805,18.015682220458984,12.199932098388672,13.800204277038574,13.047794342041016,18.2010440826416,17.840917587280273,11.902993202209473,13.838553428649902,14.29572868347168,13.581867218017578,10.141532897949219,11.730243682861328,12.38284969329834,13.54273509979248,17.28260612487793,12.737346649169922,14.927963256835938,10.77435302734375,18.440895080566406,18.146730422973633,18.545944213867188,11.38320541381836,8.85257339477539,8.726295471191406,8.760218620300293,13.50615406036377,14.361381530761719,13.75062370300293,10.763440132141113,11.044301986694336,9.85041332244873,9.865869522094727,12.037642478942871,11.048545837402344,13.081698417663574,11.056797981262207,9.862006187438965,10.297499656677246,10.868829727172852,11.605400085449219,12.688508033752441,12.240177154541016,8.69468879699707,8.827937126159668,10.681410789489746,10.741961479187012,10.898449897766113,11.687402725219727,10.929055213928223,11.729186058044434,12.15359878540039,11.708780288696289,11.788158416748047,11.424857139587402,13.187295913696289,14.742172241210938,14.45244312286377,14.930865287780762,10.501456260681152,8.635115623474121,11.102738380432129,10.897302627563477,12.328315734863281,9.624529838562012,8.97000789642334,11.115745544433594,11.62343978881836,13.12199592590332,10.328853607177734,10.935466766357422,12.626039505004883,12.724040031433105,11.3690185546875,12.283101081848145,11.66314697265625,10.999478340148926,11.59998607635498,11.817293167114258,10.799671173095703,8.847793579101562,12.376407623291016,11.089166641235352,11.367538452148438,11.58781623840332,11.685078620910645,11.680793762207031,8.95789623260498,11.754054069519043,9.577289581298828,13.038108825683594,13.061262130737305,9.456876754760742,12.096526145935059,11.249412536621094,11.551704406738281,12.541149139404297,8.912863731384277,12.749022483825684,11.62740707397461,12.34091854095459,12.525688171386719,12.522323608398438,11.690082550048828,11.03986644744873,10.578514099121094,10.49367904663086,11.504779815673828,11.006807327270508,10.367589950561523,10.267660140991211,9.285752296447754,9.971712112426758,11.083130836486816,9.253087997436523,10.871322631835938,11.27431583404541,10.866632461547852,10.734331130981445,11.307175636291504,11.225310325622559,10.680390357971191,10.490774154663086,11.311911582946777,11.775586128234863,11.088255882263184,11.031591415405273,12.651935577392578,10.947641372680664,10.181609153747559,10.511749267578125,12.082674026489258,12.168846130371094,10.347176551818848,13.551727294921875,-5.446796894073486,-5.265618801116943,-5.433456897735596,-4.965142726898193,-5.20341682434082,-4.512609481811523],\"xaxis\":\"x\",\"y\":[8.683385848999023,10.50925064086914,9.881221771240234,9.725397109985352,10.550162315368652,10.360660552978516,9.887055397033691,10.400875091552734,11.91009521484375,9.315869331359863,5.428450107574463,5.4299702644348145,6.029428482055664,10.120677947998047,9.909832954406738,9.525479316711426,10.550103187561035,9.92632007598877,9.257072448730469,9.270263671875,10.47860336303711,10.452343940734863,5.91009521484375,10.788599014282227,9.390603065490723,5.483907222747803,5.999088764190674,6.011865139007568,10.200961112976074,5.155337333679199,11.433130264282227,7.411641597747803,8.534636497497559,8.959192276000977,6.526215553283691,10.801148414611816,2.6063053607940674,9.029244422912598,7.613243579864502,7.633859157562256,8.95984935760498,11.541605949401855,11.051206588745117,8.641688346862793,6.440975666046143,11.815994262695312,11.149565696716309,10.375330924987793,11.2603178024292,11.013978004455566,3.2837178707122803,9.172032356262207,1.2764784097671509,7.359338760375977,6.116026401519775,7.932538986206055,7.976594924926758,8.283574104309082,10.258482933044434,3.5324020385742188,8.2612886428833,7.741700649261475,10.361837387084961,11.36652660369873,11.820051193237305,11.620755195617676,10.455429077148438,8.186923027038574,9.405326843261719,9.217905044555664,7.651613712310791,10.846711158752441,8.796231269836426,8.179776191711426,8.223313331604004,7.496009826660156,7.965903282165527,4.996501445770264,10.505890846252441,10.597599029541016,10.492976188659668,8.348260879516602,8.066329002380371,10.003087997436523,9.633530616760254,8.866483688354492,10.29611587524414,10.460829734802246,10.618731498718262,8.625224113464355,9.6466703414917,9.90285873413086,7.869546890258789,10.213258743286133,10.065228462219238,8.385899543762207,11.395075798034668,5.218692302703857,9.173637390136719,9.25003433227539,12.214007377624512,12.121147155761719,12.27934741973877,9.993667602539062,12.010169982910156,10.904847145080566,11.889189720153809,11.85601806640625,11.588356018066406,11.361283302307129,9.207011222839355,6.1135172843933105,6.234475612640381,6.085478782653809,10.16770076751709,10.350467681884766,11.299453735351562,11.814470291137695,6.4492340087890625,8.766275405883789,9.311969757080078,5.841490268707275,5.685911655426025,6.600754261016846,7.9987688064575195,0.3667772114276886,0.4626998007297516,0.3276481628417969,0.37723973393440247,5.762929916381836,9.559600830078125,5.843029975891113,7.047240734100342,7.367950916290283,6.806065082550049,4.147414207458496,8.348913192749023,10.61864185333252,10.814454078674316,10.783740997314453,9.685790061950684,9.949014663696289,4.316816329956055,10.189784049987793,3.4204461574554443,10.420106887817383,9.881551742553711,4.026154041290283,7.624240875244141,7.964887619018555,7.678834915161133,7.244070529937744,6.335532188415527,6.181481838226318,6.802089691162109,7.553267002105713,7.69389533996582,6.710410118103027,7.387256145477295,7.890122890472412,12.117533683776855,12.038826942443848,10.981582641601562,10.851717948913574,11.957650184631348,11.975324630737305,6.358932971954346,6.200564861297607,10.357735633850098,7.047316074371338,10.645084381103516,11.000606536865234,11.042254447937012,10.082457542419434,11.49521255493164,11.356331825256348,10.851184844970703,11.961380004882812,10.153189659118652,10.527583122253418,8.497723579406738,11.569146156311035,9.412322044372559,10.832342147827148,5.688563823699951,5.874147415161133,7.202108860015869,9.920348167419434,3.248906373977661,8.583398818969727,8.304325103759766,8.052722930908203,8.447343826293945,7.6247944831848145,8.336713790893555,8.555813789367676],\"yaxis\":\"y\",\"type\":\"scattergl\"},{\"customdata\":[[8,\"72507_1x_BH9_01_17503\",\"dulse, organic\",1995,\"Fermented & Pickled\"],[60,\"74058_1x_BF2_01_21383\",\"california kimchi brine\",2231,\"Fermented & Pickled\"],[61,\"74059_1x_BG2_01_20767\",\"silly dilly kraut brine\",1838,\"Fermented & Pickled\"],[159,\"G72477_1x_BF2_01_19535\",\"uncooked tempeh\",2240,\"Fermented & Pickled\"],[220,\"G72748_10x_BE4_01_17837\",\"red miso paste, vons\",2227,\"Fermented & Pickled\"],[290,\"G73467_5x_RD6_01_19508\",\"tempeh\",2059,\"Fermented & Pickled\"],[351,\"G73938_5x_RE2_01_19519\",\"mixed pickled veggies\",1105,\"Fermented & Pickled\"],[648,\"G79173_5x_RD3_01_19505\",\"raw lentil tempeh\",2135,\"Fermented & Pickled\"],[792,\"G79668_5x_RE8_01_19527\",\"white miso\",2063,\"Fermented & Pickled\"],[793,\"G79669_1x_BF8_01_19544\",\"korean miso\",2196,\"Fermented & Pickled\"],[805,\"G79696_5x_RE12_01_19531\",\"miso, light yellow\",2168,\"Fermented & Pickled\"],[811,\"G79706_5x_RB12_01_19484\",\"kimchi\",1799,\"Fermented & Pickled\"],[812,\"G79708_5x_RC11_01_19499\",\"spicy pickled vegetables, jicama\",1944,\"Fermented & Pickled\"],[820,\"G79730_5x_10ul_RG7_01_19561\",\"Organic Traditional Red Miso - Miso Master Organic - miso paste (very brown)\",2127,\"Fermented & Pickled\"]],\"hovertemplate\":\"color=Fermented & Pickled\\u003cbr\\u003ex=%{x}\\u003cbr\\u003ey=%{y}\\u003cbr\\u003ehover_data_0=%{customdata[0]}\\u003cbr\\u003ehover_data_1=%{customdata[1]}\\u003cbr\\u003ehover_data_2=%{customdata[2]}\\u003cbr\\u003ehover_data_3=%{customdata[3]}\\u003cbr\\u003ehover_data_4=%{customdata[4]}\\u003cextra\\u003e\\u003c\\u002fextra\\u003e\",\"legendgroup\":\"Fermented & Pickled\",\"marker\":{\"color\":\"#FED4C4\",\"symbol\":\"circle\"},\"mode\":\"markers\",\"name\":\"Fermented & Pickled\",\"showlegend\":true,\"x\":[14.145259857177734,12.662572860717773,10.175878524780273,12.52114200592041,11.386516571044922,11.871752738952637,11.247787475585938,14.20606803894043,11.184785842895508,11.758544921875,11.484210968017578,10.486010551452637,10.619185447692871,11.220720291137695],\"xaxis\":\"x\",\"y\":[6.465315818786621,5.399005889892578,3.992732286453247,2.4590280055999756,1.932151436805725,4.540266990661621,5.656862735748291,7.4918646812438965,2.1814730167388916,2.210736036300659,2.020508050918579,3.60390043258667,3.3206887245178223,1.9176768064498901],\"yaxis\":\"y\",\"type\":\"scattergl\"},{\"customdata\":[[16,\"72671_1x_BD12_01_17439\",\"Simple truth organic basil leaves\",2313,\"Herbs & Spices\"],[40,\"73981_1x_BA10_01_17393\",\"rosemary\",2214,\"Herbs & Spices\"],[68,\"75069_5x_RG10_01_17491\",\"cilantro\",1811,\"Herbs & Spices\"],[95,\"78810_1x_BF12_01_17484\",\"Garden cilantro (from seed)\",2175,\"Herbs & Spices\"],[160,\"G72478_1x_BF6_01_17324\",\"raw ginger\",2362,\"Herbs & Spices\"],[173,\"G72513_1x_10ul_BC8_01_20285\",\"cardamom\",2237,\"Herbs & Spices\"],[174,\"G72514_10x_RC9_01_20166\",\"turmeric, ground\",1640,\"Herbs & Spices\"],[193,\"G72670_5x_RD5_01_20176\",\"Japanese seven spice\",2246,\"Herbs & Spices\"],[223,\"G72753_p1_h3_GD5_01_21939\",\"oregano, fresh, garden\",1489,\"Herbs & Spices\"],[257,\"G72806_1x_RH3_01_20360\",\"dried parsley\",2127,\"Herbs & Spices\"],[306,\"G73523_1x_RD7_01_18544\",\"ginger kombucha - origonic tonic\",2186,\"Herbs & Spices\"],[355,\"G73946_1x_BG12_01_17342\",\"thyme\",2389,\"Herbs & Spices\"],[357,\"G73949_1x_BC12_01_17290\",\"chive blossom\",2094,\"Herbs & Spices\"],[359,\"G73954_1x_BC8_01_17287\",\"parsley\",1930,\"Herbs & Spices\"],[367,\"G73986_5x_10ul_RA2_01_20208\",\"Herb salt, large amount\",2121,\"Herbs & Spices\"],[370,\"G73998_1x_BH2_01_20239\",\"Herb salt, smaller amount\",2019,\"Herbs & Spices\"],[401,\"G74086_1x_RD11_01_18548\",\"vanilla extract\",2355,\"Herbs & Spices\"],[441,\"G75172_1x_BH11_01_17354\",\"greek basil\",2215,\"Herbs & Spices\"],[443,\"G75174_1x_BD11_01_17302\",\"green fennel\",1946,\"Herbs & Spices\"],[444,\"G75177_1x_BF11_01_17328\",\"purple basil\",2037,\"Herbs & Spices\"],[447,\"G75180_1x_BA2_01_17272\",\"basil\",1918,\"Herbs & Spices\"],[451,\"G75191_1x_BE2_01_17307\",\"african blue basil\",2138,\"Herbs & Spices\"],[453,\"G75196_1x_BE10_01_17314\",\"dill flowers\",2202,\"Herbs & Spices\"],[574,\"G78805_BB12_01_18935\",\"cinnamon egg\",2015,\"Herbs & Spices\"],[628,\"G78971_1x_BH8_01_20273\",\"Ground Smoky Paprika\",2388,\"Herbs & Spices\"],[629,\"G78972_2x_RB10_01_19120\",\"Ground Saigon Cinnamon\",2128,\"Herbs & Spices\"],[715,\"G79306_1x_RF6_01_18872\",\"cilantro\",2103,\"Herbs & Spices\"],[743,\"G79488_1x_RH4_01_20361\",\"dill\",2040,\"Herbs & Spices\"],[827,\"G83176_5x_RC4_01_21430\",\"mazuri primate L\\u002fS biscuit cinnamon 49\",1992,\"Herbs & Spices\"],[829,\"G83187_1x_BB3_01_20139\",\"cardamom\",2141,\"Herbs & Spices\"],[870,\"G83316_5x_RF10_01_21492\",\"coconut vanilla panna cotta\",2191,\"Herbs & Spices\"],[886,\"G83347_1x_BE9_01_21892\",\"Ele Care Jr. Vanilla\",1532,\"Herbs & Spices\"],[891,\"G83357_1x_BG10_01_21906\",\"Nutren Junior Fiber, vanilla flavor, complete nutrition with fiber 2017-11-17\",1372,\"Herbs & Spices\"],[893,\"G83359_1x_BA11_01_21544\",\"neocate Jr. Vanilla\",1399,\"Herbs & Spices\"],[992,\"G86794_1x_RH2_01_23390\",\"raw ginger with peel stored at room temp\",2363,\"Herbs & Spices\"],[1007,\"G86823_1x_RF7_01_23365\",\"Chilli (Spice Mix)\",1786,\"Herbs & Spices\"],[1008,\"G86824_1x_RF6_01_23364\",\"Mediterranean Oregano Leaves\",2053,\"Herbs & Spices\"],[1009,\"G86827_1x_RF5_01_23362\",\"Smoked Paprika\",1983,\"Herbs & Spices\"],[1049,\"G86901_1x_BB2_01_23133\",\"cinnamon Raisin Bagel (Monday Meeting)\",1932,\"Herbs & Spices\"],[1067,\"G86932_1x_RD9_01_23336\",\"thai basil, red curry\",1365,\"Herbs & Spices\"],[1072,\"G86940_1x_BA6_01_26369\",\"coffe mate french vanilla, Nestle\",1827,\"Herbs & Spices\"],[1075,\"G86950_1x_RF9_01_26448\",\"vanilla oak BDK brand kombucha (sampled 1\\u002f23 frozen 1\\u002f25 8:30AM)\",1486,\"Herbs & Spices\"],[1076,\"G86952_1x_BA8_01_26372\",\"vanilla almond pressed juicery\",1634,\"Herbs & Spices\"],[1090,\"G86978_1x_RH3_01_26469\",\"vanilla almond-pressed juicery\",2148,\"Herbs & Spices\"],[1096,\"G87310_RB11_01_26092\",\"ginger root\",1951,\"Herbs & Spices\"],[1104,\"G87333_RA11_01_26077\",\"ginger root\",2043,\"Herbs & Spices\"],[1120,\"G87380_RA4_01_26069\",\"cinnamon dried bark\",1613,\"Herbs & Spices\"],[1121,\"G87381_RA5_01_26070\",\"dried rosemary\",2158,\"Herbs & Spices\"],[1122,\"G87382_rerun_BG4_01_26215\",\"thyme\",2277,\"Herbs & Spices\"],[1150,\"G87441_1x_RC9_01_26021\",\"saffron Aquila\",1455,\"Herbs & Spices\"],[1151,\"G87442_5x_RB6_01_26000\",\"saffron commercial\",1494,\"Herbs & Spices\"],[1348,\"G95924_GC1_01_49144\",\"rosemary\",2489,\"Herbs & Spices\"],[1349,\"G95925_GC2_01_49145\",\"rosemary\",2462,\"Herbs & Spices\"],[1350,\"G95926_GC3_01_49146\",\"rosemary\",2470,\"Herbs & Spices\"],[1351,\"G95927_GC4_01_49147\",\"rosemary\",2432,\"Herbs & Spices\"],[1825,\"RA4_RA4_01_49052\",\"parsley\",2483,\"Herbs & Spices\"],[1828,\"RA7_RA7_01_49059\",\"rosemary\",2485,\"Herbs & Spices\"],[1839,\"RC5_RC5_01_49082\",\"oregano\",2512,\"Herbs & Spices\"],[1842,\"RD10_RD10_01_49102\",\"older oregano leaf, part\",2463,\"Herbs & Spices\"],[1843,\"RD3_RD3_01_49095\",\"basil\",2495,\"Herbs & Spices\"]],\"hovertemplate\":\"color=Herbs & Spices\\u003cbr\\u003ex=%{x}\\u003cbr\\u003ey=%{y}\\u003cbr\\u003ehover_data_0=%{customdata[0]}\\u003cbr\\u003ehover_data_1=%{customdata[1]}\\u003cbr\\u003ehover_data_2=%{customdata[2]}\\u003cbr\\u003ehover_data_3=%{customdata[3]}\\u003cbr\\u003ehover_data_4=%{customdata[4]}\\u003cextra\\u003e\\u003c\\u002fextra\\u003e\",\"legendgroup\":\"Herbs & Spices\",\"marker\":{\"color\":\"#FE00CE\",\"symbol\":\"circle\"},\"mode\":\"markers\",\"name\":\"Herbs & Spices\",\"showlegend\":true,\"x\":[12.769359588623047,12.072458267211914,14.75500774383545,12.768889427185059,9.824962615966797,12.815105438232422,10.584063529968262,10.617753028869629,8.521552085876465,12.600748062133789,18.42317771911621,13.839680671691895,14.253670692443848,14.248017311096191,11.724129676818848,11.25648307800293,12.347786903381348,14.363470077514648,14.825560569763184,13.7493257522583,14.18199348449707,14.101483345031738,13.39616870880127,14.609360694885254,9.688691139221191,11.519349098205566,13.681073188781738,12.150728225708008,13.633288383483887,12.99984359741211,15.142768859863281,13.163104057312012,11.090742111206055,11.950618743896484,9.918835639953613,10.585478782653809,11.833028793334961,11.036332130432129,9.224003791809082,8.960224151611328,13.497529029846191,8.867432594299316,8.947187423706055,9.158738136291504,10.591998100280762,10.116642951965332,11.716133117675781,12.264251708984375,15.004161834716797,11.656268119812012,11.194028854370117,-4.9825849533081055,-5.047514915466309,-4.896590709686279,-4.868485927581787,-4.992355823516846,-5.226263046264648,-5.3689656257629395,-4.627767086029053,-5.112823963165283],\"xaxis\":\"x\",\"y\":[10.975805282592773,11.593534469604492,8.528035163879395,11.250505447387695,9.437844276428223,11.715935707092285,7.819976806640625,9.448034286499023,12.98652172088623,10.278721809387207,8.32516098022461,11.783935546875,10.49013614654541,11.378244400024414,9.859349250793457,9.228506088256836,10.888958930969238,11.75651741027832,10.92464828491211,11.480511665344238,10.922966003417969,11.775497436523438,11.155210494995117,4.197441577911377,2.5982754230499268,10.302766799926758,10.332993507385254,10.235245704650879,7.913665771484375,11.721303939819336,4.634689807891846,7.268733024597168,0.4887012839317322,5.800516128540039,9.514032363891602,4.734999656677246,10.211297035217285,4.479433059692383,4.801532745361328,4.105993270874023,8.137184143066406,6.4164299964904785,6.516590118408203,7.450004577636719,8.870304107666016,9.433916091918945,6.306268692016602,11.321440696716309,8.135269165039062,6.789584636688232,6.7343926429748535,7.83872127532959,7.902480602264404,7.543386459350586,7.615356922149658,7.8876142501831055,8.223345756530762,8.0971097946167,8.44056224822998,8.226349830627441],\"yaxis\":\"y\",\"type\":\"scattergl\"},{\"customdata\":[[20,\"72717_5x_RG9_01_17512\",\"matcha green tea\",2212,\"Beverages\"],[29,\"73497_1x_BH3_01_20777\",\"tea black, green, sugar\",1506,\"Beverages\"],[30,\"73502_1x_BH5_01_20779\",\"everberry probiotic smoothie\",1710,\"Beverages\"],[62,\"74061_1x_BF7_01_20764\",\"Unoaked sake\",1754,\"Beverages\"],[63,\"74062_1x_BE7_01_20755\",\"Oaked sake\",1716,\"Beverages\"],[64,\"74089_1x_rerun_BB7_01_21459\",\"AA Kenyan coffee, pour-over\",1743,\"Beverages\"],[65,\"74090_1x_rerun_BA7_01_21395\",\"Copper Moon Kenyan coffee, pour-over\",1801,\"Beverages\"],[66,\"74091_1x_BG7_01_20773\",\"Brazilian coffee, pour-over\",1851,\"Beverages\"],[81,\"75220_1x_BF8_01_20765\",\"Humm brand kombucha pomegranate lemonade flavor\",1456,\"Beverages\"],[82,\"75226_1x_BF5_01_20762\",\"probiotic super smoothie\",1770,\"Beverages\"],[83,\"75235_1x_BF4_01_20761\",\"mocha nut latte\",1558,\"Beverages\"],[88,\"75262_1x_rerun_BA6_01_21393\",\"Pilsner beer\",1905,\"Beverages\"],[89,\"75733_1x_BH2_01_20776\",\"pure leaf lemon tea\",1461,\"Beverages\"],[150,\"G72464_10x_BG5_01_17922\",\"Pacifico beer\",1762,\"Beverages\"],[255,\"G72797_BG2_01_19034\",\"home brew beer biscuit\",2301,\"Beverages\"],[263,\"G72824_1x_RE1_01_18552\",\"home brewed beer 2, likely orange creamsicale\",2183,\"Beverages\"],[264,\"G72827_1x_RF1_01_18566\",\"home brewed beer\",2251,\"Beverages\"],[265,\"G72833_1x_RA2_01_18500\",\"Ballast Point Fathom beer-7% ABV\",2251,\"Beverages\"],[266,\"G72835_1x_RE2_01_18553\",\"red wine\",2170,\"Beverages\"],[293,\"G73474_1x_10ul_RD7_01_19819\",\"acai blueberry pomegranate vitamin water\",1879,\"Beverages\"],[294,\"G73475_1x_10ul_RD8_01_19820\",\"organic carrot juice\",2271,\"Beverages\"],[295,\"G73476_1x_10ul_RE2_01_19829\",\"beet apple lemon ginger juice\",2299,\"Beverages\"],[296,\"G73478_1x_10ul_RH7_01_19918\",\"Minute Maid Light Lemonade\",2330,\"Beverages\"],[300,\"G73505_1x_10ul_RB4_01_18621\",\"seattle's best coffee\",2218,\"Beverages\"],[366,\"G73985_1x_10ul_RC5_01_18610\",\"alpirsbacher beer (5.2% alc\\u002fvol)\",2209,\"Beverages\"],[372,\"G74001_1x_RH10_01_18602\",\"San Miguel beer (5.4% alc\\u002fvol)\",2208,\"Beverages\"],[387,\"G74041_1x_RE4_01_18555\",\"pizza port beer\",2235,\"Beverages\"],[388,\"G74050_1x_RG3_01_18581\",\"Koshihikari echigo beer\",2240,\"Beverages\"],[390,\"G74063_1x_RF4_01_18569\",\"Chateau Ste Michelle red wine\",2070,\"Beverages\"],[392,\"G74067_1x_15ul_RB9_01_20708\",\"water, filtered from fridge\",1631,\"Beverages\"],[393,\"G74068_1x_10ul_RC7_01_18530\",\"red wine, cabernet sauvignon\",2224,\"Beverages\"],[394,\"G74069_1x_RE7_01_18558\",\"red wine, zinfandel\",2159,\"Beverages\"],[400,\"G74084_1x_RG6_01_18583\",\"coffee liqueur\",2228,\"Beverages\"],[402,\"G74087_1x_10ul_RH8_01_19919\",\"lemonade\",2112,\"Beverages\"],[404,\"G74095_1x_10ul_RC4_01_19803\",\"carrot tumeric juice\",2078,\"Beverages\"],[408,\"G74111_1x_RE8_01_18559\",\"Good Belly Probiotic Juice\",2167,\"Beverages\"],[409,\"G74112_1x_10ul_RC9_01_19809\",\"trader joe's carrot juice\",2195,\"Beverages\"],[411,\"G74118_1x_10ul_RE7_01_19835\",\"mint infused water\",1611,\"Beverages\"],[412,\"G74121_1x_RF9_01_18574\",\"warsteiner beer\",2248,\"Beverages\"],[413,\"G74122_1x_10ul_RH5_01_19915\",\"tap water\",1887,\"Beverages\"],[466,\"G75245_1x_RA10_01_18499\",\"wine 4 coach insignia; cabernet sauvignon\",2133,\"Beverages\"],[467,\"G75247_1x_RG9_01_18586\",\"Empty-port wine; ramos pinto\",2235,\"Beverages\"],[471,\"G75252_1x_RH9_01_18601\",\"Kinsella estates wine 3 a from bottle; b from glass, undrunk; cabernet sauvignon 2012\",2231,\"Beverages\"],[475,\"G75257_1x_RB10_01_18618\",\"Palmaz vineyards Wine 2.; cabernet sauvignon\",2118,\"Beverages\"],[518,\"G75676_1x_10ul_RA9_01_19777\",\"orange juice\",2320,\"Beverages\"],[539,\"G75727_1x_10ul_RC9_01_18535\",\"champagne\",2211,\"Beverages\"],[540,\"G75728_1x_10ul_RA6_01_18504\",\"pickled watermelon  juice\",2148,\"Beverages\"],[541,\"G75741_1x_10ul_RH6_01_19916\",\"Beet Juice- cold pressed (carrot, apple, ginger, lemon too)\",2270,\"Beverages\"],[544,\"G75747_1x_10ul_RB5_01_19790\",\"juice\",2195,\"Beverages\"],[548,\"G75755_1x_10ul_RG3_01_19893\",\"water bites for feeder insects with calcium\",1847,\"Beverages\"],[552,\"G75763_1x_RB9_01_18617\",\"berliner weisse beer\",2267,\"Beverages\"],[554,\"G75765_1x_RH7_01_18599\",\"warsteiner beer\",2270,\"Beverages\"],[556,\"G75772_1x_RF10_01_18575\",\"coconut water (harmless harvest w\\u002f probiotics)\",1963,\"Beverages\"],[570,\"G75860_1x_RH7_01_26475\",\"Green Tea, iced, Tazo, organic\",1964,\"Beverages\"],[572,\"G75862_1x_RH6_01_26472\",\"Coffee, iced, unsweetened, Starbucks\",2152,\"Beverages\"],[588,\"G78871_5x_RA8_01_20127\",\"Pumpkin beer spice mix\",2032,\"Beverages\"],[595,\"G78885_5x_BD12_01_19999\",\"beer mash\",2300,\"Beverages\"],[621,\"G78954_p4_e4_GA1_01_21651\",\"ground illy coffee\",1235,\"Beverages\"],[622,\"G78955_5x_RB4_01_19475\",\"illy coffee bean\",1782,\"Beverages\"],[644,\"G79167_2x_RG4_01_19206\",\"green smoothie fuel cafe\",1942,\"Beverages\"],[660,\"G79202_1x_RF9_01_18876\",\"AA Kenyan coffee beans raw\",2349,\"Beverages\"],[661,\"G79204_1x_RB9_01_18806\",\"Brazilian coffee beans raw\",1697,\"Beverages\"],[796,\"G79677_5x_RE11_01_19530\",\"13 salami fennel pollen wine\",1870,\"Beverages\"],[797,\"G79679_5x_RB11_01_19483\",\"12 salami pepper garlic wine\",1649,\"Beverages\"],[833,\"G83193_5x_RC12_01_20169\",\"earl grey tea\",2035,\"Beverages\"],[885,\"G83346_1x_BD9_01_21887\",\"orange juice\",1455,\"Beverages\"],[899,\"G83366_1x_BA12_01_21545\",\"Lorikeet exhibit kitchen WATER, 2017-10-19; old\",1206,\"Beverages\"],[923,\"G83418_1x_RF11_01_26450\",\"Sparking Mixed Berry Natural Water\",1303,\"Beverages\"],[924,\"G83421_1x_10ul_RC5_01_26521\",\"juice from Fernie\\u002f Arpa\",1813,\"Beverages\"],[926,\"G83432_1x_RG6_01_26458\",\"Cali Creamer beer\",1948,\"Beverages\"],[927,\"G83434_1x_10ul_RC4_01_26520\",\"lavendar lemonade from native foods cafe-JG sample\",1529,\"Beverages\"],[928,\"G83435_1x_BA11_01_26375\",\"cold pressed organic apple juice\",1578,\"Beverages\"],[934,\"G83458_1x_RB5_01_21741\",\"charms blow pop gum (Extreme lemonade)\",1750,\"Beverages\"],[952,\"G86721_1x_RF5_01_21831\",\"charms blow pop outside (Extreme Lemonade)\",1852,\"Beverages\"],[965,\"G86752_10x_RF5_01_23200\",\"starfruit green tea leaves\",1809,\"Beverages\"],[967,\"G86754_10x_RF4_01_23199\",\"jasmine green tea satchet\",1537,\"Beverages\"],[973,\"G86772_10x_RF6_01_23201\",\"rose tea leaves\",1543,\"Beverages\"],[980,\"G86780_10x_RG5_01_23216\",\"kava root from townhend's tea company\",1426,\"Beverages\"],[1002,\"G86818_10x_RF2_01_23197\",\"Organic Bolivian Blend coffee\",1748,\"Beverages\"],[1005,\"G86821_10x_RF3_01_23198\",\"Lavazza Coffee (Qualita Oro)\",1637,\"Beverages\"],[1018,\"G86851_1x_RA8_01_23484\",\"apple juice\",1521,\"Beverages\"],[1019,\"G86853_1x_RA10_01_23486\",\"Unfiltered apple juice\",1689,\"Beverages\"],[1020,\"G86854_1x_RA11_01_23487\",\"Dixie Peach juice\",1716,\"Beverages\"],[1025,\"G86865_1x_RB9_01_23500\",\"lemon juice\",1810,\"Beverages\"],[1056,\"G86914_1x_RH5_01_26344\",\"raw\\u002ffresh sage purchase 1\\u002f17\\u002f18 left out at rt in water until sampling 1\\u002f23 pm and frozen 1\\u002f25 8:30AM\",2055,\"Beverages\"],[1071,\"G86938_1x_RG10_01_26463\",\"ethiopia Guju light coffee; from CMI workshop; sampled warm\\u002fhot on 2018-01-17 15:30\",1909,\"Beverages\"],[1073,\"G86943_1x_RF10_01_26449\",\"love flavor; brew dr. kombucha; townhends tea co.\",1494,\"Beverages\"],[1077,\"G86953_1x_BA7_01_26371\",\"greens 2 - pressed juice\",1586,\"Beverages\"],[1078,\"G86955_1x_BB7_01_26386\",\"citrus 2-pressed juice\",1733,\"Beverages\"],[1079,\"G86956_1x_RC4_01_23510\",\"apple juice\",1448,\"Beverages\"],[1080,\"G86957_1x_RC5_01_23511\",\"the power of 7 juice blend\",1372,\"Beverages\"],[1084,\"G86964_1x_RC12_01_23520\",\"Schweppes Tonic Water\",1233,\"Beverages\"],[1088,\"G86974_1x_BB4_01_26382\",\"greens 3-pressed juice\",1703,\"Beverages\"],[1089,\"G86977_1x_BA5_01_26368\",\"greens 2 - pressed juice\",1608,\"Beverages\"],[1092,\"G86980_1x_BD7_01_26415\",\"greens 3-pressed juice\",1143,\"Beverages\"],[1093,\"G86981_1x_RG3_01_26455\",\"greens 3-pressed juice\",1858,\"Beverages\"],[1094,\"G86983_1x_BA3_01_26364\",\"roots 2-pressed juice\",1723,\"Beverages\"],[1173,\"G87480_1x_RD12_01_26284\",\"Kit Kat (Green Tea)\",1656,\"Beverages\"],[1187,\"G87509_1x_10ul_RC6_01_26522\",\"Squirt, soda\",1408,\"Beverages\"],[1189,\"G87515_1x_BB8_01_26387\",\"octoberfest home brewed beer AS sample\",1964,\"Beverages\"],[1190,\"G87516_1x_RH8_01_26476\",\"pumpkin beer home brew AS sample\",2146,\"Beverages\"],[1191,\"G87518_1x_RF8_01_26447\",\"Swafford mystery beer 1\",1961,\"Beverages\"],[1192,\"G87519_1x_RG8_01_26461\",\"Swafford mystery beer 2\",2007,\"Beverages\"],[1194,\"G87523_1x_RA3_01_26222\",\"acai smoothie\",1839,\"Beverages\"],[1243,\"G90210_1x_BA12_01_26376\",\"3 in 1 coffee from thailand (instant coffee)\",1962,\"Beverages\"],[1248,\"G90285_1x_BA9_01_31155\",\"Salada Matcha tea Brewed For 1min\",1180,\"Beverages\"],[1249,\"G90286_1x_RH6_01_31136\",\"Prince of Peace Oolong tea Brewed For 30sec\",1069,\"Beverages\"],[1250,\"G90287_1x_RC12_01_31079\",\"Prince of Peace Oolong tea Brewed For 1min\",1143,\"Beverages\"],[1251,\"G90288_1x_BC2_01_31173\",\"Salada Matcha tea Brewed For 30sec\",1292,\"Beverages\"],[1252,\"G90289_1x_BA3_01_31149\",\"Salada Matcha tea Brewed For 30sec\",1169,\"Beverages\"],[1253,\"G90290_1x_BA2_01_31148\",\"Salada Matcha tea Brewed For 1min\",1227,\"Beverages\"],[1254,\"G90292_1x_BH4_01_31224\",\"Salada Matcha tea Brewed For 4hours\",1487,\"Beverages\"],[1255,\"G90366_1x_RB4_01_31059\",\"Prince of Peace Oolong tea Brewed For 4min\",1155,\"Beverages\"],[1256,\"G90367_1x_BE6_01_31199\",\"Prince of Peace Oolong tea Brewed For 4hours\",1316,\"Beverages\"],[1257,\"G90368_1x_RE11_01_31104\",\"Prince of Peace Oolong tea Brewed For 1min\",1132,\"Beverages\"],[1258,\"G90369_1x_RG9_01_31127\",\"Prince of Peace Oolong tea Brewed For 30sec\",1110,\"Beverages\"],[1259,\"G90370_1x_BD3_01_31186\",\"Prince of Peace Oolong tea Brewed For 4hours\",1252,\"Beverages\"],[1260,\"G90371_1x_RG8_01_31126\",\"Prince of Peace Oolong tea Brewed For 4min\",1133,\"Beverages\"],[1261,\"G95760_5x_BC5_01_32058\",\"NUMI White rose tea solid sample\",2048,\"Beverages\"],[1262,\"G95761_5x_BB6_01_32043\",\"NUMI White rose tea solid sample\",2148,\"Beverages\"],[1263,\"G95762_5x_BB11_01_32050\",\"NUMI White rose tea solid sample\",2184,\"Beverages\"],[1264,\"G95763_5x_BC2_01_32055\",\"ALLEGRO tropical White tea solid sample\",2154,\"Beverages\"],[1265,\"G95764_5x_BC8_01_32063\",\"ALLEGRO tropical White tea solid sample\",2250,\"Beverages\"],[1266,\"G95765_5x_BD3_01_32072\",\"ALLEGRO tropical White tea solid sample\",2146,\"Beverages\"],[1267,\"G95769_5x_BC12_01_32067\",\"Numi Emperor's pu-erh tea solid sample\",2026,\"Beverages\"],[1268,\"G95770_5x_BB10_01_32049\",\"Numi Emperor's pu-erh tea solid sample\",2016,\"Beverages\"],[1269,\"G95771_5x_BC7_01_32062\",\"Numi Emperor's pu-erh tea solid sample\",2090,\"Beverages\"],[1270,\"G95772_5x_BB12_01_32051\",\"American Classic (Charleston Tea Plantation) Black Tea solid sample\",2077,\"Beverages\"],[1271,\"G95773_5x_BB5_01_32042\",\"American Classic (Charleston Tea Plantation) Black Tea solid sample\",2067,\"Beverages\"],[1272,\"G95774_5x_BB4_01_32041\",\"American Classic (Charleston Tea Plantation) Black Tea solid sample\",2012,\"Beverages\"],[1273,\"G95775_5x_BB8_01_32047\",\"ALLEGRO aged Pu'er tea solid sample\",1833,\"Beverages\"],[1274,\"G95776_5x_BC4_01_32057\",\"ALLEGRO aged Pu'er tea solid sample\",1152,\"Beverages\"],[1275,\"G95777_5x_BA3_01_32026\",\"ALLEGRO aged Pu'er tea solid sample\",2099,\"Beverages\"],[1276,\"G95778_5x_BB9_01_32048\",\"Allegro Oolong Tea solid sample\",1859,\"Beverages\"],[1277,\"G95779_5x_BA12_01_32035\",\"Allegro Oolong Tea solid sample\",1870,\"Beverages\"],[1278,\"G95780_5x_BA11_01_32034\",\"Allegro Oolong Tea solid sample\",1910,\"Beverages\"],[1279,\"G95781_5x_BC11_01_32066\",\"Charleston Tea Plantation Green Tea solid sample\",2172,\"Beverages\"],[1280,\"G95782_5x_BC10_01_32065\",\"Charleston Tea Plantation Green Tea solid sample\",2091,\"Beverages\"],[1281,\"G95783_5x_BA9_01_32032\",\"Charleston Tea Plantation Green Tea solid sample\",2197,\"Beverages\"],[1282,\"G95784_5x_BD2_01_32071\",\"Higgins & Burke english breakfast tea solid sample\",1797,\"Beverages\"],[1283,\"G95785_5x_BB3_01_32040\",\"Higgins & Burke english breakfast tea solid sample\",2016,\"Beverages\"],[1284,\"G95786_5x_BC6_01_32059\",\"Higgins & Burke english breakfast tea solid sample\",1910,\"Beverages\"],[1285,\"G95787_5x_BD4_01_32073\",\"Lipton Matcha tea solid sample\",1271,\"Beverages\"],[1286,\"G95788_5x_BA5_01_32028\",\"Lipton Matcha tea solid sample\",2051,\"Beverages\"],[1287,\"G95789_5x_BA6_01_32029\",\"Lipton Matcha tea solid sample\",2140,\"Beverages\"],[1288,\"G95790_5x_BA10_01_32033\",\"Salada Matcha tea solid sample\",2207,\"Beverages\"],[1289,\"G95791_5x_BB2_01_32039\",\"Salada Matcha tea solid sample\",2143,\"Beverages\"],[1290,\"G95792_5x_BA7_01_32030\",\"Salada Matcha tea solid sample\",2248,\"Beverages\"],[1291,\"G95793_5x_BB7_01_32044\",\"Higgins & Burke Green vert tea solid sample\",1965,\"Beverages\"],[1292,\"G95794_5x_BC9_01_32064\",\"Higgins & Burke Green vert tea solid sample\",2155,\"Beverages\"],[1293,\"G95795_5x_BA8_01_32031\",\"Higgins & Burke Green vert tea solid sample\",2117,\"Beverages\"],[1388,\"G95988_20x_RA2_01_32010\",\"Lavazzaa Roasted Ground Coffee - Oro\",1327,\"Beverages\"],[1389,\"G95989_20x_RA6_01_32014\",\"Lavazzaa Roasted Ground Coffee - Oro\",1355,\"Beverages\"],[1390,\"G95990_20x_RA9_01_32017\",\"Lavazzaa Caffe Espresso\",1337,\"Beverages\"],[1391,\"G95991_20x_BG9_01_31988\",\"Lavazzaa Caffe Espresso\",1430,\"Beverages\"],[1392,\"G95994_20x_BC11_01_31936\",\"French Vanilla Coffee\",1329,\"Beverages\"],[1393,\"G95995_20x_BD10_01_31949\",\"French Vanilla Coffee\",1542,\"Beverages\"],[1394,\"G95996_20x_BC6_01_31928\",\"Tahitian Vanilla Bean Ground Coffee\",1480,\"Beverages\"],[1395,\"G95997_20x_RA5_01_32013\",\"Tahitian Vanilla Bean Ground Coffee\",1456,\"Beverages\"],[1396,\"G95998_20x_BC10_01_31935\",\"Ground coffee\",1517,\"Beverages\"],[1397,\"G95999_20x_BD8_01_31947\",\"Ground coffee\",1637,\"Beverages\"],[1398,\"G96000_20x_BD4_01_31943\",\"Ground coffee\",1051,\"Beverages\"],[1399,\"G96001_20x_BB11_01_31922\",\"Ground coffee\",1889,\"Beverages\"],[1400,\"G96002_20x_BC7_01_31932\",\"Ground coffee\",1678,\"Beverages\"],[1401,\"G96003_20x_BF12_01_31978\",\"Ground coffee\",1901,\"Beverages\"],[1402,\"G96004_20x_BG4_01_31983\",\"Ground coffee\",1633,\"Beverages\"],[1403,\"G96005_20x_BC9_01_31934\",\"Ground coffee\",1769,\"Beverages\"],[1404,\"G96006_20x_BD6_01_31945\",\"Ground coffee\",1698,\"Beverages\"],[1405,\"G96007_20x_BC4_01_31926\",\"Ground coffee\",1632,\"Beverages\"],[1406,\"G96008_20x_BD9_01_31948\",\"Ground coffee\",1680,\"Beverages\"],[1407,\"G96009_20x_BH8_01_32002\",\"Ground coffee\",1600,\"Beverages\"],[1408,\"G96010_20x_BH6_01_32000\",\"Ground coffee\",1425,\"Beverages\"],[1409,\"G96011_20x_BD2_01_31941\",\"Ground coffee\",1252,\"Beverages\"],[1410,\"G96012_20x_BG10_01_31989\",\"Ground coffee\",1757,\"Beverages\"],[1411,\"G96013_20x_BH3_01_31997\",\"Ground coffee\",1638,\"Beverages\"],[1412,\"G96014_20x_BH11_01_32005\",\"Ground coffee\",1702,\"Beverages\"],[1413,\"G96015_20x_BE9_01_31962\",\"Ground coffee\",1491,\"Beverages\"],[1414,\"G96016_20x_BF7_01_31973\",\"Ground coffee\",1754,\"Beverages\"],[1415,\"G96017_20x_BF5_01_31971\",\"Ground coffee\",1785,\"Beverages\"],[1416,\"G96018_20x_BC5_01_31927\",\"Ground coffee\",1192,\"Beverages\"],[1417,\"G96019_20x_BH12_01_32006\",\"Ground coffee\",1084,\"Beverages\"],[1418,\"G96020_20x_BC12_01_31937\",\"Ground coffee\",1626,\"Beverages\"],[1419,\"G96021_20x_BF6_01_31972\",\"Ground coffee\",1560,\"Beverages\"],[1420,\"G96022_20x_BF3_01_31969\",\"Ground coffee\",1381,\"Beverages\"],[1421,\"G96023_20x_BH10_01_32004\",\"Ground coffee\",1368,\"Beverages\"],[1422,\"G96048_RE7_01_31829\",\"Lavazzaa Roasted Ground Coffee - Oro\",1880,\"Beverages\"],[1423,\"G96049_1x_RH5_01_31888\",\"Lavazzaa Roasted Ground Coffee - Oro\",1943,\"Beverages\"],[1572,\"G96275_20x_BH7_01_32001\",\"Ground coffee\",1241,\"Beverages\"],[1573,\"G96276_20x_BF8_01_31974\",\"Ground coffee\",1411,\"Beverages\"],[1574,\"G96295_20x_BD7_01_31946\",\"Ground coffee\",1526,\"Beverages\"],[1575,\"G96296_20x_BF4_01_31970\",\"Ground coffee\",1534,\"Beverages\"],[1576,\"G96297_20x_BG11_01_31990\",\"Ground coffee\",1689,\"Beverages\"],[1577,\"G96298_20x_BE11_01_31964\",\"Ground coffee\",1615,\"Beverages\"],[1578,\"G96300_20x_BF11_01_31977\",\"Ground coffee\",1707,\"Beverages\"],[1579,\"G96301_20x_BE8_01_31961\",\"Ground coffee\",1531,\"Beverages\"],[1580,\"G96302_20x_BG7_01_31986\",\"Ground coffee\",1613,\"Beverages\"],[1581,\"G96303_20x_BE5_01_31958\",\"Ground coffee\",1685,\"Beverages\"],[1582,\"G96304_20x_BF10_01_31976\",\"Ground coffee\",1711,\"Beverages\"],[1583,\"G96305_20x_BG2_01_31981\",\"Ground coffee\",1651,\"Beverages\"],[1584,\"G96306_20x_BF9_01_31975\",\"Ground coffee\",1597,\"Beverages\"],[1585,\"G96307_20x_BE7_01_31960\",\"Ground coffee\",1586,\"Beverages\"],[1586,\"G96338_5x_BA2_01_32025\",\"Prince of Peace Oolong Tea solid sample\",1974,\"Beverages\"],[1587,\"G96339_5x_BA4_01_32027\",\"Prince of Peace Oolong Tea solid sample\",1857,\"Beverages\"],[1588,\"G96340_5x_BC3_01_32056\",\"Prince of Peace Oolong Tea solid sample\",1693,\"Beverages\"],[1641,\"G96419_RD8_01_31812\",\"Tahitian Vanilla Bean Ground Coffee\",1871,\"Beverages\"],[1642,\"G96420_RB12_01_31782\",\"Tahitian Vanilla Bean Ground Coffee\",2174,\"Beverages\"],[1643,\"G96421_RD6_01_31810\",\"French Vanilla Coffee\",1662,\"Beverages\"],[1644,\"G96422_RE2_01_31822\",\"French Vanilla Coffee\",1709,\"Beverages\"],[1645,\"G96425_RF12_01_31861\",\"Lavazzaa Caffe Espresso\",1951,\"Beverages\"],[1646,\"G96426_RF7_01_31852\",\"Lavazzaa Caffe Espresso\",1909,\"Beverages\"],[1647,\"G96429_RC11_01_31799\",\"Ground coffee\",1446,\"Beverages\"],[1648,\"G96430_RF8_01_31853\",\"Ground coffee\",1856,\"Beverages\"],[1649,\"G96431_RG7_01_31872\",\"Ground coffee\",1893,\"Beverages\"],[1650,\"G96432_RC5_01_31791\",\"Ground coffee\",1909,\"Beverages\"],[1651,\"G96433_RE6_01_31828\",\"Ground coffee\",1928,\"Beverages\"],[1652,\"G96434_RD12_01_31818\",\"Ground coffee\",1987,\"Beverages\"],[1653,\"G96435_RF9_01_31856\",\"Ground coffee\",1960,\"Beverages\"],[1654,\"G96436_RG4_01_31867\",\"Ground coffee\",1989,\"Beverages\"],[1655,\"G96437_RE11_01_31835\",\"Ground coffee\",1972,\"Beverages\"],[1656,\"G96438_RG1_01_31864\",\"Ground coffee\",2009,\"Beverages\"],[1657,\"G96439_RD5_01_31809\",\"Ground coffee\",1917,\"Beverages\"],[1658,\"G96440_1x_RH4_01_31885\",\"Ground coffee\",1994,\"Beverages\"],[1659,\"G96441_RD11_01_31817\",\"Ground coffee\",1841,\"Beverages\"],[1660,\"G96442_RC6_01_31792\",\"Ground coffee\",1921,\"Beverages\"],[1661,\"G96443_1x_RH11_01_31896\",\"Ground coffee\",2105,\"Beverages\"],[1662,\"G96445_1x_RH10_01_31895\",\"Ground coffee\",1992,\"Beverages\"],[1663,\"G96446_RE10_01_31834\",\"Ground coffee\",1881,\"Beverages\"],[1664,\"G96447_RD4_01_31806\",\"Ground coffee\",1914,\"Beverages\"],[1665,\"G96448_RF1_01_31840\",\"Ground coffee\",1933,\"Beverages\"],[1666,\"G96449_RC9_01_31797\",\"Ground coffee\",1856,\"Beverages\"],[1667,\"G96450_RG2_01_31865\",\"Ground coffee\",1932,\"Beverages\"],[1668,\"G96451_1x_RH7_01_31890\",\"Ground coffee\",1871,\"Beverages\"],[1669,\"G96452_1x_RH6_01_31889\",\"Ground coffee\",1898,\"Beverages\"],[1670,\"G96453_1x_RG9_01_31876\",\"Ground coffee\",1962,\"Beverages\"],[1671,\"G96454_RG8_01_31873\",\"Ground coffee\",1877,\"Beverages\"],[1672,\"G96455_1x_BG5_01_31217\",\"ALLEGRO aged Pu'er tea Brewed For 30sec\",1277,\"Beverages\"],[1673,\"G96456_1x_BB2_01_31161\",\"ALLEGRO aged Pu'er tea Brewed For 1min\",1334,\"Beverages\"],[1674,\"G96457_1x_BG4_01_31216\",\"ALLEGRO aged Pu'er tea Brewed For 4min\",1384,\"Beverages\"],[1675,\"G96458_1x_BB3_01_31162\",\"ALLEGRO aged Pu'er tea Brewed For 4hours\",1397,\"Beverages\"],[1676,\"G96459_1x_BA10_01_31157\",\"ALLEGRO aged Pu'er tea Brewed For 30sec\",1376,\"Beverages\"],[1677,\"G96460_1x_BF3_01_31204\",\"ALLEGRO aged Pu'er tea Brewed For 1min\",1270,\"Beverages\"],[1678,\"G96461_1x_BC7_01_31178\",\"ALLEGRO aged Pu'er tea Brewed For 4min\",1303,\"Beverages\"],[1679,\"G96462_1x_BE2_01_31195\",\"ALLEGRO aged Pu'er tea Brewed For 4hours\",1346,\"Beverages\"],[1680,\"G96463_1x_RF10_01_31115\",\"ALLEGRO aged Pu'er tea Brewed For 30sec\",1195,\"Beverages\"],[1681,\"G96464_1x_RF6_01_31111\",\"ALLEGRO aged Pu'er tea Brewed For 1min\",1218,\"Beverages\"],[1682,\"G96465_1x_RH2_01_31132\",\"ALLEGRO aged Pu'er tea Brewed For 4min\",1231,\"Beverages\"],[1683,\"G96466_1x_BC4_01_31175\",\"ALLEGRO aged Pu'er tea Brewed For 4hours\",1351,\"Beverages\"],[1684,\"G96479_1x_RA11_01_31054\",\"ALLEGRO tropical tea White tea Brewed For 30sec\",1083,\"Beverages\"],[1685,\"G96480_1x_RH10_01_31140\",\"ALLEGRO tropical tea White tea Brewed For 1min\",1208,\"Beverages\"],[1686,\"G96481_1x_RF9_01_31114\",\"ALLEGRO tropical tea White tea Brewed For 4min\",1325,\"Beverages\"],[1687,\"G96482_1x_RA7_01_31050\",\"ALLEGRO tropical tea White tea Brewed For 4hours\",1275,\"Beverages\"],[1688,\"G96483_1x_RF12_01_31117\",\"ALLEGRO tropical tea White tea Brewed For 30sec\",1165,\"Beverages\"],[1689,\"G96484_1x_RE9_01_31102\",\"ALLEGRO tropical tea White tea Brewed For 1min\",1264,\"Beverages\"],[1690,\"G96485_1x_RA8_01_31051\",\"ALLEGRO tropical tea White tea Brewed For 4min\",1254,\"Beverages\"],[1691,\"G96486_1x_RG5_01_31122\",\"ALLEGRO tropical tea White tea Brewed For 4hours\",1268,\"Beverages\"],[1692,\"G96487_1x_RD6_01_31085\",\"ALLEGRO tropical tea White tea Brewed For 30sec\",1178,\"Beverages\"],[1693,\"G96488_1x_RD5_01_31084\",\"ALLEGRO tropical tea White tea Brewed For 1min\",1209,\"Beverages\"],[1694,\"G96489_1x_RA6_01_31048\",\"ALLEGRO tropical tea White tea Brewed For 4min\",1251,\"Beverages\"],[1695,\"G96490_1x_BG7_01_31219\",\"ALLEGRO tropical tea White tea Brewed For 4hours\",1441,\"Beverages\"],[1696,\"G96491_1x_RE5_01_31098\",\"NUMI White rose White tea Brewed For 30sec\",1155,\"Beverages\"],[1697,\"G96492_1x_RC7_01_31074\",\"NUMI White rose White tea Brewed For 1min\",1209,\"Beverages\"],[1698,\"G96493_1x_RH3_01_31133\",\"NUMI White rose White tea Brewed For 4min\",1288,\"Beverages\"],[1699,\"G96494_1x_BE4_01_31197\",\"NUMI White rose White tea Brewed For 4hours\",1481,\"Beverages\"],[1700,\"G96495_1x_RE3_01_31096\",\"NUMI White rose White tea Brewed For 30sec\",1177,\"Beverages\"],[1701,\"G96496_1x_RF4_01_31109\",\"NUMI White rose White tea Brewed For 1min\",1242,\"Beverages\"],[1702,\"G96497_1x_RC10_01_31077\",\"NUMI White rose White tea Brewed For 4min\",1327,\"Beverages\"],[1703,\"G96498_1x_BH5_01_31225\",\"NUMI White rose White tea Brewed For 4hours\",1441,\"Beverages\"],[1704,\"G96499_1x_RB2_01_31057\",\"NUMI White rose White tea Brewed For 30sec\",1155,\"Beverages\"],[1705,\"G96500_1x_RB10_01_31065\",\"NUMI White rose White tea Brewed For 1min\",1202,\"Beverages\"],[1706,\"G96501_1x_RB8_01_31063\",\"NUMI White rose White tea Brewed For 4min\",1282,\"Beverages\"],[1707,\"G96502_1x_BA8_01_31154\",\"NUMI White rose White tea Brewed For 4hours\",1436,\"Beverages\"],[1708,\"G96505_1x_BD6_01_31189\",\"American Classic Tea Black tea Brewed For 4hours\",1498,\"Beverages\"],[1709,\"G96571_1x_BE5_01_31198\",\"Numi Emperor's Pu'er tea Brewed For 30sec\",1309,\"Beverages\"],[1710,\"G96572_1x_BB6_01_31165\",\"Numi Emperor's Pu'er tea Brewed For 1min\",1328,\"Beverages\"],[1711,\"G96574_1x_BH8_01_31230\",\"Numi Emperor's Pu'er tea Brewed For 4hours\",1344,\"Beverages\"],[1712,\"G96576_1x_BD2_01_31185\",\"Numi Emperor's Pu'er tea Brewed For 1min\",1316,\"Beverages\"],[1713,\"G96577_1x_BG3_01_31215\",\"Numi Emperor's Pu'er tea Brewed For 4min\",1372,\"Beverages\"],[1714,\"G96578_1x_BF4_01_31205\",\"Numi Emperor's Pu'er tea Brewed For 4hours\",1416,\"Beverages\"],[1715,\"G96579_1x_RC9_01_31076\",\"Numi Emperor's Pu'er tea Brewed For 30sec\",1233,\"Beverages\"],[1716,\"G96580_1x_RC8_01_31075\",\"Numi Emperor's Pu'er tea Brewed For 1min\",1262,\"Beverages\"],[1717,\"G96581_1x_BH8_01_31228\",\"Numi Emperor's Pu'er tea Brewed For 4min\",1382,\"Beverages\"],[1718,\"G96582_1x_BA6_01_31152\",\"Numi Emperor's Pu'er tea Brewed For 4hours\",1313,\"Beverages\"],[1719,\"G96583_1x_RB12_01_31067\",\"Nestle Water Brewed For 4min\",1195,\"Beverages\"],[1720,\"G96584_1x_RG3_01_31120\",\"Nestle Pure Life Filtered Water B\",1108,\"Beverages\"],[1721,\"G96585_1x_RH9_01_31139\",\"Nestle Water Brewed For 1min\",1086,\"Beverages\"],[1722,\"G96586_1x_RF7_01_31112\",\"Nestle Water Brewed For 30s\",1058,\"Beverages\"],[1723,\"G96587_1x_BB10_01_31169\",\"Charleston tea Plantation Green tea Brewed For 4hours\",1411,\"Beverages\"],[1724,\"G96588_1x_RA3_01_31045\",\"Charleston tea Plantation Green tea Brewed For 4min\",1245,\"Beverages\"],[1725,\"G96589_1x_RA12_01_31055\",\"Higghing & Burke Green vert Green tea Brewed For 30sec\",1182,\"Beverages\"],[1726,\"G96590_1x_RA4_01_31046\",\"Higghing & Burke Green vert Green tea Brewed For 4min\",1248,\"Beverages\"],[1727,\"G96591_1x_RH11_01_31141\",\"Higghing & Burke Green vert Green tea Brewed For 30sec\",1173,\"Beverages\"],[1728,\"G96592_1x_BF5_01_31206\",\"Higghing & Burke Green vert Green tea Brewed For 4hours\",1427,\"Beverages\"],[1729,\"G96593_1x_RG7_01_31125\",\"Higghing & Burke Green vert Green tea Brewed For 30sec\",1133,\"Beverages\"],[1730,\"G96594_1x_BF2_01_31203\",\"Higghing & Burke Green vert Green tea Brewed For 4hours\",1409,\"Beverages\"],[1731,\"G96595_1x_BB4_01_31163\",\"Charleston tea Plantation Green tea Brewed For 4hours\",1539,\"Beverages\"],[1732,\"G96596_1x_RC6_01_31073\",\"Charleston tea Plantation Green tea Brewed For 30sec\",1192,\"Beverages\"],[1733,\"G96597_1x_RD10_01_31089\",\"Charleston tea Plantation Green tea Brewed For 1min\",1226,\"Beverages\"],[1734,\"G96598_1x_RC2_01_31069\",\"Higghing & Burke Green vert Green tea Brewed For 1min\",1236,\"Beverages\"],[1735,\"G96599_1x_BB7_01_31166\",\"Higghing & Burke Green vert Green tea Brewed For 4hours\",1363,\"Beverages\"],[1736,\"G96600_1x_RB3_01_31058\",\"Higghing & Burke Green vert Green tea Brewed For 1min\",1170,\"Beverages\"],[1737,\"G96601_1x_RE4_01_31097\",\"Higghing & Burke Green vert Green tea Brewed For 4min\",1315,\"Beverages\"],[1738,\"G96602_1x_RB11_01_31066\",\"Higghing & Burke Green vert Green tea Brewed For 1min\",1255,\"Beverages\"],[1739,\"G96603_1x_RE8_01_31101\",\"Higghing & Burke Green vert Green tea Brewed For 4min\",1395,\"Beverages\"],[1740,\"G96604_1x_RB9_01_31064\",\"Charleston tea Plantation Green tea Brewed For 4min\",1283,\"Beverages\"],[1741,\"G96605_1x_RD7_01_31086\",\"Charleston tea Plantation Green tea Brewed For 1min\",1210,\"Beverages\"],[1742,\"G96606_1x_RD11_01_31090\",\"Charleston tea Plantation Green tea Brewed For 30sec\",1240,\"Beverages\"],[1743,\"G96607_1x_BA7_01_31153\",\"Salada Matcha tea Brewed For 4min\",1350,\"Beverages\"],[1744,\"G96608_1x_RB6_01_31061\",\"Salada Matcha tea Brewed For 4hours\",1373,\"Beverages\"],[1745,\"G96610_1x_BA4_01_31150\",\"Salada Matcha tea Brewed For 30sec\",1211,\"Beverages\"],[1746,\"G96611_1x_RA5_01_31047\",\"Nestle Water Brewed For 4min\",1040,\"Beverages\"],[1747,\"G96613_1x_RA2_01_31044\",\"Nestle Pure Life Filtered Water A\",1044,\"Beverages\"],[1748,\"G96614_1x_BF7_01_31211\",\"Salada Matcha tea Brewed For 1min\",1307,\"Beverages\"],[1749,\"G96616_1x_RG12_01_31130\",\"Salada Matcha tea Brewed For 4hours\",1416,\"Beverages\"],[1750,\"G96617_1x_RE2_01_31095\",\"Prince of Peace Oolong tea Brewed For 4min\",1220,\"Beverages\"],[1751,\"G96618_1x_BE3_01_31196\",\"Nestle Water Brewed For 4hrs\",1143,\"Beverages\"],[1752,\"G96619_1x_RH12_01_31142\",\"Nestle Water Brewed For 1min\",1045,\"Beverages\"],[1753,\"G96620_1x_BH2_01_31222\",\"Lipton Matcha tea Brewed For 30sec\",1335,\"Beverages\"],[1754,\"G96621_1x_BH6_01_31226\",\"Lipton Matcha tea Brewed For 1min\",1383,\"Beverages\"],[1755,\"G96622_1x_BC6_01_31177\",\"Lipton Matcha tea Brewed For 4min\",1436,\"Beverages\"],[1756,\"G96623_1x_BD7_01_31190\",\"Lipton Matcha tea Brewed For 4hours\",1446,\"Beverages\"],[1757,\"G96624_1x_RE7_01_31100\",\"Prince of Peace Oolong tea Brewed For 1min\",1094,\"Beverages\"],[1758,\"G96625_1x_BC3_01_31174\",\"Lipton Matcha tea Brewed For 30sec\",1256,\"Beverages\"],[1759,\"G96626_1x_BH7_01_31227\",\"Lipton Matcha tea Brewed For 1min\",1354,\"Beverages\"],[1760,\"G96628_1x_BE8_01_31201\",\"Lipton Matcha tea Brewed For 4hours\",1517,\"Beverages\"],[1761,\"G96630_1x_BB9_01_31168\",\"Lipton Matcha tea Brewed For 30sec\",1293,\"Beverages\"],[1762,\"G96631_1x_BD8_01_31191\",\"Lipton Matcha tea Brewed For 1min\",1301,\"Beverages\"],[1763,\"G96632_1x_BH3_01_31223\",\"Lipton Matcha tea Brewed For 4min\",1450,\"Beverages\"],[1764,\"G96633_1x_BB5_01_31164\",\"Lipton Matcha tea Brewed For 4hours\",1487,\"Beverages\"],[1765,\"G96634_1x_RC4_01_31071\",\"Prince of Peace Oolong tea Brewed For 30sec\",1140,\"Beverages\"],[1766,\"G96635_RF4_01_31845\",\"Ground coffee\",1919,\"Beverages\"],[1767,\"G96636_RF3_01_31842\",\"Ground coffee\",1830,\"Beverages\"],[1768,\"G96639_RC1_01_31785\",\"water\",1126,\"Beverages\"],[1769,\"G96649_1x_RG2_01_31119\",\"Charleston tea Plantation Green tea Brewed For 30sec\",1221,\"Beverages\"],[1770,\"G96650_1x_RD8_01_31087\",\"Charleston tea Plantation Green tea Brewed For 1min\",1248,\"Beverages\"],[1771,\"G96651_1x_RE10_01_31103\",\"Charleston tea Plantation Green tea Brewed For 4min\",1353,\"Beverages\"],[1772,\"G96652_1x_BC8_01_31179\",\"Charleston tea Plantation Green tea Brewed For 4hours\",1450,\"Beverages\"],[1773,\"G96653_1x_RG4_01_31121\",\"Allegro Oolong tea Brewed For 30sec\",1134,\"Beverages\"],[1774,\"G96654_1x_RD12_01_31091\",\"Allegro Oolong tea Brewed For 30sec\",1076,\"Beverages\"],[1775,\"G96655_1x_RC11_01_31078\",\"Allegro Oolong tea Brewed For 1min\",1114,\"Beverages\"],[1776,\"G96656_1x_BB8_01_31167\",\"Allegro Oolong tea Brewed For 4min\",1295,\"Beverages\"],[1777,\"G96657_1x_BG6_01_31218\",\"Allegro Oolong tea Brewed For 4hours\",1301,\"Beverages\"],[1778,\"G96659_1x_RF11_01_31116\",\"Allegro Oolong tea Brewed For 30sec\",1090,\"Beverages\"],[1779,\"G96660_1x_RG11_01_31129\",\"Allegro Oolong tea Brewed For 1min\",1102,\"Beverages\"],[1780,\"G96661_1x_RE12_01_31105\",\"Allegro Oolong tea Brewed For 4min\",1181,\"Beverages\"],[1781,\"G96662_1x_BG2_01_31214\",\"Allegro Oolong tea Brewed For 4hours\",1279,\"Beverages\"],[1782,\"G96663_1x_RD3_01_31082\",\"Allegro Oolong tea Brewed For 1min\",1167,\"Beverages\"],[1783,\"G96664_1x_RA10_01_31053\",\"Allegro Oolong tea Brewed For 4min\",1107,\"Beverages\"],[1784,\"G96667_1x_RF8_01_31113\",\"American Classic Tea Black tea Brewed For 1min\",1314,\"Beverages\"],[1785,\"G96668_1x_RC3_01_31070\",\"American Classic Tea Black tea Brewed For 30sec\",1283,\"Beverages\"],[1786,\"G96669_1x_RE6_01_31099\",\"Higghing & Burke english breakfast Black tea Brewed For 30sec\",1244,\"Beverages\"],[1787,\"G96670_1x_RH5_01_31135\",\"American Classic Tea Black tea Brewed For 4min\",1291,\"Beverages\"],[1788,\"G96671_1x_BD4_01_31187\",\"Higghing & Burke english breakfast Black tea Brewed For 4hours\",1531,\"Beverages\"],[1789,\"G96672_1x_BC5_01_31176\",\"Higghing & Burke english breakfast Black tea Brewed For 4hours\",1497,\"Beverages\"],[1790,\"G96673_1x_RF5_01_31110\",\"American Classic Tea Black tea Brewed For 4min\",1406,\"Beverages\"],[1791,\"G96674_1x_BG8_01_31220\",\"American Classic Tea Black tea Brewed For 4hours\",1494,\"Beverages\"],[1792,\"G96675_1x_RB7_01_31062\",\"American Classic Tea Black tea Brewed For 30sec\",1173,\"Beverages\"],[1793,\"G96677_1x_RH8_01_31138\",\"Higghing & Burke english breakfast Black tea Brewed For 1min\",1173,\"Beverages\"],[1794,\"G96678_1x_RH4_01_31134\",\"American Classic Tea Black tea Brewed For 1min\",1214,\"Beverages\"],[1795,\"G96679_1x_RH7_01_31137\",\"American Classic Tea Black tea Brewed For 1min\",1237,\"Beverages\"],[1796,\"G96680_1x_BD5_01_31188\",\"American Classic Tea Black tea Brewed For 4hours\",1493,\"Beverages\"],[1797,\"G96681_1x_RF2_01_31107\",\"American Classic Tea Black tea Brewed For 4min\",1411,\"Beverages\"],[1798,\"G96682_1x_BA5_01_31151\",\"Higghing & Burke english breakfast Black tea Brewed For 4hours\",1428,\"Beverages\"],[1799,\"G96683_1x_RD9_01_31088\",\"Higghing & Burke english breakfast Black tea Brewed For 30sec\",1289,\"Beverages\"],[1800,\"G96684_1x_BE7_01_31200\",\"Nestle Water Brewed For 4hrs\",1183,\"Beverages\"],[1801,\"G96685_1x_RA9_01_31052\",\"Higghing & Burke english breakfast Black tea Brewed For 1min\",1272,\"Beverages\"],[1802,\"G96686_1x_RD4_01_31083\",\"Higghing & Burke english breakfast Black tea Brewed For 4min\",1462,\"Beverages\"],[1803,\"G96687_1x_RC5_01_31072\",\"Higghing & Burke english breakfast Black tea Brewed For 4min\",1484,\"Beverages\"],[1804,\"G96688_1x_RG10_01_31128\",\"Higghing & Burke english breakfast Black tea Brewed For 1min\",1312,\"Beverages\"],[1805,\"G96689_1x_RF3_01_31108\",\"Higghing & Burke english breakfast Black tea Brewed For 4min\",1389,\"Beverages\"],[1806,\"G96690_1x_RG6_01_31123\",\"Higghing & Burke english breakfast Black tea Brewed For 30sec\",1275,\"Beverages\"],[1807,\"G96695_1x_RD2_01_31081\",\"American Classic Tea Black tea Brewed For 30sec\",1215,\"Beverages\"],[1808,\"G96703_RC8_01_31794\",\"Ground coffee\",1850,\"Beverages\"],[1809,\"G96704_1x_RH2_01_31883\",\"Ground coffee\",1919,\"Beverages\"],[1810,\"G96705_RC3_01_31787\",\"Ground coffee\",1911,\"Beverages\"],[1811,\"G96706_RC12_01_31800\",\"Ground coffee\",1870,\"Beverages\"],[1812,\"G96708_RF2_01_31841\",\"Ground coffee\",1924,\"Beverages\"],[1813,\"G96709_RF6_01_31851\",\"Ground coffee\",1888,\"Beverages\"],[1814,\"G96710_RG5_01_31870\",\"Ground coffee\",1964,\"Beverages\"],[1815,\"G96711_RE1_01_31821\",\"Ground coffee\",1854,\"Beverages\"],[1816,\"G96712_1x_RH8_01_31891\",\"Ground coffee\",1903,\"Beverages\"],[1817,\"G96713_RD1_01_31803\",\"water\",1041,\"Beverages\"],[1818,\"G96714_RE9_01_31833\",\"Ground coffee\",1931,\"Beverages\"],[1819,\"G96715_RC10_01_31798\",\"Ground coffee\",1782,\"Beverages\"],[1820,\"G96716_RD2_01_31804\",\"Ground coffee\",1951,\"Beverages\"],[1821,\"G96717_RF11_01_31860\",\"Ground coffee\",1959,\"Beverages\"],[1836,\"RC12_tk2_RC12_01_49119\",\"black.wine\",2488,\"Beverages\"],[1844,\"RD5_RD5_01_49097\",\"wine.white\",2479,\"Beverages\"]],\"hovertemplate\":\"color=Beverages\\u003cbr\\u003ex=%{x}\\u003cbr\\u003ey=%{y}\\u003cbr\\u003ehover_data_0=%{customdata[0]}\\u003cbr\\u003ehover_data_1=%{customdata[1]}\\u003cbr\\u003ehover_data_2=%{customdata[2]}\\u003cbr\\u003ehover_data_3=%{customdata[3]}\\u003cbr\\u003ehover_data_4=%{customdata[4]}\\u003cextra\\u003e\\u003c\\u002fextra\\u003e\",\"legendgroup\":\"Beverages\",\"marker\":{\"color\":\"#0DF9FF\",\"symbol\":\"circle\"},\"mode\":\"markers\",\"name\":\"Beverages\",\"showlegend\":true,\"x\":[8.114707946777344,8.302796363830566,9.267321586608887,12.469082832336426,11.862053871154785,6.7847981452941895,6.871841907501221,6.782878398895264,8.12753963470459,9.532283782958984,8.642183303833008,10.135982513427734,8.174498558044434,12.403135299682617,14.786828994750977,18.26859474182129,19.0168514251709,18.73375701904297,18.424156188964844,12.342509269714355,13.690279960632324,9.9858980178833,14.740782737731934,7.795632362365723,18.95744514465332,18.077037811279297,19.235027313232422,18.942216873168945,18.562808990478516,11.801088333129883,18.67473793029785,18.425825119018555,18.034259796142578,12.276079177856445,11.428556442260742,17.630830764770508,13.36581802368164,12.48486614227295,19.329200744628906,15.952874183654785,18.615882873535156,18.359725952148438,18.475276947021484,18.55493927001953,12.443455696105957,18.50670051574707,18.472652435302734,15.511462211608887,11.178370475769043,15.946274757385254,19.28761100769043,19.232257843017578,17.751123428344727,9.12264633178711,7.853031158447266,9.837702751159668,13.652274131774902,12.08258056640625,10.665804862976074,11.963774681091309,8.67117977142334,14.890105247497559,11.457530975341797,11.006607055664062,9.105144500732422,10.929436683654785,11.581103324890137,8.883883476257324,9.523008346557617,10.298614501953125,8.98549747467041,10.022306442260742,11.36016845703125,12.48021125793457,8.541098594665527,8.603193283081055,9.325879096984863,10.088265419006348,6.145859718322754,6.361511707305908,12.511153221130371,12.319473266601562,12.194504737854004,12.987850189208984,11.662906646728516,6.940941333770752,8.573342323303223,10.31632137298584,10.388480186462402,9.095574378967285,8.969491958618164,9.074009895324707,10.308561325073242,10.411378860473633,10.175983428955078,12.828727722167969,10.152302742004395,13.532219886779785,8.891453742980957,10.480513572692871,19.217288970947266,10.348271369934082,10.292441368103027,12.515398979187012,10.169540405273438,1.7736555337905884,-0.4724549651145935,0.3086046278476715,-1.9138342142105103,1.9158724546432495,1.6484382152557373,0.7163794040679932,1.450286626815796,-1.6349842548370361,0.09822308272123337,-0.76332688331604,-2.074160575866699,0.7721595168113708,7.517590045928955,7.323237895965576,7.292328357696533,7.4373393058776855,7.615153789520264,7.40209436416626,7.59473991394043,7.6302666664123535,7.613539218902588,7.132517337799072,7.1539130210876465,7.130572319030762,8.1460542678833,1.950726866722107,7.679035186767578,8.265941619873047,8.233508110046387,8.085245132446289,7.360843181610107,7.2024006843566895,7.462072372436523,7.19894552230835,6.9328107833862305,7.100496292114258,1.0812238454818726,7.242629528045654,7.41264009475708,7.423275947570801,7.264490604400635,7.580610752105713,7.422032833099365,7.436513423919678,7.42302942276001,3.068957567214966,2.744871139526367,2.8291518688201904,3.0287365913391113,3.806854486465454,4.046636581420898,3.4337711334228516,3.0833723545074463,4.307831287384033,4.608682155609131,2.353848695755005,5.798558712005615,5.26246976852417,5.326332092285156,5.066253662109375,4.851371765136719,5.073978424072266,5.2479987144470215,4.428809642791748,4.504173755645752,4.053677558898926,3.7735636234283447,5.284078598022461,4.906479358673096,5.2519378662109375,3.0083961486816406,5.077967643737793,5.087547779083252,2.4176368713378906,2.469956636428833,4.844088554382324,4.4155120849609375,2.6708502769470215,2.628575563430786,5.298107624053955,5.184447288513184,3.250948667526245,2.9912471771240234,3.9677951335906982,4.555685520172119,5.446688175201416,4.57538366317749,4.780679225921631,4.72100305557251,4.635436058044434,4.675893783569336,5.292022228240967,4.797214984893799,4.698179721832275,4.642919540405273,8.203447341918945,8.33240795135498,8.173235893249512,5.689152717590332,5.593291282653809,5.834629058837891,5.333224773406982,6.01718807220459,5.44708776473999,5.596175193786621,5.501298904418945,6.3494696617126465,6.583770751953125,6.661994934082031,7.169888496398926,6.731212615966797,6.219857215881348,6.928503513336182,6.440677165985107,6.932672023773193,6.608293056488037,6.218748092651367,6.955576419830322,7.206340789794922,5.1699371337890625,5.727236747741699,5.640052795410156,5.583664894104004,5.299949645996094,5.14627742767334,5.241390705108643,6.1252312660217285,5.08273983001709,5.121890068054199,-1.6162863969802856,-2.215665102005005,-0.7465278506278992,-2.1322684288024902,-2.210470676422119,-1.7984817028045654,-1.925791621208191,-1.5456653833389282,0.8960515856742859,0.7220556735992432,0.4053160846233368,-1.8917838335037231,1.597636342048645,1.1723473072052002,0.31903597712516785,-0.6250540018081665,0.9774717092514038,1.490635633468628,-0.526740312576294,0.3075745105743408,1.3100067377090454,1.4313639402389526,-0.5686725378036499,0.5140687227249146,0.9952555894851685,1.635676622390747,0.17786258459091187,0.36545488238334656,0.5294157862663269,1.6303173303604126,0.19535022974014282,0.625935435295105,1.9150482416152954,1.6488357782363892,-0.08275850862264633,0.19991855323314667,0.2848154902458191,-1.7869727611541748,-2.17050838470459,-0.7767916321754456,-1.993935227394104,-0.8628012537956238,-1.4025455713272095,0.8285332322120667,1.0545849800109863,-1.2957371473312378,-0.009208819828927517,0.17924796044826508,-0.8862689733505249,-0.3375619649887085,-0.4001992344856262,-0.21912872791290283,-0.6109673380851746,1.7809247970581055,-0.7304186224937439,1.0202186107635498,0.4947741627693176,0.8960205316543579,0.6501566767692566,-0.02782260812819004,1.4628759622573853,1.7948163747787476,1.7779738903045654,0.07477724552154541,1.9834665060043335,0.5164278149604797,1.2214241027832031,0.24105224013328552,-0.10480175167322159,1.5800492763519287,1.8289291858673096,0.2372749000787735,0.30854180455207825,1.9513403177261353,1.0539698600769043,1.1925400495529175,-1.1020441055297852,0.37296587228775024,0.7662902474403381,-1.411965250968933,-0.4803828299045563,-0.4491077661514282,-0.3631872534751892,-0.3421623110771179,0.13553284108638763,0.01418194081634283,-1.9566600322723389,-0.5061200857162476,0.5576485395431519,-1.8131768703460693,-0.5884926319122314,-0.04880298301577568,0.002770607592537999,0.6046251654624939,6.386571884155273,5.608717441558838,1.0682635307312012,1.7201637029647827,1.9045008420944214,0.12579859793186188,-0.0752687156200409,-0.5430245399475098,-0.08829670399427414,0.1503894329071045,-2.1790380477905273,-1.2385869026184082,-0.1774730533361435,-0.29557159543037415,0.9842174053192139,-1.0299887657165527,0.10266771167516708,1.8554534912109375,0.2486027032136917,1.6075866222381592,1.3834657669067383,0.16790904104709625,0.26420697569847107,0.07606493681669235,0.1322055459022522,0.33248546719551086,1.7222214937210083,0.907095730304718,0.7072322964668274,0.36655712127685547,0.2818712592124939,-0.01091612596064806,0.16663143038749695,0.04654833674430847,-1.3103811740875244,-0.09730955958366394,0.16550612449645996,0.20595534145832062,0.06106441095471382,-0.04744839295744896,0.9788880944252014,1.661498785018921,6.680105209350586,6.098465919494629,6.206180572509766,6.402420997619629,5.652487754821777,6.6778645515441895,6.030280113220215,5.841389179229736,5.416341781616211,1.1349986791610718,6.8824543952941895,6.129832744598389,5.8163862228393555,6.261576175689697,-4.3129448890686035,-4.254990100860596],\"xaxis\":\"x\",\"y\":[10.732625961303711,5.846803665161133,5.040308952331543,0.8169147968292236,1.5290824174880981,5.306321620941162,5.276930809020996,5.197542190551758,5.923853874206543,6.007785797119141,5.960952281951904,1.8520545959472656,5.780179977416992,4.57338285446167,8.451406478881836,7.459792137145996,6.208147048950195,7.299571514129639,6.947519302368164,4.8705854415893555,9.983551025390625,9.696931838989258,1.9345953464508057,2.7590270042419434,6.295216083526611,7.128399848937988,6.218797206878662,6.204052925109863,7.191353797912598,5.251346588134766,7.077199935913086,6.8549299240112305,7.434546947479248,4.965713024139404,9.490493774414062,7.719818115234375,10.090679168701172,4.780416965484619,6.012696266174316,1.3364375829696655,7.691503524780273,7.17534065246582,7.044842720031738,6.714318752288818,10.4132661819458,6.656628608703613,7.519139766693115,1.409409523010254,9.719531059265137,1.5287774801254272,5.954558372497559,6.093568801879883,7.620187759399414,7.295443534851074,2.7926220893859863,9.641053199768066,5.232431411743164,5.441660404205322,4.636132717132568,8.827764511108398,2.630279302597046,6.717700004577637,3.7076077461242676,3.6941308975219727,10.364991188049316,0.41443726420402527,5.775832176208496,6.524188041687012,7.476661205291748,2.1180412769317627,7.213587284088135,6.515401840209961,7.506050109863281,8.392378807067871,10.77730941772461,10.734649658203125,4.5665669441223145,4.390307426452637,4.939383506774902,5.251519203186035,6.997526168823242,7.1259446144104,6.9902191162109375,9.080824851989746,11.616086959838867,5.473891258239746,6.502824306488037,6.443228244781494,7.004759788513184,5.6687774658203125,4.9693193435668945,6.0253987312316895,6.730207443237305,6.1474199295043945,5.954758167266846,6.982330799102783,6.657435894012451,7.502358436584473,6.904138088226318,1.8603904247283936,5.947196960449219,1.8502849340438843,1.8775330781936646,7.486578464508057,6.8106279373168945,2.080474615097046,-0.2066885530948639,-0.02500234730541706,1.3302940130233765,2.0647945404052734,2.4822001457214355,7.194784641265869,0.6499879956245422,1.8415420055389404,0.10996640473604202,0.33139073848724365,1.617966890335083,1.2186081409454346,12.128288269042969,12.046097755432129,11.925704002380371,11.969182014465332,11.02452278137207,11.550731658935547,12.894098281860352,12.830836296081543,12.71972370147705,11.89787769317627,12.142889022827148,12.043767929077148,13.262308120727539,7.642163276672363,13.01339340209961,13.245040893554688,13.411327362060547,13.503447532653809,11.10009479522705,11.173911094665527,10.9732666015625,12.00204086303711,12.085227012634277,12.105528831481934,7.4412055015563965,11.476055145263672,11.014376640319824,11.0687837600708,11.717192649841309,10.854103088378906,12.097136497497559,12.228094100952148,12.368390083312988,7.674992084503174,7.803188800811768,7.779110431671143,7.592898368835449,7.825088977813721,7.694935321807861,7.2785258293151855,7.605057239532471,6.509384632110596,6.198873519897461,7.6153154373168945,2.7876992225646973,6.822824954986572,6.1875691413879395,7.323118686676025,7.173863887786865,7.100566864013672,7.138265609741211,7.318059921264648,7.766604423522949,7.719027519226074,7.784029960632324,6.769196510314941,7.480628490447998,5.915205478668213,7.602822303771973,6.09077262878418,6.3461103439331055,7.741063117980957,7.738277912139893,6.065810203552246,7.715991020202637,7.7858734130859375,7.840261936187744,4.019620895385742,1.4327675104141235,7.686376571655273,7.563183307647705,7.759425640106201,7.6795854568481445,6.898774147033691,7.402153015136719,6.105462074279785,7.757662773132324,7.863726615905762,6.963641166687012,6.5787272453308105,7.49469518661499,7.59436559677124,6.389448642730713,13.50535774230957,13.598679542541504,13.430657386779785,4.517271518707275,4.486058235168457,5.176477909088135,5.244129657745361,3.547215700149536,4.10707426071167,5.346067428588867,3.9863548278808594,2.1454262733459473,3.4648125171661377,3.169734001159668,3.0082170963287354,3.2679708003997803,2.2580974102020264,3.4644458293914795,2.150240659713745,3.495894193649292,2.267904758453369,4.323863983154297,3.3783111572265625,2.538334369659424,1.3903911113739014,4.539680480957031,4.138955593109131,4.007576942443848,3.9800639152526855,1.3077096939086914,1.3280019760131836,2.396631956100464,1.3690276145935059,1.283210277557373,1.8962795734405518,1.2899914979934692,2.1526308059692383,1.4938476085662842,1.368302583694458,1.260934829711914,1.7651138305664062,1.9940227270126343,1.2794040441513062,1.495266318321228,2.113340377807617,1.7125475406646729,0.4807046055793762,2.259279251098633,3.7178795337677,3.784242868423462,1.5829254388809204,2.605893850326538,3.813953399658203,4.665438175201416,1.4268205165863037,1.7960724830627441,3.9248948097229004,7.140835285186768,1.0734522342681885,1.7125170230865479,3.398608446121216,7.490804672241211,0.6790129542350769,2.2951226234436035,3.4301042556762695,7.32043981552124,1.0790245532989502,1.7828854322433472,3.610445261001587,4.931066036224365,6.03538703918457,1.7696897983551025,1.4248583316802979,2.118948459625244,1.5441884994506836,2.2040793895721436,1.9753615856170654,1.8423362970352173,1.5342518091201782,2.0420055389404297,2.465625286102295,-0.009801497682929039,0.3554632067680359,-0.28424984216690063,0.03257398679852486,7.7422566413879395,3.7699997425079346,0.6770694255828857,3.852365493774414,1.451934576034546,7.2479023933410645,1.2618765830993652,7.253322601318359,7.642767906188965,1.5211180448532104,2.189476251602173,1.9928665161132812,7.749154567718506,1.3773664236068726,3.2414894104003906,2.717775344848633,4.321689128875732,3.8847525119781494,2.3019638061523438,2.411921262741089,4.147801876068115,4.6169586181640625,2.026479959487915,0.10727714747190475,0.2615867853164673,2.103332281112671,4.999598026275635,1.0676329135894775,0.7514402270317078,-0.22680512070655823,6.895376682281494,7.018551349639893,7.442667484283447,7.416128635406494,0.11480525135993958,1.0648947954177856,7.027678966522217,7.056089878082275,1.0407335758209229,6.558195114135742,7.261685848236084,7.547954082489014,0.03981227055191994,4.083725929260254,4.374823093414307,0.4138839840888977,1.8638970851898193,2.4111363887786865,4.077191352844238,7.765620708465576,0.2069871425628662,0.011535939760506153,-0.04875169321894646,1.3165351152420044,2.0552868843078613,0.15648992359638214,-0.009522326290607452,1.3072060346603394,2.183786392211914,0.24101924896240234,0.6353010535240173,3.7755637168884277,2.4996893405914307,1.8286807537078857,4.83388090133667,5.8721418380737305,5.682950019836426,5.241156578063965,5.933429718017578,0.9037322402000427,2.521972894668579,2.743671417236328,3.183617353439331,5.931809902191162,5.118107318878174,5.554042339324951,4.092571258544922,0.7002463936805725,4.399837017059326,5.527110576629639,5.561243057250977,4.494726181030273,4.780368328094482,2.613391876220703,1.5068598985671997,3.646467924118042,2.0527968406677246,3.865415573120117,3.7914938926696777,4.262260913848877,3.655515670776367,2.4353621006011963,4.271042346954346,1.5328845977783203,0.8501926064491272,3.1578848361968994,4.494694232940674,3.698157548904419,3.3674087524414062,7.7358198165893555,8.125812530517578],\"yaxis\":\"y\",\"type\":\"scattergl\"},{\"customdata\":[[25,\"73472_1x_BC4_01_20736\",\"rice vinegar\",1804,\"Grains & Cereals\"],[103,\"AMZ_10_tk2_RA11_01_48975\",\"White rice\",2469,\"Grains & Cereals\"],[110,\"AMZ_21_RC2_01_48934\",\"Rice\",2454,\"Grains & Cereals\"],[113,\"AMZ_26_RC7_01_48947\",\"Rice\",2412,\"Grains & Cereals\"],[115,\"AMZ_31_tk2_RD2_01_48960\",\"Rice with catara\",2468,\"Grains & Cereals\"],[116,\"AMZ_33_RD4_01_48963\",\"Rice\",2488,\"Grains & Cereals\"],[120,\"AMZ_3_RA4_01_48882\",\"Bread filled with fried egg\",2518,\"Grains & Cereals\"],[123,\"AMZ_43_RE4_01_48972\",\"Rice\",2463,\"Grains & Cereals\"],[125,\"AMZ_45_RE6_01_48973\",\"Rice\",2456,\"Grains & Cereals\"],[133,\"AMZ_8_RA9_01_48899\",\"White rice\",2478,\"Grains & Cereals\"],[141,\"G72453_RA12_01_17534\",\"raw jasmine rice\",1458,\"Grains & Cereals\"],[149,\"G72463_p1_g7_GD4_01_21938\",\"Borodinsky rye bread\",1308,\"Grains & Cereals\"],[152,\"G72466_10x_BA8_01_17873\",\"baby food, Earth's best multigrain cereal mix\",1769,\"Grains & Cereals\"],[163,\"G72485_RD10_01_18365\",\"jasmine rice\",1598,\"Grains & Cereals\"],[180,\"G72525_10x_BB6_01_17913\",\"Naan\",1695,\"Grains & Cereals\"],[196,\"G72685_10x_BE12_01_17847\",\"white rice\",1581,\"Grains & Cereals\"],[210,\"G72726_BF5_01_19021\",\"pasta\",1817,\"Grains & Cereals\"],[226,\"G72756_10x_BD5_01_17826\",\"shirataki spaghetti, pastazero\",1741,\"Grains & Cereals\"],[233,\"G72767_BG7_01_19040\",\"Wheat bread\",2120,\"Grains & Cereals\"],[244,\"G72782_10x_BF3_01_17851\",\"sandwich bread\",1636,\"Grains & Cereals\"],[249,\"G72791_RA10_01_17532\",\"Osem Whole Wheat Israeli Matzo\",1738,\"Grains & Cereals\"],[256,\"G72803_RD12_01_18368\",\"brown rice\",1846,\"Grains & Cereals\"],[258,\"G72807_2x_RF9_01_19187\",\"rice krispies cereal\",1867,\"Grains & Cereals\"],[303,\"G73519_1x_RG11_01_18588\",\"Marzen\\u002fOctoberfest-style ale grain mixture, liquid extract\",2325,\"Grains & Cereals\"],[349,\"G73729_RC5_01_17561\",\"oats, Mcann's quick cooking\",1964,\"Grains & Cereals\"],[363,\"G73970_2x_RD7_01_19155\",\"Frontier burrito plate;rice\",2056,\"Grains & Cereals\"],[369,\"G73995_5x_RC3_01_19489\",\"bread\",1935,\"Grains & Cereals\"],[371,\"G73999_5x_10ul_RG3_01_19552\",\"bread - rosinen broetchen\",1880,\"Grains & Cereals\"],[378,\"G74019_5x_RB3_01_19487\",\"bread\",1852,\"Grains & Cereals\"],[417,\"G75080_2x_RB2_01_19112\",\"signature kitchens toasted oats\",1775,\"Grains & Cereals\"],[420,\"G75099_BB7_01_18930\",\"noodle - loving hut dish\",1761,\"Grains & Cereals\"],[423,\"G75112_10x_BF8_01_23441\",\"usipa (boiled maize flour)\",2010,\"Grains & Cereals\"],[431,\"G75131_RH9_01_17783\",\"golden quinoa pilaf\",2110,\"Grains & Cereals\"],[434,\"G75135_RA9_01_17531\",\"bulgur wheat\",1581,\"Grains & Cereals\"],[435,\"G75143_rerun_RB6_01_17554\",\"royal rainbow quinoa\",2065,\"Grains & Cereals\"],[480,\"G75575_RH5_01_17768\",\"mixed brown rice\",1803,\"Grains & Cereals\"],[517,\"G75674_RF8_01_17617\",\"coconut flour\",1703,\"Grains & Cereals\"],[526,\"G75688_5x_BG11_01_20048\",\"quinoa from salad\",2043,\"Grains & Cereals\"],[528,\"G75691_2x_RC6_01_19130\",\"bread roll\",2007,\"Grains & Cereals\"],[532,\"G75706_RF9_01_17618\",\"rolled oats\",1672,\"Grains & Cereals\"],[533,\"G75710_RD6_01_17575\",\"short grain brown rice\",1971,\"Grains & Cereals\"],[534,\"G75711_RC6_01_18378\",\"hulled millet\",1985,\"Grains & Cereals\"],[535,\"G75714_RH6_01_17771\",\"medium grain couscous\",1685,\"Grains & Cereals\"],[536,\"G75717_RB9_01_17544\",\"short grain brown rice\",1972,\"Grains & Cereals\"],[581,\"G78831_5x_BG8_01_20043\",\"brown rice\",1888,\"Grains & Cereals\"],[582,\"G78837_RG12_01_17634\",\"rice\",1552,\"Grains & Cereals\"],[586,\"G78864_RC2_01_17558\",\"boiled forbidden rice\",1912,\"Grains & Cereals\"],[587,\"G78866_5x_BE12_01_20016\",\"Marzen\\u002fOctoberfest-style ale grain mixture, after steeping\",2121,\"Grains & Cereals\"],[600,\"G78913_RF3_01_17605\",\"forbidden rice\",1663,\"Grains & Cereals\"],[601,\"G78914_rerun_RB4_01_17552\",\"jade pearl rice\",1789,\"Grains & Cereals\"],[602,\"G78916_RF2_01_17604\",\"red rice\",1683,\"Grains & Cereals\"],[623,\"G78956_RH4_01_17765\",\"red mill organic rolled oats\",1861,\"Grains & Cereals\"],[625,\"G78967_RG4_01_17626\",\"hulless barley\",2060,\"Grains & Cereals\"],[630,\"G78974_2x_RA11_01_19107\",\"Whole grain bread\",2301,\"Grains & Cereals\"],[638,\"G78987_RE3_01_17586\",\"uncooked quinoa\",1710,\"Grains & Cereals\"],[657,\"G79193_5x_BG3_01_20036\",\"Bulgur wheat \",1753,\"Grains & Cereals\"],[658,\"G79195_5x_BC3_01_19971\",\"unbleached all purpose flour \",1765,\"Grains & Cereals\"],[666,\"G79214_5x_BE8_01_20011\",\"cooked steel cut oats\",2091,\"Grains & Cereals\"],[676,\"G79233_5x_BB11_01_19965\",\"bread\",1668,\"Grains & Cereals\"],[681,\"G79242_5x_BF11_01_20030\",\"pita bread\",1872,\"Grains & Cereals\"],[695,\"G79269_5x_BF3_01_20020\",\"semolina flour\",1934,\"Grains & Cereals\"],[696,\"G79270_5x_BG2_01_20035\",\"plain bread crumbs\",1881,\"Grains & Cereals\"],[831,\"G83189_5x_RB10_01_20151\",\"quinoa\",2206,\"Grains & Cereals\"],[837,\"G83203_5x_RB7_01_21421\",\"rolled oats uncooked\",1859,\"Grains & Cereals\"],[838,\"G83204_5x_RA7_01_21407\",\"steel-cut oats uncooked\",1785,\"Grains & Cereals\"],[839,\"G83207_5x_RA8_01_21408\",\"wild rice uncooked\",1635,\"Grains & Cereals\"],[840,\"G83210_5x_RH8_01_21517\",\"farro uncooked\",1661,\"Grains & Cereals\"],[841,\"G83212_5x_RF8_01_21490\",\"jasmine rice uncooked\",1513,\"Grains & Cereals\"],[868,\"G83312_5x_RE10_01_21479\",\"puffed wild rice with saffron verjus\",1987,\"Grains & Cereals\"],[874,\"G83320_5x_RB11_01_21423\",\"red millet, farro and barley grainotto\",2016,\"Grains & Cereals\"],[921,\"G83415_5x_RF6_01_21486\",\"bulgur uncooked\",1788,\"Grains & Cereals\"],[922,\"G83416_5x_RH6_01_21514\",\"quinoa uncooked\",1897,\"Grains & Cereals\"],[935,\"G83459_1x_BC4_01_23150\",\"casa milo raw pasta\",1342,\"Grains & Cereals\"],[966,\"G86753_1x_BB7_01_23140\",\"multi-grain bread\",1915,\"Grains & Cereals\"],[974,\"G86773_1x_BB8_01_23141\",\"multi-grain cereal\",1670,\"Grains & Cereals\"],[978,\"G86778_1x_RC11_01_26268\",\"cooked white rice\",1337,\"Grains & Cereals\"],[989,\"G86789_1x_BA3_01_23117\",\"boston sourdough loaf, white part of bread, from whole foods la jolla\",1920,\"Grains & Cereals\"],[991,\"G86793_1x_BA2_01_23116\",\"cooked israeli couscous\",1874,\"Grains & Cereals\"],[1004,\"G86820_1x_BA7_01_23122\",\"Cap'N Crunch cereal\",1606,\"Grains & Cereals\"],[1031,\"G86875_1x_BA4_01_23118\",\"multigrain bread from wholefoods MP\",1870,\"Grains & Cereals\"],[1035,\"G86882_1x_BA5_01_23119\",\"semolina flour (bob's red mill brand)\",1836,\"Grains & Cereals\"],[1042,\"G86894_1x_BA11_01_23126\",\"Organic Paesano Bread\",1698,\"Grains & Cereals\"],[1070,\"G86937_1x_BB4_01_23136\",\"brown rice\",1746,\"Grains & Cereals\"],[1098,\"G87315_RE3_01_26161\",\"pasta durum wheat penne\",1508,\"Grains & Cereals\"],[1099,\"G87316_rerun_RE2_01_26206\",\"pasta durum wheat fusilli\",1482,\"Grains & Cereals\"],[1112,\"G87358_1x_BC12_01_26025\",\"pasta shell\",1100,\"Grains & Cereals\"],[1114,\"G87360_1x_BC11_01_26024\",\"black cuttlefish linguine pasta\",1645,\"Grains & Cereals\"],[1118,\"G87372_RD7_01_26116\",\"buckwheat\",1226,\"Grains & Cereals\"],[1119,\"G87376_rerun_RD8_01_26205\",\"barley\",1589,\"Grains & Cereals\"],[1130,\"G87405_RE5_01_26163\",\"soft wheat\",1529,\"Grains & Cereals\"],[1132,\"G87407_RE6_01_26164\",\"durum wheat\",1387,\"Grains & Cereals\"],[1137,\"G87415_1x_BA3_01_26135\",\"quinoa seeds\",1710,\"Grains & Cereals\"],[1140,\"G87426_1x_BD3_01_26030\",\"spaghetti\",1200,\"Grains & Cereals\"],[1154,\"G87449_1x_BD8_01_26036\",\"rice cakes\",1416,\"Grains & Cereals\"],[1156,\"G87451_1x_BD2_01_26029\",\"sliced bread\",1471,\"Grains & Cereals\"],[1834,\"RB9_tk2_RB9_01_49122\",\"black.bread\",2475,\"Grains & Cereals\"],[1837,\"RC2_RC2_01_49079\",\"white.bread\",2515,\"Grains & Cereals\"],[1852,\"VA10_2x_RB10_01_21622\",\"bread\",1576,\"Grains & Cereals\"],[1854,\"VA2_2x_RB2_01_21610\",\"Rice white\",1312,\"Grains & Cereals\"]],\"hovertemplate\":\"color=Grains & Cereals\\u003cbr\\u003ex=%{x}\\u003cbr\\u003ey=%{y}\\u003cbr\\u003ehover_data_0=%{customdata[0]}\\u003cbr\\u003ehover_data_1=%{customdata[1]}\\u003cbr\\u003ehover_data_2=%{customdata[2]}\\u003cbr\\u003ehover_data_3=%{customdata[3]}\\u003cbr\\u003ehover_data_4=%{customdata[4]}\\u003cextra\\u003e\\u003c\\u002fextra\\u003e\",\"legendgroup\":\"Grains & Cereals\",\"marker\":{\"color\":\"#F6F926\",\"symbol\":\"circle\"},\"mode\":\"markers\",\"name\":\"Grains & Cereals\",\"showlegend\":true,\"x\":[12.144630432128906,-4.5127339363098145,-4.389966011047363,-4.253973484039307,-4.966323375701904,-4.7128214836120605,-5.834361553192139,-3.8419413566589355,-3.885439157485962,-4.705874919891357,14.175186157226562,10.670536994934082,15.057580947875977,13.536444664001465,14.924978256225586,14.015893936157227,15.801061630249023,14.543468475341797,15.842926025390625,13.630378723144531,14.400306701660156,14.20266056060791,15.099527359008789,17.737974166870117,15.065192222595215,14.503554344177246,10.86915111541748,13.297918319702148,10.724679946899414,14.629668235778809,16.43571662902832,13.77375602722168,14.99095630645752,13.868978500366211,15.023770332336426,14.760603904724121,14.844465255737305,14.325008392333984,14.38211441040039,15.398637771606445,14.643299102783203,14.532896041870117,14.800178527832031,14.414578437805176,14.991936683654785,14.846014022827148,14.087994575500488,13.998923301696777,14.873230934143066,14.924036979675293,14.207386016845703,15.33269214630127,14.5106201171875,13.532379150390625,14.568248748779297,16.10957145690918,15.854004859924316,14.893275260925293,15.992039680480957,14.983478546142578,15.291183471679688,15.972311973571777,10.08777904510498,14.806838989257812,14.000557899475098,11.886701583862305,12.57496166229248,11.387042999267578,13.249903678894043,11.837382316589355,11.993640899658203,13.167268753051758,9.840249061584473,10.332947731018066,9.82824420928955,12.539121627807617,9.33729076385498,9.683272361755371,8.761839866638184,9.338981628417969,9.379136085510254,9.032926559448242,9.226914405822754,12.082768440246582,12.934455871582031,11.539302825927734,12.177266120910645,13.13499641418457,13.087140083312988,11.831035614013672,11.811047554016113,12.250871658325195,11.778306007385254,11.946647644042969,12.10378646850586,-4.408567428588867,-5.28021764755249,12.625568389892578,12.038509368896484],\"xaxis\":\"x\",\"y\":[1.1343507766723633,5.990102767944336,6.760226249694824,6.895191192626953,6.519905090332031,5.9096198081970215,6.480132102966309,6.468267440795898,6.488134384155273,6.109803676605225,6.039750099182129,5.248013496398926,7.545516014099121,5.699811935424805,5.781854152679443,6.233384609222412,7.14522647857666,8.04926586151123,6.222745895385742,6.401286602020264,6.022103309631348,5.42034387588501,5.622089385986328,6.041494369506836,8.045340538024902,4.479069232940674,3.556044340133667,5.968539714813232,4.848182678222656,7.29556941986084,4.572683334350586,1.3957123756408691,8.520469665527344,5.936633110046387,8.472550392150879,7.03690767288208,6.5005083084106445,5.665876865386963,6.9584059715271,8.119880676269531,8.551255226135254,5.837996482849121,6.644913673400879,8.758218765258789,5.964359283447266,6.358457088470459,6.296962738037109,5.374133110046387,6.483313083648682,6.803557872772217,6.247211456298828,8.211113929748535,8.758552551269531,8.695333480834961,6.526925086975098,5.757266044616699,5.627227306365967,6.423336505889893,5.608087539672852,5.820072174072266,6.51885461807251,5.781510829925537,7.335099220275879,7.982550144195557,7.717688083648682,6.266282081604004,5.941828727722168,5.258086681365967,6.003956317901611,4.384623050689697,5.543437957763672,5.488442897796631,4.739847660064697,5.482074737548828,4.910147190093994,6.593027114868164,3.1644623279571533,4.190703392028809,4.2249884605407715,2.8056716918945312,2.701934576034546,4.7561540603637695,5.01772928237915,6.314145088195801,5.654905796051025,6.342945575714111,5.3413920402526855,4.958197593688965,6.433350563049316,6.14471960067749,6.3812336921691895,7.013640403747559,6.3084611892700195,6.463466644287109,6.207855224609375,7.310865879058838,7.274411678314209,6.592321395874023,6.031101703643799],\"yaxis\":\"y\",\"type\":\"scattergl\"},{\"customdata\":[[31,\"73503_1x_BE5_01_20753\",\"blueberry kefir\",1827,\"Cheese & Dairy Products\"],[32,\"73504_1x_BD5_01_20745\",\"mango kefir\",1705,\"Cheese & Dairy Products\"],[34,\"73511_1x_BG5_01_20771\",\"hibiscus apricot probiotic kefir water tea\",1407,\"Cheese & Dairy Products\"],[43,\"73992_1x_BB7_01_17403\",\"onion, fried with butter and chantrelle mushrooms\",2303,\"Cheese & Dairy Products\"],[58,\"74031_1x_BF11_01_17483\",\"butter leaf lettuce, mixed in salad\",1899,\"Cheese & Dairy Products\"],[118,\"AMZ_36_RD7_01_48967\",\"Pasta with cheese\",2434,\"Cheese & Dairy Products\"],[121,\"AMZ_41_RE2_01_48968\",\"Pasta with cheese\",2460,\"Cheese & Dairy Products\"],[126,\"AMZ_47_RE8_01_48969\",\"Tequeos with cheese\",2468,\"Cheese & Dairy Products\"],[130,\"AMZ_5_RA6_01_48889\",\"Toasted bread with butter\",2487,\"Cheese & Dairy Products\"],[132,\"AMZ_7_RA8_01_48895\",\"Plantain with butter and sugar\",2511,\"Cheese & Dairy Products\"],[134,\"AMZ_9_RA10_01_49007\",\"Toasted bread with butter and turkey ham\",2469,\"Cheese & Dairy Products\"],[139,\"G72450_5x_BA3_01_18258\",\"organic butter\",1792,\"Cheese & Dairy Products\"],[145,\"G72458_10x_BB7_01_17809\",\"Trader Joe's mac'n'cheese\",2187,\"Cheese & Dairy Products\"],[148,\"G72461_10x_BE7_01_17843\",\"Philadelphia strawberry cream cheese\",2037,\"Cheese & Dairy Products\"],[157,\"G72473_5x_BA12_01_18267\",\"dubliner cheese\",2069,\"Cheese & Dairy Products\"],[162,\"G72484_1x_8ul_BE12_01_20201\",\"Philadelphia cream cheese\",2079,\"Cheese & Dairy Products\"],[186,\"G72643_5x_BE4_01_18315\",\"stilton colston basset\",2054,\"Cheese & Dairy Products\"],[187,\"G72644_5x_BF7_01_18332\",\"stilton colston basset\",2066,\"Cheese & Dairy Products\"],[188,\"G72645_5x_BD10_01_18307\",\"taleggio\",1882,\"Cheese & Dairy Products\"],[189,\"G72646_5x_BE8_01_18319\",\"taleggio\",1997,\"Cheese & Dairy Products\"],[191,\"G72668_5x_BH6_01_18404\",\"Kraft Reduced fat Parmesan cheese\",1724,\"Cheese & Dairy Products\"],[198,\"G72703_10x_BB10_01_17892\",\"Cheese, iberico, Trader Joe's\",2110,\"Cheese & Dairy Products\"],[202,\"G72712_10x_BE9_01_17845\",\"red wine cheese Costco sample Queso de Murcia al Vino Palacares\",2161,\"Cheese & Dairy Products\"],[203,\"G72713_10x_BF9_01_17857\",\"cheese sample, Costco Marin French Cheese; brie\",2202,\"Cheese & Dairy Products\"],[205,\"G72716_10x_BF10_01_17858\",\"cheese pizza, dough and cheese, Costco front store\",2188,\"Cheese & Dairy Products\"],[206,\"G72718_RF12_01_17621\",\"peanut butter\",2160,\"Cheese & Dairy Products\"],[221,\"G72749_10x_BG2_01_17920\",\"cheese, organic cheddar, Costco\",2109,\"Cheese & Dairy Products\"],[227,\"G72757_BA10_01_18918\",\"goat cheese with tomato dish\",2167,\"Cheese & Dairy Products\"],[234,\"G72768_BH12_01_19060\",\"butter\",2219,\"Cheese & Dairy Products\"],[237,\"G72771_rerun_BB10_01_19076\",\"chicken liver pate, cream, egg, cognac, fat around (pork fat back or bacon)\",2142,\"Cheese & Dairy Products\"],[239,\"G72773_5x_RC3_01_20159\",\"pizza from JG potluck with tomato and cheese; raw; uncooked\",1748,\"Cheese & Dairy Products\"],[241,\"G72777_5x_BB12_01_18281\",\"midnight moon cheese\",1983,\"Cheese & Dairy Products\"],[250,\"G72792_5x_BE10_01_18321\",\"Sonoma Jack Hot Pepper Jack Cheese\",1997,\"Cheese & Dairy Products\"],[251,\"G72793_5x_BA7_01_18262\",\"Sonoma Jack Traditional Jack Cheese\",2116,\"Cheese & Dairy Products\"],[252,\"G72794_5x_BB4_01_18273\",\"Sonoma Jack Cheddar Cheese\",2082,\"Cheese & Dairy Products\"],[253,\"G72795_5x_BF10_01_18335\",\"Sonoma Jack Garlic Jack Cheese\",1994,\"Cheese & Dairy Products\"],[287,\"G73463_5x_BH11_01_18409\",\"Jalapenosalsa cream cheese\",1902,\"Cheese & Dairy Products\"],[288,\"G73464_5x_BD11_01_18308\",\"Garden vegetable cream cheese\",1799,\"Cheese & Dairy Products\"],[289,\"G73465_5x_BD12_01_18309\",\"Honey almond cream cheese\",1822,\"Cheese & Dairy Products\"],[291,\"G73469_5x_BE9_01_18320\",\"blue cheese\",2058,\"Cheese & Dairy Products\"],[301,\"G73517_1x_10ul_RB2_01_19783\",\"cow milk, local, not pasteurized, etc. ; 2 day old\",2041,\"Cheese & Dairy Products\"],[302,\"G73518_1x_10ul_RC3_01_19802\",\"goat milk, local, not pasteurized, etc. ; 2 day old\",1898,\"Cheese & Dairy Products\"],[312,\"G73638_5x_10ul_BH9_01_19760\",\"cheese, CMI workshop\",1998,\"Cheese & Dairy Products\"],[315,\"G73641_2x_RF10_01_19188\",\"sour cream, CMI workshop\",2036,\"Cheese & Dairy Products\"],[320,\"G73653_5x_BG8_01_18392\",\"cheddar cheese\",1884,\"Cheese & Dairy Products\"],[321,\"G73654_5x_BD8_01_18305\",\"cheddar cheese\",1985,\"Cheese & Dairy Products\"],[322,\"G73655_5x_BB9_01_18278\",\"Ten Year Sharp Cheddar\",2138,\"Cheese & Dairy Products\"],[323,\"G73666_5x_BD4_01_18301\",\"manchego al ramero\",1894,\"Cheese & Dairy Products\"],[324,\"G73674_5x_BH4_01_18402\",\"epoisse\",1955,\"Cheese & Dairy Products\"],[325,\"G73675_5x_BE7_01_18318\",\"epoisse\",1982,\"Cheese & Dairy Products\"],[326,\"G73677_5x_BD2_01_18299\",\"robiola bosina\",1956,\"Cheese & Dairy Products\"],[327,\"G73678_5x_BG6_01_18390\",\"brie de meaux\",1973,\"Cheese & Dairy Products\"],[328,\"G73681_5x_BG3_01_18387\",\"chabichou du poitou\",2005,\"Cheese & Dairy Products\"],[329,\"G73686_5x_BF3_01_18328\",\"chabichou du poitou\",1980,\"Cheese & Dairy Products\"],[333,\"G73698_BC7_01_18945\",\"butter chicken sauce, Indian\",2139,\"Cheese & Dairy Products\"],[334,\"G73699_rerun_BE8_01_18707\",\"chicken from butter chicken dish, Indian\",2274,\"Cheese & Dairy Products\"],[344,\"G73718_5x_10ul_BF9_01_19738\",\"whipping cream (whipped)\",1555,\"Cheese & Dairy Products\"],[345,\"G73720_5x_10ul_BD9_01_19715\",\"whipping cream (unwhipped)\",1575,\"Cheese & Dairy Products\"],[348,\"G73728_5x_BB10_01_18279\",\"Roquefort Papillon\",2081,\"Cheese & Dairy Products\"],[360,\"G73958_BE6_01_19007\",\"tortilla with cheddar cheese from burrito\",2181,\"Cheese & Dairy Products\"],[361,\"G73964_1x_BF7_01_23203\",\"burrata mozzarella\",1256,\"Cheese & Dairy Products\"],[373,\"G74007_5x_BH12_01_18410\",\"raclette cheese\",1980,\"Cheese & Dairy Products\"],[376,\"G74016_1x_8ul_BA4_01_20280\",\"butter\",2032,\"Cheese & Dairy Products\"],[379,\"G74022_5x_BG11_01_18395\",\"cheese, brie\",1815,\"Cheese & Dairy Products\"],[380,\"G74023_5x_BE11_01_18322\",\"cheese, gouda with cumin\",2010,\"Cheese & Dairy Products\"],[381,\"G74024_5x_BH5_01_18403\",\"cheese, gouda\",1807,\"Cheese & Dairy Products\"],[384,\"G74032_5x_BF12_01_18337\",\"spreading cheese, herb flavored\",1789,\"Cheese & Dairy Products\"],[386,\"G74036_1x_RD4_01_18541\",\"yogurt drink\",2131,\"Cheese & Dairy Products\"],[389,\"G74053_1x_10ul_RD6_01_19817\",\"steamed straus whole milk\",2084,\"Cheese & Dairy Products\"],[403,\"G74088_1x_10ul_RG9_01_19902\",\"1% lowfat milk\",2198,\"Cheese & Dairy Products\"],[414,\"G74123_1x_10ul_RG8_01_19901\",\"tumeric, ginger, coconut milk\",2197,\"Cheese & Dairy Products\"],[418,\"G75087_5x_BF2_01_18327\",\"cheddar cheese\",1904,\"Cheese & Dairy Products\"],[425,\"G75122_2x_RA8_01_19103\",\"cream cheese\",2056,\"Cheese & Dairy Products\"],[439,\"G75161_5x_BE2_01_18313\",\"string cheese\",1685,\"Cheese & Dairy Products\"],[495,\"G75621_BF8_01_19026\",\"custard\",2269,\"Cheese & Dairy Products\"],[503,\"G75631_BB4_01_18926\",\"Kaes Spaetzle (Austrian Mac and Cheese)\",2225,\"Cheese & Dairy Products\"],[508,\"G75651_5x_10ul_BF8_01_19737\",\"havarti cheese\",2011,\"Cheese & Dairy Products\"],[516,\"G75672_2x_5ul_RD8_01_19423\",\"peanut butter with coconut oil\",2103,\"Cheese & Dairy Products\"],[537,\"G75720_1x_RH5_01_18597\",\"water kefir\",2157,\"Cheese & Dairy Products\"],[538,\"G75726_1x_RD6_01_18543\",\"kefir, home fermented\",2288,\"Cheese & Dairy Products\"],[543,\"G75746_1x_10ul_RH3_01_19911\",\"milk, whole\",2148,\"Cheese & Dairy Products\"],[545,\"G75748_1x_10ul_RD2_01_19813\",\"Straus heavy whipping cream\",1940,\"Cheese & Dairy Products\"],[546,\"G75751_1x_10ul_RH2_01_19910\",\"whole milk strauss (expiration Oct. 3rd)\",2056,\"Cheese & Dairy Products\"],[547,\"G75753_1x_10ul_RG4_01_19896\",\"almond milk (vanilla)\",2026,\"Cheese & Dairy Products\"],[549,\"G75756_1x_10ul_RA3_01_19684\",\"goat milk\",1971,\"Cheese & Dairy Products\"],[564,\"G75819_5x_2ul_BC3_01_19671\",\"milk Oolong\",1713,\"Cheese & Dairy Products\"],[576,\"G78820_BD12_01_19000\",\"home made stuffed peppers (cumin, salt, pepper, creamcheese, chedar cheese, mozerella cheese, bacon, jalipino peppers) \",2359,\"Cheese & Dairy Products\"],[578,\"G78826_5x_BC2_01_18285\",\"grilled cheese- cheese only\",1995,\"Cheese & Dairy Products\"],[579,\"G78829_1x_RE12_01_18865\",\"coconut milk fat\",1942,\"Cheese & Dairy Products\"],[583,\"G78840_5x_BE12_01_18323\",\"Boursin cheese\",2040,\"Cheese & Dairy Products\"],[632,\"G78977_5x_10ul_BE8_01_19725\",\"Sour Cream\",2051,\"Cheese & Dairy Products\"],[634,\"G78980_5x_10ul_BD8_01_19714\",\"Earth Balance olive oil (butter)\",1407,\"Cheese & Dairy Products\"],[637,\"G78984_5x_10ul_BC8_01_19678\",\"Dutch Traditional Gouda Cheese\",1977,\"Cheese & Dairy Products\"],[663,\"G79207_5x_10ul_BH8_01_19759\",\"Jalapeno jack cheese\",2013,\"Cheese & Dairy Products\"],[699,\"G79274_5x_BA2_01_18256\",\"feta cheese\",2175,\"Cheese & Dairy Products\"],[742,\"G79486_5x_BD12_01_19634\",\"havarti cheese trader joes sliced; plastic packaging \",1820,\"Cheese & Dairy Products\"],[750,\"G79516_5x_RD3_01_20174\",\"foal milk replacer\",1886,\"Cheese & Dairy Products\"],[751,\"G79518_1x_10ul_BE3_01_20289\",\"zoo logic milk matrix 42\\u002f25\",2130,\"Cheese & Dairy Products\"],[752,\"G79520_1x_BF3_01_20207\",\"kid milk replacer\",2253,\"Cheese & Dairy Products\"],[753,\"G79524_1x_10ul_BE2_01_20288\",\"powdered goat milk\",2034,\"Cheese & Dairy Products\"],[763,\"G79565_5x_10ul_RG5_01_19554\",\"feta\",2053,\"Cheese & Dairy Products\"],[776,\"G79626_1x_BF7_01_20219\",\"goat's milk esbilac for puppies\",1888,\"Cheese & Dairy Products\"],[807,\"G79699_5x_BH11_01_19704\",\"Stonyfield organic O'soy; soy yogurt\",2148,\"Cheese & Dairy Products\"],[808,\"G79700_5x_BG11_01_19667\",\"So Delicious dairy free; coconut milk; yogurt alternative\",1362,\"Cheese & Dairy Products\"],[809,\"G79702_5x_BD10_01_19632\",\"greek whole milk yogurt; avocado citrus\",1984,\"Cheese & Dairy Products\"],[813,\"G79712_5x_BB10_01_19624\",\"string cheese\",1641,\"Cheese & Dairy Products\"],[875,\"G83323_5x_RD11_01_21466\",\"herbed goat cheese\",2327,\"Cheese & Dairy Products\"],[883,\"G83344_1x_BB9_01_21546\",\"Mango yogurt drink\",1292,\"Cheese & Dairy Products\"],[884,\"G83345_1x_BC9_01_21881\",\"organic milk\",1131,\"Cheese & Dairy Products\"],[895,\"G83361_1x_BC11_01_21884\",\"Goats Milk ESBILAC, all natural whole goats milk, no preservatives\",1357,\"Cheese & Dairy Products\"],[896,\"G83362_1x_BD11_01_21890\",\"Kitten Milk replacer, PetAg brand\",1420,\"Cheese & Dairy Products\"],[900,\"G83367_1x_BH12_01_21913\",\"milk-based drink\",1356,\"Cheese & Dairy Products\"],[907,\"G83392_1x_RH8_01_21859\",\"M&M peanut butter (orange )\",2166,\"Cheese & Dairy Products\"],[908,\"G83393_1x_RD7_01_21807\",\"M&M peanut butter (Blue)\",1712,\"Cheese & Dairy Products\"],[914,\"G83403_1x_RA7_01_21731\",\"M&M peanut butter (Yellow)\",2058,\"Cheese & Dairy Products\"],[915,\"G83404_1x_RH7_01_21858\",\"M&M peanut butter (red)\",2109,\"Cheese & Dairy Products\"],[916,\"G83405_1x_RG7_01_21846\",\"M&M peanut butter (brown)\",2226,\"Cheese & Dairy Products\"],[925,\"G83424_1x_RF12_01_26451\",\"almond milk (has sweetner) new barn brand\",1570,\"Cheese & Dairy Products\"],[929,\"G83436_1x_BB11_01_26390\",\"organic whole milk straus\",1700,\"Cheese & Dairy Products\"],[938,\"G86702_1x_RA6_01_21730\",\"Reese's Peanut Butter (Peanut Butter part)\",1642,\"Cheese & Dairy Products\"],[953,\"G86722_1x_BF10_01_23206\",\"Dreaming cow yogurt\",1396,\"Cheese & Dairy Products\"],[956,\"G86731_1x_BD6_01_23170\",\"cheese pizza\",1585,\"Cheese & Dairy Products\"],[959,\"G86737_1x_BC2_01_23148\",\"peanut butter cup from nut mix\",1976,\"Cheese & Dairy Products\"],[986,\"G86786_1x_BE9_01_23190\",\"dubliner natural cheese, from costco (Kerrygold)\",1372,\"Cheese & Dairy Products\"],[996,\"G86806_1x_BD10_01_23175\",\"mac n cheese\",1883,\"Cheese & Dairy Products\"],[997,\"G86807_1x_BF8_01_23204\",\"parmesan cheese\",1466,\"Cheese & Dairy Products\"],[1011,\"G86836_1x_RF9_01_23367\",\"Peanut Butter (Smuckers)\",1291,\"Cheese & Dairy Products\"],[1012,\"G86839_1x_BH6_01_23232\",\"Philadelphia cream cheese spread\",1493,\"Cheese & Dairy Products\"],[1013,\"G86840_1x_BH9_01_23237\",\"Philadelphia cream cheese (1\\u002f3 less fat) spread\",1510,\"Cheese & Dairy Products\"],[1014,\"G86846_1x_10ul_RA3_01_23483\",\"milk\",1737,\"Cheese & Dairy Products\"],[1017,\"G86849_1x_RA5_01_23478\",\"heavy whipping cream\",1539,\"Cheese & Dairy Products\"],[1023,\"G86858_1x_RB4_01_23493\",\"pam butter spray\",1737,\"Cheese & Dairy Products\"],[1030,\"G86872_1x_BE10_01_23191\",\"homemade yogurt made with organic straus whole milk \",1394,\"Cheese & Dairy Products\"],[1032,\"G86876_1x_BE11_01_23192\",\"havarti cheese (365 brand)\",1689,\"Cheese & Dairy Products\"],[1037,\"G86888_1x_BB6_01_26558\",\"homemade yogurt; made with organic whole milk straus from jimbos; and starter yogurt also from jimbos plain (will find out brand name from Jan, jan. 30th batch)\",1595,\"Cheese & Dairy Products\"],[1043,\"G86895_1x_BA12_01_23127\",\"Mini Butter Croissants\",1986,\"Cheese & Dairy Products\"],[1044,\"G86896_1x_BC9_01_23156\",\"Nutter Butter\",1889,\"Cheese & Dairy Products\"],[1081,\"G86958_1x_RC6_01_23512\",\"whole milk\",1616,\"Cheese & Dairy Products\"],[1082,\"G86959_1x_RC7_01_23515\",\"almond breeze almond milk\",1308,\"Cheese & Dairy Products\"],[1083,\"G86962_1x_RC10_01_23518\",\"Milk 2% Reduced Fat\",1496,\"Cheese & Dairy Products\"],[1085,\"G86968_1x_RH9_01_26477\",\"Heavy whipping cream\",2168,\"Cheese & Dairy Products\"],[1105,\"G87336_RC9_01_26105\",\"ricotta cow\",1645,\"Cheese & Dairy Products\"],[1106,\"G87338_RC11_01_26107\",\"Pecorino Crusca Antico 2 years\",1525,\"Cheese & Dairy Products\"],[1110,\"G87353_1x_BF3_01_26153\",\"low-fat yogurt\",1770,\"Cheese & Dairy Products\"],[1111,\"G87354_1x_BF2_01_26152\",\"low-fat blueberry yogurt\",1855,\"Cheese & Dairy Products\"],[1125,\"G87396_1x_BF8_01_26131\",\"ginger kefir\",1840,\"Cheese & Dairy Products\"],[1133,\"G87411_1x_BF7_01_26130\",\"truffle cow cheese\",1885,\"Cheese & Dairy Products\"],[1134,\"G87412_1x_BF6_01_26129\",\"squaqquerello cheese\",1713,\"Cheese & Dairy Products\"],[1135,\"G87413_1x_BF5_01_26127\",\"goat cheese\",2004,\"Cheese & Dairy Products\"],[1136,\"G87414_1x_BF4_01_26126\",\"goat cheese\",1893,\"Cheese & Dairy Products\"],[1138,\"G87419_1x_BC7_01_26019\",\"pumpkin and cheese\",1703,\"Cheese & Dairy Products\"],[1152,\"G87444_1x_BB7_01_26002\",\"red habanero cream\",2026,\"Cheese & Dairy Products\"],[1159,\"G87456_1x_BE6_01_26595\",\"homemade yogurt; made with organic whole milk straus from jimbos; and starter yogurt also from jimbos plain (will find out brand name from Jan, jan. 23 batch)\",1428,\"Cheese & Dairy Products\"],[1160,\"G87459_1x_BF6_01_26626\",\"chobani greek yogurt with peach fruit mixed in (from mandeville coffee cart)\",1769,\"Cheese & Dairy Products\"],[1161,\"G87460_1x_BG6_01_26637\",\"chobani greek yogurt WITHOUT peach fruit mixed\",1963,\"Cheese & Dairy Products\"],[1177,\"G87487_1x_BF5_01_26625\",\"Raclette curd\",1988,\"Cheese & Dairy Products\"],[1178,\"G87488_1x_BH6_01_26653\",\"Crumbled Goat Cheese\",1960,\"Cheese & Dairy Products\"],[1184,\"G87497_1x_BA3_01_26538\",\"Artisan Almond Milk Yogurt Kite Hill Peach\",1877,\"Cheese & Dairy Products\"],[1186,\"G87505_1x_RH2_01_26468\",\"Teddy's old fashioned orange and cream soda\",1924,\"Cheese & Dairy Products\"],[1352,\"G95952_BA6_01_31659\",\"milk with yogurt culture\",1877,\"Cheese & Dairy Products\"],[1353,\"G95953_BB6_01_31682\",\"milk with yogurt culture\",1878,\"Cheese & Dairy Products\"],[1354,\"G95954_RF12_01_31571\",\"milk with yogurt culture\",1945,\"Cheese & Dairy Products\"],[1355,\"G95955_RE10_01_31522\",\"milk with yogurt culture\",1910,\"Cheese & Dairy Products\"],[1356,\"G95956_repeat_RB5_01_31534\",\"milk with yogurt culture\",1940,\"Cheese & Dairy Products\"],[1357,\"G95957_repeat_RD7_01_31618\",\"milk with yogurt culture\",1925,\"Cheese & Dairy Products\"],[1358,\"G95958_RD2_01_31497\",\"milk with yogurt culture\",1987,\"Cheese & Dairy Products\"],[1359,\"G95959_RH9_01_31605\",\"milk with yogurt culture\",2084,\"Cheese & Dairy Products\"],[1360,\"G95960_repeat_RB10_01_31547\",\"milk with yogurt culture\",1861,\"Cheese & Dairy Products\"],[1361,\"G95961_BB10_01_31688\",\"yogurt\",1912,\"Cheese & Dairy Products\"],[1362,\"G95962_BB3_01_31674\",\"yogurt\",1865,\"Cheese & Dairy Products\"],[1363,\"G95963_repeat_BA7_01_31708\",\"yogurt\",1953,\"Cheese & Dairy Products\"],[1364,\"G95964_RA4_01_31456\",\"yogurt\",1791,\"Cheese & Dairy Products\"],[1365,\"G95965_RH3_01_31592\",\"yogurt\",1730,\"Cheese & Dairy Products\"],[1366,\"G95966_repeat_RH11_01_31645\",\"yogurt\",1861,\"Cheese & Dairy Products\"],[1367,\"G95967_BA12_01_31669\",\"yogurt\",1963,\"Cheese & Dairy Products\"],[1368,\"G95968_BA2_01_31653\",\"yogurt\",2006,\"Cheese & Dairy Products\"],[1369,\"G95969_RC10_01_31493\",\"yogurt\",1983,\"Cheese & Dairy Products\"],[1370,\"G95970_RF9_01_31564\",\"yogurt\",1943,\"Cheese & Dairy Products\"],[1371,\"G95971_repeat_RG8_01_31631\",\"yogurt\",1937,\"Cheese & Dairy Products\"],[1372,\"G95972_RC8_01_31491\",\"yogurt\",1994,\"Cheese & Dairy Products\"],[1373,\"G95973_repeat_RG9_01_31632\",\"yogurt\",1606,\"Cheese & Dairy Products\"],[1374,\"G95974_repeat_RC3_01_31613\",\"yogurt\",1767,\"Cheese & Dairy Products\"],[1375,\"G95975_repeat2_RB6_01_31539\",\"yogurt\",1788,\"Cheese & Dairy Products\"],[1376,\"G95976_BB9_01_31687\",\"yogurt\",1928,\"Cheese & Dairy Products\"],[1377,\"G95977_BB2_01_31673\",\"yogurt\",1824,\"Cheese & Dairy Products\"],[1378,\"G95978_BB8_01_31686\",\"yogurt\",1946,\"Cheese & Dairy Products\"],[1379,\"G95979_repeat_RB7_01_31541\",\"milk with yogurt culture\",1675,\"Cheese & Dairy Products\"],[1380,\"G95980_RF6_01_31559\",\"milk with yogurt culture\",1855,\"Cheese & Dairy Products\"],[1381,\"G95981_RG7_01_31582\",\"milk with yogurt culture\",1902,\"Cheese & Dairy Products\"],[1382,\"G95982_repeat_RB8_01_31543\",\"milk with yogurt culture\",1799,\"Cheese & Dairy Products\"],[1383,\"G95983_RA9_01_31462\",\"milk with yogurt culture\",1822,\"Cheese & Dairy Products\"],[1384,\"G95984_repeat_RG10_01_31635\",\"milk with yogurt culture\",1660,\"Cheese & Dairy Products\"],[1385,\"G95985_repeat_RH6_01_31641\",\"milk with yogurt culture\",1866,\"Cheese & Dairy Products\"],[1386,\"G95986_RC2_01_31484\",\"milk with yogurt culture\",1904,\"Cheese & Dairy Products\"],[1387,\"G95987_repeat_RB2_01_31528\",\"milk with yogurt culture\",1900,\"Cheese & Dairy Products\"],[1424,\"G96095_RA11_01_31464\",\"yogurt\",2041,\"Cheese & Dairy Products\"],[1425,\"G96096_RC12_01_31495\",\"yogurt\",1898,\"Cheese & Dairy Products\"],[1426,\"G96097_RF7_01_31562\",\"yogurt\",1995,\"Cheese & Dairy Products\"],[1427,\"G96098_RF10_01_31569\",\"yogurt\",1800,\"Cheese & Dairy Products\"],[1428,\"G96099_RE8_01_31518\",\"yogurt\",1713,\"Cheese & Dairy Products\"],[1429,\"G96100_repeat_RG11_01_31636\",\"yogurt\",1728,\"Cheese & Dairy Products\"],[1430,\"G96101_BB5_01_31681\",\"yogurt\",1950,\"Cheese & Dairy Products\"],[1431,\"G96102_BA11_01_31668\",\"yogurt\",1886,\"Cheese & Dairy Products\"],[1432,\"G96103_BA8_01_31663\",\"yogurt\",1940,\"Cheese & Dairy Products\"],[1433,\"G96104_RD12_01_31508\",\"milk with yogurt culture\",1853,\"Cheese & Dairy Products\"],[1434,\"G96105_RH4_01_31594\",\"milk with yogurt culture\",1838,\"Cheese & Dairy Products\"],[1435,\"G96106_repeat_RH5_01_31640\",\"milk with yogurt culture\",1666,\"Cheese & Dairy Products\"],[1436,\"G96107_repeat_RD4_01_31616\",\"milk with yogurt culture\",1761,\"Cheese & Dairy Products\"],[1437,\"G96108_RC5_01_31487\",\"milk with yogurt culture\",1881,\"Cheese & Dairy Products\"],[1438,\"G96109_repeat_RB11_01_31549\",\"milk with yogurt culture\",1831,\"Cheese & Dairy Products\"],[1439,\"G96110_RD10_01_31506\",\"milk with yogurt culture\",1809,\"Cheese & Dairy Products\"],[1440,\"G96111_RC7_01_31490\",\"milk with yogurt culture\",1796,\"Cheese & Dairy Products\"],[1441,\"G96112_repeat_RB9_01_31545\",\"milk with yogurt culture\",1718,\"Cheese & Dairy Products\"],[1442,\"G96113_repeat_RD9_01_31622\",\"yogurt\",1999,\"Cheese & Dairy Products\"],[1443,\"G96114_RF5_01_31558\",\"yogurt\",1977,\"Cheese & Dairy Products\"],[1444,\"G96115_RA12_01_31465\",\"yogurt\",2058,\"Cheese & Dairy Products\"],[1445,\"G96116_BA9_01_31664\",\"yogurt\",1746,\"Cheese & Dairy Products\"],[1446,\"G96117_BA3_01_31654\",\"yogurt\",1762,\"Cheese & Dairy Products\"],[1447,\"G96118_BB4_01_31675\",\"yogurt\",1705,\"Cheese & Dairy Products\"],[1448,\"G96119_BA5_01_31658\",\"yogurt\",1897,\"Cheese & Dairy Products\"],[1449,\"G96120_BA10_01_31665\",\"yogurt\",1891,\"Cheese & Dairy Products\"],[1450,\"G96121_BA4_01_31655\",\"yogurt\",1906,\"Cheese & Dairy Products\"],[1451,\"G96123_RE6_01_31514\",\"milk with yogurt culture\",1730,\"Cheese & Dairy Products\"],[1452,\"G96124_RE3_01_31511\",\"milk with yogurt culture\",1746,\"Cheese & Dairy Products\"],[1453,\"G96125_RF8_01_31563\",\"milk with yogurt culture\",1678,\"Cheese & Dairy Products\"],[1454,\"G96126_RD11_01_31507\",\"milk with yogurt culture\",1793,\"Cheese & Dairy Products\"],[1455,\"G96127_RF4_01_31556\",\"milk with yogurt culture\",1794,\"Cheese & Dairy Products\"],[1456,\"G96128_repeat2_BB7_01_31703\",\"milk with yogurt culture\",1810,\"Cheese & Dairy Products\"],[1457,\"G96129_RF11_01_31570\",\"milk with yogurt culture\",1816,\"Cheese & Dairy Products\"],[1458,\"G96130_RE9_01_31521\",\"milk with yogurt culture\",1771,\"Cheese & Dairy Products\"],[1470,\"G96167_RA5_01_31457\",\"yogurt\",1947,\"Cheese & Dairy Products\"],[1471,\"G96168_RC9_01_31492\",\"yogurt\",1864,\"Cheese & Dairy Products\"],[1472,\"G96169_RH2_01_31591\",\"yogurt\",1940,\"Cheese & Dairy Products\"],[1473,\"G96170_RE4_01_31512\",\"yogurt\",1741,\"Cheese & Dairy Products\"],[1474,\"G96171_repeat_RC4_01_31614\",\"yogurt\",1879,\"Cheese & Dairy Products\"],[1475,\"G96172_repeat_RB12_01_31551\",\"yogurt\",1830,\"Cheese & Dairy Products\"],[1476,\"G96173_repeat_RG2_01_31630\",\"yogurt\",1989,\"Cheese & Dairy Products\"],[1477,\"G96174_RE12_01_31527\",\"yogurt\",1946,\"Cheese & Dairy Products\"],[1478,\"G96175_RH8_01_31604\",\"yogurt\",1990,\"Cheese & Dairy Products\"],[1479,\"G96176_repeat_RE2_01_31625\",\"milk with yogurt culture\",1859,\"Cheese & Dairy Products\"],[1480,\"G96177_repeat_RG12_01_31637\",\"milk with yogurt culture\",1872,\"Cheese & Dairy Products\"],[1481,\"G96180_RG4_01_31577\",\"milk with yogurt culture\",1710,\"Cheese & Dairy Products\"],[1482,\"G96181_repeat_RE11_01_31525\",\"milk with yogurt culture\",1710,\"Cheese & Dairy Products\"],[1483,\"G96182_repeat_RB4_01_31533\",\"milk with yogurt culture\",1699,\"Cheese & Dairy Products\"],[1484,\"G96183_RF2_01_31554\",\"milk with yogurt culture\",1705,\"Cheese & Dairy Products\"],[1485,\"G96184_RA6_01_31459\",\"milk with yogurt culture\",1847,\"Cheese & Dairy Products\"],[1486,\"G96185_repeat_RD3_01_31615\",\"yogurt\",1979,\"Cheese & Dairy Products\"],[1487,\"G96186_RE7_01_31516\",\"yogurt\",1917,\"Cheese & Dairy Products\"],[1488,\"G96187_RG3_01_31575\",\"yogurt\",1929,\"Cheese & Dairy Products\"],[1489,\"G96188_RF3_01_31555\",\"yogurt\",1674,\"Cheese & Dairy Products\"],[1490,\"G96189_RA7_01_31460\",\"yogurt\",1854,\"Cheese & Dairy Products\"],[1491,\"G96190_RE5_01_31513\",\"yogurt\",1702,\"Cheese & Dairy Products\"],[1492,\"G96191_RA8_01_31461\",\"yogurt\",2048,\"Cheese & Dairy Products\"],[1493,\"G96192_RH7_01_31602\",\"yogurt\",2056,\"Cheese & Dairy Products\"],[1494,\"G96193_repeat_RD8_01_31648\",\"yogurt\",1953,\"Cheese & Dairy Products\"],[1495,\"G96194_RD5_01_31500\",\"milk with yogurt culture\",1993,\"Cheese & Dairy Products\"],[1496,\"G96195_RG6_01_31579\",\"milk with yogurt culture\",1785,\"Cheese & Dairy Products\"],[1497,\"G96196_RC6_01_31488\",\"milk with yogurt culture\",1858,\"Cheese & Dairy Products\"],[1498,\"G96197_RA10_01_31463\",\"milk with yogurt culture\",1779,\"Cheese & Dairy Products\"],[1499,\"G96198_repeat_RH12_01_31646\",\"milk with yogurt culture\",1769,\"Cheese & Dairy Products\"],[1500,\"G96199_RC11_01_31494\",\"milk with yogurt culture\",1730,\"Cheese & Dairy Products\"],[1501,\"G96200_RA3_01_31454\",\"milk with yogurt culture\",1806,\"Cheese & Dairy Products\"],[1502,\"G96201_RG5_01_31578\",\"milk with yogurt culture\",1738,\"Cheese & Dairy Products\"],[1503,\"G96202_repeat_RD6_01_31617\",\"milk with yogurt culture\",1783,\"Cheese & Dairy Products\"],[1623,\"G96383_RA9_01_31737\",\"organic high vitamin D milk\",1669,\"Cheese & Dairy Products\"],[1624,\"G96384_RB6_01_31763\",\"organic high vitamin D milk\",1811,\"Cheese & Dairy Products\"],[1625,\"G96385_RB3_01_31754\",\"organic high vitamin D milk\",1753,\"Cheese & Dairy Products\"],[1626,\"G96386_repeat_RA5_01_31726\",\"organic high vitamin D milk\",1572,\"Cheese & Dairy Products\"],[1627,\"G96387_RB4_01_31757\",\"organic high vitamin D milk\",1765,\"Cheese & Dairy Products\"],[1628,\"G96388_RA7_01_31720\",\"organic high vitamin D milk\",1675,\"Cheese & Dairy Products\"],[1629,\"G96389_repeat2_RA4_01_31723\",\"organic high vitamin D milk\",1642,\"Cheese & Dairy Products\"],[1630,\"G96390_RA6_01_31716\",\"organic high vitamin D milk\",1743,\"Cheese & Dairy Products\"],[1631,\"G96391_RB8_01_31772\",\"organic high vitamin D milk\",1700,\"Cheese & Dairy Products\"],[1632,\"G96392_RA2_01_31694\",\"organic high vitamin D milk\",1749,\"Cheese & Dairy Products\"],[1633,\"G96393_RB5_01_31760\",\"organic high vitamin D milk\",1683,\"Cheese & Dairy Products\"],[1634,\"G96394_RA10_01_31740\",\"organic high vitamin D milk\",1833,\"Cheese & Dairy Products\"],[1635,\"G96395_RA12_01_31746\",\"organic high vitamin D milk\",1779,\"Cheese & Dairy Products\"],[1636,\"G96396_RA8_01_31734\",\"organic high vitamin D milk\",1709,\"Cheese & Dairy Products\"],[1637,\"G96397_repeat_RA3_01_31710\",\"organic high vitamin D milk\",1669,\"Cheese & Dairy Products\"],[1638,\"G96398_RB7_01_31769\",\"organic high vitamin D milk\",1743,\"Cheese & Dairy Products\"],[1639,\"G96399_RB2_01_31751\",\"organic high vitamin D milk\",1797,\"Cheese & Dairy Products\"],[1640,\"G96400_RA11_01_31743\",\"organic high vitamin D milk\",1802,\"Cheese & Dairy Products\"],[1833,\"RB7_RB7_01_49072\",\"goat.milk\",2421,\"Cheese & Dairy Products\"],[1841,\"RC8_RC8_01_49086\",\"goat.cheese\",2550,\"Cheese & Dairy Products\"],[1859,\"VA7_2x_RB7_01_21616\",\"cheese pasta\",1672,\"Cheese & Dairy Products\"]],\"hovertemplate\":\"color=Cheese & Dairy Products\\u003cbr\\u003ex=%{x}\\u003cbr\\u003ey=%{y}\\u003cbr\\u003ehover_data_0=%{customdata[0]}\\u003cbr\\u003ehover_data_1=%{customdata[1]}\\u003cbr\\u003ehover_data_2=%{customdata[2]}\\u003cbr\\u003ehover_data_3=%{customdata[3]}\\u003cbr\\u003ehover_data_4=%{customdata[4]}\\u003cextra\\u003e\\u003c\\u002fextra\\u003e\",\"legendgroup\":\"Cheese & Dairy Products\",\"marker\":{\"color\":\"#FF9616\",\"symbol\":\"circle\"},\"mode\":\"markers\",\"name\":\"Cheese & Dairy Products\",\"showlegend\":true,\"x\":[11.974211692810059,12.207748413085938,7.946465015411377,13.463547706604004,14.436284065246582,-3.9657719135284424,-3.8572752475738525,-4.811492919921875,-5.723901271820068,-5.747258186340332,-4.810978889465332,13.3674955368042,13.722421646118164,13.1782808303833,13.1088285446167,13.464042663574219,14.927145004272461,13.609435081481934,15.54001235961914,13.36066722869873,12.728723526000977,15.371367454528809,14.729503631591797,14.22974967956543,13.574849128723145,14.99804973602295,15.42875862121582,13.904403686523438,13.790019989013672,14.550810813903809,9.951178550720215,13.222962379455566,15.368220329284668,14.864408493041992,15.091475486755371,15.595192909240723,12.840530395507812,12.484883308410645,12.470148086547852,14.379389762878418,13.67466926574707,12.094585418701172,15.479756355285645,13.712653160095215,14.808221817016602,14.706131935119629,14.648430824279785,13.163193702697754,14.191040992736816,15.197856903076172,14.565634727478027,15.283681869506836,12.995524406433105,14.020719528198242,11.07082748413086,10.735535621643066,13.34632682800293,13.221837043762207,14.267271995544434,16.557861328125,8.824712753295898,15.302841186523438,13.877427101135254,14.698335647583008,14.917572975158691,13.719172477722168,12.771636009216309,17.886796951293945,13.059022903442383,15.265233039855957,15.743697166442871,13.454297065734863,14.361669540405273,12.528444290161133,14.17917537689209,13.472591400146484,15.403223037719727,12.779716491699219,18.145185470581055,17.190385818481445,14.689973831176758,14.248510360717773,15.246123313903809,15.825560569763184,13.806700706481934,11.44607925415039,14.20690631866455,12.980672836303711,13.681818008422852,14.341529846191406,15.250699043273926,11.495705604553223,15.496779441833496,15.29341983795166,14.994091987609863,14.731876373291016,14.44661808013916,13.726960182189941,13.527447700500488,13.033944129943848,14.928603172302246,13.407472610473633,13.071009635925293,12.407540321350098,12.546428680419922,12.916239738464355,14.448202133178711,11.639573097229004,10.58690071105957,11.072091102600098,10.866381645202637,3.2792091369628906,10.625639915466309,10.991888999938965,11.381827354431152,11.154824256896973,10.978550910949707,9.622894287109375,13.485405921936035,10.983563423156738,9.106825828552246,8.21919059753418,12.521159172058105,8.515800476074219,15.558709144592285,8.878499031066895,10.352211952209473,9.077546119689941,9.128500938415527,13.885751724243164,14.030704498291016,14.856433868408203,9.107091903686523,15.822053909301758,12.107479095458984,9.77762222290039,8.7067232131958,11.94827651977539,8.903960227966309,13.398357391357422,15.241537094116211,13.077363014221191,13.218750953674316,12.935646057128906,12.850451469421387,12.875980377197266,15.104789733886719,14.265034675598145,14.004003524780273,14.284313201904297,12.373529434204102,12.780171394348145,9.174817085266113,11.999691009521484,12.838295936584473,15.399227142333984,14.386621475219727,12.397457122802734,8.891372680664062,12.634568214416504,12.585354804992676,12.46169662475586,12.246187210083008,12.356513977050781,12.686873435974121,12.29387378692627,12.370985984802246,11.463643074035645,11.967131614685059,11.569677352905273,12.086434364318848,9.195549964904785,8.893906593322754,4.579216957092285,10.239544868469238,10.197402954101562,13.014058113098145,13.193855285644531,10.225296020507812,12.923479080200195,4.799665451049805,4.611266136169434,9.244468688964844,11.993844985961914,11.324740409851074,11.912064552307129,10.760133743286133,12.258703231811523,12.351655006408691,11.557462692260742,10.893001556396484,10.09964370727539,12.548931121826172,11.978458404541016,12.329375267028809,13.381722450256348,13.176517486572266,13.305668830871582,9.195269584655762,8.937713623046875,4.771217346191406,11.79830265045166,11.29774284362793,11.652929306030273,11.756160736083984,11.095853805541992,10.089515686035156,10.319550514221191,12.39176082611084,12.20931339263916,11.178088188171387,10.913080215454102,10.75640869140625,10.451515197753906,13.464016914367676,13.296189308166504,4.762016296386719,4.7267746925354,4.821605682373047,11.415127754211426,11.336823463439941,11.468221664428711,10.157657623291016,10.353935241699219,10.68720817565918,11.005365371704102,12.448259353637695,12.173510551452637,12.840538024902344,12.873382568359375,13.054841041564941,12.15357494354248,12.503190040588379,8.95125961303711,4.554283142089844,9.618045806884766,10.188386917114258,13.330961227416992,10.14162826538086,10.3558988571167,10.365665435791016,10.694564819335938,10.80263614654541,10.693315505981445,10.247007369995117,9.931255340576172,10.826827049255371,12.655264854431152,12.360918045043945,9.053491592407227,9.52788257598877,9.087282180786133,13.327223777770996,10.210498809814453,10.250534057617188,13.14944839477539,12.541285514831543,12.388861656188965,10.489962577819824,10.141372680664062,10.395586013793945,10.022526741027832,10.669976234436035,10.143312454223633,2.6334879398345947,3.107391357421875,2.8991265296936035,2.7773642539978027,2.6990063190460205,2.5561788082122803,2.695085287094116,2.469853401184082,2.39574933052063,2.699503183364868,2.9946460723876953,3.0701119899749756,2.5619921684265137,2.7476284503936768,2.7203783988952637,3.1083476543426514,2.9355297088623047,2.543682336807251,-4.1149115562438965,-5.661415100097656,13.503438949584961],\"xaxis\":\"x\",\"y\":[0.9603300094604492,0.712678074836731,5.768924236297607,10.886672973632812,10.26815128326416,6.850955009460449,6.660059452056885,5.9671173095703125,6.078497409820557,6.450652599334717,6.156986236572266,5.300326824188232,0.7768542170524597,0.882880687713623,0.8312011957168579,1.752676248550415,-0.9754791855812073,0.02341461554169655,-0.8635124564170837,0.1962406188249588,1.0831084251403809,-0.7069756984710693,-0.5954474210739136,0.8373212218284607,1.6387555599212646,6.803203105926514,-0.5153294205665588,0.02295629493892193,3.9967987537384033,4.085144519805908,7.6740498542785645,0.39265501499176025,-0.7690681219100952,-0.5733991861343384,-0.7080279588699341,-0.6468501091003418,1.716976523399353,1.3955825567245483,1.620117425918579,-0.7542812824249268,1.5012480020523071,4.959892272949219,-0.17159415781497955,-0.3359462320804596,-0.6195769906044006,-0.8360859751701355,-0.901522159576416,0.5753961205482483,-0.4856380224227905,-0.9299946427345276,-0.2800253927707672,-0.7059975266456604,1.2232837677001953,-0.4245331883430481,8.407222747802734,8.672889709472656,6.073762893676758,6.254592418670654,-0.8944799900054932,6.133669376373291,2.739788293838501,-0.9578897356987,4.784168720245361,-0.30192747712135315,-0.35246938467025757,-0.07210565358400345,1.1432511806488037,6.59437894821167,4.560800552368164,1.5930694341659546,1.4042315483093262,0.26125770807266235,4.797292232513428,1.3633004426956177,4.288147926330566,2.583759069442749,-0.1137399971485138,2.5942108631134033,7.853119850158691,5.924142837524414,1.6140440702438354,6.9363179206848145,1.4735609292984009,1.3635635375976562,1.3050967454910278,5.2596564292907715,0.8531877994537354,0.9308659434318542,9.733101844787598,0.14244231581687927,-0.19827604293823242,4.9804792404174805,-0.4361720681190491,-0.27448004484176636,-0.5705844759941101,-0.3893658220767975,5.182694911956787,4.5722246170043945,2.314023494720459,4.427456378936768,-0.13200445473194122,4.3058342933654785,3.6526715755462646,4.918591499328613,1.396105408668518,1.2424712181091309,0.5478556752204895,5.781419277191162,0.9773770570755005,0.39345964789390564,0.41220879554748535,4.510521411895752,2.8898088932037354,5.134286880493164,3.4787373542785645,2.878859758377075,2.939817428588867,6.595525741577148,6.494765758514404,5.590308666229248,2.110236406326294,4.567155838012695,4.128040790557861,3.043513059616089,-0.7517768144607544,2.434904098510742,4.893847942352295,1.3168989419937134,1.2285360097885132,6.847993850708008,7.084714412689209,7.830740451812744,1.7995622158050537,-0.9076464176177979,0.5377374291419983,5.226430416107178,5.028788089752197,0.5183451175689697,5.5741047859191895,6.564966201782227,4.452713966369629,4.33653450012207,3.471306085586548,1.6929042339324951,5.370016098022461,1.1866161823272705,-0.3811643719673157,0.3836795389652252,0.22145932912826538,0.2559090852737427,5.316873073577881,5.682694911956787,5.259378910064697,0.7849830389022827,0.9992608428001404,-0.5812453627586365,-0.1939929574728012,7.337603569030762,7.3656744956970215,-0.13437150418758392,-0.3983669579029083,-0.3745134472846985,-0.14359499514102936,-0.13997231423854828,-0.2718139588832855,-0.3764493465423584,0.6695181727409363,-0.770051896572113,-4.050242900848389,-4.585437774658203,-3.5955557823181152,0.011308754794299603,-0.16634826362133026,-8.781472206115723,-4.847704887390137,-4.989381313323975,-2.0034873485565186,-1.70091712474823,-4.7501630783081055,-1.9069916009902954,-8.558847427368164,-8.748228073120117,-0.36893925070762634,-3.9148666858673096,-4.531548976898193,-3.916224956512451,-1.501895785331726,-0.19192473590373993,0.24540294706821442,-0.7114906311035156,-0.9335591197013855,-2.6720616817474365,-0.5166314244270325,-0.1937977820634842,-0.6178374886512756,-1.3633862733840942,-1.8092281818389893,-1.5559217929840088,-0.19258955121040344,-0.0024191366974264383,-8.588205337524414,-4.078856945037842,-4.449200630187988,-4.259166240692139,-0.5428218841552734,-0.9875149130821228,-3.1605019569396973,-3.9106078147888184,-2.3851449489593506,-2.773318290710449,-0.9736236929893494,-1.0054826736450195,-1.7171566486358643,-4.791994094848633,-1.2858587503433228,-1.0286632776260376,-8.597575187683105,-8.633099555969238,-8.537714004516602,-4.502222061157227,-4.355595111846924,-4.346181392669678,-1.416097640991211,-1.250597596168518,-1.38742995262146,-1.1777379512786865,-0.3404296636581421,-3.1815600395202637,-2.445195436477661,-2.447322368621826,-2.098187208175659,-2.1763272285461426,-2.3994970321655273,-0.17226122319698334,-8.805097579956055,-0.6244474649429321,-4.862518787384033,-1.548362135887146,-4.844823837280273,-4.3866987228393555,-4.521030426025391,-1.417323112487793,-1.2525405883789062,-1.6463127136230469,-1.299997091293335,-1.0213733911514282,-4.398839473724365,-2.228119134902954,-2.600928783416748,0.15721456706523895,-0.5362155437469482,-0.12239478528499603,-1.39311945438385,-4.934950828552246,-4.965838432312012,-1.1141225099563599,-2.669807195663452,-2.4449727535247803,-1.190064787864685,-3.3225228786468506,-1.088599443435669,-1.1962134838104248,-1.4117220640182495,-3.439173460006714,5.311592102050781,4.436096668243408,4.638759613037109,5.690630912780762,4.901722431182861,5.346791744232178,5.497628688812256,5.173135757446289,5.114564418792725,5.653647422790527,4.7479352951049805,4.543247222900391,5.1740899085998535,5.03643798828125,5.60224723815918,4.488248348236084,4.657610893249512,4.980442523956299,7.6600728034973145,7.193103313446045,7.020246505737305],\"yaxis\":\"y\",\"type\":\"scattergl\"},{\"customdata\":[[33,\"73510_1x_BE4_01_20752\",\"9 soy sauce\",1855,\"Condiments, Sauces & Oils\"],[102,\"78856_1x_BF6_01_20763\",\"soy sauce\",1959,\"Condiments, Sauces & Oils\"],[164,\"G72490_5x_RA6_01_20124\",\"Green Hot Sauce\",1934,\"Condiments, Sauces & Oils\"],[165,\"G72491_p10_h6_GD8_01_21653\",\"Hot Hot Sauce\",1912,\"Condiments, Sauces & Oils\"],[170,\"G72506_1x_BG12_01_20237\",\"Monschauer Senf, Urrezept; german mustard directly from Monschau; just opened\",2045,\"Condiments, Sauces & Oils\"],[208,\"G72721_1x_BF6_01_20218\",\"dijon mustard\",2123,\"Condiments, Sauces & Oils\"],[267,\"G72836_1x_RF2_01_18567\",\"teriyaki sauce\",2229,\"Condiments, Sauces & Oils\"],[308,\"G73532_1x_BH12_01_20278\",\"Spices in oil for filet mignon\",1779,\"Condiments, Sauces & Oils\"],[364,\"G73979_1x_BF5_01_20217\",\"Frontier salsa\",2276,\"Condiments, Sauces & Oils\"],[368,\"G73988_5x_RE4_01_20191\",\"BBQ sauce\",2017,\"Condiments, Sauces & Oils\"],[374,\"G74008_1x_BF4_01_20216\",\"hollondaise sauce\",2261,\"Condiments, Sauces & Oils\"],[377,\"G74017_5x_RC4_01_20160\",\"ketchup\",1894,\"Condiments, Sauces & Oils\"],[395,\"G74072_1x_10ul_RC8_01_19808\",\"olive oil\",1929,\"Condiments, Sauces & Oils\"],[396,\"G74073_1x_10ul_RA6_01_19774\",\"canola oil\",1870,\"Condiments, Sauces & Oils\"],[397,\"G74074_1x_RF11_01_18576\",\"balsamic vinegar\",2245,\"Condiments, Sauces & Oils\"],[398,\"G74076_1x_RB11_01_18619\",\"cider vinegar\",2066,\"Condiments, Sauces & Oils\"],[405,\"G74097_1x_BB12_01_20153\",\"mild salsa\",2097,\"Condiments, Sauces & Oils\"],[406,\"G74098_5x_RD8_01_20180\",\"green salsa\",2063,\"Condiments, Sauces & Oils\"],[407,\"G74099_5x_RD12_01_20184\",\"spicy salsa\",1930,\"Condiments, Sauces & Oils\"],[410,\"G74117_1x_10ul_RB8_01_19791\",\"red curry sauce\",2108,\"Condiments, Sauces & Oils\"],[479,\"G75573_1x_BH9_01_20274\",\"red sauce\",2291,\"Condiments, Sauces & Oils\"],[519,\"G75678_5x_RB9_01_20149\",\"green sauce pesto like\",2022,\"Condiments, Sauces & Oils\"],[551,\"G75762_1x_10ul_RF9_01_19888\",\"special sauce from Board and Brew\",2192,\"Condiments, Sauces & Oils\"],[652,\"G79180_1x_BG7_01_20232\",\"tapatio salsa picante\",2229,\"Condiments, Sauces & Oils\"],[653,\"G79181_5x_RA7_01_20126\",\"organic ketchup\",1996,\"Condiments, Sauces & Oils\"],[667,\"G79217_p13_c12_GA4_01_21638\",\"mayonaise w\\u002f olive oil dressing\",1412,\"Condiments, Sauces & Oils\"],[668,\"G79218_2x_5ul_RF12_01_19189\",\"A1 sauce\",2222,\"Condiments, Sauces & Oils\"],[669,\"G79219_2x_RB12_01_19122\",\"ketchup\",2184,\"Condiments, Sauces & Oils\"],[670,\"G79221_2x_5ul_RD12_01_19160\",\"stir fry sauce\",2212,\"Condiments, Sauces & Oils\"],[674,\"G79228_2x_RA12_01_19108\",\"hot sauce cholula\",2198,\"Condiments, Sauces & Oils\"],[828,\"G83183_1x_BH10_01_20275\",\"BBQ sauce\",2230,\"Condiments, Sauces & Oils\"],[960,\"G86738_1x_BE3_01_23183\",\"marinara sauce \",1465,\"Condiments, Sauces & Oils\"],[998,\"G86808_1x_BD12_01_23177\",\"olive oil mayonnaise\",1619,\"Condiments, Sauces & Oils\"],[999,\"G86811_10x_1ul_RE2_01_23209\",\"stone ground mustard\",1515,\"Condiments, Sauces & Oils\"],[1016,\"G86848_1x_RA6_01_23479\",\"classic stir-fry sauce\",1930,\"Condiments, Sauces & Oils\"],[1021,\"G86855_1x_RA12_01_23488\",\"vinegar\",1499,\"Condiments, Sauces & Oils\"],[1022,\"G86856_1x_10ul_RB2_01_23506\",\"oil\",1373,\"Condiments, Sauces & Oils\"],[1026,\"G86866_1x_RB10_01_23501\",\"Kimlan soy sauce\",1810,\"Condiments, Sauces & Oils\"],[1027,\"G86868_1x_RB12_01_23503\",\"red curry sauce\",1747,\"Condiments, Sauces & Oils\"],[1057,\"G86917_1x_BG3_01_26633\",\"spicy raw tuna with sesame oil\",1983,\"Condiments, Sauces & Oils\"],[1061,\"G86923_10x_2ul_BD3_01_23540\",\"Mustard (Heinz)\",1695,\"Condiments, Sauces & Oils\"],[1824,\"RA3_RA3_01_49051\",\"olive.oil\",2435,\"Condiments, Sauces & Oils\"]],\"hovertemplate\":\"color=Condiments, Sauces & Oils\\u003cbr\\u003ex=%{x}\\u003cbr\\u003ey=%{y}\\u003cbr\\u003ehover_data_0=%{customdata[0]}\\u003cbr\\u003ehover_data_1=%{customdata[1]}\\u003cbr\\u003ehover_data_2=%{customdata[2]}\\u003cbr\\u003ehover_data_3=%{customdata[3]}\\u003cbr\\u003ehover_data_4=%{customdata[4]}\\u003cextra\\u003e\\u003c\\u002fextra\\u003e\",\"legendgroup\":\"Condiments, Sauces & Oils\",\"marker\":{\"color\":\"#479B55\",\"symbol\":\"circle\"},\"mode\":\"markers\",\"name\":\"Condiments, Sauces & Oils\",\"showlegend\":true,\"x\":[11.07614517211914,11.181382179260254,10.91392707824707,10.884678840637207,12.869769096374512,12.903117179870605,19.109371185302734,9.715078353881836,14.29942798614502,10.134387969970703,13.625733375549316,10.024759292602539,9.511246681213379,11.987711906433105,18.513107299804688,18.159862518310547,10.427511215209961,10.611197471618652,10.470255851745605,12.255814552307129,10.30195426940918,9.985727310180664,12.47427749633789,10.366015434265137,11.14455795288086,11.303427696228027,10.155318260192871,11.23543930053711,13.162877082824707,10.991056442260742,13.128060340881348,8.341569900512695,8.6952486038208,9.6215181350708,13.374682426452637,9.09268856048584,9.288164138793945,11.224778175354004,10.132539749145508,12.147723197937012,9.97077751159668,-4.116208076477051],\"xaxis\":\"x\",\"y\":[1.9464529752731323,1.870177149772644,8.395763397216797,6.672022342681885,2.6235644817352295,2.712555170059204,6.107446670532227,10.088323593139648,1.9004645347595215,7.567699432373047,3.8141918182373047,8.05262565612793,10.113472938537598,5.096000671386719,6.828622817993164,6.248934745788574,8.268913269042969,8.413403511047363,8.48289966583252,4.268456935882568,8.9996976852417,6.415530681610107,4.503507137298584,9.12650203704834,8.234345436096191,5.45790433883667,9.370905876159668,8.566864967346191,2.5772275924682617,8.737091064453125,8.616206169128418,3.9067225456237793,5.0436787605285645,2.8191092014312744,3.966259717941284,6.175669193267822,6.3609113693237305,1.752008080482483,5.841385364532471,6.722477436065674,3.047236442565918,7.299698352813721],\"yaxis\":\"y\",\"type\":\"scattergl\"},{\"customdata\":[[69,\"75070_1x_BC10_01_17419\",\"sweet corn\",2108,\"Sweets & Snacks\"],[80,\"75157_1x_BF6_01_17480\",\"sweet corn; cooked with other ingredients\",2332,\"Sweets & Snacks\"],[106,\"AMZ_15_RB6_01_48916\",\"Traditional cake\",2459,\"Sweets & Snacks\"],[108,\"AMZ_1_tk2_RA2_01_48879\",\"Cheese pastry\",2455,\"Sweets & Snacks\"],[109,\"AMZ_20_RB11_01_48930\",\"Yucca cake\",2498,\"Sweets & Snacks\"],[143,\"G72455_BD3_01_18990\",\"dried chickpea snack\",2023,\"Sweets & Snacks\"],[144,\"G72456_10x_BH6_01_17934\",\"baby snack, cheese twists\",1772,\"Sweets & Snacks\"],[146,\"G72459_10x_BC7_01_17816\",\"baby snack, cereal puffs\",1739,\"Sweets & Snacks\"],[158,\"G72474_5x_10ul_BB8_01_19656\",\"dark chocolate w\\u002f hazelnuts\",1999,\"Sweets & Snacks\"],[168,\"G72496_2x_RC8_01_19133\",\"cookie, oatmeal golden raisin from Scripps Day\",1892,\"Sweets & Snacks\"],[172,\"G72510_BA2_01_18983\",\"roasted teriyaki seaweed snack\",1985,\"Sweets & Snacks\"],[177,\"G72519_10x_BB11_01_17893\",\"choco snack\",1649,\"Sweets & Snacks\"],[182,\"G72527_10x_BD6_01_17827\",\"Hershey Milk Chocolate Egg\",2030,\"Sweets & Snacks\"],[213,\"G72734_10x_BG11_01_17927\",\"carrot cake\",2208,\"Sweets & Snacks\"],[214,\"G72739_10x_BB2_01_17894\",\"ocho (chocolate coconut candy bar) Whole foods\",1914,\"Sweets & Snacks\"],[235,\"G72769_rerun_BB8_01_19072\",\"Gluten free muffin\",2299,\"Sweets & Snacks\"],[242,\"G72778_10x_BA4_01_17869\",\"pink asian pastry\\u002fbread\",1749,\"Sweets & Snacks\"],[243,\"G72780_10x_BF2_01_17850\",\"croissant, chocolate (novisible chocolate)\",1706,\"Sweets & Snacks\"],[245,\"G72784_10x_BA5_01_17870\",\"banana pineapple muffin (JMG baked)\",1947,\"Sweets & Snacks\"],[246,\"G72785_10x_BB3_01_17895\",\"sugary pastry, muffin\",1737,\"Sweets & Snacks\"],[247,\"G72786_10x_BD2_01_17823\",\"oreo cookie\",2161,\"Sweets & Snacks\"],[248,\"G72789_1x_BG5_01_20230\",\"White Chocolate Chips\",1976,\"Sweets & Snacks\"],[259,\"G72810_rerun_BB6_01_19065\",\"black jelly bean\",1944,\"Sweets & Snacks\"],[260,\"G72811_BF6_01_19022\",\"red jelly bean\",1800,\"Sweets & Snacks\"],[262,\"G72814_10x_BH4_01_17932\",\"chocolate chip cookie\",1704,\"Sweets & Snacks\"],[350,\"G73731_BA4_01_18985\",\"chocolate pot de creeme\",2267,\"Sweets & Snacks\"],[356,\"G73947_1x_BA8_01_17276\",\"sweet potato leaves\",2098,\"Sweets & Snacks\"],[365,\"G73983_BC6_01_18943\",\"chewy granola bar peanut butter dark chocolate chip\",1893,\"Sweets & Snacks\"],[375,\"G74013_2x_RH9_01_19428\",\"almond on a puff pastry pretzel\",1834,\"Sweets & Snacks\"],[383,\"G74030_BC5_01_18942\",\"puff pastry\",1793,\"Sweets & Snacks\"],[426,\"G75123_5x_10ul_RG9_01_19563\",\"chocolate, taza (84%)\",1839,\"Sweets & Snacks\"],[427,\"G75124_5x_RC9_01_19497\",\"ritter sport dark chocolate with hazelnuts\",1732,\"Sweets & Snacks\"],[449,\"G75187_1x_BH3_01_17347\",\"chocolate mint\",2179,\"Sweets & Snacks\"],[462,\"G75237_1x_10ul_RE6_01_19833\",\"nesquik chocolate milk\",2197,\"Sweets & Snacks\"],[486,\"G75590_BF2_01_19018\",\"fortune cookie\",2011,\"Sweets & Snacks\"],[488,\"G75613_BE8_01_19010\",\"Puff pastry\",1927,\"Sweets & Snacks\"],[489,\"G75615_BE11_01_19013\",\"mini donut hole with sugar\",2060,\"Sweets & Snacks\"],[490,\"G75616_BC11_01_18949\",\"cinnamon marshmallow\",1873,\"Sweets & Snacks\"],[491,\"G75617_BF11_01_19029\",\"red velvet cake\",2230,\"Sweets & Snacks\"],[492,\"G75618_BC9_01_18947\",\"red velvet cake icing\",1809,\"Sweets & Snacks\"],[493,\"G75619_BE9_01_19011\",\"cheesecake like dessert\",2152,\"Sweets & Snacks\"],[496,\"G75622_rerun_BD4_01_19081\",\"chocolate cake\",2233,\"Sweets & Snacks\"],[497,\"G75623_BF3_01_19019\",\"chocolate icing\",2328,\"Sweets & Snacks\"],[499,\"G75625_BC8_01_18946\",\"almond cake\",2050,\"Sweets & Snacks\"],[500,\"G75626_BF7_01_19025\",\"cheesecake like dessert- chantilly topping\",2140,\"Sweets & Snacks\"],[501,\"G75627_BA8_01_18916\",\"crust of custard and strawberry dessert\",1931,\"Sweets & Snacks\"],[502,\"G75628_BG10_01_19043\",\"shortbread cookie gluten free\",2082,\"Sweets & Snacks\"],[513,\"G75667_BB2_01_18924\",\"granola bar with chocolate\",2310,\"Sweets & Snacks\"],[563,\"G75808_5x_BB5_01_19955\",\"sweet potato and venison formula 56\",2047,\"Sweets & Snacks\"],[573,\"G75863_1x_RF7_01_26446\",\"chocolate almond milk, Silk\",1736,\"Sweets & Snacks\"],[575,\"G78807_1x_RG2_01_20346\",\"Garden mint (chocolate)\",2012,\"Sweets & Snacks\"],[584,\"G78843_BG12_01_19045\",\"yellow gummy bear\",2001,\"Sweets & Snacks\"],[585,\"G78844_2x_RD3_01_19141\",\"Red gummy bear\",1833,\"Sweets & Snacks\"],[603,\"G78919_RA2_01_17522\",\"sweet brown rice\",1973,\"Sweets & Snacks\"],[645,\"G79169_5x_BC10_01_19638\",\"ice cream\",1692,\"Sweets & Snacks\"],[646,\"G79170_5x_BF10_01_19699\",\"ice cream\",1979,\"Sweets & Snacks\"],[671,\"G79223_5x_RE9_01_19528\",\"chocolate\",1788,\"Sweets & Snacks\"],[672,\"G79224_5x_10ul_RH9_01_19577\",\"chocolate\",1951,\"Sweets & Snacks\"],[682,\"G79244_2x_RA6_01_19100\",\"Christmas dessert\",2073,\"Sweets & Snacks\"],[683,\"G79245_2x_RH6_01_19223\",\"Christmas dessert\",1924,\"Sweets & Snacks\"],[787,\"G79651_5x_BD10_01_19997\",\"sweet harvest finch vitamin enriched 70\",1940,\"Sweets & Snacks\"],[798,\"G79681_5x_BD11_01_19633\",\"chocolate (72%)\",1681,\"Sweets & Snacks\"],[799,\"G79683_5x_BF11_01_19700\",\"milk chocolate, sugar free\",1747,\"Sweets & Snacks\"],[800,\"G79684_5x_BC11_01_19645\",\"dark chocolate with almonds\",2027,\"Sweets & Snacks\"],[801,\"G79685_5x_BH10_01_19703\",\"dark chocolate, sugar free\",2021,\"Sweets & Snacks\"],[802,\"G79686_5x_BA10_01_19616\",\"chocolate (45%)\",1674,\"Sweets & Snacks\"],[803,\"G79687_5x_RD9_01_19512\",\"chocolate with caramel\",1952,\"Sweets & Snacks\"],[804,\"G79688_1x_BF9_01_19545\",\"chocolate, 72%\",2172,\"Sweets & Snacks\"],[806,\"G79698_5x_BA11_01_19623\",\"belgium chocolate pudding\",1967,\"Sweets & Snacks\"],[814,\"G79713_5x_RB9_01_19481\",\"hershey's milk chocolate\",1598,\"Sweets & Snacks\"],[815,\"G79714_5x_RA9_01_19467\",\"ritter sport chocolate, whole milk chocolate with hazelnuts\",1625,\"Sweets & Snacks\"],[817,\"G79725_5x_BG10_01_19666\",\"chocolate\",1979,\"Sweets & Snacks\"],[818,\"G79726_5x_BH12_01_19705\",\"dark chocolate truffle\",2143,\"Sweets & Snacks\"],[830,\"G83188_1x_BG10_01_20235\",\"chocolate syrup\",2327,\"Sweets & Snacks\"],[845,\"G83229_1x_RG4_01_21842\",\"Gummy Bear green\",1331,\"Sweets & Snacks\"],[846,\"G83230_1x_RC5_01_21755\",\"Gummy Bear white\",1151,\"Sweets & Snacks\"],[847,\"G83231_1x_RA5_01_21727\",\"Gummy Bear red\",1234,\"Sweets & Snacks\"],[848,\"G83232_1x_RD5_01_21768\",\"Gummy Bear orange\",1296,\"Sweets & Snacks\"],[849,\"G83233_1x_RE8_01_21823\",\"Candy Corn, yellow\",1295,\"Sweets & Snacks\"],[861,\"G83253_1x_RH9_01_21864\",\"Twix mini (possibly, chocolate carmel tube)\",1994,\"Sweets & Snacks\"],[877,\"G83325_1x_RC4_01_21754\",\"Heath (Milk Chocolate English Toffee Bar)\",1565,\"Sweets & Snacks\"],[878,\"G83326_1x_RF4_01_21830\",\"York (dark chocolate covered peppermint Pattie)\",2252,\"Sweets & Snacks\"],[889,\"G83350_1x_BH9_01_21909\",\"neocate Jr. Chocolate\",1489,\"Sweets & Snacks\"],[903,\"G83386_5x_RE9_01_21478\",\"aztec chocolate dome\",2292,\"Sweets & Snacks\"],[905,\"G83389_1x_RB8_01_21745\",\"Candy Corn, orange\",1424,\"Sweets & Snacks\"],[906,\"G83390_1x_RC8_01_21759\",\"Candy Corn, white\",1383,\"Sweets & Snacks\"],[918,\"G83412_1x_RG8_01_21847\",\"Snickers (chocolate & white fluff)\",1679,\"Sweets & Snacks\"],[919,\"G83413_1x_RD8_01_21808\",\"snickers (chocolate, nut, carmel)\",1879,\"Sweets & Snacks\"],[930,\"G83450_1x_RF9_01_21836\",\"Twix mini white part and chocolate\",1769,\"Sweets & Snacks\"],[937,\"G86701_1x_RC6_01_21756\",\"Reese's Peanut Butter (Chocolate Part)\",1756,\"Sweets & Snacks\"],[939,\"G86703_1x_RG6_01_21844\",\"Candy cane (Natural Peppermint)- Bobs Original\",1610,\"Sweets & Snacks\"],[943,\"G86710_1x_RD10_01_21810\",\"Ritter Sport\",1830,\"Sweets & Snacks\"],[944,\"G86711_1x_RG10_01_21849\",\"Ritter Sport\",1679,\"Sweets & Snacks\"],[945,\"G86712_1x_RA11_01_21729\",\"Baby Ruth (Chocolate and Carmel)\",1615,\"Sweets & Snacks\"],[947,\"G86716_1x_RH11_01_21868\",\"Almond Joy (Chocolate and Nut)\",2095,\"Sweets & Snacks\"],[948,\"G86717_1x_RF11_01_21838\",\"Almond Joy (Chocolate and Coconut)\",1586,\"Sweets & Snacks\"],[949,\"G86718_1x_RE5_01_21819\",\"jolly rancher lollipop\",1427,\"Sweets & Snacks\"],[950,\"G86719_1x_RH5_01_21856\",\"Dum dum lollipop orange\",1575,\"Sweets & Snacks\"],[951,\"G86720_1x_RG5_01_21843\",\"Dum dum lollipop mystery\",1604,\"Sweets & Snacks\"],[961,\"G86739_10x_RG6_01_23217\",\"candied orange with chocolate (Whole foods)\",1449,\"Sweets & Snacks\"],[962,\"G86740_1x_BG7_01_23219\",\"ChocoHigos; chocolate covered dried figs (Whole foods)\",1801,\"Sweets & Snacks\"],[963,\"G86741_1x_BD8_01_23173\",\"shortbread cookie (Raspberry Stars) (Trader Joe's)\",1298,\"Sweets & Snacks\"],[969,\"G86761_1x_BC7_01_23154\",\"oreo cookie outside\",1796,\"Sweets & Snacks\"],[971,\"G86767_1x_BC10_01_23157\",\"oreo cookie cream\",1721,\"Sweets & Snacks\"],[982,\"G86782_10x_RG2_01_23213\",\"toasted coconut dark chocolate (70% cocoa), purchased from whole foods la jolla, expiration date 1.19.2018\",1633,\"Sweets & Snacks\"],[984,\"G86784_10x_RF12_01_23208\",\"good day chocolate with melatonin, from whole foods la jolla\",1169,\"Sweets & Snacks\"],[995,\"G86805_1x_BD9_01_23174\",\"pumpkin pie\",1734,\"Sweets & Snacks\"],[1000,\"G86813_1x_RE7_01_23350\",\"sweet potatoes\",1551,\"Sweets & Snacks\"],[1028,\"G86869_1x_RC2_01_23508\",\"sweet and sour sauce\",1681,\"Sweets & Snacks\"],[1036,\"G86885_1x_BG3_01_23214\",\"dark chocolate sea salt and nibs; madecasse brand; 63% cocoa; best before 03\\u002f13\\u002f2019; sampled 2017-12-03 22:00\",1767,\"Sweets & Snacks\"],[1040,\"G86891_1x_RF4_01_23361\",\"Smucker's Concord Grape Jelly\",1943,\"Sweets & Snacks\"],[1050,\"G86902_1x_BB3_01_23135\",\"Chocolate Chip Bagel (Monday Meeting)\",2120,\"Sweets & Snacks\"],[1058,\"G86919_1x_BC3_01_26569\",\"Juan Vandez carmelos coffee candy\",1828,\"Sweets & Snacks\"],[1064,\"G86928_1x_RE2_01_23344\",\"cucumber, sweet and sour dish\",1618,\"Sweets & Snacks\"],[1065,\"G86929_1x_RE1_01_23343\",\"tomato peel, sweet and sour dish\",1282,\"Sweets & Snacks\"],[1066,\"G86930_1x_RD11_01_23337\",\"tomato meat, sweet and sour dish\",1490,\"Sweets & Snacks\"],[1087,\"G86973_1x_RH4_01_26470\",\"chocolate almond-pressed juice\",2273,\"Sweets & Snacks\"],[1091,\"G86979_1x_BB3_01_26381\",\"chocolate almond pressed juicery\",1721,\"Sweets & Snacks\"],[1102,\"G87324_RD2_01_26112\",\"bundt cake homemade\",1634,\"Sweets & Snacks\"],[1115,\"G87361_1x_BD11_01_26044\",\"dark chocolate 72%\",1889,\"Sweets & Snacks\"],[1126,\"G87398_RC12_01_26108\",\"sweet Provolone cheese\",1736,\"Sweets & Snacks\"],[1149,\"G87440_1x_BD10_01_26043\",\"choco orange snack\",1640,\"Sweets & Snacks\"],[1153,\"G87447_1x_BD12_01_26045\",\"torrone milk chocolate hazelnuts\",1700,\"Sweets & Snacks\"],[1155,\"G87450_1x_BE2_01_26049\",\"stracciatella flute snack\",1867,\"Sweets & Snacks\"],[1157,\"G87453_1x_BD6_01_26034\",\"donut wine\",1467,\"Sweets & Snacks\"],[1163,\"G87462_1x_BG2_01_26632\",\"milk chocolate honey 30% cocoa\",1833,\"Sweets & Snacks\"],[1172,\"G87477_1x_BF2_01_26622\",\"english muffin McD\",1919,\"Sweets & Snacks\"],[1208,\"G87543_1x_BB5_01_26557\",\"Hostess Golden Cupcake (chocolate frosting with a little cake)\",2018,\"Sweets & Snacks\"],[1209,\"G87544_1x_BF4_01_26624\",\"Hostess Golden Cupcake (cake part)\",2080,\"Sweets & Snacks\"],[1213,\"G87549_1x_BC2_01_26568\",\"mango coconut jelly\",1477,\"Sweets & Snacks\"],[1214,\"G87550_1x_BH2_01_26646\",\"melatonin chocolate; Good Day Chocolate Brand; from whole foods la jolla; sampled in Encinitas\",2194,\"Sweets & Snacks\"],[1216,\"G87553_1x_RB8_01_26250\",\"raw organic garnet sweet potato, from whole foods La jolla\",1718,\"Sweets & Snacks\"],[1223,\"G87562_1x_BA10_01_26549\",\"dark chocolate pomegranate bar\",2105,\"Sweets & Snacks\"],[1224,\"G87565_1x_BB9_01_26562\",\"Fruit and Salted Nut Protein Snack Bars\",2250,\"Sweets & Snacks\"],[1228,\"G87570_1x_BA9_01_26548\",\"cupcake, cake\",1792,\"Sweets & Snacks\"],[1231,\"G87580_1x_RB9_01_26251\",\"organic japanese sweet potato raw; whole foods\",1464,\"Sweets & Snacks\"],[1232,\"G87581_1x_RC9_01_26266\",\"organic hannah sweet potato raw; from whole foods la jolla\",1302,\"Sweets & Snacks\"],[1233,\"G87582_1x_RE9_01_26301\",\"organic purple sweet potato raw;from whole foods\",1723,\"Sweets & Snacks\"],[1237,\"G87595_1x_RE10_01_26302\",\"organic garnet sweet potato; cooked at 400 degs with olive oil from TJs and salt (from same potato as 87553)\",1868,\"Sweets & Snacks\"],[1238,\"G87596_1x_RG10_01_26332\",\"organic purple sweet potato from whole foods; cooked at 400 degs with olive oil from trader joes and salt (same sample as 87582)\",1840,\"Sweets & Snacks\"],[1239,\"G87598_1x_RD10_01_26282\",\"organic japanese sweet potato cooked with olive oil from trader joes and salt; from la jolla same potato as (87580)\",1664,\"Sweets & Snacks\"]],\"hovertemplate\":\"color=Sweets & Snacks\\u003cbr\\u003ex=%{x}\\u003cbr\\u003ey=%{y}\\u003cbr\\u003ehover_data_0=%{customdata[0]}\\u003cbr\\u003ehover_data_1=%{customdata[1]}\\u003cbr\\u003ehover_data_2=%{customdata[2]}\\u003cbr\\u003ehover_data_3=%{customdata[3]}\\u003cbr\\u003ehover_data_4=%{customdata[4]}\\u003cextra\\u003e\\u003c\\u002fextra\\u003e\",\"legendgroup\":\"Sweets & Snacks\",\"marker\":{\"color\":\"#EEA6FB\",\"symbol\":\"circle\"},\"mode\":\"markers\",\"name\":\"Sweets & Snacks\",\"showlegend\":true,\"x\":[12.862284660339355,12.706385612487793,-5.614001274108887,-5.50645637512207,-4.495307922363281,15.914115905761719,14.596039772033691,14.589461326599121,11.2537260055542,14.890056610107422,16.07251739501953,12.487767219543457,14.625383377075195,15.330423355102539,12.11373519897461,14.528481483459473,14.604253768920898,13.455698013305664,14.430059432983398,14.26401424407959,13.359724998474121,14.112568855285645,16.055295944213867,15.718564987182617,14.22939682006836,15.707182884216309,14.683781623840332,15.041900634765625,13.172140121459961,14.98056697845459,11.115200996398926,10.766361236572266,12.9673433303833,13.234848022460938,16.044727325439453,16.316404342651367,16.28734588623047,15.289701461791992,16.192401885986328,15.69314956665039,16.75673484802246,14.776047706604004,14.642300605773926,14.433347702026367,15.370272636413574,15.302477836608887,15.601852416992188,13.095378875732422,15.176307678222656,9.4074125289917,11.308937072753906,14.980745315551758,15.552412033081055,14.404107093811035,13.95737075805664,12.419648170471191,11.193726539611816,11.648046493530273,15.299402236938477,13.631339073181152,15.358899116516113,11.285638809204102,13.299280166625977,13.354728698730469,13.266484260559082,12.544975280761719,13.082889556884766,11.74052906036377,12.406023025512695,11.1220703125,11.507680892944336,11.744770050048828,12.228425025939941,14.215792655944824,10.85667896270752,11.122396469116211,11.481565475463867,12.24090576171875,10.872265815734863,13.960612297058105,11.888416290283203,13.83559799194336,13.232813835144043,11.433598518371582,11.245468139648438,10.90927791595459,12.640970230102539,11.688085556030273,11.964428901672363,13.036797523498535,13.289952278137207,13.621522903442383,12.748717308044434,11.164039611816406,14.027978897094727,12.855913162231445,11.950576782226562,11.748614311218262,12.004645347595215,9.973563194274902,10.158987045288086,8.249646186828613,10.243895530700684,8.34453296661377,10.105754852294922,9.665715217590332,8.822973251342773,9.556084632873535,9.978195190429688,9.859601974487305,11.750094413757324,11.173038482666016,9.808573722839355,9.613028526306152,9.14252758026123,9.313271522521973,11.863877296447754,9.835166931152344,14.140342712402344,12.680519104003906,13.704965591430664,12.977014541625977,12.8704195022583,14.332592964172363,12.80902099609375,13.230233192443848,10.398784637451172,13.557232856750488,14.114155769348145,8.984819412231445,13.706795692443848,10.649003028869629,14.300151824951172,14.170877456665039,14.473977088928223,11.17824935913086,11.224578857421875,11.59166145324707,12.34608268737793,10.777383804321289,9.920270919799805],\"xaxis\":\"x\",\"y\":[9.097704887390137,9.464012145996094,5.995712757110596,5.976877212524414,6.4361138343811035,6.9846601486206055,4.958628177642822,6.005451202392578,3.9020957946777344,6.356483459472656,7.109755516052246,5.483648777008057,7.829592704772949,4.915557384490967,4.529642581939697,8.260310173034668,6.400972366333008,6.836338520050049,7.452869892120361,6.2704758644104,5.229434967041016,4.884256362915039,7.293180465698242,7.352658271789551,5.778653621673584,7.034594535827637,11.385946273803711,7.509631156921387,7.87475061416626,7.261784076690674,4.27916145324707,4.724637985229492,11.652442932128906,3.583009958267212,7.120017051696777,7.256289005279541,7.159761428833008,7.612929821014404,5.813111305236816,5.34973669052124,5.706812858581543,3.43491268157959,5.217270851135254,8.14975357055664,6.6688055992126465,7.513484001159668,7.131553649902344,10.552995681762695,6.191161632537842,6.322803497314453,10.857026100158691,4.477541446685791,6.027223110198975,8.78986930847168,6.949837684631348,3.7620255947113037,4.37992000579834,4.21887731552124,5.460432529449463,3.9341068267822266,6.057984828948975,4.700520992279053,5.860611438751221,5.272928714752197,5.037678241729736,5.540212154388428,5.217853546142578,3.411216974258423,4.017230033874512,5.0058722496032715,5.340246200561523,3.7058634757995605,3.630387544631958,1.8590986728668213,6.42630672454834,5.928428649902344,5.936464786529541,6.287355899810791,6.2953948974609375,6.5348334312438965,6.406998634338379,5.946065902709961,7.403872013092041,2.830322504043579,6.310604572296143,6.4775872230529785,5.803858280181885,3.685286283493042,4.0008769035339355,6.536926746368408,8.933245658874512,6.828328609466553,6.021908283233643,6.339846134185791,6.545929908752441,6.457507610321045,6.579890251159668,7.8487091064453125,8.0277681350708,4.364803314208984,3.2282276153564453,4.467059135437012,4.614250183105469,4.847429275512695,4.2948689460754395,4.01331090927124,4.982797622680664,3.2291195392608643,5.629093647003174,3.013749122619629,10.713430404663086,3.444997549057007,7.020812511444092,3.2394585609436035,3.9608685970306396,3.6377909183502197,4.227965831756592,6.864051818847656,7.201855659484863,5.465472221374512,0.4402332007884979,6.671761989593506,5.873012542724609,7.066381454467773,6.450802326202393,6.343758583068848,5.750726222991943,6.2369303703308105,6.081850528717041,6.710666656494141,5.450292587280273,6.334677696228027,8.078530311584473,7.668296813964844,7.901465892791748,7.6477155685424805,7.05420446395874,9.273269653320312,2.7716455459594727,5.831815719604492,3.818934917449951],\"yaxis\":\"y\",\"type\":\"scattergl\"},{\"customdata\":[[79,\"75156_1x_BA3_01_17423\",\"pine nut; cooked with other ingredients\",2357,\"Nuts & Seeds\"],[97,\"78813_1x_BA6_01_17389\",\"Garden Arugula (from seed)\",2060,\"Nuts & Seeds\"],[117,\"AMZ_35_RD6_01_49036\",\"Cashew (Anacardium occidentale)\",2440,\"Nuts & Seeds\"],[171,\"G72508_RH11_01_17791\",\"pine nut, Trader Joe's; dry toasted\",1951,\"Nuts & Seeds\"],[331,\"G73695_RF11_01_17620\",\"cashew (from Costco)\",1862,\"Nuts & Seeds\"],[416,\"G75078_2x_RC2_01_19126\",\"planters cashew\",1906,\"Nuts & Seeds\"],[432,\"G75132_RC9_01_18371\",\"golden flaxseed\",2001,\"Nuts & Seeds\"],[433,\"G75133_RC8_01_17564\",\"brown flaxseed\",1851,\"Nuts & Seeds\"],[562,\"G75807_5x_BC4_01_19972\",\"pigeon seed 73\",1730,\"Nuts & Seeds\"],[620,\"G78953_RH2_01_17759\",\"raw walnut pieces\",2236,\"Nuts & Seeds\"],[647,\"G79172_5x_RA3_01_19460\",\"raw roasted peanut tempeh\",2044,\"Nuts & Seeds\"],[649,\"G79175_5x_RD4_01_19506\",\"raw chickpea\\u002fsunflower seed tempeh\",1984,\"Nuts & Seeds\"],[650,\"G79176_5x_RA4_01_19461\",\"cooked chickpea\\u002fsunflower seed tempeh\",2080,\"Nuts & Seeds\"],[659,\"G79198_2x_5ul_RF11_01_19190\",\"cashew from spicy nut mix (Portland)\",1846,\"Nuts & Seeds\"],[824,\"G79745_5x_BB6_01_19956\",\"sprout seed 68\",1848,\"Nuts & Seeds\"],[880,\"G83338_1x_RF2_01_21716\",\"M&M peanut\",2079,\"Nuts & Seeds\"],[881,\"G83339_1x_RG2_01_21723\",\"M&M peanut\",2029,\"Nuts & Seeds\"],[882,\"G83340_1x_RD3_01_21766\",\"M&M peanut\",1893,\"Nuts & Seeds\"],[909,\"G83395_5x_RA6_01_21406\",\"raw walnut\",1925,\"Nuts & Seeds\"],[910,\"G83396_5x_RD6_01_21445\",\"raw almond\",1961,\"Nuts & Seeds\"],[911,\"G83397_5x_RB6_01_21420\",\"cashew\",1989,\"Nuts & Seeds\"],[912,\"G83398_5x_RE6_01_21475\",\"peanut\",2392,\"Nuts & Seeds\"],[913,\"G83400_5x_RF7_01_21489\",\"sunflower seed\",2013,\"Nuts & Seeds\"],[941,\"G86706_1x_RA10_01_21728\",\"Snickers almond\",1463,\"Nuts & Seeds\"],[942,\"G86707_1x_RE10_01_21825\",\"Snickers almond\",1544,\"Nuts & Seeds\"],[946,\"G86713_1x_RC11_01_21762\",\"Baby Ruth (Nut and Carmel)\",1639,\"Nuts & Seeds\"],[968,\"G86756_1x_BB5_01_23137\",\"sesame seed\",1740,\"Nuts & Seeds\"],[970,\"G86765_1x_RG11_01_21850\",\"Betel nut leaf (grean leafy)\",2159,\"Nuts & Seeds\"],[972,\"G86771_1x_BB9_01_23142\",\"peanut powder\",1615,\"Nuts & Seeds\"],[1015,\"G86847_1x_RA4_01_23477\",\"thai peanut sauce\",1837,\"Nuts & Seeds\"],[1053,\"G86907_1x_RC12_01_26269\",\"outside of pistachio macaroon\",1263,\"Nuts & Seeds\"],[1063,\"G86926_1x_BE6_01_23186\",\"Honey almond shmear reduced fat; Einstein bros bagels\",1300,\"Nuts & Seeds\"],[1100,\"G87322_RB6_01_26086\",\"almond\",1656,\"Nuts & Seeds\"],[1101,\"G87323_RB5_01_26085\",\"walnut\",1996,\"Nuts & Seeds\"],[1141,\"G87430_1x_BC4_01_26015\",\"cashew\",1512,\"Nuts & Seeds\"],[1142,\"G87431_1x_BC2_01_26013\",\"peanut\",1508,\"Nuts & Seeds\"],[1179,\"G87490_1x_BA11_01_26550\",\"dried betel nut\",1739,\"Nuts & Seeds\"],[1195,\"G87527_1x_RC5_01_26261\",\"soaked betel nut\",1695,\"Nuts & Seeds\"],[1202,\"G87536_1x_RC8_01_26265\",\"husk of betel nut\",1959,\"Nuts & Seeds\"],[1203,\"G87537_1x_RE4_01_26295\",\"betel nut leaf (fresh)\",1993,\"Nuts & Seeds\"],[1247,\"G90225_1x_BC7_01_26574\",\"chia seed black organic superfood\",1934,\"Nuts & Seeds\"]],\"hovertemplate\":\"color=Nuts & Seeds\\u003cbr\\u003ex=%{x}\\u003cbr\\u003ey=%{y}\\u003cbr\\u003ehover_data_0=%{customdata[0]}\\u003cbr\\u003ehover_data_1=%{customdata[1]}\\u003cbr\\u003ehover_data_2=%{customdata[2]}\\u003cbr\\u003ehover_data_3=%{customdata[3]}\\u003cbr\\u003ehover_data_4=%{customdata[4]}\\u003cextra\\u003e\\u003c\\u002fextra\\u003e\",\"legendgroup\":\"Nuts & Seeds\",\"marker\":{\"color\":\"#DC587D\",\"symbol\":\"circle\"},\"mode\":\"markers\",\"name\":\"Nuts & Seeds\",\"showlegend\":true,\"x\":[13.940107345581055,13.688957214355469,-4.631467819213867,15.163147926330566,14.949217796325684,14.04580020904541,15.393834114074707,15.2356595993042,15.925618171691895,14.556605339050293,12.714282035827637,12.363261222839355,12.116782188415527,14.379060745239258,15.539644241333008,12.987943649291992,12.84621524810791,11.54885196685791,13.080330848693848,12.56967544555664,12.689168930053711,10.909581184387207,11.692795753479004,11.702216148376465,12.72946834564209,10.535907745361328,9.63913631439209,11.084089279174805,10.14458179473877,12.523200988769531,12.097905158996582,8.622745513916016,13.992746353149414,13.749979972839355,12.586618423461914,12.69734001159668,13.846271514892578,0.6109808683395386,8.638115882873535,10.874423027038574,14.978560447692871],\"xaxis\":\"x\",\"y\":[9.665387153625488,9.962418556213379,5.794993877410889,8.02138614654541,7.301327705383301,7.618094444274902,7.683412075042725,7.653713226318359,5.748378753662109,9.049239158630371,5.030350685119629,8.554869651794434,8.752274513244629,8.38896656036377,5.7578911781311035,5.458929538726807,4.8195695877075195,3.6113500595092773,8.537104606628418,7.976348876953125,7.2912068367004395,2.7766921520233154,8.91091251373291,5.85732889175415,6.591393947601318,6.296670436859131,5.139242649078369,11.840837478637695,4.57172155380249,5.437901020050049,7.030543804168701,4.099262714385986,7.657983303070068,8.308831214904785,6.635824680328369,6.652791500091553,7.410872459411621,5.216348648071289,10.080214500427246,11.502344131469727,7.465588569641113],\"yaxis\":\"y\",\"type\":\"scattergl\"},{\"customdata\":[[887,\"G83348_1x_BF9_01_21898\",\"PediaSure Grow & Gain, vanilla flavored formula\",1232,\"Specialized Nutrition\"],[888,\"G83349_1x_BG9_01_21904\",\"PediaSure Grow & Gain with Fiber, vanilla flavored formula\",1152,\"Specialized Nutrition\"],[892,\"G83358_1x_BH10_01_21910\",\"Peptamen Junior, HP, peptide-based formula expiration date 2018-02-07\",1823,\"Specialized Nutrition\"],[894,\"G83360_1x_BB11_01_21879\",\"PediaSure complete, Balanced Nutrition, Vanilla flavor, canned\",1348,\"Specialized Nutrition\"],[1188,\"G87514_1x_BB5_01_26383\",\"strawberry protein shake\",2147,\"Specialized Nutrition\"]],\"hovertemplate\":\"color=Specialized Nutrition\\u003cbr\\u003ex=%{x}\\u003cbr\\u003ey=%{y}\\u003cbr\\u003ehover_data_0=%{customdata[0]}\\u003cbr\\u003ehover_data_1=%{customdata[1]}\\u003cbr\\u003ehover_data_2=%{customdata[2]}\\u003cbr\\u003ehover_data_3=%{customdata[3]}\\u003cbr\\u003ehover_data_4=%{customdata[4]}\\u003cextra\\u003e\\u003c\\u002fextra\\u003e\",\"legendgroup\":\"Specialized Nutrition\",\"marker\":{\"color\":\"#D626FF\",\"symbol\":\"circle\"},\"mode\":\"markers\",\"name\":\"Specialized Nutrition\",\"showlegend\":true,\"x\":[10.64919662475586,10.57531452178955,13.324052810668945,10.672337532043457,13.362763404846191],\"xaxis\":\"x\",\"y\":[0.708376944065094,0.766355037689209,0.5010024905204773,0.9846054315567017,3.2055928707122803],\"yaxis\":\"y\",\"type\":\"scattergl\"}],                        {\"template\":{\"data\":{\"histogram2dcontour\":[{\"type\":\"histogram2dcontour\",\"colorbar\":{\"outlinewidth\":0,\"ticks\":\"\"},\"colorscale\":[[0.0,\"#0d0887\"],[0.1111111111111111,\"#46039f\"],[0.2222222222222222,\"#7201a8\"],[0.3333333333333333,\"#9c179e\"],[0.4444444444444444,\"#bd3786\"],[0.5555555555555556,\"#d8576b\"],[0.6666666666666666,\"#ed7953\"],[0.7777777777777778,\"#fb9f3a\"],[0.8888888888888888,\"#fdca26\"],[1.0,\"#f0f921\"]]}],\"choropleth\":[{\"type\":\"choropleth\",\"colorbar\":{\"outlinewidth\":0,\"ticks\":\"\"}}],\"histogram2d\":[{\"type\":\"histogram2d\",\"colorbar\":{\"outlinewidth\":0,\"ticks\":\"\"},\"colorscale\":[[0.0,\"#0d0887\"],[0.1111111111111111,\"#46039f\"],[0.2222222222222222,\"#7201a8\"],[0.3333333333333333,\"#9c179e\"],[0.4444444444444444,\"#bd3786\"],[0.5555555555555556,\"#d8576b\"],[0.6666666666666666,\"#ed7953\"],[0.7777777777777778,\"#fb9f3a\"],[0.8888888888888888,\"#fdca26\"],[1.0,\"#f0f921\"]]}],\"heatmap\":[{\"type\":\"heatmap\",\"colorbar\":{\"outlinewidth\":0,\"ticks\":\"\"},\"colorscale\":[[0.0,\"#0d0887\"],[0.1111111111111111,\"#46039f\"],[0.2222222222222222,\"#7201a8\"],[0.3333333333333333,\"#9c179e\"],[0.4444444444444444,\"#bd3786\"],[0.5555555555555556,\"#d8576b\"],[0.6666666666666666,\"#ed7953\"],[0.7777777777777778,\"#fb9f3a\"],[0.8888888888888888,\"#fdca26\"],[1.0,\"#f0f921\"]]}],\"heatmapgl\":[{\"type\":\"heatmapgl\",\"colorbar\":{\"outlinewidth\":0,\"ticks\":\"\"},\"colorscale\":[[0.0,\"#0d0887\"],[0.1111111111111111,\"#46039f\"],[0.2222222222222222,\"#7201a8\"],[0.3333333333333333,\"#9c179e\"],[0.4444444444444444,\"#bd3786\"],[0.5555555555555556,\"#d8576b\"],[0.6666666666666666,\"#ed7953\"],[0.7777777777777778,\"#fb9f3a\"],[0.8888888888888888,\"#fdca26\"],[1.0,\"#f0f921\"]]}],\"contourcarpet\":[{\"type\":\"contourcarpet\",\"colorbar\":{\"outlinewidth\":0,\"ticks\":\"\"}}],\"contour\":[{\"type\":\"contour\",\"colorbar\":{\"outlinewidth\":0,\"ticks\":\"\"},\"colorscale\":[[0.0,\"#0d0887\"],[0.1111111111111111,\"#46039f\"],[0.2222222222222222,\"#7201a8\"],[0.3333333333333333,\"#9c179e\"],[0.4444444444444444,\"#bd3786\"],[0.5555555555555556,\"#d8576b\"],[0.6666666666666666,\"#ed7953\"],[0.7777777777777778,\"#fb9f3a\"],[0.8888888888888888,\"#fdca26\"],[1.0,\"#f0f921\"]]}],\"surface\":[{\"type\":\"surface\",\"colorbar\":{\"outlinewidth\":0,\"ticks\":\"\"},\"colorscale\":[[0.0,\"#0d0887\"],[0.1111111111111111,\"#46039f\"],[0.2222222222222222,\"#7201a8\"],[0.3333333333333333,\"#9c179e\"],[0.4444444444444444,\"#bd3786\"],[0.5555555555555556,\"#d8576b\"],[0.6666666666666666,\"#ed7953\"],[0.7777777777777778,\"#fb9f3a\"],[0.8888888888888888,\"#fdca26\"],[1.0,\"#f0f921\"]]}],\"mesh3d\":[{\"type\":\"mesh3d\",\"colorbar\":{\"outlinewidth\":0,\"ticks\":\"\"}}],\"scatter\":[{\"fillpattern\":{\"fillmode\":\"overlay\",\"size\":10,\"solidity\":0.2},\"type\":\"scatter\"}],\"parcoords\":[{\"type\":\"parcoords\",\"line\":{\"colorbar\":{\"outlinewidth\":0,\"ticks\":\"\"}}}],\"scatterpolargl\":[{\"type\":\"scatterpolargl\",\"marker\":{\"colorbar\":{\"outlinewidth\":0,\"ticks\":\"\"}}}],\"bar\":[{\"error_x\":{\"color\":\"#2a3f5f\"},\"error_y\":{\"color\":\"#2a3f5f\"},\"marker\":{\"line\":{\"color\":\"#E5ECF6\",\"width\":0.5},\"pattern\":{\"fillmode\":\"overlay\",\"size\":10,\"solidity\":0.2}},\"type\":\"bar\"}],\"scattergeo\":[{\"type\":\"scattergeo\",\"marker\":{\"colorbar\":{\"outlinewidth\":0,\"ticks\":\"\"}}}],\"scatterpolar\":[{\"type\":\"scatterpolar\",\"marker\":{\"colorbar\":{\"outlinewidth\":0,\"ticks\":\"\"}}}],\"histogram\":[{\"marker\":{\"pattern\":{\"fillmode\":\"overlay\",\"size\":10,\"solidity\":0.2}},\"type\":\"histogram\"}],\"scattergl\":[{\"type\":\"scattergl\",\"marker\":{\"colorbar\":{\"outlinewidth\":0,\"ticks\":\"\"}}}],\"scatter3d\":[{\"type\":\"scatter3d\",\"line\":{\"colorbar\":{\"outlinewidth\":0,\"ticks\":\"\"}},\"marker\":{\"colorbar\":{\"outlinewidth\":0,\"ticks\":\"\"}}}],\"scattermapbox\":[{\"type\":\"scattermapbox\",\"marker\":{\"colorbar\":{\"outlinewidth\":0,\"ticks\":\"\"}}}],\"scatterternary\":[{\"type\":\"scatterternary\",\"marker\":{\"colorbar\":{\"outlinewidth\":0,\"ticks\":\"\"}}}],\"scattercarpet\":[{\"type\":\"scattercarpet\",\"marker\":{\"colorbar\":{\"outlinewidth\":0,\"ticks\":\"\"}}}],\"carpet\":[{\"aaxis\":{\"endlinecolor\":\"#2a3f5f\",\"gridcolor\":\"white\",\"linecolor\":\"white\",\"minorgridcolor\":\"white\",\"startlinecolor\":\"#2a3f5f\"},\"baxis\":{\"endlinecolor\":\"#2a3f5f\",\"gridcolor\":\"white\",\"linecolor\":\"white\",\"minorgridcolor\":\"white\",\"startlinecolor\":\"#2a3f5f\"},\"type\":\"carpet\"}],\"table\":[{\"cells\":{\"fill\":{\"color\":\"#EBF0F8\"},\"line\":{\"color\":\"white\"}},\"header\":{\"fill\":{\"color\":\"#C8D4E3\"},\"line\":{\"color\":\"white\"}},\"type\":\"table\"}],\"barpolar\":[{\"marker\":{\"line\":{\"color\":\"#E5ECF6\",\"width\":0.5},\"pattern\":{\"fillmode\":\"overlay\",\"size\":10,\"solidity\":0.2}},\"type\":\"barpolar\"}],\"pie\":[{\"automargin\":true,\"type\":\"pie\"}]},\"layout\":{\"autotypenumbers\":\"strict\",\"colorway\":[\"#636efa\",\"#EF553B\",\"#00cc96\",\"#ab63fa\",\"#FFA15A\",\"#19d3f3\",\"#FF6692\",\"#B6E880\",\"#FF97FF\",\"#FECB52\"],\"font\":{\"color\":\"#2a3f5f\"},\"hovermode\":\"closest\",\"hoverlabel\":{\"align\":\"left\"},\"paper_bgcolor\":\"white\",\"plot_bgcolor\":\"#E5ECF6\",\"polar\":{\"bgcolor\":\"#E5ECF6\",\"angularaxis\":{\"gridcolor\":\"white\",\"linecolor\":\"white\",\"ticks\":\"\"},\"radialaxis\":{\"gridcolor\":\"white\",\"linecolor\":\"white\",\"ticks\":\"\"}},\"ternary\":{\"bgcolor\":\"#E5ECF6\",\"aaxis\":{\"gridcolor\":\"white\",\"linecolor\":\"white\",\"ticks\":\"\"},\"baxis\":{\"gridcolor\":\"white\",\"linecolor\":\"white\",\"ticks\":\"\"},\"caxis\":{\"gridcolor\":\"white\",\"linecolor\":\"white\",\"ticks\":\"\"}},\"coloraxis\":{\"colorbar\":{\"outlinewidth\":0,\"ticks\":\"\"}},\"colorscale\":{\"sequential\":[[0.0,\"#0d0887\"],[0.1111111111111111,\"#46039f\"],[0.2222222222222222,\"#7201a8\"],[0.3333333333333333,\"#9c179e\"],[0.4444444444444444,\"#bd3786\"],[0.5555555555555556,\"#d8576b\"],[0.6666666666666666,\"#ed7953\"],[0.7777777777777778,\"#fb9f3a\"],[0.8888888888888888,\"#fdca26\"],[1.0,\"#f0f921\"]],\"sequentialminus\":[[0.0,\"#0d0887\"],[0.1111111111111111,\"#46039f\"],[0.2222222222222222,\"#7201a8\"],[0.3333333333333333,\"#9c179e\"],[0.4444444444444444,\"#bd3786\"],[0.5555555555555556,\"#d8576b\"],[0.6666666666666666,\"#ed7953\"],[0.7777777777777778,\"#fb9f3a\"],[0.8888888888888888,\"#fdca26\"],[1.0,\"#f0f921\"]],\"diverging\":[[0,\"#8e0152\"],[0.1,\"#c51b7d\"],[0.2,\"#de77ae\"],[0.3,\"#f1b6da\"],[0.4,\"#fde0ef\"],[0.5,\"#f7f7f7\"],[0.6,\"#e6f5d0\"],[0.7,\"#b8e186\"],[0.8,\"#7fbc41\"],[0.9,\"#4d9221\"],[1,\"#276419\"]]},\"xaxis\":{\"gridcolor\":\"white\",\"linecolor\":\"white\",\"ticks\":\"\",\"title\":{\"standoff\":15},\"zerolinecolor\":\"white\",\"automargin\":true,\"zerolinewidth\":2},\"yaxis\":{\"gridcolor\":\"white\",\"linecolor\":\"white\",\"ticks\":\"\",\"title\":{\"standoff\":15},\"zerolinecolor\":\"white\",\"automargin\":true,\"zerolinewidth\":2},\"scene\":{\"xaxis\":{\"backgroundcolor\":\"#E5ECF6\",\"gridcolor\":\"white\",\"linecolor\":\"white\",\"showbackground\":true,\"ticks\":\"\",\"zerolinecolor\":\"white\",\"gridwidth\":2},\"yaxis\":{\"backgroundcolor\":\"#E5ECF6\",\"gridcolor\":\"white\",\"linecolor\":\"white\",\"showbackground\":true,\"ticks\":\"\",\"zerolinecolor\":\"white\",\"gridwidth\":2},\"zaxis\":{\"backgroundcolor\":\"#E5ECF6\",\"gridcolor\":\"white\",\"linecolor\":\"white\",\"showbackground\":true,\"ticks\":\"\",\"zerolinecolor\":\"white\",\"gridwidth\":2}},\"shapedefaults\":{\"line\":{\"color\":\"#2a3f5f\"}},\"annotationdefaults\":{\"arrowcolor\":\"#2a3f5f\",\"arrowhead\":0,\"arrowwidth\":1},\"geo\":{\"bgcolor\":\"white\",\"landcolor\":\"#E5ECF6\",\"subunitcolor\":\"white\",\"showland\":true,\"showlakes\":true,\"lakecolor\":\"white\"},\"title\":{\"x\":0.05},\"mapbox\":{\"style\":\"light\"}}},\"xaxis\":{\"anchor\":\"y\",\"domain\":[0.0,1.0],\"title\":{\"text\":\"x\"}},\"yaxis\":{\"anchor\":\"x\",\"domain\":[0.0,1.0],\"title\":{\"text\":\"y\"}},\"legend\":{\"title\":{\"text\":\"color\"},\"tracegroupgap\":0},\"margin\":{\"t\":60},\"height\":700,\"width\":1200},                        {\"responsive\": true}                    ).then(function(){\n",
       "                            \n",
       "var gd = document.getElementById('c7ac8d95-0c1b-4f68-874d-6fde67263b73');\n",
       "var x = new MutationObserver(function (mutations, observer) {{\n",
       "        var display = window.getComputedStyle(gd).display;\n",
       "        if (!display || display === 'none') {{\n",
       "            console.log([gd, 'removed!']);\n",
       "            Plotly.purge(gd);\n",
       "            observer.disconnect();\n",
       "        }}\n",
       "}});\n",
       "\n",
       "// Listen for the removal of the full notebook cells\n",
       "var notebookContainer = gd.closest('#notebook-container');\n",
       "if (notebookContainer) {{\n",
       "    x.observe(notebookContainer, {childList: true});\n",
       "}}\n",
       "\n",
       "// Listen for the clearing of the current output cell\n",
       "var outputEl = gd.closest('.output');\n",
       "if (outputEl) {{\n",
       "    x.observe(outputEl, {childList: true});\n",
       "}}\n",
       "\n",
       "                        })                };                });            </script>        </div>"
      ]
     },
     "metadata": {},
     "output_type": "display_data"
    }
   ],
   "source": [
    "import plotly.express as px\n",
    "fig = px.scatter(x=umap_ebms[:, 0], y=umap_ebms[:, 1], hover_data=[list(range(len(non_misc_df_avg_embs)))] + [non_misc_df_avg_embs[c].values for c in non_misc_df_avg_embs.columns], color=non_misc_df_avg_embs['category'], width=1200, height=700, color_discrete_sequence=px.colors.qualitative.Light24)\n",
    "fig.write_html('/storage/plzen1/home/romanb/figures/umap_foodomics.html')\n",
    "fig.show()"
   ]
  }
 ],
 "metadata": {
  "kernelspec": {
   "display_name": "Python 3",
   "language": "python",
   "name": "python3"
  },
  "language_info": {
   "codemirror_mode": {
    "name": "ipython",
    "version": 2
   },
   "file_extension": ".py",
   "mimetype": "text/x-python",
   "name": "python",
   "nbconvert_exporter": "python",
   "pygments_lexer": "ipython2",
   "version": "2.7.6"
  }
 },
 "nbformat": 4,
 "nbformat_minor": 0
}
