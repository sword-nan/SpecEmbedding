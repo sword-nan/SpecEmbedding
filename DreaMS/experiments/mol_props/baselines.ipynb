{
 "cells": [
  {
   "cell_type": "code",
   "execution_count": 60,
   "metadata": {},
   "outputs": [
    {
     "name": "stdout",
     "output_type": "stream",
     "text": [
      "INFO: Pandarallel will run on 4 workers.\n",
      "INFO: Pandarallel will use Memory file system to transfer data between the main process and workers.\n"
     ]
    }
   ],
   "source": [
    "import random\n",
    "import pickle\n",
    "from collections import defaultdict\n",
    "\n",
    "import numpy as np\n",
    "import pandas as pd\n",
    "import xgboost as xgb\n",
    "from tqdm import tqdm\n",
    "from pandarallel import pandarallel\n",
    "from sklearn.metrics import mean_absolute_error\n",
    "from sklearn.multioutput import MultiOutputRegressor\n",
    "import matplotlib.pyplot as plt\n",
    "import seaborn as sns\n",
    "from tqdm import tqdm\n",
    "\n",
    "from dreams.utils.mols import MolPropertyCalculator\n",
    "from dreams.utils.spectra import bin_peak_list\n",
    "from dreams.utils.io import append_to_stem, read_pickle, write_pickle\n",
    "from dreams.utils.plots import init_plotting, save_fig, get_nature_hex_colors\n",
    "from dreams.definitions import NIST20\n",
    "\n",
    "tqdm.pandas()\n",
    "SEED = 3721\n",
    "random.seed(SEED)\n",
    "np.random.seed(SEED)\n",
    "pandarallel.initialize(progress_bar=True, nb_workers=4)"
   ]
  },
  {
   "cell_type": "code",
   "execution_count": 2,
   "metadata": {},
   "outputs": [],
   "source": [
    "mol_property_calc = MolPropertyCalculator()"
   ]
  },
  {
   "attachments": {},
   "cell_type": "markdown",
   "metadata": {},
   "source": [
    "# Data"
   ]
  },
  {
   "cell_type": "code",
   "execution_count": 127,
   "metadata": {},
   "outputs": [],
   "source": [
    "df_path = NIST20 / 'NIST20_MoNA_A_Murcko_split_MCE_test.pkl'\n",
    "df = pd.read_pickle(df_path)\n",
    "# df_path = NIST20 / 'NIST20_MoNA_A_Murcko_split_MCE_test.pkl'\n",
    "# df.to_pickle(append_to_stem(df_path, 'xgboost'))\n",
    "df"
   ]
  },
  {
   "cell_type": "code",
   "execution_count": null,
   "metadata": {},
   "outputs": [],
   "source": [
    "def get_X_y(df_subset, label='BertzComplexity', all_labels=False):\n",
    "    # Features\n",
    "    X = np.stack(df_subset['PARSED PEAKS'].parallel_apply(lambda peaks: bin_peak_list(peaks, max_mz=1000, bin_step=0.1)))\n",
    "\n",
    "    # Labels\n",
    "    if all_labels:\n",
    "        y = df_subset['ROMol'].parallel_apply(lambda mol: mol_property_calc.mol_to_props(mol, min_max_norm=True))\n",
    "        y = y.apply(lambda dct: np.array(list(dct.values())))\n",
    "        y = np.stack(y).T\n",
    "    else:\n",
    "        y = df_subset['ROMol'].parallel_apply(lambda mol: mol_property_calc.mol_to_props(mol, min_max_norm=True)[label]).values\n",
    "\n",
    "    return X, y"
   ]
  },
  {
   "cell_type": "code",
   "execution_count": null,
   "metadata": {},
   "outputs": [
    {
     "name": "stdout",
     "output_type": "stream",
     "text": [
      "439927 43040 28075\n"
     ]
    }
   ],
   "source": [
    "df_train = df[df['fold'] == 'train']\n",
    "df_val = df[df['fold'] == 'val']\n",
    "df_test = df[df['fold'] == 'test']\n",
    "\n",
    "# df_train = df_train.drop_duplicates(subset=['SMILES'])\n",
    "\n",
    "print(len(df_train), len(df_val), len(df_test))"
   ]
  },
  {
   "cell_type": "code",
   "execution_count": null,
   "metadata": {},
   "outputs": [
    {
     "data": {
      "application/vnd.jupyter.widget-view+json": {
       "model_id": "4a51aca4a96a446bb402d85786639856",
       "version_major": 2,
       "version_minor": 0
      },
      "text/plain": [
       "VBox(children=(HBox(children=(IntProgress(value=0, description='0.00%', max=109982), Label(value='0 / 109982')…"
      ]
     },
     "metadata": {},
     "output_type": "display_data"
    },
    {
     "data": {
      "application/vnd.jupyter.widget-view+json": {
       "model_id": "46c2cdc0ec6142a2bcc7900cb61aa32a",
       "version_major": 2,
       "version_minor": 0
      },
      "text/plain": [
       "VBox(children=(HBox(children=(IntProgress(value=0, description='0.00%', max=109982), Label(value='0 / 109982')…"
      ]
     },
     "metadata": {},
     "output_type": "display_data"
    }
   ],
   "source": [
    "X_train, y_train = get_X_y(df_train)"
   ]
  },
  {
   "attachments": {},
   "cell_type": "markdown",
   "metadata": {},
   "source": [
    "# Training"
   ]
  },
  {
   "attachments": {},
   "cell_type": "markdown",
   "metadata": {},
   "source": [
    "All training samples"
   ]
  },
  {
   "cell_type": "code",
   "execution_count": null,
   "metadata": {},
   "outputs": [
    {
     "data": {
      "text/html": [
       "<style>#sk-container-id-1 {color: black;}#sk-container-id-1 pre{padding: 0;}#sk-container-id-1 div.sk-toggleable {background-color: white;}#sk-container-id-1 label.sk-toggleable__label {cursor: pointer;display: block;width: 100%;margin-bottom: 0;padding: 0.3em;box-sizing: border-box;text-align: center;}#sk-container-id-1 label.sk-toggleable__label-arrow:before {content: \"▸\";float: left;margin-right: 0.25em;color: #696969;}#sk-container-id-1 label.sk-toggleable__label-arrow:hover:before {color: black;}#sk-container-id-1 div.sk-estimator:hover label.sk-toggleable__label-arrow:before {color: black;}#sk-container-id-1 div.sk-toggleable__content {max-height: 0;max-width: 0;overflow: hidden;text-align: left;background-color: #f0f8ff;}#sk-container-id-1 div.sk-toggleable__content pre {margin: 0.2em;color: black;border-radius: 0.25em;background-color: #f0f8ff;}#sk-container-id-1 input.sk-toggleable__control:checked~div.sk-toggleable__content {max-height: 200px;max-width: 100%;overflow: auto;}#sk-container-id-1 input.sk-toggleable__control:checked~label.sk-toggleable__label-arrow:before {content: \"▾\";}#sk-container-id-1 div.sk-estimator input.sk-toggleable__control:checked~label.sk-toggleable__label {background-color: #d4ebff;}#sk-container-id-1 div.sk-label input.sk-toggleable__control:checked~label.sk-toggleable__label {background-color: #d4ebff;}#sk-container-id-1 input.sk-hidden--visually {border: 0;clip: rect(1px 1px 1px 1px);clip: rect(1px, 1px, 1px, 1px);height: 1px;margin: -1px;overflow: hidden;padding: 0;position: absolute;width: 1px;}#sk-container-id-1 div.sk-estimator {font-family: monospace;background-color: #f0f8ff;border: 1px dotted black;border-radius: 0.25em;box-sizing: border-box;margin-bottom: 0.5em;}#sk-container-id-1 div.sk-estimator:hover {background-color: #d4ebff;}#sk-container-id-1 div.sk-parallel-item::after {content: \"\";width: 100%;border-bottom: 1px solid gray;flex-grow: 1;}#sk-container-id-1 div.sk-label:hover label.sk-toggleable__label {background-color: #d4ebff;}#sk-container-id-1 div.sk-serial::before {content: \"\";position: absolute;border-left: 1px solid gray;box-sizing: border-box;top: 0;bottom: 0;left: 50%;z-index: 0;}#sk-container-id-1 div.sk-serial {display: flex;flex-direction: column;align-items: center;background-color: white;padding-right: 0.2em;padding-left: 0.2em;position: relative;}#sk-container-id-1 div.sk-item {position: relative;z-index: 1;}#sk-container-id-1 div.sk-parallel {display: flex;align-items: stretch;justify-content: center;background-color: white;position: relative;}#sk-container-id-1 div.sk-item::before, #sk-container-id-1 div.sk-parallel-item::before {content: \"\";position: absolute;border-left: 1px solid gray;box-sizing: border-box;top: 0;bottom: 0;left: 50%;z-index: -1;}#sk-container-id-1 div.sk-parallel-item {display: flex;flex-direction: column;z-index: 1;position: relative;background-color: white;}#sk-container-id-1 div.sk-parallel-item:first-child::after {align-self: flex-end;width: 50%;}#sk-container-id-1 div.sk-parallel-item:last-child::after {align-self: flex-start;width: 50%;}#sk-container-id-1 div.sk-parallel-item:only-child::after {width: 0;}#sk-container-id-1 div.sk-dashed-wrapped {border: 1px dashed gray;margin: 0 0.4em 0.5em 0.4em;box-sizing: border-box;padding-bottom: 0.4em;background-color: white;}#sk-container-id-1 div.sk-label label {font-family: monospace;font-weight: bold;display: inline-block;line-height: 1.2em;}#sk-container-id-1 div.sk-label-container {text-align: center;}#sk-container-id-1 div.sk-container {/* jupyter's `normalize.less` sets `[hidden] { display: none; }` but bootstrap.min.css set `[hidden] { display: none !important; }` so we also need the `!important` here to be able to override the default hidden behavior on the sphinx rendered scikit-learn.org. See: https://github.com/scikit-learn/scikit-learn/issues/21755 */display: inline-block !important;position: relative;}#sk-container-id-1 div.sk-text-repr-fallback {display: none;}</style><div id=\"sk-container-id-1\" class=\"sk-top-container\"><div class=\"sk-text-repr-fallback\"><pre>XGBRegressor(base_score=None, booster=None, callbacks=None,\n",
       "             colsample_bylevel=None, colsample_bynode=None,\n",
       "             colsample_bytree=None, device=&#x27;cuda&#x27;, early_stopping_rounds=None,\n",
       "             enable_categorical=False, eval_metric=None, feature_types=None,\n",
       "             gamma=None, grow_policy=None, importance_type=None,\n",
       "             interaction_constraints=None, learning_rate=None, max_bin=None,\n",
       "             max_cat_threshold=None, max_cat_to_onehot=None,\n",
       "             max_delta_step=None, max_depth=None, max_leaves=None,\n",
       "             min_child_weight=None, missing=nan, monotone_constraints=None,\n",
       "             multi_strategy=None, n_estimators=1000, n_jobs=None,\n",
       "             num_parallel_tree=None, random_state=None, ...)</pre><b>In a Jupyter environment, please rerun this cell to show the HTML representation or trust the notebook. <br />On GitHub, the HTML representation is unable to render, please try loading this page with nbviewer.org.</b></div><div class=\"sk-container\" hidden><div class=\"sk-item\"><div class=\"sk-estimator sk-toggleable\"><input class=\"sk-toggleable__control sk-hidden--visually\" id=\"sk-estimator-id-1\" type=\"checkbox\" checked><label for=\"sk-estimator-id-1\" class=\"sk-toggleable__label sk-toggleable__label-arrow\">XGBRegressor</label><div class=\"sk-toggleable__content\"><pre>XGBRegressor(base_score=None, booster=None, callbacks=None,\n",
       "             colsample_bylevel=None, colsample_bynode=None,\n",
       "             colsample_bytree=None, device=&#x27;cuda&#x27;, early_stopping_rounds=None,\n",
       "             enable_categorical=False, eval_metric=None, feature_types=None,\n",
       "             gamma=None, grow_policy=None, importance_type=None,\n",
       "             interaction_constraints=None, learning_rate=None, max_bin=None,\n",
       "             max_cat_threshold=None, max_cat_to_onehot=None,\n",
       "             max_delta_step=None, max_depth=None, max_leaves=None,\n",
       "             min_child_weight=None, missing=nan, monotone_constraints=None,\n",
       "             multi_strategy=None, n_estimators=1000, n_jobs=None,\n",
       "             num_parallel_tree=None, random_state=None, ...)</pre></div></div></div></div></div>"
      ],
      "text/plain": [
       "XGBRegressor(base_score=None, booster=None, callbacks=None,\n",
       "             colsample_bylevel=None, colsample_bynode=None,\n",
       "             colsample_bytree=None, device='cuda', early_stopping_rounds=None,\n",
       "             enable_categorical=False, eval_metric=None, feature_types=None,\n",
       "             gamma=None, grow_policy=None, importance_type=None,\n",
       "             interaction_constraints=None, learning_rate=None, max_bin=None,\n",
       "             max_cat_threshold=None, max_cat_to_onehot=None,\n",
       "             max_delta_step=None, max_depth=None, max_leaves=None,\n",
       "             min_child_weight=None, missing=nan, monotone_constraints=None,\n",
       "             multi_strategy=None, n_estimators=1000, n_jobs=None,\n",
       "             num_parallel_tree=None, random_state=None, ...)"
      ]
     },
     "execution_count": 10,
     "metadata": {},
     "output_type": "execute_result"
    }
   ],
   "source": [
    "model = xgb.XGBRegressor(n_estimators=1000, tree_method='hist', verbosity=2, device='cuda')\n",
    "model.fit(X_train, y_train, verbose=True)"
   ]
  },
  {
   "cell_type": "code",
   "execution_count": null,
   "metadata": {},
   "outputs": [
    {
     "data": {
      "application/vnd.jupyter.widget-view+json": {
       "model_id": "443950b20de345798349a755acecb1c8",
       "version_major": 2,
       "version_minor": 0
      },
      "text/plain": [
       "VBox(children=(HBox(children=(IntProgress(value=0, description='0.00%', max=10760), Label(value='0 / 10760')))…"
      ]
     },
     "metadata": {},
     "output_type": "display_data"
    },
    {
     "data": {
      "application/vnd.jupyter.widget-view+json": {
       "model_id": "c949bd2a998742129a0c0d4c6a8fde1f",
       "version_major": 2,
       "version_minor": 0
      },
      "text/plain": [
       "VBox(children=(HBox(children=(IntProgress(value=0, description='0.00%', max=10760), Label(value='0 / 10760')))…"
      ]
     },
     "metadata": {},
     "output_type": "display_data"
    }
   ],
   "source": [
    "# del X_train, y_train\n",
    "X_test, y_test = get_X_y(df_val)"
   ]
  },
  {
   "cell_type": "code",
   "execution_count": null,
   "metadata": {},
   "outputs": [
    {
     "name": "stderr",
     "output_type": "stream",
     "text": [
      "/scratch/project/open-26-23/antonb/miniconda3/envs/msml/lib/python3.9/site-packages/xgboost/core.py:160: UserWarning: [15:11:35] WARNING: /workspace/src/common/error_msg.cc:58: Falling back to prediction using DMatrix due to mismatched devices. This might lead to higher memory usage and slower performance. XGBoost is running on: cuda:0, while the input data is on: cpu.\n",
      "Potential solutions:\n",
      "- Use a data structure that matches the device ordinal in the booster.\n",
      "- Set the device for booster before call to inplace_predict.\n",
      "\n",
      "This warning will only be shown once.\n",
      "\n",
      "  warnings.warn(smsg, UserWarning)\n"
     ]
    },
    {
     "data": {
      "text/plain": [
       "0.049265421517714396"
      ]
     },
     "execution_count": 12,
     "metadata": {},
     "output_type": "execute_result"
    }
   ],
   "source": [
    "y_pred = model.predict(X_test)\n",
    "mean_absolute_error(y_test, y_pred)"
   ]
  },
  {
   "cell_type": "code",
   "execution_count": null,
   "metadata": {},
   "outputs": [
    {
     "data": {
      "text/plain": [
       "184.54405217694534"
      ]
     },
     "execution_count": 13,
     "metadata": {},
     "output_type": "execute_result"
    }
   ],
   "source": [
    "y_pred_denorm = mol_property_calc.denormalize_prop(y_pred, prop_name='BertzComplexity')\n",
    "y_test_denorm = mol_property_calc.denormalize_prop(y_test, prop_name='BertzComplexity')\n",
    "mean_absolute_error(y_test_denorm, y_pred_denorm)"
   ]
  },
  {
   "cell_type": "code",
   "execution_count": null,
   "metadata": {},
   "outputs": [
    {
     "data": {
      "text/plain": [
       "770.0299938258278"
      ]
     },
     "execution_count": 14,
     "metadata": {},
     "output_type": "execute_result"
    }
   ],
   "source": [
    "mean_absolute_error(y_test_denorm, np.full_like(y_pred_denorm, y_train.mean()))"
   ]
  },
  {
   "attachments": {},
   "cell_type": "markdown",
   "metadata": {},
   "source": [
    "Unique SMILES (similar to the original Gebhard2022 paper)"
   ]
  },
  {
   "cell_type": "code",
   "execution_count": null,
   "metadata": {},
   "outputs": [
    {
     "name": "stdout",
     "output_type": "stream",
     "text": [
      "0.0556396889941916\n",
      "208.42151160093417\n"
     ]
    }
   ],
   "source": [
    "df_train = df_train.drop_duplicates(subset=['SMILES'])\n",
    "X_train, y_train = get_X_y(df_train)\n",
    "\n",
    "model = xgb.XGBRegressor(n_estimators=1000, tree_method='hist', verbosity=2, device='cuda')\n",
    "model.fit(X_train, y_train, verbose=True)\n",
    "\n",
    "y_pred = model.predict(X_test)\n",
    "print(mean_absolute_error(y_test, y_pred))\n",
    "y_pred_denorm = mol_property_calc.denormalize_prop(y_pred, prop_name='BertzComplexity')\n",
    "y_test_denorm = mol_property_calc.denormalize_prop(y_test, prop_name='BertzComplexity')\n",
    "print(mean_absolute_error(y_test_denorm, y_pred_denorm))"
   ]
  },
  {
   "cell_type": "code",
   "execution_count": null,
   "metadata": {},
   "outputs": [
    {
     "data": {
      "application/vnd.jupyter.widget-view+json": {
       "model_id": "ec0a579b14644dbfaff4471da1a09ffb",
       "version_major": 2,
       "version_minor": 0
      },
      "text/plain": [
       "VBox(children=(HBox(children=(IntProgress(value=0, description='0.00%', max=10760), Label(value='0 / 10760')))…"
      ]
     },
     "metadata": {},
     "output_type": "display_data"
    },
    {
     "data": {
      "application/vnd.jupyter.widget-view+json": {
       "model_id": "b95927cdfcb246ab907a11667c5609aa",
       "version_major": 2,
       "version_minor": 0
      },
      "text/plain": [
       "VBox(children=(HBox(children=(IntProgress(value=0, description='0.00%', max=10760), Label(value='0 / 10760')))…"
      ]
     },
     "metadata": {},
     "output_type": "display_data"
    }
   ],
   "source": [
    "df_val = df[df['fold'] == 'val']\n",
    "X_test, y_test = get_X_y(df_val)"
   ]
  },
  {
   "attachments": {},
   "cell_type": "markdown",
   "metadata": {},
   "source": [
    "# Explore hparams"
   ]
  },
  {
   "cell_type": "code",
   "execution_count": null,
   "metadata": {},
   "outputs": [
    {
     "data": {
      "application/vnd.jupyter.widget-view+json": {
       "model_id": "8d9888b7b0af4309bf186e018b2a223d",
       "version_major": 2,
       "version_minor": 0
      },
      "text/plain": [
       "VBox(children=(HBox(children=(IntProgress(value=0, description='0.00%', max=10760), Label(value='0 / 10760')))…"
      ]
     },
     "metadata": {},
     "output_type": "display_data"
    },
    {
     "data": {
      "application/vnd.jupyter.widget-view+json": {
       "model_id": "99aa5ee57c99484eabb3ab088d58a975",
       "version_major": 2,
       "version_minor": 0
      },
      "text/plain": [
       "VBox(children=(HBox(children=(IntProgress(value=0, description='0.00%', max=10760), Label(value='0 / 10760')))…"
      ]
     },
     "metadata": {},
     "output_type": "display_data"
    }
   ],
   "source": [
    "# X_train, y_train = get_X_y(df_train)\n",
    "X_test, y_test = get_X_y(df_val)"
   ]
  },
  {
   "cell_type": "code",
   "execution_count": null,
   "metadata": {},
   "outputs": [
    {
     "name": "stdout",
     "output_type": "stream",
     "text": [
      "Hparams auto 100 3 0.5\n"
     ]
    },
    {
     "name": "stderr",
     "output_type": "stream",
     "text": [
      "/scratch/project/open-26-23/antonb/miniconda3/envs/msml/lib/python3.9/site-packages/xgboost/core.py:160: UserWarning: [17:13:21] WARNING: /workspace/src/common/error_msg.cc:58: Falling back to prediction using DMatrix due to mismatched devices. This might lead to higher memory usage and slower performance. XGBoost is running on: cuda:0, while the input data is on: cpu.\n",
      "Potential solutions:\n",
      "- Use a data structure that matches the device ordinal in the booster.\n",
      "- Set the device for booster before call to inplace_predict.\n",
      "\n",
      "This warning will only be shown once.\n",
      "\n",
      "  warnings.warn(smsg, UserWarning)\n"
     ]
    },
    {
     "name": "stdout",
     "output_type": "stream",
     "text": [
      "Min-max normalized MAE 0.05379018262167082\n",
      "Denormalized MAE 201.49342056035582\n",
      "Hparams auto 100 3 1.0\n",
      "Min-max normalized MAE 0.05379018262167082\n",
      "Denormalized MAE 201.49342056035582\n",
      "Hparams auto 100 3 2.0\n",
      "Min-max normalized MAE 0.05392606737548175\n",
      "Denormalized MAE 202.00243320596724\n",
      "Hparams auto 100 6 0.5\n",
      "Min-max normalized MAE 0.05150098402905041\n",
      "Denormalized MAE 192.918278465481\n",
      "Hparams auto 100 6 1.0\n",
      "Min-max normalized MAE 0.05150098402905041\n",
      "Denormalized MAE 192.918278465481\n",
      "Hparams auto 100 6 2.0\n",
      "Min-max normalized MAE 0.05151292819710851\n",
      "Denormalized MAE 192.96301993000046\n",
      "Hparams auto 1000 3 0.5\n",
      "Min-max normalized MAE 0.05000543030098822\n",
      "Denormalized MAE 187.31606204828503\n",
      "Hparams auto 1000 3 1.0\n",
      "Min-max normalized MAE 0.05000543030098822\n",
      "Denormalized MAE 187.31606204828503\n",
      "Hparams auto 1000 3 2.0\n",
      "Min-max normalized MAE 0.05004999988898912\n",
      "Denormalized MAE 187.4830156928436\n",
      "Hparams auto 1000 6 0.5\n",
      "Min-max normalized MAE 0.049265421517714396\n",
      "Denormalized MAE 184.54405217694534\n",
      "Hparams auto 1000 6 1.0\n",
      "Min-max normalized MAE 0.049265421517714396\n",
      "Denormalized MAE 184.54405217694534\n",
      "Hparams auto 1000 6 2.0\n",
      "Min-max normalized MAE 0.0493177253407351\n",
      "Denormalized MAE 184.739977847135\n",
      "Hparams auto 5000 3 0.5\n",
      "Min-max normalized MAE 0.04962098374408487\n",
      "Denormalized MAE 185.8759577831501\n",
      "Hparams auto 5000 3 1.0\n",
      "Min-max normalized MAE 0.04962098374408487\n",
      "Denormalized MAE 185.8759577831501\n",
      "Hparams auto 5000 3 2.0\n",
      "Min-max normalized MAE 0.049734262466008795\n",
      "Denormalized MAE 186.30029014169145\n",
      "Hparams auto 5000 6 0.5\n",
      "Min-max normalized MAE 0.04992236669601386\n",
      "Denormalized MAE 187.00491207684485\n",
      "Hparams auto 5000 6 1.0\n",
      "Min-max normalized MAE 0.04992236669601386\n",
      "Denormalized MAE 187.00491207684485\n",
      "Hparams auto 5000 6 2.0\n",
      "Min-max normalized MAE 0.04996359881160222\n",
      "Denormalized MAE 187.15936412551883\n"
     ]
    }
   ],
   "source": [
    "df_hparams = []\n",
    "for tree_method in [\"auto\"]:  # \"hist\",\n",
    "    for n_estimators in [100, 1000, 5000]:\n",
    "        for max_depth in [3, 6]:\n",
    "            for min_child_weight in [0.5, 1.0, 2.0]:\n",
    "                print('Hparams', tree_method, n_estimators, max_depth, min_child_weight)\n",
    "                \n",
    "                model = xgb.XGBRegressor(\n",
    "                    n_estimators=n_estimators, tree_method=tree_method,\n",
    "                    max_depth=max_depth, min_child_weight=min_child_weight,\n",
    "                    verbosity=2, device='cuda'\n",
    "                )\n",
    "                model.fit(X_train, y_train, verbose=True)\n",
    "                \n",
    "                y_pred = model.predict(X_test)\n",
    "                print('Min-max normalized MAE', mean_absolute_error(y_test, y_pred))\n",
    "        \n",
    "                y_pred_denorm = mol_property_calc.denormalize_prop(y_pred, prop_name='BertzComplexity')\n",
    "                y_test_denorm = mol_property_calc.denormalize_prop(y_test, prop_name='BertzComplexity')\n",
    "                print('Denormalized MAE', mean_absolute_error(y_test_denorm, y_pred_denorm))\n",
    "\n",
    "                df_hparams.append({\n",
    "                    'tree_method': tree_method,\n",
    "                    'n_estimators': n_estimators,\n",
    "                    'max_depth': max_depth,\n",
    "                    'min_child_weight': min_child_weight\n",
    "                    'Denormalized MAE': mean_absolute_error(y_test_denorm, y_pred_denorm)\n",
    "                })\n",
    "df_hparams = pd.DataFrame(df_hparams)"
   ]
  },
  {
   "attachments": {},
   "cell_type": "markdown",
   "metadata": {},
   "source": [
    "# Multi-output for all properties in a simple for loop"
   ]
  },
  {
   "cell_type": "code",
   "execution_count": null,
   "metadata": {},
   "outputs": [
    {
     "data": {
      "application/vnd.jupyter.widget-view+json": {
       "model_id": "490d570a8ea24ff49d0c1d244d79de3f",
       "version_major": 2,
       "version_minor": 0
      },
      "text/plain": [
       "VBox(children=(HBox(children=(IntProgress(value=0, description='0.00%', max=109982), Label(value='0 / 109982')…"
      ]
     },
     "metadata": {},
     "output_type": "display_data"
    },
    {
     "data": {
      "application/vnd.jupyter.widget-view+json": {
       "model_id": "0cda2511d0334a6997f1c19f35dff5e1",
       "version_major": 2,
       "version_minor": 0
      },
      "text/plain": [
       "VBox(children=(HBox(children=(IntProgress(value=0, description='0.00%', max=109982), Label(value='0 / 109982')…"
      ]
     },
     "metadata": {},
     "output_type": "display_data"
    },
    {
     "data": {
      "application/vnd.jupyter.widget-view+json": {
       "model_id": "f2d83b2499664fad9a889609807b376d",
       "version_major": 2,
       "version_minor": 0
      },
      "text/plain": [
       "VBox(children=(HBox(children=(IntProgress(value=0, description='0.00%', max=10760), Label(value='0 / 10760')))…"
      ]
     },
     "metadata": {},
     "output_type": "display_data"
    },
    {
     "data": {
      "application/vnd.jupyter.widget-view+json": {
       "model_id": "e853d2cc1a8a452dab8c55af4077b179",
       "version_major": 2,
       "version_minor": 0
      },
      "text/plain": [
       "VBox(children=(HBox(children=(IntProgress(value=0, description='0.00%', max=10760), Label(value='0 / 10760')))…"
      ]
     },
     "metadata": {},
     "output_type": "display_data"
    }
   ],
   "source": [
    "X_train, y_train = get_X_y(df_train, all_labels=True)\n",
    "X_test, y_test = get_X_y(df_val, all_labels=True)"
   ]
  },
  {
   "cell_type": "code",
   "execution_count": null,
   "metadata": {},
   "outputs": [
    {
     "name": "stdout",
     "output_type": "stream",
     "text": [
      "AtomicLogP\n",
      "Min-max normalized MAE 0.033455613667360586\n",
      "Denormalized MAE 1.3350128521344644\n",
      "NumHAcceptors\n",
      "Min-max normalized MAE 0.048461810695090146\n",
      "Denormalized MAE 1.7446251845998226\n",
      "NumHDonors\n",
      "Min-max normalized MAE 0.05866244543226068\n",
      "Denormalized MAE 1.1732489089561162\n",
      "PolarSurfaceArea\n",
      "Min-max normalized MAE 0.0506599429409692\n",
      "Denormalized MAE 29.63758696843764\n",
      "NumRotatableBonds\n",
      "Min-max normalized MAE 0.03380073369464886\n",
      "Denormalized MAE 2.298449889854372\n",
      "NumAromaticRings\n",
      "Min-max normalized MAE 0.0816943810916883\n",
      "Denormalized MAE 0.6535550487335064\n",
      "NumAliphaticRings\n",
      "Min-max normalized MAE 0.037973294578821225\n",
      "Denormalized MAE 0.8354124805162969\n",
      "FractionCSP3\n",
      "Min-max normalized MAE 0.1294723732241941\n",
      "Denormalized MAE 0.1294723732241941\n",
      "QED\n",
      "Min-max normalized MAE 0.1516012380559737\n",
      "Denormalized MAE 0.14235172379083666\n",
      "SyntheticAccessibility\n",
      "Min-max normalized MAE 0.09739599319491198\n",
      "Denormalized MAE 0.680706873124827\n",
      "BertzComplexity\n",
      "Min-max normalized MAE 0.049265421517714396\n",
      "Denormalized MAE 184.54405217694534\n"
     ]
    },
    {
     "data": {
      "text/html": [
       "<div>\n",
       "<style scoped>\n",
       "    .dataframe tbody tr th:only-of-type {\n",
       "        vertical-align: middle;\n",
       "    }\n",
       "\n",
       "    .dataframe tbody tr th {\n",
       "        vertical-align: top;\n",
       "    }\n",
       "\n",
       "    .dataframe thead th {\n",
       "        text-align: right;\n",
       "    }\n",
       "</style>\n",
       "<table border=\"1\" class=\"dataframe\">\n",
       "  <thead>\n",
       "    <tr style=\"text-align: right;\">\n",
       "      <th></th>\n",
       "      <th>label</th>\n",
       "      <th>y_test</th>\n",
       "      <th>y_pred</th>\n",
       "      <th>mae</th>\n",
       "    </tr>\n",
       "  </thead>\n",
       "  <tbody>\n",
       "    <tr>\n",
       "      <th>0</th>\n",
       "      <td>AtomicLogP</td>\n",
       "      <td>[6.2235000000000085, 0.10010000000000474, 4.08...</td>\n",
       "      <td>[6.7385178, 2.465251, 2.4496841, 2.3276377, 2....</td>\n",
       "      <td>1.335013</td>\n",
       "    </tr>\n",
       "    <tr>\n",
       "      <th>1</th>\n",
       "      <td>NumHAcceptors</td>\n",
       "      <td>[3.0, 17.0, 1.0, 2.0, 5.0, 2.0, 3.0, 14.0, 2.0...</td>\n",
       "      <td>[3.982305, 4.7399654, 2.7345405, 0.91799223, 5...</td>\n",
       "      <td>1.744625</td>\n",
       "    </tr>\n",
       "    <tr>\n",
       "      <th>2</th>\n",
       "      <td>NumHDonors</td>\n",
       "      <td>[2.0, 2.0, 0.0, 2.0, 1.0, 2.0, 0.0, 10.0, 1.0,...</td>\n",
       "      <td>[1.6376777, 1.4385169, 0.9599405, 0.8010384, 1...</td>\n",
       "      <td>1.173249</td>\n",
       "    </tr>\n",
       "    <tr>\n",
       "      <th>3</th>\n",
       "      <td>PolarSurfaceArea</td>\n",
       "      <td>[49.68999999999999, 237.44999999999996, 20.310...</td>\n",
       "      <td>[78.43336, 74.10846, 46.812992, 28.403942, 89....</td>\n",
       "      <td>29.637587</td>\n",
       "    </tr>\n",
       "    <tr>\n",
       "      <th>4</th>\n",
       "      <td>NumRotatableBonds</td>\n",
       "      <td>[7.0, 5.0, 3.0, 2.0, 1.0, 1.0, 3.0, 6.0, 1.0, ...</td>\n",
       "      <td>[8.721856, 4.2885084, 3.3022237, 1.4894134, 5....</td>\n",
       "      <td>2.298450</td>\n",
       "    </tr>\n",
       "    <tr>\n",
       "      <th>5</th>\n",
       "      <td>NumAromaticRings</td>\n",
       "      <td>[1.0, 1.0, 2.0, 2.0, 0.0, 2.0, 3.0, 0.0, 0.0, ...</td>\n",
       "      <td>[0.24332678, 1.5257038, 1.6320176, 1.6830934, ...</td>\n",
       "      <td>0.653555</td>\n",
       "    </tr>\n",
       "    <tr>\n",
       "      <th>6</th>\n",
       "      <td>NumAliphaticRings</td>\n",
       "      <td>[2.0, 4.0, 1.0, 1.0, 3.0, 1.0, 0.0, 3.0, 4.0, ...</td>\n",
       "      <td>[1.3406944, 0.97851187, 0.21028906, 0.01467166...</td>\n",
       "      <td>0.835412</td>\n",
       "    </tr>\n",
       "    <tr>\n",
       "      <th>7</th>\n",
       "      <td>FractionCSP3</td>\n",
       "      <td>[0.68, 0.6470588235294118, 0.35, 0.35714285714...</td>\n",
       "      <td>[0.7366483, 0.37394094, 0.2339149, 0.26664606,...</td>\n",
       "      <td>0.129472</td>\n",
       "    </tr>\n",
       "    <tr>\n",
       "      <th>8</th>\n",
       "      <td>QED</td>\n",
       "      <td>[0.43164197376289165, 0.30304382275227487, 0.8...</td>\n",
       "      <td>[0.3501105, 0.6452686, 0.70918614, 0.77581835,...</td>\n",
       "      <td>0.142352</td>\n",
       "    </tr>\n",
       "    <tr>\n",
       "      <th>9</th>\n",
       "      <td>SyntheticAccessibility</td>\n",
       "      <td>[3.774487323924852, 7.511818198878913, 1.62016...</td>\n",
       "      <td>[2.9146833, 2.9782104, 1.9234526, 1.8340963, 4...</td>\n",
       "      <td>0.680707</td>\n",
       "    </tr>\n",
       "    <tr>\n",
       "      <th>10</th>\n",
       "      <td>BertzComplexity</td>\n",
       "      <td>[729.5536584371558, 1674.3848976764527, 609.91...</td>\n",
       "      <td>[578.8897, 573.30286, 475.78763, 420.66602, 66...</td>\n",
       "      <td>184.544052</td>\n",
       "    </tr>\n",
       "  </tbody>\n",
       "</table>\n",
       "</div>"
      ],
      "text/plain": [
       "                     label                                             y_test  \\\n",
       "0               AtomicLogP  [6.2235000000000085, 0.10010000000000474, 4.08...   \n",
       "1            NumHAcceptors  [3.0, 17.0, 1.0, 2.0, 5.0, 2.0, 3.0, 14.0, 2.0...   \n",
       "2               NumHDonors  [2.0, 2.0, 0.0, 2.0, 1.0, 2.0, 0.0, 10.0, 1.0,...   \n",
       "3         PolarSurfaceArea  [49.68999999999999, 237.44999999999996, 20.310...   \n",
       "4        NumRotatableBonds  [7.0, 5.0, 3.0, 2.0, 1.0, 1.0, 3.0, 6.0, 1.0, ...   \n",
       "5         NumAromaticRings  [1.0, 1.0, 2.0, 2.0, 0.0, 2.0, 3.0, 0.0, 0.0, ...   \n",
       "6        NumAliphaticRings  [2.0, 4.0, 1.0, 1.0, 3.0, 1.0, 0.0, 3.0, 4.0, ...   \n",
       "7             FractionCSP3  [0.68, 0.6470588235294118, 0.35, 0.35714285714...   \n",
       "8                      QED  [0.43164197376289165, 0.30304382275227487, 0.8...   \n",
       "9   SyntheticAccessibility  [3.774487323924852, 7.511818198878913, 1.62016...   \n",
       "10         BertzComplexity  [729.5536584371558, 1674.3848976764527, 609.91...   \n",
       "\n",
       "                                               y_pred         mae  \n",
       "0   [6.7385178, 2.465251, 2.4496841, 2.3276377, 2....    1.335013  \n",
       "1   [3.982305, 4.7399654, 2.7345405, 0.91799223, 5...    1.744625  \n",
       "2   [1.6376777, 1.4385169, 0.9599405, 0.8010384, 1...    1.173249  \n",
       "3   [78.43336, 74.10846, 46.812992, 28.403942, 89....   29.637587  \n",
       "4   [8.721856, 4.2885084, 3.3022237, 1.4894134, 5....    2.298450  \n",
       "5   [0.24332678, 1.5257038, 1.6320176, 1.6830934, ...    0.653555  \n",
       "6   [1.3406944, 0.97851187, 0.21028906, 0.01467166...    0.835412  \n",
       "7   [0.7366483, 0.37394094, 0.2339149, 0.26664606,...    0.129472  \n",
       "8   [0.3501105, 0.6452686, 0.70918614, 0.77581835,...    0.142352  \n",
       "9   [2.9146833, 2.9782104, 1.9234526, 1.8340963, 4...    0.680707  \n",
       "10  [578.8897, 573.30286, 475.78763, 420.66602, 66...  184.544052  "
      ]
     },
     "execution_count": 12,
     "metadata": {},
     "output_type": "execute_result"
    }
   ],
   "source": [
    "df_pred = []\n",
    "for i, label in enumerate(mol_property_calc.prop_names):\n",
    "    print(label)\n",
    "    # X_train, y_train = get_X_y(df_train, label=label)\n",
    "    # X_test, y_test = get_X_y(df_val, label=label)\n",
    "    X_train_task = X_train\n",
    "    y_train_task = y_train[i, :]\n",
    "    X_test_task = X_test\n",
    "    y_test_task = y_test[i, :]\n",
    "\n",
    "    model = xgb.XGBRegressor(n_estimators=1000, tree_method='hist', verbosity=2, device='cuda')\n",
    "    model.fit(X_train_task, y_train_task, verbose=True)\n",
    "\n",
    "    y_pred_task = model.predict(X_test_task)\n",
    "    print('Min-max normalized MAE', mean_absolute_error(y_test_task, y_pred_task))\n",
    "\n",
    "    y_pred_task_denorm = mol_property_calc.denormalize_prop(y_pred_task, prop_name=label)\n",
    "    y_test_task_denorm = mol_property_calc.denormalize_prop(y_test_task, prop_name=label)\n",
    "    print('Denormalized MAE', mean_absolute_error(y_test_task_denorm, y_pred_task_denorm))\n",
    "\n",
    "    df_pred.append({\n",
    "        'label': label,\n",
    "        'y_test': y_test_task_denorm,\n",
    "        'y_pred': y_pred_task_denorm,\n",
    "        'mae': mean_absolute_error(y_test_task_denorm, y_pred_task_denorm)\n",
    "    })\n",
    "df_pred = pd.DataFrame(df_pred)\n",
    "df_pred"
   ]
  },
  {
   "cell_type": "code",
   "execution_count": null,
   "metadata": {},
   "outputs": [],
   "source": [
    "df_pred.to_pickle('tmp_preds.pkl')"
   ]
  },
  {
   "attachments": {},
   "cell_type": "markdown",
   "metadata": {},
   "source": [
    "# Multi-output for all properties (some bug)"
   ]
  },
  {
   "cell_type": "code",
   "execution_count": null,
   "metadata": {},
   "outputs": [
    {
     "data": {
      "application/vnd.jupyter.widget-view+json": {
       "model_id": "bf762e318bf74fd2902801583a197d3d",
       "version_major": 2,
       "version_minor": 0
      },
      "text/plain": [
       "VBox(children=(HBox(children=(IntProgress(value=0, description='0.00%', max=109982), Label(value='0 / 109982')…"
      ]
     },
     "metadata": {},
     "output_type": "display_data"
    },
    {
     "data": {
      "application/vnd.jupyter.widget-view+json": {
       "model_id": "756fc5783aaf438db371b642751ff961",
       "version_major": 2,
       "version_minor": 0
      },
      "text/plain": [
       "VBox(children=(HBox(children=(IntProgress(value=0, description='0.00%', max=109982), Label(value='0 / 109982')…"
      ]
     },
     "metadata": {},
     "output_type": "display_data"
    },
    {
     "data": {
      "application/vnd.jupyter.widget-view+json": {
       "model_id": "cc25cef5070b4b40b97aefc90596da77",
       "version_major": 2,
       "version_minor": 0
      },
      "text/plain": [
       "VBox(children=(HBox(children=(IntProgress(value=0, description='0.00%', max=10760), Label(value='0 / 10760')))…"
      ]
     },
     "metadata": {},
     "output_type": "display_data"
    },
    {
     "data": {
      "application/vnd.jupyter.widget-view+json": {
       "model_id": "1d325e81b7c045d1a4b6e0af0a17d700",
       "version_major": 2,
       "version_minor": 0
      },
      "text/plain": [
       "VBox(children=(HBox(children=(IntProgress(value=0, description='0.00%', max=10760), Label(value='0 / 10760')))…"
      ]
     },
     "metadata": {},
     "output_type": "display_data"
    }
   ],
   "source": [
    "X_train, y_train = get_X_y(df_train, all_labels=True)\n",
    "X_test, y_test = get_X_y(df_val, all_labels=True)"
   ]
  },
  {
   "cell_type": "code",
   "execution_count": null,
   "metadata": {},
   "outputs": [
    {
     "data": {
      "text/html": [
       "<style>#sk-container-id-1 {color: black;}#sk-container-id-1 pre{padding: 0;}#sk-container-id-1 div.sk-toggleable {background-color: white;}#sk-container-id-1 label.sk-toggleable__label {cursor: pointer;display: block;width: 100%;margin-bottom: 0;padding: 0.3em;box-sizing: border-box;text-align: center;}#sk-container-id-1 label.sk-toggleable__label-arrow:before {content: \"▸\";float: left;margin-right: 0.25em;color: #696969;}#sk-container-id-1 label.sk-toggleable__label-arrow:hover:before {color: black;}#sk-container-id-1 div.sk-estimator:hover label.sk-toggleable__label-arrow:before {color: black;}#sk-container-id-1 div.sk-toggleable__content {max-height: 0;max-width: 0;overflow: hidden;text-align: left;background-color: #f0f8ff;}#sk-container-id-1 div.sk-toggleable__content pre {margin: 0.2em;color: black;border-radius: 0.25em;background-color: #f0f8ff;}#sk-container-id-1 input.sk-toggleable__control:checked~div.sk-toggleable__content {max-height: 200px;max-width: 100%;overflow: auto;}#sk-container-id-1 input.sk-toggleable__control:checked~label.sk-toggleable__label-arrow:before {content: \"▾\";}#sk-container-id-1 div.sk-estimator input.sk-toggleable__control:checked~label.sk-toggleable__label {background-color: #d4ebff;}#sk-container-id-1 div.sk-label input.sk-toggleable__control:checked~label.sk-toggleable__label {background-color: #d4ebff;}#sk-container-id-1 input.sk-hidden--visually {border: 0;clip: rect(1px 1px 1px 1px);clip: rect(1px, 1px, 1px, 1px);height: 1px;margin: -1px;overflow: hidden;padding: 0;position: absolute;width: 1px;}#sk-container-id-1 div.sk-estimator {font-family: monospace;background-color: #f0f8ff;border: 1px dotted black;border-radius: 0.25em;box-sizing: border-box;margin-bottom: 0.5em;}#sk-container-id-1 div.sk-estimator:hover {background-color: #d4ebff;}#sk-container-id-1 div.sk-parallel-item::after {content: \"\";width: 100%;border-bottom: 1px solid gray;flex-grow: 1;}#sk-container-id-1 div.sk-label:hover label.sk-toggleable__label {background-color: #d4ebff;}#sk-container-id-1 div.sk-serial::before {content: \"\";position: absolute;border-left: 1px solid gray;box-sizing: border-box;top: 0;bottom: 0;left: 50%;z-index: 0;}#sk-container-id-1 div.sk-serial {display: flex;flex-direction: column;align-items: center;background-color: white;padding-right: 0.2em;padding-left: 0.2em;position: relative;}#sk-container-id-1 div.sk-item {position: relative;z-index: 1;}#sk-container-id-1 div.sk-parallel {display: flex;align-items: stretch;justify-content: center;background-color: white;position: relative;}#sk-container-id-1 div.sk-item::before, #sk-container-id-1 div.sk-parallel-item::before {content: \"\";position: absolute;border-left: 1px solid gray;box-sizing: border-box;top: 0;bottom: 0;left: 50%;z-index: -1;}#sk-container-id-1 div.sk-parallel-item {display: flex;flex-direction: column;z-index: 1;position: relative;background-color: white;}#sk-container-id-1 div.sk-parallel-item:first-child::after {align-self: flex-end;width: 50%;}#sk-container-id-1 div.sk-parallel-item:last-child::after {align-self: flex-start;width: 50%;}#sk-container-id-1 div.sk-parallel-item:only-child::after {width: 0;}#sk-container-id-1 div.sk-dashed-wrapped {border: 1px dashed gray;margin: 0 0.4em 0.5em 0.4em;box-sizing: border-box;padding-bottom: 0.4em;background-color: white;}#sk-container-id-1 div.sk-label label {font-family: monospace;font-weight: bold;display: inline-block;line-height: 1.2em;}#sk-container-id-1 div.sk-label-container {text-align: center;}#sk-container-id-1 div.sk-container {/* jupyter's `normalize.less` sets `[hidden] { display: none; }` but bootstrap.min.css set `[hidden] { display: none !important; }` so we also need the `!important` here to be able to override the default hidden behavior on the sphinx rendered scikit-learn.org. See: https://github.com/scikit-learn/scikit-learn/issues/21755 */display: inline-block !important;position: relative;}#sk-container-id-1 div.sk-text-repr-fallback {display: none;}</style><div id=\"sk-container-id-1\" class=\"sk-top-container\"><div class=\"sk-text-repr-fallback\"><pre>XGBRegressor(base_score=None, booster=None, callbacks=None,\n",
       "             colsample_bylevel=None, colsample_bynode=None,\n",
       "             colsample_bytree=None, device=&#x27;cuda&#x27;, early_stopping_rounds=None,\n",
       "             enable_categorical=False, eval_metric=None, feature_types=None,\n",
       "             gamma=None, grow_policy=None, importance_type=None,\n",
       "             interaction_constraints=None, learning_rate=None, max_bin=None,\n",
       "             max_cat_threshold=None, max_cat_to_onehot=None,\n",
       "             max_delta_step=None, max_depth=None, max_leaves=None,\n",
       "             min_child_weight=None, missing=nan, monotone_constraints=None,\n",
       "             multi_strategy=None, n_estimators=1000, n_jobs=None,\n",
       "             num_parallel_tree=None, random_state=None, ...)</pre><b>In a Jupyter environment, please rerun this cell to show the HTML representation or trust the notebook. <br />On GitHub, the HTML representation is unable to render, please try loading this page with nbviewer.org.</b></div><div class=\"sk-container\" hidden><div class=\"sk-item\"><div class=\"sk-estimator sk-toggleable\"><input class=\"sk-toggleable__control sk-hidden--visually\" id=\"sk-estimator-id-1\" type=\"checkbox\" checked><label for=\"sk-estimator-id-1\" class=\"sk-toggleable__label sk-toggleable__label-arrow\">XGBRegressor</label><div class=\"sk-toggleable__content\"><pre>XGBRegressor(base_score=None, booster=None, callbacks=None,\n",
       "             colsample_bylevel=None, colsample_bynode=None,\n",
       "             colsample_bytree=None, device=&#x27;cuda&#x27;, early_stopping_rounds=None,\n",
       "             enable_categorical=False, eval_metric=None, feature_types=None,\n",
       "             gamma=None, grow_policy=None, importance_type=None,\n",
       "             interaction_constraints=None, learning_rate=None, max_bin=None,\n",
       "             max_cat_threshold=None, max_cat_to_onehot=None,\n",
       "             max_delta_step=None, max_depth=None, max_leaves=None,\n",
       "             min_child_weight=None, missing=nan, monotone_constraints=None,\n",
       "             multi_strategy=None, n_estimators=1000, n_jobs=None,\n",
       "             num_parallel_tree=None, random_state=None, ...)</pre></div></div></div></div></div>"
      ],
      "text/plain": [
       "XGBRegressor(base_score=None, booster=None, callbacks=None,\n",
       "             colsample_bylevel=None, colsample_bynode=None,\n",
       "             colsample_bytree=None, device='cuda', early_stopping_rounds=None,\n",
       "             enable_categorical=False, eval_metric=None, feature_types=None,\n",
       "             gamma=None, grow_policy=None, importance_type=None,\n",
       "             interaction_constraints=None, learning_rate=None, max_bin=None,\n",
       "             max_cat_threshold=None, max_cat_to_onehot=None,\n",
       "             max_delta_step=None, max_depth=None, max_leaves=None,\n",
       "             min_child_weight=None, missing=nan, monotone_constraints=None,\n",
       "             multi_strategy=None, n_estimators=1000, n_jobs=None,\n",
       "             num_parallel_tree=None, random_state=None, ...)"
      ]
     },
     "execution_count": 14,
     "metadata": {},
     "output_type": "execute_result"
    }
   ],
   "source": [
    "model = xgb.XGBRegressor(n_estimators=1000, tree_method='hist', verbosity=2, device='cuda')\n",
    "model.fit(X_train, y_train, verbose=True)"
   ]
  },
  {
   "cell_type": "code",
   "execution_count": null,
   "metadata": {},
   "outputs": [
    {
     "name": "stderr",
     "output_type": "stream",
     "text": [
      "/scratch/project/open-26-23/antonb/miniconda3/envs/msml/lib/python3.9/site-packages/xgboost/core.py:160: UserWarning: [19:26:27] WARNING: /workspace/src/common/error_msg.cc:58: Falling back to prediction using DMatrix due to mismatched devices. This might lead to higher memory usage and slower performance. XGBoost is running on: cuda:0, while the input data is on: cpu.\n",
      "Potential solutions:\n",
      "- Use a data structure that matches the device ordinal in the booster.\n",
      "- Set the device for booster before call to inplace_predict.\n",
      "\n",
      "This warning will only be shown once.\n",
      "\n",
      "  warnings.warn(smsg, UserWarning)\n"
     ]
    }
   ],
   "source": [
    "y_pred = model.predict(X_test)"
   ]
  },
  {
   "cell_type": "code",
   "execution_count": null,
   "metadata": {},
   "outputs": [
    {
     "data": {
      "text/plain": [
       "array([0.17658807, 0.11155517, 0.15480777, 0.11573937, 0.16525837,\n",
       "       0.11503644, 0.16048905, 0.24284307, 0.4091283 , 0.15641142,\n",
       "       0.05707911])"
      ]
     },
     "execution_count": 27,
     "metadata": {},
     "output_type": "execute_result"
    }
   ],
   "source": [
    "mean_absolute_error(y_test, y_pred, multioutput='raw_values')"
   ]
  },
  {
   "cell_type": "code",
   "execution_count": null,
   "metadata": {},
   "outputs": [],
   "source": [
    "def unnormalize_y(y):\n",
    "    y_unnorm = []\n",
    "    for row in y:\n",
    "        row_dct = dict(zip(mol_property_calc.prop_names, row))\n",
    "        y_unnorm.append(list(mol_property_calc.denormalize_props(row_dct).values()))\n",
    "    return np.stack(y_unnorm)"
   ]
  },
  {
   "cell_type": "code",
   "execution_count": null,
   "metadata": {},
   "outputs": [],
   "source": [
    "y_test_unnorm = unnormalize_y(y_test)\n",
    "y_pred_unnorm = unnormalize_y(y_pred)"
   ]
  },
  {
   "cell_type": "code",
   "execution_count": null,
   "metadata": {},
   "outputs": [
    {
     "data": {
      "text/plain": [
       "array([  7.04657025,   4.015986  ,   3.09615532,  67.71100351,\n",
       "        11.23756896,   0.9202915 ,   3.53075919,   0.24284307,\n",
       "         0.38416651,   1.0931695 , 213.8134753 ])"
      ]
     },
     "execution_count": 38,
     "metadata": {},
     "output_type": "execute_result"
    }
   ],
   "source": [
    "mean_absolute_error(y_test_unnorm, y_pred_unnorm, multioutput='raw_values')"
   ]
  },
  {
   "attachments": {},
   "cell_type": "markdown",
   "metadata": {},
   "source": [
    "# Visualize"
   ]
  },
  {
   "attachments": {},
   "cell_type": "markdown",
   "metadata": {},
   "source": [
    "## Load all data"
   ]
  },
  {
   "cell_type": "code",
   "execution_count": 3,
   "metadata": {},
   "outputs": [],
   "source": [
    "colors = get_nature_hex_colors()\n",
    "col_names = mol_property_calc.prop_names"
   ]
  },
  {
   "cell_type": "code",
   "execution_count": 15,
   "metadata": {},
   "outputs": [
    {
     "name": "stdout",
     "output_type": "stream",
     "text": [
      "Index(['ID', 'PARSED PEAKS', 'SMILES', 'PRECURSOR M/Z', 'FORMULA', 'CHARGE',\n",
      "       'ROMol', 'COLLISION ENERGY', 'PRECURSOR TYPE', 'MSnSpectrum', 'fold',\n",
      "       'AtomicLogP', 'NumHAcceptors', 'NumHDonors', 'PolarSurfaceArea',\n",
      "       'NumRotatableBonds', 'NumAromaticRings', 'NumAliphaticRings',\n",
      "       'FractionCSP3', 'QED', 'SyntheticAccessibility', 'BertzComplexity'],\n",
      "      dtype='object')\n"
     ]
    }
   ],
   "source": [
    "# df_dreams = read_pickle('/scratch/project/open-26-5/dreams/dreams/data/merged/datasets/NIST20_MoNA_A_Murcko_split_MCE_test_dreams_preds_val.pkl')\n",
    "df_dreams = read_pickle('/scratch/project/open-26-5/dreams/dreams/data/merged/datasets/NIST20_MoNA_A_Murcko_split_MCE_test_dreams_preds_step4000_val.pkl')\n",
    "df_ms2prop = read_pickle('/scratch/project/open-26-5/dreams/dreams/data/merged/datasets/NIST20_MoNA_A_Murcko_split_MCE_test_ms2prop_preds_val.pkl')\n",
    "print(df_dreams.columns)\n",
    "df_pred = pd.read_pickle('tmp_preds.pkl')"
   ]
  },
  {
   "cell_type": "code",
   "execution_count": 32,
   "metadata": {},
   "outputs": [
    {
     "data": {
      "text/html": [
       "<div>\n",
       "<style scoped>\n",
       "    .dataframe tbody tr th:only-of-type {\n",
       "        vertical-align: middle;\n",
       "    }\n",
       "\n",
       "    .dataframe tbody tr th {\n",
       "        vertical-align: top;\n",
       "    }\n",
       "\n",
       "    .dataframe thead th {\n",
       "        text-align: right;\n",
       "    }\n",
       "</style>\n",
       "<table border=\"1\" class=\"dataframe\">\n",
       "  <thead>\n",
       "    <tr style=\"text-align: right;\">\n",
       "      <th></th>\n",
       "      <th>AtomicLogP</th>\n",
       "      <th>NumHAcceptors</th>\n",
       "      <th>NumHDonors</th>\n",
       "      <th>PolarSurfaceArea</th>\n",
       "      <th>NumRotatableBonds</th>\n",
       "      <th>NumAromaticRings</th>\n",
       "      <th>NumAliphaticRings</th>\n",
       "      <th>FractionCSP3</th>\n",
       "      <th>QED</th>\n",
       "      <th>SyntheticAccessibility</th>\n",
       "      <th>...</th>\n",
       "      <th>NumHDonors_true</th>\n",
       "      <th>PolarSurfaceArea_true</th>\n",
       "      <th>NumRotatableBonds_true</th>\n",
       "      <th>NumAromaticRings_true</th>\n",
       "      <th>NumAliphaticRings_true</th>\n",
       "      <th>FractionCSP3_true</th>\n",
       "      <th>QED_true</th>\n",
       "      <th>SyntheticAccessibility_true</th>\n",
       "      <th>BertzComplexity_true</th>\n",
       "      <th>Method</th>\n",
       "    </tr>\n",
       "  </thead>\n",
       "  <tbody>\n",
       "    <tr>\n",
       "      <th>0</th>\n",
       "      <td>6.731758</td>\n",
       "      <td>3.540229</td>\n",
       "      <td>1.652131</td>\n",
       "      <td>61.961338</td>\n",
       "      <td>14.943428</td>\n",
       "      <td>0.446101</td>\n",
       "      <td>0.364501</td>\n",
       "      <td>0.686691</td>\n",
       "      <td>0.271515</td>\n",
       "      <td>3.151714</td>\n",
       "      <td>...</td>\n",
       "      <td>2.0</td>\n",
       "      <td>49.69</td>\n",
       "      <td>7.0</td>\n",
       "      <td>1.0</td>\n",
       "      <td>2.0</td>\n",
       "      <td>0.680000</td>\n",
       "      <td>0.431642</td>\n",
       "      <td>3.774487</td>\n",
       "      <td>729.553658</td>\n",
       "      <td>DreaMS</td>\n",
       "    </tr>\n",
       "    <tr>\n",
       "      <th>1</th>\n",
       "      <td>3.477448</td>\n",
       "      <td>11.550164</td>\n",
       "      <td>2.878635</td>\n",
       "      <td>177.829178</td>\n",
       "      <td>9.544861</td>\n",
       "      <td>1.850924</td>\n",
       "      <td>2.670073</td>\n",
       "      <td>0.463941</td>\n",
       "      <td>0.186014</td>\n",
       "      <td>5.493705</td>\n",
       "      <td>...</td>\n",
       "      <td>2.0</td>\n",
       "      <td>237.45</td>\n",
       "      <td>5.0</td>\n",
       "      <td>1.0</td>\n",
       "      <td>4.0</td>\n",
       "      <td>0.647059</td>\n",
       "      <td>0.303044</td>\n",
       "      <td>7.511818</td>\n",
       "      <td>1674.384898</td>\n",
       "      <td>DreaMS</td>\n",
       "    </tr>\n",
       "    <tr>\n",
       "      <th>2</th>\n",
       "      <td>2.807122</td>\n",
       "      <td>2.413619</td>\n",
       "      <td>1.182161</td>\n",
       "      <td>45.909302</td>\n",
       "      <td>2.588801</td>\n",
       "      <td>1.356848</td>\n",
       "      <td>0.106988</td>\n",
       "      <td>0.168039</td>\n",
       "      <td>0.684260</td>\n",
       "      <td>1.918467</td>\n",
       "      <td>...</td>\n",
       "      <td>0.0</td>\n",
       "      <td>20.31</td>\n",
       "      <td>3.0</td>\n",
       "      <td>2.0</td>\n",
       "      <td>1.0</td>\n",
       "      <td>0.350000</td>\n",
       "      <td>0.834397</td>\n",
       "      <td>1.620167</td>\n",
       "      <td>609.915321</td>\n",
       "      <td>DreaMS</td>\n",
       "    </tr>\n",
       "    <tr>\n",
       "      <th>3</th>\n",
       "      <td>3.183191</td>\n",
       "      <td>2.058980</td>\n",
       "      <td>0.922642</td>\n",
       "      <td>31.854052</td>\n",
       "      <td>1.382321</td>\n",
       "      <td>1.631702</td>\n",
       "      <td>-0.056082</td>\n",
       "      <td>0.181465</td>\n",
       "      <td>0.768693</td>\n",
       "      <td>1.990211</td>\n",
       "      <td>...</td>\n",
       "      <td>2.0</td>\n",
       "      <td>40.71</td>\n",
       "      <td>2.0</td>\n",
       "      <td>2.0</td>\n",
       "      <td>1.0</td>\n",
       "      <td>0.357143</td>\n",
       "      <td>0.874362</td>\n",
       "      <td>2.411749</td>\n",
       "      <td>573.820096</td>\n",
       "      <td>DreaMS</td>\n",
       "    </tr>\n",
       "    <tr>\n",
       "      <th>4</th>\n",
       "      <td>3.196583</td>\n",
       "      <td>6.118458</td>\n",
       "      <td>1.842827</td>\n",
       "      <td>88.350418</td>\n",
       "      <td>6.594951</td>\n",
       "      <td>0.229317</td>\n",
       "      <td>1.563666</td>\n",
       "      <td>0.533726</td>\n",
       "      <td>0.389070</td>\n",
       "      <td>4.910796</td>\n",
       "      <td>...</td>\n",
       "      <td>1.0</td>\n",
       "      <td>72.83</td>\n",
       "      <td>1.0</td>\n",
       "      <td>0.0</td>\n",
       "      <td>3.0</td>\n",
       "      <td>0.647059</td>\n",
       "      <td>0.453802</td>\n",
       "      <td>4.667914</td>\n",
       "      <td>573.598372</td>\n",
       "      <td>DreaMS</td>\n",
       "    </tr>\n",
       "    <tr>\n",
       "      <th>...</th>\n",
       "      <td>...</td>\n",
       "      <td>...</td>\n",
       "      <td>...</td>\n",
       "      <td>...</td>\n",
       "      <td>...</td>\n",
       "      <td>...</td>\n",
       "      <td>...</td>\n",
       "      <td>...</td>\n",
       "      <td>...</td>\n",
       "      <td>...</td>\n",
       "      <td>...</td>\n",
       "      <td>...</td>\n",
       "      <td>...</td>\n",
       "      <td>...</td>\n",
       "      <td>...</td>\n",
       "      <td>...</td>\n",
       "      <td>...</td>\n",
       "      <td>...</td>\n",
       "      <td>...</td>\n",
       "      <td>...</td>\n",
       "      <td>...</td>\n",
       "    </tr>\n",
       "    <tr>\n",
       "      <th>43035</th>\n",
       "      <td>1.725327</td>\n",
       "      <td>4.470552</td>\n",
       "      <td>2.427294</td>\n",
       "      <td>88.082176</td>\n",
       "      <td>5.865006</td>\n",
       "      <td>0.751437</td>\n",
       "      <td>1.055321</td>\n",
       "      <td>0.498514</td>\n",
       "      <td>0.507607</td>\n",
       "      <td>3.504961</td>\n",
       "      <td>...</td>\n",
       "      <td>7.0</td>\n",
       "      <td>203.44</td>\n",
       "      <td>7.0</td>\n",
       "      <td>1.0</td>\n",
       "      <td>2.0</td>\n",
       "      <td>0.565217</td>\n",
       "      <td>0.248723</td>\n",
       "      <td>4.427873</td>\n",
       "      <td>958.199215</td>\n",
       "      <td>XGBoost</td>\n",
       "    </tr>\n",
       "    <tr>\n",
       "      <th>43036</th>\n",
       "      <td>2.077209</td>\n",
       "      <td>4.006895</td>\n",
       "      <td>1.024933</td>\n",
       "      <td>57.194668</td>\n",
       "      <td>2.877165</td>\n",
       "      <td>1.846790</td>\n",
       "      <td>0.608632</td>\n",
       "      <td>0.323655</td>\n",
       "      <td>0.658220</td>\n",
       "      <td>2.389581</td>\n",
       "      <td>...</td>\n",
       "      <td>2.0</td>\n",
       "      <td>75.62</td>\n",
       "      <td>6.0</td>\n",
       "      <td>3.0</td>\n",
       "      <td>0.0</td>\n",
       "      <td>0.125000</td>\n",
       "      <td>0.726737</td>\n",
       "      <td>2.046551</td>\n",
       "      <td>622.346398</td>\n",
       "      <td>XGBoost</td>\n",
       "    </tr>\n",
       "    <tr>\n",
       "      <th>43037</th>\n",
       "      <td>1.808727</td>\n",
       "      <td>2.812427</td>\n",
       "      <td>1.066664</td>\n",
       "      <td>58.884235</td>\n",
       "      <td>2.798161</td>\n",
       "      <td>1.726760</td>\n",
       "      <td>0.332632</td>\n",
       "      <td>0.263034</td>\n",
       "      <td>0.646972</td>\n",
       "      <td>2.101552</td>\n",
       "      <td>...</td>\n",
       "      <td>1.0</td>\n",
       "      <td>68.92</td>\n",
       "      <td>3.0</td>\n",
       "      <td>3.0</td>\n",
       "      <td>0.0</td>\n",
       "      <td>0.117647</td>\n",
       "      <td>0.805655</td>\n",
       "      <td>2.015663</td>\n",
       "      <td>895.592845</td>\n",
       "      <td>XGBoost</td>\n",
       "    </tr>\n",
       "    <tr>\n",
       "      <th>43038</th>\n",
       "      <td>2.734224</td>\n",
       "      <td>4.192678</td>\n",
       "      <td>1.846863</td>\n",
       "      <td>74.511681</td>\n",
       "      <td>4.591607</td>\n",
       "      <td>1.821265</td>\n",
       "      <td>0.895094</td>\n",
       "      <td>0.393370</td>\n",
       "      <td>0.580425</td>\n",
       "      <td>3.158593</td>\n",
       "      <td>...</td>\n",
       "      <td>0.0</td>\n",
       "      <td>65.07</td>\n",
       "      <td>6.0</td>\n",
       "      <td>3.0</td>\n",
       "      <td>0.0</td>\n",
       "      <td>0.304348</td>\n",
       "      <td>0.359137</td>\n",
       "      <td>2.495059</td>\n",
       "      <td>1089.751215</td>\n",
       "      <td>XGBoost</td>\n",
       "    </tr>\n",
       "    <tr>\n",
       "      <th>43039</th>\n",
       "      <td>3.376396</td>\n",
       "      <td>3.054387</td>\n",
       "      <td>1.247790</td>\n",
       "      <td>43.692600</td>\n",
       "      <td>3.646722</td>\n",
       "      <td>2.199344</td>\n",
       "      <td>0.419239</td>\n",
       "      <td>0.186649</td>\n",
       "      <td>0.681910</td>\n",
       "      <td>2.308342</td>\n",
       "      <td>...</td>\n",
       "      <td>0.0</td>\n",
       "      <td>6.48</td>\n",
       "      <td>3.0</td>\n",
       "      <td>2.0</td>\n",
       "      <td>1.0</td>\n",
       "      <td>0.333333</td>\n",
       "      <td>0.842342</td>\n",
       "      <td>1.684147</td>\n",
       "      <td>476.129190</td>\n",
       "      <td>XGBoost</td>\n",
       "    </tr>\n",
       "  </tbody>\n",
       "</table>\n",
       "<p>129120 rows × 23 columns</p>\n",
       "</div>"
      ],
      "text/plain": [
       "       AtomicLogP  NumHAcceptors  NumHDonors  PolarSurfaceArea  \\\n",
       "0        6.731758       3.540229    1.652131         61.961338   \n",
       "1        3.477448      11.550164    2.878635        177.829178   \n",
       "2        2.807122       2.413619    1.182161         45.909302   \n",
       "3        3.183191       2.058980    0.922642         31.854052   \n",
       "4        3.196583       6.118458    1.842827         88.350418   \n",
       "...           ...            ...         ...               ...   \n",
       "43035    1.725327       4.470552    2.427294         88.082176   \n",
       "43036    2.077209       4.006895    1.024933         57.194668   \n",
       "43037    1.808727       2.812427    1.066664         58.884235   \n",
       "43038    2.734224       4.192678    1.846863         74.511681   \n",
       "43039    3.376396       3.054387    1.247790         43.692600   \n",
       "\n",
       "       NumRotatableBonds  NumAromaticRings  NumAliphaticRings  FractionCSP3  \\\n",
       "0              14.943428          0.446101           0.364501      0.686691   \n",
       "1               9.544861          1.850924           2.670073      0.463941   \n",
       "2               2.588801          1.356848           0.106988      0.168039   \n",
       "3               1.382321          1.631702          -0.056082      0.181465   \n",
       "4               6.594951          0.229317           1.563666      0.533726   \n",
       "...                  ...               ...                ...           ...   \n",
       "43035           5.865006          0.751437           1.055321      0.498514   \n",
       "43036           2.877165          1.846790           0.608632      0.323655   \n",
       "43037           2.798161          1.726760           0.332632      0.263034   \n",
       "43038           4.591607          1.821265           0.895094      0.393370   \n",
       "43039           3.646722          2.199344           0.419239      0.186649   \n",
       "\n",
       "            QED  SyntheticAccessibility  ...  NumHDonors_true  \\\n",
       "0      0.271515                3.151714  ...              2.0   \n",
       "1      0.186014                5.493705  ...              2.0   \n",
       "2      0.684260                1.918467  ...              0.0   \n",
       "3      0.768693                1.990211  ...              2.0   \n",
       "4      0.389070                4.910796  ...              1.0   \n",
       "...         ...                     ...  ...              ...   \n",
       "43035  0.507607                3.504961  ...              7.0   \n",
       "43036  0.658220                2.389581  ...              2.0   \n",
       "43037  0.646972                2.101552  ...              1.0   \n",
       "43038  0.580425                3.158593  ...              0.0   \n",
       "43039  0.681910                2.308342  ...              0.0   \n",
       "\n",
       "       PolarSurfaceArea_true  NumRotatableBonds_true  NumAromaticRings_true  \\\n",
       "0                      49.69                     7.0                    1.0   \n",
       "1                     237.45                     5.0                    1.0   \n",
       "2                      20.31                     3.0                    2.0   \n",
       "3                      40.71                     2.0                    2.0   \n",
       "4                      72.83                     1.0                    0.0   \n",
       "...                      ...                     ...                    ...   \n",
       "43035                 203.44                     7.0                    1.0   \n",
       "43036                  75.62                     6.0                    3.0   \n",
       "43037                  68.92                     3.0                    3.0   \n",
       "43038                  65.07                     6.0                    3.0   \n",
       "43039                   6.48                     3.0                    2.0   \n",
       "\n",
       "       NumAliphaticRings_true  FractionCSP3_true  QED_true  \\\n",
       "0                         2.0           0.680000  0.431642   \n",
       "1                         4.0           0.647059  0.303044   \n",
       "2                         1.0           0.350000  0.834397   \n",
       "3                         1.0           0.357143  0.874362   \n",
       "4                         3.0           0.647059  0.453802   \n",
       "...                       ...                ...       ...   \n",
       "43035                     2.0           0.565217  0.248723   \n",
       "43036                     0.0           0.125000  0.726737   \n",
       "43037                     0.0           0.117647  0.805655   \n",
       "43038                     0.0           0.304348  0.359137   \n",
       "43039                     1.0           0.333333  0.842342   \n",
       "\n",
       "       SyntheticAccessibility_true  BertzComplexity_true   Method  \n",
       "0                         3.774487            729.553658   DreaMS  \n",
       "1                         7.511818           1674.384898   DreaMS  \n",
       "2                         1.620167            609.915321   DreaMS  \n",
       "3                         2.411749            573.820096   DreaMS  \n",
       "4                         4.667914            573.598372   DreaMS  \n",
       "...                            ...                   ...      ...  \n",
       "43035                     4.427873            958.199215  XGBoost  \n",
       "43036                     2.046551            622.346398  XGBoost  \n",
       "43037                     2.015663            895.592845  XGBoost  \n",
       "43038                     2.495059           1089.751215  XGBoost  \n",
       "43039                     1.684147            476.129190  XGBoost  \n",
       "\n",
       "[129120 rows x 23 columns]"
      ]
     },
     "execution_count": 32,
     "metadata": {},
     "output_type": "execute_result"
    }
   ],
   "source": [
    "# res_kind = 'ms2prop'\n",
    "# res_kind = 'gebhard'\n",
    "res_kind = 'raw'\n",
    "\n",
    "# True\n",
    "df_true_unif = {\n",
    "    label: df_pred[df_pred['label'] == label].iloc[0]['y_test']\n",
    "    for i, label in enumerate(col_names)\n",
    "}\n",
    "df_true_unif = pd.DataFrame(df_true_unif)\n",
    "\n",
    "# XGBoost\n",
    "df_xgb_unif = {\n",
    "    label: df_pred[df_pred['label'] == label].iloc[0]['y_pred']\n",
    "    for i, label in enumerate(col_names)\n",
    "}\n",
    "df_xgb_unif = pd.DataFrame(df_xgb_unif)\n",
    "if res_kind == 'ms2prop':\n",
    "    df_xgb_unif = (df_xgb_unif - df_true_unif).abs()\n",
    "elif res_kind == 'gebhard':\n",
    "    df_xgb_unif = (df_true_unif - df_xgb_unif) / df_true_unif\n",
    "elif res_kind == 'raw':\n",
    "    df_xgb_unif = df_xgb_unif.join(df_true_unif, rsuffix='_true')\n",
    "df_xgb_unif['Method'] = 'XGBoost'\n",
    "\n",
    "# DreaMS\n",
    "df_dreams_unif = df_dreams[col_names].copy()\n",
    "if res_kind == 'ms2prop':\n",
    "    df_dreams_unif = (df_dreams_unif - df_true_unif).abs()\n",
    "elif res_kind == 'gebhard':\n",
    "    df_dreams_unif = (df_true_unif - df_dreams_unif) / df_true_unif\n",
    "elif res_kind == 'raw':\n",
    "    df_dreams_unif = df_dreams_unif.join(df_true_unif, rsuffix='_true')\n",
    "df_dreams_unif['Method'] = 'DreaMS'\n",
    "\n",
    "# ms2prop\n",
    "df_ms2prop_unif = df_ms2prop[col_names].copy()\n",
    "if res_kind == 'ms2prop':\n",
    "    df_ms2prop_unif = (df_ms2prop_unif - df_true_unif).abs()\n",
    "elif res_kind == 'gebhard':\n",
    "    df_ms2prop_unif = (df_true_unif - df_ms2prop_unif) / df_true_unif\n",
    "elif res_kind == 'raw':\n",
    "    df_ms2prop_unif = df_ms2prop_unif.join(df_true_unif, rsuffix='_true')\n",
    "df_ms2prop_unif['Method'] = 'ms2prop'\n",
    "\n",
    "# Concat all\n",
    "df_res = pd.concat([df_dreams_unif, df_ms2prop_unif, df_xgb_unif])\n",
    "df_res"
   ]
  },
  {
   "attachments": {},
   "cell_type": "markdown",
   "metadata": {},
   "source": [
    "## Gebhard 2022 benchmark"
   ]
  },
  {
   "cell_type": "code",
   "execution_count": 17,
   "metadata": {},
   "outputs": [
    {
     "data": {
      "image/png": "[encoded data removed]",
      "text/plain": [
       "<Figure size 250x250 with 1 Axes>"
      ]
     },
     "metadata": {},
     "output_type": "display_data"
    }
   ],
   "source": [
    "init_plotting(figsize=(2.5, 2.5))\n",
    "sns.kdeplot(df_res, x='BertzComplexity', hue='Method', bw_adjust=5)\n",
    "plt.axvline(0, color='black', ls='--')\n",
    "plt.yscale('log')"
   ]
  },
  {
   "cell_type": "code",
   "execution_count": 30,
   "metadata": {},
   "outputs": [
    {
     "data": {
      "text/plain": [
       "<Axes: xlabel='BertzComplexity', ylabel='Count'>"
      ]
     },
     "execution_count": 30,
     "metadata": {},
     "output_type": "execute_result"
    },
    {
     "data": {
      "image/png": "[encoded data removed]",
      "text/plain": [
       "<Figure size 250x250 with 1 Axes>"
      ]
     },
     "metadata": {},
     "output_type": "display_data"
    }
   ],
   "source": [
    "init_plotting(figsize=(2.5, 2.5))\n",
    "sns.histplot(df_res, x='BertzComplexity', hue='Method', element=\"step\", legend=False, bins=50)"
   ]
  },
  {
   "cell_type": "code",
   "execution_count": 19,
   "metadata": {},
   "outputs": [
    {
     "data": {
      "text/plain": [
       "<Axes: ylabel='BertzComplexity'>"
      ]
     },
     "execution_count": 19,
     "metadata": {},
     "output_type": "execute_result"
    },
    {
     "data": {
      "image/png": "[encoded data removed]",
      "text/plain": [
       "<Figure size 250x250 with 1 Axes>"
      ]
     },
     "metadata": {},
     "output_type": "display_data"
    }
   ],
   "source": [
    "init_plotting(figsize=(2.5, 2.5))\n",
    "sns.boxplot(df_res, y='BertzComplexity', hue='Method')"
   ]
  },
  {
   "cell_type": "code",
   "execution_count": 35,
   "metadata": {},
   "outputs": [
    {
     "data": {
      "text/plain": [
       "<Axes: >"
      ]
     },
     "execution_count": 35,
     "metadata": {},
     "output_type": "execute_result"
    },
    {
     "data": {
      "image/png": "[encoded data removed]",
      "text/plain": [
       "<Figure size 250x250 with 1 Axes>"
      ]
     },
     "metadata": {},
     "output_type": "display_data"
    }
   ],
   "source": [
    "df_res['BertzComplexity_true'].hist(bins=20)"
   ]
  },
  {
   "cell_type": "code",
   "execution_count": 36,
   "metadata": {},
   "outputs": [
    {
     "data": {
      "text/html": [
       "<div>\n",
       "<style scoped>\n",
       "    .dataframe tbody tr th:only-of-type {\n",
       "        vertical-align: middle;\n",
       "    }\n",
       "\n",
       "    .dataframe tbody tr th {\n",
       "        vertical-align: top;\n",
       "    }\n",
       "\n",
       "    .dataframe thead th {\n",
       "        text-align: right;\n",
       "    }\n",
       "</style>\n",
       "<table border=\"1\" class=\"dataframe\">\n",
       "  <thead>\n",
       "    <tr style=\"text-align: right;\">\n",
       "      <th></th>\n",
       "      <th>AtomicLogP</th>\n",
       "      <th>NumHAcceptors</th>\n",
       "      <th>NumHDonors</th>\n",
       "      <th>PolarSurfaceArea</th>\n",
       "      <th>NumRotatableBonds</th>\n",
       "      <th>NumAromaticRings</th>\n",
       "      <th>NumAliphaticRings</th>\n",
       "      <th>FractionCSP3</th>\n",
       "      <th>QED</th>\n",
       "      <th>SyntheticAccessibility</th>\n",
       "      <th>...</th>\n",
       "      <th>NumHDonors_true</th>\n",
       "      <th>PolarSurfaceArea_true</th>\n",
       "      <th>NumRotatableBonds_true</th>\n",
       "      <th>NumAromaticRings_true</th>\n",
       "      <th>NumAliphaticRings_true</th>\n",
       "      <th>FractionCSP3_true</th>\n",
       "      <th>QED_true</th>\n",
       "      <th>SyntheticAccessibility_true</th>\n",
       "      <th>BertzComplexity_true</th>\n",
       "      <th>Method</th>\n",
       "    </tr>\n",
       "  </thead>\n",
       "  <tbody>\n",
       "    <tr>\n",
       "      <th>0</th>\n",
       "      <td>6.731758</td>\n",
       "      <td>3.540229</td>\n",
       "      <td>1.652131</td>\n",
       "      <td>61.961338</td>\n",
       "      <td>14.943428</td>\n",
       "      <td>0.446101</td>\n",
       "      <td>0.364501</td>\n",
       "      <td>0.686691</td>\n",
       "      <td>0.271515</td>\n",
       "      <td>3.151714</td>\n",
       "      <td>...</td>\n",
       "      <td>2.0</td>\n",
       "      <td>49.69</td>\n",
       "      <td>7.0</td>\n",
       "      <td>1.0</td>\n",
       "      <td>2.0</td>\n",
       "      <td>0.680000</td>\n",
       "      <td>0.431642</td>\n",
       "      <td>3.774487</td>\n",
       "      <td>729.553658</td>\n",
       "      <td>DreaMS</td>\n",
       "    </tr>\n",
       "    <tr>\n",
       "      <th>1</th>\n",
       "      <td>3.477448</td>\n",
       "      <td>11.550164</td>\n",
       "      <td>2.878635</td>\n",
       "      <td>177.829178</td>\n",
       "      <td>9.544861</td>\n",
       "      <td>1.850924</td>\n",
       "      <td>2.670073</td>\n",
       "      <td>0.463941</td>\n",
       "      <td>0.186014</td>\n",
       "      <td>5.493705</td>\n",
       "      <td>...</td>\n",
       "      <td>2.0</td>\n",
       "      <td>237.45</td>\n",
       "      <td>5.0</td>\n",
       "      <td>1.0</td>\n",
       "      <td>4.0</td>\n",
       "      <td>0.647059</td>\n",
       "      <td>0.303044</td>\n",
       "      <td>7.511818</td>\n",
       "      <td>1674.384898</td>\n",
       "      <td>DreaMS</td>\n",
       "    </tr>\n",
       "    <tr>\n",
       "      <th>2</th>\n",
       "      <td>2.807122</td>\n",
       "      <td>2.413619</td>\n",
       "      <td>1.182161</td>\n",
       "      <td>45.909302</td>\n",
       "      <td>2.588801</td>\n",
       "      <td>1.356848</td>\n",
       "      <td>0.106988</td>\n",
       "      <td>0.168039</td>\n",
       "      <td>0.684260</td>\n",
       "      <td>1.918467</td>\n",
       "      <td>...</td>\n",
       "      <td>0.0</td>\n",
       "      <td>20.31</td>\n",
       "      <td>3.0</td>\n",
       "      <td>2.0</td>\n",
       "      <td>1.0</td>\n",
       "      <td>0.350000</td>\n",
       "      <td>0.834397</td>\n",
       "      <td>1.620167</td>\n",
       "      <td>609.915321</td>\n",
       "      <td>DreaMS</td>\n",
       "    </tr>\n",
       "    <tr>\n",
       "      <th>3</th>\n",
       "      <td>3.183191</td>\n",
       "      <td>2.058980</td>\n",
       "      <td>0.922642</td>\n",
       "      <td>31.854052</td>\n",
       "      <td>1.382321</td>\n",
       "      <td>1.631702</td>\n",
       "      <td>-0.056082</td>\n",
       "      <td>0.181465</td>\n",
       "      <td>0.768693</td>\n",
       "      <td>1.990211</td>\n",
       "      <td>...</td>\n",
       "      <td>2.0</td>\n",
       "      <td>40.71</td>\n",
       "      <td>2.0</td>\n",
       "      <td>2.0</td>\n",
       "      <td>1.0</td>\n",
       "      <td>0.357143</td>\n",
       "      <td>0.874362</td>\n",
       "      <td>2.411749</td>\n",
       "      <td>573.820096</td>\n",
       "      <td>DreaMS</td>\n",
       "    </tr>\n",
       "    <tr>\n",
       "      <th>4</th>\n",
       "      <td>3.196583</td>\n",
       "      <td>6.118458</td>\n",
       "      <td>1.842827</td>\n",
       "      <td>88.350418</td>\n",
       "      <td>6.594951</td>\n",
       "      <td>0.229317</td>\n",
       "      <td>1.563666</td>\n",
       "      <td>0.533726</td>\n",
       "      <td>0.389070</td>\n",
       "      <td>4.910796</td>\n",
       "      <td>...</td>\n",
       "      <td>1.0</td>\n",
       "      <td>72.83</td>\n",
       "      <td>1.0</td>\n",
       "      <td>0.0</td>\n",
       "      <td>3.0</td>\n",
       "      <td>0.647059</td>\n",
       "      <td>0.453802</td>\n",
       "      <td>4.667914</td>\n",
       "      <td>573.598372</td>\n",
       "      <td>DreaMS</td>\n",
       "    </tr>\n",
       "    <tr>\n",
       "      <th>...</th>\n",
       "      <td>...</td>\n",
       "      <td>...</td>\n",
       "      <td>...</td>\n",
       "      <td>...</td>\n",
       "      <td>...</td>\n",
       "      <td>...</td>\n",
       "      <td>...</td>\n",
       "      <td>...</td>\n",
       "      <td>...</td>\n",
       "      <td>...</td>\n",
       "      <td>...</td>\n",
       "      <td>...</td>\n",
       "      <td>...</td>\n",
       "      <td>...</td>\n",
       "      <td>...</td>\n",
       "      <td>...</td>\n",
       "      <td>...</td>\n",
       "      <td>...</td>\n",
       "      <td>...</td>\n",
       "      <td>...</td>\n",
       "      <td>...</td>\n",
       "    </tr>\n",
       "    <tr>\n",
       "      <th>43035</th>\n",
       "      <td>1.725327</td>\n",
       "      <td>4.470552</td>\n",
       "      <td>2.427294</td>\n",
       "      <td>88.082176</td>\n",
       "      <td>5.865006</td>\n",
       "      <td>0.751437</td>\n",
       "      <td>1.055321</td>\n",
       "      <td>0.498514</td>\n",
       "      <td>0.507607</td>\n",
       "      <td>3.504961</td>\n",
       "      <td>...</td>\n",
       "      <td>7.0</td>\n",
       "      <td>203.44</td>\n",
       "      <td>7.0</td>\n",
       "      <td>1.0</td>\n",
       "      <td>2.0</td>\n",
       "      <td>0.565217</td>\n",
       "      <td>0.248723</td>\n",
       "      <td>4.427873</td>\n",
       "      <td>958.199215</td>\n",
       "      <td>XGBoost</td>\n",
       "    </tr>\n",
       "    <tr>\n",
       "      <th>43036</th>\n",
       "      <td>2.077209</td>\n",
       "      <td>4.006895</td>\n",
       "      <td>1.024933</td>\n",
       "      <td>57.194668</td>\n",
       "      <td>2.877165</td>\n",
       "      <td>1.846790</td>\n",
       "      <td>0.608632</td>\n",
       "      <td>0.323655</td>\n",
       "      <td>0.658220</td>\n",
       "      <td>2.389581</td>\n",
       "      <td>...</td>\n",
       "      <td>2.0</td>\n",
       "      <td>75.62</td>\n",
       "      <td>6.0</td>\n",
       "      <td>3.0</td>\n",
       "      <td>0.0</td>\n",
       "      <td>0.125000</td>\n",
       "      <td>0.726737</td>\n",
       "      <td>2.046551</td>\n",
       "      <td>622.346398</td>\n",
       "      <td>XGBoost</td>\n",
       "    </tr>\n",
       "    <tr>\n",
       "      <th>43037</th>\n",
       "      <td>1.808727</td>\n",
       "      <td>2.812427</td>\n",
       "      <td>1.066664</td>\n",
       "      <td>58.884235</td>\n",
       "      <td>2.798161</td>\n",
       "      <td>1.726760</td>\n",
       "      <td>0.332632</td>\n",
       "      <td>0.263034</td>\n",
       "      <td>0.646972</td>\n",
       "      <td>2.101552</td>\n",
       "      <td>...</td>\n",
       "      <td>1.0</td>\n",
       "      <td>68.92</td>\n",
       "      <td>3.0</td>\n",
       "      <td>3.0</td>\n",
       "      <td>0.0</td>\n",
       "      <td>0.117647</td>\n",
       "      <td>0.805655</td>\n",
       "      <td>2.015663</td>\n",
       "      <td>895.592845</td>\n",
       "      <td>XGBoost</td>\n",
       "    </tr>\n",
       "    <tr>\n",
       "      <th>43038</th>\n",
       "      <td>2.734224</td>\n",
       "      <td>4.192678</td>\n",
       "      <td>1.846863</td>\n",
       "      <td>74.511681</td>\n",
       "      <td>4.591607</td>\n",
       "      <td>1.821265</td>\n",
       "      <td>0.895094</td>\n",
       "      <td>0.393370</td>\n",
       "      <td>0.580425</td>\n",
       "      <td>3.158593</td>\n",
       "      <td>...</td>\n",
       "      <td>0.0</td>\n",
       "      <td>65.07</td>\n",
       "      <td>6.0</td>\n",
       "      <td>3.0</td>\n",
       "      <td>0.0</td>\n",
       "      <td>0.304348</td>\n",
       "      <td>0.359137</td>\n",
       "      <td>2.495059</td>\n",
       "      <td>1089.751215</td>\n",
       "      <td>XGBoost</td>\n",
       "    </tr>\n",
       "    <tr>\n",
       "      <th>43039</th>\n",
       "      <td>3.376396</td>\n",
       "      <td>3.054387</td>\n",
       "      <td>1.247790</td>\n",
       "      <td>43.692600</td>\n",
       "      <td>3.646722</td>\n",
       "      <td>2.199344</td>\n",
       "      <td>0.419239</td>\n",
       "      <td>0.186649</td>\n",
       "      <td>0.681910</td>\n",
       "      <td>2.308342</td>\n",
       "      <td>...</td>\n",
       "      <td>0.0</td>\n",
       "      <td>6.48</td>\n",
       "      <td>3.0</td>\n",
       "      <td>2.0</td>\n",
       "      <td>1.0</td>\n",
       "      <td>0.333333</td>\n",
       "      <td>0.842342</td>\n",
       "      <td>1.684147</td>\n",
       "      <td>476.129190</td>\n",
       "      <td>XGBoost</td>\n",
       "    </tr>\n",
       "  </tbody>\n",
       "</table>\n",
       "<p>129120 rows × 23 columns</p>\n",
       "</div>"
      ],
      "text/plain": [
       "       AtomicLogP  NumHAcceptors  NumHDonors  PolarSurfaceArea  \\\n",
       "0        6.731758       3.540229    1.652131         61.961338   \n",
       "1        3.477448      11.550164    2.878635        177.829178   \n",
       "2        2.807122       2.413619    1.182161         45.909302   \n",
       "3        3.183191       2.058980    0.922642         31.854052   \n",
       "4        3.196583       6.118458    1.842827         88.350418   \n",
       "...           ...            ...         ...               ...   \n",
       "43035    1.725327       4.470552    2.427294         88.082176   \n",
       "43036    2.077209       4.006895    1.024933         57.194668   \n",
       "43037    1.808727       2.812427    1.066664         58.884235   \n",
       "43038    2.734224       4.192678    1.846863         74.511681   \n",
       "43039    3.376396       3.054387    1.247790         43.692600   \n",
       "\n",
       "       NumRotatableBonds  NumAromaticRings  NumAliphaticRings  FractionCSP3  \\\n",
       "0              14.943428          0.446101           0.364501      0.686691   \n",
       "1               9.544861          1.850924           2.670073      0.463941   \n",
       "2               2.588801          1.356848           0.106988      0.168039   \n",
       "3               1.382321          1.631702          -0.056082      0.181465   \n",
       "4               6.594951          0.229317           1.563666      0.533726   \n",
       "...                  ...               ...                ...           ...   \n",
       "43035           5.865006          0.751437           1.055321      0.498514   \n",
       "43036           2.877165          1.846790           0.608632      0.323655   \n",
       "43037           2.798161          1.726760           0.332632      0.263034   \n",
       "43038           4.591607          1.821265           0.895094      0.393370   \n",
       "43039           3.646722          2.199344           0.419239      0.186649   \n",
       "\n",
       "            QED  SyntheticAccessibility  ...  NumHDonors_true  \\\n",
       "0      0.271515                3.151714  ...              2.0   \n",
       "1      0.186014                5.493705  ...              2.0   \n",
       "2      0.684260                1.918467  ...              0.0   \n",
       "3      0.768693                1.990211  ...              2.0   \n",
       "4      0.389070                4.910796  ...              1.0   \n",
       "...         ...                     ...  ...              ...   \n",
       "43035  0.507607                3.504961  ...              7.0   \n",
       "43036  0.658220                2.389581  ...              2.0   \n",
       "43037  0.646972                2.101552  ...              1.0   \n",
       "43038  0.580425                3.158593  ...              0.0   \n",
       "43039  0.681910                2.308342  ...              0.0   \n",
       "\n",
       "       PolarSurfaceArea_true  NumRotatableBonds_true  NumAromaticRings_true  \\\n",
       "0                      49.69                     7.0                    1.0   \n",
       "1                     237.45                     5.0                    1.0   \n",
       "2                      20.31                     3.0                    2.0   \n",
       "3                      40.71                     2.0                    2.0   \n",
       "4                      72.83                     1.0                    0.0   \n",
       "...                      ...                     ...                    ...   \n",
       "43035                 203.44                     7.0                    1.0   \n",
       "43036                  75.62                     6.0                    3.0   \n",
       "43037                  68.92                     3.0                    3.0   \n",
       "43038                  65.07                     6.0                    3.0   \n",
       "43039                   6.48                     3.0                    2.0   \n",
       "\n",
       "       NumAliphaticRings_true  FractionCSP3_true  QED_true  \\\n",
       "0                         2.0           0.680000  0.431642   \n",
       "1                         4.0           0.647059  0.303044   \n",
       "2                         1.0           0.350000  0.834397   \n",
       "3                         1.0           0.357143  0.874362   \n",
       "4                         3.0           0.647059  0.453802   \n",
       "...                       ...                ...       ...   \n",
       "43035                     2.0           0.565217  0.248723   \n",
       "43036                     0.0           0.125000  0.726737   \n",
       "43037                     0.0           0.117647  0.805655   \n",
       "43038                     0.0           0.304348  0.359137   \n",
       "43039                     1.0           0.333333  0.842342   \n",
       "\n",
       "       SyntheticAccessibility_true  BertzComplexity_true   Method  \n",
       "0                         3.774487            729.553658   DreaMS  \n",
       "1                         7.511818           1674.384898   DreaMS  \n",
       "2                         1.620167            609.915321   DreaMS  \n",
       "3                         2.411749            573.820096   DreaMS  \n",
       "4                         4.667914            573.598372   DreaMS  \n",
       "...                            ...                   ...      ...  \n",
       "43035                     4.427873            958.199215  XGBoost  \n",
       "43036                     2.046551            622.346398  XGBoost  \n",
       "43037                     2.015663            895.592845  XGBoost  \n",
       "43038                     2.495059           1089.751215  XGBoost  \n",
       "43039                     1.684147            476.129190  XGBoost  \n",
       "\n",
       "[129120 rows x 23 columns]"
      ]
     },
     "execution_count": 36,
     "metadata": {},
     "output_type": "execute_result"
    }
   ],
   "source": [
    "df_res"
   ]
  },
  {
   "cell_type": "code",
   "execution_count": 124,
   "metadata": {},
   "outputs": [
    {
     "name": "stderr",
     "output_type": "stream",
     "text": [
      "DreaMS, 0: 100%|██████████| 10/10 [00:00<00:00, 72.06it/s]\n",
      "DreaMS, 250: 100%|██████████| 10/10 [00:00<00:00, 72.83it/s]\n",
      "DreaMS, 500: 100%|██████████| 10/10 [00:00<00:00, 78.24it/s]\n",
      "DreaMS, 750: 100%|██████████| 10/10 [00:00<00:00, 104.55it/s]\n",
      "DreaMS, 1000: 100%|██████████| 10/10 [00:00<00:00, 126.13it/s]\n",
      "DreaMS, 1250: 100%|██████████| 10/10 [00:00<00:00, 143.42it/s]\n",
      "ms2prop, 0: 100%|██████████| 10/10 [00:00<00:00, 70.84it/s]\n",
      "ms2prop, 250: 100%|██████████| 10/10 [00:00<00:00, 70.24it/s]\n",
      "ms2prop, 500: 100%|██████████| 10/10 [00:00<00:00, 76.79it/s]\n",
      "ms2prop, 750: 100%|██████████| 10/10 [00:00<00:00, 100.33it/s]\n",
      "ms2prop, 1000: 100%|██████████| 10/10 [00:00<00:00, 120.93it/s]\n",
      "ms2prop, 1250: 100%|██████████| 10/10 [00:00<00:00, 136.73it/s]\n",
      "XGBoost, 0: 100%|██████████| 10/10 [00:00<00:00, 70.27it/s]\n",
      "XGBoost, 250: 100%|██████████| 10/10 [00:00<00:00, 69.69it/s]\n",
      "XGBoost, 500: 100%|██████████| 10/10 [00:00<00:00, 73.23it/s]\n",
      "XGBoost, 750: 100%|██████████| 10/10 [00:00<00:00, 94.71it/s]\n",
      "XGBoost, 1000: 100%|██████████| 10/10 [00:00<00:00, 114.68it/s]\n",
      "XGBoost, 1250: 100%|██████████| 10/10 [00:00<00:00, 125.18it/s]\n"
     ]
    },
    {
     "data": {
      "text/html": [
       "<div>\n",
       "<style scoped>\n",
       "    .dataframe tbody tr th:only-of-type {\n",
       "        vertical-align: middle;\n",
       "    }\n",
       "\n",
       "    .dataframe tbody tr th {\n",
       "        vertical-align: top;\n",
       "    }\n",
       "\n",
       "    .dataframe thead th {\n",
       "        text-align: right;\n",
       "    }\n",
       "</style>\n",
       "<table border=\"1\" class=\"dataframe\">\n",
       "  <thead>\n",
       "    <tr style=\"text-align: right;\">\n",
       "      <th></th>\n",
       "      <th>Method</th>\n",
       "      <th>Threshold</th>\n",
       "      <th>MAE</th>\n",
       "    </tr>\n",
       "  </thead>\n",
       "  <tbody>\n",
       "    <tr>\n",
       "      <th>0</th>\n",
       "      <td>DreaMS</td>\n",
       "      <td>0</td>\n",
       "      <td>0.179993</td>\n",
       "    </tr>\n",
       "    <tr>\n",
       "      <th>1</th>\n",
       "      <td>DreaMS</td>\n",
       "      <td>0</td>\n",
       "      <td>0.180512</td>\n",
       "    </tr>\n",
       "    <tr>\n",
       "      <th>2</th>\n",
       "      <td>DreaMS</td>\n",
       "      <td>0</td>\n",
       "      <td>0.181811</td>\n",
       "    </tr>\n",
       "    <tr>\n",
       "      <th>3</th>\n",
       "      <td>DreaMS</td>\n",
       "      <td>0</td>\n",
       "      <td>0.179865</td>\n",
       "    </tr>\n",
       "    <tr>\n",
       "      <th>4</th>\n",
       "      <td>DreaMS</td>\n",
       "      <td>0</td>\n",
       "      <td>0.181803</td>\n",
       "    </tr>\n",
       "    <tr>\n",
       "      <th>...</th>\n",
       "      <td>...</td>\n",
       "      <td>...</td>\n",
       "      <td>...</td>\n",
       "    </tr>\n",
       "    <tr>\n",
       "      <th>175</th>\n",
       "      <td>XGBoost</td>\n",
       "      <td>1250</td>\n",
       "      <td>0.389640</td>\n",
       "    </tr>\n",
       "    <tr>\n",
       "      <th>176</th>\n",
       "      <td>XGBoost</td>\n",
       "      <td>1250</td>\n",
       "      <td>0.370828</td>\n",
       "    </tr>\n",
       "    <tr>\n",
       "      <th>177</th>\n",
       "      <td>XGBoost</td>\n",
       "      <td>1250</td>\n",
       "      <td>0.378193</td>\n",
       "    </tr>\n",
       "    <tr>\n",
       "      <th>178</th>\n",
       "      <td>XGBoost</td>\n",
       "      <td>1250</td>\n",
       "      <td>0.392256</td>\n",
       "    </tr>\n",
       "    <tr>\n",
       "      <th>179</th>\n",
       "      <td>XGBoost</td>\n",
       "      <td>1250</td>\n",
       "      <td>0.387352</td>\n",
       "    </tr>\n",
       "  </tbody>\n",
       "</table>\n",
       "<p>180 rows × 3 columns</p>\n",
       "</div>"
      ],
      "text/plain": [
       "      Method  Threshold       MAE\n",
       "0     DreaMS          0  0.179993\n",
       "1     DreaMS          0  0.180512\n",
       "2     DreaMS          0  0.181811\n",
       "3     DreaMS          0  0.179865\n",
       "4     DreaMS          0  0.181803\n",
       "..       ...        ...       ...\n",
       "175  XGBoost       1250  0.389640\n",
       "176  XGBoost       1250  0.370828\n",
       "177  XGBoost       1250  0.378193\n",
       "178  XGBoost       1250  0.392256\n",
       "179  XGBoost       1250  0.387352\n",
       "\n",
       "[180 rows x 3 columns]"
      ]
     },
     "execution_count": 124,
     "metadata": {},
     "output_type": "execute_result"
    }
   ],
   "source": [
    "# thrs = [500, 750, 1000, 1250, 1500]\n",
    "thrs = range(0, 1500, 250)\n",
    "n_bootstrap = 10\n",
    "\n",
    "df_thr = []\n",
    "for method in df_res['Method'].unique():\n",
    "    for thr in thrs:\n",
    "        for i in tqdm(range(n_bootstrap), desc=f'{method}, {thr}'):\n",
    "            df_tmp = df_res[(df_res['Method'] == method) & (df_res['BertzComplexity_true'] > thr)]\n",
    "            df_tmp = df_tmp.sample(frac=1.0, replace=True)\n",
    "            mae = ((df_tmp['BertzComplexity_true'] - df_tmp['BertzComplexity']) / df_tmp['BertzComplexity_true']).abs().mean()\n",
    "            # mae = ((df_tmp['BertzComplexity_true'] - df_tmp['BertzComplexity'])).abs().mean()\n",
    "            df_thr.append([method, thr, mae])\n",
    "df_thr = pd.DataFrame(df_thr)\n",
    "df_thr.columns = ['Method', 'Threshold', 'MAE']\n",
    "df_thr"
   ]
  },
  {
   "cell_type": "code",
   "execution_count": 125,
   "metadata": {},
   "outputs": [
    {
     "data": {
      "text/plain": [
       "<Axes: xlabel='BertzComplexity_true', ylabel='Probability'>"
      ]
     },
     "execution_count": 125,
     "metadata": {},
     "output_type": "execute_result"
    },
    {
     "data": {
      "image/png": "[encoded data removed]",
      "text/plain": [
       "<Figure size 250x250 with 1 Axes>"
      ]
     },
     "metadata": {},
     "output_type": "display_data"
    }
   ],
   "source": [
    "sns.histplot(data=df_res, x='BertzComplexity_true', stat='probability')"
   ]
  },
  {
   "cell_type": "code",
   "execution_count": 137,
   "metadata": {},
   "outputs": [
    {
     "data": {
      "image/png": "[encoded data removed]",
      "text/plain": [
       "<Figure size 250x250 with 1 Axes>"
      ]
     },
     "metadata": {},
     "output_type": "display_data"
    }
   ],
   "source": [
    "fig, ax = plt.subplots()\n",
    "sns.lineplot(data=df_thr, x='Threshold', y='MAE', hue='Method', err_style=\"bars\", errorbar=('ci', 99), ax=ax, palette=[colors[0], colors[1], colors[2]],)\n",
    "plt.xticks(thrs)\n",
    "plt.xlabel('Minimum Bertz complexity of interest')\n",
    "plt.ylabel('Mean relative prediction error')\n",
    "save_fig(f'bertz_complexity_thrs.svg')\n",
    "plt.show()"
   ]
  },
  {
   "attachments": {},
   "cell_type": "markdown",
   "metadata": {},
   "source": [
    "## ms2prop benchmark\n",
    "\n",
    "Rerun res with `absolute=True` first"
   ]
  },
  {
   "cell_type": "code",
   "execution_count": 139,
   "metadata": {},
   "outputs": [
    {
     "data": {
      "image/png": "[encoded data removed]",
      "text/plain": [
       "<Figure size 65x100 with 1 Axes>"
      ]
     },
     "metadata": {},
     "output_type": "display_data"
    },
    {
     "data": {
      "image/png": "[encoded data removed]",
      "text/plain": [
       "<Figure size 65x100 with 1 Axes>"
      ]
     },
     "metadata": {},
     "output_type": "display_data"
    },
    {
     "data": {
      "image/png": "[encoded data removed]",
      "text/plain": [
       "<Figure size 65x100 with 1 Axes>"
      ]
     },
     "metadata": {},
     "output_type": "display_data"
    },
    {
     "data": {
      "image/png": "[encoded data removed]",
      "text/plain": [
       "<Figure size 65x100 with 1 Axes>"
      ]
     },
     "metadata": {},
     "output_type": "display_data"
    },
    {
     "data": {
      "image/png": "[encoded data removed]",
      "text/plain": [
       "<Figure size 65x100 with 1 Axes>"
      ]
     },
     "metadata": {},
     "output_type": "display_data"
    },
    {
     "data": {
      "image/png": "[encoded data removed]",
      "text/plain": [
       "<Figure size 65x100 with 1 Axes>"
      ]
     },
     "metadata": {},
     "output_type": "display_data"
    },
    {
     "data": {
      "image/png": "[encoded data removed]",
      "text/plain": [
       "<Figure size 65x100 with 1 Axes>"
      ]
     },
     "metadata": {},
     "output_type": "display_data"
    },
    {
     "data": {
      "image/png": "[encoded data removed]",
      "text/plain": [
       "<Figure size 65x100 with 1 Axes>"
      ]
     },
     "metadata": {},
     "output_type": "display_data"
    },
    {
     "data": {
      "image/png": "[encoded data removed]",
      "text/plain": [
       "<Figure size 65x100 with 1 Axes>"
      ]
     },
     "metadata": {},
     "output_type": "display_data"
    },
    {
     "data": {
      "image/png": "[encoded data removed]",
      "text/plain": [
       "<Figure size 65x100 with 1 Axes>"
      ]
     },
     "metadata": {},
     "output_type": "display_data"
    },
    {
     "data": {
      "image/png": "[encoded data removed]",
      "text/plain": [
       "<Figure size 65x100 with 1 Axes>"
      ]
     },
     "metadata": {},
     "output_type": "display_data"
    }
   ],
   "source": [
    "init_plotting(figsize=(0.65, 1))\n",
    "# init_plotting(figsize=(3*0.65, 2*1))\n",
    "for col_name in col_names:\n",
    "    sns.barplot(\n",
    "        df_res,\n",
    "        x='Method',\n",
    "        y=col_name,\n",
    "        palette=[colors[0], colors[1], colors[2]],\n",
    "        hue='Method',\n",
    "    )\n",
    "    plt.title(col_name, y=-0.4)\n",
    "    plt.xticks([])\n",
    "    plt.xlabel('')\n",
    "    plt.ylabel('')\n",
    "    # plt.legend([],[], frameon=False)\n",
    "    save_fig(f'ms2prop_{col_name.replace(\" \", \"_\")}.svg')\n",
    "    plt.show()\n",
    "    # break"
   ]
  },
  {
   "cell_type": "code",
   "execution_count": null,
   "metadata": {},
   "outputs": [
    {
     "data": {
      "text/html": [
       "<div>\n",
       "<style scoped>\n",
       "    .dataframe tbody tr th:only-of-type {\n",
       "        vertical-align: middle;\n",
       "    }\n",
       "\n",
       "    .dataframe tbody tr th {\n",
       "        vertical-align: top;\n",
       "    }\n",
       "\n",
       "    .dataframe thead th {\n",
       "        text-align: right;\n",
       "    }\n",
       "</style>\n",
       "<table border=\"1\" class=\"dataframe\">\n",
       "  <thead>\n",
       "    <tr style=\"text-align: right;\">\n",
       "      <th></th>\n",
       "      <th>AtomicLogP</th>\n",
       "      <th>NumHAcceptors</th>\n",
       "      <th>NumHDonors</th>\n",
       "      <th>PolarSurfaceArea</th>\n",
       "      <th>NumRotatableBonds</th>\n",
       "      <th>NumAromaticRings</th>\n",
       "      <th>NumAliphaticRings</th>\n",
       "      <th>FractionCSP3</th>\n",
       "      <th>QED</th>\n",
       "      <th>SyntheticAccessibility</th>\n",
       "      <th>BertzComplexity</th>\n",
       "      <th>Method</th>\n",
       "    </tr>\n",
       "  </thead>\n",
       "  <tbody>\n",
       "    <tr>\n",
       "      <th>0</th>\n",
       "      <td>0.512795</td>\n",
       "      <td>0.098117</td>\n",
       "      <td>0.655697</td>\n",
       "      <td>15.289149</td>\n",
       "      <td>7.771688</td>\n",
       "      <td>0.462563</td>\n",
       "      <td>1.272756</td>\n",
       "      <td>0.029800</td>\n",
       "      <td>0.137556</td>\n",
       "      <td>0.739770</td>\n",
       "      <td>202.192574</td>\n",
       "      <td>DreaMS</td>\n",
       "    </tr>\n",
       "    <tr>\n",
       "      <th>1</th>\n",
       "      <td>1.976512</td>\n",
       "      <td>4.098907</td>\n",
       "      <td>1.318449</td>\n",
       "      <td>36.482974</td>\n",
       "      <td>6.223182</td>\n",
       "      <td>0.763852</td>\n",
       "      <td>0.687734</td>\n",
       "      <td>0.169986</td>\n",
       "      <td>0.223226</td>\n",
       "      <td>1.998454</td>\n",
       "      <td>86.683726</td>\n",
       "      <td>DreaMS</td>\n",
       "    </tr>\n",
       "    <tr>\n",
       "      <th>2</th>\n",
       "      <td>2.269388</td>\n",
       "      <td>1.004315</td>\n",
       "      <td>1.115834</td>\n",
       "      <td>24.250436</td>\n",
       "      <td>0.470176</td>\n",
       "      <td>0.588252</td>\n",
       "      <td>0.769656</td>\n",
       "      <td>0.155531</td>\n",
       "      <td>0.129865</td>\n",
       "      <td>0.137407</td>\n",
       "      <td>221.852394</td>\n",
       "      <td>DreaMS</td>\n",
       "    </tr>\n",
       "    <tr>\n",
       "      <th>3</th>\n",
       "      <td>0.465352</td>\n",
       "      <td>0.138355</td>\n",
       "      <td>1.048145</td>\n",
       "      <td>16.221864</td>\n",
       "      <td>0.148149</td>\n",
       "      <td>0.552515</td>\n",
       "      <td>0.722617</td>\n",
       "      <td>0.116698</td>\n",
       "      <td>0.101407</td>\n",
       "      <td>0.501351</td>\n",
       "      <td>173.767300</td>\n",
       "      <td>DreaMS</td>\n",
       "    </tr>\n",
       "    <tr>\n",
       "      <th>4</th>\n",
       "      <td>0.262306</td>\n",
       "      <td>0.849551</td>\n",
       "      <td>0.540083</td>\n",
       "      <td>18.323137</td>\n",
       "      <td>4.660686</td>\n",
       "      <td>0.152493</td>\n",
       "      <td>0.968974</td>\n",
       "      <td>0.097799</td>\n",
       "      <td>0.029630</td>\n",
       "      <td>0.172898</td>\n",
       "      <td>37.213457</td>\n",
       "      <td>DreaMS</td>\n",
       "    </tr>\n",
       "    <tr>\n",
       "      <th>...</th>\n",
       "      <td>...</td>\n",
       "      <td>...</td>\n",
       "      <td>...</td>\n",
       "      <td>...</td>\n",
       "      <td>...</td>\n",
       "      <td>...</td>\n",
       "      <td>...</td>\n",
       "      <td>...</td>\n",
       "      <td>...</td>\n",
       "      <td>...</td>\n",
       "      <td>...</td>\n",
       "      <td>...</td>\n",
       "    </tr>\n",
       "    <tr>\n",
       "      <th>43035</th>\n",
       "      <td>1.702327</td>\n",
       "      <td>6.529448</td>\n",
       "      <td>4.572706</td>\n",
       "      <td>115.357824</td>\n",
       "      <td>1.134994</td>\n",
       "      <td>0.248563</td>\n",
       "      <td>0.944679</td>\n",
       "      <td>0.066704</td>\n",
       "      <td>0.258885</td>\n",
       "      <td>0.922912</td>\n",
       "      <td>341.940426</td>\n",
       "      <td>XGBoost</td>\n",
       "    </tr>\n",
       "    <tr>\n",
       "      <th>43036</th>\n",
       "      <td>0.413591</td>\n",
       "      <td>1.993105</td>\n",
       "      <td>0.975067</td>\n",
       "      <td>18.425332</td>\n",
       "      <td>3.122835</td>\n",
       "      <td>1.153210</td>\n",
       "      <td>0.608632</td>\n",
       "      <td>0.198655</td>\n",
       "      <td>0.068517</td>\n",
       "      <td>0.343031</td>\n",
       "      <td>32.577735</td>\n",
       "      <td>XGBoost</td>\n",
       "    </tr>\n",
       "    <tr>\n",
       "      <th>43037</th>\n",
       "      <td>0.322993</td>\n",
       "      <td>2.187573</td>\n",
       "      <td>0.066664</td>\n",
       "      <td>10.035765</td>\n",
       "      <td>0.201839</td>\n",
       "      <td>1.273240</td>\n",
       "      <td>0.332632</td>\n",
       "      <td>0.145387</td>\n",
       "      <td>0.158684</td>\n",
       "      <td>0.085889</td>\n",
       "      <td>402.611949</td>\n",
       "      <td>XGBoost</td>\n",
       "    </tr>\n",
       "    <tr>\n",
       "      <th>43038</th>\n",
       "      <td>1.222076</td>\n",
       "      <td>0.807322</td>\n",
       "      <td>1.846863</td>\n",
       "      <td>9.441681</td>\n",
       "      <td>1.408393</td>\n",
       "      <td>1.178735</td>\n",
       "      <td>0.895094</td>\n",
       "      <td>0.089022</td>\n",
       "      <td>0.221288</td>\n",
       "      <td>0.663534</td>\n",
       "      <td>324.888300</td>\n",
       "      <td>XGBoost</td>\n",
       "    </tr>\n",
       "    <tr>\n",
       "      <th>43039</th>\n",
       "      <td>0.352996</td>\n",
       "      <td>1.054387</td>\n",
       "      <td>1.247790</td>\n",
       "      <td>37.212600</td>\n",
       "      <td>0.646722</td>\n",
       "      <td>0.199344</td>\n",
       "      <td>0.580761</td>\n",
       "      <td>0.146684</td>\n",
       "      <td>0.160432</td>\n",
       "      <td>0.624195</td>\n",
       "      <td>180.819113</td>\n",
       "      <td>XGBoost</td>\n",
       "    </tr>\n",
       "  </tbody>\n",
       "</table>\n",
       "<p>129120 rows × 12 columns</p>\n",
       "</div>"
      ],
      "text/plain": [
       "       AtomicLogP  NumHAcceptors  NumHDonors  PolarSurfaceArea  \\\n",
       "0        0.512795       0.098117    0.655697         15.289149   \n",
       "1        1.976512       4.098907    1.318449         36.482974   \n",
       "2        2.269388       1.004315    1.115834         24.250436   \n",
       "3        0.465352       0.138355    1.048145         16.221864   \n",
       "4        0.262306       0.849551    0.540083         18.323137   \n",
       "...           ...            ...         ...               ...   \n",
       "43035    1.702327       6.529448    4.572706        115.357824   \n",
       "43036    0.413591       1.993105    0.975067         18.425332   \n",
       "43037    0.322993       2.187573    0.066664         10.035765   \n",
       "43038    1.222076       0.807322    1.846863          9.441681   \n",
       "43039    0.352996       1.054387    1.247790         37.212600   \n",
       "\n",
       "       NumRotatableBonds  NumAromaticRings  NumAliphaticRings  FractionCSP3  \\\n",
       "0               7.771688          0.462563           1.272756      0.029800   \n",
       "1               6.223182          0.763852           0.687734      0.169986   \n",
       "2               0.470176          0.588252           0.769656      0.155531   \n",
       "3               0.148149          0.552515           0.722617      0.116698   \n",
       "4               4.660686          0.152493           0.968974      0.097799   \n",
       "...                  ...               ...                ...           ...   \n",
       "43035           1.134994          0.248563           0.944679      0.066704   \n",
       "43036           3.122835          1.153210           0.608632      0.198655   \n",
       "43037           0.201839          1.273240           0.332632      0.145387   \n",
       "43038           1.408393          1.178735           0.895094      0.089022   \n",
       "43039           0.646722          0.199344           0.580761      0.146684   \n",
       "\n",
       "            QED  SyntheticAccessibility  BertzComplexity   Method  \n",
       "0      0.137556                0.739770       202.192574   DreaMS  \n",
       "1      0.223226                1.998454        86.683726   DreaMS  \n",
       "2      0.129865                0.137407       221.852394   DreaMS  \n",
       "3      0.101407                0.501351       173.767300   DreaMS  \n",
       "4      0.029630                0.172898        37.213457   DreaMS  \n",
       "...         ...                     ...              ...      ...  \n",
       "43035  0.258885                0.922912       341.940426  XGBoost  \n",
       "43036  0.068517                0.343031        32.577735  XGBoost  \n",
       "43037  0.158684                0.085889       402.611949  XGBoost  \n",
       "43038  0.221288                0.663534       324.888300  XGBoost  \n",
       "43039  0.160432                0.624195       180.819113  XGBoost  \n",
       "\n",
       "[129120 rows x 12 columns]"
      ]
     },
     "execution_count": 79,
     "metadata": {},
     "output_type": "execute_result"
    }
   ],
   "source": [
    "df_res"
   ]
  }
 ],
 "metadata": {
  "kernelspec": {
   "display_name": "Python 3 (ipykernel)",
   "language": "python",
   "name": "python3"
  },
  "language_info": {
   "codemirror_mode": {
    "name": "ipython",
    "version": 3
   },
   "file_extension": ".py",
   "mimetype": "text/x-python",
   "name": "python",
   "nbconvert_exporter": "python",
   "pygments_lexer": "ipython3",
   "version": "3.9.18"
  }
 },
 "nbformat": 4,
 "nbformat_minor": 4
}
