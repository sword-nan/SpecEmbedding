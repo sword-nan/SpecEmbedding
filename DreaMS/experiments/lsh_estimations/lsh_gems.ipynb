{
 "cells": [
  {
   "cell_type": "code",
   "execution_count": 1,
   "metadata": {
    "collapsed": true
   },
   "outputs": [],
   "source": [
    "import pandas as pd\n",
    "import numpy as np\n",
    "np.random.seed(3)\n",
    "np.set_printoptions(suppress=True)\n",
    "import matchms as mms\n",
    "import matplotlib.pyplot as plt\n",
    "import seaborn as sns\n",
    "sns.set_style('whitegrid')\n",
    "import random\n",
    "random.seed(3)\n",
    "import h5py\n",
    "import dreams.utils.spectra as su\n",
    "from tqdm.auto import tqdm\n",
    "tqdm.pandas()\n",
    "from itertools import combinations\n",
    "from dreams.definitions import MASSIVE_DATA\n",
    "from dreams.utils.io import setup_logger\n",
    "from dreams.algorithms.lsh.lsh import BatchedPeakListRandomProjection\n",
    "from dreams.utils.dformats import DataFormatA\n",
    "from dreams.utils.plots import init_plotting\n",
    "init_plotting()\n",
    "%load_ext autoreload\n",
    "%autoreload 2"
   ]
  },
  {
   "cell_type": "code",
   "execution_count": 4,
   "metadata": {
    "collapsed": false
   },
   "outputs": [],
   "source": [
    "logger = setup_logger()"
   ]
  },
  {
   "cell_type": "code",
   "execution_count": 5,
   "metadata": {
    "collapsed": false
   },
   "outputs": [],
   "source": [
    "# with h5py.File('/storage/plzen1/home/romanb/msvn_A/msvn_A.hdf5', 'r') as f:\n",
    "#     spectra = f['spectra']\n",
    "#     print(spectra.shape)\n",
    "#     idx = sorted(random.sample(range(spectra.shape[0]), 200_000))\n",
    "#     spectra = spectra[idx, :, :]\n",
    "#     print(spectra.shape)\n",
    "#     prec_mzs = f['precursor mz'][idx]\n",
    "#     print(prec_mzs.shape)\n",
    "#     with h5py.File('/storage/plzen1/home/romanb/msvn_A/msvn_A_rand100k.hdf5', 'w') as f:\n",
    "#         f.create_dataset(name='spectra', data=spectra)\n",
    "#         f.create_dataset(name='precursor mz', data=prec_mzs)\n",
    "# spectra.shape, prec_mzs.shape"
   ]
  },
  {
   "cell_type": "code",
   "execution_count": 6,
   "metadata": {
    "collapsed": false
   },
   "outputs": [],
   "source": [
    "with h5py.File(MASSIVE_DATA / 'msvn' / 'msvn_A_rand200k.hdf5', 'r') as f:\n",
    "    spectra = f['spectra'][2000:3000]\n",
    "    prec_mzs = f['precursor mz'][2000:3000]"
   ]
  },
  {
   "cell_type": "code",
   "execution_count": 31,
   "metadata": {
    "collapsed": false
   },
   "outputs": [
    {
     "data": {
      "application/vnd.jupyter.widget-view+json": {
       "model_id": "6fe17d2e8e2f466cb7043fe5f8a12b0f",
       "version_major": 2,
       "version_minor": 0
      },
      "text/plain": [
       "  0%|          | 0/2 [00:00<?, ?it/s]"
      ]
     },
     "metadata": {},
     "output_type": "display_data"
    }
   ],
   "source": [
    "df = []\n",
    "for n_hyperplanes in tqdm([25, 1000]):\n",
    "    for bin_step in [0.5]:\n",
    "        # lsh = PeakListRandomProjection(bin_step=bin_step, max_mz=1000., n_hyperplanes=n_hyperplanes)\n",
    "        lsh = BatchedPeakListRandomProjection(\n",
    "            subbatch_size=5_000, max_mz=DataFormatA().max_mz, bin_step=bin_step, n_hyperplanes=n_hyperplanes\n",
    "        )\n",
    "        lshs = lsh.compute(np.transpose(spectra, (0, 2, 1)), logger=logger)\n",
    "        # mona['LSH'] = mona['PARSED PEAKS'].apply(lambda pl: lsh.compute(pl))\n",
    "        df.append({\n",
    "            'Num. hyperplanes': n_hyperplanes,\n",
    "            'Bin size': bin_step,\n",
    "            'Unique LSH [%]': len(np.unique(lshs)) / len(lshs) * 100\n",
    "        })\n",
    "df = pd.DataFrame(df)"
   ]
  },
  {
   "cell_type": "code",
   "execution_count": 32,
   "metadata": {
    "collapsed": false
   },
   "outputs": [
    {
     "data": {
      "text/html": [
       "<div>\n",
       "<style scoped>\n",
       "    .dataframe tbody tr th:only-of-type {\n",
       "        vertical-align: middle;\n",
       "    }\n",
       "\n",
       "    .dataframe tbody tr th {\n",
       "        vertical-align: top;\n",
       "    }\n",
       "\n",
       "    .dataframe thead th {\n",
       "        text-align: right;\n",
       "    }\n",
       "</style>\n",
       "<table border=\"1\" class=\"dataframe\">\n",
       "  <thead>\n",
       "    <tr style=\"text-align: right;\">\n",
       "      <th></th>\n",
       "      <th>LSH</th>\n",
       "      <th>i</th>\n",
       "      <th>n_clashes</th>\n",
       "    </tr>\n",
       "    <tr>\n",
       "      <th>LSH</th>\n",
       "      <th></th>\n",
       "      <th></th>\n",
       "      <th></th>\n",
       "    </tr>\n",
       "  </thead>\n",
       "  <tbody>\n",
       "    <tr>\n",
       "      <th>8864742322257525109</th>\n",
       "      <td>[8864742322257525109, 8864742322257525109, 886...</td>\n",
       "      <td>[270, 410, 830, 832]</td>\n",
       "      <td>4</td>\n",
       "    </tr>\n",
       "    <tr>\n",
       "      <th>2674475802999457154</th>\n",
       "      <td>[2674475802999457154, 2674475802999457154, 267...</td>\n",
       "      <td>[329, 333, 379]</td>\n",
       "      <td>3</td>\n",
       "    </tr>\n",
       "    <tr>\n",
       "      <th>-4745672232281994148</th>\n",
       "      <td>[-4745672232281994148, -4745672232281994148]</td>\n",
       "      <td>[55, 434]</td>\n",
       "      <td>2</td>\n",
       "    </tr>\n",
       "    <tr>\n",
       "      <th>-3745598565435660601</th>\n",
       "      <td>[-3745598565435660601, -3745598565435660601]</td>\n",
       "      <td>[250, 253]</td>\n",
       "      <td>2</td>\n",
       "    </tr>\n",
       "    <tr>\n",
       "      <th>5620053725717761374</th>\n",
       "      <td>[5620053725717761374, 5620053725717761374]</td>\n",
       "      <td>[112, 529]</td>\n",
       "      <td>2</td>\n",
       "    </tr>\n",
       "    <tr>\n",
       "      <th>...</th>\n",
       "      <td>...</td>\n",
       "      <td>...</td>\n",
       "      <td>...</td>\n",
       "    </tr>\n",
       "    <tr>\n",
       "      <th>-3983045723897757102</th>\n",
       "      <td>[-3983045723897757102]</td>\n",
       "      <td>[986]</td>\n",
       "      <td>1</td>\n",
       "    </tr>\n",
       "    <tr>\n",
       "      <th>-3964999794958866562</th>\n",
       "      <td>[-3964999794958866562]</td>\n",
       "      <td>[59]</td>\n",
       "      <td>1</td>\n",
       "    </tr>\n",
       "    <tr>\n",
       "      <th>-3962709873715472766</th>\n",
       "      <td>[-3962709873715472766]</td>\n",
       "      <td>[808]</td>\n",
       "      <td>1</td>\n",
       "    </tr>\n",
       "    <tr>\n",
       "      <th>-3948886040367954051</th>\n",
       "      <td>[-3948886040367954051]</td>\n",
       "      <td>[853]</td>\n",
       "      <td>1</td>\n",
       "    </tr>\n",
       "    <tr>\n",
       "      <th>9183084070122554438</th>\n",
       "      <td>[9183084070122554438]</td>\n",
       "      <td>[481]</td>\n",
       "      <td>1</td>\n",
       "    </tr>\n",
       "  </tbody>\n",
       "</table>\n",
       "<p>984 rows × 3 columns</p>\n",
       "</div>"
      ],
      "text/plain": [
       "                                                                    LSH  \\\n",
       "LSH                                                                       \n",
       " 8864742322257525109  [8864742322257525109, 8864742322257525109, 886...   \n",
       " 2674475802999457154  [2674475802999457154, 2674475802999457154, 267...   \n",
       "-4745672232281994148       [-4745672232281994148, -4745672232281994148]   \n",
       "-3745598565435660601       [-3745598565435660601, -3745598565435660601]   \n",
       " 5620053725717761374         [5620053725717761374, 5620053725717761374]   \n",
       "...                                                                 ...   \n",
       "-3983045723897757102                             [-3983045723897757102]   \n",
       "-3964999794958866562                             [-3964999794958866562]   \n",
       "-3962709873715472766                             [-3962709873715472766]   \n",
       "-3948886040367954051                             [-3948886040367954051]   \n",
       " 9183084070122554438                              [9183084070122554438]   \n",
       "\n",
       "                                         i  n_clashes  \n",
       "LSH                                                    \n",
       " 8864742322257525109  [270, 410, 830, 832]          4  \n",
       " 2674475802999457154       [329, 333, 379]          3  \n",
       "-4745672232281994148             [55, 434]          2  \n",
       "-3745598565435660601            [250, 253]          2  \n",
       " 5620053725717761374            [112, 529]          2  \n",
       "...                                    ...        ...  \n",
       "-3983045723897757102                 [986]          1  \n",
       "-3964999794958866562                  [59]          1  \n",
       "-3962709873715472766                 [808]          1  \n",
       "-3948886040367954051                 [853]          1  \n",
       " 9183084070122554438                 [481]          1  \n",
       "\n",
       "[984 rows x 3 columns]"
      ]
     },
     "execution_count": 32,
     "metadata": {},
     "output_type": "execute_result"
    }
   ],
   "source": [
    "df_clashes = pd.DataFrame({'i': range(lshs.shape[0]), 'LSH': lshs}).groupby('LSH').agg({'LSH': list, 'i': list})\n",
    "df_clashes['n_clashes'] = df_clashes['LSH'].apply(len)\n",
    "df_clashes.sort_values(by='n_clashes', ascending=False)"
   ]
  },
  {
   "cell_type": "code",
   "execution_count": 51,
   "metadata": {
    "collapsed": false
   },
   "outputs": [
    {
     "data": {
      "image/png": "[encoded data removed]",
      "text/plain": [
       "<Figure size 600x300 with 6 Axes>"
      ]
     },
     "metadata": {},
     "output_type": "display_data"
    }
   ],
   "source": [
    "import matplotlib.pyplot as plt\n",
    "import matplotlib.gridspec as gridspec\n",
    "init_plotting()\n",
    "fig = plt.figure(layout='constrained')\n",
    "fig.set_size_inches(6, 3)\n",
    "gs = gridspec.GridSpec(2, 3, figure=fig)\n",
    "\n",
    "from dreams.utils.plots import get_plotly_palette\n",
    "from dreams.definitions import FIGURES\n",
    "palette = get_plotly_palette(as_hex=True)\n",
    "\n",
    "for plot_i, i in enumerate([245, 522, 759]):\n",
    "    ax = fig.add_subplot(gs[0, plot_i])\n",
    "    su.plot_peak_list(su.unpad_peak_list(spectra[i].T).T, xlim=(50, 175), figsize=(2, 2), ax=ax, ylabel=plot_i==0, xlabel=False, color=palette[2])\n",
    "for plot_i, i in enumerate([329, 333, 379]):\n",
    "    ax = fig.add_subplot(gs[1, plot_i])\n",
    "    su.plot_peak_list(su.unpad_peak_list(spectra[i].T).T, xlim=(45, 150), figsize=(2, 2), ax=ax, ylabel=plot_i==0, color=palette[0])\n",
    "plt.savefig(FIGURES / 'lsh_examples.pdf')\n",
    "plt.show()"
   ]
  },
  {
   "cell_type": "code",
   "execution_count": null,
   "metadata": {
    "collapsed": false
   },
   "outputs": [],
   "source": [
    "df = []\n",
    "for n_hyperplanes in tqdm([90, 60, 40, 30, 20, 10]):\n",
    "    for bin_step in [0.05, 0.5, 1]:\n",
    "        # lsh = PeakListRandomProjection(bin_step=bin_step, max_mz=1000., n_hyperplanes=n_hyperplanes)\n",
    "        lsh = BatchedPeakListRandomProjection(\n",
    "            subbatch_size=5_000, max_mz=DataFormatA().max_mz, bin_step=bin_step, n_hyperplanes=n_hyperplanes\n",
    "        )\n",
    "        lshs = lsh.compute(np.transpose(spectra, (0, 2, 1)), logger=logger)\n",
    "        # mona['LSH'] = mona['PARSED PEAKS'].apply(lambda pl: lsh.compute(pl))\n",
    "        df.append({\n",
    "            'Num. hyperplanes': n_hyperplanes,\n",
    "            'Bin size': bin_step,\n",
    "            'Unique LSH [%]': len(np.unique(lshs)) / len(lshs) * 100\n",
    "        })\n",
    "df = pd.DataFrame(df)"
   ]
  },
  {
   "cell_type": "code",
   "execution_count": 8,
   "metadata": {
    "collapsed": false
   },
   "outputs": [
    {
     "data": {
      "image/png": "[encoded data removed]",
      "text/plain": [
       "<Figure size 405x270 with 2 Axes>"
      ]
     },
     "metadata": {},
     "output_type": "display_data"
    }
   ],
   "source": [
    "fig, ax=plt.subplots(1, 1, dpi=135, figsize=(3, 2))\n",
    "sns.heatmap(df.pivot_table(values='Unique LSH [%]', columns='Bin size', index='Num. hyperplanes'), annot=True, cbar_kws={'label': '# unique hashes [%]'}, cmap='crest')\n",
    "ax.invert_yaxis()\n",
    "plt.savefig('lsh_msvn_A_200k_heatmap.pdf', bbox_inches='tight')\n",
    "plt.show()"
   ]
  },
  {
   "cell_type": "code",
   "execution_count": 4,
   "metadata": {
    "collapsed": false
   },
   "outputs": [],
   "source": [
    "cos_dist = mms.similarity.CosineGreedy(tolerance=0.5)"
   ]
  },
  {
   "cell_type": "markdown",
   "metadata": {
    "collapsed": false
   },
   "source": [
    "Analyze two variants: 20 and 60 hyperplanes."
   ]
  },
  {
   "cell_type": "code",
   "execution_count": 35,
   "metadata": {
    "collapsed": false
   },
   "outputs": [
    {
     "name": "stdout",
     "output_type": "stream",
     "text": [
      "2023-03-16 14:52:30,291 | INFO | Computing LSH for batch [0:10000] (out of 200000)...\n",
      "2023-03-16 14:52:31,399 | INFO | Computing LSH for batch [10000:20000] (out of 200000)...\n",
      "2023-03-16 14:52:32,372 | INFO | Computing LSH for batch [20000:30000] (out of 200000)...\n",
      "2023-03-16 14:52:33,395 | INFO | Computing LSH for batch [30000:40000] (out of 200000)...\n",
      "2023-03-16 14:52:34,414 | INFO | Computing LSH for batch [40000:50000] (out of 200000)...\n",
      "2023-03-16 14:52:35,491 | INFO | Computing LSH for batch [50000:60000] (out of 200000)...\n",
      "2023-03-16 14:52:36,474 | INFO | Computing LSH for batch [60000:70000] (out of 200000)...\n",
      "2023-03-16 14:52:37,445 | INFO | Computing LSH for batch [70000:80000] (out of 200000)...\n",
      "2023-03-16 14:52:38,430 | INFO | Computing LSH for batch [80000:90000] (out of 200000)...\n",
      "2023-03-16 14:52:39,442 | INFO | Computing LSH for batch [90000:100000] (out of 200000)...\n",
      "2023-03-16 14:52:40,448 | INFO | Computing LSH for batch [100000:110000] (out of 200000)...\n",
      "2023-03-16 14:52:41,520 | INFO | Computing LSH for batch [110000:120000] (out of 200000)...\n",
      "2023-03-16 14:52:42,504 | INFO | Computing LSH for batch [120000:130000] (out of 200000)...\n",
      "2023-03-16 14:52:43,476 | INFO | Computing LSH for batch [130000:140000] (out of 200000)...\n",
      "2023-03-16 14:52:44,440 | INFO | Computing LSH for batch [140000:150000] (out of 200000)...\n",
      "2023-03-16 14:52:45,436 | INFO | Computing LSH for batch [150000:160000] (out of 200000)...\n",
      "2023-03-16 14:52:46,433 | INFO | Computing LSH for batch [160000:170000] (out of 200000)...\n",
      "2023-03-16 14:52:47,490 | INFO | Computing LSH for batch [170000:180000] (out of 200000)...\n",
      "2023-03-16 14:52:48,469 | INFO | Computing LSH for batch [180000:190000] (out of 200000)...\n",
      "2023-03-16 14:52:49,440 | INFO | Computing LSH for batch [190000:200000] (out of 200000)...\n",
      "63811 0.319055\n"
     ]
    },
    {
     "data": {
      "application/vnd.jupyter.widget-view+json": {
       "model_id": "61e9ec96333e4e10a44cc8a0707e2865",
       "version_major": 2,
       "version_minor": 0
      },
      "text/plain": [
       "  0%|          | 0/200000 [00:00<?, ?it/s]"
      ]
     },
     "metadata": {},
     "output_type": "display_data"
    },
    {
     "name": "stdout",
     "output_type": "stream",
     "text": [
      "2023-03-16 14:52:57,125 | INFO | Computing LSH for batch [0:10000] (out of 200000)...\n",
      "2023-03-16 14:52:58,363 | INFO | Computing LSH for batch [10000:20000] (out of 200000)...\n",
      "2023-03-16 14:52:59,636 | INFO | Computing LSH for batch [20000:30000] (out of 200000)...\n",
      "2023-03-16 14:53:00,829 | INFO | Computing LSH for batch [30000:40000] (out of 200000)...\n",
      "2023-03-16 14:53:02,032 | INFO | Computing LSH for batch [40000:50000] (out of 200000)...\n",
      "2023-03-16 14:53:03,240 | INFO | Computing LSH for batch [50000:60000] (out of 200000)...\n",
      "2023-03-16 14:53:04,587 | INFO | Computing LSH for batch [60000:70000] (out of 200000)...\n",
      "2023-03-16 14:53:05,870 | INFO | Computing LSH for batch [70000:80000] (out of 200000)...\n",
      "2023-03-16 14:53:07,061 | INFO | Computing LSH for batch [80000:90000] (out of 200000)...\n",
      "2023-03-16 14:53:08,253 | INFO | Computing LSH for batch [90000:100000] (out of 200000)...\n",
      "2023-03-16 14:53:09,516 | INFO | Computing LSH for batch [100000:110000] (out of 200000)...\n",
      "2023-03-16 14:53:11,142 | INFO | Computing LSH for batch [110000:120000] (out of 200000)...\n",
      "2023-03-16 14:53:12,348 | INFO | Computing LSH for batch [120000:130000] (out of 200000)...\n",
      "2023-03-16 14:53:13,540 | INFO | Computing LSH for batch [130000:140000] (out of 200000)...\n",
      "2023-03-16 14:53:14,726 | INFO | Computing LSH for batch [140000:150000] (out of 200000)...\n",
      "2023-03-16 14:53:15,911 | INFO | Computing LSH for batch [150000:160000] (out of 200000)...\n",
      "2023-03-16 14:53:17,230 | INFO | Computing LSH for batch [160000:170000] (out of 200000)...\n",
      "2023-03-16 14:53:18,453 | INFO | Computing LSH for batch [170000:180000] (out of 200000)...\n",
      "2023-03-16 14:53:19,652 | INFO | Computing LSH for batch [180000:190000] (out of 200000)...\n",
      "2023-03-16 14:53:20,838 | INFO | Computing LSH for batch [190000:200000] (out of 200000)...\n",
      "148532 0.74266\n"
     ]
    },
    {
     "data": {
      "application/vnd.jupyter.widget-view+json": {
       "model_id": "ae3c3685c6424467b05a570260d5e912",
       "version_major": 2,
       "version_minor": 0
      },
      "text/plain": [
       "  0%|          | 0/200000 [00:00<?, ?it/s]"
      ]
     },
     "metadata": {},
     "output_type": "display_data"
    }
   ],
   "source": [
    "dfs = {}\n",
    "\n",
    "for n_hyperplanes in [20, 60]:\n",
    "\n",
    "    lsh = BatchedPeakListRandomProjection(\n",
    "        subbatch_size=10_000, max_mz=DataFormatA().max_mz, bin_step=1, n_hyperplanes=n_hyperplanes\n",
    "    )\n",
    "    lshs = lsh.compute(np.transpose(spectra, (0, 2, 1)), logger=logger)\n",
    "    print(len(np.unique(lshs)), len(np.unique(lshs)) / len(lshs))\n",
    "\n",
    "    df = pd.DataFrame({\n",
    "        'PARSED PEAKS': [su.unpad_peak_list(pl.T) for pl in spectra],\n",
    "        'PRECURSOR M/Z': prec_mzs,\n",
    "        'LSH': lshs\n",
    "    })\n",
    "    df['MMS Spectrum'] = df.progress_apply(\n",
    "        lambda row: mms.Spectrum(\n",
    "            mz=row['PARSED PEAKS'][0],\n",
    "            intensities=row['PARSED PEAKS'][1],\n",
    "            metadata={'precursor_mz': row['PRECURSOR M/Z']}\n",
    "    ), axis=1)\n",
    "\n",
    "    dfs[n_hyperplanes] = df"
   ]
  },
  {
   "cell_type": "code",
   "execution_count": 36,
   "metadata": {
    "collapsed": false
   },
   "outputs": [
    {
     "data": {
      "text/plain": [
       "<matplotlib.legend.Legend at 0x2b3f23430>"
      ]
     },
     "execution_count": 36,
     "metadata": {},
     "output_type": "execute_result"
    },
    {
     "data": {
      "image/png": "[encoded data removed]",
      "text/plain": [
       "<Figure size 500x400 with 1 Axes>"
      ]
     },
     "metadata": {},
     "output_type": "display_data"
    }
   ],
   "source": [
    "for h, df in dfs.items():\n",
    "    sns.ecdfplot(df['LSH'].value_counts()[:50], label=h)\n",
    "plt.xlabel('# clashes per hash')\n",
    "plt.ylabel('Cumulative proportion')\n",
    "plt.savefig('lshs_clashes_cum.pdf')\n",
    "plt.legend(title='# hyperplanes')"
   ]
  },
  {
   "cell_type": "markdown",
   "metadata": {
    "collapsed": false
   },
   "source": [
    "Intra hash cosine distances."
   ]
  },
  {
   "cell_type": "code",
   "execution_count": 37,
   "metadata": {
    "collapsed": false
   },
   "outputs": [
    {
     "data": {
      "application/vnd.jupyter.widget-view+json": {
       "model_id": "a7e090e9e1ad40aeb66b264ff18f7059",
       "version_major": 2,
       "version_minor": 0
      },
      "text/plain": [
       "  0%|          | 0/21959 [00:00<?, ?it/s]"
      ]
     },
     "metadata": {},
     "output_type": "display_data"
    },
    {
     "name": "stdout",
     "output_type": "stream",
     "text": [
      "230418\n"
     ]
    },
    {
     "data": {
      "application/vnd.jupyter.widget-view+json": {
       "model_id": "b842933e85e74981b6fc9a44850b7c33",
       "version_major": 2,
       "version_minor": 0
      },
      "text/plain": [
       "  0%|          | 0/14953 [00:00<?, ?it/s]"
      ]
     },
     "metadata": {},
     "output_type": "display_data"
    },
    {
     "name": "stdout",
     "output_type": "stream",
     "text": [
      "98183\n"
     ]
    }
   ],
   "source": [
    "clashes = {}\n",
    "for h, df in dfs.items():\n",
    "    max_pairs = 10\n",
    "    cos_scores_clashes = []\n",
    "    lsh_counts = df['LSH'].value_counts()\n",
    "    for lsh_clash_val in tqdm(lsh_counts[lsh_counts > 1].index):\n",
    "        clash_idx = df[df['LSH'] == lsh_clash_val]\n",
    "        if len(clash_idx) > max_pairs:\n",
    "            clash_idx = clash_idx.sample(n=max_pairs)\n",
    "        spec_pairs = combinations(clash_idx['MMS Spectrum'], 2)\n",
    "        cos_scores_clashes.extend([float(cos_dist.pair(sp[0], sp[1])['score']) for sp in spec_pairs])\n",
    "    clashes[h] = cos_scores_clashes\n",
    "    print(len(cos_scores_clashes))"
   ]
  },
  {
   "cell_type": "markdown",
   "metadata": {
    "collapsed": false
   },
   "source": [
    "Inter hash cosine distances."
   ]
  },
  {
   "cell_type": "code",
   "execution_count": 38,
   "metadata": {
    "collapsed": false
   },
   "outputs": [
    {
     "data": {
      "application/vnd.jupyter.widget-view+json": {
       "model_id": "399daef5a25b404d88f1403528dd100c",
       "version_major": 2,
       "version_minor": 0
      },
      "text/plain": [
       "  0%|          | 0/230418 [00:00<?, ?it/s]"
      ]
     },
     "metadata": {},
     "output_type": "display_data"
    },
    {
     "data": {
      "application/vnd.jupyter.widget-view+json": {
       "model_id": "07053754acf5447d9e5597bac661c0a6",
       "version_major": 2,
       "version_minor": 0
      },
      "text/plain": [
       "  0%|          | 0/98183 [00:00<?, ?it/s]"
      ]
     },
     "metadata": {},
     "output_type": "display_data"
    }
   ],
   "source": [
    "different = {}\n",
    "for h, cos_scores_clashes in clashes.items():\n",
    "    cos_scores_different = []\n",
    "    for _ in tqdm(range(len(cos_scores_clashes))):\n",
    "        i1 = random.randrange(0, len(df))\n",
    "        i2 = random.randrange(0, len(df))\n",
    "        while df['LSH'][i1] == df['LSH'][i2]:\n",
    "            i2 = random.randrange(0, len(df))\n",
    "        cos_scores_different.append(float(cos_dist.pair(\n",
    "            df['MMS Spectrum'][i1],\n",
    "            df['MMS Spectrum'][i2]\n",
    "        )['score']))\n",
    "    different[h] = cos_scores_different"
   ]
  },
  {
   "cell_type": "code",
   "execution_count": 63,
   "metadata": {
    "collapsed": false
   },
   "outputs": [
    {
     "data": {
      "image/png": "[encoded data removed]",
      "text/plain": [
       "<Figure size 405x270 with 1 Axes>"
      ]
     },
     "metadata": {},
     "output_type": "display_data"
    },
    {
     "data": {
      "image/png": "[encoded data removed]",
      "text/plain": [
       "<Figure size 405x270 with 1 Axes>"
      ]
     },
     "metadata": {},
     "output_type": "display_data"
    }
   ],
   "source": [
    "for h in dfs.keys():\n",
    "    fig, ax=plt.subplots(1, 1, dpi=135, figsize=(3, 2))\n",
    "    sns.histplot(clashes[h], legend='LSH clash', fill=True, color='red', binwidth=0.01, stat='probability', kde=True)\n",
    "    sns.histplot(different[h], fill=True, color='green', binwidth=0.01, stat='probability', kde=True)\n",
    "    # sns.histplot([e[2] for e in cos_scores_cl_closest], legend='closets', fill=True, color='blue', binwidth=0.01, stat='probability', kde=True)\n",
    "    plt.legend(['LSH clash', 'No LSH clash'], loc='upper center')\n",
    "    ax.set_xlabel('Cosine distance')\n",
    "    # ax.set_yscale('log')\n",
    "    plt.title(f'h = {h}')\n",
    "    # plt.savefig('lsh_mona.pdf', bbox_inches='tight')\n",
    "    plt.show()"
   ]
  },
  {
   "cell_type": "markdown",
   "metadata": {
    "collapsed": false
   },
   "source": [
    "Find closest intra hash cosine distances."
   ]
  },
  {
   "cell_type": "code",
   "execution_count": 50,
   "metadata": {
    "collapsed": false
   },
   "outputs": [
    {
     "data": {
      "application/vnd.jupyter.widget-view+json": {
       "model_id": "117bcb3d63d44ec8994652eb3d3f9be8",
       "version_major": 2,
       "version_minor": 0
      },
      "text/plain": [
       "  0%|          | 0/300 [00:00<?, ?it/s]"
      ]
     },
     "metadata": {},
     "output_type": "display_data"
    },
    {
     "name": "stdout",
     "output_type": "stream",
     "text": [
      "0.9289640260640868 1168 19946 36150 36148\n",
      "0.9843467391929571 53697 110757 696861 698901\n",
      "0.8756510999404988 51465 121430 278706 344762\n",
      "0.99821779769419 87018 183357 245476 261860\n",
      "0.9972151893082986 94789 93605 888212 896404\n",
      "0.9938411964856602 65548 139655 372503 364055\n",
      "0.981549027824015 66438 66439 888381 822845\n",
      "0.9369414329420952 271 15149 492470 476086\n",
      "0.9973687522299294 87351 117211 140528 142576\n",
      "0.9778612601539522 114444 137290 496673 364577\n",
      "0.9857682363671737 165045 127031 751577 747481\n",
      "0.8861166038703288 122357 122810 950710 950460\n",
      "0.9917285936410727 199542 43604 991543 991607\n",
      "0.9999065329709275 41662 143865 376468 310420\n",
      "0.9932155974552261 127314 54711 832497 832505\n",
      "0.9863702051234733 140828 147273 247188 255380\n",
      "0.9920331446372386 49717 40427 855462 855430\n",
      "0.9822167052647574 275 52310 341530 79387\n",
      "0.9919446127235808 41078 158433 68959 69471\n",
      "0.8409206487453268 67423 116676 239842 239840\n",
      "0.9303308789469878 40387 106331 253715 236819\n",
      "0.992134451750534 53488 8451 524080 524084\n",
      "0.8257772869953479 11040 152919 297627 297626\n",
      "0.9978581004149892 53405 104499 646887 647139\n",
      "0.7501025424328703 123822 195461 389589 872917\n",
      "0.9692338947085903 63790 102541 731187 731155\n",
      "0.9921205610115988 39784 177972 683796 732948\n",
      "0.9006695853478273 19179 121224 763447 243511\n",
      "0.9916116276535913 198595 53239 845163 894315\n",
      "0.9411112309561028 112226 12656 647147 642915\n",
      "0.9895078420197687 166516 16902 425299 490835\n",
      "0.989277881792881 107551 125781 774040 773016\n",
      "0.8754008210335635 174566 55715 1019825 1023795\n",
      "0.9998180488609462 127143 178405 278148 278164\n",
      "0.980862749057433 81082 160550 1016948 1016884\n",
      "0.9994752265178106 76232 131178 275987 275995\n",
      "0.9935603943955179 183577 91988 261876 515828\n",
      "0.9950130074790315 83252 129276 291059 28913\n",
      "0.9889974612054803 6295 150446 249777 253873\n",
      "0.9870646011473347 180305 199850 1046573 981053\n",
      "0.9480353309705443 6451 8531 139504 140528\n",
      "0.9585327750282168 27317 50338 390655 130495\n",
      "0.9889259292130195 18011 78772 852383 983451\n",
      "0.9915290058604758 44493 157047 116281 116537\n",
      "0.902693238374028 172577 117158 953718 692086\n",
      "0.9997221347609817 198874 95704 360082 278166\n",
      "0.9825725653152966 109947 65868 448509 516085\n",
      "0.9981437711132572 81615 54995 331569 265777\n",
      "0.977198242240591 35999 54984 85817 83513\n",
      "0.9738629978139146 101745 34291 459770 197626\n",
      "0.9623260295261066 57952 76606 66202 66200\n",
      "0.9975236187904678 100337 29790 504917 505429\n",
      "0.9982590350356104 131314 123452 618132 618004\n",
      "0.9616778791653527 172108 154887 963544 834520\n",
      "0.8437627886429873 91834 12755 317243 79262\n",
      "0.9972229679621616 10220 140680 979904 979905\n",
      "0.7532337062286261 78814 4047 810016 919840\n",
      "0.9857370000237 183977 177693 769916 638844\n",
      "0.9885171718873824 120793 2211 1016095 1016223\n",
      "0.9921500410150744 123584 191400 319729 319697\n",
      "0.9640569646283315 197410 117055 986544 984496\n",
      "0.9969398742624275 62533 164420 310914 834694\n",
      "0.8261321962245066 92742 19773 632073 769437\n",
      "0.9771627143576025 193889 64984 439433 398505\n",
      "0.9879966436893638 185003 21108 232881 232883\n",
      "0.9974954211127386 25047 4602 540073 538025\n",
      "0.9900541414953602 11108 17448 372009 896297\n",
      "0.979535830880655 20038 89375 963544 832472\n",
      "0.9990925669914298 153587 99399 540073 572841\n",
      "0.9744094802507797 153743 152987 371761 888081\n",
      "0.9972271745068019 143727 99509 524020 515828\n",
      "0.9923260843959807 166973 34139 732959 730911\n",
      "0.9987323744636327 78616 98536 157529 419673\n",
      "0.9962546268131187 63096 168406 950023 982791\n",
      "0.9649371248935104 52969 59335 634324 626102\n",
      "0.9716333447572156 148447 168360 887853 887869\n",
      "0.9753587818551598 40897 164583 699997 700253\n",
      "0.9173067336090204 33539 108915 740234 740251\n",
      "0.9938146812531642 87072 125967 600489 601513\n",
      "0.9976510936077535 184682 8432 505589 505588\n",
      "0.9862443279586438 49033 40600 878916 1009988\n",
      "0.9895413722844831 87116 79278 69541 69557\n",
      "0.9906652271076675 143237 22241 339929 12249\n",
      "0.9806746592626958 10909 46085 781213 1043357\n",
      "0.8517250671045782 133387 129536 702424 964528\n",
      "0.9565713983780035 116740 23473 414118 972966\n",
      "0.9988059407580381 45865 160243 521461 521460\n",
      "0.995131472906833 92165 14950 101045 625333\n",
      "0.9896972708184479 13283 145580 763711 763199\n",
      "0.9417111488052237 7757 129067 275314 271227\n",
      "0.7619586679826891 186322 4864 730974 667518\n",
      "0.9921221338378741 12213 184729 969747 969779\n",
      "0.9972946988489971 188462 95459 611549 607453\n",
      "0.9816697000713697 114718 126109 503733 503473\n",
      "0.6980615471512714 26709 104088 1025847 501303\n",
      "0.9780048233241214 129623 58046 52661 36157\n",
      "0.9817632432657927 8072 90205 560439 691511\n",
      "0.7842586163583107 158883 13248 255753 436059\n",
      "0.7479004630107722 167584 142808 894266 894140\n",
      "0.9960077405966722 157579 111622 865811 865939\n",
      "0.9649548996762636 119252 22667 892223 892253\n",
      "0.90687297829563 141815 185869 870827 868763\n",
      "0.9852534566607648 136265 11117 690975 699167\n",
      "0.9947701669859007 20508 32864 303313 303569\n",
      "0.9402716459410306 114005 18782 860182 862230\n",
      "0.9985981866189969 93970 89458 291059 28915\n",
      "0.9946091944909606 36145 91542 223922 223778\n",
      "0.9908412691249573 137751 4861 994364 1027132\n",
      "0.987032174744443 176126 95060 462841 470777\n",
      "0.9590767979658213 97484 75812 760884 179636\n",
      "0.7241905800288555 18262 137457 362489 1017848\n",
      "0.9987910836775701 116167 106266 538105 538089\n",
      "0.9813970281166959 169031 38514 878916 1009988\n",
      "0.9846098914514843 68987 30570 878916 878912\n",
      "0.9992832661486911 110626 172796 889641 889129\n",
      "0.9267716500907964 121275 35330 233627 202395\n",
      "0.9493708622616086 198167 97412 476054 477110\n",
      "0.9992264283413406 156969 112939 1027420 765276\n",
      "0.9667528073039812 85834 47762 601513 621993\n",
      "0.9770872323688129 141088 179975 364585 102433\n",
      "0.9553804648126949 22550 104169 733838 766606\n",
      "0.99773620759751 142236 168939 580001 581025\n",
      "0.9043205701672363 76913 175300 528285 528349\n",
      "0.9721164956560718 69335 129168 447996 447868\n",
      "0.963207170815872 74103 56739 240653 240773\n",
      "0.9774418638979806 199841 58329 455396 979044\n",
      "0.9993157164630301 78025 76467 462236 200092\n",
      "0.9968459659539294 181021 177118 1006897 1007409\n",
      "0.9494106340583199 120772 9489 288455 287943\n",
      "0.997383051917995 85283 131178 275987 275995\n",
      "0.994077859366595 27666 21168 886123 894315\n",
      "0.9904426933122011 63596 36068 108937 109961\n",
      "0.9616771632588583 29773 90559 330651 371595\n",
      "0.955222366139476 122898 149934 765727 700189\n",
      "0.9765101206630767 59746 62487 572845 540073\n",
      "0.9719743180142559 58137 45151 799249 866833\n",
      "0.9961145477827534 43534 56602 1009097 1009099\n",
      "0.9815097702390834 105097 128621 634825 634313\n",
      "0.9344697035536403 80974 178192 461306 461818\n",
      "0.8099269434870527 55672 47571 888185 888441\n",
      "0.9836633331826974 90716 174168 692202 708330\n",
      "0.9595566745646169 159665 96977 855431 855463\n",
      "0.9961792156069255 83064 26124 1021306 1029210\n",
      "0.9997660619590899 103208 59540 1027422 1027420\n",
      "0.9980073641457025 55374 117687 765276 1027420\n",
      "0.936498363648617 160495 26065 275345 340889\n",
      "0.9639948280818752 59328 139081 75943 207015\n",
      "0.9866149824744046 82373 43522 986502 986503\n",
      "0.9807862578285693 92666 126743 1028581 1024485\n",
      "0.9764312996384675 3324 1006 531497 7209\n",
      "0.9991152446765245 45209 19427 857251 332963\n",
      "0.9957485700667963 151917 8852 252205 252207\n",
      "0.9545773633016577 113235 198168 1019735 1019731\n",
      "0.9889319272817636 143800 91166 368849 368881\n",
      "0.9998639093575801 158138 136726 278148 278164\n",
      "0.9843970294434045 10621 4192 618289 610161\n",
      "0.959303631303155 152066 160472 464353 464229\n",
      "0.8967040529538084 117405 171257 229899 213071\n",
      "0.9923566857609707 192990 60972 585112 650648\n",
      "0.9749686713649834 52642 193967 950716 955324\n",
      "0.9843941703164036 110053 30245 44084 44080\n",
      "0.8036908498703161 128383 156891 649732 773636\n",
      "0.9920451032170352 28468 3154 559699 567891\n",
      "0.9981748474025098 63059 99285 291059 291057\n",
      "0.9869051585865813 178307 13232 178075 702361\n",
      "0.8657689010394861 136291 151925 864021 880437\n",
      "0.9638242637018934 17989 24879 360342 343958\n",
      "0.9898908951976112 67466 131431 699485 699421\n",
      "0.993913713169609 2909 82052 390389 389361\n",
      "0.9639268566043301 160840 146726 306813 829180\n",
      "0.8358437187823055 90283 179758 440594 434590\n",
      "0.8190901278163585 106146 38646 1019545 346841\n",
      "0.9802517973371248 167152 34718 994364 994365\n",
      "0.9460521788968482 192485 127967 1031814 1027718\n",
      "0.9682976448431417 164528 7667 1040304 1040290\n",
      "0.9717101560942709 114723 160919 767115 767179\n",
      "0.9970551234019907 147456 185094 625973 560949\n",
      "0.9543793588005037 5441 70272 819388 819390\n",
      "0.8984798914413492 127508 133611 221117 286653\n",
      "0.9896465048646921 186335 131941 474377 490761\n",
      "0.9837983948246929 85100 121579 963544 832472\n",
      "0.9792835230895801 8711 169297 99336 361480\n",
      "0.9535868889947952 169028 9841 491803 303387\n",
      "0.9993657833738522 108769 193136 963536 832464\n",
      "0.8205707159971065 165013 135628 375070 633245\n",
      "0.9977198388327099 146832 105983 523572 524084\n",
      "0.9996728638688317 48910 191791 737357 770125\n",
      "0.9985847523415893 194684 35208 696853 698901\n",
      "0.9953812953235639 130965 99951 963544 963536\n",
      "0.9975553796095642 122621 192333 701481 701485\n",
      "0.9934249273205181 45359 31829 909761 909377\n",
      "0.9355444876319153 120657 181270 468913 1009553\n",
      "0.9942247148289977 197579 133909 749492 749500\n",
      "0.9689151804998896 147406 144147 122594 122339\n",
      "0.9895930037801386 517 80590 855462 855430\n",
      "0.9632065452679229 93867 198044 892712 892716\n",
      "0.9447567042538715 21501 97391 757617 233329\n",
      "0.9939878815099911 110137 161172 827061 892597\n",
      "0.9991633287995781 9974 68799 1027422 1027420\n",
      "0.9806938140247244 96817 48529 667381 700148\n",
      "0.9866337444353207 81155 142522 1007409 1006897\n",
      "0.9782702000792893 110115 57145 910805 911245\n",
      "0.9905017269196342 48089 91816 986503 984451\n",
      "0.9939993368150781 144134 31867 626023 560487\n",
      "0.9998992414991791 157003 63928 278164 278148\n",
      "0.592247443826668 63401 107726 923606 865630\n",
      "0.9879606287144216 36331 64121 997941 997429\n",
      "0.9700556717883714 66639 153933 516374 516118\n",
      "0.9052126657410635 109828 24258 702140 571038\n",
      "0.7236526106088841 135401 75917 713485 713477\n",
      "0.963760556914089 39992 69186 335933 336445\n",
      "0.7475925775086552 71964 16828 406791 481365\n",
      "0.9549779938333366 108481 110223 872409 880601\n",
      "0.9929784541335971 73046 543 232881 232880\n",
      "0.8738259618705304 53068 17836 255900 223124\n",
      "0.9755966992396656 170304 85378 989851 1022111\n",
      "0.9949934049727678 110475 50808 790287 823055\n",
      "0.9983426374555792 158569 115588 425035 425067\n",
      "0.958369480308416 10993 81320 610265 880601\n",
      "0.9828242226672302 2796 182183 744953 679421\n",
      "0.9968172538481477 198457 31006 392598 360338\n",
      "0.9087443449416648 194661 168343 497496 431897\n",
      "0.9982092742862879 79938 79939 700414 700410\n",
      "0.9799983191423097 103673 133271 215556 249600\n",
      "0.9895754030032626 168581 171296 1036208 1036210\n",
      "0.9998436118226136 13318 13319 788239 804623\n",
      "0.9917553867416321 142855 141357 647156 647157\n",
      "0.9180733689542095 31888 130127 856752 989744\n",
      "0.9850191511486134 98942 55077 773016 774040\n",
      "0.9894564375597109 94898 16610 35988 44180\n",
      "0.9967136828712945 81434 3920 524020 515828\n",
      "0.9789957646510595 139989 192809 878932 616788\n",
      "0.9745276234944136 173468 121282 540077 540073\n",
      "0.9693749045211201 42691 179165 173573 177701\n",
      "0.9647604977250012 45479 55430 164856 173052\n",
      "0.975062059907203 178578 183836 905199 905213\n",
      "0.9990958717581723 75519 180116 297624 264856\n",
      "0.7816928901170688 180853 133915 53350 610343\n",
      "0.9959459350521823 181163 102624 302695 301927\n",
      "0.9987010990583399 167976 101332 603798 603806\n",
      "0.9562468176783723 135538 133598 638972 624636\n",
      "0.9995598034602348 104644 187652 385241 385113\n",
      "0.9391996646169656 101197 117689 173784 239320\n",
      "0.6258098196486941 139951 68409 994249 879425\n",
      "0.9600091486851826 168081 172499 911247 910735\n",
      "0.9860760602707108 4326 117172 362039 886327\n",
      "0.9778911439198246 170161 116230 495412 494900\n",
      "0.9717846680613907 198662 92018 208258 241059\n",
      "0.873353505613157 134889 48194 478544 478672\n",
      "0.9931343068111746 49877 29155 642935 643060\n",
      "0.7426908061940011 101989 97771 886294 329234\n",
      "0.9207680477612611 63914 196231 376127 371833\n",
      "0.9986857673078069 35012 70628 634717 765277\n",
      "0.7264552462452796 164054 54524 314797 429427\n",
      "0.987059636186329 58887 167008 241443 241411\n",
      "0.8920658825402051 56502 124837 564731 572921\n",
      "0.8564726816285633 16131 125704 605241 570521\n",
      "0.9886218774039974 198192 52276 233626 200858\n",
      "0.9890018755154919 46182 192978 343958 114580\n",
      "0.9958677512936999 141093 103093 306836 306832\n",
      "0.9958691091168111 98288 54800 232880 233392\n",
      "0.8238135928285759 186969 46607 609848 603699\n",
      "0.8262640225544595 137624 75339 317213 319388\n",
      "0.9989744558354651 141115 61773 275987 275995\n",
      "0.9895425988297125 144845 155437 982007 981943\n",
      "0.9507483748320467 33553 14386 399685 400133\n",
      "0.9912479967370376 121325 184628 857251 853155\n",
      "0.9970759128523276 33275 60422 737705 737673\n",
      "0.9360403864990824 48627 38800 962448 1027856\n",
      "0.9444914868640769 84317 122054 994879 1024637\n",
      "0.9698291478381638 112360 75553 633371 634395\n",
      "0.9957581046035177 197482 108356 297969 838641\n",
      "0.986274187129598 121511 63340 1027350 1027348\n",
      "0.9968334864165486 146891 102893 504917 521301\n",
      "0.9808422570420644 150213 86233 681756 681757\n",
      "0.9724153712968372 158909 127264 515700 515828\n",
      "0.9900784221036387 18090 170128 617977 617913\n",
      "0.972534113371679 85614 36915 862259 866417\n",
      "0.983231739065245 155785 121306 833698 833699\n",
      "0.9955233527922692 171486 174451 1032475 1016091\n",
      "0.9470675455844951 165234 146235 663705 729241\n",
      "0.7398606643238483 62062 115148 881937 882001\n",
      "0.9979405472902242 134791 3302 799505 867089\n",
      "0.987191420307157 191379 112438 249329 249313\n",
      "0.9903175178877652 27828 20649 824233 824232\n",
      "0.8402651855332484 118394 94323 333753 901037\n",
      "0.7662780686794546 185662 154538 311257 765276\n",
      "0.9975289261863434 18683 142640 649116 780188\n",
      "0.9847803395024637 173768 37971 520409 516313\n",
      "0.9950131136368906 141708 88864 941874 941618\n",
      "0.969485795500634 143758 24123 292439 325333\n",
      "0.9994681966592682 153412 166446 310662 376710\n",
      "0.9995513305012125 68655 145108 724849 724977\n",
      "0.9407850898123294 99063 94434 613976 597595\n",
      "0.9851792745044333 193924 45833 267697 341937\n",
      "0.9366838581398322 168432 95898 610603 65839\n",
      "0.957565361443896 24727 74920 998802 999315\n",
      "0.9993998646910011 22972 81255 963536 832464\n",
      "0.9980998822976495 19054 21588 756797 760893\n",
      "0.9869668613363567 16098 24570 339941 77797\n"
     ]
    },
    {
     "data": {
      "application/vnd.jupyter.widget-view+json": {
       "model_id": "c277794498d84b599a06673fcc6f31b6",
       "version_major": 2,
       "version_minor": 0
      },
      "text/plain": [
       "  0%|          | 0/300 [00:00<?, ?it/s]"
      ]
     },
     "metadata": {},
     "output_type": "display_data"
    },
    {
     "name": "stdout",
     "output_type": "stream",
     "text": [
      "0.9289640260640868 1168 19946 39748013751444912 39745948006393328\n",
      "0.9843467391929571 53697 110757 766207155141666016 768450154567361760\n",
      "0.8756510999404988 51465 121430 306441378209788845 379070167464728485\n",
      "0.99821779769419 87018 183357 269904802362071882 287919200869456714\n",
      "0.9972151893082986 94789 93605 976600364534543422 985607563789284414\n",
      "0.9938411964856602 65548 139655 409572062761636936 400283386400003144\n",
      "0.9875332571594267 66438 181770 976786310634306617 976786173186964537\n",
      "0.9369414329420952 271 15149 541476618568710335 523462202862414079\n",
      "0.9973687522299294 87351 117211 154512378990604243 156764178804289491\n",
      "0.9778612601539522 114444 137290 546098726354445346 400857342023197736\n",
      "0.9884114365762381 165045 118314 826368667520683523 826368667520699395\n",
      "0.8861166038703288 122357 122810 1045317115143454313 1045042254919522925\n",
      "0.9939521401552767 199542 126799 1090213327445406078 1090213327437017470\n",
      "0.9999065329709275 41662 143865 413932017591125762 341311198738646786\n",
      "0.9932155974552261 127314 54711 915340942640570505 915349738732548233\n",
      "0.9934321920726304 140828 93621 271787110407892046 271787101885049966\n",
      "0.9921248372613835 49717 189754 940590588716837899 940590657436314635\n",
      "0.9866169739011299 275 191862 375516336701558362 375516267982065242\n",
      "0.9919446127235808 41078 158433 75821351521127156 76384301190384372\n",
      "0.8892964112306635 67423 162587 263709354633129023 263709354623691895\n",
      "0.9303308789469878 40387 106331 278962659817887943 260386118808834119\n",
      "0.9948919057924399 53488 120620 576233148158484302 576232873280577358\n",
      "0.8257772869953479 11040 152919 327244626791823909 327244158711425711\n",
      "0.9978581004149892 53405 104499 711259970461161427 711537322269267923\n",
      "0.7501025424328703 123822 195461 428357759945709178 959783254638560858\n",
      "0.9692338947085903 63790 102541 803949540098372603 803914355793916923\n",
      "0.9921205610115988 39784 177972 751841857814798043 805885053343243995\n",
      "0.9730316929190606 19179 50201 839419547402916884 839419545255416852\n",
      "0.9916116276535913 198595 53239 929267011316050248 983310206576058441\n",
      "0.9411112309561028 112226 12656 711546680486217521 706893530097603377\n",
      "0.9901682676958248 166516 185651 467622010743332026 467622010743331994\n",
      "0.989277881792881 107551 125781 851066800439529055 849940899995815519\n",
      "0.8754008210335635 174566 55715 1121310225416622108 1125675286576762908\n",
      "0.9998180488609462 127143 178405 305828025884115232 305845618070159648\n",
      "0.980862749057433 81082 160550 1118147199431297894 1118076822095088484\n",
      "0.9995258690016564 76232 31145 303451802225927210 303451252470113322\n",
      "0.9935603943955179 183577 91988 287936659759995758 567159836639664750\n",
      "0.9950130074790315 83252 129276 320022957892460410 31790382717493114\n",
      "0.9898864925353151 6295 98647 274632874580354943 274632878875322239\n",
      "0.9870646011473347 180305 199850 1150719961954665594 1078679960102782074\n",
      "0.9480353309705443 6451 8531 153386904293904123 154512250149965819\n",
      "0.9585327750282168 27317 50338 429530136325225197 143480916096678125\n",
      "0.9889259292130195 18011 78772 937205350976086176 1081316141005430944\n",
      "0.9915290058604758 44493 157047 127852568075482136 128134043052192792\n",
      "0.902693238374028 172577 117158 1048624529350595243 760957004367024803\n",
      "0.9997221347609817 198874 95704 395914591589013281 305846997138183969\n",
      "0.9930329487170415 109947 109568 493141264251263601 493141272841460345\n",
      "0.9982273510710525 81615 125113 364564761124233231 364564761141010479\n",
      "0.977198242240591 35999 54984 94357045846913048 91823736696779800\n",
      "0.9964186531663368 101745 101741 505522972445514597 505522972443417445\n",
      "0.9623260295261066 57952 76606 72790157078450257 72787685324771393\n",
      "0.9976991680795242 100337 94607 555163203278379594 555163203412597322\n",
      "0.9982885649715622 131314 98045 679643491895220945 679643491895483089\n",
      "0.9938297274409702 172108 122089 1059428642857562828 1059428642857628366\n",
      "0.8437627886429873 91834 12755 348813296516612110 87150143992365262\n",
      "0.9973412574315789 10220 96945 1077416522960758511 1077416522960496366\n",
      "0.7532337062286261 78814 4047 890622731449537676 1011375760599332236\n",
      "0.9857370000237 183977 177693 846532678954950483 702417490879094611\n",
      "0.9895758086409988 120793 175814 1117208599656161440 1117208599656153248\n",
      "0.9921500410150744 123584 191400 351546158055052987 351510977988417211\n",
      "0.9640569646283315 197410 117055 1084716951093130786 1082465151279642274\n",
      "0.9991348390647458 62533 190684 341854350088241408 341854350088241440\n",
      "0.8261321962245066 92742 19773 694972534692140985 846005862571590451\n",
      "0.9771627143576025 193889 64984 483162590590302730 438161782983785994\n",
      "0.9879966436893638 185003 21108 256055804201903982 256058002954626926\n",
      "0.9977069622453951 25047 49218 593817266178765092 593817266177708324\n",
      "0.9900541414953602 11108 17448 409029098568705448 985489859797607864\n",
      "0.9945064595773568 20038 172942 1059428648024961164 1059428639435026572\n",
      "0.9990925669914298 153587 99399 593817266178765092 629846063197729060\n",
      "0.9744094802507797 153743 152987 408756439884531326 976456315750059262\n",
      "0.9972271745068019 143727 99509 576167035927960138 567159836673219146\n",
      "0.9923260843959807 166973 34139 805897072074988260 803645263673461472\n",
      "0.9987323744636327 78616 98536 173205073604812462 461435415396785838\n",
      "0.9962546268131187 63096 168406 1044562011996878963 1080590809015842931\n",
      "0.9649371248935104 52969 59335 697447028595411970 688406844000226818\n",
      "0.9716333447572156 148447 168360 976205283501098623 976222841327412863\n",
      "0.9788244374322969 40897 160059 769655101015514237 769655100973571193\n",
      "0.9173067336090204 33539 108915 813896335998407914 813915057894802666\n",
      "0.9938146812531642 87072 125967 660245635703003509 661371535609829749\n",
      "0.9976510936077535 184682 8432 555902070396131915 555900970884504138\n",
      "0.9964259818099739 49033 15329 966379112352445560 966379103695402104\n",
      "0.9981636342201865 87116 153777 76461610148421085 76461610131643869\n",
      "0.9906652271076675 143237 22241 373756971766837257 13469000503455753\n",
      "0.9806746592626958 10909 46085 858953738666926010 1147183555399146410\n",
      "0.8517250671045782 133387 129536 772324423321153678 1060510837269754798\n",
      "0.9565713983780035 116740 23473 455328165939312186 1069788035333911610\n",
      "0.9988059407580381 45865 160243 573353523245652554 573352423734024778\n",
      "0.995131472906833 92165 14950 111100815429527911 687561567732951399\n",
      "0.9993981320273283 13283 198173 839709684431416013 839709684431153869\n",
      "0.9417111488052237 7757 129067 302711441999399674 298217667109718706\n",
      "0.7619586679826891 186322 4864 803715085314727539 733944887775239794\n",
      "0.9962625522443499 12213 95522 1066248876204780808 1066248876473216264\n",
      "0.9989827337398346 188462 34750 672406018664399539 672405949944922803\n",
      "0.9816697000713697 114718 126109 553860954070478395 553575355933552443\n",
      "0.6980615471512714 26709 104088 1127930919785352726 551189169045003316\n",
      "0.9780048233241214 129623 58046 57901922836142133 39755582662891573\n",
      "0.9817632432657927 8072 90205 616210221445834912 760325272082606240\n",
      "0.7842586163583107 158883 13248 281204036958057122 479452859086841489\n",
      "0.7479004630107722 167584 142808 983256785504445498 983118281197233210\n",
      "0.9960077405966722 157579 111622 951970217559385098 952110954779796490\n",
      "0.9706819178048788 119252 89759 981010509957982861 981010510092200589\n",
      "0.90687297829563 141815 185869 957485498959877953 955216038786987841\n",
      "0.9852534566607648 136265 11117 759735442585609440 768742641571914978\n",
      "0.9947701669859007 20508 32864 333496506529371899 333778260678956731\n",
      "0.9417808296983162 114005 176492 945780211647530279 945780211915965798\n",
      "0.9987253363162732 93970 3666 320022957892444026 320023026616131450\n",
      "0.9946091944909606 36145 91542 246205010338026784 246046663450203429\n",
      "0.9959891048952141 137751 5727 1093315340237828025 1093315340237860793\n",
      "0.987032174744443 176126 95060 508899224761144798 517624953199924702\n",
      "0.9590767979658213 97484 75812 836601891139799674 197512681707456618\n",
      "0.7241905800288555 18262 137457 398561411077393160 1119136079322700056\n",
      "0.9987910836775701 116167 106266 591653702173200740 591636109987164452\n",
      "0.9890576567505421 169031 131619 966379112285336696 966379103695402104\n",
      "0.9971684683860111 68987 186434 966379112352445560 966379112352380024\n",
      "0.9996552132493697 110626 103021 978171080429134840 978170943258616824\n",
      "0.9464234479989416 121275 1444 256876210185088101 256875909538442989\n",
      "0.9493708622616086 198167 97412 523427293117032511 524588102484044479\n",
      "0.9992642958163551 156969 9266 1129660926441718840 1129660930736686136\n",
      "0.9667528073039812 85834 47762 661371262736814372 683889260873659172\n",
      "0.9770872323688129 141088 179975 400865990039424978 112626542648283026\n",
      "0.9652270696881018 22550 184795 806863927286388523 806863653448667947\n",
      "0.99826563746767 142236 178208 637718069091279223 637718069091246455\n",
      "0.9043205701672363 76913 175300 580855588906311607 580925989327739693\n",
      "0.9721164956560718 69335 129168 492577235554408434 492436497998944234\n",
      "0.9757779875730498 74103 27899 264601846033089963 264601846030992810\n",
      "0.9861811507825421 199841 27752 500713436120814171 500713367401337435\n",
      "0.9993157164630301 78025 76467 508234055476742908 220003679325031164\n",
      "0.9978241054290234 181021 110726 1107096048860473146 1107096049934219066\n",
      "0.9494106340583199 120772 9489 317160477017594093 316597527332608237\n",
      "0.999252010421974 85283 136037 303451802225927210 303451252470113322\n",
      "0.9987406267570332 27666 5296 974303007321252169 974303007321317705\n",
      "0.9937883296638594 63596 155319 119778358607612789 119778367197580149\n",
      "0.9982049444506318 29773 50303 363555492671746621 363555492672271165\n",
      "0.955222366139476 122898 149934 841926189472074850 769866327691412578\n",
      "0.9765101206630767 59746 62487 629850461244232036 593817266178756964\n",
      "0.9781757441652359 58137 151073 878784032137442428 878783757259568188\n",
      "0.9994744290579408 43534 68834 1109514486685914114 1109514624124867586\n",
      "0.9815097702390834 105097 128621 697997936440362367 697435055206417791\n",
      "0.9671130059120612 80974 28565 507211682583294286 507211682717241684\n",
      "0.8308821269011031 55672 135268 976570031197925086 976570027438810334\n",
      "0.9836633331826974 90716 174168 761084270492170614 778817194025466230\n",
      "0.9595566745646169 159665 96977 940556572576381995 940591688195406859\n",
      "0.9961792156069255 83064 26124 1122938253549158741 1131628793455100277\n",
      "0.9997660619590899 103208 59540 1129663125464974392 1129660926441718840\n",
      "0.9980073641457025 55374 117687 841430550290007096 1129660926441718840\n",
      "0.936498363648617 160495 26065 302745417130312798 374811755721657950\n",
      "0.9639948280818752 59328 139081 83500936172421175 227616193502535718\n",
      "0.9874864311286766 82373 114812 1084670867265481771 1084670867131262123\n",
      "0.9807862578285693 92666 126743 1130937374770744107 1126433779706841387\n",
      "0.9764312996384675 3324 1006 584387313330851236 7926552403922310\n",
      "0.9992000856506003 45209 3812 942557925435581955 942557942615451139\n",
      "0.9957485700667963 151917 8852 277303061013507238 277305260036500646\n",
      "0.9545773633016577 113235 198168 1121210621082026862 1121206223165477732\n",
      "0.9889319272817636 143800 91166 405554100569376435 405589284939368123\n",
      "0.9998639093575801 158138 136726 305828025884116256 305845618070160672\n",
      "0.9843970294434045 10621 4192 679815996956071356 670879132085767612\n",
      "0.959303631303155 152066 160472 510562024627763642 510425685185903802\n",
      "0.8967040529538084 117405 171257 252777307150156475 234274863990637242\n",
      "0.9968962350362345 192990 199861 643338284457413093 643338282309929445\n",
      "0.9749686713649834 52642 193967 1045323728889608813 1050390279479130861\n",
      "0.9843941703164036 110053 30245 48471772684543456 48467512076985760\n",
      "0.8036908498703161 128383 156891 714387951894217643 850622389309490095\n",
      "0.9920451032170352 28468 3154 615396372955158593 624403434754201665\n",
      "0.9983262524359033 63059 143079 320022957896654714 320023026616131450\n",
      "0.9869051585865813 178307 13232 195796204713033742 772254757993201678\n",
      "0.8657689010394861 136291 151925 950001526564105194 968051261917012971\n",
      "0.9984174861370668 17989 180321 396200322978977057 396200322945422625\n",
      "0.9898908951976112 67466 131431 769092134133615714 769021765389436002\n",
      "0.9970071207698291 2909 78515 429238203736939258 429238203770608250\n",
      "0.9639268566043301 160840 146726 337344882227289146 911693197782293562\n",
      "0.8358437187823055 90283 179758 484438673666751577 477837205844209777\n",
      "0.8190901278163585 106146 38646 1121002395796451343 381356396895998119\n",
      "0.9802517973371248 167152 34718 1093315661285584889 1093316760797212665\n",
      "0.9460521788968482 192485 127967 1134491645009527050 1129988045382156546\n",
      "0.9939382981260273 164528 10340 1143826752502895340 1143826748212122348\n",
      "0.99467043040568 114723 87930 843452011124842697 843452011124580489\n",
      "0.9970551234019907 147456 185094 688264609391001533 616769965306494877\n",
      "0.9675950843414618 5441 141653 900926830622636333 900927346018711597\n",
      "0.9353641457613172 127508 88667 243121461785423007 243121521928338575\n",
      "0.9909532161471645 186335 177080 521583860503701040 521583860486923808\n",
      "0.9965978328929394 85100 133970 1059428648024961164 1059428648024961228\n",
      "0.9792835230895801 8711 169297 109221322582777657 397451698734489401\n",
      "0.9535868889947952 169028 9841 540744008277295122 333578425418252442\n",
      "0.9993657833738522 108769 193136 1059419845757923468 915304657682067596\n",
      "0.8205707159971065 165013 135628 412394623434360181 696261031476072799\n",
      "0.9983202415171977 146832 136627 575674587594525518 575674587594529354\n",
      "0.9998475572088377 48910 192399 810733377527678907 810733377527678651\n",
      "0.9985847523415893 194684 35208 766198090210528483 768449890024213731\n",
      "0.9963571658910596 130965 2164 1059428639703462028 1059428639435026572\n",
      "0.9975553796095642 122621 192333 771287101184168686 771291499230679790\n",
      "0.9934249273205181 45359 31829 1000293688527898554 999871458610333626\n",
      "0.9355444876319153 120657 181270 515575767047887882 1110015797913310218\n",
      "0.9942247148289977 197579 133909 824075364310870175 824084160403892383\n",
      "0.9689151804998896 147406 144147 134794614507295571 134514168174203889\n",
      "0.9898364928406412 517 48169 940590657436281867 940590588716838027\n",
      "0.9632065452679229 93867 198044 981547750700732410 981552148746460144\n",
      "0.9447567042538715 21501 97391 833009482573678619 256548730222028827\n",
      "0.9939878815099911 110137 161172 909363277418238807 981420871591433079\n",
      "0.9991633287995781 9974 68799 1129663129759941688 1129660926441718840\n",
      "0.991323367833498 96817 176301 733793963064742782 733793963064750974\n",
      "0.989991809933917 81155 82104 1107658862448715642 1107658862582937402\n",
      "0.9782702000792893 110115 57145 1001441485741007457 1001925215019574113\n",
      "0.9905017269196342 48089 91816 1084671657405250563 1082415459813456899\n",
      "0.9972947312707604 144134 90605 688320522013692073 688320522013694121\n",
      "0.9998992414991791 157003 63928 305845618070159650 305828025884115234\n",
      "0.592247443826668 63401 107726 1015516629929717998 951771344970085410\n",
      "0.9879606287144216 36331 64121 1097248295142324923 1096685345152727739\n",
      "0.9700556717883714 66639 153933 567760175287889169 567478700311178517\n",
      "0.9052126657410635 109828 24258 772011859863869074 627863136716789394\n",
      "0.9086390925362838 135401 149953 784485666155592802 784485649982225634\n",
      "0.9682068963980116 39992 110262 369362593178861705 369362597322088585\n",
      "0.7475925775086552 71964 16828 447272322142330041 529267336569016409\n",
      "0.9549779938333366 108481 110223 959224433812460896 968231074704397606\n",
      "0.9929784541335971 73046 543 256055803931371390 256054704419743614\n",
      "0.8738259618705304 53068 17836 281365780848971374 245328179004967534\n",
      "0.9755966992396656 170304 85378 1088353095296785096 1123823339851012808\n",
      "0.9953885785322107 110475 48955 868930690968389183 868930690968389167\n",
      "0.9983426374555792 158569 115588 467331083566279962 467366267938368794\n",
      "0.958369480308416 10993 81320 670994203405210928 968231624192843042\n",
      "0.9828242226672302 2796 182183 819085214922855475 747032016783954995\n",
      "0.9968172538481477 198457 31006 431666719787455621 396196474423743749\n",
      "0.9087443449416648 194661 168343 547002978526362789 474876114987433057\n",
      "0.9982092742862879 79938 79939 770113872296582514 770109474250079602\n",
      "0.9799983191423097 103673 133271 237006683863554323 274438389067847955\n",
      "0.9931685964169917 168581 103343 1139323430760887678 1139323430760363390\n",
      "0.9998436118226136 13318 13319 866678891154703911 884693289664185895\n",
      "0.9917553867416321 142855 141357 711555633477426973 711556732989054749\n",
      "0.9180733689542095 31888 130127 942009788555917328 1088236015468984368\n",
      "0.9850191511486134 98942 55077 849940831276338783 851066731183181407\n",
      "0.9894564375597109 94898 16610 39570290110267808 48577214485005728\n",
      "0.9967136828712945 81434 3920 576167035927960138 567159836673219162\n",
      "0.9789957646510595 139989 192809 966396635616564332 678166259464852588\n",
      "0.9745276234944136 173468 121282 593821664099447076 593817266178756916\n",
      "0.9693749045211201 42691 179165 190846133968520875 195384368212106991\n",
      "0.9647604977250012 45479 55430 181261465366862819 190273201185003363\n",
      "0.975062059907203 178578 183836 995277084493535219 995292477656325875\n",
      "0.9990958717581723 75519 180116 327241874795446973 291213077776491197\n",
      "0.7816928901170688 180853 133915 58660008208843629 671079899537850925\n",
      "0.9959459350521823 181163 102624 332816705201472986 331972280271341016\n",
      "0.9987010990583399 167976 101332 663882935674120120 663891731767142328\n",
      "0.9562468176783723 135538 133598 702557641978312972 686795043282516364\n",
      "0.9995598034602348 104644 187652 423577913680856763 423437176192501435\n",
      "0.9885623986530405 101197 7374 191077746282311651 191077608826515427\n",
      "0.6258098196486941 139951 68409 1093188383037252518 966938611821965734\n",
      "0.9600091486851826 168081 172499 1001927482765402993 1001364330948502385\n",
      "0.9897862100677258 4326 137065 398066849050020894 398066849050029086\n",
      "0.9778911439198246 170161 116230 544711883732580895 544148933511510687\n",
      "0.9717846680613907 198662 92018 228982485792354294 265047562400067494\n",
      "0.9761813081636239 134889 126507 526165717910426127 526165584766505487\n",
      "0.9931343068111746 49877 29155 706914594877718301 707052033294319389\n",
      "0.7426908061940011 101989 97771 974491468564029221 361996986505518381\n",
      "0.9207680477612611 63914 196231 413556896394137229 408835559104728076\n",
      "0.9986857673078069 35012 70628 697878861690718315 841431099813153898\n",
      "0.7264552462452796 164054 54524 346124017994193576 472161031859616280\n",
      "0.987059636186329 58887 167008 265469444548593367 265434260176504535\n",
      "0.8920658825402051 56502 124837 620929229920678244 629933886554779916\n",
      "0.8564726816285633 16131 125704 665470376302928239 627295471101284721\n",
      "0.9886218774039974 198192 52276 256874938838035053 220846206243580525\n",
      "0.9921872411656211 46182 9225 378186611630703905 378186611630703907\n",
      "0.9986596752462328 141093 198573 337370815461754273 337370815461754145\n",
      "0.9958691091168111 98288 54800 256054700158330751 256617650111752063\n",
      "0.8238135928285759 186969 46607 670535225116782685 663775025512891963\n",
      "0.9816138001372083 137624 182951 348780261674835098 348780270264734874\n",
      "0.9997421281245976 141115 2379 303451252470113322 303451802225927210\n",
      "0.9895687368131507 144845 120176 1079728719320459003 1079728719320458971\n",
      "0.9507483748320467 33553 14386 439458398258067056 439951529223124592\n",
      "0.9912479967370376 121325 184628 942557649479824385 938053981132979201\n",
      "0.9970759128523276 33275 60422 811116317593461496 811081133221372656\n",
      "0.9360403864990824 48627 38800 1058222997528550129 1130140399538837745\n",
      "0.9444914868640769 84317 122054 1093882084183592685 1126601351135780557\n",
      "0.9845341125320208 112360 31464 696399490501762077 696399593580975129\n",
      "0.9957581046035177 197482 108356 327620645422065803 922095796230776971\n",
      "0.990347155496862 121511 121515 1129584033673905498 1129584033673643483\n",
      "0.9979887681603784 146891 167411 555163203412597322 555163065973643850\n",
      "0.9811541232835851 150213 117989 749598826677595310 749599101555506350\n",
      "0.9916930509144297 158909 111115 567019047379966554 567019047916837466\n",
      "0.9909498301424586 18090 40541 679473622175462180 679473622176510756\n",
      "0.972534113371679 85614 36915 948064351214634110 952636395440833662\n",
      "0.991508879844223 155785 24209 916660934819881115 916660934819872923\n",
      "0.9955233527922692 171486 174451 1135219160092678328 1117204761583065144\n",
      "0.9963537295574691 165234 129336 729751367370205428 729751367370197236\n",
      "0.7398606643238483 62062 115148 969700008230111102 969770412509599342\n",
      "0.9979405472902242 134791 3302 879065504958313532 953374898809795708\n",
      "0.987191420307157 191379 112438 274140374047621135 274122816204537871\n",
      "0.9981590295733002 27828 75337 906254224139580136 906254223065871080\n",
      "0.8402651855332484 118394 94323 366965765173081593 990701385174144636\n",
      "0.7662780686794546 185662 154538 342230910062956586 841430550290007098\n",
      "0.9989063506575954 18683 168497 713711253084933854 713711253084901086\n",
      "0.9985639357322422 173768 190358 572196358239456047 572196341059586863\n",
      "0.9950131136368906 141708 88864 1035602368142540922 1035320875985961082\n",
      "0.969485795500634 143758 24123 321541037483627585 357708372430820416\n",
      "0.9994681966592682 153412 166446 341577272096850338 414198090951426342\n",
      "0.9995513305012125 68655 145108 796980684456232987 797121421927811099\n",
      "0.9407850898123294 99063 94434 675074762881063803 657063662906444393\n",
      "0.9851792745044333 193924 45833 294336780663750662 375964799861489798\n",
      "0.9366838581398322 168432 95898 671366181429725058 72390988698765204\n",
      "0.957565361443896 24727 74920 1098195324951002025 1098759305562881953\n",
      "0.9993998646910011 22972 81255 1059419845757923468 915304657682067596\n",
      "0.9988138814127202 19054 96398 832107935019658917 832107935019691685\n",
      "0.9869668613363567 16098 24570 373769385654606301 85539009502877917\n"
     ]
    }
   ],
   "source": [
    "closest = {}\n",
    "idx = df.sample(n=300).index\n",
    "for h, df in dfs.items():\n",
    "    cos_scores_cl_closest = []\n",
    "    for i in tqdm(idx):\n",
    "        spec_i = df['MMS Spectrum'][i]\n",
    "        diff_idx = df[df['LSH'] != df['LSH'][i]].copy()\n",
    "        diff_idx['Cos to spec i'] = diff_idx['MMS Spectrum'].apply(\n",
    "            lambda spec: float(cos_dist.pair(spec, spec_i)['score'])\n",
    "        )\n",
    "        j = diff_idx['Cos to spec i'].idxmax()\n",
    "        print(diff_idx['Cos to spec i'][j], i, j, df['LSH'][i], df['LSH'][j])\n",
    "        cos_scores_cl_closest.append((i, j, diff_idx['Cos to spec i'][j]))\n",
    "    closest[h] = cos_scores_cl_closest"
   ]
  },
  {
   "cell_type": "code",
   "execution_count": 48,
   "metadata": {
    "collapsed": false
   },
   "outputs": [
    {
     "data": {
      "text/plain": [
       "<AxesSubplot: ylabel='Count'>"
      ]
     },
     "execution_count": 48,
     "metadata": {},
     "output_type": "execute_result"
    },
    {
     "data": {
      "image/png": "[encoded data removed]",
      "text/plain": [
       "<Figure size 500x400 with 1 Axes>"
      ]
     },
     "metadata": {},
     "output_type": "display_data"
    }
   ],
   "source": [
    "sns.histplot([c[2] for c in closest[20]], binwidth=0.01)"
   ]
  },
  {
   "cell_type": "code",
   "execution_count": 49,
   "metadata": {
    "collapsed": false
   },
   "outputs": [
    {
     "data": {
      "text/plain": [
       "<AxesSubplot: ylabel='Count'>"
      ]
     },
     "execution_count": 49,
     "metadata": {},
     "output_type": "execute_result"
    },
    {
     "data": {
      "image/png": "[encoded data removed]",
      "text/plain": [
       "<Figure size 500x400 with 1 Axes>"
      ]
     },
     "metadata": {},
     "output_type": "display_data"
    }
   ],
   "source": [
    "sns.histplot([c[2] for c in closest[60]], binwidth=0.01)"
   ]
  },
  {
   "cell_type": "code",
   "execution_count": 62,
   "metadata": {
    "collapsed": false
   },
   "outputs": [
    {
     "name": "stdout",
     "output_type": "stream",
     "text": [
      "clashes 20: 0.812 ± 0.202\n",
      "different 20: 0.050 ± 0.056\n",
      "closest 20: 0.956 ± 0.046\n",
      "clashes 60: 0.982 ± 0.019\n",
      "different 60: 0.050 ± 0.055\n",
      "closest 60: 0.960 ± 0.043\n"
     ]
    }
   ],
   "source": [
    "from numpy import mean, absolute\n",
    "def mean_mad(a):\n",
    "    a = np.array(a)\n",
    "    m = mean(a)\n",
    "    return m, mean(absolute(a - m))\n",
    "\n",
    "for h in dfs.keys():\n",
    "    for name, s in [('clashes', clashes[h]), ('different', different[h]), ('closest', [c[2] for c in closest[h]])]:\n",
    "        m, mad = mean_mad(s)\n",
    "        print(f'{name} {h}: {m:.3f} ± {mad:.3f}')"
   ]
  },
  {
   "cell_type": "markdown",
   "metadata": {
    "collapsed": false
   },
   "source": [
    "Often spectra similar by cosine distance share high peak but differ in noise. It can be beneficial for the pre-training, so the goal of LSH should be only to remove duplicates or nearly duplicates."
   ]
  },
  {
   "cell_type": "code",
   "execution_count": 100,
   "metadata": {
    "collapsed": false
   },
   "outputs": [
    {
     "name": "stdout",
     "output_type": "stream",
     "text": [
      "0.9988947044215256\n",
      "[[113.96357727  72.93731689 131.97410583  90.94762421  71.95210266\n",
      "  108.95816803 154.99009705 156.04191589 114.9654541  132.97485352]\n",
      " [  1.           0.63362515   0.42396951   0.20862103   0.04981573\n",
      "    0.03252618   0.0234778    0.01478619   0.01267941   0.00892288]]\n",
      "[504917]\n"
     ]
    },
    {
     "data": {
      "image/png": "[encoded data removed]",
      "text/plain": [
       "<Figure size 600x400 with 1 Axes>"
      ]
     },
     "metadata": {},
     "output_type": "display_data"
    },
    {
     "name": "stdout",
     "output_type": "stream",
     "text": [
      "[[113.96360779  72.93734741 131.97415161  90.94763947 154.99057007\n",
      "  108.95805359 148.97694397  71.92964172 126.06638336 114.96550751]\n",
      " [  1.           0.60484493   0.40201035   0.1971608    0.02892492\n",
      "    0.02789966   0.02106957   0.01401984   0.01303352   0.00904361]]\n",
      "[504916]\n"
     ]
    },
    {
     "data": {
      "image/png": "[encoded data removed]",
      "text/plain": [
       "<Figure size 600x400 with 1 Axes>"
      ]
     },
     "metadata": {},
     "output_type": "display_data"
    }
   ],
   "source": [
    "# i, j = 118930, 174524\n",
    "# i, j = 122200, 176658\n",
    "i, j = 33823, 107970\n",
    "print(float(cos_dist.pair(df['MMS Spectrum'][i], df['MMS Spectrum'][j])['score']))\n",
    "for k in [i, j]:\n",
    "    # print(mona['PARSED PEAKS'][k])\n",
    "    print(su.get_highest_peaks(df['PARSED PEAKS'][k], 10).T)\n",
    "    print(lsh.compute(np.expand_dims(df['PARSED PEAKS'][k], axis=0)))\n",
    "    su.plot_peak_list(df['PARSED PEAKS'][k].T, plotly=False, xlim=(0, 1000))"
   ]
  },
  {
   "cell_type": "code",
   "execution_count": 222,
   "metadata": {
    "collapsed": false
   },
   "outputs": [
    {
     "data": {
      "text/plain": [
       "2"
      ]
     },
     "execution_count": 222,
     "metadata": {},
     "output_type": "execute_result"
    }
   ],
   "source": [
    "# lsh = PeakListRandomProjection(bin_step=0.5, max_mz=1000.)\n",
    "# lsh_i = lsh.compute(mona['PARSED PEAKS'][i], as_int=False)\n",
    "# lsh_j = lsh.compute(mona['PARSED PEAKS'][j], as_int=False)\n",
    "# (lsh_i != lsh_j).sum()"
   ]
  }
 ],
 "metadata": {
  "kernelspec": {
   "display_name": "Python 3",
   "language": "python",
   "name": "python3"
  },
  "language_info": {
   "codemirror_mode": {
    "name": "ipython",
    "version": 2
   },
   "file_extension": ".py",
   "mimetype": "text/x-python",
   "name": "python",
   "nbconvert_exporter": "python",
   "pygments_lexer": "ipython2",
   "version": "2.7.6"
  }
 },
 "nbformat": 4,
 "nbformat_minor": 0
}
