{
 "cells": [
  {
   "cell_type": "code",
   "execution_count": 1,
   "metadata": {},
   "outputs": [],
   "source": [
    "import random\n",
    "import numpy as np\n",
    "import seaborn as sns\n",
    "import matplotlib.pyplot as plt\n",
    "import pandas as pd\n",
    "import igraph\n",
    "import h5py\n",
    "from pathlib import Path\n",
    "from tqdm import tqdm\n",
    "tqdm.pandas()\n",
    "from rdkit import Chem\n",
    "from pandarallel import pandarallel\n",
    "import msml.utils.data as du\n",
    "import msml.utils.spectra as su\n",
    "import msml.utils.mols as mu\n",
    "import msml.utils.io as io\n",
    "import msml.utils.plots as plots\n",
    "from msml.definitions import *"
   ]
  },
  {
   "cell_type": "code",
   "execution_count": 2,
   "metadata": {},
   "outputs": [],
   "source": [
    "atlas_dir = Path('/storage/plzen1/home/romanb/DreaMS_Atlas')\n",
    "gems_dir = Path('/storage/plzen1/home/romanb/msvn_C/')"
   ]
  },
  {
   "cell_type": "code",
   "execution_count": 3,
   "metadata": {},
   "outputs": [
    {
     "name": "stdout",
     "output_type": "stream",
     "text": [
      "79300 75520646 75599946\n",
      "33631113 134524452 3\n"
     ]
    }
   ],
   "source": [
    "lib = du.MSData('/auto/brno2/home/romanb/msml/msml/data/merged/datasets/nist20_mona_clean_merged_spectra_dreams.hdf5')\n",
    "gems = du.MSData('/storage/plzen1/home/romanb/msvn_C/msvn_C_H1000_KK1.merged.hdf5')\n",
    "print(lib.num_spectra, gems.num_spectra, lib.num_spectra + gems.num_spectra)\n",
    "def get_item(i, val=PRECURSOR_MZ):\n",
    "    if i <= lib.num_spectra:\n",
    "        return lib.get_values(val, i)\n",
    "    else:\n",
    "        res = gems.get_values(val, i - lib.num_spectra)\n",
    "        if val == SPECTRUM:\n",
    "            res = res.T\n",
    "        return res\n",
    "\n",
    "knn = du.CSRKNN.from_npz(atlas_dir / 'DreaMS_Atlas_3NN_merged40079300_09_pruned.npz')\n",
    "print(knn.n_nodes, knn.n_edges, knn.k)\n",
    "\n",
    "df_clusters = pd.read_csv(atlas_dir / 'DreaMS_Atlas_3NN_merged40079300_09_pruned_clusters.csv')"
   ]
  },
  {
   "cell_type": "code",
   "execution_count": 4,
   "metadata": {},
   "outputs": [],
   "source": [
    "cluster_idx_1 = np.array(io.read_pickle(atlas_dir / 'DreaMS_Atlas_3NN_merged40079300_09_cluster_idx.pkl'))\n",
    "cluster_idx_2 = np.array(io.read_pickle(atlas_dir / 'DreaMS_Atlas_3NN_merged40079300_09_pruned_cluster_idx.pkl'))\n",
    "def encode_knn_i(i):\n",
    "    e1 = np.where(np.array(cluster_idx_1) == i)[0].item()\n",
    "    e2 = np.where(np.array(cluster_idx_2) == e1)[0].item()\n",
    "    return e2\n",
    "def decode_knn_i(i):\n",
    "    return cluster_idx_1[cluster_idx_2[i]]"
   ]
  },
  {
   "cell_type": "code",
   "execution_count": 6,
   "metadata": {},
   "outputs": [
    {
     "name": "stderr",
     "output_type": "stream",
     "text": [
      "Constructing graph edges: 100%|██████████| 33631113/33631113 [02:36<00:00, 214858.99it/s]\n"
     ]
    }
   ],
   "source": [
    "g = knn.to_igraph(directed=False)"
   ]
  },
  {
   "cell_type": "markdown",
   "metadata": {},
   "source": [
    "### Components"
   ]
  },
  {
   "cell_type": "code",
   "execution_count": 7,
   "metadata": {},
   "outputs": [
    {
     "name": "stdout",
     "output_type": "stream",
     "text": [
      "15733\n"
     ]
    },
    {
     "data": {
      "text/plain": [
       "[33531520, 136, 80, 71, 67, 65, 61, 60, 53, 49]"
      ]
     },
     "execution_count": 7,
     "metadata": {},
     "output_type": "execute_result"
    }
   ],
   "source": [
    "components = g.components()\n",
    "print(len(components))\n",
    "sorted([len(c) for c in components], reverse=True)[:10]"
   ]
  },
  {
   "cell_type": "code",
   "execution_count": 8,
   "metadata": {},
   "outputs": [],
   "source": [
    "component1 = components[0]"
   ]
  },
  {
   "cell_type": "markdown",
   "metadata": {},
   "source": [
    "### Paths to spectral libraries and random subset"
   ]
  },
  {
   "cell_type": "code",
   "execution_count": 9,
   "metadata": {},
   "outputs": [
    {
     "name": "stdout",
     "output_type": "stream",
     "text": [
      "INFO: Pandarallel will run on 8 workers.\n",
      "INFO: Pandarallel will use standard multiprocessing data transfer (pipe) to transfer data between the main process and workers.\n"
     ]
    },
    {
     "data": {
      "application/vnd.jupyter.widget-view+json": {
       "model_id": "70bab2e566604d799b324636cf1ad68a",
       "version_major": 2,
       "version_minor": 0
      },
      "text/plain": [
       "VBox(children=(HBox(children=(IntProgress(value=0, description='0.00%', max=9913), Label(value='0 / 9913'))), …"
      ]
     },
     "metadata": {},
     "output_type": "display_data"
    }
   ],
   "source": [
    "pandarallel.initialize(nb_workers=8, progress_bar=True, use_memory_fs=False)\n",
    "lib_nodes = set(df_clusters['clusters1_and_clusters2'].iloc[:lib.num_spectra].parallel_apply(encode_knn_i).unique())\n",
    "print(len(lib_nodes))\n",
    "lib_nodes = lib_nodes.intersection(set(component1))\n",
    "print(len(lib_nodes))\n",
    "rand_nodes = set(random.sample(range(g.vcount()), k=len(lib_nodes)))\n",
    "print(len(rand_nodes))"
   ]
  },
  {
   "cell_type": "code",
   "execution_count": null,
   "metadata": {},
   "outputs": [
    {
     "name": "stdout",
     "output_type": "stream",
     "text": [
      "3 34195\n"
     ]
    }
   ],
   "source": [
    "def bfs_to_nodes_subset(graph, start_vertex, subset):\n",
    "    visited = set()\n",
    "    queue = [(start_vertex, 0)]  # (vertex, distance)\n",
    "    \n",
    "    while queue:\n",
    "        vertex, distance = queue.pop(0)\n",
    "        visited.add(vertex.index)\n",
    "        \n",
    "        # if vertex.index < stop_index:\n",
    "        #     return distance\n",
    "        \n",
    "        if decode_knn_i(vertex.index) in subset:\n",
    "            return distance, vertex.index\n",
    "\n",
    "        for neighbor in vertex.neighbors():\n",
    "            if neighbor.index not in visited:\n",
    "                queue.append((neighbor, distance + 1))\n",
    "    \n",
    "    return -1, -1  # If the stop index is not found within the BFS traversal\n",
    "\n",
    "# Run BFS with stop condition\n",
    "start_vertex = g.vs[encode_knn_i(37542683)]\n",
    "res = bfs_to_nodes_subset(g, start_vertex, lib_nodes)\n",
    "print(res[0], decode_knn_i(res[1]))"
   ]
  },
  {
   "cell_type": "code",
   "execution_count": null,
   "metadata": {},
   "outputs": [],
   "source": [
    "# def shortest_path_len(i, j):\n",
    "#     return len(g.get_shortest_paths(v=i, to=j, mode='all', output='epath')[0])\n",
    "# shortest_path_len(encode_knn_i(37542683), encode_knn_i(34195))"
   ]
  },
  {
   "cell_type": "code",
   "execution_count": null,
   "metadata": {},
   "outputs": [
    {
     "name": "stderr",
     "output_type": "stream",
     "text": [
      "  0%|          | 0/10000 [00:00<?, ?it/s]"
     ]
    },
    {
     "name": "stderr",
     "output_type": "stream",
     "text": [
      "100%|██████████| 10000/10000 [56:52<00:00,  2.93it/s]  \n"
     ]
    }
   ],
   "source": [
    "k = 100_000\n",
    "lib_dists, rand_dists = [], []\n",
    "for i in tqdm(random.sample(component1, k=k)):\n",
    "    lib_dists.append(bfs_to_nodes_subset(g, g.vs[i], lib_nodes)[0])\n",
    "    rand_dists.append(bfs_to_nodes_subset(g, g.vs[i], rand_nodes)[0])"
   ]
  },
  {
   "cell_type": "code",
   "execution_count": null,
   "metadata": {},
   "outputs": [],
   "source": [
    "io.write_pickle(lib_dists, 'data/lib_dists.pkl')\n",
    "io.write_pickle(rand_dists, 'data/rand_dists.pkl')\n",
    "# lib_dists = io.read_pickle('data/lib_dists.pkl')\n",
    "# rand_dists = io.read_pickle('data/rand_dists.pkl')"
   ]
  },
  {
   "cell_type": "code",
   "execution_count": 15,
   "metadata": {},
   "outputs": [
    {
     "data": {
      "image/png": "[encoded data removed]",
      "text/plain": [
       "<Figure size 200x200 with 1 Axes>"
      ]
     },
     "metadata": {},
     "output_type": "display_data"
    }
   ],
   "source": [
    "plots.init_plotting(figsize=(2, 2))\n",
    "palette = [plots.get_nature_hex_colors()[i] for i in [1, 2]]\n",
    "df_res = pd.DataFrame({'Distance (num. edges)': lib_dists + rand_dists, 'Type': ['To MoNA or NIST20'] * len(lib_dists) + ['To random set of nodes'] * len(rand_dists)})\n",
    "# sns.histplot(data=df_res, x='Distance', hue='Type', discrete=True, binwidth=1, element=\"step\")\n",
    "sns.boxplot(data=df_res, y='Distance (num. edges)', hue='Type', x='Type', palette=palette, flierprops={'markersize': 3, 'markeredgewidth': 0.2})\n",
    "plt.yticks([0, 5, 6, 10, 15])\n",
    "plots.save_fig('atlas_paths_boxplots.svg', dir=atlas_dir)\n",
    "plt.show()\n",
    "# sns.despine(offset=5, trim=True)\n",
    "# plt.xticks(rotation=45)"
   ]
  },
  {
   "cell_type": "markdown",
   "metadata": {},
   "source": [
    "### Cluster sizes"
   ]
  },
  {
   "cell_type": "code",
   "execution_count": 5,
   "metadata": {},
   "outputs": [
    {
     "data": {
      "text/plain": [
       "(201223336,)"
      ]
     },
     "execution_count": 5,
     "metadata": {},
     "output_type": "execute_result"
    }
   ],
   "source": [
    "f_c = h5py.File(gems_dir / 'msvn_C_H1000.hdf5', 'r')\n",
    "lshs_c = f_c['lsh'][:]\n",
    "lshs_c.shape"
   ]
  },
  {
   "cell_type": "code",
   "execution_count": 6,
   "metadata": {},
   "outputs": [],
   "source": [
    "lshs_c = pd.Series(lshs_c)\n",
    "lshs_c_vc = lshs_c.value_counts()\n",
    "lshs_c_vc = lshs_c_vc.rename('Cluster size')"
   ]
  },
  {
   "cell_type": "code",
   "execution_count": 7,
   "metadata": {},
   "outputs": [],
   "source": [
    "df_clusters_vc = df_clusters['clusters1_and_clusters2'].value_counts()\n",
    "df_clusters_vc = df_clusters_vc.rename('Cluster size')"
   ]
  },
  {
   "cell_type": "code",
   "execution_count": 9,
   "metadata": {},
   "outputs": [
    {
     "data": {
      "text/plain": [
       "75520646"
      ]
     },
     "execution_count": 9,
     "metadata": {},
     "output_type": "execute_result"
    }
   ],
   "source": [
    "df_clusters_gems = df_clusters.iloc[lib.num_spectra:]\n",
    "len(df_clusters_gems)"
   ]
  },
  {
   "cell_type": "code",
   "execution_count": 10,
   "metadata": {},
   "outputs": [
    {
     "name": "stdout",
     "output_type": "stream",
     "text": [
      "INFO: Pandarallel will run on 8 workers.\n",
      "INFO: Pandarallel will use standard multiprocessing data transfer (pipe) to transfer data between the main process and workers.\n"
     ]
    },
    {
     "name": "stderr",
     "output_type": "stream",
     "text": [
      "/tmp/ipykernel_695624/863667647.py:2: SettingWithCopyWarning: \n",
      "A value is trying to be set on a copy of a slice from a DataFrame.\n",
      "Try using .loc[row_indexer,col_indexer] = value instead\n",
      "\n",
      "See the caveats in the documentation: https://pandas.pydata.org/pandas-docs/stable/user_guide/indexing.html#returning-a-view-versus-a-copy\n",
      "  df_clusters_gems['lsh'] =  gems.get_values('lsh')[:]\n"
     ]
    },
    {
     "data": {
      "application/vnd.jupyter.widget-view+json": {
       "model_id": "b5d53f3f67164ab186958c039f6e0b09",
       "version_major": 2,
       "version_minor": 0
      },
      "text/plain": [
       "VBox(children=(HBox(children=(IntProgress(value=0, description='0.00%', max=9440081), Label(value='0 / 9440081…"
      ]
     },
     "metadata": {},
     "output_type": "display_data"
    },
    {
     "name": "stderr",
     "output_type": "stream",
     "text": [
      "/tmp/ipykernel_695624/863667647.py:3: SettingWithCopyWarning: \n",
      "A value is trying to be set on a copy of a slice from a DataFrame.\n",
      "Try using .loc[row_indexer,col_indexer] = value instead\n",
      "\n",
      "See the caveats in the documentation: https://pandas.pydata.org/pandas-docs/stable/user_guide/indexing.html#returning-a-view-versus-a-copy\n",
      "  df_clusters_gems['lsh_cluster_size'] = df_clusters_gems['lsh'].parallel_apply(lambda l: lshs_c_vc.loc[l])\n"
     ]
    }
   ],
   "source": [
    "pandarallel.initialize(nb_workers=8, progress_bar=True, use_memory_fs=False)\n",
    "df_clusters_gems['lsh'] =  gems.get_values('lsh')[:]\n",
    "df_clusters_gems['lsh_cluster_size'] = df_clusters_gems['lsh'].parallel_apply(lambda l: lshs_c_vc.loc[l])"
   ]
  },
  {
   "cell_type": "code",
   "execution_count": 11,
   "metadata": {},
   "outputs": [
    {
     "data": {
      "text/plain": [
       "clusters1_and_clusters2\n",
       "801           1\n",
       "846          64\n",
       "882           1\n",
       "920         126\n",
       "1010          1\n",
       "           ... \n",
       "75599926      1\n",
       "75599931     11\n",
       "75599936      1\n",
       "75599939      1\n",
       "75599940      1\n",
       "Name: lsh_cluster_size, Length: 33564399, dtype: int64"
      ]
     },
     "execution_count": 11,
     "metadata": {},
     "output_type": "execute_result"
    }
   ],
   "source": [
    "df_gems_lsh_gb = df_clusters_gems.groupby(by='clusters1_and_clusters2')['lsh_cluster_size'].sum()\n",
    "df_gems_lsh_gb"
   ]
  },
  {
   "cell_type": "code",
   "execution_count": 20,
   "metadata": {},
   "outputs": [
    {
     "name": "stderr",
     "output_type": "stream",
     "text": [
      "No artists with labels found to put in legend.  Note that artists whose label start with an underscore are ignored when legend() is called with no argument.\n"
     ]
    },
    {
     "data": {
      "image/png": "[encoded data removed]",
      "text/plain": [
       "<Figure size 200x200 with 1 Axes>"
      ]
     },
     "metadata": {},
     "output_type": "display_data"
    }
   ],
   "source": [
    "plots.init_plotting(figsize=(2, 2))\n",
    "df_res = pd.DataFrame({'Cluster size': df_gems_lsh_gb.tolist() + df_clusters_vc.tolist(), 'Type': ['LSH + k-NN clusters'] * len(df_gems_lsh_gb) + ['k-NN clusters'] * len(df_clusters_vc)})\n",
    "sns.histplot(data=df_res, x='Cluster size', hue='Type', log_scale=True, discrete=True, element='step', alpha=0.2, palette=palette, linewidth=1.5)\n",
    "plt.yscale('log')\n",
    "plt.legend(loc='upper center', bbox_to_anchor=(0.5, -0.05))\n",
    "plt.show()"
   ]
  },
  {
   "cell_type": "markdown",
   "metadata": {},
   "source": [
    "### Edge weights distribution"
   ]
  },
  {
   "cell_type": "code",
   "execution_count": 5,
   "metadata": {},
   "outputs": [
    {
     "data": {
      "text/plain": [
       "<Axes: ylabel='Count'>"
      ]
     },
     "execution_count": 5,
     "metadata": {},
     "output_type": "execute_result"
    },
    {
     "data": {
      "image/png": "[encoded data removed]",
      "text/plain": [
       "<Figure size 200x200 with 1 Axes>"
      ]
     },
     "metadata": {},
     "output_type": "display_data"
    }
   ],
   "source": [
    "plots.init_plotting(figsize=(2, 2))\n",
    "w_clustered = knn.csr.data[knn.csr.data > 0]\n",
    "sns.histplot(w_clustered)"
   ]
  },
  {
   "cell_type": "code",
   "execution_count": 7,
   "metadata": {},
   "outputs": [
    {
     "name": "stdout",
     "output_type": "stream",
     "text": [
      "0.75 0.8433984351130837\n",
      "0.8 0.6811189956440935\n",
      "0.89 0.08187227325596932\n",
      "0.9 0.004390899963184647\n"
     ]
    }
   ],
   "source": [
    "for t in [0.75, 0.8, 0.89, 0.9]:\n",
    "    print(t, (knn.csr.data > t).sum() / (knn.csr.data > 0).sum())"
   ]
  },
  {
   "cell_type": "code",
   "execution_count": 6,
   "metadata": {},
   "outputs": [],
   "source": [
    "knn_full1 = du.CSRKNN.from_npz(atlas_dir / 'DreaMS_Atlas_3NN_before40000000.npz')\n",
    "knn_full2 = du.CSRKNN.from_npz(atlas_dir / 'DreaMS_Atlas_3NN_after40000000.npz')\n",
    "w_full = np.concatenate([knn_full1.csr.data[knn_full1.csr.data > 0], knn_full2.csr.data[knn_full2.csr.data > 0]])"
   ]
  },
  {
   "cell_type": "code",
   "execution_count": null,
   "metadata": {},
   "outputs": [],
   "source": [
    "# df_res = pd.DataFrame({'DreaMS similarity': np.concatenate([w_full, w_clustered], 'Type': ['Before clustering'])})\n",
    "sns.histplot(w_full, color=palette[0], label='Before k-NN clustering')\n",
    "sns.histplot(w_clustered, color=palette[2], label='After k-NN clustering')\n",
    "plt.show()"
   ]
  }
 ],
 "metadata": {
  "kernelspec": {
   "display_name": "msml311",
   "language": "python",
   "name": "python3"
  },
  "language_info": {
   "codemirror_mode": {
    "name": "ipython",
    "version": 3
   },
   "file_extension": ".py",
   "mimetype": "text/x-python",
   "name": "python",
   "nbconvert_exporter": "python",
   "pygments_lexer": "ipython3",
   "version": "3.11.8"
  }
 },
 "nbformat": 4,
 "nbformat_minor": 2
}
