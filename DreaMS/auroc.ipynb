{
 "cells": [
  {
   "cell_type": "code",
   "execution_count": 1,
   "id": "02ca09fe",
   "metadata": {},
   "outputs": [
    {
     "name": "stderr",
     "output_type": "stream",
     "text": [
      "/data/xp/Anaconda/envs/py312/lib/python3.12/site-packages/tqdm/auto.py:21: TqdmWarning: IProgress not found. Please update jupyter and ipywidgets. See https://ipywidgets.readthedocs.io/en/stable/user_install.html\n",
      "  from .autonotebook import tqdm as notebook_tqdm\n"
     ]
    }
   ],
   "source": [
    "import sys\n",
    "sys.path.append(\"../\")\n",
    "from pathlib import Path\n",
    "\n",
    "import numpy as np\n",
    "from sklearn.metrics import roc_curve, auc\n",
    "\n",
    "from const import gnps\n",
    "from utils import embedding, cosine_similarity, get_smiles\n",
    "\n",
    "ROC_DIR = Path(\"/data1/xp/code/specEmbedding/ROC\")\n",
    "ROC_DIR.mkdir(exist_ok=True, parents=True)"
   ]
  },
  {
   "cell_type": "code",
   "execution_count": 2,
   "id": "a2e2af72",
   "metadata": {},
   "outputs": [],
   "source": [
    "spectra_paths = {\n",
    "    \"gnps\":{\n",
    "        \"orbitrap\": {\n",
    "            \"train\": (gnps.ORBITRAP_TRAIN_QUERY, gnps.ORBITRAP_TEST_REF),\n",
    "            \"test\": (gnps.ORBITRAP_TEST_QUERY, gnps.ORBITRAP_TEST_REF)\n",
    "        },\n",
    "        \"qtof\": {\n",
    "            \"test\": (gnps.QTOF_TEST_QUERY, gnps.QTOF_TEST_REF)\n",
    "        },\n",
    "        \"other\": {\n",
    "            \"test\": (gnps.OTHER_TEST_QUERY, gnps.OTHER_TEST_REF)\n",
    "        }\n",
    "    }\n",
    "}"
   ]
  },
  {
   "cell_type": "code",
   "execution_count": 3,
   "id": "28e96c8e",
   "metadata": {},
   "outputs": [],
   "source": [
    "show_progress_bar = True\n",
    "replica_suffix = \"-replication-{}\"\n",
    "k_metric = [5, 1, 10]\n",
    "batch_size = None"
   ]
  },
  {
   "cell_type": "code",
   "execution_count": 4,
   "id": "ad6f86ac",
   "metadata": {},
   "outputs": [
    {
     "name": "stdout",
     "output_type": "stream",
     "text": [
      "---------------------------------------- gnps-orbitrap-train ----------------------------------------\n"
     ]
    },
    {
     "name": "stderr",
     "output_type": "stream",
     "text": [
      "Computing DreaMS embedding: 100%|██████████| 122979/122979 [02:05<00:00, 983.01it/s] \n",
      "Computing DreaMS embedding: 100%|██████████| 32436/32436 [00:32<00:00, 983.30it/s] \n",
      "Computing DreaMS embedding: 100%|██████████| 6851/6851 [00:06<00:00, 984.51it/s] \n"
     ]
    },
    {
     "name": "stdout",
     "output_type": "stream",
     "text": [
      "0.8381234949385583\n",
      "---------------------------------------- gnps-orbitrap-test ----------------------------------------\n"
     ]
    },
    {
     "name": "stderr",
     "output_type": "stream",
     "text": [
      "Computing DreaMS embedding: 100%|██████████| 122979/122979 [02:03<00:00, 994.78it/s] \n",
      "Computing DreaMS embedding: 100%|██████████| 32436/32436 [00:32<00:00, 988.05it/s] \n",
      "Computing DreaMS embedding: 100%|██████████| 1686/1686 [00:01<00:00, 932.10it/s]\n"
     ]
    },
    {
     "name": "stdout",
     "output_type": "stream",
     "text": [
      "0.8394401668693443\n",
      "---------------------------------------- gnps-qtof-test ----------------------------------------\n"
     ]
    },
    {
     "name": "stderr",
     "output_type": "stream",
     "text": [
      "Computing DreaMS embedding: 100%|██████████| 37040/37040 [00:37<00:00, 998.58it/s] \n",
      "Computing DreaMS embedding: 100%|██████████| 7520/7520 [00:07<00:00, 987.11it/s] \n"
     ]
    },
    {
     "name": "stdout",
     "output_type": "stream",
     "text": [
      "0.9770307677765868\n",
      "---------------------------------------- gnps-other-test ----------------------------------------\n"
     ]
    },
    {
     "name": "stderr",
     "output_type": "stream",
     "text": [
      "Computing DreaMS embedding: 100%|██████████| 44241/44241 [00:44<00:00, 997.35it/s] \n",
      "Computing DreaMS embedding: 100%|██████████| 6451/6451 [00:06<00:00, 986.71it/s] \n"
     ]
    },
    {
     "name": "stdout",
     "output_type": "stream",
     "text": [
      "0.9466458857016649\n"
     ]
    }
   ],
   "source": [
    "for db, db_metadata in spectra_paths.items():\n",
    "    for desc, path_metadata in db_metadata.items():\n",
    "        for info, paths in path_metadata.items():\n",
    "            print(\"-\" * 40, f\"{db}-{desc}-{info}\", \"-\" * 40)\n",
    "            query_path, ref_path = paths\n",
    "            if db == \"gnps\" and desc == \"orbitrap\":                \n",
    "                train_ref_spectra, train_ref_embedding = embedding(\n",
    "                    str(gnps.ORBITRAP_TRAIN_REF.with_suffix(\".mgf\")),\n",
    "                    show_progress_bar\n",
    "                )\n",
    "                ref_spectra, ref_embedding = embedding(\n",
    "                    str(ref_path.with_suffix(\".mgf\")),\n",
    "                    show_progress_bar\n",
    "                )\n",
    "                query_spectra, query_embedding = embedding(\n",
    "                    str(query_path.with_suffix(\".mgf\")),\n",
    "                    show_progress_bar\n",
    "                )\n",
    "                ref_spectra = np.hstack((train_ref_spectra, ref_spectra))\n",
    "                ref_embedding = np.concatenate((train_ref_embedding, ref_embedding))\n",
    "\n",
    "            else:\n",
    "                ref_spectra, ref_embedding = embedding(\n",
    "                    str(ref_path.with_suffix(\".mgf\")),\n",
    "                    show_progress_bar,\n",
    "                )\n",
    "                query_spectra, query_embedding = embedding(\n",
    "                    str(query_path.with_suffix(\".mgf\")),\n",
    "                    show_progress_bar\n",
    "                )\n",
    "            \n",
    "            ref_smiles = get_smiles(ref_spectra)\n",
    "            query_smiles = get_smiles(query_spectra)\n",
    "            cosine_score = cosine_similarity(query_embedding, ref_embedding)\n",
    "            mask = np.equal(query_smiles.reshape(-1, 1), ref_smiles.reshape(-1, 1).T)\n",
    "            dir_ = ROC_DIR / f\"{db}-{desc}-{info}\"\n",
    "            dir_.mkdir(parents=True, exist_ok=True)\n",
    "            indices = np.load(dir_ / \"random_indices.npy\", allow_pickle=True).item()\n",
    "            random_rows = indices[\"row\"]\n",
    "            random_cols = indices[\"col\"]\n",
    "            fpr, tpr, _ = roc_curve(mask[random_rows, random_cols], cosine_score[random_rows, random_cols])\n",
    "            print(auc(fpr, tpr))\n",
    "            np.save(dir_ / \"DreaMS.npy\", {\"fpr\": fpr, \"tpr\": tpr})"
   ]
  }
 ],
 "metadata": {
  "kernelspec": {
   "display_name": "py312",
   "language": "python",
   "name": "python3"
  },
  "language_info": {
   "codemirror_mode": {
    "name": "ipython",
    "version": 3
   },
   "file_extension": ".py",
   "mimetype": "text/x-python",
   "name": "python",
   "nbconvert_exporter": "python",
   "pygments_lexer": "ipython3",
   "version": "3.12.9"
  }
 },
 "nbformat": 4,
 "nbformat_minor": 5
}
