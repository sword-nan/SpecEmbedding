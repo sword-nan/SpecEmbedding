{
 "cells": [
  {
   "cell_type": "markdown",
   "metadata": {},
   "source": [
    "# Murcko histogram split"
   ]
  },
  {
   "cell_type": "markdown",
   "metadata": {},
   "source": [
    "## Introduction\n",
    "\n",
    "Murcko histograms are a new coarse-grained descriptor of molecules that generalizes the concept of Murcko scaffolds. In the DreaMS project, we utilize them to create non-leaking train-validation splits for MS/MS datasets such as MoNA and NIST20. This tutorial demonstrates how to construct a Murcko histogram split for a new dataset, using the [MassSpecGym dataset](https://huggingface.co/datasets/roman-bushuiev/MassSpecGym) as an example.\n",
    "\n",
    "Let's look at the example of a Murcko histogram for the luciferine molecule."
   ]
  },
  {
   "cell_type": "code",
   "execution_count": 24,
   "metadata": {},
   "outputs": [],
   "source": [
    "# Load the necessary libraries\n",
    "from rdkit import Chem\n",
    "import seaborn as sns\n",
    "import matplotlib.pyplot as plt\n",
    "from tqdm import tqdm\n",
    "from dreams.algorithms.murcko_hist import murcko_hist, are_sub_hists\n",
    "from dreams.utils.data import MSData, evaluate_split\n",
    "from dreams.utils.plots import init_plotting\n",
    "from dreams.definitions import *\n",
    "tqdm.pandas()\n",
    "%load_ext autoreload\n",
    "%autoreload 2"
   ]
  },
  {
   "cell_type": "code",
   "execution_count": 2,
   "metadata": {},
   "outputs": [
    {
     "name": "stdout",
     "output_type": "stream",
     "text": [
      "Original molecule:\n"
     ]
    },
    {
     "data": {
      "image/png": "[encoded data removed]",
      "text/plain": [
       "<rdkit.Chem.rdchem.Mol at 0x2b60fae30>"
      ]
     },
     "metadata": {},
     "output_type": "display_data"
    },
    {
     "name": "stdout",
     "output_type": "stream",
     "text": [
      "Murcko scaffold:\n"
     ]
    },
    {
     "data": {
      "image/png": "[encoded data removed]",
      "text/plain": [
       "<rdkit.Chem.rdchem.Mol at 0x2b60fb300>"
      ]
     },
     "metadata": {},
     "output_type": "display_data"
    },
    {
     "name": "stdout",
     "output_type": "stream",
     "text": [
      "Murcko histogram: {'0_1': 1, '1_0': 1, '1_1': 1}\n"
     ]
    }
   ],
   "source": [
    "hist = murcko_hist(Chem.MolFromSmiles('O=C(O)[C@@H]1/N=C(\\SC1)c2sc3cc(O)ccc3n2'), show_mol_scaffold=True)\n",
    "print('Murcko histogram:', hist)"
   ]
  },
  {
   "cell_type": "markdown",
   "metadata": {},
   "source": [
    "The resulting Murcko histogram is a dictionary where the number of elements corresponds to the number of rings in the molecule's Murcko scaffold. Each key in the dictionary contains two values separated by an underscore: the first value represents the number of neighboring rings, and the second value represents the number of neighboring scaffold linkers. The corresponding values in the dictionary represent the counts of each ring type in the molecule's Murcko scaffold.\n",
    "\n",
    "Let's now create a training-validation split of the [MassSpecGym](https://huggingface.co/datasets/roman-bushuiev/MassSpecGym) dataset based on the Murcko histograms."
   ]
  },
  {
   "cell_type": "markdown",
   "metadata": {},
   "source": [
    "## Load the MassSpecGym dataset"
   ]
  },
  {
   "cell_type": "code",
   "execution_count": 3,
   "metadata": {},
   "outputs": [],
   "source": [
    "msdata = MSData.from_mgf('../data/MassSpecGym.mgf', prec_mz_col='PRECURSOR_MZ', mol_col='SMILES', adduct_col='ADDUCT', in_mem=False, mode='a')\n",
    "df = msdata.to_pandas()\n",
    "df_us = df.drop_duplicates(subset=[SMILES]).copy()  # Uniquify SMILES"
   ]
  },
  {
   "cell_type": "code",
   "execution_count": 4,
   "metadata": {},
   "outputs": [
    {
     "data": {
      "text/plain": [
       "['COLLISION_ENERGY',\n",
       " 'FOLD',\n",
       " 'FORMULA',\n",
       " 'IDENTIFIER',\n",
       " 'INCHIKEY',\n",
       " 'INSTRUMENT_TYPE',\n",
       " 'PARENT_MASS',\n",
       " 'PRECURSOR_FORMULA',\n",
       " 'SIMULATION_CHALLENGE',\n",
       " 'adduct',\n",
       " 'precursor_mz',\n",
       " 'smiles',\n",
       " 'spectrum']"
      ]
     },
     "execution_count": 4,
     "metadata": {},
     "output_type": "execute_result"
    }
   ],
   "source": [
    "msdata.columns()"
   ]
  },
  {
   "cell_type": "markdown",
   "metadata": {},
   "source": [
    "## 1. Compute Murcko histograms"
   ]
  },
  {
   "cell_type": "code",
   "execution_count": 6,
   "metadata": {},
   "outputs": [
    {
     "name": "stderr",
     "output_type": "stream",
     "text": [
      "100%|██████████| 31602/31602 [01:46<00:00, 296.20it/s] \n"
     ]
    }
   ],
   "source": [
    "# Compute Murcko histograms\n",
    "df_us['MurckoHist'] = df_us[SMILES].progress_apply(\n",
    "    lambda x: murcko_hist(Chem.MolFromSmiles(x))\n",
    ")\n",
    "\n",
    "# Convert dictionaries to strings for easier handling\n",
    "df_us['MurckoHistStr'] = df_us['MurckoHist'].astype(str)"
   ]
  },
  {
   "cell_type": "code",
   "execution_count": 7,
   "metadata": {},
   "outputs": [
    {
     "name": "stdout",
     "output_type": "stream",
     "text": [
      "Num. unique SMILES: 31602 Num. unique Murcko histograms: 515\n",
      "Top 20 most common Murcko histograms:\n"
     ]
    },
    {
     "data": {
      "text/plain": [
       "MurckoHistStr\n",
       "{'0_1': 1, '1_0': 1, '1_1': 1}              3964\n",
       "{'0_1': 2}                                  3457\n",
       "{'0_0': 1}                                  3054\n",
       "{}                                          3027\n",
       "{'0_1': 2, '0_2': 1}                        2308\n",
       "{'1_0': 2}                                  1753\n",
       "{'0_1': 1, '0_2': 1, '1_0': 1, '1_1': 1}    1202\n",
       "{'1_0': 2, '2_0': 2}                        1199\n",
       "{'1_0': 2, '2_0': 1}                        1187\n",
       "{'0_1': 2, '1_1': 2}                         845\n",
       "{'0_1': 2, '1_0': 1, '1_2': 1}               672\n",
       "{'0_1': 2, '0_2': 2}                         641\n",
       "{'0_1': 1, '1_0': 1, '1_1': 1, '2_0': 1}     626\n",
       "{'1_0': 2, '1_1': 2}                         563\n",
       "{'0_1': 3}                                   450\n",
       "{'0_1': 2, '0_2': 1, '1_1': 2}               332\n",
       "{'1_0': 2, '2_0': 3}                         325\n",
       "{'0_1': 1, '1_0': 1, '1_1': 1, '2_0': 2}     294\n",
       "{'0_1': 1, '1_0': 2, '2_1': 1}               276\n",
       "{'0_1': 2, '1_0': 1, '1_1': 1}               251\n",
       "Name: count, dtype: int64"
      ]
     },
     "execution_count": 7,
     "metadata": {},
     "output_type": "execute_result"
    }
   ],
   "source": [
    "print('Num. unique SMILES:', df[SMILES].nunique(), 'Num. unique Murcko histograms:', df_us['MurckoHistStr'].nunique())\n",
    "print('Top 20 most common Murcko histograms:')\n",
    "df_us['MurckoHistStr'].value_counts()[:20]"
   ]
  },
  {
   "cell_type": "code",
   "execution_count": 8,
   "metadata": {},
   "outputs": [
    {
     "data": {
      "text/html": [
       "<div>\n",
       "<style scoped>\n",
       "    .dataframe tbody tr th:only-of-type {\n",
       "        vertical-align: middle;\n",
       "    }\n",
       "\n",
       "    .dataframe tbody tr th {\n",
       "        vertical-align: top;\n",
       "    }\n",
       "\n",
       "    .dataframe thead th {\n",
       "        text-align: right;\n",
       "    }\n",
       "</style>\n",
       "<table border=\"1\" class=\"dataframe\">\n",
       "  <thead>\n",
       "    <tr style=\"text-align: right;\">\n",
       "      <th></th>\n",
       "      <th>MurckoHistStr</th>\n",
       "      <th>count</th>\n",
       "      <th>smiles_list</th>\n",
       "      <th>MurckoHist</th>\n",
       "    </tr>\n",
       "  </thead>\n",
       "  <tbody>\n",
       "    <tr>\n",
       "      <th>0</th>\n",
       "      <td>{'0_1': 1, '1_0': 1, '1_1': 1}</td>\n",
       "      <td>3964</td>\n",
       "      <td>[C1=CC=C(C=C1)C2=C(C(=O)NC3=CC=CC=C32)O, CN1C(...</td>\n",
       "      <td>{'0_1': 1, '1_0': 1, '1_1': 1}</td>\n",
       "    </tr>\n",
       "    <tr>\n",
       "      <th>1</th>\n",
       "      <td>{'0_1': 2}</td>\n",
       "      <td>3457</td>\n",
       "      <td>[CC(=O)N[C@@H](CC1=CC=CC=C1)C2=CC(=CC(=O)O2)OC...</td>\n",
       "      <td>{'0_1': 2}</td>\n",
       "    </tr>\n",
       "    <tr>\n",
       "      <th>2</th>\n",
       "      <td>{'0_0': 1}</td>\n",
       "      <td>3054</td>\n",
       "      <td>[C[C@@H]1C[C@H]2[C@H](O2)/C=C\\C(=O)CC(=O)O1, C...</td>\n",
       "      <td>{'0_0': 1}</td>\n",
       "    </tr>\n",
       "    <tr>\n",
       "      <th>3</th>\n",
       "      <td>{}</td>\n",
       "      <td>3027</td>\n",
       "      <td>[CCCC[C@@H](C)[C@H]([C@H](C[C@@H](C)C[C@@H](CC...</td>\n",
       "      <td>{}</td>\n",
       "    </tr>\n",
       "    <tr>\n",
       "      <th>4</th>\n",
       "      <td>{'0_1': 2, '0_2': 1}</td>\n",
       "      <td>2308</td>\n",
       "      <td>[CC(C)C1C(=O)NC(C(=O)NC(C(=O)NC(C(=O)N1)CC2=CC...</td>\n",
       "      <td>{'0_1': 2, '0_2': 1}</td>\n",
       "    </tr>\n",
       "    <tr>\n",
       "      <th>...</th>\n",
       "      <td>...</td>\n",
       "      <td>...</td>\n",
       "      <td>...</td>\n",
       "      <td>...</td>\n",
       "    </tr>\n",
       "    <tr>\n",
       "      <th>510</th>\n",
       "      <td>{'0_1': 4, '0_2': 1, '0_3': 2, '1_0': 1, '1_1'...</td>\n",
       "      <td>1</td>\n",
       "      <td>[COC1=C(C=C(C=C1)C(C2=C(N(C(=S)N(C2=O)C3=CC=CC...</td>\n",
       "      <td>{'0_1': 4, '0_2': 1, '0_3': 2, '1_0': 1, '1_1'...</td>\n",
       "    </tr>\n",
       "    <tr>\n",
       "      <th>511</th>\n",
       "      <td>{'0_1': 1, '1_0': 1, '2_1': 1, '3_0': 3, '4_0'...</td>\n",
       "      <td>1</td>\n",
       "      <td>[COC(=O)C12C3CC4C15C(CCN4)(C6=CC=CC=C6N5)OC2OC...</td>\n",
       "      <td>{'0_1': 1, '1_0': 1, '2_1': 1, '3_0': 3, '4_0'...</td>\n",
       "    </tr>\n",
       "    <tr>\n",
       "      <th>512</th>\n",
       "      <td>{'0_1': 4, '0_2': 2, '0_3': 1}</td>\n",
       "      <td>1</td>\n",
       "      <td>[C[C@H](C1=CC=CC=C1)NC(=O)[C@@H](CC(=O)N2CCC(C...</td>\n",
       "      <td>{'0_1': 4, '0_2': 2, '0_3': 1}</td>\n",
       "    </tr>\n",
       "    <tr>\n",
       "      <th>513</th>\n",
       "      <td>{'0_1': 4, '1_0': 1, '1_2': 1, '2_1': 1}</td>\n",
       "      <td>1</td>\n",
       "      <td>[CC1=C2C(C(=O)C3(C(CC4C(C3C(C(C2(C)C)(CC1OC(=O...</td>\n",
       "      <td>{'0_1': 4, '1_0': 1, '1_2': 1, '2_1': 1}</td>\n",
       "    </tr>\n",
       "    <tr>\n",
       "      <th>514</th>\n",
       "      <td>{'0_2': 1, '1_0': 1, '1_1': 2, '2_0': 2, '3_0'...</td>\n",
       "      <td>1</td>\n",
       "      <td>[CN1CCC2=C3[C@@H]1CC4=C(C(=C(C=C4C3=C(C(=C2OC)...</td>\n",
       "      <td>{'0_2': 1, '1_0': 1, '1_1': 2, '2_0': 2, '3_0'...</td>\n",
       "    </tr>\n",
       "  </tbody>\n",
       "</table>\n",
       "<p>515 rows × 4 columns</p>\n",
       "</div>"
      ],
      "text/plain": [
       "                                         MurckoHistStr  count  \\\n",
       "0                       {'0_1': 1, '1_0': 1, '1_1': 1}   3964   \n",
       "1                                           {'0_1': 2}   3457   \n",
       "2                                           {'0_0': 1}   3054   \n",
       "3                                                   {}   3027   \n",
       "4                                 {'0_1': 2, '0_2': 1}   2308   \n",
       "..                                                 ...    ...   \n",
       "510  {'0_1': 4, '0_2': 1, '0_3': 2, '1_0': 1, '1_1'...      1   \n",
       "511  {'0_1': 1, '1_0': 1, '2_1': 1, '3_0': 3, '4_0'...      1   \n",
       "512                     {'0_1': 4, '0_2': 2, '0_3': 1}      1   \n",
       "513           {'0_1': 4, '1_0': 1, '1_2': 1, '2_1': 1}      1   \n",
       "514  {'0_2': 1, '1_0': 1, '1_1': 2, '2_0': 2, '3_0'...      1   \n",
       "\n",
       "                                           smiles_list  \\\n",
       "0    [C1=CC=C(C=C1)C2=C(C(=O)NC3=CC=CC=C32)O, CN1C(...   \n",
       "1    [CC(=O)N[C@@H](CC1=CC=CC=C1)C2=CC(=CC(=O)O2)OC...   \n",
       "2    [C[C@@H]1C[C@H]2[C@H](O2)/C=C\\C(=O)CC(=O)O1, C...   \n",
       "3    [CCCC[C@@H](C)[C@H]([C@H](C[C@@H](C)C[C@@H](CC...   \n",
       "4    [CC(C)C1C(=O)NC(C(=O)NC(C(=O)NC(C(=O)N1)CC2=CC...   \n",
       "..                                                 ...   \n",
       "510  [COC1=C(C=C(C=C1)C(C2=C(N(C(=S)N(C2=O)C3=CC=CC...   \n",
       "511  [COC(=O)C12C3CC4C15C(CCN4)(C6=CC=CC=C6N5)OC2OC...   \n",
       "512  [C[C@H](C1=CC=CC=C1)NC(=O)[C@@H](CC(=O)N2CCC(C...   \n",
       "513  [CC1=C2C(C(=O)C3(C(CC4C(C3C(C(C2(C)C)(CC1OC(=O...   \n",
       "514  [CN1CCC2=C3[C@@H]1CC4=C(C(=C(C=C4C3=C(C(=C2OC)...   \n",
       "\n",
       "                                            MurckoHist  \n",
       "0                       {'0_1': 1, '1_0': 1, '1_1': 1}  \n",
       "1                                           {'0_1': 2}  \n",
       "2                                           {'0_0': 1}  \n",
       "3                                                   {}  \n",
       "4                                 {'0_1': 2, '0_2': 1}  \n",
       "..                                                 ...  \n",
       "510  {'0_1': 4, '0_2': 1, '0_3': 2, '1_0': 1, '1_1'...  \n",
       "511  {'0_1': 1, '1_0': 1, '2_1': 1, '3_0': 3, '4_0'...  \n",
       "512                     {'0_1': 4, '0_2': 2, '0_3': 1}  \n",
       "513           {'0_1': 4, '1_0': 1, '1_2': 1, '2_1': 1}  \n",
       "514  {'0_2': 1, '1_0': 1, '1_1': 2, '2_0': 2, '3_0'...  \n",
       "\n",
       "[515 rows x 4 columns]"
      ]
     },
     "execution_count": 8,
     "metadata": {},
     "output_type": "execute_result"
    }
   ],
   "source": [
    "# Group by MurckoHistStr and aggregate\n",
    "df_gb = df_us.groupby('MurckoHistStr').agg(\n",
    "    count=(SMILES, 'count'),\n",
    "    smiles_list=(SMILES, list)\n",
    ").reset_index()\n",
    "\n",
    "# Convert MurckoHistStr to MurckoHist\n",
    "df_gb['MurckoHist'] = df_gb['MurckoHistStr'].apply(eval)\n",
    "\n",
    "# Sort by 'n' in descending order and reset index\n",
    "df_gb = df_gb.sort_values('count', ascending=False).reset_index(drop=True)\n",
    "\n",
    "df_gb"
   ]
  },
  {
   "cell_type": "markdown",
   "metadata": {},
   "source": [
    "## 2. Split the dataset into training and validation sets based on Murcko histograms"
   ]
  },
  {
   "cell_type": "code",
   "execution_count": 9,
   "metadata": {},
   "outputs": [
    {
     "name": "stdout",
     "output_type": "stream",
     "text": [
      "Distribution of spectra:\n"
     ]
    },
    {
     "data": {
      "text/plain": [
       "fold\n",
       "train    0.804482\n",
       "val      0.195518\n",
       "Name: proportion, dtype: float64"
      ]
     },
     "metadata": {},
     "output_type": "display_data"
    },
    {
     "name": "stdout",
     "output_type": "stream",
     "text": [
      "Distribution of SMILES:\n"
     ]
    },
    {
     "data": {
      "text/plain": [
       "fold\n",
       "train    0.805487\n",
       "val      0.194513\n",
       "Name: proportion, dtype: float64"
      ]
     },
     "metadata": {},
     "output_type": "display_data"
    }
   ],
   "source": [
    "median_i = len(df_gb) // 2\n",
    "cum_val_mols = 0\n",
    "val_mols_frac = 0.15  # Approximately 15% of the molecules go to validation set\n",
    "val_idx, train_idx = [], []\n",
    "\n",
    "# Iterate from median to start, assigning molecules to train or val sets\n",
    "for i in range(median_i, -1, -1):\n",
    "    current_hist = df_gb.iloc[i]['MurckoHist']\n",
    "    is_val_subhist = any(\n",
    "        are_sub_hists(current_hist, df_gb.iloc[j]['MurckoHist'], k=3, d=4)\n",
    "        for j in val_idx\n",
    "    )\n",
    "\n",
    "    if is_val_subhist:\n",
    "        train_idx.append(i)\n",
    "    else:\n",
    "        if cum_val_mols / len(df_us) <= val_mols_frac:\n",
    "            cum_val_mols += df_gb.iloc[i]['count']\n",
    "            val_idx.append(i)\n",
    "        else:\n",
    "            train_idx.append(i)\n",
    "\n",
    "# Add remaining indices to train set\n",
    "train_idx.extend(range(median_i + 1, len(df_gb)))\n",
    "assert(len(train_idx) + len(val_idx) == len(df_gb))\n",
    "\n",
    "# Map SMILES to their assigned fold\n",
    "smiles_to_fold = {}\n",
    "for i, row in df_gb.iterrows():\n",
    "    fold = 'val' if i in val_idx else 'train'\n",
    "    for smiles in row['smiles_list']:\n",
    "        smiles_to_fold[smiles] = fold\n",
    "df[FOLD] = df[SMILES].map(smiles_to_fold)\n",
    "\n",
    "# Display fold distributions\n",
    "print('Distribution of spectra:')\n",
    "display(df[FOLD].value_counts(normalize=True))\n",
    "print('Distribution of SMILES:')\n",
    "display(df.drop_duplicates(subset=[SMILES])[FOLD].value_counts(normalize=True))"
   ]
  },
  {
   "cell_type": "markdown",
   "metadata": {},
   "source": [
    "## 3. Evaluate data leakage"
   ]
  },
  {
   "cell_type": "code",
   "execution_count": 10,
   "metadata": {},
   "outputs": [
    {
     "name": "stderr",
     "output_type": "stream",
     "text": [
      "100%|██████████| 25455/25455 [00:03<00:00, 6929.22it/s]\n",
      "100%|██████████| 6147/6147 [00:00<00:00, 7772.50it/s]\n"
     ]
    },
    {
     "name": "stdout",
     "output_type": "stream",
     "text": [
      "INFO: Pandarallel will run on 4 workers.\n",
      "INFO: Pandarallel will use standard multiprocessing data transfer (pipe) to transfer data between the main process and workers.\n"
     ]
    },
    {
     "data": {
      "application/vnd.jupyter.widget-view+json": {
       "model_id": "2e2dc804d78543d092b067d3866d5713",
       "version_major": 2,
       "version_minor": 0
      },
      "text/plain": [
       "VBox(children=(HBox(children=(IntProgress(value=0, description='0.00%', max=1537), Label(value='0 / 1537'))), …"
      ]
     },
     "metadata": {},
     "output_type": "display_data"
    },
    {
     "data": {
      "image/png": "[encoded data removed]",
      "text/plain": [
       "<Figure size 300x300 with 1 Axes>"
      ]
     },
     "metadata": {},
     "output_type": "display_data"
    }
   ],
   "source": [
    "eval_res = evaluate_split(df, n_workers=4)\n",
    "init_plotting(figsize=(3, 3))\n",
    "sns.histplot(eval_res['val'], bins=100)\n",
    "plt.xlabel('Max Tanimoto similarity to training set')\n",
    "plt.ylabel('Num. validation set molecules')\n",
    "plt.show()"
   ]
  },
  {
   "cell_type": "markdown",
   "metadata": {},
   "source": [
    "## 4. Store the dataset with a new `fold` column"
   ]
  },
  {
   "cell_type": "code",
   "execution_count": 22,
   "metadata": {},
   "outputs": [
    {
     "name": "stderr",
     "output_type": "stream",
     "text": [
      "Converting to matchms before saving to mgf: 100%|██████████| 231104/231104 [00:24<00:00, 9487.65it/s] \n"
     ]
    }
   ],
   "source": [
    "msdata.remove_column('FOLD')  # Remove original MassSpecGym FOLD column\n",
    "msdata.add_column(name=FOLD, data=df[FOLD].tolist())\n",
    "msdata.to_mgf('../data/MassSpecGym_MurckoHist_split.mgf')"
   ]
  }
 ],
 "metadata": {
  "kernelspec": {
   "display_name": "py312",
   "language": "python",
   "name": "python3"
  },
  "language_info": {
   "codemirror_mode": {
    "name": "ipython",
    "version": 3
   },
   "file_extension": ".py",
   "mimetype": "text/x-python",
   "name": "python",
   "nbconvert_exporter": "python",
   "pygments_lexer": "ipython3",
   "version": "3.12.9"
  }
 },
 "nbformat": 4,
 "nbformat_minor": 2
}
