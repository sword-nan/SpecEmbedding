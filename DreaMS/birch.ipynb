{
 "cells": [
  {
   "cell_type": "code",
   "execution_count": null,
   "id": "499f94fd",
   "metadata": {},
   "outputs": [],
   "source": [
    "import sys\n",
    "sys.path.append(\"../\")\n",
    "\n",
    "import numpy as np\n",
    "from sklearn.cluster import Birch\n",
    "from sklearn import metrics\n",
    "from sklearn.metrics import accuracy_score\n",
    "\n",
    "from const import tsne_cluster\n",
    "from utils import embedding"
   ]
  },
  {
   "cell_type": "code",
   "execution_count": 7,
   "id": "8ff234ee",
   "metadata": {},
   "outputs": [],
   "source": [
    "def get_label(spectra):\n",
    "    smiles_seq = np.array([s.get(\"smiles\") for s in spectra])\n",
    "    unique_smiles = np.unique(smiles_seq)\n",
    "    labels = np.zeros((len(spectra, )))\n",
    "    for i, smiles in enumerate(unique_smiles):\n",
    "        labels[smiles_seq == smiles] = i\n",
    "    return labels, unique_smiles"
   ]
  },
  {
   "cell_type": "code",
   "execution_count": 8,
   "id": "902bf09c",
   "metadata": {},
   "outputs": [],
   "source": [
    "def purity_score(y_true, y_pred):\n",
    "    y_voted_labels = np.zeros(y_true.shape)\n",
    "    labels = np.unique(y_true)\n",
    "    ordered_labels = np.arange(labels.shape[0])\n",
    "    for k in range(labels.shape[0]):\n",
    "        y_true[y_true == labels[k]] = ordered_labels[k]\n",
    "    # Update unique labels\n",
    "    labels = np.unique(y_true)\n",
    "    bins = np.concatenate((labels, [np.max(labels) + 1]), axis=0)\n",
    "\n",
    "    for cluster in np.unique(y_pred):\n",
    "        hist, _ = np.histogram(y_true[y_pred == cluster], bins=bins)\n",
    "        # Find the most present label in the cluster\n",
    "        winner = np.argmax(hist)\n",
    "        y_voted_labels[y_pred == cluster] = winner\n",
    "\n",
    "    return accuracy_score(y_true, y_voted_labels)"
   ]
  },
  {
   "cell_type": "code",
   "execution_count": 9,
   "id": "d7603645",
   "metadata": {},
   "outputs": [],
   "source": [
    "def CalEvaluate(labels_true, labels_pred):\n",
    "    purity = purity_score(labels_true, labels_pred)\n",
    "    ari = metrics.adjusted_rand_score(labels_true, labels_pred)\n",
    "    homogeneity = metrics.homogeneity_score(labels_true, labels_pred)\n",
    "    completeness = metrics.completeness_score(labels_true, labels_pred)\n",
    "    v_measure = metrics.v_measure_score(labels_true, labels_pred, beta=0.5)\n",
    "    result = {\n",
    "        'ARI': ari,\n",
    "        \"purity\": purity,\n",
    "        'homogeneity': homogeneity,\n",
    "        'completeness': completeness,\n",
    "        'v_measure': v_measure\n",
    "    }\n",
    "    return result"
   ]
  },
  {
   "cell_type": "code",
   "execution_count": null,
   "id": "88755852",
   "metadata": {},
   "outputs": [
    {
     "name": "stderr",
     "output_type": "stream",
     "text": [
      "Computing DreaMS embedding: 100%|██████████| 34122/34122 [00:35<00:00, 965.25it/s]\n"
     ]
    },
    {
     "data": {
      "text/plain": [
       "{'ARI': 0.1647235609708263,\n",
       " 'purity': 0.6468554012074321,\n",
       " 'homogeneity': 0.8505239088108061,\n",
       " 'completeness': 0.7405298018757613,\n",
       " 'v_measure': 0.8103998397939786}"
      ]
     },
     "execution_count": 10,
     "metadata": {},
     "output_type": "execute_result"
    }
   ],
   "source": [
    "spectra, spectra_embedding = embedding(str(tsne_cluster.SPECEMBEDDING_CLUSTER_RAW))\n",
    "labels, unique_smiles = get_label(spectra)\n",
    "\n",
    "brc = Birch(threshold=0.5, n_clusters=len(unique_smiles))\n",
    "pred_labels = brc.fit_predict(spectra_embedding)\n",
    "CalEvaluate(labels, pred_labels)"
   ]
  },
  {
   "cell_type": "code",
   "execution_count": null,
   "id": "2e36ed99",
   "metadata": {},
   "outputs": [
    {
     "name": "stderr",
     "output_type": "stream",
     "text": [
      "Computing DreaMS embedding: 100%|██████████| 13217/13217 [00:13<00:00, 963.52it/s]\n"
     ]
    },
    {
     "data": {
      "text/plain": [
       "{'ARI': 0.17364648145255715,\n",
       " 'purity': 0.7026556707270939,\n",
       " 'homogeneity': 0.8576354697514671,\n",
       " 'completeness': 0.7220907042226495,\n",
       " 'v_measure': 0.8071327561091342}"
      ]
     },
     "execution_count": 12,
     "metadata": {},
     "output_type": "execute_result"
    }
   ],
   "source": [
    "spectra, spectra_embedding = embedding(str(tsne_cluster.MSBERT_CLUSTER_RAW))\n",
    "labels, unique_smiles = get_label(spectra)\n",
    "\n",
    "brc = Birch(threshold=0.5, n_clusters=len(unique_smiles))\n",
    "pred_labels = brc.fit_predict(spectra_embedding)\n",
    "CalEvaluate(labels, pred_labels)"
   ]
  }
 ],
 "metadata": {
  "kernelspec": {
   "display_name": "py312",
   "language": "python",
   "name": "python3"
  },
  "language_info": {
   "codemirror_mode": {
    "name": "ipython",
    "version": 3
   },
   "file_extension": ".py",
   "mimetype": "text/x-python",
   "name": "python",
   "nbconvert_exporter": "python",
   "pygments_lexer": "ipython3",
   "version": "3.12.9"
  }
 },
 "nbformat": 4,
 "nbformat_minor": 5
}
